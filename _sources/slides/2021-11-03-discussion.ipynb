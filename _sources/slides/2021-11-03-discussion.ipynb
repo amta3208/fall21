{
 "cells": [
  {
   "cell_type": "markdown",
   "id": "3dba1684",
   "metadata": {
    "slideshow": {
     "slide_type": "slide"
    }
   },
   "source": [
    "# 2021-11-03 Software discussion\n",
    "\n",
    "## Last time\n",
    "\n",
    "* Running multigrid with PETSc\n",
    "* Projects\n",
    "* GitHub codesearch, JOSS search\n",
    "* Decide what's next: **Finite Element** or Finite Volume\n",
    "\n",
    "## Today\n",
    "\n",
    "* Project discussion\n",
    "* Weak forms"
   ]
  },
  {
   "cell_type": "markdown",
   "id": "9e6345d2",
   "metadata": {
    "slideshow": {
     "slide_type": "slide"
    }
   },
   "source": [
    "# Integration by parts"
   ]
  },
  {
   "cell_type": "markdown",
   "id": "bbe5e537",
   "metadata": {
    "cell_style": "split"
   },
   "source": [
    "## One dimension\n",
    "\n",
    "> it's the product rule backwards\n",
    "\n",
    "\\begin{align} \\int_a^b d(uv) &= \\int_a^b u dv + \\int_a^b v du \\\\\n",
    "(uv)_a^b &= \\int_a^b u dv + \\int_a^b v du \\\\\n",
    "\\int_a^b u dv &= (uv)_a^b - \\int_a^b v du\n",
    "\\end{align}\n",
    "\n",
    "> you can move the derivative to the other term; it'll cost you a minus sign and a boundary term"
   ]
  },
  {
   "cell_type": "markdown",
   "id": "d7914db8",
   "metadata": {
    "cell_style": "split"
   },
   "source": [
    "## Multiple dimensions\n",
    "\n",
    "\\begin{align}\n",
    "\\int_\\Omega v \\nabla\\cdot \\mathbf f = -\\int_\\Omega \\nabla v \\cdot \\mathbf f + \\int_{\\partial \\Omega} v \\mathbf f \\cdot \\mathbf n\n",
    "\\end{align}\n",
    "\n",
    "## Strong form\n",
    "\n",
    "$$ -\\nabla\\cdot(\\kappa \\nabla u) = 0 $$\n",
    "\n",
    "## Weak form\n",
    "* multiply by a test function and integrate by parts\n",
    "\n",
    "\\begin{align} -\\int_\\Omega v \\nabla\\cdot(\\kappa \\nabla u) = 0, \\forall v \\\\\n",
    "\\int_\\Omega \\nabla v \\cdot \\kappa \\nabla u - \\int_{\\partial\\Omega} v \\underbrace{\\kappa \\nabla u \\cdot \\mathbf n}_{\\text{boundary condition}} = 0\n",
    "\\end{align}"
   ]
  }
 ],
 "metadata": {
  "celltoolbar": "Slideshow",
  "kernelspec": {
   "display_name": "Julia 1.6.2",
   "language": "julia",
   "name": "julia-1.6"
  },
  "language_info": {
   "file_extension": ".jl",
   "mimetype": "application/julia",
   "name": "julia",
   "version": "1.6.3"
  },
  "rise": {
   "enable_chalkboard": true
  }
 },
 "nbformat": 4,
 "nbformat_minor": 5
}
