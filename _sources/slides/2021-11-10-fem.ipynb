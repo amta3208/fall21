{
 "cells": [
  {
   "cell_type": "markdown",
   "id": "3dba1684",
   "metadata": {
    "cell_style": "center",
    "slideshow": {
     "slide_type": "slide"
    }
   },
   "source": [
    "# 2021-11-10 Finite elements\n",
    "\n",
    "## Last time\n",
    "\n",
    "* Stable numerics\n",
    "* Galerkin optimality\n",
    "* Boundary conditions\n",
    "* Properties of Galerkin methods\n",
    "\n",
    "## Today\n",
    "\n",
    "* Element restriction\n",
    "* Finite element assembly\n",
    "* Nonlinear problems\n",
    "* LibCEED"
   ]
  },
  {
   "cell_type": "code",
   "execution_count": 55,
   "id": "a4a0cd41",
   "metadata": {
    "slideshow": {
     "slide_type": "skip"
    }
   },
   "outputs": [
    {
     "data": {
      "text/plain": [
       "febasis (generic function with 1 method)"
      ]
     },
     "execution_count": 55,
     "metadata": {},
     "output_type": "execute_result"
    }
   ],
   "source": [
    "using Plots\n",
    "using LinearAlgebra\n",
    "using SparseArrays\n",
    "using FastGaussQuadrature\n",
    "\n",
    "default(linewidth=4)\n",
    "\n",
    "function my_spy(A)\n",
    "    cmax = norm(vec(A), Inf)\n",
    "    s = max(1, ceil(120 / size(A, 1)))\n",
    "    spy(A, marker=(:square, s), c=:diverging_rainbow_bgymr_45_85_c67_n256, clims=(-cmax, cmax))\n",
    "end\n",
    "\n",
    "function vander_legendre_deriv(x, k=nothing)\n",
    "    if isnothing(k)\n",
    "        k = length(x) # Square by default\n",
    "    end\n",
    "    m = length(x)\n",
    "    Q = ones(m, k)\n",
    "    dQ = zeros(m, k)\n",
    "    Q[:, 2] = x\n",
    "    dQ[:, 2] .= 1\n",
    "    for n in 1:k-2\n",
    "        Q[:, n+2] = ((2*n + 1) * x .* Q[:, n+1] - n * Q[:, n]) / (n + 1)\n",
    "        dQ[:, n+2] = (2*n + 1) * Q[:,n+1] + dQ[:,n]\n",
    "    end\n",
    "    Q, dQ\n",
    "end\n",
    "\n",
    "function febasis(P, Q)\n",
    "    x, _ = gausslobatto(P)\n",
    "    q, w = gausslegendre(Q)\n",
    "    Pk, _ = vander_legendre_deriv(x)\n",
    "    Bp, Dp = vander_legendre_deriv(q, P)\n",
    "    B = Bp / Pk\n",
    "    D = Dp / Pk\n",
    "    x, q, w, B, D\n",
    "end"
   ]
  },
  {
   "cell_type": "markdown",
   "id": "4e012df5",
   "metadata": {
    "slideshow": {
     "slide_type": "slide"
    }
   },
   "source": [
    "![](../img/libCEED-2-trim.svg)"
   ]
  },
  {
   "cell_type": "markdown",
   "id": "8061be0c",
   "metadata": {
    "cell_style": "center",
    "slideshow": {
     "slide_type": "slide"
    }
   },
   "source": [
    "# General form\n",
    "$$ \\int_\\Omega v\\cdot f_0(u, \\nabla u) + \\nabla v\\cdot f_1(u, \\nabla u) = 0, \\quad \\forall v$$\n",
    "we discretize as\n",
    "$$ \\sum_e \\mathcal E_e^T \\Big( B^T W \\left\\lvert \\frac{\\partial x}{\\partial X} \\right\\rvert f_0(\\tilde u, \\nabla \\tilde u) + D^T \\left(\\frac{\\partial X}{\\partial x}\\right)^{T} W \\left\\lvert \\frac{\\partial x}{\\partial X} \\right\\rvert f_1(\\tilde u, \\nabla\\tilde u) \\Big) = 0 $$\n",
    "where $\\tilde u = B \\mathcal E_e u$ and $\\nabla \\tilde u = \\frac{\\partial X}{\\partial x} D \\mathcal E_e u$ are the values and gradients evaluated at quadrature points."
   ]
  },
  {
   "cell_type": "markdown",
   "id": "a04a2180",
   "metadata": {
    "cell_style": "split"
   },
   "source": [
    "## Isoparametric mapping\n",
    "\n",
    "Given the reference coordinates $X \\in \\hat K \\subset R^n$ and physical coordinates $x(X)$, an integral on the physical element can be written\n",
    "$$ \\int_{K = x(\\hat K)} f(x) dx = \\int_K \\underbrace{\\left\\lvert \\frac{\\partial x}{\\partial X} \\right\\rvert}_{\\text{determinant}} f(x(X)) dX .$$"
   ]
  },
  {
   "cell_type": "markdown",
   "id": "f81921c7",
   "metadata": {
    "slideshow": {
     "slide_type": "skip"
    }
   },
   "source": [
    "| Notation | Meaning |\n",
    "|---------|:-------------:|\n",
    "| $x$ | physical coordinates |\n",
    "| $X$ | reference coordinates |\n",
    "| $\\mathcal E_e$ | restriction from global vector to element $e$ |\n",
    "| $B$ | values of nodal basis functions at quadrature ponits on reference element |\n",
    "| $D$ | gradients of nodal basis functions at quadrature points on reference element|\n",
    "| $W$ | diagonal matrix of quadrature weights on reference element |\n",
    "| $\\frac{\\partial x}{\\partial X} = D \\mathcal E_e x $ | gradient of physical coordinates with respect to reference coordinates |\n",
    "| $\\left\\lvert \\frac{\\partial x}{\\partial X}\\right\\rvert$ | determinant of coordinate transformation at each quadrature point |\n",
    "| $\\frac{\\partial X}{\\partial x} = \\left(\\frac{\\partial x}{\\partial X}\\right)^{-1}$ | derivative of reference coordinates with respect to physical coordinates |"
   ]
  },
  {
   "cell_type": "markdown",
   "id": "a140a545",
   "metadata": {
    "slideshow": {
     "slide_type": "slide"
    }
   },
   "source": [
    "# Finite element mesh and restriction"
   ]
  },
  {
   "cell_type": "code",
   "execution_count": 56,
   "id": "109306ab",
   "metadata": {
    "cell_style": "split"
   },
   "outputs": [
    {
     "data": {
      "text/plain": [
       "12×10 SparseMatrixCSC{Float64, Int64} with 12 stored entries:\n",
       " 1.0   ⋅    ⋅    ⋅    ⋅    ⋅    ⋅    ⋅    ⋅    ⋅ \n",
       "  ⋅   1.0   ⋅    ⋅    ⋅    ⋅    ⋅    ⋅    ⋅    ⋅ \n",
       "  ⋅    ⋅   1.0   ⋅    ⋅    ⋅    ⋅    ⋅    ⋅    ⋅ \n",
       "  ⋅    ⋅    ⋅   1.0   ⋅    ⋅    ⋅    ⋅    ⋅    ⋅ \n",
       "  ⋅    ⋅    ⋅   1.0   ⋅    ⋅    ⋅    ⋅    ⋅    ⋅ \n",
       "  ⋅    ⋅    ⋅    ⋅   1.0   ⋅    ⋅    ⋅    ⋅    ⋅ \n",
       "  ⋅    ⋅    ⋅    ⋅    ⋅   1.0   ⋅    ⋅    ⋅    ⋅ \n",
       "  ⋅    ⋅    ⋅    ⋅    ⋅    ⋅   1.0   ⋅    ⋅    ⋅ \n",
       "  ⋅    ⋅    ⋅    ⋅    ⋅    ⋅   1.0   ⋅    ⋅    ⋅ \n",
       "  ⋅    ⋅    ⋅    ⋅    ⋅    ⋅    ⋅   1.0   ⋅    ⋅ \n",
       "  ⋅    ⋅    ⋅    ⋅    ⋅    ⋅    ⋅    ⋅   1.0   ⋅ \n",
       "  ⋅    ⋅    ⋅    ⋅    ⋅    ⋅    ⋅    ⋅    ⋅   1.0"
      ]
     },
     "execution_count": 56,
     "metadata": {},
     "output_type": "execute_result"
    }
   ],
   "source": [
    "function fe1_mesh(P, nelem)\n",
    "    x = LinRange(-1, 1, nelem+1)\n",
    "    rows = Int[]\n",
    "    cols = Int[]\n",
    "    for i in 1:nelem\n",
    "        append!(rows, (i-1)*P+1:i*P)\n",
    "        append!(cols, (i-1)*(P-1)+1:i*(P-1)+1)\n",
    "    end\n",
    "    x, sparse(cols, rows, ones(nelem*P))'\n",
    "end\n",
    "P, nelem = 4, 3\n",
    "x, E = fe1_mesh(P, nelem)\n",
    "sparse(E)"
   ]
  },
  {
   "cell_type": "code",
   "execution_count": 57,
   "id": "9c5ffff5",
   "metadata": {
    "cell_style": "split"
   },
   "outputs": [
    {
     "data": {
      "image/svg+xml": [
       "<?xml version=\"1.0\" encoding=\"utf-8\"?>\n",
       "<svg xmlns=\"http://www.w3.org/2000/svg\" xmlns:xlink=\"http://www.w3.org/1999/xlink\" width=\"600\" height=\"400\" viewBox=\"0 0 2400 1600\">\n",
       "<defs>\n",
       "  <clipPath id=\"clip740\">\n",
       "    <rect x=\"0\" y=\"0\" width=\"2400\" height=\"1600\"/>\n",
       "  </clipPath>\n",
       "</defs>\n",
       "<path clip-path=\"url(#clip740)\" d=\"\n",
       "M0 1600 L2400 1600 L2400 0 L0 0  Z\n",
       "  \" fill=\"#ffffff\" fill-rule=\"evenodd\" fill-opacity=\"1\"/>\n",
       "<defs>\n",
       "  <clipPath id=\"clip741\">\n",
       "    <rect x=\"480\" y=\"0\" width=\"1681\" height=\"1600\"/>\n",
       "  </clipPath>\n",
       "</defs>\n",
       "<path clip-path=\"url(#clip740)\" d=\"\n",
       "M186.274 1486.45 L2352.76 1486.45 L2352.76 47.2441 L186.274 47.2441  Z\n",
       "  \" fill=\"#ffffff\" fill-rule=\"evenodd\" fill-opacity=\"1\"/>\n",
       "<defs>\n",
       "  <clipPath id=\"clip742\">\n",
       "    <rect x=\"186\" y=\"47\" width=\"2167\" height=\"1440\"/>\n",
       "  </clipPath>\n",
       "</defs>\n",
       "<polyline clip-path=\"url(#clip742)\" style=\"stroke:#000000; stroke-linecap:butt; stroke-linejoin:round; stroke-width:2; stroke-opacity:0.1; fill:none\" points=\"\n",
       "  247.59,1486.45 247.59,47.2441 \n",
       "  \"/>\n",
       "<polyline clip-path=\"url(#clip742)\" style=\"stroke:#000000; stroke-linecap:butt; stroke-linejoin:round; stroke-width:2; stroke-opacity:0.1; fill:none\" points=\"\n",
       "  758.552,1486.45 758.552,47.2441 \n",
       "  \"/>\n",
       "<polyline clip-path=\"url(#clip742)\" style=\"stroke:#000000; stroke-linecap:butt; stroke-linejoin:round; stroke-width:2; stroke-opacity:0.1; fill:none\" points=\"\n",
       "  1269.51,1486.45 1269.51,47.2441 \n",
       "  \"/>\n",
       "<polyline clip-path=\"url(#clip742)\" style=\"stroke:#000000; stroke-linecap:butt; stroke-linejoin:round; stroke-width:2; stroke-opacity:0.1; fill:none\" points=\"\n",
       "  1780.48,1486.45 1780.48,47.2441 \n",
       "  \"/>\n",
       "<polyline clip-path=\"url(#clip742)\" style=\"stroke:#000000; stroke-linecap:butt; stroke-linejoin:round; stroke-width:2; stroke-opacity:0.1; fill:none\" points=\"\n",
       "  2291.44,1486.45 2291.44,47.2441 \n",
       "  \"/>\n",
       "<polyline clip-path=\"url(#clip740)\" style=\"stroke:#000000; stroke-linecap:butt; stroke-linejoin:round; stroke-width:4; stroke-opacity:1; fill:none\" points=\"\n",
       "  186.274,1486.45 2352.76,1486.45 \n",
       "  \"/>\n",
       "<polyline clip-path=\"url(#clip740)\" style=\"stroke:#000000; stroke-linecap:butt; stroke-linejoin:round; stroke-width:4; stroke-opacity:1; fill:none\" points=\"\n",
       "  247.59,1486.45 247.59,1467.55 \n",
       "  \"/>\n",
       "<polyline clip-path=\"url(#clip740)\" style=\"stroke:#000000; stroke-linecap:butt; stroke-linejoin:round; stroke-width:4; stroke-opacity:1; fill:none\" points=\"\n",
       "  758.552,1486.45 758.552,1467.55 \n",
       "  \"/>\n",
       "<polyline clip-path=\"url(#clip740)\" style=\"stroke:#000000; stroke-linecap:butt; stroke-linejoin:round; stroke-width:4; stroke-opacity:1; fill:none\" points=\"\n",
       "  1269.51,1486.45 1269.51,1467.55 \n",
       "  \"/>\n",
       "<polyline clip-path=\"url(#clip740)\" style=\"stroke:#000000; stroke-linecap:butt; stroke-linejoin:round; stroke-width:4; stroke-opacity:1; fill:none\" points=\"\n",
       "  1780.48,1486.45 1780.48,1467.55 \n",
       "  \"/>\n",
       "<polyline clip-path=\"url(#clip740)\" style=\"stroke:#000000; stroke-linecap:butt; stroke-linejoin:round; stroke-width:4; stroke-opacity:1; fill:none\" points=\"\n",
       "  2291.44,1486.45 2291.44,1467.55 \n",
       "  \"/>\n",
       "<path clip-path=\"url(#clip740)\" d=\"M194.118 1532.02 L223.793 1532.02 L223.793 1535.95 L194.118 1535.95 L194.118 1532.02 Z\" fill=\"#000000\" fill-rule=\"evenodd\" fill-opacity=\"1\" /><path clip-path=\"url(#clip740)\" d=\"M234.696 1544.91 L242.335 1544.91 L242.335 1518.55 L234.025 1520.21 L234.025 1515.95 L242.289 1514.29 L246.965 1514.29 L246.965 1544.91 L254.603 1544.91 L254.603 1548.85 L234.696 1548.85 L234.696 1544.91 Z\" fill=\"#000000\" fill-rule=\"evenodd\" fill-opacity=\"1\" /><path clip-path=\"url(#clip740)\" d=\"M264.048 1542.97 L268.932 1542.97 L268.932 1548.85 L264.048 1548.85 L264.048 1542.97 Z\" fill=\"#000000\" fill-rule=\"evenodd\" fill-opacity=\"1\" /><path clip-path=\"url(#clip740)\" d=\"M289.117 1517.37 Q285.506 1517.37 283.677 1520.93 Q281.872 1524.47 281.872 1531.6 Q281.872 1538.71 283.677 1542.27 Q285.506 1545.82 289.117 1545.82 Q292.751 1545.82 294.557 1542.27 Q296.386 1538.71 296.386 1531.6 Q296.386 1524.47 294.557 1520.93 Q292.751 1517.37 289.117 1517.37 M289.117 1513.66 Q294.927 1513.66 297.983 1518.27 Q301.061 1522.85 301.061 1531.6 Q301.061 1540.33 297.983 1544.94 Q294.927 1549.52 289.117 1549.52 Q283.307 1549.52 280.228 1544.94 Q277.173 1540.33 277.173 1531.6 Q277.173 1522.85 280.228 1518.27 Q283.307 1513.66 289.117 1513.66 Z\" fill=\"#000000\" fill-rule=\"evenodd\" fill-opacity=\"1\" /><path clip-path=\"url(#clip740)\" d=\"M705.578 1532.02 L735.254 1532.02 L735.254 1535.95 L705.578 1535.95 L705.578 1532.02 Z\" fill=\"#000000\" fill-rule=\"evenodd\" fill-opacity=\"1\" /><path clip-path=\"url(#clip740)\" d=\"M755.346 1517.37 Q751.735 1517.37 749.906 1520.93 Q748.101 1524.47 748.101 1531.6 Q748.101 1538.71 749.906 1542.27 Q751.735 1545.82 755.346 1545.82 Q758.98 1545.82 760.786 1542.27 Q762.615 1538.71 762.615 1531.6 Q762.615 1524.47 760.786 1520.93 Q758.98 1517.37 755.346 1517.37 M755.346 1513.66 Q761.156 1513.66 764.212 1518.27 Q767.291 1522.85 767.291 1531.6 Q767.291 1540.33 764.212 1544.94 Q761.156 1549.52 755.346 1549.52 Q749.536 1549.52 746.457 1544.94 Q743.402 1540.33 743.402 1531.6 Q743.402 1522.85 746.457 1518.27 Q749.536 1513.66 755.346 1513.66 Z\" fill=\"#000000\" fill-rule=\"evenodd\" fill-opacity=\"1\" /><path clip-path=\"url(#clip740)\" d=\"M775.508 1542.97 L780.392 1542.97 L780.392 1548.85 L775.508 1548.85 L775.508 1542.97 Z\" fill=\"#000000\" fill-rule=\"evenodd\" fill-opacity=\"1\" /><path clip-path=\"url(#clip740)\" d=\"M790.624 1514.29 L808.98 1514.29 L808.98 1518.22 L794.906 1518.22 L794.906 1526.7 Q795.925 1526.35 796.943 1526.19 Q797.962 1526 798.98 1526 Q804.767 1526 808.147 1529.17 Q811.526 1532.34 811.526 1537.76 Q811.526 1543.34 808.054 1546.44 Q804.582 1549.52 798.263 1549.52 Q796.087 1549.52 793.818 1549.15 Q791.573 1548.78 789.166 1548.04 L789.166 1543.34 Q791.249 1544.47 793.471 1545.03 Q795.693 1545.58 798.17 1545.58 Q802.175 1545.58 804.513 1543.48 Q806.851 1541.37 806.851 1537.76 Q806.851 1534.15 804.513 1532.04 Q802.175 1529.94 798.17 1529.94 Q796.295 1529.94 794.42 1530.35 Q792.568 1530.77 790.624 1531.65 L790.624 1514.29 Z\" fill=\"#000000\" fill-rule=\"evenodd\" fill-opacity=\"1\" /><path clip-path=\"url(#clip740)\" d=\"M1246.9 1517.37 Q1243.29 1517.37 1241.46 1520.93 Q1239.65 1524.47 1239.65 1531.6 Q1239.65 1538.71 1241.46 1542.27 Q1243.29 1545.82 1246.9 1545.82 Q1250.53 1545.82 1252.34 1542.27 Q1254.17 1538.71 1254.17 1531.6 Q1254.17 1524.47 1252.34 1520.93 Q1250.53 1517.37 1246.9 1517.37 M1246.9 1513.66 Q1252.71 1513.66 1255.77 1518.27 Q1258.84 1522.85 1258.84 1531.6 Q1258.84 1540.33 1255.77 1544.94 Q1252.71 1549.52 1246.9 1549.52 Q1241.09 1549.52 1238.01 1544.94 Q1234.95 1540.33 1234.95 1531.6 Q1234.95 1522.85 1238.01 1518.27 Q1241.09 1513.66 1246.9 1513.66 Z\" fill=\"#000000\" fill-rule=\"evenodd\" fill-opacity=\"1\" /><path clip-path=\"url(#clip740)\" d=\"M1267.06 1542.97 L1271.95 1542.97 L1271.95 1548.85 L1267.06 1548.85 L1267.06 1542.97 Z\" fill=\"#000000\" fill-rule=\"evenodd\" fill-opacity=\"1\" /><path clip-path=\"url(#clip740)\" d=\"M1292.13 1517.37 Q1288.52 1517.37 1286.69 1520.93 Q1284.89 1524.47 1284.89 1531.6 Q1284.89 1538.71 1286.69 1542.27 Q1288.52 1545.82 1292.13 1545.82 Q1295.76 1545.82 1297.57 1542.27 Q1299.4 1538.71 1299.4 1531.6 Q1299.4 1524.47 1297.57 1520.93 Q1295.76 1517.37 1292.13 1517.37 M1292.13 1513.66 Q1297.94 1513.66 1301 1518.27 Q1304.07 1522.85 1304.07 1531.6 Q1304.07 1540.33 1301 1544.94 Q1297.94 1549.52 1292.13 1549.52 Q1286.32 1549.52 1283.24 1544.94 Q1280.19 1540.33 1280.19 1531.6 Q1280.19 1522.85 1283.24 1518.27 Q1286.32 1513.66 1292.13 1513.66 Z\" fill=\"#000000\" fill-rule=\"evenodd\" fill-opacity=\"1\" /><path clip-path=\"url(#clip740)\" d=\"M1758.36 1517.37 Q1754.75 1517.37 1752.92 1520.93 Q1751.11 1524.47 1751.11 1531.6 Q1751.11 1538.71 1752.92 1542.27 Q1754.75 1545.82 1758.36 1545.82 Q1761.99 1545.82 1763.8 1542.27 Q1765.63 1538.71 1765.63 1531.6 Q1765.63 1524.47 1763.8 1520.93 Q1761.99 1517.37 1758.36 1517.37 M1758.36 1513.66 Q1764.17 1513.66 1767.23 1518.27 Q1770.3 1522.85 1770.3 1531.6 Q1770.3 1540.33 1767.23 1544.94 Q1764.17 1549.52 1758.36 1549.52 Q1752.55 1549.52 1749.47 1544.94 Q1746.42 1540.33 1746.42 1531.6 Q1746.42 1522.85 1749.47 1518.27 Q1752.55 1513.66 1758.36 1513.66 Z\" fill=\"#000000\" fill-rule=\"evenodd\" fill-opacity=\"1\" /><path clip-path=\"url(#clip740)\" d=\"M1778.52 1542.97 L1783.41 1542.97 L1783.41 1548.85 L1778.52 1548.85 L1778.52 1542.97 Z\" fill=\"#000000\" fill-rule=\"evenodd\" fill-opacity=\"1\" /><path clip-path=\"url(#clip740)\" d=\"M1793.64 1514.29 L1811.99 1514.29 L1811.99 1518.22 L1797.92 1518.22 L1797.92 1526.7 Q1798.94 1526.35 1799.96 1526.19 Q1800.98 1526 1801.99 1526 Q1807.78 1526 1811.16 1529.17 Q1814.54 1532.34 1814.54 1537.76 Q1814.54 1543.34 1811.07 1546.44 Q1807.6 1549.52 1801.28 1549.52 Q1799.1 1549.52 1796.83 1549.15 Q1794.59 1548.78 1792.18 1548.04 L1792.18 1543.34 Q1794.26 1544.47 1796.48 1545.03 Q1798.71 1545.58 1801.18 1545.58 Q1805.19 1545.58 1807.53 1543.48 Q1809.86 1541.37 1809.86 1537.76 Q1809.86 1534.15 1807.53 1532.04 Q1805.19 1529.94 1801.18 1529.94 Q1799.31 1529.94 1797.43 1530.35 Q1795.58 1530.77 1793.64 1531.65 L1793.64 1514.29 Z\" fill=\"#000000\" fill-rule=\"evenodd\" fill-opacity=\"1\" /><path clip-path=\"url(#clip740)\" d=\"M2258.59 1544.91 L2266.23 1544.91 L2266.23 1518.55 L2257.92 1520.21 L2257.92 1515.95 L2266.19 1514.29 L2270.86 1514.29 L2270.86 1544.91 L2278.5 1544.91 L2278.5 1548.85 L2258.59 1548.85 L2258.59 1544.91 Z\" fill=\"#000000\" fill-rule=\"evenodd\" fill-opacity=\"1\" /><path clip-path=\"url(#clip740)\" d=\"M2287.95 1542.97 L2292.83 1542.97 L2292.83 1548.85 L2287.95 1548.85 L2287.95 1542.97 Z\" fill=\"#000000\" fill-rule=\"evenodd\" fill-opacity=\"1\" /><path clip-path=\"url(#clip740)\" d=\"M2313.01 1517.37 Q2309.4 1517.37 2307.57 1520.93 Q2305.77 1524.47 2305.77 1531.6 Q2305.77 1538.71 2307.57 1542.27 Q2309.4 1545.82 2313.01 1545.82 Q2316.65 1545.82 2318.45 1542.27 Q2320.28 1538.71 2320.28 1531.6 Q2320.28 1524.47 2318.45 1520.93 Q2316.65 1517.37 2313.01 1517.37 M2313.01 1513.66 Q2318.82 1513.66 2321.88 1518.27 Q2324.96 1522.85 2324.96 1531.6 Q2324.96 1540.33 2321.88 1544.94 Q2318.82 1549.52 2313.01 1549.52 Q2307.2 1549.52 2304.13 1544.94 Q2301.07 1540.33 2301.07 1531.6 Q2301.07 1522.85 2304.13 1518.27 Q2307.2 1513.66 2313.01 1513.66 Z\" fill=\"#000000\" fill-rule=\"evenodd\" fill-opacity=\"1\" /><polyline clip-path=\"url(#clip742)\" style=\"stroke:#000000; stroke-linecap:butt; stroke-linejoin:round; stroke-width:2; stroke-opacity:0.1; fill:none\" points=\"\n",
       "  186.274,1445.72 2352.76,1445.72 \n",
       "  \"/>\n",
       "<polyline clip-path=\"url(#clip742)\" style=\"stroke:#000000; stroke-linecap:butt; stroke-linejoin:round; stroke-width:2; stroke-opacity:0.1; fill:none\" points=\"\n",
       "  186.274,1106.28 2352.76,1106.28 \n",
       "  \"/>\n",
       "<polyline clip-path=\"url(#clip742)\" style=\"stroke:#000000; stroke-linecap:butt; stroke-linejoin:round; stroke-width:2; stroke-opacity:0.1; fill:none\" points=\"\n",
       "  186.274,766.846 2352.76,766.846 \n",
       "  \"/>\n",
       "<polyline clip-path=\"url(#clip742)\" style=\"stroke:#000000; stroke-linecap:butt; stroke-linejoin:round; stroke-width:2; stroke-opacity:0.1; fill:none\" points=\"\n",
       "  186.274,427.411 2352.76,427.411 \n",
       "  \"/>\n",
       "<polyline clip-path=\"url(#clip742)\" style=\"stroke:#000000; stroke-linecap:butt; stroke-linejoin:round; stroke-width:2; stroke-opacity:0.1; fill:none\" points=\"\n",
       "  186.274,87.9763 2352.76,87.9763 \n",
       "  \"/>\n",
       "<polyline clip-path=\"url(#clip740)\" style=\"stroke:#000000; stroke-linecap:butt; stroke-linejoin:round; stroke-width:4; stroke-opacity:1; fill:none\" points=\"\n",
       "  186.274,1486.45 186.274,47.2441 \n",
       "  \"/>\n",
       "<polyline clip-path=\"url(#clip740)\" style=\"stroke:#000000; stroke-linecap:butt; stroke-linejoin:round; stroke-width:4; stroke-opacity:1; fill:none\" points=\"\n",
       "  186.274,1445.72 205.172,1445.72 \n",
       "  \"/>\n",
       "<polyline clip-path=\"url(#clip740)\" style=\"stroke:#000000; stroke-linecap:butt; stroke-linejoin:round; stroke-width:4; stroke-opacity:1; fill:none\" points=\"\n",
       "  186.274,1106.28 205.172,1106.28 \n",
       "  \"/>\n",
       "<polyline clip-path=\"url(#clip740)\" style=\"stroke:#000000; stroke-linecap:butt; stroke-linejoin:round; stroke-width:4; stroke-opacity:1; fill:none\" points=\"\n",
       "  186.274,766.846 205.172,766.846 \n",
       "  \"/>\n",
       "<polyline clip-path=\"url(#clip740)\" style=\"stroke:#000000; stroke-linecap:butt; stroke-linejoin:round; stroke-width:4; stroke-opacity:1; fill:none\" points=\"\n",
       "  186.274,427.411 205.172,427.411 \n",
       "  \"/>\n",
       "<polyline clip-path=\"url(#clip740)\" style=\"stroke:#000000; stroke-linecap:butt; stroke-linejoin:round; stroke-width:4; stroke-opacity:1; fill:none\" points=\"\n",
       "  186.274,87.9763 205.172,87.9763 \n",
       "  \"/>\n",
       "<path clip-path=\"url(#clip740)\" d=\"M62.9365 1431.51 Q59.3254 1431.51 57.4967 1435.08 Q55.6912 1438.62 55.6912 1445.75 Q55.6912 1452.86 57.4967 1456.42 Q59.3254 1459.96 62.9365 1459.96 Q66.5707 1459.96 68.3763 1456.42 Q70.205 1452.86 70.205 1445.75 Q70.205 1438.62 68.3763 1435.08 Q66.5707 1431.51 62.9365 1431.51 M62.9365 1427.81 Q68.7467 1427.81 71.8022 1432.42 Q74.8809 1437 74.8809 1445.75 Q74.8809 1454.48 71.8022 1459.08 Q68.7467 1463.67 62.9365 1463.67 Q57.1264 1463.67 54.0477 1459.08 Q50.9921 1454.48 50.9921 1445.75 Q50.9921 1437 54.0477 1432.42 Q57.1264 1427.81 62.9365 1427.81 Z\" fill=\"#000000\" fill-rule=\"evenodd\" fill-opacity=\"1\" /><path clip-path=\"url(#clip740)\" d=\"M83.0984 1457.12 L87.9827 1457.12 L87.9827 1463 L83.0984 1463 L83.0984 1457.12 Z\" fill=\"#000000\" fill-rule=\"evenodd\" fill-opacity=\"1\" /><path clip-path=\"url(#clip740)\" d=\"M108.168 1431.51 Q104.557 1431.51 102.728 1435.08 Q100.922 1438.62 100.922 1445.75 Q100.922 1452.86 102.728 1456.42 Q104.557 1459.96 108.168 1459.96 Q111.802 1459.96 113.608 1456.42 Q115.436 1452.86 115.436 1445.75 Q115.436 1438.62 113.608 1435.08 Q111.802 1431.51 108.168 1431.51 M108.168 1427.81 Q113.978 1427.81 117.033 1432.42 Q120.112 1437 120.112 1445.75 Q120.112 1454.48 117.033 1459.08 Q113.978 1463.67 108.168 1463.67 Q102.358 1463.67 99.2789 1459.08 Q96.2234 1454.48 96.2234 1445.75 Q96.2234 1437 99.2789 1432.42 Q102.358 1427.81 108.168 1427.81 Z\" fill=\"#000000\" fill-rule=\"evenodd\" fill-opacity=\"1\" /><path clip-path=\"url(#clip740)\" d=\"M138.33 1431.51 Q134.719 1431.51 132.89 1435.08 Q131.084 1438.62 131.084 1445.75 Q131.084 1452.86 132.89 1456.42 Q134.719 1459.96 138.33 1459.96 Q141.964 1459.96 143.769 1456.42 Q145.598 1452.86 145.598 1445.75 Q145.598 1438.62 143.769 1435.08 Q141.964 1431.51 138.33 1431.51 M138.33 1427.81 Q144.14 1427.81 147.195 1432.42 Q150.274 1437 150.274 1445.75 Q150.274 1454.48 147.195 1459.08 Q144.14 1463.67 138.33 1463.67 Q132.519 1463.67 129.441 1459.08 Q126.385 1454.48 126.385 1445.75 Q126.385 1437 129.441 1432.42 Q132.519 1427.81 138.33 1427.81 Z\" fill=\"#000000\" fill-rule=\"evenodd\" fill-opacity=\"1\" /><path clip-path=\"url(#clip740)\" d=\"M63.9319 1092.08 Q60.3208 1092.08 58.4921 1095.64 Q56.6865 1099.19 56.6865 1106.32 Q56.6865 1113.42 58.4921 1116.99 Q60.3208 1120.53 63.9319 1120.53 Q67.5661 1120.53 69.3717 1116.99 Q71.2004 1113.42 71.2004 1106.32 Q71.2004 1099.19 69.3717 1095.64 Q67.5661 1092.08 63.9319 1092.08 M63.9319 1088.38 Q69.742 1088.38 72.7976 1092.98 Q75.8763 1097.57 75.8763 1106.32 Q75.8763 1115.04 72.7976 1119.65 Q69.742 1124.23 63.9319 1124.23 Q58.1217 1124.23 55.043 1119.65 Q51.9875 1115.04 51.9875 1106.32 Q51.9875 1097.57 55.043 1092.98 Q58.1217 1088.38 63.9319 1088.38 Z\" fill=\"#000000\" fill-rule=\"evenodd\" fill-opacity=\"1\" /><path clip-path=\"url(#clip740)\" d=\"M84.0938 1117.68 L88.978 1117.68 L88.978 1123.56 L84.0938 1123.56 L84.0938 1117.68 Z\" fill=\"#000000\" fill-rule=\"evenodd\" fill-opacity=\"1\" /><path clip-path=\"url(#clip740)\" d=\"M103.191 1119.63 L119.51 1119.63 L119.51 1123.56 L97.566 1123.56 L97.566 1119.63 Q100.228 1116.87 104.811 1112.24 Q109.418 1107.59 110.598 1106.25 Q112.844 1103.72 113.723 1101.99 Q114.626 1100.23 114.626 1098.54 Q114.626 1095.78 112.682 1094.05 Q110.76 1092.31 107.658 1092.31 Q105.459 1092.31 103.006 1093.07 Q100.575 1093.84 97.7974 1095.39 L97.7974 1090.67 Q100.621 1089.53 103.075 1088.95 Q105.529 1088.38 107.566 1088.38 Q112.936 1088.38 116.131 1091.06 Q119.325 1093.75 119.325 1098.24 Q119.325 1100.37 118.515 1102.29 Q117.728 1104.19 115.621 1106.78 Q115.043 1107.45 111.941 1110.67 Q108.839 1113.86 103.191 1119.63 Z\" fill=\"#000000\" fill-rule=\"evenodd\" fill-opacity=\"1\" /><path clip-path=\"url(#clip740)\" d=\"M129.371 1089 L147.728 1089 L147.728 1092.94 L133.654 1092.94 L133.654 1101.41 Q134.672 1101.06 135.691 1100.9 Q136.709 1100.71 137.728 1100.71 Q143.515 1100.71 146.894 1103.89 Q150.274 1107.06 150.274 1112.47 Q150.274 1118.05 146.802 1121.15 Q143.33 1124.23 137.01 1124.23 Q134.834 1124.23 132.566 1123.86 Q130.32 1123.49 127.913 1122.75 L127.913 1118.05 Q129.996 1119.19 132.219 1119.74 Q134.441 1120.3 136.918 1120.3 Q140.922 1120.3 143.26 1118.19 Q145.598 1116.08 145.598 1112.47 Q145.598 1108.86 143.26 1106.76 Q140.922 1104.65 136.918 1104.65 Q135.043 1104.65 133.168 1105.07 Q131.316 1105.48 129.371 1106.36 L129.371 1089 Z\" fill=\"#000000\" fill-rule=\"evenodd\" fill-opacity=\"1\" /><path clip-path=\"url(#clip740)\" d=\"M62.9365 752.645 Q59.3254 752.645 57.4967 756.209 Q55.6912 759.751 55.6912 766.881 Q55.6912 773.987 57.4967 777.552 Q59.3254 781.094 62.9365 781.094 Q66.5707 781.094 68.3763 777.552 Q70.205 773.987 70.205 766.881 Q70.205 759.751 68.3763 756.209 Q66.5707 752.645 62.9365 752.645 M62.9365 748.941 Q68.7467 748.941 71.8022 753.547 Q74.8809 758.131 74.8809 766.881 Q74.8809 775.608 71.8022 780.214 Q68.7467 784.797 62.9365 784.797 Q57.1264 784.797 54.0477 780.214 Q50.9921 775.608 50.9921 766.881 Q50.9921 758.131 54.0477 753.547 Q57.1264 748.941 62.9365 748.941 Z\" fill=\"#000000\" fill-rule=\"evenodd\" fill-opacity=\"1\" /><path clip-path=\"url(#clip740)\" d=\"M83.0984 778.246 L87.9827 778.246 L87.9827 784.126 L83.0984 784.126 L83.0984 778.246 Z\" fill=\"#000000\" fill-rule=\"evenodd\" fill-opacity=\"1\" /><path clip-path=\"url(#clip740)\" d=\"M98.2141 749.566 L116.57 749.566 L116.57 753.501 L102.496 753.501 L102.496 761.973 Q103.515 761.626 104.534 761.464 Q105.552 761.279 106.571 761.279 Q112.358 761.279 115.737 764.45 Q119.117 767.621 119.117 773.038 Q119.117 778.617 115.645 781.719 Q112.172 784.797 105.853 784.797 Q103.677 784.797 101.409 784.427 Q99.1632 784.057 96.7558 783.316 L96.7558 778.617 Q98.8391 779.751 101.061 780.307 Q103.284 780.862 105.76 780.862 Q109.765 780.862 112.103 778.756 Q114.441 776.649 114.441 773.038 Q114.441 769.427 112.103 767.321 Q109.765 765.214 105.76 765.214 Q103.885 765.214 102.01 765.631 Q100.159 766.047 98.2141 766.927 L98.2141 749.566 Z\" fill=\"#000000\" fill-rule=\"evenodd\" fill-opacity=\"1\" /><path clip-path=\"url(#clip740)\" d=\"M138.33 752.645 Q134.719 752.645 132.89 756.209 Q131.084 759.751 131.084 766.881 Q131.084 773.987 132.89 777.552 Q134.719 781.094 138.33 781.094 Q141.964 781.094 143.769 777.552 Q145.598 773.987 145.598 766.881 Q145.598 759.751 143.769 756.209 Q141.964 752.645 138.33 752.645 M138.33 748.941 Q144.14 748.941 147.195 753.547 Q150.274 758.131 150.274 766.881 Q150.274 775.608 147.195 780.214 Q144.14 784.797 138.33 784.797 Q132.519 784.797 129.441 780.214 Q126.385 775.608 126.385 766.881 Q126.385 758.131 129.441 753.547 Q132.519 748.941 138.33 748.941 Z\" fill=\"#000000\" fill-rule=\"evenodd\" fill-opacity=\"1\" /><path clip-path=\"url(#clip740)\" d=\"M63.9319 413.21 Q60.3208 413.21 58.4921 416.775 Q56.6865 420.316 56.6865 427.446 Q56.6865 434.552 58.4921 438.117 Q60.3208 441.659 63.9319 441.659 Q67.5661 441.659 69.3717 438.117 Q71.2004 434.552 71.2004 427.446 Q71.2004 420.316 69.3717 416.775 Q67.5661 413.21 63.9319 413.21 M63.9319 409.506 Q69.742 409.506 72.7976 414.113 Q75.8763 418.696 75.8763 427.446 Q75.8763 436.173 72.7976 440.779 Q69.742 445.362 63.9319 445.362 Q58.1217 445.362 55.043 440.779 Q51.9875 436.173 51.9875 427.446 Q51.9875 418.696 55.043 414.113 Q58.1217 409.506 63.9319 409.506 Z\" fill=\"#000000\" fill-rule=\"evenodd\" fill-opacity=\"1\" /><path clip-path=\"url(#clip740)\" d=\"M84.0938 438.812 L88.978 438.812 L88.978 444.691 L84.0938 444.691 L84.0938 438.812 Z\" fill=\"#000000\" fill-rule=\"evenodd\" fill-opacity=\"1\" /><path clip-path=\"url(#clip740)\" d=\"M97.9826 410.131 L120.205 410.131 L120.205 412.122 L107.658 444.691 L102.774 444.691 L114.58 414.066 L97.9826 414.066 L97.9826 410.131 Z\" fill=\"#000000\" fill-rule=\"evenodd\" fill-opacity=\"1\" /><path clip-path=\"url(#clip740)\" d=\"M129.371 410.131 L147.728 410.131 L147.728 414.066 L133.654 414.066 L133.654 422.538 Q134.672 422.191 135.691 422.029 Q136.709 421.844 137.728 421.844 Q143.515 421.844 146.894 425.015 Q150.274 428.187 150.274 433.603 Q150.274 439.182 146.802 442.284 Q143.33 445.362 137.01 445.362 Q134.834 445.362 132.566 444.992 Q130.32 444.622 127.913 443.881 L127.913 439.182 Q129.996 440.316 132.219 440.872 Q134.441 441.427 136.918 441.427 Q140.922 441.427 143.26 439.321 Q145.598 437.214 145.598 433.603 Q145.598 429.992 143.26 427.886 Q140.922 425.779 136.918 425.779 Q135.043 425.779 133.168 426.196 Q131.316 426.613 129.371 427.492 L129.371 410.131 Z\" fill=\"#000000\" fill-rule=\"evenodd\" fill-opacity=\"1\" /><path clip-path=\"url(#clip740)\" d=\"M53.7467 101.321 L61.3856 101.321 L61.3856 74.9555 L53.0754 76.6222 L53.0754 72.3629 L61.3393 70.6963 L66.0152 70.6963 L66.0152 101.321 L73.654 101.321 L73.654 105.256 L53.7467 105.256 L53.7467 101.321 Z\" fill=\"#000000\" fill-rule=\"evenodd\" fill-opacity=\"1\" /><path clip-path=\"url(#clip740)\" d=\"M83.0984 99.3767 L87.9827 99.3767 L87.9827 105.256 L83.0984 105.256 L83.0984 99.3767 Z\" fill=\"#000000\" fill-rule=\"evenodd\" fill-opacity=\"1\" /><path clip-path=\"url(#clip740)\" d=\"M108.168 73.775 Q104.557 73.775 102.728 77.3398 Q100.922 80.8814 100.922 88.011 Q100.922 95.1174 102.728 98.6822 Q104.557 102.224 108.168 102.224 Q111.802 102.224 113.608 98.6822 Q115.436 95.1174 115.436 88.011 Q115.436 80.8814 113.608 77.3398 Q111.802 73.775 108.168 73.775 M108.168 70.0713 Q113.978 70.0713 117.033 74.6777 Q120.112 79.261 120.112 88.011 Q120.112 96.7378 117.033 101.344 Q113.978 105.928 108.168 105.928 Q102.358 105.928 99.2789 101.344 Q96.2234 96.7378 96.2234 88.011 Q96.2234 79.261 99.2789 74.6777 Q102.358 70.0713 108.168 70.0713 Z\" fill=\"#000000\" fill-rule=\"evenodd\" fill-opacity=\"1\" /><path clip-path=\"url(#clip740)\" d=\"M138.33 73.775 Q134.719 73.775 132.89 77.3398 Q131.084 80.8814 131.084 88.011 Q131.084 95.1174 132.89 98.6822 Q134.719 102.224 138.33 102.224 Q141.964 102.224 143.769 98.6822 Q145.598 95.1174 145.598 88.011 Q145.598 80.8814 143.769 77.3398 Q141.964 73.775 138.33 73.775 M138.33 70.0713 Q144.14 70.0713 147.195 74.6777 Q150.274 79.261 150.274 88.011 Q150.274 96.7378 147.195 101.344 Q144.14 105.928 138.33 105.928 Q132.519 105.928 129.441 101.344 Q126.385 96.7378 126.385 88.011 Q126.385 79.261 129.441 74.6777 Q132.519 70.0713 138.33 70.0713 Z\" fill=\"#000000\" fill-rule=\"evenodd\" fill-opacity=\"1\" /><circle clip-path=\"url(#clip742)\" cx=\"247.59\" cy=\"1445.72\" r=\"14\" fill=\"#009af9\" fill-rule=\"evenodd\" fill-opacity=\"1\" stroke=\"#000000\" stroke-opacity=\"1\" stroke-width=\"3.2\"/>\n",
       "<circle clip-path=\"url(#clip742)\" cx=\"435.892\" cy=\"1445.72\" r=\"14\" fill=\"#009af9\" fill-rule=\"evenodd\" fill-opacity=\"1\" stroke=\"#000000\" stroke-opacity=\"1\" stroke-width=\"3.2\"/>\n",
       "<circle clip-path=\"url(#clip742)\" cx=\"740.571\" cy=\"1445.72\" r=\"14\" fill=\"#009af9\" fill-rule=\"evenodd\" fill-opacity=\"1\" stroke=\"#000000\" stroke-opacity=\"1\" stroke-width=\"3.2\"/>\n",
       "<circle clip-path=\"url(#clip742)\" cx=\"928.873\" cy=\"1445.72\" r=\"14\" fill=\"#009af9\" fill-rule=\"evenodd\" fill-opacity=\"1\" stroke=\"#000000\" stroke-opacity=\"1\" stroke-width=\"3.2\"/>\n",
       "<circle clip-path=\"url(#clip742)\" cx=\"1117.18\" cy=\"1445.72\" r=\"14\" fill=\"#009af9\" fill-rule=\"evenodd\" fill-opacity=\"1\" stroke=\"#000000\" stroke-opacity=\"1\" stroke-width=\"3.2\"/>\n",
       "<circle clip-path=\"url(#clip742)\" cx=\"1421.85\" cy=\"1445.72\" r=\"14\" fill=\"#009af9\" fill-rule=\"evenodd\" fill-opacity=\"1\" stroke=\"#000000\" stroke-opacity=\"1\" stroke-width=\"3.2\"/>\n",
       "<circle clip-path=\"url(#clip742)\" cx=\"1610.16\" cy=\"1445.72\" r=\"14\" fill=\"#009af9\" fill-rule=\"evenodd\" fill-opacity=\"1\" stroke=\"#000000\" stroke-opacity=\"1\" stroke-width=\"3.2\"/>\n",
       "<circle clip-path=\"url(#clip742)\" cx=\"1798.46\" cy=\"1445.72\" r=\"14\" fill=\"#009af9\" fill-rule=\"evenodd\" fill-opacity=\"1\" stroke=\"#000000\" stroke-opacity=\"1\" stroke-width=\"3.2\"/>\n",
       "<circle clip-path=\"url(#clip742)\" cx=\"2103.14\" cy=\"1445.72\" r=\"14\" fill=\"#009af9\" fill-rule=\"evenodd\" fill-opacity=\"1\" stroke=\"#000000\" stroke-opacity=\"1\" stroke-width=\"3.2\"/>\n",
       "<circle clip-path=\"url(#clip742)\" cx=\"2291.44\" cy=\"1445.72\" r=\"14\" fill=\"#009af9\" fill-rule=\"evenodd\" fill-opacity=\"1\" stroke=\"#000000\" stroke-opacity=\"1\" stroke-width=\"3.2\"/>\n",
       "<path clip-path=\"url(#clip740)\" d=\"\n",
       "M1987.39 198.898 L2280.54 198.898 L2280.54 95.2176 L1987.39 95.2176  Z\n",
       "  \" fill=\"#ffffff\" fill-rule=\"evenodd\" fill-opacity=\"1\"/>\n",
       "<polyline clip-path=\"url(#clip740)\" style=\"stroke:#000000; stroke-linecap:butt; stroke-linejoin:round; stroke-width:4; stroke-opacity:1; fill:none\" points=\"\n",
       "  1987.39,198.898 2280.54,198.898 2280.54,95.2176 1987.39,95.2176 1987.39,198.898 \n",
       "  \"/>\n",
       "<circle clip-path=\"url(#clip740)\" cx=\"2083.68\" cy=\"147.058\" r=\"23\" fill=\"#009af9\" fill-rule=\"evenodd\" fill-opacity=\"1\" stroke=\"#000000\" stroke-opacity=\"1\" stroke-width=\"5.12\"/>\n",
       "<path clip-path=\"url(#clip740)\" d=\"M2193.81 166.745 Q2192 171.375 2190.29 172.787 Q2188.58 174.199 2185.71 174.199 L2182.3 174.199 L2182.3 170.634 L2184.8 170.634 Q2186.56 170.634 2187.53 169.8 Q2188.51 168.967 2189.69 165.865 L2190.45 163.921 L2179.97 138.412 L2184.48 138.412 L2192.58 158.689 L2200.68 138.412 L2205.2 138.412 L2193.81 166.745 Z\" fill=\"#000000\" fill-rule=\"evenodd\" fill-opacity=\"1\" /><path clip-path=\"url(#clip740)\" d=\"M2212.49 160.402 L2220.13 160.402 L2220.13 134.037 L2211.82 135.703 L2211.82 131.444 L2220.08 129.778 L2224.76 129.778 L2224.76 160.402 L2232.4 160.402 L2232.4 164.338 L2212.49 164.338 L2212.49 160.402 Z\" fill=\"#000000\" fill-rule=\"evenodd\" fill-opacity=\"1\" /></svg>\n"
      ]
     },
     "execution_count": 57,
     "metadata": {},
     "output_type": "execute_result"
    }
   ],
   "source": [
    "function xnodal(x, P)\n",
    "    nelem = length(x) - 1\n",
    "    xn = Float64[]\n",
    "    xref, _ = gausslobatto(P)\n",
    "    for i in 1:nelem\n",
    "        xL, xR = x[i:i+1]\n",
    "        append!(xn, (xL+xR)/2 .+ (xR-xL)/2 * xref[1+(i>1):end])\n",
    "    end\n",
    "    xn\n",
    "end\n",
    "xn = xnodal(x, 4)\n",
    "scatter(xn, zero, marker=:auto)"
   ]
  },
  {
   "cell_type": "markdown",
   "id": "54c963a8",
   "metadata": {
    "slideshow": {
     "slide_type": "slide"
    }
   },
   "source": [
    "# Finite element building blocks"
   ]
  },
  {
   "cell_type": "code",
   "execution_count": 58,
   "id": "d137d2a1",
   "metadata": {
    "cell_style": "split",
    "slideshow": {
     "slide_type": ""
    }
   },
   "outputs": [],
   "source": [
    "struct FESpace\n",
    "    P::Int\n",
    "    Q::Int\n",
    "    nelem::Int\n",
    "    x::Vector\n",
    "    xn::Vector\n",
    "    Et::Adjoint{Float64, SparseMatrixCSC{Float64, Int64}}\n",
    "    q::Vector\n",
    "    w::Vector\n",
    "    B::Matrix\n",
    "    D::Matrix\n",
    "    function FESpace(P, Q, nelem)\n",
    "        x, Et = fe1_mesh(P, nelem)\n",
    "        xn = xnodal(x, P)\n",
    "        _, q, w, B, D = febasis(P, Q)\n",
    "        new(P, Q, nelem, x, xn, Et, q, w, B, D)\n",
    "    end\n",
    "end"
   ]
  },
  {
   "cell_type": "code",
   "execution_count": 59,
   "id": "aad37d3e",
   "metadata": {
    "cell_style": "split",
    "slideshow": {
     "slide_type": ""
    }
   },
   "outputs": [
    {
     "data": {
      "text/plain": [
       "fe_element (generic function with 1 method)"
      ]
     },
     "execution_count": 59,
     "metadata": {},
     "output_type": "execute_result"
    }
   ],
   "source": [
    "function fe_element(fe, e)\n",
    "    xL, xR = fe.x[e:e+1]\n",
    "    q = (xL+xR)/2 .+ (xR-xL)/2*fe.q\n",
    "    w = (xR - xL)/2 * fe.w\n",
    "    E = fe.Et'[:, (e-1)*fe.P+1:e*fe.P]'\n",
    "    dXdx = ones(fe.Q) * 2 / (xR - xL)\n",
    "    q, w, E, dXdx\n",
    "end"
   ]
  },
  {
   "cell_type": "markdown",
   "id": "3c638b68",
   "metadata": {
    "slideshow": {
     "slide_type": "slide"
    }
   },
   "source": [
    "# Finite element residual assembly\n",
    "$$ v^T F(u) \\sim \\int_\\Omega v\\cdot f_0(u, \\nabla u) + \\nabla v\\cdot f_1(u, \\nabla u) = 0, \\quad \\forall v$$\n",
    "$$ \\sum_e \\mathcal E_e^T \\Big( B^T W \\left\\lvert \\frac{\\partial x}{\\partial X} \\right\\rvert f_0(\\tilde u, \\nabla \\tilde u) + D^T \\left(\\frac{\\partial X}{\\partial x}\\right)^{T} W \\left\\lvert \\frac{\\partial x}{\\partial X} \\right\\rvert f_1(\\tilde u, \\nabla\\tilde u) \\Big) = 0 $$\n",
    "where $\\tilde u = B \\mathcal E_e u$ and $\\nabla \\tilde u = \\frac{\\partial X}{\\partial x} D \\mathcal E_e u$ are the values and gradients evaluated at quadrature points."
   ]
  },
  {
   "cell_type": "code",
   "execution_count": 60,
   "id": "6066e3a7",
   "metadata": {
    "cell_style": "split",
    "slideshow": {
     "slide_type": ""
    }
   },
   "outputs": [
    {
     "data": {
      "text/plain": [
       "fe_residual (generic function with 1 method)"
      ]
     },
     "execution_count": 60,
     "metadata": {},
     "output_type": "execute_result"
    }
   ],
   "source": [
    "kappa(x) = 0.6 .+ 0.4*sin(pi*x/2)\n",
    "fq(q, u, Du) = 0*u .- 1, kappa.(q) .* Du\n",
    "dfq(q, u, du, Du, Ddu) = 0*du, kappa.(q) .* Ddu\n",
    "\n",
    "function fe_residual(u_in, fe, fq; bci=[1], bcv=[1.])\n",
    "    u = copy(u_in); v = zero(u)\n",
    "    u[bci] = bcv\n",
    "    for e in 1:fe.nelem\n",
    "        q, w, E, dXdx = fe_element(fe, e)\n",
    "        B, D = fe.B, fe.D\n",
    "        ue = E * u\n",
    "        uq = B * ue\n",
    "        Duq = dXdx .* (D * ue)\n",
    "        f0, f1 = fq(q, uq, Duq)\n",
    "        ve = B' * (w .* f0) + D' * (dXdx .* w .* f1)\n",
    "        v += E' * ve\n",
    "    end\n",
    "    v[bci] = u_in[bci] - u[bci]\n",
    "    v\n",
    "end"
   ]
  },
  {
   "cell_type": "code",
   "execution_count": 61,
   "id": "a9a8c810",
   "metadata": {
    "cell_style": "split"
   },
   "outputs": [
    {
     "data": {
      "text/plain": [
       "Results of Nonlinear Solver Algorithm\n",
       " * Algorithm: Newton with line-search\n",
       " * Starting Point: [0.0, 0.0, 0.0, 0.0, 0.0, 0.0, 0.0, 0.0, 0.0, 0.0, 0.0]\n",
       " * Zero: [1.0000000000039475, 2.841018305024411, 4.238906485222131, 5.188016952771728, 5.816050622253204, 6.227791209380689, 6.501764010258901, 6.681877766277991, 6.795822293427263, 6.858907410246209, 6.879070690434546]\n",
       " * Inf-norm of residuals: 0.000000\n",
       " * Iterations: 1\n",
       " * Convergence: true\n",
       "   * |x - x'| < 0.0e+00: false\n",
       "   * |f(x)| < 1.0e-08: true\n",
       " * Function Calls (f): 2\n",
       " * Jacobian Calls (df/dx): 2"
      ]
     },
     "execution_count": 61,
     "metadata": {},
     "output_type": "execute_result"
    }
   ],
   "source": [
    "import NLsolve: nlsolve\n",
    "\n",
    "fe = FESpace(3, 3, 5)\n",
    "u0 = zero(fe.xn)\n",
    "sol = nlsolve(u -> fe_residual(u, fe, fq), u0; method=:newton)\n",
    "#plot(fe.xn, sol.zero, marker=:auto)"
   ]
  },
  {
   "cell_type": "markdown",
   "id": "fef1e4d1",
   "metadata": {
    "slideshow": {
     "slide_type": "slide"
    }
   },
   "source": [
    "# Finite element Jacobian assembly\n",
    "\n",
    "$$ v^T F(u) \\sim \\int_\\Omega v\\cdot f_0(u, \\nabla u) + \\nabla v\\cdot f_1(u, \\nabla u) = 0, \\quad \\forall v$$\n",
    "$$ v^T J(u) du \\sim \\int_\\Omega v\\cdot df_0(u, du, \\nabla u, \\nabla du) + \\nabla v\\cdot df_1(u, du, \\nabla u, \\nabla du) = 0, \\quad \\forall v$$"
   ]
  },
  {
   "cell_type": "code",
   "execution_count": 62,
   "id": "601632d0",
   "metadata": {
    "cell_style": "split"
   },
   "outputs": [
    {
     "data": {
      "text/plain": [
       "fe_jacobian (generic function with 1 method)"
      ]
     },
     "execution_count": 62,
     "metadata": {},
     "output_type": "execute_result"
    }
   ],
   "source": [
    "function fe_jacobian(u_in, fe, dfq; bci=[1], bcv=[1.])\n",
    "    u = copy(u_in); u[bci] = bcv\n",
    "    rows, cols, vals = Int[], Int[], Float64[]\n",
    "    for e in 1:fe.nelem\n",
    "        q, w, E, dXdx = fe_element(fe, e)\n",
    "        B, D, P = fe.B, fe.D, fe.P\n",
    "        ue = E * u\n",
    "        uq = B * ue; Duq = dXdx .* (D * ue)\n",
    "        K = zeros(P, P)\n",
    "        for j in 1:fe.P\n",
    "            du = B[:,j]\n",
    "            Ddu = dXdx .* D[:,j]\n",
    "            df0, df1 = dfq(q, uq, du, Duq, Ddu)\n",
    "            K[:,j] = B' * (w .* df0) + D' * (dXdx .* w .* df1)\n",
    "        end\n",
    "        inds = rowvals(E')\n",
    "        append!(rows, kron(ones(P), inds))\n",
    "        append!(cols, kron(inds, ones(P)))\n",
    "        append!(vals, vec(K))\n",
    "    end\n",
    "    A = sparse(rows, cols, vals)\n",
    "    A[bci, :] .= 0; A[:, bci] .= 0\n",
    "    A[bci,bci] = diagm(ones(length(bci)))\n",
    "    A\n",
    "end"
   ]
  },
  {
   "cell_type": "code",
   "execution_count": 63,
   "id": "27a8f5f5",
   "metadata": {
    "cell_style": "split"
   },
   "outputs": [
    {
     "data": {
      "text/plain": [
       "Results of Nonlinear Solver Algorithm\n",
       " * Algorithm: Newton with line-search\n",
       " * Starting Point: [0.0, 0.0, 0.0, 0.0, 0.0, 0.0, 0.0, 0.0, 0.0, 0.0, 0.0]\n",
       " * Zero: [1.0, 2.8410183049139395, 4.238906485042849, 5.1880169525357305, 5.8160506219732895, 6.227791209068442, 6.501764009933425, 6.681877765936257, 6.795822293071308, 6.8589074098787215, 6.879070690065479]\n",
       " * Inf-norm of residuals: 0.000000\n",
       " * Iterations: 1\n",
       " * Convergence: true\n",
       "   * |x - x'| < 0.0e+00: false\n",
       "   * |f(x)| < 1.0e-08: true\n",
       " * Function Calls (f): 2\n",
       " * Jacobian Calls (df/dx): 2"
      ]
     },
     "execution_count": 63,
     "metadata": {},
     "output_type": "execute_result"
    }
   ],
   "source": [
    "sol = nlsolve(u -> fe_residual(u, fe, fq),\n",
    "    u -> fe_jacobian(u, fe, dfq),\n",
    "    u0;\n",
    "    method=:newton)"
   ]
  },
  {
   "cell_type": "markdown",
   "id": "adda8673",
   "metadata": {
    "slideshow": {
     "slide_type": "slide"
    }
   },
   "source": [
    "# Spy on the Jacobian"
   ]
  },
  {
   "cell_type": "code",
   "execution_count": 64,
   "id": "9f03d981",
   "metadata": {
    "cell_style": "split"
   },
   "outputs": [
    {
     "ename": "LoadError",
     "evalue": "UndefVarError: J not defined",
     "output_type": "error",
     "traceback": [
      "UndefVarError: J not defined",
      "",
      "Stacktrace:",
      " [1] top-level scope",
      "   @ show.jl:955",
      " [2] eval",
      "   @ ./boot.jl:360 [inlined]",
      " [3] include_string(mapexpr::typeof(REPL.softscope), mod::Module, code::String, filename::String)",
      "   @ Base ./loading.jl:1116"
     ]
    }
   ],
   "source": [
    "@show cond(Matrix(J))\n",
    "\n",
    "fe = FESpace(6, 6, 4)\n",
    "u0 = zero(fe.xn)\n",
    "J = fe_jacobian(u0, fe, dfq)\n",
    "my_spy(J)"
   ]
  },
  {
   "cell_type": "markdown",
   "id": "1ba2e871",
   "metadata": {
    "cell_style": "split"
   },
   "source": [
    "* What is interesting about this matrix structure?\n",
    "  * What would the matrix structure look like for a finite difference method that is 6th order accurate?"
   ]
  },
  {
   "cell_type": "markdown",
   "id": "f7841a33",
   "metadata": {
    "slideshow": {
     "slide_type": "slide"
    }
   },
   "source": [
    "# A nonlinear problem\n",
    "\n",
    "$$ \\int_\\Omega \\nabla v (1 + u^2) \\nabla u - v = 0 $$"
   ]
  },
  {
   "cell_type": "code",
   "execution_count": 65,
   "id": "117d98c3",
   "metadata": {
    "cell_style": "split",
    "slideshow": {
     "slide_type": ""
    }
   },
   "outputs": [
    {
     "data": {
      "text/plain": [
       "Results of Nonlinear Solver Algorithm\n",
       " * Algorithm: Newton with line-search\n",
       " * Starting Point: [0.0, 0.0, 0.0, 0.0, 0.0, 0.0, 0.0, 0.0, 0.0, 0.0, 0.0]\n",
       " * Zero: [1.0, 1.1739863026457675, 1.307777401051926, 1.4129878095812518, 1.4964042939005306, 1.5622906363804245, 1.6134021931347737, 1.6516021901518985, 1.6781120101275795, 1.6937298372175207, 1.698885489993836]\n",
       " * Inf-norm of residuals: 0.000000\n",
       " * Iterations: 6\n",
       " * Convergence: true\n",
       "   * |x - x'| < 0.0e+00: false\n",
       "   * |f(x)| < 1.0e-08: true\n",
       " * Function Calls (f): 7\n",
       " * Jacobian Calls (df/dx): 7"
      ]
     },
     "execution_count": 65,
     "metadata": {},
     "output_type": "execute_result"
    }
   ],
   "source": [
    "function fq(q, u, Du)\n",
    "    f0 = 0*u .- 1\n",
    "    f1 = (1 .+ u.^2) .* Du\n",
    "    f0, f1\n",
    "end\n",
    "function dfq(q, u, du, Du, Ddu)\n",
    "    df0 = 0*du\n",
    "    df1 = (1 .+ u.^2) .* Ddu + 2u .* du .* Du\n",
    "    df0, df1\n",
    "end\n",
    "sol = nlsolve(u -> fe_residual(u, fe, fq),\n",
    "    u -> fe_jacobian(u, fe, dfq),\n",
    "    u0; method=:newton)"
   ]
  },
  {
   "cell_type": "code",
   "execution_count": 66,
   "id": "c6a60df9",
   "metadata": {
    "cell_style": "split",
    "scrolled": false
   },
   "outputs": [
    {
     "data": {
      "image/svg+xml": [
       "<?xml version=\"1.0\" encoding=\"utf-8\"?>\n",
       "<svg xmlns=\"http://www.w3.org/2000/svg\" xmlns:xlink=\"http://www.w3.org/1999/xlink\" width=\"600\" height=\"400\" viewBox=\"0 0 2400 1600\">\n",
       "<defs>\n",
       "  <clipPath id=\"clip780\">\n",
       "    <rect x=\"0\" y=\"0\" width=\"2400\" height=\"1600\"/>\n",
       "  </clipPath>\n",
       "</defs>\n",
       "<path clip-path=\"url(#clip780)\" d=\"\n",
       "M0 1600 L2400 1600 L2400 0 L0 0  Z\n",
       "  \" fill=\"#ffffff\" fill-rule=\"evenodd\" fill-opacity=\"1\"/>\n",
       "<defs>\n",
       "  <clipPath id=\"clip781\">\n",
       "    <rect x=\"480\" y=\"0\" width=\"1681\" height=\"1600\"/>\n",
       "  </clipPath>\n",
       "</defs>\n",
       "<path clip-path=\"url(#clip780)\" d=\"\n",
       "M154.515 1486.45 L2352.76 1486.45 L2352.76 47.2441 L154.515 47.2441  Z\n",
       "  \" fill=\"#ffffff\" fill-rule=\"evenodd\" fill-opacity=\"1\"/>\n",
       "<defs>\n",
       "  <clipPath id=\"clip782\">\n",
       "    <rect x=\"154\" y=\"47\" width=\"2199\" height=\"1440\"/>\n",
       "  </clipPath>\n",
       "</defs>\n",
       "<polyline clip-path=\"url(#clip782)\" style=\"stroke:#000000; stroke-linecap:butt; stroke-linejoin:round; stroke-width:2; stroke-opacity:0.1; fill:none\" points=\"\n",
       "  216.729,1486.45 216.729,47.2441 \n",
       "  \"/>\n",
       "<polyline clip-path=\"url(#clip782)\" style=\"stroke:#000000; stroke-linecap:butt; stroke-linejoin:round; stroke-width:2; stroke-opacity:0.1; fill:none\" points=\"\n",
       "  735.182,1486.45 735.182,47.2441 \n",
       "  \"/>\n",
       "<polyline clip-path=\"url(#clip782)\" style=\"stroke:#000000; stroke-linecap:butt; stroke-linejoin:round; stroke-width:2; stroke-opacity:0.1; fill:none\" points=\"\n",
       "  1253.64,1486.45 1253.64,47.2441 \n",
       "  \"/>\n",
       "<polyline clip-path=\"url(#clip782)\" style=\"stroke:#000000; stroke-linecap:butt; stroke-linejoin:round; stroke-width:2; stroke-opacity:0.1; fill:none\" points=\"\n",
       "  1772.09,1486.45 1772.09,47.2441 \n",
       "  \"/>\n",
       "<polyline clip-path=\"url(#clip782)\" style=\"stroke:#000000; stroke-linecap:butt; stroke-linejoin:round; stroke-width:2; stroke-opacity:0.1; fill:none\" points=\"\n",
       "  2290.54,1486.45 2290.54,47.2441 \n",
       "  \"/>\n",
       "<polyline clip-path=\"url(#clip780)\" style=\"stroke:#000000; stroke-linecap:butt; stroke-linejoin:round; stroke-width:4; stroke-opacity:1; fill:none\" points=\"\n",
       "  154.515,1486.45 2352.76,1486.45 \n",
       "  \"/>\n",
       "<polyline clip-path=\"url(#clip780)\" style=\"stroke:#000000; stroke-linecap:butt; stroke-linejoin:round; stroke-width:4; stroke-opacity:1; fill:none\" points=\"\n",
       "  216.729,1486.45 216.729,1467.55 \n",
       "  \"/>\n",
       "<polyline clip-path=\"url(#clip780)\" style=\"stroke:#000000; stroke-linecap:butt; stroke-linejoin:round; stroke-width:4; stroke-opacity:1; fill:none\" points=\"\n",
       "  735.182,1486.45 735.182,1467.55 \n",
       "  \"/>\n",
       "<polyline clip-path=\"url(#clip780)\" style=\"stroke:#000000; stroke-linecap:butt; stroke-linejoin:round; stroke-width:4; stroke-opacity:1; fill:none\" points=\"\n",
       "  1253.64,1486.45 1253.64,1467.55 \n",
       "  \"/>\n",
       "<polyline clip-path=\"url(#clip780)\" style=\"stroke:#000000; stroke-linecap:butt; stroke-linejoin:round; stroke-width:4; stroke-opacity:1; fill:none\" points=\"\n",
       "  1772.09,1486.45 1772.09,1467.55 \n",
       "  \"/>\n",
       "<polyline clip-path=\"url(#clip780)\" style=\"stroke:#000000; stroke-linecap:butt; stroke-linejoin:round; stroke-width:4; stroke-opacity:1; fill:none\" points=\"\n",
       "  2290.54,1486.45 2290.54,1467.55 \n",
       "  \"/>\n",
       "<path clip-path=\"url(#clip780)\" d=\"M163.257 1532.02 L192.933 1532.02 L192.933 1535.95 L163.257 1535.95 L163.257 1532.02 Z\" fill=\"#000000\" fill-rule=\"evenodd\" fill-opacity=\"1\" /><path clip-path=\"url(#clip780)\" d=\"M203.836 1544.91 L211.475 1544.91 L211.475 1518.55 L203.165 1520.21 L203.165 1515.95 L211.428 1514.29 L216.104 1514.29 L216.104 1544.91 L223.743 1544.91 L223.743 1548.85 L203.836 1548.85 L203.836 1544.91 Z\" fill=\"#000000\" fill-rule=\"evenodd\" fill-opacity=\"1\" /><path clip-path=\"url(#clip780)\" d=\"M233.188 1542.97 L238.072 1542.97 L238.072 1548.85 L233.188 1548.85 L233.188 1542.97 Z\" fill=\"#000000\" fill-rule=\"evenodd\" fill-opacity=\"1\" /><path clip-path=\"url(#clip780)\" d=\"M258.257 1517.37 Q254.646 1517.37 252.817 1520.93 Q251.012 1524.47 251.012 1531.6 Q251.012 1538.71 252.817 1542.27 Q254.646 1545.82 258.257 1545.82 Q261.891 1545.82 263.697 1542.27 Q265.525 1538.71 265.525 1531.6 Q265.525 1524.47 263.697 1520.93 Q261.891 1517.37 258.257 1517.37 M258.257 1513.66 Q264.067 1513.66 267.123 1518.27 Q270.201 1522.85 270.201 1531.6 Q270.201 1540.33 267.123 1544.94 Q264.067 1549.52 258.257 1549.52 Q252.447 1549.52 249.368 1544.94 Q246.312 1540.33 246.312 1531.6 Q246.312 1522.85 249.368 1518.27 Q252.447 1513.66 258.257 1513.66 Z\" fill=\"#000000\" fill-rule=\"evenodd\" fill-opacity=\"1\" /><path clip-path=\"url(#clip780)\" d=\"M682.208 1532.02 L711.884 1532.02 L711.884 1535.95 L682.208 1535.95 L682.208 1532.02 Z\" fill=\"#000000\" fill-rule=\"evenodd\" fill-opacity=\"1\" /><path clip-path=\"url(#clip780)\" d=\"M731.976 1517.37 Q728.365 1517.37 726.537 1520.93 Q724.731 1524.47 724.731 1531.6 Q724.731 1538.71 726.537 1542.27 Q728.365 1545.82 731.976 1545.82 Q735.611 1545.82 737.416 1542.27 Q739.245 1538.71 739.245 1531.6 Q739.245 1524.47 737.416 1520.93 Q735.611 1517.37 731.976 1517.37 M731.976 1513.66 Q737.786 1513.66 740.842 1518.27 Q743.921 1522.85 743.921 1531.6 Q743.921 1540.33 740.842 1544.94 Q737.786 1549.52 731.976 1549.52 Q726.166 1549.52 723.088 1544.94 Q720.032 1540.33 720.032 1531.6 Q720.032 1522.85 723.088 1518.27 Q726.166 1513.66 731.976 1513.66 Z\" fill=\"#000000\" fill-rule=\"evenodd\" fill-opacity=\"1\" /><path clip-path=\"url(#clip780)\" d=\"M752.138 1542.97 L757.023 1542.97 L757.023 1548.85 L752.138 1548.85 L752.138 1542.97 Z\" fill=\"#000000\" fill-rule=\"evenodd\" fill-opacity=\"1\" /><path clip-path=\"url(#clip780)\" d=\"M767.254 1514.29 L785.61 1514.29 L785.61 1518.22 L771.536 1518.22 L771.536 1526.7 Q772.555 1526.35 773.573 1526.19 Q774.592 1526 775.61 1526 Q781.397 1526 784.777 1529.17 Q788.157 1532.34 788.157 1537.76 Q788.157 1543.34 784.684 1546.44 Q781.212 1549.52 774.893 1549.52 Q772.717 1549.52 770.448 1549.15 Q768.203 1548.78 765.796 1548.04 L765.796 1543.34 Q767.879 1544.47 770.101 1545.03 Q772.323 1545.58 774.8 1545.58 Q778.805 1545.58 781.143 1543.48 Q783.481 1541.37 783.481 1537.76 Q783.481 1534.15 781.143 1532.04 Q778.805 1529.94 774.8 1529.94 Q772.925 1529.94 771.05 1530.35 Q769.198 1530.77 767.254 1531.65 L767.254 1514.29 Z\" fill=\"#000000\" fill-rule=\"evenodd\" fill-opacity=\"1\" /><path clip-path=\"url(#clip780)\" d=\"M1231.02 1517.37 Q1227.41 1517.37 1225.58 1520.93 Q1223.77 1524.47 1223.77 1531.6 Q1223.77 1538.71 1225.58 1542.27 Q1227.41 1545.82 1231.02 1545.82 Q1234.65 1545.82 1236.46 1542.27 Q1238.29 1538.71 1238.29 1531.6 Q1238.29 1524.47 1236.46 1520.93 Q1234.65 1517.37 1231.02 1517.37 M1231.02 1513.66 Q1236.83 1513.66 1239.89 1518.27 Q1242.96 1522.85 1242.96 1531.6 Q1242.96 1540.33 1239.89 1544.94 Q1236.83 1549.52 1231.02 1549.52 Q1225.21 1549.52 1222.13 1544.94 Q1219.08 1540.33 1219.08 1531.6 Q1219.08 1522.85 1222.13 1518.27 Q1225.21 1513.66 1231.02 1513.66 Z\" fill=\"#000000\" fill-rule=\"evenodd\" fill-opacity=\"1\" /><path clip-path=\"url(#clip780)\" d=\"M1251.18 1542.97 L1256.07 1542.97 L1256.07 1548.85 L1251.18 1548.85 L1251.18 1542.97 Z\" fill=\"#000000\" fill-rule=\"evenodd\" fill-opacity=\"1\" /><path clip-path=\"url(#clip780)\" d=\"M1276.25 1517.37 Q1272.64 1517.37 1270.81 1520.93 Q1269.01 1524.47 1269.01 1531.6 Q1269.01 1538.71 1270.81 1542.27 Q1272.64 1545.82 1276.25 1545.82 Q1279.89 1545.82 1281.69 1542.27 Q1283.52 1538.71 1283.52 1531.6 Q1283.52 1524.47 1281.69 1520.93 Q1279.89 1517.37 1276.25 1517.37 M1276.25 1513.66 Q1282.06 1513.66 1285.12 1518.27 Q1288.2 1522.85 1288.2 1531.6 Q1288.2 1540.33 1285.12 1544.94 Q1282.06 1549.52 1276.25 1549.52 Q1270.44 1549.52 1267.36 1544.94 Q1264.31 1540.33 1264.31 1531.6 Q1264.31 1522.85 1267.36 1518.27 Q1270.44 1513.66 1276.25 1513.66 Z\" fill=\"#000000\" fill-rule=\"evenodd\" fill-opacity=\"1\" /><path clip-path=\"url(#clip780)\" d=\"M1749.97 1517.37 Q1746.36 1517.37 1744.53 1520.93 Q1742.73 1524.47 1742.73 1531.6 Q1742.73 1538.71 1744.53 1542.27 Q1746.36 1545.82 1749.97 1545.82 Q1753.6 1545.82 1755.41 1542.27 Q1757.24 1538.71 1757.24 1531.6 Q1757.24 1524.47 1755.41 1520.93 Q1753.6 1517.37 1749.97 1517.37 M1749.97 1513.66 Q1755.78 1513.66 1758.84 1518.27 Q1761.91 1522.85 1761.91 1531.6 Q1761.91 1540.33 1758.84 1544.94 Q1755.78 1549.52 1749.97 1549.52 Q1744.16 1549.52 1741.08 1544.94 Q1738.03 1540.33 1738.03 1531.6 Q1738.03 1522.85 1741.08 1518.27 Q1744.16 1513.66 1749.97 1513.66 Z\" fill=\"#000000\" fill-rule=\"evenodd\" fill-opacity=\"1\" /><path clip-path=\"url(#clip780)\" d=\"M1770.13 1542.97 L1775.02 1542.97 L1775.02 1548.85 L1770.13 1548.85 L1770.13 1542.97 Z\" fill=\"#000000\" fill-rule=\"evenodd\" fill-opacity=\"1\" /><path clip-path=\"url(#clip780)\" d=\"M1785.25 1514.29 L1803.6 1514.29 L1803.6 1518.22 L1789.53 1518.22 L1789.53 1526.7 Q1790.55 1526.35 1791.57 1526.19 Q1792.59 1526 1793.6 1526 Q1799.39 1526 1802.77 1529.17 Q1806.15 1532.34 1806.15 1537.76 Q1806.15 1543.34 1802.68 1546.44 Q1799.21 1549.52 1792.89 1549.52 Q1790.71 1549.52 1788.44 1549.15 Q1786.2 1548.78 1783.79 1548.04 L1783.79 1543.34 Q1785.87 1544.47 1788.1 1545.03 Q1790.32 1545.58 1792.79 1545.58 Q1796.8 1545.58 1799.14 1543.48 Q1801.47 1541.37 1801.47 1537.76 Q1801.47 1534.15 1799.14 1532.04 Q1796.8 1529.94 1792.79 1529.94 Q1790.92 1529.94 1789.04 1530.35 Q1787.19 1530.77 1785.25 1531.65 L1785.25 1514.29 Z\" fill=\"#000000\" fill-rule=\"evenodd\" fill-opacity=\"1\" /><path clip-path=\"url(#clip780)\" d=\"M2257.69 1544.91 L2265.33 1544.91 L2265.33 1518.55 L2257.02 1520.21 L2257.02 1515.95 L2265.29 1514.29 L2269.96 1514.29 L2269.96 1544.91 L2277.6 1544.91 L2277.6 1548.85 L2257.69 1548.85 L2257.69 1544.91 Z\" fill=\"#000000\" fill-rule=\"evenodd\" fill-opacity=\"1\" /><path clip-path=\"url(#clip780)\" d=\"M2287.05 1542.97 L2291.93 1542.97 L2291.93 1548.85 L2287.05 1548.85 L2287.05 1542.97 Z\" fill=\"#000000\" fill-rule=\"evenodd\" fill-opacity=\"1\" /><path clip-path=\"url(#clip780)\" d=\"M2312.12 1517.37 Q2308.5 1517.37 2306.68 1520.93 Q2304.87 1524.47 2304.87 1531.6 Q2304.87 1538.71 2306.68 1542.27 Q2308.5 1545.82 2312.12 1545.82 Q2315.75 1545.82 2317.56 1542.27 Q2319.38 1538.71 2319.38 1531.6 Q2319.38 1524.47 2317.56 1520.93 Q2315.75 1517.37 2312.12 1517.37 M2312.12 1513.66 Q2317.93 1513.66 2320.98 1518.27 Q2324.06 1522.85 2324.06 1531.6 Q2324.06 1540.33 2320.98 1544.94 Q2317.93 1549.52 2312.12 1549.52 Q2306.31 1549.52 2303.23 1544.94 Q2300.17 1540.33 2300.17 1531.6 Q2300.17 1522.85 2303.23 1518.27 Q2306.31 1513.66 2312.12 1513.66 Z\" fill=\"#000000\" fill-rule=\"evenodd\" fill-opacity=\"1\" /><polyline clip-path=\"url(#clip782)\" style=\"stroke:#000000; stroke-linecap:butt; stroke-linejoin:round; stroke-width:2; stroke-opacity:0.1; fill:none\" points=\"\n",
       "  154.515,1445.72 2352.76,1445.72 \n",
       "  \"/>\n",
       "<polyline clip-path=\"url(#clip782)\" style=\"stroke:#000000; stroke-linecap:butt; stroke-linejoin:round; stroke-width:2; stroke-opacity:0.1; fill:none\" points=\"\n",
       "  154.515,1057.17 2352.76,1057.17 \n",
       "  \"/>\n",
       "<polyline clip-path=\"url(#clip782)\" style=\"stroke:#000000; stroke-linecap:butt; stroke-linejoin:round; stroke-width:2; stroke-opacity:0.1; fill:none\" points=\"\n",
       "  154.515,668.627 2352.76,668.627 \n",
       "  \"/>\n",
       "<polyline clip-path=\"url(#clip782)\" style=\"stroke:#000000; stroke-linecap:butt; stroke-linejoin:round; stroke-width:2; stroke-opacity:0.1; fill:none\" points=\"\n",
       "  154.515,280.083 2352.76,280.083 \n",
       "  \"/>\n",
       "<polyline clip-path=\"url(#clip780)\" style=\"stroke:#000000; stroke-linecap:butt; stroke-linejoin:round; stroke-width:4; stroke-opacity:1; fill:none\" points=\"\n",
       "  154.515,1486.45 154.515,47.2441 \n",
       "  \"/>\n",
       "<polyline clip-path=\"url(#clip780)\" style=\"stroke:#000000; stroke-linecap:butt; stroke-linejoin:round; stroke-width:4; stroke-opacity:1; fill:none\" points=\"\n",
       "  154.515,1445.72 173.413,1445.72 \n",
       "  \"/>\n",
       "<polyline clip-path=\"url(#clip780)\" style=\"stroke:#000000; stroke-linecap:butt; stroke-linejoin:round; stroke-width:4; stroke-opacity:1; fill:none\" points=\"\n",
       "  154.515,1057.17 173.413,1057.17 \n",
       "  \"/>\n",
       "<polyline clip-path=\"url(#clip780)\" style=\"stroke:#000000; stroke-linecap:butt; stroke-linejoin:round; stroke-width:4; stroke-opacity:1; fill:none\" points=\"\n",
       "  154.515,668.627 173.413,668.627 \n",
       "  \"/>\n",
       "<polyline clip-path=\"url(#clip780)\" style=\"stroke:#000000; stroke-linecap:butt; stroke-linejoin:round; stroke-width:4; stroke-opacity:1; fill:none\" points=\"\n",
       "  154.515,280.083 173.413,280.083 \n",
       "  \"/>\n",
       "<path clip-path=\"url(#clip780)\" d=\"M52.1495 1459.06 L59.7884 1459.06 L59.7884 1432.69 L51.4782 1434.36 L51.4782 1430.1 L59.7421 1428.44 L64.418 1428.44 L64.418 1459.06 L72.0568 1459.06 L72.0568 1463 L52.1495 1463 L52.1495 1459.06 Z\" fill=\"#000000\" fill-rule=\"evenodd\" fill-opacity=\"1\" /><path clip-path=\"url(#clip780)\" d=\"M81.5012 1457.12 L86.3855 1457.12 L86.3855 1463 L81.5012 1463 L81.5012 1457.12 Z\" fill=\"#000000\" fill-rule=\"evenodd\" fill-opacity=\"1\" /><path clip-path=\"url(#clip780)\" d=\"M106.571 1431.51 Q102.959 1431.51 101.131 1435.08 Q99.3252 1438.62 99.3252 1445.75 Q99.3252 1452.86 101.131 1456.42 Q102.959 1459.96 106.571 1459.96 Q110.205 1459.96 112.01 1456.42 Q113.839 1452.86 113.839 1445.75 Q113.839 1438.62 112.01 1435.08 Q110.205 1431.51 106.571 1431.51 M106.571 1427.81 Q112.381 1427.81 115.436 1432.42 Q118.515 1437 118.515 1445.75 Q118.515 1454.48 115.436 1459.08 Q112.381 1463.67 106.571 1463.67 Q100.76 1463.67 97.6817 1459.08 Q94.6262 1454.48 94.6262 1445.75 Q94.6262 1437 97.6817 1432.42 Q100.76 1427.81 106.571 1427.81 Z\" fill=\"#000000\" fill-rule=\"evenodd\" fill-opacity=\"1\" /><path clip-path=\"url(#clip780)\" d=\"M53.7467 1070.52 L61.3856 1070.52 L61.3856 1044.15 L53.0754 1045.82 L53.0754 1041.56 L61.3393 1039.89 L66.0152 1039.89 L66.0152 1070.52 L73.654 1070.52 L73.654 1074.45 L53.7467 1074.45 L53.7467 1070.52 Z\" fill=\"#000000\" fill-rule=\"evenodd\" fill-opacity=\"1\" /><path clip-path=\"url(#clip780)\" d=\"M83.0984 1068.57 L87.9827 1068.57 L87.9827 1074.45 L83.0984 1074.45 L83.0984 1068.57 Z\" fill=\"#000000\" fill-rule=\"evenodd\" fill-opacity=\"1\" /><path clip-path=\"url(#clip780)\" d=\"M102.196 1070.52 L118.515 1070.52 L118.515 1074.45 L96.5706 1074.45 L96.5706 1070.52 Q99.2326 1067.76 103.816 1063.13 Q108.422 1058.48 109.603 1057.14 Q111.848 1054.61 112.728 1052.88 Q113.631 1051.12 113.631 1049.43 Q113.631 1046.67 111.686 1044.94 Q109.765 1043.2 106.663 1043.2 Q104.464 1043.2 102.01 1043.97 Q99.5798 1044.73 96.8021 1046.28 L96.8021 1041.56 Q99.6261 1040.42 102.08 1039.85 Q104.534 1039.27 106.571 1039.27 Q111.941 1039.27 115.135 1041.95 Q118.33 1044.64 118.33 1049.13 Q118.33 1051.26 117.52 1053.18 Q116.733 1055.08 114.626 1057.67 Q114.047 1058.34 110.946 1061.56 Q107.844 1064.75 102.196 1070.52 Z\" fill=\"#000000\" fill-rule=\"evenodd\" fill-opacity=\"1\" /><path clip-path=\"url(#clip780)\" d=\"M51.6634 681.972 L59.3023 681.972 L59.3023 655.607 L50.9921 657.273 L50.9921 653.014 L59.256 651.347 L63.9319 651.347 L63.9319 681.972 L71.5707 681.972 L71.5707 685.907 L51.6634 685.907 L51.6634 681.972 Z\" fill=\"#000000\" fill-rule=\"evenodd\" fill-opacity=\"1\" /><path clip-path=\"url(#clip780)\" d=\"M81.0151 680.028 L85.8993 680.028 L85.8993 685.907 L81.0151 685.907 L81.0151 680.028 Z\" fill=\"#000000\" fill-rule=\"evenodd\" fill-opacity=\"1\" /><path clip-path=\"url(#clip780)\" d=\"M108.932 655.421 L97.1261 673.87 L108.932 673.87 L108.932 655.421 M107.705 651.347 L113.584 651.347 L113.584 673.87 L118.515 673.87 L118.515 677.759 L113.584 677.759 L113.584 685.907 L108.932 685.907 L108.932 677.759 L93.3299 677.759 L93.3299 673.245 L107.705 651.347 Z\" fill=\"#000000\" fill-rule=\"evenodd\" fill-opacity=\"1\" /><path clip-path=\"url(#clip780)\" d=\"M51.9875 293.428 L59.6263 293.428 L59.6263 267.062 L51.3162 268.729 L51.3162 264.47 L59.58 262.803 L64.2559 262.803 L64.2559 293.428 L71.8948 293.428 L71.8948 297.363 L51.9875 297.363 L51.9875 293.428 Z\" fill=\"#000000\" fill-rule=\"evenodd\" fill-opacity=\"1\" /><path clip-path=\"url(#clip780)\" d=\"M81.3392 291.484 L86.2234 291.484 L86.2234 297.363 L81.3392 297.363 L81.3392 291.484 Z\" fill=\"#000000\" fill-rule=\"evenodd\" fill-opacity=\"1\" /><path clip-path=\"url(#clip780)\" d=\"M106.987 278.22 Q103.839 278.22 101.987 280.373 Q100.159 282.525 100.159 286.275 Q100.159 290.002 101.987 292.178 Q103.839 294.331 106.987 294.331 Q110.135 294.331 111.964 292.178 Q113.816 290.002 113.816 286.275 Q113.816 282.525 111.964 280.373 Q110.135 278.22 106.987 278.22 M116.27 263.567 L116.27 267.826 Q114.51 266.993 112.705 266.553 Q110.922 266.113 109.163 266.113 Q104.534 266.113 102.08 269.238 Q99.6493 272.363 99.3021 278.683 Q100.668 276.669 102.728 275.604 Q104.788 274.516 107.265 274.516 Q112.473 274.516 115.483 277.687 Q118.515 280.835 118.515 286.275 Q118.515 291.599 115.367 294.817 Q112.219 298.034 106.987 298.034 Q100.992 298.034 97.8206 293.451 Q94.6493 288.845 94.6493 280.118 Q94.6493 271.924 98.5382 267.062 Q102.427 262.178 108.978 262.178 Q110.737 262.178 112.52 262.525 Q114.325 262.873 116.27 263.567 Z\" fill=\"#000000\" fill-rule=\"evenodd\" fill-opacity=\"1\" /><polyline clip-path=\"url(#clip782)\" style=\"stroke:#009af9; stroke-linecap:butt; stroke-linejoin:round; stroke-width:16; stroke-opacity:1; fill:none\" points=\"\n",
       "  216.729,1445.72 424.111,1107.71 631.492,847.79 838.873,643.396 1046.25,481.341 1253.64,353.342 1461.02,254.046 1668.4,179.835 1875.78,128.333 2083.16,97.9923 \n",
       "  2290.54,87.9763 \n",
       "  \"/>\n",
       "<circle clip-path=\"url(#clip782)\" cx=\"216.729\" cy=\"1445.72\" r=\"14\" fill=\"#009af9\" fill-rule=\"evenodd\" fill-opacity=\"1\" stroke=\"#000000\" stroke-opacity=\"1\" stroke-width=\"3.2\"/>\n",
       "<circle clip-path=\"url(#clip782)\" cx=\"424.111\" cy=\"1107.71\" r=\"14\" fill=\"#009af9\" fill-rule=\"evenodd\" fill-opacity=\"1\" stroke=\"#000000\" stroke-opacity=\"1\" stroke-width=\"3.2\"/>\n",
       "<circle clip-path=\"url(#clip782)\" cx=\"631.492\" cy=\"847.79\" r=\"14\" fill=\"#009af9\" fill-rule=\"evenodd\" fill-opacity=\"1\" stroke=\"#000000\" stroke-opacity=\"1\" stroke-width=\"3.2\"/>\n",
       "<circle clip-path=\"url(#clip782)\" cx=\"838.873\" cy=\"643.396\" r=\"14\" fill=\"#009af9\" fill-rule=\"evenodd\" fill-opacity=\"1\" stroke=\"#000000\" stroke-opacity=\"1\" stroke-width=\"3.2\"/>\n",
       "<circle clip-path=\"url(#clip782)\" cx=\"1046.25\" cy=\"481.341\" r=\"14\" fill=\"#009af9\" fill-rule=\"evenodd\" fill-opacity=\"1\" stroke=\"#000000\" stroke-opacity=\"1\" stroke-width=\"3.2\"/>\n",
       "<circle clip-path=\"url(#clip782)\" cx=\"1253.64\" cy=\"353.342\" r=\"14\" fill=\"#009af9\" fill-rule=\"evenodd\" fill-opacity=\"1\" stroke=\"#000000\" stroke-opacity=\"1\" stroke-width=\"3.2\"/>\n",
       "<circle clip-path=\"url(#clip782)\" cx=\"1461.02\" cy=\"254.046\" r=\"14\" fill=\"#009af9\" fill-rule=\"evenodd\" fill-opacity=\"1\" stroke=\"#000000\" stroke-opacity=\"1\" stroke-width=\"3.2\"/>\n",
       "<circle clip-path=\"url(#clip782)\" cx=\"1668.4\" cy=\"179.835\" r=\"14\" fill=\"#009af9\" fill-rule=\"evenodd\" fill-opacity=\"1\" stroke=\"#000000\" stroke-opacity=\"1\" stroke-width=\"3.2\"/>\n",
       "<circle clip-path=\"url(#clip782)\" cx=\"1875.78\" cy=\"128.333\" r=\"14\" fill=\"#009af9\" fill-rule=\"evenodd\" fill-opacity=\"1\" stroke=\"#000000\" stroke-opacity=\"1\" stroke-width=\"3.2\"/>\n",
       "<circle clip-path=\"url(#clip782)\" cx=\"2083.16\" cy=\"97.9923\" r=\"14\" fill=\"#009af9\" fill-rule=\"evenodd\" fill-opacity=\"1\" stroke=\"#000000\" stroke-opacity=\"1\" stroke-width=\"3.2\"/>\n",
       "<circle clip-path=\"url(#clip782)\" cx=\"2290.54\" cy=\"87.9763\" r=\"14\" fill=\"#009af9\" fill-rule=\"evenodd\" fill-opacity=\"1\" stroke=\"#000000\" stroke-opacity=\"1\" stroke-width=\"3.2\"/>\n",
       "<path clip-path=\"url(#clip780)\" d=\"\n",
       "M1982.8 198.898 L2279.48 198.898 L2279.48 95.2176 L1982.8 95.2176  Z\n",
       "  \" fill=\"#ffffff\" fill-rule=\"evenodd\" fill-opacity=\"1\"/>\n",
       "<polyline clip-path=\"url(#clip780)\" style=\"stroke:#000000; stroke-linecap:butt; stroke-linejoin:round; stroke-width:4; stroke-opacity:1; fill:none\" points=\"\n",
       "  1982.8,198.898 2279.48,198.898 2279.48,95.2176 1982.8,95.2176 1982.8,198.898 \n",
       "  \"/>\n",
       "<polyline clip-path=\"url(#clip780)\" style=\"stroke:#009af9; stroke-linecap:butt; stroke-linejoin:round; stroke-width:4; stroke-opacity:1; fill:none\" points=\"\n",
       "  2007.23,147.058 2153.78,147.058 \n",
       "  \"/>\n",
       "<circle clip-path=\"url(#clip780)\" cx=\"2080.5\" cy=\"147.058\" r=\"23\" fill=\"#009af9\" fill-rule=\"evenodd\" fill-opacity=\"1\" stroke=\"#000000\" stroke-opacity=\"1\" stroke-width=\"5.12\"/>\n",
       "<path clip-path=\"url(#clip780)\" d=\"M2192.04 166.745 Q2190.24 171.375 2188.53 172.787 Q2186.81 174.199 2183.94 174.199 L2180.54 174.199 L2180.54 170.634 L2183.04 170.634 Q2184.8 170.634 2185.77 169.8 Q2186.74 168.967 2187.92 165.865 L2188.69 163.921 L2178.2 138.412 L2182.71 138.412 L2190.82 158.689 L2198.92 138.412 L2203.43 138.412 L2192.04 166.745 Z\" fill=\"#000000\" fill-rule=\"evenodd\" fill-opacity=\"1\" /><path clip-path=\"url(#clip780)\" d=\"M2210.72 160.402 L2218.36 160.402 L2218.36 134.037 L2210.05 135.703 L2210.05 131.444 L2218.32 129.778 L2222.99 129.778 L2222.99 160.402 L2230.63 160.402 L2230.63 164.338 L2210.72 164.338 L2210.72 160.402 Z\" fill=\"#000000\" fill-rule=\"evenodd\" fill-opacity=\"1\" /></svg>\n"
      ]
     },
     "execution_count": 66,
     "metadata": {},
     "output_type": "execute_result"
    }
   ],
   "source": [
    "plot(fe.xn, sol.zero, marker=:auto)"
   ]
  },
  {
   "cell_type": "markdown",
   "id": "d48eb454",
   "metadata": {
    "slideshow": {
     "slide_type": "slide"
    }
   },
   "source": [
    "# Advection-diffusion (time independent)\n",
    "\n",
    "\\begin{align}\n",
    "\\nabla\\cdot\\big[ \\mathbf w u - \\kappa \\nabla u \\big] &= 1 & \\int_\\Omega \\nabla v \\cdot \\Big[-\\mathbf w u + \\kappa \\nabla u \\big] &= \\int_\\Omega v 1, \\forall v\n",
    "\\end{align}"
   ]
  },
  {
   "cell_type": "code",
   "execution_count": 67,
   "id": "777ae70d",
   "metadata": {
    "slideshow": {
     "slide_type": ""
    }
   },
   "outputs": [
    {
     "data": {
      "image/svg+xml": [
       "<?xml version=\"1.0\" encoding=\"utf-8\"?>\n",
       "<svg xmlns=\"http://www.w3.org/2000/svg\" xmlns:xlink=\"http://www.w3.org/1999/xlink\" width=\"600\" height=\"400\" viewBox=\"0 0 2400 1600\">\n",
       "<defs>\n",
       "  <clipPath id=\"clip820\">\n",
       "    <rect x=\"0\" y=\"0\" width=\"2400\" height=\"1600\"/>\n",
       "  </clipPath>\n",
       "</defs>\n",
       "<path clip-path=\"url(#clip820)\" d=\"\n",
       "M0 1600 L2400 1600 L2400 0 L0 0  Z\n",
       "  \" fill=\"#ffffff\" fill-rule=\"evenodd\" fill-opacity=\"1\"/>\n",
       "<defs>\n",
       "  <clipPath id=\"clip821\">\n",
       "    <rect x=\"480\" y=\"0\" width=\"1681\" height=\"1600\"/>\n",
       "  </clipPath>\n",
       "</defs>\n",
       "<path clip-path=\"url(#clip820)\" d=\"\n",
       "M156.598 1486.45 L2352.76 1486.45 L2352.76 47.2441 L156.598 47.2441  Z\n",
       "  \" fill=\"#ffffff\" fill-rule=\"evenodd\" fill-opacity=\"1\"/>\n",
       "<defs>\n",
       "  <clipPath id=\"clip822\">\n",
       "    <rect x=\"156\" y=\"47\" width=\"2197\" height=\"1440\"/>\n",
       "  </clipPath>\n",
       "</defs>\n",
       "<polyline clip-path=\"url(#clip822)\" style=\"stroke:#000000; stroke-linecap:butt; stroke-linejoin:round; stroke-width:2; stroke-opacity:0.1; fill:none\" points=\"\n",
       "  218.754,1486.45 218.754,47.2441 \n",
       "  \"/>\n",
       "<polyline clip-path=\"url(#clip822)\" style=\"stroke:#000000; stroke-linecap:butt; stroke-linejoin:round; stroke-width:2; stroke-opacity:0.1; fill:none\" points=\"\n",
       "  736.715,1486.45 736.715,47.2441 \n",
       "  \"/>\n",
       "<polyline clip-path=\"url(#clip822)\" style=\"stroke:#000000; stroke-linecap:butt; stroke-linejoin:round; stroke-width:2; stroke-opacity:0.1; fill:none\" points=\"\n",
       "  1254.68,1486.45 1254.68,47.2441 \n",
       "  \"/>\n",
       "<polyline clip-path=\"url(#clip822)\" style=\"stroke:#000000; stroke-linecap:butt; stroke-linejoin:round; stroke-width:2; stroke-opacity:0.1; fill:none\" points=\"\n",
       "  1772.64,1486.45 1772.64,47.2441 \n",
       "  \"/>\n",
       "<polyline clip-path=\"url(#clip822)\" style=\"stroke:#000000; stroke-linecap:butt; stroke-linejoin:round; stroke-width:2; stroke-opacity:0.1; fill:none\" points=\"\n",
       "  2290.6,1486.45 2290.6,47.2441 \n",
       "  \"/>\n",
       "<polyline clip-path=\"url(#clip820)\" style=\"stroke:#000000; stroke-linecap:butt; stroke-linejoin:round; stroke-width:4; stroke-opacity:1; fill:none\" points=\"\n",
       "  156.598,1486.45 2352.76,1486.45 \n",
       "  \"/>\n",
       "<polyline clip-path=\"url(#clip820)\" style=\"stroke:#000000; stroke-linecap:butt; stroke-linejoin:round; stroke-width:4; stroke-opacity:1; fill:none\" points=\"\n",
       "  218.754,1486.45 218.754,1467.55 \n",
       "  \"/>\n",
       "<polyline clip-path=\"url(#clip820)\" style=\"stroke:#000000; stroke-linecap:butt; stroke-linejoin:round; stroke-width:4; stroke-opacity:1; fill:none\" points=\"\n",
       "  736.715,1486.45 736.715,1467.55 \n",
       "  \"/>\n",
       "<polyline clip-path=\"url(#clip820)\" style=\"stroke:#000000; stroke-linecap:butt; stroke-linejoin:round; stroke-width:4; stroke-opacity:1; fill:none\" points=\"\n",
       "  1254.68,1486.45 1254.68,1467.55 \n",
       "  \"/>\n",
       "<polyline clip-path=\"url(#clip820)\" style=\"stroke:#000000; stroke-linecap:butt; stroke-linejoin:round; stroke-width:4; stroke-opacity:1; fill:none\" points=\"\n",
       "  1772.64,1486.45 1772.64,1467.55 \n",
       "  \"/>\n",
       "<polyline clip-path=\"url(#clip820)\" style=\"stroke:#000000; stroke-linecap:butt; stroke-linejoin:round; stroke-width:4; stroke-opacity:1; fill:none\" points=\"\n",
       "  2290.6,1486.45 2290.6,1467.55 \n",
       "  \"/>\n",
       "<path clip-path=\"url(#clip820)\" d=\"M165.282 1532.02 L194.957 1532.02 L194.957 1535.95 L165.282 1535.95 L165.282 1532.02 Z\" fill=\"#000000\" fill-rule=\"evenodd\" fill-opacity=\"1\" /><path clip-path=\"url(#clip820)\" d=\"M205.86 1544.91 L213.499 1544.91 L213.499 1518.55 L205.189 1520.21 L205.189 1515.95 L213.453 1514.29 L218.129 1514.29 L218.129 1544.91 L225.767 1544.91 L225.767 1548.85 L205.86 1548.85 L205.86 1544.91 Z\" fill=\"#000000\" fill-rule=\"evenodd\" fill-opacity=\"1\" /><path clip-path=\"url(#clip820)\" d=\"M235.212 1542.97 L240.096 1542.97 L240.096 1548.85 L235.212 1548.85 L235.212 1542.97 Z\" fill=\"#000000\" fill-rule=\"evenodd\" fill-opacity=\"1\" /><path clip-path=\"url(#clip820)\" d=\"M260.281 1517.37 Q256.67 1517.37 254.841 1520.93 Q253.036 1524.47 253.036 1531.6 Q253.036 1538.71 254.841 1542.27 Q256.67 1545.82 260.281 1545.82 Q263.915 1545.82 265.721 1542.27 Q267.55 1538.71 267.55 1531.6 Q267.55 1524.47 265.721 1520.93 Q263.915 1517.37 260.281 1517.37 M260.281 1513.66 Q266.091 1513.66 269.147 1518.27 Q272.226 1522.85 272.226 1531.6 Q272.226 1540.33 269.147 1544.94 Q266.091 1549.52 260.281 1549.52 Q254.471 1549.52 251.392 1544.94 Q248.337 1540.33 248.337 1531.6 Q248.337 1522.85 251.392 1518.27 Q254.471 1513.66 260.281 1513.66 Z\" fill=\"#000000\" fill-rule=\"evenodd\" fill-opacity=\"1\" /><path clip-path=\"url(#clip820)\" d=\"M683.741 1532.02 L713.417 1532.02 L713.417 1535.95 L683.741 1535.95 L683.741 1532.02 Z\" fill=\"#000000\" fill-rule=\"evenodd\" fill-opacity=\"1\" /><path clip-path=\"url(#clip820)\" d=\"M733.509 1517.37 Q729.898 1517.37 728.07 1520.93 Q726.264 1524.47 726.264 1531.6 Q726.264 1538.71 728.07 1542.27 Q729.898 1545.82 733.509 1545.82 Q737.144 1545.82 738.949 1542.27 Q740.778 1538.71 740.778 1531.6 Q740.778 1524.47 738.949 1520.93 Q737.144 1517.37 733.509 1517.37 M733.509 1513.66 Q739.32 1513.66 742.375 1518.27 Q745.454 1522.85 745.454 1531.6 Q745.454 1540.33 742.375 1544.94 Q739.32 1549.52 733.509 1549.52 Q727.699 1549.52 724.621 1544.94 Q721.565 1540.33 721.565 1531.6 Q721.565 1522.85 724.621 1518.27 Q727.699 1513.66 733.509 1513.66 Z\" fill=\"#000000\" fill-rule=\"evenodd\" fill-opacity=\"1\" /><path clip-path=\"url(#clip820)\" d=\"M753.671 1542.97 L758.556 1542.97 L758.556 1548.85 L753.671 1548.85 L753.671 1542.97 Z\" fill=\"#000000\" fill-rule=\"evenodd\" fill-opacity=\"1\" /><path clip-path=\"url(#clip820)\" d=\"M768.787 1514.29 L787.143 1514.29 L787.143 1518.22 L773.069 1518.22 L773.069 1526.7 Q774.088 1526.35 775.106 1526.19 Q776.125 1526 777.143 1526 Q782.93 1526 786.31 1529.17 Q789.69 1532.34 789.69 1537.76 Q789.69 1543.34 786.217 1546.44 Q782.745 1549.52 776.426 1549.52 Q774.25 1549.52 771.981 1549.15 Q769.736 1548.78 767.329 1548.04 L767.329 1543.34 Q769.412 1544.47 771.634 1545.03 Q773.856 1545.58 776.333 1545.58 Q780.338 1545.58 782.676 1543.48 Q785.014 1541.37 785.014 1537.76 Q785.014 1534.15 782.676 1532.04 Q780.338 1529.94 776.333 1529.94 Q774.458 1529.94 772.583 1530.35 Q770.731 1530.77 768.787 1531.65 L768.787 1514.29 Z\" fill=\"#000000\" fill-rule=\"evenodd\" fill-opacity=\"1\" /><path clip-path=\"url(#clip820)\" d=\"M1232.06 1517.37 Q1228.45 1517.37 1226.62 1520.93 Q1224.82 1524.47 1224.82 1531.6 Q1224.82 1538.71 1226.62 1542.27 Q1228.45 1545.82 1232.06 1545.82 Q1235.7 1545.82 1237.5 1542.27 Q1239.33 1538.71 1239.33 1531.6 Q1239.33 1524.47 1237.5 1520.93 Q1235.7 1517.37 1232.06 1517.37 M1232.06 1513.66 Q1237.87 1513.66 1240.93 1518.27 Q1244.01 1522.85 1244.01 1531.6 Q1244.01 1540.33 1240.93 1544.94 Q1237.87 1549.52 1232.06 1549.52 Q1226.25 1549.52 1223.17 1544.94 Q1220.12 1540.33 1220.12 1531.6 Q1220.12 1522.85 1223.17 1518.27 Q1226.25 1513.66 1232.06 1513.66 Z\" fill=\"#000000\" fill-rule=\"evenodd\" fill-opacity=\"1\" /><path clip-path=\"url(#clip820)\" d=\"M1252.22 1542.97 L1257.11 1542.97 L1257.11 1548.85 L1252.22 1548.85 L1252.22 1542.97 Z\" fill=\"#000000\" fill-rule=\"evenodd\" fill-opacity=\"1\" /><path clip-path=\"url(#clip820)\" d=\"M1277.29 1517.37 Q1273.68 1517.37 1271.85 1520.93 Q1270.05 1524.47 1270.05 1531.6 Q1270.05 1538.71 1271.85 1542.27 Q1273.68 1545.82 1277.29 1545.82 Q1280.93 1545.82 1282.73 1542.27 Q1284.56 1538.71 1284.56 1531.6 Q1284.56 1524.47 1282.73 1520.93 Q1280.93 1517.37 1277.29 1517.37 M1277.29 1513.66 Q1283.1 1513.66 1286.16 1518.27 Q1289.24 1522.85 1289.24 1531.6 Q1289.24 1540.33 1286.16 1544.94 Q1283.1 1549.52 1277.29 1549.52 Q1271.48 1549.52 1268.4 1544.94 Q1265.35 1540.33 1265.35 1531.6 Q1265.35 1522.85 1268.4 1518.27 Q1271.48 1513.66 1277.29 1513.66 Z\" fill=\"#000000\" fill-rule=\"evenodd\" fill-opacity=\"1\" /><path clip-path=\"url(#clip820)\" d=\"M1750.52 1517.37 Q1746.91 1517.37 1745.08 1520.93 Q1743.28 1524.47 1743.28 1531.6 Q1743.28 1538.71 1745.08 1542.27 Q1746.91 1545.82 1750.52 1545.82 Q1754.16 1545.82 1755.96 1542.27 Q1757.79 1538.71 1757.79 1531.6 Q1757.79 1524.47 1755.96 1520.93 Q1754.16 1517.37 1750.52 1517.37 M1750.52 1513.66 Q1756.33 1513.66 1759.39 1518.27 Q1762.47 1522.85 1762.47 1531.6 Q1762.47 1540.33 1759.39 1544.94 Q1756.33 1549.52 1750.52 1549.52 Q1744.71 1549.52 1741.63 1544.94 Q1738.58 1540.33 1738.58 1531.6 Q1738.58 1522.85 1741.63 1518.27 Q1744.71 1513.66 1750.52 1513.66 Z\" fill=\"#000000\" fill-rule=\"evenodd\" fill-opacity=\"1\" /><path clip-path=\"url(#clip820)\" d=\"M1770.68 1542.97 L1775.57 1542.97 L1775.57 1548.85 L1770.68 1548.85 L1770.68 1542.97 Z\" fill=\"#000000\" fill-rule=\"evenodd\" fill-opacity=\"1\" /><path clip-path=\"url(#clip820)\" d=\"M1785.8 1514.29 L1804.15 1514.29 L1804.15 1518.22 L1790.08 1518.22 L1790.08 1526.7 Q1791.1 1526.35 1792.12 1526.19 Q1793.14 1526 1794.15 1526 Q1799.94 1526 1803.32 1529.17 Q1806.7 1532.34 1806.7 1537.76 Q1806.7 1543.34 1803.23 1546.44 Q1799.76 1549.52 1793.44 1549.52 Q1791.26 1549.52 1788.99 1549.15 Q1786.75 1548.78 1784.34 1548.04 L1784.34 1543.34 Q1786.42 1544.47 1788.65 1545.03 Q1790.87 1545.58 1793.34 1545.58 Q1797.35 1545.58 1799.69 1543.48 Q1802.03 1541.37 1802.03 1537.76 Q1802.03 1534.15 1799.69 1532.04 Q1797.35 1529.94 1793.34 1529.94 Q1791.47 1529.94 1789.59 1530.35 Q1787.74 1530.77 1785.8 1531.65 L1785.8 1514.29 Z\" fill=\"#000000\" fill-rule=\"evenodd\" fill-opacity=\"1\" /><path clip-path=\"url(#clip820)\" d=\"M2257.75 1544.91 L2265.39 1544.91 L2265.39 1518.55 L2257.08 1520.21 L2257.08 1515.95 L2265.35 1514.29 L2270.02 1514.29 L2270.02 1544.91 L2277.66 1544.91 L2277.66 1548.85 L2257.75 1548.85 L2257.75 1544.91 Z\" fill=\"#000000\" fill-rule=\"evenodd\" fill-opacity=\"1\" /><path clip-path=\"url(#clip820)\" d=\"M2287.11 1542.97 L2291.99 1542.97 L2291.99 1548.85 L2287.11 1548.85 L2287.11 1542.97 Z\" fill=\"#000000\" fill-rule=\"evenodd\" fill-opacity=\"1\" /><path clip-path=\"url(#clip820)\" d=\"M2312.17 1517.37 Q2308.56 1517.37 2306.73 1520.93 Q2304.93 1524.47 2304.93 1531.6 Q2304.93 1538.71 2306.73 1542.27 Q2308.56 1545.82 2312.17 1545.82 Q2315.81 1545.82 2317.61 1542.27 Q2319.44 1538.71 2319.44 1531.6 Q2319.44 1524.47 2317.61 1520.93 Q2315.81 1517.37 2312.17 1517.37 M2312.17 1513.66 Q2317.98 1513.66 2321.04 1518.27 Q2324.12 1522.85 2324.12 1531.6 Q2324.12 1540.33 2321.04 1544.94 Q2317.98 1549.52 2312.17 1549.52 Q2306.36 1549.52 2303.29 1544.94 Q2300.23 1540.33 2300.23 1531.6 Q2300.23 1522.85 2303.29 1518.27 Q2306.36 1513.66 2312.17 1513.66 Z\" fill=\"#000000\" fill-rule=\"evenodd\" fill-opacity=\"1\" /><polyline clip-path=\"url(#clip822)\" style=\"stroke:#000000; stroke-linecap:butt; stroke-linejoin:round; stroke-width:2; stroke-opacity:0.1; fill:none\" points=\"\n",
       "  156.598,1445.72 2352.76,1445.72 \n",
       "  \"/>\n",
       "<polyline clip-path=\"url(#clip822)\" style=\"stroke:#000000; stroke-linecap:butt; stroke-linejoin:round; stroke-width:2; stroke-opacity:0.1; fill:none\" points=\"\n",
       "  156.598,1159.1 2352.76,1159.1 \n",
       "  \"/>\n",
       "<polyline clip-path=\"url(#clip822)\" style=\"stroke:#000000; stroke-linecap:butt; stroke-linejoin:round; stroke-width:2; stroke-opacity:0.1; fill:none\" points=\"\n",
       "  156.598,872.474 2352.76,872.474 \n",
       "  \"/>\n",
       "<polyline clip-path=\"url(#clip822)\" style=\"stroke:#000000; stroke-linecap:butt; stroke-linejoin:round; stroke-width:2; stroke-opacity:0.1; fill:none\" points=\"\n",
       "  156.598,585.854 2352.76,585.854 \n",
       "  \"/>\n",
       "<polyline clip-path=\"url(#clip822)\" style=\"stroke:#000000; stroke-linecap:butt; stroke-linejoin:round; stroke-width:2; stroke-opacity:0.1; fill:none\" points=\"\n",
       "  156.598,299.233 2352.76,299.233 \n",
       "  \"/>\n",
       "<polyline clip-path=\"url(#clip820)\" style=\"stroke:#000000; stroke-linecap:butt; stroke-linejoin:round; stroke-width:4; stroke-opacity:1; fill:none\" points=\"\n",
       "  156.598,1486.45 156.598,47.2441 \n",
       "  \"/>\n",
       "<polyline clip-path=\"url(#clip820)\" style=\"stroke:#000000; stroke-linecap:butt; stroke-linejoin:round; stroke-width:4; stroke-opacity:1; fill:none\" points=\"\n",
       "  156.598,1445.72 175.496,1445.72 \n",
       "  \"/>\n",
       "<polyline clip-path=\"url(#clip820)\" style=\"stroke:#000000; stroke-linecap:butt; stroke-linejoin:round; stroke-width:4; stroke-opacity:1; fill:none\" points=\"\n",
       "  156.598,1159.1 175.496,1159.1 \n",
       "  \"/>\n",
       "<polyline clip-path=\"url(#clip820)\" style=\"stroke:#000000; stroke-linecap:butt; stroke-linejoin:round; stroke-width:4; stroke-opacity:1; fill:none\" points=\"\n",
       "  156.598,872.474 175.496,872.474 \n",
       "  \"/>\n",
       "<polyline clip-path=\"url(#clip820)\" style=\"stroke:#000000; stroke-linecap:butt; stroke-linejoin:round; stroke-width:4; stroke-opacity:1; fill:none\" points=\"\n",
       "  156.598,585.854 175.496,585.854 \n",
       "  \"/>\n",
       "<polyline clip-path=\"url(#clip820)\" style=\"stroke:#000000; stroke-linecap:butt; stroke-linejoin:round; stroke-width:4; stroke-opacity:1; fill:none\" points=\"\n",
       "  156.598,299.233 175.496,299.233 \n",
       "  \"/>\n",
       "<path clip-path=\"url(#clip820)\" d=\"M63.4226 1431.51 Q59.8115 1431.51 57.9828 1435.08 Q56.1773 1438.62 56.1773 1445.75 Q56.1773 1452.86 57.9828 1456.42 Q59.8115 1459.96 63.4226 1459.96 Q67.0569 1459.96 68.8624 1456.42 Q70.6911 1452.86 70.6911 1445.75 Q70.6911 1438.62 68.8624 1435.08 Q67.0569 1431.51 63.4226 1431.51 M63.4226 1427.81 Q69.2328 1427.81 72.2883 1432.42 Q75.367 1437 75.367 1445.75 Q75.367 1454.48 72.2883 1459.08 Q69.2328 1463.67 63.4226 1463.67 Q57.6125 1463.67 54.5338 1459.08 Q51.4782 1454.48 51.4782 1445.75 Q51.4782 1437 54.5338 1432.42 Q57.6125 1427.81 63.4226 1427.81 Z\" fill=\"#000000\" fill-rule=\"evenodd\" fill-opacity=\"1\" /><path clip-path=\"url(#clip820)\" d=\"M83.5845 1457.12 L88.4688 1457.12 L88.4688 1463 L83.5845 1463 L83.5845 1457.12 Z\" fill=\"#000000\" fill-rule=\"evenodd\" fill-opacity=\"1\" /><path clip-path=\"url(#clip820)\" d=\"M108.654 1431.51 Q105.043 1431.51 103.214 1435.08 Q101.409 1438.62 101.409 1445.75 Q101.409 1452.86 103.214 1456.42 Q105.043 1459.96 108.654 1459.96 Q112.288 1459.96 114.094 1456.42 Q115.922 1452.86 115.922 1445.75 Q115.922 1438.62 114.094 1435.08 Q112.288 1431.51 108.654 1431.51 M108.654 1427.81 Q114.464 1427.81 117.52 1432.42 Q120.598 1437 120.598 1445.75 Q120.598 1454.48 117.52 1459.08 Q114.464 1463.67 108.654 1463.67 Q102.844 1463.67 99.765 1459.08 Q96.7095 1454.48 96.7095 1445.75 Q96.7095 1437 99.765 1432.42 Q102.844 1427.81 108.654 1427.81 Z\" fill=\"#000000\" fill-rule=\"evenodd\" fill-opacity=\"1\" /><path clip-path=\"url(#clip820)\" d=\"M64.6495 1144.89 Q61.0384 1144.89 59.2097 1148.46 Q57.4041 1152 57.4041 1159.13 Q57.4041 1166.24 59.2097 1169.8 Q61.0384 1173.34 64.6495 1173.34 Q68.2837 1173.34 70.0892 1169.8 Q71.9179 1166.24 71.9179 1159.13 Q71.9179 1152 70.0892 1148.46 Q68.2837 1144.89 64.6495 1144.89 M64.6495 1141.19 Q70.4596 1141.19 73.5152 1145.8 Q76.5938 1150.38 76.5938 1159.13 Q76.5938 1167.86 73.5152 1172.46 Q70.4596 1177.05 64.6495 1177.05 Q58.8393 1177.05 55.7606 1172.46 Q52.7051 1167.86 52.7051 1159.13 Q52.7051 1150.38 55.7606 1145.8 Q58.8393 1141.19 64.6495 1141.19 Z\" fill=\"#000000\" fill-rule=\"evenodd\" fill-opacity=\"1\" /><path clip-path=\"url(#clip820)\" d=\"M84.8114 1170.5 L89.6956 1170.5 L89.6956 1176.38 L84.8114 1176.38 L84.8114 1170.5 Z\" fill=\"#000000\" fill-rule=\"evenodd\" fill-opacity=\"1\" /><path clip-path=\"url(#clip820)\" d=\"M100.691 1172.44 L108.33 1172.44 L108.33 1146.07 L100.02 1147.74 L100.02 1143.48 L108.283 1141.82 L112.959 1141.82 L112.959 1172.44 L120.598 1172.44 L120.598 1176.38 L100.691 1176.38 L100.691 1172.44 Z\" fill=\"#000000\" fill-rule=\"evenodd\" fill-opacity=\"1\" /><path clip-path=\"url(#clip820)\" d=\"M65.0198 858.273 Q61.4087 858.273 59.58 861.838 Q57.7745 865.379 57.7745 872.509 Q57.7745 879.615 59.58 883.18 Q61.4087 886.722 65.0198 886.722 Q68.6541 886.722 70.4596 883.18 Q72.2883 879.615 72.2883 872.509 Q72.2883 865.379 70.4596 861.838 Q68.6541 858.273 65.0198 858.273 M65.0198 854.569 Q70.83 854.569 73.8855 859.176 Q76.9642 863.759 76.9642 872.509 Q76.9642 881.236 73.8855 885.842 Q70.83 890.426 65.0198 890.426 Q59.2097 890.426 56.131 885.842 Q53.0754 881.236 53.0754 872.509 Q53.0754 863.759 56.131 859.176 Q59.2097 854.569 65.0198 854.569 Z\" fill=\"#000000\" fill-rule=\"evenodd\" fill-opacity=\"1\" /><path clip-path=\"url(#clip820)\" d=\"M85.1818 883.875 L90.066 883.875 L90.066 889.754 L85.1818 889.754 L85.1818 883.875 Z\" fill=\"#000000\" fill-rule=\"evenodd\" fill-opacity=\"1\" /><path clip-path=\"url(#clip820)\" d=\"M104.279 885.819 L120.598 885.819 L120.598 889.754 L98.6539 889.754 L98.6539 885.819 Q101.316 883.065 105.899 878.435 Q110.506 873.782 111.686 872.44 Q113.932 869.916 114.811 868.18 Q115.714 866.421 115.714 864.731 Q115.714 861.977 113.77 860.241 Q111.848 858.504 108.746 858.504 Q106.547 858.504 104.094 859.268 Q101.663 860.032 98.8854 861.583 L98.8854 856.861 Q101.709 855.727 104.163 855.148 Q106.617 854.569 108.654 854.569 Q114.024 854.569 117.219 857.254 Q120.413 859.94 120.413 864.43 Q120.413 866.56 119.603 868.481 Q118.816 870.379 116.709 872.972 Q116.131 873.643 113.029 876.861 Q109.927 880.055 104.279 885.819 Z\" fill=\"#000000\" fill-rule=\"evenodd\" fill-opacity=\"1\" /><path clip-path=\"url(#clip820)\" d=\"M64.0708 571.652 Q60.4597 571.652 58.631 575.217 Q56.8254 578.759 56.8254 585.888 Q56.8254 592.995 58.631 596.56 Q60.4597 600.101 64.0708 600.101 Q67.705 600.101 69.5105 596.56 Q71.3392 592.995 71.3392 585.888 Q71.3392 578.759 69.5105 575.217 Q67.705 571.652 64.0708 571.652 M64.0708 567.949 Q69.8809 567.949 72.9365 572.555 Q76.0151 577.138 76.0151 585.888 Q76.0151 594.615 72.9365 599.222 Q69.8809 603.805 64.0708 603.805 Q58.2606 603.805 55.1819 599.222 Q52.1264 594.615 52.1264 585.888 Q52.1264 577.138 55.1819 572.555 Q58.2606 567.949 64.0708 567.949 Z\" fill=\"#000000\" fill-rule=\"evenodd\" fill-opacity=\"1\" /><path clip-path=\"url(#clip820)\" d=\"M84.2327 597.254 L89.1169 597.254 L89.1169 603.134 L84.2327 603.134 L84.2327 597.254 Z\" fill=\"#000000\" fill-rule=\"evenodd\" fill-opacity=\"1\" /><path clip-path=\"url(#clip820)\" d=\"M113.469 584.499 Q116.825 585.217 118.7 587.486 Q120.598 589.754 120.598 593.087 Q120.598 598.203 117.08 601.004 Q113.561 603.805 107.08 603.805 Q104.904 603.805 102.589 603.365 Q100.297 602.948 97.8437 602.092 L97.8437 597.578 Q99.7882 598.712 102.103 599.291 Q104.418 599.87 106.941 599.87 Q111.339 599.87 113.631 598.134 Q115.945 596.398 115.945 593.087 Q115.945 590.032 113.793 588.319 Q111.663 586.583 107.844 586.583 L103.816 586.583 L103.816 582.74 L108.029 582.74 Q111.478 582.74 113.307 581.374 Q115.135 579.986 115.135 577.393 Q115.135 574.731 113.237 573.319 Q111.362 571.884 107.844 571.884 Q105.922 571.884 103.723 572.3 Q101.524 572.717 98.8854 573.597 L98.8854 569.43 Q101.547 568.689 103.862 568.319 Q106.2 567.949 108.26 567.949 Q113.584 567.949 116.686 570.379 Q119.788 572.787 119.788 576.907 Q119.788 579.777 118.145 581.768 Q116.501 583.736 113.469 584.499 Z\" fill=\"#000000\" fill-rule=\"evenodd\" fill-opacity=\"1\" /><path clip-path=\"url(#clip820)\" d=\"M62.9365 285.032 Q59.3254 285.032 57.4967 288.596 Q55.6912 292.138 55.6912 299.268 Q55.6912 306.374 57.4967 309.939 Q59.3254 313.481 62.9365 313.481 Q66.5707 313.481 68.3763 309.939 Q70.205 306.374 70.205 299.268 Q70.205 292.138 68.3763 288.596 Q66.5707 285.032 62.9365 285.032 M62.9365 281.328 Q68.7467 281.328 71.8022 285.934 Q74.8809 290.518 74.8809 299.268 Q74.8809 307.994 71.8022 312.601 Q68.7467 317.184 62.9365 317.184 Q57.1264 317.184 54.0477 312.601 Q50.9921 307.994 50.9921 299.268 Q50.9921 290.518 54.0477 285.934 Q57.1264 281.328 62.9365 281.328 Z\" fill=\"#000000\" fill-rule=\"evenodd\" fill-opacity=\"1\" /><path clip-path=\"url(#clip820)\" d=\"M83.0984 310.633 L87.9827 310.633 L87.9827 316.513 L83.0984 316.513 L83.0984 310.633 Z\" fill=\"#000000\" fill-rule=\"evenodd\" fill-opacity=\"1\" /><path clip-path=\"url(#clip820)\" d=\"M111.015 286.027 L99.2095 304.476 L111.015 304.476 L111.015 286.027 M109.788 281.953 L115.668 281.953 L115.668 304.476 L120.598 304.476 L120.598 308.365 L115.668 308.365 L115.668 316.513 L111.015 316.513 L111.015 308.365 L95.4132 308.365 L95.4132 303.851 L109.788 281.953 Z\" fill=\"#000000\" fill-rule=\"evenodd\" fill-opacity=\"1\" /><polyline clip-path=\"url(#clip822)\" style=\"stroke:#009af9; stroke-linecap:butt; stroke-linejoin:round; stroke-width:16; stroke-opacity:1; fill:none\" points=\"\n",
       "  218.754,1445.72 425.938,1071.06 633.123,740.527 840.308,463.532 1047.49,252.369 1254.68,121.068 1461.86,87.9763 1669.05,174.023 1876.23,406.579 2083.42,816.866 \n",
       "  2290.6,1445.72 \n",
       "  \"/>\n",
       "<circle clip-path=\"url(#clip822)\" cx=\"218.754\" cy=\"1445.72\" r=\"14\" fill=\"#009af9\" fill-rule=\"evenodd\" fill-opacity=\"1\" stroke=\"#000000\" stroke-opacity=\"1\" stroke-width=\"3.2\"/>\n",
       "<circle clip-path=\"url(#clip822)\" cx=\"425.938\" cy=\"1071.06\" r=\"14\" fill=\"#009af9\" fill-rule=\"evenodd\" fill-opacity=\"1\" stroke=\"#000000\" stroke-opacity=\"1\" stroke-width=\"3.2\"/>\n",
       "<circle clip-path=\"url(#clip822)\" cx=\"633.123\" cy=\"740.527\" r=\"14\" fill=\"#009af9\" fill-rule=\"evenodd\" fill-opacity=\"1\" stroke=\"#000000\" stroke-opacity=\"1\" stroke-width=\"3.2\"/>\n",
       "<circle clip-path=\"url(#clip822)\" cx=\"840.308\" cy=\"463.532\" r=\"14\" fill=\"#009af9\" fill-rule=\"evenodd\" fill-opacity=\"1\" stroke=\"#000000\" stroke-opacity=\"1\" stroke-width=\"3.2\"/>\n",
       "<circle clip-path=\"url(#clip822)\" cx=\"1047.49\" cy=\"252.369\" r=\"14\" fill=\"#009af9\" fill-rule=\"evenodd\" fill-opacity=\"1\" stroke=\"#000000\" stroke-opacity=\"1\" stroke-width=\"3.2\"/>\n",
       "<circle clip-path=\"url(#clip822)\" cx=\"1254.68\" cy=\"121.068\" r=\"14\" fill=\"#009af9\" fill-rule=\"evenodd\" fill-opacity=\"1\" stroke=\"#000000\" stroke-opacity=\"1\" stroke-width=\"3.2\"/>\n",
       "<circle clip-path=\"url(#clip822)\" cx=\"1461.86\" cy=\"87.9763\" r=\"14\" fill=\"#009af9\" fill-rule=\"evenodd\" fill-opacity=\"1\" stroke=\"#000000\" stroke-opacity=\"1\" stroke-width=\"3.2\"/>\n",
       "<circle clip-path=\"url(#clip822)\" cx=\"1669.05\" cy=\"174.023\" r=\"14\" fill=\"#009af9\" fill-rule=\"evenodd\" fill-opacity=\"1\" stroke=\"#000000\" stroke-opacity=\"1\" stroke-width=\"3.2\"/>\n",
       "<circle clip-path=\"url(#clip822)\" cx=\"1876.23\" cy=\"406.579\" r=\"14\" fill=\"#009af9\" fill-rule=\"evenodd\" fill-opacity=\"1\" stroke=\"#000000\" stroke-opacity=\"1\" stroke-width=\"3.2\"/>\n",
       "<circle clip-path=\"url(#clip822)\" cx=\"2083.42\" cy=\"816.866\" r=\"14\" fill=\"#009af9\" fill-rule=\"evenodd\" fill-opacity=\"1\" stroke=\"#000000\" stroke-opacity=\"1\" stroke-width=\"3.2\"/>\n",
       "<circle clip-path=\"url(#clip822)\" cx=\"2290.6\" cy=\"1445.72\" r=\"14\" fill=\"#009af9\" fill-rule=\"evenodd\" fill-opacity=\"1\" stroke=\"#000000\" stroke-opacity=\"1\" stroke-width=\"3.2\"/>\n",
       "<path clip-path=\"url(#clip820)\" d=\"\n",
       "M1983.1 198.898 L2279.55 198.898 L2279.55 95.2176 L1983.1 95.2176  Z\n",
       "  \" fill=\"#ffffff\" fill-rule=\"evenodd\" fill-opacity=\"1\"/>\n",
       "<polyline clip-path=\"url(#clip820)\" style=\"stroke:#000000; stroke-linecap:butt; stroke-linejoin:round; stroke-width:4; stroke-opacity:1; fill:none\" points=\"\n",
       "  1983.1,198.898 2279.55,198.898 2279.55,95.2176 1983.1,95.2176 1983.1,198.898 \n",
       "  \"/>\n",
       "<polyline clip-path=\"url(#clip820)\" style=\"stroke:#009af9; stroke-linecap:butt; stroke-linejoin:round; stroke-width:4; stroke-opacity:1; fill:none\" points=\"\n",
       "  2007.5,147.058 2153.92,147.058 \n",
       "  \"/>\n",
       "<circle clip-path=\"url(#clip820)\" cx=\"2080.71\" cy=\"147.058\" r=\"23\" fill=\"#009af9\" fill-rule=\"evenodd\" fill-opacity=\"1\" stroke=\"#000000\" stroke-opacity=\"1\" stroke-width=\"5.12\"/>\n",
       "<path clip-path=\"url(#clip820)\" d=\"M2192.16 166.745 Q2190.35 171.375 2188.64 172.787 Q2186.93 174.199 2184.06 174.199 L2180.65 174.199 L2180.65 170.634 L2183.15 170.634 Q2184.91 170.634 2185.89 169.8 Q2186.86 168.967 2188.04 165.865 L2188.8 163.921 L2178.32 138.412 L2182.83 138.412 L2190.93 158.689 L2199.03 138.412 L2203.55 138.412 L2192.16 166.745 Z\" fill=\"#000000\" fill-rule=\"evenodd\" fill-opacity=\"1\" /><path clip-path=\"url(#clip820)\" d=\"M2210.84 160.402 L2218.48 160.402 L2218.48 134.037 L2210.17 135.703 L2210.17 131.444 L2218.43 129.778 L2223.11 129.778 L2223.11 160.402 L2230.75 160.402 L2230.75 164.338 L2210.84 164.338 L2210.84 160.402 Z\" fill=\"#000000\" fill-rule=\"evenodd\" fill-opacity=\"1\" /></svg>\n"
      ]
     },
     "execution_count": 67,
     "metadata": {},
     "output_type": "execute_result"
    }
   ],
   "source": [
    "wind = 1\n",
    "fq(q, u, Du) = -one.(u), -wind .* u + 1 * Du\n",
    "N = length(fe.xn)\n",
    "sol = nlsolve(u -> fe_residual(u, fe, fq; bci=[1, N], bcv=[0, 0]), zero(fe.xn), method=:newton)\n",
    "plot(fe.xn, sol.zero, marker=:auto)"
   ]
  },
  {
   "cell_type": "markdown",
   "id": "49e76d42",
   "metadata": {
    "slideshow": {
     "slide_type": "slide"
    }
   },
   "source": [
    "# LibCEED"
   ]
  },
  {
   "cell_type": "code",
   "execution_count": 68,
   "id": "6229c45d",
   "metadata": {},
   "outputs": [
    {
     "data": {
      "text/plain": [
       "Ceed\n",
       "  Ceed Resource: /cpu/self/opt/blocked\n",
       "  Preferred MemType: host"
      ]
     },
     "execution_count": 68,
     "metadata": {},
     "output_type": "execute_result"
    }
   ],
   "source": [
    "using LibCEED\n",
    "\n",
    "ceed = Ceed()"
   ]
  },
  {
   "cell_type": "code",
   "execution_count": 69,
   "id": "15e9d85c",
   "metadata": {
    "cell_style": "split"
   },
   "outputs": [
    {
     "data": {
      "text/plain": [
       "CeedElemRestriction from (17, 1) to 4 elements with 5 nodes each and component stride 1"
      ]
     },
     "execution_count": 69,
     "metadata": {},
     "output_type": "execute_result"
    }
   ],
   "source": [
    "function fe1_ceed(ceed, P, nelem)\n",
    "    offsets = CeedInt[]\n",
    "    # libceed uses 0-based indexing\n",
    "    for e in 0:nelem-1\n",
    "        append!(offsets, e*(P-1):(e+1)*(P-1))\n",
    "    end\n",
    "    E = create_elem_restriction(ceed, nelem, P, 1, 1, nelem*(P-1)+1, offsets)\n",
    "end\n",
    "\n",
    "P, Q, nelem = 5, 5, 4\n",
    "E = fe1_ceed(ceed, P, nelem)"
   ]
  },
  {
   "cell_type": "code",
   "execution_count": 70,
   "id": "dfce7c91",
   "metadata": {
    "cell_style": "split"
   },
   "outputs": [
    {
     "data": {
      "text/plain": [
       "CeedBasis: dim=1 P=5 Q=5\n",
       "      qref1d:\t -0.90617985\t -0.53846931\t  0.00000000\t  0.53846931\t  0.90617985\n",
       "   qweight1d:\t  0.23692689\t  0.47862867\t  0.56888889\t  0.47862867\t  0.23692689\n",
       "    interp1d[0]:\t  0.59337070\t  0.51643520\t -0.16382364\t  0.08322282\t -0.02920508\n",
       "    interp1d[1]:\t -0.10048257\t  0.93136610\t  0.22966726\t -0.09069490\t  0.03014411\n",
       "    interp1d[2]:\t  0.00000000\t  0.00000000\t  1.00000000\t  0.00000000\t  0.00000000\n",
       "    interp1d[3]:\t  0.03014411\t -0.09069490\t  0.22966726\t  0.93136610\t -0.10048257\n",
       "    interp1d[4]:\t -0.02920508\t  0.08322282\t -0.16382364\t  0.51643520\t  0.59337070\n",
       "      grad1d[0]:\t -3.70533645\t  4.33282117\t -0.90392454\t  0.42067623\t -0.14423641\n",
       "      grad1d[1]:\t -0.52871527\t -1.09765797\t  2.13259378\t -0.74973857\t  0.24351802\n",
       "      grad1d[2]:\t  0.37500000\t -1.33658458\t  0.00000000\t  1.33658458\t -0.37500000\n",
       "      grad1d[3]:\t -0.24351802\t  0.74973857\t -2.13259378\t  1.09765797\t  0.52871527\n",
       "      grad1d[4]:\t  0.14423641\t -0.42067623\t  0.90392454\t -4.33282117\t  3.70533645"
      ]
     },
     "execution_count": 70,
     "metadata": {},
     "output_type": "execute_result"
    }
   ],
   "source": [
    "basis = create_tensor_h1_lagrange_basis(ceed, 1, 1, P, Q, GAUSS)"
   ]
  },
  {
   "cell_type": "markdown",
   "id": "e436e396",
   "metadata": {
    "slideshow": {
     "slide_type": "slide"
    }
   },
   "source": [
    "# libCEED `QFunction` and `Operator`\n",
    "\n",
    "\\begin{gather*}\n",
    "    v^T F(u) \\sim \\int_\\Omega v \\cdot \\color{olive}{f_0(u, \\nabla u)} + \\nabla v \\!:\\! \\color{olive}{f_1(u, \\nabla u)} \\quad\n",
    "    v^T J w \\sim \\int_\\Omega \\begin{bmatrix} v \\\\ \\nabla v \\end{bmatrix}^T \\color{teal}{\\begin{bmatrix} f_{0,0} & f_{0,1} \\\\ f_{1,0} & f_{1,1} \\end{bmatrix}}\n",
    "    \\begin{bmatrix} w \\\\ \\nabla w \\end{bmatrix} \\\\\n",
    "    u = B_I \\mathcal E_e u_L \\qquad \\nabla u = \\frac{\\partial X}{\\partial x} B_{\\nabla} \\mathcal E_e u_L \\\\\n",
    "    J w = \\sum_e \\mathcal E_e^T \\begin{bmatrix} B_I \\\\ B_{\\nabla} \\end{bmatrix}^T\n",
    "    \\underbrace{\\begin{bmatrix} I & \\\\ & \\left( \\frac{\\partial X}{\\partial x}\\right)^T \\end{bmatrix} W_q \\color{teal}{\\begin{bmatrix} f_{0,0} & f_{0,1} \\\\ f_{1,0} & f_{1,1} \\end{bmatrix}} \\begin{bmatrix} I & \\\\ & \\left( \\frac{\\partial X}{\\partial x}\\right) \\end{bmatrix}}_{\\text{coefficients at quadrature points}} \\begin{bmatrix} B_I \\\\ B_{\\nabla} \\end{bmatrix} \\mathcal E_e w_L\n",
    "\\end{gather*}"
   ]
  },
  {
   "cell_type": "code",
   "execution_count": 108,
   "id": "ec4ed221",
   "metadata": {
    "cell_style": "split"
   },
   "outputs": [
    {
     "data": {
      "text/plain": [
       "0"
      ]
     },
     "execution_count": 108,
     "metadata": {},
     "output_type": "execute_result"
    }
   ],
   "source": [
    "@interior_qf setup_geom = (\n",
    "    ceed, dim=1,\n",
    "    (dxdX, :in, EVAL_GRAD, 1),\n",
    "    (w, :in, EVAL_WEIGHT),\n",
    "    (qdata, :out, EVAL_NONE, 1, 2),\n",
    "    begin\n",
    "        qdata[1] = w * abs(dxdX[1])\n",
    "        qdata[2] = w / abs(dxdX[1])\n",
    "    end\n",
    ")"
   ]
  },
  {
   "cell_type": "code",
   "execution_count": 111,
   "id": "ad5810db",
   "metadata": {
    "cell_style": "split"
   },
   "outputs": [
    {
     "data": {
      "text/plain": [
       "0"
      ]
     },
     "execution_count": 111,
     "metadata": {},
     "output_type": "execute_result"
    }
   ],
   "source": [
    "@interior_qf apply_diff = (\n",
    "    ceed, dim=1,\n",
    "    (qdata, :in, EVAL_NONE, 2),\n",
    "    (dudX, :in, EVAL_GRAD, 1),\n",
    "    (v, :out, EVAL_INTERP, 1),\n",
    "    (dvdX, :out, EVAL_GRAD, 1),\n",
    "    begin\n",
    "        v .= qdata[1] * -1\n",
    "        dvdX .= qdata[2] * dudX\n",
    "    end\n",
    ")"
   ]
  },
  {
   "cell_type": "markdown",
   "id": "333b1424",
   "metadata": {
    "slideshow": {
     "slide_type": "slide"
    }
   },
   "source": [
    "# Wire up restrictions and operators"
   ]
  },
  {
   "cell_type": "code",
   "execution_count": 112,
   "id": "dac9d1f9",
   "metadata": {
    "cell_style": "split"
   },
   "outputs": [
    {
     "data": {
      "text/plain": [
       "CeedOperator\n",
       "  3 Fields\n",
       "  2 Input Fields:\n",
       "    Input Field [0]:\n",
       "      Name: \"dxdX\"\n",
       "      Active vector\n",
       "    Input Field [1]:\n",
       "      Name: \"w\"\n",
       "      No vector\n",
       "  1 Output Field:\n",
       "    Output Field [0]:\n",
       "      Name: \"qdata\"\n",
       "      Collocated basis\n",
       "      Active vector"
      ]
     },
     "execution_count": 112,
     "metadata": {},
     "output_type": "execute_result"
    }
   ],
   "source": [
    "qdata = CeedVector(ceed, nelem*Q*2)\n",
    "x = CeedVector(ceed, nelem+1)\n",
    "x[] = LinRange(-1, 1, nelem+1)\n",
    "Ex = fe1_ceed(ceed, 2, nelem)\n",
    "Eq = create_elem_restriction_strided(ceed, nelem, Q, 2, nelem*Q*2, STRIDES_BACKEND)\n",
    "Bx = create_tensor_h1_lagrange_basis(ceed, 1, 1, 2, Q, GAUSS)\n",
    "\n",
    "op_setup = Operator(ceed, qf=setup_geom, fields=[\n",
    "        (:dxdX, Ex, Bx, CeedVectorActive()),\n",
    "        (:w, ElemRestrictionNone(), Bx, CeedVectorNone()),\n",
    "        (:qdata, Eq, BasisCollocated(), CeedVectorActive()),\n",
    "        ])"
   ]
  },
  {
   "cell_type": "code",
   "execution_count": 113,
   "id": "b9530072",
   "metadata": {
    "cell_style": "split"
   },
   "outputs": [
    {
     "data": {
      "text/plain": [
       "CeedOperator\n",
       "  4 Fields\n",
       "  2 Input Fields:\n",
       "    Input Field [0]:\n",
       "      Name: \"qdata\"\n",
       "      Collocated basis\n",
       "    Input Field [1]:\n",
       "      Name: \"dudX\"\n",
       "      Active vector\n",
       "  2 Output Fields:\n",
       "    Output Field [0]:\n",
       "      Name: \"v\"\n",
       "      Active vector\n",
       "    Output Field [1]:\n",
       "      Name: \"dvdX\"\n",
       "      Active vector"
      ]
     },
     "execution_count": 113,
     "metadata": {},
     "output_type": "execute_result"
    }
   ],
   "source": [
    "apply!(op_setup, x, qdata)\n",
    "\n",
    "op_diff = Operator(ceed, qf=apply_diff, fields=[\n",
    "        (:qdata, Eq, BasisCollocated(), qdata),\n",
    "        (:dudX, E, basis, CeedVectorActive()),\n",
    "        (:v, E, basis, CeedVectorActive()),\n",
    "        (:dvdX, E, basis, CeedVectorActive()),\n",
    "        ])"
   ]
  },
  {
   "cell_type": "markdown",
   "id": "282837d3",
   "metadata": {
    "slideshow": {
     "slide_type": "slide"
    }
   },
   "source": [
    "# Solve"
   ]
  },
  {
   "cell_type": "code",
   "execution_count": 115,
   "id": "e8cf61c8",
   "metadata": {
    "cell_style": "split"
   },
   "outputs": [
    {
     "data": {
      "text/plain": [
       "Results of Nonlinear Solver Algorithm\n",
       " * Algorithm: Newton with line-search\n",
       " * Starting Point: [1.0, 1.0, 1.0, 1.0, 1.0, 1.0, 1.0, 1.0, 1.0, 1.0, 1.0, 1.0, 1.0, 1.0, 1.0, 1.0, 1.0]\n",
       " * Zero: [-3.9475089863572066e-12, 0.08260957960239312, 0.21874999997080646, 0.32810470604827624, 0.3749999999584841, 0.4144412884027462, 0.4687499999651483, 0.4962729972393789, 0.5000000000237609, 0.4962729973023331, 0.4687500000248659, 0.41444128846070394, 0.3750000000810918, 0.3281047062415061, 0.21875000011356172, 0.08260957964624749, -3.9475089863572066e-12]\n",
       " * Inf-norm of residuals: 0.000000\n",
       " * Iterations: 1\n",
       " * Convergence: true\n",
       "   * |x - x'| < 0.0e+00: false\n",
       "   * |f(x)| < 1.0e-08: true\n",
       " * Function Calls (f): 2\n",
       " * Jacobian Calls (df/dx): 2"
      ]
     },
     "execution_count": 115,
     "metadata": {},
     "output_type": "execute_result"
    }
   ],
   "source": [
    "function ceed_residual(u_in, op_diff; bci=[1], bcv=[1.])\n",
    "    u = copy(u_in); v = zero(u)\n",
    "    u[bci] = bcv\n",
    "    uceed = CeedVector(ceed, length(u))\n",
    "    setarray!(uceed, MEM_HOST, USE_POINTER, u)\n",
    "    vceed = CeedVector(ceed, length(u))\n",
    "    apply!(op_diff, uceed, vceed)\n",
    "    v = witharray(Vector, vceed)\n",
    "    v[bci] = u_in[bci] - u[bci]\n",
    "    v\n",
    "end\n",
    "\n",
    "N = getlvectorsize(E)\n",
    "sol = nlsolve(u -> ceed_residual(u, op_diff; bci=[1, N], bcv=[0, 0]), ones(N), method=:newton)"
   ]
  },
  {
   "cell_type": "code",
   "execution_count": 116,
   "id": "ec1a2e52",
   "metadata": {
    "cell_style": "split"
   },
   "outputs": [
    {
     "data": {
      "image/svg+xml": [
       "<?xml version=\"1.0\" encoding=\"utf-8\"?>\n",
       "<svg xmlns=\"http://www.w3.org/2000/svg\" xmlns:xlink=\"http://www.w3.org/1999/xlink\" width=\"600\" height=\"400\" viewBox=\"0 0 2400 1600\">\n",
       "<defs>\n",
       "  <clipPath id=\"clip940\">\n",
       "    <rect x=\"0\" y=\"0\" width=\"2400\" height=\"1600\"/>\n",
       "  </clipPath>\n",
       "</defs>\n",
       "<path clip-path=\"url(#clip940)\" d=\"\n",
       "M0 1600 L2400 1600 L2400 0 L0 0  Z\n",
       "  \" fill=\"#ffffff\" fill-rule=\"evenodd\" fill-opacity=\"1\"/>\n",
       "<defs>\n",
       "  <clipPath id=\"clip941\">\n",
       "    <rect x=\"480\" y=\"0\" width=\"1681\" height=\"1600\"/>\n",
       "  </clipPath>\n",
       "</defs>\n",
       "<path clip-path=\"url(#clip940)\" d=\"\n",
       "M156.598 1486.45 L2352.76 1486.45 L2352.76 47.2441 L156.598 47.2441  Z\n",
       "  \" fill=\"#ffffff\" fill-rule=\"evenodd\" fill-opacity=\"1\"/>\n",
       "<defs>\n",
       "  <clipPath id=\"clip942\">\n",
       "    <rect x=\"156\" y=\"47\" width=\"2197\" height=\"1440\"/>\n",
       "  </clipPath>\n",
       "</defs>\n",
       "<polyline clip-path=\"url(#clip942)\" style=\"stroke:#000000; stroke-linecap:butt; stroke-linejoin:round; stroke-width:2; stroke-opacity:0.1; fill:none\" points=\"\n",
       "  477.734,1486.45 477.734,47.2441 \n",
       "  \"/>\n",
       "<polyline clip-path=\"url(#clip942)\" style=\"stroke:#000000; stroke-linecap:butt; stroke-linejoin:round; stroke-width:2; stroke-opacity:0.1; fill:none\" points=\"\n",
       "  866.206,1486.45 866.206,47.2441 \n",
       "  \"/>\n",
       "<polyline clip-path=\"url(#clip942)\" style=\"stroke:#000000; stroke-linecap:butt; stroke-linejoin:round; stroke-width:2; stroke-opacity:0.1; fill:none\" points=\"\n",
       "  1254.68,1486.45 1254.68,47.2441 \n",
       "  \"/>\n",
       "<polyline clip-path=\"url(#clip942)\" style=\"stroke:#000000; stroke-linecap:butt; stroke-linejoin:round; stroke-width:2; stroke-opacity:0.1; fill:none\" points=\"\n",
       "  1643.15,1486.45 1643.15,47.2441 \n",
       "  \"/>\n",
       "<polyline clip-path=\"url(#clip942)\" style=\"stroke:#000000; stroke-linecap:butt; stroke-linejoin:round; stroke-width:2; stroke-opacity:0.1; fill:none\" points=\"\n",
       "  2031.62,1486.45 2031.62,47.2441 \n",
       "  \"/>\n",
       "<polyline clip-path=\"url(#clip940)\" style=\"stroke:#000000; stroke-linecap:butt; stroke-linejoin:round; stroke-width:4; stroke-opacity:1; fill:none\" points=\"\n",
       "  156.598,1486.45 2352.76,1486.45 \n",
       "  \"/>\n",
       "<polyline clip-path=\"url(#clip940)\" style=\"stroke:#000000; stroke-linecap:butt; stroke-linejoin:round; stroke-width:4; stroke-opacity:1; fill:none\" points=\"\n",
       "  477.734,1486.45 477.734,1467.55 \n",
       "  \"/>\n",
       "<polyline clip-path=\"url(#clip940)\" style=\"stroke:#000000; stroke-linecap:butt; stroke-linejoin:round; stroke-width:4; stroke-opacity:1; fill:none\" points=\"\n",
       "  866.206,1486.45 866.206,1467.55 \n",
       "  \"/>\n",
       "<polyline clip-path=\"url(#clip940)\" style=\"stroke:#000000; stroke-linecap:butt; stroke-linejoin:round; stroke-width:4; stroke-opacity:1; fill:none\" points=\"\n",
       "  1254.68,1486.45 1254.68,1467.55 \n",
       "  \"/>\n",
       "<polyline clip-path=\"url(#clip940)\" style=\"stroke:#000000; stroke-linecap:butt; stroke-linejoin:round; stroke-width:4; stroke-opacity:1; fill:none\" points=\"\n",
       "  1643.15,1486.45 1643.15,1467.55 \n",
       "  \"/>\n",
       "<polyline clip-path=\"url(#clip940)\" style=\"stroke:#000000; stroke-linecap:butt; stroke-linejoin:round; stroke-width:4; stroke-opacity:1; fill:none\" points=\"\n",
       "  2031.62,1486.45 2031.62,1467.55 \n",
       "  \"/>\n",
       "<path clip-path=\"url(#clip940)\" d=\"M481.982 1530.21 Q485.339 1530.93 487.214 1533.2 Q489.112 1535.47 489.112 1538.8 Q489.112 1543.92 485.593 1546.72 Q482.075 1549.52 475.593 1549.52 Q473.417 1549.52 471.103 1549.08 Q468.811 1548.66 466.357 1547.81 L466.357 1543.29 Q468.302 1544.43 470.616 1545.01 Q472.931 1545.58 475.454 1545.58 Q479.853 1545.58 482.144 1543.85 Q484.459 1542.11 484.459 1538.8 Q484.459 1535.75 482.306 1534.03 Q480.177 1532.3 476.357 1532.3 L472.329 1532.3 L472.329 1528.45 L476.542 1528.45 Q479.991 1528.45 481.82 1527.09 Q483.649 1525.7 483.649 1523.11 Q483.649 1520.45 481.751 1519.03 Q479.876 1517.6 476.357 1517.6 Q474.436 1517.6 472.237 1518.01 Q470.038 1518.43 467.399 1519.31 L467.399 1515.14 Q470.061 1514.4 472.376 1514.03 Q474.714 1513.66 476.774 1513.66 Q482.098 1513.66 485.2 1516.09 Q488.302 1518.5 488.302 1522.62 Q488.302 1525.49 486.658 1527.48 Q485.015 1529.45 481.982 1530.21 Z\" fill=\"#000000\" fill-rule=\"evenodd\" fill-opacity=\"1\" /><path clip-path=\"url(#clip940)\" d=\"M866.611 1529.7 Q863.463 1529.7 861.611 1531.86 Q859.782 1534.01 859.782 1537.76 Q859.782 1541.49 861.611 1543.66 Q863.463 1545.82 866.611 1545.82 Q869.759 1545.82 871.588 1543.66 Q873.44 1541.49 873.44 1537.76 Q873.44 1534.01 871.588 1531.86 Q869.759 1529.7 866.611 1529.7 M875.893 1515.05 L875.893 1519.31 Q874.134 1518.48 872.328 1518.04 Q870.546 1517.6 868.787 1517.6 Q864.157 1517.6 861.703 1520.72 Q859.273 1523.85 858.926 1530.17 Q860.291 1528.15 862.352 1527.09 Q864.412 1526 866.889 1526 Q872.097 1526 875.106 1529.17 Q878.139 1532.32 878.139 1537.76 Q878.139 1543.08 874.99 1546.3 Q871.842 1549.52 866.611 1549.52 Q860.616 1549.52 857.444 1544.94 Q854.273 1540.33 854.273 1531.6 Q854.273 1523.41 858.162 1518.55 Q862.051 1513.66 868.602 1513.66 Q870.361 1513.66 872.143 1514.01 Q873.949 1514.36 875.893 1515.05 Z\" fill=\"#000000\" fill-rule=\"evenodd\" fill-opacity=\"1\" /><path clip-path=\"url(#clip940)\" d=\"M1244.98 1548.13 L1244.98 1543.87 Q1246.74 1544.7 1248.54 1545.14 Q1250.35 1545.58 1252.08 1545.58 Q1256.71 1545.58 1259.14 1542.48 Q1261.6 1539.36 1261.95 1533.01 Q1260.6 1535.01 1258.54 1536.07 Q1256.48 1537.13 1253.98 1537.13 Q1248.8 1537.13 1245.77 1534.01 Q1242.76 1530.86 1242.76 1525.42 Q1242.76 1520.1 1245.9 1516.88 Q1249.05 1513.66 1254.28 1513.66 Q1260.28 1513.66 1263.43 1518.27 Q1266.6 1522.85 1266.6 1531.6 Q1266.6 1539.77 1262.71 1544.66 Q1258.84 1549.52 1252.29 1549.52 Q1250.53 1549.52 1248.73 1549.17 Q1246.92 1548.82 1244.98 1548.13 M1254.28 1533.48 Q1257.43 1533.48 1259.26 1531.32 Q1261.11 1529.17 1261.11 1525.42 Q1261.11 1521.7 1259.26 1519.54 Q1257.43 1517.37 1254.28 1517.37 Q1251.14 1517.37 1249.28 1519.54 Q1247.45 1521.7 1247.45 1525.42 Q1247.45 1529.17 1249.28 1531.32 Q1251.14 1533.48 1254.28 1533.48 Z\" fill=\"#000000\" fill-rule=\"evenodd\" fill-opacity=\"1\" /><path clip-path=\"url(#clip940)\" d=\"M1618.63 1544.91 L1626.27 1544.91 L1626.27 1518.55 L1617.96 1520.21 L1617.96 1515.95 L1626.23 1514.29 L1630.9 1514.29 L1630.9 1544.91 L1638.54 1544.91 L1638.54 1548.85 L1618.63 1548.85 L1618.63 1544.91 Z\" fill=\"#000000\" fill-rule=\"evenodd\" fill-opacity=\"1\" /><path clip-path=\"url(#clip940)\" d=\"M1652.01 1544.91 L1668.33 1544.91 L1668.33 1548.85 L1646.39 1548.85 L1646.39 1544.91 Q1649.05 1542.16 1653.63 1537.53 Q1658.24 1532.88 1659.42 1531.53 Q1661.67 1529.01 1662.55 1527.27 Q1663.45 1525.51 1663.45 1523.82 Q1663.45 1521.07 1661.5 1519.33 Q1659.58 1517.6 1656.48 1517.6 Q1654.28 1517.6 1651.83 1518.36 Q1649.4 1519.13 1646.62 1520.68 L1646.62 1515.95 Q1649.44 1514.82 1651.9 1514.24 Q1654.35 1513.66 1656.39 1513.66 Q1661.76 1513.66 1664.95 1516.35 Q1668.15 1519.03 1668.15 1523.52 Q1668.15 1525.65 1667.34 1527.57 Q1666.55 1529.47 1664.44 1532.07 Q1663.87 1532.74 1660.76 1535.95 Q1657.66 1539.15 1652.01 1544.91 Z\" fill=\"#000000\" fill-rule=\"evenodd\" fill-opacity=\"1\" /><path clip-path=\"url(#clip940)\" d=\"M2006.8 1544.91 L2014.44 1544.91 L2014.44 1518.55 L2006.13 1520.21 L2006.13 1515.95 L2014.4 1514.29 L2019.07 1514.29 L2019.07 1544.91 L2026.71 1544.91 L2026.71 1548.85 L2006.8 1548.85 L2006.8 1544.91 Z\" fill=\"#000000\" fill-rule=\"evenodd\" fill-opacity=\"1\" /><path clip-path=\"url(#clip940)\" d=\"M2036.2 1514.29 L2054.56 1514.29 L2054.56 1518.22 L2040.49 1518.22 L2040.49 1526.7 Q2041.5 1526.35 2042.52 1526.19 Q2043.54 1526 2044.56 1526 Q2050.35 1526 2053.73 1529.17 Q2057.11 1532.34 2057.11 1537.76 Q2057.11 1543.34 2053.63 1546.44 Q2050.16 1549.52 2043.84 1549.52 Q2041.67 1549.52 2039.4 1549.15 Q2037.15 1548.78 2034.74 1548.04 L2034.74 1543.34 Q2036.83 1544.47 2039.05 1545.03 Q2041.27 1545.58 2043.75 1545.58 Q2047.75 1545.58 2050.09 1543.48 Q2052.43 1541.37 2052.43 1537.76 Q2052.43 1534.15 2050.09 1532.04 Q2047.75 1529.94 2043.75 1529.94 Q2041.87 1529.94 2040 1530.35 Q2038.15 1530.77 2036.2 1531.65 L2036.2 1514.29 Z\" fill=\"#000000\" fill-rule=\"evenodd\" fill-opacity=\"1\" /><polyline clip-path=\"url(#clip942)\" style=\"stroke:#000000; stroke-linecap:butt; stroke-linejoin:round; stroke-width:2; stroke-opacity:0.1; fill:none\" points=\"\n",
       "  156.598,1445.72 2352.76,1445.72 \n",
       "  \"/>\n",
       "<polyline clip-path=\"url(#clip942)\" style=\"stroke:#000000; stroke-linecap:butt; stroke-linejoin:round; stroke-width:2; stroke-opacity:0.1; fill:none\" points=\"\n",
       "  156.598,1174.17 2352.76,1174.17 \n",
       "  \"/>\n",
       "<polyline clip-path=\"url(#clip942)\" style=\"stroke:#000000; stroke-linecap:butt; stroke-linejoin:round; stroke-width:2; stroke-opacity:0.1; fill:none\" points=\"\n",
       "  156.598,902.62 2352.76,902.62 \n",
       "  \"/>\n",
       "<polyline clip-path=\"url(#clip942)\" style=\"stroke:#000000; stroke-linecap:butt; stroke-linejoin:round; stroke-width:2; stroke-opacity:0.1; fill:none\" points=\"\n",
       "  156.598,631.072 2352.76,631.072 \n",
       "  \"/>\n",
       "<polyline clip-path=\"url(#clip942)\" style=\"stroke:#000000; stroke-linecap:butt; stroke-linejoin:round; stroke-width:2; stroke-opacity:0.1; fill:none\" points=\"\n",
       "  156.598,359.524 2352.76,359.524 \n",
       "  \"/>\n",
       "<polyline clip-path=\"url(#clip942)\" style=\"stroke:#000000; stroke-linecap:butt; stroke-linejoin:round; stroke-width:2; stroke-opacity:0.1; fill:none\" points=\"\n",
       "  156.598,87.9763 2352.76,87.9763 \n",
       "  \"/>\n",
       "<polyline clip-path=\"url(#clip940)\" style=\"stroke:#000000; stroke-linecap:butt; stroke-linejoin:round; stroke-width:4; stroke-opacity:1; fill:none\" points=\"\n",
       "  156.598,1486.45 156.598,47.2441 \n",
       "  \"/>\n",
       "<polyline clip-path=\"url(#clip940)\" style=\"stroke:#000000; stroke-linecap:butt; stroke-linejoin:round; stroke-width:4; stroke-opacity:1; fill:none\" points=\"\n",
       "  156.598,1445.72 175.496,1445.72 \n",
       "  \"/>\n",
       "<polyline clip-path=\"url(#clip940)\" style=\"stroke:#000000; stroke-linecap:butt; stroke-linejoin:round; stroke-width:4; stroke-opacity:1; fill:none\" points=\"\n",
       "  156.598,1174.17 175.496,1174.17 \n",
       "  \"/>\n",
       "<polyline clip-path=\"url(#clip940)\" style=\"stroke:#000000; stroke-linecap:butt; stroke-linejoin:round; stroke-width:4; stroke-opacity:1; fill:none\" points=\"\n",
       "  156.598,902.62 175.496,902.62 \n",
       "  \"/>\n",
       "<polyline clip-path=\"url(#clip940)\" style=\"stroke:#000000; stroke-linecap:butt; stroke-linejoin:round; stroke-width:4; stroke-opacity:1; fill:none\" points=\"\n",
       "  156.598,631.072 175.496,631.072 \n",
       "  \"/>\n",
       "<polyline clip-path=\"url(#clip940)\" style=\"stroke:#000000; stroke-linecap:butt; stroke-linejoin:round; stroke-width:4; stroke-opacity:1; fill:none\" points=\"\n",
       "  156.598,359.524 175.496,359.524 \n",
       "  \"/>\n",
       "<polyline clip-path=\"url(#clip940)\" style=\"stroke:#000000; stroke-linecap:butt; stroke-linejoin:round; stroke-width:4; stroke-opacity:1; fill:none\" points=\"\n",
       "  156.598,87.9763 175.496,87.9763 \n",
       "  \"/>\n",
       "<path clip-path=\"url(#clip940)\" d=\"M63.4226 1431.51 Q59.8115 1431.51 57.9828 1435.08 Q56.1773 1438.62 56.1773 1445.75 Q56.1773 1452.86 57.9828 1456.42 Q59.8115 1459.96 63.4226 1459.96 Q67.0569 1459.96 68.8624 1456.42 Q70.6911 1452.86 70.6911 1445.75 Q70.6911 1438.62 68.8624 1435.08 Q67.0569 1431.51 63.4226 1431.51 M63.4226 1427.81 Q69.2328 1427.81 72.2883 1432.42 Q75.367 1437 75.367 1445.75 Q75.367 1454.48 72.2883 1459.08 Q69.2328 1463.67 63.4226 1463.67 Q57.6125 1463.67 54.5338 1459.08 Q51.4782 1454.48 51.4782 1445.75 Q51.4782 1437 54.5338 1432.42 Q57.6125 1427.81 63.4226 1427.81 Z\" fill=\"#000000\" fill-rule=\"evenodd\" fill-opacity=\"1\" /><path clip-path=\"url(#clip940)\" d=\"M83.5845 1457.12 L88.4688 1457.12 L88.4688 1463 L83.5845 1463 L83.5845 1457.12 Z\" fill=\"#000000\" fill-rule=\"evenodd\" fill-opacity=\"1\" /><path clip-path=\"url(#clip940)\" d=\"M108.654 1431.51 Q105.043 1431.51 103.214 1435.08 Q101.409 1438.62 101.409 1445.75 Q101.409 1452.86 103.214 1456.42 Q105.043 1459.96 108.654 1459.96 Q112.288 1459.96 114.094 1456.42 Q115.922 1452.86 115.922 1445.75 Q115.922 1438.62 114.094 1435.08 Q112.288 1431.51 108.654 1431.51 M108.654 1427.81 Q114.464 1427.81 117.52 1432.42 Q120.598 1437 120.598 1445.75 Q120.598 1454.48 117.52 1459.08 Q114.464 1463.67 108.654 1463.67 Q102.844 1463.67 99.765 1459.08 Q96.7095 1454.48 96.7095 1445.75 Q96.7095 1437 99.765 1432.42 Q102.844 1427.81 108.654 1427.81 Z\" fill=\"#000000\" fill-rule=\"evenodd\" fill-opacity=\"1\" /><path clip-path=\"url(#clip940)\" d=\"M64.6495 1159.97 Q61.0384 1159.97 59.2097 1163.53 Q57.4041 1167.07 57.4041 1174.2 Q57.4041 1181.31 59.2097 1184.87 Q61.0384 1188.42 64.6495 1188.42 Q68.2837 1188.42 70.0892 1184.87 Q71.9179 1181.31 71.9179 1174.2 Q71.9179 1167.07 70.0892 1163.53 Q68.2837 1159.97 64.6495 1159.97 M64.6495 1156.26 Q70.4596 1156.26 73.5152 1160.87 Q76.5938 1165.45 76.5938 1174.2 Q76.5938 1182.93 73.5152 1187.54 Q70.4596 1192.12 64.6495 1192.12 Q58.8393 1192.12 55.7606 1187.54 Q52.7051 1182.93 52.7051 1174.2 Q52.7051 1165.45 55.7606 1160.87 Q58.8393 1156.26 64.6495 1156.26 Z\" fill=\"#000000\" fill-rule=\"evenodd\" fill-opacity=\"1\" /><path clip-path=\"url(#clip940)\" d=\"M84.8114 1185.57 L89.6956 1185.57 L89.6956 1191.45 L84.8114 1191.45 L84.8114 1185.57 Z\" fill=\"#000000\" fill-rule=\"evenodd\" fill-opacity=\"1\" /><path clip-path=\"url(#clip940)\" d=\"M100.691 1187.51 L108.33 1187.51 L108.33 1161.15 L100.02 1162.81 L100.02 1158.55 L108.283 1156.89 L112.959 1156.89 L112.959 1187.51 L120.598 1187.51 L120.598 1191.45 L100.691 1191.45 L100.691 1187.51 Z\" fill=\"#000000\" fill-rule=\"evenodd\" fill-opacity=\"1\" /><path clip-path=\"url(#clip940)\" d=\"M65.0198 888.419 Q61.4087 888.419 59.58 891.983 Q57.7745 895.525 57.7745 902.655 Q57.7745 909.761 59.58 913.326 Q61.4087 916.868 65.0198 916.868 Q68.6541 916.868 70.4596 913.326 Q72.2883 909.761 72.2883 902.655 Q72.2883 895.525 70.4596 891.983 Q68.6541 888.419 65.0198 888.419 M65.0198 884.715 Q70.83 884.715 73.8855 889.321 Q76.9642 893.905 76.9642 902.655 Q76.9642 911.381 73.8855 915.988 Q70.83 920.571 65.0198 920.571 Q59.2097 920.571 56.131 915.988 Q53.0754 911.381 53.0754 902.655 Q53.0754 893.905 56.131 889.321 Q59.2097 884.715 65.0198 884.715 Z\" fill=\"#000000\" fill-rule=\"evenodd\" fill-opacity=\"1\" /><path clip-path=\"url(#clip940)\" d=\"M85.1818 914.02 L90.066 914.02 L90.066 919.9 L85.1818 919.9 L85.1818 914.02 Z\" fill=\"#000000\" fill-rule=\"evenodd\" fill-opacity=\"1\" /><path clip-path=\"url(#clip940)\" d=\"M104.279 915.965 L120.598 915.965 L120.598 919.9 L98.6539 919.9 L98.6539 915.965 Q101.316 913.21 105.899 908.581 Q110.506 903.928 111.686 902.585 Q113.932 900.062 114.811 898.326 Q115.714 896.567 115.714 894.877 Q115.714 892.122 113.77 890.386 Q111.848 888.65 108.746 888.65 Q106.547 888.65 104.094 889.414 Q101.663 890.178 98.8854 891.729 L98.8854 887.007 Q101.709 885.872 104.163 885.294 Q106.617 884.715 108.654 884.715 Q114.024 884.715 117.219 887.4 Q120.413 890.085 120.413 894.576 Q120.413 896.706 119.603 898.627 Q118.816 900.525 116.709 903.118 Q116.131 903.789 113.029 907.006 Q109.927 910.201 104.279 915.965 Z\" fill=\"#000000\" fill-rule=\"evenodd\" fill-opacity=\"1\" /><path clip-path=\"url(#clip940)\" d=\"M64.0708 616.871 Q60.4597 616.871 58.631 620.436 Q56.8254 623.977 56.8254 631.107 Q56.8254 638.213 58.631 641.778 Q60.4597 645.32 64.0708 645.32 Q67.705 645.32 69.5105 641.778 Q71.3392 638.213 71.3392 631.107 Q71.3392 623.977 69.5105 620.436 Q67.705 616.871 64.0708 616.871 M64.0708 613.167 Q69.8809 613.167 72.9365 617.774 Q76.0151 622.357 76.0151 631.107 Q76.0151 639.834 72.9365 644.44 Q69.8809 649.023 64.0708 649.023 Q58.2606 649.023 55.1819 644.44 Q52.1264 639.834 52.1264 631.107 Q52.1264 622.357 55.1819 617.774 Q58.2606 613.167 64.0708 613.167 Z\" fill=\"#000000\" fill-rule=\"evenodd\" fill-opacity=\"1\" /><path clip-path=\"url(#clip940)\" d=\"M84.2327 642.472 L89.1169 642.472 L89.1169 648.352 L84.2327 648.352 L84.2327 642.472 Z\" fill=\"#000000\" fill-rule=\"evenodd\" fill-opacity=\"1\" /><path clip-path=\"url(#clip940)\" d=\"M113.469 629.718 Q116.825 630.435 118.7 632.704 Q120.598 634.972 120.598 638.306 Q120.598 643.422 117.08 646.222 Q113.561 649.023 107.08 649.023 Q104.904 649.023 102.589 648.584 Q100.297 648.167 97.8437 647.31 L97.8437 642.797 Q99.7882 643.931 102.103 644.509 Q104.418 645.088 106.941 645.088 Q111.339 645.088 113.631 643.352 Q115.945 641.616 115.945 638.306 Q115.945 635.25 113.793 633.537 Q111.663 631.801 107.844 631.801 L103.816 631.801 L103.816 627.959 L108.029 627.959 Q111.478 627.959 113.307 626.593 Q115.135 625.204 115.135 622.611 Q115.135 619.949 113.237 618.537 Q111.362 617.102 107.844 617.102 Q105.922 617.102 103.723 617.519 Q101.524 617.936 98.8854 618.815 L98.8854 614.649 Q101.547 613.908 103.862 613.537 Q106.2 613.167 108.26 613.167 Q113.584 613.167 116.686 615.598 Q119.788 618.005 119.788 622.125 Q119.788 624.996 118.145 626.986 Q116.501 628.954 113.469 629.718 Z\" fill=\"#000000\" fill-rule=\"evenodd\" fill-opacity=\"1\" /><path clip-path=\"url(#clip940)\" d=\"M62.9365 345.323 Q59.3254 345.323 57.4967 348.888 Q55.6912 352.429 55.6912 359.559 Q55.6912 366.665 57.4967 370.23 Q59.3254 373.772 62.9365 373.772 Q66.5707 373.772 68.3763 370.23 Q70.205 366.665 70.205 359.559 Q70.205 352.429 68.3763 348.888 Q66.5707 345.323 62.9365 345.323 M62.9365 341.619 Q68.7467 341.619 71.8022 346.226 Q74.8809 350.809 74.8809 359.559 Q74.8809 368.286 71.8022 372.892 Q68.7467 377.475 62.9365 377.475 Q57.1264 377.475 54.0477 372.892 Q50.9921 368.286 50.9921 359.559 Q50.9921 350.809 54.0477 346.226 Q57.1264 341.619 62.9365 341.619 Z\" fill=\"#000000\" fill-rule=\"evenodd\" fill-opacity=\"1\" /><path clip-path=\"url(#clip940)\" d=\"M83.0984 370.925 L87.9827 370.925 L87.9827 376.804 L83.0984 376.804 L83.0984 370.925 Z\" fill=\"#000000\" fill-rule=\"evenodd\" fill-opacity=\"1\" /><path clip-path=\"url(#clip940)\" d=\"M111.015 346.318 L99.2095 364.767 L111.015 364.767 L111.015 346.318 M109.788 342.244 L115.668 342.244 L115.668 364.767 L120.598 364.767 L120.598 368.656 L115.668 368.656 L115.668 376.804 L111.015 376.804 L111.015 368.656 L95.4132 368.656 L95.4132 364.142 L109.788 342.244 Z\" fill=\"#000000\" fill-rule=\"evenodd\" fill-opacity=\"1\" /><path clip-path=\"url(#clip940)\" d=\"M64.418 73.775 Q60.8069 73.775 58.9782 77.3398 Q57.1726 80.8814 57.1726 88.011 Q57.1726 95.1174 58.9782 98.6822 Q60.8069 102.224 64.418 102.224 Q68.0522 102.224 69.8578 98.6822 Q71.6865 95.1174 71.6865 88.011 Q71.6865 80.8814 69.8578 77.3398 Q68.0522 73.775 64.418 73.775 M64.418 70.0713 Q70.2281 70.0713 73.2837 74.6777 Q76.3624 79.261 76.3624 88.011 Q76.3624 96.7378 73.2837 101.344 Q70.2281 105.928 64.418 105.928 Q58.6078 105.928 55.5291 101.344 Q52.4736 96.7378 52.4736 88.011 Q52.4736 79.261 55.5291 74.6777 Q58.6078 70.0713 64.418 70.0713 Z\" fill=\"#000000\" fill-rule=\"evenodd\" fill-opacity=\"1\" /><path clip-path=\"url(#clip940)\" d=\"M84.5799 99.3767 L89.4641 99.3767 L89.4641 105.256 L84.5799 105.256 L84.5799 99.3767 Z\" fill=\"#000000\" fill-rule=\"evenodd\" fill-opacity=\"1\" /><path clip-path=\"url(#clip940)\" d=\"M99.6956 70.6963 L118.052 70.6963 L118.052 74.6314 L103.978 74.6314 L103.978 83.1036 Q104.996 82.7564 106.015 82.5944 Q107.033 82.4092 108.052 82.4092 Q113.839 82.4092 117.219 85.5805 Q120.598 88.7517 120.598 94.1684 Q120.598 99.747 117.126 102.849 Q113.654 105.928 107.334 105.928 Q105.159 105.928 102.89 105.557 Q100.645 105.187 98.2372 104.446 L98.2372 99.747 Q100.321 100.881 102.543 101.437 Q104.765 101.992 107.242 101.992 Q111.246 101.992 113.584 99.8859 Q115.922 97.7795 115.922 94.1684 Q115.922 90.5573 113.584 88.4508 Q111.246 86.3443 107.242 86.3443 Q105.367 86.3443 103.492 86.761 Q101.64 87.1777 99.6956 88.0573 L99.6956 70.6963 Z\" fill=\"#000000\" fill-rule=\"evenodd\" fill-opacity=\"1\" /><polyline clip-path=\"url(#clip942)\" style=\"stroke:#009af9; stroke-linecap:butt; stroke-linejoin:round; stroke-width:16; stroke-opacity:1; fill:none\" points=\"\n",
       "  218.754,1445.72 348.244,1221.39 477.734,851.705 607.225,554.754 736.715,427.411 866.206,320.309 995.696,172.835 1125.19,98.0969 1254.68,87.9763 1384.17,98.0969 \n",
       "  1513.66,172.835 1643.15,320.309 1772.64,427.411 1902.13,554.754 2031.62,851.705 2161.11,1221.39 2290.6,1445.72 \n",
       "  \"/>\n",
       "<path clip-path=\"url(#clip940)\" d=\"\n",
       "M1983.1 198.898 L2279.55 198.898 L2279.55 95.2176 L1983.1 95.2176  Z\n",
       "  \" fill=\"#ffffff\" fill-rule=\"evenodd\" fill-opacity=\"1\"/>\n",
       "<polyline clip-path=\"url(#clip940)\" style=\"stroke:#000000; stroke-linecap:butt; stroke-linejoin:round; stroke-width:4; stroke-opacity:1; fill:none\" points=\"\n",
       "  1983.1,198.898 2279.55,198.898 2279.55,95.2176 1983.1,95.2176 1983.1,198.898 \n",
       "  \"/>\n",
       "<polyline clip-path=\"url(#clip940)\" style=\"stroke:#009af9; stroke-linecap:butt; stroke-linejoin:round; stroke-width:4; stroke-opacity:1; fill:none\" points=\"\n",
       "  2007.5,147.058 2153.92,147.058 \n",
       "  \"/>\n",
       "<path clip-path=\"url(#clip940)\" d=\"M2192.16 166.745 Q2190.35 171.375 2188.64 172.787 Q2186.93 174.199 2184.06 174.199 L2180.65 174.199 L2180.65 170.634 L2183.15 170.634 Q2184.91 170.634 2185.89 169.8 Q2186.86 168.967 2188.04 165.865 L2188.8 163.921 L2178.32 138.412 L2182.83 138.412 L2190.93 158.689 L2199.03 138.412 L2203.55 138.412 L2192.16 166.745 Z\" fill=\"#000000\" fill-rule=\"evenodd\" fill-opacity=\"1\" /><path clip-path=\"url(#clip940)\" d=\"M2210.84 160.402 L2218.48 160.402 L2218.48 134.037 L2210.17 135.703 L2210.17 131.444 L2218.43 129.778 L2223.11 129.778 L2223.11 160.402 L2230.75 160.402 L2230.75 164.338 L2210.84 164.338 L2210.84 160.402 Z\" fill=\"#000000\" fill-rule=\"evenodd\" fill-opacity=\"1\" /></svg>\n"
      ]
     },
     "execution_count": 116,
     "metadata": {},
     "output_type": "execute_result"
    }
   ],
   "source": [
    "plot(sol.zero)"
   ]
  }
 ],
 "metadata": {
  "celltoolbar": "Slideshow",
  "kernelspec": {
   "display_name": "Julia 1.6.2",
   "language": "julia",
   "name": "julia-1.6"
  },
  "language_info": {
   "file_extension": ".jl",
   "mimetype": "application/julia",
   "name": "julia",
   "version": "1.6.3"
  },
  "rise": {
   "enable_chalkboard": true
  }
 },
 "nbformat": 4,
 "nbformat_minor": 5
}
