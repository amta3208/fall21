{
 "cells": [
  {
   "cell_type": "markdown",
   "id": "3dba1684",
   "metadata": {
    "cell_style": "center",
    "slideshow": {
     "slide_type": "slide"
    }
   },
   "source": [
    "# 2021-11-10 Finite elements\n",
    "\n",
    "## Last time\n",
    "\n",
    "* Stable numerics\n",
    "* Galerkin optimality\n",
    "* Boundary conditions\n",
    "* Properties of Galerkin methods\n",
    "\n",
    "## Today\n",
    "\n",
    "* Element restriction\n",
    "* Finite element assembly\n",
    "* Nonlinear problems\n",
    "* LibCEED"
   ]
  },
  {
   "cell_type": "code",
   "execution_count": 117,
   "id": "a4a0cd41",
   "metadata": {
    "slideshow": {
     "slide_type": "skip"
    }
   },
   "outputs": [
    {
     "data": {
      "text/plain": [
       "febasis (generic function with 1 method)"
      ]
     },
     "execution_count": 117,
     "metadata": {},
     "output_type": "execute_result"
    }
   ],
   "source": [
    "using Plots\n",
    "using LinearAlgebra\n",
    "using SparseArrays\n",
    "using FastGaussQuadrature\n",
    "\n",
    "default(linewidth=4)\n",
    "\n",
    "function my_spy(A)\n",
    "    cmax = norm(vec(A), Inf)\n",
    "    s = max(1, ceil(120 / size(A, 1)))\n",
    "    spy(A, marker=(:square, s), c=:diverging_rainbow_bgymr_45_85_c67_n256, clims=(-cmax, cmax))\n",
    "end\n",
    "\n",
    "function vander_legendre_deriv(x, k=nothing)\n",
    "    if isnothing(k)\n",
    "        k = length(x) # Square by default\n",
    "    end\n",
    "    m = length(x)\n",
    "    Q = ones(m, k)\n",
    "    dQ = zeros(m, k)\n",
    "    Q[:, 2] = x\n",
    "    dQ[:, 2] .= 1\n",
    "    for n in 1:k-2\n",
    "        Q[:, n+2] = ((2*n + 1) * x .* Q[:, n+1] - n * Q[:, n]) / (n + 1)\n",
    "        dQ[:, n+2] = (2*n + 1) * Q[:,n+1] + dQ[:,n]\n",
    "    end\n",
    "    Q, dQ\n",
    "end\n",
    "\n",
    "function febasis(P, Q)\n",
    "    x, _ = gausslobatto(P)\n",
    "    q, w = gausslegendre(Q)\n",
    "    Pk, _ = vander_legendre_deriv(x)\n",
    "    Bp, Dp = vander_legendre_deriv(q, P)\n",
    "    B = Bp / Pk\n",
    "    D = Dp / Pk\n",
    "    x, q, w, B, D\n",
    "end"
   ]
  },
  {
   "cell_type": "markdown",
   "id": "4e012df5",
   "metadata": {
    "slideshow": {
     "slide_type": "slide"
    }
   },
   "source": [
    "![](../img/libCEED-2-trim.svg)"
   ]
  },
  {
   "cell_type": "markdown",
   "id": "8061be0c",
   "metadata": {
    "cell_style": "center",
    "slideshow": {
     "slide_type": "slide"
    }
   },
   "source": [
    "# General form\n",
    "$$ \\int_\\Omega v\\cdot f_0(u, \\nabla u) + \\nabla v\\cdot f_1(u, \\nabla u) = 0, \\quad \\forall v$$\n",
    "we discretize as\n",
    "$$ \\sum_e \\mathcal E_e^T \\Big( B^T W \\left\\lvert \\frac{\\partial x}{\\partial X} \\right\\rvert f_0(\\tilde u, \\nabla \\tilde u) + D^T \\left(\\frac{\\partial X}{\\partial x}\\right)^{T} W \\left\\lvert \\frac{\\partial x}{\\partial X} \\right\\rvert f_1(\\tilde u, \\nabla\\tilde u) \\Big) = 0 $$\n",
    "where $\\tilde u = B \\mathcal E_e u$ and $\\nabla \\tilde u = \\frac{\\partial X}{\\partial x} D \\mathcal E_e u$ are the values and gradients evaluated at quadrature points."
   ]
  },
  {
   "cell_type": "markdown",
   "id": "a04a2180",
   "metadata": {
    "cell_style": "split"
   },
   "source": [
    "## Isoparametric mapping\n",
    "\n",
    "Given the reference coordinates $X \\in \\hat K \\subset R^n$ and physical coordinates $x(X)$, an integral on the physical element can be written\n",
    "$$ \\int_{K = x(\\hat K)} f(x) dx = \\int_{\\hat K} \\underbrace{\\left\\lvert \\frac{\\partial x}{\\partial X} \\right\\rvert}_{\\text{determinant}} f(x(X)) dX .$$"
   ]
  },
  {
   "cell_type": "markdown",
   "id": "f81921c7",
   "metadata": {
    "slideshow": {
     "slide_type": "skip"
    }
   },
   "source": [
    "| Notation | Meaning |\n",
    "|---------|:-------------:|\n",
    "| $x$ | physical coordinates |\n",
    "| $X$ | reference coordinates |\n",
    "| $\\mathcal E_e$ | restriction from global vector to element $e$ |\n",
    "| $B$ | values of nodal basis functions at quadrature ponits on reference element |\n",
    "| $D$ | gradients of nodal basis functions at quadrature points on reference element|\n",
    "| $W$ | diagonal matrix of quadrature weights on reference element |\n",
    "| $\\frac{\\partial x}{\\partial X} = D \\mathcal E_e x $ | gradient of physical coordinates with respect to reference coordinates |\n",
    "| $\\left\\lvert \\frac{\\partial x}{\\partial X}\\right\\rvert$ | determinant of coordinate transformation at each quadrature point |\n",
    "| $\\frac{\\partial X}{\\partial x} = \\left(\\frac{\\partial x}{\\partial X}\\right)^{-1}$ | derivative of reference coordinates with respect to physical coordinates |"
   ]
  },
  {
   "cell_type": "markdown",
   "id": "a140a545",
   "metadata": {
    "slideshow": {
     "slide_type": "slide"
    }
   },
   "source": [
    "# Finite element mesh and restriction"
   ]
  },
  {
   "cell_type": "code",
   "execution_count": 118,
   "id": "109306ab",
   "metadata": {
    "cell_style": "split"
   },
   "outputs": [
    {
     "data": {
      "text/plain": [
       "12×10 SparseMatrixCSC{Float64, Int64} with 12 stored entries:\n",
       " 1.0   ⋅    ⋅    ⋅    ⋅    ⋅    ⋅    ⋅    ⋅    ⋅ \n",
       "  ⋅   1.0   ⋅    ⋅    ⋅    ⋅    ⋅    ⋅    ⋅    ⋅ \n",
       "  ⋅    ⋅   1.0   ⋅    ⋅    ⋅    ⋅    ⋅    ⋅    ⋅ \n",
       "  ⋅    ⋅    ⋅   1.0   ⋅    ⋅    ⋅    ⋅    ⋅    ⋅ \n",
       "  ⋅    ⋅    ⋅   1.0   ⋅    ⋅    ⋅    ⋅    ⋅    ⋅ \n",
       "  ⋅    ⋅    ⋅    ⋅   1.0   ⋅    ⋅    ⋅    ⋅    ⋅ \n",
       "  ⋅    ⋅    ⋅    ⋅    ⋅   1.0   ⋅    ⋅    ⋅    ⋅ \n",
       "  ⋅    ⋅    ⋅    ⋅    ⋅    ⋅   1.0   ⋅    ⋅    ⋅ \n",
       "  ⋅    ⋅    ⋅    ⋅    ⋅    ⋅   1.0   ⋅    ⋅    ⋅ \n",
       "  ⋅    ⋅    ⋅    ⋅    ⋅    ⋅    ⋅   1.0   ⋅    ⋅ \n",
       "  ⋅    ⋅    ⋅    ⋅    ⋅    ⋅    ⋅    ⋅   1.0   ⋅ \n",
       "  ⋅    ⋅    ⋅    ⋅    ⋅    ⋅    ⋅    ⋅    ⋅   1.0"
      ]
     },
     "execution_count": 118,
     "metadata": {},
     "output_type": "execute_result"
    }
   ],
   "source": [
    "function fe1_mesh(P, nelem)\n",
    "    x = LinRange(-1, 1, nelem+1)\n",
    "    rows = Int[]\n",
    "    cols = Int[]\n",
    "    for i in 1:nelem\n",
    "        append!(rows, (i-1)*P+1:i*P)\n",
    "        append!(cols, (i-1)*(P-1)+1:i*(P-1)+1)\n",
    "    end\n",
    "    x, sparse(cols, rows, ones(nelem*P))'\n",
    "end\n",
    "P, nelem = 4, 3\n",
    "x, E = fe1_mesh(P, nelem)\n",
    "sparse(E)"
   ]
  },
  {
   "cell_type": "code",
   "execution_count": 121,
   "id": "9c5ffff5",
   "metadata": {
    "cell_style": "split"
   },
   "outputs": [
    {
     "data": {
      "image/svg+xml": [
       "<?xml version=\"1.0\" encoding=\"utf-8\"?>\n",
       "<svg xmlns=\"http://www.w3.org/2000/svg\" xmlns:xlink=\"http://www.w3.org/1999/xlink\" width=\"600\" height=\"400\" viewBox=\"0 0 2400 1600\">\n",
       "<defs>\n",
       "  <clipPath id=\"clip060\">\n",
       "    <rect x=\"0\" y=\"0\" width=\"2400\" height=\"1600\"/>\n",
       "  </clipPath>\n",
       "</defs>\n",
       "<path clip-path=\"url(#clip060)\" d=\"\n",
       "M0 1600 L2400 1600 L2400 0 L0 0  Z\n",
       "  \" fill=\"#ffffff\" fill-rule=\"evenodd\" fill-opacity=\"1\"/>\n",
       "<defs>\n",
       "  <clipPath id=\"clip061\">\n",
       "    <rect x=\"480\" y=\"0\" width=\"1681\" height=\"1600\"/>\n",
       "  </clipPath>\n",
       "</defs>\n",
       "<path clip-path=\"url(#clip060)\" d=\"\n",
       "M186.274 1486.45 L2352.76 1486.45 L2352.76 47.2441 L186.274 47.2441  Z\n",
       "  \" fill=\"#ffffff\" fill-rule=\"evenodd\" fill-opacity=\"1\"/>\n",
       "<defs>\n",
       "  <clipPath id=\"clip062\">\n",
       "    <rect x=\"186\" y=\"47\" width=\"2167\" height=\"1440\"/>\n",
       "  </clipPath>\n",
       "</defs>\n",
       "<polyline clip-path=\"url(#clip062)\" style=\"stroke:#000000; stroke-linecap:butt; stroke-linejoin:round; stroke-width:2; stroke-opacity:0.1; fill:none\" points=\"\n",
       "  247.59,1486.45 247.59,47.2441 \n",
       "  \"/>\n",
       "<polyline clip-path=\"url(#clip062)\" style=\"stroke:#000000; stroke-linecap:butt; stroke-linejoin:round; stroke-width:2; stroke-opacity:0.1; fill:none\" points=\"\n",
       "  758.552,1486.45 758.552,47.2441 \n",
       "  \"/>\n",
       "<polyline clip-path=\"url(#clip062)\" style=\"stroke:#000000; stroke-linecap:butt; stroke-linejoin:round; stroke-width:2; stroke-opacity:0.1; fill:none\" points=\"\n",
       "  1269.51,1486.45 1269.51,47.2441 \n",
       "  \"/>\n",
       "<polyline clip-path=\"url(#clip062)\" style=\"stroke:#000000; stroke-linecap:butt; stroke-linejoin:round; stroke-width:2; stroke-opacity:0.1; fill:none\" points=\"\n",
       "  1780.48,1486.45 1780.48,47.2441 \n",
       "  \"/>\n",
       "<polyline clip-path=\"url(#clip062)\" style=\"stroke:#000000; stroke-linecap:butt; stroke-linejoin:round; stroke-width:2; stroke-opacity:0.1; fill:none\" points=\"\n",
       "  2291.44,1486.45 2291.44,47.2441 \n",
       "  \"/>\n",
       "<polyline clip-path=\"url(#clip060)\" style=\"stroke:#000000; stroke-linecap:butt; stroke-linejoin:round; stroke-width:4; stroke-opacity:1; fill:none\" points=\"\n",
       "  186.274,1486.45 2352.76,1486.45 \n",
       "  \"/>\n",
       "<polyline clip-path=\"url(#clip060)\" style=\"stroke:#000000; stroke-linecap:butt; stroke-linejoin:round; stroke-width:4; stroke-opacity:1; fill:none\" points=\"\n",
       "  247.59,1486.45 247.59,1467.55 \n",
       "  \"/>\n",
       "<polyline clip-path=\"url(#clip060)\" style=\"stroke:#000000; stroke-linecap:butt; stroke-linejoin:round; stroke-width:4; stroke-opacity:1; fill:none\" points=\"\n",
       "  758.552,1486.45 758.552,1467.55 \n",
       "  \"/>\n",
       "<polyline clip-path=\"url(#clip060)\" style=\"stroke:#000000; stroke-linecap:butt; stroke-linejoin:round; stroke-width:4; stroke-opacity:1; fill:none\" points=\"\n",
       "  1269.51,1486.45 1269.51,1467.55 \n",
       "  \"/>\n",
       "<polyline clip-path=\"url(#clip060)\" style=\"stroke:#000000; stroke-linecap:butt; stroke-linejoin:round; stroke-width:4; stroke-opacity:1; fill:none\" points=\"\n",
       "  1780.48,1486.45 1780.48,1467.55 \n",
       "  \"/>\n",
       "<polyline clip-path=\"url(#clip060)\" style=\"stroke:#000000; stroke-linecap:butt; stroke-linejoin:round; stroke-width:4; stroke-opacity:1; fill:none\" points=\"\n",
       "  2291.44,1486.45 2291.44,1467.55 \n",
       "  \"/>\n",
       "<path clip-path=\"url(#clip060)\" d=\"M194.118 1532.02 L223.793 1532.02 L223.793 1535.95 L194.118 1535.95 L194.118 1532.02 Z\" fill=\"#000000\" fill-rule=\"evenodd\" fill-opacity=\"1\" /><path clip-path=\"url(#clip060)\" d=\"M234.696 1544.91 L242.335 1544.91 L242.335 1518.55 L234.025 1520.21 L234.025 1515.95 L242.289 1514.29 L246.965 1514.29 L246.965 1544.91 L254.603 1544.91 L254.603 1548.85 L234.696 1548.85 L234.696 1544.91 Z\" fill=\"#000000\" fill-rule=\"evenodd\" fill-opacity=\"1\" /><path clip-path=\"url(#clip060)\" d=\"M264.048 1542.97 L268.932 1542.97 L268.932 1548.85 L264.048 1548.85 L264.048 1542.97 Z\" fill=\"#000000\" fill-rule=\"evenodd\" fill-opacity=\"1\" /><path clip-path=\"url(#clip060)\" d=\"M289.117 1517.37 Q285.506 1517.37 283.677 1520.93 Q281.872 1524.47 281.872 1531.6 Q281.872 1538.71 283.677 1542.27 Q285.506 1545.82 289.117 1545.82 Q292.751 1545.82 294.557 1542.27 Q296.386 1538.71 296.386 1531.6 Q296.386 1524.47 294.557 1520.93 Q292.751 1517.37 289.117 1517.37 M289.117 1513.66 Q294.927 1513.66 297.983 1518.27 Q301.061 1522.85 301.061 1531.6 Q301.061 1540.33 297.983 1544.94 Q294.927 1549.52 289.117 1549.52 Q283.307 1549.52 280.228 1544.94 Q277.173 1540.33 277.173 1531.6 Q277.173 1522.85 280.228 1518.27 Q283.307 1513.66 289.117 1513.66 Z\" fill=\"#000000\" fill-rule=\"evenodd\" fill-opacity=\"1\" /><path clip-path=\"url(#clip060)\" d=\"M705.578 1532.02 L735.254 1532.02 L735.254 1535.95 L705.578 1535.95 L705.578 1532.02 Z\" fill=\"#000000\" fill-rule=\"evenodd\" fill-opacity=\"1\" /><path clip-path=\"url(#clip060)\" d=\"M755.346 1517.37 Q751.735 1517.37 749.906 1520.93 Q748.101 1524.47 748.101 1531.6 Q748.101 1538.71 749.906 1542.27 Q751.735 1545.82 755.346 1545.82 Q758.98 1545.82 760.786 1542.27 Q762.615 1538.71 762.615 1531.6 Q762.615 1524.47 760.786 1520.93 Q758.98 1517.37 755.346 1517.37 M755.346 1513.66 Q761.156 1513.66 764.212 1518.27 Q767.291 1522.85 767.291 1531.6 Q767.291 1540.33 764.212 1544.94 Q761.156 1549.52 755.346 1549.52 Q749.536 1549.52 746.457 1544.94 Q743.402 1540.33 743.402 1531.6 Q743.402 1522.85 746.457 1518.27 Q749.536 1513.66 755.346 1513.66 Z\" fill=\"#000000\" fill-rule=\"evenodd\" fill-opacity=\"1\" /><path clip-path=\"url(#clip060)\" d=\"M775.508 1542.97 L780.392 1542.97 L780.392 1548.85 L775.508 1548.85 L775.508 1542.97 Z\" fill=\"#000000\" fill-rule=\"evenodd\" fill-opacity=\"1\" /><path clip-path=\"url(#clip060)\" d=\"M790.624 1514.29 L808.98 1514.29 L808.98 1518.22 L794.906 1518.22 L794.906 1526.7 Q795.925 1526.35 796.943 1526.19 Q797.962 1526 798.98 1526 Q804.767 1526 808.147 1529.17 Q811.526 1532.34 811.526 1537.76 Q811.526 1543.34 808.054 1546.44 Q804.582 1549.52 798.263 1549.52 Q796.087 1549.52 793.818 1549.15 Q791.573 1548.78 789.166 1548.04 L789.166 1543.34 Q791.249 1544.47 793.471 1545.03 Q795.693 1545.58 798.17 1545.58 Q802.175 1545.58 804.513 1543.48 Q806.851 1541.37 806.851 1537.76 Q806.851 1534.15 804.513 1532.04 Q802.175 1529.94 798.17 1529.94 Q796.295 1529.94 794.42 1530.35 Q792.568 1530.77 790.624 1531.65 L790.624 1514.29 Z\" fill=\"#000000\" fill-rule=\"evenodd\" fill-opacity=\"1\" /><path clip-path=\"url(#clip060)\" d=\"M1246.9 1517.37 Q1243.29 1517.37 1241.46 1520.93 Q1239.65 1524.47 1239.65 1531.6 Q1239.65 1538.71 1241.46 1542.27 Q1243.29 1545.82 1246.9 1545.82 Q1250.53 1545.82 1252.34 1542.27 Q1254.17 1538.71 1254.17 1531.6 Q1254.17 1524.47 1252.34 1520.93 Q1250.53 1517.37 1246.9 1517.37 M1246.9 1513.66 Q1252.71 1513.66 1255.77 1518.27 Q1258.84 1522.85 1258.84 1531.6 Q1258.84 1540.33 1255.77 1544.94 Q1252.71 1549.52 1246.9 1549.52 Q1241.09 1549.52 1238.01 1544.94 Q1234.95 1540.33 1234.95 1531.6 Q1234.95 1522.85 1238.01 1518.27 Q1241.09 1513.66 1246.9 1513.66 Z\" fill=\"#000000\" fill-rule=\"evenodd\" fill-opacity=\"1\" /><path clip-path=\"url(#clip060)\" d=\"M1267.06 1542.97 L1271.95 1542.97 L1271.95 1548.85 L1267.06 1548.85 L1267.06 1542.97 Z\" fill=\"#000000\" fill-rule=\"evenodd\" fill-opacity=\"1\" /><path clip-path=\"url(#clip060)\" d=\"M1292.13 1517.37 Q1288.52 1517.37 1286.69 1520.93 Q1284.89 1524.47 1284.89 1531.6 Q1284.89 1538.71 1286.69 1542.27 Q1288.52 1545.82 1292.13 1545.82 Q1295.76 1545.82 1297.57 1542.27 Q1299.4 1538.71 1299.4 1531.6 Q1299.4 1524.47 1297.57 1520.93 Q1295.76 1517.37 1292.13 1517.37 M1292.13 1513.66 Q1297.94 1513.66 1301 1518.27 Q1304.07 1522.85 1304.07 1531.6 Q1304.07 1540.33 1301 1544.94 Q1297.94 1549.52 1292.13 1549.52 Q1286.32 1549.52 1283.24 1544.94 Q1280.19 1540.33 1280.19 1531.6 Q1280.19 1522.85 1283.24 1518.27 Q1286.32 1513.66 1292.13 1513.66 Z\" fill=\"#000000\" fill-rule=\"evenodd\" fill-opacity=\"1\" /><path clip-path=\"url(#clip060)\" d=\"M1758.36 1517.37 Q1754.75 1517.37 1752.92 1520.93 Q1751.11 1524.47 1751.11 1531.6 Q1751.11 1538.71 1752.92 1542.27 Q1754.75 1545.82 1758.36 1545.82 Q1761.99 1545.82 1763.8 1542.27 Q1765.63 1538.71 1765.63 1531.6 Q1765.63 1524.47 1763.8 1520.93 Q1761.99 1517.37 1758.36 1517.37 M1758.36 1513.66 Q1764.17 1513.66 1767.23 1518.27 Q1770.3 1522.85 1770.3 1531.6 Q1770.3 1540.33 1767.23 1544.94 Q1764.17 1549.52 1758.36 1549.52 Q1752.55 1549.52 1749.47 1544.94 Q1746.42 1540.33 1746.42 1531.6 Q1746.42 1522.85 1749.47 1518.27 Q1752.55 1513.66 1758.36 1513.66 Z\" fill=\"#000000\" fill-rule=\"evenodd\" fill-opacity=\"1\" /><path clip-path=\"url(#clip060)\" d=\"M1778.52 1542.97 L1783.41 1542.97 L1783.41 1548.85 L1778.52 1548.85 L1778.52 1542.97 Z\" fill=\"#000000\" fill-rule=\"evenodd\" fill-opacity=\"1\" /><path clip-path=\"url(#clip060)\" d=\"M1793.64 1514.29 L1811.99 1514.29 L1811.99 1518.22 L1797.92 1518.22 L1797.92 1526.7 Q1798.94 1526.35 1799.96 1526.19 Q1800.98 1526 1801.99 1526 Q1807.78 1526 1811.16 1529.17 Q1814.54 1532.34 1814.54 1537.76 Q1814.54 1543.34 1811.07 1546.44 Q1807.6 1549.52 1801.28 1549.52 Q1799.1 1549.52 1796.83 1549.15 Q1794.59 1548.78 1792.18 1548.04 L1792.18 1543.34 Q1794.26 1544.47 1796.48 1545.03 Q1798.71 1545.58 1801.18 1545.58 Q1805.19 1545.58 1807.53 1543.48 Q1809.86 1541.37 1809.86 1537.76 Q1809.86 1534.15 1807.53 1532.04 Q1805.19 1529.94 1801.18 1529.94 Q1799.31 1529.94 1797.43 1530.35 Q1795.58 1530.77 1793.64 1531.65 L1793.64 1514.29 Z\" fill=\"#000000\" fill-rule=\"evenodd\" fill-opacity=\"1\" /><path clip-path=\"url(#clip060)\" d=\"M2258.59 1544.91 L2266.23 1544.91 L2266.23 1518.55 L2257.92 1520.21 L2257.92 1515.95 L2266.19 1514.29 L2270.86 1514.29 L2270.86 1544.91 L2278.5 1544.91 L2278.5 1548.85 L2258.59 1548.85 L2258.59 1544.91 Z\" fill=\"#000000\" fill-rule=\"evenodd\" fill-opacity=\"1\" /><path clip-path=\"url(#clip060)\" d=\"M2287.95 1542.97 L2292.83 1542.97 L2292.83 1548.85 L2287.95 1548.85 L2287.95 1542.97 Z\" fill=\"#000000\" fill-rule=\"evenodd\" fill-opacity=\"1\" /><path clip-path=\"url(#clip060)\" d=\"M2313.01 1517.37 Q2309.4 1517.37 2307.57 1520.93 Q2305.77 1524.47 2305.77 1531.6 Q2305.77 1538.71 2307.57 1542.27 Q2309.4 1545.82 2313.01 1545.82 Q2316.65 1545.82 2318.45 1542.27 Q2320.28 1538.71 2320.28 1531.6 Q2320.28 1524.47 2318.45 1520.93 Q2316.65 1517.37 2313.01 1517.37 M2313.01 1513.66 Q2318.82 1513.66 2321.88 1518.27 Q2324.96 1522.85 2324.96 1531.6 Q2324.96 1540.33 2321.88 1544.94 Q2318.82 1549.52 2313.01 1549.52 Q2307.2 1549.52 2304.13 1544.94 Q2301.07 1540.33 2301.07 1531.6 Q2301.07 1522.85 2304.13 1518.27 Q2307.2 1513.66 2313.01 1513.66 Z\" fill=\"#000000\" fill-rule=\"evenodd\" fill-opacity=\"1\" /><polyline clip-path=\"url(#clip062)\" style=\"stroke:#000000; stroke-linecap:butt; stroke-linejoin:round; stroke-width:2; stroke-opacity:0.1; fill:none\" points=\"\n",
       "  186.274,1445.72 2352.76,1445.72 \n",
       "  \"/>\n",
       "<polyline clip-path=\"url(#clip062)\" style=\"stroke:#000000; stroke-linecap:butt; stroke-linejoin:round; stroke-width:2; stroke-opacity:0.1; fill:none\" points=\"\n",
       "  186.274,1106.28 2352.76,1106.28 \n",
       "  \"/>\n",
       "<polyline clip-path=\"url(#clip062)\" style=\"stroke:#000000; stroke-linecap:butt; stroke-linejoin:round; stroke-width:2; stroke-opacity:0.1; fill:none\" points=\"\n",
       "  186.274,766.846 2352.76,766.846 \n",
       "  \"/>\n",
       "<polyline clip-path=\"url(#clip062)\" style=\"stroke:#000000; stroke-linecap:butt; stroke-linejoin:round; stroke-width:2; stroke-opacity:0.1; fill:none\" points=\"\n",
       "  186.274,427.411 2352.76,427.411 \n",
       "  \"/>\n",
       "<polyline clip-path=\"url(#clip062)\" style=\"stroke:#000000; stroke-linecap:butt; stroke-linejoin:round; stroke-width:2; stroke-opacity:0.1; fill:none\" points=\"\n",
       "  186.274,87.9763 2352.76,87.9763 \n",
       "  \"/>\n",
       "<polyline clip-path=\"url(#clip060)\" style=\"stroke:#000000; stroke-linecap:butt; stroke-linejoin:round; stroke-width:4; stroke-opacity:1; fill:none\" points=\"\n",
       "  186.274,1486.45 186.274,47.2441 \n",
       "  \"/>\n",
       "<polyline clip-path=\"url(#clip060)\" style=\"stroke:#000000; stroke-linecap:butt; stroke-linejoin:round; stroke-width:4; stroke-opacity:1; fill:none\" points=\"\n",
       "  186.274,1445.72 205.172,1445.72 \n",
       "  \"/>\n",
       "<polyline clip-path=\"url(#clip060)\" style=\"stroke:#000000; stroke-linecap:butt; stroke-linejoin:round; stroke-width:4; stroke-opacity:1; fill:none\" points=\"\n",
       "  186.274,1106.28 205.172,1106.28 \n",
       "  \"/>\n",
       "<polyline clip-path=\"url(#clip060)\" style=\"stroke:#000000; stroke-linecap:butt; stroke-linejoin:round; stroke-width:4; stroke-opacity:1; fill:none\" points=\"\n",
       "  186.274,766.846 205.172,766.846 \n",
       "  \"/>\n",
       "<polyline clip-path=\"url(#clip060)\" style=\"stroke:#000000; stroke-linecap:butt; stroke-linejoin:round; stroke-width:4; stroke-opacity:1; fill:none\" points=\"\n",
       "  186.274,427.411 205.172,427.411 \n",
       "  \"/>\n",
       "<polyline clip-path=\"url(#clip060)\" style=\"stroke:#000000; stroke-linecap:butt; stroke-linejoin:round; stroke-width:4; stroke-opacity:1; fill:none\" points=\"\n",
       "  186.274,87.9763 205.172,87.9763 \n",
       "  \"/>\n",
       "<path clip-path=\"url(#clip060)\" d=\"M62.9365 1431.51 Q59.3254 1431.51 57.4967 1435.08 Q55.6912 1438.62 55.6912 1445.75 Q55.6912 1452.86 57.4967 1456.42 Q59.3254 1459.96 62.9365 1459.96 Q66.5707 1459.96 68.3763 1456.42 Q70.205 1452.86 70.205 1445.75 Q70.205 1438.62 68.3763 1435.08 Q66.5707 1431.51 62.9365 1431.51 M62.9365 1427.81 Q68.7467 1427.81 71.8022 1432.42 Q74.8809 1437 74.8809 1445.75 Q74.8809 1454.48 71.8022 1459.08 Q68.7467 1463.67 62.9365 1463.67 Q57.1264 1463.67 54.0477 1459.08 Q50.9921 1454.48 50.9921 1445.75 Q50.9921 1437 54.0477 1432.42 Q57.1264 1427.81 62.9365 1427.81 Z\" fill=\"#000000\" fill-rule=\"evenodd\" fill-opacity=\"1\" /><path clip-path=\"url(#clip060)\" d=\"M83.0984 1457.12 L87.9827 1457.12 L87.9827 1463 L83.0984 1463 L83.0984 1457.12 Z\" fill=\"#000000\" fill-rule=\"evenodd\" fill-opacity=\"1\" /><path clip-path=\"url(#clip060)\" d=\"M108.168 1431.51 Q104.557 1431.51 102.728 1435.08 Q100.922 1438.62 100.922 1445.75 Q100.922 1452.86 102.728 1456.42 Q104.557 1459.96 108.168 1459.96 Q111.802 1459.96 113.608 1456.42 Q115.436 1452.86 115.436 1445.75 Q115.436 1438.62 113.608 1435.08 Q111.802 1431.51 108.168 1431.51 M108.168 1427.81 Q113.978 1427.81 117.033 1432.42 Q120.112 1437 120.112 1445.75 Q120.112 1454.48 117.033 1459.08 Q113.978 1463.67 108.168 1463.67 Q102.358 1463.67 99.2789 1459.08 Q96.2234 1454.48 96.2234 1445.75 Q96.2234 1437 99.2789 1432.42 Q102.358 1427.81 108.168 1427.81 Z\" fill=\"#000000\" fill-rule=\"evenodd\" fill-opacity=\"1\" /><path clip-path=\"url(#clip060)\" d=\"M138.33 1431.51 Q134.719 1431.51 132.89 1435.08 Q131.084 1438.62 131.084 1445.75 Q131.084 1452.86 132.89 1456.42 Q134.719 1459.96 138.33 1459.96 Q141.964 1459.96 143.769 1456.42 Q145.598 1452.86 145.598 1445.75 Q145.598 1438.62 143.769 1435.08 Q141.964 1431.51 138.33 1431.51 M138.33 1427.81 Q144.14 1427.81 147.195 1432.42 Q150.274 1437 150.274 1445.75 Q150.274 1454.48 147.195 1459.08 Q144.14 1463.67 138.33 1463.67 Q132.519 1463.67 129.441 1459.08 Q126.385 1454.48 126.385 1445.75 Q126.385 1437 129.441 1432.42 Q132.519 1427.81 138.33 1427.81 Z\" fill=\"#000000\" fill-rule=\"evenodd\" fill-opacity=\"1\" /><path clip-path=\"url(#clip060)\" d=\"M63.9319 1092.08 Q60.3208 1092.08 58.4921 1095.64 Q56.6865 1099.19 56.6865 1106.32 Q56.6865 1113.42 58.4921 1116.99 Q60.3208 1120.53 63.9319 1120.53 Q67.5661 1120.53 69.3717 1116.99 Q71.2004 1113.42 71.2004 1106.32 Q71.2004 1099.19 69.3717 1095.64 Q67.5661 1092.08 63.9319 1092.08 M63.9319 1088.38 Q69.742 1088.38 72.7976 1092.98 Q75.8763 1097.57 75.8763 1106.32 Q75.8763 1115.04 72.7976 1119.65 Q69.742 1124.23 63.9319 1124.23 Q58.1217 1124.23 55.043 1119.65 Q51.9875 1115.04 51.9875 1106.32 Q51.9875 1097.57 55.043 1092.98 Q58.1217 1088.38 63.9319 1088.38 Z\" fill=\"#000000\" fill-rule=\"evenodd\" fill-opacity=\"1\" /><path clip-path=\"url(#clip060)\" d=\"M84.0938 1117.68 L88.978 1117.68 L88.978 1123.56 L84.0938 1123.56 L84.0938 1117.68 Z\" fill=\"#000000\" fill-rule=\"evenodd\" fill-opacity=\"1\" /><path clip-path=\"url(#clip060)\" d=\"M103.191 1119.63 L119.51 1119.63 L119.51 1123.56 L97.566 1123.56 L97.566 1119.63 Q100.228 1116.87 104.811 1112.24 Q109.418 1107.59 110.598 1106.25 Q112.844 1103.72 113.723 1101.99 Q114.626 1100.23 114.626 1098.54 Q114.626 1095.78 112.682 1094.05 Q110.76 1092.31 107.658 1092.31 Q105.459 1092.31 103.006 1093.07 Q100.575 1093.84 97.7974 1095.39 L97.7974 1090.67 Q100.621 1089.53 103.075 1088.95 Q105.529 1088.38 107.566 1088.38 Q112.936 1088.38 116.131 1091.06 Q119.325 1093.75 119.325 1098.24 Q119.325 1100.37 118.515 1102.29 Q117.728 1104.19 115.621 1106.78 Q115.043 1107.45 111.941 1110.67 Q108.839 1113.86 103.191 1119.63 Z\" fill=\"#000000\" fill-rule=\"evenodd\" fill-opacity=\"1\" /><path clip-path=\"url(#clip060)\" d=\"M129.371 1089 L147.728 1089 L147.728 1092.94 L133.654 1092.94 L133.654 1101.41 Q134.672 1101.06 135.691 1100.9 Q136.709 1100.71 137.728 1100.71 Q143.515 1100.71 146.894 1103.89 Q150.274 1107.06 150.274 1112.47 Q150.274 1118.05 146.802 1121.15 Q143.33 1124.23 137.01 1124.23 Q134.834 1124.23 132.566 1123.86 Q130.32 1123.49 127.913 1122.75 L127.913 1118.05 Q129.996 1119.19 132.219 1119.74 Q134.441 1120.3 136.918 1120.3 Q140.922 1120.3 143.26 1118.19 Q145.598 1116.08 145.598 1112.47 Q145.598 1108.86 143.26 1106.76 Q140.922 1104.65 136.918 1104.65 Q135.043 1104.65 133.168 1105.07 Q131.316 1105.48 129.371 1106.36 L129.371 1089 Z\" fill=\"#000000\" fill-rule=\"evenodd\" fill-opacity=\"1\" /><path clip-path=\"url(#clip060)\" d=\"M62.9365 752.645 Q59.3254 752.645 57.4967 756.209 Q55.6912 759.751 55.6912 766.881 Q55.6912 773.987 57.4967 777.552 Q59.3254 781.094 62.9365 781.094 Q66.5707 781.094 68.3763 777.552 Q70.205 773.987 70.205 766.881 Q70.205 759.751 68.3763 756.209 Q66.5707 752.645 62.9365 752.645 M62.9365 748.941 Q68.7467 748.941 71.8022 753.547 Q74.8809 758.131 74.8809 766.881 Q74.8809 775.608 71.8022 780.214 Q68.7467 784.797 62.9365 784.797 Q57.1264 784.797 54.0477 780.214 Q50.9921 775.608 50.9921 766.881 Q50.9921 758.131 54.0477 753.547 Q57.1264 748.941 62.9365 748.941 Z\" fill=\"#000000\" fill-rule=\"evenodd\" fill-opacity=\"1\" /><path clip-path=\"url(#clip060)\" d=\"M83.0984 778.246 L87.9827 778.246 L87.9827 784.126 L83.0984 784.126 L83.0984 778.246 Z\" fill=\"#000000\" fill-rule=\"evenodd\" fill-opacity=\"1\" /><path clip-path=\"url(#clip060)\" d=\"M98.2141 749.566 L116.57 749.566 L116.57 753.501 L102.496 753.501 L102.496 761.973 Q103.515 761.626 104.534 761.464 Q105.552 761.279 106.571 761.279 Q112.358 761.279 115.737 764.45 Q119.117 767.621 119.117 773.038 Q119.117 778.617 115.645 781.719 Q112.172 784.797 105.853 784.797 Q103.677 784.797 101.409 784.427 Q99.1632 784.057 96.7558 783.316 L96.7558 778.617 Q98.8391 779.751 101.061 780.307 Q103.284 780.862 105.76 780.862 Q109.765 780.862 112.103 778.756 Q114.441 776.649 114.441 773.038 Q114.441 769.427 112.103 767.321 Q109.765 765.214 105.76 765.214 Q103.885 765.214 102.01 765.631 Q100.159 766.047 98.2141 766.927 L98.2141 749.566 Z\" fill=\"#000000\" fill-rule=\"evenodd\" fill-opacity=\"1\" /><path clip-path=\"url(#clip060)\" d=\"M138.33 752.645 Q134.719 752.645 132.89 756.209 Q131.084 759.751 131.084 766.881 Q131.084 773.987 132.89 777.552 Q134.719 781.094 138.33 781.094 Q141.964 781.094 143.769 777.552 Q145.598 773.987 145.598 766.881 Q145.598 759.751 143.769 756.209 Q141.964 752.645 138.33 752.645 M138.33 748.941 Q144.14 748.941 147.195 753.547 Q150.274 758.131 150.274 766.881 Q150.274 775.608 147.195 780.214 Q144.14 784.797 138.33 784.797 Q132.519 784.797 129.441 780.214 Q126.385 775.608 126.385 766.881 Q126.385 758.131 129.441 753.547 Q132.519 748.941 138.33 748.941 Z\" fill=\"#000000\" fill-rule=\"evenodd\" fill-opacity=\"1\" /><path clip-path=\"url(#clip060)\" d=\"M63.9319 413.21 Q60.3208 413.21 58.4921 416.775 Q56.6865 420.316 56.6865 427.446 Q56.6865 434.552 58.4921 438.117 Q60.3208 441.659 63.9319 441.659 Q67.5661 441.659 69.3717 438.117 Q71.2004 434.552 71.2004 427.446 Q71.2004 420.316 69.3717 416.775 Q67.5661 413.21 63.9319 413.21 M63.9319 409.506 Q69.742 409.506 72.7976 414.113 Q75.8763 418.696 75.8763 427.446 Q75.8763 436.173 72.7976 440.779 Q69.742 445.362 63.9319 445.362 Q58.1217 445.362 55.043 440.779 Q51.9875 436.173 51.9875 427.446 Q51.9875 418.696 55.043 414.113 Q58.1217 409.506 63.9319 409.506 Z\" fill=\"#000000\" fill-rule=\"evenodd\" fill-opacity=\"1\" /><path clip-path=\"url(#clip060)\" d=\"M84.0938 438.812 L88.978 438.812 L88.978 444.691 L84.0938 444.691 L84.0938 438.812 Z\" fill=\"#000000\" fill-rule=\"evenodd\" fill-opacity=\"1\" /><path clip-path=\"url(#clip060)\" d=\"M97.9826 410.131 L120.205 410.131 L120.205 412.122 L107.658 444.691 L102.774 444.691 L114.58 414.066 L97.9826 414.066 L97.9826 410.131 Z\" fill=\"#000000\" fill-rule=\"evenodd\" fill-opacity=\"1\" /><path clip-path=\"url(#clip060)\" d=\"M129.371 410.131 L147.728 410.131 L147.728 414.066 L133.654 414.066 L133.654 422.538 Q134.672 422.191 135.691 422.029 Q136.709 421.844 137.728 421.844 Q143.515 421.844 146.894 425.015 Q150.274 428.187 150.274 433.603 Q150.274 439.182 146.802 442.284 Q143.33 445.362 137.01 445.362 Q134.834 445.362 132.566 444.992 Q130.32 444.622 127.913 443.881 L127.913 439.182 Q129.996 440.316 132.219 440.872 Q134.441 441.427 136.918 441.427 Q140.922 441.427 143.26 439.321 Q145.598 437.214 145.598 433.603 Q145.598 429.992 143.26 427.886 Q140.922 425.779 136.918 425.779 Q135.043 425.779 133.168 426.196 Q131.316 426.613 129.371 427.492 L129.371 410.131 Z\" fill=\"#000000\" fill-rule=\"evenodd\" fill-opacity=\"1\" /><path clip-path=\"url(#clip060)\" d=\"M53.7467 101.321 L61.3856 101.321 L61.3856 74.9555 L53.0754 76.6222 L53.0754 72.3629 L61.3393 70.6963 L66.0152 70.6963 L66.0152 101.321 L73.654 101.321 L73.654 105.256 L53.7467 105.256 L53.7467 101.321 Z\" fill=\"#000000\" fill-rule=\"evenodd\" fill-opacity=\"1\" /><path clip-path=\"url(#clip060)\" d=\"M83.0984 99.3767 L87.9827 99.3767 L87.9827 105.256 L83.0984 105.256 L83.0984 99.3767 Z\" fill=\"#000000\" fill-rule=\"evenodd\" fill-opacity=\"1\" /><path clip-path=\"url(#clip060)\" d=\"M108.168 73.775 Q104.557 73.775 102.728 77.3398 Q100.922 80.8814 100.922 88.011 Q100.922 95.1174 102.728 98.6822 Q104.557 102.224 108.168 102.224 Q111.802 102.224 113.608 98.6822 Q115.436 95.1174 115.436 88.011 Q115.436 80.8814 113.608 77.3398 Q111.802 73.775 108.168 73.775 M108.168 70.0713 Q113.978 70.0713 117.033 74.6777 Q120.112 79.261 120.112 88.011 Q120.112 96.7378 117.033 101.344 Q113.978 105.928 108.168 105.928 Q102.358 105.928 99.2789 101.344 Q96.2234 96.7378 96.2234 88.011 Q96.2234 79.261 99.2789 74.6777 Q102.358 70.0713 108.168 70.0713 Z\" fill=\"#000000\" fill-rule=\"evenodd\" fill-opacity=\"1\" /><path clip-path=\"url(#clip060)\" d=\"M138.33 73.775 Q134.719 73.775 132.89 77.3398 Q131.084 80.8814 131.084 88.011 Q131.084 95.1174 132.89 98.6822 Q134.719 102.224 138.33 102.224 Q141.964 102.224 143.769 98.6822 Q145.598 95.1174 145.598 88.011 Q145.598 80.8814 143.769 77.3398 Q141.964 73.775 138.33 73.775 M138.33 70.0713 Q144.14 70.0713 147.195 74.6777 Q150.274 79.261 150.274 88.011 Q150.274 96.7378 147.195 101.344 Q144.14 105.928 138.33 105.928 Q132.519 105.928 129.441 101.344 Q126.385 96.7378 126.385 88.011 Q126.385 79.261 129.441 74.6777 Q132.519 70.0713 138.33 70.0713 Z\" fill=\"#000000\" fill-rule=\"evenodd\" fill-opacity=\"1\" /><circle clip-path=\"url(#clip062)\" cx=\"247.59\" cy=\"1445.72\" r=\"14\" fill=\"#009af9\" fill-rule=\"evenodd\" fill-opacity=\"1\" stroke=\"#000000\" stroke-opacity=\"1\" stroke-width=\"3.2\"/>\n",
       "<circle clip-path=\"url(#clip062)\" cx=\"435.892\" cy=\"1445.72\" r=\"14\" fill=\"#009af9\" fill-rule=\"evenodd\" fill-opacity=\"1\" stroke=\"#000000\" stroke-opacity=\"1\" stroke-width=\"3.2\"/>\n",
       "<circle clip-path=\"url(#clip062)\" cx=\"740.571\" cy=\"1445.72\" r=\"14\" fill=\"#009af9\" fill-rule=\"evenodd\" fill-opacity=\"1\" stroke=\"#000000\" stroke-opacity=\"1\" stroke-width=\"3.2\"/>\n",
       "<circle clip-path=\"url(#clip062)\" cx=\"928.873\" cy=\"1445.72\" r=\"14\" fill=\"#009af9\" fill-rule=\"evenodd\" fill-opacity=\"1\" stroke=\"#000000\" stroke-opacity=\"1\" stroke-width=\"3.2\"/>\n",
       "<circle clip-path=\"url(#clip062)\" cx=\"1117.18\" cy=\"1445.72\" r=\"14\" fill=\"#009af9\" fill-rule=\"evenodd\" fill-opacity=\"1\" stroke=\"#000000\" stroke-opacity=\"1\" stroke-width=\"3.2\"/>\n",
       "<circle clip-path=\"url(#clip062)\" cx=\"1421.85\" cy=\"1445.72\" r=\"14\" fill=\"#009af9\" fill-rule=\"evenodd\" fill-opacity=\"1\" stroke=\"#000000\" stroke-opacity=\"1\" stroke-width=\"3.2\"/>\n",
       "<circle clip-path=\"url(#clip062)\" cx=\"1610.16\" cy=\"1445.72\" r=\"14\" fill=\"#009af9\" fill-rule=\"evenodd\" fill-opacity=\"1\" stroke=\"#000000\" stroke-opacity=\"1\" stroke-width=\"3.2\"/>\n",
       "<circle clip-path=\"url(#clip062)\" cx=\"1798.46\" cy=\"1445.72\" r=\"14\" fill=\"#009af9\" fill-rule=\"evenodd\" fill-opacity=\"1\" stroke=\"#000000\" stroke-opacity=\"1\" stroke-width=\"3.2\"/>\n",
       "<circle clip-path=\"url(#clip062)\" cx=\"2103.14\" cy=\"1445.72\" r=\"14\" fill=\"#009af9\" fill-rule=\"evenodd\" fill-opacity=\"1\" stroke=\"#000000\" stroke-opacity=\"1\" stroke-width=\"3.2\"/>\n",
       "<circle clip-path=\"url(#clip062)\" cx=\"2291.44\" cy=\"1445.72\" r=\"14\" fill=\"#009af9\" fill-rule=\"evenodd\" fill-opacity=\"1\" stroke=\"#000000\" stroke-opacity=\"1\" stroke-width=\"3.2\"/>\n",
       "<path clip-path=\"url(#clip060)\" d=\"\n",
       "M1987.39 198.898 L2280.54 198.898 L2280.54 95.2176 L1987.39 95.2176  Z\n",
       "  \" fill=\"#ffffff\" fill-rule=\"evenodd\" fill-opacity=\"1\"/>\n",
       "<polyline clip-path=\"url(#clip060)\" style=\"stroke:#000000; stroke-linecap:butt; stroke-linejoin:round; stroke-width:4; stroke-opacity:1; fill:none\" points=\"\n",
       "  1987.39,198.898 2280.54,198.898 2280.54,95.2176 1987.39,95.2176 1987.39,198.898 \n",
       "  \"/>\n",
       "<circle clip-path=\"url(#clip060)\" cx=\"2083.68\" cy=\"147.058\" r=\"23\" fill=\"#009af9\" fill-rule=\"evenodd\" fill-opacity=\"1\" stroke=\"#000000\" stroke-opacity=\"1\" stroke-width=\"5.12\"/>\n",
       "<path clip-path=\"url(#clip060)\" d=\"M2193.81 166.745 Q2192 171.375 2190.29 172.787 Q2188.58 174.199 2185.71 174.199 L2182.3 174.199 L2182.3 170.634 L2184.8 170.634 Q2186.56 170.634 2187.53 169.8 Q2188.51 168.967 2189.69 165.865 L2190.45 163.921 L2179.97 138.412 L2184.48 138.412 L2192.58 158.689 L2200.68 138.412 L2205.2 138.412 L2193.81 166.745 Z\" fill=\"#000000\" fill-rule=\"evenodd\" fill-opacity=\"1\" /><path clip-path=\"url(#clip060)\" d=\"M2212.49 160.402 L2220.13 160.402 L2220.13 134.037 L2211.82 135.703 L2211.82 131.444 L2220.08 129.778 L2224.76 129.778 L2224.76 160.402 L2232.4 160.402 L2232.4 164.338 L2212.49 164.338 L2212.49 160.402 Z\" fill=\"#000000\" fill-rule=\"evenodd\" fill-opacity=\"1\" /></svg>\n"
      ]
     },
     "execution_count": 121,
     "metadata": {},
     "output_type": "execute_result"
    }
   ],
   "source": [
    "function xnodal(x, P)\n",
    "    nelem = length(x) - 1\n",
    "    xn = Float64[]\n",
    "    xref, _ = gausslobatto(P)\n",
    "    for i in 1:nelem\n",
    "        xL, xR = x[i:i+1]\n",
    "        append!(xn, (xL+xR)/2 .+ (xR-xL)/2 * xref[1+(i>1):end])\n",
    "    end\n",
    "    xn\n",
    "end\n",
    "xn = xnodal(x, 4)\n",
    "scatter(xn, zero, marker=:auto)"
   ]
  },
  {
   "cell_type": "markdown",
   "id": "72c23be8",
   "metadata": {
    "slideshow": {
     "slide_type": "slide"
    }
   },
   "source": [
    "# Finite element building blocks"
   ]
  },
  {
   "cell_type": "code",
   "execution_count": 122,
   "id": "c7a39135",
   "metadata": {
    "cell_style": "split",
    "slideshow": {
     "slide_type": ""
    }
   },
   "outputs": [],
   "source": [
    "struct FESpace\n",
    "    P::Int\n",
    "    Q::Int\n",
    "    nelem::Int\n",
    "    x::Vector\n",
    "    xn::Vector\n",
    "    Et::Adjoint{Float64, SparseMatrixCSC{Float64, Int64}}\n",
    "    q::Vector\n",
    "    w::Vector\n",
    "    B::Matrix\n",
    "    D::Matrix\n",
    "    function FESpace(P, Q, nelem)\n",
    "        x, Et = fe1_mesh(P, nelem)\n",
    "        xn = xnodal(x, P)\n",
    "        _, q, w, B, D = febasis(P, Q)\n",
    "        new(P, Q, nelem, x, xn, Et, q, w, B, D)\n",
    "    end\n",
    "end"
   ]
  },
  {
   "cell_type": "code",
   "execution_count": 123,
   "id": "44ef27d9",
   "metadata": {
    "cell_style": "split",
    "slideshow": {
     "slide_type": ""
    }
   },
   "outputs": [
    {
     "data": {
      "text/plain": [
       "fe_element (generic function with 1 method)"
      ]
     },
     "execution_count": 123,
     "metadata": {},
     "output_type": "execute_result"
    }
   ],
   "source": [
    "function fe_element(fe, e)\n",
    "    xL, xR = fe.x[e:e+1]\n",
    "    q = (xL+xR)/2 .+ (xR-xL)/2*fe.q\n",
    "    w = (xR - xL)/2 * fe.w\n",
    "    E = fe.Et'[:, (e-1)*fe.P+1:e*fe.P]'\n",
    "    dXdx = ones(fe.Q) * 2 / (xR - xL)\n",
    "    q, w, E, dXdx\n",
    "end"
   ]
  },
  {
   "cell_type": "markdown",
   "id": "11bc0cda",
   "metadata": {
    "slideshow": {
     "slide_type": "slide"
    }
   },
   "source": [
    "# Finite element residual assembly\n",
    "$$ v^T F(u) \\sim \\int_\\Omega v\\cdot f_0(u, \\nabla u) + \\nabla v\\cdot f_1(u, \\nabla u) = 0, \\quad \\forall v$$\n",
    "$$ \\sum_e \\mathcal E_e^T \\Big( B^T W \\left\\lvert \\frac{\\partial x}{\\partial X} \\right\\rvert f_0(\\tilde u, \\nabla \\tilde u) + D^T \\left(\\frac{\\partial X}{\\partial x}\\right)^{T} W \\left\\lvert \\frac{\\partial x}{\\partial X} \\right\\rvert f_1(\\tilde u, \\nabla\\tilde u) \\Big) = 0 $$\n",
    "where $\\tilde u = B \\mathcal E_e u$ and $\\nabla \\tilde u = \\frac{\\partial X}{\\partial x} D \\mathcal E_e u$ are the values and gradients evaluated at quadrature points."
   ]
  },
  {
   "cell_type": "code",
   "execution_count": 134,
   "id": "6066e3a7",
   "metadata": {
    "cell_style": "split",
    "slideshow": {
     "slide_type": ""
    }
   },
   "outputs": [
    {
     "data": {
      "text/plain": [
       "fe_residual (generic function with 1 method)"
      ]
     },
     "execution_count": 134,
     "metadata": {},
     "output_type": "execute_result"
    }
   ],
   "source": [
    "kappa(x) = 0.6 .+ 0.4*sin(pi*x/2)\n",
    "fq(q, u, Du) = 0*u .- 1, kappa.(q) .* Du\n",
    "dfq(q, u, du, Du, Ddu) = 0*du, kappa.(q) .* Ddu\n",
    "\n",
    "function fe_residual(u_in, fe, fq; bci=[1], bcv=[1.])\n",
    "    u = copy(u_in); v = zero(u)\n",
    "    u[bci] = bcv\n",
    "    for e in 1:fe.nelem\n",
    "        q, w, E, dXdx = fe_element(fe, e)\n",
    "        B, D = fe.B, fe.D\n",
    "        ue = E * u\n",
    "        uq = B * ue\n",
    "        Duq = dXdx .* (D * ue)\n",
    "        f0, f1 = fq(q, uq, Duq)\n",
    "        ve = B' * (w .* f0) + D' * (dXdx .* w .* f1)\n",
    "        v += E' * ve\n",
    "    end\n",
    "    v[bci] = u_in[bci] - u[bci]\n",
    "    v\n",
    "end"
   ]
  },
  {
   "cell_type": "code",
   "execution_count": 136,
   "id": "cf04d909",
   "metadata": {
    "cell_style": "split"
   },
   "outputs": [
    {
     "data": {
      "image/svg+xml": [
       "<?xml version=\"1.0\" encoding=\"utf-8\"?>\n",
       "<svg xmlns=\"http://www.w3.org/2000/svg\" xmlns:xlink=\"http://www.w3.org/1999/xlink\" width=\"600\" height=\"400\" viewBox=\"0 0 2400 1600\">\n",
       "<defs>\n",
       "  <clipPath id=\"clip100\">\n",
       "    <rect x=\"0\" y=\"0\" width=\"2400\" height=\"1600\"/>\n",
       "  </clipPath>\n",
       "</defs>\n",
       "<path clip-path=\"url(#clip100)\" d=\"\n",
       "M0 1600 L2400 1600 L2400 0 L0 0  Z\n",
       "  \" fill=\"#ffffff\" fill-rule=\"evenodd\" fill-opacity=\"1\"/>\n",
       "<defs>\n",
       "  <clipPath id=\"clip101\">\n",
       "    <rect x=\"480\" y=\"0\" width=\"1681\" height=\"1600\"/>\n",
       "  </clipPath>\n",
       "</defs>\n",
       "<path clip-path=\"url(#clip100)\" d=\"\n",
       "M112.177 1486.45 L2352.76 1486.45 L2352.76 47.2441 L112.177 47.2441  Z\n",
       "  \" fill=\"#ffffff\" fill-rule=\"evenodd\" fill-opacity=\"1\"/>\n",
       "<defs>\n",
       "  <clipPath id=\"clip102\">\n",
       "    <rect x=\"112\" y=\"47\" width=\"2242\" height=\"1440\"/>\n",
       "  </clipPath>\n",
       "</defs>\n",
       "<polyline clip-path=\"url(#clip102)\" style=\"stroke:#000000; stroke-linecap:butt; stroke-linejoin:round; stroke-width:2; stroke-opacity:0.1; fill:none\" points=\"\n",
       "  175.59,1486.45 175.59,47.2441 \n",
       "  \"/>\n",
       "<polyline clip-path=\"url(#clip102)\" style=\"stroke:#000000; stroke-linecap:butt; stroke-linejoin:round; stroke-width:2; stroke-opacity:0.1; fill:none\" points=\"\n",
       "  704.028,1486.45 704.028,47.2441 \n",
       "  \"/>\n",
       "<polyline clip-path=\"url(#clip102)\" style=\"stroke:#000000; stroke-linecap:butt; stroke-linejoin:round; stroke-width:2; stroke-opacity:0.1; fill:none\" points=\"\n",
       "  1232.47,1486.45 1232.47,47.2441 \n",
       "  \"/>\n",
       "<polyline clip-path=\"url(#clip102)\" style=\"stroke:#000000; stroke-linecap:butt; stroke-linejoin:round; stroke-width:2; stroke-opacity:0.1; fill:none\" points=\"\n",
       "  1760.9,1486.45 1760.9,47.2441 \n",
       "  \"/>\n",
       "<polyline clip-path=\"url(#clip102)\" style=\"stroke:#000000; stroke-linecap:butt; stroke-linejoin:round; stroke-width:2; stroke-opacity:0.1; fill:none\" points=\"\n",
       "  2289.34,1486.45 2289.34,47.2441 \n",
       "  \"/>\n",
       "<polyline clip-path=\"url(#clip100)\" style=\"stroke:#000000; stroke-linecap:butt; stroke-linejoin:round; stroke-width:4; stroke-opacity:1; fill:none\" points=\"\n",
       "  112.177,1486.45 2352.76,1486.45 \n",
       "  \"/>\n",
       "<polyline clip-path=\"url(#clip100)\" style=\"stroke:#000000; stroke-linecap:butt; stroke-linejoin:round; stroke-width:4; stroke-opacity:1; fill:none\" points=\"\n",
       "  175.59,1486.45 175.59,1467.55 \n",
       "  \"/>\n",
       "<polyline clip-path=\"url(#clip100)\" style=\"stroke:#000000; stroke-linecap:butt; stroke-linejoin:round; stroke-width:4; stroke-opacity:1; fill:none\" points=\"\n",
       "  704.028,1486.45 704.028,1467.55 \n",
       "  \"/>\n",
       "<polyline clip-path=\"url(#clip100)\" style=\"stroke:#000000; stroke-linecap:butt; stroke-linejoin:round; stroke-width:4; stroke-opacity:1; fill:none\" points=\"\n",
       "  1232.47,1486.45 1232.47,1467.55 \n",
       "  \"/>\n",
       "<polyline clip-path=\"url(#clip100)\" style=\"stroke:#000000; stroke-linecap:butt; stroke-linejoin:round; stroke-width:4; stroke-opacity:1; fill:none\" points=\"\n",
       "  1760.9,1486.45 1760.9,1467.55 \n",
       "  \"/>\n",
       "<polyline clip-path=\"url(#clip100)\" style=\"stroke:#000000; stroke-linecap:butt; stroke-linejoin:round; stroke-width:4; stroke-opacity:1; fill:none\" points=\"\n",
       "  2289.34,1486.45 2289.34,1467.55 \n",
       "  \"/>\n",
       "<path clip-path=\"url(#clip100)\" d=\"M122.118 1532.02 L151.794 1532.02 L151.794 1535.95 L122.118 1535.95 L122.118 1532.02 Z\" fill=\"#000000\" fill-rule=\"evenodd\" fill-opacity=\"1\" /><path clip-path=\"url(#clip100)\" d=\"M162.696 1544.91 L170.335 1544.91 L170.335 1518.55 L162.025 1520.21 L162.025 1515.95 L170.289 1514.29 L174.965 1514.29 L174.965 1544.91 L182.604 1544.91 L182.604 1548.85 L162.696 1548.85 L162.696 1544.91 Z\" fill=\"#000000\" fill-rule=\"evenodd\" fill-opacity=\"1\" /><path clip-path=\"url(#clip100)\" d=\"M192.048 1542.97 L196.932 1542.97 L196.932 1548.85 L192.048 1548.85 L192.048 1542.97 Z\" fill=\"#000000\" fill-rule=\"evenodd\" fill-opacity=\"1\" /><path clip-path=\"url(#clip100)\" d=\"M217.117 1517.37 Q213.506 1517.37 211.678 1520.93 Q209.872 1524.47 209.872 1531.6 Q209.872 1538.71 211.678 1542.27 Q213.506 1545.82 217.117 1545.82 Q220.752 1545.82 222.557 1542.27 Q224.386 1538.71 224.386 1531.6 Q224.386 1524.47 222.557 1520.93 Q220.752 1517.37 217.117 1517.37 M217.117 1513.66 Q222.927 1513.66 225.983 1518.27 Q229.062 1522.85 229.062 1531.6 Q229.062 1540.33 225.983 1544.94 Q222.927 1549.52 217.117 1549.52 Q211.307 1549.52 208.228 1544.94 Q205.173 1540.33 205.173 1531.6 Q205.173 1522.85 208.228 1518.27 Q211.307 1513.66 217.117 1513.66 Z\" fill=\"#000000\" fill-rule=\"evenodd\" fill-opacity=\"1\" /><path clip-path=\"url(#clip100)\" d=\"M651.054 1532.02 L680.73 1532.02 L680.73 1535.95 L651.054 1535.95 L651.054 1532.02 Z\" fill=\"#000000\" fill-rule=\"evenodd\" fill-opacity=\"1\" /><path clip-path=\"url(#clip100)\" d=\"M700.822 1517.37 Q697.211 1517.37 695.382 1520.93 Q693.577 1524.47 693.577 1531.6 Q693.577 1538.71 695.382 1542.27 Q697.211 1545.82 700.822 1545.82 Q704.456 1545.82 706.262 1542.27 Q708.091 1538.71 708.091 1531.6 Q708.091 1524.47 706.262 1520.93 Q704.456 1517.37 700.822 1517.37 M700.822 1513.66 Q706.632 1513.66 709.688 1518.27 Q712.767 1522.85 712.767 1531.6 Q712.767 1540.33 709.688 1544.94 Q706.632 1549.52 700.822 1549.52 Q695.012 1549.52 691.933 1544.94 Q688.878 1540.33 688.878 1531.6 Q688.878 1522.85 691.933 1518.27 Q695.012 1513.66 700.822 1513.66 Z\" fill=\"#000000\" fill-rule=\"evenodd\" fill-opacity=\"1\" /><path clip-path=\"url(#clip100)\" d=\"M720.984 1542.97 L725.868 1542.97 L725.868 1548.85 L720.984 1548.85 L720.984 1542.97 Z\" fill=\"#000000\" fill-rule=\"evenodd\" fill-opacity=\"1\" /><path clip-path=\"url(#clip100)\" d=\"M736.1 1514.29 L754.456 1514.29 L754.456 1518.22 L740.382 1518.22 L740.382 1526.7 Q741.401 1526.35 742.419 1526.19 Q743.438 1526 744.456 1526 Q750.243 1526 753.623 1529.17 Q757.002 1532.34 757.002 1537.76 Q757.002 1543.34 753.53 1546.44 Q750.058 1549.52 743.739 1549.52 Q741.563 1549.52 739.294 1549.15 Q737.049 1548.78 734.641 1548.04 L734.641 1543.34 Q736.725 1544.47 738.947 1545.03 Q741.169 1545.58 743.646 1545.58 Q747.651 1545.58 749.989 1543.48 Q752.327 1541.37 752.327 1537.76 Q752.327 1534.15 749.989 1532.04 Q747.651 1529.94 743.646 1529.94 Q741.771 1529.94 739.896 1530.35 Q738.044 1530.77 736.1 1531.65 L736.1 1514.29 Z\" fill=\"#000000\" fill-rule=\"evenodd\" fill-opacity=\"1\" /><path clip-path=\"url(#clip100)\" d=\"M1209.85 1517.37 Q1206.24 1517.37 1204.41 1520.93 Q1202.61 1524.47 1202.61 1531.6 Q1202.61 1538.71 1204.41 1542.27 Q1206.24 1545.82 1209.85 1545.82 Q1213.49 1545.82 1215.29 1542.27 Q1217.12 1538.71 1217.12 1531.6 Q1217.12 1524.47 1215.29 1520.93 Q1213.49 1517.37 1209.85 1517.37 M1209.85 1513.66 Q1215.66 1513.66 1218.72 1518.27 Q1221.8 1522.85 1221.8 1531.6 Q1221.8 1540.33 1218.72 1544.94 Q1215.66 1549.52 1209.85 1549.52 Q1204.04 1549.52 1200.96 1544.94 Q1197.91 1540.33 1197.91 1531.6 Q1197.91 1522.85 1200.96 1518.27 Q1204.04 1513.66 1209.85 1513.66 Z\" fill=\"#000000\" fill-rule=\"evenodd\" fill-opacity=\"1\" /><path clip-path=\"url(#clip100)\" d=\"M1230.01 1542.97 L1234.9 1542.97 L1234.9 1548.85 L1230.01 1548.85 L1230.01 1542.97 Z\" fill=\"#000000\" fill-rule=\"evenodd\" fill-opacity=\"1\" /><path clip-path=\"url(#clip100)\" d=\"M1255.08 1517.37 Q1251.47 1517.37 1249.64 1520.93 Q1247.84 1524.47 1247.84 1531.6 Q1247.84 1538.71 1249.64 1542.27 Q1251.47 1545.82 1255.08 1545.82 Q1258.72 1545.82 1260.52 1542.27 Q1262.35 1538.71 1262.35 1531.6 Q1262.35 1524.47 1260.52 1520.93 Q1258.72 1517.37 1255.08 1517.37 M1255.08 1513.66 Q1260.89 1513.66 1263.95 1518.27 Q1267.03 1522.85 1267.03 1531.6 Q1267.03 1540.33 1263.95 1544.94 Q1260.89 1549.52 1255.08 1549.52 Q1249.27 1549.52 1246.19 1544.94 Q1243.14 1540.33 1243.14 1531.6 Q1243.14 1522.85 1246.19 1518.27 Q1249.27 1513.66 1255.08 1513.66 Z\" fill=\"#000000\" fill-rule=\"evenodd\" fill-opacity=\"1\" /><path clip-path=\"url(#clip100)\" d=\"M1738.79 1517.37 Q1735.18 1517.37 1733.35 1520.93 Q1731.54 1524.47 1731.54 1531.6 Q1731.54 1538.71 1733.35 1542.27 Q1735.18 1545.82 1738.79 1545.82 Q1742.42 1545.82 1744.23 1542.27 Q1746.06 1538.71 1746.06 1531.6 Q1746.06 1524.47 1744.23 1520.93 Q1742.42 1517.37 1738.79 1517.37 M1738.79 1513.66 Q1744.6 1513.66 1747.65 1518.27 Q1750.73 1522.85 1750.73 1531.6 Q1750.73 1540.33 1747.65 1544.94 Q1744.6 1549.52 1738.79 1549.52 Q1732.98 1549.52 1729.9 1544.94 Q1726.84 1540.33 1726.84 1531.6 Q1726.84 1522.85 1729.9 1518.27 Q1732.98 1513.66 1738.79 1513.66 Z\" fill=\"#000000\" fill-rule=\"evenodd\" fill-opacity=\"1\" /><path clip-path=\"url(#clip100)\" d=\"M1758.95 1542.97 L1763.83 1542.97 L1763.83 1548.85 L1758.95 1548.85 L1758.95 1542.97 Z\" fill=\"#000000\" fill-rule=\"evenodd\" fill-opacity=\"1\" /><path clip-path=\"url(#clip100)\" d=\"M1774.06 1514.29 L1792.42 1514.29 L1792.42 1518.22 L1778.35 1518.22 L1778.35 1526.7 Q1779.37 1526.35 1780.38 1526.19 Q1781.4 1526 1782.42 1526 Q1788.21 1526 1791.59 1529.17 Q1794.97 1532.34 1794.97 1537.76 Q1794.97 1543.34 1791.5 1546.44 Q1788.02 1549.52 1781.7 1549.52 Q1779.53 1549.52 1777.26 1549.15 Q1775.01 1548.78 1772.61 1548.04 L1772.61 1543.34 Q1774.69 1544.47 1776.91 1545.03 Q1779.13 1545.58 1781.61 1545.58 Q1785.62 1545.58 1787.95 1543.48 Q1790.29 1541.37 1790.29 1537.76 Q1790.29 1534.15 1787.95 1532.04 Q1785.62 1529.94 1781.61 1529.94 Q1779.74 1529.94 1777.86 1530.35 Q1776.01 1530.77 1774.06 1531.65 L1774.06 1514.29 Z\" fill=\"#000000\" fill-rule=\"evenodd\" fill-opacity=\"1\" /><path clip-path=\"url(#clip100)\" d=\"M2256.5 1544.91 L2264.14 1544.91 L2264.14 1518.55 L2255.82 1520.21 L2255.82 1515.95 L2264.09 1514.29 L2268.76 1514.29 L2268.76 1544.91 L2276.4 1544.91 L2276.4 1548.85 L2256.5 1548.85 L2256.5 1544.91 Z\" fill=\"#000000\" fill-rule=\"evenodd\" fill-opacity=\"1\" /><path clip-path=\"url(#clip100)\" d=\"M2285.85 1542.97 L2290.73 1542.97 L2290.73 1548.85 L2285.85 1548.85 L2285.85 1542.97 Z\" fill=\"#000000\" fill-rule=\"evenodd\" fill-opacity=\"1\" /><path clip-path=\"url(#clip100)\" d=\"M2310.92 1517.37 Q2307.31 1517.37 2305.48 1520.93 Q2303.67 1524.47 2303.67 1531.6 Q2303.67 1538.71 2305.48 1542.27 Q2307.31 1545.82 2310.92 1545.82 Q2314.55 1545.82 2316.36 1542.27 Q2318.19 1538.71 2318.19 1531.6 Q2318.19 1524.47 2316.36 1520.93 Q2314.55 1517.37 2310.92 1517.37 M2310.92 1513.66 Q2316.73 1513.66 2319.78 1518.27 Q2322.86 1522.85 2322.86 1531.6 Q2322.86 1540.33 2319.78 1544.94 Q2316.73 1549.52 2310.92 1549.52 Q2305.11 1549.52 2302.03 1544.94 Q2298.97 1540.33 2298.97 1531.6 Q2298.97 1522.85 2302.03 1518.27 Q2305.11 1513.66 2310.92 1513.66 Z\" fill=\"#000000\" fill-rule=\"evenodd\" fill-opacity=\"1\" /><polyline clip-path=\"url(#clip102)\" style=\"stroke:#000000; stroke-linecap:butt; stroke-linejoin:round; stroke-width:2; stroke-opacity:0.1; fill:none\" points=\"\n",
       "  112.177,1445.72 2352.76,1445.72 \n",
       "  \"/>\n",
       "<polyline clip-path=\"url(#clip102)\" style=\"stroke:#000000; stroke-linecap:butt; stroke-linejoin:round; stroke-width:2; stroke-opacity:0.1; fill:none\" points=\"\n",
       "  112.177,1214.77 2352.76,1214.77 \n",
       "  \"/>\n",
       "<polyline clip-path=\"url(#clip102)\" style=\"stroke:#000000; stroke-linecap:butt; stroke-linejoin:round; stroke-width:2; stroke-opacity:0.1; fill:none\" points=\"\n",
       "  112.177,983.827 2352.76,983.827 \n",
       "  \"/>\n",
       "<polyline clip-path=\"url(#clip102)\" style=\"stroke:#000000; stroke-linecap:butt; stroke-linejoin:round; stroke-width:2; stroke-opacity:0.1; fill:none\" points=\"\n",
       "  112.177,752.882 2352.76,752.882 \n",
       "  \"/>\n",
       "<polyline clip-path=\"url(#clip102)\" style=\"stroke:#000000; stroke-linecap:butt; stroke-linejoin:round; stroke-width:2; stroke-opacity:0.1; fill:none\" points=\"\n",
       "  112.177,521.937 2352.76,521.937 \n",
       "  \"/>\n",
       "<polyline clip-path=\"url(#clip102)\" style=\"stroke:#000000; stroke-linecap:butt; stroke-linejoin:round; stroke-width:2; stroke-opacity:0.1; fill:none\" points=\"\n",
       "  112.177,290.993 2352.76,290.993 \n",
       "  \"/>\n",
       "<polyline clip-path=\"url(#clip102)\" style=\"stroke:#000000; stroke-linecap:butt; stroke-linejoin:round; stroke-width:2; stroke-opacity:0.1; fill:none\" points=\"\n",
       "  112.177,60.0483 2352.76,60.0483 \n",
       "  \"/>\n",
       "<polyline clip-path=\"url(#clip100)\" style=\"stroke:#000000; stroke-linecap:butt; stroke-linejoin:round; stroke-width:4; stroke-opacity:1; fill:none\" points=\"\n",
       "  112.177,1486.45 112.177,47.2441 \n",
       "  \"/>\n",
       "<polyline clip-path=\"url(#clip100)\" style=\"stroke:#000000; stroke-linecap:butt; stroke-linejoin:round; stroke-width:4; stroke-opacity:1; fill:none\" points=\"\n",
       "  112.177,1445.72 131.075,1445.72 \n",
       "  \"/>\n",
       "<polyline clip-path=\"url(#clip100)\" style=\"stroke:#000000; stroke-linecap:butt; stroke-linejoin:round; stroke-width:4; stroke-opacity:1; fill:none\" points=\"\n",
       "  112.177,1214.77 131.075,1214.77 \n",
       "  \"/>\n",
       "<polyline clip-path=\"url(#clip100)\" style=\"stroke:#000000; stroke-linecap:butt; stroke-linejoin:round; stroke-width:4; stroke-opacity:1; fill:none\" points=\"\n",
       "  112.177,983.827 131.075,983.827 \n",
       "  \"/>\n",
       "<polyline clip-path=\"url(#clip100)\" style=\"stroke:#000000; stroke-linecap:butt; stroke-linejoin:round; stroke-width:4; stroke-opacity:1; fill:none\" points=\"\n",
       "  112.177,752.882 131.075,752.882 \n",
       "  \"/>\n",
       "<polyline clip-path=\"url(#clip100)\" style=\"stroke:#000000; stroke-linecap:butt; stroke-linejoin:round; stroke-width:4; stroke-opacity:1; fill:none\" points=\"\n",
       "  112.177,521.937 131.075,521.937 \n",
       "  \"/>\n",
       "<polyline clip-path=\"url(#clip100)\" style=\"stroke:#000000; stroke-linecap:butt; stroke-linejoin:round; stroke-width:4; stroke-opacity:1; fill:none\" points=\"\n",
       "  112.177,290.993 131.075,290.993 \n",
       "  \"/>\n",
       "<polyline clip-path=\"url(#clip100)\" style=\"stroke:#000000; stroke-linecap:butt; stroke-linejoin:round; stroke-width:4; stroke-opacity:1; fill:none\" points=\"\n",
       "  112.177,60.0483 131.075,60.0483 \n",
       "  \"/>\n",
       "<path clip-path=\"url(#clip100)\" d=\"M56.2699 1459.06 L63.9087 1459.06 L63.9087 1432.69 L55.5986 1434.36 L55.5986 1430.1 L63.8624 1428.44 L68.5383 1428.44 L68.5383 1459.06 L76.1772 1459.06 L76.1772 1463 L56.2699 1463 L56.2699 1459.06 Z\" fill=\"#000000\" fill-rule=\"evenodd\" fill-opacity=\"1\" /><path clip-path=\"url(#clip100)\" d=\"M59.8578 1228.12 L76.1772 1228.12 L76.1772 1232.05 L54.2328 1232.05 L54.2328 1228.12 Q56.8949 1225.36 61.4782 1220.73 Q66.0846 1216.08 67.2652 1214.74 Q69.5105 1212.21 70.3902 1210.48 Q71.2929 1208.72 71.2929 1207.03 Q71.2929 1204.27 69.3485 1202.54 Q67.4272 1200.8 64.3254 1200.8 Q62.1263 1200.8 59.6726 1201.57 Q57.2421 1202.33 54.4643 1203.88 L54.4643 1199.16 Q57.2884 1198.02 59.7421 1197.44 Q62.1958 1196.87 64.2328 1196.87 Q69.6031 1196.87 72.7976 1199.55 Q75.992 1202.24 75.992 1206.73 Q75.992 1208.86 75.1818 1210.78 Q74.3948 1212.68 72.2883 1215.27 Q71.7096 1215.94 68.6078 1219.16 Q65.5059 1222.35 59.8578 1228.12 Z\" fill=\"#000000\" fill-rule=\"evenodd\" fill-opacity=\"1\" /><path clip-path=\"url(#clip100)\" d=\"M69.0476 982.472 Q72.404 983.19 74.279 985.459 Q76.1772 987.727 76.1772 991.06 Q76.1772 996.176 72.6587 998.977 Q69.1402 1001.78 62.6587 1001.78 Q60.4828 1001.78 58.168 1001.34 Q55.8764 1000.92 53.4227 1000.06 L53.4227 995.551 Q55.3671 996.685 57.6819 997.264 Q59.9967 997.843 62.5198 997.843 Q66.918 997.843 69.2096 996.107 Q71.5244 994.37 71.5244 991.06 Q71.5244 988.005 69.3717 986.292 Q67.242 984.556 63.4226 984.556 L59.3949 984.556 L59.3949 980.713 L63.6078 980.713 Q67.0569 980.713 68.8855 979.347 Q70.7142 977.959 70.7142 975.366 Q70.7142 972.704 68.8161 971.292 Q66.9411 969.857 63.4226 969.857 Q61.5013 969.857 59.3023 970.273 Q57.1032 970.69 54.4643 971.57 L54.4643 967.403 Q57.1264 966.662 59.4412 966.292 Q61.7791 965.922 63.8393 965.922 Q69.1633 965.922 72.2652 968.352 Q75.367 970.76 75.367 974.88 Q75.367 977.75 73.7235 979.741 Q72.08 981.709 69.0476 982.472 Z\" fill=\"#000000\" fill-rule=\"evenodd\" fill-opacity=\"1\" /><path clip-path=\"url(#clip100)\" d=\"M66.5939 739.676 L54.7884 758.125 L66.5939 758.125 L66.5939 739.676 M65.367 735.602 L71.2466 735.602 L71.2466 758.125 L76.1772 758.125 L76.1772 762.014 L71.2466 762.014 L71.2466 770.162 L66.5939 770.162 L66.5939 762.014 L50.9921 762.014 L50.9921 757.5 L65.367 735.602 Z\" fill=\"#000000\" fill-rule=\"evenodd\" fill-opacity=\"1\" /><path clip-path=\"url(#clip100)\" d=\"M55.2745 504.657 L73.6309 504.657 L73.6309 508.593 L59.5569 508.593 L59.5569 517.065 Q60.5754 516.718 61.5939 516.556 Q62.6124 516.37 63.6309 516.37 Q69.418 516.37 72.7976 519.542 Q76.1772 522.713 76.1772 528.13 Q76.1772 533.708 72.705 536.81 Q69.2328 539.889 62.9134 539.889 Q60.7374 539.889 58.4689 539.518 Q56.2236 539.148 53.8162 538.407 L53.8162 533.708 Q55.8995 534.842 58.1217 535.398 Q60.3439 535.954 62.8208 535.954 Q66.8254 535.954 69.1633 533.847 Q71.5013 531.741 71.5013 528.13 Q71.5013 524.518 69.1633 522.412 Q66.8254 520.306 62.8208 520.306 Q60.9458 520.306 59.0708 520.722 Q57.2189 521.139 55.2745 522.018 L55.2745 504.657 Z\" fill=\"#000000\" fill-rule=\"evenodd\" fill-opacity=\"1\" /><path clip-path=\"url(#clip100)\" d=\"M64.6495 289.129 Q61.5013 289.129 59.6495 291.282 Q57.8208 293.435 57.8208 297.185 Q57.8208 300.912 59.6495 303.088 Q61.5013 305.24 64.6495 305.24 Q67.7976 305.24 69.6263 303.088 Q71.4781 300.912 71.4781 297.185 Q71.4781 293.435 69.6263 291.282 Q67.7976 289.129 64.6495 289.129 M73.9318 274.477 L73.9318 278.736 Q72.1726 277.903 70.367 277.463 Q68.5846 277.023 66.8254 277.023 Q62.1958 277.023 59.7421 280.148 Q57.3115 283.273 56.9643 289.592 Q58.33 287.579 60.3902 286.514 Q62.4504 285.426 64.9272 285.426 Q70.1355 285.426 73.1448 288.597 Q76.1772 291.745 76.1772 297.185 Q76.1772 302.509 73.029 305.727 Q69.8809 308.944 64.6495 308.944 Q58.6541 308.944 55.4828 304.361 Q52.3116 299.754 52.3116 291.028 Q52.3116 282.833 56.2004 277.972 Q60.0893 273.088 66.6402 273.088 Q68.3994 273.088 70.1818 273.435 Q71.9874 273.782 73.9318 274.477 Z\" fill=\"#000000\" fill-rule=\"evenodd\" fill-opacity=\"1\" /><path clip-path=\"url(#clip100)\" d=\"M53.9551 42.7683 L76.1772 42.7683 L76.1772 44.759 L63.6309 77.3283 L58.7467 77.3283 L70.5522 46.7035 L53.9551 46.7035 L53.9551 42.7683 Z\" fill=\"#000000\" fill-rule=\"evenodd\" fill-opacity=\"1\" /><polyline clip-path=\"url(#clip102)\" style=\"stroke:#009af9; stroke-linecap:butt; stroke-linejoin:round; stroke-width:16; stroke-opacity:1; fill:none\" points=\"\n",
       "  175.59,1445.72 386.965,1020.54 598.34,697.708 809.716,478.516 1021.09,333.475 1232.47,238.386 1443.84,175.113 1655.22,133.517 1866.59,107.202 2077.97,92.6329 \n",
       "  2289.34,87.9763 \n",
       "  \"/>\n",
       "<circle clip-path=\"url(#clip102)\" cx=\"175.59\" cy=\"1445.72\" r=\"14\" fill=\"#009af9\" fill-rule=\"evenodd\" fill-opacity=\"1\" stroke=\"#000000\" stroke-opacity=\"1\" stroke-width=\"3.2\"/>\n",
       "<circle clip-path=\"url(#clip102)\" cx=\"386.965\" cy=\"1020.54\" r=\"14\" fill=\"#009af9\" fill-rule=\"evenodd\" fill-opacity=\"1\" stroke=\"#000000\" stroke-opacity=\"1\" stroke-width=\"3.2\"/>\n",
       "<circle clip-path=\"url(#clip102)\" cx=\"598.34\" cy=\"697.708\" r=\"14\" fill=\"#009af9\" fill-rule=\"evenodd\" fill-opacity=\"1\" stroke=\"#000000\" stroke-opacity=\"1\" stroke-width=\"3.2\"/>\n",
       "<circle clip-path=\"url(#clip102)\" cx=\"809.716\" cy=\"478.516\" r=\"14\" fill=\"#009af9\" fill-rule=\"evenodd\" fill-opacity=\"1\" stroke=\"#000000\" stroke-opacity=\"1\" stroke-width=\"3.2\"/>\n",
       "<circle clip-path=\"url(#clip102)\" cx=\"1021.09\" cy=\"333.475\" r=\"14\" fill=\"#009af9\" fill-rule=\"evenodd\" fill-opacity=\"1\" stroke=\"#000000\" stroke-opacity=\"1\" stroke-width=\"3.2\"/>\n",
       "<circle clip-path=\"url(#clip102)\" cx=\"1232.47\" cy=\"238.386\" r=\"14\" fill=\"#009af9\" fill-rule=\"evenodd\" fill-opacity=\"1\" stroke=\"#000000\" stroke-opacity=\"1\" stroke-width=\"3.2\"/>\n",
       "<circle clip-path=\"url(#clip102)\" cx=\"1443.84\" cy=\"175.113\" r=\"14\" fill=\"#009af9\" fill-rule=\"evenodd\" fill-opacity=\"1\" stroke=\"#000000\" stroke-opacity=\"1\" stroke-width=\"3.2\"/>\n",
       "<circle clip-path=\"url(#clip102)\" cx=\"1655.22\" cy=\"133.517\" r=\"14\" fill=\"#009af9\" fill-rule=\"evenodd\" fill-opacity=\"1\" stroke=\"#000000\" stroke-opacity=\"1\" stroke-width=\"3.2\"/>\n",
       "<circle clip-path=\"url(#clip102)\" cx=\"1866.59\" cy=\"107.202\" r=\"14\" fill=\"#009af9\" fill-rule=\"evenodd\" fill-opacity=\"1\" stroke=\"#000000\" stroke-opacity=\"1\" stroke-width=\"3.2\"/>\n",
       "<circle clip-path=\"url(#clip102)\" cx=\"2077.97\" cy=\"92.6329\" r=\"14\" fill=\"#009af9\" fill-rule=\"evenodd\" fill-opacity=\"1\" stroke=\"#000000\" stroke-opacity=\"1\" stroke-width=\"3.2\"/>\n",
       "<circle clip-path=\"url(#clip102)\" cx=\"2289.34\" cy=\"87.9763\" r=\"14\" fill=\"#009af9\" fill-rule=\"evenodd\" fill-opacity=\"1\" stroke=\"#000000\" stroke-opacity=\"1\" stroke-width=\"3.2\"/>\n",
       "<path clip-path=\"url(#clip100)\" d=\"\n",
       "M1976.69 198.898 L2278.07 198.898 L2278.07 95.2176 L1976.69 95.2176  Z\n",
       "  \" fill=\"#ffffff\" fill-rule=\"evenodd\" fill-opacity=\"1\"/>\n",
       "<polyline clip-path=\"url(#clip100)\" style=\"stroke:#000000; stroke-linecap:butt; stroke-linejoin:round; stroke-width:4; stroke-opacity:1; fill:none\" points=\"\n",
       "  1976.69,198.898 2278.07,198.898 2278.07,95.2176 1976.69,95.2176 1976.69,198.898 \n",
       "  \"/>\n",
       "<polyline clip-path=\"url(#clip100)\" style=\"stroke:#009af9; stroke-linecap:butt; stroke-linejoin:round; stroke-width:4; stroke-opacity:1; fill:none\" points=\"\n",
       "  2001.58,147.058 2150.95,147.058 \n",
       "  \"/>\n",
       "<circle clip-path=\"url(#clip100)\" cx=\"2076.27\" cy=\"147.058\" r=\"23\" fill=\"#009af9\" fill-rule=\"evenodd\" fill-opacity=\"1\" stroke=\"#000000\" stroke-opacity=\"1\" stroke-width=\"5.12\"/>\n",
       "<path clip-path=\"url(#clip100)\" d=\"M2189.69 166.745 Q2187.89 171.375 2186.17 172.787 Q2184.46 174.199 2181.59 174.199 L2178.19 174.199 L2178.19 170.634 L2180.69 170.634 Q2182.45 170.634 2183.42 169.8 Q2184.39 168.967 2185.57 165.865 L2186.34 163.921 L2175.85 138.412 L2180.36 138.412 L2188.46 158.689 L2196.57 138.412 L2201.08 138.412 L2189.69 166.745 Z\" fill=\"#000000\" fill-rule=\"evenodd\" fill-opacity=\"1\" /><path clip-path=\"url(#clip100)\" d=\"M2208.37 160.402 L2216.01 160.402 L2216.01 134.037 L2207.7 135.703 L2207.7 131.444 L2215.96 129.778 L2220.64 129.778 L2220.64 160.402 L2228.28 160.402 L2228.28 164.338 L2208.37 164.338 L2208.37 160.402 Z\" fill=\"#000000\" fill-rule=\"evenodd\" fill-opacity=\"1\" /></svg>\n"
      ]
     },
     "execution_count": 136,
     "metadata": {},
     "output_type": "execute_result"
    }
   ],
   "source": [
    "import NLsolve: nlsolve\n",
    "\n",
    "fe = FESpace(3, 3, 5)\n",
    "u0 = zero(fe.xn)\n",
    "sol = nlsolve(u -> fe_residual(u, fe, fq), u0; method=:newton)\n",
    "plot(fe.xn, sol.zero, marker=:auto)"
   ]
  },
  {
   "cell_type": "markdown",
   "id": "4fa8f8e9",
   "metadata": {
    "slideshow": {
     "slide_type": "slide"
    }
   },
   "source": [
    "# Finite element Jacobian assembly\n",
    "\n",
    "$$ v^T F(u) \\sim \\int_\\Omega v\\cdot f_0(u, \\nabla u) + \\nabla v\\cdot f_1(u, \\nabla u) = 0, \\quad \\forall v$$\n",
    "$$ v^T J(u) du \\sim \\int_\\Omega v\\cdot df_0(u, du, \\nabla u, \\nabla du) + \\nabla v\\cdot df_1(u, du, \\nabla u, \\nabla du) = 0, \\quad \\forall v$$"
   ]
  },
  {
   "cell_type": "code",
   "execution_count": 137,
   "id": "de0b0f51",
   "metadata": {
    "cell_style": "split"
   },
   "outputs": [
    {
     "data": {
      "text/plain": [
       "fe_jacobian (generic function with 1 method)"
      ]
     },
     "execution_count": 137,
     "metadata": {},
     "output_type": "execute_result"
    }
   ],
   "source": [
    "function fe_jacobian(u_in, fe, dfq; bci=[1], bcv=[1.])\n",
    "    u = copy(u_in); u[bci] = bcv\n",
    "    rows, cols, vals = Int[], Int[], Float64[]\n",
    "    for e in 1:fe.nelem\n",
    "        q, w, E, dXdx = fe_element(fe, e)\n",
    "        B, D, P = fe.B, fe.D, fe.P\n",
    "        ue = E * u\n",
    "        uq = B * ue; Duq = dXdx .* (D * ue)\n",
    "        K = zeros(P, P)\n",
    "        for j in 1:fe.P\n",
    "            du = B[:,j]\n",
    "            Ddu = dXdx .* D[:,j]\n",
    "            df0, df1 = dfq(q, uq, du, Duq, Ddu)\n",
    "            K[:,j] = B' * (w .* df0) + D' * (dXdx .* w .* df1)\n",
    "        end\n",
    "        inds = rowvals(E')\n",
    "        append!(rows, kron(ones(P), inds))\n",
    "        append!(cols, kron(inds, ones(P)))\n",
    "        append!(vals, vec(K))\n",
    "    end\n",
    "    A = sparse(rows, cols, vals)\n",
    "    A[bci, :] .= 0; A[:, bci] .= 0\n",
    "    A[bci,bci] = diagm(ones(length(bci)))\n",
    "    A\n",
    "end"
   ]
  },
  {
   "cell_type": "code",
   "execution_count": 138,
   "id": "d585a0be",
   "metadata": {
    "cell_style": "split"
   },
   "outputs": [
    {
     "data": {
      "text/plain": [
       "Results of Nonlinear Solver Algorithm\n",
       " * Algorithm: Newton with line-search\n",
       " * Starting Point: [0.0, 0.0, 0.0, 0.0, 0.0, 0.0, 0.0, 0.0, 0.0, 0.0, 0.0]\n",
       " * Zero: [1.0, 2.8410183049139395, 4.238906485042849, 5.1880169525357305, 5.8160506219732895, 6.227791209068442, 6.501764009933425, 6.681877765936257, 6.795822293071308, 6.8589074098787215, 6.879070690065479]\n",
       " * Inf-norm of residuals: 0.000000\n",
       " * Iterations: 1\n",
       " * Convergence: true\n",
       "   * |x - x'| < 0.0e+00: false\n",
       "   * |f(x)| < 1.0e-08: true\n",
       " * Function Calls (f): 2\n",
       " * Jacobian Calls (df/dx): 2"
      ]
     },
     "execution_count": 138,
     "metadata": {},
     "output_type": "execute_result"
    }
   ],
   "source": [
    "sol = nlsolve(u -> fe_residual(u, fe, fq),\n",
    "    u -> fe_jacobian(u, fe, dfq),\n",
    "    u0;\n",
    "    method=:newton)"
   ]
  },
  {
   "cell_type": "markdown",
   "id": "3e43ea8c",
   "metadata": {
    "slideshow": {
     "slide_type": "slide"
    }
   },
   "source": [
    "# Spy on the Jacobian"
   ]
  },
  {
   "cell_type": "code",
   "execution_count": 140,
   "id": "8e87d631",
   "metadata": {
    "cell_style": "split"
   },
   "outputs": [
    {
     "data": {
      "image/svg+xml": [
       "<?xml version=\"1.0\" encoding=\"utf-8\"?>\n",
       "<svg xmlns=\"http://www.w3.org/2000/svg\" xmlns:xlink=\"http://www.w3.org/1999/xlink\" width=\"600\" height=\"400\" viewBox=\"0 0 2400 1600\">\n",
       "<defs>\n",
       "  <clipPath id=\"clip140\">\n",
       "    <rect x=\"0\" y=\"0\" width=\"2400\" height=\"1600\"/>\n",
       "  </clipPath>\n",
       "</defs>\n",
       "<path clip-path=\"url(#clip140)\" d=\"\n",
       "M0 1600 L2400 1600 L2400 0 L0 0  Z\n",
       "  \" fill=\"#ffffff\" fill-rule=\"evenodd\" fill-opacity=\"1\"/>\n",
       "<defs>\n",
       "  <clipPath id=\"clip141\">\n",
       "    <rect x=\"480\" y=\"0\" width=\"1681\" height=\"1600\"/>\n",
       "  </clipPath>\n",
       "</defs>\n",
       "<path clip-path=\"url(#clip140)\" d=\"\n",
       "M407.124 1486.45 L1846.33 1486.45 L1846.33 47.2441 L407.124 47.2441  Z\n",
       "  \" fill=\"#ffffff\" fill-rule=\"evenodd\" fill-opacity=\"1\"/>\n",
       "<defs>\n",
       "  <clipPath id=\"clip142\">\n",
       "    <rect x=\"407\" y=\"47\" width=\"1440\" height=\"1440\"/>\n",
       "  </clipPath>\n",
       "</defs>\n",
       "<polyline clip-path=\"url(#clip140)\" style=\"stroke:#000000; stroke-linecap:butt; stroke-linejoin:round; stroke-width:4; stroke-opacity:1; fill:none\" points=\"\n",
       "  407.124,1486.45 1846.33,1486.45 \n",
       "  \"/>\n",
       "<polyline clip-path=\"url(#clip140)\" style=\"stroke:#000000; stroke-linecap:butt; stroke-linejoin:round; stroke-width:4; stroke-opacity:1; fill:none\" points=\"\n",
       "  719.404,1486.45 719.404,1467.55 \n",
       "  \"/>\n",
       "<polyline clip-path=\"url(#clip140)\" style=\"stroke:#000000; stroke-linecap:butt; stroke-linejoin:round; stroke-width:4; stroke-opacity:1; fill:none\" points=\"\n",
       "  1058.84,1486.45 1058.84,1467.55 \n",
       "  \"/>\n",
       "<polyline clip-path=\"url(#clip140)\" style=\"stroke:#000000; stroke-linecap:butt; stroke-linejoin:round; stroke-width:4; stroke-opacity:1; fill:none\" points=\"\n",
       "  1398.27,1486.45 1398.27,1467.55 \n",
       "  \"/>\n",
       "<polyline clip-path=\"url(#clip140)\" style=\"stroke:#000000; stroke-linecap:butt; stroke-linejoin:round; stroke-width:4; stroke-opacity:1; fill:none\" points=\"\n",
       "  1737.71,1486.45 1737.71,1467.55 \n",
       "  \"/>\n",
       "<path clip-path=\"url(#clip140)\" d=\"M709.682 1514.29 L728.038 1514.29 L728.038 1518.22 L713.964 1518.22 L713.964 1526.7 Q714.983 1526.35 716.001 1526.19 Q717.02 1526 718.038 1526 Q723.825 1526 727.205 1529.17 Q730.584 1532.34 730.584 1537.76 Q730.584 1543.34 727.112 1546.44 Q723.64 1549.52 717.321 1549.52 Q715.145 1549.52 712.876 1549.15 Q710.631 1548.78 708.223 1548.04 L708.223 1543.34 Q710.307 1544.47 712.529 1545.03 Q714.751 1545.58 717.228 1545.58 Q721.233 1545.58 723.571 1543.48 Q725.908 1541.37 725.908 1537.76 Q725.908 1534.15 723.571 1532.04 Q721.233 1529.94 717.228 1529.94 Q715.353 1529.94 713.478 1530.35 Q711.626 1530.77 709.682 1531.65 L709.682 1514.29 Z\" fill=\"#000000\" fill-rule=\"evenodd\" fill-opacity=\"1\" /><path clip-path=\"url(#clip140)\" d=\"M1033.53 1544.91 L1041.17 1544.91 L1041.17 1518.55 L1032.86 1520.21 L1032.86 1515.95 L1041.12 1514.29 L1045.79 1514.29 L1045.79 1544.91 L1053.43 1544.91 L1053.43 1548.85 L1033.53 1548.85 L1033.53 1544.91 Z\" fill=\"#000000\" fill-rule=\"evenodd\" fill-opacity=\"1\" /><path clip-path=\"url(#clip140)\" d=\"M1072.88 1517.37 Q1069.27 1517.37 1067.44 1520.93 Q1065.63 1524.47 1065.63 1531.6 Q1065.63 1538.71 1067.44 1542.27 Q1069.27 1545.82 1072.88 1545.82 Q1076.51 1545.82 1078.32 1542.27 Q1080.15 1538.71 1080.15 1531.6 Q1080.15 1524.47 1078.32 1520.93 Q1076.51 1517.37 1072.88 1517.37 M1072.88 1513.66 Q1078.69 1513.66 1081.74 1518.27 Q1084.82 1522.85 1084.82 1531.6 Q1084.82 1540.33 1081.74 1544.94 Q1078.69 1549.52 1072.88 1549.52 Q1067.07 1549.52 1063.99 1544.94 Q1060.93 1540.33 1060.93 1531.6 Q1060.93 1522.85 1063.99 1518.27 Q1067.07 1513.66 1072.88 1513.66 Z\" fill=\"#000000\" fill-rule=\"evenodd\" fill-opacity=\"1\" /><path clip-path=\"url(#clip140)\" d=\"M1373.46 1544.91 L1381.1 1544.91 L1381.1 1518.55 L1372.79 1520.21 L1372.79 1515.95 L1381.05 1514.29 L1385.73 1514.29 L1385.73 1544.91 L1393.37 1544.91 L1393.37 1548.85 L1373.46 1548.85 L1373.46 1544.91 Z\" fill=\"#000000\" fill-rule=\"evenodd\" fill-opacity=\"1\" /><path clip-path=\"url(#clip140)\" d=\"M1402.86 1514.29 L1421.21 1514.29 L1421.21 1518.22 L1407.14 1518.22 L1407.14 1526.7 Q1408.16 1526.35 1409.18 1526.19 Q1410.19 1526 1411.21 1526 Q1417 1526 1420.38 1529.17 Q1423.76 1532.34 1423.76 1537.76 Q1423.76 1543.34 1420.29 1546.44 Q1416.82 1549.52 1410.5 1549.52 Q1408.32 1549.52 1406.05 1549.15 Q1403.81 1548.78 1401.4 1548.04 L1401.4 1543.34 Q1403.48 1544.47 1405.7 1545.03 Q1407.93 1545.58 1410.4 1545.58 Q1414.41 1545.58 1416.75 1543.48 Q1419.08 1541.37 1419.08 1537.76 Q1419.08 1534.15 1416.75 1532.04 Q1414.41 1529.94 1410.4 1529.94 Q1408.53 1529.94 1406.65 1530.35 Q1404.8 1530.77 1402.86 1531.65 L1402.86 1514.29 Z\" fill=\"#000000\" fill-rule=\"evenodd\" fill-opacity=\"1\" /><path clip-path=\"url(#clip140)\" d=\"M1716.48 1544.91 L1732.8 1544.91 L1732.8 1548.85 L1710.86 1548.85 L1710.86 1544.91 Q1713.52 1542.16 1718.1 1537.53 Q1722.71 1532.88 1723.89 1531.53 Q1726.13 1529.01 1727.01 1527.27 Q1727.92 1525.51 1727.92 1523.82 Q1727.92 1521.07 1725.97 1519.33 Q1724.05 1517.6 1720.95 1517.6 Q1718.75 1517.6 1716.3 1518.36 Q1713.87 1519.13 1711.09 1520.68 L1711.09 1515.95 Q1713.91 1514.82 1716.37 1514.24 Q1718.82 1513.66 1720.86 1513.66 Q1726.23 1513.66 1729.42 1516.35 Q1732.62 1519.03 1732.62 1523.52 Q1732.62 1525.65 1731.81 1527.57 Q1731.02 1529.47 1728.91 1532.07 Q1728.33 1532.74 1725.23 1535.95 Q1722.13 1539.15 1716.48 1544.91 Z\" fill=\"#000000\" fill-rule=\"evenodd\" fill-opacity=\"1\" /><path clip-path=\"url(#clip140)\" d=\"M1752.62 1517.37 Q1749 1517.37 1747.18 1520.93 Q1745.37 1524.47 1745.37 1531.6 Q1745.37 1538.71 1747.18 1542.27 Q1749 1545.82 1752.62 1545.82 Q1756.25 1545.82 1758.06 1542.27 Q1759.88 1538.71 1759.88 1531.6 Q1759.88 1524.47 1758.06 1520.93 Q1756.25 1517.37 1752.62 1517.37 M1752.62 1513.66 Q1758.43 1513.66 1761.48 1518.27 Q1764.56 1522.85 1764.56 1531.6 Q1764.56 1540.33 1761.48 1544.94 Q1758.43 1549.52 1752.62 1549.52 Q1746.81 1549.52 1743.73 1544.94 Q1740.67 1540.33 1740.67 1531.6 Q1740.67 1522.85 1743.73 1518.27 Q1746.81 1513.66 1752.62 1513.66 Z\" fill=\"#000000\" fill-rule=\"evenodd\" fill-opacity=\"1\" /><polyline clip-path=\"url(#clip140)\" style=\"stroke:#000000; stroke-linecap:butt; stroke-linejoin:round; stroke-width:4; stroke-opacity:1; fill:none\" points=\"\n",
       "  407.124,47.2441 407.124,1486.45 \n",
       "  \"/>\n",
       "<polyline clip-path=\"url(#clip140)\" style=\"stroke:#000000; stroke-linecap:butt; stroke-linejoin:round; stroke-width:4; stroke-opacity:1; fill:none\" points=\"\n",
       "  407.124,359.524 419.419,359.524 \n",
       "  \"/>\n",
       "<polyline clip-path=\"url(#clip140)\" style=\"stroke:#000000; stroke-linecap:butt; stroke-linejoin:round; stroke-width:4; stroke-opacity:1; fill:none\" points=\"\n",
       "  407.124,698.959 419.419,698.959 \n",
       "  \"/>\n",
       "<polyline clip-path=\"url(#clip140)\" style=\"stroke:#000000; stroke-linecap:butt; stroke-linejoin:round; stroke-width:4; stroke-opacity:1; fill:none\" points=\"\n",
       "  407.124,1038.39 419.419,1038.39 \n",
       "  \"/>\n",
       "<polyline clip-path=\"url(#clip140)\" style=\"stroke:#000000; stroke-linecap:butt; stroke-linejoin:round; stroke-width:4; stroke-opacity:1; fill:none\" points=\"\n",
       "  407.124,1377.83 419.419,1377.83 \n",
       "  \"/>\n",
       "<path clip-path=\"url(#clip140)\" d=\"M350.221 342.244 L368.578 342.244 L368.578 346.179 L354.504 346.179 L354.504 354.652 Q355.522 354.304 356.541 354.142 Q357.559 353.957 358.578 353.957 Q364.365 353.957 367.744 357.128 Q371.124 360.3 371.124 365.716 Q371.124 371.295 367.652 374.397 Q364.179 377.475 357.86 377.475 Q355.684 377.475 353.416 377.105 Q351.17 376.735 348.763 375.994 L348.763 371.295 Q350.846 372.429 353.068 372.985 Q355.291 373.54 357.767 373.54 Q361.772 373.54 364.11 371.434 Q366.448 369.327 366.448 365.716 Q366.448 362.105 364.11 359.999 Q361.772 357.892 357.767 357.892 Q355.892 357.892 354.017 358.309 Q352.166 358.726 350.221 359.605 L350.221 342.244 Z\" fill=\"#000000\" fill-rule=\"evenodd\" fill-opacity=\"1\" /><path clip-path=\"url(#clip140)\" d=\"M319.828 712.304 L327.467 712.304 L327.467 685.938 L319.157 687.605 L319.157 683.346 L327.42 681.679 L332.096 681.679 L332.096 712.304 L339.735 712.304 L339.735 716.239 L319.828 716.239 L319.828 712.304 Z\" fill=\"#000000\" fill-rule=\"evenodd\" fill-opacity=\"1\" /><path clip-path=\"url(#clip140)\" d=\"M359.179 684.758 Q355.568 684.758 353.74 688.322 Q351.934 691.864 351.934 698.994 Q351.934 706.1 353.74 709.665 Q355.568 713.207 359.179 713.207 Q362.814 713.207 364.619 709.665 Q366.448 706.1 366.448 698.994 Q366.448 691.864 364.619 688.322 Q362.814 684.758 359.179 684.758 M359.179 681.054 Q364.99 681.054 368.045 685.66 Q371.124 690.244 371.124 698.994 Q371.124 707.721 368.045 712.327 Q364.99 716.91 359.179 716.91 Q353.369 716.91 350.291 712.327 Q347.235 707.721 347.235 698.994 Q347.235 690.244 350.291 685.66 Q353.369 681.054 359.179 681.054 Z\" fill=\"#000000\" fill-rule=\"evenodd\" fill-opacity=\"1\" /><path clip-path=\"url(#clip140)\" d=\"M320.823 1051.74 L328.462 1051.74 L328.462 1025.37 L320.152 1027.04 L320.152 1022.78 L328.416 1021.11 L333.092 1021.11 L333.092 1051.74 L340.73 1051.74 L340.73 1055.67 L320.823 1055.67 L320.823 1051.74 Z\" fill=\"#000000\" fill-rule=\"evenodd\" fill-opacity=\"1\" /><path clip-path=\"url(#clip140)\" d=\"M350.221 1021.11 L368.578 1021.11 L368.578 1025.05 L354.504 1025.05 L354.504 1033.52 Q355.522 1033.17 356.541 1033.01 Q357.559 1032.83 358.578 1032.83 Q364.365 1032.83 367.744 1036 Q371.124 1039.17 371.124 1044.59 Q371.124 1050.16 367.652 1053.27 Q364.179 1056.35 357.86 1056.35 Q355.684 1056.35 353.416 1055.97 Q351.17 1055.6 348.763 1054.86 L348.763 1050.16 Q350.846 1051.3 353.068 1051.85 Q355.291 1052.41 357.767 1052.41 Q361.772 1052.41 364.11 1050.3 Q366.448 1048.2 366.448 1044.59 Q366.448 1040.97 364.11 1038.87 Q361.772 1036.76 357.767 1036.76 Q355.892 1036.76 354.017 1037.18 Q352.166 1037.6 350.221 1038.47 L350.221 1021.11 Z\" fill=\"#000000\" fill-rule=\"evenodd\" fill-opacity=\"1\" /><path clip-path=\"url(#clip140)\" d=\"M323.045 1391.17 L339.365 1391.17 L339.365 1395.11 L317.42 1395.11 L317.42 1391.17 Q320.082 1388.42 324.666 1383.79 Q329.272 1379.14 330.453 1377.79 Q332.698 1375.27 333.578 1373.53 Q334.481 1371.78 334.481 1370.09 Q334.481 1367.33 332.536 1365.59 Q330.615 1363.86 327.513 1363.86 Q325.314 1363.86 322.86 1364.62 Q320.43 1365.39 317.652 1366.94 L317.652 1362.22 Q320.476 1361.08 322.93 1360.5 Q325.383 1359.92 327.42 1359.92 Q332.791 1359.92 335.985 1362.61 Q339.18 1365.29 339.18 1369.78 Q339.18 1371.91 338.369 1373.84 Q337.582 1375.73 335.476 1378.33 Q334.897 1379 331.795 1382.22 Q328.694 1385.41 323.045 1391.17 Z\" fill=\"#000000\" fill-rule=\"evenodd\" fill-opacity=\"1\" /><path clip-path=\"url(#clip140)\" d=\"M359.179 1363.63 Q355.568 1363.63 353.74 1367.19 Q351.934 1370.73 351.934 1377.86 Q351.934 1384.97 353.74 1388.53 Q355.568 1392.08 359.179 1392.08 Q362.814 1392.08 364.619 1388.53 Q366.448 1384.97 366.448 1377.86 Q366.448 1370.73 364.619 1367.19 Q362.814 1363.63 359.179 1363.63 M359.179 1359.92 Q364.99 1359.92 368.045 1364.53 Q371.124 1369.11 371.124 1377.86 Q371.124 1386.59 368.045 1391.2 Q364.99 1395.78 359.179 1395.78 Q353.369 1395.78 350.291 1391.2 Q347.235 1386.59 347.235 1377.86 Q347.235 1369.11 350.291 1364.53 Q353.369 1359.92 359.179 1359.92 Z\" fill=\"#000000\" fill-rule=\"evenodd\" fill-opacity=\"1\" /><path clip-path=\"url(#clip142)\" d=\"M423.856 63.9763 L423.856 111.976 L471.856 111.976 L471.856 63.9763 L423.856 63.9763 Z\" fill=\"#f7c929\" fill-rule=\"evenodd\" fill-opacity=\"1\" stroke=\"#000000\" stroke-opacity=\"1\" stroke-width=\"0\"/>\n",
       "<path clip-path=\"url(#clip142)\" d=\"M491.743 131.863 L491.743 179.863 L539.743 179.863 L539.743 131.863 L491.743 131.863 Z\" fill=\"#fea960\" fill-rule=\"evenodd\" fill-opacity=\"1\" stroke=\"#000000\" stroke-opacity=\"1\" stroke-width=\"0\"/>\n",
       "<path clip-path=\"url(#clip142)\" d=\"M491.743 199.75 L491.743 247.75 L539.743 247.75 L539.743 199.75 L491.743 199.75 Z\" fill=\"#dbcb0e\" fill-rule=\"evenodd\" fill-opacity=\"1\" stroke=\"#000000\" stroke-opacity=\"1\" stroke-width=\"0\"/>\n",
       "<path clip-path=\"url(#clip142)\" d=\"M491.743 267.637 L491.743 315.637 L539.743 315.637 L539.743 267.637 L491.743 267.637 Z\" fill=\"#f7ca27\" fill-rule=\"evenodd\" fill-opacity=\"1\" stroke=\"#000000\" stroke-opacity=\"1\" stroke-width=\"0\"/>\n",
       "<path clip-path=\"url(#clip142)\" d=\"M491.743 335.524 L491.743 383.524 L539.743 383.524 L539.743 335.524 L491.743 335.524 Z\" fill=\"#f1cd19\" fill-rule=\"evenodd\" fill-opacity=\"1\" stroke=\"#000000\" stroke-opacity=\"1\" stroke-width=\"0\"/>\n",
       "<path clip-path=\"url(#clip142)\" d=\"M491.743 403.411 L491.743 451.411 L539.743 451.411 L539.743 403.411 L491.743 403.411 Z\" fill=\"#f4cc1f\" fill-rule=\"evenodd\" fill-opacity=\"1\" stroke=\"#000000\" stroke-opacity=\"1\" stroke-width=\"0\"/>\n",
       "<path clip-path=\"url(#clip142)\" d=\"M559.63 131.863 L559.63 179.863 L607.63 179.863 L607.63 131.863 L559.63 131.863 Z\" fill=\"#dbcb0e\" fill-rule=\"evenodd\" fill-opacity=\"1\" stroke=\"#000000\" stroke-opacity=\"1\" stroke-width=\"0\"/>\n",
       "<path clip-path=\"url(#clip142)\" d=\"M559.63 199.75 L559.63 247.75 L607.63 247.75 L607.63 199.75 L559.63 199.75 Z\" fill=\"#fdb451\" fill-rule=\"evenodd\" fill-opacity=\"1\" stroke=\"#000000\" stroke-opacity=\"1\" stroke-width=\"0\"/>\n",
       "<path clip-path=\"url(#clip142)\" d=\"M559.63 267.637 L559.63 315.637 L607.63 315.637 L607.63 267.637 L559.63 267.637 Z\" fill=\"#dccb0e\" fill-rule=\"evenodd\" fill-opacity=\"1\" stroke=\"#000000\" stroke-opacity=\"1\" stroke-width=\"0\"/>\n",
       "<path clip-path=\"url(#clip142)\" d=\"M559.63 335.524 L559.63 383.524 L607.63 383.524 L607.63 335.524 L559.63 335.524 Z\" fill=\"#f7c928\" fill-rule=\"evenodd\" fill-opacity=\"1\" stroke=\"#000000\" stroke-opacity=\"1\" stroke-width=\"0\"/>\n",
       "<path clip-path=\"url(#clip142)\" d=\"M559.63 403.411 L559.63 451.411 L607.63 451.411 L607.63 403.411 L559.63 403.411 Z\" fill=\"#f1cc1a\" fill-rule=\"evenodd\" fill-opacity=\"1\" stroke=\"#000000\" stroke-opacity=\"1\" stroke-width=\"0\"/>\n",
       "<path clip-path=\"url(#clip142)\" d=\"M627.517 131.863 L627.517 179.863 L675.517 179.863 L675.517 131.863 L627.517 131.863 Z\" fill=\"#f7ca27\" fill-rule=\"evenodd\" fill-opacity=\"1\" stroke=\"#000000\" stroke-opacity=\"1\" stroke-width=\"0\"/>\n",
       "<path clip-path=\"url(#clip142)\" d=\"M627.517 199.75 L627.517 247.75 L675.517 247.75 L675.517 199.75 L627.517 199.75 Z\" fill=\"#dccb0e\" fill-rule=\"evenodd\" fill-opacity=\"1\" stroke=\"#000000\" stroke-opacity=\"1\" stroke-width=\"0\"/>\n",
       "<path clip-path=\"url(#clip142)\" d=\"M627.517 267.637 L627.517 315.637 L675.517 315.637 L675.517 267.637 L627.517 267.637 Z\" fill=\"#fdb057\" fill-rule=\"evenodd\" fill-opacity=\"1\" stroke=\"#000000\" stroke-opacity=\"1\" stroke-width=\"0\"/>\n",
       "<path clip-path=\"url(#clip142)\" d=\"M627.517 335.524 L627.517 383.524 L675.517 383.524 L675.517 335.524 L627.517 335.524 Z\" fill=\"#d4c90f\" fill-rule=\"evenodd\" fill-opacity=\"1\" stroke=\"#000000\" stroke-opacity=\"1\" stroke-width=\"0\"/>\n",
       "<path clip-path=\"url(#clip142)\" d=\"M627.517 403.411 L627.517 451.411 L675.517 451.411 L675.517 403.411 L627.517 403.411 Z\" fill=\"#f7c928\" fill-rule=\"evenodd\" fill-opacity=\"1\" stroke=\"#000000\" stroke-opacity=\"1\" stroke-width=\"0\"/>\n",
       "<path clip-path=\"url(#clip142)\" d=\"M695.404 131.863 L695.404 179.863 L743.404 179.863 L743.404 131.863 L695.404 131.863 Z\" fill=\"#f1cd19\" fill-rule=\"evenodd\" fill-opacity=\"1\" stroke=\"#000000\" stroke-opacity=\"1\" stroke-width=\"0\"/>\n",
       "<path clip-path=\"url(#clip142)\" d=\"M695.404 199.75 L695.404 247.75 L743.404 247.75 L743.404 199.75 L695.404 199.75 Z\" fill=\"#f7c928\" fill-rule=\"evenodd\" fill-opacity=\"1\" stroke=\"#000000\" stroke-opacity=\"1\" stroke-width=\"0\"/>\n",
       "<path clip-path=\"url(#clip142)\" d=\"M695.404 267.637 L695.404 315.637 L743.404 315.637 L743.404 267.637 L695.404 267.637 Z\" fill=\"#d4c90f\" fill-rule=\"evenodd\" fill-opacity=\"1\" stroke=\"#000000\" stroke-opacity=\"1\" stroke-width=\"0\"/>\n",
       "<path clip-path=\"url(#clip142)\" d=\"M695.404 335.524 L695.404 383.524 L743.404 383.524 L743.404 335.524 L695.404 335.524 Z\" fill=\"#fe9774\" fill-rule=\"evenodd\" fill-opacity=\"1\" stroke=\"#000000\" stroke-opacity=\"1\" stroke-width=\"0\"/>\n",
       "<path clip-path=\"url(#clip142)\" d=\"M695.404 403.411 L695.404 451.411 L743.404 451.411 L743.404 403.411 L695.404 403.411 Z\" fill=\"#c0c413\" fill-rule=\"evenodd\" fill-opacity=\"1\" stroke=\"#000000\" stroke-opacity=\"1\" stroke-width=\"0\"/>\n",
       "<path clip-path=\"url(#clip142)\" d=\"M763.291 131.863 L763.291 179.863 L811.291 179.863 L811.291 131.863 L763.291 131.863 Z\" fill=\"#f4cc1f\" fill-rule=\"evenodd\" fill-opacity=\"1\" stroke=\"#000000\" stroke-opacity=\"1\" stroke-width=\"0\"/>\n",
       "<path clip-path=\"url(#clip142)\" d=\"M763.291 199.75 L763.291 247.75 L811.291 247.75 L811.291 199.75 L763.291 199.75 Z\" fill=\"#f1cc1a\" fill-rule=\"evenodd\" fill-opacity=\"1\" stroke=\"#000000\" stroke-opacity=\"1\" stroke-width=\"0\"/>\n",
       "<path clip-path=\"url(#clip142)\" d=\"M763.291 267.637 L763.291 315.637 L811.291 315.637 L811.291 267.637 L763.291 267.637 Z\" fill=\"#f7c928\" fill-rule=\"evenodd\" fill-opacity=\"1\" stroke=\"#000000\" stroke-opacity=\"1\" stroke-width=\"0\"/>\n",
       "<path clip-path=\"url(#clip142)\" d=\"M763.291 335.524 L763.291 383.524 L811.291 383.524 L811.291 335.524 L763.291 335.524 Z\" fill=\"#c0c413\" fill-rule=\"evenodd\" fill-opacity=\"1\" stroke=\"#000000\" stroke-opacity=\"1\" stroke-width=\"0\"/>\n",
       "<path clip-path=\"url(#clip142)\" d=\"M763.291 403.411 L763.291 451.411 L811.291 451.411 L811.291 403.411 L763.291 403.411 Z\" fill=\"#fe8a81\" fill-rule=\"evenodd\" fill-opacity=\"1\" stroke=\"#000000\" stroke-opacity=\"1\" stroke-width=\"0\"/>\n",
       "<path clip-path=\"url(#clip142)\" d=\"M763.291 471.298 L763.291 519.298 L811.291 519.298 L811.291 471.298 L763.291 471.298 Z\" fill=\"#bcc314\" fill-rule=\"evenodd\" fill-opacity=\"1\" stroke=\"#000000\" stroke-opacity=\"1\" stroke-width=\"0\"/>\n",
       "<path clip-path=\"url(#clip142)\" d=\"M763.291 539.185 L763.291 587.185 L811.291 587.185 L811.291 539.185 L763.291 539.185 Z\" fill=\"#f8c92a\" fill-rule=\"evenodd\" fill-opacity=\"1\" stroke=\"#000000\" stroke-opacity=\"1\" stroke-width=\"0\"/>\n",
       "<path clip-path=\"url(#clip142)\" d=\"M763.291 607.072 L763.291 655.072 L811.291 655.072 L811.291 607.072 L763.291 607.072 Z\" fill=\"#f1cd19\" fill-rule=\"evenodd\" fill-opacity=\"1\" stroke=\"#000000\" stroke-opacity=\"1\" stroke-width=\"0\"/>\n",
       "<path clip-path=\"url(#clip142)\" d=\"M763.291 674.959 L763.291 722.959 L811.291 722.959 L811.291 674.959 L763.291 674.959 Z\" fill=\"#f4cb1f\" fill-rule=\"evenodd\" fill-opacity=\"1\" stroke=\"#000000\" stroke-opacity=\"1\" stroke-width=\"0\"/>\n",
       "<path clip-path=\"url(#clip142)\" d=\"M763.291 742.846 L763.291 790.846 L811.291 790.846 L811.291 742.846 L763.291 742.846 Z\" fill=\"#f3cc1c\" fill-rule=\"evenodd\" fill-opacity=\"1\" stroke=\"#000000\" stroke-opacity=\"1\" stroke-width=\"0\"/>\n",
       "<path clip-path=\"url(#clip142)\" d=\"M831.178 403.411 L831.178 451.411 L879.178 451.411 L879.178 403.411 L831.178 403.411 Z\" fill=\"#bcc314\" fill-rule=\"evenodd\" fill-opacity=\"1\" stroke=\"#000000\" stroke-opacity=\"1\" stroke-width=\"0\"/>\n",
       "<path clip-path=\"url(#clip142)\" d=\"M831.178 471.298 L831.178 519.298 L879.178 519.298 L879.178 471.298 L831.178 471.298 Z\" fill=\"#fe8d7e\" fill-rule=\"evenodd\" fill-opacity=\"1\" stroke=\"#000000\" stroke-opacity=\"1\" stroke-width=\"0\"/>\n",
       "<path clip-path=\"url(#clip142)\" d=\"M831.178 539.185 L831.178 587.185 L879.178 587.185 L879.178 539.185 L831.178 539.185 Z\" fill=\"#c8c612\" fill-rule=\"evenodd\" fill-opacity=\"1\" stroke=\"#000000\" stroke-opacity=\"1\" stroke-width=\"0\"/>\n",
       "<path clip-path=\"url(#clip142)\" d=\"M831.178 607.072 L831.178 655.072 L879.178 655.072 L879.178 607.072 L831.178 607.072 Z\" fill=\"#f8c72e\" fill-rule=\"evenodd\" fill-opacity=\"1\" stroke=\"#000000\" stroke-opacity=\"1\" stroke-width=\"0\"/>\n",
       "<path clip-path=\"url(#clip142)\" d=\"M831.178 674.959 L831.178 722.959 L879.178 722.959 L879.178 674.959 L831.178 674.959 Z\" fill=\"#efcd17\" fill-rule=\"evenodd\" fill-opacity=\"1\" stroke=\"#000000\" stroke-opacity=\"1\" stroke-width=\"0\"/>\n",
       "<path clip-path=\"url(#clip142)\" d=\"M831.178 742.846 L831.178 790.846 L879.178 790.846 L879.178 742.846 L831.178 742.846 Z\" fill=\"#f4cb1f\" fill-rule=\"evenodd\" fill-opacity=\"1\" stroke=\"#000000\" stroke-opacity=\"1\" stroke-width=\"0\"/>\n",
       "<path clip-path=\"url(#clip142)\" d=\"M899.065 403.411 L899.065 451.411 L947.065 451.411 L947.065 403.411 L899.065 403.411 Z\" fill=\"#f8c92a\" fill-rule=\"evenodd\" fill-opacity=\"1\" stroke=\"#000000\" stroke-opacity=\"1\" stroke-width=\"0\"/>\n",
       "<path clip-path=\"url(#clip142)\" d=\"M899.065 471.298 L899.065 519.298 L947.065 519.298 L947.065 471.298 L899.065 471.298 Z\" fill=\"#c8c612\" fill-rule=\"evenodd\" fill-opacity=\"1\" stroke=\"#000000\" stroke-opacity=\"1\" stroke-width=\"0\"/>\n",
       "<path clip-path=\"url(#clip142)\" d=\"M899.065 539.185 L899.065 587.185 L947.065 587.185 L947.065 539.185 L899.065 539.185 Z\" fill=\"#fe9c6f\" fill-rule=\"evenodd\" fill-opacity=\"1\" stroke=\"#000000\" stroke-opacity=\"1\" stroke-width=\"0\"/>\n",
       "<path clip-path=\"url(#clip142)\" d=\"M899.065 607.072 L899.065 655.072 L947.065 655.072 L947.065 607.072 L899.065 607.072 Z\" fill=\"#c7c612\" fill-rule=\"evenodd\" fill-opacity=\"1\" stroke=\"#000000\" stroke-opacity=\"1\" stroke-width=\"0\"/>\n",
       "<path clip-path=\"url(#clip142)\" d=\"M899.065 674.959 L899.065 722.959 L947.065 722.959 L947.065 674.959 L899.065 674.959 Z\" fill=\"#f9c630\" fill-rule=\"evenodd\" fill-opacity=\"1\" stroke=\"#000000\" stroke-opacity=\"1\" stroke-width=\"0\"/>\n",
       "<path clip-path=\"url(#clip142)\" d=\"M899.065 742.846 L899.065 790.846 L947.065 790.846 L947.065 742.846 L899.065 742.846 Z\" fill=\"#f0cd18\" fill-rule=\"evenodd\" fill-opacity=\"1\" stroke=\"#000000\" stroke-opacity=\"1\" stroke-width=\"0\"/>\n",
       "<path clip-path=\"url(#clip142)\" d=\"M966.952 403.411 L966.952 451.411 L1014.95 451.411 L1014.95 403.411 L966.952 403.411 Z\" fill=\"#f1cd19\" fill-rule=\"evenodd\" fill-opacity=\"1\" stroke=\"#000000\" stroke-opacity=\"1\" stroke-width=\"0\"/>\n",
       "<path clip-path=\"url(#clip142)\" d=\"M966.952 471.298 L966.952 519.298 L1014.95 519.298 L1014.95 471.298 L966.952 471.298 Z\" fill=\"#f8c72e\" fill-rule=\"evenodd\" fill-opacity=\"1\" stroke=\"#000000\" stroke-opacity=\"1\" stroke-width=\"0\"/>\n",
       "<path clip-path=\"url(#clip142)\" d=\"M966.952 539.185 L966.952 587.185 L1014.95 587.185 L1014.95 539.185 L966.952 539.185 Z\" fill=\"#c7c612\" fill-rule=\"evenodd\" fill-opacity=\"1\" stroke=\"#000000\" stroke-opacity=\"1\" stroke-width=\"0\"/>\n",
       "<path clip-path=\"url(#clip142)\" d=\"M966.952 607.072 L966.952 655.072 L1014.95 655.072 L1014.95 607.072 L966.952 607.072 Z\" fill=\"#fe917a\" fill-rule=\"evenodd\" fill-opacity=\"1\" stroke=\"#000000\" stroke-opacity=\"1\" stroke-width=\"0\"/>\n",
       "<path clip-path=\"url(#clip142)\" d=\"M966.952 674.959 L966.952 722.959 L1014.95 722.959 L1014.95 674.959 L966.952 674.959 Z\" fill=\"#b6c215\" fill-rule=\"evenodd\" fill-opacity=\"1\" stroke=\"#000000\" stroke-opacity=\"1\" stroke-width=\"0\"/>\n",
       "<path clip-path=\"url(#clip142)\" d=\"M966.952 742.846 L966.952 790.846 L1014.95 790.846 L1014.95 742.846 L966.952 742.846 Z\" fill=\"#f9c630\" fill-rule=\"evenodd\" fill-opacity=\"1\" stroke=\"#000000\" stroke-opacity=\"1\" stroke-width=\"0\"/>\n",
       "<path clip-path=\"url(#clip142)\" d=\"M1034.84 403.411 L1034.84 451.411 L1082.84 451.411 L1082.84 403.411 L1034.84 403.411 Z\" fill=\"#f4cb1f\" fill-rule=\"evenodd\" fill-opacity=\"1\" stroke=\"#000000\" stroke-opacity=\"1\" stroke-width=\"0\"/>\n",
       "<path clip-path=\"url(#clip142)\" d=\"M1034.84 471.298 L1034.84 519.298 L1082.84 519.298 L1082.84 471.298 L1034.84 471.298 Z\" fill=\"#efcd17\" fill-rule=\"evenodd\" fill-opacity=\"1\" stroke=\"#000000\" stroke-opacity=\"1\" stroke-width=\"0\"/>\n",
       "<path clip-path=\"url(#clip142)\" d=\"M1034.84 539.185 L1034.84 587.185 L1082.84 587.185 L1082.84 539.185 L1034.84 539.185 Z\" fill=\"#f9c630\" fill-rule=\"evenodd\" fill-opacity=\"1\" stroke=\"#000000\" stroke-opacity=\"1\" stroke-width=\"0\"/>\n",
       "<path clip-path=\"url(#clip142)\" d=\"M1034.84 607.072 L1034.84 655.072 L1082.84 655.072 L1082.84 607.072 L1034.84 607.072 Z\" fill=\"#b6c215\" fill-rule=\"evenodd\" fill-opacity=\"1\" stroke=\"#000000\" stroke-opacity=\"1\" stroke-width=\"0\"/>\n",
       "<path clip-path=\"url(#clip142)\" d=\"M1034.84 674.959 L1034.84 722.959 L1082.84 722.959 L1082.84 674.959 L1034.84 674.959 Z\" fill=\"#fa5aa5\" fill-rule=\"evenodd\" fill-opacity=\"1\" stroke=\"#000000\" stroke-opacity=\"1\" stroke-width=\"0\"/>\n",
       "<path clip-path=\"url(#clip142)\" d=\"M1034.84 742.846 L1034.84 790.846 L1082.84 790.846 L1082.84 742.846 L1034.84 742.846 Z\" fill=\"#8fb919\" fill-rule=\"evenodd\" fill-opacity=\"1\" stroke=\"#000000\" stroke-opacity=\"1\" stroke-width=\"0\"/>\n",
       "<path clip-path=\"url(#clip142)\" d=\"M1102.73 403.411 L1102.73 451.411 L1150.73 451.411 L1150.73 403.411 L1102.73 403.411 Z\" fill=\"#f3cc1c\" fill-rule=\"evenodd\" fill-opacity=\"1\" stroke=\"#000000\" stroke-opacity=\"1\" stroke-width=\"0\"/>\n",
       "<path clip-path=\"url(#clip142)\" d=\"M1102.73 471.298 L1102.73 519.298 L1150.73 519.298 L1150.73 471.298 L1102.73 471.298 Z\" fill=\"#f4cb1f\" fill-rule=\"evenodd\" fill-opacity=\"1\" stroke=\"#000000\" stroke-opacity=\"1\" stroke-width=\"0\"/>\n",
       "<path clip-path=\"url(#clip142)\" d=\"M1102.73 539.185 L1102.73 587.185 L1150.73 587.185 L1150.73 539.185 L1102.73 539.185 Z\" fill=\"#f0cd18\" fill-rule=\"evenodd\" fill-opacity=\"1\" stroke=\"#000000\" stroke-opacity=\"1\" stroke-width=\"0\"/>\n",
       "<path clip-path=\"url(#clip142)\" d=\"M1102.73 607.072 L1102.73 655.072 L1150.73 655.072 L1150.73 607.072 L1102.73 607.072 Z\" fill=\"#f9c630\" fill-rule=\"evenodd\" fill-opacity=\"1\" stroke=\"#000000\" stroke-opacity=\"1\" stroke-width=\"0\"/>\n",
       "<path clip-path=\"url(#clip142)\" d=\"M1102.73 674.959 L1102.73 722.959 L1150.73 722.959 L1150.73 674.959 L1102.73 674.959 Z\" fill=\"#8fb919\" fill-rule=\"evenodd\" fill-opacity=\"1\" stroke=\"#000000\" stroke-opacity=\"1\" stroke-width=\"0\"/>\n",
       "<path clip-path=\"url(#clip142)\" d=\"M1102.73 742.846 L1102.73 790.846 L1150.73 790.846 L1150.73 742.846 L1102.73 742.846 Z\" fill=\"#f54194\" fill-rule=\"evenodd\" fill-opacity=\"1\" stroke=\"#000000\" stroke-opacity=\"1\" stroke-width=\"0\"/>\n",
       "<path clip-path=\"url(#clip142)\" d=\"M1102.73 810.733 L1102.73 858.733 L1150.73 858.733 L1150.73 810.733 L1102.73 810.733 Z\" fill=\"#89b71a\" fill-rule=\"evenodd\" fill-opacity=\"1\" stroke=\"#000000\" stroke-opacity=\"1\" stroke-width=\"0\"/>\n",
       "<path clip-path=\"url(#clip142)\" d=\"M1102.73 878.62 L1102.73 926.62 L1150.73 926.62 L1150.73 878.62 L1102.73 878.62 Z\" fill=\"#fac534\" fill-rule=\"evenodd\" fill-opacity=\"1\" stroke=\"#000000\" stroke-opacity=\"1\" stroke-width=\"0\"/>\n",
       "<path clip-path=\"url(#clip142)\" d=\"M1102.73 946.507 L1102.73 994.507 L1150.73 994.507 L1150.73 946.507 L1102.73 946.507 Z\" fill=\"#efcd16\" fill-rule=\"evenodd\" fill-opacity=\"1\" stroke=\"#000000\" stroke-opacity=\"1\" stroke-width=\"0\"/>\n",
       "<path clip-path=\"url(#clip142)\" d=\"M1102.73 1014.39 L1102.73 1062.39 L1150.73 1062.39 L1150.73 1014.39 L1102.73 1014.39 Z\" fill=\"#f4cb20\" fill-rule=\"evenodd\" fill-opacity=\"1\" stroke=\"#000000\" stroke-opacity=\"1\" stroke-width=\"0\"/>\n",
       "<path clip-path=\"url(#clip142)\" d=\"M1102.73 1082.28 L1102.73 1130.28 L1150.73 1130.28 L1150.73 1082.28 L1102.73 1082.28 Z\" fill=\"#f2cc1c\" fill-rule=\"evenodd\" fill-opacity=\"1\" stroke=\"#000000\" stroke-opacity=\"1\" stroke-width=\"0\"/>\n",
       "<path clip-path=\"url(#clip142)\" d=\"M1170.61 742.846 L1170.61 790.846 L1218.61 790.846 L1218.61 742.846 L1170.61 742.846 Z\" fill=\"#89b71a\" fill-rule=\"evenodd\" fill-opacity=\"1\" stroke=\"#000000\" stroke-opacity=\"1\" stroke-width=\"0\"/>\n",
       "<path clip-path=\"url(#clip142)\" d=\"M1170.61 810.733 L1170.61 858.733 L1218.61 858.733 L1218.61 810.733 L1170.61 810.733 Z\" fill=\"#f749a3\" fill-rule=\"evenodd\" fill-opacity=\"1\" stroke=\"#000000\" stroke-opacity=\"1\" stroke-width=\"0\"/>\n",
       "<path clip-path=\"url(#clip142)\" d=\"M1170.61 878.62 L1170.61 926.62 L1218.61 926.62 L1218.61 878.62 L1170.61 878.62 Z\" fill=\"#a4be17\" fill-rule=\"evenodd\" fill-opacity=\"1\" stroke=\"#000000\" stroke-opacity=\"1\" stroke-width=\"0\"/>\n",
       "<path clip-path=\"url(#clip142)\" d=\"M1170.61 946.507 L1170.61 994.507 L1218.61 994.507 L1218.61 946.507 L1170.61 946.507 Z\" fill=\"#fac338\" fill-rule=\"evenodd\" fill-opacity=\"1\" stroke=\"#000000\" stroke-opacity=\"1\" stroke-width=\"0\"/>\n",
       "<path clip-path=\"url(#clip142)\" d=\"M1170.61 1014.39 L1170.61 1062.39 L1218.61 1062.39 L1218.61 1014.39 L1170.61 1014.39 Z\" fill=\"#edcd14\" fill-rule=\"evenodd\" fill-opacity=\"1\" stroke=\"#000000\" stroke-opacity=\"1\" stroke-width=\"0\"/>\n",
       "<path clip-path=\"url(#clip142)\" d=\"M1170.61 1082.28 L1170.61 1130.28 L1218.61 1130.28 L1218.61 1082.28 L1170.61 1082.28 Z\" fill=\"#f4cb21\" fill-rule=\"evenodd\" fill-opacity=\"1\" stroke=\"#000000\" stroke-opacity=\"1\" stroke-width=\"0\"/>\n",
       "<path clip-path=\"url(#clip142)\" d=\"M1238.5 742.846 L1238.5 790.846 L1286.5 790.846 L1286.5 742.846 L1238.5 742.846 Z\" fill=\"#fac534\" fill-rule=\"evenodd\" fill-opacity=\"1\" stroke=\"#000000\" stroke-opacity=\"1\" stroke-width=\"0\"/>\n",
       "<path clip-path=\"url(#clip142)\" d=\"M1238.5 810.733 L1238.5 858.733 L1286.5 858.733 L1286.5 810.733 L1238.5 810.733 Z\" fill=\"#a4be17\" fill-rule=\"evenodd\" fill-opacity=\"1\" stroke=\"#000000\" stroke-opacity=\"1\" stroke-width=\"0\"/>\n",
       "<path clip-path=\"url(#clip142)\" d=\"M1238.5 878.62 L1238.5 926.62 L1286.5 926.62 L1286.5 878.62 L1238.5 878.62 Z\" fill=\"#fc7295\" fill-rule=\"evenodd\" fill-opacity=\"1\" stroke=\"#000000\" stroke-opacity=\"1\" stroke-width=\"0\"/>\n",
       "<path clip-path=\"url(#clip142)\" d=\"M1238.5 946.507 L1238.5 994.507 L1286.5 994.507 L1286.5 946.507 L1238.5 946.507 Z\" fill=\"#a8bf17\" fill-rule=\"evenodd\" fill-opacity=\"1\" stroke=\"#000000\" stroke-opacity=\"1\" stroke-width=\"0\"/>\n",
       "<path clip-path=\"url(#clip142)\" d=\"M1238.5 1014.39 L1238.5 1062.39 L1286.5 1062.39 L1286.5 1014.39 L1238.5 1014.39 Z\" fill=\"#fbc23a\" fill-rule=\"evenodd\" fill-opacity=\"1\" stroke=\"#000000\" stroke-opacity=\"1\" stroke-width=\"0\"/>\n",
       "<path clip-path=\"url(#clip142)\" d=\"M1238.5 1082.28 L1238.5 1130.28 L1286.5 1130.28 L1286.5 1082.28 L1238.5 1082.28 Z\" fill=\"#efcd16\" fill-rule=\"evenodd\" fill-opacity=\"1\" stroke=\"#000000\" stroke-opacity=\"1\" stroke-width=\"0\"/>\n",
       "<path clip-path=\"url(#clip142)\" d=\"M1306.39 742.846 L1306.39 790.846 L1354.39 790.846 L1354.39 742.846 L1306.39 742.846 Z\" fill=\"#efcd16\" fill-rule=\"evenodd\" fill-opacity=\"1\" stroke=\"#000000\" stroke-opacity=\"1\" stroke-width=\"0\"/>\n",
       "<path clip-path=\"url(#clip142)\" d=\"M1306.39 810.733 L1306.39 858.733 L1354.39 858.733 L1354.39 810.733 L1306.39 810.733 Z\" fill=\"#fac338\" fill-rule=\"evenodd\" fill-opacity=\"1\" stroke=\"#000000\" stroke-opacity=\"1\" stroke-width=\"0\"/>\n",
       "<path clip-path=\"url(#clip142)\" d=\"M1306.39 878.62 L1306.39 926.62 L1354.39 926.62 L1354.39 878.62 L1306.39 878.62 Z\" fill=\"#a8bf17\" fill-rule=\"evenodd\" fill-opacity=\"1\" stroke=\"#000000\" stroke-opacity=\"1\" stroke-width=\"0\"/>\n",
       "<path clip-path=\"url(#clip142)\" d=\"M1306.39 946.507 L1306.39 994.507 L1354.39 994.507 L1354.39 946.507 L1306.39 946.507 Z\" fill=\"#fb659f\" fill-rule=\"evenodd\" fill-opacity=\"1\" stroke=\"#000000\" stroke-opacity=\"1\" stroke-width=\"0\"/>\n",
       "<path clip-path=\"url(#clip142)\" d=\"M1306.39 1014.39 L1306.39 1062.39 L1354.39 1062.39 L1354.39 1014.39 L1306.39 1014.39 Z\" fill=\"#92b919\" fill-rule=\"evenodd\" fill-opacity=\"1\" stroke=\"#000000\" stroke-opacity=\"1\" stroke-width=\"0\"/>\n",
       "<path clip-path=\"url(#clip142)\" d=\"M1306.39 1082.28 L1306.39 1130.28 L1354.39 1130.28 L1354.39 1082.28 L1306.39 1082.28 Z\" fill=\"#fac239\" fill-rule=\"evenodd\" fill-opacity=\"1\" stroke=\"#000000\" stroke-opacity=\"1\" stroke-width=\"0\"/>\n",
       "<path clip-path=\"url(#clip142)\" d=\"M1374.27 742.846 L1374.27 790.846 L1422.27 790.846 L1422.27 742.846 L1374.27 742.846 Z\" fill=\"#f4cb20\" fill-rule=\"evenodd\" fill-opacity=\"1\" stroke=\"#000000\" stroke-opacity=\"1\" stroke-width=\"0\"/>\n",
       "<path clip-path=\"url(#clip142)\" d=\"M1374.27 810.733 L1374.27 858.733 L1422.27 858.733 L1422.27 810.733 L1374.27 810.733 Z\" fill=\"#edcd14\" fill-rule=\"evenodd\" fill-opacity=\"1\" stroke=\"#000000\" stroke-opacity=\"1\" stroke-width=\"0\"/>\n",
       "<path clip-path=\"url(#clip142)\" d=\"M1374.27 878.62 L1374.27 926.62 L1422.27 926.62 L1422.27 878.62 L1374.27 878.62 Z\" fill=\"#fbc23a\" fill-rule=\"evenodd\" fill-opacity=\"1\" stroke=\"#000000\" stroke-opacity=\"1\" stroke-width=\"0\"/>\n",
       "<path clip-path=\"url(#clip142)\" d=\"M1374.27 946.507 L1374.27 994.507 L1422.27 994.507 L1422.27 946.507 L1374.27 946.507 Z\" fill=\"#92b919\" fill-rule=\"evenodd\" fill-opacity=\"1\" stroke=\"#000000\" stroke-opacity=\"1\" stroke-width=\"0\"/>\n",
       "<path clip-path=\"url(#clip142)\" d=\"M1374.27 1014.39 L1374.27 1062.39 L1422.27 1062.39 L1422.27 1014.39 L1374.27 1014.39 Z\" fill=\"#e8254a\" fill-rule=\"evenodd\" fill-opacity=\"1\" stroke=\"#000000\" stroke-opacity=\"1\" stroke-width=\"0\"/>\n",
       "<path clip-path=\"url(#clip142)\" d=\"M1374.27 1082.28 L1374.27 1130.28 L1422.27 1130.28 L1422.27 1082.28 L1374.27 1082.28 Z\" fill=\"#55ab1f\" fill-rule=\"evenodd\" fill-opacity=\"1\" stroke=\"#000000\" stroke-opacity=\"1\" stroke-width=\"0\"/>\n",
       "<path clip-path=\"url(#clip142)\" d=\"M1442.16 742.846 L1442.16 790.846 L1490.16 790.846 L1490.16 742.846 L1442.16 742.846 Z\" fill=\"#f2cc1c\" fill-rule=\"evenodd\" fill-opacity=\"1\" stroke=\"#000000\" stroke-opacity=\"1\" stroke-width=\"0\"/>\n",
       "<path clip-path=\"url(#clip142)\" d=\"M1442.16 810.733 L1442.16 858.733 L1490.16 858.733 L1490.16 810.733 L1442.16 810.733 Z\" fill=\"#f4cb21\" fill-rule=\"evenodd\" fill-opacity=\"1\" stroke=\"#000000\" stroke-opacity=\"1\" stroke-width=\"0\"/>\n",
       "<path clip-path=\"url(#clip142)\" d=\"M1442.16 878.62 L1442.16 926.62 L1490.16 926.62 L1490.16 878.62 L1442.16 878.62 Z\" fill=\"#efcd16\" fill-rule=\"evenodd\" fill-opacity=\"1\" stroke=\"#000000\" stroke-opacity=\"1\" stroke-width=\"0\"/>\n",
       "<path clip-path=\"url(#clip142)\" d=\"M1442.16 946.507 L1442.16 994.507 L1490.16 994.507 L1490.16 946.507 L1442.16 946.507 Z\" fill=\"#fac239\" fill-rule=\"evenodd\" fill-opacity=\"1\" stroke=\"#000000\" stroke-opacity=\"1\" stroke-width=\"0\"/>\n",
       "<path clip-path=\"url(#clip142)\" d=\"M1442.16 1014.39 L1442.16 1062.39 L1490.16 1062.39 L1490.16 1014.39 L1442.16 1014.39 Z\" fill=\"#55ab1f\" fill-rule=\"evenodd\" fill-opacity=\"1\" stroke=\"#000000\" stroke-opacity=\"1\" stroke-width=\"0\"/>\n",
       "<path clip-path=\"url(#clip142)\" d=\"M1442.16 1082.28 L1442.16 1130.28 L1490.16 1130.28 L1490.16 1082.28 L1442.16 1082.28 Z\" fill=\"#d60400\" fill-rule=\"evenodd\" fill-opacity=\"1\" stroke=\"#000000\" stroke-opacity=\"1\" stroke-width=\"0\"/>\n",
       "<path clip-path=\"url(#clip142)\" d=\"M1442.16 1150.17 L1442.16 1198.17 L1490.16 1198.17 L1490.16 1150.17 L1442.16 1150.17 Z\" fill=\"#4faa20\" fill-rule=\"evenodd\" fill-opacity=\"1\" stroke=\"#000000\" stroke-opacity=\"1\" stroke-width=\"0\"/>\n",
       "<path clip-path=\"url(#clip142)\" d=\"M1442.16 1218.05 L1442.16 1266.05 L1490.16 1266.05 L1490.16 1218.05 L1442.16 1218.05 Z\" fill=\"#fbc13b\" fill-rule=\"evenodd\" fill-opacity=\"1\" stroke=\"#000000\" stroke-opacity=\"1\" stroke-width=\"0\"/>\n",
       "<path clip-path=\"url(#clip142)\" d=\"M1442.16 1285.94 L1442.16 1333.94 L1490.16 1333.94 L1490.16 1285.94 L1442.16 1285.94 Z\" fill=\"#eecd15\" fill-rule=\"evenodd\" fill-opacity=\"1\" stroke=\"#000000\" stroke-opacity=\"1\" stroke-width=\"0\"/>\n",
       "<path clip-path=\"url(#clip142)\" d=\"M1442.16 1353.83 L1442.16 1401.83 L1490.16 1401.83 L1490.16 1353.83 L1442.16 1353.83 Z\" fill=\"#f5cb21\" fill-rule=\"evenodd\" fill-opacity=\"1\" stroke=\"#000000\" stroke-opacity=\"1\" stroke-width=\"0\"/>\n",
       "<path clip-path=\"url(#clip142)\" d=\"M1442.16 1421.72 L1442.16 1469.72 L1490.16 1469.72 L1490.16 1421.72 L1442.16 1421.72 Z\" fill=\"#f2cc1c\" fill-rule=\"evenodd\" fill-opacity=\"1\" stroke=\"#000000\" stroke-opacity=\"1\" stroke-width=\"0\"/>\n",
       "<path clip-path=\"url(#clip142)\" d=\"M1510.05 1082.28 L1510.05 1130.28 L1558.05 1130.28 L1558.05 1082.28 L1510.05 1082.28 Z\" fill=\"#4faa20\" fill-rule=\"evenodd\" fill-opacity=\"1\" stroke=\"#000000\" stroke-opacity=\"1\" stroke-width=\"0\"/>\n",
       "<path clip-path=\"url(#clip142)\" d=\"M1510.05 1150.17 L1510.05 1198.17 L1558.05 1198.17 L1558.05 1150.17 L1510.05 1150.17 Z\" fill=\"#e21c34\" fill-rule=\"evenodd\" fill-opacity=\"1\" stroke=\"#000000\" stroke-opacity=\"1\" stroke-width=\"0\"/>\n",
       "<path clip-path=\"url(#clip142)\" d=\"M1510.05 1218.05 L1510.05 1266.05 L1558.05 1266.05 L1558.05 1218.05 L1510.05 1218.05 Z\" fill=\"#85b61b\" fill-rule=\"evenodd\" fill-opacity=\"1\" stroke=\"#000000\" stroke-opacity=\"1\" stroke-width=\"0\"/>\n",
       "<path clip-path=\"url(#clip142)\" d=\"M1510.05 1285.94 L1510.05 1333.94 L1558.05 1333.94 L1558.05 1285.94 L1510.05 1285.94 Z\" fill=\"#fbc03f\" fill-rule=\"evenodd\" fill-opacity=\"1\" stroke=\"#000000\" stroke-opacity=\"1\" stroke-width=\"0\"/>\n",
       "<path clip-path=\"url(#clip142)\" d=\"M1510.05 1353.83 L1510.05 1401.83 L1558.05 1401.83 L1558.05 1353.83 L1510.05 1353.83 Z\" fill=\"#eccd12\" fill-rule=\"evenodd\" fill-opacity=\"1\" stroke=\"#000000\" stroke-opacity=\"1\" stroke-width=\"0\"/>\n",
       "<path clip-path=\"url(#clip142)\" d=\"M1510.05 1421.72 L1510.05 1469.72 L1558.05 1469.72 L1558.05 1421.72 L1510.05 1421.72 Z\" fill=\"#f5cb21\" fill-rule=\"evenodd\" fill-opacity=\"1\" stroke=\"#000000\" stroke-opacity=\"1\" stroke-width=\"0\"/>\n",
       "<path clip-path=\"url(#clip142)\" d=\"M1577.93 1082.28 L1577.93 1130.28 L1625.93 1130.28 L1625.93 1082.28 L1577.93 1082.28 Z\" fill=\"#fbc13b\" fill-rule=\"evenodd\" fill-opacity=\"1\" stroke=\"#000000\" stroke-opacity=\"1\" stroke-width=\"0\"/>\n",
       "<path clip-path=\"url(#clip142)\" d=\"M1577.93 1150.17 L1577.93 1198.17 L1625.93 1198.17 L1625.93 1150.17 L1577.93 1150.17 Z\" fill=\"#85b61b\" fill-rule=\"evenodd\" fill-opacity=\"1\" stroke=\"#000000\" stroke-opacity=\"1\" stroke-width=\"0\"/>\n",
       "<path clip-path=\"url(#clip142)\" d=\"M1577.93 1218.05 L1577.93 1266.05 L1625.93 1266.05 L1625.93 1218.05 L1577.93 1218.05 Z\" fill=\"#f84ba5\" fill-rule=\"evenodd\" fill-opacity=\"1\" stroke=\"#000000\" stroke-opacity=\"1\" stroke-width=\"0\"/>\n",
       "<path clip-path=\"url(#clip142)\" d=\"M1577.93 1285.94 L1577.93 1333.94 L1625.93 1333.94 L1625.93 1285.94 L1577.93 1285.94 Z\" fill=\"#92b919\" fill-rule=\"evenodd\" fill-opacity=\"1\" stroke=\"#000000\" stroke-opacity=\"1\" stroke-width=\"0\"/>\n",
       "<path clip-path=\"url(#clip142)\" d=\"M1577.93 1353.83 L1577.93 1401.83 L1625.93 1401.83 L1625.93 1353.83 L1577.93 1353.83 Z\" fill=\"#fbbf3f\" fill-rule=\"evenodd\" fill-opacity=\"1\" stroke=\"#000000\" stroke-opacity=\"1\" stroke-width=\"0\"/>\n",
       "<path clip-path=\"url(#clip142)\" d=\"M1577.93 1421.72 L1577.93 1469.72 L1625.93 1469.72 L1625.93 1421.72 L1577.93 1421.72 Z\" fill=\"#eecd14\" fill-rule=\"evenodd\" fill-opacity=\"1\" stroke=\"#000000\" stroke-opacity=\"1\" stroke-width=\"0\"/>\n",
       "<path clip-path=\"url(#clip142)\" d=\"M1645.82 1082.28 L1645.82 1130.28 L1693.82 1130.28 L1693.82 1082.28 L1645.82 1082.28 Z\" fill=\"#eecd15\" fill-rule=\"evenodd\" fill-opacity=\"1\" stroke=\"#000000\" stroke-opacity=\"1\" stroke-width=\"0\"/>\n",
       "<path clip-path=\"url(#clip142)\" d=\"M1645.82 1150.17 L1645.82 1198.17 L1693.82 1198.17 L1693.82 1150.17 L1645.82 1150.17 Z\" fill=\"#fbc03f\" fill-rule=\"evenodd\" fill-opacity=\"1\" stroke=\"#000000\" stroke-opacity=\"1\" stroke-width=\"0\"/>\n",
       "<path clip-path=\"url(#clip142)\" d=\"M1645.82 1218.05 L1645.82 1266.05 L1693.82 1266.05 L1693.82 1218.05 L1645.82 1218.05 Z\" fill=\"#92b919\" fill-rule=\"evenodd\" fill-opacity=\"1\" stroke=\"#000000\" stroke-opacity=\"1\" stroke-width=\"0\"/>\n",
       "<path clip-path=\"url(#clip142)\" d=\"M1645.82 1285.94 L1645.82 1333.94 L1693.82 1333.94 L1693.82 1285.94 L1645.82 1285.94 Z\" fill=\"#f747a0\" fill-rule=\"evenodd\" fill-opacity=\"1\" stroke=\"#000000\" stroke-opacity=\"1\" stroke-width=\"0\"/>\n",
       "<path clip-path=\"url(#clip142)\" d=\"M1645.82 1353.83 L1645.82 1401.83 L1693.82 1401.83 L1693.82 1353.83 L1645.82 1353.83 Z\" fill=\"#7cb41b\" fill-rule=\"evenodd\" fill-opacity=\"1\" stroke=\"#000000\" stroke-opacity=\"1\" stroke-width=\"0\"/>\n",
       "<path clip-path=\"url(#clip142)\" d=\"M1645.82 1421.72 L1645.82 1469.72 L1693.82 1469.72 L1693.82 1421.72 L1645.82 1421.72 Z\" fill=\"#fbc03e\" fill-rule=\"evenodd\" fill-opacity=\"1\" stroke=\"#000000\" stroke-opacity=\"1\" stroke-width=\"0\"/>\n",
       "<path clip-path=\"url(#clip142)\" d=\"M1713.71 1082.28 L1713.71 1130.28 L1761.71 1130.28 L1761.71 1082.28 L1713.71 1082.28 Z\" fill=\"#f5cb21\" fill-rule=\"evenodd\" fill-opacity=\"1\" stroke=\"#000000\" stroke-opacity=\"1\" stroke-width=\"0\"/>\n",
       "<path clip-path=\"url(#clip142)\" d=\"M1713.71 1150.17 L1713.71 1198.17 L1761.71 1198.17 L1761.71 1150.17 L1713.71 1150.17 Z\" fill=\"#eccd12\" fill-rule=\"evenodd\" fill-opacity=\"1\" stroke=\"#000000\" stroke-opacity=\"1\" stroke-width=\"0\"/>\n",
       "<path clip-path=\"url(#clip142)\" d=\"M1713.71 1218.05 L1713.71 1266.05 L1761.71 1266.05 L1761.71 1218.05 L1713.71 1218.05 Z\" fill=\"#fbbf3f\" fill-rule=\"evenodd\" fill-opacity=\"1\" stroke=\"#000000\" stroke-opacity=\"1\" stroke-width=\"0\"/>\n",
       "<path clip-path=\"url(#clip142)\" d=\"M1713.71 1285.94 L1713.71 1333.94 L1761.71 1333.94 L1761.71 1285.94 L1713.71 1285.94 Z\" fill=\"#7cb41b\" fill-rule=\"evenodd\" fill-opacity=\"1\" stroke=\"#000000\" stroke-opacity=\"1\" stroke-width=\"0\"/>\n",
       "<path clip-path=\"url(#clip142)\" d=\"M1713.71 1353.83 L1713.71 1401.83 L1761.71 1401.83 L1761.71 1353.83 L1713.71 1353.83 Z\" fill=\"#d70503\" fill-rule=\"evenodd\" fill-opacity=\"1\" stroke=\"#000000\" stroke-opacity=\"1\" stroke-width=\"0\"/>\n",
       "<path clip-path=\"url(#clip142)\" d=\"M1713.71 1421.72 L1713.71 1469.72 L1761.71 1469.72 L1761.71 1421.72 L1713.71 1421.72 Z\" fill=\"#3ea334\" fill-rule=\"evenodd\" fill-opacity=\"1\" stroke=\"#000000\" stroke-opacity=\"1\" stroke-width=\"0\"/>\n",
       "<path clip-path=\"url(#clip142)\" d=\"M1781.6 1082.28 L1781.6 1130.28 L1829.6 1130.28 L1829.6 1082.28 L1781.6 1082.28 Z\" fill=\"#f2cc1c\" fill-rule=\"evenodd\" fill-opacity=\"1\" stroke=\"#000000\" stroke-opacity=\"1\" stroke-width=\"0\"/>\n",
       "<path clip-path=\"url(#clip142)\" d=\"M1781.6 1150.17 L1781.6 1198.17 L1829.6 1198.17 L1829.6 1150.17 L1781.6 1150.17 Z\" fill=\"#f5cb21\" fill-rule=\"evenodd\" fill-opacity=\"1\" stroke=\"#000000\" stroke-opacity=\"1\" stroke-width=\"0\"/>\n",
       "<path clip-path=\"url(#clip142)\" d=\"M1781.6 1218.05 L1781.6 1266.05 L1829.6 1266.05 L1829.6 1218.05 L1781.6 1218.05 Z\" fill=\"#eecd14\" fill-rule=\"evenodd\" fill-opacity=\"1\" stroke=\"#000000\" stroke-opacity=\"1\" stroke-width=\"0\"/>\n",
       "<path clip-path=\"url(#clip142)\" d=\"M1781.6 1285.94 L1781.6 1333.94 L1829.6 1333.94 L1829.6 1285.94 L1781.6 1285.94 Z\" fill=\"#fbc03e\" fill-rule=\"evenodd\" fill-opacity=\"1\" stroke=\"#000000\" stroke-opacity=\"1\" stroke-width=\"0\"/>\n",
       "<path clip-path=\"url(#clip142)\" d=\"M1781.6 1353.83 L1781.6 1401.83 L1829.6 1401.83 L1829.6 1353.83 L1781.6 1353.83 Z\" fill=\"#3ea334\" fill-rule=\"evenodd\" fill-opacity=\"1\" stroke=\"#000000\" stroke-opacity=\"1\" stroke-width=\"0\"/>\n",
       "<path clip-path=\"url(#clip142)\" d=\"M1781.6 1421.72 L1781.6 1469.72 L1829.6 1469.72 L1829.6 1421.72 L1781.6 1421.72 Z\" fill=\"#fa5aa6\" fill-rule=\"evenodd\" fill-opacity=\"1\" stroke=\"#000000\" stroke-opacity=\"1\" stroke-width=\"0\"/>\n",
       "<defs>\n",
       "  <clipPath id=\"clip143\">\n",
       "    <rect x=\"1894\" y=\"47\" width=\"73\" height=\"1440\"/>\n",
       "  </clipPath>\n",
       "</defs>\n",
       "<g clip-path=\"url(#clip143)\">\n",
       "<image width=\"72\" height=\"1439\" xlink:href=\"data:image/png;base64,\n",
       "iVBORw0KGgoAAAANSUhEUgAAAEgAAAWfCAYAAAAI7rB3AAAMnklEQVR4nO3dwZHjRhBFQYBTu/5b\n",
       "J2OkJbAWqN4ROGRawHjxg4xGDznnP3PcB//r8/QLeDuBgkBBoCBQmPPn99Ov4dUsKAgUBAoCBYHC\n",
       "nB+fYhsLCgIFgYJAYc6fX0+/hlezoCBQECgIFAQKc358im0sKAgUBAoCBYHCnJ95+jW8mgUFgYJA\n",
       "QaDgTTpYUBAoCBQECgIFn2LBgoJAQaAgUPAmHSwoCBQECgIFgcKcp0+xjQUFgYJAQaAgUJjz8/P0\n",
       "a3g1CwoCBYGCQMEDs2BBQaAgUBAoCBTmPB01NhYUBAoCBYGCQMFZLFhQECgIFAQKjhrBgoJAQaAg\n",
       "UBAo+BQLFhQECgIFgcIcngetLCgIFAQKAgWBgqNGsKAgUBAoCBQECr7MEiwoCBQECgIF35sPFhQE\n",
       "CgIFgYJAwQOzYEFBoCBQECgIFObwwGxlQUGgIFAQKHhgFiwoCBQECgIFgYIHZsGCgkBBoCBQ8CYd\n",
       "LCgIFAQKAgWBgq9kBgsKAgWBgkBBoOAsFiwoCBQECgIFb9LBgoJAQaAgUBAozOEvzFYWFAQKAgWB\n",
       "gkDBr78ECwoCBYGCQMEDs2BBQaAgUBAoCBQ8MAsWFAQKAgWBgqNGsKAgUBAoCBQECj7FggUFgYJA\n",
       "QaAgUPCVzGBBQaAgUBAoOGoECwoCBYGCQEGg4G4+WFAQKAgUBAqOGsGCgkBBoCBQECjM4VNsZUFB\n",
       "oCBQECgIFOZ0N7+yoCBQECgIFBw1ggUFgYJAQaAgUPApFiwoCBQECgIFgYI/XggWFAQKAgWBwhx+\n",
       "DXhlQUGgIFAQKAgUHDWCBQWBgkBBoDDHR6ONOkGgIFAQKAgU5jg12qgTBAoCBYGCQGFOZ7GVOkGg\n",
       "IFAQKHhgFtQJAgWBgkBBoDDHeT79Gl7NgoJAQaAgUBAojEQ7eYJAQaAgUJjz46ixsaAgUBAoCBQE\n",
       "Co4aQZ4gUBAoCBTm+NxPv4ZXs6AgUBAoCBQECuO7LDt5gkBBoCBQECg4iwULCgIFgYJAwZt0sKAg\n",
       "UBAoCBQECj7FggUFgYJAQaAgUJjTp9jKgoJAQaAgUJjjcz39Gl7NgoJAQaAgUBAoeGAWLCgIFAQK\n",
       "AgVv0sGCgkBBoCBQECh4YBYsKAgUBAoCBYGCu/lgQUGgIFAQKDhqBAsKAgWBgkBBoODaJ1hQECgI\n",
       "FAQK3qSDBQWBgkBBoCBQ8MAsWFAQKAgUBAoCBXfzwYKCQEGgIFBw1AgWFAQKAgWBgkBhjtNRY2NB\n",
       "QaAgUBAoCBScxYIFBYGCQEGg4C/MggUFgYJAQaAgUHDUCBYUBAoCBYGCW41gQUGgIFAQKAgUPDAL\n",
       "FhQECgIFgYJAYU4PzFYWFAQKAgWBggdmwYKCQEGgIFAQKLibDxYUBAoCBYGCQMG1T7CgIFAQKAgU\n",
       "HDWCBQWBgkBBoCBQcO0TLCgIFAQKAgVHjWBBQaAgUBAoCBTmOH2KbSwoCBQECgIFgYK7+WBBQaAg\n",
       "UBAoeGAWLCgIFAQKAgWBgrv5YEFBoCBQECgIFJzFggUFgYJAQaDgqBEsKAgUBAoCBYGCo0awoCBQ\n",
       "ECgIFLxJBwsKAgWBgkBBoOCBWbCgIFAQKAgUBArOYsGCgkBBoCBQ8L35YEFBoCBQECgIFHxvPlhQ\n",
       "ECgIFAQKAgVnsWBBQaAgUBAouNUIFhQECgIFgYJAwV+YBQsKAgWBgkDBUSNYUBAoCBQECgIFtxrB\n",
       "goJAQaAgUBAoOIsFCwoCBYGCQMFRI1hQECgIFAQKAoW5fZllZUFBoCBQECg4agQLCgIFgYJAQaDg\n",
       "ViNYUBAoCBQECgIFZ7FgQUGgIFAQKDhqBAsKAgWBgkBBoOCoESwoCBQECgIFgYKzWLCgIFAQKAgU\n",
       "HDWCBQWBgkBBoCBQmNtRY2VBQaAgUBAozHF+n34Nr2ZBQaAgUBAoCBTcagQLCgIFgYJAQaDg2idY\n",
       "UBAoCBQECo4awYKCQEGgIFAQKLj2CRYUBAoCBYGCQGFuD8xWFhQECgIFgcIcH0eNjQUFgYJAQaAg\n",
       "UPDALFhQECgIFAQKvnEYLCgIFAQKAgWBgqNGsKAgUBAoCBQECnP7FFtZUBAoCBQECnN8/jz9Gl7N\n",
       "goJAQaAgUBAoOGoECwoCBYGCQEGg4FMsWFAQKAgUBApznx6YbSwoCBQECgIFgYKjRrCgIFAQKAgU\n",
       "vEkHCwoCBYGCQEGgMNfhU2xjQUGgIFAQKAgU5nLts7KgIFAQKAgU5j78+svGgoJAQaAgUBAoeGAW\n",
       "LCgIFAQKAoW5HDVWFhQECgIFgYJAYa7jfvo1vJoFBYGCQEGgIFBwFgsWFAQKAgWBwniL3llQECgI\n",
       "FAQKAoX53h6YbSwoCBQECgIFgYKzWLCgIFAQKAgU5nLSWFlQECgIFAQKAoW5jvPp1/BqFhQECgIF\n",
       "gYKjRrCgIFAQKAgUBApuNYIFBYGCQEGgIFDwwCxYUBAoCBQECh6YBQsKAgWBgkBBoOCoESwoCBQE\n",
       "CgIFgcJ8ncVWFhQECgIFgYKjRrCgIFAQKAgUBAqufYIFBYGCQEGg4M+AgwUFgYJAQaAgUJjr9sBs\n",
       "Y0FBoCBQECgIFJzFggUFgYJAQaDgqBEsKAgUBAoCBYGCo0awoCBQECgIFAQKvswSLCgIFAQKAgUP\n",
       "zIIFBYGCQEGgIFDwwCxYUBAoCBQECr5xGCwoCBQECgIFgYJffwkWFAQKAgWBgkDBWSxYUBAoCBQE\n",
       "CvN9+hW8nAUFgYJAQaAgUPAXZsGCgkBBoCBQ8AdUwYKCQEGgIFAQKLjVCBYUBAoCBYGCQMFfmAUL\n",
       "CgIFgYJAwY+bBAsKAgWBgkBBoODaJ1hQECgIFAQKAgXXPsGCgkBBoCBQcKsRLCgIFAQKAgWBgqNG\n",
       "sKAgUBAoCBTczQcLCgIFgYJAQaDgbj5YUBAoCBQECgIFv/4SLCgIFAQKAgVHjWBBQaAgUBAoCBRc\n",
       "+wQLCgIFgYJAQaDgLBYsKAgUBAoCBbcawYKCQEGgIFAQKPj/YsGCgkBBoCBQ8I3DYEFBoCBQECgI\n",
       "FHyKBQsKAgWBgkBBoDBfv2G2sqAgUBAoCBQcNYIFBYGCQEGgIFDwZ8DBgoJAQaAgUBAo+EpmsKAg\n",
       "UBAoCBQcNYIFBYGCQEGgIFCYr69kriwoCBQECgIFd/PBgoJAQaAgUBAoeGAWLCgIFAQKAgWBgrv5\n",
       "YEFBoCBQECj4ia5gQUGgIFAQKAgU/FxysKAgUBAoCBQECs5iwYKCQEGgIFDwF2bBgoJAQaAgUBAo\n",
       "uJsPFhQECgIFgYLnQcGCgkBBoCBQECi4mw8WFAQKAgWBgkDBWSxYUBAoCBQECm41ggUFgYJAQaAg\n",
       "UPBDk8GCgkBBoCBQ8DwoWFAQKAgUBAoCBXfzwYKCQEGgIFAQKHhgFiwoCBQECgKF+R7epDcWFAQK\n",
       "AgWBgkDBA7NgQUGgIFAQKAgU5ntrtFEnCBQECgKFubxJr9QJAgWBgkBBoDDX8fP0a3g1CwoCBYGC\n",
       "QGGu25v0xoKCQEGgIFAQKMx9z9Ov4dUsKAgUBAoCBYHC3M5iKwsKAgWBgkDBUSNYUBAoCBQECgKF\n",
       "ue9fT7+GV7OgIFAQKAgUBApzOIutLCgIFAQKAoU5HDVWFhQECgIFgYJAwbVPsKAgUBAoCBQcNYIF\n",
       "BYGCQEGgIFCY4/IptrGgIFAQKAgUBAr+wixYUBAoCBQECm41ggUFgYJAQaAgUHDtEywoCBQECgIF\n",
       "gYIHZsGCgkBBoCBQmMsDs5UFBYGCQEGgIFBw1AgWFAQKAgWBwlyXo8bGgoJAQaAgUBAozOWosbKg\n",
       "IFAQKAgUBAqufYIFBYGCQEGgMF9HjZUFBYGCQEGgIFCYr6PGyoKCQEGgIFDwJh0sKAgUBAoCBYHC\n",
       "fP3Q5MqCgkBBoCBQECg4iwULCgIFgYJAYf54k15ZUBAoCBQECgIFR41gQUGgIFAQKAgU5uuHBVYW\n",
       "FAQKAgWBgm8cBgsKAgWBgkBBoOA3zIIFBYGCQEGgMIejxsqCgkBBoCBQECjM4aixsqAgUBAoCBQE\n",
       "CnM6i60sKAgUBAoChTkdNVYWFAQKAgWBgkBhPj7FVhYUBAoCBYGCQMFZLFhQECgIFAQK83GrsbKg\n",
       "IFAQKAgUBApzXj9Pv4ZXs6AgUBAoCBQ8DwoWFAQKAgWBgkDBp1iwoCBQECgIFAQKPsWCBQWBgkBB\n",
       "oDCHW42VBQWBgkBBoCBQ8OsvwYKCQEGgIFAQKPgUCxYUBAoCBYHC3N6kVxYUBAoCBYGCQMF/ZgkW\n",
       "FAQKAgWBwtzu5lcWFAQKAgWBgkDB/5sPFhQECgIFgYJAYb5fn2IbCwoCBYGCQGH+c9RYWVAQKAgU\n",
       "BAoChfnXp9jKgoJAQaAgUPgLTYkxpngRgUkAAAAASUVORK5CYII=\n",
       "\" transform=\"translate(1894, 47)\"/>\n",
       "</g>\n",
       "<path clip-path=\"url(#clip140)\" d=\"M2002.33 1355.78 L2032 1355.78 L2032 1359.71 L2002.33 1359.71 L2002.33 1355.78 Z\" fill=\"#000000\" fill-rule=\"evenodd\" fill-opacity=\"1\" /><path clip-path=\"url(#clip140)\" d=\"M2056.26 1353.97 Q2059.62 1354.69 2061.49 1356.96 Q2063.39 1359.23 2063.39 1362.56 Q2063.39 1367.67 2059.87 1370.48 Q2056.36 1373.28 2049.87 1373.28 Q2047.7 1373.28 2045.38 1372.84 Q2043.09 1372.42 2040.64 1371.56 L2040.64 1367.05 Q2042.58 1368.18 2044.9 1368.76 Q2047.21 1369.34 2049.73 1369.34 Q2054.13 1369.34 2056.42 1367.61 Q2058.74 1365.87 2058.74 1362.56 Q2058.74 1359.5 2056.59 1357.79 Q2054.46 1356.05 2050.64 1356.05 L2046.61 1356.05 L2046.61 1352.21 L2050.82 1352.21 Q2054.27 1352.21 2056.1 1350.85 Q2057.93 1349.46 2057.93 1346.86 Q2057.93 1344.2 2056.03 1342.79 Q2054.16 1341.36 2050.64 1341.36 Q2048.72 1341.36 2046.52 1341.77 Q2044.32 1342.19 2041.68 1343.07 L2041.68 1338.9 Q2044.34 1338.16 2046.66 1337.79 Q2048.99 1337.42 2051.05 1337.42 Q2056.38 1337.42 2059.48 1339.85 Q2062.58 1342.26 2062.58 1346.38 Q2062.58 1349.25 2060.94 1351.24 Q2059.29 1353.21 2056.26 1353.97 Z\" fill=\"#000000\" fill-rule=\"evenodd\" fill-opacity=\"1\" /><path clip-path=\"url(#clip140)\" d=\"M2082.26 1341.12 Q2078.65 1341.12 2076.82 1344.69 Q2075.01 1348.23 2075.01 1355.36 Q2075.01 1362.47 2076.82 1366.03 Q2078.65 1369.57 2082.26 1369.57 Q2085.89 1369.57 2087.7 1366.03 Q2089.53 1362.47 2089.53 1355.36 Q2089.53 1348.23 2087.7 1344.69 Q2085.89 1341.12 2082.26 1341.12 M2082.26 1337.42 Q2088.07 1337.42 2091.12 1342.03 Q2094.2 1346.61 2094.2 1355.36 Q2094.2 1364.09 2091.12 1368.69 Q2088.07 1373.28 2082.26 1373.28 Q2076.45 1373.28 2073.37 1368.69 Q2070.31 1364.09 2070.31 1355.36 Q2070.31 1346.61 2073.37 1342.03 Q2076.45 1337.42 2082.26 1337.42 Z\" fill=\"#000000\" fill-rule=\"evenodd\" fill-opacity=\"1\" /><path clip-path=\"url(#clip140)\" d=\"M2002.33 1158.41 L2032 1158.41 L2032 1162.34 L2002.33 1162.34 L2002.33 1158.41 Z\" fill=\"#000000\" fill-rule=\"evenodd\" fill-opacity=\"1\" /><path clip-path=\"url(#clip140)\" d=\"M2046.12 1171.3 L2062.44 1171.3 L2062.44 1175.24 L2040.5 1175.24 L2040.5 1171.3 Q2043.16 1168.55 2047.74 1163.92 Q2052.35 1159.26 2053.53 1157.92 Q2055.78 1155.4 2056.66 1153.66 Q2057.56 1151.9 2057.56 1150.21 Q2057.56 1147.46 2055.61 1145.72 Q2053.69 1143.99 2050.59 1143.99 Q2048.39 1143.99 2045.94 1144.75 Q2043.51 1145.51 2040.73 1147.06 L2040.73 1142.34 Q2043.55 1141.21 2046.01 1140.63 Q2048.46 1140.05 2050.5 1140.05 Q2055.87 1140.05 2059.06 1142.74 Q2062.26 1145.42 2062.26 1149.91 Q2062.26 1152.04 2061.45 1153.96 Q2060.66 1155.86 2058.55 1158.45 Q2057.98 1159.12 2054.87 1162.34 Q2051.77 1165.54 2046.12 1171.3 Z\" fill=\"#000000\" fill-rule=\"evenodd\" fill-opacity=\"1\" /><path clip-path=\"url(#clip140)\" d=\"M2082.26 1143.75 Q2078.65 1143.75 2076.82 1147.32 Q2075.01 1150.86 2075.01 1157.99 Q2075.01 1165.1 2076.82 1168.66 Q2078.65 1172.2 2082.26 1172.2 Q2085.89 1172.2 2087.7 1168.66 Q2089.53 1165.1 2089.53 1157.99 Q2089.53 1150.86 2087.7 1147.32 Q2085.89 1143.75 2082.26 1143.75 M2082.26 1140.05 Q2088.07 1140.05 2091.12 1144.66 Q2094.2 1149.24 2094.2 1157.99 Q2094.2 1166.72 2091.12 1171.32 Q2088.07 1175.91 2082.26 1175.91 Q2076.45 1175.91 2073.37 1171.32 Q2070.31 1166.72 2070.31 1157.99 Q2070.31 1149.24 2073.37 1144.66 Q2076.45 1140.05 2082.26 1140.05 Z\" fill=\"#000000\" fill-rule=\"evenodd\" fill-opacity=\"1\" /><path clip-path=\"url(#clip140)\" d=\"M2002.33 961.038 L2032 961.038 L2032 964.973 L2002.33 964.973 L2002.33 961.038 Z\" fill=\"#000000\" fill-rule=\"evenodd\" fill-opacity=\"1\" /><path clip-path=\"url(#clip140)\" d=\"M2042.91 973.931 L2050.54 973.931 L2050.54 947.566 L2042.23 949.232 L2042.23 944.973 L2050.5 943.307 L2055.17 943.307 L2055.17 973.931 L2062.81 973.931 L2062.81 977.867 L2042.91 977.867 L2042.91 973.931 Z\" fill=\"#000000\" fill-rule=\"evenodd\" fill-opacity=\"1\" /><path clip-path=\"url(#clip140)\" d=\"M2082.26 946.385 Q2078.65 946.385 2076.82 949.95 Q2075.01 953.492 2075.01 960.621 Q2075.01 967.728 2076.82 971.292 Q2078.65 974.834 2082.26 974.834 Q2085.89 974.834 2087.7 971.292 Q2089.53 967.728 2089.53 960.621 Q2089.53 953.492 2087.7 949.95 Q2085.89 946.385 2082.26 946.385 M2082.26 942.682 Q2088.07 942.682 2091.12 947.288 Q2094.2 951.871 2094.2 960.621 Q2094.2 969.348 2091.12 973.955 Q2088.07 978.538 2082.26 978.538 Q2076.45 978.538 2073.37 973.955 Q2070.31 969.348 2070.31 960.621 Q2070.31 951.871 2073.37 947.288 Q2076.45 942.682 2082.26 942.682 Z\" fill=\"#000000\" fill-rule=\"evenodd\" fill-opacity=\"1\" /><path clip-path=\"url(#clip140)\" d=\"M2014.27 749.016 Q2010.66 749.016 2008.83 752.581 Q2007.03 756.122 2007.03 763.252 Q2007.03 770.358 2008.83 773.923 Q2010.66 777.465 2014.27 777.465 Q2017.91 777.465 2019.71 773.923 Q2021.54 770.358 2021.54 763.252 Q2021.54 756.122 2019.71 752.581 Q2017.91 749.016 2014.27 749.016 M2014.27 745.312 Q2020.08 745.312 2023.14 749.919 Q2026.22 754.502 2026.22 763.252 Q2026.22 771.979 2023.14 776.585 Q2020.08 781.168 2014.27 781.168 Q2008.46 781.168 2005.38 776.585 Q2002.33 771.979 2002.33 763.252 Q2002.33 754.502 2005.38 749.919 Q2008.46 745.312 2014.27 745.312 Z\" fill=\"#000000\" fill-rule=\"evenodd\" fill-opacity=\"1\" /><path clip-path=\"url(#clip140)\" d=\"M2003 579.193 L2010.64 579.193 L2010.64 552.827 L2002.33 554.494 L2002.33 550.235 L2010.59 548.568 L2015.27 548.568 L2015.27 579.193 L2022.91 579.193 L2022.91 583.128 L2003 583.128 L2003 579.193 Z\" fill=\"#000000\" fill-rule=\"evenodd\" fill-opacity=\"1\" /><path clip-path=\"url(#clip140)\" d=\"M2042.35 551.647 Q2038.74 551.647 2036.91 555.211 Q2035.11 558.753 2035.11 565.883 Q2035.11 572.989 2036.91 576.554 Q2038.74 580.095 2042.35 580.095 Q2045.98 580.095 2047.79 576.554 Q2049.62 572.989 2049.62 565.883 Q2049.62 558.753 2047.79 555.211 Q2045.98 551.647 2042.35 551.647 M2042.35 547.943 Q2048.16 547.943 2051.22 552.549 Q2054.29 557.133 2054.29 565.883 Q2054.29 574.609 2051.22 579.216 Q2048.16 583.799 2042.35 583.799 Q2036.54 583.799 2033.46 579.216 Q2030.41 574.609 2030.41 565.883 Q2030.41 557.133 2033.46 552.549 Q2036.54 547.943 2042.35 547.943 Z\" fill=\"#000000\" fill-rule=\"evenodd\" fill-opacity=\"1\" /><path clip-path=\"url(#clip140)\" d=\"M2007.95 381.823 L2024.27 381.823 L2024.27 385.759 L2002.33 385.759 L2002.33 381.823 Q2004.99 379.069 2009.57 374.439 Q2014.18 369.786 2015.36 368.444 Q2017.61 365.921 2018.48 364.185 Q2019.39 362.425 2019.39 360.735 Q2019.39 357.981 2017.44 356.245 Q2015.52 354.509 2012.42 354.509 Q2010.22 354.509 2007.77 355.273 Q2005.34 356.036 2002.56 357.587 L2002.56 352.865 Q2005.38 351.731 2007.84 351.152 Q2010.29 350.574 2012.33 350.574 Q2017.7 350.574 2020.89 353.259 Q2024.09 355.944 2024.09 360.435 Q2024.09 362.564 2023.28 364.485 Q2022.49 366.384 2020.38 368.976 Q2019.8 369.647 2016.7 372.865 Q2013.6 376.059 2007.95 381.823 Z\" fill=\"#000000\" fill-rule=\"evenodd\" fill-opacity=\"1\" /><path clip-path=\"url(#clip140)\" d=\"M2044.09 354.277 Q2040.48 354.277 2038.65 357.842 Q2036.84 361.384 2036.84 368.513 Q2036.84 375.62 2038.65 379.184 Q2040.48 382.726 2044.09 382.726 Q2047.72 382.726 2049.53 379.184 Q2051.36 375.62 2051.36 368.513 Q2051.36 361.384 2049.53 357.842 Q2047.72 354.277 2044.09 354.277 M2044.09 350.574 Q2049.9 350.574 2052.95 355.18 Q2056.03 359.763 2056.03 368.513 Q2056.03 377.24 2052.95 381.846 Q2049.9 386.43 2044.09 386.43 Q2038.28 386.43 2035.2 381.846 Q2032.14 377.24 2032.14 368.513 Q2032.14 359.763 2035.2 355.18 Q2038.28 350.574 2044.09 350.574 Z\" fill=\"#000000\" fill-rule=\"evenodd\" fill-opacity=\"1\" /><path clip-path=\"url(#clip140)\" d=\"M2017.95 169.755 Q2021.31 170.473 2023.18 172.741 Q2025.08 175.01 2025.08 178.343 Q2025.08 183.459 2021.56 186.26 Q2018.05 189.06 2011.56 189.06 Q2009.39 189.06 2007.07 188.621 Q2004.78 188.204 2002.33 187.348 L2002.33 182.834 Q2004.27 183.968 2006.59 184.547 Q2008.9 185.125 2011.42 185.125 Q2015.82 185.125 2018.11 183.389 Q2020.43 181.653 2020.43 178.343 Q2020.43 175.287 2018.28 173.574 Q2016.15 171.838 2012.33 171.838 L2008.3 171.838 L2008.3 167.996 L2012.51 167.996 Q2015.96 167.996 2017.79 166.63 Q2019.62 165.241 2019.62 162.649 Q2019.62 159.987 2017.72 158.575 Q2015.85 157.139 2012.33 157.139 Q2010.41 157.139 2008.21 157.556 Q2006.01 157.973 2003.37 158.852 L2003.37 154.686 Q2006.03 153.945 2008.35 153.575 Q2010.68 153.204 2012.74 153.204 Q2018.07 153.204 2021.17 155.635 Q2024.27 158.042 2024.27 162.162 Q2024.27 165.033 2022.63 167.024 Q2020.98 168.991 2017.95 169.755 Z\" fill=\"#000000\" fill-rule=\"evenodd\" fill-opacity=\"1\" /><path clip-path=\"url(#clip140)\" d=\"M2043.95 156.908 Q2040.34 156.908 2038.51 160.473 Q2036.7 164.014 2036.7 171.144 Q2036.7 178.25 2038.51 181.815 Q2040.34 185.357 2043.95 185.357 Q2047.58 185.357 2049.39 181.815 Q2051.22 178.25 2051.22 171.144 Q2051.22 164.014 2049.39 160.473 Q2047.58 156.908 2043.95 156.908 M2043.95 153.204 Q2049.76 153.204 2052.81 157.811 Q2055.89 162.394 2055.89 171.144 Q2055.89 179.871 2052.81 184.477 Q2049.76 189.06 2043.95 189.06 Q2038.14 189.06 2035.06 184.477 Q2032 179.871 2032 171.144 Q2032 162.394 2035.06 157.811 Q2038.14 153.204 2043.95 153.204 Z\" fill=\"#000000\" fill-rule=\"evenodd\" fill-opacity=\"1\" /><polyline clip-path=\"url(#clip140)\" style=\"stroke:#000000; stroke-linecap:butt; stroke-linejoin:round; stroke-width:4; stroke-opacity:1; fill:none\" points=\"\n",
       "  1966.33,1486.45 1966.33,1358.95 1990.33,1358.95 1966.33,1358.95 1966.33,1161.58 1990.33,1161.58 1966.33,1161.58 1966.33,964.215 1990.33,964.215 1966.33,964.215 \n",
       "  1966.33,766.846 1990.33,766.846 1966.33,766.846 1966.33,569.477 1990.33,569.477 1966.33,569.477 1966.33,372.107 1990.33,372.107 1966.33,372.107 1966.33,174.738 \n",
       "  1990.33,174.738 1966.33,174.738 1966.33,47.2441 \n",
       "  \"/>\n",
       "</svg>\n"
      ]
     },
     "execution_count": 140,
     "metadata": {},
     "output_type": "execute_result"
    }
   ],
   "source": [
    "#@show cond(Matrix(J))\n",
    "\n",
    "fe = FESpace(6, 6, 4)\n",
    "u0 = zero(fe.xn)\n",
    "J = fe_jacobian(u0, fe, dfq)\n",
    "my_spy(J)"
   ]
  },
  {
   "cell_type": "markdown",
   "id": "b6c7a911",
   "metadata": {
    "cell_style": "split"
   },
   "source": [
    "* What is interesting about this matrix structure?\n",
    "  * What would the matrix structure look like for a finite difference method that is 6th order accurate?"
   ]
  },
  {
   "cell_type": "markdown",
   "id": "969a3551",
   "metadata": {
    "slideshow": {
     "slide_type": "slide"
    }
   },
   "source": [
    "# A nonlinear problem\n",
    "\n",
    "$$ \\int_\\Omega \\nabla v (1 + u^2) \\nabla u - v = 0 $$"
   ]
  },
  {
   "cell_type": "code",
   "execution_count": 141,
   "id": "164d00ab",
   "metadata": {
    "cell_style": "split",
    "slideshow": {
     "slide_type": ""
    }
   },
   "outputs": [
    {
     "data": {
      "text/plain": [
       "Results of Nonlinear Solver Algorithm\n",
       " * Algorithm: Newton with line-search\n",
       " * Starting Point: [0.0, 0.0, 0.0, 0.0, 0.0, 0.0, 0.0, 0.0, 0.0, 0.0, 0.0, 0.0, 0.0, 0.0, 0.0, 0.0, 0.0, 0.0, 0.0, 0.0, 0.0]\n",
       " * Zero: [1.0, 1.0562613160921506, 1.1576325990202827, 1.2590479765200593, 1.3315488441072163, 1.3634502374658097, 1.3932371719548644, 1.4481281730989712, 1.5041997855247982, 1.5445730865975467, 1.5622871531149463, 1.5787333640569756, 1.6085978073405816, 1.6380216706859818, 1.6579945342008353, 1.666258096607518, 1.6735545064531623, 1.6855249632772669, 1.6947698658243535, 1.6984415353929925, 1.698885490572898]\n",
       " * Inf-norm of residuals: 0.000000\n",
       " * Iterations: 6\n",
       " * Convergence: true\n",
       "   * |x - x'| < 0.0e+00: false\n",
       "   * |f(x)| < 1.0e-08: true\n",
       " * Function Calls (f): 7\n",
       " * Jacobian Calls (df/dx): 7"
      ]
     },
     "execution_count": 141,
     "metadata": {},
     "output_type": "execute_result"
    }
   ],
   "source": [
    "function fq(q, u, Du)\n",
    "    f0 = 0*u .- 1\n",
    "    f1 = (1 .+ u.^2) .* Du\n",
    "    f0, f1\n",
    "end\n",
    "function dfq(q, u, du, Du, Ddu)\n",
    "    df0 = 0*du\n",
    "    df1 = (1 .+ u.^2) .* Ddu + 2u .* du .* Du\n",
    "    df0, df1\n",
    "end\n",
    "sol = nlsolve(u -> fe_residual(u, fe, fq),\n",
    "    u -> fe_jacobian(u, fe, dfq),\n",
    "    u0; method=:newton)"
   ]
  },
  {
   "cell_type": "code",
   "execution_count": 142,
   "id": "7f85ef28",
   "metadata": {
    "cell_style": "split",
    "scrolled": false
   },
   "outputs": [
    {
     "data": {
      "image/svg+xml": [
       "<?xml version=\"1.0\" encoding=\"utf-8\"?>\n",
       "<svg xmlns=\"http://www.w3.org/2000/svg\" xmlns:xlink=\"http://www.w3.org/1999/xlink\" width=\"600\" height=\"400\" viewBox=\"0 0 2400 1600\">\n",
       "<defs>\n",
       "  <clipPath id=\"clip180\">\n",
       "    <rect x=\"0\" y=\"0\" width=\"2400\" height=\"1600\"/>\n",
       "  </clipPath>\n",
       "</defs>\n",
       "<path clip-path=\"url(#clip180)\" d=\"\n",
       "M0 1600 L2400 1600 L2400 0 L0 0  Z\n",
       "  \" fill=\"#ffffff\" fill-rule=\"evenodd\" fill-opacity=\"1\"/>\n",
       "<defs>\n",
       "  <clipPath id=\"clip181\">\n",
       "    <rect x=\"480\" y=\"0\" width=\"1681\" height=\"1600\"/>\n",
       "  </clipPath>\n",
       "</defs>\n",
       "<path clip-path=\"url(#clip180)\" d=\"\n",
       "M154.515 1486.45 L2352.76 1486.45 L2352.76 47.2441 L154.515 47.2441  Z\n",
       "  \" fill=\"#ffffff\" fill-rule=\"evenodd\" fill-opacity=\"1\"/>\n",
       "<defs>\n",
       "  <clipPath id=\"clip182\">\n",
       "    <rect x=\"154\" y=\"47\" width=\"2199\" height=\"1440\"/>\n",
       "  </clipPath>\n",
       "</defs>\n",
       "<polyline clip-path=\"url(#clip182)\" style=\"stroke:#000000; stroke-linecap:butt; stroke-linejoin:round; stroke-width:2; stroke-opacity:0.1; fill:none\" points=\"\n",
       "  216.729,1486.45 216.729,47.2441 \n",
       "  \"/>\n",
       "<polyline clip-path=\"url(#clip182)\" style=\"stroke:#000000; stroke-linecap:butt; stroke-linejoin:round; stroke-width:2; stroke-opacity:0.1; fill:none\" points=\"\n",
       "  735.182,1486.45 735.182,47.2441 \n",
       "  \"/>\n",
       "<polyline clip-path=\"url(#clip182)\" style=\"stroke:#000000; stroke-linecap:butt; stroke-linejoin:round; stroke-width:2; stroke-opacity:0.1; fill:none\" points=\"\n",
       "  1253.64,1486.45 1253.64,47.2441 \n",
       "  \"/>\n",
       "<polyline clip-path=\"url(#clip182)\" style=\"stroke:#000000; stroke-linecap:butt; stroke-linejoin:round; stroke-width:2; stroke-opacity:0.1; fill:none\" points=\"\n",
       "  1772.09,1486.45 1772.09,47.2441 \n",
       "  \"/>\n",
       "<polyline clip-path=\"url(#clip182)\" style=\"stroke:#000000; stroke-linecap:butt; stroke-linejoin:round; stroke-width:2; stroke-opacity:0.1; fill:none\" points=\"\n",
       "  2290.54,1486.45 2290.54,47.2441 \n",
       "  \"/>\n",
       "<polyline clip-path=\"url(#clip180)\" style=\"stroke:#000000; stroke-linecap:butt; stroke-linejoin:round; stroke-width:4; stroke-opacity:1; fill:none\" points=\"\n",
       "  154.515,1486.45 2352.76,1486.45 \n",
       "  \"/>\n",
       "<polyline clip-path=\"url(#clip180)\" style=\"stroke:#000000; stroke-linecap:butt; stroke-linejoin:round; stroke-width:4; stroke-opacity:1; fill:none\" points=\"\n",
       "  216.729,1486.45 216.729,1467.55 \n",
       "  \"/>\n",
       "<polyline clip-path=\"url(#clip180)\" style=\"stroke:#000000; stroke-linecap:butt; stroke-linejoin:round; stroke-width:4; stroke-opacity:1; fill:none\" points=\"\n",
       "  735.182,1486.45 735.182,1467.55 \n",
       "  \"/>\n",
       "<polyline clip-path=\"url(#clip180)\" style=\"stroke:#000000; stroke-linecap:butt; stroke-linejoin:round; stroke-width:4; stroke-opacity:1; fill:none\" points=\"\n",
       "  1253.64,1486.45 1253.64,1467.55 \n",
       "  \"/>\n",
       "<polyline clip-path=\"url(#clip180)\" style=\"stroke:#000000; stroke-linecap:butt; stroke-linejoin:round; stroke-width:4; stroke-opacity:1; fill:none\" points=\"\n",
       "  1772.09,1486.45 1772.09,1467.55 \n",
       "  \"/>\n",
       "<polyline clip-path=\"url(#clip180)\" style=\"stroke:#000000; stroke-linecap:butt; stroke-linejoin:round; stroke-width:4; stroke-opacity:1; fill:none\" points=\"\n",
       "  2290.54,1486.45 2290.54,1467.55 \n",
       "  \"/>\n",
       "<path clip-path=\"url(#clip180)\" d=\"M163.257 1532.02 L192.933 1532.02 L192.933 1535.95 L163.257 1535.95 L163.257 1532.02 Z\" fill=\"#000000\" fill-rule=\"evenodd\" fill-opacity=\"1\" /><path clip-path=\"url(#clip180)\" d=\"M203.836 1544.91 L211.475 1544.91 L211.475 1518.55 L203.165 1520.21 L203.165 1515.95 L211.428 1514.29 L216.104 1514.29 L216.104 1544.91 L223.743 1544.91 L223.743 1548.85 L203.836 1548.85 L203.836 1544.91 Z\" fill=\"#000000\" fill-rule=\"evenodd\" fill-opacity=\"1\" /><path clip-path=\"url(#clip180)\" d=\"M233.188 1542.97 L238.072 1542.97 L238.072 1548.85 L233.188 1548.85 L233.188 1542.97 Z\" fill=\"#000000\" fill-rule=\"evenodd\" fill-opacity=\"1\" /><path clip-path=\"url(#clip180)\" d=\"M258.257 1517.37 Q254.646 1517.37 252.817 1520.93 Q251.012 1524.47 251.012 1531.6 Q251.012 1538.71 252.817 1542.27 Q254.646 1545.82 258.257 1545.82 Q261.891 1545.82 263.697 1542.27 Q265.525 1538.71 265.525 1531.6 Q265.525 1524.47 263.697 1520.93 Q261.891 1517.37 258.257 1517.37 M258.257 1513.66 Q264.067 1513.66 267.123 1518.27 Q270.201 1522.85 270.201 1531.6 Q270.201 1540.33 267.123 1544.94 Q264.067 1549.52 258.257 1549.52 Q252.447 1549.52 249.368 1544.94 Q246.312 1540.33 246.312 1531.6 Q246.312 1522.85 249.368 1518.27 Q252.447 1513.66 258.257 1513.66 Z\" fill=\"#000000\" fill-rule=\"evenodd\" fill-opacity=\"1\" /><path clip-path=\"url(#clip180)\" d=\"M682.208 1532.02 L711.884 1532.02 L711.884 1535.95 L682.208 1535.95 L682.208 1532.02 Z\" fill=\"#000000\" fill-rule=\"evenodd\" fill-opacity=\"1\" /><path clip-path=\"url(#clip180)\" d=\"M731.976 1517.37 Q728.365 1517.37 726.537 1520.93 Q724.731 1524.47 724.731 1531.6 Q724.731 1538.71 726.537 1542.27 Q728.365 1545.82 731.976 1545.82 Q735.611 1545.82 737.416 1542.27 Q739.245 1538.71 739.245 1531.6 Q739.245 1524.47 737.416 1520.93 Q735.611 1517.37 731.976 1517.37 M731.976 1513.66 Q737.786 1513.66 740.842 1518.27 Q743.921 1522.85 743.921 1531.6 Q743.921 1540.33 740.842 1544.94 Q737.786 1549.52 731.976 1549.52 Q726.166 1549.52 723.088 1544.94 Q720.032 1540.33 720.032 1531.6 Q720.032 1522.85 723.088 1518.27 Q726.166 1513.66 731.976 1513.66 Z\" fill=\"#000000\" fill-rule=\"evenodd\" fill-opacity=\"1\" /><path clip-path=\"url(#clip180)\" d=\"M752.138 1542.97 L757.023 1542.97 L757.023 1548.85 L752.138 1548.85 L752.138 1542.97 Z\" fill=\"#000000\" fill-rule=\"evenodd\" fill-opacity=\"1\" /><path clip-path=\"url(#clip180)\" d=\"M767.254 1514.29 L785.61 1514.29 L785.61 1518.22 L771.536 1518.22 L771.536 1526.7 Q772.555 1526.35 773.573 1526.19 Q774.592 1526 775.61 1526 Q781.397 1526 784.777 1529.17 Q788.157 1532.34 788.157 1537.76 Q788.157 1543.34 784.684 1546.44 Q781.212 1549.52 774.893 1549.52 Q772.717 1549.52 770.448 1549.15 Q768.203 1548.78 765.796 1548.04 L765.796 1543.34 Q767.879 1544.47 770.101 1545.03 Q772.323 1545.58 774.8 1545.58 Q778.805 1545.58 781.143 1543.48 Q783.481 1541.37 783.481 1537.76 Q783.481 1534.15 781.143 1532.04 Q778.805 1529.94 774.8 1529.94 Q772.925 1529.94 771.05 1530.35 Q769.198 1530.77 767.254 1531.65 L767.254 1514.29 Z\" fill=\"#000000\" fill-rule=\"evenodd\" fill-opacity=\"1\" /><path clip-path=\"url(#clip180)\" d=\"M1231.02 1517.37 Q1227.41 1517.37 1225.58 1520.93 Q1223.77 1524.47 1223.77 1531.6 Q1223.77 1538.71 1225.58 1542.27 Q1227.41 1545.82 1231.02 1545.82 Q1234.65 1545.82 1236.46 1542.27 Q1238.29 1538.71 1238.29 1531.6 Q1238.29 1524.47 1236.46 1520.93 Q1234.65 1517.37 1231.02 1517.37 M1231.02 1513.66 Q1236.83 1513.66 1239.89 1518.27 Q1242.96 1522.85 1242.96 1531.6 Q1242.96 1540.33 1239.89 1544.94 Q1236.83 1549.52 1231.02 1549.52 Q1225.21 1549.52 1222.13 1544.94 Q1219.08 1540.33 1219.08 1531.6 Q1219.08 1522.85 1222.13 1518.27 Q1225.21 1513.66 1231.02 1513.66 Z\" fill=\"#000000\" fill-rule=\"evenodd\" fill-opacity=\"1\" /><path clip-path=\"url(#clip180)\" d=\"M1251.18 1542.97 L1256.07 1542.97 L1256.07 1548.85 L1251.18 1548.85 L1251.18 1542.97 Z\" fill=\"#000000\" fill-rule=\"evenodd\" fill-opacity=\"1\" /><path clip-path=\"url(#clip180)\" d=\"M1276.25 1517.37 Q1272.64 1517.37 1270.81 1520.93 Q1269.01 1524.47 1269.01 1531.6 Q1269.01 1538.71 1270.81 1542.27 Q1272.64 1545.82 1276.25 1545.82 Q1279.89 1545.82 1281.69 1542.27 Q1283.52 1538.71 1283.52 1531.6 Q1283.52 1524.47 1281.69 1520.93 Q1279.89 1517.37 1276.25 1517.37 M1276.25 1513.66 Q1282.06 1513.66 1285.12 1518.27 Q1288.2 1522.85 1288.2 1531.6 Q1288.2 1540.33 1285.12 1544.94 Q1282.06 1549.52 1276.25 1549.52 Q1270.44 1549.52 1267.36 1544.94 Q1264.31 1540.33 1264.31 1531.6 Q1264.31 1522.85 1267.36 1518.27 Q1270.44 1513.66 1276.25 1513.66 Z\" fill=\"#000000\" fill-rule=\"evenodd\" fill-opacity=\"1\" /><path clip-path=\"url(#clip180)\" d=\"M1749.97 1517.37 Q1746.36 1517.37 1744.53 1520.93 Q1742.73 1524.47 1742.73 1531.6 Q1742.73 1538.71 1744.53 1542.27 Q1746.36 1545.82 1749.97 1545.82 Q1753.6 1545.82 1755.41 1542.27 Q1757.24 1538.71 1757.24 1531.6 Q1757.24 1524.47 1755.41 1520.93 Q1753.6 1517.37 1749.97 1517.37 M1749.97 1513.66 Q1755.78 1513.66 1758.84 1518.27 Q1761.91 1522.85 1761.91 1531.6 Q1761.91 1540.33 1758.84 1544.94 Q1755.78 1549.52 1749.97 1549.52 Q1744.16 1549.52 1741.08 1544.94 Q1738.03 1540.33 1738.03 1531.6 Q1738.03 1522.85 1741.08 1518.27 Q1744.16 1513.66 1749.97 1513.66 Z\" fill=\"#000000\" fill-rule=\"evenodd\" fill-opacity=\"1\" /><path clip-path=\"url(#clip180)\" d=\"M1770.13 1542.97 L1775.02 1542.97 L1775.02 1548.85 L1770.13 1548.85 L1770.13 1542.97 Z\" fill=\"#000000\" fill-rule=\"evenodd\" fill-opacity=\"1\" /><path clip-path=\"url(#clip180)\" d=\"M1785.25 1514.29 L1803.6 1514.29 L1803.6 1518.22 L1789.53 1518.22 L1789.53 1526.7 Q1790.55 1526.35 1791.57 1526.19 Q1792.59 1526 1793.6 1526 Q1799.39 1526 1802.77 1529.17 Q1806.15 1532.34 1806.15 1537.76 Q1806.15 1543.34 1802.68 1546.44 Q1799.21 1549.52 1792.89 1549.52 Q1790.71 1549.52 1788.44 1549.15 Q1786.2 1548.78 1783.79 1548.04 L1783.79 1543.34 Q1785.87 1544.47 1788.1 1545.03 Q1790.32 1545.58 1792.79 1545.58 Q1796.8 1545.58 1799.14 1543.48 Q1801.47 1541.37 1801.47 1537.76 Q1801.47 1534.15 1799.14 1532.04 Q1796.8 1529.94 1792.79 1529.94 Q1790.92 1529.94 1789.04 1530.35 Q1787.19 1530.77 1785.25 1531.65 L1785.25 1514.29 Z\" fill=\"#000000\" fill-rule=\"evenodd\" fill-opacity=\"1\" /><path clip-path=\"url(#clip180)\" d=\"M2257.69 1544.91 L2265.33 1544.91 L2265.33 1518.55 L2257.02 1520.21 L2257.02 1515.95 L2265.29 1514.29 L2269.96 1514.29 L2269.96 1544.91 L2277.6 1544.91 L2277.6 1548.85 L2257.69 1548.85 L2257.69 1544.91 Z\" fill=\"#000000\" fill-rule=\"evenodd\" fill-opacity=\"1\" /><path clip-path=\"url(#clip180)\" d=\"M2287.05 1542.97 L2291.93 1542.97 L2291.93 1548.85 L2287.05 1548.85 L2287.05 1542.97 Z\" fill=\"#000000\" fill-rule=\"evenodd\" fill-opacity=\"1\" /><path clip-path=\"url(#clip180)\" d=\"M2312.12 1517.37 Q2308.5 1517.37 2306.68 1520.93 Q2304.87 1524.47 2304.87 1531.6 Q2304.87 1538.71 2306.68 1542.27 Q2308.5 1545.82 2312.12 1545.82 Q2315.75 1545.82 2317.56 1542.27 Q2319.38 1538.71 2319.38 1531.6 Q2319.38 1524.47 2317.56 1520.93 Q2315.75 1517.37 2312.12 1517.37 M2312.12 1513.66 Q2317.93 1513.66 2320.98 1518.27 Q2324.06 1522.85 2324.06 1531.6 Q2324.06 1540.33 2320.98 1544.94 Q2317.93 1549.52 2312.12 1549.52 Q2306.31 1549.52 2303.23 1544.94 Q2300.17 1540.33 2300.17 1531.6 Q2300.17 1522.85 2303.23 1518.27 Q2306.31 1513.66 2312.12 1513.66 Z\" fill=\"#000000\" fill-rule=\"evenodd\" fill-opacity=\"1\" /><polyline clip-path=\"url(#clip182)\" style=\"stroke:#000000; stroke-linecap:butt; stroke-linejoin:round; stroke-width:2; stroke-opacity:0.1; fill:none\" points=\"\n",
       "  154.515,1445.72 2352.76,1445.72 \n",
       "  \"/>\n",
       "<polyline clip-path=\"url(#clip182)\" style=\"stroke:#000000; stroke-linecap:butt; stroke-linejoin:round; stroke-width:2; stroke-opacity:0.1; fill:none\" points=\"\n",
       "  154.515,1057.17 2352.76,1057.17 \n",
       "  \"/>\n",
       "<polyline clip-path=\"url(#clip182)\" style=\"stroke:#000000; stroke-linecap:butt; stroke-linejoin:round; stroke-width:2; stroke-opacity:0.1; fill:none\" points=\"\n",
       "  154.515,668.627 2352.76,668.627 \n",
       "  \"/>\n",
       "<polyline clip-path=\"url(#clip182)\" style=\"stroke:#000000; stroke-linecap:butt; stroke-linejoin:round; stroke-width:2; stroke-opacity:0.1; fill:none\" points=\"\n",
       "  154.515,280.083 2352.76,280.083 \n",
       "  \"/>\n",
       "<polyline clip-path=\"url(#clip180)\" style=\"stroke:#000000; stroke-linecap:butt; stroke-linejoin:round; stroke-width:4; stroke-opacity:1; fill:none\" points=\"\n",
       "  154.515,1486.45 154.515,47.2441 \n",
       "  \"/>\n",
       "<polyline clip-path=\"url(#clip180)\" style=\"stroke:#000000; stroke-linecap:butt; stroke-linejoin:round; stroke-width:4; stroke-opacity:1; fill:none\" points=\"\n",
       "  154.515,1445.72 173.413,1445.72 \n",
       "  \"/>\n",
       "<polyline clip-path=\"url(#clip180)\" style=\"stroke:#000000; stroke-linecap:butt; stroke-linejoin:round; stroke-width:4; stroke-opacity:1; fill:none\" points=\"\n",
       "  154.515,1057.17 173.413,1057.17 \n",
       "  \"/>\n",
       "<polyline clip-path=\"url(#clip180)\" style=\"stroke:#000000; stroke-linecap:butt; stroke-linejoin:round; stroke-width:4; stroke-opacity:1; fill:none\" points=\"\n",
       "  154.515,668.627 173.413,668.627 \n",
       "  \"/>\n",
       "<polyline clip-path=\"url(#clip180)\" style=\"stroke:#000000; stroke-linecap:butt; stroke-linejoin:round; stroke-width:4; stroke-opacity:1; fill:none\" points=\"\n",
       "  154.515,280.083 173.413,280.083 \n",
       "  \"/>\n",
       "<path clip-path=\"url(#clip180)\" d=\"M52.1495 1459.06 L59.7884 1459.06 L59.7884 1432.69 L51.4782 1434.36 L51.4782 1430.1 L59.7421 1428.44 L64.418 1428.44 L64.418 1459.06 L72.0568 1459.06 L72.0568 1463 L52.1495 1463 L52.1495 1459.06 Z\" fill=\"#000000\" fill-rule=\"evenodd\" fill-opacity=\"1\" /><path clip-path=\"url(#clip180)\" d=\"M81.5012 1457.12 L86.3855 1457.12 L86.3855 1463 L81.5012 1463 L81.5012 1457.12 Z\" fill=\"#000000\" fill-rule=\"evenodd\" fill-opacity=\"1\" /><path clip-path=\"url(#clip180)\" d=\"M106.571 1431.51 Q102.959 1431.51 101.131 1435.08 Q99.3252 1438.62 99.3252 1445.75 Q99.3252 1452.86 101.131 1456.42 Q102.959 1459.96 106.571 1459.96 Q110.205 1459.96 112.01 1456.42 Q113.839 1452.86 113.839 1445.75 Q113.839 1438.62 112.01 1435.08 Q110.205 1431.51 106.571 1431.51 M106.571 1427.81 Q112.381 1427.81 115.436 1432.42 Q118.515 1437 118.515 1445.75 Q118.515 1454.48 115.436 1459.08 Q112.381 1463.67 106.571 1463.67 Q100.76 1463.67 97.6817 1459.08 Q94.6262 1454.48 94.6262 1445.75 Q94.6262 1437 97.6817 1432.42 Q100.76 1427.81 106.571 1427.81 Z\" fill=\"#000000\" fill-rule=\"evenodd\" fill-opacity=\"1\" /><path clip-path=\"url(#clip180)\" d=\"M53.7467 1070.52 L61.3856 1070.52 L61.3856 1044.15 L53.0754 1045.82 L53.0754 1041.56 L61.3393 1039.89 L66.0152 1039.89 L66.0152 1070.52 L73.654 1070.52 L73.654 1074.45 L53.7467 1074.45 L53.7467 1070.52 Z\" fill=\"#000000\" fill-rule=\"evenodd\" fill-opacity=\"1\" /><path clip-path=\"url(#clip180)\" d=\"M83.0984 1068.57 L87.9827 1068.57 L87.9827 1074.45 L83.0984 1074.45 L83.0984 1068.57 Z\" fill=\"#000000\" fill-rule=\"evenodd\" fill-opacity=\"1\" /><path clip-path=\"url(#clip180)\" d=\"M102.196 1070.52 L118.515 1070.52 L118.515 1074.45 L96.5706 1074.45 L96.5706 1070.52 Q99.2326 1067.76 103.816 1063.13 Q108.422 1058.48 109.603 1057.14 Q111.848 1054.61 112.728 1052.88 Q113.631 1051.12 113.631 1049.43 Q113.631 1046.67 111.686 1044.94 Q109.765 1043.2 106.663 1043.2 Q104.464 1043.2 102.01 1043.97 Q99.5798 1044.73 96.8021 1046.28 L96.8021 1041.56 Q99.6261 1040.42 102.08 1039.85 Q104.534 1039.27 106.571 1039.27 Q111.941 1039.27 115.135 1041.95 Q118.33 1044.64 118.33 1049.13 Q118.33 1051.26 117.52 1053.18 Q116.733 1055.08 114.626 1057.67 Q114.047 1058.34 110.946 1061.56 Q107.844 1064.75 102.196 1070.52 Z\" fill=\"#000000\" fill-rule=\"evenodd\" fill-opacity=\"1\" /><path clip-path=\"url(#clip180)\" d=\"M51.6634 681.972 L59.3023 681.972 L59.3023 655.607 L50.9921 657.273 L50.9921 653.014 L59.256 651.347 L63.9319 651.347 L63.9319 681.972 L71.5707 681.972 L71.5707 685.907 L51.6634 685.907 L51.6634 681.972 Z\" fill=\"#000000\" fill-rule=\"evenodd\" fill-opacity=\"1\" /><path clip-path=\"url(#clip180)\" d=\"M81.0151 680.028 L85.8993 680.028 L85.8993 685.907 L81.0151 685.907 L81.0151 680.028 Z\" fill=\"#000000\" fill-rule=\"evenodd\" fill-opacity=\"1\" /><path clip-path=\"url(#clip180)\" d=\"M108.932 655.421 L97.1261 673.87 L108.932 673.87 L108.932 655.421 M107.705 651.347 L113.584 651.347 L113.584 673.87 L118.515 673.87 L118.515 677.759 L113.584 677.759 L113.584 685.907 L108.932 685.907 L108.932 677.759 L93.3299 677.759 L93.3299 673.245 L107.705 651.347 Z\" fill=\"#000000\" fill-rule=\"evenodd\" fill-opacity=\"1\" /><path clip-path=\"url(#clip180)\" d=\"M51.9875 293.428 L59.6263 293.428 L59.6263 267.062 L51.3162 268.729 L51.3162 264.47 L59.58 262.803 L64.2559 262.803 L64.2559 293.428 L71.8948 293.428 L71.8948 297.363 L51.9875 297.363 L51.9875 293.428 Z\" fill=\"#000000\" fill-rule=\"evenodd\" fill-opacity=\"1\" /><path clip-path=\"url(#clip180)\" d=\"M81.3392 291.484 L86.2234 291.484 L86.2234 297.363 L81.3392 297.363 L81.3392 291.484 Z\" fill=\"#000000\" fill-rule=\"evenodd\" fill-opacity=\"1\" /><path clip-path=\"url(#clip180)\" d=\"M106.987 278.22 Q103.839 278.22 101.987 280.373 Q100.159 282.525 100.159 286.275 Q100.159 290.002 101.987 292.178 Q103.839 294.331 106.987 294.331 Q110.135 294.331 111.964 292.178 Q113.816 290.002 113.816 286.275 Q113.816 282.525 111.964 280.373 Q110.135 278.22 106.987 278.22 M116.27 263.567 L116.27 267.826 Q114.51 266.993 112.705 266.553 Q110.922 266.113 109.163 266.113 Q104.534 266.113 102.08 269.238 Q99.6493 272.363 99.3021 278.683 Q100.668 276.669 102.728 275.604 Q104.788 274.516 107.265 274.516 Q112.473 274.516 115.483 277.687 Q118.515 280.835 118.515 286.275 Q118.515 291.599 115.367 294.817 Q112.219 298.034 106.987 298.034 Q100.992 298.034 97.8206 293.451 Q94.6493 288.845 94.6493 280.118 Q94.6493 271.924 98.5382 267.062 Q102.427 262.178 108.978 262.178 Q110.737 262.178 112.52 262.525 Q114.325 262.873 116.27 263.567 Z\" fill=\"#000000\" fill-rule=\"evenodd\" fill-opacity=\"1\" /><polyline clip-path=\"url(#clip182)\" style=\"stroke:#009af9; stroke-linecap:butt; stroke-linejoin:round; stroke-width:16; stroke-opacity:1; fill:none\" points=\"\n",
       "  216.729,1445.72 277.633,1336.42 402.016,1139.48 549.895,942.458 674.278,801.609 735.182,739.633 796.086,681.766 920.469,575.128 1068.35,466.196 1192.73,387.762 \n",
       "  1253.64,353.349 1314.54,321.398 1438.92,263.38 1586.8,206.218 1711.18,167.416 1772.09,151.362 1832.99,137.187 1957.38,113.932 2105.25,95.9718 2229.64,88.8388 \n",
       "  2290.54,87.9763 \n",
       "  \"/>\n",
       "<circle clip-path=\"url(#clip182)\" cx=\"216.729\" cy=\"1445.72\" r=\"14\" fill=\"#009af9\" fill-rule=\"evenodd\" fill-opacity=\"1\" stroke=\"#000000\" stroke-opacity=\"1\" stroke-width=\"3.2\"/>\n",
       "<circle clip-path=\"url(#clip182)\" cx=\"277.633\" cy=\"1336.42\" r=\"14\" fill=\"#009af9\" fill-rule=\"evenodd\" fill-opacity=\"1\" stroke=\"#000000\" stroke-opacity=\"1\" stroke-width=\"3.2\"/>\n",
       "<circle clip-path=\"url(#clip182)\" cx=\"402.016\" cy=\"1139.48\" r=\"14\" fill=\"#009af9\" fill-rule=\"evenodd\" fill-opacity=\"1\" stroke=\"#000000\" stroke-opacity=\"1\" stroke-width=\"3.2\"/>\n",
       "<circle clip-path=\"url(#clip182)\" cx=\"549.895\" cy=\"942.458\" r=\"14\" fill=\"#009af9\" fill-rule=\"evenodd\" fill-opacity=\"1\" stroke=\"#000000\" stroke-opacity=\"1\" stroke-width=\"3.2\"/>\n",
       "<circle clip-path=\"url(#clip182)\" cx=\"674.278\" cy=\"801.609\" r=\"14\" fill=\"#009af9\" fill-rule=\"evenodd\" fill-opacity=\"1\" stroke=\"#000000\" stroke-opacity=\"1\" stroke-width=\"3.2\"/>\n",
       "<circle clip-path=\"url(#clip182)\" cx=\"735.182\" cy=\"739.633\" r=\"14\" fill=\"#009af9\" fill-rule=\"evenodd\" fill-opacity=\"1\" stroke=\"#000000\" stroke-opacity=\"1\" stroke-width=\"3.2\"/>\n",
       "<circle clip-path=\"url(#clip182)\" cx=\"796.086\" cy=\"681.766\" r=\"14\" fill=\"#009af9\" fill-rule=\"evenodd\" fill-opacity=\"1\" stroke=\"#000000\" stroke-opacity=\"1\" stroke-width=\"3.2\"/>\n",
       "<circle clip-path=\"url(#clip182)\" cx=\"920.469\" cy=\"575.128\" r=\"14\" fill=\"#009af9\" fill-rule=\"evenodd\" fill-opacity=\"1\" stroke=\"#000000\" stroke-opacity=\"1\" stroke-width=\"3.2\"/>\n",
       "<circle clip-path=\"url(#clip182)\" cx=\"1068.35\" cy=\"466.196\" r=\"14\" fill=\"#009af9\" fill-rule=\"evenodd\" fill-opacity=\"1\" stroke=\"#000000\" stroke-opacity=\"1\" stroke-width=\"3.2\"/>\n",
       "<circle clip-path=\"url(#clip182)\" cx=\"1192.73\" cy=\"387.762\" r=\"14\" fill=\"#009af9\" fill-rule=\"evenodd\" fill-opacity=\"1\" stroke=\"#000000\" stroke-opacity=\"1\" stroke-width=\"3.2\"/>\n",
       "<circle clip-path=\"url(#clip182)\" cx=\"1253.64\" cy=\"353.349\" r=\"14\" fill=\"#009af9\" fill-rule=\"evenodd\" fill-opacity=\"1\" stroke=\"#000000\" stroke-opacity=\"1\" stroke-width=\"3.2\"/>\n",
       "<circle clip-path=\"url(#clip182)\" cx=\"1314.54\" cy=\"321.398\" r=\"14\" fill=\"#009af9\" fill-rule=\"evenodd\" fill-opacity=\"1\" stroke=\"#000000\" stroke-opacity=\"1\" stroke-width=\"3.2\"/>\n",
       "<circle clip-path=\"url(#clip182)\" cx=\"1438.92\" cy=\"263.38\" r=\"14\" fill=\"#009af9\" fill-rule=\"evenodd\" fill-opacity=\"1\" stroke=\"#000000\" stroke-opacity=\"1\" stroke-width=\"3.2\"/>\n",
       "<circle clip-path=\"url(#clip182)\" cx=\"1586.8\" cy=\"206.218\" r=\"14\" fill=\"#009af9\" fill-rule=\"evenodd\" fill-opacity=\"1\" stroke=\"#000000\" stroke-opacity=\"1\" stroke-width=\"3.2\"/>\n",
       "<circle clip-path=\"url(#clip182)\" cx=\"1711.18\" cy=\"167.416\" r=\"14\" fill=\"#009af9\" fill-rule=\"evenodd\" fill-opacity=\"1\" stroke=\"#000000\" stroke-opacity=\"1\" stroke-width=\"3.2\"/>\n",
       "<circle clip-path=\"url(#clip182)\" cx=\"1772.09\" cy=\"151.362\" r=\"14\" fill=\"#009af9\" fill-rule=\"evenodd\" fill-opacity=\"1\" stroke=\"#000000\" stroke-opacity=\"1\" stroke-width=\"3.2\"/>\n",
       "<circle clip-path=\"url(#clip182)\" cx=\"1832.99\" cy=\"137.187\" r=\"14\" fill=\"#009af9\" fill-rule=\"evenodd\" fill-opacity=\"1\" stroke=\"#000000\" stroke-opacity=\"1\" stroke-width=\"3.2\"/>\n",
       "<circle clip-path=\"url(#clip182)\" cx=\"1957.38\" cy=\"113.932\" r=\"14\" fill=\"#009af9\" fill-rule=\"evenodd\" fill-opacity=\"1\" stroke=\"#000000\" stroke-opacity=\"1\" stroke-width=\"3.2\"/>\n",
       "<circle clip-path=\"url(#clip182)\" cx=\"2105.25\" cy=\"95.9718\" r=\"14\" fill=\"#009af9\" fill-rule=\"evenodd\" fill-opacity=\"1\" stroke=\"#000000\" stroke-opacity=\"1\" stroke-width=\"3.2\"/>\n",
       "<circle clip-path=\"url(#clip182)\" cx=\"2229.64\" cy=\"88.8388\" r=\"14\" fill=\"#009af9\" fill-rule=\"evenodd\" fill-opacity=\"1\" stroke=\"#000000\" stroke-opacity=\"1\" stroke-width=\"3.2\"/>\n",
       "<circle clip-path=\"url(#clip182)\" cx=\"2290.54\" cy=\"87.9763\" r=\"14\" fill=\"#009af9\" fill-rule=\"evenodd\" fill-opacity=\"1\" stroke=\"#000000\" stroke-opacity=\"1\" stroke-width=\"3.2\"/>\n",
       "<path clip-path=\"url(#clip180)\" d=\"\n",
       "M1982.8 198.898 L2279.48 198.898 L2279.48 95.2176 L1982.8 95.2176  Z\n",
       "  \" fill=\"#ffffff\" fill-rule=\"evenodd\" fill-opacity=\"1\"/>\n",
       "<polyline clip-path=\"url(#clip180)\" style=\"stroke:#000000; stroke-linecap:butt; stroke-linejoin:round; stroke-width:4; stroke-opacity:1; fill:none\" points=\"\n",
       "  1982.8,198.898 2279.48,198.898 2279.48,95.2176 1982.8,95.2176 1982.8,198.898 \n",
       "  \"/>\n",
       "<polyline clip-path=\"url(#clip180)\" style=\"stroke:#009af9; stroke-linecap:butt; stroke-linejoin:round; stroke-width:4; stroke-opacity:1; fill:none\" points=\"\n",
       "  2007.23,147.058 2153.78,147.058 \n",
       "  \"/>\n",
       "<circle clip-path=\"url(#clip180)\" cx=\"2080.5\" cy=\"147.058\" r=\"23\" fill=\"#009af9\" fill-rule=\"evenodd\" fill-opacity=\"1\" stroke=\"#000000\" stroke-opacity=\"1\" stroke-width=\"5.12\"/>\n",
       "<path clip-path=\"url(#clip180)\" d=\"M2192.04 166.745 Q2190.24 171.375 2188.53 172.787 Q2186.81 174.199 2183.94 174.199 L2180.54 174.199 L2180.54 170.634 L2183.04 170.634 Q2184.8 170.634 2185.77 169.8 Q2186.74 168.967 2187.92 165.865 L2188.69 163.921 L2178.2 138.412 L2182.71 138.412 L2190.82 158.689 L2198.92 138.412 L2203.43 138.412 L2192.04 166.745 Z\" fill=\"#000000\" fill-rule=\"evenodd\" fill-opacity=\"1\" /><path clip-path=\"url(#clip180)\" d=\"M2210.72 160.402 L2218.36 160.402 L2218.36 134.037 L2210.05 135.703 L2210.05 131.444 L2218.32 129.778 L2222.99 129.778 L2222.99 160.402 L2230.63 160.402 L2230.63 164.338 L2210.72 164.338 L2210.72 160.402 Z\" fill=\"#000000\" fill-rule=\"evenodd\" fill-opacity=\"1\" /></svg>\n"
      ]
     },
     "execution_count": 142,
     "metadata": {},
     "output_type": "execute_result"
    }
   ],
   "source": [
    "plot(fe.xn, sol.zero, marker=:auto)"
   ]
  },
  {
   "cell_type": "markdown",
   "id": "2c8f331c",
   "metadata": {
    "slideshow": {
     "slide_type": "slide"
    }
   },
   "source": [
    "# Advection-diffusion (time independent)\n",
    "\n",
    "\\begin{align}\n",
    "\\nabla\\cdot\\big[ \\mathbf w u - \\kappa \\nabla u \\big] &= 1 & \\int_\\Omega \\nabla v \\cdot \\Big[-\\mathbf w u + \\kappa \\nabla u \\big] &= \\int_\\Omega v 1, \\forall v\n",
    "\\end{align}"
   ]
  },
  {
   "cell_type": "code",
   "execution_count": 145,
   "id": "2115b110",
   "metadata": {
    "slideshow": {
     "slide_type": ""
    }
   },
   "outputs": [
    {
     "data": {
      "image/svg+xml": [
       "<?xml version=\"1.0\" encoding=\"utf-8\"?>\n",
       "<svg xmlns=\"http://www.w3.org/2000/svg\" xmlns:xlink=\"http://www.w3.org/1999/xlink\" width=\"600\" height=\"400\" viewBox=\"0 0 2400 1600\">\n",
       "<defs>\n",
       "  <clipPath id=\"clip300\">\n",
       "    <rect x=\"0\" y=\"0\" width=\"2400\" height=\"1600\"/>\n",
       "  </clipPath>\n",
       "</defs>\n",
       "<path clip-path=\"url(#clip300)\" d=\"\n",
       "M0 1600 L2400 1600 L2400 0 L0 0  Z\n",
       "  \" fill=\"#ffffff\" fill-rule=\"evenodd\" fill-opacity=\"1\"/>\n",
       "<defs>\n",
       "  <clipPath id=\"clip301\">\n",
       "    <rect x=\"480\" y=\"0\" width=\"1681\" height=\"1600\"/>\n",
       "  </clipPath>\n",
       "</defs>\n",
       "<path clip-path=\"url(#clip300)\" d=\"\n",
       "M186.76 1486.45 L2352.76 1486.45 L2352.76 47.2441 L186.76 47.2441  Z\n",
       "  \" fill=\"#ffffff\" fill-rule=\"evenodd\" fill-opacity=\"1\"/>\n",
       "<defs>\n",
       "  <clipPath id=\"clip302\">\n",
       "    <rect x=\"186\" y=\"47\" width=\"2167\" height=\"1440\"/>\n",
       "  </clipPath>\n",
       "</defs>\n",
       "<polyline clip-path=\"url(#clip302)\" style=\"stroke:#000000; stroke-linecap:butt; stroke-linejoin:round; stroke-width:2; stroke-opacity:0.1; fill:none\" points=\"\n",
       "  248.062,1486.45 248.062,47.2441 \n",
       "  \"/>\n",
       "<polyline clip-path=\"url(#clip302)\" style=\"stroke:#000000; stroke-linecap:butt; stroke-linejoin:round; stroke-width:2; stroke-opacity:0.1; fill:none\" points=\"\n",
       "  758.91,1486.45 758.91,47.2441 \n",
       "  \"/>\n",
       "<polyline clip-path=\"url(#clip302)\" style=\"stroke:#000000; stroke-linecap:butt; stroke-linejoin:round; stroke-width:2; stroke-opacity:0.1; fill:none\" points=\"\n",
       "  1269.76,1486.45 1269.76,47.2441 \n",
       "  \"/>\n",
       "<polyline clip-path=\"url(#clip302)\" style=\"stroke:#000000; stroke-linecap:butt; stroke-linejoin:round; stroke-width:2; stroke-opacity:0.1; fill:none\" points=\"\n",
       "  1780.61,1486.45 1780.61,47.2441 \n",
       "  \"/>\n",
       "<polyline clip-path=\"url(#clip302)\" style=\"stroke:#000000; stroke-linecap:butt; stroke-linejoin:round; stroke-width:2; stroke-opacity:0.1; fill:none\" points=\"\n",
       "  2291.45,1486.45 2291.45,47.2441 \n",
       "  \"/>\n",
       "<polyline clip-path=\"url(#clip300)\" style=\"stroke:#000000; stroke-linecap:butt; stroke-linejoin:round; stroke-width:4; stroke-opacity:1; fill:none\" points=\"\n",
       "  186.76,1486.45 2352.76,1486.45 \n",
       "  \"/>\n",
       "<polyline clip-path=\"url(#clip300)\" style=\"stroke:#000000; stroke-linecap:butt; stroke-linejoin:round; stroke-width:4; stroke-opacity:1; fill:none\" points=\"\n",
       "  248.062,1486.45 248.062,1467.55 \n",
       "  \"/>\n",
       "<polyline clip-path=\"url(#clip300)\" style=\"stroke:#000000; stroke-linecap:butt; stroke-linejoin:round; stroke-width:4; stroke-opacity:1; fill:none\" points=\"\n",
       "  758.91,1486.45 758.91,1467.55 \n",
       "  \"/>\n",
       "<polyline clip-path=\"url(#clip300)\" style=\"stroke:#000000; stroke-linecap:butt; stroke-linejoin:round; stroke-width:4; stroke-opacity:1; fill:none\" points=\"\n",
       "  1269.76,1486.45 1269.76,1467.55 \n",
       "  \"/>\n",
       "<polyline clip-path=\"url(#clip300)\" style=\"stroke:#000000; stroke-linecap:butt; stroke-linejoin:round; stroke-width:4; stroke-opacity:1; fill:none\" points=\"\n",
       "  1780.61,1486.45 1780.61,1467.55 \n",
       "  \"/>\n",
       "<polyline clip-path=\"url(#clip300)\" style=\"stroke:#000000; stroke-linecap:butt; stroke-linejoin:round; stroke-width:4; stroke-opacity:1; fill:none\" points=\"\n",
       "  2291.45,1486.45 2291.45,1467.55 \n",
       "  \"/>\n",
       "<path clip-path=\"url(#clip300)\" d=\"M194.59 1532.02 L224.266 1532.02 L224.266 1535.95 L194.59 1535.95 L194.59 1532.02 Z\" fill=\"#000000\" fill-rule=\"evenodd\" fill-opacity=\"1\" /><path clip-path=\"url(#clip300)\" d=\"M235.168 1544.91 L242.807 1544.91 L242.807 1518.55 L234.497 1520.21 L234.497 1515.95 L242.761 1514.29 L247.437 1514.29 L247.437 1544.91 L255.076 1544.91 L255.076 1548.85 L235.168 1548.85 L235.168 1544.91 Z\" fill=\"#000000\" fill-rule=\"evenodd\" fill-opacity=\"1\" /><path clip-path=\"url(#clip300)\" d=\"M264.52 1542.97 L269.404 1542.97 L269.404 1548.85 L264.52 1548.85 L264.52 1542.97 Z\" fill=\"#000000\" fill-rule=\"evenodd\" fill-opacity=\"1\" /><path clip-path=\"url(#clip300)\" d=\"M289.589 1517.37 Q285.978 1517.37 284.15 1520.93 Q282.344 1524.47 282.344 1531.6 Q282.344 1538.71 284.15 1542.27 Q285.978 1545.82 289.589 1545.82 Q293.224 1545.82 295.029 1542.27 Q296.858 1538.71 296.858 1531.6 Q296.858 1524.47 295.029 1520.93 Q293.224 1517.37 289.589 1517.37 M289.589 1513.66 Q295.4 1513.66 298.455 1518.27 Q301.534 1522.85 301.534 1531.6 Q301.534 1540.33 298.455 1544.94 Q295.4 1549.52 289.589 1549.52 Q283.779 1549.52 280.701 1544.94 Q277.645 1540.33 277.645 1531.6 Q277.645 1522.85 280.701 1518.27 Q283.779 1513.66 289.589 1513.66 Z\" fill=\"#000000\" fill-rule=\"evenodd\" fill-opacity=\"1\" /><path clip-path=\"url(#clip300)\" d=\"M705.936 1532.02 L735.611 1532.02 L735.611 1535.95 L705.936 1535.95 L705.936 1532.02 Z\" fill=\"#000000\" fill-rule=\"evenodd\" fill-opacity=\"1\" /><path clip-path=\"url(#clip300)\" d=\"M755.704 1517.37 Q752.093 1517.37 750.264 1520.93 Q748.459 1524.47 748.459 1531.6 Q748.459 1538.71 750.264 1542.27 Q752.093 1545.82 755.704 1545.82 Q759.338 1545.82 761.144 1542.27 Q762.972 1538.71 762.972 1531.6 Q762.972 1524.47 761.144 1520.93 Q759.338 1517.37 755.704 1517.37 M755.704 1513.66 Q761.514 1513.66 764.57 1518.27 Q767.648 1522.85 767.648 1531.6 Q767.648 1540.33 764.57 1544.94 Q761.514 1549.52 755.704 1549.52 Q749.894 1549.52 746.815 1544.94 Q743.76 1540.33 743.76 1531.6 Q743.76 1522.85 746.815 1518.27 Q749.894 1513.66 755.704 1513.66 Z\" fill=\"#000000\" fill-rule=\"evenodd\" fill-opacity=\"1\" /><path clip-path=\"url(#clip300)\" d=\"M775.866 1542.97 L780.75 1542.97 L780.75 1548.85 L775.866 1548.85 L775.866 1542.97 Z\" fill=\"#000000\" fill-rule=\"evenodd\" fill-opacity=\"1\" /><path clip-path=\"url(#clip300)\" d=\"M790.982 1514.29 L809.338 1514.29 L809.338 1518.22 L795.264 1518.22 L795.264 1526.7 Q796.282 1526.35 797.301 1526.19 Q798.319 1526 799.338 1526 Q805.125 1526 808.505 1529.17 Q811.884 1532.34 811.884 1537.76 Q811.884 1543.34 808.412 1546.44 Q804.94 1549.52 798.62 1549.52 Q796.444 1549.52 794.176 1549.15 Q791.931 1548.78 789.523 1548.04 L789.523 1543.34 Q791.607 1544.47 793.829 1545.03 Q796.051 1545.58 798.528 1545.58 Q802.532 1545.58 804.87 1543.48 Q807.208 1541.37 807.208 1537.76 Q807.208 1534.15 804.87 1532.04 Q802.532 1529.94 798.528 1529.94 Q796.653 1529.94 794.778 1530.35 Q792.926 1530.77 790.982 1531.65 L790.982 1514.29 Z\" fill=\"#000000\" fill-rule=\"evenodd\" fill-opacity=\"1\" /><path clip-path=\"url(#clip300)\" d=\"M1247.14 1517.37 Q1243.53 1517.37 1241.7 1520.93 Q1239.9 1524.47 1239.9 1531.6 Q1239.9 1538.71 1241.7 1542.27 Q1243.53 1545.82 1247.14 1545.82 Q1250.78 1545.82 1252.58 1542.27 Q1254.41 1538.71 1254.41 1531.6 Q1254.41 1524.47 1252.58 1520.93 Q1250.78 1517.37 1247.14 1517.37 M1247.14 1513.66 Q1252.95 1513.66 1256.01 1518.27 Q1259.09 1522.85 1259.09 1531.6 Q1259.09 1540.33 1256.01 1544.94 Q1252.95 1549.52 1247.14 1549.52 Q1241.33 1549.52 1238.25 1544.94 Q1235.2 1540.33 1235.2 1531.6 Q1235.2 1522.85 1238.25 1518.27 Q1241.33 1513.66 1247.14 1513.66 Z\" fill=\"#000000\" fill-rule=\"evenodd\" fill-opacity=\"1\" /><path clip-path=\"url(#clip300)\" d=\"M1267.3 1542.97 L1272.19 1542.97 L1272.19 1548.85 L1267.3 1548.85 L1267.3 1542.97 Z\" fill=\"#000000\" fill-rule=\"evenodd\" fill-opacity=\"1\" /><path clip-path=\"url(#clip300)\" d=\"M1292.37 1517.37 Q1288.76 1517.37 1286.93 1520.93 Q1285.13 1524.47 1285.13 1531.6 Q1285.13 1538.71 1286.93 1542.27 Q1288.76 1545.82 1292.37 1545.82 Q1296.01 1545.82 1297.81 1542.27 Q1299.64 1538.71 1299.64 1531.6 Q1299.64 1524.47 1297.81 1520.93 Q1296.01 1517.37 1292.37 1517.37 M1292.37 1513.66 Q1298.18 1513.66 1301.24 1518.27 Q1304.32 1522.85 1304.32 1531.6 Q1304.32 1540.33 1301.24 1544.94 Q1298.18 1549.52 1292.37 1549.52 Q1286.56 1549.52 1283.48 1544.94 Q1280.43 1540.33 1280.43 1531.6 Q1280.43 1522.85 1283.48 1518.27 Q1286.56 1513.66 1292.37 1513.66 Z\" fill=\"#000000\" fill-rule=\"evenodd\" fill-opacity=\"1\" /><path clip-path=\"url(#clip300)\" d=\"M1758.49 1517.37 Q1754.88 1517.37 1753.05 1520.93 Q1751.24 1524.47 1751.24 1531.6 Q1751.24 1538.71 1753.05 1542.27 Q1754.88 1545.82 1758.49 1545.82 Q1762.12 1545.82 1763.93 1542.27 Q1765.76 1538.71 1765.76 1531.6 Q1765.76 1524.47 1763.93 1520.93 Q1762.12 1517.37 1758.49 1517.37 M1758.49 1513.66 Q1764.3 1513.66 1767.35 1518.27 Q1770.43 1522.85 1770.43 1531.6 Q1770.43 1540.33 1767.35 1544.94 Q1764.3 1549.52 1758.49 1549.52 Q1752.68 1549.52 1749.6 1544.94 Q1746.54 1540.33 1746.54 1531.6 Q1746.54 1522.85 1749.6 1518.27 Q1752.68 1513.66 1758.49 1513.66 Z\" fill=\"#000000\" fill-rule=\"evenodd\" fill-opacity=\"1\" /><path clip-path=\"url(#clip300)\" d=\"M1778.65 1542.97 L1783.53 1542.97 L1783.53 1548.85 L1778.65 1548.85 L1778.65 1542.97 Z\" fill=\"#000000\" fill-rule=\"evenodd\" fill-opacity=\"1\" /><path clip-path=\"url(#clip300)\" d=\"M1793.77 1514.29 L1812.12 1514.29 L1812.12 1518.22 L1798.05 1518.22 L1798.05 1526.7 Q1799.07 1526.35 1800.09 1526.19 Q1801.1 1526 1802.12 1526 Q1807.91 1526 1811.29 1529.17 Q1814.67 1532.34 1814.67 1537.76 Q1814.67 1543.34 1811.2 1546.44 Q1807.72 1549.52 1801.4 1549.52 Q1799.23 1549.52 1796.96 1549.15 Q1794.71 1548.78 1792.31 1548.04 L1792.31 1543.34 Q1794.39 1544.47 1796.61 1545.03 Q1798.84 1545.58 1801.31 1545.58 Q1805.32 1545.58 1807.65 1543.48 Q1809.99 1541.37 1809.99 1537.76 Q1809.99 1534.15 1807.65 1532.04 Q1805.32 1529.94 1801.31 1529.94 Q1799.44 1529.94 1797.56 1530.35 Q1795.71 1530.77 1793.77 1531.65 L1793.77 1514.29 Z\" fill=\"#000000\" fill-rule=\"evenodd\" fill-opacity=\"1\" /><path clip-path=\"url(#clip300)\" d=\"M2258.61 1544.91 L2266.25 1544.91 L2266.25 1518.55 L2257.94 1520.21 L2257.94 1515.95 L2266.2 1514.29 L2270.88 1514.29 L2270.88 1544.91 L2278.51 1544.91 L2278.51 1548.85 L2258.61 1548.85 L2258.61 1544.91 Z\" fill=\"#000000\" fill-rule=\"evenodd\" fill-opacity=\"1\" /><path clip-path=\"url(#clip300)\" d=\"M2287.96 1542.97 L2292.84 1542.97 L2292.84 1548.85 L2287.96 1548.85 L2287.96 1542.97 Z\" fill=\"#000000\" fill-rule=\"evenodd\" fill-opacity=\"1\" /><path clip-path=\"url(#clip300)\" d=\"M2313.03 1517.37 Q2309.42 1517.37 2307.59 1520.93 Q2305.78 1524.47 2305.78 1531.6 Q2305.78 1538.71 2307.59 1542.27 Q2309.42 1545.82 2313.03 1545.82 Q2316.66 1545.82 2318.47 1542.27 Q2320.3 1538.71 2320.3 1531.6 Q2320.3 1524.47 2318.47 1520.93 Q2316.66 1517.37 2313.03 1517.37 M2313.03 1513.66 Q2318.84 1513.66 2321.89 1518.27 Q2324.97 1522.85 2324.97 1531.6 Q2324.97 1540.33 2321.89 1544.94 Q2318.84 1549.52 2313.03 1549.52 Q2307.22 1549.52 2304.14 1544.94 Q2301.08 1540.33 2301.08 1531.6 Q2301.08 1522.85 2304.14 1518.27 Q2307.22 1513.66 2313.03 1513.66 Z\" fill=\"#000000\" fill-rule=\"evenodd\" fill-opacity=\"1\" /><polyline clip-path=\"url(#clip302)\" style=\"stroke:#000000; stroke-linecap:butt; stroke-linejoin:round; stroke-width:2; stroke-opacity:0.1; fill:none\" points=\"\n",
       "  186.76,1445.72 2352.76,1445.72 \n",
       "  \"/>\n",
       "<polyline clip-path=\"url(#clip302)\" style=\"stroke:#000000; stroke-linecap:butt; stroke-linejoin:round; stroke-width:2; stroke-opacity:0.1; fill:none\" points=\"\n",
       "  186.76,1104.79 2352.76,1104.79 \n",
       "  \"/>\n",
       "<polyline clip-path=\"url(#clip302)\" style=\"stroke:#000000; stroke-linecap:butt; stroke-linejoin:round; stroke-width:2; stroke-opacity:0.1; fill:none\" points=\"\n",
       "  186.76,763.862 2352.76,763.862 \n",
       "  \"/>\n",
       "<polyline clip-path=\"url(#clip302)\" style=\"stroke:#000000; stroke-linecap:butt; stroke-linejoin:round; stroke-width:2; stroke-opacity:0.1; fill:none\" points=\"\n",
       "  186.76,422.935 2352.76,422.935 \n",
       "  \"/>\n",
       "<polyline clip-path=\"url(#clip302)\" style=\"stroke:#000000; stroke-linecap:butt; stroke-linejoin:round; stroke-width:2; stroke-opacity:0.1; fill:none\" points=\"\n",
       "  186.76,82.0087 2352.76,82.0087 \n",
       "  \"/>\n",
       "<polyline clip-path=\"url(#clip300)\" style=\"stroke:#000000; stroke-linecap:butt; stroke-linejoin:round; stroke-width:4; stroke-opacity:1; fill:none\" points=\"\n",
       "  186.76,1486.45 186.76,47.2441 \n",
       "  \"/>\n",
       "<polyline clip-path=\"url(#clip300)\" style=\"stroke:#000000; stroke-linecap:butt; stroke-linejoin:round; stroke-width:4; stroke-opacity:1; fill:none\" points=\"\n",
       "  186.76,1445.72 205.658,1445.72 \n",
       "  \"/>\n",
       "<polyline clip-path=\"url(#clip300)\" style=\"stroke:#000000; stroke-linecap:butt; stroke-linejoin:round; stroke-width:4; stroke-opacity:1; fill:none\" points=\"\n",
       "  186.76,1104.79 205.658,1104.79 \n",
       "  \"/>\n",
       "<polyline clip-path=\"url(#clip300)\" style=\"stroke:#000000; stroke-linecap:butt; stroke-linejoin:round; stroke-width:4; stroke-opacity:1; fill:none\" points=\"\n",
       "  186.76,763.862 205.658,763.862 \n",
       "  \"/>\n",
       "<polyline clip-path=\"url(#clip300)\" style=\"stroke:#000000; stroke-linecap:butt; stroke-linejoin:round; stroke-width:4; stroke-opacity:1; fill:none\" points=\"\n",
       "  186.76,422.935 205.658,422.935 \n",
       "  \"/>\n",
       "<polyline clip-path=\"url(#clip300)\" style=\"stroke:#000000; stroke-linecap:butt; stroke-linejoin:round; stroke-width:4; stroke-opacity:1; fill:none\" points=\"\n",
       "  186.76,82.0087 205.658,82.0087 \n",
       "  \"/>\n",
       "<path clip-path=\"url(#clip300)\" d=\"M63.4226 1431.51 Q59.8115 1431.51 57.9828 1435.08 Q56.1773 1438.62 56.1773 1445.75 Q56.1773 1452.86 57.9828 1456.42 Q59.8115 1459.96 63.4226 1459.96 Q67.0569 1459.96 68.8624 1456.42 Q70.6911 1452.86 70.6911 1445.75 Q70.6911 1438.62 68.8624 1435.08 Q67.0569 1431.51 63.4226 1431.51 M63.4226 1427.81 Q69.2328 1427.81 72.2883 1432.42 Q75.367 1437 75.367 1445.75 Q75.367 1454.48 72.2883 1459.08 Q69.2328 1463.67 63.4226 1463.67 Q57.6125 1463.67 54.5338 1459.08 Q51.4782 1454.48 51.4782 1445.75 Q51.4782 1437 54.5338 1432.42 Q57.6125 1427.81 63.4226 1427.81 Z\" fill=\"#000000\" fill-rule=\"evenodd\" fill-opacity=\"1\" /><path clip-path=\"url(#clip300)\" d=\"M83.5845 1457.12 L88.4688 1457.12 L88.4688 1463 L83.5845 1463 L83.5845 1457.12 Z\" fill=\"#000000\" fill-rule=\"evenodd\" fill-opacity=\"1\" /><path clip-path=\"url(#clip300)\" d=\"M108.654 1431.51 Q105.043 1431.51 103.214 1435.08 Q101.409 1438.62 101.409 1445.75 Q101.409 1452.86 103.214 1456.42 Q105.043 1459.96 108.654 1459.96 Q112.288 1459.96 114.094 1456.42 Q115.922 1452.86 115.922 1445.75 Q115.922 1438.62 114.094 1435.08 Q112.288 1431.51 108.654 1431.51 M108.654 1427.81 Q114.464 1427.81 117.52 1432.42 Q120.598 1437 120.598 1445.75 Q120.598 1454.48 117.52 1459.08 Q114.464 1463.67 108.654 1463.67 Q102.844 1463.67 99.765 1459.08 Q96.7095 1454.48 96.7095 1445.75 Q96.7095 1437 99.765 1432.42 Q102.844 1427.81 108.654 1427.81 Z\" fill=\"#000000\" fill-rule=\"evenodd\" fill-opacity=\"1\" /><path clip-path=\"url(#clip300)\" d=\"M138.816 1431.51 Q135.205 1431.51 133.376 1435.08 Q131.57 1438.62 131.57 1445.75 Q131.57 1452.86 133.376 1456.42 Q135.205 1459.96 138.816 1459.96 Q142.45 1459.96 144.256 1456.42 Q146.084 1452.86 146.084 1445.75 Q146.084 1438.62 144.256 1435.08 Q142.45 1431.51 138.816 1431.51 M138.816 1427.81 Q144.626 1427.81 147.681 1432.42 Q150.76 1437 150.76 1445.75 Q150.76 1454.48 147.681 1459.08 Q144.626 1463.67 138.816 1463.67 Q133.006 1463.67 129.927 1459.08 Q126.871 1454.48 126.871 1445.75 Q126.871 1437 129.927 1432.42 Q133.006 1427.81 138.816 1427.81 Z\" fill=\"#000000\" fill-rule=\"evenodd\" fill-opacity=\"1\" /><path clip-path=\"url(#clip300)\" d=\"M64.6495 1090.59 Q61.0384 1090.59 59.2097 1094.15 Q57.4041 1097.69 57.4041 1104.82 Q57.4041 1111.93 59.2097 1115.49 Q61.0384 1119.04 64.6495 1119.04 Q68.2837 1119.04 70.0892 1115.49 Q71.9179 1111.93 71.9179 1104.82 Q71.9179 1097.69 70.0892 1094.15 Q68.2837 1090.59 64.6495 1090.59 M64.6495 1086.88 Q70.4596 1086.88 73.5152 1091.49 Q76.5938 1096.07 76.5938 1104.82 Q76.5938 1113.55 73.5152 1118.16 Q70.4596 1122.74 64.6495 1122.74 Q58.8393 1122.74 55.7606 1118.16 Q52.7051 1113.55 52.7051 1104.82 Q52.7051 1096.07 55.7606 1091.49 Q58.8393 1086.88 64.6495 1086.88 Z\" fill=\"#000000\" fill-rule=\"evenodd\" fill-opacity=\"1\" /><path clip-path=\"url(#clip300)\" d=\"M84.8114 1116.19 L89.6956 1116.19 L89.6956 1122.07 L84.8114 1122.07 L84.8114 1116.19 Z\" fill=\"#000000\" fill-rule=\"evenodd\" fill-opacity=\"1\" /><path clip-path=\"url(#clip300)\" d=\"M109.881 1090.59 Q106.27 1090.59 104.441 1094.15 Q102.635 1097.69 102.635 1104.82 Q102.635 1111.93 104.441 1115.49 Q106.27 1119.04 109.881 1119.04 Q113.515 1119.04 115.32 1115.49 Q117.149 1111.93 117.149 1104.82 Q117.149 1097.69 115.32 1094.15 Q113.515 1090.59 109.881 1090.59 M109.881 1086.88 Q115.691 1086.88 118.746 1091.49 Q121.825 1096.07 121.825 1104.82 Q121.825 1113.55 118.746 1118.16 Q115.691 1122.74 109.881 1122.74 Q104.071 1122.74 100.992 1118.16 Q97.9363 1113.55 97.9363 1104.82 Q97.9363 1096.07 100.992 1091.49 Q104.071 1086.88 109.881 1086.88 Z\" fill=\"#000000\" fill-rule=\"evenodd\" fill-opacity=\"1\" /><path clip-path=\"url(#clip300)\" d=\"M130.853 1118.13 L138.492 1118.13 L138.492 1091.77 L130.182 1093.43 L130.182 1089.18 L138.445 1087.51 L143.121 1087.51 L143.121 1118.13 L150.76 1118.13 L150.76 1122.07 L130.853 1122.07 L130.853 1118.13 Z\" fill=\"#000000\" fill-rule=\"evenodd\" fill-opacity=\"1\" /><path clip-path=\"url(#clip300)\" d=\"M65.0198 749.661 Q61.4087 749.661 59.58 753.226 Q57.7745 756.767 57.7745 763.897 Q57.7745 771.003 59.58 774.568 Q61.4087 778.11 65.0198 778.11 Q68.6541 778.11 70.4596 774.568 Q72.2883 771.003 72.2883 763.897 Q72.2883 756.767 70.4596 753.226 Q68.6541 749.661 65.0198 749.661 M65.0198 745.957 Q70.83 745.957 73.8855 750.564 Q76.9642 755.147 76.9642 763.897 Q76.9642 772.624 73.8855 777.23 Q70.83 781.813 65.0198 781.813 Q59.2097 781.813 56.131 777.23 Q53.0754 772.624 53.0754 763.897 Q53.0754 755.147 56.131 750.564 Q59.2097 745.957 65.0198 745.957 Z\" fill=\"#000000\" fill-rule=\"evenodd\" fill-opacity=\"1\" /><path clip-path=\"url(#clip300)\" d=\"M85.1818 775.263 L90.066 775.263 L90.066 781.142 L85.1818 781.142 L85.1818 775.263 Z\" fill=\"#000000\" fill-rule=\"evenodd\" fill-opacity=\"1\" /><path clip-path=\"url(#clip300)\" d=\"M110.251 749.661 Q106.64 749.661 104.811 753.226 Q103.006 756.767 103.006 763.897 Q103.006 771.003 104.811 774.568 Q106.64 778.11 110.251 778.11 Q113.885 778.11 115.691 774.568 Q117.52 771.003 117.52 763.897 Q117.52 756.767 115.691 753.226 Q113.885 749.661 110.251 749.661 M110.251 745.957 Q116.061 745.957 119.117 750.564 Q122.195 755.147 122.195 763.897 Q122.195 772.624 119.117 777.23 Q116.061 781.813 110.251 781.813 Q104.441 781.813 101.362 777.23 Q98.3067 772.624 98.3067 763.897 Q98.3067 755.147 101.362 750.564 Q104.441 745.957 110.251 745.957 Z\" fill=\"#000000\" fill-rule=\"evenodd\" fill-opacity=\"1\" /><path clip-path=\"url(#clip300)\" d=\"M134.441 777.207 L150.76 777.207 L150.76 781.142 L128.816 781.142 L128.816 777.207 Q131.478 774.452 136.061 769.823 Q140.668 765.17 141.848 763.827 Q144.093 761.304 144.973 759.568 Q145.876 757.809 145.876 756.119 Q145.876 753.365 143.931 751.628 Q142.01 749.892 138.908 749.892 Q136.709 749.892 134.256 750.656 Q131.825 751.42 129.047 752.971 L129.047 748.249 Q131.871 747.115 134.325 746.536 Q136.779 745.957 138.816 745.957 Q144.186 745.957 147.38 748.642 Q150.575 751.328 150.575 755.818 Q150.575 757.948 149.765 759.869 Q148.978 761.767 146.871 764.36 Q146.293 765.031 143.191 768.249 Q140.089 771.443 134.441 777.207 Z\" fill=\"#000000\" fill-rule=\"evenodd\" fill-opacity=\"1\" /><path clip-path=\"url(#clip300)\" d=\"M64.0708 408.734 Q60.4597 408.734 58.631 412.299 Q56.8254 415.841 56.8254 422.97 Q56.8254 430.077 58.631 433.641 Q60.4597 437.183 64.0708 437.183 Q67.705 437.183 69.5105 433.641 Q71.3392 430.077 71.3392 422.97 Q71.3392 415.841 69.5105 412.299 Q67.705 408.734 64.0708 408.734 M64.0708 405.03 Q69.8809 405.03 72.9365 409.637 Q76.0151 414.22 76.0151 422.97 Q76.0151 431.697 72.9365 436.303 Q69.8809 440.887 64.0708 440.887 Q58.2606 440.887 55.1819 436.303 Q52.1264 431.697 52.1264 422.97 Q52.1264 414.22 55.1819 409.637 Q58.2606 405.03 64.0708 405.03 Z\" fill=\"#000000\" fill-rule=\"evenodd\" fill-opacity=\"1\" /><path clip-path=\"url(#clip300)\" d=\"M84.2327 434.336 L89.1169 434.336 L89.1169 440.215 L84.2327 440.215 L84.2327 434.336 Z\" fill=\"#000000\" fill-rule=\"evenodd\" fill-opacity=\"1\" /><path clip-path=\"url(#clip300)\" d=\"M109.302 408.734 Q105.691 408.734 103.862 412.299 Q102.057 415.841 102.057 422.97 Q102.057 430.077 103.862 433.641 Q105.691 437.183 109.302 437.183 Q112.936 437.183 114.742 433.641 Q116.57 430.077 116.57 422.97 Q116.57 415.841 114.742 412.299 Q112.936 408.734 109.302 408.734 M109.302 405.03 Q115.112 405.03 118.168 409.637 Q121.246 414.22 121.246 422.97 Q121.246 431.697 118.168 436.303 Q115.112 440.887 109.302 440.887 Q103.492 440.887 100.413 436.303 Q97.3576 431.697 97.3576 422.97 Q97.3576 414.22 100.413 409.637 Q103.492 405.03 109.302 405.03 Z\" fill=\"#000000\" fill-rule=\"evenodd\" fill-opacity=\"1\" /><path clip-path=\"url(#clip300)\" d=\"M143.631 421.581 Q146.987 422.299 148.862 424.567 Q150.76 426.836 150.76 430.169 Q150.76 435.285 147.242 438.086 Q143.723 440.887 137.242 440.887 Q135.066 440.887 132.751 440.447 Q130.459 440.03 128.006 439.174 L128.006 434.66 Q129.95 435.794 132.265 436.373 Q134.58 436.952 137.103 436.952 Q141.501 436.952 143.793 435.215 Q146.107 433.479 146.107 430.169 Q146.107 427.114 143.955 425.401 Q141.825 423.665 138.006 423.665 L133.978 423.665 L133.978 419.822 L138.191 419.822 Q141.64 419.822 143.468 418.456 Q145.297 417.067 145.297 414.475 Q145.297 411.813 143.399 410.401 Q141.524 408.966 138.006 408.966 Q136.084 408.966 133.885 409.382 Q131.686 409.799 129.047 410.679 L129.047 406.512 Q131.709 405.771 134.024 405.401 Q136.362 405.03 138.422 405.03 Q143.746 405.03 146.848 407.461 Q149.95 409.868 149.95 413.989 Q149.95 416.859 148.306 418.85 Q146.663 420.817 143.631 421.581 Z\" fill=\"#000000\" fill-rule=\"evenodd\" fill-opacity=\"1\" /><path clip-path=\"url(#clip300)\" d=\"M62.9365 67.8073 Q59.3254 67.8073 57.4967 71.3721 Q55.6912 74.9138 55.6912 82.0434 Q55.6912 89.1498 57.4967 92.7146 Q59.3254 96.2563 62.9365 96.2563 Q66.5707 96.2563 68.3763 92.7146 Q70.205 89.1498 70.205 82.0434 Q70.205 74.9138 68.3763 71.3721 Q66.5707 67.8073 62.9365 67.8073 M62.9365 64.1037 Q68.7467 64.1037 71.8022 68.7101 Q74.8809 73.2934 74.8809 82.0434 Q74.8809 90.7702 71.8022 95.3766 Q68.7467 99.96 62.9365 99.96 Q57.1264 99.96 54.0477 95.3766 Q50.9921 90.7702 50.9921 82.0434 Q50.9921 73.2934 54.0477 68.7101 Q57.1264 64.1037 62.9365 64.1037 Z\" fill=\"#000000\" fill-rule=\"evenodd\" fill-opacity=\"1\" /><path clip-path=\"url(#clip300)\" d=\"M83.0984 93.4091 L87.9827 93.4091 L87.9827 99.2887 L83.0984 99.2887 L83.0984 93.4091 Z\" fill=\"#000000\" fill-rule=\"evenodd\" fill-opacity=\"1\" /><path clip-path=\"url(#clip300)\" d=\"M108.168 67.8073 Q104.557 67.8073 102.728 71.3721 Q100.922 74.9138 100.922 82.0434 Q100.922 89.1498 102.728 92.7146 Q104.557 96.2563 108.168 96.2563 Q111.802 96.2563 113.608 92.7146 Q115.436 89.1498 115.436 82.0434 Q115.436 74.9138 113.608 71.3721 Q111.802 67.8073 108.168 67.8073 M108.168 64.1037 Q113.978 64.1037 117.033 68.7101 Q120.112 73.2934 120.112 82.0434 Q120.112 90.7702 117.033 95.3766 Q113.978 99.96 108.168 99.96 Q102.358 99.96 99.2789 95.3766 Q96.2234 90.7702 96.2234 82.0434 Q96.2234 73.2934 99.2789 68.7101 Q102.358 64.1037 108.168 64.1037 Z\" fill=\"#000000\" fill-rule=\"evenodd\" fill-opacity=\"1\" /><path clip-path=\"url(#clip300)\" d=\"M141.177 68.8027 L129.371 87.2517 L141.177 87.2517 L141.177 68.8027 M139.95 64.7287 L145.83 64.7287 L145.83 87.2517 L150.76 87.2517 L150.76 91.1406 L145.83 91.1406 L145.83 99.2887 L141.177 99.2887 L141.177 91.1406 L125.575 91.1406 L125.575 86.6267 L139.95 64.7287 Z\" fill=\"#000000\" fill-rule=\"evenodd\" fill-opacity=\"1\" /><polyline clip-path=\"url(#clip302)\" style=\"stroke:#009af9; stroke-linecap:butt; stroke-linejoin:round; stroke-width:16; stroke-opacity:1; fill:none\" points=\"\n",
       "  248.062,1445.72 308.072,1405.45 430.631,1323.87 576.341,1226.43 698.899,1144.76 758.91,1103.57 818.92,1065.83 941.479,981.74 1087.19,886.671 1209.75,803.51 \n",
       "  1269.76,775.683 1329.77,710.927 1452.33,653.708 1598.04,533.215 1720.6,466.058 1780.61,295.304 1840.62,519.466 1963.18,174.878 2108.89,326.282 2231.44,87.9763 \n",
       "  2291.45,1445.72 \n",
       "  \"/>\n",
       "<circle clip-path=\"url(#clip302)\" cx=\"248.062\" cy=\"1445.72\" r=\"14\" fill=\"#009af9\" fill-rule=\"evenodd\" fill-opacity=\"1\" stroke=\"#000000\" stroke-opacity=\"1\" stroke-width=\"3.2\"/>\n",
       "<circle clip-path=\"url(#clip302)\" cx=\"308.072\" cy=\"1405.45\" r=\"14\" fill=\"#009af9\" fill-rule=\"evenodd\" fill-opacity=\"1\" stroke=\"#000000\" stroke-opacity=\"1\" stroke-width=\"3.2\"/>\n",
       "<circle clip-path=\"url(#clip302)\" cx=\"430.631\" cy=\"1323.87\" r=\"14\" fill=\"#009af9\" fill-rule=\"evenodd\" fill-opacity=\"1\" stroke=\"#000000\" stroke-opacity=\"1\" stroke-width=\"3.2\"/>\n",
       "<circle clip-path=\"url(#clip302)\" cx=\"576.341\" cy=\"1226.43\" r=\"14\" fill=\"#009af9\" fill-rule=\"evenodd\" fill-opacity=\"1\" stroke=\"#000000\" stroke-opacity=\"1\" stroke-width=\"3.2\"/>\n",
       "<circle clip-path=\"url(#clip302)\" cx=\"698.899\" cy=\"1144.76\" r=\"14\" fill=\"#009af9\" fill-rule=\"evenodd\" fill-opacity=\"1\" stroke=\"#000000\" stroke-opacity=\"1\" stroke-width=\"3.2\"/>\n",
       "<circle clip-path=\"url(#clip302)\" cx=\"758.91\" cy=\"1103.57\" r=\"14\" fill=\"#009af9\" fill-rule=\"evenodd\" fill-opacity=\"1\" stroke=\"#000000\" stroke-opacity=\"1\" stroke-width=\"3.2\"/>\n",
       "<circle clip-path=\"url(#clip302)\" cx=\"818.92\" cy=\"1065.83\" r=\"14\" fill=\"#009af9\" fill-rule=\"evenodd\" fill-opacity=\"1\" stroke=\"#000000\" stroke-opacity=\"1\" stroke-width=\"3.2\"/>\n",
       "<circle clip-path=\"url(#clip302)\" cx=\"941.479\" cy=\"981.74\" r=\"14\" fill=\"#009af9\" fill-rule=\"evenodd\" fill-opacity=\"1\" stroke=\"#000000\" stroke-opacity=\"1\" stroke-width=\"3.2\"/>\n",
       "<circle clip-path=\"url(#clip302)\" cx=\"1087.19\" cy=\"886.671\" r=\"14\" fill=\"#009af9\" fill-rule=\"evenodd\" fill-opacity=\"1\" stroke=\"#000000\" stroke-opacity=\"1\" stroke-width=\"3.2\"/>\n",
       "<circle clip-path=\"url(#clip302)\" cx=\"1209.75\" cy=\"803.51\" r=\"14\" fill=\"#009af9\" fill-rule=\"evenodd\" fill-opacity=\"1\" stroke=\"#000000\" stroke-opacity=\"1\" stroke-width=\"3.2\"/>\n",
       "<circle clip-path=\"url(#clip302)\" cx=\"1269.76\" cy=\"775.683\" r=\"14\" fill=\"#009af9\" fill-rule=\"evenodd\" fill-opacity=\"1\" stroke=\"#000000\" stroke-opacity=\"1\" stroke-width=\"3.2\"/>\n",
       "<circle clip-path=\"url(#clip302)\" cx=\"1329.77\" cy=\"710.927\" r=\"14\" fill=\"#009af9\" fill-rule=\"evenodd\" fill-opacity=\"1\" stroke=\"#000000\" stroke-opacity=\"1\" stroke-width=\"3.2\"/>\n",
       "<circle clip-path=\"url(#clip302)\" cx=\"1452.33\" cy=\"653.708\" r=\"14\" fill=\"#009af9\" fill-rule=\"evenodd\" fill-opacity=\"1\" stroke=\"#000000\" stroke-opacity=\"1\" stroke-width=\"3.2\"/>\n",
       "<circle clip-path=\"url(#clip302)\" cx=\"1598.04\" cy=\"533.215\" r=\"14\" fill=\"#009af9\" fill-rule=\"evenodd\" fill-opacity=\"1\" stroke=\"#000000\" stroke-opacity=\"1\" stroke-width=\"3.2\"/>\n",
       "<circle clip-path=\"url(#clip302)\" cx=\"1720.6\" cy=\"466.058\" r=\"14\" fill=\"#009af9\" fill-rule=\"evenodd\" fill-opacity=\"1\" stroke=\"#000000\" stroke-opacity=\"1\" stroke-width=\"3.2\"/>\n",
       "<circle clip-path=\"url(#clip302)\" cx=\"1780.61\" cy=\"295.304\" r=\"14\" fill=\"#009af9\" fill-rule=\"evenodd\" fill-opacity=\"1\" stroke=\"#000000\" stroke-opacity=\"1\" stroke-width=\"3.2\"/>\n",
       "<circle clip-path=\"url(#clip302)\" cx=\"1840.62\" cy=\"519.466\" r=\"14\" fill=\"#009af9\" fill-rule=\"evenodd\" fill-opacity=\"1\" stroke=\"#000000\" stroke-opacity=\"1\" stroke-width=\"3.2\"/>\n",
       "<circle clip-path=\"url(#clip302)\" cx=\"1963.18\" cy=\"174.878\" r=\"14\" fill=\"#009af9\" fill-rule=\"evenodd\" fill-opacity=\"1\" stroke=\"#000000\" stroke-opacity=\"1\" stroke-width=\"3.2\"/>\n",
       "<circle clip-path=\"url(#clip302)\" cx=\"2108.89\" cy=\"326.282\" r=\"14\" fill=\"#009af9\" fill-rule=\"evenodd\" fill-opacity=\"1\" stroke=\"#000000\" stroke-opacity=\"1\" stroke-width=\"3.2\"/>\n",
       "<circle clip-path=\"url(#clip302)\" cx=\"2231.44\" cy=\"87.9763\" r=\"14\" fill=\"#009af9\" fill-rule=\"evenodd\" fill-opacity=\"1\" stroke=\"#000000\" stroke-opacity=\"1\" stroke-width=\"3.2\"/>\n",
       "<circle clip-path=\"url(#clip302)\" cx=\"2291.45\" cy=\"1445.72\" r=\"14\" fill=\"#009af9\" fill-rule=\"evenodd\" fill-opacity=\"1\" stroke=\"#000000\" stroke-opacity=\"1\" stroke-width=\"3.2\"/>\n",
       "<path clip-path=\"url(#clip300)\" d=\"\n",
       "M1987.46 198.898 L2280.56 198.898 L2280.56 95.2176 L1987.46 95.2176  Z\n",
       "  \" fill=\"#ffffff\" fill-rule=\"evenodd\" fill-opacity=\"1\"/>\n",
       "<polyline clip-path=\"url(#clip300)\" style=\"stroke:#000000; stroke-linecap:butt; stroke-linejoin:round; stroke-width:4; stroke-opacity:1; fill:none\" points=\"\n",
       "  1987.46,198.898 2280.56,198.898 2280.56,95.2176 1987.46,95.2176 1987.46,198.898 \n",
       "  \"/>\n",
       "<polyline clip-path=\"url(#clip300)\" style=\"stroke:#009af9; stroke-linecap:butt; stroke-linejoin:round; stroke-width:4; stroke-opacity:1; fill:none\" points=\"\n",
       "  2011.53,147.058 2155.93,147.058 \n",
       "  \"/>\n",
       "<circle clip-path=\"url(#clip300)\" cx=\"2083.73\" cy=\"147.058\" r=\"23\" fill=\"#009af9\" fill-rule=\"evenodd\" fill-opacity=\"1\" stroke=\"#000000\" stroke-opacity=\"1\" stroke-width=\"5.12\"/>\n",
       "<path clip-path=\"url(#clip300)\" d=\"M2193.84 166.745 Q2192.03 171.375 2190.32 172.787 Q2188.6 174.199 2185.73 174.199 L2182.33 174.199 L2182.33 170.634 L2184.83 170.634 Q2186.59 170.634 2187.56 169.8 Q2188.53 168.967 2189.71 165.865 L2190.48 163.921 L2179.99 138.412 L2184.51 138.412 L2192.61 158.689 L2200.71 138.412 L2205.22 138.412 L2193.84 166.745 Z\" fill=\"#000000\" fill-rule=\"evenodd\" fill-opacity=\"1\" /><path clip-path=\"url(#clip300)\" d=\"M2212.52 160.402 L2220.15 160.402 L2220.15 134.037 L2211.84 135.703 L2211.84 131.444 L2220.11 129.778 L2224.78 129.778 L2224.78 160.402 L2232.42 160.402 L2232.42 164.338 L2212.52 164.338 L2212.52 160.402 Z\" fill=\"#000000\" fill-rule=\"evenodd\" fill-opacity=\"1\" /></svg>\n"
      ]
     },
     "execution_count": 145,
     "metadata": {},
     "output_type": "execute_result"
    }
   ],
   "source": [
    "wind = 50\n",
    "fq(q, u, Du) = -one.(u), -wind .* u + 1 * Du\n",
    "N = length(fe.xn)\n",
    "sol = nlsolve(u -> fe_residual(u, fe, fq; bci=[1, N], bcv=[0, 0]), zero(fe.xn), method=:newton)\n",
    "plot(fe.xn, sol.zero, marker=:auto)"
   ]
  },
  {
   "cell_type": "markdown",
   "id": "788dab62",
   "metadata": {
    "slideshow": {
     "slide_type": "slide"
    }
   },
   "source": [
    "# LibCEED"
   ]
  },
  {
   "cell_type": "code",
   "execution_count": 146,
   "id": "d3f12b4a",
   "metadata": {},
   "outputs": [
    {
     "data": {
      "text/plain": [
       "Ceed\n",
       "  Ceed Resource: /cpu/self/opt/blocked\n",
       "  Preferred MemType: host"
      ]
     },
     "execution_count": 146,
     "metadata": {},
     "output_type": "execute_result"
    }
   ],
   "source": [
    "using LibCEED\n",
    "\n",
    "ceed = Ceed()"
   ]
  },
  {
   "cell_type": "code",
   "execution_count": 147,
   "id": "889b7627",
   "metadata": {
    "cell_style": "split"
   },
   "outputs": [
    {
     "data": {
      "text/plain": [
       "CeedElemRestriction from (17, 1) to 4 elements with 5 nodes each and component stride 1"
      ]
     },
     "execution_count": 147,
     "metadata": {},
     "output_type": "execute_result"
    }
   ],
   "source": [
    "function fe1_ceed(ceed, P, nelem)\n",
    "    offsets = CeedInt[]\n",
    "    # libceed uses 0-based indexing\n",
    "    for e in 0:nelem-1\n",
    "        append!(offsets, e*(P-1):(e+1)*(P-1))\n",
    "    end\n",
    "    E = create_elem_restriction(ceed, nelem, P, 1, 1, nelem*(P-1)+1, offsets)\n",
    "end\n",
    "\n",
    "P, Q, nelem = 5, 5, 4\n",
    "E = fe1_ceed(ceed, P, nelem)"
   ]
  },
  {
   "cell_type": "code",
   "execution_count": 148,
   "id": "27a9a266",
   "metadata": {
    "cell_style": "split"
   },
   "outputs": [
    {
     "data": {
      "text/plain": [
       "CeedBasis: dim=1 P=5 Q=5\n",
       "      qref1d:\t -0.90617985\t -0.53846931\t  0.00000000\t  0.53846931\t  0.90617985\n",
       "   qweight1d:\t  0.23692689\t  0.47862867\t  0.56888889\t  0.47862867\t  0.23692689\n",
       "    interp1d[0]:\t  0.59337070\t  0.51643520\t -0.16382364\t  0.08322282\t -0.02920508\n",
       "    interp1d[1]:\t -0.10048257\t  0.93136610\t  0.22966726\t -0.09069490\t  0.03014411\n",
       "    interp1d[2]:\t  0.00000000\t  0.00000000\t  1.00000000\t  0.00000000\t  0.00000000\n",
       "    interp1d[3]:\t  0.03014411\t -0.09069490\t  0.22966726\t  0.93136610\t -0.10048257\n",
       "    interp1d[4]:\t -0.02920508\t  0.08322282\t -0.16382364\t  0.51643520\t  0.59337070\n",
       "      grad1d[0]:\t -3.70533645\t  4.33282117\t -0.90392454\t  0.42067623\t -0.14423641\n",
       "      grad1d[1]:\t -0.52871527\t -1.09765797\t  2.13259378\t -0.74973857\t  0.24351802\n",
       "      grad1d[2]:\t  0.37500000\t -1.33658458\t  0.00000000\t  1.33658458\t -0.37500000\n",
       "      grad1d[3]:\t -0.24351802\t  0.74973857\t -2.13259378\t  1.09765797\t  0.52871527\n",
       "      grad1d[4]:\t  0.14423641\t -0.42067623\t  0.90392454\t -4.33282117\t  3.70533645"
      ]
     },
     "execution_count": 148,
     "metadata": {},
     "output_type": "execute_result"
    }
   ],
   "source": [
    "basis = create_tensor_h1_lagrange_basis(ceed, 1, 1, P, Q, GAUSS)"
   ]
  },
  {
   "cell_type": "markdown",
   "id": "c0a70b50",
   "metadata": {
    "slideshow": {
     "slide_type": "slide"
    }
   },
   "source": [
    "# libCEED `QFunction` and `Operator`\n",
    "\n",
    "\\begin{gather*}\n",
    "    v^T F(u) \\sim \\int_\\Omega v \\cdot \\color{olive}{f_0(u, \\nabla u)} + \\nabla v \\!:\\! \\color{olive}{f_1(u, \\nabla u)} \\quad\n",
    "    v^T J w \\sim \\int_\\Omega \\begin{bmatrix} v \\\\ \\nabla v \\end{bmatrix}^T \\color{teal}{\\begin{bmatrix} f_{0,0} & f_{0,1} \\\\ f_{1,0} & f_{1,1} \\end{bmatrix}}\n",
    "    \\begin{bmatrix} w \\\\ \\nabla w \\end{bmatrix} \\\\\n",
    "    u = B_I \\mathcal E_e u_L \\qquad \\nabla u = \\frac{\\partial X}{\\partial x} B_{\\nabla} \\mathcal E_e u_L \\\\\n",
    "    J w = \\sum_e \\mathcal E_e^T \\begin{bmatrix} B_I \\\\ B_{\\nabla} \\end{bmatrix}^T\n",
    "    \\underbrace{\\begin{bmatrix} I & \\\\ & \\left( \\frac{\\partial X}{\\partial x}\\right)^T \\end{bmatrix} W_q \\color{teal}{\\begin{bmatrix} f_{0,0} & f_{0,1} \\\\ f_{1,0} & f_{1,1} \\end{bmatrix}} \\begin{bmatrix} I & \\\\ & \\left( \\frac{\\partial X}{\\partial x}\\right) \\end{bmatrix}}_{\\text{coefficients at quadrature points}} \\begin{bmatrix} B_I \\\\ B_{\\nabla} \\end{bmatrix} \\mathcal E_e w_L\n",
    "\\end{gather*}"
   ]
  },
  {
   "cell_type": "code",
   "execution_count": 149,
   "id": "8f2290e0",
   "metadata": {
    "cell_style": "split"
   },
   "outputs": [
    {
     "data": {
      "text/plain": [
       "0"
      ]
     },
     "execution_count": 149,
     "metadata": {},
     "output_type": "execute_result"
    }
   ],
   "source": [
    "@interior_qf setup_geom = (\n",
    "    ceed, dim=1,\n",
    "    (dxdX, :in, EVAL_GRAD, 1),\n",
    "    (w, :in, EVAL_WEIGHT),\n",
    "    (qdata, :out, EVAL_NONE, 1, 2),\n",
    "    begin\n",
    "        qdata[1] = w * abs(dxdX[1])\n",
    "        qdata[2] = w / abs(dxdX[1])\n",
    "    end\n",
    ")"
   ]
  },
  {
   "cell_type": "code",
   "execution_count": 150,
   "id": "48bea097",
   "metadata": {
    "cell_style": "split"
   },
   "outputs": [
    {
     "data": {
      "text/plain": [
       "0"
      ]
     },
     "execution_count": 150,
     "metadata": {},
     "output_type": "execute_result"
    }
   ],
   "source": [
    "@interior_qf apply_diff = (\n",
    "    ceed, dim=1,\n",
    "    (qdata, :in, EVAL_NONE, 2),\n",
    "    (dudX, :in, EVAL_GRAD, 1),\n",
    "    (v, :out, EVAL_INTERP, 1),\n",
    "    (dvdX, :out, EVAL_GRAD, 1),\n",
    "    begin\n",
    "        v .= qdata[1] * -1\n",
    "        dvdX .= qdata[2] * dudX\n",
    "    end\n",
    ")"
   ]
  },
  {
   "cell_type": "markdown",
   "id": "0de28d37",
   "metadata": {
    "slideshow": {
     "slide_type": "slide"
    }
   },
   "source": [
    "# Wire up restrictions and operators"
   ]
  },
  {
   "cell_type": "code",
   "execution_count": 151,
   "id": "f6808625",
   "metadata": {
    "cell_style": "split"
   },
   "outputs": [
    {
     "data": {
      "text/plain": [
       "CeedOperator\n",
       "  3 Fields\n",
       "  2 Input Fields:\n",
       "    Input Field [0]:\n",
       "      Name: \"dxdX\"\n",
       "      Active vector\n",
       "    Input Field [1]:\n",
       "      Name: \"w\"\n",
       "      No vector\n",
       "  1 Output Field:\n",
       "    Output Field [0]:\n",
       "      Name: \"qdata\"\n",
       "      Collocated basis\n",
       "      Active vector"
      ]
     },
     "execution_count": 151,
     "metadata": {},
     "output_type": "execute_result"
    }
   ],
   "source": [
    "qdata = CeedVector(ceed, nelem*Q*2)\n",
    "x = CeedVector(ceed, nelem+1)\n",
    "x[] = LinRange(-1, 1, nelem+1)\n",
    "Ex = fe1_ceed(ceed, 2, nelem)\n",
    "Eq = create_elem_restriction_strided(ceed, nelem, Q, 2, nelem*Q*2, STRIDES_BACKEND)\n",
    "Bx = create_tensor_h1_lagrange_basis(ceed, 1, 1, 2, Q, GAUSS)\n",
    "\n",
    "op_setup = Operator(ceed, qf=setup_geom, fields=[\n",
    "        (:dxdX, Ex, Bx, CeedVectorActive()),\n",
    "        (:w, ElemRestrictionNone(), Bx, CeedVectorNone()),\n",
    "        (:qdata, Eq, BasisCollocated(), CeedVectorActive()),\n",
    "        ])"
   ]
  },
  {
   "cell_type": "code",
   "execution_count": 152,
   "id": "eeac9dbb",
   "metadata": {
    "cell_style": "split"
   },
   "outputs": [
    {
     "data": {
      "text/plain": [
       "CeedOperator\n",
       "  4 Fields\n",
       "  2 Input Fields:\n",
       "    Input Field [0]:\n",
       "      Name: \"qdata\"\n",
       "      Collocated basis\n",
       "    Input Field [1]:\n",
       "      Name: \"dudX\"\n",
       "      Active vector\n",
       "  2 Output Fields:\n",
       "    Output Field [0]:\n",
       "      Name: \"v\"\n",
       "      Active vector\n",
       "    Output Field [1]:\n",
       "      Name: \"dvdX\"\n",
       "      Active vector"
      ]
     },
     "execution_count": 152,
     "metadata": {},
     "output_type": "execute_result"
    }
   ],
   "source": [
    "apply!(op_setup, x, qdata)\n",
    "\n",
    "op_diff = Operator(ceed, qf=apply_diff, fields=[\n",
    "        (:qdata, Eq, BasisCollocated(), qdata),\n",
    "        (:dudX, E, basis, CeedVectorActive()),\n",
    "        (:v, E, basis, CeedVectorActive()),\n",
    "        (:dvdX, E, basis, CeedVectorActive()),\n",
    "        ])"
   ]
  },
  {
   "cell_type": "markdown",
   "id": "e5b2188f",
   "metadata": {
    "slideshow": {
     "slide_type": "slide"
    }
   },
   "source": [
    "# Solve"
   ]
  },
  {
   "cell_type": "code",
   "execution_count": 153,
   "id": "0c8b83b9",
   "metadata": {
    "cell_style": "split"
   },
   "outputs": [
    {
     "data": {
      "text/plain": [
       "Results of Nonlinear Solver Algorithm\n",
       " * Algorithm: Newton with line-search\n",
       " * Starting Point: [1.0, 1.0, 1.0, 1.0, 1.0, 1.0, 1.0, 1.0, 1.0, 1.0, 1.0, 1.0, 1.0, 1.0, 1.0, 1.0, 1.0]\n",
       " * Zero: [-3.9475089863572066e-12, 0.08260957960239312, 0.21874999997080646, 0.32810470604827624, 0.3749999999584841, 0.4144412884027462, 0.4687499999651483, 0.4962729972393789, 0.5000000000237609, 0.4962729973023331, 0.4687500000248659, 0.41444128846070394, 0.3750000000810918, 0.3281047062415061, 0.21875000011356172, 0.08260957964624749, -3.9475089863572066e-12]\n",
       " * Inf-norm of residuals: 0.000000\n",
       " * Iterations: 1\n",
       " * Convergence: true\n",
       "   * |x - x'| < 0.0e+00: false\n",
       "   * |f(x)| < 1.0e-08: true\n",
       " * Function Calls (f): 2\n",
       " * Jacobian Calls (df/dx): 2"
      ]
     },
     "execution_count": 153,
     "metadata": {},
     "output_type": "execute_result"
    }
   ],
   "source": [
    "function ceed_residual(u_in, op_diff; bci=[1], bcv=[1.])\n",
    "    u = copy(u_in); v = zero(u)\n",
    "    u[bci] = bcv\n",
    "    uceed = CeedVector(ceed, length(u))\n",
    "    setarray!(uceed, MEM_HOST, USE_POINTER, u)\n",
    "    vceed = CeedVector(ceed, length(u))\n",
    "    apply!(op_diff, uceed, vceed)\n",
    "    v = witharray(Vector, vceed)\n",
    "    v[bci] = u_in[bci] - u[bci]\n",
    "    v\n",
    "end\n",
    "\n",
    "N = getlvectorsize(E)\n",
    "sol = nlsolve(u -> ceed_residual(u, op_diff; bci=[1, N], bcv=[0, 0]), ones(N), method=:newton)"
   ]
  },
  {
   "cell_type": "code",
   "execution_count": 155,
   "id": "a44a2ba4",
   "metadata": {
    "cell_style": "split"
   },
   "outputs": [
    {
     "data": {
      "image/svg+xml": [
       "<?xml version=\"1.0\" encoding=\"utf-8\"?>\n",
       "<svg xmlns=\"http://www.w3.org/2000/svg\" xmlns:xlink=\"http://www.w3.org/1999/xlink\" width=\"600\" height=\"400\" viewBox=\"0 0 2400 1600\">\n",
       "<defs>\n",
       "  <clipPath id=\"clip380\">\n",
       "    <rect x=\"0\" y=\"0\" width=\"2400\" height=\"1600\"/>\n",
       "  </clipPath>\n",
       "</defs>\n",
       "<path clip-path=\"url(#clip380)\" d=\"\n",
       "M0 1600 L2400 1600 L2400 0 L0 0  Z\n",
       "  \" fill=\"#ffffff\" fill-rule=\"evenodd\" fill-opacity=\"1\"/>\n",
       "<defs>\n",
       "  <clipPath id=\"clip381\">\n",
       "    <rect x=\"480\" y=\"0\" width=\"1681\" height=\"1600\"/>\n",
       "  </clipPath>\n",
       "</defs>\n",
       "<path clip-path=\"url(#clip380)\" d=\"\n",
       "M156.598 1486.45 L2352.76 1486.45 L2352.76 47.2441 L156.598 47.2441  Z\n",
       "  \" fill=\"#ffffff\" fill-rule=\"evenodd\" fill-opacity=\"1\"/>\n",
       "<defs>\n",
       "  <clipPath id=\"clip382\">\n",
       "    <rect x=\"156\" y=\"47\" width=\"2197\" height=\"1440\"/>\n",
       "  </clipPath>\n",
       "</defs>\n",
       "<polyline clip-path=\"url(#clip382)\" style=\"stroke:#000000; stroke-linecap:butt; stroke-linejoin:round; stroke-width:2; stroke-opacity:0.1; fill:none\" points=\"\n",
       "  477.734,1486.45 477.734,47.2441 \n",
       "  \"/>\n",
       "<polyline clip-path=\"url(#clip382)\" style=\"stroke:#000000; stroke-linecap:butt; stroke-linejoin:round; stroke-width:2; stroke-opacity:0.1; fill:none\" points=\"\n",
       "  866.206,1486.45 866.206,47.2441 \n",
       "  \"/>\n",
       "<polyline clip-path=\"url(#clip382)\" style=\"stroke:#000000; stroke-linecap:butt; stroke-linejoin:round; stroke-width:2; stroke-opacity:0.1; fill:none\" points=\"\n",
       "  1254.68,1486.45 1254.68,47.2441 \n",
       "  \"/>\n",
       "<polyline clip-path=\"url(#clip382)\" style=\"stroke:#000000; stroke-linecap:butt; stroke-linejoin:round; stroke-width:2; stroke-opacity:0.1; fill:none\" points=\"\n",
       "  1643.15,1486.45 1643.15,47.2441 \n",
       "  \"/>\n",
       "<polyline clip-path=\"url(#clip382)\" style=\"stroke:#000000; stroke-linecap:butt; stroke-linejoin:round; stroke-width:2; stroke-opacity:0.1; fill:none\" points=\"\n",
       "  2031.62,1486.45 2031.62,47.2441 \n",
       "  \"/>\n",
       "<polyline clip-path=\"url(#clip380)\" style=\"stroke:#000000; stroke-linecap:butt; stroke-linejoin:round; stroke-width:4; stroke-opacity:1; fill:none\" points=\"\n",
       "  156.598,1486.45 2352.76,1486.45 \n",
       "  \"/>\n",
       "<polyline clip-path=\"url(#clip380)\" style=\"stroke:#000000; stroke-linecap:butt; stroke-linejoin:round; stroke-width:4; stroke-opacity:1; fill:none\" points=\"\n",
       "  477.734,1486.45 477.734,1467.55 \n",
       "  \"/>\n",
       "<polyline clip-path=\"url(#clip380)\" style=\"stroke:#000000; stroke-linecap:butt; stroke-linejoin:round; stroke-width:4; stroke-opacity:1; fill:none\" points=\"\n",
       "  866.206,1486.45 866.206,1467.55 \n",
       "  \"/>\n",
       "<polyline clip-path=\"url(#clip380)\" style=\"stroke:#000000; stroke-linecap:butt; stroke-linejoin:round; stroke-width:4; stroke-opacity:1; fill:none\" points=\"\n",
       "  1254.68,1486.45 1254.68,1467.55 \n",
       "  \"/>\n",
       "<polyline clip-path=\"url(#clip380)\" style=\"stroke:#000000; stroke-linecap:butt; stroke-linejoin:round; stroke-width:4; stroke-opacity:1; fill:none\" points=\"\n",
       "  1643.15,1486.45 1643.15,1467.55 \n",
       "  \"/>\n",
       "<polyline clip-path=\"url(#clip380)\" style=\"stroke:#000000; stroke-linecap:butt; stroke-linejoin:round; stroke-width:4; stroke-opacity:1; fill:none\" points=\"\n",
       "  2031.62,1486.45 2031.62,1467.55 \n",
       "  \"/>\n",
       "<path clip-path=\"url(#clip380)\" d=\"M481.982 1530.21 Q485.339 1530.93 487.214 1533.2 Q489.112 1535.47 489.112 1538.8 Q489.112 1543.92 485.593 1546.72 Q482.075 1549.52 475.593 1549.52 Q473.417 1549.52 471.103 1549.08 Q468.811 1548.66 466.357 1547.81 L466.357 1543.29 Q468.302 1544.43 470.616 1545.01 Q472.931 1545.58 475.454 1545.58 Q479.853 1545.58 482.144 1543.85 Q484.459 1542.11 484.459 1538.8 Q484.459 1535.75 482.306 1534.03 Q480.177 1532.3 476.357 1532.3 L472.329 1532.3 L472.329 1528.45 L476.542 1528.45 Q479.991 1528.45 481.82 1527.09 Q483.649 1525.7 483.649 1523.11 Q483.649 1520.45 481.751 1519.03 Q479.876 1517.6 476.357 1517.6 Q474.436 1517.6 472.237 1518.01 Q470.038 1518.43 467.399 1519.31 L467.399 1515.14 Q470.061 1514.4 472.376 1514.03 Q474.714 1513.66 476.774 1513.66 Q482.098 1513.66 485.2 1516.09 Q488.302 1518.5 488.302 1522.62 Q488.302 1525.49 486.658 1527.48 Q485.015 1529.45 481.982 1530.21 Z\" fill=\"#000000\" fill-rule=\"evenodd\" fill-opacity=\"1\" /><path clip-path=\"url(#clip380)\" d=\"M866.611 1529.7 Q863.463 1529.7 861.611 1531.86 Q859.782 1534.01 859.782 1537.76 Q859.782 1541.49 861.611 1543.66 Q863.463 1545.82 866.611 1545.82 Q869.759 1545.82 871.588 1543.66 Q873.44 1541.49 873.44 1537.76 Q873.44 1534.01 871.588 1531.86 Q869.759 1529.7 866.611 1529.7 M875.893 1515.05 L875.893 1519.31 Q874.134 1518.48 872.328 1518.04 Q870.546 1517.6 868.787 1517.6 Q864.157 1517.6 861.703 1520.72 Q859.273 1523.85 858.926 1530.17 Q860.291 1528.15 862.352 1527.09 Q864.412 1526 866.889 1526 Q872.097 1526 875.106 1529.17 Q878.139 1532.32 878.139 1537.76 Q878.139 1543.08 874.99 1546.3 Q871.842 1549.52 866.611 1549.52 Q860.616 1549.52 857.444 1544.94 Q854.273 1540.33 854.273 1531.6 Q854.273 1523.41 858.162 1518.55 Q862.051 1513.66 868.602 1513.66 Q870.361 1513.66 872.143 1514.01 Q873.949 1514.36 875.893 1515.05 Z\" fill=\"#000000\" fill-rule=\"evenodd\" fill-opacity=\"1\" /><path clip-path=\"url(#clip380)\" d=\"M1244.98 1548.13 L1244.98 1543.87 Q1246.74 1544.7 1248.54 1545.14 Q1250.35 1545.58 1252.08 1545.58 Q1256.71 1545.58 1259.14 1542.48 Q1261.6 1539.36 1261.95 1533.01 Q1260.6 1535.01 1258.54 1536.07 Q1256.48 1537.13 1253.98 1537.13 Q1248.8 1537.13 1245.77 1534.01 Q1242.76 1530.86 1242.76 1525.42 Q1242.76 1520.1 1245.9 1516.88 Q1249.05 1513.66 1254.28 1513.66 Q1260.28 1513.66 1263.43 1518.27 Q1266.6 1522.85 1266.6 1531.6 Q1266.6 1539.77 1262.71 1544.66 Q1258.84 1549.52 1252.29 1549.52 Q1250.53 1549.52 1248.73 1549.17 Q1246.92 1548.82 1244.98 1548.13 M1254.28 1533.48 Q1257.43 1533.48 1259.26 1531.32 Q1261.11 1529.17 1261.11 1525.42 Q1261.11 1521.7 1259.26 1519.54 Q1257.43 1517.37 1254.28 1517.37 Q1251.14 1517.37 1249.28 1519.54 Q1247.45 1521.7 1247.45 1525.42 Q1247.45 1529.17 1249.28 1531.32 Q1251.14 1533.48 1254.28 1533.48 Z\" fill=\"#000000\" fill-rule=\"evenodd\" fill-opacity=\"1\" /><path clip-path=\"url(#clip380)\" d=\"M1618.63 1544.91 L1626.27 1544.91 L1626.27 1518.55 L1617.96 1520.21 L1617.96 1515.95 L1626.23 1514.29 L1630.9 1514.29 L1630.9 1544.91 L1638.54 1544.91 L1638.54 1548.85 L1618.63 1548.85 L1618.63 1544.91 Z\" fill=\"#000000\" fill-rule=\"evenodd\" fill-opacity=\"1\" /><path clip-path=\"url(#clip380)\" d=\"M1652.01 1544.91 L1668.33 1544.91 L1668.33 1548.85 L1646.39 1548.85 L1646.39 1544.91 Q1649.05 1542.16 1653.63 1537.53 Q1658.24 1532.88 1659.42 1531.53 Q1661.67 1529.01 1662.55 1527.27 Q1663.45 1525.51 1663.45 1523.82 Q1663.45 1521.07 1661.5 1519.33 Q1659.58 1517.6 1656.48 1517.6 Q1654.28 1517.6 1651.83 1518.36 Q1649.4 1519.13 1646.62 1520.68 L1646.62 1515.95 Q1649.44 1514.82 1651.9 1514.24 Q1654.35 1513.66 1656.39 1513.66 Q1661.76 1513.66 1664.95 1516.35 Q1668.15 1519.03 1668.15 1523.52 Q1668.15 1525.65 1667.34 1527.57 Q1666.55 1529.47 1664.44 1532.07 Q1663.87 1532.74 1660.76 1535.95 Q1657.66 1539.15 1652.01 1544.91 Z\" fill=\"#000000\" fill-rule=\"evenodd\" fill-opacity=\"1\" /><path clip-path=\"url(#clip380)\" d=\"M2006.8 1544.91 L2014.44 1544.91 L2014.44 1518.55 L2006.13 1520.21 L2006.13 1515.95 L2014.4 1514.29 L2019.07 1514.29 L2019.07 1544.91 L2026.71 1544.91 L2026.71 1548.85 L2006.8 1548.85 L2006.8 1544.91 Z\" fill=\"#000000\" fill-rule=\"evenodd\" fill-opacity=\"1\" /><path clip-path=\"url(#clip380)\" d=\"M2036.2 1514.29 L2054.56 1514.29 L2054.56 1518.22 L2040.49 1518.22 L2040.49 1526.7 Q2041.5 1526.35 2042.52 1526.19 Q2043.54 1526 2044.56 1526 Q2050.35 1526 2053.73 1529.17 Q2057.11 1532.34 2057.11 1537.76 Q2057.11 1543.34 2053.63 1546.44 Q2050.16 1549.52 2043.84 1549.52 Q2041.67 1549.52 2039.4 1549.15 Q2037.15 1548.78 2034.74 1548.04 L2034.74 1543.34 Q2036.83 1544.47 2039.05 1545.03 Q2041.27 1545.58 2043.75 1545.58 Q2047.75 1545.58 2050.09 1543.48 Q2052.43 1541.37 2052.43 1537.76 Q2052.43 1534.15 2050.09 1532.04 Q2047.75 1529.94 2043.75 1529.94 Q2041.87 1529.94 2040 1530.35 Q2038.15 1530.77 2036.2 1531.65 L2036.2 1514.29 Z\" fill=\"#000000\" fill-rule=\"evenodd\" fill-opacity=\"1\" /><polyline clip-path=\"url(#clip382)\" style=\"stroke:#000000; stroke-linecap:butt; stroke-linejoin:round; stroke-width:2; stroke-opacity:0.1; fill:none\" points=\"\n",
       "  156.598,1445.72 2352.76,1445.72 \n",
       "  \"/>\n",
       "<polyline clip-path=\"url(#clip382)\" style=\"stroke:#000000; stroke-linecap:butt; stroke-linejoin:round; stroke-width:2; stroke-opacity:0.1; fill:none\" points=\"\n",
       "  156.598,1174.17 2352.76,1174.17 \n",
       "  \"/>\n",
       "<polyline clip-path=\"url(#clip382)\" style=\"stroke:#000000; stroke-linecap:butt; stroke-linejoin:round; stroke-width:2; stroke-opacity:0.1; fill:none\" points=\"\n",
       "  156.598,902.62 2352.76,902.62 \n",
       "  \"/>\n",
       "<polyline clip-path=\"url(#clip382)\" style=\"stroke:#000000; stroke-linecap:butt; stroke-linejoin:round; stroke-width:2; stroke-opacity:0.1; fill:none\" points=\"\n",
       "  156.598,631.072 2352.76,631.072 \n",
       "  \"/>\n",
       "<polyline clip-path=\"url(#clip382)\" style=\"stroke:#000000; stroke-linecap:butt; stroke-linejoin:round; stroke-width:2; stroke-opacity:0.1; fill:none\" points=\"\n",
       "  156.598,359.524 2352.76,359.524 \n",
       "  \"/>\n",
       "<polyline clip-path=\"url(#clip382)\" style=\"stroke:#000000; stroke-linecap:butt; stroke-linejoin:round; stroke-width:2; stroke-opacity:0.1; fill:none\" points=\"\n",
       "  156.598,87.9763 2352.76,87.9763 \n",
       "  \"/>\n",
       "<polyline clip-path=\"url(#clip380)\" style=\"stroke:#000000; stroke-linecap:butt; stroke-linejoin:round; stroke-width:4; stroke-opacity:1; fill:none\" points=\"\n",
       "  156.598,1486.45 156.598,47.2441 \n",
       "  \"/>\n",
       "<polyline clip-path=\"url(#clip380)\" style=\"stroke:#000000; stroke-linecap:butt; stroke-linejoin:round; stroke-width:4; stroke-opacity:1; fill:none\" points=\"\n",
       "  156.598,1445.72 175.496,1445.72 \n",
       "  \"/>\n",
       "<polyline clip-path=\"url(#clip380)\" style=\"stroke:#000000; stroke-linecap:butt; stroke-linejoin:round; stroke-width:4; stroke-opacity:1; fill:none\" points=\"\n",
       "  156.598,1174.17 175.496,1174.17 \n",
       "  \"/>\n",
       "<polyline clip-path=\"url(#clip380)\" style=\"stroke:#000000; stroke-linecap:butt; stroke-linejoin:round; stroke-width:4; stroke-opacity:1; fill:none\" points=\"\n",
       "  156.598,902.62 175.496,902.62 \n",
       "  \"/>\n",
       "<polyline clip-path=\"url(#clip380)\" style=\"stroke:#000000; stroke-linecap:butt; stroke-linejoin:round; stroke-width:4; stroke-opacity:1; fill:none\" points=\"\n",
       "  156.598,631.072 175.496,631.072 \n",
       "  \"/>\n",
       "<polyline clip-path=\"url(#clip380)\" style=\"stroke:#000000; stroke-linecap:butt; stroke-linejoin:round; stroke-width:4; stroke-opacity:1; fill:none\" points=\"\n",
       "  156.598,359.524 175.496,359.524 \n",
       "  \"/>\n",
       "<polyline clip-path=\"url(#clip380)\" style=\"stroke:#000000; stroke-linecap:butt; stroke-linejoin:round; stroke-width:4; stroke-opacity:1; fill:none\" points=\"\n",
       "  156.598,87.9763 175.496,87.9763 \n",
       "  \"/>\n",
       "<path clip-path=\"url(#clip380)\" d=\"M63.4226 1431.51 Q59.8115 1431.51 57.9828 1435.08 Q56.1773 1438.62 56.1773 1445.75 Q56.1773 1452.86 57.9828 1456.42 Q59.8115 1459.96 63.4226 1459.96 Q67.0569 1459.96 68.8624 1456.42 Q70.6911 1452.86 70.6911 1445.75 Q70.6911 1438.62 68.8624 1435.08 Q67.0569 1431.51 63.4226 1431.51 M63.4226 1427.81 Q69.2328 1427.81 72.2883 1432.42 Q75.367 1437 75.367 1445.75 Q75.367 1454.48 72.2883 1459.08 Q69.2328 1463.67 63.4226 1463.67 Q57.6125 1463.67 54.5338 1459.08 Q51.4782 1454.48 51.4782 1445.75 Q51.4782 1437 54.5338 1432.42 Q57.6125 1427.81 63.4226 1427.81 Z\" fill=\"#000000\" fill-rule=\"evenodd\" fill-opacity=\"1\" /><path clip-path=\"url(#clip380)\" d=\"M83.5845 1457.12 L88.4688 1457.12 L88.4688 1463 L83.5845 1463 L83.5845 1457.12 Z\" fill=\"#000000\" fill-rule=\"evenodd\" fill-opacity=\"1\" /><path clip-path=\"url(#clip380)\" d=\"M108.654 1431.51 Q105.043 1431.51 103.214 1435.08 Q101.409 1438.62 101.409 1445.75 Q101.409 1452.86 103.214 1456.42 Q105.043 1459.96 108.654 1459.96 Q112.288 1459.96 114.094 1456.42 Q115.922 1452.86 115.922 1445.75 Q115.922 1438.62 114.094 1435.08 Q112.288 1431.51 108.654 1431.51 M108.654 1427.81 Q114.464 1427.81 117.52 1432.42 Q120.598 1437 120.598 1445.75 Q120.598 1454.48 117.52 1459.08 Q114.464 1463.67 108.654 1463.67 Q102.844 1463.67 99.765 1459.08 Q96.7095 1454.48 96.7095 1445.75 Q96.7095 1437 99.765 1432.42 Q102.844 1427.81 108.654 1427.81 Z\" fill=\"#000000\" fill-rule=\"evenodd\" fill-opacity=\"1\" /><path clip-path=\"url(#clip380)\" d=\"M64.6495 1159.97 Q61.0384 1159.97 59.2097 1163.53 Q57.4041 1167.07 57.4041 1174.2 Q57.4041 1181.31 59.2097 1184.87 Q61.0384 1188.42 64.6495 1188.42 Q68.2837 1188.42 70.0892 1184.87 Q71.9179 1181.31 71.9179 1174.2 Q71.9179 1167.07 70.0892 1163.53 Q68.2837 1159.97 64.6495 1159.97 M64.6495 1156.26 Q70.4596 1156.26 73.5152 1160.87 Q76.5938 1165.45 76.5938 1174.2 Q76.5938 1182.93 73.5152 1187.54 Q70.4596 1192.12 64.6495 1192.12 Q58.8393 1192.12 55.7606 1187.54 Q52.7051 1182.93 52.7051 1174.2 Q52.7051 1165.45 55.7606 1160.87 Q58.8393 1156.26 64.6495 1156.26 Z\" fill=\"#000000\" fill-rule=\"evenodd\" fill-opacity=\"1\" /><path clip-path=\"url(#clip380)\" d=\"M84.8114 1185.57 L89.6956 1185.57 L89.6956 1191.45 L84.8114 1191.45 L84.8114 1185.57 Z\" fill=\"#000000\" fill-rule=\"evenodd\" fill-opacity=\"1\" /><path clip-path=\"url(#clip380)\" d=\"M100.691 1187.51 L108.33 1187.51 L108.33 1161.15 L100.02 1162.81 L100.02 1158.55 L108.283 1156.89 L112.959 1156.89 L112.959 1187.51 L120.598 1187.51 L120.598 1191.45 L100.691 1191.45 L100.691 1187.51 Z\" fill=\"#000000\" fill-rule=\"evenodd\" fill-opacity=\"1\" /><path clip-path=\"url(#clip380)\" d=\"M65.0198 888.419 Q61.4087 888.419 59.58 891.983 Q57.7745 895.525 57.7745 902.655 Q57.7745 909.761 59.58 913.326 Q61.4087 916.868 65.0198 916.868 Q68.6541 916.868 70.4596 913.326 Q72.2883 909.761 72.2883 902.655 Q72.2883 895.525 70.4596 891.983 Q68.6541 888.419 65.0198 888.419 M65.0198 884.715 Q70.83 884.715 73.8855 889.321 Q76.9642 893.905 76.9642 902.655 Q76.9642 911.381 73.8855 915.988 Q70.83 920.571 65.0198 920.571 Q59.2097 920.571 56.131 915.988 Q53.0754 911.381 53.0754 902.655 Q53.0754 893.905 56.131 889.321 Q59.2097 884.715 65.0198 884.715 Z\" fill=\"#000000\" fill-rule=\"evenodd\" fill-opacity=\"1\" /><path clip-path=\"url(#clip380)\" d=\"M85.1818 914.02 L90.066 914.02 L90.066 919.9 L85.1818 919.9 L85.1818 914.02 Z\" fill=\"#000000\" fill-rule=\"evenodd\" fill-opacity=\"1\" /><path clip-path=\"url(#clip380)\" d=\"M104.279 915.965 L120.598 915.965 L120.598 919.9 L98.6539 919.9 L98.6539 915.965 Q101.316 913.21 105.899 908.581 Q110.506 903.928 111.686 902.585 Q113.932 900.062 114.811 898.326 Q115.714 896.567 115.714 894.877 Q115.714 892.122 113.77 890.386 Q111.848 888.65 108.746 888.65 Q106.547 888.65 104.094 889.414 Q101.663 890.178 98.8854 891.729 L98.8854 887.007 Q101.709 885.872 104.163 885.294 Q106.617 884.715 108.654 884.715 Q114.024 884.715 117.219 887.4 Q120.413 890.085 120.413 894.576 Q120.413 896.706 119.603 898.627 Q118.816 900.525 116.709 903.118 Q116.131 903.789 113.029 907.006 Q109.927 910.201 104.279 915.965 Z\" fill=\"#000000\" fill-rule=\"evenodd\" fill-opacity=\"1\" /><path clip-path=\"url(#clip380)\" d=\"M64.0708 616.871 Q60.4597 616.871 58.631 620.436 Q56.8254 623.977 56.8254 631.107 Q56.8254 638.213 58.631 641.778 Q60.4597 645.32 64.0708 645.32 Q67.705 645.32 69.5105 641.778 Q71.3392 638.213 71.3392 631.107 Q71.3392 623.977 69.5105 620.436 Q67.705 616.871 64.0708 616.871 M64.0708 613.167 Q69.8809 613.167 72.9365 617.774 Q76.0151 622.357 76.0151 631.107 Q76.0151 639.834 72.9365 644.44 Q69.8809 649.023 64.0708 649.023 Q58.2606 649.023 55.1819 644.44 Q52.1264 639.834 52.1264 631.107 Q52.1264 622.357 55.1819 617.774 Q58.2606 613.167 64.0708 613.167 Z\" fill=\"#000000\" fill-rule=\"evenodd\" fill-opacity=\"1\" /><path clip-path=\"url(#clip380)\" d=\"M84.2327 642.472 L89.1169 642.472 L89.1169 648.352 L84.2327 648.352 L84.2327 642.472 Z\" fill=\"#000000\" fill-rule=\"evenodd\" fill-opacity=\"1\" /><path clip-path=\"url(#clip380)\" d=\"M113.469 629.718 Q116.825 630.435 118.7 632.704 Q120.598 634.972 120.598 638.306 Q120.598 643.422 117.08 646.222 Q113.561 649.023 107.08 649.023 Q104.904 649.023 102.589 648.584 Q100.297 648.167 97.8437 647.31 L97.8437 642.797 Q99.7882 643.931 102.103 644.509 Q104.418 645.088 106.941 645.088 Q111.339 645.088 113.631 643.352 Q115.945 641.616 115.945 638.306 Q115.945 635.25 113.793 633.537 Q111.663 631.801 107.844 631.801 L103.816 631.801 L103.816 627.959 L108.029 627.959 Q111.478 627.959 113.307 626.593 Q115.135 625.204 115.135 622.611 Q115.135 619.949 113.237 618.537 Q111.362 617.102 107.844 617.102 Q105.922 617.102 103.723 617.519 Q101.524 617.936 98.8854 618.815 L98.8854 614.649 Q101.547 613.908 103.862 613.537 Q106.2 613.167 108.26 613.167 Q113.584 613.167 116.686 615.598 Q119.788 618.005 119.788 622.125 Q119.788 624.996 118.145 626.986 Q116.501 628.954 113.469 629.718 Z\" fill=\"#000000\" fill-rule=\"evenodd\" fill-opacity=\"1\" /><path clip-path=\"url(#clip380)\" d=\"M62.9365 345.323 Q59.3254 345.323 57.4967 348.888 Q55.6912 352.429 55.6912 359.559 Q55.6912 366.665 57.4967 370.23 Q59.3254 373.772 62.9365 373.772 Q66.5707 373.772 68.3763 370.23 Q70.205 366.665 70.205 359.559 Q70.205 352.429 68.3763 348.888 Q66.5707 345.323 62.9365 345.323 M62.9365 341.619 Q68.7467 341.619 71.8022 346.226 Q74.8809 350.809 74.8809 359.559 Q74.8809 368.286 71.8022 372.892 Q68.7467 377.475 62.9365 377.475 Q57.1264 377.475 54.0477 372.892 Q50.9921 368.286 50.9921 359.559 Q50.9921 350.809 54.0477 346.226 Q57.1264 341.619 62.9365 341.619 Z\" fill=\"#000000\" fill-rule=\"evenodd\" fill-opacity=\"1\" /><path clip-path=\"url(#clip380)\" d=\"M83.0984 370.925 L87.9827 370.925 L87.9827 376.804 L83.0984 376.804 L83.0984 370.925 Z\" fill=\"#000000\" fill-rule=\"evenodd\" fill-opacity=\"1\" /><path clip-path=\"url(#clip380)\" d=\"M111.015 346.318 L99.2095 364.767 L111.015 364.767 L111.015 346.318 M109.788 342.244 L115.668 342.244 L115.668 364.767 L120.598 364.767 L120.598 368.656 L115.668 368.656 L115.668 376.804 L111.015 376.804 L111.015 368.656 L95.4132 368.656 L95.4132 364.142 L109.788 342.244 Z\" fill=\"#000000\" fill-rule=\"evenodd\" fill-opacity=\"1\" /><path clip-path=\"url(#clip380)\" d=\"M64.418 73.775 Q60.8069 73.775 58.9782 77.3398 Q57.1726 80.8814 57.1726 88.011 Q57.1726 95.1174 58.9782 98.6822 Q60.8069 102.224 64.418 102.224 Q68.0522 102.224 69.8578 98.6822 Q71.6865 95.1174 71.6865 88.011 Q71.6865 80.8814 69.8578 77.3398 Q68.0522 73.775 64.418 73.775 M64.418 70.0713 Q70.2281 70.0713 73.2837 74.6777 Q76.3624 79.261 76.3624 88.011 Q76.3624 96.7378 73.2837 101.344 Q70.2281 105.928 64.418 105.928 Q58.6078 105.928 55.5291 101.344 Q52.4736 96.7378 52.4736 88.011 Q52.4736 79.261 55.5291 74.6777 Q58.6078 70.0713 64.418 70.0713 Z\" fill=\"#000000\" fill-rule=\"evenodd\" fill-opacity=\"1\" /><path clip-path=\"url(#clip380)\" d=\"M84.5799 99.3767 L89.4641 99.3767 L89.4641 105.256 L84.5799 105.256 L84.5799 99.3767 Z\" fill=\"#000000\" fill-rule=\"evenodd\" fill-opacity=\"1\" /><path clip-path=\"url(#clip380)\" d=\"M99.6956 70.6963 L118.052 70.6963 L118.052 74.6314 L103.978 74.6314 L103.978 83.1036 Q104.996 82.7564 106.015 82.5944 Q107.033 82.4092 108.052 82.4092 Q113.839 82.4092 117.219 85.5805 Q120.598 88.7517 120.598 94.1684 Q120.598 99.747 117.126 102.849 Q113.654 105.928 107.334 105.928 Q105.159 105.928 102.89 105.557 Q100.645 105.187 98.2372 104.446 L98.2372 99.747 Q100.321 100.881 102.543 101.437 Q104.765 101.992 107.242 101.992 Q111.246 101.992 113.584 99.8859 Q115.922 97.7795 115.922 94.1684 Q115.922 90.5573 113.584 88.4508 Q111.246 86.3443 107.242 86.3443 Q105.367 86.3443 103.492 86.761 Q101.64 87.1777 99.6956 88.0573 L99.6956 70.6963 Z\" fill=\"#000000\" fill-rule=\"evenodd\" fill-opacity=\"1\" /><polyline clip-path=\"url(#clip382)\" style=\"stroke:#009af9; stroke-linecap:butt; stroke-linejoin:round; stroke-width:16; stroke-opacity:1; fill:none\" points=\"\n",
       "  218.754,1445.72 348.244,1221.39 477.734,851.705 607.225,554.754 736.715,427.411 866.206,320.309 995.696,172.835 1125.19,98.0969 1254.68,87.9763 1384.17,98.0969 \n",
       "  1513.66,172.835 1643.15,320.309 1772.64,427.411 1902.13,554.754 2031.62,851.705 2161.11,1221.39 2290.6,1445.72 \n",
       "  \"/>\n",
       "<circle clip-path=\"url(#clip382)\" cx=\"218.754\" cy=\"1445.72\" r=\"14\" fill=\"#009af9\" fill-rule=\"evenodd\" fill-opacity=\"1\" stroke=\"#000000\" stroke-opacity=\"1\" stroke-width=\"3.2\"/>\n",
       "<circle clip-path=\"url(#clip382)\" cx=\"348.244\" cy=\"1221.39\" r=\"14\" fill=\"#009af9\" fill-rule=\"evenodd\" fill-opacity=\"1\" stroke=\"#000000\" stroke-opacity=\"1\" stroke-width=\"3.2\"/>\n",
       "<circle clip-path=\"url(#clip382)\" cx=\"477.734\" cy=\"851.705\" r=\"14\" fill=\"#009af9\" fill-rule=\"evenodd\" fill-opacity=\"1\" stroke=\"#000000\" stroke-opacity=\"1\" stroke-width=\"3.2\"/>\n",
       "<circle clip-path=\"url(#clip382)\" cx=\"607.225\" cy=\"554.754\" r=\"14\" fill=\"#009af9\" fill-rule=\"evenodd\" fill-opacity=\"1\" stroke=\"#000000\" stroke-opacity=\"1\" stroke-width=\"3.2\"/>\n",
       "<circle clip-path=\"url(#clip382)\" cx=\"736.715\" cy=\"427.411\" r=\"14\" fill=\"#009af9\" fill-rule=\"evenodd\" fill-opacity=\"1\" stroke=\"#000000\" stroke-opacity=\"1\" stroke-width=\"3.2\"/>\n",
       "<circle clip-path=\"url(#clip382)\" cx=\"866.206\" cy=\"320.309\" r=\"14\" fill=\"#009af9\" fill-rule=\"evenodd\" fill-opacity=\"1\" stroke=\"#000000\" stroke-opacity=\"1\" stroke-width=\"3.2\"/>\n",
       "<circle clip-path=\"url(#clip382)\" cx=\"995.696\" cy=\"172.835\" r=\"14\" fill=\"#009af9\" fill-rule=\"evenodd\" fill-opacity=\"1\" stroke=\"#000000\" stroke-opacity=\"1\" stroke-width=\"3.2\"/>\n",
       "<circle clip-path=\"url(#clip382)\" cx=\"1125.19\" cy=\"98.0969\" r=\"14\" fill=\"#009af9\" fill-rule=\"evenodd\" fill-opacity=\"1\" stroke=\"#000000\" stroke-opacity=\"1\" stroke-width=\"3.2\"/>\n",
       "<circle clip-path=\"url(#clip382)\" cx=\"1254.68\" cy=\"87.9763\" r=\"14\" fill=\"#009af9\" fill-rule=\"evenodd\" fill-opacity=\"1\" stroke=\"#000000\" stroke-opacity=\"1\" stroke-width=\"3.2\"/>\n",
       "<circle clip-path=\"url(#clip382)\" cx=\"1384.17\" cy=\"98.0969\" r=\"14\" fill=\"#009af9\" fill-rule=\"evenodd\" fill-opacity=\"1\" stroke=\"#000000\" stroke-opacity=\"1\" stroke-width=\"3.2\"/>\n",
       "<circle clip-path=\"url(#clip382)\" cx=\"1513.66\" cy=\"172.835\" r=\"14\" fill=\"#009af9\" fill-rule=\"evenodd\" fill-opacity=\"1\" stroke=\"#000000\" stroke-opacity=\"1\" stroke-width=\"3.2\"/>\n",
       "<circle clip-path=\"url(#clip382)\" cx=\"1643.15\" cy=\"320.309\" r=\"14\" fill=\"#009af9\" fill-rule=\"evenodd\" fill-opacity=\"1\" stroke=\"#000000\" stroke-opacity=\"1\" stroke-width=\"3.2\"/>\n",
       "<circle clip-path=\"url(#clip382)\" cx=\"1772.64\" cy=\"427.411\" r=\"14\" fill=\"#009af9\" fill-rule=\"evenodd\" fill-opacity=\"1\" stroke=\"#000000\" stroke-opacity=\"1\" stroke-width=\"3.2\"/>\n",
       "<circle clip-path=\"url(#clip382)\" cx=\"1902.13\" cy=\"554.754\" r=\"14\" fill=\"#009af9\" fill-rule=\"evenodd\" fill-opacity=\"1\" stroke=\"#000000\" stroke-opacity=\"1\" stroke-width=\"3.2\"/>\n",
       "<circle clip-path=\"url(#clip382)\" cx=\"2031.62\" cy=\"851.705\" r=\"14\" fill=\"#009af9\" fill-rule=\"evenodd\" fill-opacity=\"1\" stroke=\"#000000\" stroke-opacity=\"1\" stroke-width=\"3.2\"/>\n",
       "<circle clip-path=\"url(#clip382)\" cx=\"2161.11\" cy=\"1221.39\" r=\"14\" fill=\"#009af9\" fill-rule=\"evenodd\" fill-opacity=\"1\" stroke=\"#000000\" stroke-opacity=\"1\" stroke-width=\"3.2\"/>\n",
       "<circle clip-path=\"url(#clip382)\" cx=\"2290.6\" cy=\"1445.72\" r=\"14\" fill=\"#009af9\" fill-rule=\"evenodd\" fill-opacity=\"1\" stroke=\"#000000\" stroke-opacity=\"1\" stroke-width=\"3.2\"/>\n",
       "<path clip-path=\"url(#clip380)\" d=\"\n",
       "M1983.1 198.898 L2279.55 198.898 L2279.55 95.2176 L1983.1 95.2176  Z\n",
       "  \" fill=\"#ffffff\" fill-rule=\"evenodd\" fill-opacity=\"1\"/>\n",
       "<polyline clip-path=\"url(#clip380)\" style=\"stroke:#000000; stroke-linecap:butt; stroke-linejoin:round; stroke-width:4; stroke-opacity:1; fill:none\" points=\"\n",
       "  1983.1,198.898 2279.55,198.898 2279.55,95.2176 1983.1,95.2176 1983.1,198.898 \n",
       "  \"/>\n",
       "<polyline clip-path=\"url(#clip380)\" style=\"stroke:#009af9; stroke-linecap:butt; stroke-linejoin:round; stroke-width:4; stroke-opacity:1; fill:none\" points=\"\n",
       "  2007.5,147.058 2153.92,147.058 \n",
       "  \"/>\n",
       "<circle clip-path=\"url(#clip380)\" cx=\"2080.71\" cy=\"147.058\" r=\"23\" fill=\"#009af9\" fill-rule=\"evenodd\" fill-opacity=\"1\" stroke=\"#000000\" stroke-opacity=\"1\" stroke-width=\"5.12\"/>\n",
       "<path clip-path=\"url(#clip380)\" d=\"M2192.16 166.745 Q2190.35 171.375 2188.64 172.787 Q2186.93 174.199 2184.06 174.199 L2180.65 174.199 L2180.65 170.634 L2183.15 170.634 Q2184.91 170.634 2185.89 169.8 Q2186.86 168.967 2188.04 165.865 L2188.8 163.921 L2178.32 138.412 L2182.83 138.412 L2190.93 158.689 L2199.03 138.412 L2203.55 138.412 L2192.16 166.745 Z\" fill=\"#000000\" fill-rule=\"evenodd\" fill-opacity=\"1\" /><path clip-path=\"url(#clip380)\" d=\"M2210.84 160.402 L2218.48 160.402 L2218.48 134.037 L2210.17 135.703 L2210.17 131.444 L2218.43 129.778 L2223.11 129.778 L2223.11 160.402 L2230.75 160.402 L2230.75 164.338 L2210.84 164.338 L2210.84 160.402 Z\" fill=\"#000000\" fill-rule=\"evenodd\" fill-opacity=\"1\" /></svg>\n"
      ]
     },
     "execution_count": 155,
     "metadata": {},
     "output_type": "execute_result"
    }
   ],
   "source": [
    "plot(sol.zero, marker=:auto)"
   ]
  },
  {
   "cell_type": "markdown",
   "id": "015a6821",
   "metadata": {},
   "source": [
    "* Why is this figure weird?\n",
    "  * How are the x nodes spaced, and how should they be spaced?"
   ]
  }
 ],
 "metadata": {
  "celltoolbar": "Slideshow",
  "kernelspec": {
   "display_name": "Julia 1.6.2",
   "language": "julia",
   "name": "julia-1.6"
  },
  "language_info": {
   "file_extension": ".jl",
   "mimetype": "application/julia",
   "name": "julia",
   "version": "1.6.3"
  },
  "rise": {
   "enable_chalkboard": true
  }
 },
 "nbformat": 4,
 "nbformat_minor": 5
}
