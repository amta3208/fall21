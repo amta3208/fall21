{
 "cells": [
  {
   "cell_type": "markdown",
   "id": "3dba1684",
   "metadata": {
    "cell_style": "center",
    "slideshow": {
     "slide_type": "slide"
    }
   },
   "source": [
    "# 2021-11-19 Mixed methods\n",
    "\n",
    "## Last time\n",
    "\n",
    "* Community presentations\n",
    "* Petrov-Galerkin stabilization\n",
    "* Mass lumping for time dependent problems\n",
    "* Examples of finite element interfaces\n",
    "\n",
    "## Today\n",
    "\n",
    "* Community presentations\n",
    "* More finite element interfaces: Deal.II and MOOSE\n",
    "* Vector problems and mixed finite elements"
   ]
  },
  {
   "cell_type": "markdown",
   "id": "84c670ff",
   "metadata": {
    "slideshow": {
     "slide_type": "slide"
    }
   },
   "source": [
    "# Community presentations\n",
    "\n",
    "## [Marcel Corchado: PFSSPY](https://github.com/dstansby/pfsspy)\n",
    "\n",
    "## [Morgan Byers: Krylov.jl](https://github.com/cu-numpde/2021-community/files/7571148/byers_pde_community.pdf)"
   ]
  },
  {
   "cell_type": "markdown",
   "id": "0bd3f859",
   "metadata": {
    "slideshow": {
     "slide_type": "slide"
    }
   },
   "source": [
    "# Finite element interfaces: [Deal.II](https://dealii.org)\n",
    "\n",
    "\\begin{gather*}\n",
    "    v^T F(u) \\sim \\int_\\Omega v \\cdot \\color{olive}{f_0(u, \\nabla u)} + \\nabla v \\!:\\! \\color{olive}{f_1(u, \\nabla u)} \\quad\n",
    "    v^T J w \\sim \\int_\\Omega \\begin{bmatrix} v \\\\ \\nabla v \\end{bmatrix}^T \\color{teal}{\\begin{bmatrix} f_{0,0} & f_{0,1} \\\\ f_{1,0} & f_{1,1} \\end{bmatrix}}\n",
    "    \\begin{bmatrix} w \\\\ \\nabla w \\end{bmatrix} \\\\\n",
    "    J w = \\sum_e \\mathcal E_e^T \\underbrace{\\begin{bmatrix} B_I \\\\ B_{\\nabla} \\end{bmatrix}^T\n",
    "    \\begin{bmatrix} I & \\\\ & \\left( \\frac{\\partial X}{\\partial x}\\right)^T \\end{bmatrix}}_{\\texttt{fe\\_values}} W_q \\color{teal}{\\begin{bmatrix} f_{0,0} & f_{0,1} \\\\ f_{1,0} & f_{1,1} \\end{bmatrix}} \\underbrace{\\begin{bmatrix} I & \\\\ & \\left( \\frac{\\partial X}{\\partial x}\\right) \\end{bmatrix} \\begin{bmatrix} B_I \\\\ B_{\\nabla} \\end{bmatrix}}_{\\texttt{fe\\_values}} \\mathcal E_e w_L\n",
    "\\end{gather*}"
   ]
  },
  {
   "cell_type": "markdown",
   "id": "51956696",
   "metadata": {
    "cell_style": "split"
   },
   "source": [
    "* Deal.II [step-7](https://dealii.org/developer/doxygen/deal.II/step_7.html)\n",
    "\n",
    "```python\n",
    "for e in elems:\n",
    "    fe_values.reinit()\n",
    "    for q in q_points:\n",
    "        for i in test_functions:\n",
    "            for j in trial_functions\n",
    "                K_e[i,j] += ...\n",
    "            f_e[i] += ...\n",
    "    for f in e.faces:\n",
    "        if f.at_boundary():\n",
    "            fe_face_values.reinit()\n",
    "            for q in q_points:\n",
    "                ...\n",
    "```"
   ]
  },
  {
   "cell_type": "markdown",
   "id": "43d3e705",
   "metadata": {
    "cell_style": "split"
   },
   "source": [
    "![](https://dealii.org/images/wiki/gallery/Single_layer.jpeg)\n",
    "\n"
   ]
  },
  {
   "cell_type": "markdown",
   "id": "158d0197",
   "metadata": {
    "slideshow": {
     "slide_type": "slide"
    }
   },
   "source": [
    "# Finite element interfaces: [MOOSE](https://mooseframework.org/)"
   ]
  },
  {
   "cell_type": "markdown",
   "id": "c452b5da",
   "metadata": {
    "cell_style": "split",
    "slideshow": {
     "slide_type": ""
    }
   },
   "source": [
    "## [Materials](https://mooseframework.inl.gov/modules/index.html)\n",
    "* Can be written without knowledge of finite elements\n",
    "* Registration allows libraries of materials (some in MOOSE, others packaged separatle)\n",
    "* Example: [crystal plasticity](https://mooseframework.inl.gov/source/materials/crystal_plasticity/ComputeMultipleCrystalPlasticityStress.html)\n",
    "* Code is C++, so can do dirty things\n",
    "  * table lookups, proprietary code\n",
    "  * implicit materials (Newton solve at each quadrature point)"
   ]
  },
  {
   "cell_type": "markdown",
   "id": "351ec6e9",
   "metadata": {
    "cell_style": "split",
    "slideshow": {
     "slide_type": ""
    }
   },
   "source": [
    "## Composition in configuration files\n",
    "\n",
    "* Add fields and coupling\n",
    "* Select materials from libraries\n",
    "* Multiphysics composition\n",
    "* Multiscale coupling\n",
    "\n",
    "## Graphical interface: [Peacock](https://mooseframework.inl.gov/application_usage/peacock.html)"
   ]
  },
  {
   "cell_type": "markdown",
   "id": "dcd2e2b9",
   "metadata": {
    "slideshow": {
     "slide_type": "slide"
    }
   },
   "source": [
    "# [Periodic table of finite elements](https://www-users.cse.umn.edu/~arnold/femtable/index.html)"
   ]
  },
  {
   "cell_type": "markdown",
   "id": "442e6625",
   "metadata": {
    "cell_style": "split",
    "slideshow": {
     "slide_type": "slide"
    }
   },
   "source": [
    "## Exactly satisfies discrete identities like\n",
    "\n",
    "$$ \\nabla\\cdot\\nabla\\times u = 0$$\n",
    "$$ \\nabla\\times\\nabla u = 0$$\n",
    "\n",
    "* Generalized concept: Finite Element Exterior Calculus (FEEC)\n",
    "* Improved stability or numerical properties\n",
    "* Higher order of accuracy for quantity of interest despite non-smooth problem"
   ]
  },
  {
   "cell_type": "markdown",
   "id": "b8c7719a",
   "metadata": {
    "cell_style": "split"
   },
   "source": [
    "## Problems with constraints\n",
    "\n",
    "Stokes equation: (slow) incompressible flow\n",
    "\n",
    "\\begin{align}\n",
    "-\\nabla\\cdot(\\eta \\nabla^s \\mathbf u - pI) &= 0 \\\\\n",
    "\\nabla\\cdot \\mathbf u &= 0\n",
    "\\end{align}\n",
    "where $\\nabla^s \\mathbf u$ is the symmetric part of the $3\\times 3$ gradient $\\nabla \\mathbf u$.\n",
    "\n",
    "Weak form: find $(\\mathbf u, p)$ such that\n",
    "$$ \\int \\nabla^s \\mathbf v \\!:\\! \\eta \\!:\\! \\nabla^s \\mathbf u - p \\nabla\\cdot \\mathbf v - q \\nabla\\cdot \\mathbf u = 0, \\quad \\forall (\\mathbf v, q)$$"
   ]
  }
 ],
 "metadata": {
  "celltoolbar": "Slideshow",
  "kernelspec": {
   "display_name": "Julia 1.6.2",
   "language": "julia",
   "name": "julia-1.6"
  },
  "language_info": {
   "file_extension": ".jl",
   "mimetype": "application/julia",
   "name": "julia",
   "version": "1.6.3"
  },
  "rise": {
   "enable_chalkboard": true
  }
 },
 "nbformat": 4,
 "nbformat_minor": 5
}
