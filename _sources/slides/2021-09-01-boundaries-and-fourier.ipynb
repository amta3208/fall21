{
 "cells": [
  {
   "cell_type": "markdown",
   "id": "4159be0e",
   "metadata": {
    "slideshow": {
     "slide_type": "slide"
    }
   },
   "source": [
    "# 2021-09-01 Boundaries and Fourier methods\n",
    "\n",
    "## Last time\n",
    "* High order on arbitrary grids\n",
    "* Method of manufactured solutions\n",
    "* More satisfying approach to boundary conditions\n",
    "\n",
    "## Today\n",
    "* More on boundary conditions\n",
    "* Fourier methods for analyzing finite difference methods\n",
    "* Variable coefficients"
   ]
  },
  {
   "cell_type": "code",
   "execution_count": 22,
   "id": "009bd630",
   "metadata": {
    "slideshow": {
     "slide_type": "skip"
    }
   },
   "outputs": [],
   "source": [
    "using Plots\n",
    "using LinearAlgebra"
   ]
  },
  {
   "cell_type": "markdown",
   "id": "b1021585",
   "metadata": {
    "cell_style": "split",
    "slideshow": {
     "slide_type": "slide"
    }
   },
   "source": [
    "# Interpolation by Vandermonde matrices"
   ]
  },
  {
   "cell_type": "markdown",
   "id": "dc496c6d",
   "metadata": {
    "cell_style": "split",
    "slideshow": {
     "slide_type": "slide"
    }
   },
   "source": [
    "We can compute a polynomial\n",
    "\n",
    "$$ p(x) = c_0 + c_1 x + c_2 x^2 + \\dotsb $$\n",
    "\n",
    "that assumes function values $p(x_i) = u_i$ by solving a linear system with the Vandermonde matrix.\n",
    "\n",
    "$$ \\underbrace{\\begin{bmatrix} 1 & x_0 & x_0^2 & \\dotsb \\\\\n",
    "    1 & x_1 & x_1^2 & \\dotsb \\\\\n",
    "    1 & x_2 & x_2^2 & \\dotsb \\\\\n",
    "    \\vdots & & & \\ddots \\end{bmatrix}}_V \\begin{bmatrix} c_0 \\\\ c_1 \\\\ c_2 \\\\ \\vdots \\end{bmatrix} = \\begin{bmatrix} u_0 \\\\ u_1 \\\\ u_2 \\\\ \\vdots \\end{bmatrix} .$$"
   ]
  },
  {
   "cell_type": "code",
   "execution_count": 3,
   "id": "b2ba3380",
   "metadata": {
    "cell_style": "split"
   },
   "outputs": [
    {
     "data": {
      "text/plain": [
       "vander (generic function with 2 methods)"
      ]
     },
     "execution_count": 3,
     "metadata": {},
     "output_type": "execute_result"
    }
   ],
   "source": [
    "function vander(x, k=nothing)\n",
    "    if k === nothing\n",
    "        k = length(x)\n",
    "    end\n",
    "    V = ones(length(x), k)\n",
    "    for j = 2:k\n",
    "        V[:, j] = V[:, j-1] .* x\n",
    "    end\n",
    "    V\n",
    "end"
   ]
  },
  {
   "cell_type": "code",
   "execution_count": 4,
   "id": "bc3cfac0",
   "metadata": {
    "cell_style": "split"
   },
   "outputs": [
    {
     "data": {
      "text/plain": [
       "5×5 Matrix{Float64}:\n",
       " 1.0  -1.0  1.0   -1.0    1.0\n",
       " 1.0  -0.5  0.25  -0.125  0.0625\n",
       " 1.0   0.0  0.0    0.0    0.0\n",
       " 1.0   0.5  0.25   0.125  0.0625\n",
       " 1.0   1.0  1.0    1.0    1.0"
      ]
     },
     "execution_count": 4,
     "metadata": {},
     "output_type": "execute_result"
    }
   ],
   "source": [
    "vander(LinRange(-1, 1, 5))"
   ]
  },
  {
   "cell_type": "markdown",
   "id": "9c4241dc",
   "metadata": {
    "slideshow": {
     "slide_type": "slide"
    }
   },
   "source": [
    "# Arbitrary order derivatives"
   ]
  },
  {
   "cell_type": "code",
   "execution_count": 15,
   "id": "3b13099a",
   "metadata": {
    "cell_style": "split"
   },
   "outputs": [
    {
     "data": {
      "text/plain": [
       "1×4 adjoint(::Vector{Float64}) with eltype Float64:\n",
       " 0.0703125  0.351563  -0.914062  0.492188"
      ]
     },
     "execution_count": 15,
     "metadata": {},
     "output_type": "execute_result"
    }
   ],
   "source": [
    "function fdstencil(source, target, k)\n",
    "    \"kth derivative stencil from source to target\"\n",
    "    x = source .- target\n",
    "    V = vander(x)\n",
    "    rhs = zero(x)'\n",
    "    rhs[k+1] = factorial(k)\n",
    "    rhs / V\n",
    "end\n",
    "x = LinRange(-2, 2, 4)\n",
    "u = sin.(x)\n",
    "fdstencil(x, 0.5, 2)\n"
   ]
  },
  {
   "cell_type": "code",
   "execution_count": 16,
   "id": "09e17560",
   "metadata": {
    "cell_style": "split"
   },
   "outputs": [
    {
     "data": {
      "image/svg+xml": [
       "<?xml version=\"1.0\" encoding=\"utf-8\"?>\n",
       "<svg xmlns=\"http://www.w3.org/2000/svg\" xmlns:xlink=\"http://www.w3.org/1999/xlink\" width=\"600\" height=\"400\" viewBox=\"0 0 2400 1600\">\n",
       "<defs>\n",
       "  <clipPath id=\"clip940\">\n",
       "    <rect x=\"0\" y=\"0\" width=\"2400\" height=\"1600\"/>\n",
       "  </clipPath>\n",
       "</defs>\n",
       "<path clip-path=\"url(#clip940)\" d=\"\n",
       "M0 1600 L2400 1600 L2400 0 L0 0  Z\n",
       "  \" fill=\"#ffffff\" fill-rule=\"evenodd\" fill-opacity=\"1\"/>\n",
       "<defs>\n",
       "  <clipPath id=\"clip941\">\n",
       "    <rect x=\"480\" y=\"0\" width=\"1681\" height=\"1600\"/>\n",
       "  </clipPath>\n",
       "</defs>\n",
       "<path clip-path=\"url(#clip940)\" d=\"\n",
       "M149.191 1486.45 L2352.76 1486.45 L2352.76 47.2441 L149.191 47.2441  Z\n",
       "  \" fill=\"#ffffff\" fill-rule=\"evenodd\" fill-opacity=\"1\"/>\n",
       "<defs>\n",
       "  <clipPath id=\"clip942\">\n",
       "    <rect x=\"149\" y=\"47\" width=\"2205\" height=\"1440\"/>\n",
       "  </clipPath>\n",
       "</defs>\n",
       "<polyline clip-path=\"url(#clip942)\" style=\"stroke:#000000; stroke-linecap:butt; stroke-linejoin:round; stroke-width:2; stroke-opacity:0.1; fill:none\" points=\"\n",
       "  419.439,1486.45 419.439,47.2441 \n",
       "  \"/>\n",
       "<polyline clip-path=\"url(#clip942)\" style=\"stroke:#000000; stroke-linecap:butt; stroke-linejoin:round; stroke-width:2; stroke-opacity:0.1; fill:none\" points=\"\n",
       "  835.206,1486.45 835.206,47.2441 \n",
       "  \"/>\n",
       "<polyline clip-path=\"url(#clip942)\" style=\"stroke:#000000; stroke-linecap:butt; stroke-linejoin:round; stroke-width:2; stroke-opacity:0.1; fill:none\" points=\"\n",
       "  1250.97,1486.45 1250.97,47.2441 \n",
       "  \"/>\n",
       "<polyline clip-path=\"url(#clip942)\" style=\"stroke:#000000; stroke-linecap:butt; stroke-linejoin:round; stroke-width:2; stroke-opacity:0.1; fill:none\" points=\"\n",
       "  1666.74,1486.45 1666.74,47.2441 \n",
       "  \"/>\n",
       "<polyline clip-path=\"url(#clip942)\" style=\"stroke:#000000; stroke-linecap:butt; stroke-linejoin:round; stroke-width:2; stroke-opacity:0.1; fill:none\" points=\"\n",
       "  2082.51,1486.45 2082.51,47.2441 \n",
       "  \"/>\n",
       "<polyline clip-path=\"url(#clip940)\" style=\"stroke:#000000; stroke-linecap:butt; stroke-linejoin:round; stroke-width:4; stroke-opacity:1; fill:none\" points=\"\n",
       "  149.191,1486.45 2352.76,1486.45 \n",
       "  \"/>\n",
       "<polyline clip-path=\"url(#clip940)\" style=\"stroke:#000000; stroke-linecap:butt; stroke-linejoin:round; stroke-width:4; stroke-opacity:1; fill:none\" points=\"\n",
       "  419.439,1486.45 419.439,1467.55 \n",
       "  \"/>\n",
       "<polyline clip-path=\"url(#clip940)\" style=\"stroke:#000000; stroke-linecap:butt; stroke-linejoin:round; stroke-width:4; stroke-opacity:1; fill:none\" points=\"\n",
       "  835.206,1486.45 835.206,1467.55 \n",
       "  \"/>\n",
       "<polyline clip-path=\"url(#clip940)\" style=\"stroke:#000000; stroke-linecap:butt; stroke-linejoin:round; stroke-width:4; stroke-opacity:1; fill:none\" points=\"\n",
       "  1250.97,1486.45 1250.97,1467.55 \n",
       "  \"/>\n",
       "<polyline clip-path=\"url(#clip940)\" style=\"stroke:#000000; stroke-linecap:butt; stroke-linejoin:round; stroke-width:4; stroke-opacity:1; fill:none\" points=\"\n",
       "  1666.74,1486.45 1666.74,1467.55 \n",
       "  \"/>\n",
       "<polyline clip-path=\"url(#clip940)\" style=\"stroke:#000000; stroke-linecap:butt; stroke-linejoin:round; stroke-width:4; stroke-opacity:1; fill:none\" points=\"\n",
       "  2082.51,1486.45 2082.51,1467.55 \n",
       "  \"/>\n",
       "<path clip-path=\"url(#clip940)\" d=\"M388.34 1530.29 L418.016 1530.29 L418.016 1534.23 L388.34 1534.23 L388.34 1530.29 Z\" fill=\"#000000\" fill-rule=\"evenodd\" fill-opacity=\"1\" /><path clip-path=\"url(#clip940)\" d=\"M440.955 1516.63 L429.15 1535.08 L440.955 1535.08 L440.955 1516.63 M439.729 1512.56 L445.608 1512.56 L445.608 1535.08 L450.539 1535.08 L450.539 1538.97 L445.608 1538.97 L445.608 1547.12 L440.955 1547.12 L440.955 1538.97 L425.354 1538.97 L425.354 1534.46 L439.729 1512.56 Z\" fill=\"#000000\" fill-rule=\"evenodd\" fill-opacity=\"1\" /><path clip-path=\"url(#clip940)\" d=\"M805.149 1530.29 L834.824 1530.29 L834.824 1534.23 L805.149 1534.23 L805.149 1530.29 Z\" fill=\"#000000\" fill-rule=\"evenodd\" fill-opacity=\"1\" /><path clip-path=\"url(#clip940)\" d=\"M848.945 1543.18 L865.264 1543.18 L865.264 1547.12 L843.32 1547.12 L843.32 1543.18 Q845.982 1540.43 850.565 1535.8 Q855.172 1531.15 856.352 1529.81 Q858.597 1527.28 859.477 1525.55 Q860.38 1523.79 860.38 1522.1 Q860.38 1519.34 858.435 1517.61 Q856.514 1515.87 853.412 1515.87 Q851.213 1515.87 848.76 1516.63 Q846.329 1517.4 843.551 1518.95 L843.551 1514.23 Q846.375 1513.09 848.829 1512.51 Q851.283 1511.93 853.32 1511.93 Q858.69 1511.93 861.884 1514.62 Q865.079 1517.31 865.079 1521.8 Q865.079 1523.93 864.269 1525.85 Q863.482 1527.74 861.375 1530.34 Q860.797 1531.01 857.695 1534.23 Q854.593 1537.42 848.945 1543.18 Z\" fill=\"#000000\" fill-rule=\"evenodd\" fill-opacity=\"1\" /><path clip-path=\"url(#clip940)\" d=\"M1250.97 1515.64 Q1247.36 1515.64 1245.53 1519.2 Q1243.73 1522.75 1243.73 1529.87 Q1243.73 1536.98 1245.53 1540.55 Q1247.36 1544.09 1250.97 1544.09 Q1254.61 1544.09 1256.41 1540.55 Q1258.24 1536.98 1258.24 1529.87 Q1258.24 1522.75 1256.41 1519.2 Q1254.61 1515.64 1250.97 1515.64 M1250.97 1511.93 Q1256.78 1511.93 1259.84 1516.54 Q1262.92 1521.12 1262.92 1529.87 Q1262.92 1538.6 1259.84 1543.21 Q1256.78 1547.79 1250.97 1547.79 Q1245.16 1547.79 1242.08 1543.21 Q1239.03 1538.6 1239.03 1529.87 Q1239.03 1521.12 1242.08 1516.54 Q1245.16 1511.93 1250.97 1511.93 Z\" fill=\"#000000\" fill-rule=\"evenodd\" fill-opacity=\"1\" /><path clip-path=\"url(#clip940)\" d=\"M1661.39 1543.18 L1677.71 1543.18 L1677.71 1547.12 L1655.77 1547.12 L1655.77 1543.18 Q1658.43 1540.43 1663.01 1535.8 Q1667.62 1531.15 1668.8 1529.81 Q1671.05 1527.28 1671.93 1525.55 Q1672.83 1523.79 1672.83 1522.1 Q1672.83 1519.34 1670.88 1517.61 Q1668.96 1515.87 1665.86 1515.87 Q1663.66 1515.87 1661.21 1516.63 Q1658.78 1517.4 1656 1518.95 L1656 1514.23 Q1658.82 1513.09 1661.28 1512.51 Q1663.73 1511.93 1665.77 1511.93 Q1671.14 1511.93 1674.33 1514.62 Q1677.53 1517.31 1677.53 1521.8 Q1677.53 1523.93 1676.72 1525.85 Q1675.93 1527.74 1673.82 1530.34 Q1673.24 1531.01 1670.14 1534.23 Q1667.04 1537.42 1661.39 1543.18 Z\" fill=\"#000000\" fill-rule=\"evenodd\" fill-opacity=\"1\" /><path clip-path=\"url(#clip940)\" d=\"M2085.52 1516.63 L2073.71 1535.08 L2085.52 1535.08 L2085.52 1516.63 M2084.29 1512.56 L2090.17 1512.56 L2090.17 1535.08 L2095.1 1535.08 L2095.1 1538.97 L2090.17 1538.97 L2090.17 1547.12 L2085.52 1547.12 L2085.52 1538.97 L2069.91 1538.97 L2069.91 1534.46 L2084.29 1512.56 Z\" fill=\"#000000\" fill-rule=\"evenodd\" fill-opacity=\"1\" /><polyline clip-path=\"url(#clip942)\" style=\"stroke:#000000; stroke-linecap:butt; stroke-linejoin:round; stroke-width:2; stroke-opacity:0.1; fill:none\" points=\"\n",
       "  149.191,1447.39 2352.76,1447.39 \n",
       "  \"/>\n",
       "<polyline clip-path=\"url(#clip942)\" style=\"stroke:#000000; stroke-linecap:butt; stroke-linejoin:round; stroke-width:2; stroke-opacity:0.1; fill:none\" points=\"\n",
       "  149.191,1107.12 2352.76,1107.12 \n",
       "  \"/>\n",
       "<polyline clip-path=\"url(#clip942)\" style=\"stroke:#000000; stroke-linecap:butt; stroke-linejoin:round; stroke-width:2; stroke-opacity:0.1; fill:none\" points=\"\n",
       "  149.191,766.846 2352.76,766.846 \n",
       "  \"/>\n",
       "<polyline clip-path=\"url(#clip942)\" style=\"stroke:#000000; stroke-linecap:butt; stroke-linejoin:round; stroke-width:2; stroke-opacity:0.1; fill:none\" points=\"\n",
       "  149.191,426.573 2352.76,426.573 \n",
       "  \"/>\n",
       "<polyline clip-path=\"url(#clip942)\" style=\"stroke:#000000; stroke-linecap:butt; stroke-linejoin:round; stroke-width:2; stroke-opacity:0.1; fill:none\" points=\"\n",
       "  149.191,86.2995 2352.76,86.2995 \n",
       "  \"/>\n",
       "<polyline clip-path=\"url(#clip940)\" style=\"stroke:#000000; stroke-linecap:butt; stroke-linejoin:round; stroke-width:4; stroke-opacity:1; fill:none\" points=\"\n",
       "  149.191,1486.45 149.191,47.2441 \n",
       "  \"/>\n",
       "<polyline clip-path=\"url(#clip940)\" style=\"stroke:#000000; stroke-linecap:butt; stroke-linejoin:round; stroke-width:4; stroke-opacity:1; fill:none\" points=\"\n",
       "  149.191,1447.39 168.089,1447.39 \n",
       "  \"/>\n",
       "<polyline clip-path=\"url(#clip940)\" style=\"stroke:#000000; stroke-linecap:butt; stroke-linejoin:round; stroke-width:4; stroke-opacity:1; fill:none\" points=\"\n",
       "  149.191,1107.12 168.089,1107.12 \n",
       "  \"/>\n",
       "<polyline clip-path=\"url(#clip940)\" style=\"stroke:#000000; stroke-linecap:butt; stroke-linejoin:round; stroke-width:4; stroke-opacity:1; fill:none\" points=\"\n",
       "  149.191,766.846 168.089,766.846 \n",
       "  \"/>\n",
       "<polyline clip-path=\"url(#clip940)\" style=\"stroke:#000000; stroke-linecap:butt; stroke-linejoin:round; stroke-width:4; stroke-opacity:1; fill:none\" points=\"\n",
       "  149.191,426.573 168.089,426.573 \n",
       "  \"/>\n",
       "<polyline clip-path=\"url(#clip940)\" style=\"stroke:#000000; stroke-linecap:butt; stroke-linejoin:round; stroke-width:4; stroke-opacity:1; fill:none\" points=\"\n",
       "  149.191,86.2995 168.089,86.2995 \n",
       "  \"/>\n",
       "<path clip-path=\"url(#clip940)\" d=\"M50.9921 1447.84 L80.6679 1447.84 L80.6679 1451.78 L50.9921 1451.78 L50.9921 1447.84 Z\" fill=\"#000000\" fill-rule=\"evenodd\" fill-opacity=\"1\" /><path clip-path=\"url(#clip940)\" d=\"M103.608 1434.19 L91.8021 1452.64 L103.608 1452.64 L103.608 1434.19 M102.381 1430.11 L108.26 1430.11 L108.26 1452.64 L113.191 1452.64 L113.191 1456.52 L108.26 1456.52 L108.26 1464.67 L103.608 1464.67 L103.608 1456.52 L88.0058 1456.52 L88.0058 1452.01 L102.381 1430.11 Z\" fill=\"#000000\" fill-rule=\"evenodd\" fill-opacity=\"1\" /><path clip-path=\"url(#clip940)\" d=\"M53.0754 1107.57 L82.7512 1107.57 L82.7512 1111.51 L53.0754 1111.51 L53.0754 1107.57 Z\" fill=\"#000000\" fill-rule=\"evenodd\" fill-opacity=\"1\" /><path clip-path=\"url(#clip940)\" d=\"M96.8715 1120.46 L113.191 1120.46 L113.191 1124.4 L91.2465 1124.4 L91.2465 1120.46 Q93.9086 1117.71 98.4919 1113.08 Q103.098 1108.43 104.279 1107.08 Q106.524 1104.56 107.404 1102.83 Q108.307 1101.07 108.307 1099.38 Q108.307 1096.62 106.362 1094.89 Q104.441 1093.15 101.339 1093.15 Q99.14 1093.15 96.6863 1093.91 Q94.2558 1094.68 91.478 1096.23 L91.478 1091.51 Q94.3021 1090.37 96.7558 1089.79 Q99.2095 1089.21 101.246 1089.21 Q106.617 1089.21 109.811 1091.9 Q113.006 1094.58 113.006 1099.08 Q113.006 1101.2 112.196 1103.13 Q111.408 1105.02 109.302 1107.62 Q108.723 1108.29 105.621 1111.51 Q102.52 1114.7 96.8715 1120.46 Z\" fill=\"#000000\" fill-rule=\"evenodd\" fill-opacity=\"1\" /><path clip-path=\"url(#clip940)\" d=\"M101.246 752.645 Q97.6354 752.645 95.8067 756.209 Q94.0012 759.751 94.0012 766.881 Q94.0012 773.987 95.8067 777.552 Q97.6354 781.094 101.246 781.094 Q104.881 781.094 106.686 777.552 Q108.515 773.987 108.515 766.881 Q108.515 759.751 106.686 756.209 Q104.881 752.645 101.246 752.645 M101.246 748.941 Q107.057 748.941 110.112 753.547 Q113.191 758.131 113.191 766.881 Q113.191 775.608 110.112 780.214 Q107.057 784.797 101.246 784.797 Q95.4363 784.797 92.3576 780.214 Q89.3021 775.608 89.3021 766.881 Q89.3021 758.131 92.3576 753.547 Q95.4363 748.941 101.246 748.941 Z\" fill=\"#000000\" fill-rule=\"evenodd\" fill-opacity=\"1\" /><path clip-path=\"url(#clip940)\" d=\"M96.8715 439.918 L113.191 439.918 L113.191 443.853 L91.2465 443.853 L91.2465 439.918 Q93.9086 437.163 98.4919 432.533 Q103.098 427.881 104.279 426.538 Q106.524 424.015 107.404 422.279 Q108.307 420.52 108.307 418.83 Q108.307 416.075 106.362 414.339 Q104.441 412.603 101.339 412.603 Q99.14 412.603 96.6863 413.367 Q94.2558 414.131 91.478 415.682 L91.478 410.959 Q94.3021 409.825 96.7558 409.246 Q99.2095 408.668 101.246 408.668 Q106.617 408.668 109.811 411.353 Q113.006 414.038 113.006 418.529 Q113.006 420.658 112.196 422.58 Q111.408 424.478 109.302 427.07 Q108.723 427.742 105.621 430.959 Q102.52 434.154 96.8715 439.918 Z\" fill=\"#000000\" fill-rule=\"evenodd\" fill-opacity=\"1\" /><path clip-path=\"url(#clip940)\" d=\"M103.608 73.0935 L91.8021 91.5425 L103.608 91.5425 L103.608 73.0935 M102.381 69.0195 L108.26 69.0195 L108.26 91.5425 L113.191 91.5425 L113.191 95.4314 L108.26 95.4314 L108.26 103.579 L103.608 103.579 L103.608 95.4314 L88.0058 95.4314 L88.0058 90.9175 L102.381 69.0195 Z\" fill=\"#000000\" fill-rule=\"evenodd\" fill-opacity=\"1\" /><polyline clip-path=\"url(#clip942)\" style=\"stroke:#009af9; stroke-linecap:butt; stroke-linejoin:round; stroke-width:4; stroke-opacity:1; fill:none\" points=\"\n",
       "  211.556,87.9763 231.857,101.236 419.574,223.838 532.384,297.517 627.764,359.812 731.373,427.482 826.891,489.867 929.296,556.751 1047.94,634.242 1153.38,703.107 \n",
       "  1245.84,763.496 1346.65,829.335 1448.06,895.566 1560.17,968.793 1666.85,1038.47 1777.77,1110.91 1871.14,1171.89 1985.14,1246.35 2092.29,1316.33 2263.97,1428.46 \n",
       "  2290.39,1445.72 \n",
       "  \"/>\n",
       "<polyline clip-path=\"url(#clip942)\" style=\"stroke:#e26f46; stroke-linecap:butt; stroke-linejoin:round; stroke-width:4; stroke-opacity:1; fill:none\" points=\"\n",
       "  211.556,929.994 216.631,931.124 221.707,932.155 226.782,933.088 231.857,933.922 255.322,936.477 278.787,936.874 302.251,935.106 325.716,931.197 349.181,925.196 \n",
       "  372.645,917.18 396.11,907.25 419.574,895.534 447.777,879.299 475.979,860.998 504.182,840.966 532.384,819.573 580.074,781.408 627.764,742.479 679.568,701.704 \n",
       "  731.373,664.953 755.252,650.008 779.132,636.603 803.011,624.914 826.891,615.096 852.492,606.795 878.094,600.918 903.695,597.555 929.296,596.756 958.958,599.051 \n",
       "  988.62,604.756 1018.28,613.755 1047.94,625.866 1074.3,639.042 1100.66,654.271 1127.02,671.307 1153.38,689.877 1199.61,725.238 1245.84,762.648 1296.25,803.607 \n",
       "  1346.65,842.415 1372,860.397 1397.35,876.99 1422.71,891.946 1448.06,905.044 1476.09,917.13 1504.12,926.487 1532.15,932.947 1560.17,936.391 1586.84,936.811 \n",
       "  1613.51,934.438 1640.18,929.311 1666.85,921.513 1694.58,910.712 1722.31,897.354 1750.04,881.678 1777.77,863.962 1824.46,830.414 1871.14,793.674 1928.14,747.182 \n",
       "  1985.14,702.16 2011.93,682.474 2038.72,664.187 2065.5,647.602 2092.29,632.995 2113.75,622.885 2135.21,614.308 2156.67,607.355 2178.13,602.1 2199.59,598.599 \n",
       "  2221.05,596.889 2242.51,596.988 2263.97,598.897 2270.58,599.845 2277.18,600.962 2283.79,602.247 2290.39,603.698 \n",
       "  \"/>\n",
       "<path clip-path=\"url(#clip940)\" d=\"\n",
       "M1982.03 250.738 L2279.3 250.738 L2279.3 95.2176 L1982.03 95.2176  Z\n",
       "  \" fill=\"#ffffff\" fill-rule=\"evenodd\" fill-opacity=\"1\"/>\n",
       "<polyline clip-path=\"url(#clip940)\" style=\"stroke:#000000; stroke-linecap:butt; stroke-linejoin:round; stroke-width:4; stroke-opacity:1; fill:none\" points=\"\n",
       "  1982.03,250.738 2279.3,250.738 2279.3,95.2176 1982.03,95.2176 1982.03,250.738 \n",
       "  \"/>\n",
       "<polyline clip-path=\"url(#clip940)\" style=\"stroke:#009af9; stroke-linecap:butt; stroke-linejoin:round; stroke-width:4; stroke-opacity:1; fill:none\" points=\"\n",
       "  2006.52,147.058 2153.42,147.058 \n",
       "  \"/>\n",
       "<path clip-path=\"url(#clip940)\" d=\"M2191.75 166.745 Q2189.94 171.375 2188.23 172.787 Q2186.52 174.199 2183.65 174.199 L2180.24 174.199 L2180.24 170.634 L2182.74 170.634 Q2184.5 170.634 2185.47 169.8 Q2186.45 168.967 2187.63 165.865 L2188.39 163.921 L2177.91 138.412 L2182.42 138.412 L2190.52 158.689 L2198.62 138.412 L2203.14 138.412 L2191.75 166.745 Z\" fill=\"#000000\" fill-rule=\"evenodd\" fill-opacity=\"1\" /><path clip-path=\"url(#clip940)\" d=\"M2210.43 160.402 L2218.07 160.402 L2218.07 134.037 L2209.76 135.703 L2209.76 131.444 L2218.02 129.778 L2222.7 129.778 L2222.7 160.402 L2230.34 160.402 L2230.34 164.338 L2210.43 164.338 L2210.43 160.402 Z\" fill=\"#000000\" fill-rule=\"evenodd\" fill-opacity=\"1\" /><polyline clip-path=\"url(#clip940)\" style=\"stroke:#e26f46; stroke-linecap:butt; stroke-linejoin:round; stroke-width:4; stroke-opacity:1; fill:none\" points=\"\n",
       "  2006.52,198.898 2153.42,198.898 \n",
       "  \"/>\n",
       "<path clip-path=\"url(#clip940)\" d=\"M2191.75 218.585 Q2189.94 223.215 2188.23 224.627 Q2186.52 226.039 2183.65 226.039 L2180.24 226.039 L2180.24 222.474 L2182.74 222.474 Q2184.5 222.474 2185.47 221.64 Q2186.45 220.807 2187.63 217.705 L2188.39 215.761 L2177.91 190.252 L2182.42 190.252 L2190.52 210.529 L2198.62 190.252 L2203.14 190.252 L2191.75 218.585 Z\" fill=\"#000000\" fill-rule=\"evenodd\" fill-opacity=\"1\" /><path clip-path=\"url(#clip940)\" d=\"M2213.65 212.242 L2229.97 212.242 L2229.97 216.178 L2208.02 216.178 L2208.02 212.242 Q2210.68 209.488 2215.27 204.858 Q2219.87 200.205 2221.05 198.863 Q2223.3 196.34 2224.18 194.604 Q2225.08 192.844 2225.08 191.155 Q2225.08 188.4 2223.14 186.664 Q2221.22 184.928 2218.11 184.928 Q2215.91 184.928 2213.46 185.692 Q2211.03 186.455 2208.25 188.006 L2208.25 183.284 Q2211.08 182.15 2213.53 181.571 Q2215.98 180.993 2218.02 180.993 Q2223.39 180.993 2226.59 183.678 Q2229.78 186.363 2229.78 190.854 Q2229.78 192.983 2228.97 194.905 Q2228.18 196.803 2226.08 199.395 Q2225.5 200.067 2222.4 203.284 Q2219.29 206.479 2213.65 212.242 Z\" fill=\"#000000\" fill-rule=\"evenodd\" fill-opacity=\"1\" /></svg>\n"
      ]
     },
     "execution_count": 16,
     "metadata": {},
     "output_type": "execute_result"
    }
   ],
   "source": [
    "plot([z -> fdstencil(x, z, 2) * u,\n",
    "        z -> -sin(z)]) "
   ]
  },
  {
   "cell_type": "markdown",
   "id": "ef2644e7",
   "metadata": {
    "slideshow": {
     "slide_type": "slide"
    }
   },
   "source": [
    "# High order discretization of the Laplacian\n",
    "## The Poisson problem $-u_{xx} = f$ with boundary conditions"
   ]
  },
  {
   "cell_type": "code",
   "execution_count": 17,
   "id": "c1fd1a46",
   "metadata": {
    "cell_style": "split"
   },
   "outputs": [
    {
     "data": {
      "text/plain": [
       "poisson (generic function with 1 method)"
      ]
     },
     "execution_count": 17,
     "metadata": {},
     "output_type": "execute_result"
    }
   ],
   "source": [
    "function poisson(x, spoints, forcing; left=(0, zero), right=(0, zero))\n",
    "    n = length(x)\n",
    "    L = zeros(n, n)\n",
    "    rhs = forcing.(x)\n",
    "    for i in 2:n-1\n",
    "        jleft = min(max(1, i-spoints÷2), n-spoints+1)\n",
    "        js = jleft : jleft + spoints - 1\n",
    "        L[i, js] = -fdstencil(x[js], x[i], 2)\n",
    "    end\n",
    "    L[1,1:spoints] = fdstencil(x[1:spoints], x[1], left[1])\n",
    "    L[n,n-spoints+1:n] = fdstencil(x[n-spoints+1:n], x[n], right[1])\n",
    "    rhs[1] = left[2](x[1])\n",
    "    rhs[n] = right[2](x[n])\n",
    "    L, rhs\n",
    "end"
   ]
  },
  {
   "cell_type": "code",
   "execution_count": 18,
   "id": "251c9b3c",
   "metadata": {
    "cell_style": "split"
   },
   "outputs": [
    {
     "data": {
      "text/plain": [
       "6×6 Matrix{Float64}:\n",
       " -3.75   5.0   -1.25   0.0           0.0           0.0\n",
       " -6.25  12.5   -6.25   0.0           0.0           0.0\n",
       "  0.0   -6.25  12.5   -6.25          0.0           0.0\n",
       "  0.0    0.0   -6.25  12.5          -6.25          0.0\n",
       "  0.0    0.0    0.0   -6.25         12.5          -6.25\n",
       "  0.0    0.0    0.0    9.25186e-18  -2.31296e-16   1.0"
      ]
     },
     "execution_count": 18,
     "metadata": {},
     "output_type": "execute_result"
    }
   ],
   "source": [
    "L, b = poisson(LinRange(-1, 1, 6), 3, zero, left=(1, zero))\n",
    "L"
   ]
  },
  {
   "cell_type": "markdown",
   "id": "7c8629f2",
   "metadata": {
    "slideshow": {
     "slide_type": "slide"
    }
   },
   "source": [
    "# Method of manufactured solutions"
   ]
  },
  {
   "cell_type": "markdown",
   "id": "401d55dc",
   "metadata": {
    "cell_style": "split"
   },
   "source": [
    "## Problem: analytic solutions to PDEs are hard to find\n",
    "\n",
    "Let's choose a smooth function with rich derivatives,\n",
    "$$ u(x) = \\tanh(x) . $$\n",
    "Then $$ u'(x) = \\cosh^{-2}(x) $$ and $$ u''(x) = -2 \\tanh(x) \\cosh^{-2}(x) . $$\n",
    "\n",
    "* This works for nonlinear too."
   ]
  },
  {
   "cell_type": "code",
   "execution_count": 19,
   "id": "30ec73b8",
   "metadata": {
    "cell_style": "split"
   },
   "outputs": [
    {
     "data": {
      "image/svg+xml": [
       "<?xml version=\"1.0\" encoding=\"utf-8\"?>\n",
       "<svg xmlns=\"http://www.w3.org/2000/svg\" xmlns:xlink=\"http://www.w3.org/1999/xlink\" width=\"600\" height=\"400\" viewBox=\"0 0 2400 1600\">\n",
       "<defs>\n",
       "  <clipPath id=\"clip980\">\n",
       "    <rect x=\"0\" y=\"0\" width=\"2400\" height=\"1600\"/>\n",
       "  </clipPath>\n",
       "</defs>\n",
       "<path clip-path=\"url(#clip980)\" d=\"\n",
       "M0 1600 L2400 1600 L2400 0 L0 0  Z\n",
       "  \" fill=\"#ffffff\" fill-rule=\"evenodd\" fill-opacity=\"1\"/>\n",
       "<defs>\n",
       "  <clipPath id=\"clip981\">\n",
       "    <rect x=\"480\" y=\"0\" width=\"1681\" height=\"1600\"/>\n",
       "  </clipPath>\n",
       "</defs>\n",
       "<path clip-path=\"url(#clip980)\" d=\"\n",
       "M193.936 1486.45 L2352.76 1486.45 L2352.76 47.2441 L193.936 47.2441  Z\n",
       "  \" fill=\"#ffffff\" fill-rule=\"evenodd\" fill-opacity=\"1\"/>\n",
       "<defs>\n",
       "  <clipPath id=\"clip982\">\n",
       "    <rect x=\"193\" y=\"47\" width=\"2160\" height=\"1440\"/>\n",
       "  </clipPath>\n",
       "</defs>\n",
       "<polyline clip-path=\"url(#clip982)\" style=\"stroke:#000000; stroke-linecap:butt; stroke-linejoin:round; stroke-width:2; stroke-opacity:0.1; fill:none\" points=\"\n",
       "  255.035,1486.45 255.035,47.2441 \n",
       "  \"/>\n",
       "<polyline clip-path=\"url(#clip982)\" style=\"stroke:#000000; stroke-linecap:butt; stroke-linejoin:round; stroke-width:2; stroke-opacity:0.1; fill:none\" points=\"\n",
       "  764.19,1486.45 764.19,47.2441 \n",
       "  \"/>\n",
       "<polyline clip-path=\"url(#clip982)\" style=\"stroke:#000000; stroke-linecap:butt; stroke-linejoin:round; stroke-width:2; stroke-opacity:0.1; fill:none\" points=\"\n",
       "  1273.35,1486.45 1273.35,47.2441 \n",
       "  \"/>\n",
       "<polyline clip-path=\"url(#clip982)\" style=\"stroke:#000000; stroke-linecap:butt; stroke-linejoin:round; stroke-width:2; stroke-opacity:0.1; fill:none\" points=\"\n",
       "  1782.5,1486.45 1782.5,47.2441 \n",
       "  \"/>\n",
       "<polyline clip-path=\"url(#clip982)\" style=\"stroke:#000000; stroke-linecap:butt; stroke-linejoin:round; stroke-width:2; stroke-opacity:0.1; fill:none\" points=\"\n",
       "  2291.66,1486.45 2291.66,47.2441 \n",
       "  \"/>\n",
       "<polyline clip-path=\"url(#clip980)\" style=\"stroke:#000000; stroke-linecap:butt; stroke-linejoin:round; stroke-width:4; stroke-opacity:1; fill:none\" points=\"\n",
       "  193.936,1486.45 2352.76,1486.45 \n",
       "  \"/>\n",
       "<polyline clip-path=\"url(#clip980)\" style=\"stroke:#000000; stroke-linecap:butt; stroke-linejoin:round; stroke-width:4; stroke-opacity:1; fill:none\" points=\"\n",
       "  255.035,1486.45 255.035,1467.55 \n",
       "  \"/>\n",
       "<polyline clip-path=\"url(#clip980)\" style=\"stroke:#000000; stroke-linecap:butt; stroke-linejoin:round; stroke-width:4; stroke-opacity:1; fill:none\" points=\"\n",
       "  764.19,1486.45 764.19,1467.55 \n",
       "  \"/>\n",
       "<polyline clip-path=\"url(#clip980)\" style=\"stroke:#000000; stroke-linecap:butt; stroke-linejoin:round; stroke-width:4; stroke-opacity:1; fill:none\" points=\"\n",
       "  1273.35,1486.45 1273.35,1467.55 \n",
       "  \"/>\n",
       "<polyline clip-path=\"url(#clip980)\" style=\"stroke:#000000; stroke-linecap:butt; stroke-linejoin:round; stroke-width:4; stroke-opacity:1; fill:none\" points=\"\n",
       "  1782.5,1486.45 1782.5,1467.55 \n",
       "  \"/>\n",
       "<polyline clip-path=\"url(#clip980)\" style=\"stroke:#000000; stroke-linecap:butt; stroke-linejoin:round; stroke-width:4; stroke-opacity:1; fill:none\" points=\"\n",
       "  2291.66,1486.45 2291.66,1467.55 \n",
       "  \"/>\n",
       "<path clip-path=\"url(#clip980)\" d=\"M224.977 1530.29 L254.653 1530.29 L254.653 1534.23 L224.977 1534.23 L224.977 1530.29 Z\" fill=\"#000000\" fill-rule=\"evenodd\" fill-opacity=\"1\" /><path clip-path=\"url(#clip980)\" d=\"M268.773 1543.18 L285.092 1543.18 L285.092 1547.12 L263.148 1547.12 L263.148 1543.18 Q265.81 1540.43 270.393 1535.8 Q275 1531.15 276.18 1529.81 Q278.426 1527.28 279.305 1525.55 Q280.208 1523.79 280.208 1522.1 Q280.208 1519.34 278.264 1517.61 Q276.342 1515.87 273.241 1515.87 Q271.042 1515.87 268.588 1516.63 Q266.157 1517.4 263.38 1518.95 L263.38 1514.23 Q266.204 1513.09 268.657 1512.51 Q271.111 1511.93 273.148 1511.93 Q278.518 1511.93 281.713 1514.62 Q284.907 1517.31 284.907 1521.8 Q284.907 1523.93 284.097 1525.85 Q283.31 1527.74 281.204 1530.34 Q280.625 1531.01 277.523 1534.23 Q274.421 1537.42 268.773 1543.18 Z\" fill=\"#000000\" fill-rule=\"evenodd\" fill-opacity=\"1\" /><path clip-path=\"url(#clip980)\" d=\"M733.947 1530.29 L763.623 1530.29 L763.623 1534.23 L733.947 1534.23 L733.947 1530.29 Z\" fill=\"#000000\" fill-rule=\"evenodd\" fill-opacity=\"1\" /><path clip-path=\"url(#clip980)\" d=\"M774.526 1543.18 L782.165 1543.18 L782.165 1516.82 L773.855 1518.49 L773.855 1514.23 L782.118 1512.56 L786.794 1512.56 L786.794 1543.18 L794.433 1543.18 L794.433 1547.12 L774.526 1547.12 L774.526 1543.18 Z\" fill=\"#000000\" fill-rule=\"evenodd\" fill-opacity=\"1\" /><path clip-path=\"url(#clip980)\" d=\"M1273.35 1515.64 Q1269.73 1515.64 1267.91 1519.2 Q1266.1 1522.75 1266.1 1529.87 Q1266.1 1536.98 1267.91 1540.55 Q1269.73 1544.09 1273.35 1544.09 Q1276.98 1544.09 1278.79 1540.55 Q1280.61 1536.98 1280.61 1529.87 Q1280.61 1522.75 1278.79 1519.2 Q1276.98 1515.64 1273.35 1515.64 M1273.35 1511.93 Q1279.16 1511.93 1282.21 1516.54 Q1285.29 1521.12 1285.29 1529.87 Q1285.29 1538.6 1282.21 1543.21 Q1279.16 1547.79 1273.35 1547.79 Q1267.54 1547.79 1264.46 1543.21 Q1261.4 1538.6 1261.4 1529.87 Q1261.4 1521.12 1264.46 1516.54 Q1267.54 1511.93 1273.35 1511.93 Z\" fill=\"#000000\" fill-rule=\"evenodd\" fill-opacity=\"1\" /><path clip-path=\"url(#clip980)\" d=\"M1772.88 1543.18 L1780.52 1543.18 L1780.52 1516.82 L1772.21 1518.49 L1772.21 1514.23 L1780.48 1512.56 L1785.15 1512.56 L1785.15 1543.18 L1792.79 1543.18 L1792.79 1547.12 L1772.88 1547.12 L1772.88 1543.18 Z\" fill=\"#000000\" fill-rule=\"evenodd\" fill-opacity=\"1\" /><path clip-path=\"url(#clip980)\" d=\"M2286.31 1543.18 L2302.63 1543.18 L2302.63 1547.12 L2280.69 1547.12 L2280.69 1543.18 Q2283.35 1540.43 2287.93 1535.8 Q2292.54 1531.15 2293.72 1529.81 Q2295.96 1527.28 2296.84 1525.55 Q2297.75 1523.79 2297.75 1522.1 Q2297.75 1519.34 2295.8 1517.61 Q2293.88 1515.87 2290.78 1515.87 Q2288.58 1515.87 2286.12 1516.63 Q2283.69 1517.4 2280.92 1518.95 L2280.92 1514.23 Q2283.74 1513.09 2286.19 1512.51 Q2288.65 1511.93 2290.69 1511.93 Q2296.06 1511.93 2299.25 1514.62 Q2302.44 1517.31 2302.44 1521.8 Q2302.44 1523.93 2301.63 1525.85 Q2300.85 1527.74 2298.74 1530.34 Q2298.16 1531.01 2295.06 1534.23 Q2291.96 1537.42 2286.31 1543.18 Z\" fill=\"#000000\" fill-rule=\"evenodd\" fill-opacity=\"1\" /><polyline clip-path=\"url(#clip982)\" style=\"stroke:#000000; stroke-linecap:butt; stroke-linejoin:round; stroke-width:2; stroke-opacity:0.1; fill:none\" points=\"\n",
       "  193.936,1469.42 2352.76,1469.42 \n",
       "  \"/>\n",
       "<polyline clip-path=\"url(#clip982)\" style=\"stroke:#000000; stroke-linecap:butt; stroke-linejoin:round; stroke-width:2; stroke-opacity:0.1; fill:none\" points=\"\n",
       "  193.936,1139.94 2352.76,1139.94 \n",
       "  \"/>\n",
       "<polyline clip-path=\"url(#clip982)\" style=\"stroke:#000000; stroke-linecap:butt; stroke-linejoin:round; stroke-width:2; stroke-opacity:0.1; fill:none\" points=\"\n",
       "  193.936,810.453 2352.76,810.453 \n",
       "  \"/>\n",
       "<polyline clip-path=\"url(#clip982)\" style=\"stroke:#000000; stroke-linecap:butt; stroke-linejoin:round; stroke-width:2; stroke-opacity:0.1; fill:none\" points=\"\n",
       "  193.936,480.969 2352.76,480.969 \n",
       "  \"/>\n",
       "<polyline clip-path=\"url(#clip982)\" style=\"stroke:#000000; stroke-linecap:butt; stroke-linejoin:round; stroke-width:2; stroke-opacity:0.1; fill:none\" points=\"\n",
       "  193.936,151.485 2352.76,151.485 \n",
       "  \"/>\n",
       "<polyline clip-path=\"url(#clip980)\" style=\"stroke:#000000; stroke-linecap:butt; stroke-linejoin:round; stroke-width:4; stroke-opacity:1; fill:none\" points=\"\n",
       "  193.936,1486.45 193.936,47.2441 \n",
       "  \"/>\n",
       "<polyline clip-path=\"url(#clip980)\" style=\"stroke:#000000; stroke-linecap:butt; stroke-linejoin:round; stroke-width:4; stroke-opacity:1; fill:none\" points=\"\n",
       "  193.936,1469.42 212.834,1469.42 \n",
       "  \"/>\n",
       "<polyline clip-path=\"url(#clip980)\" style=\"stroke:#000000; stroke-linecap:butt; stroke-linejoin:round; stroke-width:4; stroke-opacity:1; fill:none\" points=\"\n",
       "  193.936,1139.94 212.834,1139.94 \n",
       "  \"/>\n",
       "<polyline clip-path=\"url(#clip980)\" style=\"stroke:#000000; stroke-linecap:butt; stroke-linejoin:round; stroke-width:4; stroke-opacity:1; fill:none\" points=\"\n",
       "  193.936,810.453 212.834,810.453 \n",
       "  \"/>\n",
       "<polyline clip-path=\"url(#clip980)\" style=\"stroke:#000000; stroke-linecap:butt; stroke-linejoin:round; stroke-width:4; stroke-opacity:1; fill:none\" points=\"\n",
       "  193.936,480.969 212.834,480.969 \n",
       "  \"/>\n",
       "<polyline clip-path=\"url(#clip980)\" style=\"stroke:#000000; stroke-linecap:butt; stroke-linejoin:round; stroke-width:4; stroke-opacity:1; fill:none\" points=\"\n",
       "  193.936,151.485 212.834,151.485 \n",
       "  \"/>\n",
       "<path clip-path=\"url(#clip980)\" d=\"M50.9921 1469.87 L80.6679 1469.87 L80.6679 1473.81 L50.9921 1473.81 L50.9921 1469.87 Z\" fill=\"#000000\" fill-rule=\"evenodd\" fill-opacity=\"1\" /><path clip-path=\"url(#clip980)\" d=\"M91.5706 1482.77 L99.2095 1482.77 L99.2095 1456.4 L90.8993 1458.07 L90.8993 1453.81 L99.1632 1452.14 L103.839 1452.14 L103.839 1482.77 L111.478 1482.77 L111.478 1486.7 L91.5706 1486.7 L91.5706 1482.77 Z\" fill=\"#000000\" fill-rule=\"evenodd\" fill-opacity=\"1\" /><path clip-path=\"url(#clip980)\" d=\"M120.922 1480.82 L125.807 1480.82 L125.807 1486.7 L120.922 1486.7 L120.922 1480.82 Z\" fill=\"#000000\" fill-rule=\"evenodd\" fill-opacity=\"1\" /><path clip-path=\"url(#clip980)\" d=\"M145.992 1455.22 Q142.381 1455.22 140.552 1458.78 Q138.746 1462.33 138.746 1469.46 Q138.746 1476.56 140.552 1480.13 Q142.381 1483.67 145.992 1483.67 Q149.626 1483.67 151.431 1480.13 Q153.26 1476.56 153.26 1469.46 Q153.26 1462.33 151.431 1458.78 Q149.626 1455.22 145.992 1455.22 M145.992 1451.52 Q151.802 1451.52 154.857 1456.12 Q157.936 1460.71 157.936 1469.46 Q157.936 1478.18 154.857 1482.79 Q151.802 1487.37 145.992 1487.37 Q140.181 1487.37 137.103 1482.79 Q134.047 1478.18 134.047 1469.46 Q134.047 1460.71 137.103 1456.12 Q140.181 1451.52 145.992 1451.52 Z\" fill=\"#000000\" fill-rule=\"evenodd\" fill-opacity=\"1\" /><path clip-path=\"url(#clip980)\" d=\"M51.9875 1140.39 L81.6633 1140.39 L81.6633 1144.32 L51.9875 1144.32 L51.9875 1140.39 Z\" fill=\"#000000\" fill-rule=\"evenodd\" fill-opacity=\"1\" /><path clip-path=\"url(#clip980)\" d=\"M101.756 1125.74 Q98.1447 1125.74 96.316 1129.3 Q94.5104 1132.84 94.5104 1139.97 Q94.5104 1147.08 96.316 1150.64 Q98.1447 1154.18 101.756 1154.18 Q105.39 1154.18 107.196 1150.64 Q109.024 1147.08 109.024 1139.97 Q109.024 1132.84 107.196 1129.3 Q105.39 1125.74 101.756 1125.74 M101.756 1122.03 Q107.566 1122.03 110.621 1126.64 Q113.7 1131.22 113.7 1139.97 Q113.7 1148.7 110.621 1153.3 Q107.566 1157.89 101.756 1157.89 Q95.9456 1157.89 92.8669 1153.3 Q89.8114 1148.7 89.8114 1139.97 Q89.8114 1131.22 92.8669 1126.64 Q95.9456 1122.03 101.756 1122.03 Z\" fill=\"#000000\" fill-rule=\"evenodd\" fill-opacity=\"1\" /><path clip-path=\"url(#clip980)\" d=\"M121.918 1151.34 L126.802 1151.34 L126.802 1157.22 L121.918 1157.22 L121.918 1151.34 Z\" fill=\"#000000\" fill-rule=\"evenodd\" fill-opacity=\"1\" /><path clip-path=\"url(#clip980)\" d=\"M137.033 1122.66 L155.39 1122.66 L155.39 1126.59 L141.316 1126.59 L141.316 1135.06 Q142.334 1134.72 143.353 1134.55 Q144.371 1134.37 145.39 1134.37 Q151.177 1134.37 154.556 1137.54 Q157.936 1140.71 157.936 1146.13 Q157.936 1151.71 154.464 1154.81 Q150.992 1157.89 144.672 1157.89 Q142.496 1157.89 140.228 1157.52 Q137.982 1157.15 135.575 1156.41 L135.575 1151.71 Q137.658 1152.84 139.881 1153.4 Q142.103 1153.95 144.58 1153.95 Q148.584 1153.95 150.922 1151.85 Q153.26 1149.74 153.26 1146.13 Q153.26 1142.52 150.922 1140.41 Q148.584 1138.3 144.58 1138.3 Q142.705 1138.3 140.83 1138.72 Q138.978 1139.14 137.033 1140.02 L137.033 1122.66 Z\" fill=\"#000000\" fill-rule=\"evenodd\" fill-opacity=\"1\" /><path clip-path=\"url(#clip980)\" d=\"M100.76 796.251 Q97.1493 796.251 95.3206 799.816 Q93.515 803.358 93.515 810.487 Q93.515 817.594 95.3206 821.158 Q97.1493 824.7 100.76 824.7 Q104.395 824.7 106.2 821.158 Q108.029 817.594 108.029 810.487 Q108.029 803.358 106.2 799.816 Q104.395 796.251 100.76 796.251 M100.76 792.548 Q106.571 792.548 109.626 797.154 Q112.705 801.737 112.705 810.487 Q112.705 819.214 109.626 823.821 Q106.571 828.404 100.76 828.404 Q94.9502 828.404 91.8715 823.821 Q88.816 819.214 88.816 810.487 Q88.816 801.737 91.8715 797.154 Q94.9502 792.548 100.76 792.548 Z\" fill=\"#000000\" fill-rule=\"evenodd\" fill-opacity=\"1\" /><path clip-path=\"url(#clip980)\" d=\"M120.922 821.853 L125.807 821.853 L125.807 827.733 L120.922 827.733 L120.922 821.853 Z\" fill=\"#000000\" fill-rule=\"evenodd\" fill-opacity=\"1\" /><path clip-path=\"url(#clip980)\" d=\"M145.992 796.251 Q142.381 796.251 140.552 799.816 Q138.746 803.358 138.746 810.487 Q138.746 817.594 140.552 821.158 Q142.381 824.7 145.992 824.7 Q149.626 824.7 151.431 821.158 Q153.26 817.594 153.26 810.487 Q153.26 803.358 151.431 799.816 Q149.626 796.251 145.992 796.251 M145.992 792.548 Q151.802 792.548 154.857 797.154 Q157.936 801.737 157.936 810.487 Q157.936 819.214 154.857 823.821 Q151.802 828.404 145.992 828.404 Q140.181 828.404 137.103 823.821 Q134.047 819.214 134.047 810.487 Q134.047 801.737 137.103 797.154 Q140.181 792.548 145.992 792.548 Z\" fill=\"#000000\" fill-rule=\"evenodd\" fill-opacity=\"1\" /><path clip-path=\"url(#clip980)\" d=\"M101.756 466.767 Q98.1447 466.767 96.316 470.332 Q94.5104 473.874 94.5104 481.003 Q94.5104 488.11 96.316 491.675 Q98.1447 495.216 101.756 495.216 Q105.39 495.216 107.196 491.675 Q109.024 488.11 109.024 481.003 Q109.024 473.874 107.196 470.332 Q105.39 466.767 101.756 466.767 M101.756 463.064 Q107.566 463.064 110.621 467.67 Q113.7 472.253 113.7 481.003 Q113.7 489.73 110.621 494.337 Q107.566 498.92 101.756 498.92 Q95.9456 498.92 92.8669 494.337 Q89.8114 489.73 89.8114 481.003 Q89.8114 472.253 92.8669 467.67 Q95.9456 463.064 101.756 463.064 Z\" fill=\"#000000\" fill-rule=\"evenodd\" fill-opacity=\"1\" /><path clip-path=\"url(#clip980)\" d=\"M121.918 492.369 L126.802 492.369 L126.802 498.249 L121.918 498.249 L121.918 492.369 Z\" fill=\"#000000\" fill-rule=\"evenodd\" fill-opacity=\"1\" /><path clip-path=\"url(#clip980)\" d=\"M137.033 463.689 L155.39 463.689 L155.39 467.624 L141.316 467.624 L141.316 476.096 Q142.334 475.749 143.353 475.587 Q144.371 475.402 145.39 475.402 Q151.177 475.402 154.556 478.573 Q157.936 481.744 157.936 487.161 Q157.936 492.739 154.464 495.841 Q150.992 498.92 144.672 498.92 Q142.496 498.92 140.228 498.55 Q137.982 498.179 135.575 497.438 L135.575 492.739 Q137.658 493.874 139.881 494.429 Q142.103 494.985 144.58 494.985 Q148.584 494.985 150.922 492.878 Q153.26 490.772 153.26 487.161 Q153.26 483.55 150.922 481.443 Q148.584 479.337 144.58 479.337 Q142.705 479.337 140.83 479.753 Q138.978 480.17 137.033 481.05 L137.033 463.689 Z\" fill=\"#000000\" fill-rule=\"evenodd\" fill-opacity=\"1\" /><path clip-path=\"url(#clip980)\" d=\"M91.5706 164.83 L99.2095 164.83 L99.2095 138.464 L90.8993 140.131 L90.8993 135.871 L99.1632 134.205 L103.839 134.205 L103.839 164.83 L111.478 164.83 L111.478 168.765 L91.5706 168.765 L91.5706 164.83 Z\" fill=\"#000000\" fill-rule=\"evenodd\" fill-opacity=\"1\" /><path clip-path=\"url(#clip980)\" d=\"M120.922 162.885 L125.807 162.885 L125.807 168.765 L120.922 168.765 L120.922 162.885 Z\" fill=\"#000000\" fill-rule=\"evenodd\" fill-opacity=\"1\" /><path clip-path=\"url(#clip980)\" d=\"M145.992 137.283 Q142.381 137.283 140.552 140.848 Q138.746 144.39 138.746 151.519 Q138.746 158.626 140.552 162.191 Q142.381 165.732 145.992 165.732 Q149.626 165.732 151.431 162.191 Q153.26 158.626 153.26 151.519 Q153.26 144.39 151.431 140.848 Q149.626 137.283 145.992 137.283 M145.992 133.58 Q151.802 133.58 154.857 138.186 Q157.936 142.769 157.936 151.519 Q157.936 160.246 154.857 164.853 Q151.802 169.436 145.992 169.436 Q140.181 169.436 137.103 164.853 Q134.047 160.246 134.047 151.519 Q134.047 142.769 137.103 138.186 Q140.181 133.58 145.992 133.58 Z\" fill=\"#000000\" fill-rule=\"evenodd\" fill-opacity=\"1\" /><polyline clip-path=\"url(#clip982)\" style=\"stroke:#009af9; stroke-linecap:butt; stroke-linejoin:round; stroke-width:4; stroke-opacity:1; fill:none\" points=\"\n",
       "  255.035,1445.72 481.326,1405.58 707.617,1326.55 933.909,1173.62 1160.2,920.503 1386.49,613.189 1612.78,360.073 1839.07,207.145 2065.37,128.114 2291.66,87.9763 \n",
       "  \n",
       "  \"/>\n",
       "<circle clip-path=\"url(#clip982)\" cx=\"255.035\" cy=\"1445.72\" r=\"14\" fill=\"#009af9\" fill-rule=\"evenodd\" fill-opacity=\"1\" stroke=\"#000000\" stroke-opacity=\"1\" stroke-width=\"3.2\"/>\n",
       "<circle clip-path=\"url(#clip982)\" cx=\"481.326\" cy=\"1405.58\" r=\"14\" fill=\"#009af9\" fill-rule=\"evenodd\" fill-opacity=\"1\" stroke=\"#000000\" stroke-opacity=\"1\" stroke-width=\"3.2\"/>\n",
       "<circle clip-path=\"url(#clip982)\" cx=\"707.617\" cy=\"1326.55\" r=\"14\" fill=\"#009af9\" fill-rule=\"evenodd\" fill-opacity=\"1\" stroke=\"#000000\" stroke-opacity=\"1\" stroke-width=\"3.2\"/>\n",
       "<circle clip-path=\"url(#clip982)\" cx=\"933.909\" cy=\"1173.62\" r=\"14\" fill=\"#009af9\" fill-rule=\"evenodd\" fill-opacity=\"1\" stroke=\"#000000\" stroke-opacity=\"1\" stroke-width=\"3.2\"/>\n",
       "<circle clip-path=\"url(#clip982)\" cx=\"1160.2\" cy=\"920.503\" r=\"14\" fill=\"#009af9\" fill-rule=\"evenodd\" fill-opacity=\"1\" stroke=\"#000000\" stroke-opacity=\"1\" stroke-width=\"3.2\"/>\n",
       "<circle clip-path=\"url(#clip982)\" cx=\"1386.49\" cy=\"613.189\" r=\"14\" fill=\"#009af9\" fill-rule=\"evenodd\" fill-opacity=\"1\" stroke=\"#000000\" stroke-opacity=\"1\" stroke-width=\"3.2\"/>\n",
       "<circle clip-path=\"url(#clip982)\" cx=\"1612.78\" cy=\"360.073\" r=\"14\" fill=\"#009af9\" fill-rule=\"evenodd\" fill-opacity=\"1\" stroke=\"#000000\" stroke-opacity=\"1\" stroke-width=\"3.2\"/>\n",
       "<circle clip-path=\"url(#clip982)\" cx=\"1839.07\" cy=\"207.145\" r=\"14\" fill=\"#009af9\" fill-rule=\"evenodd\" fill-opacity=\"1\" stroke=\"#000000\" stroke-opacity=\"1\" stroke-width=\"3.2\"/>\n",
       "<circle clip-path=\"url(#clip982)\" cx=\"2065.37\" cy=\"128.114\" r=\"14\" fill=\"#009af9\" fill-rule=\"evenodd\" fill-opacity=\"1\" stroke=\"#000000\" stroke-opacity=\"1\" stroke-width=\"3.2\"/>\n",
       "<circle clip-path=\"url(#clip982)\" cx=\"2291.66\" cy=\"87.9763\" r=\"14\" fill=\"#009af9\" fill-rule=\"evenodd\" fill-opacity=\"1\" stroke=\"#000000\" stroke-opacity=\"1\" stroke-width=\"3.2\"/>\n",
       "<polyline clip-path=\"url(#clip982)\" style=\"stroke:#e26f46; stroke-linecap:butt; stroke-linejoin:round; stroke-width:4; stroke-opacity:1; fill:none\" points=\"\n",
       "  255.035,1445.72 274.924,1443.83 458.829,1417.78 569.348,1391.37 662.791,1359.63 764.296,1312.26 857.875,1253.86 908.038,1215.95 958.201,1173.15 1016.32,1117.46 \n",
       "  1074.44,1055.54 1177.74,932.759 1268.32,816.957 1367.08,690.49 1466.43,571.887 1521.35,512.665 1576.27,458.928 1628.52,413.206 1680.78,372.795 1735.11,336.224 \n",
       "  1789.45,304.851 1835.18,282.13 1880.92,262.455 1992.6,225.254 2097.58,201.267 2265.77,177.676 2291.66,175.189 \n",
       "  \"/>\n",
       "<path clip-path=\"url(#clip980)\" d=\"\n",
       "M265.897 250.738 L558.196 250.738 L558.196 95.2176 L265.897 95.2176  Z\n",
       "  \" fill=\"#ffffff\" fill-rule=\"evenodd\" fill-opacity=\"1\"/>\n",
       "<polyline clip-path=\"url(#clip980)\" style=\"stroke:#000000; stroke-linecap:butt; stroke-linejoin:round; stroke-width:4; stroke-opacity:1; fill:none\" points=\"\n",
       "  265.897,250.738 558.196,250.738 558.196,95.2176 265.897,95.2176 265.897,250.738 \n",
       "  \"/>\n",
       "<polyline clip-path=\"url(#clip980)\" style=\"stroke:#009af9; stroke-linecap:butt; stroke-linejoin:round; stroke-width:4; stroke-opacity:1; fill:none\" points=\"\n",
       "  289.884,147.058 433.805,147.058 \n",
       "  \"/>\n",
       "<circle clip-path=\"url(#clip980)\" cx=\"361.844\" cy=\"147.058\" r=\"23\" fill=\"#009af9\" fill-rule=\"evenodd\" fill-opacity=\"1\" stroke=\"#000000\" stroke-opacity=\"1\" stroke-width=\"5.12\"/>\n",
       "<path clip-path=\"url(#clip980)\" d=\"M471.634 166.745 Q469.829 171.375 468.116 172.787 Q466.403 174.199 463.532 174.199 L460.13 174.199 L460.13 170.634 L462.63 170.634 Q464.389 170.634 465.361 169.8 Q466.333 168.967 467.514 165.865 L468.278 163.921 L457.792 138.412 L462.306 138.412 L470.407 158.689 L478.509 138.412 L483.023 138.412 L471.634 166.745 Z\" fill=\"#000000\" fill-rule=\"evenodd\" fill-opacity=\"1\" /><path clip-path=\"url(#clip980)\" d=\"M490.315 160.402 L497.954 160.402 L497.954 134.037 L489.643 135.703 L489.643 131.444 L497.907 129.778 L502.583 129.778 L502.583 160.402 L510.222 160.402 L510.222 164.338 L490.315 164.338 L490.315 160.402 Z\" fill=\"#000000\" fill-rule=\"evenodd\" fill-opacity=\"1\" /><polyline clip-path=\"url(#clip980)\" style=\"stroke:#e26f46; stroke-linecap:butt; stroke-linejoin:round; stroke-width:4; stroke-opacity:1; fill:none\" points=\"\n",
       "  289.884,198.898 433.805,198.898 \n",
       "  \"/>\n",
       "<path clip-path=\"url(#clip980)\" d=\"M471.634 218.585 Q469.829 223.215 468.116 224.627 Q466.403 226.039 463.532 226.039 L460.13 226.039 L460.13 222.474 L462.63 222.474 Q464.389 222.474 465.361 221.64 Q466.333 220.807 467.514 217.705 L468.278 215.761 L457.792 190.252 L462.306 190.252 L470.407 210.529 L478.509 190.252 L483.023 190.252 L471.634 218.585 Z\" fill=\"#000000\" fill-rule=\"evenodd\" fill-opacity=\"1\" /><path clip-path=\"url(#clip980)\" d=\"M493.532 212.242 L509.852 212.242 L509.852 216.178 L487.907 216.178 L487.907 212.242 Q490.569 209.488 495.153 204.858 Q499.759 200.205 500.94 198.863 Q503.185 196.34 504.065 194.604 Q504.967 192.844 504.967 191.155 Q504.967 188.4 503.023 186.664 Q501.102 184.928 498 184.928 Q495.801 184.928 493.347 185.692 Q490.917 186.455 488.139 188.006 L488.139 183.284 Q490.963 182.15 493.417 181.571 Q495.87 180.993 497.907 180.993 Q503.278 180.993 506.472 183.678 Q509.666 186.363 509.666 190.854 Q509.666 192.983 508.856 194.905 Q508.069 196.803 505.963 199.395 Q505.384 200.067 502.282 203.284 Q499.18 206.479 493.532 212.242 Z\" fill=\"#000000\" fill-rule=\"evenodd\" fill-opacity=\"1\" /></svg>\n"
      ]
     },
     "execution_count": 19,
     "metadata": {},
     "output_type": "execute_result"
    }
   ],
   "source": [
    "x = LinRange(-2, 2, 10)\n",
    "L, rhs = poisson(x, 3,\n",
    "    x -> 2 * tanh(x) / cosh(x)^2,\n",
    "    left=(0, tanh), \n",
    "    right=(1, x -> cosh(x)^-2))\n",
    "u = L \\ rhs\n",
    "plot(x, u, marker=:circle, legend=:topleft)\n",
    "plot!(tanh)"
   ]
  },
  {
   "cell_type": "markdown",
   "id": "4aa51558",
   "metadata": {
    "slideshow": {
     "slide_type": "slide"
    }
   },
   "source": [
    "# Convergence rate"
   ]
  },
  {
   "cell_type": "code",
   "execution_count": 20,
   "id": "31cd5056",
   "metadata": {
    "cell_style": "split"
   },
   "outputs": [
    {
     "data": {
      "text/plain": [
       "poisson_error (generic function with 1 method)"
      ]
     },
     "execution_count": 20,
     "metadata": {},
     "output_type": "execute_result"
    }
   ],
   "source": [
    "ns = 2 .^ (2:10)\n",
    "hs = 1 ./ ns\n",
    "function poisson_error(n)\n",
    "    x = LinRange(-2, 2, n)\n",
    "    L, rhs = poisson(x, 3, x -> 2 * tanh(x) / cosh(x)^2,\n",
    "        left = (0, tanh),\n",
    "        right = (1, x -> cosh(x)^-2))\n",
    "    u = L \\ rhs\n",
    "    norm(u - tanh.(x), Inf)\n",
    "end"
   ]
  },
  {
   "cell_type": "code",
   "execution_count": 23,
   "id": "c7eea2b7",
   "metadata": {
    "cell_style": "split"
   },
   "outputs": [
    {
     "data": {
      "image/svg+xml": [
       "<?xml version=\"1.0\" encoding=\"utf-8\"?>\n",
       "<svg xmlns=\"http://www.w3.org/2000/svg\" xmlns:xlink=\"http://www.w3.org/1999/xlink\" width=\"600\" height=\"400\" viewBox=\"0 0 2400 1600\">\n",
       "<defs>\n",
       "  <clipPath id=\"clip020\">\n",
       "    <rect x=\"0\" y=\"0\" width=\"2400\" height=\"1600\"/>\n",
       "  </clipPath>\n",
       "</defs>\n",
       "<path clip-path=\"url(#clip020)\" d=\"\n",
       "M0 1600 L2400 1600 L2400 0 L0 0  Z\n",
       "  \" fill=\"#ffffff\" fill-rule=\"evenodd\" fill-opacity=\"1\"/>\n",
       "<defs>\n",
       "  <clipPath id=\"clip021\">\n",
       "    <rect x=\"480\" y=\"0\" width=\"1681\" height=\"1600\"/>\n",
       "  </clipPath>\n",
       "</defs>\n",
       "<path clip-path=\"url(#clip020)\" d=\"\n",
       "M189.496 1474.16 L2352.76 1474.16 L2352.76 47.2441 L189.496 47.2441  Z\n",
       "  \" fill=\"#ffffff\" fill-rule=\"evenodd\" fill-opacity=\"1\"/>\n",
       "<defs>\n",
       "  <clipPath id=\"clip022\">\n",
       "    <rect x=\"189\" y=\"47\" width=\"2164\" height=\"1428\"/>\n",
       "  </clipPath>\n",
       "</defs>\n",
       "<polyline clip-path=\"url(#clip022)\" style=\"stroke:#000000; stroke-linecap:butt; stroke-linejoin:round; stroke-width:2; stroke-opacity:0.1; fill:none\" points=\"\n",
       "  259.449,1474.16 259.449,47.2441 \n",
       "  \"/>\n",
       "<polyline clip-path=\"url(#clip022)\" style=\"stroke:#000000; stroke-linecap:butt; stroke-linejoin:round; stroke-width:2; stroke-opacity:0.1; fill:none\" points=\"\n",
       "  1106.88,1474.16 1106.88,47.2441 \n",
       "  \"/>\n",
       "<polyline clip-path=\"url(#clip022)\" style=\"stroke:#000000; stroke-linecap:butt; stroke-linejoin:round; stroke-width:2; stroke-opacity:0.1; fill:none\" points=\"\n",
       "  1954.31,1474.16 1954.31,47.2441 \n",
       "  \"/>\n",
       "<polyline clip-path=\"url(#clip020)\" style=\"stroke:#000000; stroke-linecap:butt; stroke-linejoin:round; stroke-width:4; stroke-opacity:1; fill:none\" points=\"\n",
       "  189.496,1474.16 2352.76,1474.16 \n",
       "  \"/>\n",
       "<polyline clip-path=\"url(#clip020)\" style=\"stroke:#000000; stroke-linecap:butt; stroke-linejoin:round; stroke-width:4; stroke-opacity:1; fill:none\" points=\"\n",
       "  259.449,1474.16 259.449,1455.27 \n",
       "  \"/>\n",
       "<polyline clip-path=\"url(#clip020)\" style=\"stroke:#000000; stroke-linecap:butt; stroke-linejoin:round; stroke-width:4; stroke-opacity:1; fill:none\" points=\"\n",
       "  1106.88,1474.16 1106.88,1455.27 \n",
       "  \"/>\n",
       "<polyline clip-path=\"url(#clip020)\" style=\"stroke:#000000; stroke-linecap:butt; stroke-linejoin:round; stroke-width:4; stroke-opacity:1; fill:none\" points=\"\n",
       "  1954.31,1474.16 1954.31,1455.27 \n",
       "  \"/>\n",
       "<path clip-path=\"url(#clip020)\" d=\"M209.329 1552.44 L216.968 1552.44 L216.968 1526.07 L208.658 1527.74 L208.658 1523.48 L216.921 1521.81 L221.597 1521.81 L221.597 1552.44 L229.236 1552.44 L229.236 1556.37 L209.329 1556.37 L209.329 1552.44 Z\" fill=\"#000000\" fill-rule=\"evenodd\" fill-opacity=\"1\" /><path clip-path=\"url(#clip020)\" d=\"M248.681 1524.89 Q245.069 1524.89 243.241 1528.46 Q241.435 1532 241.435 1539.13 Q241.435 1546.23 243.241 1549.8 Q245.069 1553.34 248.681 1553.34 Q252.315 1553.34 254.12 1549.8 Q255.949 1546.23 255.949 1539.13 Q255.949 1532 254.12 1528.46 Q252.315 1524.89 248.681 1524.89 M248.681 1521.19 Q254.491 1521.19 257.546 1525.79 Q260.625 1530.38 260.625 1539.13 Q260.625 1547.85 257.546 1552.46 Q254.491 1557.04 248.681 1557.04 Q242.87 1557.04 239.792 1552.46 Q236.736 1547.85 236.736 1539.13 Q236.736 1530.38 239.792 1525.79 Q242.87 1521.19 248.681 1521.19 Z\" fill=\"#000000\" fill-rule=\"evenodd\" fill-opacity=\"1\" /><path clip-path=\"url(#clip020)\" d=\"M260.625 1515.29 L284.737 1515.29 L284.737 1518.49 L260.625 1518.49 L260.625 1515.29 Z\" fill=\"#000000\" fill-rule=\"evenodd\" fill-opacity=\"1\" /><path clip-path=\"url(#clip020)\" d=\"M304.447 1513.82 Q307.174 1514.4 308.698 1516.25 Q310.24 1518.09 310.24 1520.8 Q310.24 1524.96 307.381 1527.23 Q304.522 1529.51 299.256 1529.51 Q297.488 1529.51 295.607 1529.15 Q293.745 1528.81 291.752 1528.12 L291.752 1524.45 Q293.332 1525.37 295.212 1525.84 Q297.093 1526.31 299.143 1526.31 Q302.717 1526.31 304.579 1524.9 Q306.459 1523.49 306.459 1520.8 Q306.459 1518.32 304.71 1516.92 Q302.98 1515.51 299.877 1515.51 L296.604 1515.51 L296.604 1512.39 L300.027 1512.39 Q302.83 1512.39 304.315 1511.28 Q305.801 1510.15 305.801 1508.05 Q305.801 1505.88 304.259 1504.74 Q302.736 1503.57 299.877 1503.57 Q298.316 1503.57 296.529 1503.91 Q294.742 1504.25 292.598 1504.96 L292.598 1501.58 Q294.761 1500.98 296.642 1500.67 Q298.541 1500.37 300.215 1500.37 Q304.541 1500.37 307.061 1502.35 Q309.582 1504.3 309.582 1507.65 Q309.582 1509.98 308.246 1511.6 Q306.911 1513.2 304.447 1513.82 Z\" fill=\"#000000\" fill-rule=\"evenodd\" fill-opacity=\"1\" /><path clip-path=\"url(#clip020)\" d=\"M1057.14 1552.44 L1064.78 1552.44 L1064.78 1526.07 L1056.47 1527.74 L1056.47 1523.48 L1064.74 1521.81 L1069.41 1521.81 L1069.41 1552.44 L1077.05 1552.44 L1077.05 1556.37 L1057.14 1556.37 L1057.14 1552.44 Z\" fill=\"#000000\" fill-rule=\"evenodd\" fill-opacity=\"1\" /><path clip-path=\"url(#clip020)\" d=\"M1096.49 1524.89 Q1092.88 1524.89 1091.05 1528.46 Q1089.25 1532 1089.25 1539.13 Q1089.25 1546.23 1091.05 1549.8 Q1092.88 1553.34 1096.49 1553.34 Q1100.13 1553.34 1101.93 1549.8 Q1103.76 1546.23 1103.76 1539.13 Q1103.76 1532 1101.93 1528.46 Q1100.13 1524.89 1096.49 1524.89 M1096.49 1521.19 Q1102.3 1521.19 1105.36 1525.79 Q1108.44 1530.38 1108.44 1539.13 Q1108.44 1547.85 1105.36 1552.46 Q1102.3 1557.04 1096.49 1557.04 Q1090.68 1557.04 1087.61 1552.46 Q1084.55 1547.85 1084.55 1539.13 Q1084.55 1530.38 1087.61 1525.79 Q1090.68 1521.19 1096.49 1521.19 Z\" fill=\"#000000\" fill-rule=\"evenodd\" fill-opacity=\"1\" /><path clip-path=\"url(#clip020)\" d=\"M1108.44 1515.29 L1132.55 1515.29 L1132.55 1518.49 L1108.44 1518.49 L1108.44 1515.29 Z\" fill=\"#000000\" fill-rule=\"evenodd\" fill-opacity=\"1\" /><path clip-path=\"url(#clip020)\" d=\"M1144.02 1525.76 L1157.28 1525.76 L1157.28 1528.96 L1139.45 1528.96 L1139.45 1525.76 Q1141.62 1523.53 1145.34 1519.76 Q1149.08 1515.98 1150.04 1514.89 Q1151.87 1512.84 1152.58 1511.43 Q1153.31 1510 1153.31 1508.63 Q1153.31 1506.39 1151.73 1504.98 Q1150.17 1503.57 1147.65 1503.57 Q1145.87 1503.57 1143.87 1504.19 Q1141.9 1504.81 1139.64 1506.07 L1139.64 1502.24 Q1141.94 1501.31 1143.93 1500.84 Q1145.92 1500.37 1147.58 1500.37 Q1151.94 1500.37 1154.54 1502.56 Q1157.13 1504.74 1157.13 1508.39 Q1157.13 1510.12 1156.47 1511.68 Q1155.83 1513.22 1154.12 1515.33 Q1153.65 1515.87 1151.13 1518.49 Q1148.61 1521.08 1144.02 1525.76 Z\" fill=\"#000000\" fill-rule=\"evenodd\" fill-opacity=\"1\" /><path clip-path=\"url(#clip020)\" d=\"M1904.42 1552.44 L1912.06 1552.44 L1912.06 1526.07 L1903.75 1527.74 L1903.75 1523.48 L1912.01 1521.81 L1916.69 1521.81 L1916.69 1552.44 L1924.33 1552.44 L1924.33 1556.37 L1904.42 1556.37 L1904.42 1552.44 Z\" fill=\"#000000\" fill-rule=\"evenodd\" fill-opacity=\"1\" /><path clip-path=\"url(#clip020)\" d=\"M1943.77 1524.89 Q1940.16 1524.89 1938.33 1528.46 Q1936.53 1532 1936.53 1539.13 Q1936.53 1546.23 1938.33 1549.8 Q1940.16 1553.34 1943.77 1553.34 Q1947.41 1553.34 1949.21 1549.8 Q1951.04 1546.23 1951.04 1539.13 Q1951.04 1532 1949.21 1528.46 Q1947.41 1524.89 1943.77 1524.89 M1943.77 1521.19 Q1949.58 1521.19 1952.64 1525.79 Q1955.72 1530.38 1955.72 1539.13 Q1955.72 1547.85 1952.64 1552.46 Q1949.58 1557.04 1943.77 1557.04 Q1937.96 1557.04 1934.88 1552.46 Q1931.83 1547.85 1931.83 1539.13 Q1931.83 1530.38 1934.88 1525.79 Q1937.96 1521.19 1943.77 1521.19 Z\" fill=\"#000000\" fill-rule=\"evenodd\" fill-opacity=\"1\" /><path clip-path=\"url(#clip020)\" d=\"M1955.72 1515.29 L1979.83 1515.29 L1979.83 1518.49 L1955.72 1518.49 L1955.72 1515.29 Z\" fill=\"#000000\" fill-rule=\"evenodd\" fill-opacity=\"1\" /><path clip-path=\"url(#clip020)\" d=\"M1988.69 1525.76 L1994.89 1525.76 L1994.89 1504.34 L1988.14 1505.7 L1988.14 1502.24 L1994.86 1500.88 L1998.66 1500.88 L1998.66 1525.76 L2004.86 1525.76 L2004.86 1528.96 L1988.69 1528.96 L1988.69 1525.76 Z\" fill=\"#000000\" fill-rule=\"evenodd\" fill-opacity=\"1\" /><polyline clip-path=\"url(#clip022)\" style=\"stroke:#000000; stroke-linecap:butt; stroke-linejoin:round; stroke-width:2; stroke-opacity:0.1; fill:none\" points=\"\n",
       "  189.496,1429.36 2352.76,1429.36 \n",
       "  \"/>\n",
       "<polyline clip-path=\"url(#clip022)\" style=\"stroke:#000000; stroke-linecap:butt; stroke-linejoin:round; stroke-width:2; stroke-opacity:0.1; fill:none\" points=\"\n",
       "  189.496,1214.66 2352.76,1214.66 \n",
       "  \"/>\n",
       "<polyline clip-path=\"url(#clip022)\" style=\"stroke:#000000; stroke-linecap:butt; stroke-linejoin:round; stroke-width:2; stroke-opacity:0.1; fill:none\" points=\"\n",
       "  189.496,999.956 2352.76,999.956 \n",
       "  \"/>\n",
       "<polyline clip-path=\"url(#clip022)\" style=\"stroke:#000000; stroke-linecap:butt; stroke-linejoin:round; stroke-width:2; stroke-opacity:0.1; fill:none\" points=\"\n",
       "  189.496,785.256 2352.76,785.256 \n",
       "  \"/>\n",
       "<polyline clip-path=\"url(#clip022)\" style=\"stroke:#000000; stroke-linecap:butt; stroke-linejoin:round; stroke-width:2; stroke-opacity:0.1; fill:none\" points=\"\n",
       "  189.496,570.555 2352.76,570.555 \n",
       "  \"/>\n",
       "<polyline clip-path=\"url(#clip022)\" style=\"stroke:#000000; stroke-linecap:butt; stroke-linejoin:round; stroke-width:2; stroke-opacity:0.1; fill:none\" points=\"\n",
       "  189.496,355.855 2352.76,355.855 \n",
       "  \"/>\n",
       "<polyline clip-path=\"url(#clip022)\" style=\"stroke:#000000; stroke-linecap:butt; stroke-linejoin:round; stroke-width:2; stroke-opacity:0.1; fill:none\" points=\"\n",
       "  189.496,141.154 2352.76,141.154 \n",
       "  \"/>\n",
       "<polyline clip-path=\"url(#clip020)\" style=\"stroke:#000000; stroke-linecap:butt; stroke-linejoin:round; stroke-width:4; stroke-opacity:1; fill:none\" points=\"\n",
       "  189.496,1474.16 189.496,47.2441 \n",
       "  \"/>\n",
       "<polyline clip-path=\"url(#clip020)\" style=\"stroke:#000000; stroke-linecap:butt; stroke-linejoin:round; stroke-width:4; stroke-opacity:1; fill:none\" points=\"\n",
       "  189.496,1429.36 208.394,1429.36 \n",
       "  \"/>\n",
       "<polyline clip-path=\"url(#clip020)\" style=\"stroke:#000000; stroke-linecap:butt; stroke-linejoin:round; stroke-width:4; stroke-opacity:1; fill:none\" points=\"\n",
       "  189.496,1214.66 208.394,1214.66 \n",
       "  \"/>\n",
       "<polyline clip-path=\"url(#clip020)\" style=\"stroke:#000000; stroke-linecap:butt; stroke-linejoin:round; stroke-width:4; stroke-opacity:1; fill:none\" points=\"\n",
       "  189.496,999.956 208.394,999.956 \n",
       "  \"/>\n",
       "<polyline clip-path=\"url(#clip020)\" style=\"stroke:#000000; stroke-linecap:butt; stroke-linejoin:round; stroke-width:4; stroke-opacity:1; fill:none\" points=\"\n",
       "  189.496,785.256 208.394,785.256 \n",
       "  \"/>\n",
       "<polyline clip-path=\"url(#clip020)\" style=\"stroke:#000000; stroke-linecap:butt; stroke-linejoin:round; stroke-width:4; stroke-opacity:1; fill:none\" points=\"\n",
       "  189.496,570.555 208.394,570.555 \n",
       "  \"/>\n",
       "<polyline clip-path=\"url(#clip020)\" style=\"stroke:#000000; stroke-linecap:butt; stroke-linejoin:round; stroke-width:4; stroke-opacity:1; fill:none\" points=\"\n",
       "  189.496,355.855 208.394,355.855 \n",
       "  \"/>\n",
       "<polyline clip-path=\"url(#clip020)\" style=\"stroke:#000000; stroke-linecap:butt; stroke-linejoin:round; stroke-width:4; stroke-opacity:1; fill:none\" points=\"\n",
       "  189.496,141.154 208.394,141.154 \n",
       "  \"/>\n",
       "<path clip-path=\"url(#clip020)\" d=\"M51.9267 1449.15 L59.5656 1449.15 L59.5656 1422.78 L51.2554 1424.45 L51.2554 1420.19 L59.5193 1418.52 L64.1952 1418.52 L64.1952 1449.15 L71.834 1449.15 L71.834 1453.08 L51.9267 1453.08 L51.9267 1449.15 Z\" fill=\"#000000\" fill-rule=\"evenodd\" fill-opacity=\"1\" /><path clip-path=\"url(#clip020)\" d=\"M91.2784 1421.6 Q87.6673 1421.6 85.8386 1425.17 Q84.033 1428.71 84.033 1435.84 Q84.033 1442.95 85.8386 1446.51 Q87.6673 1450.05 91.2784 1450.05 Q94.9126 1450.05 96.7182 1446.51 Q98.5468 1442.95 98.5468 1435.84 Q98.5468 1428.71 96.7182 1425.17 Q94.9126 1421.6 91.2784 1421.6 M91.2784 1417.9 Q97.0885 1417.9 100.144 1422.51 Q103.223 1427.09 103.223 1435.84 Q103.223 1444.57 100.144 1449.17 Q97.0885 1453.76 91.2784 1453.76 Q85.4682 1453.76 82.3895 1449.17 Q79.334 1444.57 79.334 1435.84 Q79.334 1427.09 82.3895 1422.51 Q85.4682 1417.9 91.2784 1417.9 Z\" fill=\"#000000\" fill-rule=\"evenodd\" fill-opacity=\"1\" /><path clip-path=\"url(#clip020)\" d=\"M103.223 1412 L127.334 1412 L127.334 1415.2 L103.223 1415.2 L103.223 1412 Z\" fill=\"#000000\" fill-rule=\"evenodd\" fill-opacity=\"1\" /><path clip-path=\"url(#clip020)\" d=\"M144.13 1410.12 Q141.572 1410.12 140.067 1411.87 Q138.581 1413.62 138.581 1416.67 Q138.581 1419.69 140.067 1421.46 Q141.572 1423.21 144.13 1423.21 Q146.688 1423.21 148.173 1421.46 Q149.678 1419.69 149.678 1416.67 Q149.678 1413.62 148.173 1411.87 Q146.688 1410.12 144.13 1410.12 M151.672 1398.22 L151.672 1401.68 Q150.242 1401 148.775 1400.64 Q147.327 1400.28 145.898 1400.28 Q142.136 1400.28 140.142 1402.82 Q138.168 1405.36 137.885 1410.5 Q138.995 1408.86 140.669 1408 Q142.343 1407.11 144.355 1407.11 Q148.587 1407.11 151.032 1409.69 Q153.496 1412.25 153.496 1416.67 Q153.496 1420.99 150.938 1423.61 Q148.38 1426.22 144.13 1426.22 Q139.258 1426.22 136.682 1422.5 Q134.105 1418.75 134.105 1411.66 Q134.105 1405 137.265 1401.06 Q140.425 1397.09 145.747 1397.09 Q147.177 1397.09 148.625 1397.37 Q150.092 1397.65 151.672 1398.22 Z\" fill=\"#000000\" fill-rule=\"evenodd\" fill-opacity=\"1\" /><path clip-path=\"url(#clip020)\" d=\"M52.8671 1234.45 L60.506 1234.45 L60.506 1208.08 L52.1958 1209.75 L52.1958 1205.49 L60.4597 1203.82 L65.1356 1203.82 L65.1356 1234.45 L72.7744 1234.45 L72.7744 1238.38 L52.8671 1238.38 L52.8671 1234.45 Z\" fill=\"#000000\" fill-rule=\"evenodd\" fill-opacity=\"1\" /><path clip-path=\"url(#clip020)\" d=\"M92.2188 1206.9 Q88.6077 1206.9 86.779 1210.47 Q84.9734 1214.01 84.9734 1221.14 Q84.9734 1228.25 86.779 1231.81 Q88.6077 1235.35 92.2188 1235.35 Q95.853 1235.35 97.6585 1231.81 Q99.4872 1228.25 99.4872 1221.14 Q99.4872 1214.01 97.6585 1210.47 Q95.853 1206.9 92.2188 1206.9 M92.2188 1203.2 Q98.0289 1203.2 101.084 1207.81 Q104.163 1212.39 104.163 1221.14 Q104.163 1229.87 101.084 1234.47 Q98.0289 1239.06 92.2188 1239.06 Q86.4086 1239.06 83.3299 1234.47 Q80.2744 1229.87 80.2744 1221.14 Q80.2744 1212.39 83.3299 1207.81 Q86.4086 1203.2 92.2188 1203.2 Z\" fill=\"#000000\" fill-rule=\"evenodd\" fill-opacity=\"1\" /><path clip-path=\"url(#clip020)\" d=\"M104.163 1197.3 L128.275 1197.3 L128.275 1200.5 L104.163 1200.5 L104.163 1197.3 Z\" fill=\"#000000\" fill-rule=\"evenodd\" fill-opacity=\"1\" /><path clip-path=\"url(#clip020)\" d=\"M136.513 1182.89 L151.427 1182.89 L151.427 1186.09 L139.992 1186.09 L139.992 1192.97 Q140.819 1192.69 141.647 1192.56 Q142.475 1192.41 143.302 1192.41 Q148.004 1192.41 150.75 1194.99 Q153.496 1197.56 153.496 1201.97 Q153.496 1206.5 150.675 1209.02 Q147.854 1211.52 142.719 1211.52 Q140.951 1211.52 139.108 1211.22 Q137.284 1210.92 135.328 1210.32 L135.328 1206.5 Q137.02 1207.42 138.826 1207.87 Q140.631 1208.32 142.644 1208.32 Q145.898 1208.32 147.797 1206.61 Q149.697 1204.9 149.697 1201.97 Q149.697 1199.03 147.797 1197.32 Q145.898 1195.61 142.644 1195.61 Q141.12 1195.61 139.597 1195.95 Q138.092 1196.29 136.513 1197 L136.513 1182.89 Z\" fill=\"#000000\" fill-rule=\"evenodd\" fill-opacity=\"1\" /><path clip-path=\"url(#clip020)\" d=\"M51.6634 1019.75 L59.3023 1019.75 L59.3023 993.383 L50.9921 995.05 L50.9921 990.791 L59.256 989.124 L63.9319 989.124 L63.9319 1019.75 L71.5707 1019.75 L71.5707 1023.68 L51.6634 1023.68 L51.6634 1019.75 Z\" fill=\"#000000\" fill-rule=\"evenodd\" fill-opacity=\"1\" /><path clip-path=\"url(#clip020)\" d=\"M91.0151 992.203 Q87.404 992.203 85.5753 995.767 Q83.7697 999.309 83.7697 1006.44 Q83.7697 1013.55 85.5753 1017.11 Q87.404 1020.65 91.0151 1020.65 Q94.6493 1020.65 96.4548 1017.11 Q98.2835 1013.55 98.2835 1006.44 Q98.2835 999.309 96.4548 995.767 Q94.6493 992.203 91.0151 992.203 M91.0151 988.499 Q96.8252 988.499 99.8808 993.105 Q102.959 997.689 102.959 1006.44 Q102.959 1015.17 99.8808 1019.77 Q96.8252 1024.36 91.0151 1024.36 Q85.2049 1024.36 82.1262 1019.77 Q79.0707 1015.17 79.0707 1006.44 Q79.0707 997.689 82.1262 993.105 Q85.2049 988.499 91.0151 988.499 Z\" fill=\"#000000\" fill-rule=\"evenodd\" fill-opacity=\"1\" /><path clip-path=\"url(#clip020)\" d=\"M102.959 982.6 L127.071 982.6 L127.071 985.798 L102.959 985.798 L102.959 982.6 Z\" fill=\"#000000\" fill-rule=\"evenodd\" fill-opacity=\"1\" /><path clip-path=\"url(#clip020)\" d=\"M145.71 971.504 L136.118 986.493 L145.71 986.493 L145.71 971.504 M144.713 968.193 L149.49 968.193 L149.49 986.493 L153.496 986.493 L153.496 989.653 L149.49 989.653 L149.49 996.273 L145.71 996.273 L145.71 989.653 L133.033 989.653 L133.033 985.986 L144.713 968.193 Z\" fill=\"#000000\" fill-rule=\"evenodd\" fill-opacity=\"1\" /><path clip-path=\"url(#clip020)\" d=\"M52.585 805.048 L60.2238 805.048 L60.2238 778.683 L51.9137 780.349 L51.9137 776.09 L60.1776 774.423 L64.8535 774.423 L64.8535 805.048 L72.4923 805.048 L72.4923 808.983 L52.585 808.983 L52.585 805.048 Z\" fill=\"#000000\" fill-rule=\"evenodd\" fill-opacity=\"1\" /><path clip-path=\"url(#clip020)\" d=\"M91.9366 777.502 Q88.3255 777.502 86.4969 781.067 Q84.6913 784.608 84.6913 791.738 Q84.6913 798.844 86.4969 802.409 Q88.3255 805.951 91.9366 805.951 Q95.5709 805.951 97.3764 802.409 Q99.2051 798.844 99.2051 791.738 Q99.2051 784.608 97.3764 781.067 Q95.5709 777.502 91.9366 777.502 M91.9366 773.798 Q97.7468 773.798 100.802 778.405 Q103.881 782.988 103.881 791.738 Q103.881 800.465 100.802 805.071 Q97.7468 809.655 91.9366 809.655 Q86.1265 809.655 83.0478 805.071 Q79.9923 800.465 79.9923 791.738 Q79.9923 782.988 83.0478 778.405 Q86.1265 773.798 91.9366 773.798 Z\" fill=\"#000000\" fill-rule=\"evenodd\" fill-opacity=\"1\" /><path clip-path=\"url(#clip020)\" d=\"M103.881 767.9 L127.993 767.9 L127.993 771.097 L103.881 771.097 L103.881 767.9 Z\" fill=\"#000000\" fill-rule=\"evenodd\" fill-opacity=\"1\" /><path clip-path=\"url(#clip020)\" d=\"M147.703 766.433 Q150.43 767.016 151.954 768.859 Q153.496 770.702 153.496 773.41 Q153.496 777.567 150.637 779.843 Q147.778 782.118 142.512 782.118 Q140.744 782.118 138.863 781.761 Q137.002 781.422 135.008 780.727 L135.008 777.059 Q136.588 777.981 138.469 778.451 Q140.349 778.921 142.399 778.921 Q145.973 778.921 147.835 777.51 Q149.716 776.1 149.716 773.41 Q149.716 770.928 147.966 769.536 Q146.236 768.125 143.133 768.125 L139.86 768.125 L139.86 765.003 L143.283 765.003 Q146.086 765.003 147.571 763.894 Q149.057 762.765 149.057 760.659 Q149.057 758.496 147.515 757.349 Q145.992 756.182 143.133 756.182 Q141.572 756.182 139.785 756.521 Q137.998 756.859 135.854 757.574 L135.854 754.189 Q138.017 753.587 139.898 753.286 Q141.797 752.985 143.471 752.985 Q147.797 752.985 150.317 754.96 Q152.838 756.916 152.838 760.264 Q152.838 762.596 151.502 764.213 Q150.167 765.812 147.703 766.433 Z\" fill=\"#000000\" fill-rule=\"evenodd\" fill-opacity=\"1\" /><path clip-path=\"url(#clip020)\" d=\"M53.3561 590.348 L60.995 590.348 L60.995 563.982 L52.6848 565.649 L52.6848 561.389 L60.9487 559.723 L65.6246 559.723 L65.6246 590.348 L73.2634 590.348 L73.2634 594.283 L53.3561 594.283 L53.3561 590.348 Z\" fill=\"#000000\" fill-rule=\"evenodd\" fill-opacity=\"1\" /><path clip-path=\"url(#clip020)\" d=\"M92.7078 562.801 Q89.0967 562.801 87.268 566.366 Q85.4624 569.908 85.4624 577.037 Q85.4624 584.144 87.268 587.709 Q89.0967 591.25 92.7078 591.25 Q96.342 591.25 98.1475 587.709 Q99.9762 584.144 99.9762 577.037 Q99.9762 569.908 98.1475 566.366 Q96.342 562.801 92.7078 562.801 M92.7078 559.098 Q98.5179 559.098 101.573 563.704 Q104.652 568.288 104.652 577.037 Q104.652 585.764 101.573 590.371 Q98.5179 594.954 92.7078 594.954 Q86.8976 594.954 83.8189 590.371 Q80.7634 585.764 80.7634 577.037 Q80.7634 568.288 83.8189 563.704 Q86.8976 559.098 92.7078 559.098 Z\" fill=\"#000000\" fill-rule=\"evenodd\" fill-opacity=\"1\" /><path clip-path=\"url(#clip020)\" d=\"M104.652 553.199 L128.764 553.199 L128.764 556.396 L104.652 556.396 L104.652 553.199 Z\" fill=\"#000000\" fill-rule=\"evenodd\" fill-opacity=\"1\" /><path clip-path=\"url(#clip020)\" d=\"M140.236 563.675 L153.496 563.675 L153.496 566.872 L135.666 566.872 L135.666 563.675 Q137.829 561.437 141.553 557.675 Q145.296 553.895 146.255 552.804 Q148.079 550.754 148.794 549.344 Q149.527 547.914 149.527 546.541 Q149.527 544.303 147.948 542.892 Q146.387 541.482 143.866 541.482 Q142.08 541.482 140.086 542.103 Q138.111 542.723 135.854 543.983 L135.854 540.147 Q138.149 539.225 140.142 538.755 Q142.136 538.285 143.791 538.285 Q148.155 538.285 150.75 540.466 Q153.345 542.648 153.345 546.297 Q153.345 548.027 152.687 549.588 Q152.048 551.13 150.336 553.237 Q149.866 553.782 147.346 556.396 Q144.826 558.992 140.236 563.675 Z\" fill=\"#000000\" fill-rule=\"evenodd\" fill-opacity=\"1\" /><path clip-path=\"url(#clip020)\" d=\"M53.0552 375.647 L60.694 375.647 L60.694 349.281 L52.3839 350.948 L52.3839 346.689 L60.6477 345.022 L65.3236 345.022 L65.3236 375.647 L72.9625 375.647 L72.9625 379.582 L53.0552 379.582 L53.0552 375.647 Z\" fill=\"#000000\" fill-rule=\"evenodd\" fill-opacity=\"1\" /><path clip-path=\"url(#clip020)\" d=\"M92.4068 348.101 Q88.7957 348.101 86.967 351.666 Q85.1615 355.207 85.1615 362.337 Q85.1615 369.443 86.967 373.008 Q88.7957 376.55 92.4068 376.55 Q96.0411 376.55 97.8466 373.008 Q99.6753 369.443 99.6753 362.337 Q99.6753 355.207 97.8466 351.666 Q96.0411 348.101 92.4068 348.101 M92.4068 344.397 Q98.217 344.397 101.273 349.004 Q104.351 353.587 104.351 362.337 Q104.351 371.064 101.273 375.67 Q98.217 380.254 92.4068 380.254 Q86.5967 380.254 83.518 375.67 Q80.4625 371.064 80.4625 362.337 Q80.4625 353.587 83.518 349.004 Q86.5967 344.397 92.4068 344.397 Z\" fill=\"#000000\" fill-rule=\"evenodd\" fill-opacity=\"1\" /><path clip-path=\"url(#clip020)\" d=\"M104.351 338.499 L128.463 338.499 L128.463 341.696 L104.351 341.696 L104.351 338.499 Z\" fill=\"#000000\" fill-rule=\"evenodd\" fill-opacity=\"1\" /><path clip-path=\"url(#clip020)\" d=\"M137.321 348.975 L143.528 348.975 L143.528 327.552 L136.776 328.907 L136.776 325.446 L143.49 324.092 L147.289 324.092 L147.289 348.975 L153.496 348.975 L153.496 352.172 L137.321 352.172 L137.321 348.975 Z\" fill=\"#000000\" fill-rule=\"evenodd\" fill-opacity=\"1\" /><path clip-path=\"url(#clip020)\" d=\"M82.7903 160.947 L90.4291 160.947 L90.4291 134.581 L82.119 136.248 L82.119 131.988 L90.3828 130.322 L95.0587 130.322 L95.0587 160.947 L102.698 160.947 L102.698 164.882 L82.7903 164.882 L82.7903 160.947 Z\" fill=\"#000000\" fill-rule=\"evenodd\" fill-opacity=\"1\" /><path clip-path=\"url(#clip020)\" d=\"M122.142 133.4 Q118.531 133.4 116.702 136.965 Q114.897 140.507 114.897 147.636 Q114.897 154.743 116.702 158.308 Q118.531 161.849 122.142 161.849 Q125.776 161.849 127.582 158.308 Q129.41 154.743 129.41 147.636 Q129.41 140.507 127.582 136.965 Q125.776 133.4 122.142 133.4 M122.142 129.697 Q127.952 129.697 131.008 134.303 Q134.086 138.886 134.086 147.636 Q134.086 156.363 131.008 160.97 Q127.952 165.553 122.142 165.553 Q116.332 165.553 113.253 160.97 Q110.198 156.363 110.198 147.636 Q110.198 138.886 113.253 134.303 Q116.332 129.697 122.142 129.697 Z\" fill=\"#000000\" fill-rule=\"evenodd\" fill-opacity=\"1\" /><path clip-path=\"url(#clip020)\" d=\"M143.791 111.893 Q140.857 111.893 139.371 114.789 Q137.904 117.667 137.904 123.46 Q137.904 129.233 139.371 132.13 Q140.857 135.007 143.791 135.007 Q146.744 135.007 148.211 132.13 Q149.697 129.233 149.697 123.46 Q149.697 117.667 148.211 114.789 Q146.744 111.893 143.791 111.893 M143.791 108.883 Q148.512 108.883 150.994 112.626 Q153.496 116.35 153.496 123.46 Q153.496 130.55 150.994 134.293 Q148.512 138.017 143.791 138.017 Q139.07 138.017 136.569 134.293 Q134.086 130.55 134.086 123.46 Q134.086 116.35 136.569 112.626 Q139.07 108.883 143.791 108.883 Z\" fill=\"#000000\" fill-rule=\"evenodd\" fill-opacity=\"1\" /><polyline clip-path=\"url(#clip022)\" style=\"stroke:#009af9; stroke-linecap:butt; stroke-linejoin:round; stroke-width:4; stroke-opacity:1; fill:none\" points=\"\n",
       "  2291.53,87.6286 2036.43,273.114 1781.33,439.78 1526.23,587.21 1271.13,725.307 1016.02,858.917 760.923,990.336 505.822,1120.67 250.72,1250.47 \n",
       "  \"/>\n",
       "<circle clip-path=\"url(#clip022)\" cx=\"2291.53\" cy=\"87.6286\" r=\"14\" fill=\"#009af9\" fill-rule=\"evenodd\" fill-opacity=\"1\" stroke=\"#000000\" stroke-opacity=\"1\" stroke-width=\"3.2\"/>\n",
       "<circle clip-path=\"url(#clip022)\" cx=\"2036.43\" cy=\"273.114\" r=\"14\" fill=\"#009af9\" fill-rule=\"evenodd\" fill-opacity=\"1\" stroke=\"#000000\" stroke-opacity=\"1\" stroke-width=\"3.2\"/>\n",
       "<circle clip-path=\"url(#clip022)\" cx=\"1781.33\" cy=\"439.78\" r=\"14\" fill=\"#009af9\" fill-rule=\"evenodd\" fill-opacity=\"1\" stroke=\"#000000\" stroke-opacity=\"1\" stroke-width=\"3.2\"/>\n",
       "<circle clip-path=\"url(#clip022)\" cx=\"1526.23\" cy=\"587.21\" r=\"14\" fill=\"#009af9\" fill-rule=\"evenodd\" fill-opacity=\"1\" stroke=\"#000000\" stroke-opacity=\"1\" stroke-width=\"3.2\"/>\n",
       "<circle clip-path=\"url(#clip022)\" cx=\"1271.13\" cy=\"725.307\" r=\"14\" fill=\"#009af9\" fill-rule=\"evenodd\" fill-opacity=\"1\" stroke=\"#000000\" stroke-opacity=\"1\" stroke-width=\"3.2\"/>\n",
       "<circle clip-path=\"url(#clip022)\" cx=\"1016.02\" cy=\"858.917\" r=\"14\" fill=\"#009af9\" fill-rule=\"evenodd\" fill-opacity=\"1\" stroke=\"#000000\" stroke-opacity=\"1\" stroke-width=\"3.2\"/>\n",
       "<circle clip-path=\"url(#clip022)\" cx=\"760.923\" cy=\"990.336\" r=\"14\" fill=\"#009af9\" fill-rule=\"evenodd\" fill-opacity=\"1\" stroke=\"#000000\" stroke-opacity=\"1\" stroke-width=\"3.2\"/>\n",
       "<circle clip-path=\"url(#clip022)\" cx=\"505.822\" cy=\"1120.67\" r=\"14\" fill=\"#009af9\" fill-rule=\"evenodd\" fill-opacity=\"1\" stroke=\"#000000\" stroke-opacity=\"1\" stroke-width=\"3.2\"/>\n",
       "<circle clip-path=\"url(#clip022)\" cx=\"250.72\" cy=\"1250.47\" r=\"14\" fill=\"#009af9\" fill-rule=\"evenodd\" fill-opacity=\"1\" stroke=\"#000000\" stroke-opacity=\"1\" stroke-width=\"3.2\"/>\n",
       "<polyline clip-path=\"url(#clip022)\" style=\"stroke:#e26f46; stroke-linecap:butt; stroke-linejoin:round; stroke-width:4; stroke-opacity:1; fill:none\" points=\"\n",
       "  250.72,1433.78 270.65,1423.68 454.934,1330.3 565.681,1274.19 659.315,1226.74 761.029,1175.2 854.8,1127.69 955.333,1076.75 1071.81,1017.73 1175.32,965.275 \n",
       "  1266.09,919.282 1365.05,869.136 1464.6,818.692 1574.67,762.92 1679.4,709.854 1788.29,654.678 1879.95,608.232 1991.86,551.526 2097.06,498.221 2265.59,412.822 \n",
       "  2291.53,399.679 \n",
       "  \"/>\n",
       "<path clip-path=\"url(#clip020)\" d=\"\n",
       "M1987.85 250.328 L2280.65 250.328 L2280.65 94.8081 L1987.85 94.8081  Z\n",
       "  \" fill=\"#ffffff\" fill-rule=\"evenodd\" fill-opacity=\"1\"/>\n",
       "<polyline clip-path=\"url(#clip020)\" style=\"stroke:#000000; stroke-linecap:butt; stroke-linejoin:round; stroke-width:4; stroke-opacity:1; fill:none\" points=\"\n",
       "  1987.85,250.328 2280.65,250.328 2280.65,94.8081 1987.85,94.8081 1987.85,250.328 \n",
       "  \"/>\n",
       "<polyline clip-path=\"url(#clip020)\" style=\"stroke:#009af9; stroke-linecap:butt; stroke-linejoin:round; stroke-width:4; stroke-opacity:1; fill:none\" points=\"\n",
       "  2011.89,146.648 2156.11,146.648 \n",
       "  \"/>\n",
       "<circle clip-path=\"url(#clip020)\" cx=\"2084\" cy=\"146.648\" r=\"23\" fill=\"#009af9\" fill-rule=\"evenodd\" fill-opacity=\"1\" stroke=\"#000000\" stroke-opacity=\"1\" stroke-width=\"5.12\"/>\n",
       "<path clip-path=\"url(#clip020)\" d=\"M2193.99 166.336 Q2192.18 170.965 2190.47 172.377 Q2188.76 173.789 2185.89 173.789 L2182.48 173.789 L2182.48 170.224 L2184.98 170.224 Q2186.74 170.224 2187.71 169.391 Q2188.69 168.558 2189.87 165.456 L2190.63 163.511 L2180.14 138.002 L2184.66 138.002 L2192.76 158.28 L2200.86 138.002 L2205.38 138.002 L2193.99 166.336 Z\" fill=\"#000000\" fill-rule=\"evenodd\" fill-opacity=\"1\" /><path clip-path=\"url(#clip020)\" d=\"M2212.67 159.993 L2220.31 159.993 L2220.31 133.627 L2212 135.294 L2212 131.035 L2220.26 129.368 L2224.94 129.368 L2224.94 159.993 L2232.57 159.993 L2232.57 163.928 L2212.67 163.928 L2212.67 159.993 Z\" fill=\"#000000\" fill-rule=\"evenodd\" fill-opacity=\"1\" /><polyline clip-path=\"url(#clip020)\" style=\"stroke:#e26f46; stroke-linecap:butt; stroke-linejoin:round; stroke-width:4; stroke-opacity:1; fill:none\" points=\"\n",
       "  2011.89,198.488 2156.11,198.488 \n",
       "  \"/>\n",
       "<path clip-path=\"url(#clip020)\" d=\"M2193.99 218.176 Q2192.18 222.805 2190.47 224.217 Q2188.76 225.629 2185.89 225.629 L2182.48 225.629 L2182.48 222.064 L2184.98 222.064 Q2186.74 222.064 2187.71 221.231 Q2188.69 220.398 2189.87 217.296 L2190.63 215.351 L2180.14 189.842 L2184.66 189.842 L2192.76 210.12 L2200.86 189.842 L2205.38 189.842 L2193.99 218.176 Z\" fill=\"#000000\" fill-rule=\"evenodd\" fill-opacity=\"1\" /><path clip-path=\"url(#clip020)\" d=\"M2215.89 211.833 L2232.2 211.833 L2232.2 215.768 L2210.26 215.768 L2210.26 211.833 Q2212.92 209.078 2217.51 204.449 Q2222.11 199.796 2223.29 198.453 Q2225.54 195.93 2226.42 194.194 Q2227.32 192.435 2227.32 190.745 Q2227.32 187.99 2225.38 186.254 Q2223.45 184.518 2220.35 184.518 Q2218.15 184.518 2215.7 185.282 Q2213.27 186.046 2210.49 187.597 L2210.49 182.875 Q2213.32 181.741 2215.77 181.162 Q2218.22 180.583 2220.26 180.583 Q2225.63 180.583 2228.82 183.268 Q2232.02 185.953 2232.02 190.444 Q2232.02 192.574 2231.21 194.495 Q2230.42 196.393 2228.32 198.986 Q2227.74 199.657 2224.64 202.875 Q2221.53 206.069 2215.89 211.833 Z\" fill=\"#000000\" fill-rule=\"evenodd\" fill-opacity=\"1\" /></svg>\n"
      ]
     },
     "execution_count": 23,
     "metadata": {},
     "output_type": "execute_result"
    }
   ],
   "source": [
    "plot(hs, [poisson_error(n) for n in ns], marker=:circle)\n",
    "plot!(h -> h^2, xscale=:log10, yscale=:log10)"
   ]
  },
  {
   "cell_type": "markdown",
   "id": "ceeb0e08",
   "metadata": {
    "slideshow": {
     "slide_type": "slide"
    }
   },
   "source": [
    "# Symmetry in boundary conditions: Dirichlet"
   ]
  },
  {
   "cell_type": "markdown",
   "id": "022014f3",
   "metadata": {
    "cell_style": "split"
   },
   "source": [
    "We have implemented Dirichlet conditions by modifying the first row of the matrix,\n",
    "$$ \\begin{bmatrix} 1 & 0 & 0 & 0 & 0 \\\\ \\\\ & & A_{1:,:} & & \\\\ \\\\ \\end{bmatrix} \\begin{bmatrix} u_0 \\\\ \\\\ u_{1:} \\\\ \\\\ \\end{bmatrix} = \\begin{bmatrix} a \\\\ \\\\ f_{1:} \\\\ \\\\ \\end{bmatrix} . $$\n",
    "\n",
    "* This matrix is not symmetric even if $A$ is.\n",
    "* We can eliminate $u_0$ and create a reduced system for $u_{1:}$.\n",
    "* Generalize: consider a $2\\times 2$ block system\n",
    "$$ \\begin{bmatrix} I & 0 \\\\ A_{10} & A_{11} \\end{bmatrix} \\begin{bmatrix} u_0 \\\\ u_1 \\end{bmatrix} = \\begin{bmatrix} f_0 \\\\ f_1 \\end{bmatrix} .$$"
   ]
  },
  {
   "cell_type": "markdown",
   "id": "058c2fa9",
   "metadata": {
    "cell_style": "split"
   },
   "source": [
    "We can rearrange as\n",
    "$$ A_{11} u_1 = f_1 - A_{10} f_0, $$\n",
    "which is symmetric if $A_{11}$ is.\n",
    "* This is called \"lifting\" and is often done implicitly in the mathematics literature.  It is convenient for linear solvers and eigenvalue solvers, but inconvenient for IO and postprocessing, as well as some nonlinear problems.\n",
    "* Convenient alternative: write\n",
    "$$ \\begin{bmatrix} I & 0 \\\\ 0 & A_{11} \\end{bmatrix} \\begin{bmatrix} u_0 \\\\ u_1 \\end{bmatrix} = \\begin{bmatrix} f_0 \\\\ f_1 - A_{10} f_0 \\end{bmatrix}, $$\n",
    "which is symmetric and decouples the degrees of freedom associated with the boundary. This method applies cleanly to nonlinear problems.\n",
    "* Optionally scale the identity by some scalar related to the norm of $A_{11}$."
   ]
  },
  {
   "cell_type": "markdown",
   "id": "ad1e6953",
   "metadata": {
    "slideshow": {
     "slide_type": "slide"
    }
   },
   "source": [
    "# Symmetry in boundary conditions: Neumann"
   ]
  },
  {
   "cell_type": "markdown",
   "id": "7af389c0",
   "metadata": {
    "cell_style": "split",
    "slideshow": {
     "slide_type": "slide"
    }
   },
   "source": [
    "Consider FD discretization of the Neumann boundary condition\n",
    "$$ \\frac{du}{dx}(1) = b . $$\n",
    "1. Use a one-sided difference formula as in\n",
    "$$ \\frac{u_n - u_{n-1}}{h} = b . $$\n",
    "  * an extra discretization choice\n",
    "  * may reduce order of accuracy compared to interior discretization, lose symmetry.\n",
    "2. Temporarily introduce a ghost value $u_{n+1} = u(x_{n+1} = 1 + h)$ (possibly more) and define it to be a reflection of the values from inside the domain.  In the case $b=0$, this reflection is $u_{n+i} = u_{n-i}$.  More generally,\n",
    "$$ u_{n+i} = u_{n-i} + 2b(x_n - x_{n-i}) . $$"
   ]
  },
  {
   "cell_type": "markdown",
   "id": "34220f52",
   "metadata": {
    "cell_style": "split",
    "slideshow": {
     "slide_type": "slide"
    }
   },
   "source": [
    "After this definition of ghost values, we apply the interior discretization at the boundary. For our reference equation, we would write\n",
    "\n",
    "$$ \\frac{-u_{n-1} + 2 u_n - u_{n+1}}{h^2} = f(x_n) $$\n",
    "\n",
    "which simplifies to $$ \\frac{u_n - u_{n-1}}{h^2} = f(x_n)/2 + b/h $$\n",
    "after dividing by 2 and moving the boundary term to the right hand side."
   ]
  },
  {
   "cell_type": "markdown",
   "id": "0a1136d5",
   "metadata": {
    "slideshow": {
     "slide_type": "slide"
    }
   },
   "source": [
    "# Fourier analysis of stencils\n",
    "\n",
    "Consider the plane waves $\\phi(x, \\theta) = e^{i\\theta x}$."
   ]
  },
  {
   "cell_type": "markdown",
   "id": "ed39c98a",
   "metadata": {
    "cell_style": "split"
   },
   "source": [
    "Sample $\\phi$ on a discrete grid $x = \\mathbb Z$ and apply the stencil\n",
    "\\begin{align}\n",
    "S \\phi(x, \\theta) &= s_{-1} \\phi(x-1, \\theta) + s_{0} \\phi(x, \\theta) + s_1 \\phi(x+1,\\theta) \\\\\n",
    "&= \\Big( s_{-1} e^{-i\\theta} + s_0 + s_{1} e^{i\\theta} \\Big) \\phi(x, \\theta)\n",
    "\\end{align}\n",
    "With $S = \\begin{bmatrix} -1 & 2 & -1 \\end{bmatrix}$, we get\n",
    "$$S \\phi(x, \\theta) = \\underbrace{(2 - 2 \\cos\\theta)}_{\\hat S(\\theta)} \\phi(x, \\theta)$$\n",
    "We call $\\hat S(\\theta)$ the *symbol* of the operator.\n",
    "What is the symbol of the continuous second derivative?"
   ]
  },
  {
   "cell_type": "code",
   "execution_count": 24,
   "id": "b8353978",
   "metadata": {
    "cell_style": "split"
   },
   "outputs": [
    {
     "data": {
      "image/svg+xml": [
       "<?xml version=\"1.0\" encoding=\"utf-8\"?>\n",
       "<svg xmlns=\"http://www.w3.org/2000/svg\" xmlns:xlink=\"http://www.w3.org/1999/xlink\" width=\"600\" height=\"400\" viewBox=\"0 0 2400 1600\">\n",
       "<defs>\n",
       "  <clipPath id=\"clip060\">\n",
       "    <rect x=\"0\" y=\"0\" width=\"2400\" height=\"1600\"/>\n",
       "  </clipPath>\n",
       "</defs>\n",
       "<path clip-path=\"url(#clip060)\" d=\"\n",
       "M0 1600 L2400 1600 L2400 0 L0 0  Z\n",
       "  \" fill=\"#ffffff\" fill-rule=\"evenodd\" fill-opacity=\"1\"/>\n",
       "<defs>\n",
       "  <clipPath id=\"clip061\">\n",
       "    <rect x=\"480\" y=\"0\" width=\"1681\" height=\"1600\"/>\n",
       "  </clipPath>\n",
       "</defs>\n",
       "<path clip-path=\"url(#clip060)\" d=\"\n",
       "M112.177 1486.45 L2352.76 1486.45 L2352.76 47.2441 L112.177 47.2441  Z\n",
       "  \" fill=\"#ffffff\" fill-rule=\"evenodd\" fill-opacity=\"1\"/>\n",
       "<defs>\n",
       "  <clipPath id=\"clip062\">\n",
       "    <rect x=\"112\" y=\"47\" width=\"2242\" height=\"1440\"/>\n",
       "  </clipPath>\n",
       "</defs>\n",
       "<polyline clip-path=\"url(#clip062)\" style=\"stroke:#000000; stroke-linecap:butt; stroke-linejoin:round; stroke-width:2; stroke-opacity:0.1; fill:none\" points=\"\n",
       "  162.669,1486.45 162.669,47.2441 \n",
       "  \"/>\n",
       "<polyline clip-path=\"url(#clip062)\" style=\"stroke:#000000; stroke-linecap:butt; stroke-linejoin:round; stroke-width:2; stroke-opacity:0.1; fill:none\" points=\"\n",
       "  519.268,1486.45 519.268,47.2441 \n",
       "  \"/>\n",
       "<polyline clip-path=\"url(#clip062)\" style=\"stroke:#000000; stroke-linecap:butt; stroke-linejoin:round; stroke-width:2; stroke-opacity:0.1; fill:none\" points=\"\n",
       "  875.867,1486.45 875.867,47.2441 \n",
       "  \"/>\n",
       "<polyline clip-path=\"url(#clip062)\" style=\"stroke:#000000; stroke-linecap:butt; stroke-linejoin:round; stroke-width:2; stroke-opacity:0.1; fill:none\" points=\"\n",
       "  1232.47,1486.45 1232.47,47.2441 \n",
       "  \"/>\n",
       "<polyline clip-path=\"url(#clip062)\" style=\"stroke:#000000; stroke-linecap:butt; stroke-linejoin:round; stroke-width:2; stroke-opacity:0.1; fill:none\" points=\"\n",
       "  1589.07,1486.45 1589.07,47.2441 \n",
       "  \"/>\n",
       "<polyline clip-path=\"url(#clip062)\" style=\"stroke:#000000; stroke-linecap:butt; stroke-linejoin:round; stroke-width:2; stroke-opacity:0.1; fill:none\" points=\"\n",
       "  1945.66,1486.45 1945.66,47.2441 \n",
       "  \"/>\n",
       "<polyline clip-path=\"url(#clip062)\" style=\"stroke:#000000; stroke-linecap:butt; stroke-linejoin:round; stroke-width:2; stroke-opacity:0.1; fill:none\" points=\"\n",
       "  2302.26,1486.45 2302.26,47.2441 \n",
       "  \"/>\n",
       "<polyline clip-path=\"url(#clip060)\" style=\"stroke:#000000; stroke-linecap:butt; stroke-linejoin:round; stroke-width:4; stroke-opacity:1; fill:none\" points=\"\n",
       "  112.177,1486.45 2352.76,1486.45 \n",
       "  \"/>\n",
       "<polyline clip-path=\"url(#clip060)\" style=\"stroke:#000000; stroke-linecap:butt; stroke-linejoin:round; stroke-width:4; stroke-opacity:1; fill:none\" points=\"\n",
       "  162.669,1486.45 162.669,1467.55 \n",
       "  \"/>\n",
       "<polyline clip-path=\"url(#clip060)\" style=\"stroke:#000000; stroke-linecap:butt; stroke-linejoin:round; stroke-width:4; stroke-opacity:1; fill:none\" points=\"\n",
       "  519.268,1486.45 519.268,1467.55 \n",
       "  \"/>\n",
       "<polyline clip-path=\"url(#clip060)\" style=\"stroke:#000000; stroke-linecap:butt; stroke-linejoin:round; stroke-width:4; stroke-opacity:1; fill:none\" points=\"\n",
       "  875.867,1486.45 875.867,1467.55 \n",
       "  \"/>\n",
       "<polyline clip-path=\"url(#clip060)\" style=\"stroke:#000000; stroke-linecap:butt; stroke-linejoin:round; stroke-width:4; stroke-opacity:1; fill:none\" points=\"\n",
       "  1232.47,1486.45 1232.47,1467.55 \n",
       "  \"/>\n",
       "<polyline clip-path=\"url(#clip060)\" style=\"stroke:#000000; stroke-linecap:butt; stroke-linejoin:round; stroke-width:4; stroke-opacity:1; fill:none\" points=\"\n",
       "  1589.07,1486.45 1589.07,1467.55 \n",
       "  \"/>\n",
       "<polyline clip-path=\"url(#clip060)\" style=\"stroke:#000000; stroke-linecap:butt; stroke-linejoin:round; stroke-width:4; stroke-opacity:1; fill:none\" points=\"\n",
       "  1945.66,1486.45 1945.66,1467.55 \n",
       "  \"/>\n",
       "<polyline clip-path=\"url(#clip060)\" style=\"stroke:#000000; stroke-linecap:butt; stroke-linejoin:round; stroke-width:4; stroke-opacity:1; fill:none\" points=\"\n",
       "  2302.26,1486.45 2302.26,1467.55 \n",
       "  \"/>\n",
       "<path clip-path=\"url(#clip060)\" d=\"M132.137 1530.29 L161.813 1530.29 L161.813 1534.23 L132.137 1534.23 L132.137 1530.29 Z\" fill=\"#000000\" fill-rule=\"evenodd\" fill-opacity=\"1\" /><path clip-path=\"url(#clip060)\" d=\"M186.072 1528.49 Q189.428 1529.2 191.303 1531.47 Q193.201 1533.74 193.201 1537.07 Q193.201 1542.19 189.683 1544.99 Q186.164 1547.79 179.683 1547.79 Q177.507 1547.79 175.192 1547.35 Q172.9 1546.93 170.447 1546.08 L170.447 1541.56 Q172.391 1542.7 174.706 1543.28 Q177.021 1543.86 179.544 1543.86 Q183.942 1543.86 186.234 1542.12 Q188.548 1540.38 188.548 1537.07 Q188.548 1534.02 186.396 1532.31 Q184.266 1530.57 180.447 1530.57 L176.419 1530.57 L176.419 1526.73 L180.632 1526.73 Q184.081 1526.73 185.91 1525.36 Q187.738 1523.97 187.738 1521.38 Q187.738 1518.72 185.84 1517.31 Q183.965 1515.87 180.447 1515.87 Q178.525 1515.87 176.326 1516.29 Q174.127 1516.7 171.488 1517.58 L171.488 1513.42 Q174.15 1512.68 176.465 1512.31 Q178.803 1511.93 180.863 1511.93 Q186.187 1511.93 189.289 1514.37 Q192.391 1516.77 192.391 1520.89 Q192.391 1523.76 190.748 1525.75 Q189.104 1527.72 186.072 1528.49 Z\" fill=\"#000000\" fill-rule=\"evenodd\" fill-opacity=\"1\" /><path clip-path=\"url(#clip060)\" d=\"M489.21 1530.29 L518.886 1530.29 L518.886 1534.23 L489.21 1534.23 L489.21 1530.29 Z\" fill=\"#000000\" fill-rule=\"evenodd\" fill-opacity=\"1\" /><path clip-path=\"url(#clip060)\" d=\"M533.007 1543.18 L549.326 1543.18 L549.326 1547.12 L527.382 1547.12 L527.382 1543.18 Q530.044 1540.43 534.627 1535.8 Q539.233 1531.15 540.414 1529.81 Q542.659 1527.28 543.539 1525.55 Q544.442 1523.79 544.442 1522.1 Q544.442 1519.34 542.497 1517.61 Q540.576 1515.87 537.474 1515.87 Q535.275 1515.87 532.821 1516.63 Q530.391 1517.4 527.613 1518.95 L527.613 1514.23 Q530.437 1513.09 532.891 1512.51 Q535.344 1511.93 537.382 1511.93 Q542.752 1511.93 545.946 1514.62 Q549.141 1517.31 549.141 1521.8 Q549.141 1523.93 548.331 1525.85 Q547.543 1527.74 545.437 1530.34 Q544.858 1531.01 541.756 1534.23 Q538.655 1537.42 533.007 1543.18 Z\" fill=\"#000000\" fill-rule=\"evenodd\" fill-opacity=\"1\" /><path clip-path=\"url(#clip060)\" d=\"M845.624 1530.29 L875.3 1530.29 L875.3 1534.23 L845.624 1534.23 L845.624 1530.29 Z\" fill=\"#000000\" fill-rule=\"evenodd\" fill-opacity=\"1\" /><path clip-path=\"url(#clip060)\" d=\"M886.203 1543.18 L893.842 1543.18 L893.842 1516.82 L885.532 1518.49 L885.532 1514.23 L893.796 1512.56 L898.471 1512.56 L898.471 1543.18 L906.11 1543.18 L906.11 1547.12 L886.203 1547.12 L886.203 1543.18 Z\" fill=\"#000000\" fill-rule=\"evenodd\" fill-opacity=\"1\" /><path clip-path=\"url(#clip060)\" d=\"M1232.47 1515.64 Q1228.86 1515.64 1227.03 1519.2 Q1225.22 1522.75 1225.22 1529.87 Q1225.22 1536.98 1227.03 1540.55 Q1228.86 1544.09 1232.47 1544.09 Q1236.1 1544.09 1237.91 1540.55 Q1239.74 1536.98 1239.74 1529.87 Q1239.74 1522.75 1237.91 1519.2 Q1236.1 1515.64 1232.47 1515.64 M1232.47 1511.93 Q1238.28 1511.93 1241.33 1516.54 Q1244.41 1521.12 1244.41 1529.87 Q1244.41 1538.6 1241.33 1543.21 Q1238.28 1547.79 1232.47 1547.79 Q1226.66 1547.79 1223.58 1543.21 Q1220.52 1538.6 1220.52 1529.87 Q1220.52 1521.12 1223.58 1516.54 Q1226.66 1511.93 1232.47 1511.93 Z\" fill=\"#000000\" fill-rule=\"evenodd\" fill-opacity=\"1\" /><path clip-path=\"url(#clip060)\" d=\"M1579.45 1543.18 L1587.09 1543.18 L1587.09 1516.82 L1578.78 1518.49 L1578.78 1514.23 L1587.04 1512.56 L1591.72 1512.56 L1591.72 1543.18 L1599.36 1543.18 L1599.36 1547.12 L1579.45 1547.12 L1579.45 1543.18 Z\" fill=\"#000000\" fill-rule=\"evenodd\" fill-opacity=\"1\" /><path clip-path=\"url(#clip060)\" d=\"M1940.32 1543.18 L1956.64 1543.18 L1956.64 1547.12 L1934.69 1547.12 L1934.69 1543.18 Q1937.35 1540.43 1941.94 1535.8 Q1946.54 1531.15 1947.73 1529.81 Q1949.97 1527.28 1950.85 1525.55 Q1951.75 1523.79 1951.75 1522.1 Q1951.75 1519.34 1949.81 1517.61 Q1947.89 1515.87 1944.79 1515.87 Q1942.59 1515.87 1940.13 1516.63 Q1937.7 1517.4 1934.92 1518.95 L1934.92 1514.23 Q1937.75 1513.09 1940.2 1512.51 Q1942.66 1511.93 1944.69 1511.93 Q1950.06 1511.93 1953.26 1514.62 Q1956.45 1517.31 1956.45 1521.8 Q1956.45 1523.93 1955.64 1525.85 Q1954.85 1527.74 1952.75 1530.34 Q1952.17 1531.01 1949.07 1534.23 Q1945.97 1537.42 1940.32 1543.18 Z\" fill=\"#000000\" fill-rule=\"evenodd\" fill-opacity=\"1\" /><path clip-path=\"url(#clip060)\" d=\"M2306.51 1528.49 Q2309.87 1529.2 2311.74 1531.47 Q2313.64 1533.74 2313.64 1537.07 Q2313.64 1542.19 2310.12 1544.99 Q2306.6 1547.79 2300.12 1547.79 Q2297.95 1547.79 2295.63 1547.35 Q2293.34 1546.93 2290.89 1546.08 L2290.89 1541.56 Q2292.83 1542.7 2295.15 1543.28 Q2297.46 1543.86 2299.98 1543.86 Q2304.38 1543.86 2306.67 1542.12 Q2308.99 1540.38 2308.99 1537.07 Q2308.99 1534.02 2306.84 1532.31 Q2304.71 1530.57 2300.89 1530.57 L2296.86 1530.57 L2296.86 1526.73 L2301.07 1526.73 Q2304.52 1526.73 2306.35 1525.36 Q2308.18 1523.97 2308.18 1521.38 Q2308.18 1518.72 2306.28 1517.31 Q2304.41 1515.87 2300.89 1515.87 Q2298.97 1515.87 2296.77 1516.29 Q2294.57 1516.7 2291.93 1517.58 L2291.93 1513.42 Q2294.59 1512.68 2296.91 1512.31 Q2299.24 1511.93 2301.3 1511.93 Q2306.63 1511.93 2309.73 1514.37 Q2312.83 1516.77 2312.83 1520.89 Q2312.83 1523.76 2311.19 1525.75 Q2309.54 1527.72 2306.51 1528.49 Z\" fill=\"#000000\" fill-rule=\"evenodd\" fill-opacity=\"1\" /><polyline clip-path=\"url(#clip062)\" style=\"stroke:#000000; stroke-linecap:butt; stroke-linejoin:round; stroke-width:2; stroke-opacity:0.1; fill:none\" points=\"\n",
       "  112.177,1445.8 2352.76,1445.8 \n",
       "  \"/>\n",
       "<polyline clip-path=\"url(#clip062)\" style=\"stroke:#000000; stroke-linecap:butt; stroke-linejoin:round; stroke-width:2; stroke-opacity:0.1; fill:none\" points=\"\n",
       "  112.177,1106.34 2352.76,1106.34 \n",
       "  \"/>\n",
       "<polyline clip-path=\"url(#clip062)\" style=\"stroke:#000000; stroke-linecap:butt; stroke-linejoin:round; stroke-width:2; stroke-opacity:0.1; fill:none\" points=\"\n",
       "  112.177,766.887 2352.76,766.887 \n",
       "  \"/>\n",
       "<polyline clip-path=\"url(#clip062)\" style=\"stroke:#000000; stroke-linecap:butt; stroke-linejoin:round; stroke-width:2; stroke-opacity:0.1; fill:none\" points=\"\n",
       "  112.177,427.432 2352.76,427.432 \n",
       "  \"/>\n",
       "<polyline clip-path=\"url(#clip062)\" style=\"stroke:#000000; stroke-linecap:butt; stroke-linejoin:round; stroke-width:2; stroke-opacity:0.1; fill:none\" points=\"\n",
       "  112.177,87.9763 2352.76,87.9763 \n",
       "  \"/>\n",
       "<polyline clip-path=\"url(#clip060)\" style=\"stroke:#000000; stroke-linecap:butt; stroke-linejoin:round; stroke-width:4; stroke-opacity:1; fill:none\" points=\"\n",
       "  112.177,1486.45 112.177,47.2441 \n",
       "  \"/>\n",
       "<polyline clip-path=\"url(#clip060)\" style=\"stroke:#000000; stroke-linecap:butt; stroke-linejoin:round; stroke-width:4; stroke-opacity:1; fill:none\" points=\"\n",
       "  112.177,1445.8 131.075,1445.8 \n",
       "  \"/>\n",
       "<polyline clip-path=\"url(#clip060)\" style=\"stroke:#000000; stroke-linecap:butt; stroke-linejoin:round; stroke-width:4; stroke-opacity:1; fill:none\" points=\"\n",
       "  112.177,1106.34 131.075,1106.34 \n",
       "  \"/>\n",
       "<polyline clip-path=\"url(#clip060)\" style=\"stroke:#000000; stroke-linecap:butt; stroke-linejoin:round; stroke-width:4; stroke-opacity:1; fill:none\" points=\"\n",
       "  112.177,766.887 131.075,766.887 \n",
       "  \"/>\n",
       "<polyline clip-path=\"url(#clip060)\" style=\"stroke:#000000; stroke-linecap:butt; stroke-linejoin:round; stroke-width:4; stroke-opacity:1; fill:none\" points=\"\n",
       "  112.177,427.432 131.075,427.432 \n",
       "  \"/>\n",
       "<polyline clip-path=\"url(#clip060)\" style=\"stroke:#000000; stroke-linecap:butt; stroke-linejoin:round; stroke-width:4; stroke-opacity:1; fill:none\" points=\"\n",
       "  112.177,87.9763 131.075,87.9763 \n",
       "  \"/>\n",
       "<path clip-path=\"url(#clip060)\" d=\"M64.2328 1431.6 Q60.6217 1431.6 58.793 1435.16 Q56.9875 1438.7 56.9875 1445.83 Q56.9875 1452.94 58.793 1456.5 Q60.6217 1460.04 64.2328 1460.04 Q67.867 1460.04 69.6726 1456.5 Q71.5013 1452.94 71.5013 1445.83 Q71.5013 1438.7 69.6726 1435.16 Q67.867 1431.6 64.2328 1431.6 M64.2328 1427.89 Q70.0429 1427.89 73.0985 1432.5 Q76.1772 1437.08 76.1772 1445.83 Q76.1772 1454.56 73.0985 1459.17 Q70.0429 1463.75 64.2328 1463.75 Q58.4226 1463.75 55.344 1459.17 Q52.2884 1454.56 52.2884 1445.83 Q52.2884 1437.08 55.344 1432.5 Q58.4226 1427.89 64.2328 1427.89 Z\" fill=\"#000000\" fill-rule=\"evenodd\" fill-opacity=\"1\" /><path clip-path=\"url(#clip060)\" d=\"M56.2699 1119.69 L63.9087 1119.69 L63.9087 1093.32 L55.5986 1094.99 L55.5986 1090.73 L63.8624 1089.06 L68.5383 1089.06 L68.5383 1119.69 L76.1772 1119.69 L76.1772 1123.62 L56.2699 1123.62 L56.2699 1119.69 Z\" fill=\"#000000\" fill-rule=\"evenodd\" fill-opacity=\"1\" /><path clip-path=\"url(#clip060)\" d=\"M59.8578 780.232 L76.1772 780.232 L76.1772 784.167 L54.2328 784.167 L54.2328 780.232 Q56.8949 777.477 61.4782 772.847 Q66.0846 768.195 67.2652 766.852 Q69.5105 764.329 70.3902 762.593 Q71.2929 760.834 71.2929 759.144 Q71.2929 756.389 69.3485 754.653 Q67.4272 752.917 64.3254 752.917 Q62.1263 752.917 59.6726 753.681 Q57.2421 754.445 54.4643 755.996 L54.4643 751.273 Q57.2884 750.139 59.7421 749.56 Q62.1958 748.982 64.2328 748.982 Q69.6031 748.982 72.7976 751.667 Q75.992 754.352 75.992 758.843 Q75.992 760.972 75.1818 762.894 Q74.3948 764.792 72.2883 767.384 Q71.7096 768.056 68.6078 771.273 Q65.5059 774.468 59.8578 780.232 Z\" fill=\"#000000\" fill-rule=\"evenodd\" fill-opacity=\"1\" /><path clip-path=\"url(#clip060)\" d=\"M69.0476 426.077 Q72.404 426.795 74.279 429.063 Q76.1772 431.332 76.1772 434.665 Q76.1772 439.781 72.6587 442.582 Q69.1402 445.383 62.6587 445.383 Q60.4828 445.383 58.168 444.943 Q55.8764 444.526 53.4227 443.67 L53.4227 439.156 Q55.3671 440.29 57.6819 440.869 Q59.9967 441.448 62.5198 441.448 Q66.918 441.448 69.2096 439.712 Q71.5244 437.975 71.5244 434.665 Q71.5244 431.61 69.3717 429.897 Q67.242 428.161 63.4226 428.161 L59.3949 428.161 L59.3949 424.318 L63.6078 424.318 Q67.0569 424.318 68.8855 422.952 Q70.7142 421.564 70.7142 418.971 Q70.7142 416.309 68.8161 414.897 Q66.9411 413.462 63.4226 413.462 Q61.5013 413.462 59.3023 413.878 Q57.1032 414.295 54.4643 415.175 L54.4643 411.008 Q57.1264 410.267 59.4412 409.897 Q61.7791 409.527 63.8393 409.527 Q69.1633 409.527 72.2652 411.957 Q75.367 414.364 75.367 418.485 Q75.367 421.355 73.7235 423.346 Q72.08 425.313 69.0476 426.077 Z\" fill=\"#000000\" fill-rule=\"evenodd\" fill-opacity=\"1\" /><path clip-path=\"url(#clip060)\" d=\"M66.5939 74.7703 L54.7884 93.2193 L66.5939 93.2193 L66.5939 74.7703 M65.367 70.6963 L71.2466 70.6963 L71.2466 93.2193 L76.1772 93.2193 L76.1772 97.1082 L71.2466 97.1082 L71.2466 105.256 L66.5939 105.256 L66.5939 97.1082 L50.9921 97.1082 L50.9921 92.5943 L65.367 70.6963 Z\" fill=\"#000000\" fill-rule=\"evenodd\" fill-opacity=\"1\" /><polyline clip-path=\"url(#clip062)\" style=\"stroke:#009af9; stroke-linecap:butt; stroke-linejoin:round; stroke-width:4; stroke-opacity:1; fill:none\" points=\"\n",
       "  112.177,87.9763 117.647,88.0562 123.118,88.2958 128.588,88.6951 134.058,89.254 184.639,101.945 235.219,127.991 285.8,166.869 336.381,217.799 366.777,253.787 \n",
       "  397.174,293.5 427.571,336.65 457.968,382.925 509.368,467.333 560.768,557.953 672.438,767.108 775.388,960.389 830.575,1058.38 885.762,1149.41 949.701,1243.31 \n",
       "  1013.64,1321.93 1042.05,1351.29 1070.46,1376.93 1098.87,1398.71 1127.28,1416.48 1177.11,1437.63 1226.94,1445.72 1281.26,1439.45 1335.59,1417.61 1390.24,1380.43 \n",
       "  1444.88,1328.87 1505.3,1256.59 1565.72,1170.28 1623.21,1077.4 1680.7,976.465 1800.25,752.342 1900.89,563.9 1962.32,455.848 2023.75,357.005 2081.5,275.105 \n",
       "  2139.25,206.074 2185.51,161.29 2231.76,126.681 2278.02,102.831 2324.28,90.1397 2331.4,89.1935 2338.52,88.5174 2345.64,88.1116 2352.76,87.9763 \n",
       "  \"/>\n",
       "<path clip-path=\"url(#clip060)\" d=\"\n",
       "M1976.69 198.898 L2278.07 198.898 L2278.07 95.2176 L1976.69 95.2176  Z\n",
       "  \" fill=\"#ffffff\" fill-rule=\"evenodd\" fill-opacity=\"1\"/>\n",
       "<polyline clip-path=\"url(#clip060)\" style=\"stroke:#000000; stroke-linecap:butt; stroke-linejoin:round; stroke-width:4; stroke-opacity:1; fill:none\" points=\"\n",
       "  1976.69,198.898 2278.07,198.898 2278.07,95.2176 1976.69,95.2176 1976.69,198.898 \n",
       "  \"/>\n",
       "<polyline clip-path=\"url(#clip060)\" style=\"stroke:#009af9; stroke-linecap:butt; stroke-linejoin:round; stroke-width:4; stroke-opacity:1; fill:none\" points=\"\n",
       "  2001.58,147.058 2150.95,147.058 \n",
       "  \"/>\n",
       "<path clip-path=\"url(#clip060)\" d=\"M2189.69 166.745 Q2187.89 171.375 2186.17 172.787 Q2184.46 174.199 2181.59 174.199 L2178.19 174.199 L2178.19 170.634 L2180.69 170.634 Q2182.45 170.634 2183.42 169.8 Q2184.39 168.967 2185.57 165.865 L2186.34 163.921 L2175.85 138.412 L2180.36 138.412 L2188.46 158.689 L2196.57 138.412 L2201.08 138.412 L2189.69 166.745 Z\" fill=\"#000000\" fill-rule=\"evenodd\" fill-opacity=\"1\" /><path clip-path=\"url(#clip060)\" d=\"M2208.37 160.402 L2216.01 160.402 L2216.01 134.037 L2207.7 135.703 L2207.7 131.444 L2215.96 129.778 L2220.64 129.778 L2220.64 160.402 L2228.28 160.402 L2228.28 164.338 L2208.37 164.338 L2208.37 160.402 Z\" fill=\"#000000\" fill-rule=\"evenodd\" fill-opacity=\"1\" /></svg>\n"
      ]
     },
     "execution_count": 24,
     "metadata": {},
     "output_type": "execute_result"
    }
   ],
   "source": [
    "plot(theta -> 2 - 2*cos(theta), xlims=(-pi, pi))"
   ]
  }
 ],
 "metadata": {
  "celltoolbar": "Slideshow",
  "kernelspec": {
   "display_name": "Julia 1.6.2",
   "language": "julia",
   "name": "julia-1.6"
  },
  "language_info": {
   "file_extension": ".jl",
   "mimetype": "application/julia",
   "name": "julia",
   "version": "1.6.2"
  },
  "rise": {
   "enable_chalkboard": true
  }
 },
 "nbformat": 4,
 "nbformat_minor": 5
}
