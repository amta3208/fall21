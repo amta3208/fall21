{
 "cells": [
  {
   "cell_type": "markdown",
   "id": "4159be0e",
   "metadata": {
    "slideshow": {
     "slide_type": "slide"
    }
   },
   "source": [
    "# 2021-09-01 Boundaries and Fourier methods\n",
    "\n",
    "## Last time\n",
    "* High order on arbitrary grids\n",
    "* Method of manufactured solutions\n",
    "* More satisfying approach to boundary conditions\n",
    "\n",
    "## Today\n",
    "* More on boundary conditions\n",
    "* Fourier methods for analyzing finite difference methods\n",
    "* Discussion"
   ]
  },
  {
   "cell_type": "code",
   "execution_count": 1,
   "id": "009bd630",
   "metadata": {
    "slideshow": {
     "slide_type": "skip"
    }
   },
   "outputs": [],
   "source": [
    "using Plots\n",
    "using LinearAlgebra"
   ]
  },
  {
   "cell_type": "markdown",
   "id": "b1021585",
   "metadata": {
    "cell_style": "split",
    "slideshow": {
     "slide_type": "slide"
    }
   },
   "source": [
    "# Interpolation by Vandermonde matrices"
   ]
  },
  {
   "cell_type": "markdown",
   "id": "dc496c6d",
   "metadata": {
    "cell_style": "split",
    "slideshow": {
     "slide_type": "slide"
    }
   },
   "source": [
    "We can compute a polynomial\n",
    "\n",
    "$$ p(x) = c_0 + c_1 x + c_2 x^2 + \\dotsb $$\n",
    "\n",
    "that assumes function values $p(x_i) = u_i$ by solving a linear system with the Vandermonde matrix.\n",
    "\n",
    "$$ \\underbrace{\\begin{bmatrix} 1 & x_0 & x_0^2 & \\dotsb \\\\\n",
    "    1 & x_1 & x_1^2 & \\dotsb \\\\\n",
    "    1 & x_2 & x_2^2 & \\dotsb \\\\\n",
    "    \\vdots & & & \\ddots \\end{bmatrix}}_V \\begin{bmatrix} c_0 \\\\ c_1 \\\\ c_2 \\\\ \\vdots \\end{bmatrix} = \\begin{bmatrix} u_0 \\\\ u_1 \\\\ u_2 \\\\ \\vdots \\end{bmatrix} .$$"
   ]
  },
  {
   "cell_type": "code",
   "execution_count": 2,
   "id": "b2ba3380",
   "metadata": {
    "cell_style": "split"
   },
   "outputs": [
    {
     "data": {
      "text/plain": [
       "vander (generic function with 2 methods)"
      ]
     },
     "execution_count": 2,
     "metadata": {},
     "output_type": "execute_result"
    }
   ],
   "source": [
    "function vander(x, k=nothing)\n",
    "    if k === nothing\n",
    "        k = length(x)\n",
    "    end\n",
    "    V = ones(length(x), k)\n",
    "    for j = 2:k\n",
    "        V[:, j] = V[:, j-1] .* x\n",
    "    end\n",
    "    V\n",
    "end"
   ]
  },
  {
   "cell_type": "code",
   "execution_count": 3,
   "id": "bc3cfac0",
   "metadata": {
    "cell_style": "split"
   },
   "outputs": [
    {
     "data": {
      "text/plain": [
       "5×5 Matrix{Float64}:\n",
       " 1.0  -1.0  1.0   -1.0    1.0\n",
       " 1.0  -0.5  0.25  -0.125  0.0625\n",
       " 1.0   0.0  0.0    0.0    0.0\n",
       " 1.0   0.5  0.25   0.125  0.0625\n",
       " 1.0   1.0  1.0    1.0    1.0"
      ]
     },
     "execution_count": 3,
     "metadata": {},
     "output_type": "execute_result"
    }
   ],
   "source": [
    "vander(LinRange(-1, 1, 5))"
   ]
  },
  {
   "cell_type": "markdown",
   "id": "9c4241dc",
   "metadata": {
    "slideshow": {
     "slide_type": "slide"
    }
   },
   "source": [
    "# Arbitrary order derivatives"
   ]
  },
  {
   "cell_type": "code",
   "execution_count": 4,
   "id": "3b13099a",
   "metadata": {
    "cell_style": "split"
   },
   "outputs": [
    {
     "data": {
      "text/plain": [
       "1×4 adjoint(::Vector{Float64}) with eltype Float64:\n",
       " 0.0703125  0.351563  -0.914062  0.492188"
      ]
     },
     "execution_count": 4,
     "metadata": {},
     "output_type": "execute_result"
    }
   ],
   "source": [
    "function fdstencil(source, target, k)\n",
    "    \"kth derivative stencil from source to target\"\n",
    "    x = source .- target\n",
    "    V = vander(x)\n",
    "    rhs = zero(x)'\n",
    "    rhs[k+1] = factorial(k)\n",
    "    rhs / V\n",
    "end\n",
    "x = LinRange(-2, 2, 4)\n",
    "u = sin.(x)\n",
    "fdstencil(x, 0.5, 2)\n"
   ]
  },
  {
   "cell_type": "code",
   "execution_count": 5,
   "id": "09e17560",
   "metadata": {
    "cell_style": "split"
   },
   "outputs": [
    {
     "data": {
      "image/svg+xml": [
       "<?xml version=\"1.0\" encoding=\"utf-8\"?>\n",
       "<svg xmlns=\"http://www.w3.org/2000/svg\" xmlns:xlink=\"http://www.w3.org/1999/xlink\" width=\"600\" height=\"400\" viewBox=\"0 0 2400 1600\">\n",
       "<defs>\n",
       "  <clipPath id=\"clip200\">\n",
       "    <rect x=\"0\" y=\"0\" width=\"2400\" height=\"1600\"/>\n",
       "  </clipPath>\n",
       "</defs>\n",
       "<path clip-path=\"url(#clip200)\" d=\"\n",
       "M0 1600 L2400 1600 L2400 0 L0 0  Z\n",
       "  \" fill=\"#ffffff\" fill-rule=\"evenodd\" fill-opacity=\"1\"/>\n",
       "<defs>\n",
       "  <clipPath id=\"clip201\">\n",
       "    <rect x=\"480\" y=\"0\" width=\"1681\" height=\"1600\"/>\n",
       "  </clipPath>\n",
       "</defs>\n",
       "<path clip-path=\"url(#clip200)\" d=\"\n",
       "M149.191 1486.45 L2352.76 1486.45 L2352.76 47.2441 L149.191 47.2441  Z\n",
       "  \" fill=\"#ffffff\" fill-rule=\"evenodd\" fill-opacity=\"1\"/>\n",
       "<defs>\n",
       "  <clipPath id=\"clip202\">\n",
       "    <rect x=\"149\" y=\"47\" width=\"2205\" height=\"1440\"/>\n",
       "  </clipPath>\n",
       "</defs>\n",
       "<polyline clip-path=\"url(#clip202)\" style=\"stroke:#000000; stroke-linecap:butt; stroke-linejoin:round; stroke-width:2; stroke-opacity:0.1; fill:none\" points=\"\n",
       "  419.439,1486.45 419.439,47.2441 \n",
       "  \"/>\n",
       "<polyline clip-path=\"url(#clip202)\" style=\"stroke:#000000; stroke-linecap:butt; stroke-linejoin:round; stroke-width:2; stroke-opacity:0.1; fill:none\" points=\"\n",
       "  835.206,1486.45 835.206,47.2441 \n",
       "  \"/>\n",
       "<polyline clip-path=\"url(#clip202)\" style=\"stroke:#000000; stroke-linecap:butt; stroke-linejoin:round; stroke-width:2; stroke-opacity:0.1; fill:none\" points=\"\n",
       "  1250.97,1486.45 1250.97,47.2441 \n",
       "  \"/>\n",
       "<polyline clip-path=\"url(#clip202)\" style=\"stroke:#000000; stroke-linecap:butt; stroke-linejoin:round; stroke-width:2; stroke-opacity:0.1; fill:none\" points=\"\n",
       "  1666.74,1486.45 1666.74,47.2441 \n",
       "  \"/>\n",
       "<polyline clip-path=\"url(#clip202)\" style=\"stroke:#000000; stroke-linecap:butt; stroke-linejoin:round; stroke-width:2; stroke-opacity:0.1; fill:none\" points=\"\n",
       "  2082.51,1486.45 2082.51,47.2441 \n",
       "  \"/>\n",
       "<polyline clip-path=\"url(#clip200)\" style=\"stroke:#000000; stroke-linecap:butt; stroke-linejoin:round; stroke-width:4; stroke-opacity:1; fill:none\" points=\"\n",
       "  149.191,1486.45 2352.76,1486.45 \n",
       "  \"/>\n",
       "<polyline clip-path=\"url(#clip200)\" style=\"stroke:#000000; stroke-linecap:butt; stroke-linejoin:round; stroke-width:4; stroke-opacity:1; fill:none\" points=\"\n",
       "  419.439,1486.45 419.439,1467.55 \n",
       "  \"/>\n",
       "<polyline clip-path=\"url(#clip200)\" style=\"stroke:#000000; stroke-linecap:butt; stroke-linejoin:round; stroke-width:4; stroke-opacity:1; fill:none\" points=\"\n",
       "  835.206,1486.45 835.206,1467.55 \n",
       "  \"/>\n",
       "<polyline clip-path=\"url(#clip200)\" style=\"stroke:#000000; stroke-linecap:butt; stroke-linejoin:round; stroke-width:4; stroke-opacity:1; fill:none\" points=\"\n",
       "  1250.97,1486.45 1250.97,1467.55 \n",
       "  \"/>\n",
       "<polyline clip-path=\"url(#clip200)\" style=\"stroke:#000000; stroke-linecap:butt; stroke-linejoin:round; stroke-width:4; stroke-opacity:1; fill:none\" points=\"\n",
       "  1666.74,1486.45 1666.74,1467.55 \n",
       "  \"/>\n",
       "<polyline clip-path=\"url(#clip200)\" style=\"stroke:#000000; stroke-linecap:butt; stroke-linejoin:round; stroke-width:4; stroke-opacity:1; fill:none\" points=\"\n",
       "  2082.51,1486.45 2082.51,1467.55 \n",
       "  \"/>\n",
       "<path clip-path=\"url(#clip200)\" d=\"M388.34 1530.29 L418.016 1530.29 L418.016 1534.23 L388.34 1534.23 L388.34 1530.29 Z\" fill=\"#000000\" fill-rule=\"evenodd\" fill-opacity=\"1\" /><path clip-path=\"url(#clip200)\" d=\"M440.955 1516.63 L429.15 1535.08 L440.955 1535.08 L440.955 1516.63 M439.729 1512.56 L445.608 1512.56 L445.608 1535.08 L450.539 1535.08 L450.539 1538.97 L445.608 1538.97 L445.608 1547.12 L440.955 1547.12 L440.955 1538.97 L425.354 1538.97 L425.354 1534.46 L439.729 1512.56 Z\" fill=\"#000000\" fill-rule=\"evenodd\" fill-opacity=\"1\" /><path clip-path=\"url(#clip200)\" d=\"M805.149 1530.29 L834.824 1530.29 L834.824 1534.23 L805.149 1534.23 L805.149 1530.29 Z\" fill=\"#000000\" fill-rule=\"evenodd\" fill-opacity=\"1\" /><path clip-path=\"url(#clip200)\" d=\"M848.945 1543.18 L865.264 1543.18 L865.264 1547.12 L843.32 1547.12 L843.32 1543.18 Q845.982 1540.43 850.565 1535.8 Q855.172 1531.15 856.352 1529.81 Q858.597 1527.28 859.477 1525.55 Q860.38 1523.79 860.38 1522.1 Q860.38 1519.34 858.435 1517.61 Q856.514 1515.87 853.412 1515.87 Q851.213 1515.87 848.76 1516.63 Q846.329 1517.4 843.551 1518.95 L843.551 1514.23 Q846.375 1513.09 848.829 1512.51 Q851.283 1511.93 853.32 1511.93 Q858.69 1511.93 861.884 1514.62 Q865.079 1517.31 865.079 1521.8 Q865.079 1523.93 864.269 1525.85 Q863.482 1527.74 861.375 1530.34 Q860.797 1531.01 857.695 1534.23 Q854.593 1537.42 848.945 1543.18 Z\" fill=\"#000000\" fill-rule=\"evenodd\" fill-opacity=\"1\" /><path clip-path=\"url(#clip200)\" d=\"M1250.97 1515.64 Q1247.36 1515.64 1245.53 1519.2 Q1243.73 1522.75 1243.73 1529.87 Q1243.73 1536.98 1245.53 1540.55 Q1247.36 1544.09 1250.97 1544.09 Q1254.61 1544.09 1256.41 1540.55 Q1258.24 1536.98 1258.24 1529.87 Q1258.24 1522.75 1256.41 1519.2 Q1254.61 1515.64 1250.97 1515.64 M1250.97 1511.93 Q1256.78 1511.93 1259.84 1516.54 Q1262.92 1521.12 1262.92 1529.87 Q1262.92 1538.6 1259.84 1543.21 Q1256.78 1547.79 1250.97 1547.79 Q1245.16 1547.79 1242.08 1543.21 Q1239.03 1538.6 1239.03 1529.87 Q1239.03 1521.12 1242.08 1516.54 Q1245.16 1511.93 1250.97 1511.93 Z\" fill=\"#000000\" fill-rule=\"evenodd\" fill-opacity=\"1\" /><path clip-path=\"url(#clip200)\" d=\"M1661.39 1543.18 L1677.71 1543.18 L1677.71 1547.12 L1655.77 1547.12 L1655.77 1543.18 Q1658.43 1540.43 1663.01 1535.8 Q1667.62 1531.15 1668.8 1529.81 Q1671.05 1527.28 1671.93 1525.55 Q1672.83 1523.79 1672.83 1522.1 Q1672.83 1519.34 1670.88 1517.61 Q1668.96 1515.87 1665.86 1515.87 Q1663.66 1515.87 1661.21 1516.63 Q1658.78 1517.4 1656 1518.95 L1656 1514.23 Q1658.82 1513.09 1661.28 1512.51 Q1663.73 1511.93 1665.77 1511.93 Q1671.14 1511.93 1674.33 1514.62 Q1677.53 1517.31 1677.53 1521.8 Q1677.53 1523.93 1676.72 1525.85 Q1675.93 1527.74 1673.82 1530.34 Q1673.24 1531.01 1670.14 1534.23 Q1667.04 1537.42 1661.39 1543.18 Z\" fill=\"#000000\" fill-rule=\"evenodd\" fill-opacity=\"1\" /><path clip-path=\"url(#clip200)\" d=\"M2085.52 1516.63 L2073.71 1535.08 L2085.52 1535.08 L2085.52 1516.63 M2084.29 1512.56 L2090.17 1512.56 L2090.17 1535.08 L2095.1 1535.08 L2095.1 1538.97 L2090.17 1538.97 L2090.17 1547.12 L2085.52 1547.12 L2085.52 1538.97 L2069.91 1538.97 L2069.91 1534.46 L2084.29 1512.56 Z\" fill=\"#000000\" fill-rule=\"evenodd\" fill-opacity=\"1\" /><polyline clip-path=\"url(#clip202)\" style=\"stroke:#000000; stroke-linecap:butt; stroke-linejoin:round; stroke-width:2; stroke-opacity:0.1; fill:none\" points=\"\n",
       "  149.191,1447.39 2352.76,1447.39 \n",
       "  \"/>\n",
       "<polyline clip-path=\"url(#clip202)\" style=\"stroke:#000000; stroke-linecap:butt; stroke-linejoin:round; stroke-width:2; stroke-opacity:0.1; fill:none\" points=\"\n",
       "  149.191,1107.12 2352.76,1107.12 \n",
       "  \"/>\n",
       "<polyline clip-path=\"url(#clip202)\" style=\"stroke:#000000; stroke-linecap:butt; stroke-linejoin:round; stroke-width:2; stroke-opacity:0.1; fill:none\" points=\"\n",
       "  149.191,766.846 2352.76,766.846 \n",
       "  \"/>\n",
       "<polyline clip-path=\"url(#clip202)\" style=\"stroke:#000000; stroke-linecap:butt; stroke-linejoin:round; stroke-width:2; stroke-opacity:0.1; fill:none\" points=\"\n",
       "  149.191,426.573 2352.76,426.573 \n",
       "  \"/>\n",
       "<polyline clip-path=\"url(#clip202)\" style=\"stroke:#000000; stroke-linecap:butt; stroke-linejoin:round; stroke-width:2; stroke-opacity:0.1; fill:none\" points=\"\n",
       "  149.191,86.2995 2352.76,86.2995 \n",
       "  \"/>\n",
       "<polyline clip-path=\"url(#clip200)\" style=\"stroke:#000000; stroke-linecap:butt; stroke-linejoin:round; stroke-width:4; stroke-opacity:1; fill:none\" points=\"\n",
       "  149.191,1486.45 149.191,47.2441 \n",
       "  \"/>\n",
       "<polyline clip-path=\"url(#clip200)\" style=\"stroke:#000000; stroke-linecap:butt; stroke-linejoin:round; stroke-width:4; stroke-opacity:1; fill:none\" points=\"\n",
       "  149.191,1447.39 168.089,1447.39 \n",
       "  \"/>\n",
       "<polyline clip-path=\"url(#clip200)\" style=\"stroke:#000000; stroke-linecap:butt; stroke-linejoin:round; stroke-width:4; stroke-opacity:1; fill:none\" points=\"\n",
       "  149.191,1107.12 168.089,1107.12 \n",
       "  \"/>\n",
       "<polyline clip-path=\"url(#clip200)\" style=\"stroke:#000000; stroke-linecap:butt; stroke-linejoin:round; stroke-width:4; stroke-opacity:1; fill:none\" points=\"\n",
       "  149.191,766.846 168.089,766.846 \n",
       "  \"/>\n",
       "<polyline clip-path=\"url(#clip200)\" style=\"stroke:#000000; stroke-linecap:butt; stroke-linejoin:round; stroke-width:4; stroke-opacity:1; fill:none\" points=\"\n",
       "  149.191,426.573 168.089,426.573 \n",
       "  \"/>\n",
       "<polyline clip-path=\"url(#clip200)\" style=\"stroke:#000000; stroke-linecap:butt; stroke-linejoin:round; stroke-width:4; stroke-opacity:1; fill:none\" points=\"\n",
       "  149.191,86.2995 168.089,86.2995 \n",
       "  \"/>\n",
       "<path clip-path=\"url(#clip200)\" d=\"M50.9921 1447.84 L80.6679 1447.84 L80.6679 1451.78 L50.9921 1451.78 L50.9921 1447.84 Z\" fill=\"#000000\" fill-rule=\"evenodd\" fill-opacity=\"1\" /><path clip-path=\"url(#clip200)\" d=\"M103.608 1434.19 L91.8021 1452.64 L103.608 1452.64 L103.608 1434.19 M102.381 1430.11 L108.26 1430.11 L108.26 1452.64 L113.191 1452.64 L113.191 1456.52 L108.26 1456.52 L108.26 1464.67 L103.608 1464.67 L103.608 1456.52 L88.0058 1456.52 L88.0058 1452.01 L102.381 1430.11 Z\" fill=\"#000000\" fill-rule=\"evenodd\" fill-opacity=\"1\" /><path clip-path=\"url(#clip200)\" d=\"M53.0754 1107.57 L82.7512 1107.57 L82.7512 1111.51 L53.0754 1111.51 L53.0754 1107.57 Z\" fill=\"#000000\" fill-rule=\"evenodd\" fill-opacity=\"1\" /><path clip-path=\"url(#clip200)\" d=\"M96.8715 1120.46 L113.191 1120.46 L113.191 1124.4 L91.2465 1124.4 L91.2465 1120.46 Q93.9086 1117.71 98.4919 1113.08 Q103.098 1108.43 104.279 1107.08 Q106.524 1104.56 107.404 1102.83 Q108.307 1101.07 108.307 1099.38 Q108.307 1096.62 106.362 1094.89 Q104.441 1093.15 101.339 1093.15 Q99.14 1093.15 96.6863 1093.91 Q94.2558 1094.68 91.478 1096.23 L91.478 1091.51 Q94.3021 1090.37 96.7558 1089.79 Q99.2095 1089.21 101.246 1089.21 Q106.617 1089.21 109.811 1091.9 Q113.006 1094.58 113.006 1099.08 Q113.006 1101.2 112.196 1103.13 Q111.408 1105.02 109.302 1107.62 Q108.723 1108.29 105.621 1111.51 Q102.52 1114.7 96.8715 1120.46 Z\" fill=\"#000000\" fill-rule=\"evenodd\" fill-opacity=\"1\" /><path clip-path=\"url(#clip200)\" d=\"M101.246 752.645 Q97.6354 752.645 95.8067 756.209 Q94.0012 759.751 94.0012 766.881 Q94.0012 773.987 95.8067 777.552 Q97.6354 781.094 101.246 781.094 Q104.881 781.094 106.686 777.552 Q108.515 773.987 108.515 766.881 Q108.515 759.751 106.686 756.209 Q104.881 752.645 101.246 752.645 M101.246 748.941 Q107.057 748.941 110.112 753.547 Q113.191 758.131 113.191 766.881 Q113.191 775.608 110.112 780.214 Q107.057 784.797 101.246 784.797 Q95.4363 784.797 92.3576 780.214 Q89.3021 775.608 89.3021 766.881 Q89.3021 758.131 92.3576 753.547 Q95.4363 748.941 101.246 748.941 Z\" fill=\"#000000\" fill-rule=\"evenodd\" fill-opacity=\"1\" /><path clip-path=\"url(#clip200)\" d=\"M96.8715 439.918 L113.191 439.918 L113.191 443.853 L91.2465 443.853 L91.2465 439.918 Q93.9086 437.163 98.4919 432.533 Q103.098 427.881 104.279 426.538 Q106.524 424.015 107.404 422.279 Q108.307 420.52 108.307 418.83 Q108.307 416.075 106.362 414.339 Q104.441 412.603 101.339 412.603 Q99.14 412.603 96.6863 413.367 Q94.2558 414.131 91.478 415.682 L91.478 410.959 Q94.3021 409.825 96.7558 409.246 Q99.2095 408.668 101.246 408.668 Q106.617 408.668 109.811 411.353 Q113.006 414.038 113.006 418.529 Q113.006 420.658 112.196 422.58 Q111.408 424.478 109.302 427.07 Q108.723 427.742 105.621 430.959 Q102.52 434.154 96.8715 439.918 Z\" fill=\"#000000\" fill-rule=\"evenodd\" fill-opacity=\"1\" /><path clip-path=\"url(#clip200)\" d=\"M103.608 73.0935 L91.8021 91.5425 L103.608 91.5425 L103.608 73.0935 M102.381 69.0195 L108.26 69.0195 L108.26 91.5425 L113.191 91.5425 L113.191 95.4314 L108.26 95.4314 L108.26 103.579 L103.608 103.579 L103.608 95.4314 L88.0058 95.4314 L88.0058 90.9175 L102.381 69.0195 Z\" fill=\"#000000\" fill-rule=\"evenodd\" fill-opacity=\"1\" /><polyline clip-path=\"url(#clip202)\" style=\"stroke:#009af9; stroke-linecap:butt; stroke-linejoin:round; stroke-width:4; stroke-opacity:1; fill:none\" points=\"\n",
       "  211.556,87.9763 231.857,101.236 419.574,223.838 532.384,297.517 627.764,359.812 731.373,427.482 826.891,489.867 929.296,556.751 1047.94,634.242 1153.38,703.107 \n",
       "  1245.84,763.496 1346.65,829.335 1448.06,895.566 1560.17,968.793 1666.85,1038.47 1777.77,1110.91 1871.14,1171.89 1985.14,1246.35 2092.29,1316.33 2263.97,1428.46 \n",
       "  2290.39,1445.72 \n",
       "  \"/>\n",
       "<polyline clip-path=\"url(#clip202)\" style=\"stroke:#e26f46; stroke-linecap:butt; stroke-linejoin:round; stroke-width:4; stroke-opacity:1; fill:none\" points=\"\n",
       "  211.556,929.994 216.631,931.124 221.707,932.155 226.782,933.088 231.857,933.922 255.322,936.477 278.787,936.874 302.251,935.106 325.716,931.197 349.181,925.196 \n",
       "  372.645,917.18 396.11,907.25 419.574,895.534 447.777,879.299 475.979,860.998 504.182,840.966 532.384,819.573 580.074,781.408 627.764,742.479 679.568,701.704 \n",
       "  731.373,664.953 755.252,650.008 779.132,636.603 803.011,624.914 826.891,615.096 852.492,606.795 878.094,600.918 903.695,597.555 929.296,596.756 958.958,599.051 \n",
       "  988.62,604.756 1018.28,613.755 1047.94,625.866 1074.3,639.042 1100.66,654.271 1127.02,671.307 1153.38,689.877 1199.61,725.238 1245.84,762.648 1296.25,803.607 \n",
       "  1346.65,842.415 1372,860.397 1397.35,876.99 1422.71,891.946 1448.06,905.044 1476.09,917.13 1504.12,926.487 1532.15,932.947 1560.17,936.391 1586.84,936.811 \n",
       "  1613.51,934.438 1640.18,929.311 1666.85,921.513 1694.58,910.712 1722.31,897.354 1750.04,881.678 1777.77,863.962 1824.46,830.414 1871.14,793.674 1928.14,747.182 \n",
       "  1985.14,702.16 2011.93,682.474 2038.72,664.187 2065.5,647.602 2092.29,632.995 2113.75,622.885 2135.21,614.308 2156.67,607.355 2178.13,602.1 2199.59,598.599 \n",
       "  2221.05,596.889 2242.51,596.988 2263.97,598.897 2270.58,599.845 2277.18,600.962 2283.79,602.247 2290.39,603.698 \n",
       "  \"/>\n",
       "<path clip-path=\"url(#clip200)\" d=\"\n",
       "M1982.03 250.738 L2279.3 250.738 L2279.3 95.2176 L1982.03 95.2176  Z\n",
       "  \" fill=\"#ffffff\" fill-rule=\"evenodd\" fill-opacity=\"1\"/>\n",
       "<polyline clip-path=\"url(#clip200)\" style=\"stroke:#000000; stroke-linecap:butt; stroke-linejoin:round; stroke-width:4; stroke-opacity:1; fill:none\" points=\"\n",
       "  1982.03,250.738 2279.3,250.738 2279.3,95.2176 1982.03,95.2176 1982.03,250.738 \n",
       "  \"/>\n",
       "<polyline clip-path=\"url(#clip200)\" style=\"stroke:#009af9; stroke-linecap:butt; stroke-linejoin:round; stroke-width:4; stroke-opacity:1; fill:none\" points=\"\n",
       "  2006.52,147.058 2153.42,147.058 \n",
       "  \"/>\n",
       "<path clip-path=\"url(#clip200)\" d=\"M2191.75 166.745 Q2189.94 171.375 2188.23 172.787 Q2186.52 174.199 2183.65 174.199 L2180.24 174.199 L2180.24 170.634 L2182.74 170.634 Q2184.5 170.634 2185.47 169.8 Q2186.45 168.967 2187.63 165.865 L2188.39 163.921 L2177.91 138.412 L2182.42 138.412 L2190.52 158.689 L2198.62 138.412 L2203.14 138.412 L2191.75 166.745 Z\" fill=\"#000000\" fill-rule=\"evenodd\" fill-opacity=\"1\" /><path clip-path=\"url(#clip200)\" d=\"M2210.43 160.402 L2218.07 160.402 L2218.07 134.037 L2209.76 135.703 L2209.76 131.444 L2218.02 129.778 L2222.7 129.778 L2222.7 160.402 L2230.34 160.402 L2230.34 164.338 L2210.43 164.338 L2210.43 160.402 Z\" fill=\"#000000\" fill-rule=\"evenodd\" fill-opacity=\"1\" /><polyline clip-path=\"url(#clip200)\" style=\"stroke:#e26f46; stroke-linecap:butt; stroke-linejoin:round; stroke-width:4; stroke-opacity:1; fill:none\" points=\"\n",
       "  2006.52,198.898 2153.42,198.898 \n",
       "  \"/>\n",
       "<path clip-path=\"url(#clip200)\" d=\"M2191.75 218.585 Q2189.94 223.215 2188.23 224.627 Q2186.52 226.039 2183.65 226.039 L2180.24 226.039 L2180.24 222.474 L2182.74 222.474 Q2184.5 222.474 2185.47 221.64 Q2186.45 220.807 2187.63 217.705 L2188.39 215.761 L2177.91 190.252 L2182.42 190.252 L2190.52 210.529 L2198.62 190.252 L2203.14 190.252 L2191.75 218.585 Z\" fill=\"#000000\" fill-rule=\"evenodd\" fill-opacity=\"1\" /><path clip-path=\"url(#clip200)\" d=\"M2213.65 212.242 L2229.97 212.242 L2229.97 216.178 L2208.02 216.178 L2208.02 212.242 Q2210.68 209.488 2215.27 204.858 Q2219.87 200.205 2221.05 198.863 Q2223.3 196.34 2224.18 194.604 Q2225.08 192.844 2225.08 191.155 Q2225.08 188.4 2223.14 186.664 Q2221.22 184.928 2218.11 184.928 Q2215.91 184.928 2213.46 185.692 Q2211.03 186.455 2208.25 188.006 L2208.25 183.284 Q2211.08 182.15 2213.53 181.571 Q2215.98 180.993 2218.02 180.993 Q2223.39 180.993 2226.59 183.678 Q2229.78 186.363 2229.78 190.854 Q2229.78 192.983 2228.97 194.905 Q2228.18 196.803 2226.08 199.395 Q2225.5 200.067 2222.4 203.284 Q2219.29 206.479 2213.65 212.242 Z\" fill=\"#000000\" fill-rule=\"evenodd\" fill-opacity=\"1\" /></svg>\n"
      ]
     },
     "execution_count": 5,
     "metadata": {},
     "output_type": "execute_result"
    }
   ],
   "source": [
    "plot([z -> fdstencil(x, z, 2) * u,\n",
    "        z -> -sin(z)]) "
   ]
  },
  {
   "cell_type": "markdown",
   "id": "ef2644e7",
   "metadata": {
    "slideshow": {
     "slide_type": "slide"
    }
   },
   "source": [
    "# High order discretization of the Laplacian\n",
    "## The Poisson problem $-u_{xx} = f$ with boundary conditions"
   ]
  },
  {
   "cell_type": "code",
   "execution_count": 6,
   "id": "c1fd1a46",
   "metadata": {
    "cell_style": "split"
   },
   "outputs": [
    {
     "data": {
      "text/plain": [
       "poisson (generic function with 1 method)"
      ]
     },
     "execution_count": 6,
     "metadata": {},
     "output_type": "execute_result"
    }
   ],
   "source": [
    "function poisson(x, spoints, forcing; left=(0, zero), right=(0, zero))\n",
    "    n = length(x)\n",
    "    L = zeros(n, n)\n",
    "    rhs = forcing.(x)\n",
    "    for i in 2:n-1\n",
    "        jleft = min(max(1, i-spoints÷2), n-spoints+1)\n",
    "        js = jleft : jleft + spoints - 1\n",
    "        L[i, js] = -fdstencil(x[js], x[i], 2)\n",
    "    end\n",
    "    L[1,1:spoints] = fdstencil(x[1:spoints], x[1], left[1])\n",
    "    L[n,n-spoints+1:n] = fdstencil(x[n-spoints+1:n], x[n], right[1])\n",
    "    rhs[1] = left[2](x[1])\n",
    "    rhs[n] = right[2](x[n])\n",
    "    L, rhs\n",
    "end"
   ]
  },
  {
   "cell_type": "code",
   "execution_count": 7,
   "id": "251c9b3c",
   "metadata": {
    "cell_style": "split"
   },
   "outputs": [
    {
     "data": {
      "text/plain": [
       "6×6 Matrix{Float64}:\n",
       " -3.75   5.0   -1.25   0.0           0.0           0.0\n",
       " -6.25  12.5   -6.25   0.0           0.0           0.0\n",
       "  0.0   -6.25  12.5   -6.25          0.0           0.0\n",
       "  0.0    0.0   -6.25  12.5          -6.25          0.0\n",
       "  0.0    0.0    0.0   -6.25         12.5          -6.25\n",
       "  0.0    0.0    0.0    9.25186e-18  -2.31296e-16   1.0"
      ]
     },
     "execution_count": 7,
     "metadata": {},
     "output_type": "execute_result"
    }
   ],
   "source": [
    "L, b = poisson(LinRange(-1, 1, 6), 3, zero, left=(1, zero))\n",
    "L"
   ]
  },
  {
   "cell_type": "markdown",
   "id": "7c8629f2",
   "metadata": {
    "slideshow": {
     "slide_type": "slide"
    }
   },
   "source": [
    "# Method of manufactured solutions"
   ]
  },
  {
   "cell_type": "markdown",
   "id": "401d55dc",
   "metadata": {
    "cell_style": "split"
   },
   "source": [
    "## Problem: analytic solutions to PDEs are hard to find\n",
    "\n",
    "Let's choose a smooth function with rich derivatives,\n",
    "$$ u(x) = \\tanh(x) . $$\n",
    "Then $$ u'(x) = \\cosh^{-2}(x) $$ and $$ u''(x) = -2 \\tanh(x) \\cosh^{-2}(x) . $$\n",
    "\n",
    "* This works for nonlinear too."
   ]
  },
  {
   "cell_type": "code",
   "execution_count": 8,
   "id": "30ec73b8",
   "metadata": {
    "cell_style": "split"
   },
   "outputs": [
    {
     "data": {
      "image/svg+xml": [
       "<?xml version=\"1.0\" encoding=\"utf-8\"?>\n",
       "<svg xmlns=\"http://www.w3.org/2000/svg\" xmlns:xlink=\"http://www.w3.org/1999/xlink\" width=\"600\" height=\"400\" viewBox=\"0 0 2400 1600\">\n",
       "<defs>\n",
       "  <clipPath id=\"clip240\">\n",
       "    <rect x=\"0\" y=\"0\" width=\"2400\" height=\"1600\"/>\n",
       "  </clipPath>\n",
       "</defs>\n",
       "<path clip-path=\"url(#clip240)\" d=\"\n",
       "M0 1600 L2400 1600 L2400 0 L0 0  Z\n",
       "  \" fill=\"#ffffff\" fill-rule=\"evenodd\" fill-opacity=\"1\"/>\n",
       "<defs>\n",
       "  <clipPath id=\"clip241\">\n",
       "    <rect x=\"480\" y=\"0\" width=\"1681\" height=\"1600\"/>\n",
       "  </clipPath>\n",
       "</defs>\n",
       "<path clip-path=\"url(#clip240)\" d=\"\n",
       "M193.936 1486.45 L2352.76 1486.45 L2352.76 47.2441 L193.936 47.2441  Z\n",
       "  \" fill=\"#ffffff\" fill-rule=\"evenodd\" fill-opacity=\"1\"/>\n",
       "<defs>\n",
       "  <clipPath id=\"clip242\">\n",
       "    <rect x=\"193\" y=\"47\" width=\"2160\" height=\"1440\"/>\n",
       "  </clipPath>\n",
       "</defs>\n",
       "<polyline clip-path=\"url(#clip242)\" style=\"stroke:#000000; stroke-linecap:butt; stroke-linejoin:round; stroke-width:2; stroke-opacity:0.1; fill:none\" points=\"\n",
       "  255.035,1486.45 255.035,47.2441 \n",
       "  \"/>\n",
       "<polyline clip-path=\"url(#clip242)\" style=\"stroke:#000000; stroke-linecap:butt; stroke-linejoin:round; stroke-width:2; stroke-opacity:0.1; fill:none\" points=\"\n",
       "  764.19,1486.45 764.19,47.2441 \n",
       "  \"/>\n",
       "<polyline clip-path=\"url(#clip242)\" style=\"stroke:#000000; stroke-linecap:butt; stroke-linejoin:round; stroke-width:2; stroke-opacity:0.1; fill:none\" points=\"\n",
       "  1273.35,1486.45 1273.35,47.2441 \n",
       "  \"/>\n",
       "<polyline clip-path=\"url(#clip242)\" style=\"stroke:#000000; stroke-linecap:butt; stroke-linejoin:round; stroke-width:2; stroke-opacity:0.1; fill:none\" points=\"\n",
       "  1782.5,1486.45 1782.5,47.2441 \n",
       "  \"/>\n",
       "<polyline clip-path=\"url(#clip242)\" style=\"stroke:#000000; stroke-linecap:butt; stroke-linejoin:round; stroke-width:2; stroke-opacity:0.1; fill:none\" points=\"\n",
       "  2291.66,1486.45 2291.66,47.2441 \n",
       "  \"/>\n",
       "<polyline clip-path=\"url(#clip240)\" style=\"stroke:#000000; stroke-linecap:butt; stroke-linejoin:round; stroke-width:4; stroke-opacity:1; fill:none\" points=\"\n",
       "  193.936,1486.45 2352.76,1486.45 \n",
       "  \"/>\n",
       "<polyline clip-path=\"url(#clip240)\" style=\"stroke:#000000; stroke-linecap:butt; stroke-linejoin:round; stroke-width:4; stroke-opacity:1; fill:none\" points=\"\n",
       "  255.035,1486.45 255.035,1467.55 \n",
       "  \"/>\n",
       "<polyline clip-path=\"url(#clip240)\" style=\"stroke:#000000; stroke-linecap:butt; stroke-linejoin:round; stroke-width:4; stroke-opacity:1; fill:none\" points=\"\n",
       "  764.19,1486.45 764.19,1467.55 \n",
       "  \"/>\n",
       "<polyline clip-path=\"url(#clip240)\" style=\"stroke:#000000; stroke-linecap:butt; stroke-linejoin:round; stroke-width:4; stroke-opacity:1; fill:none\" points=\"\n",
       "  1273.35,1486.45 1273.35,1467.55 \n",
       "  \"/>\n",
       "<polyline clip-path=\"url(#clip240)\" style=\"stroke:#000000; stroke-linecap:butt; stroke-linejoin:round; stroke-width:4; stroke-opacity:1; fill:none\" points=\"\n",
       "  1782.5,1486.45 1782.5,1467.55 \n",
       "  \"/>\n",
       "<polyline clip-path=\"url(#clip240)\" style=\"stroke:#000000; stroke-linecap:butt; stroke-linejoin:round; stroke-width:4; stroke-opacity:1; fill:none\" points=\"\n",
       "  2291.66,1486.45 2291.66,1467.55 \n",
       "  \"/>\n",
       "<path clip-path=\"url(#clip240)\" d=\"M224.977 1530.29 L254.653 1530.29 L254.653 1534.23 L224.977 1534.23 L224.977 1530.29 Z\" fill=\"#000000\" fill-rule=\"evenodd\" fill-opacity=\"1\" /><path clip-path=\"url(#clip240)\" d=\"M268.773 1543.18 L285.092 1543.18 L285.092 1547.12 L263.148 1547.12 L263.148 1543.18 Q265.81 1540.43 270.393 1535.8 Q275 1531.15 276.18 1529.81 Q278.426 1527.28 279.305 1525.55 Q280.208 1523.79 280.208 1522.1 Q280.208 1519.34 278.264 1517.61 Q276.342 1515.87 273.241 1515.87 Q271.042 1515.87 268.588 1516.63 Q266.157 1517.4 263.38 1518.95 L263.38 1514.23 Q266.204 1513.09 268.657 1512.51 Q271.111 1511.93 273.148 1511.93 Q278.518 1511.93 281.713 1514.62 Q284.907 1517.31 284.907 1521.8 Q284.907 1523.93 284.097 1525.85 Q283.31 1527.74 281.204 1530.34 Q280.625 1531.01 277.523 1534.23 Q274.421 1537.42 268.773 1543.18 Z\" fill=\"#000000\" fill-rule=\"evenodd\" fill-opacity=\"1\" /><path clip-path=\"url(#clip240)\" d=\"M733.947 1530.29 L763.623 1530.29 L763.623 1534.23 L733.947 1534.23 L733.947 1530.29 Z\" fill=\"#000000\" fill-rule=\"evenodd\" fill-opacity=\"1\" /><path clip-path=\"url(#clip240)\" d=\"M774.526 1543.18 L782.165 1543.18 L782.165 1516.82 L773.855 1518.49 L773.855 1514.23 L782.118 1512.56 L786.794 1512.56 L786.794 1543.18 L794.433 1543.18 L794.433 1547.12 L774.526 1547.12 L774.526 1543.18 Z\" fill=\"#000000\" fill-rule=\"evenodd\" fill-opacity=\"1\" /><path clip-path=\"url(#clip240)\" d=\"M1273.35 1515.64 Q1269.73 1515.64 1267.91 1519.2 Q1266.1 1522.75 1266.1 1529.87 Q1266.1 1536.98 1267.91 1540.55 Q1269.73 1544.09 1273.35 1544.09 Q1276.98 1544.09 1278.79 1540.55 Q1280.61 1536.98 1280.61 1529.87 Q1280.61 1522.75 1278.79 1519.2 Q1276.98 1515.64 1273.35 1515.64 M1273.35 1511.93 Q1279.16 1511.93 1282.21 1516.54 Q1285.29 1521.12 1285.29 1529.87 Q1285.29 1538.6 1282.21 1543.21 Q1279.16 1547.79 1273.35 1547.79 Q1267.54 1547.79 1264.46 1543.21 Q1261.4 1538.6 1261.4 1529.87 Q1261.4 1521.12 1264.46 1516.54 Q1267.54 1511.93 1273.35 1511.93 Z\" fill=\"#000000\" fill-rule=\"evenodd\" fill-opacity=\"1\" /><path clip-path=\"url(#clip240)\" d=\"M1772.88 1543.18 L1780.52 1543.18 L1780.52 1516.82 L1772.21 1518.49 L1772.21 1514.23 L1780.48 1512.56 L1785.15 1512.56 L1785.15 1543.18 L1792.79 1543.18 L1792.79 1547.12 L1772.88 1547.12 L1772.88 1543.18 Z\" fill=\"#000000\" fill-rule=\"evenodd\" fill-opacity=\"1\" /><path clip-path=\"url(#clip240)\" d=\"M2286.31 1543.18 L2302.63 1543.18 L2302.63 1547.12 L2280.69 1547.12 L2280.69 1543.18 Q2283.35 1540.43 2287.93 1535.8 Q2292.54 1531.15 2293.72 1529.81 Q2295.96 1527.28 2296.84 1525.55 Q2297.75 1523.79 2297.75 1522.1 Q2297.75 1519.34 2295.8 1517.61 Q2293.88 1515.87 2290.78 1515.87 Q2288.58 1515.87 2286.12 1516.63 Q2283.69 1517.4 2280.92 1518.95 L2280.92 1514.23 Q2283.74 1513.09 2286.19 1512.51 Q2288.65 1511.93 2290.69 1511.93 Q2296.06 1511.93 2299.25 1514.62 Q2302.44 1517.31 2302.44 1521.8 Q2302.44 1523.93 2301.63 1525.85 Q2300.85 1527.74 2298.74 1530.34 Q2298.16 1531.01 2295.06 1534.23 Q2291.96 1537.42 2286.31 1543.18 Z\" fill=\"#000000\" fill-rule=\"evenodd\" fill-opacity=\"1\" /><polyline clip-path=\"url(#clip242)\" style=\"stroke:#000000; stroke-linecap:butt; stroke-linejoin:round; stroke-width:2; stroke-opacity:0.1; fill:none\" points=\"\n",
       "  193.936,1469.42 2352.76,1469.42 \n",
       "  \"/>\n",
       "<polyline clip-path=\"url(#clip242)\" style=\"stroke:#000000; stroke-linecap:butt; stroke-linejoin:round; stroke-width:2; stroke-opacity:0.1; fill:none\" points=\"\n",
       "  193.936,1139.94 2352.76,1139.94 \n",
       "  \"/>\n",
       "<polyline clip-path=\"url(#clip242)\" style=\"stroke:#000000; stroke-linecap:butt; stroke-linejoin:round; stroke-width:2; stroke-opacity:0.1; fill:none\" points=\"\n",
       "  193.936,810.453 2352.76,810.453 \n",
       "  \"/>\n",
       "<polyline clip-path=\"url(#clip242)\" style=\"stroke:#000000; stroke-linecap:butt; stroke-linejoin:round; stroke-width:2; stroke-opacity:0.1; fill:none\" points=\"\n",
       "  193.936,480.969 2352.76,480.969 \n",
       "  \"/>\n",
       "<polyline clip-path=\"url(#clip242)\" style=\"stroke:#000000; stroke-linecap:butt; stroke-linejoin:round; stroke-width:2; stroke-opacity:0.1; fill:none\" points=\"\n",
       "  193.936,151.485 2352.76,151.485 \n",
       "  \"/>\n",
       "<polyline clip-path=\"url(#clip240)\" style=\"stroke:#000000; stroke-linecap:butt; stroke-linejoin:round; stroke-width:4; stroke-opacity:1; fill:none\" points=\"\n",
       "  193.936,1486.45 193.936,47.2441 \n",
       "  \"/>\n",
       "<polyline clip-path=\"url(#clip240)\" style=\"stroke:#000000; stroke-linecap:butt; stroke-linejoin:round; stroke-width:4; stroke-opacity:1; fill:none\" points=\"\n",
       "  193.936,1469.42 212.834,1469.42 \n",
       "  \"/>\n",
       "<polyline clip-path=\"url(#clip240)\" style=\"stroke:#000000; stroke-linecap:butt; stroke-linejoin:round; stroke-width:4; stroke-opacity:1; fill:none\" points=\"\n",
       "  193.936,1139.94 212.834,1139.94 \n",
       "  \"/>\n",
       "<polyline clip-path=\"url(#clip240)\" style=\"stroke:#000000; stroke-linecap:butt; stroke-linejoin:round; stroke-width:4; stroke-opacity:1; fill:none\" points=\"\n",
       "  193.936,810.453 212.834,810.453 \n",
       "  \"/>\n",
       "<polyline clip-path=\"url(#clip240)\" style=\"stroke:#000000; stroke-linecap:butt; stroke-linejoin:round; stroke-width:4; stroke-opacity:1; fill:none\" points=\"\n",
       "  193.936,480.969 212.834,480.969 \n",
       "  \"/>\n",
       "<polyline clip-path=\"url(#clip240)\" style=\"stroke:#000000; stroke-linecap:butt; stroke-linejoin:round; stroke-width:4; stroke-opacity:1; fill:none\" points=\"\n",
       "  193.936,151.485 212.834,151.485 \n",
       "  \"/>\n",
       "<path clip-path=\"url(#clip240)\" d=\"M50.9921 1469.87 L80.6679 1469.87 L80.6679 1473.81 L50.9921 1473.81 L50.9921 1469.87 Z\" fill=\"#000000\" fill-rule=\"evenodd\" fill-opacity=\"1\" /><path clip-path=\"url(#clip240)\" d=\"M91.5706 1482.77 L99.2095 1482.77 L99.2095 1456.4 L90.8993 1458.07 L90.8993 1453.81 L99.1632 1452.14 L103.839 1452.14 L103.839 1482.77 L111.478 1482.77 L111.478 1486.7 L91.5706 1486.7 L91.5706 1482.77 Z\" fill=\"#000000\" fill-rule=\"evenodd\" fill-opacity=\"1\" /><path clip-path=\"url(#clip240)\" d=\"M120.922 1480.82 L125.807 1480.82 L125.807 1486.7 L120.922 1486.7 L120.922 1480.82 Z\" fill=\"#000000\" fill-rule=\"evenodd\" fill-opacity=\"1\" /><path clip-path=\"url(#clip240)\" d=\"M145.992 1455.22 Q142.381 1455.22 140.552 1458.78 Q138.746 1462.33 138.746 1469.46 Q138.746 1476.56 140.552 1480.13 Q142.381 1483.67 145.992 1483.67 Q149.626 1483.67 151.431 1480.13 Q153.26 1476.56 153.26 1469.46 Q153.26 1462.33 151.431 1458.78 Q149.626 1455.22 145.992 1455.22 M145.992 1451.52 Q151.802 1451.52 154.857 1456.12 Q157.936 1460.71 157.936 1469.46 Q157.936 1478.18 154.857 1482.79 Q151.802 1487.37 145.992 1487.37 Q140.181 1487.37 137.103 1482.79 Q134.047 1478.18 134.047 1469.46 Q134.047 1460.71 137.103 1456.12 Q140.181 1451.52 145.992 1451.52 Z\" fill=\"#000000\" fill-rule=\"evenodd\" fill-opacity=\"1\" /><path clip-path=\"url(#clip240)\" d=\"M51.9875 1140.39 L81.6633 1140.39 L81.6633 1144.32 L51.9875 1144.32 L51.9875 1140.39 Z\" fill=\"#000000\" fill-rule=\"evenodd\" fill-opacity=\"1\" /><path clip-path=\"url(#clip240)\" d=\"M101.756 1125.74 Q98.1447 1125.74 96.316 1129.3 Q94.5104 1132.84 94.5104 1139.97 Q94.5104 1147.08 96.316 1150.64 Q98.1447 1154.18 101.756 1154.18 Q105.39 1154.18 107.196 1150.64 Q109.024 1147.08 109.024 1139.97 Q109.024 1132.84 107.196 1129.3 Q105.39 1125.74 101.756 1125.74 M101.756 1122.03 Q107.566 1122.03 110.621 1126.64 Q113.7 1131.22 113.7 1139.97 Q113.7 1148.7 110.621 1153.3 Q107.566 1157.89 101.756 1157.89 Q95.9456 1157.89 92.8669 1153.3 Q89.8114 1148.7 89.8114 1139.97 Q89.8114 1131.22 92.8669 1126.64 Q95.9456 1122.03 101.756 1122.03 Z\" fill=\"#000000\" fill-rule=\"evenodd\" fill-opacity=\"1\" /><path clip-path=\"url(#clip240)\" d=\"M121.918 1151.34 L126.802 1151.34 L126.802 1157.22 L121.918 1157.22 L121.918 1151.34 Z\" fill=\"#000000\" fill-rule=\"evenodd\" fill-opacity=\"1\" /><path clip-path=\"url(#clip240)\" d=\"M137.033 1122.66 L155.39 1122.66 L155.39 1126.59 L141.316 1126.59 L141.316 1135.06 Q142.334 1134.72 143.353 1134.55 Q144.371 1134.37 145.39 1134.37 Q151.177 1134.37 154.556 1137.54 Q157.936 1140.71 157.936 1146.13 Q157.936 1151.71 154.464 1154.81 Q150.992 1157.89 144.672 1157.89 Q142.496 1157.89 140.228 1157.52 Q137.982 1157.15 135.575 1156.41 L135.575 1151.71 Q137.658 1152.84 139.881 1153.4 Q142.103 1153.95 144.58 1153.95 Q148.584 1153.95 150.922 1151.85 Q153.26 1149.74 153.26 1146.13 Q153.26 1142.52 150.922 1140.41 Q148.584 1138.3 144.58 1138.3 Q142.705 1138.3 140.83 1138.72 Q138.978 1139.14 137.033 1140.02 L137.033 1122.66 Z\" fill=\"#000000\" fill-rule=\"evenodd\" fill-opacity=\"1\" /><path clip-path=\"url(#clip240)\" d=\"M100.76 796.251 Q97.1493 796.251 95.3206 799.816 Q93.515 803.358 93.515 810.487 Q93.515 817.594 95.3206 821.158 Q97.1493 824.7 100.76 824.7 Q104.395 824.7 106.2 821.158 Q108.029 817.594 108.029 810.487 Q108.029 803.358 106.2 799.816 Q104.395 796.251 100.76 796.251 M100.76 792.548 Q106.571 792.548 109.626 797.154 Q112.705 801.737 112.705 810.487 Q112.705 819.214 109.626 823.821 Q106.571 828.404 100.76 828.404 Q94.9502 828.404 91.8715 823.821 Q88.816 819.214 88.816 810.487 Q88.816 801.737 91.8715 797.154 Q94.9502 792.548 100.76 792.548 Z\" fill=\"#000000\" fill-rule=\"evenodd\" fill-opacity=\"1\" /><path clip-path=\"url(#clip240)\" d=\"M120.922 821.853 L125.807 821.853 L125.807 827.733 L120.922 827.733 L120.922 821.853 Z\" fill=\"#000000\" fill-rule=\"evenodd\" fill-opacity=\"1\" /><path clip-path=\"url(#clip240)\" d=\"M145.992 796.251 Q142.381 796.251 140.552 799.816 Q138.746 803.358 138.746 810.487 Q138.746 817.594 140.552 821.158 Q142.381 824.7 145.992 824.7 Q149.626 824.7 151.431 821.158 Q153.26 817.594 153.26 810.487 Q153.26 803.358 151.431 799.816 Q149.626 796.251 145.992 796.251 M145.992 792.548 Q151.802 792.548 154.857 797.154 Q157.936 801.737 157.936 810.487 Q157.936 819.214 154.857 823.821 Q151.802 828.404 145.992 828.404 Q140.181 828.404 137.103 823.821 Q134.047 819.214 134.047 810.487 Q134.047 801.737 137.103 797.154 Q140.181 792.548 145.992 792.548 Z\" fill=\"#000000\" fill-rule=\"evenodd\" fill-opacity=\"1\" /><path clip-path=\"url(#clip240)\" d=\"M101.756 466.767 Q98.1447 466.767 96.316 470.332 Q94.5104 473.874 94.5104 481.003 Q94.5104 488.11 96.316 491.675 Q98.1447 495.216 101.756 495.216 Q105.39 495.216 107.196 491.675 Q109.024 488.11 109.024 481.003 Q109.024 473.874 107.196 470.332 Q105.39 466.767 101.756 466.767 M101.756 463.064 Q107.566 463.064 110.621 467.67 Q113.7 472.253 113.7 481.003 Q113.7 489.73 110.621 494.337 Q107.566 498.92 101.756 498.92 Q95.9456 498.92 92.8669 494.337 Q89.8114 489.73 89.8114 481.003 Q89.8114 472.253 92.8669 467.67 Q95.9456 463.064 101.756 463.064 Z\" fill=\"#000000\" fill-rule=\"evenodd\" fill-opacity=\"1\" /><path clip-path=\"url(#clip240)\" d=\"M121.918 492.369 L126.802 492.369 L126.802 498.249 L121.918 498.249 L121.918 492.369 Z\" fill=\"#000000\" fill-rule=\"evenodd\" fill-opacity=\"1\" /><path clip-path=\"url(#clip240)\" d=\"M137.033 463.689 L155.39 463.689 L155.39 467.624 L141.316 467.624 L141.316 476.096 Q142.334 475.749 143.353 475.587 Q144.371 475.402 145.39 475.402 Q151.177 475.402 154.556 478.573 Q157.936 481.744 157.936 487.161 Q157.936 492.739 154.464 495.841 Q150.992 498.92 144.672 498.92 Q142.496 498.92 140.228 498.55 Q137.982 498.179 135.575 497.438 L135.575 492.739 Q137.658 493.874 139.881 494.429 Q142.103 494.985 144.58 494.985 Q148.584 494.985 150.922 492.878 Q153.26 490.772 153.26 487.161 Q153.26 483.55 150.922 481.443 Q148.584 479.337 144.58 479.337 Q142.705 479.337 140.83 479.753 Q138.978 480.17 137.033 481.05 L137.033 463.689 Z\" fill=\"#000000\" fill-rule=\"evenodd\" fill-opacity=\"1\" /><path clip-path=\"url(#clip240)\" d=\"M91.5706 164.83 L99.2095 164.83 L99.2095 138.464 L90.8993 140.131 L90.8993 135.871 L99.1632 134.205 L103.839 134.205 L103.839 164.83 L111.478 164.83 L111.478 168.765 L91.5706 168.765 L91.5706 164.83 Z\" fill=\"#000000\" fill-rule=\"evenodd\" fill-opacity=\"1\" /><path clip-path=\"url(#clip240)\" d=\"M120.922 162.885 L125.807 162.885 L125.807 168.765 L120.922 168.765 L120.922 162.885 Z\" fill=\"#000000\" fill-rule=\"evenodd\" fill-opacity=\"1\" /><path clip-path=\"url(#clip240)\" d=\"M145.992 137.283 Q142.381 137.283 140.552 140.848 Q138.746 144.39 138.746 151.519 Q138.746 158.626 140.552 162.191 Q142.381 165.732 145.992 165.732 Q149.626 165.732 151.431 162.191 Q153.26 158.626 153.26 151.519 Q153.26 144.39 151.431 140.848 Q149.626 137.283 145.992 137.283 M145.992 133.58 Q151.802 133.58 154.857 138.186 Q157.936 142.769 157.936 151.519 Q157.936 160.246 154.857 164.853 Q151.802 169.436 145.992 169.436 Q140.181 169.436 137.103 164.853 Q134.047 160.246 134.047 151.519 Q134.047 142.769 137.103 138.186 Q140.181 133.58 145.992 133.58 Z\" fill=\"#000000\" fill-rule=\"evenodd\" fill-opacity=\"1\" /><polyline clip-path=\"url(#clip242)\" style=\"stroke:#009af9; stroke-linecap:butt; stroke-linejoin:round; stroke-width:4; stroke-opacity:1; fill:none\" points=\"\n",
       "  255.035,1445.72 481.326,1405.58 707.617,1326.55 933.909,1173.62 1160.2,920.503 1386.49,613.189 1612.78,360.073 1839.07,207.145 2065.37,128.114 2291.66,87.9763 \n",
       "  \n",
       "  \"/>\n",
       "<circle clip-path=\"url(#clip242)\" cx=\"255.035\" cy=\"1445.72\" r=\"14\" fill=\"#009af9\" fill-rule=\"evenodd\" fill-opacity=\"1\" stroke=\"#000000\" stroke-opacity=\"1\" stroke-width=\"3.2\"/>\n",
       "<circle clip-path=\"url(#clip242)\" cx=\"481.326\" cy=\"1405.58\" r=\"14\" fill=\"#009af9\" fill-rule=\"evenodd\" fill-opacity=\"1\" stroke=\"#000000\" stroke-opacity=\"1\" stroke-width=\"3.2\"/>\n",
       "<circle clip-path=\"url(#clip242)\" cx=\"707.617\" cy=\"1326.55\" r=\"14\" fill=\"#009af9\" fill-rule=\"evenodd\" fill-opacity=\"1\" stroke=\"#000000\" stroke-opacity=\"1\" stroke-width=\"3.2\"/>\n",
       "<circle clip-path=\"url(#clip242)\" cx=\"933.909\" cy=\"1173.62\" r=\"14\" fill=\"#009af9\" fill-rule=\"evenodd\" fill-opacity=\"1\" stroke=\"#000000\" stroke-opacity=\"1\" stroke-width=\"3.2\"/>\n",
       "<circle clip-path=\"url(#clip242)\" cx=\"1160.2\" cy=\"920.503\" r=\"14\" fill=\"#009af9\" fill-rule=\"evenodd\" fill-opacity=\"1\" stroke=\"#000000\" stroke-opacity=\"1\" stroke-width=\"3.2\"/>\n",
       "<circle clip-path=\"url(#clip242)\" cx=\"1386.49\" cy=\"613.189\" r=\"14\" fill=\"#009af9\" fill-rule=\"evenodd\" fill-opacity=\"1\" stroke=\"#000000\" stroke-opacity=\"1\" stroke-width=\"3.2\"/>\n",
       "<circle clip-path=\"url(#clip242)\" cx=\"1612.78\" cy=\"360.073\" r=\"14\" fill=\"#009af9\" fill-rule=\"evenodd\" fill-opacity=\"1\" stroke=\"#000000\" stroke-opacity=\"1\" stroke-width=\"3.2\"/>\n",
       "<circle clip-path=\"url(#clip242)\" cx=\"1839.07\" cy=\"207.145\" r=\"14\" fill=\"#009af9\" fill-rule=\"evenodd\" fill-opacity=\"1\" stroke=\"#000000\" stroke-opacity=\"1\" stroke-width=\"3.2\"/>\n",
       "<circle clip-path=\"url(#clip242)\" cx=\"2065.37\" cy=\"128.114\" r=\"14\" fill=\"#009af9\" fill-rule=\"evenodd\" fill-opacity=\"1\" stroke=\"#000000\" stroke-opacity=\"1\" stroke-width=\"3.2\"/>\n",
       "<circle clip-path=\"url(#clip242)\" cx=\"2291.66\" cy=\"87.9763\" r=\"14\" fill=\"#009af9\" fill-rule=\"evenodd\" fill-opacity=\"1\" stroke=\"#000000\" stroke-opacity=\"1\" stroke-width=\"3.2\"/>\n",
       "<polyline clip-path=\"url(#clip242)\" style=\"stroke:#e26f46; stroke-linecap:butt; stroke-linejoin:round; stroke-width:4; stroke-opacity:1; fill:none\" points=\"\n",
       "  255.035,1445.72 274.924,1443.83 458.829,1417.78 569.348,1391.37 662.791,1359.63 764.296,1312.26 857.875,1253.86 908.038,1215.95 958.201,1173.15 1016.32,1117.46 \n",
       "  1074.44,1055.54 1177.74,932.759 1268.32,816.957 1367.08,690.49 1466.43,571.887 1521.35,512.665 1576.27,458.928 1628.52,413.206 1680.78,372.795 1735.11,336.224 \n",
       "  1789.45,304.851 1835.18,282.13 1880.92,262.455 1992.6,225.254 2097.58,201.267 2265.77,177.676 2291.66,175.189 \n",
       "  \"/>\n",
       "<path clip-path=\"url(#clip240)\" d=\"\n",
       "M265.897 250.738 L558.196 250.738 L558.196 95.2176 L265.897 95.2176  Z\n",
       "  \" fill=\"#ffffff\" fill-rule=\"evenodd\" fill-opacity=\"1\"/>\n",
       "<polyline clip-path=\"url(#clip240)\" style=\"stroke:#000000; stroke-linecap:butt; stroke-linejoin:round; stroke-width:4; stroke-opacity:1; fill:none\" points=\"\n",
       "  265.897,250.738 558.196,250.738 558.196,95.2176 265.897,95.2176 265.897,250.738 \n",
       "  \"/>\n",
       "<polyline clip-path=\"url(#clip240)\" style=\"stroke:#009af9; stroke-linecap:butt; stroke-linejoin:round; stroke-width:4; stroke-opacity:1; fill:none\" points=\"\n",
       "  289.884,147.058 433.805,147.058 \n",
       "  \"/>\n",
       "<circle clip-path=\"url(#clip240)\" cx=\"361.844\" cy=\"147.058\" r=\"23\" fill=\"#009af9\" fill-rule=\"evenodd\" fill-opacity=\"1\" stroke=\"#000000\" stroke-opacity=\"1\" stroke-width=\"5.12\"/>\n",
       "<path clip-path=\"url(#clip240)\" d=\"M471.634 166.745 Q469.829 171.375 468.116 172.787 Q466.403 174.199 463.532 174.199 L460.13 174.199 L460.13 170.634 L462.63 170.634 Q464.389 170.634 465.361 169.8 Q466.333 168.967 467.514 165.865 L468.278 163.921 L457.792 138.412 L462.306 138.412 L470.407 158.689 L478.509 138.412 L483.023 138.412 L471.634 166.745 Z\" fill=\"#000000\" fill-rule=\"evenodd\" fill-opacity=\"1\" /><path clip-path=\"url(#clip240)\" d=\"M490.315 160.402 L497.954 160.402 L497.954 134.037 L489.643 135.703 L489.643 131.444 L497.907 129.778 L502.583 129.778 L502.583 160.402 L510.222 160.402 L510.222 164.338 L490.315 164.338 L490.315 160.402 Z\" fill=\"#000000\" fill-rule=\"evenodd\" fill-opacity=\"1\" /><polyline clip-path=\"url(#clip240)\" style=\"stroke:#e26f46; stroke-linecap:butt; stroke-linejoin:round; stroke-width:4; stroke-opacity:1; fill:none\" points=\"\n",
       "  289.884,198.898 433.805,198.898 \n",
       "  \"/>\n",
       "<path clip-path=\"url(#clip240)\" d=\"M471.634 218.585 Q469.829 223.215 468.116 224.627 Q466.403 226.039 463.532 226.039 L460.13 226.039 L460.13 222.474 L462.63 222.474 Q464.389 222.474 465.361 221.64 Q466.333 220.807 467.514 217.705 L468.278 215.761 L457.792 190.252 L462.306 190.252 L470.407 210.529 L478.509 190.252 L483.023 190.252 L471.634 218.585 Z\" fill=\"#000000\" fill-rule=\"evenodd\" fill-opacity=\"1\" /><path clip-path=\"url(#clip240)\" d=\"M493.532 212.242 L509.852 212.242 L509.852 216.178 L487.907 216.178 L487.907 212.242 Q490.569 209.488 495.153 204.858 Q499.759 200.205 500.94 198.863 Q503.185 196.34 504.065 194.604 Q504.967 192.844 504.967 191.155 Q504.967 188.4 503.023 186.664 Q501.102 184.928 498 184.928 Q495.801 184.928 493.347 185.692 Q490.917 186.455 488.139 188.006 L488.139 183.284 Q490.963 182.15 493.417 181.571 Q495.87 180.993 497.907 180.993 Q503.278 180.993 506.472 183.678 Q509.666 186.363 509.666 190.854 Q509.666 192.983 508.856 194.905 Q508.069 196.803 505.963 199.395 Q505.384 200.067 502.282 203.284 Q499.18 206.479 493.532 212.242 Z\" fill=\"#000000\" fill-rule=\"evenodd\" fill-opacity=\"1\" /></svg>\n"
      ]
     },
     "execution_count": 8,
     "metadata": {},
     "output_type": "execute_result"
    }
   ],
   "source": [
    "x = LinRange(-2, 2, 10)\n",
    "L, rhs = poisson(x, 3,\n",
    "    x -> 2 * tanh(x) / cosh(x)^2,\n",
    "    left=(0, tanh), \n",
    "    right=(1, x -> cosh(x)^-2))\n",
    "u = L \\ rhs\n",
    "plot(x, u, marker=:circle, legend=:topleft)\n",
    "plot!(tanh)"
   ]
  },
  {
   "cell_type": "markdown",
   "id": "4aa51558",
   "metadata": {
    "slideshow": {
     "slide_type": "slide"
    }
   },
   "source": [
    "# Convergence rate"
   ]
  },
  {
   "cell_type": "code",
   "execution_count": 9,
   "id": "31cd5056",
   "metadata": {
    "cell_style": "split"
   },
   "outputs": [
    {
     "data": {
      "text/plain": [
       "poisson_error (generic function with 1 method)"
      ]
     },
     "execution_count": 9,
     "metadata": {},
     "output_type": "execute_result"
    }
   ],
   "source": [
    "ns = 2 .^ (2:10)\n",
    "hs = 1 ./ ns\n",
    "function poisson_error(n)\n",
    "    x = LinRange(-2, 2, n)\n",
    "    L, rhs = poisson(x, 3, x -> 2 * tanh(x) / cosh(x)^2,\n",
    "        left = (0, tanh),\n",
    "        right = (1, x -> cosh(x)^-2))\n",
    "    u = L \\ rhs\n",
    "    norm(u - tanh.(x), Inf)\n",
    "end"
   ]
  },
  {
   "cell_type": "code",
   "execution_count": 10,
   "id": "c7eea2b7",
   "metadata": {
    "cell_style": "split"
   },
   "outputs": [
    {
     "data": {
      "image/svg+xml": [
       "<?xml version=\"1.0\" encoding=\"utf-8\"?>\n",
       "<svg xmlns=\"http://www.w3.org/2000/svg\" xmlns:xlink=\"http://www.w3.org/1999/xlink\" width=\"600\" height=\"400\" viewBox=\"0 0 2400 1600\">\n",
       "<defs>\n",
       "  <clipPath id=\"clip280\">\n",
       "    <rect x=\"0\" y=\"0\" width=\"2400\" height=\"1600\"/>\n",
       "  </clipPath>\n",
       "</defs>\n",
       "<path clip-path=\"url(#clip280)\" d=\"\n",
       "M0 1600 L2400 1600 L2400 0 L0 0  Z\n",
       "  \" fill=\"#ffffff\" fill-rule=\"evenodd\" fill-opacity=\"1\"/>\n",
       "<defs>\n",
       "  <clipPath id=\"clip281\">\n",
       "    <rect x=\"480\" y=\"0\" width=\"1681\" height=\"1600\"/>\n",
       "  </clipPath>\n",
       "</defs>\n",
       "<path clip-path=\"url(#clip280)\" d=\"\n",
       "M189.496 1474.16 L2352.76 1474.16 L2352.76 47.2441 L189.496 47.2441  Z\n",
       "  \" fill=\"#ffffff\" fill-rule=\"evenodd\" fill-opacity=\"1\"/>\n",
       "<defs>\n",
       "  <clipPath id=\"clip282\">\n",
       "    <rect x=\"189\" y=\"47\" width=\"2164\" height=\"1428\"/>\n",
       "  </clipPath>\n",
       "</defs>\n",
       "<polyline clip-path=\"url(#clip282)\" style=\"stroke:#000000; stroke-linecap:butt; stroke-linejoin:round; stroke-width:2; stroke-opacity:0.1; fill:none\" points=\"\n",
       "  259.449,1474.16 259.449,47.2441 \n",
       "  \"/>\n",
       "<polyline clip-path=\"url(#clip282)\" style=\"stroke:#000000; stroke-linecap:butt; stroke-linejoin:round; stroke-width:2; stroke-opacity:0.1; fill:none\" points=\"\n",
       "  1106.88,1474.16 1106.88,47.2441 \n",
       "  \"/>\n",
       "<polyline clip-path=\"url(#clip282)\" style=\"stroke:#000000; stroke-linecap:butt; stroke-linejoin:round; stroke-width:2; stroke-opacity:0.1; fill:none\" points=\"\n",
       "  1954.31,1474.16 1954.31,47.2441 \n",
       "  \"/>\n",
       "<polyline clip-path=\"url(#clip280)\" style=\"stroke:#000000; stroke-linecap:butt; stroke-linejoin:round; stroke-width:4; stroke-opacity:1; fill:none\" points=\"\n",
       "  189.496,1474.16 2352.76,1474.16 \n",
       "  \"/>\n",
       "<polyline clip-path=\"url(#clip280)\" style=\"stroke:#000000; stroke-linecap:butt; stroke-linejoin:round; stroke-width:4; stroke-opacity:1; fill:none\" points=\"\n",
       "  259.449,1474.16 259.449,1455.27 \n",
       "  \"/>\n",
       "<polyline clip-path=\"url(#clip280)\" style=\"stroke:#000000; stroke-linecap:butt; stroke-linejoin:round; stroke-width:4; stroke-opacity:1; fill:none\" points=\"\n",
       "  1106.88,1474.16 1106.88,1455.27 \n",
       "  \"/>\n",
       "<polyline clip-path=\"url(#clip280)\" style=\"stroke:#000000; stroke-linecap:butt; stroke-linejoin:round; stroke-width:4; stroke-opacity:1; fill:none\" points=\"\n",
       "  1954.31,1474.16 1954.31,1455.27 \n",
       "  \"/>\n",
       "<path clip-path=\"url(#clip280)\" d=\"M209.329 1552.44 L216.968 1552.44 L216.968 1526.07 L208.658 1527.74 L208.658 1523.48 L216.921 1521.81 L221.597 1521.81 L221.597 1552.44 L229.236 1552.44 L229.236 1556.37 L209.329 1556.37 L209.329 1552.44 Z\" fill=\"#000000\" fill-rule=\"evenodd\" fill-opacity=\"1\" /><path clip-path=\"url(#clip280)\" d=\"M248.681 1524.89 Q245.069 1524.89 243.241 1528.46 Q241.435 1532 241.435 1539.13 Q241.435 1546.23 243.241 1549.8 Q245.069 1553.34 248.681 1553.34 Q252.315 1553.34 254.12 1549.8 Q255.949 1546.23 255.949 1539.13 Q255.949 1532 254.12 1528.46 Q252.315 1524.89 248.681 1524.89 M248.681 1521.19 Q254.491 1521.19 257.546 1525.79 Q260.625 1530.38 260.625 1539.13 Q260.625 1547.85 257.546 1552.46 Q254.491 1557.04 248.681 1557.04 Q242.87 1557.04 239.792 1552.46 Q236.736 1547.85 236.736 1539.13 Q236.736 1530.38 239.792 1525.79 Q242.87 1521.19 248.681 1521.19 Z\" fill=\"#000000\" fill-rule=\"evenodd\" fill-opacity=\"1\" /><path clip-path=\"url(#clip280)\" d=\"M260.625 1515.29 L284.737 1515.29 L284.737 1518.49 L260.625 1518.49 L260.625 1515.29 Z\" fill=\"#000000\" fill-rule=\"evenodd\" fill-opacity=\"1\" /><path clip-path=\"url(#clip280)\" d=\"M304.447 1513.82 Q307.174 1514.4 308.698 1516.25 Q310.24 1518.09 310.24 1520.8 Q310.24 1524.96 307.381 1527.23 Q304.522 1529.51 299.256 1529.51 Q297.488 1529.51 295.607 1529.15 Q293.745 1528.81 291.752 1528.12 L291.752 1524.45 Q293.332 1525.37 295.212 1525.84 Q297.093 1526.31 299.143 1526.31 Q302.717 1526.31 304.579 1524.9 Q306.459 1523.49 306.459 1520.8 Q306.459 1518.32 304.71 1516.92 Q302.98 1515.51 299.877 1515.51 L296.604 1515.51 L296.604 1512.39 L300.027 1512.39 Q302.83 1512.39 304.315 1511.28 Q305.801 1510.15 305.801 1508.05 Q305.801 1505.88 304.259 1504.74 Q302.736 1503.57 299.877 1503.57 Q298.316 1503.57 296.529 1503.91 Q294.742 1504.25 292.598 1504.96 L292.598 1501.58 Q294.761 1500.98 296.642 1500.67 Q298.541 1500.37 300.215 1500.37 Q304.541 1500.37 307.061 1502.35 Q309.582 1504.3 309.582 1507.65 Q309.582 1509.98 308.246 1511.6 Q306.911 1513.2 304.447 1513.82 Z\" fill=\"#000000\" fill-rule=\"evenodd\" fill-opacity=\"1\" /><path clip-path=\"url(#clip280)\" d=\"M1057.14 1552.44 L1064.78 1552.44 L1064.78 1526.07 L1056.47 1527.74 L1056.47 1523.48 L1064.74 1521.81 L1069.41 1521.81 L1069.41 1552.44 L1077.05 1552.44 L1077.05 1556.37 L1057.14 1556.37 L1057.14 1552.44 Z\" fill=\"#000000\" fill-rule=\"evenodd\" fill-opacity=\"1\" /><path clip-path=\"url(#clip280)\" d=\"M1096.49 1524.89 Q1092.88 1524.89 1091.05 1528.46 Q1089.25 1532 1089.25 1539.13 Q1089.25 1546.23 1091.05 1549.8 Q1092.88 1553.34 1096.49 1553.34 Q1100.13 1553.34 1101.93 1549.8 Q1103.76 1546.23 1103.76 1539.13 Q1103.76 1532 1101.93 1528.46 Q1100.13 1524.89 1096.49 1524.89 M1096.49 1521.19 Q1102.3 1521.19 1105.36 1525.79 Q1108.44 1530.38 1108.44 1539.13 Q1108.44 1547.85 1105.36 1552.46 Q1102.3 1557.04 1096.49 1557.04 Q1090.68 1557.04 1087.61 1552.46 Q1084.55 1547.85 1084.55 1539.13 Q1084.55 1530.38 1087.61 1525.79 Q1090.68 1521.19 1096.49 1521.19 Z\" fill=\"#000000\" fill-rule=\"evenodd\" fill-opacity=\"1\" /><path clip-path=\"url(#clip280)\" d=\"M1108.44 1515.29 L1132.55 1515.29 L1132.55 1518.49 L1108.44 1518.49 L1108.44 1515.29 Z\" fill=\"#000000\" fill-rule=\"evenodd\" fill-opacity=\"1\" /><path clip-path=\"url(#clip280)\" d=\"M1144.02 1525.76 L1157.28 1525.76 L1157.28 1528.96 L1139.45 1528.96 L1139.45 1525.76 Q1141.62 1523.53 1145.34 1519.76 Q1149.08 1515.98 1150.04 1514.89 Q1151.87 1512.84 1152.58 1511.43 Q1153.31 1510 1153.31 1508.63 Q1153.31 1506.39 1151.73 1504.98 Q1150.17 1503.57 1147.65 1503.57 Q1145.87 1503.57 1143.87 1504.19 Q1141.9 1504.81 1139.64 1506.07 L1139.64 1502.24 Q1141.94 1501.31 1143.93 1500.84 Q1145.92 1500.37 1147.58 1500.37 Q1151.94 1500.37 1154.54 1502.56 Q1157.13 1504.74 1157.13 1508.39 Q1157.13 1510.12 1156.47 1511.68 Q1155.83 1513.22 1154.12 1515.33 Q1153.65 1515.87 1151.13 1518.49 Q1148.61 1521.08 1144.02 1525.76 Z\" fill=\"#000000\" fill-rule=\"evenodd\" fill-opacity=\"1\" /><path clip-path=\"url(#clip280)\" d=\"M1904.42 1552.44 L1912.06 1552.44 L1912.06 1526.07 L1903.75 1527.74 L1903.75 1523.48 L1912.01 1521.81 L1916.69 1521.81 L1916.69 1552.44 L1924.33 1552.44 L1924.33 1556.37 L1904.42 1556.37 L1904.42 1552.44 Z\" fill=\"#000000\" fill-rule=\"evenodd\" fill-opacity=\"1\" /><path clip-path=\"url(#clip280)\" d=\"M1943.77 1524.89 Q1940.16 1524.89 1938.33 1528.46 Q1936.53 1532 1936.53 1539.13 Q1936.53 1546.23 1938.33 1549.8 Q1940.16 1553.34 1943.77 1553.34 Q1947.41 1553.34 1949.21 1549.8 Q1951.04 1546.23 1951.04 1539.13 Q1951.04 1532 1949.21 1528.46 Q1947.41 1524.89 1943.77 1524.89 M1943.77 1521.19 Q1949.58 1521.19 1952.64 1525.79 Q1955.72 1530.38 1955.72 1539.13 Q1955.72 1547.85 1952.64 1552.46 Q1949.58 1557.04 1943.77 1557.04 Q1937.96 1557.04 1934.88 1552.46 Q1931.83 1547.85 1931.83 1539.13 Q1931.83 1530.38 1934.88 1525.79 Q1937.96 1521.19 1943.77 1521.19 Z\" fill=\"#000000\" fill-rule=\"evenodd\" fill-opacity=\"1\" /><path clip-path=\"url(#clip280)\" d=\"M1955.72 1515.29 L1979.83 1515.29 L1979.83 1518.49 L1955.72 1518.49 L1955.72 1515.29 Z\" fill=\"#000000\" fill-rule=\"evenodd\" fill-opacity=\"1\" /><path clip-path=\"url(#clip280)\" d=\"M1988.69 1525.76 L1994.89 1525.76 L1994.89 1504.34 L1988.14 1505.7 L1988.14 1502.24 L1994.86 1500.88 L1998.66 1500.88 L1998.66 1525.76 L2004.86 1525.76 L2004.86 1528.96 L1988.69 1528.96 L1988.69 1525.76 Z\" fill=\"#000000\" fill-rule=\"evenodd\" fill-opacity=\"1\" /><polyline clip-path=\"url(#clip282)\" style=\"stroke:#000000; stroke-linecap:butt; stroke-linejoin:round; stroke-width:2; stroke-opacity:0.1; fill:none\" points=\"\n",
       "  189.496,1429.36 2352.76,1429.36 \n",
       "  \"/>\n",
       "<polyline clip-path=\"url(#clip282)\" style=\"stroke:#000000; stroke-linecap:butt; stroke-linejoin:round; stroke-width:2; stroke-opacity:0.1; fill:none\" points=\"\n",
       "  189.496,1214.66 2352.76,1214.66 \n",
       "  \"/>\n",
       "<polyline clip-path=\"url(#clip282)\" style=\"stroke:#000000; stroke-linecap:butt; stroke-linejoin:round; stroke-width:2; stroke-opacity:0.1; fill:none\" points=\"\n",
       "  189.496,999.956 2352.76,999.956 \n",
       "  \"/>\n",
       "<polyline clip-path=\"url(#clip282)\" style=\"stroke:#000000; stroke-linecap:butt; stroke-linejoin:round; stroke-width:2; stroke-opacity:0.1; fill:none\" points=\"\n",
       "  189.496,785.256 2352.76,785.256 \n",
       "  \"/>\n",
       "<polyline clip-path=\"url(#clip282)\" style=\"stroke:#000000; stroke-linecap:butt; stroke-linejoin:round; stroke-width:2; stroke-opacity:0.1; fill:none\" points=\"\n",
       "  189.496,570.555 2352.76,570.555 \n",
       "  \"/>\n",
       "<polyline clip-path=\"url(#clip282)\" style=\"stroke:#000000; stroke-linecap:butt; stroke-linejoin:round; stroke-width:2; stroke-opacity:0.1; fill:none\" points=\"\n",
       "  189.496,355.855 2352.76,355.855 \n",
       "  \"/>\n",
       "<polyline clip-path=\"url(#clip282)\" style=\"stroke:#000000; stroke-linecap:butt; stroke-linejoin:round; stroke-width:2; stroke-opacity:0.1; fill:none\" points=\"\n",
       "  189.496,141.154 2352.76,141.154 \n",
       "  \"/>\n",
       "<polyline clip-path=\"url(#clip280)\" style=\"stroke:#000000; stroke-linecap:butt; stroke-linejoin:round; stroke-width:4; stroke-opacity:1; fill:none\" points=\"\n",
       "  189.496,1474.16 189.496,47.2441 \n",
       "  \"/>\n",
       "<polyline clip-path=\"url(#clip280)\" style=\"stroke:#000000; stroke-linecap:butt; stroke-linejoin:round; stroke-width:4; stroke-opacity:1; fill:none\" points=\"\n",
       "  189.496,1429.36 208.394,1429.36 \n",
       "  \"/>\n",
       "<polyline clip-path=\"url(#clip280)\" style=\"stroke:#000000; stroke-linecap:butt; stroke-linejoin:round; stroke-width:4; stroke-opacity:1; fill:none\" points=\"\n",
       "  189.496,1214.66 208.394,1214.66 \n",
       "  \"/>\n",
       "<polyline clip-path=\"url(#clip280)\" style=\"stroke:#000000; stroke-linecap:butt; stroke-linejoin:round; stroke-width:4; stroke-opacity:1; fill:none\" points=\"\n",
       "  189.496,999.956 208.394,999.956 \n",
       "  \"/>\n",
       "<polyline clip-path=\"url(#clip280)\" style=\"stroke:#000000; stroke-linecap:butt; stroke-linejoin:round; stroke-width:4; stroke-opacity:1; fill:none\" points=\"\n",
       "  189.496,785.256 208.394,785.256 \n",
       "  \"/>\n",
       "<polyline clip-path=\"url(#clip280)\" style=\"stroke:#000000; stroke-linecap:butt; stroke-linejoin:round; stroke-width:4; stroke-opacity:1; fill:none\" points=\"\n",
       "  189.496,570.555 208.394,570.555 \n",
       "  \"/>\n",
       "<polyline clip-path=\"url(#clip280)\" style=\"stroke:#000000; stroke-linecap:butt; stroke-linejoin:round; stroke-width:4; stroke-opacity:1; fill:none\" points=\"\n",
       "  189.496,355.855 208.394,355.855 \n",
       "  \"/>\n",
       "<polyline clip-path=\"url(#clip280)\" style=\"stroke:#000000; stroke-linecap:butt; stroke-linejoin:round; stroke-width:4; stroke-opacity:1; fill:none\" points=\"\n",
       "  189.496,141.154 208.394,141.154 \n",
       "  \"/>\n",
       "<path clip-path=\"url(#clip280)\" d=\"M51.9267 1449.15 L59.5656 1449.15 L59.5656 1422.78 L51.2554 1424.45 L51.2554 1420.19 L59.5193 1418.52 L64.1952 1418.52 L64.1952 1449.15 L71.834 1449.15 L71.834 1453.08 L51.9267 1453.08 L51.9267 1449.15 Z\" fill=\"#000000\" fill-rule=\"evenodd\" fill-opacity=\"1\" /><path clip-path=\"url(#clip280)\" d=\"M91.2784 1421.6 Q87.6673 1421.6 85.8386 1425.17 Q84.033 1428.71 84.033 1435.84 Q84.033 1442.95 85.8386 1446.51 Q87.6673 1450.05 91.2784 1450.05 Q94.9126 1450.05 96.7182 1446.51 Q98.5468 1442.95 98.5468 1435.84 Q98.5468 1428.71 96.7182 1425.17 Q94.9126 1421.6 91.2784 1421.6 M91.2784 1417.9 Q97.0885 1417.9 100.144 1422.51 Q103.223 1427.09 103.223 1435.84 Q103.223 1444.57 100.144 1449.17 Q97.0885 1453.76 91.2784 1453.76 Q85.4682 1453.76 82.3895 1449.17 Q79.334 1444.57 79.334 1435.84 Q79.334 1427.09 82.3895 1422.51 Q85.4682 1417.9 91.2784 1417.9 Z\" fill=\"#000000\" fill-rule=\"evenodd\" fill-opacity=\"1\" /><path clip-path=\"url(#clip280)\" d=\"M103.223 1412 L127.334 1412 L127.334 1415.2 L103.223 1415.2 L103.223 1412 Z\" fill=\"#000000\" fill-rule=\"evenodd\" fill-opacity=\"1\" /><path clip-path=\"url(#clip280)\" d=\"M144.13 1410.12 Q141.572 1410.12 140.067 1411.87 Q138.581 1413.62 138.581 1416.67 Q138.581 1419.69 140.067 1421.46 Q141.572 1423.21 144.13 1423.21 Q146.688 1423.21 148.173 1421.46 Q149.678 1419.69 149.678 1416.67 Q149.678 1413.62 148.173 1411.87 Q146.688 1410.12 144.13 1410.12 M151.672 1398.22 L151.672 1401.68 Q150.242 1401 148.775 1400.64 Q147.327 1400.28 145.898 1400.28 Q142.136 1400.28 140.142 1402.82 Q138.168 1405.36 137.885 1410.5 Q138.995 1408.86 140.669 1408 Q142.343 1407.11 144.355 1407.11 Q148.587 1407.11 151.032 1409.69 Q153.496 1412.25 153.496 1416.67 Q153.496 1420.99 150.938 1423.61 Q148.38 1426.22 144.13 1426.22 Q139.258 1426.22 136.682 1422.5 Q134.105 1418.75 134.105 1411.66 Q134.105 1405 137.265 1401.06 Q140.425 1397.09 145.747 1397.09 Q147.177 1397.09 148.625 1397.37 Q150.092 1397.65 151.672 1398.22 Z\" fill=\"#000000\" fill-rule=\"evenodd\" fill-opacity=\"1\" /><path clip-path=\"url(#clip280)\" d=\"M52.8671 1234.45 L60.506 1234.45 L60.506 1208.08 L52.1958 1209.75 L52.1958 1205.49 L60.4597 1203.82 L65.1356 1203.82 L65.1356 1234.45 L72.7744 1234.45 L72.7744 1238.38 L52.8671 1238.38 L52.8671 1234.45 Z\" fill=\"#000000\" fill-rule=\"evenodd\" fill-opacity=\"1\" /><path clip-path=\"url(#clip280)\" d=\"M92.2188 1206.9 Q88.6077 1206.9 86.779 1210.47 Q84.9734 1214.01 84.9734 1221.14 Q84.9734 1228.25 86.779 1231.81 Q88.6077 1235.35 92.2188 1235.35 Q95.853 1235.35 97.6585 1231.81 Q99.4872 1228.25 99.4872 1221.14 Q99.4872 1214.01 97.6585 1210.47 Q95.853 1206.9 92.2188 1206.9 M92.2188 1203.2 Q98.0289 1203.2 101.084 1207.81 Q104.163 1212.39 104.163 1221.14 Q104.163 1229.87 101.084 1234.47 Q98.0289 1239.06 92.2188 1239.06 Q86.4086 1239.06 83.3299 1234.47 Q80.2744 1229.87 80.2744 1221.14 Q80.2744 1212.39 83.3299 1207.81 Q86.4086 1203.2 92.2188 1203.2 Z\" fill=\"#000000\" fill-rule=\"evenodd\" fill-opacity=\"1\" /><path clip-path=\"url(#clip280)\" d=\"M104.163 1197.3 L128.275 1197.3 L128.275 1200.5 L104.163 1200.5 L104.163 1197.3 Z\" fill=\"#000000\" fill-rule=\"evenodd\" fill-opacity=\"1\" /><path clip-path=\"url(#clip280)\" d=\"M136.513 1182.89 L151.427 1182.89 L151.427 1186.09 L139.992 1186.09 L139.992 1192.97 Q140.819 1192.69 141.647 1192.56 Q142.475 1192.41 143.302 1192.41 Q148.004 1192.41 150.75 1194.99 Q153.496 1197.56 153.496 1201.97 Q153.496 1206.5 150.675 1209.02 Q147.854 1211.52 142.719 1211.52 Q140.951 1211.52 139.108 1211.22 Q137.284 1210.92 135.328 1210.32 L135.328 1206.5 Q137.02 1207.42 138.826 1207.87 Q140.631 1208.32 142.644 1208.32 Q145.898 1208.32 147.797 1206.61 Q149.697 1204.9 149.697 1201.97 Q149.697 1199.03 147.797 1197.32 Q145.898 1195.61 142.644 1195.61 Q141.12 1195.61 139.597 1195.95 Q138.092 1196.29 136.513 1197 L136.513 1182.89 Z\" fill=\"#000000\" fill-rule=\"evenodd\" fill-opacity=\"1\" /><path clip-path=\"url(#clip280)\" d=\"M51.6634 1019.75 L59.3023 1019.75 L59.3023 993.383 L50.9921 995.05 L50.9921 990.791 L59.256 989.124 L63.9319 989.124 L63.9319 1019.75 L71.5707 1019.75 L71.5707 1023.68 L51.6634 1023.68 L51.6634 1019.75 Z\" fill=\"#000000\" fill-rule=\"evenodd\" fill-opacity=\"1\" /><path clip-path=\"url(#clip280)\" d=\"M91.0151 992.203 Q87.404 992.203 85.5753 995.767 Q83.7697 999.309 83.7697 1006.44 Q83.7697 1013.55 85.5753 1017.11 Q87.404 1020.65 91.0151 1020.65 Q94.6493 1020.65 96.4548 1017.11 Q98.2835 1013.55 98.2835 1006.44 Q98.2835 999.309 96.4548 995.767 Q94.6493 992.203 91.0151 992.203 M91.0151 988.499 Q96.8252 988.499 99.8808 993.105 Q102.959 997.689 102.959 1006.44 Q102.959 1015.17 99.8808 1019.77 Q96.8252 1024.36 91.0151 1024.36 Q85.2049 1024.36 82.1262 1019.77 Q79.0707 1015.17 79.0707 1006.44 Q79.0707 997.689 82.1262 993.105 Q85.2049 988.499 91.0151 988.499 Z\" fill=\"#000000\" fill-rule=\"evenodd\" fill-opacity=\"1\" /><path clip-path=\"url(#clip280)\" d=\"M102.959 982.6 L127.071 982.6 L127.071 985.798 L102.959 985.798 L102.959 982.6 Z\" fill=\"#000000\" fill-rule=\"evenodd\" fill-opacity=\"1\" /><path clip-path=\"url(#clip280)\" d=\"M145.71 971.504 L136.118 986.493 L145.71 986.493 L145.71 971.504 M144.713 968.193 L149.49 968.193 L149.49 986.493 L153.496 986.493 L153.496 989.653 L149.49 989.653 L149.49 996.273 L145.71 996.273 L145.71 989.653 L133.033 989.653 L133.033 985.986 L144.713 968.193 Z\" fill=\"#000000\" fill-rule=\"evenodd\" fill-opacity=\"1\" /><path clip-path=\"url(#clip280)\" d=\"M52.585 805.048 L60.2238 805.048 L60.2238 778.683 L51.9137 780.349 L51.9137 776.09 L60.1776 774.423 L64.8535 774.423 L64.8535 805.048 L72.4923 805.048 L72.4923 808.983 L52.585 808.983 L52.585 805.048 Z\" fill=\"#000000\" fill-rule=\"evenodd\" fill-opacity=\"1\" /><path clip-path=\"url(#clip280)\" d=\"M91.9366 777.502 Q88.3255 777.502 86.4969 781.067 Q84.6913 784.608 84.6913 791.738 Q84.6913 798.844 86.4969 802.409 Q88.3255 805.951 91.9366 805.951 Q95.5709 805.951 97.3764 802.409 Q99.2051 798.844 99.2051 791.738 Q99.2051 784.608 97.3764 781.067 Q95.5709 777.502 91.9366 777.502 M91.9366 773.798 Q97.7468 773.798 100.802 778.405 Q103.881 782.988 103.881 791.738 Q103.881 800.465 100.802 805.071 Q97.7468 809.655 91.9366 809.655 Q86.1265 809.655 83.0478 805.071 Q79.9923 800.465 79.9923 791.738 Q79.9923 782.988 83.0478 778.405 Q86.1265 773.798 91.9366 773.798 Z\" fill=\"#000000\" fill-rule=\"evenodd\" fill-opacity=\"1\" /><path clip-path=\"url(#clip280)\" d=\"M103.881 767.9 L127.993 767.9 L127.993 771.097 L103.881 771.097 L103.881 767.9 Z\" fill=\"#000000\" fill-rule=\"evenodd\" fill-opacity=\"1\" /><path clip-path=\"url(#clip280)\" d=\"M147.703 766.433 Q150.43 767.016 151.954 768.859 Q153.496 770.702 153.496 773.41 Q153.496 777.567 150.637 779.843 Q147.778 782.118 142.512 782.118 Q140.744 782.118 138.863 781.761 Q137.002 781.422 135.008 780.727 L135.008 777.059 Q136.588 777.981 138.469 778.451 Q140.349 778.921 142.399 778.921 Q145.973 778.921 147.835 777.51 Q149.716 776.1 149.716 773.41 Q149.716 770.928 147.966 769.536 Q146.236 768.125 143.133 768.125 L139.86 768.125 L139.86 765.003 L143.283 765.003 Q146.086 765.003 147.571 763.894 Q149.057 762.765 149.057 760.659 Q149.057 758.496 147.515 757.349 Q145.992 756.182 143.133 756.182 Q141.572 756.182 139.785 756.521 Q137.998 756.859 135.854 757.574 L135.854 754.189 Q138.017 753.587 139.898 753.286 Q141.797 752.985 143.471 752.985 Q147.797 752.985 150.317 754.96 Q152.838 756.916 152.838 760.264 Q152.838 762.596 151.502 764.213 Q150.167 765.812 147.703 766.433 Z\" fill=\"#000000\" fill-rule=\"evenodd\" fill-opacity=\"1\" /><path clip-path=\"url(#clip280)\" d=\"M53.3561 590.348 L60.995 590.348 L60.995 563.982 L52.6848 565.649 L52.6848 561.389 L60.9487 559.723 L65.6246 559.723 L65.6246 590.348 L73.2634 590.348 L73.2634 594.283 L53.3561 594.283 L53.3561 590.348 Z\" fill=\"#000000\" fill-rule=\"evenodd\" fill-opacity=\"1\" /><path clip-path=\"url(#clip280)\" d=\"M92.7078 562.801 Q89.0967 562.801 87.268 566.366 Q85.4624 569.908 85.4624 577.037 Q85.4624 584.144 87.268 587.709 Q89.0967 591.25 92.7078 591.25 Q96.342 591.25 98.1475 587.709 Q99.9762 584.144 99.9762 577.037 Q99.9762 569.908 98.1475 566.366 Q96.342 562.801 92.7078 562.801 M92.7078 559.098 Q98.5179 559.098 101.573 563.704 Q104.652 568.288 104.652 577.037 Q104.652 585.764 101.573 590.371 Q98.5179 594.954 92.7078 594.954 Q86.8976 594.954 83.8189 590.371 Q80.7634 585.764 80.7634 577.037 Q80.7634 568.288 83.8189 563.704 Q86.8976 559.098 92.7078 559.098 Z\" fill=\"#000000\" fill-rule=\"evenodd\" fill-opacity=\"1\" /><path clip-path=\"url(#clip280)\" d=\"M104.652 553.199 L128.764 553.199 L128.764 556.396 L104.652 556.396 L104.652 553.199 Z\" fill=\"#000000\" fill-rule=\"evenodd\" fill-opacity=\"1\" /><path clip-path=\"url(#clip280)\" d=\"M140.236 563.675 L153.496 563.675 L153.496 566.872 L135.666 566.872 L135.666 563.675 Q137.829 561.437 141.553 557.675 Q145.296 553.895 146.255 552.804 Q148.079 550.754 148.794 549.344 Q149.527 547.914 149.527 546.541 Q149.527 544.303 147.948 542.892 Q146.387 541.482 143.866 541.482 Q142.08 541.482 140.086 542.103 Q138.111 542.723 135.854 543.983 L135.854 540.147 Q138.149 539.225 140.142 538.755 Q142.136 538.285 143.791 538.285 Q148.155 538.285 150.75 540.466 Q153.345 542.648 153.345 546.297 Q153.345 548.027 152.687 549.588 Q152.048 551.13 150.336 553.237 Q149.866 553.782 147.346 556.396 Q144.826 558.992 140.236 563.675 Z\" fill=\"#000000\" fill-rule=\"evenodd\" fill-opacity=\"1\" /><path clip-path=\"url(#clip280)\" d=\"M53.0552 375.647 L60.694 375.647 L60.694 349.281 L52.3839 350.948 L52.3839 346.689 L60.6477 345.022 L65.3236 345.022 L65.3236 375.647 L72.9625 375.647 L72.9625 379.582 L53.0552 379.582 L53.0552 375.647 Z\" fill=\"#000000\" fill-rule=\"evenodd\" fill-opacity=\"1\" /><path clip-path=\"url(#clip280)\" d=\"M92.4068 348.101 Q88.7957 348.101 86.967 351.666 Q85.1615 355.207 85.1615 362.337 Q85.1615 369.443 86.967 373.008 Q88.7957 376.55 92.4068 376.55 Q96.0411 376.55 97.8466 373.008 Q99.6753 369.443 99.6753 362.337 Q99.6753 355.207 97.8466 351.666 Q96.0411 348.101 92.4068 348.101 M92.4068 344.397 Q98.217 344.397 101.273 349.004 Q104.351 353.587 104.351 362.337 Q104.351 371.064 101.273 375.67 Q98.217 380.254 92.4068 380.254 Q86.5967 380.254 83.518 375.67 Q80.4625 371.064 80.4625 362.337 Q80.4625 353.587 83.518 349.004 Q86.5967 344.397 92.4068 344.397 Z\" fill=\"#000000\" fill-rule=\"evenodd\" fill-opacity=\"1\" /><path clip-path=\"url(#clip280)\" d=\"M104.351 338.499 L128.463 338.499 L128.463 341.696 L104.351 341.696 L104.351 338.499 Z\" fill=\"#000000\" fill-rule=\"evenodd\" fill-opacity=\"1\" /><path clip-path=\"url(#clip280)\" d=\"M137.321 348.975 L143.528 348.975 L143.528 327.552 L136.776 328.907 L136.776 325.446 L143.49 324.092 L147.289 324.092 L147.289 348.975 L153.496 348.975 L153.496 352.172 L137.321 352.172 L137.321 348.975 Z\" fill=\"#000000\" fill-rule=\"evenodd\" fill-opacity=\"1\" /><path clip-path=\"url(#clip280)\" d=\"M82.7903 160.947 L90.4291 160.947 L90.4291 134.581 L82.119 136.248 L82.119 131.988 L90.3828 130.322 L95.0587 130.322 L95.0587 160.947 L102.698 160.947 L102.698 164.882 L82.7903 164.882 L82.7903 160.947 Z\" fill=\"#000000\" fill-rule=\"evenodd\" fill-opacity=\"1\" /><path clip-path=\"url(#clip280)\" d=\"M122.142 133.4 Q118.531 133.4 116.702 136.965 Q114.897 140.507 114.897 147.636 Q114.897 154.743 116.702 158.308 Q118.531 161.849 122.142 161.849 Q125.776 161.849 127.582 158.308 Q129.41 154.743 129.41 147.636 Q129.41 140.507 127.582 136.965 Q125.776 133.4 122.142 133.4 M122.142 129.697 Q127.952 129.697 131.008 134.303 Q134.086 138.886 134.086 147.636 Q134.086 156.363 131.008 160.97 Q127.952 165.553 122.142 165.553 Q116.332 165.553 113.253 160.97 Q110.198 156.363 110.198 147.636 Q110.198 138.886 113.253 134.303 Q116.332 129.697 122.142 129.697 Z\" fill=\"#000000\" fill-rule=\"evenodd\" fill-opacity=\"1\" /><path clip-path=\"url(#clip280)\" d=\"M143.791 111.893 Q140.857 111.893 139.371 114.789 Q137.904 117.667 137.904 123.46 Q137.904 129.233 139.371 132.13 Q140.857 135.007 143.791 135.007 Q146.744 135.007 148.211 132.13 Q149.697 129.233 149.697 123.46 Q149.697 117.667 148.211 114.789 Q146.744 111.893 143.791 111.893 M143.791 108.883 Q148.512 108.883 150.994 112.626 Q153.496 116.35 153.496 123.46 Q153.496 130.55 150.994 134.293 Q148.512 138.017 143.791 138.017 Q139.07 138.017 136.569 134.293 Q134.086 130.55 134.086 123.46 Q134.086 116.35 136.569 112.626 Q139.07 108.883 143.791 108.883 Z\" fill=\"#000000\" fill-rule=\"evenodd\" fill-opacity=\"1\" /><polyline clip-path=\"url(#clip282)\" style=\"stroke:#009af9; stroke-linecap:butt; stroke-linejoin:round; stroke-width:4; stroke-opacity:1; fill:none\" points=\"\n",
       "  2291.53,87.6286 2036.43,273.114 1781.33,439.78 1526.23,587.21 1271.13,725.307 1016.02,858.917 760.923,990.336 505.822,1120.67 250.72,1250.47 \n",
       "  \"/>\n",
       "<circle clip-path=\"url(#clip282)\" cx=\"2291.53\" cy=\"87.6286\" r=\"14\" fill=\"#009af9\" fill-rule=\"evenodd\" fill-opacity=\"1\" stroke=\"#000000\" stroke-opacity=\"1\" stroke-width=\"3.2\"/>\n",
       "<circle clip-path=\"url(#clip282)\" cx=\"2036.43\" cy=\"273.114\" r=\"14\" fill=\"#009af9\" fill-rule=\"evenodd\" fill-opacity=\"1\" stroke=\"#000000\" stroke-opacity=\"1\" stroke-width=\"3.2\"/>\n",
       "<circle clip-path=\"url(#clip282)\" cx=\"1781.33\" cy=\"439.78\" r=\"14\" fill=\"#009af9\" fill-rule=\"evenodd\" fill-opacity=\"1\" stroke=\"#000000\" stroke-opacity=\"1\" stroke-width=\"3.2\"/>\n",
       "<circle clip-path=\"url(#clip282)\" cx=\"1526.23\" cy=\"587.21\" r=\"14\" fill=\"#009af9\" fill-rule=\"evenodd\" fill-opacity=\"1\" stroke=\"#000000\" stroke-opacity=\"1\" stroke-width=\"3.2\"/>\n",
       "<circle clip-path=\"url(#clip282)\" cx=\"1271.13\" cy=\"725.307\" r=\"14\" fill=\"#009af9\" fill-rule=\"evenodd\" fill-opacity=\"1\" stroke=\"#000000\" stroke-opacity=\"1\" stroke-width=\"3.2\"/>\n",
       "<circle clip-path=\"url(#clip282)\" cx=\"1016.02\" cy=\"858.917\" r=\"14\" fill=\"#009af9\" fill-rule=\"evenodd\" fill-opacity=\"1\" stroke=\"#000000\" stroke-opacity=\"1\" stroke-width=\"3.2\"/>\n",
       "<circle clip-path=\"url(#clip282)\" cx=\"760.923\" cy=\"990.336\" r=\"14\" fill=\"#009af9\" fill-rule=\"evenodd\" fill-opacity=\"1\" stroke=\"#000000\" stroke-opacity=\"1\" stroke-width=\"3.2\"/>\n",
       "<circle clip-path=\"url(#clip282)\" cx=\"505.822\" cy=\"1120.67\" r=\"14\" fill=\"#009af9\" fill-rule=\"evenodd\" fill-opacity=\"1\" stroke=\"#000000\" stroke-opacity=\"1\" stroke-width=\"3.2\"/>\n",
       "<circle clip-path=\"url(#clip282)\" cx=\"250.72\" cy=\"1250.47\" r=\"14\" fill=\"#009af9\" fill-rule=\"evenodd\" fill-opacity=\"1\" stroke=\"#000000\" stroke-opacity=\"1\" stroke-width=\"3.2\"/>\n",
       "<polyline clip-path=\"url(#clip282)\" style=\"stroke:#e26f46; stroke-linecap:butt; stroke-linejoin:round; stroke-width:4; stroke-opacity:1; fill:none\" points=\"\n",
       "  250.72,1433.78 270.65,1423.68 454.934,1330.3 565.681,1274.19 659.315,1226.74 761.029,1175.2 854.8,1127.69 955.333,1076.75 1071.81,1017.73 1175.32,965.275 \n",
       "  1266.09,919.282 1365.05,869.136 1464.6,818.692 1574.67,762.92 1679.4,709.854 1788.29,654.678 1879.95,608.232 1991.86,551.526 2097.06,498.221 2265.59,412.822 \n",
       "  2291.53,399.679 \n",
       "  \"/>\n",
       "<path clip-path=\"url(#clip280)\" d=\"\n",
       "M1987.85 250.328 L2280.65 250.328 L2280.65 94.8081 L1987.85 94.8081  Z\n",
       "  \" fill=\"#ffffff\" fill-rule=\"evenodd\" fill-opacity=\"1\"/>\n",
       "<polyline clip-path=\"url(#clip280)\" style=\"stroke:#000000; stroke-linecap:butt; stroke-linejoin:round; stroke-width:4; stroke-opacity:1; fill:none\" points=\"\n",
       "  1987.85,250.328 2280.65,250.328 2280.65,94.8081 1987.85,94.8081 1987.85,250.328 \n",
       "  \"/>\n",
       "<polyline clip-path=\"url(#clip280)\" style=\"stroke:#009af9; stroke-linecap:butt; stroke-linejoin:round; stroke-width:4; stroke-opacity:1; fill:none\" points=\"\n",
       "  2011.89,146.648 2156.11,146.648 \n",
       "  \"/>\n",
       "<circle clip-path=\"url(#clip280)\" cx=\"2084\" cy=\"146.648\" r=\"23\" fill=\"#009af9\" fill-rule=\"evenodd\" fill-opacity=\"1\" stroke=\"#000000\" stroke-opacity=\"1\" stroke-width=\"5.12\"/>\n",
       "<path clip-path=\"url(#clip280)\" d=\"M2193.99 166.336 Q2192.18 170.965 2190.47 172.377 Q2188.76 173.789 2185.89 173.789 L2182.48 173.789 L2182.48 170.224 L2184.98 170.224 Q2186.74 170.224 2187.71 169.391 Q2188.69 168.558 2189.87 165.456 L2190.63 163.511 L2180.14 138.002 L2184.66 138.002 L2192.76 158.28 L2200.86 138.002 L2205.38 138.002 L2193.99 166.336 Z\" fill=\"#000000\" fill-rule=\"evenodd\" fill-opacity=\"1\" /><path clip-path=\"url(#clip280)\" d=\"M2212.67 159.993 L2220.31 159.993 L2220.31 133.627 L2212 135.294 L2212 131.035 L2220.26 129.368 L2224.94 129.368 L2224.94 159.993 L2232.57 159.993 L2232.57 163.928 L2212.67 163.928 L2212.67 159.993 Z\" fill=\"#000000\" fill-rule=\"evenodd\" fill-opacity=\"1\" /><polyline clip-path=\"url(#clip280)\" style=\"stroke:#e26f46; stroke-linecap:butt; stroke-linejoin:round; stroke-width:4; stroke-opacity:1; fill:none\" points=\"\n",
       "  2011.89,198.488 2156.11,198.488 \n",
       "  \"/>\n",
       "<path clip-path=\"url(#clip280)\" d=\"M2193.99 218.176 Q2192.18 222.805 2190.47 224.217 Q2188.76 225.629 2185.89 225.629 L2182.48 225.629 L2182.48 222.064 L2184.98 222.064 Q2186.74 222.064 2187.71 221.231 Q2188.69 220.398 2189.87 217.296 L2190.63 215.351 L2180.14 189.842 L2184.66 189.842 L2192.76 210.12 L2200.86 189.842 L2205.38 189.842 L2193.99 218.176 Z\" fill=\"#000000\" fill-rule=\"evenodd\" fill-opacity=\"1\" /><path clip-path=\"url(#clip280)\" d=\"M2215.89 211.833 L2232.2 211.833 L2232.2 215.768 L2210.26 215.768 L2210.26 211.833 Q2212.92 209.078 2217.51 204.449 Q2222.11 199.796 2223.29 198.453 Q2225.54 195.93 2226.42 194.194 Q2227.32 192.435 2227.32 190.745 Q2227.32 187.99 2225.38 186.254 Q2223.45 184.518 2220.35 184.518 Q2218.15 184.518 2215.7 185.282 Q2213.27 186.046 2210.49 187.597 L2210.49 182.875 Q2213.32 181.741 2215.77 181.162 Q2218.22 180.583 2220.26 180.583 Q2225.63 180.583 2228.82 183.268 Q2232.02 185.953 2232.02 190.444 Q2232.02 192.574 2231.21 194.495 Q2230.42 196.393 2228.32 198.986 Q2227.74 199.657 2224.64 202.875 Q2221.53 206.069 2215.89 211.833 Z\" fill=\"#000000\" fill-rule=\"evenodd\" fill-opacity=\"1\" /></svg>\n"
      ]
     },
     "execution_count": 10,
     "metadata": {},
     "output_type": "execute_result"
    }
   ],
   "source": [
    "plot(hs, [poisson_error(n) for n in ns], marker=:circle)\n",
    "plot!(h -> h^2, xscale=:log10, yscale=:log10)"
   ]
  },
  {
   "cell_type": "markdown",
   "id": "ceeb0e08",
   "metadata": {
    "slideshow": {
     "slide_type": "slide"
    }
   },
   "source": [
    "# Symmetry in boundary conditions: Dirichlet"
   ]
  },
  {
   "cell_type": "markdown",
   "id": "022014f3",
   "metadata": {
    "cell_style": "split"
   },
   "source": [
    "We have implemented Dirichlet conditions by modifying the first row of the matrix,\n",
    "$$ \\begin{bmatrix} 1 & 0 & 0 & 0 & 0 \\\\ \\\\ & & A_{1:,:} & & \\\\ \\\\ \\end{bmatrix} \\begin{bmatrix} u_0 \\\\ \\\\ u_{1:} \\\\ \\\\ \\end{bmatrix} = \\begin{bmatrix} a \\\\ \\\\ f_{1:} \\\\ \\\\ \\end{bmatrix} . $$\n",
    "\n",
    "* This matrix is not symmetric even if $A$ is.\n",
    "* We can eliminate $u_0$ and create a reduced system for $u_{1:}$.\n",
    "* Generalize: consider a $2\\times 2$ block system\n",
    "$$ \\begin{bmatrix} I & 0 \\\\ A_{10} & A_{11} \\end{bmatrix} \\begin{bmatrix} u_0 \\\\ u_1 \\end{bmatrix} = \\begin{bmatrix} f_0 \\\\ f_1 \\end{bmatrix} .$$"
   ]
  },
  {
   "cell_type": "markdown",
   "id": "058c2fa9",
   "metadata": {
    "cell_style": "split"
   },
   "source": [
    "We can rearrange as\n",
    "$$ A_{11} u_1 = f_1 - A_{10} f_0, $$\n",
    "which is symmetric if $A_{11}$ is.\n",
    "* This is called \"lifting\" and is often done implicitly in the mathematics literature.  It is convenient for linear solvers and eigenvalue solvers, but inconvenient for IO and postprocessing, as well as some nonlinear problems.\n",
    "* Convenient alternative: write\n",
    "$$ \\begin{bmatrix} I & 0 \\\\ 0 & A_{11} \\end{bmatrix} \\begin{bmatrix} u_0 \\\\ u_1 \\end{bmatrix} = \\begin{bmatrix} f_0 \\\\ f_1 - A_{10} f_0 \\end{bmatrix}, $$\n",
    "which is symmetric and decouples the degrees of freedom associated with the boundary. This method applies cleanly to nonlinear problems.\n",
    "* Optionally scale the identity by some scalar related to the norm of $A_{11}$."
   ]
  },
  {
   "cell_type": "markdown",
   "id": "ad1e6953",
   "metadata": {
    "slideshow": {
     "slide_type": "slide"
    }
   },
   "source": [
    "# Symmetry in boundary conditions: Neumann"
   ]
  },
  {
   "cell_type": "markdown",
   "id": "7af389c0",
   "metadata": {
    "cell_style": "split",
    "slideshow": {
     "slide_type": "slide"
    }
   },
   "source": [
    "Consider FD discretization of the Neumann boundary condition\n",
    "$$ \\frac{du}{dx}(1) = b . $$\n",
    "1. Use a one-sided difference formula as in\n",
    "$$ \\frac{u_n - u_{n-1}}{h} = b . $$\n",
    "  * an extra discretization choice\n",
    "  * may reduce order of accuracy compared to interior discretization, lose symmetry.\n",
    "2. Temporarily introduce a ghost value $u_{n+1} = u(x_{n+1} = 1 + h)$ (possibly more) and define it to be a reflection of the values from inside the domain.  In the case $b=0$, this reflection is $u_{n+i} = u_{n-i}$.  More generally,\n",
    "$$ u_{n+i} = u_{n-i} + 2b(x_n - x_{n-i}) . $$"
   ]
  },
  {
   "cell_type": "markdown",
   "id": "34220f52",
   "metadata": {
    "cell_style": "split",
    "slideshow": {
     "slide_type": "slide"
    }
   },
   "source": [
    "After this definition of ghost values, we apply the interior discretization at the boundary. For our reference equation, we would write\n",
    "\n",
    "$$ \\frac{-u_{n-1} + 2 u_n - u_{n+1}}{h^2} = f(x_n) $$\n",
    "\n",
    "which simplifies to $$ \\frac{u_n - u_{n-1}}{h^2} = f(x_n)/2 + b/h $$\n",
    "after dividing by 2 and moving the boundary term to the right hand side."
   ]
  },
  {
   "cell_type": "markdown",
   "id": "0a1136d5",
   "metadata": {
    "slideshow": {
     "slide_type": "slide"
    }
   },
   "source": [
    "# Fourier analysis of stencils\n",
    "\n",
    "Consider the plane waves $\\phi(x, \\theta) = e^{i\\theta x}$."
   ]
  },
  {
   "cell_type": "markdown",
   "id": "ed39c98a",
   "metadata": {
    "cell_style": "split"
   },
   "source": [
    "Sample $\\phi$ on a discrete grid $x = \\mathbb Z$ and apply the stencil\n",
    "\\begin{align}\n",
    "S \\phi(x, \\theta) &= s_{-1} \\phi(x-1, \\theta) + s_{0} \\phi(x, \\theta) + s_1 \\phi(x+1,\\theta) \\\\\n",
    "&= \\Big( s_{-1} e^{-i\\theta} + s_0 + s_{1} e^{i\\theta} \\Big) \\phi(x, \\theta)\n",
    "\\end{align}\n",
    "With $S = \\begin{bmatrix} -1 & 2 & -1 \\end{bmatrix}$, we get\n",
    "$$S \\phi(x, \\theta) = \\underbrace{(2 - 2 \\cos\\theta)}_{\\hat S(\\theta)} \\phi(x, \\theta)$$\n",
    "We call $\\hat S(\\theta)$ the *symbol* of the operator.\n",
    "What is the symbol of the continuous second derivative?"
   ]
  },
  {
   "cell_type": "code",
   "execution_count": 11,
   "id": "b8353978",
   "metadata": {
    "cell_style": "split"
   },
   "outputs": [
    {
     "data": {
      "image/svg+xml": [
       "<?xml version=\"1.0\" encoding=\"utf-8\"?>\n",
       "<svg xmlns=\"http://www.w3.org/2000/svg\" xmlns:xlink=\"http://www.w3.org/1999/xlink\" width=\"600\" height=\"400\" viewBox=\"0 0 2400 1600\">\n",
       "<defs>\n",
       "  <clipPath id=\"clip320\">\n",
       "    <rect x=\"0\" y=\"0\" width=\"2400\" height=\"1600\"/>\n",
       "  </clipPath>\n",
       "</defs>\n",
       "<path clip-path=\"url(#clip320)\" d=\"\n",
       "M0 1600 L2400 1600 L2400 0 L0 0  Z\n",
       "  \" fill=\"#ffffff\" fill-rule=\"evenodd\" fill-opacity=\"1\"/>\n",
       "<defs>\n",
       "  <clipPath id=\"clip321\">\n",
       "    <rect x=\"480\" y=\"0\" width=\"1681\" height=\"1600\"/>\n",
       "  </clipPath>\n",
       "</defs>\n",
       "<path clip-path=\"url(#clip320)\" d=\"\n",
       "M112.177 1486.45 L2352.76 1486.45 L2352.76 47.2441 L112.177 47.2441  Z\n",
       "  \" fill=\"#ffffff\" fill-rule=\"evenodd\" fill-opacity=\"1\"/>\n",
       "<defs>\n",
       "  <clipPath id=\"clip322\">\n",
       "    <rect x=\"112\" y=\"47\" width=\"2242\" height=\"1440\"/>\n",
       "  </clipPath>\n",
       "</defs>\n",
       "<polyline clip-path=\"url(#clip322)\" style=\"stroke:#000000; stroke-linecap:butt; stroke-linejoin:round; stroke-width:2; stroke-opacity:0.1; fill:none\" points=\"\n",
       "  162.669,1486.45 162.669,47.2441 \n",
       "  \"/>\n",
       "<polyline clip-path=\"url(#clip322)\" style=\"stroke:#000000; stroke-linecap:butt; stroke-linejoin:round; stroke-width:2; stroke-opacity:0.1; fill:none\" points=\"\n",
       "  519.268,1486.45 519.268,47.2441 \n",
       "  \"/>\n",
       "<polyline clip-path=\"url(#clip322)\" style=\"stroke:#000000; stroke-linecap:butt; stroke-linejoin:round; stroke-width:2; stroke-opacity:0.1; fill:none\" points=\"\n",
       "  875.867,1486.45 875.867,47.2441 \n",
       "  \"/>\n",
       "<polyline clip-path=\"url(#clip322)\" style=\"stroke:#000000; stroke-linecap:butt; stroke-linejoin:round; stroke-width:2; stroke-opacity:0.1; fill:none\" points=\"\n",
       "  1232.47,1486.45 1232.47,47.2441 \n",
       "  \"/>\n",
       "<polyline clip-path=\"url(#clip322)\" style=\"stroke:#000000; stroke-linecap:butt; stroke-linejoin:round; stroke-width:2; stroke-opacity:0.1; fill:none\" points=\"\n",
       "  1589.07,1486.45 1589.07,47.2441 \n",
       "  \"/>\n",
       "<polyline clip-path=\"url(#clip322)\" style=\"stroke:#000000; stroke-linecap:butt; stroke-linejoin:round; stroke-width:2; stroke-opacity:0.1; fill:none\" points=\"\n",
       "  1945.66,1486.45 1945.66,47.2441 \n",
       "  \"/>\n",
       "<polyline clip-path=\"url(#clip322)\" style=\"stroke:#000000; stroke-linecap:butt; stroke-linejoin:round; stroke-width:2; stroke-opacity:0.1; fill:none\" points=\"\n",
       "  2302.26,1486.45 2302.26,47.2441 \n",
       "  \"/>\n",
       "<polyline clip-path=\"url(#clip320)\" style=\"stroke:#000000; stroke-linecap:butt; stroke-linejoin:round; stroke-width:4; stroke-opacity:1; fill:none\" points=\"\n",
       "  112.177,1486.45 2352.76,1486.45 \n",
       "  \"/>\n",
       "<polyline clip-path=\"url(#clip320)\" style=\"stroke:#000000; stroke-linecap:butt; stroke-linejoin:round; stroke-width:4; stroke-opacity:1; fill:none\" points=\"\n",
       "  162.669,1486.45 162.669,1467.55 \n",
       "  \"/>\n",
       "<polyline clip-path=\"url(#clip320)\" style=\"stroke:#000000; stroke-linecap:butt; stroke-linejoin:round; stroke-width:4; stroke-opacity:1; fill:none\" points=\"\n",
       "  519.268,1486.45 519.268,1467.55 \n",
       "  \"/>\n",
       "<polyline clip-path=\"url(#clip320)\" style=\"stroke:#000000; stroke-linecap:butt; stroke-linejoin:round; stroke-width:4; stroke-opacity:1; fill:none\" points=\"\n",
       "  875.867,1486.45 875.867,1467.55 \n",
       "  \"/>\n",
       "<polyline clip-path=\"url(#clip320)\" style=\"stroke:#000000; stroke-linecap:butt; stroke-linejoin:round; stroke-width:4; stroke-opacity:1; fill:none\" points=\"\n",
       "  1232.47,1486.45 1232.47,1467.55 \n",
       "  \"/>\n",
       "<polyline clip-path=\"url(#clip320)\" style=\"stroke:#000000; stroke-linecap:butt; stroke-linejoin:round; stroke-width:4; stroke-opacity:1; fill:none\" points=\"\n",
       "  1589.07,1486.45 1589.07,1467.55 \n",
       "  \"/>\n",
       "<polyline clip-path=\"url(#clip320)\" style=\"stroke:#000000; stroke-linecap:butt; stroke-linejoin:round; stroke-width:4; stroke-opacity:1; fill:none\" points=\"\n",
       "  1945.66,1486.45 1945.66,1467.55 \n",
       "  \"/>\n",
       "<polyline clip-path=\"url(#clip320)\" style=\"stroke:#000000; stroke-linecap:butt; stroke-linejoin:round; stroke-width:4; stroke-opacity:1; fill:none\" points=\"\n",
       "  2302.26,1486.45 2302.26,1467.55 \n",
       "  \"/>\n",
       "<path clip-path=\"url(#clip320)\" d=\"M132.137 1530.29 L161.813 1530.29 L161.813 1534.23 L132.137 1534.23 L132.137 1530.29 Z\" fill=\"#000000\" fill-rule=\"evenodd\" fill-opacity=\"1\" /><path clip-path=\"url(#clip320)\" d=\"M186.072 1528.49 Q189.428 1529.2 191.303 1531.47 Q193.201 1533.74 193.201 1537.07 Q193.201 1542.19 189.683 1544.99 Q186.164 1547.79 179.683 1547.79 Q177.507 1547.79 175.192 1547.35 Q172.9 1546.93 170.447 1546.08 L170.447 1541.56 Q172.391 1542.7 174.706 1543.28 Q177.021 1543.86 179.544 1543.86 Q183.942 1543.86 186.234 1542.12 Q188.548 1540.38 188.548 1537.07 Q188.548 1534.02 186.396 1532.31 Q184.266 1530.57 180.447 1530.57 L176.419 1530.57 L176.419 1526.73 L180.632 1526.73 Q184.081 1526.73 185.91 1525.36 Q187.738 1523.97 187.738 1521.38 Q187.738 1518.72 185.84 1517.31 Q183.965 1515.87 180.447 1515.87 Q178.525 1515.87 176.326 1516.29 Q174.127 1516.7 171.488 1517.58 L171.488 1513.42 Q174.15 1512.68 176.465 1512.31 Q178.803 1511.93 180.863 1511.93 Q186.187 1511.93 189.289 1514.37 Q192.391 1516.77 192.391 1520.89 Q192.391 1523.76 190.748 1525.75 Q189.104 1527.72 186.072 1528.49 Z\" fill=\"#000000\" fill-rule=\"evenodd\" fill-opacity=\"1\" /><path clip-path=\"url(#clip320)\" d=\"M489.21 1530.29 L518.886 1530.29 L518.886 1534.23 L489.21 1534.23 L489.21 1530.29 Z\" fill=\"#000000\" fill-rule=\"evenodd\" fill-opacity=\"1\" /><path clip-path=\"url(#clip320)\" d=\"M533.007 1543.18 L549.326 1543.18 L549.326 1547.12 L527.382 1547.12 L527.382 1543.18 Q530.044 1540.43 534.627 1535.8 Q539.233 1531.15 540.414 1529.81 Q542.659 1527.28 543.539 1525.55 Q544.442 1523.79 544.442 1522.1 Q544.442 1519.34 542.497 1517.61 Q540.576 1515.87 537.474 1515.87 Q535.275 1515.87 532.821 1516.63 Q530.391 1517.4 527.613 1518.95 L527.613 1514.23 Q530.437 1513.09 532.891 1512.51 Q535.344 1511.93 537.382 1511.93 Q542.752 1511.93 545.946 1514.62 Q549.141 1517.31 549.141 1521.8 Q549.141 1523.93 548.331 1525.85 Q547.543 1527.74 545.437 1530.34 Q544.858 1531.01 541.756 1534.23 Q538.655 1537.42 533.007 1543.18 Z\" fill=\"#000000\" fill-rule=\"evenodd\" fill-opacity=\"1\" /><path clip-path=\"url(#clip320)\" d=\"M845.624 1530.29 L875.3 1530.29 L875.3 1534.23 L845.624 1534.23 L845.624 1530.29 Z\" fill=\"#000000\" fill-rule=\"evenodd\" fill-opacity=\"1\" /><path clip-path=\"url(#clip320)\" d=\"M886.203 1543.18 L893.842 1543.18 L893.842 1516.82 L885.532 1518.49 L885.532 1514.23 L893.796 1512.56 L898.471 1512.56 L898.471 1543.18 L906.11 1543.18 L906.11 1547.12 L886.203 1547.12 L886.203 1543.18 Z\" fill=\"#000000\" fill-rule=\"evenodd\" fill-opacity=\"1\" /><path clip-path=\"url(#clip320)\" d=\"M1232.47 1515.64 Q1228.86 1515.64 1227.03 1519.2 Q1225.22 1522.75 1225.22 1529.87 Q1225.22 1536.98 1227.03 1540.55 Q1228.86 1544.09 1232.47 1544.09 Q1236.1 1544.09 1237.91 1540.55 Q1239.74 1536.98 1239.74 1529.87 Q1239.74 1522.75 1237.91 1519.2 Q1236.1 1515.64 1232.47 1515.64 M1232.47 1511.93 Q1238.28 1511.93 1241.33 1516.54 Q1244.41 1521.12 1244.41 1529.87 Q1244.41 1538.6 1241.33 1543.21 Q1238.28 1547.79 1232.47 1547.79 Q1226.66 1547.79 1223.58 1543.21 Q1220.52 1538.6 1220.52 1529.87 Q1220.52 1521.12 1223.58 1516.54 Q1226.66 1511.93 1232.47 1511.93 Z\" fill=\"#000000\" fill-rule=\"evenodd\" fill-opacity=\"1\" /><path clip-path=\"url(#clip320)\" d=\"M1579.45 1543.18 L1587.09 1543.18 L1587.09 1516.82 L1578.78 1518.49 L1578.78 1514.23 L1587.04 1512.56 L1591.72 1512.56 L1591.72 1543.18 L1599.36 1543.18 L1599.36 1547.12 L1579.45 1547.12 L1579.45 1543.18 Z\" fill=\"#000000\" fill-rule=\"evenodd\" fill-opacity=\"1\" /><path clip-path=\"url(#clip320)\" d=\"M1940.32 1543.18 L1956.64 1543.18 L1956.64 1547.12 L1934.69 1547.12 L1934.69 1543.18 Q1937.35 1540.43 1941.94 1535.8 Q1946.54 1531.15 1947.73 1529.81 Q1949.97 1527.28 1950.85 1525.55 Q1951.75 1523.79 1951.75 1522.1 Q1951.75 1519.34 1949.81 1517.61 Q1947.89 1515.87 1944.79 1515.87 Q1942.59 1515.87 1940.13 1516.63 Q1937.7 1517.4 1934.92 1518.95 L1934.92 1514.23 Q1937.75 1513.09 1940.2 1512.51 Q1942.66 1511.93 1944.69 1511.93 Q1950.06 1511.93 1953.26 1514.62 Q1956.45 1517.31 1956.45 1521.8 Q1956.45 1523.93 1955.64 1525.85 Q1954.85 1527.74 1952.75 1530.34 Q1952.17 1531.01 1949.07 1534.23 Q1945.97 1537.42 1940.32 1543.18 Z\" fill=\"#000000\" fill-rule=\"evenodd\" fill-opacity=\"1\" /><path clip-path=\"url(#clip320)\" d=\"M2306.51 1528.49 Q2309.87 1529.2 2311.74 1531.47 Q2313.64 1533.74 2313.64 1537.07 Q2313.64 1542.19 2310.12 1544.99 Q2306.6 1547.79 2300.12 1547.79 Q2297.95 1547.79 2295.63 1547.35 Q2293.34 1546.93 2290.89 1546.08 L2290.89 1541.56 Q2292.83 1542.7 2295.15 1543.28 Q2297.46 1543.86 2299.98 1543.86 Q2304.38 1543.86 2306.67 1542.12 Q2308.99 1540.38 2308.99 1537.07 Q2308.99 1534.02 2306.84 1532.31 Q2304.71 1530.57 2300.89 1530.57 L2296.86 1530.57 L2296.86 1526.73 L2301.07 1526.73 Q2304.52 1526.73 2306.35 1525.36 Q2308.18 1523.97 2308.18 1521.38 Q2308.18 1518.72 2306.28 1517.31 Q2304.41 1515.87 2300.89 1515.87 Q2298.97 1515.87 2296.77 1516.29 Q2294.57 1516.7 2291.93 1517.58 L2291.93 1513.42 Q2294.59 1512.68 2296.91 1512.31 Q2299.24 1511.93 2301.3 1511.93 Q2306.63 1511.93 2309.73 1514.37 Q2312.83 1516.77 2312.83 1520.89 Q2312.83 1523.76 2311.19 1525.75 Q2309.54 1527.72 2306.51 1528.49 Z\" fill=\"#000000\" fill-rule=\"evenodd\" fill-opacity=\"1\" /><polyline clip-path=\"url(#clip322)\" style=\"stroke:#000000; stroke-linecap:butt; stroke-linejoin:round; stroke-width:2; stroke-opacity:0.1; fill:none\" points=\"\n",
       "  112.177,1445.8 2352.76,1445.8 \n",
       "  \"/>\n",
       "<polyline clip-path=\"url(#clip322)\" style=\"stroke:#000000; stroke-linecap:butt; stroke-linejoin:round; stroke-width:2; stroke-opacity:0.1; fill:none\" points=\"\n",
       "  112.177,1106.34 2352.76,1106.34 \n",
       "  \"/>\n",
       "<polyline clip-path=\"url(#clip322)\" style=\"stroke:#000000; stroke-linecap:butt; stroke-linejoin:round; stroke-width:2; stroke-opacity:0.1; fill:none\" points=\"\n",
       "  112.177,766.887 2352.76,766.887 \n",
       "  \"/>\n",
       "<polyline clip-path=\"url(#clip322)\" style=\"stroke:#000000; stroke-linecap:butt; stroke-linejoin:round; stroke-width:2; stroke-opacity:0.1; fill:none\" points=\"\n",
       "  112.177,427.432 2352.76,427.432 \n",
       "  \"/>\n",
       "<polyline clip-path=\"url(#clip322)\" style=\"stroke:#000000; stroke-linecap:butt; stroke-linejoin:round; stroke-width:2; stroke-opacity:0.1; fill:none\" points=\"\n",
       "  112.177,87.9763 2352.76,87.9763 \n",
       "  \"/>\n",
       "<polyline clip-path=\"url(#clip320)\" style=\"stroke:#000000; stroke-linecap:butt; stroke-linejoin:round; stroke-width:4; stroke-opacity:1; fill:none\" points=\"\n",
       "  112.177,1486.45 112.177,47.2441 \n",
       "  \"/>\n",
       "<polyline clip-path=\"url(#clip320)\" style=\"stroke:#000000; stroke-linecap:butt; stroke-linejoin:round; stroke-width:4; stroke-opacity:1; fill:none\" points=\"\n",
       "  112.177,1445.8 131.075,1445.8 \n",
       "  \"/>\n",
       "<polyline clip-path=\"url(#clip320)\" style=\"stroke:#000000; stroke-linecap:butt; stroke-linejoin:round; stroke-width:4; stroke-opacity:1; fill:none\" points=\"\n",
       "  112.177,1106.34 131.075,1106.34 \n",
       "  \"/>\n",
       "<polyline clip-path=\"url(#clip320)\" style=\"stroke:#000000; stroke-linecap:butt; stroke-linejoin:round; stroke-width:4; stroke-opacity:1; fill:none\" points=\"\n",
       "  112.177,766.887 131.075,766.887 \n",
       "  \"/>\n",
       "<polyline clip-path=\"url(#clip320)\" style=\"stroke:#000000; stroke-linecap:butt; stroke-linejoin:round; stroke-width:4; stroke-opacity:1; fill:none\" points=\"\n",
       "  112.177,427.432 131.075,427.432 \n",
       "  \"/>\n",
       "<polyline clip-path=\"url(#clip320)\" style=\"stroke:#000000; stroke-linecap:butt; stroke-linejoin:round; stroke-width:4; stroke-opacity:1; fill:none\" points=\"\n",
       "  112.177,87.9763 131.075,87.9763 \n",
       "  \"/>\n",
       "<path clip-path=\"url(#clip320)\" d=\"M64.2328 1431.6 Q60.6217 1431.6 58.793 1435.16 Q56.9875 1438.7 56.9875 1445.83 Q56.9875 1452.94 58.793 1456.5 Q60.6217 1460.04 64.2328 1460.04 Q67.867 1460.04 69.6726 1456.5 Q71.5013 1452.94 71.5013 1445.83 Q71.5013 1438.7 69.6726 1435.16 Q67.867 1431.6 64.2328 1431.6 M64.2328 1427.89 Q70.0429 1427.89 73.0985 1432.5 Q76.1772 1437.08 76.1772 1445.83 Q76.1772 1454.56 73.0985 1459.17 Q70.0429 1463.75 64.2328 1463.75 Q58.4226 1463.75 55.344 1459.17 Q52.2884 1454.56 52.2884 1445.83 Q52.2884 1437.08 55.344 1432.5 Q58.4226 1427.89 64.2328 1427.89 Z\" fill=\"#000000\" fill-rule=\"evenodd\" fill-opacity=\"1\" /><path clip-path=\"url(#clip320)\" d=\"M56.2699 1119.69 L63.9087 1119.69 L63.9087 1093.32 L55.5986 1094.99 L55.5986 1090.73 L63.8624 1089.06 L68.5383 1089.06 L68.5383 1119.69 L76.1772 1119.69 L76.1772 1123.62 L56.2699 1123.62 L56.2699 1119.69 Z\" fill=\"#000000\" fill-rule=\"evenodd\" fill-opacity=\"1\" /><path clip-path=\"url(#clip320)\" d=\"M59.8578 780.232 L76.1772 780.232 L76.1772 784.167 L54.2328 784.167 L54.2328 780.232 Q56.8949 777.477 61.4782 772.847 Q66.0846 768.195 67.2652 766.852 Q69.5105 764.329 70.3902 762.593 Q71.2929 760.834 71.2929 759.144 Q71.2929 756.389 69.3485 754.653 Q67.4272 752.917 64.3254 752.917 Q62.1263 752.917 59.6726 753.681 Q57.2421 754.445 54.4643 755.996 L54.4643 751.273 Q57.2884 750.139 59.7421 749.56 Q62.1958 748.982 64.2328 748.982 Q69.6031 748.982 72.7976 751.667 Q75.992 754.352 75.992 758.843 Q75.992 760.972 75.1818 762.894 Q74.3948 764.792 72.2883 767.384 Q71.7096 768.056 68.6078 771.273 Q65.5059 774.468 59.8578 780.232 Z\" fill=\"#000000\" fill-rule=\"evenodd\" fill-opacity=\"1\" /><path clip-path=\"url(#clip320)\" d=\"M69.0476 426.077 Q72.404 426.795 74.279 429.063 Q76.1772 431.332 76.1772 434.665 Q76.1772 439.781 72.6587 442.582 Q69.1402 445.383 62.6587 445.383 Q60.4828 445.383 58.168 444.943 Q55.8764 444.526 53.4227 443.67 L53.4227 439.156 Q55.3671 440.29 57.6819 440.869 Q59.9967 441.448 62.5198 441.448 Q66.918 441.448 69.2096 439.712 Q71.5244 437.975 71.5244 434.665 Q71.5244 431.61 69.3717 429.897 Q67.242 428.161 63.4226 428.161 L59.3949 428.161 L59.3949 424.318 L63.6078 424.318 Q67.0569 424.318 68.8855 422.952 Q70.7142 421.564 70.7142 418.971 Q70.7142 416.309 68.8161 414.897 Q66.9411 413.462 63.4226 413.462 Q61.5013 413.462 59.3023 413.878 Q57.1032 414.295 54.4643 415.175 L54.4643 411.008 Q57.1264 410.267 59.4412 409.897 Q61.7791 409.527 63.8393 409.527 Q69.1633 409.527 72.2652 411.957 Q75.367 414.364 75.367 418.485 Q75.367 421.355 73.7235 423.346 Q72.08 425.313 69.0476 426.077 Z\" fill=\"#000000\" fill-rule=\"evenodd\" fill-opacity=\"1\" /><path clip-path=\"url(#clip320)\" d=\"M66.5939 74.7703 L54.7884 93.2193 L66.5939 93.2193 L66.5939 74.7703 M65.367 70.6963 L71.2466 70.6963 L71.2466 93.2193 L76.1772 93.2193 L76.1772 97.1082 L71.2466 97.1082 L71.2466 105.256 L66.5939 105.256 L66.5939 97.1082 L50.9921 97.1082 L50.9921 92.5943 L65.367 70.6963 Z\" fill=\"#000000\" fill-rule=\"evenodd\" fill-opacity=\"1\" /><polyline clip-path=\"url(#clip322)\" style=\"stroke:#009af9; stroke-linecap:butt; stroke-linejoin:round; stroke-width:4; stroke-opacity:1; fill:none\" points=\"\n",
       "  112.177,87.9763 117.647,88.0562 123.118,88.2958 128.588,88.6951 134.058,89.254 184.639,101.945 235.219,127.991 285.8,166.869 336.381,217.799 366.777,253.787 \n",
       "  397.174,293.5 427.571,336.65 457.968,382.925 509.368,467.333 560.768,557.953 672.438,767.108 775.388,960.389 830.575,1058.38 885.762,1149.41 949.701,1243.31 \n",
       "  1013.64,1321.93 1042.05,1351.29 1070.46,1376.93 1098.87,1398.71 1127.28,1416.48 1177.11,1437.63 1226.94,1445.72 1281.26,1439.45 1335.59,1417.61 1390.24,1380.43 \n",
       "  1444.88,1328.87 1505.3,1256.59 1565.72,1170.28 1623.21,1077.4 1680.7,976.465 1800.25,752.342 1900.89,563.9 1962.32,455.848 2023.75,357.005 2081.5,275.105 \n",
       "  2139.25,206.074 2185.51,161.29 2231.76,126.681 2278.02,102.831 2324.28,90.1397 2331.4,89.1935 2338.52,88.5174 2345.64,88.1116 2352.76,87.9763 \n",
       "  \"/>\n",
       "<path clip-path=\"url(#clip320)\" d=\"\n",
       "M1976.69 198.898 L2278.07 198.898 L2278.07 95.2176 L1976.69 95.2176  Z\n",
       "  \" fill=\"#ffffff\" fill-rule=\"evenodd\" fill-opacity=\"1\"/>\n",
       "<polyline clip-path=\"url(#clip320)\" style=\"stroke:#000000; stroke-linecap:butt; stroke-linejoin:round; stroke-width:4; stroke-opacity:1; fill:none\" points=\"\n",
       "  1976.69,198.898 2278.07,198.898 2278.07,95.2176 1976.69,95.2176 1976.69,198.898 \n",
       "  \"/>\n",
       "<polyline clip-path=\"url(#clip320)\" style=\"stroke:#009af9; stroke-linecap:butt; stroke-linejoin:round; stroke-width:4; stroke-opacity:1; fill:none\" points=\"\n",
       "  2001.58,147.058 2150.95,147.058 \n",
       "  \"/>\n",
       "<path clip-path=\"url(#clip320)\" d=\"M2189.69 166.745 Q2187.89 171.375 2186.17 172.787 Q2184.46 174.199 2181.59 174.199 L2178.19 174.199 L2178.19 170.634 L2180.69 170.634 Q2182.45 170.634 2183.42 169.8 Q2184.39 168.967 2185.57 165.865 L2186.34 163.921 L2175.85 138.412 L2180.36 138.412 L2188.46 158.689 L2196.57 138.412 L2201.08 138.412 L2189.69 166.745 Z\" fill=\"#000000\" fill-rule=\"evenodd\" fill-opacity=\"1\" /><path clip-path=\"url(#clip320)\" d=\"M2208.37 160.402 L2216.01 160.402 L2216.01 134.037 L2207.7 135.703 L2207.7 131.444 L2215.96 129.778 L2220.64 129.778 L2220.64 160.402 L2228.28 160.402 L2228.28 164.338 L2208.37 164.338 L2208.37 160.402 Z\" fill=\"#000000\" fill-rule=\"evenodd\" fill-opacity=\"1\" /></svg>\n"
      ]
     },
     "execution_count": 11,
     "metadata": {},
     "output_type": "execute_result"
    }
   ],
   "source": [
    "plot(theta -> 2 - 2*cos(theta), xlims=(-pi, pi))"
   ]
  },
  {
   "cell_type": "markdown",
   "id": "8d7fed33",
   "metadata": {
    "slideshow": {
     "slide_type": "slide"
    }
   },
   "source": [
    "# Numerically computing symbols"
   ]
  },
  {
   "cell_type": "code",
   "execution_count": 32,
   "id": "f0c47c15",
   "metadata": {
    "cell_style": "split"
   },
   "outputs": [
    {
     "data": {
      "text/plain": [
       "10-element Vector{ComplexF64}:\n",
       " 0.0 - 1.2246467991473532e-16im\n",
       " 0.0 - 0.6427876096865395im\n",
       " 0.0 - 0.9848077530122081im\n",
       " 0.0 - 0.8660254037844388im\n",
       " 0.0 - 0.34202014332566877im\n",
       " 0.0 + 0.34202014332566877im\n",
       " 0.0 + 0.8660254037844385im\n",
       " 0.0 + 0.9848077530122081im\n",
       " 0.0 + 0.6427876096865395im\n",
       " 0.0 + 1.2246467991473532e-16im"
      ]
     },
     "execution_count": 32,
     "metadata": {},
     "output_type": "execute_result"
    }
   ],
   "source": [
    "function symbol(S, theta)\n",
    "    if length(S) % 2 != 1\n",
    "        error(\"Length of stencil must be odd\")\n",
    "    end\n",
    "    w = length(S) ÷ 2\n",
    "    phi = exp.(1im * (-w:w) * theta')\n",
    "    vec(S * phi) # not! (S * phi)'\n",
    "end\n",
    "\n",
    "symbol([-.5 0 .5], LinRange(-pi, pi, 10))"
   ]
  },
  {
   "cell_type": "code",
   "execution_count": 34,
   "id": "d5668d7e",
   "metadata": {
    "cell_style": "split",
    "scrolled": true
   },
   "outputs": [
    {
     "data": {
      "image/svg+xml": [
       "<?xml version=\"1.0\" encoding=\"utf-8\"?>\n",
       "<svg xmlns=\"http://www.w3.org/2000/svg\" xmlns:xlink=\"http://www.w3.org/1999/xlink\" width=\"600\" height=\"400\" viewBox=\"0 0 2400 1600\">\n",
       "<defs>\n",
       "  <clipPath id=\"clip520\">\n",
       "    <rect x=\"0\" y=\"0\" width=\"2400\" height=\"1600\"/>\n",
       "  </clipPath>\n",
       "</defs>\n",
       "<path clip-path=\"url(#clip520)\" d=\"\n",
       "M0 1600 L2400 1600 L2400 0 L0 0  Z\n",
       "  \" fill=\"#ffffff\" fill-rule=\"evenodd\" fill-opacity=\"1\"/>\n",
       "<defs>\n",
       "  <clipPath id=\"clip521\">\n",
       "    <rect x=\"480\" y=\"0\" width=\"1681\" height=\"1600\"/>\n",
       "  </clipPath>\n",
       "</defs>\n",
       "<path clip-path=\"url(#clip520)\" d=\"\n",
       "M184.191 1486.45 L2352.76 1486.45 L2352.76 47.2441 L184.191 47.2441  Z\n",
       "  \" fill=\"#ffffff\" fill-rule=\"evenodd\" fill-opacity=\"1\"/>\n",
       "<defs>\n",
       "  <clipPath id=\"clip522\">\n",
       "    <rect x=\"184\" y=\"47\" width=\"2170\" height=\"1440\"/>\n",
       "  </clipPath>\n",
       "</defs>\n",
       "<polyline clip-path=\"url(#clip522)\" style=\"stroke:#000000; stroke-linecap:butt; stroke-linejoin:round; stroke-width:2; stroke-opacity:0.1; fill:none\" points=\"\n",
       "  291.668,1486.45 291.668,47.2441 \n",
       "  \"/>\n",
       "<polyline clip-path=\"url(#clip522)\" style=\"stroke:#000000; stroke-linecap:butt; stroke-linejoin:round; stroke-width:2; stroke-opacity:0.1; fill:none\" points=\"\n",
       "  617.27,1486.45 617.27,47.2441 \n",
       "  \"/>\n",
       "<polyline clip-path=\"url(#clip522)\" style=\"stroke:#000000; stroke-linecap:butt; stroke-linejoin:round; stroke-width:2; stroke-opacity:0.1; fill:none\" points=\"\n",
       "  942.872,1486.45 942.872,47.2441 \n",
       "  \"/>\n",
       "<polyline clip-path=\"url(#clip522)\" style=\"stroke:#000000; stroke-linecap:butt; stroke-linejoin:round; stroke-width:2; stroke-opacity:0.1; fill:none\" points=\"\n",
       "  1268.47,1486.45 1268.47,47.2441 \n",
       "  \"/>\n",
       "<polyline clip-path=\"url(#clip522)\" style=\"stroke:#000000; stroke-linecap:butt; stroke-linejoin:round; stroke-width:2; stroke-opacity:0.1; fill:none\" points=\"\n",
       "  1594.08,1486.45 1594.08,47.2441 \n",
       "  \"/>\n",
       "<polyline clip-path=\"url(#clip522)\" style=\"stroke:#000000; stroke-linecap:butt; stroke-linejoin:round; stroke-width:2; stroke-opacity:0.1; fill:none\" points=\"\n",
       "  1919.68,1486.45 1919.68,47.2441 \n",
       "  \"/>\n",
       "<polyline clip-path=\"url(#clip522)\" style=\"stroke:#000000; stroke-linecap:butt; stroke-linejoin:round; stroke-width:2; stroke-opacity:0.1; fill:none\" points=\"\n",
       "  2245.28,1486.45 2245.28,47.2441 \n",
       "  \"/>\n",
       "<polyline clip-path=\"url(#clip520)\" style=\"stroke:#000000; stroke-linecap:butt; stroke-linejoin:round; stroke-width:4; stroke-opacity:1; fill:none\" points=\"\n",
       "  184.191,1486.45 2352.76,1486.45 \n",
       "  \"/>\n",
       "<polyline clip-path=\"url(#clip520)\" style=\"stroke:#000000; stroke-linecap:butt; stroke-linejoin:round; stroke-width:4; stroke-opacity:1; fill:none\" points=\"\n",
       "  291.668,1486.45 291.668,1467.55 \n",
       "  \"/>\n",
       "<polyline clip-path=\"url(#clip520)\" style=\"stroke:#000000; stroke-linecap:butt; stroke-linejoin:round; stroke-width:4; stroke-opacity:1; fill:none\" points=\"\n",
       "  617.27,1486.45 617.27,1467.55 \n",
       "  \"/>\n",
       "<polyline clip-path=\"url(#clip520)\" style=\"stroke:#000000; stroke-linecap:butt; stroke-linejoin:round; stroke-width:4; stroke-opacity:1; fill:none\" points=\"\n",
       "  942.872,1486.45 942.872,1467.55 \n",
       "  \"/>\n",
       "<polyline clip-path=\"url(#clip520)\" style=\"stroke:#000000; stroke-linecap:butt; stroke-linejoin:round; stroke-width:4; stroke-opacity:1; fill:none\" points=\"\n",
       "  1268.47,1486.45 1268.47,1467.55 \n",
       "  \"/>\n",
       "<polyline clip-path=\"url(#clip520)\" style=\"stroke:#000000; stroke-linecap:butt; stroke-linejoin:round; stroke-width:4; stroke-opacity:1; fill:none\" points=\"\n",
       "  1594.08,1486.45 1594.08,1467.55 \n",
       "  \"/>\n",
       "<polyline clip-path=\"url(#clip520)\" style=\"stroke:#000000; stroke-linecap:butt; stroke-linejoin:round; stroke-width:4; stroke-opacity:1; fill:none\" points=\"\n",
       "  1919.68,1486.45 1919.68,1467.55 \n",
       "  \"/>\n",
       "<polyline clip-path=\"url(#clip520)\" style=\"stroke:#000000; stroke-linecap:butt; stroke-linejoin:round; stroke-width:4; stroke-opacity:1; fill:none\" points=\"\n",
       "  2245.28,1486.45 2245.28,1467.55 \n",
       "  \"/>\n",
       "<path clip-path=\"url(#clip520)\" d=\"M261.136 1530.29 L290.812 1530.29 L290.812 1534.23 L261.136 1534.23 L261.136 1530.29 Z\" fill=\"#000000\" fill-rule=\"evenodd\" fill-opacity=\"1\" /><path clip-path=\"url(#clip520)\" d=\"M315.071 1528.49 Q318.427 1529.2 320.302 1531.47 Q322.2 1533.74 322.2 1537.07 Q322.2 1542.19 318.682 1544.99 Q315.163 1547.79 308.682 1547.79 Q306.506 1547.79 304.191 1547.35 Q301.899 1546.93 299.446 1546.08 L299.446 1541.56 Q301.39 1542.7 303.705 1543.28 Q306.02 1543.86 308.543 1543.86 Q312.941 1543.86 315.233 1542.12 Q317.547 1540.38 317.547 1537.07 Q317.547 1534.02 315.395 1532.31 Q313.265 1530.57 309.446 1530.57 L305.418 1530.57 L305.418 1526.73 L309.631 1526.73 Q313.08 1526.73 314.909 1525.36 Q316.737 1523.97 316.737 1521.38 Q316.737 1518.72 314.839 1517.31 Q312.964 1515.87 309.446 1515.87 Q307.524 1515.87 305.325 1516.29 Q303.126 1516.7 300.487 1517.58 L300.487 1513.42 Q303.149 1512.68 305.464 1512.31 Q307.802 1511.93 309.862 1511.93 Q315.186 1511.93 318.288 1514.37 Q321.39 1516.77 321.39 1520.89 Q321.39 1523.76 319.747 1525.75 Q318.103 1527.72 315.071 1528.49 Z\" fill=\"#000000\" fill-rule=\"evenodd\" fill-opacity=\"1\" /><path clip-path=\"url(#clip520)\" d=\"M587.212 1530.29 L616.888 1530.29 L616.888 1534.23 L587.212 1534.23 L587.212 1530.29 Z\" fill=\"#000000\" fill-rule=\"evenodd\" fill-opacity=\"1\" /><path clip-path=\"url(#clip520)\" d=\"M631.008 1543.18 L647.327 1543.18 L647.327 1547.12 L625.383 1547.12 L625.383 1543.18 Q628.045 1540.43 632.628 1535.8 Q637.235 1531.15 638.415 1529.81 Q640.661 1527.28 641.54 1525.55 Q642.443 1523.79 642.443 1522.1 Q642.443 1519.34 640.499 1517.61 Q638.578 1515.87 635.476 1515.87 Q633.277 1515.87 630.823 1516.63 Q628.392 1517.4 625.615 1518.95 L625.615 1514.23 Q628.439 1513.09 630.892 1512.51 Q633.346 1511.93 635.383 1511.93 Q640.753 1511.93 643.948 1514.62 Q647.142 1517.31 647.142 1521.8 Q647.142 1523.93 646.332 1525.85 Q645.545 1527.74 643.439 1530.34 Q642.86 1531.01 639.758 1534.23 Q636.656 1537.42 631.008 1543.18 Z\" fill=\"#000000\" fill-rule=\"evenodd\" fill-opacity=\"1\" /><path clip-path=\"url(#clip520)\" d=\"M912.629 1530.29 L942.304 1530.29 L942.304 1534.23 L912.629 1534.23 L912.629 1530.29 Z\" fill=\"#000000\" fill-rule=\"evenodd\" fill-opacity=\"1\" /><path clip-path=\"url(#clip520)\" d=\"M953.207 1543.18 L960.846 1543.18 L960.846 1516.82 L952.536 1518.49 L952.536 1514.23 L960.8 1512.56 L965.476 1512.56 L965.476 1543.18 L973.114 1543.18 L973.114 1547.12 L953.207 1547.12 L953.207 1543.18 Z\" fill=\"#000000\" fill-rule=\"evenodd\" fill-opacity=\"1\" /><path clip-path=\"url(#clip520)\" d=\"M1268.47 1515.64 Q1264.86 1515.64 1263.03 1519.2 Q1261.23 1522.75 1261.23 1529.87 Q1261.23 1536.98 1263.03 1540.55 Q1264.86 1544.09 1268.47 1544.09 Q1272.11 1544.09 1273.91 1540.55 Q1275.74 1536.98 1275.74 1529.87 Q1275.74 1522.75 1273.91 1519.2 Q1272.11 1515.64 1268.47 1515.64 M1268.47 1511.93 Q1274.28 1511.93 1277.34 1516.54 Q1280.42 1521.12 1280.42 1529.87 Q1280.42 1538.6 1277.34 1543.21 Q1274.28 1547.79 1268.47 1547.79 Q1262.66 1547.79 1259.58 1543.21 Q1256.53 1538.6 1256.53 1529.87 Q1256.53 1521.12 1259.58 1516.54 Q1262.66 1511.93 1268.47 1511.93 Z\" fill=\"#000000\" fill-rule=\"evenodd\" fill-opacity=\"1\" /><path clip-path=\"url(#clip520)\" d=\"M1584.46 1543.18 L1592.1 1543.18 L1592.1 1516.82 L1583.79 1518.49 L1583.79 1514.23 L1592.05 1512.56 L1596.73 1512.56 L1596.73 1543.18 L1604.36 1543.18 L1604.36 1547.12 L1584.46 1547.12 L1584.46 1543.18 Z\" fill=\"#000000\" fill-rule=\"evenodd\" fill-opacity=\"1\" /><path clip-path=\"url(#clip520)\" d=\"M1914.33 1543.18 L1930.65 1543.18 L1930.65 1547.12 L1908.7 1547.12 L1908.7 1543.18 Q1911.37 1540.43 1915.95 1535.8 Q1920.56 1531.15 1921.74 1529.81 Q1923.98 1527.28 1924.86 1525.55 Q1925.76 1523.79 1925.76 1522.1 Q1925.76 1519.34 1923.82 1517.61 Q1921.9 1515.87 1918.8 1515.87 Q1916.6 1515.87 1914.14 1516.63 Q1911.71 1517.4 1908.94 1518.95 L1908.94 1514.23 Q1911.76 1513.09 1914.21 1512.51 Q1916.67 1511.93 1918.7 1511.93 Q1924.07 1511.93 1927.27 1514.62 Q1930.46 1517.31 1930.46 1521.8 Q1930.46 1523.93 1929.65 1525.85 Q1928.87 1527.74 1926.76 1530.34 Q1926.18 1531.01 1923.08 1534.23 Q1919.98 1537.42 1914.33 1543.18 Z\" fill=\"#000000\" fill-rule=\"evenodd\" fill-opacity=\"1\" /><path clip-path=\"url(#clip520)\" d=\"M2249.53 1528.49 Q2252.88 1529.2 2254.76 1531.47 Q2256.66 1533.74 2256.66 1537.07 Q2256.66 1542.19 2253.14 1544.99 Q2249.62 1547.79 2243.14 1547.79 Q2240.96 1547.79 2238.65 1547.35 Q2236.36 1546.93 2233.9 1546.08 L2233.9 1541.56 Q2235.85 1542.7 2238.16 1543.28 Q2240.48 1543.86 2243 1543.86 Q2247.4 1543.86 2249.69 1542.12 Q2252 1540.38 2252 1537.07 Q2252 1534.02 2249.85 1532.31 Q2247.72 1530.57 2243.9 1530.57 L2239.87 1530.57 L2239.87 1526.73 L2244.09 1526.73 Q2247.54 1526.73 2249.36 1525.36 Q2251.19 1523.97 2251.19 1521.38 Q2251.19 1518.72 2249.29 1517.31 Q2247.42 1515.87 2243.9 1515.87 Q2241.98 1515.87 2239.78 1516.29 Q2237.58 1516.7 2234.94 1517.58 L2234.94 1513.42 Q2237.61 1512.68 2239.92 1512.31 Q2242.26 1511.93 2244.32 1511.93 Q2249.64 1511.93 2252.74 1514.37 Q2255.85 1516.77 2255.85 1520.89 Q2255.85 1523.76 2254.2 1525.75 Q2252.56 1527.72 2249.53 1528.49 Z\" fill=\"#000000\" fill-rule=\"evenodd\" fill-opacity=\"1\" /><polyline clip-path=\"url(#clip522)\" style=\"stroke:#000000; stroke-linecap:butt; stroke-linejoin:round; stroke-width:2; stroke-opacity:0.1; fill:none\" points=\"\n",
       "  184.191,1445.75 2352.76,1445.75 \n",
       "  \"/>\n",
       "<polyline clip-path=\"url(#clip522)\" style=\"stroke:#000000; stroke-linecap:butt; stroke-linejoin:round; stroke-width:2; stroke-opacity:0.1; fill:none\" points=\"\n",
       "  184.191,1101.82 2352.76,1101.82 \n",
       "  \"/>\n",
       "<polyline clip-path=\"url(#clip522)\" style=\"stroke:#000000; stroke-linecap:butt; stroke-linejoin:round; stroke-width:2; stroke-opacity:0.1; fill:none\" points=\"\n",
       "  184.191,757.893 2352.76,757.893 \n",
       "  \"/>\n",
       "<polyline clip-path=\"url(#clip522)\" style=\"stroke:#000000; stroke-linecap:butt; stroke-linejoin:round; stroke-width:2; stroke-opacity:0.1; fill:none\" points=\"\n",
       "  184.191,413.965 2352.76,413.965 \n",
       "  \"/>\n",
       "<polyline clip-path=\"url(#clip522)\" style=\"stroke:#000000; stroke-linecap:butt; stroke-linejoin:round; stroke-width:2; stroke-opacity:0.1; fill:none\" points=\"\n",
       "  184.191,70.0376 2352.76,70.0376 \n",
       "  \"/>\n",
       "<polyline clip-path=\"url(#clip520)\" style=\"stroke:#000000; stroke-linecap:butt; stroke-linejoin:round; stroke-width:4; stroke-opacity:1; fill:none\" points=\"\n",
       "  184.191,1486.45 184.191,47.2441 \n",
       "  \"/>\n",
       "<polyline clip-path=\"url(#clip520)\" style=\"stroke:#000000; stroke-linecap:butt; stroke-linejoin:round; stroke-width:4; stroke-opacity:1; fill:none\" points=\"\n",
       "  184.191,1445.75 203.088,1445.75 \n",
       "  \"/>\n",
       "<polyline clip-path=\"url(#clip520)\" style=\"stroke:#000000; stroke-linecap:butt; stroke-linejoin:round; stroke-width:4; stroke-opacity:1; fill:none\" points=\"\n",
       "  184.191,1101.82 203.088,1101.82 \n",
       "  \"/>\n",
       "<polyline clip-path=\"url(#clip520)\" style=\"stroke:#000000; stroke-linecap:butt; stroke-linejoin:round; stroke-width:4; stroke-opacity:1; fill:none\" points=\"\n",
       "  184.191,757.893 203.088,757.893 \n",
       "  \"/>\n",
       "<polyline clip-path=\"url(#clip520)\" style=\"stroke:#000000; stroke-linecap:butt; stroke-linejoin:round; stroke-width:4; stroke-opacity:1; fill:none\" points=\"\n",
       "  184.191,413.965 203.088,413.965 \n",
       "  \"/>\n",
       "<polyline clip-path=\"url(#clip520)\" style=\"stroke:#000000; stroke-linecap:butt; stroke-linejoin:round; stroke-width:4; stroke-opacity:1; fill:none\" points=\"\n",
       "  184.191,70.0376 203.088,70.0376 \n",
       "  \"/>\n",
       "<path clip-path=\"url(#clip520)\" d=\"M91.0151 1431.55 Q87.404 1431.55 85.5753 1435.11 Q83.7697 1438.65 83.7697 1445.78 Q83.7697 1452.89 85.5753 1456.45 Q87.404 1460 91.0151 1460 Q94.6493 1460 96.4548 1456.45 Q98.2835 1452.89 98.2835 1445.78 Q98.2835 1438.65 96.4548 1435.11 Q94.6493 1431.55 91.0151 1431.55 M91.0151 1427.84 Q96.8252 1427.84 99.8808 1432.45 Q102.959 1437.03 102.959 1445.78 Q102.959 1454.51 99.8808 1459.12 Q96.8252 1463.7 91.0151 1463.7 Q85.2049 1463.7 82.1262 1459.12 Q79.0707 1454.51 79.0707 1445.78 Q79.0707 1437.03 82.1262 1432.45 Q85.2049 1427.84 91.0151 1427.84 Z\" fill=\"#000000\" fill-rule=\"evenodd\" fill-opacity=\"1\" /><path clip-path=\"url(#clip520)\" d=\"M111.177 1457.15 L116.061 1457.15 L116.061 1463.03 L111.177 1463.03 L111.177 1457.15 Z\" fill=\"#000000\" fill-rule=\"evenodd\" fill-opacity=\"1\" /><path clip-path=\"url(#clip520)\" d=\"M136.246 1431.55 Q132.635 1431.55 130.807 1435.11 Q129.001 1438.65 129.001 1445.78 Q129.001 1452.89 130.807 1456.45 Q132.635 1460 136.246 1460 Q139.881 1460 141.686 1456.45 Q143.515 1452.89 143.515 1445.78 Q143.515 1438.65 141.686 1435.11 Q139.881 1431.55 136.246 1431.55 M136.246 1427.84 Q142.056 1427.84 145.112 1432.45 Q148.191 1437.03 148.191 1445.78 Q148.191 1454.51 145.112 1459.12 Q142.056 1463.7 136.246 1463.7 Q130.436 1463.7 127.357 1459.12 Q124.302 1454.51 124.302 1445.78 Q124.302 1437.03 127.357 1432.45 Q130.436 1427.84 136.246 1427.84 Z\" fill=\"#000000\" fill-rule=\"evenodd\" fill-opacity=\"1\" /><path clip-path=\"url(#clip520)\" d=\"M86.0382 1115.17 L102.358 1115.17 L102.358 1119.1 L80.4133 1119.1 L80.4133 1115.17 Q83.0753 1112.41 87.6586 1107.78 Q92.2651 1103.13 93.4456 1101.79 Q95.691 1099.26 96.5706 1097.53 Q97.4734 1095.77 97.4734 1094.08 Q97.4734 1091.32 95.5289 1089.59 Q93.6076 1087.85 90.5058 1087.85 Q88.3067 1087.85 85.8531 1088.62 Q83.4225 1089.38 80.6447 1090.93 L80.6447 1086.21 Q83.4688 1085.07 85.9225 1084.49 Q88.3762 1083.92 90.4132 1083.92 Q95.7836 1083.92 98.978 1086.6 Q102.172 1089.29 102.172 1093.78 Q102.172 1095.91 101.362 1097.83 Q100.575 1099.73 98.4687 1102.32 Q97.89 1102.99 94.7882 1106.21 Q91.6864 1109.4 86.0382 1115.17 Z\" fill=\"#000000\" fill-rule=\"evenodd\" fill-opacity=\"1\" /><path clip-path=\"url(#clip520)\" d=\"M112.172 1113.22 L117.057 1113.22 L117.057 1119.1 L112.172 1119.1 L112.172 1113.22 Z\" fill=\"#000000\" fill-rule=\"evenodd\" fill-opacity=\"1\" /><path clip-path=\"url(#clip520)\" d=\"M127.288 1084.54 L145.644 1084.54 L145.644 1088.48 L131.57 1088.48 L131.57 1096.95 Q132.589 1096.6 133.607 1096.44 Q134.626 1096.25 135.644 1096.25 Q141.431 1096.25 144.811 1099.43 Q148.191 1102.6 148.191 1108.01 Q148.191 1113.59 144.718 1116.69 Q141.246 1119.77 134.927 1119.77 Q132.751 1119.77 130.482 1119.4 Q128.237 1119.03 125.83 1118.29 L125.83 1113.59 Q127.913 1114.73 130.135 1115.28 Q132.357 1115.84 134.834 1115.84 Q138.839 1115.84 141.177 1113.73 Q143.515 1111.62 143.515 1108.01 Q143.515 1104.4 141.177 1102.3 Q138.839 1100.19 134.834 1100.19 Q132.959 1100.19 131.084 1100.61 Q129.232 1101.02 127.288 1101.9 L127.288 1084.54 Z\" fill=\"#000000\" fill-rule=\"evenodd\" fill-opacity=\"1\" /><path clip-path=\"url(#clip520)\" d=\"M81.0614 740.613 L99.4178 740.613 L99.4178 744.548 L85.3438 744.548 L85.3438 753.021 Q86.3623 752.673 87.3808 752.511 Q88.3993 752.326 89.4178 752.326 Q95.2049 752.326 98.5845 755.497 Q101.964 758.669 101.964 764.085 Q101.964 769.664 98.4919 772.766 Q95.0197 775.844 88.7003 775.844 Q86.5243 775.844 84.2558 775.474 Q82.0105 775.104 79.6031 774.363 L79.6031 769.664 Q81.6864 770.798 83.9086 771.354 Q86.1308 771.909 88.6077 771.909 Q92.6123 771.909 94.9502 769.803 Q97.2882 767.696 97.2882 764.085 Q97.2882 760.474 94.9502 758.368 Q92.6123 756.261 88.6077 756.261 Q86.7327 756.261 84.8577 756.678 Q83.0058 757.095 81.0614 757.974 L81.0614 740.613 Z\" fill=\"#000000\" fill-rule=\"evenodd\" fill-opacity=\"1\" /><path clip-path=\"url(#clip520)\" d=\"M111.177 769.294 L116.061 769.294 L116.061 775.173 L111.177 775.173 L111.177 769.294 Z\" fill=\"#000000\" fill-rule=\"evenodd\" fill-opacity=\"1\" /><path clip-path=\"url(#clip520)\" d=\"M136.246 743.692 Q132.635 743.692 130.807 747.257 Q129.001 750.798 129.001 757.928 Q129.001 765.034 130.807 768.599 Q132.635 772.141 136.246 772.141 Q139.881 772.141 141.686 768.599 Q143.515 765.034 143.515 757.928 Q143.515 750.798 141.686 747.257 Q139.881 743.692 136.246 743.692 M136.246 739.988 Q142.056 739.988 145.112 744.595 Q148.191 749.178 148.191 757.928 Q148.191 766.655 145.112 771.261 Q142.056 775.844 136.246 775.844 Q130.436 775.844 127.357 771.261 Q124.302 766.655 124.302 757.928 Q124.302 749.178 127.357 744.595 Q130.436 739.988 136.246 739.988 Z\" fill=\"#000000\" fill-rule=\"evenodd\" fill-opacity=\"1\" /><path clip-path=\"url(#clip520)\" d=\"M80.8299 396.685 L103.052 396.685 L103.052 398.676 L90.5058 431.245 L85.6216 431.245 L97.4271 400.621 L80.8299 400.621 L80.8299 396.685 Z\" fill=\"#000000\" fill-rule=\"evenodd\" fill-opacity=\"1\" /><path clip-path=\"url(#clip520)\" d=\"M112.172 425.366 L117.057 425.366 L117.057 431.245 L112.172 431.245 L112.172 425.366 Z\" fill=\"#000000\" fill-rule=\"evenodd\" fill-opacity=\"1\" /><path clip-path=\"url(#clip520)\" d=\"M127.288 396.685 L145.644 396.685 L145.644 400.621 L131.57 400.621 L131.57 409.093 Q132.589 408.746 133.607 408.583 Q134.626 408.398 135.644 408.398 Q141.431 408.398 144.811 411.57 Q148.191 414.741 148.191 420.157 Q148.191 425.736 144.718 428.838 Q141.246 431.917 134.927 431.917 Q132.751 431.917 130.482 431.546 Q128.237 431.176 125.83 430.435 L125.83 425.736 Q127.913 426.87 130.135 427.426 Q132.357 427.982 134.834 427.982 Q138.839 427.982 141.177 425.875 Q143.515 423.769 143.515 420.157 Q143.515 416.546 141.177 414.44 Q138.839 412.333 134.834 412.333 Q132.959 412.333 131.084 412.75 Q129.232 413.167 127.288 414.046 L127.288 396.685 Z\" fill=\"#000000\" fill-rule=\"evenodd\" fill-opacity=\"1\" /><path clip-path=\"url(#clip520)\" d=\"M51.6634 83.3824 L59.3023 83.3824 L59.3023 57.0168 L50.9921 58.6835 L50.9921 54.4243 L59.256 52.7576 L63.9319 52.7576 L63.9319 83.3824 L71.5707 83.3824 L71.5707 87.3176 L51.6634 87.3176 L51.6634 83.3824 Z\" fill=\"#000000\" fill-rule=\"evenodd\" fill-opacity=\"1\" /><path clip-path=\"url(#clip520)\" d=\"M91.0151 55.8363 Q87.404 55.8363 85.5753 59.4011 Q83.7697 62.9427 83.7697 70.0723 Q83.7697 77.1788 85.5753 80.7436 Q87.404 84.2852 91.0151 84.2852 Q94.6493 84.2852 96.4548 80.7436 Q98.2835 77.1788 98.2835 70.0723 Q98.2835 62.9427 96.4548 59.4011 Q94.6493 55.8363 91.0151 55.8363 M91.0151 52.1326 Q96.8252 52.1326 99.8808 56.7391 Q102.959 61.3224 102.959 70.0723 Q102.959 78.7991 99.8808 83.4056 Q96.8252 87.9889 91.0151 87.9889 Q85.2049 87.9889 82.1262 83.4056 Q79.0707 78.7991 79.0707 70.0723 Q79.0707 61.3224 82.1262 56.7391 Q85.2049 52.1326 91.0151 52.1326 Z\" fill=\"#000000\" fill-rule=\"evenodd\" fill-opacity=\"1\" /><path clip-path=\"url(#clip520)\" d=\"M111.177 81.438 L116.061 81.438 L116.061 87.3176 L111.177 87.3176 L111.177 81.438 Z\" fill=\"#000000\" fill-rule=\"evenodd\" fill-opacity=\"1\" /><path clip-path=\"url(#clip520)\" d=\"M136.246 55.8363 Q132.635 55.8363 130.807 59.4011 Q129.001 62.9427 129.001 70.0723 Q129.001 77.1788 130.807 80.7436 Q132.635 84.2852 136.246 84.2852 Q139.881 84.2852 141.686 80.7436 Q143.515 77.1788 143.515 70.0723 Q143.515 62.9427 141.686 59.4011 Q139.881 55.8363 136.246 55.8363 M136.246 52.1326 Q142.056 52.1326 145.112 56.7391 Q148.191 61.3224 148.191 70.0723 Q148.191 78.7991 145.112 83.4056 Q142.056 87.9889 136.246 87.9889 Q130.436 87.9889 127.357 83.4056 Q124.302 78.7991 124.302 70.0723 Q124.302 61.3224 127.357 56.7391 Q130.436 52.1326 136.246 52.1326 Z\" fill=\"#000000\" fill-rule=\"evenodd\" fill-opacity=\"1\" /><polyline clip-path=\"url(#clip522)\" style=\"stroke:#009af9; stroke-linecap:butt; stroke-linejoin:round; stroke-width:4; stroke-opacity:1; fill:none\" points=\"\n",
       "  245.565,895.464 316.111,901.897 386.656,920.894 457.201,951.568 527.747,992.483 598.292,1041.73 668.837,1097 739.383,1155.71 809.928,1215.12 880.474,1272.45 \n",
       "  951.019,1325.01 1021.56,1370.36 1092.11,1406.36 1162.66,1431.35 1233.2,1444.14 1303.75,1444.14 1374.29,1431.35 1444.84,1406.36 1515.38,1370.36 1585.93,1325.01 \n",
       "  1656.47,1272.45 1727.02,1215.12 1797.56,1155.71 1868.11,1097 1938.65,1041.73 2009.2,992.483 2079.75,951.568 2150.29,920.894 2220.84,901.897 2291.38,895.464 \n",
       "  \n",
       "  \"/>\n",
       "<circle clip-path=\"url(#clip522)\" cx=\"245.565\" cy=\"895.464\" r=\"14\" fill=\"#009af9\" fill-rule=\"evenodd\" fill-opacity=\"1\" stroke=\"#000000\" stroke-opacity=\"1\" stroke-width=\"3.2\"/>\n",
       "<circle clip-path=\"url(#clip522)\" cx=\"316.111\" cy=\"901.897\" r=\"14\" fill=\"#009af9\" fill-rule=\"evenodd\" fill-opacity=\"1\" stroke=\"#000000\" stroke-opacity=\"1\" stroke-width=\"3.2\"/>\n",
       "<circle clip-path=\"url(#clip522)\" cx=\"386.656\" cy=\"920.894\" r=\"14\" fill=\"#009af9\" fill-rule=\"evenodd\" fill-opacity=\"1\" stroke=\"#000000\" stroke-opacity=\"1\" stroke-width=\"3.2\"/>\n",
       "<circle clip-path=\"url(#clip522)\" cx=\"457.201\" cy=\"951.568\" r=\"14\" fill=\"#009af9\" fill-rule=\"evenodd\" fill-opacity=\"1\" stroke=\"#000000\" stroke-opacity=\"1\" stroke-width=\"3.2\"/>\n",
       "<circle clip-path=\"url(#clip522)\" cx=\"527.747\" cy=\"992.483\" r=\"14\" fill=\"#009af9\" fill-rule=\"evenodd\" fill-opacity=\"1\" stroke=\"#000000\" stroke-opacity=\"1\" stroke-width=\"3.2\"/>\n",
       "<circle clip-path=\"url(#clip522)\" cx=\"598.292\" cy=\"1041.73\" r=\"14\" fill=\"#009af9\" fill-rule=\"evenodd\" fill-opacity=\"1\" stroke=\"#000000\" stroke-opacity=\"1\" stroke-width=\"3.2\"/>\n",
       "<circle clip-path=\"url(#clip522)\" cx=\"668.837\" cy=\"1097\" r=\"14\" fill=\"#009af9\" fill-rule=\"evenodd\" fill-opacity=\"1\" stroke=\"#000000\" stroke-opacity=\"1\" stroke-width=\"3.2\"/>\n",
       "<circle clip-path=\"url(#clip522)\" cx=\"739.383\" cy=\"1155.71\" r=\"14\" fill=\"#009af9\" fill-rule=\"evenodd\" fill-opacity=\"1\" stroke=\"#000000\" stroke-opacity=\"1\" stroke-width=\"3.2\"/>\n",
       "<circle clip-path=\"url(#clip522)\" cx=\"809.928\" cy=\"1215.12\" r=\"14\" fill=\"#009af9\" fill-rule=\"evenodd\" fill-opacity=\"1\" stroke=\"#000000\" stroke-opacity=\"1\" stroke-width=\"3.2\"/>\n",
       "<circle clip-path=\"url(#clip522)\" cx=\"880.474\" cy=\"1272.45\" r=\"14\" fill=\"#009af9\" fill-rule=\"evenodd\" fill-opacity=\"1\" stroke=\"#000000\" stroke-opacity=\"1\" stroke-width=\"3.2\"/>\n",
       "<circle clip-path=\"url(#clip522)\" cx=\"951.019\" cy=\"1325.01\" r=\"14\" fill=\"#009af9\" fill-rule=\"evenodd\" fill-opacity=\"1\" stroke=\"#000000\" stroke-opacity=\"1\" stroke-width=\"3.2\"/>\n",
       "<circle clip-path=\"url(#clip522)\" cx=\"1021.56\" cy=\"1370.36\" r=\"14\" fill=\"#009af9\" fill-rule=\"evenodd\" fill-opacity=\"1\" stroke=\"#000000\" stroke-opacity=\"1\" stroke-width=\"3.2\"/>\n",
       "<circle clip-path=\"url(#clip522)\" cx=\"1092.11\" cy=\"1406.36\" r=\"14\" fill=\"#009af9\" fill-rule=\"evenodd\" fill-opacity=\"1\" stroke=\"#000000\" stroke-opacity=\"1\" stroke-width=\"3.2\"/>\n",
       "<circle clip-path=\"url(#clip522)\" cx=\"1162.66\" cy=\"1431.35\" r=\"14\" fill=\"#009af9\" fill-rule=\"evenodd\" fill-opacity=\"1\" stroke=\"#000000\" stroke-opacity=\"1\" stroke-width=\"3.2\"/>\n",
       "<circle clip-path=\"url(#clip522)\" cx=\"1233.2\" cy=\"1444.14\" r=\"14\" fill=\"#009af9\" fill-rule=\"evenodd\" fill-opacity=\"1\" stroke=\"#000000\" stroke-opacity=\"1\" stroke-width=\"3.2\"/>\n",
       "<circle clip-path=\"url(#clip522)\" cx=\"1303.75\" cy=\"1444.14\" r=\"14\" fill=\"#009af9\" fill-rule=\"evenodd\" fill-opacity=\"1\" stroke=\"#000000\" stroke-opacity=\"1\" stroke-width=\"3.2\"/>\n",
       "<circle clip-path=\"url(#clip522)\" cx=\"1374.29\" cy=\"1431.35\" r=\"14\" fill=\"#009af9\" fill-rule=\"evenodd\" fill-opacity=\"1\" stroke=\"#000000\" stroke-opacity=\"1\" stroke-width=\"3.2\"/>\n",
       "<circle clip-path=\"url(#clip522)\" cx=\"1444.84\" cy=\"1406.36\" r=\"14\" fill=\"#009af9\" fill-rule=\"evenodd\" fill-opacity=\"1\" stroke=\"#000000\" stroke-opacity=\"1\" stroke-width=\"3.2\"/>\n",
       "<circle clip-path=\"url(#clip522)\" cx=\"1515.38\" cy=\"1370.36\" r=\"14\" fill=\"#009af9\" fill-rule=\"evenodd\" fill-opacity=\"1\" stroke=\"#000000\" stroke-opacity=\"1\" stroke-width=\"3.2\"/>\n",
       "<circle clip-path=\"url(#clip522)\" cx=\"1585.93\" cy=\"1325.01\" r=\"14\" fill=\"#009af9\" fill-rule=\"evenodd\" fill-opacity=\"1\" stroke=\"#000000\" stroke-opacity=\"1\" stroke-width=\"3.2\"/>\n",
       "<circle clip-path=\"url(#clip522)\" cx=\"1656.47\" cy=\"1272.45\" r=\"14\" fill=\"#009af9\" fill-rule=\"evenodd\" fill-opacity=\"1\" stroke=\"#000000\" stroke-opacity=\"1\" stroke-width=\"3.2\"/>\n",
       "<circle clip-path=\"url(#clip522)\" cx=\"1727.02\" cy=\"1215.12\" r=\"14\" fill=\"#009af9\" fill-rule=\"evenodd\" fill-opacity=\"1\" stroke=\"#000000\" stroke-opacity=\"1\" stroke-width=\"3.2\"/>\n",
       "<circle clip-path=\"url(#clip522)\" cx=\"1797.56\" cy=\"1155.71\" r=\"14\" fill=\"#009af9\" fill-rule=\"evenodd\" fill-opacity=\"1\" stroke=\"#000000\" stroke-opacity=\"1\" stroke-width=\"3.2\"/>\n",
       "<circle clip-path=\"url(#clip522)\" cx=\"1868.11\" cy=\"1097\" r=\"14\" fill=\"#009af9\" fill-rule=\"evenodd\" fill-opacity=\"1\" stroke=\"#000000\" stroke-opacity=\"1\" stroke-width=\"3.2\"/>\n",
       "<circle clip-path=\"url(#clip522)\" cx=\"1938.65\" cy=\"1041.73\" r=\"14\" fill=\"#009af9\" fill-rule=\"evenodd\" fill-opacity=\"1\" stroke=\"#000000\" stroke-opacity=\"1\" stroke-width=\"3.2\"/>\n",
       "<circle clip-path=\"url(#clip522)\" cx=\"2009.2\" cy=\"992.483\" r=\"14\" fill=\"#009af9\" fill-rule=\"evenodd\" fill-opacity=\"1\" stroke=\"#000000\" stroke-opacity=\"1\" stroke-width=\"3.2\"/>\n",
       "<circle clip-path=\"url(#clip522)\" cx=\"2079.75\" cy=\"951.568\" r=\"14\" fill=\"#009af9\" fill-rule=\"evenodd\" fill-opacity=\"1\" stroke=\"#000000\" stroke-opacity=\"1\" stroke-width=\"3.2\"/>\n",
       "<circle clip-path=\"url(#clip522)\" cx=\"2150.29\" cy=\"920.894\" r=\"14\" fill=\"#009af9\" fill-rule=\"evenodd\" fill-opacity=\"1\" stroke=\"#000000\" stroke-opacity=\"1\" stroke-width=\"3.2\"/>\n",
       "<circle clip-path=\"url(#clip522)\" cx=\"2220.84\" cy=\"901.897\" r=\"14\" fill=\"#009af9\" fill-rule=\"evenodd\" fill-opacity=\"1\" stroke=\"#000000\" stroke-opacity=\"1\" stroke-width=\"3.2\"/>\n",
       "<circle clip-path=\"url(#clip522)\" cx=\"2291.38\" cy=\"895.464\" r=\"14\" fill=\"#009af9\" fill-rule=\"evenodd\" fill-opacity=\"1\" stroke=\"#000000\" stroke-opacity=\"1\" stroke-width=\"3.2\"/>\n",
       "<polyline clip-path=\"url(#clip522)\" style=\"stroke:#e26f46; stroke-linecap:butt; stroke-linejoin:round; stroke-width:4; stroke-opacity:1; fill:none\" points=\"\n",
       "  245.565,87.9763 255.555,114.366 265.544,140.497 357.912,369.848 450.28,577.056 505.789,690.928 561.298,796.803 608.23,880.081 655.162,957.642 706.144,1035.42 \n",
       "  757.126,1106.45 804.126,1165.95 851.127,1219.73 901.516,1271.01 951.906,1315.71 1010.29,1359.25 1068.67,1393.94 1120.55,1417.35 1172.43,1433.78 1217.93,1442.43 \n",
       "  1263.42,1445.72 1313.03,1443.17 1362.63,1434.24 1412.53,1418.82 1462.43,1396.93 1517.59,1365.22 1572.76,1325.6 1625.25,1280.57 1677.75,1228.39 1732.32,1166.55 \n",
       "  1786.9,1096.98 1832.85,1032.43 1878.79,962.394 1934.88,869.465 1990.98,768.37 2043.7,665.892 2096.43,556.198 2180.91,365.421 2265.38,156.123 2278.38,122.269 \n",
       "  2291.38,87.9763 \n",
       "  \"/>\n",
       "<path clip-path=\"url(#clip520)\" d=\"\n",
       "M1891.63 250.738 L2280.47 250.738 L2280.47 95.2176 L1891.63 95.2176  Z\n",
       "  \" fill=\"#ffffff\" fill-rule=\"evenodd\" fill-opacity=\"1\"/>\n",
       "<polyline clip-path=\"url(#clip520)\" style=\"stroke:#000000; stroke-linecap:butt; stroke-linejoin:round; stroke-width:4; stroke-opacity:1; fill:none\" points=\"\n",
       "  1891.63,250.738 2280.47,250.738 2280.47,95.2176 1891.63,95.2176 1891.63,250.738 \n",
       "  \"/>\n",
       "<polyline clip-path=\"url(#clip520)\" style=\"stroke:#009af9; stroke-linecap:butt; stroke-linejoin:round; stroke-width:4; stroke-opacity:1; fill:none\" points=\"\n",
       "  1915.72,147.058 2060.29,147.058 \n",
       "  \"/>\n",
       "<circle clip-path=\"url(#clip520)\" cx=\"1988.01\" cy=\"147.058\" r=\"23\" fill=\"#009af9\" fill-rule=\"evenodd\" fill-opacity=\"1\" stroke=\"#000000\" stroke-opacity=\"1\" stroke-width=\"5.12\"/>\n",
       "<path clip-path=\"url(#clip520)\" d=\"M2102.81 139.176 L2102.81 143.203 Q2101.01 142.277 2099.06 141.815 Q2097.12 141.352 2095.04 141.352 Q2091.86 141.352 2090.27 142.324 Q2088.69 143.296 2088.69 145.24 Q2088.69 146.722 2089.83 147.578 Q2090.96 148.412 2094.39 149.176 L2095.85 149.5 Q2100.38 150.472 2102.28 152.254 Q2104.2 154.014 2104.2 157.185 Q2104.2 160.796 2101.33 162.902 Q2098.48 165.009 2093.48 165.009 Q2091.4 165.009 2089.13 164.592 Q2086.89 164.199 2084.39 163.388 L2084.39 158.99 Q2086.75 160.217 2089.04 160.842 Q2091.33 161.444 2093.58 161.444 Q2096.59 161.444 2098.21 160.426 Q2099.83 159.384 2099.83 157.509 Q2099.83 155.773 2098.65 154.847 Q2097.49 153.921 2093.53 153.064 L2092.05 152.717 Q2088.09 151.884 2086.33 150.171 Q2084.57 148.435 2084.57 145.426 Q2084.57 141.768 2087.17 139.778 Q2089.76 137.787 2094.53 137.787 Q2096.89 137.787 2098.97 138.134 Q2101.05 138.481 2102.81 139.176 Z\" fill=\"#000000\" fill-rule=\"evenodd\" fill-opacity=\"1\" /><path clip-path=\"url(#clip520)\" d=\"M2115.2 131.051 L2115.2 138.412 L2123.97 138.412 L2123.97 141.722 L2115.2 141.722 L2115.2 155.796 Q2115.2 158.967 2116.05 159.87 Q2116.93 160.773 2119.6 160.773 L2123.97 160.773 L2123.97 164.338 L2119.6 164.338 Q2114.66 164.338 2112.79 162.509 Q2110.91 160.657 2110.91 155.796 L2110.91 141.722 L2107.79 141.722 L2107.79 138.412 L2110.91 138.412 L2110.91 131.051 L2115.2 131.051 Z\" fill=\"#000000\" fill-rule=\"evenodd\" fill-opacity=\"1\" /><path clip-path=\"url(#clip520)\" d=\"M2151.75 150.31 L2151.75 152.393 L2132.16 152.393 Q2132.44 156.791 2134.8 159.106 Q2137.19 161.398 2141.42 161.398 Q2143.88 161.398 2146.17 160.796 Q2148.48 160.194 2150.75 158.99 L2150.75 163.018 Q2148.46 163.99 2146.05 164.5 Q2143.65 165.009 2141.17 165.009 Q2134.97 165.009 2131.33 161.398 Q2127.72 157.787 2127.72 151.629 Q2127.72 145.264 2131.15 141.537 Q2134.6 137.787 2140.43 137.787 Q2145.66 137.787 2148.69 141.166 Q2151.75 144.523 2151.75 150.31 M2147.49 149.06 Q2147.44 145.565 2145.52 143.481 Q2143.62 141.398 2140.47 141.398 Q2136.91 141.398 2134.76 143.412 Q2132.63 145.426 2132.3 149.083 L2147.49 149.06 Z\" fill=\"#000000\" fill-rule=\"evenodd\" fill-opacity=\"1\" /><path clip-path=\"url(#clip520)\" d=\"M2180.29 148.689 L2180.29 164.338 L2176.03 164.338 L2176.03 148.828 Q2176.03 145.148 2174.6 143.319 Q2173.16 141.49 2170.29 141.49 Q2166.84 141.49 2164.85 143.69 Q2162.86 145.889 2162.86 149.685 L2162.86 164.338 L2158.58 164.338 L2158.58 138.412 L2162.86 138.412 L2162.86 142.44 Q2164.39 140.102 2166.45 138.944 Q2168.53 137.787 2171.24 137.787 Q2175.71 137.787 2178 140.565 Q2180.29 143.319 2180.29 148.689 Z\" fill=\"#000000\" fill-rule=\"evenodd\" fill-opacity=\"1\" /><path clip-path=\"url(#clip520)\" d=\"M2207.44 139.407 L2207.44 143.389 Q2205.64 142.393 2203.81 141.907 Q2202 141.398 2200.15 141.398 Q2196.01 141.398 2193.72 144.037 Q2191.42 146.652 2191.42 151.398 Q2191.42 156.143 2193.72 158.782 Q2196.01 161.398 2200.15 161.398 Q2202 161.398 2203.81 160.912 Q2205.64 160.402 2207.44 159.407 L2207.44 163.342 Q2205.66 164.176 2203.74 164.592 Q2201.84 165.009 2199.69 165.009 Q2193.83 165.009 2190.38 161.328 Q2186.93 157.648 2186.93 151.398 Q2186.93 145.055 2190.41 141.421 Q2193.9 137.787 2199.97 137.787 Q2201.93 137.787 2203.81 138.203 Q2205.68 138.597 2207.44 139.407 Z\" fill=\"#000000\" fill-rule=\"evenodd\" fill-opacity=\"1\" /><path clip-path=\"url(#clip520)\" d=\"M2214.85 138.412 L2219.11 138.412 L2219.11 164.338 L2214.85 164.338 L2214.85 138.412 M2214.85 128.319 L2219.11 128.319 L2219.11 133.713 L2214.85 133.713 L2214.85 128.319 Z\" fill=\"#000000\" fill-rule=\"evenodd\" fill-opacity=\"1\" /><path clip-path=\"url(#clip520)\" d=\"M2228.02 128.319 L2232.28 128.319 L2232.28 164.338 L2228.02 164.338 L2228.02 128.319 Z\" fill=\"#000000\" fill-rule=\"evenodd\" fill-opacity=\"1\" /><polyline clip-path=\"url(#clip520)\" style=\"stroke:#e26f46; stroke-linecap:butt; stroke-linejoin:round; stroke-width:4; stroke-opacity:1; fill:none\" points=\"\n",
       "  1915.72,198.898 2060.29,198.898 \n",
       "  \"/>\n",
       "<path clip-path=\"url(#clip520)\" d=\"M2108.41 202.15 L2108.41 204.233 L2088.83 204.233 Q2089.11 208.631 2091.47 210.946 Q2093.85 213.238 2098.09 213.238 Q2100.54 213.238 2102.84 212.636 Q2105.15 212.034 2107.42 210.83 L2107.42 214.858 Q2105.13 215.83 2102.72 216.34 Q2100.31 216.849 2097.84 216.849 Q2091.63 216.849 2088 213.238 Q2084.39 209.627 2084.39 203.469 Q2084.39 197.104 2087.81 193.377 Q2091.26 189.627 2097.1 189.627 Q2102.33 189.627 2105.36 193.006 Q2108.41 196.363 2108.41 202.15 M2104.16 200.9 Q2104.11 197.405 2102.19 195.321 Q2100.29 193.238 2097.14 193.238 Q2093.58 193.238 2091.42 195.252 Q2089.29 197.266 2088.97 200.923 L2104.16 200.9 Z\" fill=\"#000000\" fill-rule=\"evenodd\" fill-opacity=\"1\" /><path clip-path=\"url(#clip520)\" d=\"M2136.12 190.252 L2126.75 202.867 L2136.61 216.178 L2131.59 216.178 L2124.04 205.992 L2116.49 216.178 L2111.47 216.178 L2121.54 202.613 L2112.33 190.252 L2117.35 190.252 L2124.23 199.488 L2131.1 190.252 L2136.12 190.252 Z\" fill=\"#000000\" fill-rule=\"evenodd\" fill-opacity=\"1\" /><path clip-path=\"url(#clip520)\" d=\"M2154.41 203.145 Q2149.25 203.145 2147.26 204.326 Q2145.27 205.506 2145.27 208.354 Q2145.27 210.622 2146.75 211.965 Q2148.25 213.284 2150.82 213.284 Q2154.36 213.284 2156.49 210.784 Q2158.65 208.261 2158.65 204.094 L2158.65 203.145 L2154.41 203.145 M2162.91 201.386 L2162.91 216.178 L2158.65 216.178 L2158.65 212.242 Q2157.19 214.603 2155.01 215.738 Q2152.84 216.849 2149.69 216.849 Q2145.71 216.849 2143.35 214.627 Q2141.01 212.381 2141.01 208.631 Q2141.01 204.256 2143.92 202.034 Q2146.86 199.812 2152.67 199.812 L2158.65 199.812 L2158.65 199.395 Q2158.65 196.455 2156.7 194.858 Q2154.78 193.238 2151.29 193.238 Q2149.06 193.238 2146.96 193.77 Q2144.85 194.303 2142.91 195.367 L2142.91 191.432 Q2145.24 190.53 2147.44 190.09 Q2149.64 189.627 2151.72 189.627 Q2157.35 189.627 2160.13 192.543 Q2162.91 195.46 2162.91 201.386 Z\" fill=\"#000000\" fill-rule=\"evenodd\" fill-opacity=\"1\" /><path clip-path=\"url(#clip520)\" d=\"M2190.34 191.247 L2190.34 195.229 Q2188.53 194.233 2186.7 193.747 Q2184.9 193.238 2183.04 193.238 Q2178.9 193.238 2176.61 195.877 Q2174.32 198.492 2174.32 203.238 Q2174.32 207.983 2176.61 210.622 Q2178.9 213.238 2183.04 213.238 Q2184.9 213.238 2186.7 212.752 Q2188.53 212.242 2190.34 211.247 L2190.34 215.182 Q2188.55 216.016 2186.63 216.432 Q2184.73 216.849 2182.58 216.849 Q2176.72 216.849 2173.28 213.168 Q2169.83 209.488 2169.83 203.238 Q2169.83 196.895 2173.3 193.261 Q2176.79 189.627 2182.86 189.627 Q2184.83 189.627 2186.7 190.043 Q2188.58 190.437 2190.34 191.247 Z\" fill=\"#000000\" fill-rule=\"evenodd\" fill-opacity=\"1\" /><path clip-path=\"url(#clip520)\" d=\"M2201.96 182.891 L2201.96 190.252 L2210.73 190.252 L2210.73 193.562 L2201.96 193.562 L2201.96 207.636 Q2201.96 210.807 2202.81 211.71 Q2203.69 212.613 2206.35 212.613 L2210.73 212.613 L2210.73 216.178 L2206.35 216.178 Q2201.42 216.178 2199.55 214.349 Q2197.67 212.497 2197.67 207.636 L2197.67 193.562 L2194.55 193.562 L2194.55 190.252 L2197.67 190.252 L2197.67 182.891 L2201.96 182.891 Z\" fill=\"#000000\" fill-rule=\"evenodd\" fill-opacity=\"1\" /></svg>\n"
      ]
     },
     "execution_count": 34,
     "metadata": {},
     "output_type": "execute_result"
    }
   ],
   "source": [
    "function plot_symbol(S, deriv, n_theta=30)\n",
    "    theta = LinRange(-pi, pi, n_theta)\n",
    "    sym = symbol(S, theta)\n",
    "    rsym = real.((-1im)^deriv * sym)\n",
    "    fig = plot(theta, rsym, marker=:circle, label=\"stencil\")\n",
    "    plot!(fig, th -> th^deriv, label=\"exact\")\n",
    "    fig\n",
    "end\n",
    "\n",
    "plot_symbol([-.5 0 .5], 1)\n",
    "plot_symbol([1 -2 1], 2)"
   ]
  },
  {
   "cell_type": "markdown",
   "id": "e436e934",
   "metadata": {
    "slideshow": {
     "slide_type": "slide"
    }
   },
   "source": [
    "# Stencils of high-order operators"
   ]
  },
  {
   "cell_type": "code",
   "execution_count": 38,
   "id": "b2c87b7f",
   "metadata": {
    "cell_style": "split",
    "slideshow": {
     "slide_type": ""
    }
   },
   "outputs": [
    {
     "data": {
      "image/svg+xml": [
       "<?xml version=\"1.0\" encoding=\"utf-8\"?>\n",
       "<svg xmlns=\"http://www.w3.org/2000/svg\" xmlns:xlink=\"http://www.w3.org/1999/xlink\" width=\"600\" height=\"400\" viewBox=\"0 0 2400 1600\">\n",
       "<defs>\n",
       "  <clipPath id=\"clip680\">\n",
       "    <rect x=\"0\" y=\"0\" width=\"2400\" height=\"1600\"/>\n",
       "  </clipPath>\n",
       "</defs>\n",
       "<path clip-path=\"url(#clip680)\" d=\"\n",
       "M0 1600 L2400 1600 L2400 0 L0 0  Z\n",
       "  \" fill=\"#ffffff\" fill-rule=\"evenodd\" fill-opacity=\"1\"/>\n",
       "<defs>\n",
       "  <clipPath id=\"clip681\">\n",
       "    <rect x=\"480\" y=\"0\" width=\"1681\" height=\"1600\"/>\n",
       "  </clipPath>\n",
       "</defs>\n",
       "<path clip-path=\"url(#clip680)\" d=\"\n",
       "M148.057 1486.45 L2352.76 1486.45 L2352.76 47.2441 L148.057 47.2441  Z\n",
       "  \" fill=\"#ffffff\" fill-rule=\"evenodd\" fill-opacity=\"1\"/>\n",
       "<defs>\n",
       "  <clipPath id=\"clip682\">\n",
       "    <rect x=\"148\" y=\"47\" width=\"2206\" height=\"1440\"/>\n",
       "  </clipPath>\n",
       "</defs>\n",
       "<polyline clip-path=\"url(#clip682)\" style=\"stroke:#000000; stroke-linecap:butt; stroke-linejoin:round; stroke-width:2; stroke-opacity:0.1; fill:none\" points=\"\n",
       "  257.325,1486.45 257.325,47.2441 \n",
       "  \"/>\n",
       "<polyline clip-path=\"url(#clip682)\" style=\"stroke:#000000; stroke-linecap:butt; stroke-linejoin:round; stroke-width:2; stroke-opacity:0.1; fill:none\" points=\"\n",
       "  588.352,1486.45 588.352,47.2441 \n",
       "  \"/>\n",
       "<polyline clip-path=\"url(#clip682)\" style=\"stroke:#000000; stroke-linecap:butt; stroke-linejoin:round; stroke-width:2; stroke-opacity:0.1; fill:none\" points=\"\n",
       "  919.379,1486.45 919.379,47.2441 \n",
       "  \"/>\n",
       "<polyline clip-path=\"url(#clip682)\" style=\"stroke:#000000; stroke-linecap:butt; stroke-linejoin:round; stroke-width:2; stroke-opacity:0.1; fill:none\" points=\"\n",
       "  1250.41,1486.45 1250.41,47.2441 \n",
       "  \"/>\n",
       "<polyline clip-path=\"url(#clip682)\" style=\"stroke:#000000; stroke-linecap:butt; stroke-linejoin:round; stroke-width:2; stroke-opacity:0.1; fill:none\" points=\"\n",
       "  1581.43,1486.45 1581.43,47.2441 \n",
       "  \"/>\n",
       "<polyline clip-path=\"url(#clip682)\" style=\"stroke:#000000; stroke-linecap:butt; stroke-linejoin:round; stroke-width:2; stroke-opacity:0.1; fill:none\" points=\"\n",
       "  1912.46,1486.45 1912.46,47.2441 \n",
       "  \"/>\n",
       "<polyline clip-path=\"url(#clip682)\" style=\"stroke:#000000; stroke-linecap:butt; stroke-linejoin:round; stroke-width:2; stroke-opacity:0.1; fill:none\" points=\"\n",
       "  2243.49,1486.45 2243.49,47.2441 \n",
       "  \"/>\n",
       "<polyline clip-path=\"url(#clip680)\" style=\"stroke:#000000; stroke-linecap:butt; stroke-linejoin:round; stroke-width:4; stroke-opacity:1; fill:none\" points=\"\n",
       "  148.057,1486.45 2352.76,1486.45 \n",
       "  \"/>\n",
       "<polyline clip-path=\"url(#clip680)\" style=\"stroke:#000000; stroke-linecap:butt; stroke-linejoin:round; stroke-width:4; stroke-opacity:1; fill:none\" points=\"\n",
       "  257.325,1486.45 257.325,1467.55 \n",
       "  \"/>\n",
       "<polyline clip-path=\"url(#clip680)\" style=\"stroke:#000000; stroke-linecap:butt; stroke-linejoin:round; stroke-width:4; stroke-opacity:1; fill:none\" points=\"\n",
       "  588.352,1486.45 588.352,1467.55 \n",
       "  \"/>\n",
       "<polyline clip-path=\"url(#clip680)\" style=\"stroke:#000000; stroke-linecap:butt; stroke-linejoin:round; stroke-width:4; stroke-opacity:1; fill:none\" points=\"\n",
       "  919.379,1486.45 919.379,1467.55 \n",
       "  \"/>\n",
       "<polyline clip-path=\"url(#clip680)\" style=\"stroke:#000000; stroke-linecap:butt; stroke-linejoin:round; stroke-width:4; stroke-opacity:1; fill:none\" points=\"\n",
       "  1250.41,1486.45 1250.41,1467.55 \n",
       "  \"/>\n",
       "<polyline clip-path=\"url(#clip680)\" style=\"stroke:#000000; stroke-linecap:butt; stroke-linejoin:round; stroke-width:4; stroke-opacity:1; fill:none\" points=\"\n",
       "  1581.43,1486.45 1581.43,1467.55 \n",
       "  \"/>\n",
       "<polyline clip-path=\"url(#clip680)\" style=\"stroke:#000000; stroke-linecap:butt; stroke-linejoin:round; stroke-width:4; stroke-opacity:1; fill:none\" points=\"\n",
       "  1912.46,1486.45 1912.46,1467.55 \n",
       "  \"/>\n",
       "<polyline clip-path=\"url(#clip680)\" style=\"stroke:#000000; stroke-linecap:butt; stroke-linejoin:round; stroke-width:4; stroke-opacity:1; fill:none\" points=\"\n",
       "  2243.49,1486.45 2243.49,1467.55 \n",
       "  \"/>\n",
       "<path clip-path=\"url(#clip680)\" d=\"M226.793 1530.29 L256.468 1530.29 L256.468 1534.23 L226.793 1534.23 L226.793 1530.29 Z\" fill=\"#000000\" fill-rule=\"evenodd\" fill-opacity=\"1\" /><path clip-path=\"url(#clip680)\" d=\"M280.727 1528.49 Q284.084 1529.2 285.959 1531.47 Q287.857 1533.74 287.857 1537.07 Q287.857 1542.19 284.339 1544.99 Q280.82 1547.79 274.339 1547.79 Q272.163 1547.79 269.848 1547.35 Q267.556 1546.93 265.103 1546.08 L265.103 1541.56 Q267.047 1542.7 269.362 1543.28 Q271.677 1543.86 274.2 1543.86 Q278.598 1543.86 280.889 1542.12 Q283.204 1540.38 283.204 1537.07 Q283.204 1534.02 281.052 1532.31 Q278.922 1530.57 275.102 1530.57 L271.075 1530.57 L271.075 1526.73 L275.288 1526.73 Q278.737 1526.73 280.565 1525.36 Q282.394 1523.97 282.394 1521.38 Q282.394 1518.72 280.496 1517.31 Q278.621 1515.87 275.102 1515.87 Q273.181 1515.87 270.982 1516.29 Q268.783 1516.7 266.144 1517.58 L266.144 1513.42 Q268.806 1512.68 271.121 1512.31 Q273.459 1511.93 275.519 1511.93 Q280.843 1511.93 283.945 1514.37 Q287.047 1516.77 287.047 1520.89 Q287.047 1523.76 285.403 1525.75 Q283.76 1527.72 280.727 1528.49 Z\" fill=\"#000000\" fill-rule=\"evenodd\" fill-opacity=\"1\" /><path clip-path=\"url(#clip680)\" d=\"M558.294 1530.29 L587.97 1530.29 L587.97 1534.23 L558.294 1534.23 L558.294 1530.29 Z\" fill=\"#000000\" fill-rule=\"evenodd\" fill-opacity=\"1\" /><path clip-path=\"url(#clip680)\" d=\"M602.09 1543.18 L618.41 1543.18 L618.41 1547.12 L596.465 1547.12 L596.465 1543.18 Q599.127 1540.43 603.711 1535.8 Q608.317 1531.15 609.498 1529.81 Q611.743 1527.28 612.623 1525.55 Q613.525 1523.79 613.525 1522.1 Q613.525 1519.34 611.581 1517.61 Q609.66 1515.87 606.558 1515.87 Q604.359 1515.87 601.905 1516.63 Q599.475 1517.4 596.697 1518.95 L596.697 1514.23 Q599.521 1513.09 601.975 1512.51 Q604.428 1511.93 606.465 1511.93 Q611.836 1511.93 615.03 1514.62 Q618.224 1517.31 618.224 1521.8 Q618.224 1523.93 617.414 1525.85 Q616.627 1527.74 614.521 1530.34 Q613.942 1531.01 610.84 1534.23 Q607.738 1537.42 602.09 1543.18 Z\" fill=\"#000000\" fill-rule=\"evenodd\" fill-opacity=\"1\" /><path clip-path=\"url(#clip680)\" d=\"M889.136 1530.29 L918.812 1530.29 L918.812 1534.23 L889.136 1534.23 L889.136 1530.29 Z\" fill=\"#000000\" fill-rule=\"evenodd\" fill-opacity=\"1\" /><path clip-path=\"url(#clip680)\" d=\"M929.715 1543.18 L937.354 1543.18 L937.354 1516.82 L929.043 1518.49 L929.043 1514.23 L937.307 1512.56 L941.983 1512.56 L941.983 1543.18 L949.622 1543.18 L949.622 1547.12 L929.715 1547.12 L929.715 1543.18 Z\" fill=\"#000000\" fill-rule=\"evenodd\" fill-opacity=\"1\" /><path clip-path=\"url(#clip680)\" d=\"M1250.41 1515.64 Q1246.8 1515.64 1244.97 1519.2 Q1243.16 1522.75 1243.16 1529.87 Q1243.16 1536.98 1244.97 1540.55 Q1246.8 1544.09 1250.41 1544.09 Q1254.04 1544.09 1255.85 1540.55 Q1257.67 1536.98 1257.67 1529.87 Q1257.67 1522.75 1255.85 1519.2 Q1254.04 1515.64 1250.41 1515.64 M1250.41 1511.93 Q1256.22 1511.93 1259.27 1516.54 Q1262.35 1521.12 1262.35 1529.87 Q1262.35 1538.6 1259.27 1543.21 Q1256.22 1547.79 1250.41 1547.79 Q1244.6 1547.79 1241.52 1543.21 Q1238.46 1538.6 1238.46 1529.87 Q1238.46 1521.12 1241.52 1516.54 Q1244.6 1511.93 1250.41 1511.93 Z\" fill=\"#000000\" fill-rule=\"evenodd\" fill-opacity=\"1\" /><path clip-path=\"url(#clip680)\" d=\"M1571.82 1543.18 L1579.45 1543.18 L1579.45 1516.82 L1571.14 1518.49 L1571.14 1514.23 L1579.41 1512.56 L1584.08 1512.56 L1584.08 1543.18 L1591.72 1543.18 L1591.72 1547.12 L1571.82 1547.12 L1571.82 1543.18 Z\" fill=\"#000000\" fill-rule=\"evenodd\" fill-opacity=\"1\" /><path clip-path=\"url(#clip680)\" d=\"M1907.11 1543.18 L1923.43 1543.18 L1923.43 1547.12 L1901.49 1547.12 L1901.49 1543.18 Q1904.15 1540.43 1908.73 1535.8 Q1913.34 1531.15 1914.52 1529.81 Q1916.77 1527.28 1917.65 1525.55 Q1918.55 1523.79 1918.55 1522.1 Q1918.55 1519.34 1916.6 1517.61 Q1914.68 1515.87 1911.58 1515.87 Q1909.38 1515.87 1906.93 1516.63 Q1904.5 1517.4 1901.72 1518.95 L1901.72 1514.23 Q1904.54 1513.09 1907 1512.51 Q1909.45 1511.93 1911.49 1511.93 Q1916.86 1511.93 1920.05 1514.62 Q1923.25 1517.31 1923.25 1521.8 Q1923.25 1523.93 1922.44 1525.85 Q1921.65 1527.74 1919.54 1530.34 Q1918.97 1531.01 1915.86 1534.23 Q1912.76 1537.42 1907.11 1543.18 Z\" fill=\"#000000\" fill-rule=\"evenodd\" fill-opacity=\"1\" /><path clip-path=\"url(#clip680)\" d=\"M2247.74 1528.49 Q2251.09 1529.2 2252.97 1531.47 Q2254.86 1533.74 2254.86 1537.07 Q2254.86 1542.19 2251.35 1544.99 Q2247.83 1547.79 2241.35 1547.79 Q2239.17 1547.79 2236.86 1547.35 Q2234.56 1546.93 2232.11 1546.08 L2232.11 1541.56 Q2234.05 1542.7 2236.37 1543.28 Q2238.68 1543.86 2241.21 1543.86 Q2245.61 1543.86 2247.9 1542.12 Q2250.21 1540.38 2250.21 1537.07 Q2250.21 1534.02 2248.06 1532.31 Q2245.93 1530.57 2242.11 1530.57 L2238.08 1530.57 L2238.08 1526.73 L2242.3 1526.73 Q2245.74 1526.73 2247.57 1525.36 Q2249.4 1523.97 2249.4 1521.38 Q2249.4 1518.72 2247.5 1517.31 Q2245.63 1515.87 2242.11 1515.87 Q2240.19 1515.87 2237.99 1516.29 Q2235.79 1516.7 2233.15 1517.58 L2233.15 1513.42 Q2235.81 1512.68 2238.13 1512.31 Q2240.47 1511.93 2242.53 1511.93 Q2247.85 1511.93 2250.95 1514.37 Q2254.05 1516.77 2254.05 1520.89 Q2254.05 1523.76 2252.41 1525.75 Q2250.77 1527.72 2247.74 1528.49 Z\" fill=\"#000000\" fill-rule=\"evenodd\" fill-opacity=\"1\" /><polyline clip-path=\"url(#clip682)\" style=\"stroke:#000000; stroke-linecap:butt; stroke-linejoin:round; stroke-width:2; stroke-opacity:0.1; fill:none\" points=\"\n",
       "  148.057,1415.12 2352.76,1415.12 \n",
       "  \"/>\n",
       "<polyline clip-path=\"url(#clip682)\" style=\"stroke:#000000; stroke-linecap:butt; stroke-linejoin:round; stroke-width:2; stroke-opacity:0.1; fill:none\" points=\"\n",
       "  148.057,1199.03 2352.76,1199.03 \n",
       "  \"/>\n",
       "<polyline clip-path=\"url(#clip682)\" style=\"stroke:#000000; stroke-linecap:butt; stroke-linejoin:round; stroke-width:2; stroke-opacity:0.1; fill:none\" points=\"\n",
       "  148.057,982.937 2352.76,982.937 \n",
       "  \"/>\n",
       "<polyline clip-path=\"url(#clip682)\" style=\"stroke:#000000; stroke-linecap:butt; stroke-linejoin:round; stroke-width:2; stroke-opacity:0.1; fill:none\" points=\"\n",
       "  148.057,766.846 2352.76,766.846 \n",
       "  \"/>\n",
       "<polyline clip-path=\"url(#clip682)\" style=\"stroke:#000000; stroke-linecap:butt; stroke-linejoin:round; stroke-width:2; stroke-opacity:0.1; fill:none\" points=\"\n",
       "  148.057,550.755 2352.76,550.755 \n",
       "  \"/>\n",
       "<polyline clip-path=\"url(#clip682)\" style=\"stroke:#000000; stroke-linecap:butt; stroke-linejoin:round; stroke-width:2; stroke-opacity:0.1; fill:none\" points=\"\n",
       "  148.057,334.664 2352.76,334.664 \n",
       "  \"/>\n",
       "<polyline clip-path=\"url(#clip682)\" style=\"stroke:#000000; stroke-linecap:butt; stroke-linejoin:round; stroke-width:2; stroke-opacity:0.1; fill:none\" points=\"\n",
       "  148.057,118.573 2352.76,118.573 \n",
       "  \"/>\n",
       "<polyline clip-path=\"url(#clip680)\" style=\"stroke:#000000; stroke-linecap:butt; stroke-linejoin:round; stroke-width:4; stroke-opacity:1; fill:none\" points=\"\n",
       "  148.057,1486.45 148.057,47.2441 \n",
       "  \"/>\n",
       "<polyline clip-path=\"url(#clip680)\" style=\"stroke:#000000; stroke-linecap:butt; stroke-linejoin:round; stroke-width:4; stroke-opacity:1; fill:none\" points=\"\n",
       "  148.057,1415.12 166.954,1415.12 \n",
       "  \"/>\n",
       "<polyline clip-path=\"url(#clip680)\" style=\"stroke:#000000; stroke-linecap:butt; stroke-linejoin:round; stroke-width:4; stroke-opacity:1; fill:none\" points=\"\n",
       "  148.057,1199.03 166.954,1199.03 \n",
       "  \"/>\n",
       "<polyline clip-path=\"url(#clip680)\" style=\"stroke:#000000; stroke-linecap:butt; stroke-linejoin:round; stroke-width:4; stroke-opacity:1; fill:none\" points=\"\n",
       "  148.057,982.937 166.954,982.937 \n",
       "  \"/>\n",
       "<polyline clip-path=\"url(#clip680)\" style=\"stroke:#000000; stroke-linecap:butt; stroke-linejoin:round; stroke-width:4; stroke-opacity:1; fill:none\" points=\"\n",
       "  148.057,766.846 166.954,766.846 \n",
       "  \"/>\n",
       "<polyline clip-path=\"url(#clip680)\" style=\"stroke:#000000; stroke-linecap:butt; stroke-linejoin:round; stroke-width:4; stroke-opacity:1; fill:none\" points=\"\n",
       "  148.057,550.755 166.954,550.755 \n",
       "  \"/>\n",
       "<polyline clip-path=\"url(#clip680)\" style=\"stroke:#000000; stroke-linecap:butt; stroke-linejoin:round; stroke-width:4; stroke-opacity:1; fill:none\" points=\"\n",
       "  148.057,334.664 166.954,334.664 \n",
       "  \"/>\n",
       "<polyline clip-path=\"url(#clip680)\" style=\"stroke:#000000; stroke-linecap:butt; stroke-linejoin:round; stroke-width:4; stroke-opacity:1; fill:none\" points=\"\n",
       "  148.057,118.573 166.954,118.573 \n",
       "  \"/>\n",
       "<path clip-path=\"url(#clip680)\" d=\"M50.9921 1415.57 L80.6679 1415.57 L80.6679 1419.51 L50.9921 1419.51 L50.9921 1415.57 Z\" fill=\"#000000\" fill-rule=\"evenodd\" fill-opacity=\"1\" /><path clip-path=\"url(#clip680)\" d=\"M104.927 1413.76 Q108.283 1414.48 110.158 1416.75 Q112.057 1419.02 112.057 1422.35 Q112.057 1427.47 108.538 1430.27 Q105.02 1433.07 98.5382 1433.07 Q96.3623 1433.07 94.0475 1432.63 Q91.7558 1432.21 89.3021 1431.36 L89.3021 1426.84 Q91.2465 1427.98 93.5613 1428.56 Q95.8761 1429.13 98.3993 1429.13 Q102.797 1429.13 105.089 1427.4 Q107.404 1425.66 107.404 1422.35 Q107.404 1419.3 105.251 1417.58 Q103.121 1415.85 99.3021 1415.85 L95.2743 1415.85 L95.2743 1412.01 L99.4872 1412.01 Q102.936 1412.01 104.765 1410.64 Q106.594 1409.25 106.594 1406.66 Q106.594 1404 104.696 1402.58 Q102.821 1401.15 99.3021 1401.15 Q97.3808 1401.15 95.1817 1401.57 Q92.9826 1401.98 90.3438 1402.86 L90.3438 1398.7 Q93.0058 1397.95 95.3206 1397.58 Q97.6585 1397.21 99.7187 1397.21 Q105.043 1397.21 108.145 1399.64 Q111.246 1402.05 111.246 1406.17 Q111.246 1409.04 109.603 1411.03 Q107.959 1413 104.927 1413.76 Z\" fill=\"#000000\" fill-rule=\"evenodd\" fill-opacity=\"1\" /><path clip-path=\"url(#clip680)\" d=\"M51.9412 1199.48 L81.617 1199.48 L81.617 1203.41 L51.9412 1203.41 L51.9412 1199.48 Z\" fill=\"#000000\" fill-rule=\"evenodd\" fill-opacity=\"1\" /><path clip-path=\"url(#clip680)\" d=\"M95.7373 1212.37 L112.057 1212.37 L112.057 1216.31 L90.1123 1216.31 L90.1123 1212.37 Q92.7743 1209.62 97.3576 1204.99 Q101.964 1200.34 103.145 1198.99 Q105.39 1196.47 106.27 1194.73 Q107.172 1192.97 107.172 1191.28 Q107.172 1188.53 105.228 1186.79 Q103.307 1185.06 100.205 1185.06 Q98.0058 1185.06 95.5521 1185.82 Q93.1215 1186.59 90.3438 1188.14 L90.3438 1183.41 Q93.1678 1182.28 95.6215 1181.7 Q98.0752 1181.12 100.112 1181.12 Q105.483 1181.12 108.677 1183.81 Q111.871 1186.49 111.871 1190.98 Q111.871 1193.11 111.061 1195.03 Q110.274 1196.93 108.168 1199.53 Q107.589 1200.2 104.487 1203.41 Q101.385 1206.61 95.7373 1212.37 Z\" fill=\"#000000\" fill-rule=\"evenodd\" fill-opacity=\"1\" /><path clip-path=\"url(#clip680)\" d=\"M51.5708 983.388 L81.2466 983.388 L81.2466 987.323 L51.5708 987.323 L51.5708 983.388 Z\" fill=\"#000000\" fill-rule=\"evenodd\" fill-opacity=\"1\" /><path clip-path=\"url(#clip680)\" d=\"M92.1493 996.282 L99.7882 996.282 L99.7882 969.916 L91.478 971.583 L91.478 967.324 L99.7419 965.657 L104.418 965.657 L104.418 996.282 L112.057 996.282 L112.057 1000.22 L92.1493 1000.22 L92.1493 996.282 Z\" fill=\"#000000\" fill-rule=\"evenodd\" fill-opacity=\"1\" /><path clip-path=\"url(#clip680)\" d=\"M100.112 752.645 Q96.5011 752.645 94.6724 756.209 Q92.8669 759.751 92.8669 766.881 Q92.8669 773.987 94.6724 777.552 Q96.5011 781.094 100.112 781.094 Q103.746 781.094 105.552 777.552 Q107.381 773.987 107.381 766.881 Q107.381 759.751 105.552 756.209 Q103.746 752.645 100.112 752.645 M100.112 748.941 Q105.922 748.941 108.978 753.547 Q112.057 758.131 112.057 766.881 Q112.057 775.608 108.978 780.214 Q105.922 784.797 100.112 784.797 Q94.3021 784.797 91.2234 780.214 Q88.1679 775.608 88.1679 766.881 Q88.1679 758.131 91.2234 753.547 Q94.3021 748.941 100.112 748.941 Z\" fill=\"#000000\" fill-rule=\"evenodd\" fill-opacity=\"1\" /><path clip-path=\"url(#clip680)\" d=\"M92.1493 564.1 L99.7882 564.1 L99.7882 537.734 L91.478 539.401 L91.478 535.142 L99.7419 533.475 L104.418 533.475 L104.418 564.1 L112.057 564.1 L112.057 568.035 L92.1493 568.035 L92.1493 564.1 Z\" fill=\"#000000\" fill-rule=\"evenodd\" fill-opacity=\"1\" /><path clip-path=\"url(#clip680)\" d=\"M95.7373 348.009 L112.057 348.009 L112.057 351.944 L90.1123 351.944 L90.1123 348.009 Q92.7743 345.254 97.3576 340.625 Q101.964 335.972 103.145 334.629 Q105.39 332.106 106.27 330.37 Q107.172 328.611 107.172 326.921 Q107.172 324.166 105.228 322.43 Q103.307 320.694 100.205 320.694 Q98.0058 320.694 95.5521 321.458 Q93.1215 322.222 90.3438 323.773 L90.3438 319.051 Q93.1678 317.917 95.6215 317.338 Q98.0752 316.759 100.112 316.759 Q105.483 316.759 108.677 319.444 Q111.871 322.129 111.871 326.62 Q111.871 328.75 111.061 330.671 Q110.274 332.569 108.168 335.162 Q107.589 335.833 104.487 339.051 Q101.385 342.245 95.7373 348.009 Z\" fill=\"#000000\" fill-rule=\"evenodd\" fill-opacity=\"1\" /><path clip-path=\"url(#clip680)\" d=\"M104.927 117.219 Q108.283 117.937 110.158 120.205 Q112.057 122.474 112.057 125.807 Q112.057 130.923 108.538 133.724 Q105.02 136.524 98.5382 136.524 Q96.3623 136.524 94.0475 136.085 Q91.7558 135.668 89.3021 134.812 L89.3021 130.298 Q91.2465 131.432 93.5613 132.011 Q95.8761 132.589 98.3993 132.589 Q102.797 132.589 105.089 130.853 Q107.404 129.117 107.404 125.807 Q107.404 122.751 105.251 121.038 Q103.121 119.302 99.3021 119.302 L95.2743 119.302 L95.2743 115.46 L99.4872 115.46 Q102.936 115.46 104.765 114.094 Q106.594 112.705 106.594 110.113 Q106.594 107.451 104.696 106.039 Q102.821 104.603 99.3021 104.603 Q97.3808 104.603 95.1817 105.02 Q92.9826 105.437 90.3438 106.316 L90.3438 102.15 Q93.0058 101.409 95.3206 101.039 Q97.6585 100.668 99.7187 100.668 Q105.043 100.668 108.145 103.099 Q111.246 105.506 111.246 109.626 Q111.246 112.497 109.603 114.488 Q107.959 116.455 104.927 117.219 Z\" fill=\"#000000\" fill-rule=\"evenodd\" fill-opacity=\"1\" /><polyline clip-path=\"url(#clip682)\" style=\"stroke:#009af9; stroke-linecap:butt; stroke-linejoin:round; stroke-width:4; stroke-opacity:1; fill:none\" points=\"\n",
       "  210.454,766.846 282.175,868.105 353.895,959.297 425.616,1032.16 497.337,1081.58 569.058,1106.1 640.779,1107.64 712.5,1090.41 784.221,1059.65 855.942,1020.36 \n",
       "  927.662,976.456 999.383,930.512 1071.1,883.873 1142.82,837.073 1214.55,790.255 1286.27,743.437 1357.99,696.619 1429.71,649.819 1501.43,603.18 1573.15,557.236 \n",
       "  1644.87,513.337 1716.59,474.043 1788.31,443.284 1860.03,426.056 1931.75,427.59 2003.48,452.115 2075.2,501.531 2146.92,574.395 2218.64,665.587 2290.36,766.846 \n",
       "  \n",
       "  \"/>\n",
       "<circle clip-path=\"url(#clip682)\" cx=\"210.454\" cy=\"766.846\" r=\"14\" fill=\"#009af9\" fill-rule=\"evenodd\" fill-opacity=\"1\" stroke=\"#000000\" stroke-opacity=\"1\" stroke-width=\"3.2\"/>\n",
       "<circle clip-path=\"url(#clip682)\" cx=\"282.175\" cy=\"868.105\" r=\"14\" fill=\"#009af9\" fill-rule=\"evenodd\" fill-opacity=\"1\" stroke=\"#000000\" stroke-opacity=\"1\" stroke-width=\"3.2\"/>\n",
       "<circle clip-path=\"url(#clip682)\" cx=\"353.895\" cy=\"959.297\" r=\"14\" fill=\"#009af9\" fill-rule=\"evenodd\" fill-opacity=\"1\" stroke=\"#000000\" stroke-opacity=\"1\" stroke-width=\"3.2\"/>\n",
       "<circle clip-path=\"url(#clip682)\" cx=\"425.616\" cy=\"1032.16\" r=\"14\" fill=\"#009af9\" fill-rule=\"evenodd\" fill-opacity=\"1\" stroke=\"#000000\" stroke-opacity=\"1\" stroke-width=\"3.2\"/>\n",
       "<circle clip-path=\"url(#clip682)\" cx=\"497.337\" cy=\"1081.58\" r=\"14\" fill=\"#009af9\" fill-rule=\"evenodd\" fill-opacity=\"1\" stroke=\"#000000\" stroke-opacity=\"1\" stroke-width=\"3.2\"/>\n",
       "<circle clip-path=\"url(#clip682)\" cx=\"569.058\" cy=\"1106.1\" r=\"14\" fill=\"#009af9\" fill-rule=\"evenodd\" fill-opacity=\"1\" stroke=\"#000000\" stroke-opacity=\"1\" stroke-width=\"3.2\"/>\n",
       "<circle clip-path=\"url(#clip682)\" cx=\"640.779\" cy=\"1107.64\" r=\"14\" fill=\"#009af9\" fill-rule=\"evenodd\" fill-opacity=\"1\" stroke=\"#000000\" stroke-opacity=\"1\" stroke-width=\"3.2\"/>\n",
       "<circle clip-path=\"url(#clip682)\" cx=\"712.5\" cy=\"1090.41\" r=\"14\" fill=\"#009af9\" fill-rule=\"evenodd\" fill-opacity=\"1\" stroke=\"#000000\" stroke-opacity=\"1\" stroke-width=\"3.2\"/>\n",
       "<circle clip-path=\"url(#clip682)\" cx=\"784.221\" cy=\"1059.65\" r=\"14\" fill=\"#009af9\" fill-rule=\"evenodd\" fill-opacity=\"1\" stroke=\"#000000\" stroke-opacity=\"1\" stroke-width=\"3.2\"/>\n",
       "<circle clip-path=\"url(#clip682)\" cx=\"855.942\" cy=\"1020.36\" r=\"14\" fill=\"#009af9\" fill-rule=\"evenodd\" fill-opacity=\"1\" stroke=\"#000000\" stroke-opacity=\"1\" stroke-width=\"3.2\"/>\n",
       "<circle clip-path=\"url(#clip682)\" cx=\"927.662\" cy=\"976.456\" r=\"14\" fill=\"#009af9\" fill-rule=\"evenodd\" fill-opacity=\"1\" stroke=\"#000000\" stroke-opacity=\"1\" stroke-width=\"3.2\"/>\n",
       "<circle clip-path=\"url(#clip682)\" cx=\"999.383\" cy=\"930.512\" r=\"14\" fill=\"#009af9\" fill-rule=\"evenodd\" fill-opacity=\"1\" stroke=\"#000000\" stroke-opacity=\"1\" stroke-width=\"3.2\"/>\n",
       "<circle clip-path=\"url(#clip682)\" cx=\"1071.1\" cy=\"883.873\" r=\"14\" fill=\"#009af9\" fill-rule=\"evenodd\" fill-opacity=\"1\" stroke=\"#000000\" stroke-opacity=\"1\" stroke-width=\"3.2\"/>\n",
       "<circle clip-path=\"url(#clip682)\" cx=\"1142.82\" cy=\"837.073\" r=\"14\" fill=\"#009af9\" fill-rule=\"evenodd\" fill-opacity=\"1\" stroke=\"#000000\" stroke-opacity=\"1\" stroke-width=\"3.2\"/>\n",
       "<circle clip-path=\"url(#clip682)\" cx=\"1214.55\" cy=\"790.255\" r=\"14\" fill=\"#009af9\" fill-rule=\"evenodd\" fill-opacity=\"1\" stroke=\"#000000\" stroke-opacity=\"1\" stroke-width=\"3.2\"/>\n",
       "<circle clip-path=\"url(#clip682)\" cx=\"1286.27\" cy=\"743.437\" r=\"14\" fill=\"#009af9\" fill-rule=\"evenodd\" fill-opacity=\"1\" stroke=\"#000000\" stroke-opacity=\"1\" stroke-width=\"3.2\"/>\n",
       "<circle clip-path=\"url(#clip682)\" cx=\"1357.99\" cy=\"696.619\" r=\"14\" fill=\"#009af9\" fill-rule=\"evenodd\" fill-opacity=\"1\" stroke=\"#000000\" stroke-opacity=\"1\" stroke-width=\"3.2\"/>\n",
       "<circle clip-path=\"url(#clip682)\" cx=\"1429.71\" cy=\"649.819\" r=\"14\" fill=\"#009af9\" fill-rule=\"evenodd\" fill-opacity=\"1\" stroke=\"#000000\" stroke-opacity=\"1\" stroke-width=\"3.2\"/>\n",
       "<circle clip-path=\"url(#clip682)\" cx=\"1501.43\" cy=\"603.18\" r=\"14\" fill=\"#009af9\" fill-rule=\"evenodd\" fill-opacity=\"1\" stroke=\"#000000\" stroke-opacity=\"1\" stroke-width=\"3.2\"/>\n",
       "<circle clip-path=\"url(#clip682)\" cx=\"1573.15\" cy=\"557.236\" r=\"14\" fill=\"#009af9\" fill-rule=\"evenodd\" fill-opacity=\"1\" stroke=\"#000000\" stroke-opacity=\"1\" stroke-width=\"3.2\"/>\n",
       "<circle clip-path=\"url(#clip682)\" cx=\"1644.87\" cy=\"513.337\" r=\"14\" fill=\"#009af9\" fill-rule=\"evenodd\" fill-opacity=\"1\" stroke=\"#000000\" stroke-opacity=\"1\" stroke-width=\"3.2\"/>\n",
       "<circle clip-path=\"url(#clip682)\" cx=\"1716.59\" cy=\"474.043\" r=\"14\" fill=\"#009af9\" fill-rule=\"evenodd\" fill-opacity=\"1\" stroke=\"#000000\" stroke-opacity=\"1\" stroke-width=\"3.2\"/>\n",
       "<circle clip-path=\"url(#clip682)\" cx=\"1788.31\" cy=\"443.284\" r=\"14\" fill=\"#009af9\" fill-rule=\"evenodd\" fill-opacity=\"1\" stroke=\"#000000\" stroke-opacity=\"1\" stroke-width=\"3.2\"/>\n",
       "<circle clip-path=\"url(#clip682)\" cx=\"1860.03\" cy=\"426.056\" r=\"14\" fill=\"#009af9\" fill-rule=\"evenodd\" fill-opacity=\"1\" stroke=\"#000000\" stroke-opacity=\"1\" stroke-width=\"3.2\"/>\n",
       "<circle clip-path=\"url(#clip682)\" cx=\"1931.75\" cy=\"427.59\" r=\"14\" fill=\"#009af9\" fill-rule=\"evenodd\" fill-opacity=\"1\" stroke=\"#000000\" stroke-opacity=\"1\" stroke-width=\"3.2\"/>\n",
       "<circle clip-path=\"url(#clip682)\" cx=\"2003.48\" cy=\"452.115\" r=\"14\" fill=\"#009af9\" fill-rule=\"evenodd\" fill-opacity=\"1\" stroke=\"#000000\" stroke-opacity=\"1\" stroke-width=\"3.2\"/>\n",
       "<circle clip-path=\"url(#clip682)\" cx=\"2075.2\" cy=\"501.531\" r=\"14\" fill=\"#009af9\" fill-rule=\"evenodd\" fill-opacity=\"1\" stroke=\"#000000\" stroke-opacity=\"1\" stroke-width=\"3.2\"/>\n",
       "<circle clip-path=\"url(#clip682)\" cx=\"2146.92\" cy=\"574.395\" r=\"14\" fill=\"#009af9\" fill-rule=\"evenodd\" fill-opacity=\"1\" stroke=\"#000000\" stroke-opacity=\"1\" stroke-width=\"3.2\"/>\n",
       "<circle clip-path=\"url(#clip682)\" cx=\"2218.64\" cy=\"665.587\" r=\"14\" fill=\"#009af9\" fill-rule=\"evenodd\" fill-opacity=\"1\" stroke=\"#000000\" stroke-opacity=\"1\" stroke-width=\"3.2\"/>\n",
       "<circle clip-path=\"url(#clip682)\" cx=\"2290.36\" cy=\"766.846\" r=\"14\" fill=\"#009af9\" fill-rule=\"evenodd\" fill-opacity=\"1\" stroke=\"#000000\" stroke-opacity=\"1\" stroke-width=\"3.2\"/>\n",
       "<polyline clip-path=\"url(#clip682)\" style=\"stroke:#e26f46; stroke-linecap:butt; stroke-linejoin:round; stroke-width:4; stroke-opacity:1; fill:none\" points=\"\n",
       "  210.454,1445.72 230.766,1432.46 418.579,1309.85 531.447,1236.17 626.876,1173.88 730.538,1106.21 826.105,1043.82 928.564,976.941 1047.27,899.45 1152.77,830.585 \n",
       "  1245.27,770.196 1346.13,704.357 1447.59,638.126 1559.77,564.899 1666.5,495.226 1777.47,422.781 1870.89,361.799 1984.95,287.346 2092.16,217.358 2263.92,105.232 \n",
       "  2290.36,87.9763 \n",
       "  \"/>\n",
       "<path clip-path=\"url(#clip680)\" d=\"\n",
       "M1886.41 250.738 L2279.27 250.738 L2279.27 95.2176 L1886.41 95.2176  Z\n",
       "  \" fill=\"#ffffff\" fill-rule=\"evenodd\" fill-opacity=\"1\"/>\n",
       "<polyline clip-path=\"url(#clip680)\" style=\"stroke:#000000; stroke-linecap:butt; stroke-linejoin:round; stroke-width:4; stroke-opacity:1; fill:none\" points=\"\n",
       "  1886.41,250.738 2279.27,250.738 2279.27,95.2176 1886.41,95.2176 1886.41,250.738 \n",
       "  \"/>\n",
       "<polyline clip-path=\"url(#clip680)\" style=\"stroke:#009af9; stroke-linecap:butt; stroke-linejoin:round; stroke-width:4; stroke-opacity:1; fill:none\" points=\"\n",
       "  1910.9,147.058 2057.88,147.058 \n",
       "  \"/>\n",
       "<circle clip-path=\"url(#clip680)\" cx=\"1984.39\" cy=\"147.058\" r=\"23\" fill=\"#009af9\" fill-rule=\"evenodd\" fill-opacity=\"1\" stroke=\"#000000\" stroke-opacity=\"1\" stroke-width=\"5.12\"/>\n",
       "<path clip-path=\"url(#clip680)\" d=\"M2100.81 139.176 L2100.81 143.203 Q2099 142.277 2097.06 141.815 Q2095.11 141.352 2093.03 141.352 Q2089.86 141.352 2088.26 142.324 Q2086.69 143.296 2086.69 145.24 Q2086.69 146.722 2087.82 147.578 Q2088.95 148.412 2092.38 149.176 L2093.84 149.5 Q2098.38 150.472 2100.27 152.254 Q2102.19 154.014 2102.19 157.185 Q2102.19 160.796 2099.32 162.902 Q2096.48 165.009 2091.48 165.009 Q2089.39 165.009 2087.13 164.592 Q2084.88 164.199 2082.38 163.388 L2082.38 158.99 Q2084.74 160.217 2087.03 160.842 Q2089.32 161.444 2091.57 161.444 Q2094.58 161.444 2096.2 160.426 Q2097.82 159.384 2097.82 157.509 Q2097.82 155.773 2096.64 154.847 Q2095.48 153.921 2091.52 153.064 L2090.04 152.717 Q2086.08 151.884 2084.32 150.171 Q2082.57 148.435 2082.57 145.426 Q2082.57 141.768 2085.16 139.778 Q2087.75 137.787 2092.52 137.787 Q2094.88 137.787 2096.96 138.134 Q2099.05 138.481 2100.81 139.176 Z\" fill=\"#000000\" fill-rule=\"evenodd\" fill-opacity=\"1\" /><path clip-path=\"url(#clip680)\" d=\"M2113.19 131.051 L2113.19 138.412 L2121.96 138.412 L2121.96 141.722 L2113.19 141.722 L2113.19 155.796 Q2113.19 158.967 2114.05 159.87 Q2114.93 160.773 2117.59 160.773 L2121.96 160.773 L2121.96 164.338 L2117.59 164.338 Q2112.66 164.338 2110.78 162.509 Q2108.91 160.657 2108.91 155.796 L2108.91 141.722 L2105.78 141.722 L2105.78 138.412 L2108.91 138.412 L2108.91 131.051 L2113.19 131.051 Z\" fill=\"#000000\" fill-rule=\"evenodd\" fill-opacity=\"1\" /><path clip-path=\"url(#clip680)\" d=\"M2149.74 150.31 L2149.74 152.393 L2130.16 152.393 Q2130.44 156.791 2132.8 159.106 Q2135.18 161.398 2139.42 161.398 Q2141.87 161.398 2144.16 160.796 Q2146.48 160.194 2148.75 158.99 L2148.75 163.018 Q2146.45 163.99 2144.05 164.5 Q2141.64 165.009 2139.16 165.009 Q2132.96 165.009 2129.32 161.398 Q2125.71 157.787 2125.71 151.629 Q2125.71 145.264 2129.14 141.537 Q2132.59 137.787 2138.42 137.787 Q2143.65 137.787 2146.69 141.166 Q2149.74 144.523 2149.74 150.31 M2145.48 149.06 Q2145.44 145.565 2143.51 143.481 Q2141.62 141.398 2138.47 141.398 Q2134.9 141.398 2132.75 143.412 Q2130.62 145.426 2130.3 149.083 L2145.48 149.06 Z\" fill=\"#000000\" fill-rule=\"evenodd\" fill-opacity=\"1\" /><path clip-path=\"url(#clip680)\" d=\"M2178.28 148.689 L2178.28 164.338 L2174.02 164.338 L2174.02 148.828 Q2174.02 145.148 2172.59 143.319 Q2171.15 141.49 2168.28 141.49 Q2164.83 141.49 2162.84 143.69 Q2160.85 145.889 2160.85 149.685 L2160.85 164.338 L2156.57 164.338 L2156.57 138.412 L2160.85 138.412 L2160.85 142.44 Q2162.38 140.102 2164.44 138.944 Q2166.52 137.787 2169.23 137.787 Q2173.7 137.787 2175.99 140.565 Q2178.28 143.319 2178.28 148.689 Z\" fill=\"#000000\" fill-rule=\"evenodd\" fill-opacity=\"1\" /><path clip-path=\"url(#clip680)\" d=\"M2205.43 139.407 L2205.43 143.389 Q2203.63 142.393 2201.8 141.907 Q2199.99 141.398 2198.14 141.398 Q2194 141.398 2191.71 144.037 Q2189.42 146.652 2189.42 151.398 Q2189.42 156.143 2191.71 158.782 Q2194 161.398 2198.14 161.398 Q2199.99 161.398 2201.8 160.912 Q2203.63 160.402 2205.43 159.407 L2205.43 163.342 Q2203.65 164.176 2201.73 164.592 Q2199.83 165.009 2197.68 165.009 Q2191.82 165.009 2188.37 161.328 Q2184.93 157.648 2184.93 151.398 Q2184.93 145.055 2188.4 141.421 Q2191.89 137.787 2197.96 137.787 Q2199.93 137.787 2201.8 138.203 Q2203.68 138.597 2205.43 139.407 Z\" fill=\"#000000\" fill-rule=\"evenodd\" fill-opacity=\"1\" /><path clip-path=\"url(#clip680)\" d=\"M2212.84 138.412 L2217.1 138.412 L2217.1 164.338 L2212.84 164.338 L2212.84 138.412 M2212.84 128.319 L2217.1 128.319 L2217.1 133.713 L2212.84 133.713 L2212.84 128.319 Z\" fill=\"#000000\" fill-rule=\"evenodd\" fill-opacity=\"1\" /><path clip-path=\"url(#clip680)\" d=\"M2226.01 128.319 L2230.27 128.319 L2230.27 164.338 L2226.01 164.338 L2226.01 128.319 Z\" fill=\"#000000\" fill-rule=\"evenodd\" fill-opacity=\"1\" /><polyline clip-path=\"url(#clip680)\" style=\"stroke:#e26f46; stroke-linecap:butt; stroke-linejoin:round; stroke-width:4; stroke-opacity:1; fill:none\" points=\"\n",
       "  1910.9,198.898 2057.88,198.898 \n",
       "  \"/>\n",
       "<path clip-path=\"url(#clip680)\" d=\"M2106.41 202.15 L2106.41 204.233 L2086.82 204.233 Q2087.1 208.631 2089.46 210.946 Q2091.85 213.238 2096.08 213.238 Q2098.54 213.238 2100.83 212.636 Q2103.14 212.034 2105.41 210.83 L2105.41 214.858 Q2103.12 215.83 2100.71 216.34 Q2098.31 216.849 2095.83 216.849 Q2089.63 216.849 2085.99 213.238 Q2082.38 209.627 2082.38 203.469 Q2082.38 197.104 2085.81 193.377 Q2089.25 189.627 2095.09 189.627 Q2100.32 189.627 2103.35 193.006 Q2106.41 196.363 2106.41 202.15 M2102.15 200.9 Q2102.1 197.405 2100.18 195.321 Q2098.28 193.238 2095.13 193.238 Q2091.57 193.238 2089.42 195.252 Q2087.29 197.266 2086.96 200.923 L2102.15 200.9 Z\" fill=\"#000000\" fill-rule=\"evenodd\" fill-opacity=\"1\" /><path clip-path=\"url(#clip680)\" d=\"M2134.12 190.252 L2124.74 202.867 L2134.6 216.178 L2129.58 216.178 L2122.03 205.992 L2114.49 216.178 L2109.46 216.178 L2119.53 202.613 L2110.32 190.252 L2115.34 190.252 L2122.22 199.488 L2129.09 190.252 L2134.12 190.252 Z\" fill=\"#000000\" fill-rule=\"evenodd\" fill-opacity=\"1\" /><path clip-path=\"url(#clip680)\" d=\"M2152.4 203.145 Q2147.24 203.145 2145.25 204.326 Q2143.26 205.506 2143.26 208.354 Q2143.26 210.622 2144.74 211.965 Q2146.25 213.284 2148.81 213.284 Q2152.36 213.284 2154.49 210.784 Q2156.64 208.261 2156.64 204.094 L2156.64 203.145 L2152.4 203.145 M2160.9 201.386 L2160.9 216.178 L2156.64 216.178 L2156.64 212.242 Q2155.18 214.603 2153 215.738 Q2150.83 216.849 2147.68 216.849 Q2143.7 216.849 2141.34 214.627 Q2139 212.381 2139 208.631 Q2139 204.256 2141.92 202.034 Q2144.86 199.812 2150.67 199.812 L2156.64 199.812 L2156.64 199.395 Q2156.64 196.455 2154.69 194.858 Q2152.77 193.238 2149.28 193.238 Q2147.06 193.238 2144.95 193.77 Q2142.84 194.303 2140.9 195.367 L2140.9 191.432 Q2143.24 190.53 2145.44 190.09 Q2147.63 189.627 2149.72 189.627 Q2155.34 189.627 2158.12 192.543 Q2160.9 195.46 2160.9 201.386 Z\" fill=\"#000000\" fill-rule=\"evenodd\" fill-opacity=\"1\" /><path clip-path=\"url(#clip680)\" d=\"M2188.33 191.247 L2188.33 195.229 Q2186.52 194.233 2184.69 193.747 Q2182.89 193.238 2181.04 193.238 Q2176.89 193.238 2174.6 195.877 Q2172.31 198.492 2172.31 203.238 Q2172.31 207.983 2174.6 210.622 Q2176.89 213.238 2181.04 213.238 Q2182.89 213.238 2184.69 212.752 Q2186.52 212.242 2188.33 211.247 L2188.33 215.182 Q2186.55 216.016 2184.62 216.432 Q2182.73 216.849 2180.57 216.849 Q2174.72 216.849 2171.27 213.168 Q2167.82 209.488 2167.82 203.238 Q2167.82 196.895 2171.29 193.261 Q2174.79 189.627 2180.85 189.627 Q2182.82 189.627 2184.69 190.043 Q2186.57 190.437 2188.33 191.247 Z\" fill=\"#000000\" fill-rule=\"evenodd\" fill-opacity=\"1\" /><path clip-path=\"url(#clip680)\" d=\"M2199.95 182.891 L2199.95 190.252 L2208.72 190.252 L2208.72 193.562 L2199.95 193.562 L2199.95 207.636 Q2199.95 210.807 2200.81 211.71 Q2201.68 212.613 2204.35 212.613 L2208.72 212.613 L2208.72 216.178 L2204.35 216.178 Q2199.42 216.178 2197.54 214.349 Q2195.67 212.497 2195.67 207.636 L2195.67 193.562 L2192.54 193.562 L2192.54 190.252 L2195.67 190.252 L2195.67 182.891 L2199.95 182.891 Z\" fill=\"#000000\" fill-rule=\"evenodd\" fill-opacity=\"1\" /></svg>\n"
      ]
     },
     "execution_count": 38,
     "metadata": {},
     "output_type": "execute_result"
    }
   ],
   "source": [
    "x = -3:3\n",
    "plot_symbol(fdstencil(x, 0, 1), 1)"
   ]
  },
  {
   "cell_type": "code",
   "execution_count": 42,
   "id": "83666fc8",
   "metadata": {
    "cell_style": "split"
   },
   "outputs": [
    {
     "data": {
      "image/svg+xml": [
       "<?xml version=\"1.0\" encoding=\"utf-8\"?>\n",
       "<svg xmlns=\"http://www.w3.org/2000/svg\" xmlns:xlink=\"http://www.w3.org/1999/xlink\" width=\"600\" height=\"400\" viewBox=\"0 0 2400 1600\">\n",
       "<defs>\n",
       "  <clipPath id=\"clip840\">\n",
       "    <rect x=\"0\" y=\"0\" width=\"2400\" height=\"1600\"/>\n",
       "  </clipPath>\n",
       "</defs>\n",
       "<path clip-path=\"url(#clip840)\" d=\"\n",
       "M0 1600 L2400 1600 L2400 0 L0 0  Z\n",
       "  \" fill=\"#ffffff\" fill-rule=\"evenodd\" fill-opacity=\"1\"/>\n",
       "<defs>\n",
       "  <clipPath id=\"clip841\">\n",
       "    <rect x=\"480\" y=\"0\" width=\"1681\" height=\"1600\"/>\n",
       "  </clipPath>\n",
       "</defs>\n",
       "<path clip-path=\"url(#clip840)\" d=\"\n",
       "M184.191 1486.45 L2352.76 1486.45 L2352.76 47.2441 L184.191 47.2441  Z\n",
       "  \" fill=\"#ffffff\" fill-rule=\"evenodd\" fill-opacity=\"1\"/>\n",
       "<defs>\n",
       "  <clipPath id=\"clip842\">\n",
       "    <rect x=\"184\" y=\"47\" width=\"2170\" height=\"1440\"/>\n",
       "  </clipPath>\n",
       "</defs>\n",
       "<polyline clip-path=\"url(#clip842)\" style=\"stroke:#000000; stroke-linecap:butt; stroke-linejoin:round; stroke-width:2; stroke-opacity:0.1; fill:none\" points=\"\n",
       "  291.668,1486.45 291.668,47.2441 \n",
       "  \"/>\n",
       "<polyline clip-path=\"url(#clip842)\" style=\"stroke:#000000; stroke-linecap:butt; stroke-linejoin:round; stroke-width:2; stroke-opacity:0.1; fill:none\" points=\"\n",
       "  617.27,1486.45 617.27,47.2441 \n",
       "  \"/>\n",
       "<polyline clip-path=\"url(#clip842)\" style=\"stroke:#000000; stroke-linecap:butt; stroke-linejoin:round; stroke-width:2; stroke-opacity:0.1; fill:none\" points=\"\n",
       "  942.872,1486.45 942.872,47.2441 \n",
       "  \"/>\n",
       "<polyline clip-path=\"url(#clip842)\" style=\"stroke:#000000; stroke-linecap:butt; stroke-linejoin:round; stroke-width:2; stroke-opacity:0.1; fill:none\" points=\"\n",
       "  1268.47,1486.45 1268.47,47.2441 \n",
       "  \"/>\n",
       "<polyline clip-path=\"url(#clip842)\" style=\"stroke:#000000; stroke-linecap:butt; stroke-linejoin:round; stroke-width:2; stroke-opacity:0.1; fill:none\" points=\"\n",
       "  1594.08,1486.45 1594.08,47.2441 \n",
       "  \"/>\n",
       "<polyline clip-path=\"url(#clip842)\" style=\"stroke:#000000; stroke-linecap:butt; stroke-linejoin:round; stroke-width:2; stroke-opacity:0.1; fill:none\" points=\"\n",
       "  1919.68,1486.45 1919.68,47.2441 \n",
       "  \"/>\n",
       "<polyline clip-path=\"url(#clip842)\" style=\"stroke:#000000; stroke-linecap:butt; stroke-linejoin:round; stroke-width:2; stroke-opacity:0.1; fill:none\" points=\"\n",
       "  2245.28,1486.45 2245.28,47.2441 \n",
       "  \"/>\n",
       "<polyline clip-path=\"url(#clip840)\" style=\"stroke:#000000; stroke-linecap:butt; stroke-linejoin:round; stroke-width:4; stroke-opacity:1; fill:none\" points=\"\n",
       "  184.191,1486.45 2352.76,1486.45 \n",
       "  \"/>\n",
       "<polyline clip-path=\"url(#clip840)\" style=\"stroke:#000000; stroke-linecap:butt; stroke-linejoin:round; stroke-width:4; stroke-opacity:1; fill:none\" points=\"\n",
       "  291.668,1486.45 291.668,1467.55 \n",
       "  \"/>\n",
       "<polyline clip-path=\"url(#clip840)\" style=\"stroke:#000000; stroke-linecap:butt; stroke-linejoin:round; stroke-width:4; stroke-opacity:1; fill:none\" points=\"\n",
       "  617.27,1486.45 617.27,1467.55 \n",
       "  \"/>\n",
       "<polyline clip-path=\"url(#clip840)\" style=\"stroke:#000000; stroke-linecap:butt; stroke-linejoin:round; stroke-width:4; stroke-opacity:1; fill:none\" points=\"\n",
       "  942.872,1486.45 942.872,1467.55 \n",
       "  \"/>\n",
       "<polyline clip-path=\"url(#clip840)\" style=\"stroke:#000000; stroke-linecap:butt; stroke-linejoin:round; stroke-width:4; stroke-opacity:1; fill:none\" points=\"\n",
       "  1268.47,1486.45 1268.47,1467.55 \n",
       "  \"/>\n",
       "<polyline clip-path=\"url(#clip840)\" style=\"stroke:#000000; stroke-linecap:butt; stroke-linejoin:round; stroke-width:4; stroke-opacity:1; fill:none\" points=\"\n",
       "  1594.08,1486.45 1594.08,1467.55 \n",
       "  \"/>\n",
       "<polyline clip-path=\"url(#clip840)\" style=\"stroke:#000000; stroke-linecap:butt; stroke-linejoin:round; stroke-width:4; stroke-opacity:1; fill:none\" points=\"\n",
       "  1919.68,1486.45 1919.68,1467.55 \n",
       "  \"/>\n",
       "<polyline clip-path=\"url(#clip840)\" style=\"stroke:#000000; stroke-linecap:butt; stroke-linejoin:round; stroke-width:4; stroke-opacity:1; fill:none\" points=\"\n",
       "  2245.28,1486.45 2245.28,1467.55 \n",
       "  \"/>\n",
       "<path clip-path=\"url(#clip840)\" d=\"M261.136 1530.29 L290.812 1530.29 L290.812 1534.23 L261.136 1534.23 L261.136 1530.29 Z\" fill=\"#000000\" fill-rule=\"evenodd\" fill-opacity=\"1\" /><path clip-path=\"url(#clip840)\" d=\"M315.071 1528.49 Q318.427 1529.2 320.302 1531.47 Q322.2 1533.74 322.2 1537.07 Q322.2 1542.19 318.682 1544.99 Q315.163 1547.79 308.682 1547.79 Q306.506 1547.79 304.191 1547.35 Q301.899 1546.93 299.446 1546.08 L299.446 1541.56 Q301.39 1542.7 303.705 1543.28 Q306.02 1543.86 308.543 1543.86 Q312.941 1543.86 315.233 1542.12 Q317.547 1540.38 317.547 1537.07 Q317.547 1534.02 315.395 1532.31 Q313.265 1530.57 309.446 1530.57 L305.418 1530.57 L305.418 1526.73 L309.631 1526.73 Q313.08 1526.73 314.909 1525.36 Q316.737 1523.97 316.737 1521.38 Q316.737 1518.72 314.839 1517.31 Q312.964 1515.87 309.446 1515.87 Q307.524 1515.87 305.325 1516.29 Q303.126 1516.7 300.487 1517.58 L300.487 1513.42 Q303.149 1512.68 305.464 1512.31 Q307.802 1511.93 309.862 1511.93 Q315.186 1511.93 318.288 1514.37 Q321.39 1516.77 321.39 1520.89 Q321.39 1523.76 319.747 1525.75 Q318.103 1527.72 315.071 1528.49 Z\" fill=\"#000000\" fill-rule=\"evenodd\" fill-opacity=\"1\" /><path clip-path=\"url(#clip840)\" d=\"M587.212 1530.29 L616.888 1530.29 L616.888 1534.23 L587.212 1534.23 L587.212 1530.29 Z\" fill=\"#000000\" fill-rule=\"evenodd\" fill-opacity=\"1\" /><path clip-path=\"url(#clip840)\" d=\"M631.008 1543.18 L647.327 1543.18 L647.327 1547.12 L625.383 1547.12 L625.383 1543.18 Q628.045 1540.43 632.628 1535.8 Q637.235 1531.15 638.415 1529.81 Q640.661 1527.28 641.54 1525.55 Q642.443 1523.79 642.443 1522.1 Q642.443 1519.34 640.499 1517.61 Q638.578 1515.87 635.476 1515.87 Q633.277 1515.87 630.823 1516.63 Q628.392 1517.4 625.615 1518.95 L625.615 1514.23 Q628.439 1513.09 630.892 1512.51 Q633.346 1511.93 635.383 1511.93 Q640.753 1511.93 643.948 1514.62 Q647.142 1517.31 647.142 1521.8 Q647.142 1523.93 646.332 1525.85 Q645.545 1527.74 643.439 1530.34 Q642.86 1531.01 639.758 1534.23 Q636.656 1537.42 631.008 1543.18 Z\" fill=\"#000000\" fill-rule=\"evenodd\" fill-opacity=\"1\" /><path clip-path=\"url(#clip840)\" d=\"M912.629 1530.29 L942.304 1530.29 L942.304 1534.23 L912.629 1534.23 L912.629 1530.29 Z\" fill=\"#000000\" fill-rule=\"evenodd\" fill-opacity=\"1\" /><path clip-path=\"url(#clip840)\" d=\"M953.207 1543.18 L960.846 1543.18 L960.846 1516.82 L952.536 1518.49 L952.536 1514.23 L960.8 1512.56 L965.476 1512.56 L965.476 1543.18 L973.114 1543.18 L973.114 1547.12 L953.207 1547.12 L953.207 1543.18 Z\" fill=\"#000000\" fill-rule=\"evenodd\" fill-opacity=\"1\" /><path clip-path=\"url(#clip840)\" d=\"M1268.47 1515.64 Q1264.86 1515.64 1263.03 1519.2 Q1261.23 1522.75 1261.23 1529.87 Q1261.23 1536.98 1263.03 1540.55 Q1264.86 1544.09 1268.47 1544.09 Q1272.11 1544.09 1273.91 1540.55 Q1275.74 1536.98 1275.74 1529.87 Q1275.74 1522.75 1273.91 1519.2 Q1272.11 1515.64 1268.47 1515.64 M1268.47 1511.93 Q1274.28 1511.93 1277.34 1516.54 Q1280.42 1521.12 1280.42 1529.87 Q1280.42 1538.6 1277.34 1543.21 Q1274.28 1547.79 1268.47 1547.79 Q1262.66 1547.79 1259.58 1543.21 Q1256.53 1538.6 1256.53 1529.87 Q1256.53 1521.12 1259.58 1516.54 Q1262.66 1511.93 1268.47 1511.93 Z\" fill=\"#000000\" fill-rule=\"evenodd\" fill-opacity=\"1\" /><path clip-path=\"url(#clip840)\" d=\"M1584.46 1543.18 L1592.1 1543.18 L1592.1 1516.82 L1583.79 1518.49 L1583.79 1514.23 L1592.05 1512.56 L1596.73 1512.56 L1596.73 1543.18 L1604.36 1543.18 L1604.36 1547.12 L1584.46 1547.12 L1584.46 1543.18 Z\" fill=\"#000000\" fill-rule=\"evenodd\" fill-opacity=\"1\" /><path clip-path=\"url(#clip840)\" d=\"M1914.33 1543.18 L1930.65 1543.18 L1930.65 1547.12 L1908.7 1547.12 L1908.7 1543.18 Q1911.37 1540.43 1915.95 1535.8 Q1920.56 1531.15 1921.74 1529.81 Q1923.98 1527.28 1924.86 1525.55 Q1925.76 1523.79 1925.76 1522.1 Q1925.76 1519.34 1923.82 1517.61 Q1921.9 1515.87 1918.8 1515.87 Q1916.6 1515.87 1914.14 1516.63 Q1911.71 1517.4 1908.94 1518.95 L1908.94 1514.23 Q1911.76 1513.09 1914.21 1512.51 Q1916.67 1511.93 1918.7 1511.93 Q1924.07 1511.93 1927.27 1514.62 Q1930.46 1517.31 1930.46 1521.8 Q1930.46 1523.93 1929.65 1525.85 Q1928.87 1527.74 1926.76 1530.34 Q1926.18 1531.01 1923.08 1534.23 Q1919.98 1537.42 1914.33 1543.18 Z\" fill=\"#000000\" fill-rule=\"evenodd\" fill-opacity=\"1\" /><path clip-path=\"url(#clip840)\" d=\"M2249.53 1528.49 Q2252.88 1529.2 2254.76 1531.47 Q2256.66 1533.74 2256.66 1537.07 Q2256.66 1542.19 2253.14 1544.99 Q2249.62 1547.79 2243.14 1547.79 Q2240.96 1547.79 2238.65 1547.35 Q2236.36 1546.93 2233.9 1546.08 L2233.9 1541.56 Q2235.85 1542.7 2238.16 1543.28 Q2240.48 1543.86 2243 1543.86 Q2247.4 1543.86 2249.69 1542.12 Q2252 1540.38 2252 1537.07 Q2252 1534.02 2249.85 1532.31 Q2247.72 1530.57 2243.9 1530.57 L2239.87 1530.57 L2239.87 1526.73 L2244.09 1526.73 Q2247.54 1526.73 2249.36 1525.36 Q2251.19 1523.97 2251.19 1521.38 Q2251.19 1518.72 2249.29 1517.31 Q2247.42 1515.87 2243.9 1515.87 Q2241.98 1515.87 2239.78 1516.29 Q2237.58 1516.7 2234.94 1517.58 L2234.94 1513.42 Q2237.61 1512.68 2239.92 1512.31 Q2242.26 1511.93 2244.32 1511.93 Q2249.64 1511.93 2252.74 1514.37 Q2255.85 1516.77 2255.85 1520.89 Q2255.85 1523.76 2254.2 1525.75 Q2252.56 1527.72 2249.53 1528.49 Z\" fill=\"#000000\" fill-rule=\"evenodd\" fill-opacity=\"1\" /><polyline clip-path=\"url(#clip842)\" style=\"stroke:#000000; stroke-linecap:butt; stroke-linejoin:round; stroke-width:2; stroke-opacity:0.1; fill:none\" points=\"\n",
       "  184.191,1445.75 2352.76,1445.75 \n",
       "  \"/>\n",
       "<polyline clip-path=\"url(#clip842)\" style=\"stroke:#000000; stroke-linecap:butt; stroke-linejoin:round; stroke-width:2; stroke-opacity:0.1; fill:none\" points=\"\n",
       "  184.191,1101.82 2352.76,1101.82 \n",
       "  \"/>\n",
       "<polyline clip-path=\"url(#clip842)\" style=\"stroke:#000000; stroke-linecap:butt; stroke-linejoin:round; stroke-width:2; stroke-opacity:0.1; fill:none\" points=\"\n",
       "  184.191,757.893 2352.76,757.893 \n",
       "  \"/>\n",
       "<polyline clip-path=\"url(#clip842)\" style=\"stroke:#000000; stroke-linecap:butt; stroke-linejoin:round; stroke-width:2; stroke-opacity:0.1; fill:none\" points=\"\n",
       "  184.191,413.965 2352.76,413.965 \n",
       "  \"/>\n",
       "<polyline clip-path=\"url(#clip842)\" style=\"stroke:#000000; stroke-linecap:butt; stroke-linejoin:round; stroke-width:2; stroke-opacity:0.1; fill:none\" points=\"\n",
       "  184.191,70.0376 2352.76,70.0376 \n",
       "  \"/>\n",
       "<polyline clip-path=\"url(#clip840)\" style=\"stroke:#000000; stroke-linecap:butt; stroke-linejoin:round; stroke-width:4; stroke-opacity:1; fill:none\" points=\"\n",
       "  184.191,1486.45 184.191,47.2441 \n",
       "  \"/>\n",
       "<polyline clip-path=\"url(#clip840)\" style=\"stroke:#000000; stroke-linecap:butt; stroke-linejoin:round; stroke-width:4; stroke-opacity:1; fill:none\" points=\"\n",
       "  184.191,1445.75 203.088,1445.75 \n",
       "  \"/>\n",
       "<polyline clip-path=\"url(#clip840)\" style=\"stroke:#000000; stroke-linecap:butt; stroke-linejoin:round; stroke-width:4; stroke-opacity:1; fill:none\" points=\"\n",
       "  184.191,1101.82 203.088,1101.82 \n",
       "  \"/>\n",
       "<polyline clip-path=\"url(#clip840)\" style=\"stroke:#000000; stroke-linecap:butt; stroke-linejoin:round; stroke-width:4; stroke-opacity:1; fill:none\" points=\"\n",
       "  184.191,757.893 203.088,757.893 \n",
       "  \"/>\n",
       "<polyline clip-path=\"url(#clip840)\" style=\"stroke:#000000; stroke-linecap:butt; stroke-linejoin:round; stroke-width:4; stroke-opacity:1; fill:none\" points=\"\n",
       "  184.191,413.965 203.088,413.965 \n",
       "  \"/>\n",
       "<polyline clip-path=\"url(#clip840)\" style=\"stroke:#000000; stroke-linecap:butt; stroke-linejoin:round; stroke-width:4; stroke-opacity:1; fill:none\" points=\"\n",
       "  184.191,70.0376 203.088,70.0376 \n",
       "  \"/>\n",
       "<path clip-path=\"url(#clip840)\" d=\"M91.0151 1431.55 Q87.404 1431.55 85.5753 1435.11 Q83.7697 1438.65 83.7697 1445.78 Q83.7697 1452.89 85.5753 1456.45 Q87.404 1460 91.0151 1460 Q94.6493 1460 96.4548 1456.45 Q98.2835 1452.89 98.2835 1445.78 Q98.2835 1438.65 96.4548 1435.11 Q94.6493 1431.55 91.0151 1431.55 M91.0151 1427.84 Q96.8252 1427.84 99.8808 1432.45 Q102.959 1437.03 102.959 1445.78 Q102.959 1454.51 99.8808 1459.12 Q96.8252 1463.7 91.0151 1463.7 Q85.2049 1463.7 82.1262 1459.12 Q79.0707 1454.51 79.0707 1445.78 Q79.0707 1437.03 82.1262 1432.45 Q85.2049 1427.84 91.0151 1427.84 Z\" fill=\"#000000\" fill-rule=\"evenodd\" fill-opacity=\"1\" /><path clip-path=\"url(#clip840)\" d=\"M111.177 1457.15 L116.061 1457.15 L116.061 1463.03 L111.177 1463.03 L111.177 1457.15 Z\" fill=\"#000000\" fill-rule=\"evenodd\" fill-opacity=\"1\" /><path clip-path=\"url(#clip840)\" d=\"M136.246 1431.55 Q132.635 1431.55 130.807 1435.11 Q129.001 1438.65 129.001 1445.78 Q129.001 1452.89 130.807 1456.45 Q132.635 1460 136.246 1460 Q139.881 1460 141.686 1456.45 Q143.515 1452.89 143.515 1445.78 Q143.515 1438.65 141.686 1435.11 Q139.881 1431.55 136.246 1431.55 M136.246 1427.84 Q142.056 1427.84 145.112 1432.45 Q148.191 1437.03 148.191 1445.78 Q148.191 1454.51 145.112 1459.12 Q142.056 1463.7 136.246 1463.7 Q130.436 1463.7 127.357 1459.12 Q124.302 1454.51 124.302 1445.78 Q124.302 1437.03 127.357 1432.45 Q130.436 1427.84 136.246 1427.84 Z\" fill=\"#000000\" fill-rule=\"evenodd\" fill-opacity=\"1\" /><path clip-path=\"url(#clip840)\" d=\"M86.0382 1115.17 L102.358 1115.17 L102.358 1119.1 L80.4133 1119.1 L80.4133 1115.17 Q83.0753 1112.41 87.6586 1107.78 Q92.2651 1103.13 93.4456 1101.79 Q95.691 1099.26 96.5706 1097.53 Q97.4734 1095.77 97.4734 1094.08 Q97.4734 1091.32 95.5289 1089.59 Q93.6076 1087.85 90.5058 1087.85 Q88.3067 1087.85 85.8531 1088.62 Q83.4225 1089.38 80.6447 1090.93 L80.6447 1086.21 Q83.4688 1085.07 85.9225 1084.49 Q88.3762 1083.92 90.4132 1083.92 Q95.7836 1083.92 98.978 1086.6 Q102.172 1089.29 102.172 1093.78 Q102.172 1095.91 101.362 1097.83 Q100.575 1099.73 98.4687 1102.32 Q97.89 1102.99 94.7882 1106.21 Q91.6864 1109.4 86.0382 1115.17 Z\" fill=\"#000000\" fill-rule=\"evenodd\" fill-opacity=\"1\" /><path clip-path=\"url(#clip840)\" d=\"M112.172 1113.22 L117.057 1113.22 L117.057 1119.1 L112.172 1119.1 L112.172 1113.22 Z\" fill=\"#000000\" fill-rule=\"evenodd\" fill-opacity=\"1\" /><path clip-path=\"url(#clip840)\" d=\"M127.288 1084.54 L145.644 1084.54 L145.644 1088.48 L131.57 1088.48 L131.57 1096.95 Q132.589 1096.6 133.607 1096.44 Q134.626 1096.25 135.644 1096.25 Q141.431 1096.25 144.811 1099.43 Q148.191 1102.6 148.191 1108.01 Q148.191 1113.59 144.718 1116.69 Q141.246 1119.77 134.927 1119.77 Q132.751 1119.77 130.482 1119.4 Q128.237 1119.03 125.83 1118.29 L125.83 1113.59 Q127.913 1114.73 130.135 1115.28 Q132.357 1115.84 134.834 1115.84 Q138.839 1115.84 141.177 1113.73 Q143.515 1111.62 143.515 1108.01 Q143.515 1104.4 141.177 1102.3 Q138.839 1100.19 134.834 1100.19 Q132.959 1100.19 131.084 1100.61 Q129.232 1101.02 127.288 1101.9 L127.288 1084.54 Z\" fill=\"#000000\" fill-rule=\"evenodd\" fill-opacity=\"1\" /><path clip-path=\"url(#clip840)\" d=\"M81.0614 740.613 L99.4178 740.613 L99.4178 744.548 L85.3438 744.548 L85.3438 753.021 Q86.3623 752.673 87.3808 752.511 Q88.3993 752.326 89.4178 752.326 Q95.2049 752.326 98.5845 755.497 Q101.964 758.669 101.964 764.085 Q101.964 769.664 98.4919 772.766 Q95.0197 775.844 88.7003 775.844 Q86.5243 775.844 84.2558 775.474 Q82.0105 775.104 79.6031 774.363 L79.6031 769.664 Q81.6864 770.798 83.9086 771.354 Q86.1308 771.909 88.6077 771.909 Q92.6123 771.909 94.9502 769.803 Q97.2882 767.696 97.2882 764.085 Q97.2882 760.474 94.9502 758.368 Q92.6123 756.261 88.6077 756.261 Q86.7327 756.261 84.8577 756.678 Q83.0058 757.095 81.0614 757.974 L81.0614 740.613 Z\" fill=\"#000000\" fill-rule=\"evenodd\" fill-opacity=\"1\" /><path clip-path=\"url(#clip840)\" d=\"M111.177 769.294 L116.061 769.294 L116.061 775.173 L111.177 775.173 L111.177 769.294 Z\" fill=\"#000000\" fill-rule=\"evenodd\" fill-opacity=\"1\" /><path clip-path=\"url(#clip840)\" d=\"M136.246 743.692 Q132.635 743.692 130.807 747.257 Q129.001 750.798 129.001 757.928 Q129.001 765.034 130.807 768.599 Q132.635 772.141 136.246 772.141 Q139.881 772.141 141.686 768.599 Q143.515 765.034 143.515 757.928 Q143.515 750.798 141.686 747.257 Q139.881 743.692 136.246 743.692 M136.246 739.988 Q142.056 739.988 145.112 744.595 Q148.191 749.178 148.191 757.928 Q148.191 766.655 145.112 771.261 Q142.056 775.844 136.246 775.844 Q130.436 775.844 127.357 771.261 Q124.302 766.655 124.302 757.928 Q124.302 749.178 127.357 744.595 Q130.436 739.988 136.246 739.988 Z\" fill=\"#000000\" fill-rule=\"evenodd\" fill-opacity=\"1\" /><path clip-path=\"url(#clip840)\" d=\"M80.8299 396.685 L103.052 396.685 L103.052 398.676 L90.5058 431.245 L85.6216 431.245 L97.4271 400.621 L80.8299 400.621 L80.8299 396.685 Z\" fill=\"#000000\" fill-rule=\"evenodd\" fill-opacity=\"1\" /><path clip-path=\"url(#clip840)\" d=\"M112.172 425.366 L117.057 425.366 L117.057 431.245 L112.172 431.245 L112.172 425.366 Z\" fill=\"#000000\" fill-rule=\"evenodd\" fill-opacity=\"1\" /><path clip-path=\"url(#clip840)\" d=\"M127.288 396.685 L145.644 396.685 L145.644 400.621 L131.57 400.621 L131.57 409.093 Q132.589 408.746 133.607 408.583 Q134.626 408.398 135.644 408.398 Q141.431 408.398 144.811 411.57 Q148.191 414.741 148.191 420.157 Q148.191 425.736 144.718 428.838 Q141.246 431.917 134.927 431.917 Q132.751 431.917 130.482 431.546 Q128.237 431.176 125.83 430.435 L125.83 425.736 Q127.913 426.87 130.135 427.426 Q132.357 427.982 134.834 427.982 Q138.839 427.982 141.177 425.875 Q143.515 423.769 143.515 420.157 Q143.515 416.546 141.177 414.44 Q138.839 412.333 134.834 412.333 Q132.959 412.333 131.084 412.75 Q129.232 413.167 127.288 414.046 L127.288 396.685 Z\" fill=\"#000000\" fill-rule=\"evenodd\" fill-opacity=\"1\" /><path clip-path=\"url(#clip840)\" d=\"M51.6634 83.3824 L59.3023 83.3824 L59.3023 57.0168 L50.9921 58.6835 L50.9921 54.4243 L59.256 52.7576 L63.9319 52.7576 L63.9319 83.3824 L71.5707 83.3824 L71.5707 87.3176 L51.6634 87.3176 L51.6634 83.3824 Z\" fill=\"#000000\" fill-rule=\"evenodd\" fill-opacity=\"1\" /><path clip-path=\"url(#clip840)\" d=\"M91.0151 55.8363 Q87.404 55.8363 85.5753 59.4011 Q83.7697 62.9427 83.7697 70.0723 Q83.7697 77.1788 85.5753 80.7436 Q87.404 84.2852 91.0151 84.2852 Q94.6493 84.2852 96.4548 80.7436 Q98.2835 77.1788 98.2835 70.0723 Q98.2835 62.9427 96.4548 59.4011 Q94.6493 55.8363 91.0151 55.8363 M91.0151 52.1326 Q96.8252 52.1326 99.8808 56.7391 Q102.959 61.3224 102.959 70.0723 Q102.959 78.7991 99.8808 83.4056 Q96.8252 87.9889 91.0151 87.9889 Q85.2049 87.9889 82.1262 83.4056 Q79.0707 78.7991 79.0707 70.0723 Q79.0707 61.3224 82.1262 56.7391 Q85.2049 52.1326 91.0151 52.1326 Z\" fill=\"#000000\" fill-rule=\"evenodd\" fill-opacity=\"1\" /><path clip-path=\"url(#clip840)\" d=\"M111.177 81.438 L116.061 81.438 L116.061 87.3176 L111.177 87.3176 L111.177 81.438 Z\" fill=\"#000000\" fill-rule=\"evenodd\" fill-opacity=\"1\" /><path clip-path=\"url(#clip840)\" d=\"M136.246 55.8363 Q132.635 55.8363 130.807 59.4011 Q129.001 62.9427 129.001 70.0723 Q129.001 77.1788 130.807 80.7436 Q132.635 84.2852 136.246 84.2852 Q139.881 84.2852 141.686 80.7436 Q143.515 77.1788 143.515 70.0723 Q143.515 62.9427 141.686 59.4011 Q139.881 55.8363 136.246 55.8363 M136.246 52.1326 Q142.056 52.1326 145.112 56.7391 Q148.191 61.3224 148.191 70.0723 Q148.191 78.7991 145.112 83.4056 Q142.056 87.9889 136.246 87.9889 Q130.436 87.9889 127.357 83.4056 Q124.302 78.7991 124.302 70.0723 Q124.302 61.3224 127.357 56.7391 Q130.436 52.1326 136.246 52.1326 Z\" fill=\"#000000\" fill-rule=\"evenodd\" fill-opacity=\"1\" /><polyline clip-path=\"url(#clip842)\" style=\"stroke:#009af9; stroke-linecap:butt; stroke-linejoin:round; stroke-width:4; stroke-opacity:1; fill:none\" points=\"\n",
       "  245.565,895.464 316.111,901.897 386.656,920.894 457.201,951.568 527.747,992.483 598.292,1041.73 668.837,1097 739.383,1155.71 809.928,1215.12 880.474,1272.45 \n",
       "  951.019,1325.01 1021.56,1370.36 1092.11,1406.36 1162.66,1431.35 1233.2,1444.14 1303.75,1444.14 1374.29,1431.35 1444.84,1406.36 1515.38,1370.36 1585.93,1325.01 \n",
       "  1656.47,1272.45 1727.02,1215.12 1797.56,1155.71 1868.11,1097 1938.65,1041.73 2009.2,992.483 2079.75,951.568 2150.29,920.894 2220.84,901.897 2291.38,895.464 \n",
       "  \n",
       "  \"/>\n",
       "<circle clip-path=\"url(#clip842)\" cx=\"245.565\" cy=\"895.464\" r=\"14\" fill=\"#009af9\" fill-rule=\"evenodd\" fill-opacity=\"1\" stroke=\"#000000\" stroke-opacity=\"1\" stroke-width=\"3.2\"/>\n",
       "<circle clip-path=\"url(#clip842)\" cx=\"316.111\" cy=\"901.897\" r=\"14\" fill=\"#009af9\" fill-rule=\"evenodd\" fill-opacity=\"1\" stroke=\"#000000\" stroke-opacity=\"1\" stroke-width=\"3.2\"/>\n",
       "<circle clip-path=\"url(#clip842)\" cx=\"386.656\" cy=\"920.894\" r=\"14\" fill=\"#009af9\" fill-rule=\"evenodd\" fill-opacity=\"1\" stroke=\"#000000\" stroke-opacity=\"1\" stroke-width=\"3.2\"/>\n",
       "<circle clip-path=\"url(#clip842)\" cx=\"457.201\" cy=\"951.568\" r=\"14\" fill=\"#009af9\" fill-rule=\"evenodd\" fill-opacity=\"1\" stroke=\"#000000\" stroke-opacity=\"1\" stroke-width=\"3.2\"/>\n",
       "<circle clip-path=\"url(#clip842)\" cx=\"527.747\" cy=\"992.483\" r=\"14\" fill=\"#009af9\" fill-rule=\"evenodd\" fill-opacity=\"1\" stroke=\"#000000\" stroke-opacity=\"1\" stroke-width=\"3.2\"/>\n",
       "<circle clip-path=\"url(#clip842)\" cx=\"598.292\" cy=\"1041.73\" r=\"14\" fill=\"#009af9\" fill-rule=\"evenodd\" fill-opacity=\"1\" stroke=\"#000000\" stroke-opacity=\"1\" stroke-width=\"3.2\"/>\n",
       "<circle clip-path=\"url(#clip842)\" cx=\"668.837\" cy=\"1097\" r=\"14\" fill=\"#009af9\" fill-rule=\"evenodd\" fill-opacity=\"1\" stroke=\"#000000\" stroke-opacity=\"1\" stroke-width=\"3.2\"/>\n",
       "<circle clip-path=\"url(#clip842)\" cx=\"739.383\" cy=\"1155.71\" r=\"14\" fill=\"#009af9\" fill-rule=\"evenodd\" fill-opacity=\"1\" stroke=\"#000000\" stroke-opacity=\"1\" stroke-width=\"3.2\"/>\n",
       "<circle clip-path=\"url(#clip842)\" cx=\"809.928\" cy=\"1215.12\" r=\"14\" fill=\"#009af9\" fill-rule=\"evenodd\" fill-opacity=\"1\" stroke=\"#000000\" stroke-opacity=\"1\" stroke-width=\"3.2\"/>\n",
       "<circle clip-path=\"url(#clip842)\" cx=\"880.474\" cy=\"1272.45\" r=\"14\" fill=\"#009af9\" fill-rule=\"evenodd\" fill-opacity=\"1\" stroke=\"#000000\" stroke-opacity=\"1\" stroke-width=\"3.2\"/>\n",
       "<circle clip-path=\"url(#clip842)\" cx=\"951.019\" cy=\"1325.01\" r=\"14\" fill=\"#009af9\" fill-rule=\"evenodd\" fill-opacity=\"1\" stroke=\"#000000\" stroke-opacity=\"1\" stroke-width=\"3.2\"/>\n",
       "<circle clip-path=\"url(#clip842)\" cx=\"1021.56\" cy=\"1370.36\" r=\"14\" fill=\"#009af9\" fill-rule=\"evenodd\" fill-opacity=\"1\" stroke=\"#000000\" stroke-opacity=\"1\" stroke-width=\"3.2\"/>\n",
       "<circle clip-path=\"url(#clip842)\" cx=\"1092.11\" cy=\"1406.36\" r=\"14\" fill=\"#009af9\" fill-rule=\"evenodd\" fill-opacity=\"1\" stroke=\"#000000\" stroke-opacity=\"1\" stroke-width=\"3.2\"/>\n",
       "<circle clip-path=\"url(#clip842)\" cx=\"1162.66\" cy=\"1431.35\" r=\"14\" fill=\"#009af9\" fill-rule=\"evenodd\" fill-opacity=\"1\" stroke=\"#000000\" stroke-opacity=\"1\" stroke-width=\"3.2\"/>\n",
       "<circle clip-path=\"url(#clip842)\" cx=\"1233.2\" cy=\"1444.14\" r=\"14\" fill=\"#009af9\" fill-rule=\"evenodd\" fill-opacity=\"1\" stroke=\"#000000\" stroke-opacity=\"1\" stroke-width=\"3.2\"/>\n",
       "<circle clip-path=\"url(#clip842)\" cx=\"1303.75\" cy=\"1444.14\" r=\"14\" fill=\"#009af9\" fill-rule=\"evenodd\" fill-opacity=\"1\" stroke=\"#000000\" stroke-opacity=\"1\" stroke-width=\"3.2\"/>\n",
       "<circle clip-path=\"url(#clip842)\" cx=\"1374.29\" cy=\"1431.35\" r=\"14\" fill=\"#009af9\" fill-rule=\"evenodd\" fill-opacity=\"1\" stroke=\"#000000\" stroke-opacity=\"1\" stroke-width=\"3.2\"/>\n",
       "<circle clip-path=\"url(#clip842)\" cx=\"1444.84\" cy=\"1406.36\" r=\"14\" fill=\"#009af9\" fill-rule=\"evenodd\" fill-opacity=\"1\" stroke=\"#000000\" stroke-opacity=\"1\" stroke-width=\"3.2\"/>\n",
       "<circle clip-path=\"url(#clip842)\" cx=\"1515.38\" cy=\"1370.36\" r=\"14\" fill=\"#009af9\" fill-rule=\"evenodd\" fill-opacity=\"1\" stroke=\"#000000\" stroke-opacity=\"1\" stroke-width=\"3.2\"/>\n",
       "<circle clip-path=\"url(#clip842)\" cx=\"1585.93\" cy=\"1325.01\" r=\"14\" fill=\"#009af9\" fill-rule=\"evenodd\" fill-opacity=\"1\" stroke=\"#000000\" stroke-opacity=\"1\" stroke-width=\"3.2\"/>\n",
       "<circle clip-path=\"url(#clip842)\" cx=\"1656.47\" cy=\"1272.45\" r=\"14\" fill=\"#009af9\" fill-rule=\"evenodd\" fill-opacity=\"1\" stroke=\"#000000\" stroke-opacity=\"1\" stroke-width=\"3.2\"/>\n",
       "<circle clip-path=\"url(#clip842)\" cx=\"1727.02\" cy=\"1215.12\" r=\"14\" fill=\"#009af9\" fill-rule=\"evenodd\" fill-opacity=\"1\" stroke=\"#000000\" stroke-opacity=\"1\" stroke-width=\"3.2\"/>\n",
       "<circle clip-path=\"url(#clip842)\" cx=\"1797.56\" cy=\"1155.71\" r=\"14\" fill=\"#009af9\" fill-rule=\"evenodd\" fill-opacity=\"1\" stroke=\"#000000\" stroke-opacity=\"1\" stroke-width=\"3.2\"/>\n",
       "<circle clip-path=\"url(#clip842)\" cx=\"1868.11\" cy=\"1097\" r=\"14\" fill=\"#009af9\" fill-rule=\"evenodd\" fill-opacity=\"1\" stroke=\"#000000\" stroke-opacity=\"1\" stroke-width=\"3.2\"/>\n",
       "<circle clip-path=\"url(#clip842)\" cx=\"1938.65\" cy=\"1041.73\" r=\"14\" fill=\"#009af9\" fill-rule=\"evenodd\" fill-opacity=\"1\" stroke=\"#000000\" stroke-opacity=\"1\" stroke-width=\"3.2\"/>\n",
       "<circle clip-path=\"url(#clip842)\" cx=\"2009.2\" cy=\"992.483\" r=\"14\" fill=\"#009af9\" fill-rule=\"evenodd\" fill-opacity=\"1\" stroke=\"#000000\" stroke-opacity=\"1\" stroke-width=\"3.2\"/>\n",
       "<circle clip-path=\"url(#clip842)\" cx=\"2079.75\" cy=\"951.568\" r=\"14\" fill=\"#009af9\" fill-rule=\"evenodd\" fill-opacity=\"1\" stroke=\"#000000\" stroke-opacity=\"1\" stroke-width=\"3.2\"/>\n",
       "<circle clip-path=\"url(#clip842)\" cx=\"2150.29\" cy=\"920.894\" r=\"14\" fill=\"#009af9\" fill-rule=\"evenodd\" fill-opacity=\"1\" stroke=\"#000000\" stroke-opacity=\"1\" stroke-width=\"3.2\"/>\n",
       "<circle clip-path=\"url(#clip842)\" cx=\"2220.84\" cy=\"901.897\" r=\"14\" fill=\"#009af9\" fill-rule=\"evenodd\" fill-opacity=\"1\" stroke=\"#000000\" stroke-opacity=\"1\" stroke-width=\"3.2\"/>\n",
       "<circle clip-path=\"url(#clip842)\" cx=\"2291.38\" cy=\"895.464\" r=\"14\" fill=\"#009af9\" fill-rule=\"evenodd\" fill-opacity=\"1\" stroke=\"#000000\" stroke-opacity=\"1\" stroke-width=\"3.2\"/>\n",
       "<polyline clip-path=\"url(#clip842)\" style=\"stroke:#e26f46; stroke-linecap:butt; stroke-linejoin:round; stroke-width:4; stroke-opacity:1; fill:none\" points=\"\n",
       "  245.565,87.9763 255.555,114.366 265.544,140.497 357.912,369.848 450.28,577.056 505.789,690.928 561.298,796.803 608.23,880.081 655.162,957.642 706.144,1035.42 \n",
       "  757.126,1106.45 804.126,1165.95 851.127,1219.73 901.516,1271.01 951.906,1315.71 1010.29,1359.25 1068.67,1393.94 1120.55,1417.35 1172.43,1433.78 1217.93,1442.43 \n",
       "  1263.42,1445.72 1313.03,1443.17 1362.63,1434.24 1412.53,1418.82 1462.43,1396.93 1517.59,1365.22 1572.76,1325.6 1625.25,1280.57 1677.75,1228.39 1732.32,1166.55 \n",
       "  1786.9,1096.98 1832.85,1032.43 1878.79,962.394 1934.88,869.465 1990.98,768.37 2043.7,665.892 2096.43,556.198 2180.91,365.421 2265.38,156.123 2278.38,122.269 \n",
       "  2291.38,87.9763 \n",
       "  \"/>\n",
       "<path clip-path=\"url(#clip840)\" d=\"\n",
       "M1891.63 250.738 L2280.47 250.738 L2280.47 95.2176 L1891.63 95.2176  Z\n",
       "  \" fill=\"#ffffff\" fill-rule=\"evenodd\" fill-opacity=\"1\"/>\n",
       "<polyline clip-path=\"url(#clip840)\" style=\"stroke:#000000; stroke-linecap:butt; stroke-linejoin:round; stroke-width:4; stroke-opacity:1; fill:none\" points=\"\n",
       "  1891.63,250.738 2280.47,250.738 2280.47,95.2176 1891.63,95.2176 1891.63,250.738 \n",
       "  \"/>\n",
       "<polyline clip-path=\"url(#clip840)\" style=\"stroke:#009af9; stroke-linecap:butt; stroke-linejoin:round; stroke-width:4; stroke-opacity:1; fill:none\" points=\"\n",
       "  1915.72,147.058 2060.29,147.058 \n",
       "  \"/>\n",
       "<circle clip-path=\"url(#clip840)\" cx=\"1988.01\" cy=\"147.058\" r=\"23\" fill=\"#009af9\" fill-rule=\"evenodd\" fill-opacity=\"1\" stroke=\"#000000\" stroke-opacity=\"1\" stroke-width=\"5.12\"/>\n",
       "<path clip-path=\"url(#clip840)\" d=\"M2102.81 139.176 L2102.81 143.203 Q2101.01 142.277 2099.06 141.815 Q2097.12 141.352 2095.04 141.352 Q2091.86 141.352 2090.27 142.324 Q2088.69 143.296 2088.69 145.24 Q2088.69 146.722 2089.83 147.578 Q2090.96 148.412 2094.39 149.176 L2095.85 149.5 Q2100.38 150.472 2102.28 152.254 Q2104.2 154.014 2104.2 157.185 Q2104.2 160.796 2101.33 162.902 Q2098.48 165.009 2093.48 165.009 Q2091.4 165.009 2089.13 164.592 Q2086.89 164.199 2084.39 163.388 L2084.39 158.99 Q2086.75 160.217 2089.04 160.842 Q2091.33 161.444 2093.58 161.444 Q2096.59 161.444 2098.21 160.426 Q2099.83 159.384 2099.83 157.509 Q2099.83 155.773 2098.65 154.847 Q2097.49 153.921 2093.53 153.064 L2092.05 152.717 Q2088.09 151.884 2086.33 150.171 Q2084.57 148.435 2084.57 145.426 Q2084.57 141.768 2087.17 139.778 Q2089.76 137.787 2094.53 137.787 Q2096.89 137.787 2098.97 138.134 Q2101.05 138.481 2102.81 139.176 Z\" fill=\"#000000\" fill-rule=\"evenodd\" fill-opacity=\"1\" /><path clip-path=\"url(#clip840)\" d=\"M2115.2 131.051 L2115.2 138.412 L2123.97 138.412 L2123.97 141.722 L2115.2 141.722 L2115.2 155.796 Q2115.2 158.967 2116.05 159.87 Q2116.93 160.773 2119.6 160.773 L2123.97 160.773 L2123.97 164.338 L2119.6 164.338 Q2114.66 164.338 2112.79 162.509 Q2110.91 160.657 2110.91 155.796 L2110.91 141.722 L2107.79 141.722 L2107.79 138.412 L2110.91 138.412 L2110.91 131.051 L2115.2 131.051 Z\" fill=\"#000000\" fill-rule=\"evenodd\" fill-opacity=\"1\" /><path clip-path=\"url(#clip840)\" d=\"M2151.75 150.31 L2151.75 152.393 L2132.16 152.393 Q2132.44 156.791 2134.8 159.106 Q2137.19 161.398 2141.42 161.398 Q2143.88 161.398 2146.17 160.796 Q2148.48 160.194 2150.75 158.99 L2150.75 163.018 Q2148.46 163.99 2146.05 164.5 Q2143.65 165.009 2141.17 165.009 Q2134.97 165.009 2131.33 161.398 Q2127.72 157.787 2127.72 151.629 Q2127.72 145.264 2131.15 141.537 Q2134.6 137.787 2140.43 137.787 Q2145.66 137.787 2148.69 141.166 Q2151.75 144.523 2151.75 150.31 M2147.49 149.06 Q2147.44 145.565 2145.52 143.481 Q2143.62 141.398 2140.47 141.398 Q2136.91 141.398 2134.76 143.412 Q2132.63 145.426 2132.3 149.083 L2147.49 149.06 Z\" fill=\"#000000\" fill-rule=\"evenodd\" fill-opacity=\"1\" /><path clip-path=\"url(#clip840)\" d=\"M2180.29 148.689 L2180.29 164.338 L2176.03 164.338 L2176.03 148.828 Q2176.03 145.148 2174.6 143.319 Q2173.16 141.49 2170.29 141.49 Q2166.84 141.49 2164.85 143.69 Q2162.86 145.889 2162.86 149.685 L2162.86 164.338 L2158.58 164.338 L2158.58 138.412 L2162.86 138.412 L2162.86 142.44 Q2164.39 140.102 2166.45 138.944 Q2168.53 137.787 2171.24 137.787 Q2175.71 137.787 2178 140.565 Q2180.29 143.319 2180.29 148.689 Z\" fill=\"#000000\" fill-rule=\"evenodd\" fill-opacity=\"1\" /><path clip-path=\"url(#clip840)\" d=\"M2207.44 139.407 L2207.44 143.389 Q2205.64 142.393 2203.81 141.907 Q2202 141.398 2200.15 141.398 Q2196.01 141.398 2193.72 144.037 Q2191.42 146.652 2191.42 151.398 Q2191.42 156.143 2193.72 158.782 Q2196.01 161.398 2200.15 161.398 Q2202 161.398 2203.81 160.912 Q2205.64 160.402 2207.44 159.407 L2207.44 163.342 Q2205.66 164.176 2203.74 164.592 Q2201.84 165.009 2199.69 165.009 Q2193.83 165.009 2190.38 161.328 Q2186.93 157.648 2186.93 151.398 Q2186.93 145.055 2190.41 141.421 Q2193.9 137.787 2199.97 137.787 Q2201.93 137.787 2203.81 138.203 Q2205.68 138.597 2207.44 139.407 Z\" fill=\"#000000\" fill-rule=\"evenodd\" fill-opacity=\"1\" /><path clip-path=\"url(#clip840)\" d=\"M2214.85 138.412 L2219.11 138.412 L2219.11 164.338 L2214.85 164.338 L2214.85 138.412 M2214.85 128.319 L2219.11 128.319 L2219.11 133.713 L2214.85 133.713 L2214.85 128.319 Z\" fill=\"#000000\" fill-rule=\"evenodd\" fill-opacity=\"1\" /><path clip-path=\"url(#clip840)\" d=\"M2228.02 128.319 L2232.28 128.319 L2232.28 164.338 L2228.02 164.338 L2228.02 128.319 Z\" fill=\"#000000\" fill-rule=\"evenodd\" fill-opacity=\"1\" /><polyline clip-path=\"url(#clip840)\" style=\"stroke:#e26f46; stroke-linecap:butt; stroke-linejoin:round; stroke-width:4; stroke-opacity:1; fill:none\" points=\"\n",
       "  1915.72,198.898 2060.29,198.898 \n",
       "  \"/>\n",
       "<path clip-path=\"url(#clip840)\" d=\"M2108.41 202.15 L2108.41 204.233 L2088.83 204.233 Q2089.11 208.631 2091.47 210.946 Q2093.85 213.238 2098.09 213.238 Q2100.54 213.238 2102.84 212.636 Q2105.15 212.034 2107.42 210.83 L2107.42 214.858 Q2105.13 215.83 2102.72 216.34 Q2100.31 216.849 2097.84 216.849 Q2091.63 216.849 2088 213.238 Q2084.39 209.627 2084.39 203.469 Q2084.39 197.104 2087.81 193.377 Q2091.26 189.627 2097.1 189.627 Q2102.33 189.627 2105.36 193.006 Q2108.41 196.363 2108.41 202.15 M2104.16 200.9 Q2104.11 197.405 2102.19 195.321 Q2100.29 193.238 2097.14 193.238 Q2093.58 193.238 2091.42 195.252 Q2089.29 197.266 2088.97 200.923 L2104.16 200.9 Z\" fill=\"#000000\" fill-rule=\"evenodd\" fill-opacity=\"1\" /><path clip-path=\"url(#clip840)\" d=\"M2136.12 190.252 L2126.75 202.867 L2136.61 216.178 L2131.59 216.178 L2124.04 205.992 L2116.49 216.178 L2111.47 216.178 L2121.54 202.613 L2112.33 190.252 L2117.35 190.252 L2124.23 199.488 L2131.1 190.252 L2136.12 190.252 Z\" fill=\"#000000\" fill-rule=\"evenodd\" fill-opacity=\"1\" /><path clip-path=\"url(#clip840)\" d=\"M2154.41 203.145 Q2149.25 203.145 2147.26 204.326 Q2145.27 205.506 2145.27 208.354 Q2145.27 210.622 2146.75 211.965 Q2148.25 213.284 2150.82 213.284 Q2154.36 213.284 2156.49 210.784 Q2158.65 208.261 2158.65 204.094 L2158.65 203.145 L2154.41 203.145 M2162.91 201.386 L2162.91 216.178 L2158.65 216.178 L2158.65 212.242 Q2157.19 214.603 2155.01 215.738 Q2152.84 216.849 2149.69 216.849 Q2145.71 216.849 2143.35 214.627 Q2141.01 212.381 2141.01 208.631 Q2141.01 204.256 2143.92 202.034 Q2146.86 199.812 2152.67 199.812 L2158.65 199.812 L2158.65 199.395 Q2158.65 196.455 2156.7 194.858 Q2154.78 193.238 2151.29 193.238 Q2149.06 193.238 2146.96 193.77 Q2144.85 194.303 2142.91 195.367 L2142.91 191.432 Q2145.24 190.53 2147.44 190.09 Q2149.64 189.627 2151.72 189.627 Q2157.35 189.627 2160.13 192.543 Q2162.91 195.46 2162.91 201.386 Z\" fill=\"#000000\" fill-rule=\"evenodd\" fill-opacity=\"1\" /><path clip-path=\"url(#clip840)\" d=\"M2190.34 191.247 L2190.34 195.229 Q2188.53 194.233 2186.7 193.747 Q2184.9 193.238 2183.04 193.238 Q2178.9 193.238 2176.61 195.877 Q2174.32 198.492 2174.32 203.238 Q2174.32 207.983 2176.61 210.622 Q2178.9 213.238 2183.04 213.238 Q2184.9 213.238 2186.7 212.752 Q2188.53 212.242 2190.34 211.247 L2190.34 215.182 Q2188.55 216.016 2186.63 216.432 Q2184.73 216.849 2182.58 216.849 Q2176.72 216.849 2173.28 213.168 Q2169.83 209.488 2169.83 203.238 Q2169.83 196.895 2173.3 193.261 Q2176.79 189.627 2182.86 189.627 Q2184.83 189.627 2186.7 190.043 Q2188.58 190.437 2190.34 191.247 Z\" fill=\"#000000\" fill-rule=\"evenodd\" fill-opacity=\"1\" /><path clip-path=\"url(#clip840)\" d=\"M2201.96 182.891 L2201.96 190.252 L2210.73 190.252 L2210.73 193.562 L2201.96 193.562 L2201.96 207.636 Q2201.96 210.807 2202.81 211.71 Q2203.69 212.613 2206.35 212.613 L2210.73 212.613 L2210.73 216.178 L2206.35 216.178 Q2201.42 216.178 2199.55 214.349 Q2197.67 212.497 2197.67 207.636 L2197.67 193.562 L2194.55 193.562 L2194.55 190.252 L2197.67 190.252 L2197.67 182.891 L2201.96 182.891 Z\" fill=\"#000000\" fill-rule=\"evenodd\" fill-opacity=\"1\" /></svg>\n"
      ]
     },
     "execution_count": 42,
     "metadata": {},
     "output_type": "execute_result"
    }
   ],
   "source": [
    "x = -1:1\n",
    "plot_symbol(fdstencil(x, 0, 2), 2)"
   ]
  }
 ],
 "metadata": {
  "celltoolbar": "Slideshow",
  "kernelspec": {
   "display_name": "Julia 1.6.2",
   "language": "julia",
   "name": "julia-1.6"
  },
  "language_info": {
   "file_extension": ".jl",
   "mimetype": "application/julia",
   "name": "julia",
   "version": "1.6.2"
  },
  "rise": {
   "enable_chalkboard": true
  }
 },
 "nbformat": 4,
 "nbformat_minor": 5
}
