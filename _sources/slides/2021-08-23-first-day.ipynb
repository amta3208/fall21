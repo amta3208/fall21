{
 "cells": [
  {
   "cell_type": "markdown",
   "id": "4159be0e",
   "metadata": {
    "slideshow": {
     "slide_type": "slide"
    }
   },
   "source": [
    "# 2021-08-23 First Day\n",
    "## CSCI-5636: Numerical solution of partial differential equations (PDE)\n",
    "\n",
    "## Instructor: Jed Brown, jed.brown@colorado.edu, ECOT 824\n",
    "## Meeting: Mon, Wed, Fri at 1:30-12:20 in ECEE 283 (and virtually)"
   ]
  },
  {
   "cell_type": "markdown",
   "id": "f9a6ef4f",
   "metadata": {
    "slideshow": {
     "slide_type": "slide"
    }
   },
   "source": [
    "# What are PDE?"
   ]
  },
  {
   "cell_type": "markdown",
   "id": "2ed9e205",
   "metadata": {
    "cell_style": "split"
   },
   "source": [
    "## partial derivatives\n",
    "\n",
    "* Gradient $\\mathbf g(\\mathbf x) = \\nabla u(\\mathbf x)$\n",
    "  * scalar field to vector field\n",
    "* Curl $\\mathbf c(\\mathbf x) = \\nabla\\times \\mathbf g(\\mathbf x)$\n",
    " * vector field to vector field\n",
    "* Divergence $d(\\mathbf x) = \\nabla\\cdot \\mathbf c(\\mathbf x)$\n",
    "  * vector field to scalar field\n",
    "* time derivatives: $\\frac{\\partial u(t, \\mathbf x)}{\\partial t}$"
   ]
  },
  {
   "cell_type": "markdown",
   "id": "80cd870f",
   "metadata": {
    "cell_style": "split"
   },
   "source": [
    "## what do they describe?\n",
    "\n",
    "* heat transfer\n",
    "* electrostatics, electromagnetics\n",
    "* solid mechanics\n",
    "* fluid mechanics\n",
    "* quantum mechanics\n",
    "* population dynamics"
   ]
  },
  {
   "cell_type": "markdown",
   "id": "b821aa3b",
   "metadata": {
    "slideshow": {
     "slide_type": "fragment"
    }
   },
   "source": [
    "Find $u$ such that\n",
    "\\begin{align}\n",
    "-\\nabla\\cdot\\big(\\kappa(\\mathbf x) \\nabla u(\\mathbf x)\\big) &= f(\\mathbf x) & \\mathbf x &\\in \\Omega \\\\\n",
    "u(\\mathbf x) &= g(\\mathbf x) & \\mathbf x &\\in \\Gamma_D \\subset \\partial\\Omega \\\\\n",
    "\\kappa(\\mathbf x) \\nabla u(\\mathbf x) \\cdot \\mathbf{\\hat n}(\\mathbf x) &= h(\\mathbf x) & \\mathbf x &\\in \\Gamma_N \\subset\\partial\\Omega\n",
    "\\end{align}"
   ]
  },
  {
   "cell_type": "markdown",
   "id": "d7681fb5",
   "metadata": {
    "hideOutput": true,
    "slideshow": {
     "slide_type": "slide"
    }
   },
   "source": [
    "# What does it mean to discretize a PDE?\n",
    "\n",
    "Find $u$ such that\n",
    "\\begin{align}\n",
    "-\\nabla\\cdot\\big(\\kappa(\\mathbf x) \\nabla u(\\mathbf x)\\big) &= f(\\mathbf x) & \\mathbf x &\\in \\Omega \\\\\n",
    "u(\\mathbf x) &= g(\\mathbf x) & \\mathbf x &\\in \\Gamma_D \\subset \\partial\\Omega \\\\\n",
    "\\nabla u(\\mathbf x) \\cdot \\mathbf{\\hat n}(\\mathbf x) &= h(\\mathbf x) & \\mathbf x &\\in \\Gamma_N \\subset\\partial\\Omega\n",
    "\\end{align}"
   ]
  },
  {
   "cell_type": "markdown",
   "id": "11676997",
   "metadata": {
    "cell_style": "center",
    "slideshow": {
     "slide_type": "fragment"
    }
   },
   "source": [
    "## How is it satisfied?\n",
    "* At grid points with rules to approximate derivatives\n",
    "  * Finite Difference / collocation\n",
    "* A weak (integral) over elements with rules to reconstruct from element averages and define fluxes\n",
    "  * Finite Volume\n",
    "* A weak form over with solution and \"test functions\" in the same space\n",
    "  * Finite Element / Galerkin"
   ]
  },
  {
   "cell_type": "markdown",
   "id": "3d1ef4b2",
   "metadata": {
    "cell_style": "center",
    "slideshow": {
     "slide_type": "slide"
    }
   },
   "source": [
    "## How expensive is it?\n",
    "\n",
    "* Suppose our domain is $\\Omega = (0, 1)^3$"
   ]
  },
  {
   "cell_type": "code",
   "execution_count": 1,
   "id": "5f8264aa",
   "metadata": {
    "cell_style": "split"
   },
   "outputs": [
    {
     "data": {
      "text/plain": [
       "cost2 (generic function with 1 method)"
      ]
     },
     "execution_count": 1,
     "metadata": {},
     "output_type": "execute_result"
    }
   ],
   "source": [
    "using Plots\n",
    "\n",
    "# a common \"good\" discretiation\n",
    "error(h) = min(1, 10*h^2)\n",
    "\n",
    "function cost(h)\n",
    "    n = 1/h # number of points per dimension\n",
    "    N = n^3 # total number of grid points in 3D\n",
    "    N\n",
    "end\n",
    "\n",
    "function cost2(h)\n",
    "    N = cost(h)\n",
    "    N * log2(1 + N)\n",
    "end"
   ]
  },
  {
   "cell_type": "code",
   "execution_count": 2,
   "id": "ba54e8f7",
   "metadata": {
    "cell_style": "split"
   },
   "outputs": [
    {
     "data": {
      "image/svg+xml": [
       "<?xml version=\"1.0\" encoding=\"utf-8\"?>\n",
       "<svg xmlns=\"http://www.w3.org/2000/svg\" xmlns:xlink=\"http://www.w3.org/1999/xlink\" width=\"600\" height=\"400\" viewBox=\"0 0 2400 1600\">\n",
       "<defs>\n",
       "  <clipPath id=\"clip970\">\n",
       "    <rect x=\"0\" y=\"0\" width=\"2400\" height=\"1600\"/>\n",
       "  </clipPath>\n",
       "</defs>\n",
       "<path clip-path=\"url(#clip970)\" d=\"\n",
       "M0 1600 L2400 1600 L2400 0 L0 0  Z\n",
       "  \" fill=\"#ffffff\" fill-rule=\"evenodd\" fill-opacity=\"1\"/>\n",
       "<defs>\n",
       "  <clipPath id=\"clip971\">\n",
       "    <rect x=\"480\" y=\"0\" width=\"1681\" height=\"1600\"/>\n",
       "  </clipPath>\n",
       "</defs>\n",
       "<path clip-path=\"url(#clip970)\" d=\"\n",
       "M187.803 1474.16 L2352.76 1474.16 L2352.76 47.2441 L187.803 47.2441  Z\n",
       "  \" fill=\"#ffffff\" fill-rule=\"evenodd\" fill-opacity=\"1\"/>\n",
       "<defs>\n",
       "  <clipPath id=\"clip972\">\n",
       "    <rect x=\"187\" y=\"47\" width=\"2166\" height=\"1428\"/>\n",
       "  </clipPath>\n",
       "</defs>\n",
       "<polyline clip-path=\"url(#clip972)\" style=\"stroke:#000000; stroke-linecap:butt; stroke-linejoin:round; stroke-width:2; stroke-opacity:0.1; fill:none\" points=\"\n",
       "  249.075,1474.16 249.075,47.2441 \n",
       "  \"/>\n",
       "<polyline clip-path=\"url(#clip972)\" style=\"stroke:#000000; stroke-linecap:butt; stroke-linejoin:round; stroke-width:2; stroke-opacity:0.1; fill:none\" points=\"\n",
       "  1648.07,1474.16 1648.07,47.2441 \n",
       "  \"/>\n",
       "<polyline clip-path=\"url(#clip970)\" style=\"stroke:#000000; stroke-linecap:butt; stroke-linejoin:round; stroke-width:4; stroke-opacity:1; fill:none\" points=\"\n",
       "  187.803,1474.16 2352.76,1474.16 \n",
       "  \"/>\n",
       "<polyline clip-path=\"url(#clip970)\" style=\"stroke:#000000; stroke-linecap:butt; stroke-linejoin:round; stroke-width:4; stroke-opacity:1; fill:none\" points=\"\n",
       "  249.075,1474.16 249.075,1455.27 \n",
       "  \"/>\n",
       "<polyline clip-path=\"url(#clip970)\" style=\"stroke:#000000; stroke-linecap:butt; stroke-linejoin:round; stroke-width:4; stroke-opacity:1; fill:none\" points=\"\n",
       "  1648.07,1474.16 1648.07,1455.27 \n",
       "  \"/>\n",
       "<path clip-path=\"url(#clip970)\" d=\"M214.058 1552.44 L221.697 1552.44 L221.697 1526.07 L213.387 1527.74 L213.387 1523.48 L221.651 1521.81 L226.327 1521.81 L226.327 1552.44 L233.966 1552.44 L233.966 1556.37 L214.058 1556.37 L214.058 1552.44 Z\" fill=\"#000000\" fill-rule=\"evenodd\" fill-opacity=\"1\" /><path clip-path=\"url(#clip970)\" d=\"M253.41 1524.89 Q249.799 1524.89 247.97 1528.46 Q246.165 1532 246.165 1539.13 Q246.165 1546.23 247.97 1549.8 Q249.799 1553.34 253.41 1553.34 Q257.044 1553.34 258.85 1549.8 Q260.678 1546.23 260.678 1539.13 Q260.678 1532 258.85 1528.46 Q257.044 1524.89 253.41 1524.89 M253.41 1521.19 Q259.22 1521.19 262.276 1525.79 Q265.354 1530.38 265.354 1539.13 Q265.354 1547.85 262.276 1552.46 Q259.22 1557.04 253.41 1557.04 Q247.6 1557.04 244.521 1552.46 Q241.466 1547.85 241.466 1539.13 Q241.466 1530.38 244.521 1525.79 Q247.6 1521.19 253.41 1521.19 Z\" fill=\"#000000\" fill-rule=\"evenodd\" fill-opacity=\"1\" /><path clip-path=\"url(#clip970)\" d=\"M275.059 1503.38 Q272.125 1503.38 270.639 1506.28 Q269.172 1509.16 269.172 1514.95 Q269.172 1520.72 270.639 1523.62 Q272.125 1526.5 275.059 1526.5 Q278.012 1526.5 279.479 1523.62 Q280.965 1520.72 280.965 1514.95 Q280.965 1509.16 279.479 1506.28 Q278.012 1503.38 275.059 1503.38 M275.059 1500.37 Q279.78 1500.37 282.262 1504.12 Q284.764 1507.84 284.764 1514.95 Q284.764 1522.04 282.262 1525.78 Q279.78 1529.51 275.059 1529.51 Q270.338 1529.51 267.837 1525.78 Q265.354 1522.04 265.354 1514.95 Q265.354 1507.84 267.837 1504.12 Q270.338 1500.37 275.059 1500.37 Z\" fill=\"#000000\" fill-rule=\"evenodd\" fill-opacity=\"1\" /><path clip-path=\"url(#clip970)\" d=\"M1613.68 1552.44 L1621.32 1552.44 L1621.32 1526.07 L1613.01 1527.74 L1613.01 1523.48 L1621.27 1521.81 L1625.94 1521.81 L1625.94 1552.44 L1633.58 1552.44 L1633.58 1556.37 L1613.68 1556.37 L1613.68 1552.44 Z\" fill=\"#000000\" fill-rule=\"evenodd\" fill-opacity=\"1\" /><path clip-path=\"url(#clip970)\" d=\"M1653.03 1524.89 Q1649.42 1524.89 1647.59 1528.46 Q1645.78 1532 1645.78 1539.13 Q1645.78 1546.23 1647.59 1549.8 Q1649.42 1553.34 1653.03 1553.34 Q1656.66 1553.34 1658.47 1549.8 Q1660.3 1546.23 1660.3 1539.13 Q1660.3 1532 1658.47 1528.46 Q1656.66 1524.89 1653.03 1524.89 M1653.03 1521.19 Q1658.84 1521.19 1661.89 1525.79 Q1664.97 1530.38 1664.97 1539.13 Q1664.97 1547.85 1661.89 1552.46 Q1658.84 1557.04 1653.03 1557.04 Q1647.22 1557.04 1644.14 1552.46 Q1641.08 1547.85 1641.08 1539.13 Q1641.08 1530.38 1644.14 1525.79 Q1647.22 1521.19 1653.03 1521.19 Z\" fill=\"#000000\" fill-rule=\"evenodd\" fill-opacity=\"1\" /><path clip-path=\"url(#clip970)\" d=\"M1666.16 1500.88 L1681.07 1500.88 L1681.07 1504.08 L1669.64 1504.08 L1669.64 1510.96 Q1670.46 1510.68 1671.29 1510.55 Q1672.12 1510.4 1672.95 1510.4 Q1677.65 1510.4 1680.39 1512.97 Q1683.14 1515.55 1683.14 1519.95 Q1683.14 1524.49 1680.32 1527.01 Q1677.5 1529.51 1672.36 1529.51 Q1670.6 1529.51 1668.75 1529.21 Q1666.93 1528.91 1664.97 1528.3 L1664.97 1524.49 Q1666.67 1525.41 1668.47 1525.86 Q1670.28 1526.31 1672.29 1526.31 Q1675.54 1526.31 1677.44 1524.6 Q1679.34 1522.89 1679.34 1519.95 Q1679.34 1517.02 1677.44 1515.31 Q1675.54 1513.6 1672.29 1513.6 Q1670.77 1513.6 1669.24 1513.93 Q1667.74 1514.27 1666.16 1514.99 L1666.16 1500.88 Z\" fill=\"#000000\" fill-rule=\"evenodd\" fill-opacity=\"1\" /><polyline clip-path=\"url(#clip972)\" style=\"stroke:#000000; stroke-linecap:butt; stroke-linejoin:round; stroke-width:2; stroke-opacity:0.1; fill:none\" points=\"\n",
       "  187.803,985.063 2352.76,985.063 \n",
       "  \"/>\n",
       "<polyline clip-path=\"url(#clip972)\" style=\"stroke:#000000; stroke-linecap:butt; stroke-linejoin:round; stroke-width:2; stroke-opacity:0.1; fill:none\" points=\"\n",
       "  187.803,87.6286 2352.76,87.6286 \n",
       "  \"/>\n",
       "<polyline clip-path=\"url(#clip970)\" style=\"stroke:#000000; stroke-linecap:butt; stroke-linejoin:round; stroke-width:4; stroke-opacity:1; fill:none\" points=\"\n",
       "  187.803,1474.16 187.803,47.2441 \n",
       "  \"/>\n",
       "<polyline clip-path=\"url(#clip970)\" style=\"stroke:#000000; stroke-linecap:butt; stroke-linejoin:round; stroke-width:4; stroke-opacity:1; fill:none\" points=\"\n",
       "  187.803,985.063 206.701,985.063 \n",
       "  \"/>\n",
       "<polyline clip-path=\"url(#clip970)\" style=\"stroke:#000000; stroke-linecap:butt; stroke-linejoin:round; stroke-width:4; stroke-opacity:1; fill:none\" points=\"\n",
       "  187.803,87.6286 206.701,87.6286 \n",
       "  \"/>\n",
       "<path clip-path=\"url(#clip970)\" d=\"M51.6634 1004.86 L59.3023 1004.86 L59.3023 978.49 L50.9921 980.156 L50.9921 975.897 L59.256 974.231 L63.9319 974.231 L63.9319 1004.86 L71.5707 1004.86 L71.5707 1008.79 L51.6634 1008.79 L51.6634 1004.86 Z\" fill=\"#000000\" fill-rule=\"evenodd\" fill-opacity=\"1\" /><path clip-path=\"url(#clip970)\" d=\"M91.0151 977.309 Q87.404 977.309 85.5753 980.874 Q83.7697 984.416 83.7697 991.545 Q83.7697 998.652 85.5753 1002.22 Q87.404 1005.76 91.0151 1005.76 Q94.6493 1005.76 96.4548 1002.22 Q98.2835 998.652 98.2835 991.545 Q98.2835 984.416 96.4548 980.874 Q94.6493 977.309 91.0151 977.309 M91.0151 973.606 Q96.8252 973.606 99.8808 978.212 Q102.959 982.795 102.959 991.545 Q102.959 1000.27 99.8808 1004.88 Q96.8252 1009.46 91.0151 1009.46 Q85.2049 1009.46 82.1262 1004.88 Q79.0707 1000.27 79.0707 991.545 Q79.0707 982.795 82.1262 978.212 Q85.2049 973.606 91.0151 973.606 Z\" fill=\"#000000\" fill-rule=\"evenodd\" fill-opacity=\"1\" /><path clip-path=\"url(#clip970)\" d=\"M102.959 967.707 L127.071 967.707 L127.071 970.904 L102.959 970.904 L102.959 967.707 Z\" fill=\"#000000\" fill-rule=\"evenodd\" fill-opacity=\"1\" /><path clip-path=\"url(#clip970)\" d=\"M138.544 978.183 L151.803 978.183 L151.803 981.38 L133.973 981.38 L133.973 978.183 Q136.136 975.945 139.86 972.183 Q143.603 968.403 144.562 967.312 Q146.387 965.262 147.101 963.851 Q147.835 962.422 147.835 961.049 Q147.835 958.811 146.255 957.4 Q144.694 955.99 142.174 955.99 Q140.387 955.99 138.393 956.61 Q136.418 957.231 134.162 958.491 L134.162 954.654 Q136.456 953.733 138.45 953.263 Q140.443 952.792 142.098 952.792 Q146.462 952.792 149.057 954.974 Q151.653 957.156 151.653 960.804 Q151.653 962.535 150.994 964.096 Q150.355 965.638 148.644 967.745 Q148.173 968.29 145.653 970.904 Q143.133 973.5 138.544 978.183 Z\" fill=\"#000000\" fill-rule=\"evenodd\" fill-opacity=\"1\" /><path clip-path=\"url(#clip970)\" d=\"M81.0976 107.421 L88.7364 107.421 L88.7364 81.0555 L80.4263 82.7221 L80.4263 78.4629 L88.6901 76.7962 L93.366 76.7962 L93.366 107.421 L101.005 107.421 L101.005 111.356 L81.0976 111.356 L81.0976 107.421 Z\" fill=\"#000000\" fill-rule=\"evenodd\" fill-opacity=\"1\" /><path clip-path=\"url(#clip970)\" d=\"M120.449 79.8749 Q116.838 79.8749 115.009 83.4397 Q113.204 86.9814 113.204 94.111 Q113.204 101.217 115.009 104.782 Q116.838 108.324 120.449 108.324 Q124.083 108.324 125.889 104.782 Q127.718 101.217 127.718 94.111 Q127.718 86.9814 125.889 83.4397 Q124.083 79.8749 120.449 79.8749 M120.449 76.1712 Q126.259 76.1712 129.315 80.7777 Q132.394 85.361 132.394 94.111 Q132.394 102.838 129.315 107.444 Q126.259 112.028 120.449 112.028 Q114.639 112.028 111.56 107.444 Q108.505 102.838 108.505 94.111 Q108.505 85.361 111.56 80.7777 Q114.639 76.1712 120.449 76.1712 Z\" fill=\"#000000\" fill-rule=\"evenodd\" fill-opacity=\"1\" /><path clip-path=\"url(#clip970)\" d=\"M142.098 58.3673 Q139.164 58.3673 137.679 61.2637 Q136.212 64.1413 136.212 69.9341 Q136.212 75.708 137.679 78.6044 Q139.164 81.482 142.098 81.482 Q145.051 81.482 146.518 78.6044 Q148.004 75.708 148.004 69.9341 Q148.004 64.1413 146.518 61.2637 Q145.051 58.3673 142.098 58.3673 M142.098 55.358 Q146.819 55.358 149.302 59.1008 Q151.803 62.8247 151.803 69.9341 Q151.803 77.0246 149.302 80.7673 Q146.819 84.4913 142.098 84.4913 Q137.378 84.4913 134.876 80.7673 Q132.394 77.0246 132.394 69.9341 Q132.394 62.8247 134.876 59.1008 Q137.378 55.358 142.098 55.358 Z\" fill=\"#000000\" fill-rule=\"evenodd\" fill-opacity=\"1\" /><polyline clip-path=\"url(#clip972)\" style=\"stroke:#009af9; stroke-linecap:butt; stroke-linejoin:round; stroke-width:4; stroke-opacity:1; fill:none\" points=\"\n",
       "  1927.87,1433.78 1780.67,1276.4 1676.11,1164.61 1594.94,1077.83 1528.6,1006.9 1472.49,946.916 1423.88,894.943 1380.99,849.091 1342.63,808.07 1307.92,770.959 \n",
       "  1276.22,737.076 1247.07,705.905 1220.07,677.043 1194.94,650.171 1171.43,625.034 1149.34,601.42 1128.51,579.155 1108.82,558.094 1090.13,538.112 1072.35,519.106 \n",
       "  1055.4,500.983 1039.2,483.666 1023.69,467.085 1008.82,451.181 994.525,435.901 980.772,421.198 967.519,407.028 954.732,393.356 942.377,380.148 930.428,367.372 \n",
       "  918.857,355.002 907.643,343.012 896.764,331.381 886.2,320.086 875.933,309.11 865.947,298.434 856.228,288.043 846.761,277.921 837.534,268.056 828.535,258.435 \n",
       "  819.752,249.045 811.177,239.876 802.798,230.918 794.607,222.161 786.597,213.597 778.758,205.216 771.085,197.013 763.57,188.978 756.207,181.106 748.989,173.389 \n",
       "  741.912,165.822 734.969,158.4 728.156,151.116 721.468,143.965 714.901,136.944 708.45,130.047 702.111,123.27 695.88,116.608 689.754,110.059 683.73,103.617 \n",
       "  677.803,97.2809 671.971,91.0458 666.231,87.6286 660.58,87.6286 655.015,87.6286 649.534,87.6286 644.134,87.6286 638.813,87.6286 633.568,87.6286 628.398,87.6286 \n",
       "  623.3,87.6286 618.272,87.6286 613.313,87.6286 608.42,87.6286 603.593,87.6286 598.828,87.6286 594.125,87.6286 589.481,87.6286 584.896,87.6286 580.368,87.6286 \n",
       "  575.896,87.6286 571.477,87.6286 567.112,87.6286 562.798,87.6286 558.535,87.6286 554.321,87.6286 550.155,87.6286 546.037,87.6286 541.964,87.6286 537.936,87.6286 \n",
       "  533.953,87.6286 530.012,87.6286 526.113,87.6286 522.256,87.6286 518.439,87.6286 514.662,87.6286 510.923,87.6286 507.223,87.6286 503.559,87.6286 499.932,87.6286 \n",
       "  496.341,87.6286 492.785,87.6286 489.263,87.6286 485.775,87.6286 482.32,87.6286 478.897,87.6286 475.506,87.6286 472.147,87.6286 468.818,87.6286 465.519,87.6286 \n",
       "  462.25,87.6286 459.01,87.6286 455.798,87.6286 452.614,87.6286 449.458,87.6286 446.33,87.6286 443.227,87.6286 440.151,87.6286 437.101,87.6286 434.076,87.6286 \n",
       "  431.076,87.6286 428.1,87.6286 425.148,87.6286 422.221,87.6286 419.316,87.6286 416.434,87.6286 413.575,87.6286 410.739,87.6286 407.924,87.6286 405.131,87.6286 \n",
       "  402.359,87.6286 399.608,87.6286 396.877,87.6286 394.167,87.6286 391.477,87.6286 388.806,87.6286 386.155,87.6286 383.523,87.6286 380.91,87.6286 378.316,87.6286 \n",
       "  375.74,87.6286 373.182,87.6286 370.641,87.6286 368.119,87.6286 365.613,87.6286 363.125,87.6286 360.654,87.6286 358.199,87.6286 355.761,87.6286 353.339,87.6286 \n",
       "  350.933,87.6286 348.542,87.6286 346.168,87.6286 343.808,87.6286 341.464,87.6286 339.135,87.6286 336.82,87.6286 334.521,87.6286 332.235,87.6286 329.964,87.6286 \n",
       "  327.707,87.6286 325.464,87.6286 323.234,87.6286 321.018,87.6286 318.816,87.6286 316.626,87.6286 314.45,87.6286 312.287,87.6286 310.136,87.6286 307.998,87.6286 \n",
       "  305.872,87.6286 303.759,87.6286 301.658,87.6286 299.569,87.6286 297.492,87.6286 295.427,87.6286 293.373,87.6286 291.331,87.6286 289.3,87.6286 287.281,87.6286 \n",
       "  285.272,87.6286 283.275,87.6286 281.288,87.6286 279.313,87.6286 277.348,87.6286 275.393,87.6286 273.449,87.6286 271.515,87.6286 269.591,87.6286 267.678,87.6286 \n",
       "  265.774,87.6286 263.881,87.6286 261.997,87.6286 260.123,87.6286 258.258,87.6286 256.403,87.6286 254.557,87.6286 252.721,87.6286 250.894,87.6286 249.075,87.6286 \n",
       "  \n",
       "  \"/>\n",
       "<polyline clip-path=\"url(#clip972)\" style=\"stroke:#e26f46; stroke-linecap:butt; stroke-linejoin:round; stroke-width:4; stroke-opacity:1; fill:none\" points=\"\n",
       "  2291.48,1433.78 2133.13,1276.4 2019.97,1164.61 1931.69,1077.83 1859.21,1006.9 1797.65,946.916 1744.11,894.943 1696.71,849.091 1654.15,808.07 1615.52,770.959 \n",
       "  1580.14,737.076 1547.48,705.905 1517.16,677.043 1488.84,650.171 1462.27,625.034 1437.24,601.42 1413.57,579.155 1391.12,558.094 1369.77,538.112 1349.4,519.106 \n",
       "  1329.92,500.983 1311.26,483.666 1293.35,467.085 1276.12,451.181 1259.53,435.901 1243.52,421.198 1228.05,407.028 1213.09,393.356 1198.59,380.148 1184.54,367.372 \n",
       "  1170.9,355.002 1157.64,343.012 1144.75,331.381 1132.2,320.086 1119.97,309.11 1108.05,298.434 1096.42,288.043 1085.06,277.921 1073.95,268.056 1063.1,258.435 \n",
       "  1052.48,249.045 1042.09,239.876 1031.91,230.918 1021.93,222.161 1012.15,213.597 1002.55,205.216 993.131,197.013 983.883,188.978 974.8,181.106 965.875,173.389 \n",
       "  957.1,165.822 948.471,158.4 939.982,151.116 931.628,143.965 923.403,136.944 915.304,130.047 907.325,123.27 899.463,116.608 891.713,110.059 884.072,103.617 \n",
       "  876.537,97.2809 869.102,91.0458 861.767,87.6286 854.527,87.6286 847.379,87.6286 840.32,87.6286 833.349,87.6286 826.461,87.6286 819.655,87.6286 812.929,87.6286 \n",
       "  806.28,87.6286 799.706,87.6286 793.204,87.6286 786.773,87.6286 780.412,87.6286 774.117,87.6286 767.888,87.6286 761.722,87.6286 755.618,87.6286 749.574,87.6286 \n",
       "  743.589,87.6286 737.662,87.6286 731.79,87.6286 725.973,87.6286 720.21,87.6286 714.498,87.6286 708.837,87.6286 703.226,87.6286 697.664,87.6286 692.148,87.6286 \n",
       "  686.679,87.6286 681.256,87.6286 675.876,87.6286 670.54,87.6286 665.247,87.6286 659.995,87.6286 654.783,87.6286 649.612,87.6286 644.479,87.6286 639.385,87.6286 \n",
       "  634.328,87.6286 629.308,87.6286 624.323,87.6286 619.375,87.6286 614.46,87.6286 609.58,87.6286 604.733,87.6286 599.919,87.6286 595.137,87.6286 590.386,87.6286 \n",
       "  585.667,87.6286 580.978,87.6286 576.318,87.6286 571.689,87.6286 567.088,87.6286 562.515,87.6286 557.97,87.6286 553.453,87.6286 548.963,87.6286 544.499,87.6286 \n",
       "  540.062,87.6286 535.65,87.6286 531.264,87.6286 526.902,87.6286 522.565,87.6286 518.253,87.6286 513.964,87.6286 509.698,87.6286 505.456,87.6286 501.237,87.6286 \n",
       "  497.04,87.6286 492.865,87.6286 488.712,87.6286 484.58,87.6286 480.47,87.6286 476.381,87.6286 472.312,87.6286 468.264,87.6286 464.236,87.6286 460.228,87.6286 \n",
       "  456.24,87.6286 452.271,87.6286 448.321,87.6286 444.39,87.6286 440.478,87.6286 436.584,87.6286 432.708,87.6286 428.851,87.6286 425.011,87.6286 421.189,87.6286 \n",
       "  417.384,87.6286 413.597,87.6286 409.826,87.6286 406.073,87.6286 402.336,87.6286 398.615,87.6286 394.911,87.6286 391.223,87.6286 387.551,87.6286 383.895,87.6286 \n",
       "  380.254,87.6286 376.629,87.6286 373.019,87.6286 369.425,87.6286 365.845,87.6286 362.281,87.6286 358.731,87.6286 355.196,87.6286 351.675,87.6286 348.168,87.6286 \n",
       "  344.676,87.6286 341.198,87.6286 337.734,87.6286 334.283,87.6286 330.847,87.6286 327.424,87.6286 324.014,87.6286 320.618,87.6286 317.235,87.6286 313.865,87.6286 \n",
       "  310.508,87.6286 307.165,87.6286 303.834,87.6286 300.515,87.6286 297.21,87.6286 293.917,87.6286 290.636,87.6286 287.367,87.6286 284.111,87.6286 280.867,87.6286 \n",
       "  277.635,87.6286 274.415,87.6286 271.207,87.6286 268.011,87.6286 264.826,87.6286 261.653,87.6286 258.492,87.6286 255.342,87.6286 252.203,87.6286 249.075,87.6286 \n",
       "  \n",
       "  \"/>\n",
       "<path clip-path=\"url(#clip970)\" d=\"\n",
       "M1987.61 250.328 L2280.59 250.328 L2280.59 94.8081 L1987.61 94.8081  Z\n",
       "  \" fill=\"#ffffff\" fill-rule=\"evenodd\" fill-opacity=\"1\"/>\n",
       "<polyline clip-path=\"url(#clip970)\" style=\"stroke:#000000; stroke-linecap:butt; stroke-linejoin:round; stroke-width:4; stroke-opacity:1; fill:none\" points=\"\n",
       "  1987.61,250.328 2280.59,250.328 2280.59,94.8081 1987.61,94.8081 1987.61,250.328 \n",
       "  \"/>\n",
       "<polyline clip-path=\"url(#clip970)\" style=\"stroke:#009af9; stroke-linecap:butt; stroke-linejoin:round; stroke-width:4; stroke-opacity:1; fill:none\" points=\"\n",
       "  2011.67,146.648 2156,146.648 \n",
       "  \"/>\n",
       "<path clip-path=\"url(#clip970)\" d=\"M2193.89 166.336 Q2192.09 170.965 2190.37 172.377 Q2188.66 173.789 2185.79 173.789 L2182.39 173.789 L2182.39 170.224 L2184.89 170.224 Q2186.65 170.224 2187.62 169.391 Q2188.59 168.558 2189.77 165.456 L2190.54 163.511 L2180.05 138.002 L2184.56 138.002 L2192.67 158.28 L2200.77 138.002 L2205.28 138.002 L2193.89 166.336 Z\" fill=\"#000000\" fill-rule=\"evenodd\" fill-opacity=\"1\" /><path clip-path=\"url(#clip970)\" d=\"M2212.57 159.993 L2220.21 159.993 L2220.21 133.627 L2211.9 135.294 L2211.9 131.035 L2220.17 129.368 L2224.84 129.368 L2224.84 159.993 L2232.48 159.993 L2232.48 163.928 L2212.57 163.928 L2212.57 159.993 Z\" fill=\"#000000\" fill-rule=\"evenodd\" fill-opacity=\"1\" /><polyline clip-path=\"url(#clip970)\" style=\"stroke:#e26f46; stroke-linecap:butt; stroke-linejoin:round; stroke-width:4; stroke-opacity:1; fill:none\" points=\"\n",
       "  2011.67,198.488 2156,198.488 \n",
       "  \"/>\n",
       "<path clip-path=\"url(#clip970)\" d=\"M2193.89 218.176 Q2192.09 222.805 2190.37 224.217 Q2188.66 225.629 2185.79 225.629 L2182.39 225.629 L2182.39 222.064 L2184.89 222.064 Q2186.65 222.064 2187.62 221.231 Q2188.59 220.398 2189.77 217.296 L2190.54 215.351 L2180.05 189.842 L2184.56 189.842 L2192.67 210.12 L2200.77 189.842 L2205.28 189.842 L2193.89 218.176 Z\" fill=\"#000000\" fill-rule=\"evenodd\" fill-opacity=\"1\" /><path clip-path=\"url(#clip970)\" d=\"M2215.79 211.833 L2232.11 211.833 L2232.11 215.768 L2210.17 215.768 L2210.17 211.833 Q2212.83 209.078 2217.41 204.449 Q2222.02 199.796 2223.2 198.453 Q2225.44 195.93 2226.32 194.194 Q2227.23 192.435 2227.23 190.745 Q2227.23 187.99 2225.28 186.254 Q2223.36 184.518 2220.26 184.518 Q2218.06 184.518 2215.61 185.282 Q2213.18 186.046 2210.4 187.597 L2210.4 182.875 Q2213.22 181.741 2215.68 181.162 Q2218.13 180.583 2220.17 180.583 Q2225.54 180.583 2228.73 183.268 Q2231.93 185.953 2231.93 190.444 Q2231.93 192.574 2231.12 194.495 Q2230.33 196.393 2228.22 198.986 Q2227.64 199.657 2224.54 202.875 Q2221.44 206.069 2215.79 211.833 Z\" fill=\"#000000\" fill-rule=\"evenodd\" fill-opacity=\"1\" /></svg>\n"
      ]
     },
     "execution_count": 2,
     "metadata": {},
     "output_type": "execute_result"
    }
   ],
   "source": [
    "plot([cost, cost2], error, .01, 1, xscale=:log10, yscale=:log10)"
   ]
  },
  {
   "cell_type": "markdown",
   "id": "5ea5f5ba",
   "metadata": {
    "slideshow": {
     "slide_type": "slide"
    }
   },
   "source": [
    "# What goes in? What comes out?"
   ]
  },
  {
   "cell_type": "markdown",
   "id": "0b172918",
   "metadata": {
    "cell_style": "split"
   },
   "source": [
    "* Equations\n",
    "  * Conservation\n",
    "  * Variational principles\n",
    "  * Materials\n",
    "* Geometry\n",
    "  * meshing needed?\n",
    "* Boundary conditions\n",
    "  * essential/Dirichlet\n",
    "  * natural/Neumann\n",
    "  * mixed\n",
    "* Initial conditions"
   ]
  },
  {
   "cell_type": "markdown",
   "id": "5524288e",
   "metadata": {
    "cell_style": "split"
   },
   "source": [
    "* Discrete solutions\n",
    "  * Sampled on a grid\n",
    "  * Time series\n",
    "* Quantities of Interest (QoI)\n",
    "  * Heat flux\n",
    "  * Maximum temperature\n",
    "  * Maximum stress\n",
    "  * Lift, drag\n",
    "* Eigensolutions\n",
    "  * Resonant frequencies/modes\n",
    "  * Orbitals"
   ]
  },
  {
   "cell_type": "markdown",
   "id": "5e47d410",
   "metadata": {
    "slideshow": {
     "slide_type": "slide"
    }
   },
   "source": [
    "# Who works with PDE solvers?"
   ]
  },
  {
   "cell_type": "markdown",
   "id": "5a67fee9",
   "metadata": {
    "slideshow": {
     "slide_type": "subslide"
    }
   },
   "source": [
    "* Numerical analysts\n",
    "* Domain scientists and engineers\n",
    "* Materials scientists\n",
    "* HPC specialists\n",
    "* Optimizers\n",
    "* Statisticians"
   ]
  },
  {
   "cell_type": "markdown",
   "id": "a7c4ecde",
   "metadata": {
    "slideshow": {
     "slide_type": "slide"
    }
   },
   "source": [
    "# What skills should they have?\n",
    "\n",
    "Breakout groups: pick one role and make a list of essential and nice-to-have skills, plus at least one question. Pick one member to report out."
   ]
  },
  {
   "cell_type": "markdown",
   "id": "670d0a5e",
   "metadata": {
    "cell_style": "split",
    "slideshow": {
     "slide_type": ""
    }
   },
   "source": [
    "* ..."
   ]
  },
  {
   "cell_type": "markdown",
   "id": "bce00a75",
   "metadata": {
    "cell_style": "split"
   },
   "source": [
    "* ..."
   ]
  },
  {
   "cell_type": "markdown",
   "id": "a181eea5",
   "metadata": {
    "slideshow": {
     "slide_type": "slide"
    }
   },
   "source": [
    "# Computer Science = Runnable Abstraction Science"
   ]
  },
  {
   "cell_type": "markdown",
   "id": "b66498d2",
   "metadata": {
    "cell_style": "split"
   },
   "source": [
    "### In the \"grinder\"\n",
    "* Mathematical language and principles for each major class of method\n",
    "  * What is covered by theory\n",
    "  * When you're venturing off-trail\n",
    "  * Analytic tools to predict and debug\n",
    "* Realistic cost and exploitable structure\n",
    "  * Performance on modern hardware\n",
    "  * Algebraic solvers and time integrators\n",
    "* Write/modify stand-alone code\n",
    "* Select and use (parallel) libraries"
   ]
  },
  {
   "cell_type": "markdown",
   "id": "ad132037",
   "metadata": {
    "cell_style": "split"
   },
   "source": [
    "### How can you trust the solution?\n",
    "* Verification: solving the problem right\n",
    "* Validation: solving the right problem\n",
    "\n",
    "### Abstractions/collaboration\n",
    "* Domain scientists, engineers\n",
    "* Optimizers, statisticians\n",
    "* Abstractions that reduce cognitive load\n",
    "* Metrics/visualization for decisions"
   ]
  },
  {
   "cell_type": "markdown",
   "id": "d910b1c2",
   "metadata": {
    "slideshow": {
     "slide_type": "slide"
    }
   },
   "source": [
    "# On programming languages"
   ]
  },
  {
   "cell_type": "markdown",
   "id": "1b6d3017",
   "metadata": {
    "cell_style": "split"
   },
   "source": [
    "## C\n",
    "Reliable and popular for libraries (PETSc, etc.). \"Simple\", unsafe, capable of encapsulation.\n",
    "\n",
    "## C++\n",
    "Popular with applications and some libraries. Powerful, but complicated and unsafe.\n",
    "\n",
    "## Fortran\n",
    "The OG of numerical computing. Good for \"array programming\", but encapsulation is hard. Unsafe depending on dialect."
   ]
  },
  {
   "cell_type": "markdown",
   "id": "19695d74",
   "metadata": {
    "cell_style": "split"
   },
   "source": [
    "## Julia\n",
    "For ground-up examples in class and in activities. Capable of high performance, expressive multiple dispatch, works well in a notebook. Library ecosystem for PDEs is limited, but rapidly improving.\n",
    "\n",
    "## Python\n",
    "Good access to JIT, libraries like FEniCS. Poor native performance, but good libraries to compiled code.\n",
    "\n",
    "## Rust\n",
    "New compiled language. Good performance, encapsulation, safety, static analysis. Poor libraries (so far)."
   ]
  },
  {
   "cell_type": "markdown",
   "id": "9e462589",
   "metadata": {},
   "source": [
    "You don't need to know any of these well and you can choose the language for your project."
   ]
  },
  {
   "cell_type": "markdown",
   "id": "51106d86",
   "metadata": {
    "slideshow": {
     "slide_type": "slide"
    }
   },
   "source": [
    "<img src=\"../img/Butler1988-Table1.png\" width=\"80%\" />"
   ]
  },
  {
   "cell_type": "markdown",
   "id": "a69f134c",
   "metadata": {
    "slideshow": {
     "slide_type": "slide"
    }
   },
   "source": [
    "# I won't grade and I won't waste your time"
   ]
  },
  {
   "cell_type": "markdown",
   "id": "1ad89faa",
   "metadata": {
    "cell_style": "center",
    "slideshow": {
     "slide_type": "fragment"
    }
   },
   "source": [
    "<div class=\"floatleft70\"\n",
    "\n",
    "  * I will provide feedback   \n",
    "  * I will be a mentor and guide navigating this field\n",
    "  * I will help you get what you want out of the class (with a dash of wholesome context)\n",
    "\n",
    "  > My mom said, \"basically, your professor is asking you to be an adult\". That was too flexible.\n",
    "\n",
    "  > In other classes, I didn’t feel like I could bounce back, but in this one I did.\n",
    "</div>\n",
    "\n",
    "<div class=\"floatright30\">\n",
    "<a href=\"https://www.wvupressonline.com/ungrading\"><img src=\"../img/Ungrading.jpg\" width=\"100%\" /></a>\n",
    "</div>"
   ]
  },
  {
   "cell_type": "markdown",
   "id": "8b1167b9",
   "metadata": {
    "slideshow": {
     "slide_type": "slide"
    }
   },
   "source": [
    "# What about the letter grade?"
   ]
  },
  {
   "cell_type": "markdown",
   "id": "748b2379",
   "metadata": {
    "slideshow": {
     "slide_type": "fragment"
    }
   },
   "source": [
    "* Collect a portfolio of the work and insights you're most proud of\n",
    "* Individual meetings during the last week of the semester (mid-term preview)\n",
    "* We'll have a conversation and you'll propose a grade based on your portfolio\n",
    "  * I'll trust you."
   ]
  },
  {
   "cell_type": "markdown",
   "id": "6e66274a",
   "metadata": {
    "slideshow": {
     "slide_type": "fragment"
    }
   },
   "source": [
    "*I can nudge upward when students are too modest -- pretty common. In rare cases, I may adjust down.*"
   ]
  },
  {
   "cell_type": "markdown",
   "id": "123c7b1c",
   "metadata": {
    "slideshow": {
     "slide_type": "slide"
    }
   },
   "source": [
    "# What I need from you: Growth Mindset\n",
    "\n",
    "<img src=\"../img/Henry2019-Table1.png\" width=\"90%\" />"
   ]
  },
  {
   "cell_type": "markdown",
   "id": "47fe3ae4",
   "metadata": {
    "slideshow": {
     "slide_type": "slide"
    }
   },
   "source": [
    "# How will the semester look?"
   ]
  },
  {
   "cell_type": "markdown",
   "id": "583d6bfb",
   "metadata": {
    "cell_style": "split"
   },
   "source": [
    "## Lecture periods\n",
    "* Refresh, introduce, activity/group discussion, reflect\n",
    "* Pointers to further resources/activities\n",
    "\n",
    "## In-class and homework activities\n",
    "* (Short) coding, experiments, presentation of results\n",
    "* Use the math and programming tools of the field\n",
    "* Open-ended, go further occasionally\n",
    "\n",
    "## Learning plans\n",
    "* Write, track, and revise a personal learning plan.\n",
    "* Meet/chat approx weekly to check in with partner"
   ]
  },
  {
   "cell_type": "markdown",
   "id": "c3f5351b",
   "metadata": {
    "cell_style": "split"
   },
   "source": [
    "## Projects (second half of semester)\n",
    "* Dig into community software for solving PDEs\n",
    "* Short presentation on how the community works\n",
    " * Key stakeholders\n",
    " * Strengths and weaknesses\n",
    "* Discuss and critique\n",
    "\n",
    "## Community contribution\n",
    "* Tutorial, documentation, performance study, comparison, new features, new application\n",
    "* Reflect in a short presentation"
   ]
  },
  {
   "cell_type": "markdown",
   "id": "a473030e",
   "metadata": {
    "slideshow": {
     "slide_type": "slide"
    }
   },
   "source": [
    "# Tools"
   ]
  },
  {
   "cell_type": "markdown",
   "id": "61105cbb",
   "metadata": {
    "cell_style": "split"
   },
   "source": [
    "## Git and GitHub\n",
    "\n",
    "* GitHub CLassroom to manage repositories\n",
    "* Write using notebooks and markdown\n",
    "* Review using GitHub tools and nbgrader\n",
    "\n",
    "## Zulip\n",
    "\n",
    "* math- and code-aware team chat\n",
    "* live, informal\n",
    "* thread managemnet so a question in class can spin off into a deeper asynchronous conversation"
   ]
  },
  {
   "cell_type": "markdown",
   "id": "7850eace",
   "metadata": {
    "cell_style": "split"
   },
   "source": [
    "## Jupyter\n",
    "\n",
    "* RISE slides available on website\n",
    "* Activities with scaffolding\n",
    "* Nbgrader for writing feedback\n",
    "* Works with many languages; we'll mostly use Julia\n",
    "* Collaborative mode (new)\n",
    "\n",
    "## JupyterHub: [coding.csel.io](https://coding.csel.io)\n",
    "* Nothing to install, persistent storage"
   ]
  },
  {
   "cell_type": "markdown",
   "id": "b5c127a2",
   "metadata": {
    "slideshow": {
     "slide_type": "slide"
    }
   },
   "source": [
    "# A note about COVID"
   ]
  },
  {
   "cell_type": "markdown",
   "id": "857b4dec",
   "metadata": {
    "cell_style": "split"
   },
   "source": [
    "![](../img/boulder-county-cases.png)"
   ]
  },
  {
   "cell_type": "markdown",
   "id": "9044801a",
   "metadata": {
    "cell_style": "split"
   },
   "source": [
    "* Boulder County cases are high and increasing\n",
    "* Vaccinated can transmit\n",
    "* I have a 1yo and 4yo in childcare\n",
    "* They need to be tested at any symptoms\n",
    "  * 1-2 days to result\n",
    "\n",
    "![](../img/neve-testing-timeline.png)"
   ]
  },
  {
   "cell_type": "markdown",
   "id": "d210807d",
   "metadata": {},
   "source": [
    "* I'd prefer to do virtual office hours until 7-day average new cases drops below 20/day\n",
    "* I'll likely be home with a kid and need to teach remotely or otherwise make it up to you"
   ]
  }
 ],
 "metadata": {
  "celltoolbar": "Slideshow",
  "kernelspec": {
   "display_name": "Julia 1.6.2",
   "language": "julia",
   "name": "julia-1.6"
  },
  "language_info": {
   "file_extension": ".jl",
   "mimetype": "application/julia",
   "name": "julia",
   "version": "1.6.2"
  },
  "rise": {
   "enable_chalkboard": true
  }
 },
 "nbformat": 4,
 "nbformat_minor": 5
}
