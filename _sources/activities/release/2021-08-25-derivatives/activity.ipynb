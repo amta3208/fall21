{
 "cells": [
  {
   "cell_type": "markdown",
   "id": "f68f0987",
   "metadata": {},
   "source": [
    "# 2021-08-25: Numerical differentiation\n",
    "\n",
    "This activity will explore numerical approximation of derivatives using methods of the form\n",
    "$$ f'(x) \\approx \\frac{f(x+h) - f(x)}{h} $$\n",
    "for some small $h > 0$."
   ]
  },
  {
   "cell_type": "code",
   "execution_count": null,
   "id": "56ca8bbc",
   "metadata": {},
   "outputs": [],
   "source": [
    "using LinearAlgebra\n",
    "using Plots\n",
    "\n",
    "function diff(f, x, h)\n",
    "    (f.(x .+ h) - f.(x)) / h\n",
    "end\n",
    "\n",
    "plot([cos,\n",
    "      x -> diff(sin, x, .1),\n",
    "      x -> diff(sin, x, .5)],\n",
    "    label=[\"cos\" \"h=.1\" \"h=.5\"],\n",
    "    xlims=(-4, 4))"
   ]
  },
  {
   "cell_type": "markdown",
   "id": "2640144b",
   "metadata": {},
   "source": [
    "The $h=0.1$ dots appear to be more accurate than $h=0.4$, which is a good sign.\n",
    "To be quantitative, let's examine how the error (taken to be the maximum error on a set of sample points) depends on the parameter $h$."
   ]
  },
  {
   "cell_type": "code",
   "execution_count": null,
   "id": "d4e6c469",
   "metadata": {},
   "outputs": [],
   "source": [
    "function compute_errors(diff, f, fprime; x=LinRange(-4, 4, 50))\n",
    "    hs = 10. .^ (-15:.5:0)\n",
    "    errors = [norm(diff(f, x, h) - fprime.(x)) for h in hs]\n",
    "    hs, errors\n",
    "end\n",
    "\n",
    "hs, errors = compute_errors(diff, sin, cos)\n",
    "scatter(hs, errors, label=\"numerical diff\",\n",
    "    xlabel=\"\\$h\\$\", ylabel=\"error\", xscale=:log10, yscale=:log10)\n",
    "plot!(hs, hs, label=\"\\$O(h)\\$\")\n",
    "plot!(hs, 1e-15 ./ hs, label=\"\\$O(1/h)\\$\")"
   ]
  },
  {
   "cell_type": "markdown",
   "id": "df725c5d",
   "metadata": {},
   "source": [
    "Evidently the error behaves like $O(h)$ for large values of $h$ and like $O(1/h)$ for small values of $h$.  To minimize error, we should choose a value of $h \\approx 10^{-8}$ in this case, but the specific choice depends on the function.\n",
    "\n",
    "We can do similar experiments for the \"centered\" formula\n",
    "$$ f'(x) \\approx \\frac{f(x+h) - f(x-h)}{2h} .$$"
   ]
  },
  {
   "cell_type": "code",
   "execution_count": null,
   "id": "9860134f",
   "metadata": {},
   "outputs": [],
   "source": [
    "function diff2(f, x, h)\n",
    "    (f.(x .+ h) - f.(x .- h)) / (2*h)\n",
    "end\n",
    "\n",
    "hs, errors = compute_errors(diff2, sin, cos)\n",
    "scatter(hs, errors, label=\"numerical diff2\",\n",
    "    xlabel=\"\\$h\\$\", ylabel=\"error\",\n",
    "    xscale=:log10, yscale=:log10, ylims=(1e-12, 10))\n",
    "plot!(hs, hs, label=\"\\$O(h)\\$\")\n",
    "plot!(hs, hs.^2, label=\"\\$O(h^2)\\$\")\n",
    "plot!(hs, 1e-15 ./ hs, label=\"\\$O(1/h)\\$\")"
   ]
  },
  {
   "cell_type": "markdown",
   "id": "17441d78",
   "metadata": {},
   "source": [
    "Now, we consider the effect of shifting from comparing accuracy on the interval $(-4, 4)$ to the interval $(10^5\\pi - 4, 10^5\\pi + 4)$. Note that our test function $f(x) = \\sin x$ is $2\\pi$ periodic."
   ]
  },
  {
   "cell_type": "code",
   "execution_count": null,
   "id": "a088db4f",
   "metadata": {},
   "outputs": [],
   "source": [
    "hs, errors1 = compute_errors(diff,  sin, cos, x=1e5*pi.+LinRange(-4, 4, 50))\n",
    "_,  errors2 = compute_errors(diff2, sin, cos, x=1e5*pi.+LinRange(-4, 4, 50))\n",
    "scatter(hs, errors1, label=\"numerical diff\",\n",
    "    xlabel=\"\\$h\\$\", ylabel=\"error\",\n",
    "    xscale=:log10, yscale=:log10, ylims=(1e-12, 10))\n",
    "scatter!(hs, errors2, label=\"numerical diff2\")\n",
    "plot!(hs, hs, label=\"\\$O(h)\\$\")\n",
    "plot!(hs, hs.^2, label=\"\\$O(h^2)\\$\")\n",
    "plot!(hs, 1e-15 ./ hs, label=\"\\$O(1/h)\\$\")\n"
   ]
  },
  {
   "cell_type": "markdown",
   "id": "266238c6",
   "metadata": {},
   "source": [
    "## Estimate constants\n",
    "\n",
    "Suppose you are given two positive values $h_0$ and $h_1$ as well as two errors $e_0 = e(h_0)$ and $e_1 = e(h_1)$.\n",
    "Use the ratios $h_1 / h_0$ and $e_1 / e_0$ to estimate $p$ assuming the form $e(h) = c h^p$.\n",
    "\n",
    "Hint: take ratios of the equations and use $\\log$ (`log`)."
   ]
  },
  {
   "cell_type": "code",
   "execution_count": null,
   "id": "fd17bf4b",
   "metadata": {
    "deletable": false,
    "nbgrader": {
     "cell_type": "code",
     "checksum": "e8bc8ee94444759e700794a2cd86aa86",
     "grade": false,
     "grade_id": "cell-417d7a24f568c0ef",
     "locked": false,
     "schema_version": 3,
     "solution": true
    }
   },
   "outputs": [],
   "source": [
    "function convergence_order(h0, e0, h1, e1)\n",
    "    hratio = h1/h0\n",
    "    eratio = e1/e0\n",
    "    # YOUR CODE HERE\n",
    "    error(\"No answer given\")\n",
    "end\n",
    "\n",
    "convergence_order(hs[end-6], errors1[end-6], hs[end-7], errors1[end-7])"
   ]
  },
  {
   "cell_type": "code",
   "execution_count": null,
   "id": "3c860113",
   "metadata": {
    "deletable": false,
    "editable": false,
    "nbgrader": {
     "cell_type": "code",
     "checksum": "9ab418a10a29e7a688dda4404adca9e4",
     "grade": true,
     "grade_id": "cell-b233f3cbe6ae4f4e",
     "locked": true,
     "points": 1,
     "schema_version": 3,
     "solution": false
    }
   },
   "outputs": [],
   "source": [
    "@assert abs(convergence_order(hs[end-5], errors1[end-5], hs[end-7], errors1[end-7]) - 1) < 1e-4\n",
    "@assert abs(convergence_order(hs[end-4], errors2[end-4], hs[end-3], errors2[end-3]) - 2) < 1e-4"
   ]
  }
 ],
 "metadata": {
  "kernelspec": {
   "display_name": "Julia 1.6.2",
   "language": "julia",
   "name": "julia-1.6"
  },
  "language_info": {
   "file_extension": ".jl",
   "mimetype": "application/julia",
   "name": "julia",
   "version": "1.6.2"
  }
 },
 "nbformat": 4,
 "nbformat_minor": 5
}
