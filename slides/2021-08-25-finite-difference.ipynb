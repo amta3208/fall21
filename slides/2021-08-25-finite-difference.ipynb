{
 "cells": [
  {
   "cell_type": "markdown",
   "id": "4159be0e",
   "metadata": {
    "slideshow": {
     "slide_type": "slide"
    }
   },
   "source": [
    "# 2021-08-25 Finite Difference Intro\n",
    "\n",
    "## Last time\n",
    "* General shape of PDE solvers and stakeholders\n",
    "* Comparing/plotting cost and accuracy\n",
    "* Learning strategy\n",
    "\n",
    "## Today\n",
    "* Evaluating derivatives\n",
    "* Taylor series and truncation error\n",
    "* Stability"
   ]
  },
  {
   "cell_type": "markdown",
   "id": "dd050c4e",
   "metadata": {
    "hideOutput": true,
    "slideshow": {
     "slide_type": "slide"
    }
   },
   "source": [
    "# Consider the boundary value problem: find $u$:\n",
    "\n",
    "\\begin{gather} -\\frac{d^2 u}{dx^2} = f(x) \\quad x \\in \\Omega = (-1,1) \\\\\n",
    "u(-1) = a \\quad \\frac{du}{dx}(1) = b .\n",
    "\\end{gather}"
   ]
  },
  {
   "cell_type": "markdown",
   "id": "56e4af5a",
   "metadata": {
    "cell_style": "split",
    "slideshow": {
     "slide_type": ""
    }
   },
   "source": [
    "We say\n",
    "* $f(x)$ is the \"forcing\"\n",
    "* the left boundary condition is Dirichlet\n",
    "* the right boundary condition is Neumann"
   ]
  },
  {
   "cell_type": "markdown",
   "id": "ef6a7e85",
   "metadata": {
    "cell_style": "split",
    "slideshow": {
     "slide_type": ""
    }
   },
   "source": [
    "We need to choose\n",
    "* how to represent $u(x)$, including evaluating it on the boundary,\n",
    "* how to compute derivatives of $u$,\n",
    "* in what sense to ask for the differential equation to be satisfied,\n",
    "* where to evaluate $f(x)$ or integrals thereof,\n",
    "* how to enforce boundary conditions."
   ]
  },
  {
   "cell_type": "markdown",
   "id": "62272e73",
   "metadata": {
    "hideOutput": true,
    "slideshow": {
     "slide_type": "slide"
    }
   },
   "source": [
    "# Finite Difference/collocation approach to solve $u$:\n",
    "\n",
    "\\begin{gather} -\\frac{d^2 u}{dx^2} = f(x) \\quad x \\in \\Omega = (-1,1) \\\\\n",
    "u(-1) = a \\quad \\frac{du}{dx}(1) = b .\n",
    "\\end{gather}"
   ]
  },
  {
   "cell_type": "markdown",
   "id": "04c6db76",
   "metadata": {},
   "source": [
    "* Represent the function $u(x)$ by its values $u_i = u(x_i)$ at a discrete set of points $$ -1 = x_1 < x_2 < \\dotsb < x_n = 1 . $$\n",
    "  * The FD framework does not uniquely specify the solution values at other points\n",
    "* Compute derivatives at $x_i$ via differencing formulas involving a finite number of neighbor points (independent of the total number of points $n$).\n",
    "* FD methods ask for the differential equation to be satisfied pointwise at each $x_i$ in the interior of the domain.\n",
    "* Evaluate the forcing term $f$ pointwise at $x_i$.\n",
    "* Approximate derivatives at discrete boundary points ($x_n = 1$ above), typically using one-sided differencing formulas."
   ]
  },
  {
   "cell_type": "markdown",
   "id": "d6bf7ff5",
   "metadata": {
    "slideshow": {
     "slide_type": "slide"
    }
   },
   "source": [
    "# Computing a derivative"
   ]
  },
  {
   "cell_type": "code",
   "execution_count": 16,
   "id": "0589d738",
   "metadata": {
    "cell_style": "split"
   },
   "outputs": [
    {
     "data": {
      "image/svg+xml": [
       "<?xml version=\"1.0\" encoding=\"utf-8\"?>\n",
       "<svg xmlns=\"http://www.w3.org/2000/svg\" xmlns:xlink=\"http://www.w3.org/1999/xlink\" width=\"600\" height=\"400\" viewBox=\"0 0 2400 1600\">\n",
       "<defs>\n",
       "  <clipPath id=\"clip370\">\n",
       "    <rect x=\"0\" y=\"0\" width=\"2400\" height=\"1600\"/>\n",
       "  </clipPath>\n",
       "</defs>\n",
       "<path clip-path=\"url(#clip370)\" d=\"\n",
       "M0 1600 L2400 1600 L2400 0 L0 0  Z\n",
       "  \" fill=\"#ffffff\" fill-rule=\"evenodd\" fill-opacity=\"1\"/>\n",
       "<defs>\n",
       "  <clipPath id=\"clip371\">\n",
       "    <rect x=\"480\" y=\"0\" width=\"1681\" height=\"1600\"/>\n",
       "  </clipPath>\n",
       "</defs>\n",
       "<path clip-path=\"url(#clip370)\" d=\"\n",
       "M193.936 1486.45 L2352.76 1486.45 L2352.76 47.2441 L193.936 47.2441  Z\n",
       "  \" fill=\"#ffffff\" fill-rule=\"evenodd\" fill-opacity=\"1\"/>\n",
       "<defs>\n",
       "  <clipPath id=\"clip372\">\n",
       "    <rect x=\"193\" y=\"47\" width=\"2160\" height=\"1440\"/>\n",
       "  </clipPath>\n",
       "</defs>\n",
       "<polyline clip-path=\"url(#clip372)\" style=\"stroke:#000000; stroke-linecap:butt; stroke-linejoin:round; stroke-width:2; stroke-opacity:0.1; fill:none\" points=\"\n",
       "  255.035,1486.45 255.035,47.2441 \n",
       "  \"/>\n",
       "<polyline clip-path=\"url(#clip372)\" style=\"stroke:#000000; stroke-linecap:butt; stroke-linejoin:round; stroke-width:2; stroke-opacity:0.1; fill:none\" points=\"\n",
       "  594.472,1486.45 594.472,47.2441 \n",
       "  \"/>\n",
       "<polyline clip-path=\"url(#clip372)\" style=\"stroke:#000000; stroke-linecap:butt; stroke-linejoin:round; stroke-width:2; stroke-opacity:0.1; fill:none\" points=\"\n",
       "  933.909,1486.45 933.909,47.2441 \n",
       "  \"/>\n",
       "<polyline clip-path=\"url(#clip372)\" style=\"stroke:#000000; stroke-linecap:butt; stroke-linejoin:round; stroke-width:2; stroke-opacity:0.1; fill:none\" points=\"\n",
       "  1273.35,1486.45 1273.35,47.2441 \n",
       "  \"/>\n",
       "<polyline clip-path=\"url(#clip372)\" style=\"stroke:#000000; stroke-linecap:butt; stroke-linejoin:round; stroke-width:2; stroke-opacity:0.1; fill:none\" points=\"\n",
       "  1612.78,1486.45 1612.78,47.2441 \n",
       "  \"/>\n",
       "<polyline clip-path=\"url(#clip372)\" style=\"stroke:#000000; stroke-linecap:butt; stroke-linejoin:round; stroke-width:2; stroke-opacity:0.1; fill:none\" points=\"\n",
       "  1952.22,1486.45 1952.22,47.2441 \n",
       "  \"/>\n",
       "<polyline clip-path=\"url(#clip372)\" style=\"stroke:#000000; stroke-linecap:butt; stroke-linejoin:round; stroke-width:2; stroke-opacity:0.1; fill:none\" points=\"\n",
       "  2291.66,1486.45 2291.66,47.2441 \n",
       "  \"/>\n",
       "<polyline clip-path=\"url(#clip370)\" style=\"stroke:#000000; stroke-linecap:butt; stroke-linejoin:round; stroke-width:4; stroke-opacity:1; fill:none\" points=\"\n",
       "  193.936,1486.45 2352.76,1486.45 \n",
       "  \"/>\n",
       "<polyline clip-path=\"url(#clip370)\" style=\"stroke:#000000; stroke-linecap:butt; stroke-linejoin:round; stroke-width:4; stroke-opacity:1; fill:none\" points=\"\n",
       "  255.035,1486.45 255.035,1467.55 \n",
       "  \"/>\n",
       "<polyline clip-path=\"url(#clip370)\" style=\"stroke:#000000; stroke-linecap:butt; stroke-linejoin:round; stroke-width:4; stroke-opacity:1; fill:none\" points=\"\n",
       "  594.472,1486.45 594.472,1467.55 \n",
       "  \"/>\n",
       "<polyline clip-path=\"url(#clip370)\" style=\"stroke:#000000; stroke-linecap:butt; stroke-linejoin:round; stroke-width:4; stroke-opacity:1; fill:none\" points=\"\n",
       "  933.909,1486.45 933.909,1467.55 \n",
       "  \"/>\n",
       "<polyline clip-path=\"url(#clip370)\" style=\"stroke:#000000; stroke-linecap:butt; stroke-linejoin:round; stroke-width:4; stroke-opacity:1; fill:none\" points=\"\n",
       "  1273.35,1486.45 1273.35,1467.55 \n",
       "  \"/>\n",
       "<polyline clip-path=\"url(#clip370)\" style=\"stroke:#000000; stroke-linecap:butt; stroke-linejoin:round; stroke-width:4; stroke-opacity:1; fill:none\" points=\"\n",
       "  1612.78,1486.45 1612.78,1467.55 \n",
       "  \"/>\n",
       "<polyline clip-path=\"url(#clip370)\" style=\"stroke:#000000; stroke-linecap:butt; stroke-linejoin:round; stroke-width:4; stroke-opacity:1; fill:none\" points=\"\n",
       "  1952.22,1486.45 1952.22,1467.55 \n",
       "  \"/>\n",
       "<polyline clip-path=\"url(#clip370)\" style=\"stroke:#000000; stroke-linecap:butt; stroke-linejoin:round; stroke-width:4; stroke-opacity:1; fill:none\" points=\"\n",
       "  2291.66,1486.45 2291.66,1467.55 \n",
       "  \"/>\n",
       "<path clip-path=\"url(#clip370)\" d=\"M224.502 1530.29 L254.178 1530.29 L254.178 1534.23 L224.502 1534.23 L224.502 1530.29 Z\" fill=\"#000000\" fill-rule=\"evenodd\" fill-opacity=\"1\" /><path clip-path=\"url(#clip370)\" d=\"M278.437 1528.49 Q281.794 1529.2 283.669 1531.47 Q285.567 1533.74 285.567 1537.07 Q285.567 1542.19 282.048 1544.99 Q278.53 1547.79 272.048 1547.79 Q269.873 1547.79 267.558 1547.35 Q265.266 1546.93 262.812 1546.08 L262.812 1541.56 Q264.757 1542.7 267.072 1543.28 Q269.386 1543.86 271.91 1543.86 Q276.308 1543.86 278.599 1542.12 Q280.914 1540.38 280.914 1537.07 Q280.914 1534.02 278.761 1532.31 Q276.632 1530.57 272.812 1530.57 L268.785 1530.57 L268.785 1526.73 L272.998 1526.73 Q276.447 1526.73 278.275 1525.36 Q280.104 1523.97 280.104 1521.38 Q280.104 1518.72 278.206 1517.31 Q276.331 1515.87 272.812 1515.87 Q270.891 1515.87 268.692 1516.29 Q266.493 1516.7 263.854 1517.58 L263.854 1513.42 Q266.516 1512.68 268.831 1512.31 Q271.169 1511.93 273.229 1511.93 Q278.553 1511.93 281.655 1514.37 Q284.757 1516.77 284.757 1520.89 Q284.757 1523.76 283.113 1525.75 Q281.47 1527.72 278.437 1528.49 Z\" fill=\"#000000\" fill-rule=\"evenodd\" fill-opacity=\"1\" /><path clip-path=\"url(#clip370)\" d=\"M564.414 1530.29 L594.09 1530.29 L594.09 1534.23 L564.414 1534.23 L564.414 1530.29 Z\" fill=\"#000000\" fill-rule=\"evenodd\" fill-opacity=\"1\" /><path clip-path=\"url(#clip370)\" d=\"M608.21 1543.18 L624.529 1543.18 L624.529 1547.12 L602.585 1547.12 L602.585 1543.18 Q605.247 1540.43 609.83 1535.8 Q614.437 1531.15 615.617 1529.81 Q617.863 1527.28 618.742 1525.55 Q619.645 1523.79 619.645 1522.1 Q619.645 1519.34 617.701 1517.61 Q615.78 1515.87 612.678 1515.87 Q610.479 1515.87 608.025 1516.63 Q605.594 1517.4 602.817 1518.95 L602.817 1514.23 Q605.641 1513.09 608.094 1512.51 Q610.548 1511.93 612.585 1511.93 Q617.955 1511.93 621.15 1514.62 Q624.344 1517.31 624.344 1521.8 Q624.344 1523.93 623.534 1525.85 Q622.747 1527.74 620.641 1530.34 Q620.062 1531.01 616.96 1534.23 Q613.858 1537.42 608.21 1543.18 Z\" fill=\"#000000\" fill-rule=\"evenodd\" fill-opacity=\"1\" /><path clip-path=\"url(#clip370)\" d=\"M903.666 1530.29 L933.342 1530.29 L933.342 1534.23 L903.666 1534.23 L903.666 1530.29 Z\" fill=\"#000000\" fill-rule=\"evenodd\" fill-opacity=\"1\" /><path clip-path=\"url(#clip370)\" d=\"M944.244 1543.18 L951.883 1543.18 L951.883 1516.82 L943.573 1518.49 L943.573 1514.23 L951.837 1512.56 L956.513 1512.56 L956.513 1543.18 L964.152 1543.18 L964.152 1547.12 L944.244 1547.12 L944.244 1543.18 Z\" fill=\"#000000\" fill-rule=\"evenodd\" fill-opacity=\"1\" /><path clip-path=\"url(#clip370)\" d=\"M1273.35 1515.64 Q1269.73 1515.64 1267.91 1519.2 Q1266.1 1522.75 1266.1 1529.87 Q1266.1 1536.98 1267.91 1540.55 Q1269.73 1544.09 1273.35 1544.09 Q1276.98 1544.09 1278.79 1540.55 Q1280.61 1536.98 1280.61 1529.87 Q1280.61 1522.75 1278.79 1519.2 Q1276.98 1515.64 1273.35 1515.64 M1273.35 1511.93 Q1279.16 1511.93 1282.21 1516.54 Q1285.29 1521.12 1285.29 1529.87 Q1285.29 1538.6 1282.21 1543.21 Q1279.16 1547.79 1273.35 1547.79 Q1267.54 1547.79 1264.46 1543.21 Q1261.4 1538.6 1261.4 1529.87 Q1261.4 1521.12 1264.46 1516.54 Q1267.54 1511.93 1273.35 1511.93 Z\" fill=\"#000000\" fill-rule=\"evenodd\" fill-opacity=\"1\" /><path clip-path=\"url(#clip370)\" d=\"M1603.17 1543.18 L1610.8 1543.18 L1610.8 1516.82 L1602.49 1518.49 L1602.49 1514.23 L1610.76 1512.56 L1615.43 1512.56 L1615.43 1543.18 L1623.07 1543.18 L1623.07 1547.12 L1603.17 1547.12 L1603.17 1543.18 Z\" fill=\"#000000\" fill-rule=\"evenodd\" fill-opacity=\"1\" /><path clip-path=\"url(#clip370)\" d=\"M1946.87 1543.18 L1963.19 1543.18 L1963.19 1547.12 L1941.25 1547.12 L1941.25 1543.18 Q1943.91 1540.43 1948.49 1535.8 Q1953.1 1531.15 1954.28 1529.81 Q1956.53 1527.28 1957.41 1525.55 Q1958.31 1523.79 1958.31 1522.1 Q1958.31 1519.34 1956.36 1517.61 Q1954.44 1515.87 1951.34 1515.87 Q1949.14 1515.87 1946.69 1516.63 Q1944.26 1517.4 1941.48 1518.95 L1941.48 1514.23 Q1944.3 1513.09 1946.76 1512.51 Q1949.21 1511.93 1951.25 1511.93 Q1956.62 1511.93 1959.81 1514.62 Q1963.01 1517.31 1963.01 1521.8 Q1963.01 1523.93 1962.2 1525.85 Q1961.41 1527.74 1959.3 1530.34 Q1958.72 1531.01 1955.62 1534.23 Q1952.52 1537.42 1946.87 1543.18 Z\" fill=\"#000000\" fill-rule=\"evenodd\" fill-opacity=\"1\" /><path clip-path=\"url(#clip370)\" d=\"M2295.9 1528.49 Q2299.26 1529.2 2301.14 1531.47 Q2303.03 1533.74 2303.03 1537.07 Q2303.03 1542.19 2299.52 1544.99 Q2296 1547.79 2289.52 1547.79 Q2287.34 1547.79 2285.03 1547.35 Q2282.73 1546.93 2280.28 1546.08 L2280.28 1541.56 Q2282.22 1542.7 2284.54 1543.28 Q2286.85 1543.86 2289.38 1543.86 Q2293.78 1543.86 2296.07 1542.12 Q2298.38 1540.38 2298.38 1537.07 Q2298.38 1534.02 2296.23 1532.31 Q2294.1 1530.57 2290.28 1530.57 L2286.25 1530.57 L2286.25 1526.73 L2290.47 1526.73 Q2293.91 1526.73 2295.74 1525.36 Q2297.57 1523.97 2297.57 1521.38 Q2297.57 1518.72 2295.67 1517.31 Q2293.8 1515.87 2290.28 1515.87 Q2288.36 1515.87 2286.16 1516.29 Q2283.96 1516.7 2281.32 1517.58 L2281.32 1513.42 Q2283.98 1512.68 2286.3 1512.31 Q2288.64 1511.93 2290.7 1511.93 Q2296.02 1511.93 2299.12 1514.37 Q2302.22 1516.77 2302.22 1520.89 Q2302.22 1523.76 2300.58 1525.75 Q2298.94 1527.72 2295.9 1528.49 Z\" fill=\"#000000\" fill-rule=\"evenodd\" fill-opacity=\"1\" /><polyline clip-path=\"url(#clip372)\" style=\"stroke:#000000; stroke-linecap:butt; stroke-linejoin:round; stroke-width:2; stroke-opacity:0.1; fill:none\" points=\"\n",
       "  193.936,1463.95 2352.76,1463.95 \n",
       "  \"/>\n",
       "<polyline clip-path=\"url(#clip372)\" style=\"stroke:#000000; stroke-linecap:butt; stroke-linejoin:round; stroke-width:2; stroke-opacity:0.1; fill:none\" points=\"\n",
       "  193.936,1115.4 2352.76,1115.4 \n",
       "  \"/>\n",
       "<polyline clip-path=\"url(#clip372)\" style=\"stroke:#000000; stroke-linecap:butt; stroke-linejoin:round; stroke-width:2; stroke-opacity:0.1; fill:none\" points=\"\n",
       "  193.936,766.846 2352.76,766.846 \n",
       "  \"/>\n",
       "<polyline clip-path=\"url(#clip372)\" style=\"stroke:#000000; stroke-linecap:butt; stroke-linejoin:round; stroke-width:2; stroke-opacity:0.1; fill:none\" points=\"\n",
       "  193.936,418.296 2352.76,418.296 \n",
       "  \"/>\n",
       "<polyline clip-path=\"url(#clip372)\" style=\"stroke:#000000; stroke-linecap:butt; stroke-linejoin:round; stroke-width:2; stroke-opacity:0.1; fill:none\" points=\"\n",
       "  193.936,69.7454 2352.76,69.7454 \n",
       "  \"/>\n",
       "<polyline clip-path=\"url(#clip370)\" style=\"stroke:#000000; stroke-linecap:butt; stroke-linejoin:round; stroke-width:4; stroke-opacity:1; fill:none\" points=\"\n",
       "  193.936,1486.45 193.936,47.2441 \n",
       "  \"/>\n",
       "<polyline clip-path=\"url(#clip370)\" style=\"stroke:#000000; stroke-linecap:butt; stroke-linejoin:round; stroke-width:4; stroke-opacity:1; fill:none\" points=\"\n",
       "  193.936,1463.95 212.834,1463.95 \n",
       "  \"/>\n",
       "<polyline clip-path=\"url(#clip370)\" style=\"stroke:#000000; stroke-linecap:butt; stroke-linejoin:round; stroke-width:4; stroke-opacity:1; fill:none\" points=\"\n",
       "  193.936,1115.4 212.834,1115.4 \n",
       "  \"/>\n",
       "<polyline clip-path=\"url(#clip370)\" style=\"stroke:#000000; stroke-linecap:butt; stroke-linejoin:round; stroke-width:4; stroke-opacity:1; fill:none\" points=\"\n",
       "  193.936,766.846 212.834,766.846 \n",
       "  \"/>\n",
       "<polyline clip-path=\"url(#clip370)\" style=\"stroke:#000000; stroke-linecap:butt; stroke-linejoin:round; stroke-width:4; stroke-opacity:1; fill:none\" points=\"\n",
       "  193.936,418.296 212.834,418.296 \n",
       "  \"/>\n",
       "<polyline clip-path=\"url(#clip370)\" style=\"stroke:#000000; stroke-linecap:butt; stroke-linejoin:round; stroke-width:4; stroke-opacity:1; fill:none\" points=\"\n",
       "  193.936,69.7454 212.834,69.7454 \n",
       "  \"/>\n",
       "<path clip-path=\"url(#clip370)\" d=\"M50.9921 1464.4 L80.6679 1464.4 L80.6679 1468.33 L50.9921 1468.33 L50.9921 1464.4 Z\" fill=\"#000000\" fill-rule=\"evenodd\" fill-opacity=\"1\" /><path clip-path=\"url(#clip370)\" d=\"M91.5706 1477.29 L99.2095 1477.29 L99.2095 1450.93 L90.8993 1452.59 L90.8993 1448.33 L99.1632 1446.67 L103.839 1446.67 L103.839 1477.29 L111.478 1477.29 L111.478 1481.23 L91.5706 1481.23 L91.5706 1477.29 Z\" fill=\"#000000\" fill-rule=\"evenodd\" fill-opacity=\"1\" /><path clip-path=\"url(#clip370)\" d=\"M120.922 1475.35 L125.807 1475.35 L125.807 1481.23 L120.922 1481.23 L120.922 1475.35 Z\" fill=\"#000000\" fill-rule=\"evenodd\" fill-opacity=\"1\" /><path clip-path=\"url(#clip370)\" d=\"M145.992 1449.75 Q142.381 1449.75 140.552 1453.31 Q138.746 1456.85 138.746 1463.98 Q138.746 1471.09 140.552 1474.65 Q142.381 1478.19 145.992 1478.19 Q149.626 1478.19 151.431 1474.65 Q153.26 1471.09 153.26 1463.98 Q153.26 1456.85 151.431 1453.31 Q149.626 1449.75 145.992 1449.75 M145.992 1446.04 Q151.802 1446.04 154.857 1450.65 Q157.936 1455.23 157.936 1463.98 Q157.936 1472.71 154.857 1477.31 Q151.802 1481.9 145.992 1481.9 Q140.181 1481.9 137.103 1477.31 Q134.047 1472.71 134.047 1463.98 Q134.047 1455.23 137.103 1450.65 Q140.181 1446.04 145.992 1446.04 Z\" fill=\"#000000\" fill-rule=\"evenodd\" fill-opacity=\"1\" /><path clip-path=\"url(#clip370)\" d=\"M51.9875 1115.85 L81.6633 1115.85 L81.6633 1119.78 L51.9875 1119.78 L51.9875 1115.85 Z\" fill=\"#000000\" fill-rule=\"evenodd\" fill-opacity=\"1\" /><path clip-path=\"url(#clip370)\" d=\"M101.756 1101.19 Q98.1447 1101.19 96.316 1104.76 Q94.5104 1108.3 94.5104 1115.43 Q94.5104 1122.54 96.316 1126.1 Q98.1447 1129.64 101.756 1129.64 Q105.39 1129.64 107.196 1126.1 Q109.024 1122.54 109.024 1115.43 Q109.024 1108.3 107.196 1104.76 Q105.39 1101.19 101.756 1101.19 M101.756 1097.49 Q107.566 1097.49 110.621 1102.1 Q113.7 1106.68 113.7 1115.43 Q113.7 1124.16 110.621 1128.76 Q107.566 1133.35 101.756 1133.35 Q95.9456 1133.35 92.8669 1128.76 Q89.8114 1124.16 89.8114 1115.43 Q89.8114 1106.68 92.8669 1102.1 Q95.9456 1097.49 101.756 1097.49 Z\" fill=\"#000000\" fill-rule=\"evenodd\" fill-opacity=\"1\" /><path clip-path=\"url(#clip370)\" d=\"M121.918 1126.8 L126.802 1126.8 L126.802 1132.68 L121.918 1132.68 L121.918 1126.8 Z\" fill=\"#000000\" fill-rule=\"evenodd\" fill-opacity=\"1\" /><path clip-path=\"url(#clip370)\" d=\"M137.033 1098.12 L155.39 1098.12 L155.39 1102.05 L141.316 1102.05 L141.316 1110.52 Q142.334 1110.18 143.353 1110.01 Q144.371 1109.83 145.39 1109.83 Q151.177 1109.83 154.556 1113 Q157.936 1116.17 157.936 1121.59 Q157.936 1127.17 154.464 1130.27 Q150.992 1133.35 144.672 1133.35 Q142.496 1133.35 140.228 1132.98 Q137.982 1132.61 135.575 1131.87 L135.575 1127.17 Q137.658 1128.3 139.881 1128.86 Q142.103 1129.41 144.58 1129.41 Q148.584 1129.41 150.922 1127.31 Q153.26 1125.2 153.26 1121.59 Q153.26 1117.98 150.922 1115.87 Q148.584 1113.76 144.58 1113.76 Q142.705 1113.76 140.83 1114.18 Q138.978 1114.6 137.033 1115.48 L137.033 1098.12 Z\" fill=\"#000000\" fill-rule=\"evenodd\" fill-opacity=\"1\" /><path clip-path=\"url(#clip370)\" d=\"M100.76 752.645 Q97.1493 752.645 95.3206 756.209 Q93.515 759.751 93.515 766.881 Q93.515 773.987 95.3206 777.552 Q97.1493 781.094 100.76 781.094 Q104.395 781.094 106.2 777.552 Q108.029 773.987 108.029 766.881 Q108.029 759.751 106.2 756.209 Q104.395 752.645 100.76 752.645 M100.76 748.941 Q106.571 748.941 109.626 753.547 Q112.705 758.131 112.705 766.881 Q112.705 775.608 109.626 780.214 Q106.571 784.797 100.76 784.797 Q94.9502 784.797 91.8715 780.214 Q88.816 775.608 88.816 766.881 Q88.816 758.131 91.8715 753.547 Q94.9502 748.941 100.76 748.941 Z\" fill=\"#000000\" fill-rule=\"evenodd\" fill-opacity=\"1\" /><path clip-path=\"url(#clip370)\" d=\"M120.922 778.246 L125.807 778.246 L125.807 784.126 L120.922 784.126 L120.922 778.246 Z\" fill=\"#000000\" fill-rule=\"evenodd\" fill-opacity=\"1\" /><path clip-path=\"url(#clip370)\" d=\"M145.992 752.645 Q142.381 752.645 140.552 756.209 Q138.746 759.751 138.746 766.881 Q138.746 773.987 140.552 777.552 Q142.381 781.094 145.992 781.094 Q149.626 781.094 151.431 777.552 Q153.26 773.987 153.26 766.881 Q153.26 759.751 151.431 756.209 Q149.626 752.645 145.992 752.645 M145.992 748.941 Q151.802 748.941 154.857 753.547 Q157.936 758.131 157.936 766.881 Q157.936 775.608 154.857 780.214 Q151.802 784.797 145.992 784.797 Q140.181 784.797 137.103 780.214 Q134.047 775.608 134.047 766.881 Q134.047 758.131 137.103 753.547 Q140.181 748.941 145.992 748.941 Z\" fill=\"#000000\" fill-rule=\"evenodd\" fill-opacity=\"1\" /><path clip-path=\"url(#clip370)\" d=\"M101.756 404.094 Q98.1447 404.094 96.316 407.659 Q94.5104 411.201 94.5104 418.33 Q94.5104 425.437 96.316 429.002 Q98.1447 432.543 101.756 432.543 Q105.39 432.543 107.196 429.002 Q109.024 425.437 109.024 418.33 Q109.024 411.201 107.196 407.659 Q105.39 404.094 101.756 404.094 M101.756 400.391 Q107.566 400.391 110.621 404.997 Q113.7 409.58 113.7 418.33 Q113.7 427.057 110.621 431.664 Q107.566 436.247 101.756 436.247 Q95.9456 436.247 92.8669 431.664 Q89.8114 427.057 89.8114 418.33 Q89.8114 409.58 92.8669 404.997 Q95.9456 400.391 101.756 400.391 Z\" fill=\"#000000\" fill-rule=\"evenodd\" fill-opacity=\"1\" /><path clip-path=\"url(#clip370)\" d=\"M121.918 429.696 L126.802 429.696 L126.802 435.576 L121.918 435.576 L121.918 429.696 Z\" fill=\"#000000\" fill-rule=\"evenodd\" fill-opacity=\"1\" /><path clip-path=\"url(#clip370)\" d=\"M137.033 401.016 L155.39 401.016 L155.39 404.951 L141.316 404.951 L141.316 413.423 Q142.334 413.076 143.353 412.914 Q144.371 412.729 145.39 412.729 Q151.177 412.729 154.556 415.9 Q157.936 419.071 157.936 424.488 Q157.936 430.066 154.464 433.168 Q150.992 436.247 144.672 436.247 Q142.496 436.247 140.228 435.877 Q137.982 435.506 135.575 434.766 L135.575 430.066 Q137.658 431.201 139.881 431.756 Q142.103 432.312 144.58 432.312 Q148.584 432.312 150.922 430.205 Q153.26 428.099 153.26 424.488 Q153.26 420.877 150.922 418.77 Q148.584 416.664 144.58 416.664 Q142.705 416.664 140.83 417.08 Q138.978 417.497 137.033 418.377 L137.033 401.016 Z\" fill=\"#000000\" fill-rule=\"evenodd\" fill-opacity=\"1\" /><path clip-path=\"url(#clip370)\" d=\"M91.5706 83.0903 L99.2095 83.0903 L99.2095 56.7247 L90.8993 58.3913 L90.8993 54.1321 L99.1632 52.4654 L103.839 52.4654 L103.839 83.0903 L111.478 83.0903 L111.478 87.0254 L91.5706 87.0254 L91.5706 83.0903 Z\" fill=\"#000000\" fill-rule=\"evenodd\" fill-opacity=\"1\" /><path clip-path=\"url(#clip370)\" d=\"M120.922 81.1458 L125.807 81.1458 L125.807 87.0254 L120.922 87.0254 L120.922 81.1458 Z\" fill=\"#000000\" fill-rule=\"evenodd\" fill-opacity=\"1\" /><path clip-path=\"url(#clip370)\" d=\"M145.992 55.5441 Q142.381 55.5441 140.552 59.1089 Q138.746 62.6506 138.746 69.7802 Q138.746 76.8866 140.552 80.4514 Q142.381 83.9931 145.992 83.9931 Q149.626 83.9931 151.431 80.4514 Q153.26 76.8866 153.26 69.7802 Q153.26 62.6506 151.431 59.1089 Q149.626 55.5441 145.992 55.5441 M145.992 51.8404 Q151.802 51.8404 154.857 56.4469 Q157.936 61.0302 157.936 69.7802 Q157.936 78.507 154.857 83.1134 Q151.802 87.6967 145.992 87.6967 Q140.181 87.6967 137.103 83.1134 Q134.047 78.507 134.047 69.7802 Q134.047 61.0302 137.103 56.4469 Q140.181 51.8404 145.992 51.8404 Z\" fill=\"#000000\" fill-rule=\"evenodd\" fill-opacity=\"1\" /><polyline clip-path=\"url(#clip372)\" style=\"stroke:#009af9; stroke-linecap:butt; stroke-linejoin:round; stroke-width:4; stroke-opacity:1; fill:none\" points=\"\n",
       "  255.035,865.221 458.697,1237.71 662.359,1445.72 866.021,1416.57 1069.68,1160.46 1273.35,766.846 1477.01,373.233 1680.67,117.121 1884.33,87.9763 2087.99,295.98 \n",
       "  2291.66,668.471 \n",
       "  \"/>\n",
       "<circle clip-path=\"url(#clip372)\" cx=\"255.035\" cy=\"865.221\" r=\"14\" fill=\"#009af9\" fill-rule=\"evenodd\" fill-opacity=\"1\" stroke=\"#000000\" stroke-opacity=\"1\" stroke-width=\"3.2\"/>\n",
       "<circle clip-path=\"url(#clip372)\" cx=\"458.697\" cy=\"1237.71\" r=\"14\" fill=\"#009af9\" fill-rule=\"evenodd\" fill-opacity=\"1\" stroke=\"#000000\" stroke-opacity=\"1\" stroke-width=\"3.2\"/>\n",
       "<circle clip-path=\"url(#clip372)\" cx=\"662.359\" cy=\"1445.72\" r=\"14\" fill=\"#009af9\" fill-rule=\"evenodd\" fill-opacity=\"1\" stroke=\"#000000\" stroke-opacity=\"1\" stroke-width=\"3.2\"/>\n",
       "<circle clip-path=\"url(#clip372)\" cx=\"866.021\" cy=\"1416.57\" r=\"14\" fill=\"#009af9\" fill-rule=\"evenodd\" fill-opacity=\"1\" stroke=\"#000000\" stroke-opacity=\"1\" stroke-width=\"3.2\"/>\n",
       "<circle clip-path=\"url(#clip372)\" cx=\"1069.68\" cy=\"1160.46\" r=\"14\" fill=\"#009af9\" fill-rule=\"evenodd\" fill-opacity=\"1\" stroke=\"#000000\" stroke-opacity=\"1\" stroke-width=\"3.2\"/>\n",
       "<circle clip-path=\"url(#clip372)\" cx=\"1273.35\" cy=\"766.846\" r=\"14\" fill=\"#009af9\" fill-rule=\"evenodd\" fill-opacity=\"1\" stroke=\"#000000\" stroke-opacity=\"1\" stroke-width=\"3.2\"/>\n",
       "<circle clip-path=\"url(#clip372)\" cx=\"1477.01\" cy=\"373.233\" r=\"14\" fill=\"#009af9\" fill-rule=\"evenodd\" fill-opacity=\"1\" stroke=\"#000000\" stroke-opacity=\"1\" stroke-width=\"3.2\"/>\n",
       "<circle clip-path=\"url(#clip372)\" cx=\"1680.67\" cy=\"117.121\" r=\"14\" fill=\"#009af9\" fill-rule=\"evenodd\" fill-opacity=\"1\" stroke=\"#000000\" stroke-opacity=\"1\" stroke-width=\"3.2\"/>\n",
       "<circle clip-path=\"url(#clip372)\" cx=\"1884.33\" cy=\"87.9763\" r=\"14\" fill=\"#009af9\" fill-rule=\"evenodd\" fill-opacity=\"1\" stroke=\"#000000\" stroke-opacity=\"1\" stroke-width=\"3.2\"/>\n",
       "<circle clip-path=\"url(#clip372)\" cx=\"2087.99\" cy=\"295.98\" r=\"14\" fill=\"#009af9\" fill-rule=\"evenodd\" fill-opacity=\"1\" stroke=\"#000000\" stroke-opacity=\"1\" stroke-width=\"3.2\"/>\n",
       "<circle clip-path=\"url(#clip372)\" cx=\"2291.66\" cy=\"668.471\" r=\"14\" fill=\"#009af9\" fill-rule=\"evenodd\" fill-opacity=\"1\" stroke=\"#000000\" stroke-opacity=\"1\" stroke-width=\"3.2\"/>\n",
       "<path clip-path=\"url(#clip370)\" d=\"\n",
       "M1988.5 198.898 L2280.8 198.898 L2280.8 95.2176 L1988.5 95.2176  Z\n",
       "  \" fill=\"#ffffff\" fill-rule=\"evenodd\" fill-opacity=\"1\"/>\n",
       "<polyline clip-path=\"url(#clip370)\" style=\"stroke:#000000; stroke-linecap:butt; stroke-linejoin:round; stroke-width:4; stroke-opacity:1; fill:none\" points=\"\n",
       "  1988.5,198.898 2280.8,198.898 2280.8,95.2176 1988.5,95.2176 1988.5,198.898 \n",
       "  \"/>\n",
       "<polyline clip-path=\"url(#clip370)\" style=\"stroke:#009af9; stroke-linecap:butt; stroke-linejoin:round; stroke-width:4; stroke-opacity:1; fill:none\" points=\"\n",
       "  2012.48,147.058 2156.4,147.058 \n",
       "  \"/>\n",
       "<circle clip-path=\"url(#clip370)\" cx=\"2084.44\" cy=\"147.058\" r=\"23\" fill=\"#009af9\" fill-rule=\"evenodd\" fill-opacity=\"1\" stroke=\"#000000\" stroke-opacity=\"1\" stroke-width=\"5.12\"/>\n",
       "<path clip-path=\"url(#clip370)\" d=\"M2194.23 166.745 Q2192.43 171.375 2190.72 172.787 Q2189 174.199 2186.13 174.199 L2182.73 174.199 L2182.73 170.634 L2185.23 170.634 Q2186.99 170.634 2187.96 169.8 Q2188.93 168.967 2190.11 165.865 L2190.88 163.921 L2180.39 138.412 L2184.91 138.412 L2193.01 158.689 L2201.11 138.412 L2205.62 138.412 L2194.23 166.745 Z\" fill=\"#000000\" fill-rule=\"evenodd\" fill-opacity=\"1\" /><path clip-path=\"url(#clip370)\" d=\"M2212.91 160.402 L2220.55 160.402 L2220.55 134.037 L2212.24 135.703 L2212.24 131.444 L2220.51 129.778 L2225.18 129.778 L2225.18 160.402 L2232.82 160.402 L2232.82 164.338 L2212.91 164.338 L2212.91 160.402 Z\" fill=\"#000000\" fill-rule=\"evenodd\" fill-opacity=\"1\" /></svg>\n"
      ]
     },
     "execution_count": 16,
     "metadata": {},
     "output_type": "execute_result"
    }
   ],
   "source": [
    "using Plots\n",
    "\n",
    "n = 11\n",
    "h = 6 / (n - 1)\n",
    "x = LinRange(-3, 3, n)\n",
    "u = sin.(x)\n",
    "\n",
    "plot(x, u, marker=:circle)"
   ]
  },
  {
   "cell_type": "code",
   "execution_count": 20,
   "id": "62753d85",
   "metadata": {
    "cell_style": "split"
   },
   "outputs": [
    {
     "data": {
      "image/svg+xml": [
       "<?xml version=\"1.0\" encoding=\"utf-8\"?>\n",
       "<svg xmlns=\"http://www.w3.org/2000/svg\" xmlns:xlink=\"http://www.w3.org/1999/xlink\" width=\"600\" height=\"400\" viewBox=\"0 0 2400 1600\">\n",
       "<defs>\n",
       "  <clipPath id=\"clip530\">\n",
       "    <rect x=\"0\" y=\"0\" width=\"2400\" height=\"1600\"/>\n",
       "  </clipPath>\n",
       "</defs>\n",
       "<path clip-path=\"url(#clip530)\" d=\"\n",
       "M0 1600 L2400 1600 L2400 0 L0 0  Z\n",
       "  \" fill=\"#ffffff\" fill-rule=\"evenodd\" fill-opacity=\"1\"/>\n",
       "<defs>\n",
       "  <clipPath id=\"clip531\">\n",
       "    <rect x=\"480\" y=\"0\" width=\"1681\" height=\"1600\"/>\n",
       "  </clipPath>\n",
       "</defs>\n",
       "<path clip-path=\"url(#clip530)\" d=\"\n",
       "M193.936 1486.45 L2352.76 1486.45 L2352.76 47.2441 L193.936 47.2441  Z\n",
       "  \" fill=\"#ffffff\" fill-rule=\"evenodd\" fill-opacity=\"1\"/>\n",
       "<defs>\n",
       "  <clipPath id=\"clip532\">\n",
       "    <rect x=\"193\" y=\"47\" width=\"2160\" height=\"1440\"/>\n",
       "  </clipPath>\n",
       "</defs>\n",
       "<polyline clip-path=\"url(#clip532)\" style=\"stroke:#000000; stroke-linecap:butt; stroke-linejoin:round; stroke-width:2; stroke-opacity:0.1; fill:none\" points=\"\n",
       "  255.035,1486.45 255.035,47.2441 \n",
       "  \"/>\n",
       "<polyline clip-path=\"url(#clip532)\" style=\"stroke:#000000; stroke-linecap:butt; stroke-linejoin:round; stroke-width:2; stroke-opacity:0.1; fill:none\" points=\"\n",
       "  594.472,1486.45 594.472,47.2441 \n",
       "  \"/>\n",
       "<polyline clip-path=\"url(#clip532)\" style=\"stroke:#000000; stroke-linecap:butt; stroke-linejoin:round; stroke-width:2; stroke-opacity:0.1; fill:none\" points=\"\n",
       "  933.909,1486.45 933.909,47.2441 \n",
       "  \"/>\n",
       "<polyline clip-path=\"url(#clip532)\" style=\"stroke:#000000; stroke-linecap:butt; stroke-linejoin:round; stroke-width:2; stroke-opacity:0.1; fill:none\" points=\"\n",
       "  1273.35,1486.45 1273.35,47.2441 \n",
       "  \"/>\n",
       "<polyline clip-path=\"url(#clip532)\" style=\"stroke:#000000; stroke-linecap:butt; stroke-linejoin:round; stroke-width:2; stroke-opacity:0.1; fill:none\" points=\"\n",
       "  1612.78,1486.45 1612.78,47.2441 \n",
       "  \"/>\n",
       "<polyline clip-path=\"url(#clip532)\" style=\"stroke:#000000; stroke-linecap:butt; stroke-linejoin:round; stroke-width:2; stroke-opacity:0.1; fill:none\" points=\"\n",
       "  1952.22,1486.45 1952.22,47.2441 \n",
       "  \"/>\n",
       "<polyline clip-path=\"url(#clip532)\" style=\"stroke:#000000; stroke-linecap:butt; stroke-linejoin:round; stroke-width:2; stroke-opacity:0.1; fill:none\" points=\"\n",
       "  2291.66,1486.45 2291.66,47.2441 \n",
       "  \"/>\n",
       "<polyline clip-path=\"url(#clip530)\" style=\"stroke:#000000; stroke-linecap:butt; stroke-linejoin:round; stroke-width:4; stroke-opacity:1; fill:none\" points=\"\n",
       "  193.936,1486.45 2352.76,1486.45 \n",
       "  \"/>\n",
       "<polyline clip-path=\"url(#clip530)\" style=\"stroke:#000000; stroke-linecap:butt; stroke-linejoin:round; stroke-width:4; stroke-opacity:1; fill:none\" points=\"\n",
       "  255.035,1486.45 255.035,1467.55 \n",
       "  \"/>\n",
       "<polyline clip-path=\"url(#clip530)\" style=\"stroke:#000000; stroke-linecap:butt; stroke-linejoin:round; stroke-width:4; stroke-opacity:1; fill:none\" points=\"\n",
       "  594.472,1486.45 594.472,1467.55 \n",
       "  \"/>\n",
       "<polyline clip-path=\"url(#clip530)\" style=\"stroke:#000000; stroke-linecap:butt; stroke-linejoin:round; stroke-width:4; stroke-opacity:1; fill:none\" points=\"\n",
       "  933.909,1486.45 933.909,1467.55 \n",
       "  \"/>\n",
       "<polyline clip-path=\"url(#clip530)\" style=\"stroke:#000000; stroke-linecap:butt; stroke-linejoin:round; stroke-width:4; stroke-opacity:1; fill:none\" points=\"\n",
       "  1273.35,1486.45 1273.35,1467.55 \n",
       "  \"/>\n",
       "<polyline clip-path=\"url(#clip530)\" style=\"stroke:#000000; stroke-linecap:butt; stroke-linejoin:round; stroke-width:4; stroke-opacity:1; fill:none\" points=\"\n",
       "  1612.78,1486.45 1612.78,1467.55 \n",
       "  \"/>\n",
       "<polyline clip-path=\"url(#clip530)\" style=\"stroke:#000000; stroke-linecap:butt; stroke-linejoin:round; stroke-width:4; stroke-opacity:1; fill:none\" points=\"\n",
       "  1952.22,1486.45 1952.22,1467.55 \n",
       "  \"/>\n",
       "<polyline clip-path=\"url(#clip530)\" style=\"stroke:#000000; stroke-linecap:butt; stroke-linejoin:round; stroke-width:4; stroke-opacity:1; fill:none\" points=\"\n",
       "  2291.66,1486.45 2291.66,1467.55 \n",
       "  \"/>\n",
       "<path clip-path=\"url(#clip530)\" d=\"M224.502 1530.29 L254.178 1530.29 L254.178 1534.23 L224.502 1534.23 L224.502 1530.29 Z\" fill=\"#000000\" fill-rule=\"evenodd\" fill-opacity=\"1\" /><path clip-path=\"url(#clip530)\" d=\"M278.437 1528.49 Q281.794 1529.2 283.669 1531.47 Q285.567 1533.74 285.567 1537.07 Q285.567 1542.19 282.048 1544.99 Q278.53 1547.79 272.048 1547.79 Q269.873 1547.79 267.558 1547.35 Q265.266 1546.93 262.812 1546.08 L262.812 1541.56 Q264.757 1542.7 267.072 1543.28 Q269.386 1543.86 271.91 1543.86 Q276.308 1543.86 278.599 1542.12 Q280.914 1540.38 280.914 1537.07 Q280.914 1534.02 278.761 1532.31 Q276.632 1530.57 272.812 1530.57 L268.785 1530.57 L268.785 1526.73 L272.998 1526.73 Q276.447 1526.73 278.275 1525.36 Q280.104 1523.97 280.104 1521.38 Q280.104 1518.72 278.206 1517.31 Q276.331 1515.87 272.812 1515.87 Q270.891 1515.87 268.692 1516.29 Q266.493 1516.7 263.854 1517.58 L263.854 1513.42 Q266.516 1512.68 268.831 1512.31 Q271.169 1511.93 273.229 1511.93 Q278.553 1511.93 281.655 1514.37 Q284.757 1516.77 284.757 1520.89 Q284.757 1523.76 283.113 1525.75 Q281.47 1527.72 278.437 1528.49 Z\" fill=\"#000000\" fill-rule=\"evenodd\" fill-opacity=\"1\" /><path clip-path=\"url(#clip530)\" d=\"M564.414 1530.29 L594.09 1530.29 L594.09 1534.23 L564.414 1534.23 L564.414 1530.29 Z\" fill=\"#000000\" fill-rule=\"evenodd\" fill-opacity=\"1\" /><path clip-path=\"url(#clip530)\" d=\"M608.21 1543.18 L624.529 1543.18 L624.529 1547.12 L602.585 1547.12 L602.585 1543.18 Q605.247 1540.43 609.83 1535.8 Q614.437 1531.15 615.617 1529.81 Q617.863 1527.28 618.742 1525.55 Q619.645 1523.79 619.645 1522.1 Q619.645 1519.34 617.701 1517.61 Q615.78 1515.87 612.678 1515.87 Q610.479 1515.87 608.025 1516.63 Q605.594 1517.4 602.817 1518.95 L602.817 1514.23 Q605.641 1513.09 608.094 1512.51 Q610.548 1511.93 612.585 1511.93 Q617.955 1511.93 621.15 1514.62 Q624.344 1517.31 624.344 1521.8 Q624.344 1523.93 623.534 1525.85 Q622.747 1527.74 620.641 1530.34 Q620.062 1531.01 616.96 1534.23 Q613.858 1537.42 608.21 1543.18 Z\" fill=\"#000000\" fill-rule=\"evenodd\" fill-opacity=\"1\" /><path clip-path=\"url(#clip530)\" d=\"M903.666 1530.29 L933.342 1530.29 L933.342 1534.23 L903.666 1534.23 L903.666 1530.29 Z\" fill=\"#000000\" fill-rule=\"evenodd\" fill-opacity=\"1\" /><path clip-path=\"url(#clip530)\" d=\"M944.244 1543.18 L951.883 1543.18 L951.883 1516.82 L943.573 1518.49 L943.573 1514.23 L951.837 1512.56 L956.513 1512.56 L956.513 1543.18 L964.152 1543.18 L964.152 1547.12 L944.244 1547.12 L944.244 1543.18 Z\" fill=\"#000000\" fill-rule=\"evenodd\" fill-opacity=\"1\" /><path clip-path=\"url(#clip530)\" d=\"M1273.35 1515.64 Q1269.73 1515.64 1267.91 1519.2 Q1266.1 1522.75 1266.1 1529.87 Q1266.1 1536.98 1267.91 1540.55 Q1269.73 1544.09 1273.35 1544.09 Q1276.98 1544.09 1278.79 1540.55 Q1280.61 1536.98 1280.61 1529.87 Q1280.61 1522.75 1278.79 1519.2 Q1276.98 1515.64 1273.35 1515.64 M1273.35 1511.93 Q1279.16 1511.93 1282.21 1516.54 Q1285.29 1521.12 1285.29 1529.87 Q1285.29 1538.6 1282.21 1543.21 Q1279.16 1547.79 1273.35 1547.79 Q1267.54 1547.79 1264.46 1543.21 Q1261.4 1538.6 1261.4 1529.87 Q1261.4 1521.12 1264.46 1516.54 Q1267.54 1511.93 1273.35 1511.93 Z\" fill=\"#000000\" fill-rule=\"evenodd\" fill-opacity=\"1\" /><path clip-path=\"url(#clip530)\" d=\"M1603.17 1543.18 L1610.8 1543.18 L1610.8 1516.82 L1602.49 1518.49 L1602.49 1514.23 L1610.76 1512.56 L1615.43 1512.56 L1615.43 1543.18 L1623.07 1543.18 L1623.07 1547.12 L1603.17 1547.12 L1603.17 1543.18 Z\" fill=\"#000000\" fill-rule=\"evenodd\" fill-opacity=\"1\" /><path clip-path=\"url(#clip530)\" d=\"M1946.87 1543.18 L1963.19 1543.18 L1963.19 1547.12 L1941.25 1547.12 L1941.25 1543.18 Q1943.91 1540.43 1948.49 1535.8 Q1953.1 1531.15 1954.28 1529.81 Q1956.53 1527.28 1957.41 1525.55 Q1958.31 1523.79 1958.31 1522.1 Q1958.31 1519.34 1956.36 1517.61 Q1954.44 1515.87 1951.34 1515.87 Q1949.14 1515.87 1946.69 1516.63 Q1944.26 1517.4 1941.48 1518.95 L1941.48 1514.23 Q1944.3 1513.09 1946.76 1512.51 Q1949.21 1511.93 1951.25 1511.93 Q1956.62 1511.93 1959.81 1514.62 Q1963.01 1517.31 1963.01 1521.8 Q1963.01 1523.93 1962.2 1525.85 Q1961.41 1527.74 1959.3 1530.34 Q1958.72 1531.01 1955.62 1534.23 Q1952.52 1537.42 1946.87 1543.18 Z\" fill=\"#000000\" fill-rule=\"evenodd\" fill-opacity=\"1\" /><path clip-path=\"url(#clip530)\" d=\"M2295.9 1528.49 Q2299.26 1529.2 2301.14 1531.47 Q2303.03 1533.74 2303.03 1537.07 Q2303.03 1542.19 2299.52 1544.99 Q2296 1547.79 2289.52 1547.79 Q2287.34 1547.79 2285.03 1547.35 Q2282.73 1546.93 2280.28 1546.08 L2280.28 1541.56 Q2282.22 1542.7 2284.54 1543.28 Q2286.85 1543.86 2289.38 1543.86 Q2293.78 1543.86 2296.07 1542.12 Q2298.38 1540.38 2298.38 1537.07 Q2298.38 1534.02 2296.23 1532.31 Q2294.1 1530.57 2290.28 1530.57 L2286.25 1530.57 L2286.25 1526.73 L2290.47 1526.73 Q2293.91 1526.73 2295.74 1525.36 Q2297.57 1523.97 2297.57 1521.38 Q2297.57 1518.72 2295.67 1517.31 Q2293.8 1515.87 2290.28 1515.87 Q2288.36 1515.87 2286.16 1516.29 Q2283.96 1516.7 2281.32 1517.58 L2281.32 1513.42 Q2283.98 1512.68 2286.3 1512.31 Q2288.64 1511.93 2290.7 1511.93 Q2296.02 1511.93 2299.12 1514.37 Q2302.22 1516.77 2302.22 1520.89 Q2302.22 1523.76 2300.58 1525.75 Q2298.94 1527.72 2295.9 1528.49 Z\" fill=\"#000000\" fill-rule=\"evenodd\" fill-opacity=\"1\" /><polyline clip-path=\"url(#clip532)\" style=\"stroke:#000000; stroke-linecap:butt; stroke-linejoin:round; stroke-width:2; stroke-opacity:0.1; fill:none\" points=\"\n",
       "  193.936,1452.54 2352.76,1452.54 \n",
       "  \"/>\n",
       "<polyline clip-path=\"url(#clip532)\" style=\"stroke:#000000; stroke-linecap:butt; stroke-linejoin:round; stroke-width:2; stroke-opacity:0.1; fill:none\" points=\"\n",
       "  193.936,1111.4 2352.76,1111.4 \n",
       "  \"/>\n",
       "<polyline clip-path=\"url(#clip532)\" style=\"stroke:#000000; stroke-linecap:butt; stroke-linejoin:round; stroke-width:2; stroke-opacity:0.1; fill:none\" points=\"\n",
       "  193.936,770.26 2352.76,770.26 \n",
       "  \"/>\n",
       "<polyline clip-path=\"url(#clip532)\" style=\"stroke:#000000; stroke-linecap:butt; stroke-linejoin:round; stroke-width:2; stroke-opacity:0.1; fill:none\" points=\"\n",
       "  193.936,429.118 2352.76,429.118 \n",
       "  \"/>\n",
       "<polyline clip-path=\"url(#clip532)\" style=\"stroke:#000000; stroke-linecap:butt; stroke-linejoin:round; stroke-width:2; stroke-opacity:0.1; fill:none\" points=\"\n",
       "  193.936,87.9763 2352.76,87.9763 \n",
       "  \"/>\n",
       "<polyline clip-path=\"url(#clip530)\" style=\"stroke:#000000; stroke-linecap:butt; stroke-linejoin:round; stroke-width:4; stroke-opacity:1; fill:none\" points=\"\n",
       "  193.936,1486.45 193.936,47.2441 \n",
       "  \"/>\n",
       "<polyline clip-path=\"url(#clip530)\" style=\"stroke:#000000; stroke-linecap:butt; stroke-linejoin:round; stroke-width:4; stroke-opacity:1; fill:none\" points=\"\n",
       "  193.936,1452.54 212.834,1452.54 \n",
       "  \"/>\n",
       "<polyline clip-path=\"url(#clip530)\" style=\"stroke:#000000; stroke-linecap:butt; stroke-linejoin:round; stroke-width:4; stroke-opacity:1; fill:none\" points=\"\n",
       "  193.936,1111.4 212.834,1111.4 \n",
       "  \"/>\n",
       "<polyline clip-path=\"url(#clip530)\" style=\"stroke:#000000; stroke-linecap:butt; stroke-linejoin:round; stroke-width:4; stroke-opacity:1; fill:none\" points=\"\n",
       "  193.936,770.26 212.834,770.26 \n",
       "  \"/>\n",
       "<polyline clip-path=\"url(#clip530)\" style=\"stroke:#000000; stroke-linecap:butt; stroke-linejoin:round; stroke-width:4; stroke-opacity:1; fill:none\" points=\"\n",
       "  193.936,429.118 212.834,429.118 \n",
       "  \"/>\n",
       "<polyline clip-path=\"url(#clip530)\" style=\"stroke:#000000; stroke-linecap:butt; stroke-linejoin:round; stroke-width:4; stroke-opacity:1; fill:none\" points=\"\n",
       "  193.936,87.9763 212.834,87.9763 \n",
       "  \"/>\n",
       "<path clip-path=\"url(#clip530)\" d=\"M50.9921 1453 L80.6679 1453 L80.6679 1456.93 L50.9921 1456.93 L50.9921 1453 Z\" fill=\"#000000\" fill-rule=\"evenodd\" fill-opacity=\"1\" /><path clip-path=\"url(#clip530)\" d=\"M91.5706 1465.89 L99.2095 1465.89 L99.2095 1439.52 L90.8993 1441.19 L90.8993 1436.93 L99.1632 1435.26 L103.839 1435.26 L103.839 1465.89 L111.478 1465.89 L111.478 1469.82 L91.5706 1469.82 L91.5706 1465.89 Z\" fill=\"#000000\" fill-rule=\"evenodd\" fill-opacity=\"1\" /><path clip-path=\"url(#clip530)\" d=\"M120.922 1463.94 L125.807 1463.94 L125.807 1469.82 L120.922 1469.82 L120.922 1463.94 Z\" fill=\"#000000\" fill-rule=\"evenodd\" fill-opacity=\"1\" /><path clip-path=\"url(#clip530)\" d=\"M145.992 1438.34 Q142.381 1438.34 140.552 1441.91 Q138.746 1445.45 138.746 1452.58 Q138.746 1459.68 140.552 1463.25 Q142.381 1466.79 145.992 1466.79 Q149.626 1466.79 151.431 1463.25 Q153.26 1459.68 153.26 1452.58 Q153.26 1445.45 151.431 1441.91 Q149.626 1438.34 145.992 1438.34 M145.992 1434.64 Q151.802 1434.64 154.857 1439.25 Q157.936 1443.83 157.936 1452.58 Q157.936 1461.31 154.857 1465.91 Q151.802 1470.49 145.992 1470.49 Q140.181 1470.49 137.103 1465.91 Q134.047 1461.31 134.047 1452.58 Q134.047 1443.83 137.103 1439.25 Q140.181 1434.64 145.992 1434.64 Z\" fill=\"#000000\" fill-rule=\"evenodd\" fill-opacity=\"1\" /><path clip-path=\"url(#clip530)\" d=\"M51.9875 1111.85 L81.6633 1111.85 L81.6633 1115.79 L51.9875 1115.79 L51.9875 1111.85 Z\" fill=\"#000000\" fill-rule=\"evenodd\" fill-opacity=\"1\" /><path clip-path=\"url(#clip530)\" d=\"M101.756 1097.2 Q98.1447 1097.2 96.316 1100.77 Q94.5104 1104.31 94.5104 1111.44 Q94.5104 1118.54 96.316 1122.11 Q98.1447 1125.65 101.756 1125.65 Q105.39 1125.65 107.196 1122.11 Q109.024 1118.54 109.024 1111.44 Q109.024 1104.31 107.196 1100.77 Q105.39 1097.2 101.756 1097.2 M101.756 1093.5 Q107.566 1093.5 110.621 1098.1 Q113.7 1102.69 113.7 1111.44 Q113.7 1120.16 110.621 1124.77 Q107.566 1129.35 101.756 1129.35 Q95.9456 1129.35 92.8669 1124.77 Q89.8114 1120.16 89.8114 1111.44 Q89.8114 1102.69 92.8669 1098.1 Q95.9456 1093.5 101.756 1093.5 Z\" fill=\"#000000\" fill-rule=\"evenodd\" fill-opacity=\"1\" /><path clip-path=\"url(#clip530)\" d=\"M121.918 1122.8 L126.802 1122.8 L126.802 1128.68 L121.918 1128.68 L121.918 1122.8 Z\" fill=\"#000000\" fill-rule=\"evenodd\" fill-opacity=\"1\" /><path clip-path=\"url(#clip530)\" d=\"M137.033 1094.12 L155.39 1094.12 L155.39 1098.06 L141.316 1098.06 L141.316 1106.53 Q142.334 1106.18 143.353 1106.02 Q144.371 1105.83 145.39 1105.83 Q151.177 1105.83 154.556 1109.01 Q157.936 1112.18 157.936 1117.59 Q157.936 1123.17 154.464 1126.27 Q150.992 1129.35 144.672 1129.35 Q142.496 1129.35 140.228 1128.98 Q137.982 1128.61 135.575 1127.87 L135.575 1123.17 Q137.658 1124.31 139.881 1124.86 Q142.103 1125.42 144.58 1125.42 Q148.584 1125.42 150.922 1123.31 Q153.26 1121.2 153.26 1117.59 Q153.26 1113.98 150.922 1111.88 Q148.584 1109.77 144.58 1109.77 Q142.705 1109.77 140.83 1110.19 Q138.978 1110.6 137.033 1111.48 L137.033 1094.12 Z\" fill=\"#000000\" fill-rule=\"evenodd\" fill-opacity=\"1\" /><path clip-path=\"url(#clip530)\" d=\"M100.76 756.059 Q97.1493 756.059 95.3206 759.623 Q93.515 763.165 93.515 770.295 Q93.515 777.401 95.3206 780.966 Q97.1493 784.508 100.76 784.508 Q104.395 784.508 106.2 780.966 Q108.029 777.401 108.029 770.295 Q108.029 763.165 106.2 759.623 Q104.395 756.059 100.76 756.059 M100.76 752.355 Q106.571 752.355 109.626 756.961 Q112.705 761.545 112.705 770.295 Q112.705 779.021 109.626 783.628 Q106.571 788.211 100.76 788.211 Q94.9502 788.211 91.8715 783.628 Q88.816 779.021 88.816 770.295 Q88.816 761.545 91.8715 756.961 Q94.9502 752.355 100.76 752.355 Z\" fill=\"#000000\" fill-rule=\"evenodd\" fill-opacity=\"1\" /><path clip-path=\"url(#clip530)\" d=\"M120.922 781.66 L125.807 781.66 L125.807 787.54 L120.922 787.54 L120.922 781.66 Z\" fill=\"#000000\" fill-rule=\"evenodd\" fill-opacity=\"1\" /><path clip-path=\"url(#clip530)\" d=\"M145.992 756.059 Q142.381 756.059 140.552 759.623 Q138.746 763.165 138.746 770.295 Q138.746 777.401 140.552 780.966 Q142.381 784.508 145.992 784.508 Q149.626 784.508 151.431 780.966 Q153.26 777.401 153.26 770.295 Q153.26 763.165 151.431 759.623 Q149.626 756.059 145.992 756.059 M145.992 752.355 Q151.802 752.355 154.857 756.961 Q157.936 761.545 157.936 770.295 Q157.936 779.021 154.857 783.628 Q151.802 788.211 145.992 788.211 Q140.181 788.211 137.103 783.628 Q134.047 779.021 134.047 770.295 Q134.047 761.545 137.103 756.961 Q140.181 752.355 145.992 752.355 Z\" fill=\"#000000\" fill-rule=\"evenodd\" fill-opacity=\"1\" /><path clip-path=\"url(#clip530)\" d=\"M101.756 414.917 Q98.1447 414.917 96.316 418.482 Q94.5104 422.023 94.5104 429.153 Q94.5104 436.259 96.316 439.824 Q98.1447 443.366 101.756 443.366 Q105.39 443.366 107.196 439.824 Q109.024 436.259 109.024 429.153 Q109.024 422.023 107.196 418.482 Q105.39 414.917 101.756 414.917 M101.756 411.213 Q107.566 411.213 110.621 415.82 Q113.7 420.403 113.7 429.153 Q113.7 437.88 110.621 442.486 Q107.566 447.069 101.756 447.069 Q95.9456 447.069 92.8669 442.486 Q89.8114 437.88 89.8114 429.153 Q89.8114 420.403 92.8669 415.82 Q95.9456 411.213 101.756 411.213 Z\" fill=\"#000000\" fill-rule=\"evenodd\" fill-opacity=\"1\" /><path clip-path=\"url(#clip530)\" d=\"M121.918 440.519 L126.802 440.519 L126.802 446.398 L121.918 446.398 L121.918 440.519 Z\" fill=\"#000000\" fill-rule=\"evenodd\" fill-opacity=\"1\" /><path clip-path=\"url(#clip530)\" d=\"M137.033 411.838 L155.39 411.838 L155.39 415.773 L141.316 415.773 L141.316 424.245 Q142.334 423.898 143.353 423.736 Q144.371 423.551 145.39 423.551 Q151.177 423.551 154.556 426.722 Q157.936 429.894 157.936 435.31 Q157.936 440.889 154.464 443.991 Q150.992 447.069 144.672 447.069 Q142.496 447.069 140.228 446.699 Q137.982 446.329 135.575 445.588 L135.575 440.889 Q137.658 442.023 139.881 442.579 Q142.103 443.134 144.58 443.134 Q148.584 443.134 150.922 441.028 Q153.26 438.921 153.26 435.31 Q153.26 431.699 150.922 429.593 Q148.584 427.486 144.58 427.486 Q142.705 427.486 140.83 427.903 Q138.978 428.32 137.033 429.199 L137.033 411.838 Z\" fill=\"#000000\" fill-rule=\"evenodd\" fill-opacity=\"1\" /><path clip-path=\"url(#clip530)\" d=\"M91.5706 101.321 L99.2095 101.321 L99.2095 74.9555 L90.8993 76.6222 L90.8993 72.3629 L99.1632 70.6963 L103.839 70.6963 L103.839 101.321 L111.478 101.321 L111.478 105.256 L91.5706 105.256 L91.5706 101.321 Z\" fill=\"#000000\" fill-rule=\"evenodd\" fill-opacity=\"1\" /><path clip-path=\"url(#clip530)\" d=\"M120.922 99.3767 L125.807 99.3767 L125.807 105.256 L120.922 105.256 L120.922 99.3767 Z\" fill=\"#000000\" fill-rule=\"evenodd\" fill-opacity=\"1\" /><path clip-path=\"url(#clip530)\" d=\"M145.992 73.775 Q142.381 73.775 140.552 77.3398 Q138.746 80.8814 138.746 88.011 Q138.746 95.1174 140.552 98.6822 Q142.381 102.224 145.992 102.224 Q149.626 102.224 151.431 98.6822 Q153.26 95.1174 153.26 88.011 Q153.26 80.8814 151.431 77.3398 Q149.626 73.775 145.992 73.775 M145.992 70.0713 Q151.802 70.0713 154.857 74.6777 Q157.936 79.261 157.936 88.011 Q157.936 96.7378 154.857 101.344 Q151.802 105.928 145.992 105.928 Q140.181 105.928 137.103 101.344 Q134.047 96.7378 134.047 88.011 Q134.047 79.261 137.103 74.6777 Q140.181 70.0713 145.992 70.0713 Z\" fill=\"#000000\" fill-rule=\"evenodd\" fill-opacity=\"1\" /><polyline clip-path=\"url(#clip532)\" style=\"stroke:#009af9; stroke-linecap:butt; stroke-linejoin:round; stroke-width:4; stroke-opacity:1; fill:none\" points=\"\n",
       "  255.035,1445.72 458.697,1273.37 662.359,925.276 866.021,523.029 1069.68,207.147 1273.35,87.9763 1477.01,207.147 1680.67,523.029 1884.33,925.276 2087.99,1273.37 \n",
       "  2291.66,1445.72 \n",
       "  \"/>\n",
       "<polyline clip-path=\"url(#clip532)\" style=\"stroke:#e26f46; stroke-linecap:butt; stroke-linejoin:round; stroke-width:4; stroke-opacity:1; fill:none\" points=\"\n",
       "  255.035,1377.88 458.697,1109.56 662.359,722.718 866.021,352.479 1069.68,128.183 1273.35,128.183 1477.01,352.479 1680.67,722.718 1884.33,1109.56 2087.99,1377.88 \n",
       "  \n",
       "  \"/>\n",
       "<circle clip-path=\"url(#clip532)\" cx=\"255.035\" cy=\"1377.88\" r=\"14\" fill=\"#e26f46\" fill-rule=\"evenodd\" fill-opacity=\"1\" stroke=\"#000000\" stroke-opacity=\"1\" stroke-width=\"3.2\"/>\n",
       "<circle clip-path=\"url(#clip532)\" cx=\"458.697\" cy=\"1109.56\" r=\"14\" fill=\"#e26f46\" fill-rule=\"evenodd\" fill-opacity=\"1\" stroke=\"#000000\" stroke-opacity=\"1\" stroke-width=\"3.2\"/>\n",
       "<circle clip-path=\"url(#clip532)\" cx=\"662.359\" cy=\"722.718\" r=\"14\" fill=\"#e26f46\" fill-rule=\"evenodd\" fill-opacity=\"1\" stroke=\"#000000\" stroke-opacity=\"1\" stroke-width=\"3.2\"/>\n",
       "<circle clip-path=\"url(#clip532)\" cx=\"866.021\" cy=\"352.479\" r=\"14\" fill=\"#e26f46\" fill-rule=\"evenodd\" fill-opacity=\"1\" stroke=\"#000000\" stroke-opacity=\"1\" stroke-width=\"3.2\"/>\n",
       "<circle clip-path=\"url(#clip532)\" cx=\"1069.68\" cy=\"128.183\" r=\"14\" fill=\"#e26f46\" fill-rule=\"evenodd\" fill-opacity=\"1\" stroke=\"#000000\" stroke-opacity=\"1\" stroke-width=\"3.2\"/>\n",
       "<circle clip-path=\"url(#clip532)\" cx=\"1273.35\" cy=\"128.183\" r=\"14\" fill=\"#e26f46\" fill-rule=\"evenodd\" fill-opacity=\"1\" stroke=\"#000000\" stroke-opacity=\"1\" stroke-width=\"3.2\"/>\n",
       "<circle clip-path=\"url(#clip532)\" cx=\"1477.01\" cy=\"352.479\" r=\"14\" fill=\"#e26f46\" fill-rule=\"evenodd\" fill-opacity=\"1\" stroke=\"#000000\" stroke-opacity=\"1\" stroke-width=\"3.2\"/>\n",
       "<circle clip-path=\"url(#clip532)\" cx=\"1680.67\" cy=\"722.718\" r=\"14\" fill=\"#e26f46\" fill-rule=\"evenodd\" fill-opacity=\"1\" stroke=\"#000000\" stroke-opacity=\"1\" stroke-width=\"3.2\"/>\n",
       "<circle clip-path=\"url(#clip532)\" cx=\"1884.33\" cy=\"1109.56\" r=\"14\" fill=\"#e26f46\" fill-rule=\"evenodd\" fill-opacity=\"1\" stroke=\"#000000\" stroke-opacity=\"1\" stroke-width=\"3.2\"/>\n",
       "<circle clip-path=\"url(#clip532)\" cx=\"2087.99\" cy=\"1377.88\" r=\"14\" fill=\"#e26f46\" fill-rule=\"evenodd\" fill-opacity=\"1\" stroke=\"#000000\" stroke-opacity=\"1\" stroke-width=\"3.2\"/>\n",
       "<path clip-path=\"url(#clip530)\" d=\"\n",
       "M1988.5 250.738 L2280.8 250.738 L2280.8 95.2176 L1988.5 95.2176  Z\n",
       "  \" fill=\"#ffffff\" fill-rule=\"evenodd\" fill-opacity=\"1\"/>\n",
       "<polyline clip-path=\"url(#clip530)\" style=\"stroke:#000000; stroke-linecap:butt; stroke-linejoin:round; stroke-width:4; stroke-opacity:1; fill:none\" points=\"\n",
       "  1988.5,250.738 2280.8,250.738 2280.8,95.2176 1988.5,95.2176 1988.5,250.738 \n",
       "  \"/>\n",
       "<polyline clip-path=\"url(#clip530)\" style=\"stroke:#009af9; stroke-linecap:butt; stroke-linejoin:round; stroke-width:4; stroke-opacity:1; fill:none\" points=\"\n",
       "  2012.48,147.058 2156.4,147.058 \n",
       "  \"/>\n",
       "<path clip-path=\"url(#clip530)\" d=\"M2194.23 166.745 Q2192.43 171.375 2190.72 172.787 Q2189 174.199 2186.13 174.199 L2182.73 174.199 L2182.73 170.634 L2185.23 170.634 Q2186.99 170.634 2187.96 169.8 Q2188.93 168.967 2190.11 165.865 L2190.88 163.921 L2180.39 138.412 L2184.91 138.412 L2193.01 158.689 L2201.11 138.412 L2205.62 138.412 L2194.23 166.745 Z\" fill=\"#000000\" fill-rule=\"evenodd\" fill-opacity=\"1\" /><path clip-path=\"url(#clip530)\" d=\"M2212.91 160.402 L2220.55 160.402 L2220.55 134.037 L2212.24 135.703 L2212.24 131.444 L2220.51 129.778 L2225.18 129.778 L2225.18 160.402 L2232.82 160.402 L2232.82 164.338 L2212.91 164.338 L2212.91 160.402 Z\" fill=\"#000000\" fill-rule=\"evenodd\" fill-opacity=\"1\" /><polyline clip-path=\"url(#clip530)\" style=\"stroke:#e26f46; stroke-linecap:butt; stroke-linejoin:round; stroke-width:4; stroke-opacity:1; fill:none\" points=\"\n",
       "  2012.48,198.898 2156.4,198.898 \n",
       "  \"/>\n",
       "<circle clip-path=\"url(#clip530)\" cx=\"2084.44\" cy=\"198.898\" r=\"23\" fill=\"#e26f46\" fill-rule=\"evenodd\" fill-opacity=\"1\" stroke=\"#000000\" stroke-opacity=\"1\" stroke-width=\"5.12\"/>\n",
       "<path clip-path=\"url(#clip530)\" d=\"M2194.23 218.585 Q2192.43 223.215 2190.72 224.627 Q2189 226.039 2186.13 226.039 L2182.73 226.039 L2182.73 222.474 L2185.23 222.474 Q2186.99 222.474 2187.96 221.64 Q2188.93 220.807 2190.11 217.705 L2190.88 215.761 L2180.39 190.252 L2184.91 190.252 L2193.01 210.529 L2201.11 190.252 L2205.62 190.252 L2194.23 218.585 Z\" fill=\"#000000\" fill-rule=\"evenodd\" fill-opacity=\"1\" /><path clip-path=\"url(#clip530)\" d=\"M2216.13 212.242 L2232.45 212.242 L2232.45 216.178 L2210.51 216.178 L2210.51 212.242 Q2213.17 209.488 2217.75 204.858 Q2222.36 200.205 2223.54 198.863 Q2225.78 196.34 2226.66 194.604 Q2227.57 192.844 2227.57 191.155 Q2227.57 188.4 2225.62 186.664 Q2223.7 184.928 2220.6 184.928 Q2218.4 184.928 2215.95 185.692 Q2213.52 186.455 2210.74 188.006 L2210.74 183.284 Q2213.56 182.15 2216.02 181.571 Q2218.47 180.993 2220.51 180.993 Q2225.88 180.993 2229.07 183.678 Q2232.27 186.363 2232.27 190.854 Q2232.27 192.983 2231.46 194.905 Q2230.67 196.803 2228.56 199.395 Q2227.98 200.067 2224.88 203.284 Q2221.78 206.479 2216.13 212.242 Z\" fill=\"#000000\" fill-rule=\"evenodd\" fill-opacity=\"1\" /></svg>\n"
      ]
     },
     "execution_count": 20,
     "metadata": {},
     "output_type": "execute_result"
    }
   ],
   "source": [
    "u_x = cos.(x)\n",
    "fd_u_x = (u[2:end] - u[1:end-1]) / h\n",
    "\n",
    "plot(x, u_x)\n",
    "plot!(x[1:end-1], fd_u_x, marker=:circle)"
   ]
  },
  {
   "cell_type": "markdown",
   "id": "e9bbb99e",
   "metadata": {
    "slideshow": {
     "slide_type": "slide"
    }
   },
   "source": [
    "# How accurate is it?\n",
    "\n",
    "Without loss of generality, we'll approximate $u'(x_i = 0)$, taking $h = x_{i+1} - x_i$.\n",
    "\n",
    "$$ u(x) = u(0) + u'(0)x + u''(0)x^2/2! + O(x^3)$$\n",
    "and substitute into the differencing formula\n",
    "$$ \\begin{split} u'(0) \\approx \\frac{u(h) - u(0)}{h} = h^{-1} \\Big( u(0) + u'(0) h + u''(0)h^2/2 + O(h^3) - u(0) \\Big) \\\\\n",
    "= u'(0) + u''(0)h/2 + O(h^2) . \\end{split}$$\n",
    "Evidently the error in this approximation is $u''(0)h/2 + O(h^2)$. We say this method is *first order accurate*."
   ]
  },
  {
   "cell_type": "markdown",
   "id": "3d1ef4b2",
   "metadata": {
    "cell_style": "center",
    "slideshow": {
     "slide_type": "slide"
    }
   },
   "source": [
    "# Activity on stability and accuracy computing derivatives"
   ]
  }
 ],
 "metadata": {
  "celltoolbar": "Slideshow",
  "kernelspec": {
   "display_name": "Julia 1.6.2",
   "language": "julia",
   "name": "julia-1.6"
  },
  "language_info": {
   "file_extension": ".jl",
   "mimetype": "application/julia",
   "name": "julia",
   "version": "1.6.2"
  },
  "rise": {
   "enable_chalkboard": true
  }
 },
 "nbformat": 4,
 "nbformat_minor": 5
}
