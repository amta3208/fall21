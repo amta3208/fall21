{
 "cells": [
  {
   "cell_type": "markdown",
   "id": "3dba1684",
   "metadata": {
    "cell_style": "center",
    "slideshow": {
     "slide_type": "slide"
    }
   },
   "source": [
    "# 2021-11-05 Galerkin methods\n",
    "\n",
    "## Last time\n",
    "\n",
    "* Project discussion\n",
    "* Weak forms\n",
    "\n",
    "## Today\n",
    "\n",
    "* Variational forms\n",
    "* Finite element definition\n",
    "* From prime to nodal bases\n",
    "* Galerkin method\n",
    "* Finite element assembly"
   ]
  },
  {
   "cell_type": "code",
   "execution_count": 1,
   "id": "a4a0cd41",
   "metadata": {
    "slideshow": {
     "slide_type": "skip"
    }
   },
   "outputs": [],
   "source": [
    "using Plots\n",
    "using LinearAlgebra"
   ]
  },
  {
   "cell_type": "markdown",
   "id": "9e6345d2",
   "metadata": {
    "slideshow": {
     "slide_type": "slide"
    }
   },
   "source": [
    "# Integration by parts"
   ]
  },
  {
   "cell_type": "markdown",
   "id": "bbe5e537",
   "metadata": {
    "cell_style": "split"
   },
   "source": [
    "## One dimension\n",
    "\n",
    "> it's the product rule backwards\n",
    "\n",
    "\\begin{align} \\int_a^b d(uv) &= \\int_a^b u dv + \\int_a^b v du \\\\\n",
    "(uv)_a^b &= \\int_a^b u dv + \\int_a^b v du \\\\\n",
    "\\int_a^b u dv &= (uv)_a^b - \\int_a^b v du\n",
    "\\end{align}\n",
    "\n",
    "> you can move the derivative to the other term; it'll cost you a minus sign and a boundary term"
   ]
  },
  {
   "cell_type": "markdown",
   "id": "d7914db8",
   "metadata": {
    "cell_style": "split"
   },
   "source": [
    "## Multiple dimensions\n",
    "\n",
    "\\begin{align}\n",
    "\\int_\\Omega v \\nabla\\cdot \\mathbf f = -\\int_\\Omega \\nabla v \\cdot \\mathbf f + \\int_{\\partial \\Omega} v \\mathbf f \\cdot \\mathbf n\n",
    "\\end{align}\n",
    "\n",
    "## Strong form\n",
    "\n",
    "$$ -\\nabla\\cdot(\\kappa \\nabla u) = 0 $$\n",
    "\n",
    "## Weak form\n",
    "* multiply by a test function and integrate by parts\n",
    "\n",
    "\\begin{align} -\\int_\\Omega v \\nabla\\cdot(\\kappa \\nabla u) = 0, \\forall v \\\\\n",
    "\\int_\\Omega \\nabla v \\cdot \\kappa \\nabla u - \\int_{\\partial\\Omega} v \\underbrace{\\kappa \\nabla u \\cdot \\mathbf n}_{\\text{boundary condition}} = 0\n",
    "\\end{align}"
   ]
  },
  {
   "cell_type": "markdown",
   "id": "fb46332f",
   "metadata": {
    "slideshow": {
     "slide_type": "slide"
    }
   },
   "source": [
    "# Variational: from minimization to weak forms"
   ]
  },
  {
   "cell_type": "markdown",
   "id": "e0ad5201",
   "metadata": {
    "cell_style": "split",
    "slideshow": {
     "slide_type": ""
    }
   },
   "source": [
    "## Minimization\n",
    "\n",
    "Find $u\\in \\mathcal V$ such that\n",
    "\n",
    "\\begin{align}\n",
    "u &= \\arg\\min \\int_\\Omega \\frac 1 p \\lVert \\nabla u \\rVert^p \\\\\n",
    "&= \\arg\\min \\int_\\Omega \\frac 1 p (\\nabla u \\cdot \\nabla u)^{p/2}\n",
    "\\end{align}"
   ]
  },
  {
   "cell_type": "markdown",
   "id": "3aa52752",
   "metadata": {
    "cell_style": "split"
   },
   "source": [
    "## Variations\n",
    "\n",
    "> If $f(x)$ is a minimum, then $df = f'(x) dx = 0$ for all $dx$.\n",
    "\n",
    "So if $u \\in \\mathcal V$ is a minimizer, then \n",
    "\\begin{align}\n",
    "\\int_\\Omega \\underbrace{\\lVert \\nabla u \\rVert^{p-2}}_{\\kappa(u)} \\nabla u \\cdot \\nabla du = 0\n",
    "\\end{align}\n",
    "for all $du \\in \\mathcal V$.\n",
    "\n",
    "* It's common to use $v$ in place of $du$.\n",
    "* Our discretization will reflect this structure\n",
    "\n",
    "$$ v_h^T F(u_h) \\sim \\int_\\Omega \\nabla v \\cdot \\kappa(u) \\cdot \\nabla u $$"
   ]
  },
  {
   "cell_type": "markdown",
   "id": "29cb62aa",
   "metadata": {
    "slideshow": {
     "slide_type": "slide"
    }
   },
   "source": [
    "# Finite elements"
   ]
  },
  {
   "cell_type": "markdown",
   "id": "6cfc0454",
   "metadata": {
    "cell_style": "split"
   },
   "source": [
    "## Problem statement\n",
    "\n",
    "Find $u \\in \\mathcal V$ such that\n",
    "\\begin{align} \\int_\\Omega \\nabla v \\cdot \\kappa \\nabla u - \\int_{\\partial\\Omega} v \\underbrace{\\kappa \\nabla u \\cdot \\mathbf n}_{\\text{boundary condition}} = 0, \\forall v \\in \\mathcal V\n",
    "\\end{align}\n",
    "\n",
    "### What do we need?\n",
    "* A way to integrate\n",
    "* A space $\\mathcal V$\n",
    "* Boundary conditions"
   ]
  },
  {
   "cell_type": "markdown",
   "id": "1e943f37",
   "metadata": {
    "cell_style": "split"
   },
   "source": [
    "## Ciarlet (1978) definition\n",
    "\n",
    "A **finite element** is a triple $(K, P, N)$ where\n",
    "* $K$ is a bounded domain with piecewise smooth boundary\n",
    "* $P = \\{p_j\\}_1^k$ is a finite-dimensional function space over $K$ (\"prime basis\")\n",
    "* $N = \\{n_i\\}_1^k$ is a basis for the dual space (\"nodes\")\n",
    "\n",
    "It is common for nodes to be pointwise evaluation\n",
    "$$ \\langle n_i, p_j \\rangle = p_j(x_i) $$"
   ]
  },
  {
   "cell_type": "markdown",
   "id": "fb99db5d",
   "metadata": {
    "slideshow": {
     "slide_type": "fragment"
    }
   },
   "source": [
    "### First: choose a single element $K = \\Omega$"
   ]
  },
  {
   "cell_type": "markdown",
   "id": "38257af1",
   "metadata": {
    "slideshow": {
     "slide_type": "slide"
    }
   },
   "source": [
    "# Quadrature\n",
    "\n",
    "Our elements will be a line segment and we'll define quadrature on the standard line segment, $\\hat K = (-1, 1)$. A quadrature is a set of points $q_i$ and weights $w_i$ such that\n",
    "$$ \\int_{-1}^1 f(x) \\approx \\sum_{i=1}^n w_i f(q_i) $$"
   ]
  },
  {
   "cell_type": "code",
   "execution_count": 44,
   "id": "6e50fea7",
   "metadata": {
    "cell_style": "split"
   },
   "outputs": [
    {
     "data": {
      "text/plain": [
       "plot_quad_accuracy (generic function with 1 method)"
      ]
     },
     "execution_count": 44,
     "metadata": {},
     "output_type": "execute_result"
    }
   ],
   "source": [
    "default(linewidth=4)\n",
    "function quad_trapezoid(n)\n",
    "    q = LinRange(-1, 1, n)\n",
    "    w = 2 * ones(n) / (n - 1)\n",
    "    w[[1,end]] ./= 2\n",
    "    q, w\n",
    "end\n",
    "\n",
    "function plot_quad_accuracy(f, F, quad)\n",
    "    ns = 2 .^ (2:7)\n",
    "    exact = F(1) - F(-1)\n",
    "    function err(n)\n",
    "        q, w = quad(n)\n",
    "        w' * f.(q) - exact\n",
    "    end\n",
    "    errors = [abs.(err(n)) for n in ns]\n",
    "    plot(ns, errors, marker=:auto, label=quad)\n",
    "    plot!(ns, ns.^(-2), xscale=:log10, yscale=:log10)    \n",
    "end"
   ]
  },
  {
   "cell_type": "code",
   "execution_count": 51,
   "id": "1f27cd15",
   "metadata": {
    "cell_style": "split"
   },
   "outputs": [
    {
     "data": {
      "image/svg+xml": [
       "<?xml version=\"1.0\" encoding=\"utf-8\"?>\n",
       "<svg xmlns=\"http://www.w3.org/2000/svg\" xmlns:xlink=\"http://www.w3.org/1999/xlink\" width=\"600\" height=\"400\" viewBox=\"0 0 2400 1600\">\n",
       "<defs>\n",
       "  <clipPath id=\"clip850\">\n",
       "    <rect x=\"0\" y=\"0\" width=\"2400\" height=\"1600\"/>\n",
       "  </clipPath>\n",
       "</defs>\n",
       "<path clip-path=\"url(#clip850)\" d=\"\n",
       "M0 1600 L2400 1600 L2400 0 L0 0  Z\n",
       "  \" fill=\"#ffffff\" fill-rule=\"evenodd\" fill-opacity=\"1\"/>\n",
       "<defs>\n",
       "  <clipPath id=\"clip851\">\n",
       "    <rect x=\"480\" y=\"0\" width=\"1681\" height=\"1600\"/>\n",
       "  </clipPath>\n",
       "</defs>\n",
       "<path clip-path=\"url(#clip850)\" d=\"\n",
       "M189.496 1474.16 L2352.76 1474.16 L2352.76 47.2441 L189.496 47.2441  Z\n",
       "  \" fill=\"#ffffff\" fill-rule=\"evenodd\" fill-opacity=\"1\"/>\n",
       "<defs>\n",
       "  <clipPath id=\"clip852\">\n",
       "    <rect x=\"189\" y=\"47\" width=\"2164\" height=\"1428\"/>\n",
       "  </clipPath>\n",
       "</defs>\n",
       "<polyline clip-path=\"url(#clip852)\" style=\"stroke:#000000; stroke-linecap:butt; stroke-linejoin:round; stroke-width:2; stroke-opacity:0.1; fill:none\" points=\"\n",
       "  790.281,1474.16 790.281,47.2441 \n",
       "  \"/>\n",
       "<polyline clip-path=\"url(#clip852)\" style=\"stroke:#000000; stroke-linecap:butt; stroke-linejoin:round; stroke-width:2; stroke-opacity:0.1; fill:none\" points=\"\n",
       "  2146.17,1474.16 2146.17,47.2441 \n",
       "  \"/>\n",
       "<polyline clip-path=\"url(#clip850)\" style=\"stroke:#000000; stroke-linecap:butt; stroke-linejoin:round; stroke-width:4; stroke-opacity:1; fill:none\" points=\"\n",
       "  189.496,1474.16 2352.76,1474.16 \n",
       "  \"/>\n",
       "<polyline clip-path=\"url(#clip850)\" style=\"stroke:#000000; stroke-linecap:butt; stroke-linejoin:round; stroke-width:4; stroke-opacity:1; fill:none\" points=\"\n",
       "  790.281,1474.16 790.281,1455.27 \n",
       "  \"/>\n",
       "<polyline clip-path=\"url(#clip850)\" style=\"stroke:#000000; stroke-linecap:butt; stroke-linejoin:round; stroke-width:4; stroke-opacity:1; fill:none\" points=\"\n",
       "  2146.17,1474.16 2146.17,1455.27 \n",
       "  \"/>\n",
       "<path clip-path=\"url(#clip850)\" d=\"M756.609 1552.44 L764.248 1552.44 L764.248 1526.07 L755.938 1527.74 L755.938 1523.48 L764.202 1521.81 L768.877 1521.81 L768.877 1552.44 L776.516 1552.44 L776.516 1556.37 L756.609 1556.37 L756.609 1552.44 Z\" fill=\"#000000\" fill-rule=\"evenodd\" fill-opacity=\"1\" /><path clip-path=\"url(#clip850)\" d=\"M795.961 1524.89 Q792.35 1524.89 790.521 1528.46 Q788.715 1532 788.715 1539.13 Q788.715 1546.23 790.521 1549.8 Q792.35 1553.34 795.961 1553.34 Q799.595 1553.34 801.4 1549.8 Q803.229 1546.23 803.229 1539.13 Q803.229 1532 801.4 1528.46 Q799.595 1524.89 795.961 1524.89 M795.961 1521.19 Q801.771 1521.19 804.826 1525.79 Q807.905 1530.38 807.905 1539.13 Q807.905 1547.85 804.826 1552.46 Q801.771 1557.04 795.961 1557.04 Q790.15 1557.04 787.072 1552.46 Q784.016 1547.85 784.016 1539.13 Q784.016 1530.38 787.072 1525.79 Q790.15 1521.19 795.961 1521.19 Z\" fill=\"#000000\" fill-rule=\"evenodd\" fill-opacity=\"1\" /><path clip-path=\"url(#clip850)\" d=\"M808.45 1525.76 L814.657 1525.76 L814.657 1504.34 L807.905 1505.7 L807.905 1502.24 L814.619 1500.88 L818.419 1500.88 L818.419 1525.76 L824.625 1525.76 L824.625 1528.96 L808.45 1528.96 L808.45 1525.76 Z\" fill=\"#000000\" fill-rule=\"evenodd\" fill-opacity=\"1\" /><path clip-path=\"url(#clip850)\" d=\"M2111.94 1552.44 L2119.58 1552.44 L2119.58 1526.07 L2111.27 1527.74 L2111.27 1523.48 L2119.53 1521.81 L2124.21 1521.81 L2124.21 1552.44 L2131.85 1552.44 L2131.85 1556.37 L2111.94 1556.37 L2111.94 1552.44 Z\" fill=\"#000000\" fill-rule=\"evenodd\" fill-opacity=\"1\" /><path clip-path=\"url(#clip850)\" d=\"M2151.29 1524.89 Q2147.68 1524.89 2145.85 1528.46 Q2144.05 1532 2144.05 1539.13 Q2144.05 1546.23 2145.85 1549.8 Q2147.68 1553.34 2151.29 1553.34 Q2154.93 1553.34 2156.73 1549.8 Q2158.56 1546.23 2158.56 1539.13 Q2158.56 1532 2156.73 1528.46 Q2154.93 1524.89 2151.29 1524.89 M2151.29 1521.19 Q2157.1 1521.19 2160.16 1525.79 Q2163.24 1530.38 2163.24 1539.13 Q2163.24 1547.85 2160.16 1552.46 Q2157.1 1557.04 2151.29 1557.04 Q2145.48 1557.04 2142.4 1552.46 Q2139.35 1547.85 2139.35 1539.13 Q2139.35 1530.38 2142.4 1525.79 Q2145.48 1521.19 2151.29 1521.19 Z\" fill=\"#000000\" fill-rule=\"evenodd\" fill-opacity=\"1\" /><path clip-path=\"url(#clip850)\" d=\"M2167.81 1525.76 L2181.07 1525.76 L2181.07 1528.96 L2163.24 1528.96 L2163.24 1525.76 Q2165.4 1523.53 2169.12 1519.76 Q2172.87 1515.98 2173.82 1514.89 Q2175.65 1512.84 2176.36 1511.43 Q2177.1 1510 2177.1 1508.63 Q2177.1 1506.39 2175.52 1504.98 Q2173.96 1503.57 2171.44 1503.57 Q2169.65 1503.57 2167.66 1504.19 Q2165.68 1504.81 2163.42 1506.07 L2163.42 1502.24 Q2165.72 1501.31 2167.71 1500.84 Q2169.71 1500.37 2171.36 1500.37 Q2175.72 1500.37 2178.32 1502.56 Q2180.92 1504.74 2180.92 1508.39 Q2180.92 1510.12 2180.26 1511.68 Q2179.62 1513.22 2177.91 1515.33 Q2177.44 1515.87 2174.92 1518.49 Q2172.4 1521.08 2167.81 1525.76 Z\" fill=\"#000000\" fill-rule=\"evenodd\" fill-opacity=\"1\" /><polyline clip-path=\"url(#clip852)\" style=\"stroke:#000000; stroke-linecap:butt; stroke-linejoin:round; stroke-width:2; stroke-opacity:0.1; fill:none\" points=\"\n",
       "  189.496,1359.05 2352.76,1359.05 \n",
       "  \"/>\n",
       "<polyline clip-path=\"url(#clip852)\" style=\"stroke:#000000; stroke-linecap:butt; stroke-linejoin:round; stroke-width:2; stroke-opacity:0.1; fill:none\" points=\"\n",
       "  189.496,661.962 2352.76,661.962 \n",
       "  \"/>\n",
       "<polyline clip-path=\"url(#clip850)\" style=\"stroke:#000000; stroke-linecap:butt; stroke-linejoin:round; stroke-width:4; stroke-opacity:1; fill:none\" points=\"\n",
       "  189.496,1474.16 189.496,47.2441 \n",
       "  \"/>\n",
       "<polyline clip-path=\"url(#clip850)\" style=\"stroke:#000000; stroke-linecap:butt; stroke-linejoin:round; stroke-width:4; stroke-opacity:1; fill:none\" points=\"\n",
       "  189.496,1359.05 208.394,1359.05 \n",
       "  \"/>\n",
       "<polyline clip-path=\"url(#clip850)\" style=\"stroke:#000000; stroke-linecap:butt; stroke-linejoin:round; stroke-width:4; stroke-opacity:1; fill:none\" points=\"\n",
       "  189.496,661.962 208.394,661.962 \n",
       "  \"/>\n",
       "<path clip-path=\"url(#clip850)\" d=\"M51.6634 1378.84 L59.3023 1378.84 L59.3023 1352.47 L50.9921 1354.14 L50.9921 1349.88 L59.256 1348.21 L63.9319 1348.21 L63.9319 1378.84 L71.5707 1378.84 L71.5707 1382.77 L51.6634 1382.77 L51.6634 1378.84 Z\" fill=\"#000000\" fill-rule=\"evenodd\" fill-opacity=\"1\" /><path clip-path=\"url(#clip850)\" d=\"M91.0151 1351.29 Q87.404 1351.29 85.5753 1354.86 Q83.7697 1358.4 83.7697 1365.53 Q83.7697 1372.63 85.5753 1376.2 Q87.404 1379.74 91.0151 1379.74 Q94.6493 1379.74 96.4548 1376.2 Q98.2835 1372.63 98.2835 1365.53 Q98.2835 1358.4 96.4548 1354.86 Q94.6493 1351.29 91.0151 1351.29 M91.0151 1347.59 Q96.8252 1347.59 99.8808 1352.19 Q102.959 1356.78 102.959 1365.53 Q102.959 1374.25 99.8808 1378.86 Q96.8252 1383.44 91.0151 1383.44 Q85.2049 1383.44 82.1262 1378.86 Q79.0707 1374.25 79.0707 1365.53 Q79.0707 1356.78 82.1262 1352.19 Q85.2049 1347.59 91.0151 1347.59 Z\" fill=\"#000000\" fill-rule=\"evenodd\" fill-opacity=\"1\" /><path clip-path=\"url(#clip850)\" d=\"M102.959 1341.69 L127.071 1341.69 L127.071 1344.89 L102.959 1344.89 L102.959 1341.69 Z\" fill=\"#000000\" fill-rule=\"evenodd\" fill-opacity=\"1\" /><path clip-path=\"url(#clip850)\" d=\"M145.71 1330.59 L136.118 1345.58 L145.71 1345.58 L145.71 1330.59 M144.713 1327.28 L149.49 1327.28 L149.49 1345.58 L153.496 1345.58 L153.496 1348.74 L149.49 1348.74 L149.49 1355.36 L145.71 1355.36 L145.71 1348.74 L133.033 1348.74 L133.033 1345.08 L144.713 1327.28 Z\" fill=\"#000000\" fill-rule=\"evenodd\" fill-opacity=\"1\" /><path clip-path=\"url(#clip850)\" d=\"M53.3561 681.754 L60.995 681.754 L60.995 655.389 L52.6848 657.056 L52.6848 652.796 L60.9487 651.13 L65.6246 651.13 L65.6246 681.754 L73.2634 681.754 L73.2634 685.69 L53.3561 685.69 L53.3561 681.754 Z\" fill=\"#000000\" fill-rule=\"evenodd\" fill-opacity=\"1\" /><path clip-path=\"url(#clip850)\" d=\"M92.7078 654.208 Q89.0967 654.208 87.268 657.773 Q85.4624 661.315 85.4624 668.444 Q85.4624 675.551 87.268 679.116 Q89.0967 682.657 92.7078 682.657 Q96.342 682.657 98.1475 679.116 Q99.9762 675.551 99.9762 668.444 Q99.9762 661.315 98.1475 657.773 Q96.342 654.208 92.7078 654.208 M92.7078 650.505 Q98.5179 650.505 101.573 655.111 Q104.652 659.694 104.652 668.444 Q104.652 677.171 101.573 681.778 Q98.5179 686.361 92.7078 686.361 Q86.8976 686.361 83.8189 681.778 Q80.7634 677.171 80.7634 668.444 Q80.7634 659.694 83.8189 655.111 Q86.8976 650.505 92.7078 650.505 Z\" fill=\"#000000\" fill-rule=\"evenodd\" fill-opacity=\"1\" /><path clip-path=\"url(#clip850)\" d=\"M104.652 644.606 L128.764 644.606 L128.764 647.803 L104.652 647.803 L104.652 644.606 Z\" fill=\"#000000\" fill-rule=\"evenodd\" fill-opacity=\"1\" /><path clip-path=\"url(#clip850)\" d=\"M140.236 655.082 L153.496 655.082 L153.496 658.279 L135.666 658.279 L135.666 655.082 Q137.829 652.844 141.553 649.082 Q145.296 645.302 146.255 644.211 Q148.079 642.161 148.794 640.75 Q149.527 639.321 149.527 637.948 Q149.527 635.71 147.948 634.299 Q146.387 632.889 143.866 632.889 Q142.08 632.889 140.086 633.509 Q138.111 634.13 135.854 635.39 L135.854 631.553 Q138.149 630.632 140.142 630.162 Q142.136 629.691 143.791 629.691 Q148.155 629.691 150.75 631.873 Q153.345 634.055 153.345 637.704 Q153.345 639.434 152.687 640.995 Q152.048 642.537 150.336 644.644 Q149.866 645.189 147.346 647.803 Q144.826 650.399 140.236 655.082 Z\" fill=\"#000000\" fill-rule=\"evenodd\" fill-opacity=\"1\" /><polyline clip-path=\"url(#clip852)\" style=\"stroke:#009af9; stroke-linecap:butt; stroke-linejoin:round; stroke-width:16; stroke-opacity:1; fill:none\" points=\"\n",
       "  250.72,87.6286 658.883,344.139 1067.04,574.869 1475.21,794.639 1883.37,1009.33 2291.53,1221.56 \n",
       "  \"/>\n",
       "<circle clip-path=\"url(#clip852)\" cx=\"250.72\" cy=\"87.6286\" r=\"14\" fill=\"#009af9\" fill-rule=\"evenodd\" fill-opacity=\"1\" stroke=\"#000000\" stroke-opacity=\"1\" stroke-width=\"3.2\"/>\n",
       "<circle clip-path=\"url(#clip852)\" cx=\"658.883\" cy=\"344.139\" r=\"14\" fill=\"#009af9\" fill-rule=\"evenodd\" fill-opacity=\"1\" stroke=\"#000000\" stroke-opacity=\"1\" stroke-width=\"3.2\"/>\n",
       "<circle clip-path=\"url(#clip852)\" cx=\"1067.04\" cy=\"574.869\" r=\"14\" fill=\"#009af9\" fill-rule=\"evenodd\" fill-opacity=\"1\" stroke=\"#000000\" stroke-opacity=\"1\" stroke-width=\"3.2\"/>\n",
       "<circle clip-path=\"url(#clip852)\" cx=\"1475.21\" cy=\"794.639\" r=\"14\" fill=\"#009af9\" fill-rule=\"evenodd\" fill-opacity=\"1\" stroke=\"#000000\" stroke-opacity=\"1\" stroke-width=\"3.2\"/>\n",
       "<circle clip-path=\"url(#clip852)\" cx=\"1883.37\" cy=\"1009.33\" r=\"14\" fill=\"#009af9\" fill-rule=\"evenodd\" fill-opacity=\"1\" stroke=\"#000000\" stroke-opacity=\"1\" stroke-width=\"3.2\"/>\n",
       "<circle clip-path=\"url(#clip852)\" cx=\"2291.53\" cy=\"1221.56\" r=\"14\" fill=\"#009af9\" fill-rule=\"evenodd\" fill-opacity=\"1\" stroke=\"#000000\" stroke-opacity=\"1\" stroke-width=\"3.2\"/>\n",
       "<polyline clip-path=\"url(#clip852)\" style=\"stroke:#e26f46; stroke-linecap:butt; stroke-linejoin:round; stroke-width:16; stroke-opacity:1; fill:none\" points=\"\n",
       "  250.72,384.565 658.883,594.408 1067.04,804.251 1475.21,1014.09 1883.37,1223.94 2291.53,1433.78 \n",
       "  \"/>\n",
       "<path clip-path=\"url(#clip850)\" d=\"\n",
       "M1680.68 250.328 L2280.65 250.328 L2280.65 94.8081 L1680.68 94.8081  Z\n",
       "  \" fill=\"#ffffff\" fill-rule=\"evenodd\" fill-opacity=\"1\"/>\n",
       "<polyline clip-path=\"url(#clip850)\" style=\"stroke:#000000; stroke-linecap:butt; stroke-linejoin:round; stroke-width:4; stroke-opacity:1; fill:none\" points=\"\n",
       "  1680.68,250.328 2280.65,250.328 2280.65,94.8081 1680.68,94.8081 1680.68,250.328 \n",
       "  \"/>\n",
       "<polyline clip-path=\"url(#clip850)\" style=\"stroke:#009af9; stroke-linecap:butt; stroke-linejoin:round; stroke-width:4; stroke-opacity:1; fill:none\" points=\"\n",
       "  1704.72,146.648 1848.93,146.648 \n",
       "  \"/>\n",
       "<circle clip-path=\"url(#clip850)\" cx=\"1776.83\" cy=\"146.648\" r=\"23\" fill=\"#009af9\" fill-rule=\"evenodd\" fill-opacity=\"1\" stroke=\"#000000\" stroke-opacity=\"1\" stroke-width=\"5.12\"/>\n",
       "<path clip-path=\"url(#clip850)\" d=\"M1877.37 150.988 Q1877.37 155.687 1879.29 158.373 Q1881.23 161.035 1884.61 161.035 Q1887.99 161.035 1889.94 158.373 Q1891.88 155.687 1891.88 150.988 Q1891.88 146.289 1889.94 143.627 Q1887.99 140.942 1884.61 140.942 Q1881.23 140.942 1879.29 143.627 Q1877.37 146.289 1877.37 150.988 M1891.88 160.039 Q1890.54 162.354 1888.48 163.488 Q1886.44 164.599 1883.57 164.599 Q1878.87 164.599 1875.91 160.849 Q1872.97 157.099 1872.97 150.988 Q1872.97 144.877 1875.91 141.127 Q1878.87 137.377 1883.57 137.377 Q1886.44 137.377 1888.48 138.512 Q1890.54 139.623 1891.88 141.937 L1891.88 138.002 L1896.14 138.002 L1896.14 173.789 L1891.88 173.789 L1891.88 160.039 Z\" fill=\"#000000\" fill-rule=\"evenodd\" fill-opacity=\"1\" /><path clip-path=\"url(#clip850)\" d=\"M1904.47 153.697 L1904.47 138.002 L1908.73 138.002 L1908.73 153.535 Q1908.73 157.215 1910.17 159.067 Q1911.6 160.896 1914.47 160.896 Q1917.92 160.896 1919.91 158.697 Q1921.93 156.498 1921.93 152.701 L1921.93 138.002 L1926.19 138.002 L1926.19 163.928 L1921.93 163.928 L1921.93 159.947 Q1920.38 162.308 1918.32 163.465 Q1916.28 164.599 1913.57 164.599 Q1909.1 164.599 1906.79 161.822 Q1904.47 159.044 1904.47 153.697 M1915.19 137.377 L1915.19 137.377 Z\" fill=\"#000000\" fill-rule=\"evenodd\" fill-opacity=\"1\" /><path clip-path=\"url(#clip850)\" d=\"M1946.74 150.896 Q1941.58 150.896 1939.59 152.076 Q1937.6 153.257 1937.6 156.104 Q1937.6 158.373 1939.08 159.715 Q1940.59 161.035 1943.16 161.035 Q1946.7 161.035 1948.83 158.535 Q1950.98 156.011 1950.98 151.845 L1950.98 150.896 L1946.74 150.896 M1955.24 149.137 L1955.24 163.928 L1950.98 163.928 L1950.98 159.993 Q1949.52 162.354 1947.34 163.488 Q1945.17 164.599 1942.02 164.599 Q1938.04 164.599 1935.68 162.377 Q1933.34 160.132 1933.34 156.382 Q1933.34 152.007 1936.26 149.785 Q1939.2 147.562 1945.01 147.562 L1950.98 147.562 L1950.98 147.146 Q1950.98 144.206 1949.03 142.609 Q1947.11 140.988 1943.62 140.988 Q1941.4 140.988 1939.29 141.521 Q1937.18 142.053 1935.24 143.118 L1935.24 139.183 Q1937.58 138.28 1939.78 137.84 Q1941.97 137.377 1944.06 137.377 Q1949.68 137.377 1952.46 140.294 Q1955.24 143.211 1955.24 149.137 Z\" fill=\"#000000\" fill-rule=\"evenodd\" fill-opacity=\"1\" /><path clip-path=\"url(#clip850)\" d=\"M1981.07 141.937 L1981.07 127.91 L1985.33 127.91 L1985.33 163.928 L1981.07 163.928 L1981.07 160.039 Q1979.73 162.354 1977.67 163.488 Q1975.63 164.599 1972.76 164.599 Q1968.06 164.599 1965.1 160.849 Q1962.16 157.099 1962.16 150.988 Q1962.16 144.877 1965.1 141.127 Q1968.06 137.377 1972.76 137.377 Q1975.63 137.377 1977.67 138.512 Q1979.73 139.623 1981.07 141.937 M1966.56 150.988 Q1966.56 155.687 1968.48 158.373 Q1970.42 161.035 1973.8 161.035 Q1977.18 161.035 1979.13 158.373 Q1981.07 155.687 1981.07 150.988 Q1981.07 146.289 1979.13 143.627 Q1977.18 140.942 1973.8 140.942 Q1970.42 140.942 1968.48 143.627 Q1966.56 146.289 1966.56 150.988 Z\" fill=\"#000000\" fill-rule=\"evenodd\" fill-opacity=\"1\" /><path clip-path=\"url(#clip850)\" d=\"M2013.8 171.798 L2013.8 175.109 L1989.17 175.109 L1989.17 171.798 L2013.8 171.798 Z\" fill=\"#000000\" fill-rule=\"evenodd\" fill-opacity=\"1\" /><path clip-path=\"url(#clip850)\" d=\"M2022.02 130.641 L2022.02 138.002 L2030.79 138.002 L2030.79 141.312 L2022.02 141.312 L2022.02 155.386 Q2022.02 158.558 2022.88 159.461 Q2023.76 160.363 2026.42 160.363 L2030.79 160.363 L2030.79 163.928 L2026.42 163.928 Q2021.49 163.928 2019.61 162.099 Q2017.74 160.248 2017.74 155.386 L2017.74 141.312 L2014.61 141.312 L2014.61 138.002 L2017.74 138.002 L2017.74 130.641 L2022.02 130.641 Z\" fill=\"#000000\" fill-rule=\"evenodd\" fill-opacity=\"1\" /><path clip-path=\"url(#clip850)\" d=\"M2051.42 141.984 Q2050.7 141.567 2049.84 141.382 Q2049.01 141.174 2047.99 141.174 Q2044.38 141.174 2042.44 143.535 Q2040.52 145.873 2040.52 150.271 L2040.52 163.928 L2036.23 163.928 L2036.23 138.002 L2040.52 138.002 L2040.52 142.03 Q2041.86 139.669 2044.01 138.535 Q2046.16 137.377 2049.24 137.377 Q2049.68 137.377 2050.21 137.447 Q2050.75 137.493 2051.4 137.609 L2051.42 141.984 Z\" fill=\"#000000\" fill-rule=\"evenodd\" fill-opacity=\"1\" /><path clip-path=\"url(#clip850)\" d=\"M2067.67 150.896 Q2062.51 150.896 2060.52 152.076 Q2058.52 153.257 2058.52 156.104 Q2058.52 158.373 2060.01 159.715 Q2061.51 161.035 2064.08 161.035 Q2067.62 161.035 2069.75 158.535 Q2071.9 156.011 2071.9 151.845 L2071.9 150.896 L2067.67 150.896 M2076.16 149.137 L2076.16 163.928 L2071.9 163.928 L2071.9 159.993 Q2070.45 162.354 2068.27 163.488 Q2066.09 164.599 2062.95 164.599 Q2058.96 164.599 2056.6 162.377 Q2054.27 160.132 2054.27 156.382 Q2054.27 152.007 2057.18 149.785 Q2060.12 147.562 2065.93 147.562 L2071.9 147.562 L2071.9 147.146 Q2071.9 144.206 2069.96 142.609 Q2068.04 140.988 2064.54 140.988 Q2062.32 140.988 2060.21 141.521 Q2058.11 142.053 2056.16 143.118 L2056.16 139.183 Q2058.5 138.28 2060.7 137.84 Q2062.9 137.377 2064.98 137.377 Q2070.61 137.377 2073.39 140.294 Q2076.16 143.211 2076.16 149.137 Z\" fill=\"#000000\" fill-rule=\"evenodd\" fill-opacity=\"1\" /><path clip-path=\"url(#clip850)\" d=\"M2089.06 160.039 L2089.06 173.789 L2084.77 173.789 L2084.77 138.002 L2089.06 138.002 L2089.06 141.937 Q2090.4 139.623 2092.44 138.512 Q2094.5 137.377 2097.34 137.377 Q2102.07 137.377 2105.01 141.127 Q2107.97 144.877 2107.97 150.988 Q2107.97 157.099 2105.01 160.849 Q2102.07 164.599 2097.34 164.599 Q2094.5 164.599 2092.44 163.488 Q2090.4 162.354 2089.06 160.039 M2103.55 150.988 Q2103.55 146.289 2101.6 143.627 Q2099.68 140.942 2096.3 140.942 Q2092.92 140.942 2090.98 143.627 Q2089.06 146.289 2089.06 150.988 Q2089.06 155.687 2090.98 158.373 Q2092.92 161.035 2096.3 161.035 Q2099.68 161.035 2101.6 158.373 Q2103.55 155.687 2103.55 150.988 Z\" fill=\"#000000\" fill-rule=\"evenodd\" fill-opacity=\"1\" /><path clip-path=\"url(#clip850)\" d=\"M2137.2 149.9 L2137.2 151.984 L2117.62 151.984 Q2117.9 156.382 2120.26 158.697 Q2122.64 160.988 2126.88 160.988 Q2129.33 160.988 2131.63 160.386 Q2133.94 159.785 2136.21 158.581 L2136.21 162.609 Q2133.92 163.581 2131.51 164.09 Q2129.1 164.599 2126.63 164.599 Q2120.42 164.599 2116.79 160.988 Q2113.18 157.377 2113.18 151.22 Q2113.18 144.854 2116.6 141.127 Q2120.05 137.377 2125.89 137.377 Q2131.12 137.377 2134.15 140.757 Q2137.2 144.113 2137.2 149.9 M2132.95 148.65 Q2132.9 145.155 2130.98 143.072 Q2129.08 140.988 2125.93 140.988 Q2122.37 140.988 2120.21 143.002 Q2118.08 145.016 2117.76 148.674 L2132.95 148.65 Z\" fill=\"#000000\" fill-rule=\"evenodd\" fill-opacity=\"1\" /><path clip-path=\"url(#clip850)\" d=\"M2142.34 138.002 L2162.58 138.002 L2162.58 141.891 L2146.56 160.525 L2162.58 160.525 L2162.58 163.928 L2141.77 163.928 L2141.77 160.039 L2157.78 141.405 L2142.34 141.405 L2142.34 138.002 Z\" fill=\"#000000\" fill-rule=\"evenodd\" fill-opacity=\"1\" /><path clip-path=\"url(#clip850)\" d=\"M2179.13 140.988 Q2175.7 140.988 2173.71 143.674 Q2171.72 146.336 2171.72 150.988 Q2171.72 155.641 2173.69 158.326 Q2175.68 160.988 2179.13 160.988 Q2182.53 160.988 2184.52 158.303 Q2186.51 155.618 2186.51 150.988 Q2186.51 146.382 2184.52 143.697 Q2182.53 140.988 2179.13 140.988 M2179.13 137.377 Q2184.68 137.377 2187.85 140.988 Q2191.02 144.6 2191.02 150.988 Q2191.02 157.354 2187.85 160.988 Q2184.68 164.599 2179.13 164.599 Q2173.55 164.599 2170.38 160.988 Q2167.23 157.354 2167.23 150.988 Q2167.23 144.6 2170.38 140.988 Q2173.55 137.377 2179.13 137.377 Z\" fill=\"#000000\" fill-rule=\"evenodd\" fill-opacity=\"1\" /><path clip-path=\"url(#clip850)\" d=\"M2198.08 138.002 L2202.34 138.002 L2202.34 163.928 L2198.08 163.928 L2198.08 138.002 M2198.08 127.91 L2202.34 127.91 L2202.34 133.303 L2198.08 133.303 L2198.08 127.91 Z\" fill=\"#000000\" fill-rule=\"evenodd\" fill-opacity=\"1\" /><path clip-path=\"url(#clip850)\" d=\"M2228.32 141.937 L2228.32 127.91 L2232.57 127.91 L2232.57 163.928 L2228.32 163.928 L2228.32 160.039 Q2226.97 162.354 2224.91 163.488 Q2222.88 164.599 2220.01 164.599 Q2215.31 164.599 2212.34 160.849 Q2209.4 157.099 2209.4 150.988 Q2209.4 144.877 2212.34 141.127 Q2215.31 137.377 2220.01 137.377 Q2222.88 137.377 2224.91 138.512 Q2226.97 139.623 2228.32 141.937 M2213.8 150.988 Q2213.8 155.687 2215.72 158.373 Q2217.67 161.035 2221.05 161.035 Q2224.43 161.035 2226.37 158.373 Q2228.32 155.687 2228.32 150.988 Q2228.32 146.289 2226.37 143.627 Q2224.43 140.942 2221.05 140.942 Q2217.67 140.942 2215.72 143.627 Q2213.8 146.289 2213.8 150.988 Z\" fill=\"#000000\" fill-rule=\"evenodd\" fill-opacity=\"1\" /><polyline clip-path=\"url(#clip850)\" style=\"stroke:#e26f46; stroke-linecap:butt; stroke-linejoin:round; stroke-width:4; stroke-opacity:1; fill:none\" points=\"\n",
       "  1704.72,198.488 1848.93,198.488 \n",
       "  \"/>\n",
       "<path clip-path=\"url(#clip850)\" d=\"M1886.81 218.176 Q1885.01 222.805 1883.29 224.217 Q1881.58 225.629 1878.71 225.629 L1875.31 225.629 L1875.31 222.064 L1877.81 222.064 Q1879.57 222.064 1880.54 221.231 Q1881.51 220.398 1882.69 217.296 L1883.46 215.351 L1872.97 189.842 L1877.48 189.842 L1885.59 210.12 L1893.69 189.842 L1898.2 189.842 L1886.81 218.176 Z\" fill=\"#000000\" fill-rule=\"evenodd\" fill-opacity=\"1\" /><path clip-path=\"url(#clip850)\" d=\"M1908.71 211.833 L1925.03 211.833 L1925.03 215.768 L1903.09 215.768 L1903.09 211.833 Q1905.75 209.078 1910.33 204.449 Q1914.94 199.796 1916.12 198.453 Q1918.36 195.93 1919.24 194.194 Q1920.15 192.435 1920.15 190.745 Q1920.15 187.99 1918.2 186.254 Q1916.28 184.518 1913.18 184.518 Q1910.98 184.518 1908.53 185.282 Q1906.1 186.046 1903.32 187.597 L1903.32 182.875 Q1906.14 181.741 1908.6 181.162 Q1911.05 180.583 1913.09 180.583 Q1918.46 180.583 1921.65 183.268 Q1924.84 185.953 1924.84 190.444 Q1924.84 192.574 1924.03 194.495 Q1923.25 196.393 1921.14 198.986 Q1920.56 199.657 1917.46 202.875 Q1914.36 206.069 1908.71 211.833 Z\" fill=\"#000000\" fill-rule=\"evenodd\" fill-opacity=\"1\" /></svg>\n"
      ]
     },
     "execution_count": 51,
     "metadata": {},
     "output_type": "execute_result"
    }
   ],
   "source": [
    "plot_quad_accuracy(exp, exp, quad_trapezoid)\n",
    "plot_quad_accuracy(x -> 3*x^2, x -> x^3, quad_trapezoid)"
   ]
  },
  {
   "cell_type": "markdown",
   "id": "40d1d454",
   "metadata": {
    "slideshow": {
     "slide_type": "slide"
    }
   },
   "source": [
    "# Integration via polynomial interpolation\n",
    "\n",
    "* Pick some points $x_i$\n",
    "* Evaluate the function there $f_i = f(x_i)$\n",
    "* Find the polynomial that interpolates the data\n",
    "* Integrate the polynomial\n",
    "\n",
    "## What order of accuracy can we expect?\n",
    "* What degree polynomials can be integrate exactly?"
   ]
  },
  {
   "cell_type": "markdown",
   "id": "604bdba2",
   "metadata": {
    "cell_style": "center",
    "slideshow": {
     "slide_type": "slide"
    }
   },
   "source": [
    "# Doing better: Gauss quadrature\n",
    "\n",
    "Suppose a polynomial on the interval $[-1,1]$ can be written as\n",
    "\n",
    "$$ P_n(x) q(x) + r(x) $$\n",
    "\n",
    "where $P_n(x)$ is the $n$th Legendre polnomials and both $q(x)$ and $r(x)$ are polynomials of maximum degree $n-1$.\n",
    "\n",
    "* Why is $\\int_{-1}^1 P_n(x) q(x) = 0$?\n",
    "* Can every polynomials of degree $2n-1$ be written in the above form?\n",
    "* How many roots does $P_n(x)$ have on the interval?\n",
    "* Can we choose points $\\{x_i\\}$ such that the first term is 0?\n",
    "\n",
    "If $P_n(x_i) = 0$ for each $x_i$, then we need only integrate $r(x)$, which is done exactly by integrating its interpolating polynomial.  How do we find these roots $x_i$?"
   ]
  },
  {
   "cell_type": "markdown",
   "id": "3d223ce1",
   "metadata": {
    "slideshow": {
     "slide_type": "slide"
    }
   },
   "source": [
    "# Gauss-Legendre in code\n",
    "\n",
    "1. Solve for the points, compute the weights\n",
    "  * Use a Newton solver to find the roots. You can use the recurrence to write a recurrence for the derivatives.\n",
    "  * Create a Vandermonde matrix and extract the first row of the inverse or (using more structure) the derivatives at the quadrature points.\n",
    "2. Use duality of polynomial roots and matrix eigenvalues.\n",
    "  * A fascinating mathematical voyage (topic of graduate linear algebra class)."
   ]
  },
  {
   "cell_type": "code",
   "execution_count": 52,
   "id": "44670972",
   "metadata": {
    "cell_style": "split"
   },
   "outputs": [
    {
     "data": {
      "text/plain": [
       "gauss_legendre (generic function with 1 method)"
      ]
     },
     "execution_count": 52,
     "metadata": {},
     "output_type": "execute_result"
    }
   ],
   "source": [
    "function gauss_legendre(n)\n",
    "    \"\"\"Gauss-Legendre integration using Golub-Welsch algorithm\"\"\"\n",
    "    beta = @. .5 / sqrt(1 - (2 * (1:n-1))^(-2))\n",
    "    T = diagm(-1 => beta, 1 => beta)\n",
    "    D, V = eigen(T)\n",
    "    w = V[1,:].^2 * 2\n",
    "    q = D\n",
    "    q, w\n",
    "end"
   ]
  },
  {
   "cell_type": "code",
   "execution_count": 54,
   "id": "44c65afc",
   "metadata": {
    "cell_style": "split"
   },
   "outputs": [
    {
     "data": {
      "image/svg+xml": [
       "<?xml version=\"1.0\" encoding=\"utf-8\"?>\n",
       "<svg xmlns=\"http://www.w3.org/2000/svg\" xmlns:xlink=\"http://www.w3.org/1999/xlink\" width=\"600\" height=\"400\" viewBox=\"0 0 2400 1600\">\n",
       "<defs>\n",
       "  <clipPath id=\"clip930\">\n",
       "    <rect x=\"0\" y=\"0\" width=\"2400\" height=\"1600\"/>\n",
       "  </clipPath>\n",
       "</defs>\n",
       "<path clip-path=\"url(#clip930)\" d=\"\n",
       "M0 1600 L2400 1600 L2400 0 L0 0  Z\n",
       "  \" fill=\"#ffffff\" fill-rule=\"evenodd\" fill-opacity=\"1\"/>\n",
       "<defs>\n",
       "  <clipPath id=\"clip931\">\n",
       "    <rect x=\"480\" y=\"0\" width=\"1681\" height=\"1600\"/>\n",
       "  </clipPath>\n",
       "</defs>\n",
       "<path clip-path=\"url(#clip930)\" d=\"\n",
       "M213.607 1474.16 L2352.76 1474.16 L2352.76 47.2441 L213.607 47.2441  Z\n",
       "  \" fill=\"#ffffff\" fill-rule=\"evenodd\" fill-opacity=\"1\"/>\n",
       "<defs>\n",
       "  <clipPath id=\"clip932\">\n",
       "    <rect x=\"213\" y=\"47\" width=\"2140\" height=\"1428\"/>\n",
       "  </clipPath>\n",
       "</defs>\n",
       "<polyline clip-path=\"url(#clip932)\" style=\"stroke:#000000; stroke-linecap:butt; stroke-linejoin:round; stroke-width:2; stroke-opacity:0.1; fill:none\" points=\"\n",
       "  807.697,1474.16 807.697,47.2441 \n",
       "  \"/>\n",
       "<polyline clip-path=\"url(#clip932)\" style=\"stroke:#000000; stroke-linecap:butt; stroke-linejoin:round; stroke-width:2; stroke-opacity:0.1; fill:none\" points=\"\n",
       "  2148.47,1474.16 2148.47,47.2441 \n",
       "  \"/>\n",
       "<polyline clip-path=\"url(#clip930)\" style=\"stroke:#000000; stroke-linecap:butt; stroke-linejoin:round; stroke-width:4; stroke-opacity:1; fill:none\" points=\"\n",
       "  213.607,1474.16 2352.76,1474.16 \n",
       "  \"/>\n",
       "<polyline clip-path=\"url(#clip930)\" style=\"stroke:#000000; stroke-linecap:butt; stroke-linejoin:round; stroke-width:4; stroke-opacity:1; fill:none\" points=\"\n",
       "  807.697,1474.16 807.697,1455.27 \n",
       "  \"/>\n",
       "<polyline clip-path=\"url(#clip930)\" style=\"stroke:#000000; stroke-linecap:butt; stroke-linejoin:round; stroke-width:4; stroke-opacity:1; fill:none\" points=\"\n",
       "  2148.47,1474.16 2148.47,1455.27 \n",
       "  \"/>\n",
       "<path clip-path=\"url(#clip930)\" d=\"M774.024 1552.44 L781.663 1552.44 L781.663 1526.07 L773.353 1527.74 L773.353 1523.48 L781.617 1521.81 L786.293 1521.81 L786.293 1552.44 L793.932 1552.44 L793.932 1556.37 L774.024 1556.37 L774.024 1552.44 Z\" fill=\"#000000\" fill-rule=\"evenodd\" fill-opacity=\"1\" /><path clip-path=\"url(#clip930)\" d=\"M813.376 1524.89 Q809.765 1524.89 807.936 1528.46 Q806.131 1532 806.131 1539.13 Q806.131 1546.23 807.936 1549.8 Q809.765 1553.34 813.376 1553.34 Q817.01 1553.34 818.816 1549.8 Q820.644 1546.23 820.644 1539.13 Q820.644 1532 818.816 1528.46 Q817.01 1524.89 813.376 1524.89 M813.376 1521.19 Q819.186 1521.19 822.242 1525.79 Q825.32 1530.38 825.32 1539.13 Q825.32 1547.85 822.242 1552.46 Q819.186 1557.04 813.376 1557.04 Q807.566 1557.04 804.487 1552.46 Q801.432 1547.85 801.432 1539.13 Q801.432 1530.38 804.487 1525.79 Q807.566 1521.19 813.376 1521.19 Z\" fill=\"#000000\" fill-rule=\"evenodd\" fill-opacity=\"1\" /><path clip-path=\"url(#clip930)\" d=\"M825.866 1525.76 L832.072 1525.76 L832.072 1504.34 L825.32 1505.7 L825.32 1502.24 L832.035 1500.88 L835.834 1500.88 L835.834 1525.76 L842.04 1525.76 L842.04 1528.96 L825.866 1528.96 L825.866 1525.76 Z\" fill=\"#000000\" fill-rule=\"evenodd\" fill-opacity=\"1\" /><path clip-path=\"url(#clip930)\" d=\"M2114.24 1552.44 L2121.88 1552.44 L2121.88 1526.07 L2113.57 1527.74 L2113.57 1523.48 L2121.84 1521.81 L2126.51 1521.81 L2126.51 1552.44 L2134.15 1552.44 L2134.15 1556.37 L2114.24 1556.37 L2114.24 1552.44 Z\" fill=\"#000000\" fill-rule=\"evenodd\" fill-opacity=\"1\" /><path clip-path=\"url(#clip930)\" d=\"M2153.59 1524.89 Q2149.98 1524.89 2148.15 1528.46 Q2146.35 1532 2146.35 1539.13 Q2146.35 1546.23 2148.15 1549.8 Q2149.98 1553.34 2153.59 1553.34 Q2157.23 1553.34 2159.03 1549.8 Q2160.86 1546.23 2160.86 1539.13 Q2160.86 1532 2159.03 1528.46 Q2157.23 1524.89 2153.59 1524.89 M2153.59 1521.19 Q2159.4 1521.19 2162.46 1525.79 Q2165.54 1530.38 2165.54 1539.13 Q2165.54 1547.85 2162.46 1552.46 Q2159.4 1557.04 2153.59 1557.04 Q2147.78 1557.04 2144.71 1552.46 Q2141.65 1547.85 2141.65 1539.13 Q2141.65 1530.38 2144.71 1525.79 Q2147.78 1521.19 2153.59 1521.19 Z\" fill=\"#000000\" fill-rule=\"evenodd\" fill-opacity=\"1\" /><path clip-path=\"url(#clip930)\" d=\"M2170.11 1525.76 L2183.37 1525.76 L2183.37 1528.96 L2165.54 1528.96 L2165.54 1525.76 Q2167.7 1523.53 2171.43 1519.76 Q2175.17 1515.98 2176.13 1514.89 Q2177.95 1512.84 2178.67 1511.43 Q2179.4 1510 2179.4 1508.63 Q2179.4 1506.39 2177.82 1504.98 Q2176.26 1503.57 2173.74 1503.57 Q2171.95 1503.57 2169.96 1504.19 Q2167.98 1504.81 2165.73 1506.07 L2165.73 1502.24 Q2168.02 1501.31 2170.01 1500.84 Q2172.01 1500.37 2173.66 1500.37 Q2178.03 1500.37 2180.62 1502.56 Q2183.22 1504.74 2183.22 1508.39 Q2183.22 1510.12 2182.56 1511.68 Q2181.92 1513.22 2180.21 1515.33 Q2179.74 1515.87 2177.22 1518.49 Q2174.7 1521.08 2170.11 1525.76 Z\" fill=\"#000000\" fill-rule=\"evenodd\" fill-opacity=\"1\" /><polyline clip-path=\"url(#clip932)\" style=\"stroke:#000000; stroke-linecap:butt; stroke-linejoin:round; stroke-width:2; stroke-opacity:0.1; fill:none\" points=\"\n",
       "  213.607,1012.14 2352.76,1012.14 \n",
       "  \"/>\n",
       "<polyline clip-path=\"url(#clip932)\" style=\"stroke:#000000; stroke-linecap:butt; stroke-linejoin:round; stroke-width:2; stroke-opacity:0.1; fill:none\" points=\"\n",
       "  213.607,523.12 2352.76,523.12 \n",
       "  \"/>\n",
       "<polyline clip-path=\"url(#clip930)\" style=\"stroke:#000000; stroke-linecap:butt; stroke-linejoin:round; stroke-width:4; stroke-opacity:1; fill:none\" points=\"\n",
       "  213.607,1474.16 213.607,47.2441 \n",
       "  \"/>\n",
       "<polyline clip-path=\"url(#clip930)\" style=\"stroke:#000000; stroke-linecap:butt; stroke-linejoin:round; stroke-width:4; stroke-opacity:1; fill:none\" points=\"\n",
       "  213.607,1012.14 232.505,1012.14 \n",
       "  \"/>\n",
       "<polyline clip-path=\"url(#clip930)\" style=\"stroke:#000000; stroke-linecap:butt; stroke-linejoin:round; stroke-width:4; stroke-opacity:1; fill:none\" points=\"\n",
       "  213.607,523.12 232.505,523.12 \n",
       "  \"/>\n",
       "<path clip-path=\"url(#clip930)\" d=\"M51.6634 1031.93 L59.3023 1031.93 L59.3023 1005.56 L50.9921 1007.23 L50.9921 1002.97 L59.256 1001.3 L63.9319 1001.3 L63.9319 1031.93 L71.5707 1031.93 L71.5707 1035.86 L51.6634 1035.86 L51.6634 1031.93 Z\" fill=\"#000000\" fill-rule=\"evenodd\" fill-opacity=\"1\" /><path clip-path=\"url(#clip930)\" d=\"M91.0151 1004.38 Q87.404 1004.38 85.5753 1007.95 Q83.7697 1011.49 83.7697 1018.62 Q83.7697 1025.73 85.5753 1029.29 Q87.404 1032.83 91.0151 1032.83 Q94.6493 1032.83 96.4548 1029.29 Q98.2835 1025.73 98.2835 1018.62 Q98.2835 1011.49 96.4548 1007.95 Q94.6493 1004.38 91.0151 1004.38 M91.0151 1000.68 Q96.8252 1000.68 99.8808 1005.29 Q102.959 1009.87 102.959 1018.62 Q102.959 1027.35 99.8808 1031.95 Q96.8252 1036.54 91.0151 1036.54 Q85.2049 1036.54 82.1262 1031.95 Q79.0707 1027.35 79.0707 1018.62 Q79.0707 1009.87 82.1262 1005.29 Q85.2049 1000.68 91.0151 1000.68 Z\" fill=\"#000000\" fill-rule=\"evenodd\" fill-opacity=\"1\" /><path clip-path=\"url(#clip930)\" d=\"M102.959 994.781 L127.071 994.781 L127.071 997.978 L102.959 997.978 L102.959 994.781 Z\" fill=\"#000000\" fill-rule=\"evenodd\" fill-opacity=\"1\" /><path clip-path=\"url(#clip930)\" d=\"M135.929 1005.26 L142.136 1005.26 L142.136 983.835 L135.384 985.189 L135.384 981.728 L142.098 980.374 L145.898 980.374 L145.898 1005.26 L152.104 1005.26 L152.104 1008.45 L135.929 1008.45 L135.929 1005.26 Z\" fill=\"#000000\" fill-rule=\"evenodd\" fill-opacity=\"1\" /><path clip-path=\"url(#clip930)\" d=\"M167.903 982.875 Q164.969 982.875 163.483 985.772 Q162.016 988.649 162.016 994.442 Q162.016 1000.22 163.483 1003.11 Q164.969 1005.99 167.903 1005.99 Q170.855 1005.99 172.322 1003.11 Q173.808 1000.22 173.808 994.442 Q173.808 988.649 172.322 985.772 Q170.855 982.875 167.903 982.875 M167.903 979.866 Q172.623 979.866 175.106 983.609 Q177.607 987.333 177.607 994.442 Q177.607 1001.53 175.106 1005.28 Q172.623 1009 167.903 1009 Q163.182 1009 160.68 1005.28 Q158.198 1001.53 158.198 994.442 Q158.198 987.333 160.68 983.609 Q163.182 979.866 167.903 979.866 Z\" fill=\"#000000\" fill-rule=\"evenodd\" fill-opacity=\"1\" /><path clip-path=\"url(#clip930)\" d=\"M76.9787 542.913 L84.6175 542.913 L84.6175 516.547 L76.3074 518.214 L76.3074 513.955 L84.5712 512.288 L89.2471 512.288 L89.2471 542.913 L96.886 542.913 L96.886 546.848 L76.9787 546.848 L76.9787 542.913 Z\" fill=\"#000000\" fill-rule=\"evenodd\" fill-opacity=\"1\" /><path clip-path=\"url(#clip930)\" d=\"M116.33 515.367 Q112.719 515.367 110.891 518.931 Q109.085 522.473 109.085 529.603 Q109.085 536.709 110.891 540.274 Q112.719 543.815 116.33 543.815 Q119.965 543.815 121.77 540.274 Q123.599 536.709 123.599 529.603 Q123.599 522.473 121.77 518.931 Q119.965 515.367 116.33 515.367 M116.33 511.663 Q122.14 511.663 125.196 516.269 Q128.275 520.853 128.275 529.603 Q128.275 538.329 125.196 542.936 Q122.14 547.519 116.33 547.519 Q110.52 547.519 107.441 542.936 Q104.386 538.329 104.386 529.603 Q104.386 520.853 107.441 516.269 Q110.52 511.663 116.33 511.663 Z\" fill=\"#000000\" fill-rule=\"evenodd\" fill-opacity=\"1\" /><path clip-path=\"url(#clip930)\" d=\"M128.275 505.764 L152.386 505.764 L152.386 508.962 L128.275 508.962 L128.275 505.764 Z\" fill=\"#000000\" fill-rule=\"evenodd\" fill-opacity=\"1\" /><path clip-path=\"url(#clip930)\" d=\"M160.624 491.357 L175.539 491.357 L175.539 494.555 L164.103 494.555 L164.103 501.438 Q164.931 501.156 165.759 501.025 Q166.586 500.874 167.414 500.874 Q172.116 500.874 174.862 503.451 Q177.607 506.028 177.607 510.429 Q177.607 514.961 174.786 517.481 Q171.965 519.983 166.831 519.983 Q165.063 519.983 163.22 519.682 Q161.395 519.381 159.439 518.779 L159.439 514.961 Q161.132 515.883 162.937 516.334 Q164.743 516.786 166.755 516.786 Q170.009 516.786 171.909 515.074 Q173.808 513.363 173.808 510.429 Q173.808 507.495 171.909 505.783 Q170.009 504.071 166.755 504.071 Q165.232 504.071 163.709 504.41 Q162.204 504.749 160.624 505.463 L160.624 491.357 Z\" fill=\"#000000\" fill-rule=\"evenodd\" fill-opacity=\"1\" /><polyline clip-path=\"url(#clip932)\" style=\"stroke:#009af9; stroke-linecap:butt; stroke-linejoin:round; stroke-width:16; stroke-opacity:1; fill:none\" points=\"\n",
       "  274.149,87.6286 677.762,1381.12 1081.38,1433.78 1484.99,1370.33 1888.6,1428.35 2292.21,1393.34 \n",
       "  \"/>\n",
       "<circle clip-path=\"url(#clip932)\" cx=\"274.149\" cy=\"87.6286\" r=\"14\" fill=\"#009af9\" fill-rule=\"evenodd\" fill-opacity=\"1\" stroke=\"#000000\" stroke-opacity=\"1\" stroke-width=\"3.2\"/>\n",
       "<circle clip-path=\"url(#clip932)\" cx=\"677.762\" cy=\"1381.12\" r=\"14\" fill=\"#009af9\" fill-rule=\"evenodd\" fill-opacity=\"1\" stroke=\"#000000\" stroke-opacity=\"1\" stroke-width=\"3.2\"/>\n",
       "<circle clip-path=\"url(#clip932)\" cx=\"1081.38\" cy=\"1433.78\" r=\"14\" fill=\"#009af9\" fill-rule=\"evenodd\" fill-opacity=\"1\" stroke=\"#000000\" stroke-opacity=\"1\" stroke-width=\"3.2\"/>\n",
       "<circle clip-path=\"url(#clip932)\" cx=\"1484.99\" cy=\"1370.33\" r=\"14\" fill=\"#009af9\" fill-rule=\"evenodd\" fill-opacity=\"1\" stroke=\"#000000\" stroke-opacity=\"1\" stroke-width=\"3.2\"/>\n",
       "<circle clip-path=\"url(#clip932)\" cx=\"1888.6\" cy=\"1428.35\" r=\"14\" fill=\"#009af9\" fill-rule=\"evenodd\" fill-opacity=\"1\" stroke=\"#000000\" stroke-opacity=\"1\" stroke-width=\"3.2\"/>\n",
       "<circle clip-path=\"url(#clip932)\" cx=\"2292.21\" cy=\"1393.34\" r=\"14\" fill=\"#009af9\" fill-rule=\"evenodd\" fill-opacity=\"1\" stroke=\"#000000\" stroke-opacity=\"1\" stroke-width=\"3.2\"/>\n",
       "<polyline clip-path=\"url(#clip932)\" style=\"stroke:#e26f46; stroke-linecap:butt; stroke-linejoin:round; stroke-width:16; stroke-opacity:1; fill:none\" points=\"\n",
       "  274.149,151.871 677.762,210.754 1081.38,269.638 1484.99,328.521 1888.6,387.404 2292.21,446.288 \n",
       "  \"/>\n",
       "<path clip-path=\"url(#clip930)\" d=\"\n",
       "M1677.27 250.328 L2281.45 250.328 L2281.45 94.8081 L1677.27 94.8081  Z\n",
       "  \" fill=\"#ffffff\" fill-rule=\"evenodd\" fill-opacity=\"1\"/>\n",
       "<polyline clip-path=\"url(#clip930)\" style=\"stroke:#000000; stroke-linecap:butt; stroke-linejoin:round; stroke-width:4; stroke-opacity:1; fill:none\" points=\"\n",
       "  1677.27,250.328 2281.45,250.328 2281.45,94.8081 1677.27,94.8081 1677.27,250.328 \n",
       "  \"/>\n",
       "<polyline clip-path=\"url(#clip930)\" style=\"stroke:#009af9; stroke-linecap:butt; stroke-linejoin:round; stroke-width:4; stroke-opacity:1; fill:none\" points=\"\n",
       "  1701.03,146.648 1843.64,146.648 \n",
       "  \"/>\n",
       "<circle clip-path=\"url(#clip930)\" cx=\"1772.34\" cy=\"146.648\" r=\"23\" fill=\"#009af9\" fill-rule=\"evenodd\" fill-opacity=\"1\" stroke=\"#000000\" stroke-opacity=\"1\" stroke-width=\"5.12\"/>\n",
       "<path clip-path=\"url(#clip930)\" d=\"M1886.32 150.664 Q1886.32 146.035 1884.4 143.488 Q1882.5 140.942 1879.06 140.942 Q1875.63 140.942 1873.71 143.488 Q1871.81 146.035 1871.81 150.664 Q1871.81 155.271 1873.71 157.817 Q1875.63 160.363 1879.06 160.363 Q1882.5 160.363 1884.4 157.817 Q1886.32 155.271 1886.32 150.664 M1890.58 160.711 Q1890.58 167.331 1887.64 170.548 Q1884.7 173.789 1878.64 173.789 Q1876.39 173.789 1874.4 173.442 Q1872.41 173.118 1870.54 172.423 L1870.54 168.28 Q1872.41 169.298 1874.24 169.785 Q1876.07 170.271 1877.97 170.271 Q1882.16 170.271 1884.24 168.072 Q1886.32 165.896 1886.32 161.474 L1886.32 159.368 Q1885 161.66 1882.94 162.794 Q1880.88 163.928 1878.01 163.928 Q1873.24 163.928 1870.33 160.294 Q1867.41 156.66 1867.41 150.664 Q1867.41 144.646 1870.33 141.012 Q1873.24 137.377 1878.01 137.377 Q1880.88 137.377 1882.94 138.512 Q1885 139.646 1886.32 141.937 L1886.32 138.002 L1890.58 138.002 L1890.58 160.711 Z\" fill=\"#000000\" fill-rule=\"evenodd\" fill-opacity=\"1\" /><path clip-path=\"url(#clip930)\" d=\"M1911.14 150.896 Q1905.98 150.896 1903.99 152.076 Q1901.99 153.257 1901.99 156.104 Q1901.99 158.373 1903.48 159.715 Q1904.98 161.035 1907.55 161.035 Q1911.09 161.035 1913.22 158.535 Q1915.37 156.011 1915.37 151.845 L1915.37 150.896 L1911.14 150.896 M1919.63 149.137 L1919.63 163.928 L1915.37 163.928 L1915.37 159.993 Q1913.92 162.354 1911.74 163.488 Q1909.56 164.599 1906.42 164.599 Q1902.43 164.599 1900.07 162.377 Q1897.74 160.132 1897.74 156.382 Q1897.74 152.007 1900.65 149.785 Q1903.59 147.562 1909.4 147.562 L1915.37 147.562 L1915.37 147.146 Q1915.37 144.206 1913.43 142.609 Q1911.51 140.988 1908.01 140.988 Q1905.79 140.988 1903.68 141.521 Q1901.58 142.053 1899.63 143.118 L1899.63 139.183 Q1901.97 138.28 1904.17 137.84 Q1906.37 137.377 1908.45 137.377 Q1914.08 137.377 1916.86 140.294 Q1919.63 143.211 1919.63 149.137 Z\" fill=\"#000000\" fill-rule=\"evenodd\" fill-opacity=\"1\" /><path clip-path=\"url(#clip930)\" d=\"M1927.97 153.697 L1927.97 138.002 L1932.23 138.002 L1932.23 153.535 Q1932.23 157.215 1933.66 159.067 Q1935.1 160.896 1937.97 160.896 Q1941.42 160.896 1943.41 158.697 Q1945.42 156.498 1945.42 152.701 L1945.42 138.002 L1949.68 138.002 L1949.68 163.928 L1945.42 163.928 L1945.42 159.947 Q1943.87 162.308 1941.81 163.465 Q1939.77 164.599 1937.06 164.599 Q1932.6 164.599 1930.28 161.822 Q1927.97 159.044 1927.97 153.697 M1938.68 137.377 L1938.68 137.377 Z\" fill=\"#000000\" fill-rule=\"evenodd\" fill-opacity=\"1\" /><path clip-path=\"url(#clip930)\" d=\"M1974.98 138.766 L1974.98 142.794 Q1973.17 141.868 1971.23 141.405 Q1969.29 140.942 1967.2 140.942 Q1964.03 140.942 1962.43 141.914 Q1960.86 142.887 1960.86 144.831 Q1960.86 146.312 1961.99 147.169 Q1963.13 148.002 1966.55 148.766 L1968.01 149.09 Q1972.55 150.062 1974.45 151.845 Q1976.37 153.604 1976.37 156.775 Q1976.37 160.386 1973.5 162.493 Q1970.65 164.599 1965.65 164.599 Q1963.57 164.599 1961.3 164.183 Q1959.05 163.789 1956.55 162.979 L1956.55 158.581 Q1958.92 159.808 1961.21 160.433 Q1963.5 161.035 1965.74 161.035 Q1968.75 161.035 1970.37 160.016 Q1971.99 158.974 1971.99 157.099 Q1971.99 155.363 1970.81 154.437 Q1969.66 153.512 1965.7 152.655 L1964.22 152.308 Q1960.26 151.474 1958.5 149.762 Q1956.74 148.025 1956.74 145.016 Q1956.74 141.359 1959.33 139.368 Q1961.93 137.377 1966.69 137.377 Q1969.05 137.377 1971.14 137.725 Q1973.22 138.072 1974.98 138.766 Z\" fill=\"#000000\" fill-rule=\"evenodd\" fill-opacity=\"1\" /><path clip-path=\"url(#clip930)\" d=\"M1999.68 138.766 L1999.68 142.794 Q1997.87 141.868 1995.93 141.405 Q1993.99 140.942 1991.9 140.942 Q1988.73 140.942 1987.13 141.914 Q1985.56 142.887 1985.56 144.831 Q1985.56 146.312 1986.69 147.169 Q1987.83 148.002 1991.25 148.766 L1992.71 149.09 Q1997.25 150.062 1999.15 151.845 Q2001.07 153.604 2001.07 156.775 Q2001.07 160.386 1998.2 162.493 Q1995.35 164.599 1990.35 164.599 Q1988.27 164.599 1986 164.183 Q1983.75 163.789 1981.25 162.979 L1981.25 158.581 Q1983.61 159.808 1985.91 160.433 Q1988.2 161.035 1990.44 161.035 Q1993.45 161.035 1995.07 160.016 Q1996.69 158.974 1996.69 157.099 Q1996.69 155.363 1995.51 154.437 Q1994.36 153.512 1990.4 152.655 L1988.92 152.308 Q1984.96 151.474 1983.2 149.762 Q1981.44 148.025 1981.44 145.016 Q1981.44 141.359 1984.03 139.368 Q1986.62 137.377 1991.39 137.377 Q1993.75 137.377 1995.84 137.725 Q1997.92 138.072 1999.68 138.766 Z\" fill=\"#000000\" fill-rule=\"evenodd\" fill-opacity=\"1\" /><path clip-path=\"url(#clip930)\" d=\"M2027.55 171.798 L2027.55 175.109 L2002.92 175.109 L2002.92 171.798 L2027.55 171.798 Z\" fill=\"#000000\" fill-rule=\"evenodd\" fill-opacity=\"1\" /><path clip-path=\"url(#clip930)\" d=\"M2031.55 127.91 L2035.81 127.91 L2035.81 163.928 L2031.55 163.928 L2031.55 127.91 Z\" fill=\"#000000\" fill-rule=\"evenodd\" fill-opacity=\"1\" /><path clip-path=\"url(#clip930)\" d=\"M2066.9 149.9 L2066.9 151.984 L2047.32 151.984 Q2047.6 156.382 2049.96 158.697 Q2052.34 160.988 2056.58 160.988 Q2059.03 160.988 2061.32 160.386 Q2063.64 159.785 2065.91 158.581 L2065.91 162.609 Q2063.61 163.581 2061.21 164.09 Q2058.8 164.599 2056.32 164.599 Q2050.12 164.599 2046.48 160.988 Q2042.87 157.377 2042.87 151.22 Q2042.87 144.854 2046.3 141.127 Q2049.75 137.377 2055.58 137.377 Q2060.81 137.377 2063.85 140.757 Q2066.9 144.113 2066.9 149.9 M2062.64 148.65 Q2062.6 145.155 2060.67 143.072 Q2058.78 140.988 2055.63 140.988 Q2052.06 140.988 2049.91 143.002 Q2047.78 145.016 2047.46 148.674 L2062.64 148.65 Z\" fill=\"#000000\" fill-rule=\"evenodd\" fill-opacity=\"1\" /><path clip-path=\"url(#clip930)\" d=\"M2090.95 150.664 Q2090.95 146.035 2089.03 143.488 Q2087.13 140.942 2083.68 140.942 Q2080.26 140.942 2078.34 143.488 Q2076.44 146.035 2076.44 150.664 Q2076.44 155.271 2078.34 157.817 Q2080.26 160.363 2083.68 160.363 Q2087.13 160.363 2089.03 157.817 Q2090.95 155.271 2090.95 150.664 M2095.21 160.711 Q2095.21 167.331 2092.27 170.548 Q2089.33 173.789 2083.27 173.789 Q2081.02 173.789 2079.03 173.442 Q2077.04 173.118 2075.17 172.423 L2075.17 168.28 Q2077.04 169.298 2078.87 169.785 Q2080.7 170.271 2082.6 170.271 Q2086.79 170.271 2088.87 168.072 Q2090.95 165.896 2090.95 161.474 L2090.95 159.368 Q2089.63 161.66 2087.57 162.794 Q2085.51 163.928 2082.64 163.928 Q2077.87 163.928 2074.96 160.294 Q2072.04 156.66 2072.04 150.664 Q2072.04 144.646 2074.96 141.012 Q2077.87 137.377 2082.64 137.377 Q2085.51 137.377 2087.57 138.512 Q2089.63 139.646 2090.95 141.937 L2090.95 138.002 L2095.21 138.002 L2095.21 160.711 Z\" fill=\"#000000\" fill-rule=\"evenodd\" fill-opacity=\"1\" /><path clip-path=\"url(#clip930)\" d=\"M2126.16 149.9 L2126.16 151.984 L2106.58 151.984 Q2106.85 156.382 2109.22 158.697 Q2111.6 160.988 2115.84 160.988 Q2118.29 160.988 2120.58 160.386 Q2122.9 159.785 2125.16 158.581 L2125.16 162.609 Q2122.87 163.581 2120.47 164.09 Q2118.06 164.599 2115.58 164.599 Q2109.38 164.599 2105.74 160.988 Q2102.13 157.377 2102.13 151.22 Q2102.13 144.854 2105.56 141.127 Q2109.01 137.377 2114.84 137.377 Q2120.07 137.377 2123.1 140.757 Q2126.16 144.113 2126.16 149.9 M2121.9 148.65 Q2121.85 145.155 2119.93 143.072 Q2118.04 140.988 2114.89 140.988 Q2111.32 140.988 2109.17 143.002 Q2107.04 145.016 2106.72 148.674 L2121.9 148.65 Z\" fill=\"#000000\" fill-rule=\"evenodd\" fill-opacity=\"1\" /><path clip-path=\"url(#clip930)\" d=\"M2154.7 148.28 L2154.7 163.928 L2150.44 163.928 L2150.44 148.419 Q2150.44 144.738 2149.01 142.91 Q2147.57 141.081 2144.7 141.081 Q2141.25 141.081 2139.26 143.28 Q2137.27 145.479 2137.27 149.275 L2137.27 163.928 L2132.99 163.928 L2132.99 138.002 L2137.27 138.002 L2137.27 142.03 Q2138.8 139.692 2140.86 138.535 Q2142.94 137.377 2145.65 137.377 Q2150.12 137.377 2152.41 140.155 Q2154.7 142.91 2154.7 148.28 Z\" fill=\"#000000\" fill-rule=\"evenodd\" fill-opacity=\"1\" /><path clip-path=\"url(#clip930)\" d=\"M2180.26 141.937 L2180.26 127.91 L2184.52 127.91 L2184.52 163.928 L2180.26 163.928 L2180.26 160.039 Q2178.91 162.354 2176.85 163.488 Q2174.82 164.599 2171.95 164.599 Q2167.25 164.599 2164.29 160.849 Q2161.35 157.099 2161.35 150.988 Q2161.35 144.877 2164.29 141.127 Q2167.25 137.377 2171.95 137.377 Q2174.82 137.377 2176.85 138.512 Q2178.91 139.623 2180.26 141.937 M2165.74 150.988 Q2165.74 155.687 2167.66 158.373 Q2169.61 161.035 2172.99 161.035 Q2176.37 161.035 2178.31 158.373 Q2180.26 155.687 2180.26 150.988 Q2180.26 146.289 2178.31 143.627 Q2176.37 140.942 2172.99 140.942 Q2169.61 140.942 2167.66 143.627 Q2165.74 146.289 2165.74 150.988 Z\" fill=\"#000000\" fill-rule=\"evenodd\" fill-opacity=\"1\" /><path clip-path=\"url(#clip930)\" d=\"M2208.31 141.984 Q2207.6 141.567 2206.74 141.382 Q2205.91 141.174 2204.89 141.174 Q2201.28 141.174 2199.33 143.535 Q2197.41 145.873 2197.41 150.271 L2197.41 163.928 L2193.13 163.928 L2193.13 138.002 L2197.41 138.002 L2197.41 142.03 Q2198.75 139.669 2200.91 138.535 Q2203.06 137.377 2206.14 137.377 Q2206.58 137.377 2207.11 137.447 Q2207.64 137.493 2208.29 137.609 L2208.31 141.984 Z\" fill=\"#000000\" fill-rule=\"evenodd\" fill-opacity=\"1\" /><path clip-path=\"url(#clip930)\" d=\"M2233.91 149.9 L2233.91 151.984 L2214.33 151.984 Q2214.61 156.382 2216.97 158.697 Q2219.35 160.988 2223.59 160.988 Q2226.04 160.988 2228.34 160.386 Q2230.65 159.785 2232.92 158.581 L2232.92 162.609 Q2230.63 163.581 2228.22 164.09 Q2225.81 164.599 2223.34 164.599 Q2217.13 164.599 2213.5 160.988 Q2209.89 157.377 2209.89 151.22 Q2209.89 144.854 2213.31 141.127 Q2216.76 137.377 2222.59 137.377 Q2227.83 137.377 2230.86 140.757 Q2233.91 144.113 2233.91 149.9 M2229.66 148.65 Q2229.61 145.155 2227.69 143.072 Q2225.79 140.988 2222.64 140.988 Q2219.08 140.988 2216.92 143.002 Q2214.79 145.016 2214.47 148.674 L2229.66 148.65 Z\" fill=\"#000000\" fill-rule=\"evenodd\" fill-opacity=\"1\" /><polyline clip-path=\"url(#clip930)\" style=\"stroke:#e26f46; stroke-linecap:butt; stroke-linejoin:round; stroke-width:4; stroke-opacity:1; fill:none\" points=\"\n",
       "  1701.03,198.488 1843.64,198.488 \n",
       "  \"/>\n",
       "<path clip-path=\"url(#clip930)\" d=\"M1881.25 218.176 Q1879.45 222.805 1877.74 224.217 Q1876.02 225.629 1873.15 225.629 L1869.75 225.629 L1869.75 222.064 L1872.25 222.064 Q1874.01 222.064 1874.98 221.231 Q1875.95 220.398 1877.13 217.296 L1877.9 215.351 L1867.41 189.842 L1871.93 189.842 L1880.03 210.12 L1888.13 189.842 L1892.64 189.842 L1881.25 218.176 Z\" fill=\"#000000\" fill-rule=\"evenodd\" fill-opacity=\"1\" /><path clip-path=\"url(#clip930)\" d=\"M1903.15 211.833 L1919.47 211.833 L1919.47 215.768 L1897.53 215.768 L1897.53 211.833 Q1900.19 209.078 1904.77 204.449 Q1909.38 199.796 1910.56 198.453 Q1912.8 195.93 1913.68 194.194 Q1914.59 192.435 1914.59 190.745 Q1914.59 187.99 1912.64 186.254 Q1910.72 184.518 1907.62 184.518 Q1905.42 184.518 1902.97 185.282 Q1900.54 186.046 1897.76 187.597 L1897.76 182.875 Q1900.58 181.741 1903.04 181.162 Q1905.49 180.583 1907.53 180.583 Q1912.9 180.583 1916.09 183.268 Q1919.29 185.953 1919.29 190.444 Q1919.29 192.574 1918.48 194.495 Q1917.69 196.393 1915.58 198.986 Q1915 199.657 1911.9 202.875 Q1908.8 206.069 1903.15 211.833 Z\" fill=\"#000000\" fill-rule=\"evenodd\" fill-opacity=\"1\" /></svg>\n"
      ]
     },
     "execution_count": 54,
     "metadata": {},
     "output_type": "execute_result"
    }
   ],
   "source": [
    "plot_quad_accuracy(exp, exp, gauss_legendre)\n",
    "plot_quad_accuracy(x -> 11*x^10, x -> x^11, gauss_legendre)"
   ]
  },
  {
   "cell_type": "markdown",
   "id": "11392712",
   "metadata": {
    "slideshow": {
     "slide_type": "slide"
    }
   },
   "source": [
    "# Legendre polynomials"
   ]
  },
  {
   "cell_type": "code",
   "execution_count": 55,
   "id": "f270d3b5",
   "metadata": {
    "cell_style": "split"
   },
   "outputs": [
    {
     "data": {
      "text/plain": [
       "vander_legendre (generic function with 2 methods)"
      ]
     },
     "execution_count": 55,
     "metadata": {},
     "output_type": "execute_result"
    }
   ],
   "source": [
    "function vander_legendre(x, k=nothing)\n",
    "    if isnothing(k)\n",
    "        k = length(x) # Square by default\n",
    "    end\n",
    "    m = length(x)\n",
    "    Q = ones(m, k)\n",
    "    Q[:, 2] = x\n",
    "    for n in 1:k-2\n",
    "        Q[:, n+2] = ((2*n + 1) * x .* Q[:, n+1] - n * Q[:, n]) / (n + 1)\n",
    "    end\n",
    "    Q\n",
    "end"
   ]
  },
  {
   "cell_type": "code",
   "execution_count": 56,
   "id": "6207e3f9",
   "metadata": {
    "cell_style": "split"
   },
   "outputs": [
    {
     "data": {
      "image/svg+xml": [
       "<?xml version=\"1.0\" encoding=\"utf-8\"?>\n",
       "<svg xmlns=\"http://www.w3.org/2000/svg\" xmlns:xlink=\"http://www.w3.org/1999/xlink\" width=\"600\" height=\"400\" viewBox=\"0 0 2400 1600\">\n",
       "<defs>\n",
       "  <clipPath id=\"clip970\">\n",
       "    <rect x=\"0\" y=\"0\" width=\"2400\" height=\"1600\"/>\n",
       "  </clipPath>\n",
       "</defs>\n",
       "<path clip-path=\"url(#clip970)\" d=\"\n",
       "M0 1600 L2400 1600 L2400 0 L0 0  Z\n",
       "  \" fill=\"#ffffff\" fill-rule=\"evenodd\" fill-opacity=\"1\"/>\n",
       "<defs>\n",
       "  <clipPath id=\"clip971\">\n",
       "    <rect x=\"480\" y=\"0\" width=\"1681\" height=\"1600\"/>\n",
       "  </clipPath>\n",
       "</defs>\n",
       "<path clip-path=\"url(#clip970)\" d=\"\n",
       "M193.936 1486.45 L2352.76 1486.45 L2352.76 47.2441 L193.936 47.2441  Z\n",
       "  \" fill=\"#ffffff\" fill-rule=\"evenodd\" fill-opacity=\"1\"/>\n",
       "<defs>\n",
       "  <clipPath id=\"clip972\">\n",
       "    <rect x=\"193\" y=\"47\" width=\"2160\" height=\"1440\"/>\n",
       "  </clipPath>\n",
       "</defs>\n",
       "<polyline clip-path=\"url(#clip972)\" style=\"stroke:#000000; stroke-linecap:butt; stroke-linejoin:round; stroke-width:2; stroke-opacity:0.1; fill:none\" points=\"\n",
       "  255.035,1486.45 255.035,47.2441 \n",
       "  \"/>\n",
       "<polyline clip-path=\"url(#clip972)\" style=\"stroke:#000000; stroke-linecap:butt; stroke-linejoin:round; stroke-width:2; stroke-opacity:0.1; fill:none\" points=\"\n",
       "  764.19,1486.45 764.19,47.2441 \n",
       "  \"/>\n",
       "<polyline clip-path=\"url(#clip972)\" style=\"stroke:#000000; stroke-linecap:butt; stroke-linejoin:round; stroke-width:2; stroke-opacity:0.1; fill:none\" points=\"\n",
       "  1273.35,1486.45 1273.35,47.2441 \n",
       "  \"/>\n",
       "<polyline clip-path=\"url(#clip972)\" style=\"stroke:#000000; stroke-linecap:butt; stroke-linejoin:round; stroke-width:2; stroke-opacity:0.1; fill:none\" points=\"\n",
       "  1782.5,1486.45 1782.5,47.2441 \n",
       "  \"/>\n",
       "<polyline clip-path=\"url(#clip972)\" style=\"stroke:#000000; stroke-linecap:butt; stroke-linejoin:round; stroke-width:2; stroke-opacity:0.1; fill:none\" points=\"\n",
       "  2291.66,1486.45 2291.66,47.2441 \n",
       "  \"/>\n",
       "<polyline clip-path=\"url(#clip970)\" style=\"stroke:#000000; stroke-linecap:butt; stroke-linejoin:round; stroke-width:4; stroke-opacity:1; fill:none\" points=\"\n",
       "  193.936,1486.45 2352.76,1486.45 \n",
       "  \"/>\n",
       "<polyline clip-path=\"url(#clip970)\" style=\"stroke:#000000; stroke-linecap:butt; stroke-linejoin:round; stroke-width:4; stroke-opacity:1; fill:none\" points=\"\n",
       "  255.035,1486.45 255.035,1467.55 \n",
       "  \"/>\n",
       "<polyline clip-path=\"url(#clip970)\" style=\"stroke:#000000; stroke-linecap:butt; stroke-linejoin:round; stroke-width:4; stroke-opacity:1; fill:none\" points=\"\n",
       "  764.19,1486.45 764.19,1467.55 \n",
       "  \"/>\n",
       "<polyline clip-path=\"url(#clip970)\" style=\"stroke:#000000; stroke-linecap:butt; stroke-linejoin:round; stroke-width:4; stroke-opacity:1; fill:none\" points=\"\n",
       "  1273.35,1486.45 1273.35,1467.55 \n",
       "  \"/>\n",
       "<polyline clip-path=\"url(#clip970)\" style=\"stroke:#000000; stroke-linecap:butt; stroke-linejoin:round; stroke-width:4; stroke-opacity:1; fill:none\" points=\"\n",
       "  1782.5,1486.45 1782.5,1467.55 \n",
       "  \"/>\n",
       "<polyline clip-path=\"url(#clip970)\" style=\"stroke:#000000; stroke-linecap:butt; stroke-linejoin:round; stroke-width:4; stroke-opacity:1; fill:none\" points=\"\n",
       "  2291.66,1486.45 2291.66,1467.55 \n",
       "  \"/>\n",
       "<path clip-path=\"url(#clip970)\" d=\"M201.563 1530.29 L231.239 1530.29 L231.239 1534.23 L201.563 1534.23 L201.563 1530.29 Z\" fill=\"#000000\" fill-rule=\"evenodd\" fill-opacity=\"1\" /><path clip-path=\"url(#clip970)\" d=\"M242.141 1543.18 L249.78 1543.18 L249.78 1516.82 L241.47 1518.49 L241.47 1514.23 L249.734 1512.56 L254.41 1512.56 L254.41 1543.18 L262.049 1543.18 L262.049 1547.12 L242.141 1547.12 L242.141 1543.18 Z\" fill=\"#000000\" fill-rule=\"evenodd\" fill-opacity=\"1\" /><path clip-path=\"url(#clip970)\" d=\"M271.493 1541.24 L276.377 1541.24 L276.377 1547.12 L271.493 1547.12 L271.493 1541.24 Z\" fill=\"#000000\" fill-rule=\"evenodd\" fill-opacity=\"1\" /><path clip-path=\"url(#clip970)\" d=\"M296.562 1515.64 Q292.951 1515.64 291.122 1519.2 Q289.317 1522.75 289.317 1529.87 Q289.317 1536.98 291.122 1540.55 Q292.951 1544.09 296.562 1544.09 Q300.196 1544.09 302.002 1540.55 Q303.831 1536.98 303.831 1529.87 Q303.831 1522.75 302.002 1519.2 Q300.196 1515.64 296.562 1515.64 M296.562 1511.93 Q302.372 1511.93 305.428 1516.54 Q308.507 1521.12 308.507 1529.87 Q308.507 1538.6 305.428 1543.21 Q302.372 1547.79 296.562 1547.79 Q290.752 1547.79 287.673 1543.21 Q284.618 1538.6 284.618 1529.87 Q284.618 1521.12 287.673 1516.54 Q290.752 1511.93 296.562 1511.93 Z\" fill=\"#000000\" fill-rule=\"evenodd\" fill-opacity=\"1\" /><path clip-path=\"url(#clip970)\" d=\"M711.216 1530.29 L740.892 1530.29 L740.892 1534.23 L711.216 1534.23 L711.216 1530.29 Z\" fill=\"#000000\" fill-rule=\"evenodd\" fill-opacity=\"1\" /><path clip-path=\"url(#clip970)\" d=\"M760.984 1515.64 Q757.373 1515.64 755.545 1519.2 Q753.739 1522.75 753.739 1529.87 Q753.739 1536.98 755.545 1540.55 Q757.373 1544.09 760.984 1544.09 Q764.619 1544.09 766.424 1540.55 Q768.253 1536.98 768.253 1529.87 Q768.253 1522.75 766.424 1519.2 Q764.619 1515.64 760.984 1515.64 M760.984 1511.93 Q766.794 1511.93 769.85 1516.54 Q772.929 1521.12 772.929 1529.87 Q772.929 1538.6 769.85 1543.21 Q766.794 1547.79 760.984 1547.79 Q755.174 1547.79 752.095 1543.21 Q749.04 1538.6 749.04 1529.87 Q749.04 1521.12 752.095 1516.54 Q755.174 1511.93 760.984 1511.93 Z\" fill=\"#000000\" fill-rule=\"evenodd\" fill-opacity=\"1\" /><path clip-path=\"url(#clip970)\" d=\"M781.146 1541.24 L786.03 1541.24 L786.03 1547.12 L781.146 1547.12 L781.146 1541.24 Z\" fill=\"#000000\" fill-rule=\"evenodd\" fill-opacity=\"1\" /><path clip-path=\"url(#clip970)\" d=\"M796.262 1512.56 L814.618 1512.56 L814.618 1516.5 L800.544 1516.5 L800.544 1524.97 Q801.563 1524.62 802.581 1524.46 Q803.6 1524.27 804.618 1524.27 Q810.405 1524.27 813.785 1527.44 Q817.165 1530.62 817.165 1536.03 Q817.165 1541.61 813.692 1544.71 Q810.22 1547.79 803.901 1547.79 Q801.725 1547.79 799.456 1547.42 Q797.211 1547.05 794.804 1546.31 L794.804 1541.61 Q796.887 1542.74 799.109 1543.3 Q801.331 1543.86 803.808 1543.86 Q807.813 1543.86 810.151 1541.75 Q812.489 1539.64 812.489 1536.03 Q812.489 1532.42 810.151 1530.31 Q807.813 1528.21 803.808 1528.21 Q801.933 1528.21 800.058 1528.62 Q798.206 1529.04 796.262 1529.92 L796.262 1512.56 Z\" fill=\"#000000\" fill-rule=\"evenodd\" fill-opacity=\"1\" /><path clip-path=\"url(#clip970)\" d=\"M1250.73 1515.64 Q1247.12 1515.64 1245.29 1519.2 Q1243.49 1522.75 1243.49 1529.87 Q1243.49 1536.98 1245.29 1540.55 Q1247.12 1544.09 1250.73 1544.09 Q1254.36 1544.09 1256.17 1540.55 Q1258 1536.98 1258 1529.87 Q1258 1522.75 1256.17 1519.2 Q1254.36 1515.64 1250.73 1515.64 M1250.73 1511.93 Q1256.54 1511.93 1259.6 1516.54 Q1262.67 1521.12 1262.67 1529.87 Q1262.67 1538.6 1259.6 1543.21 Q1256.54 1547.79 1250.73 1547.79 Q1244.92 1547.79 1241.84 1543.21 Q1238.79 1538.6 1238.79 1529.87 Q1238.79 1521.12 1241.84 1516.54 Q1244.92 1511.93 1250.73 1511.93 Z\" fill=\"#000000\" fill-rule=\"evenodd\" fill-opacity=\"1\" /><path clip-path=\"url(#clip970)\" d=\"M1270.89 1541.24 L1275.78 1541.24 L1275.78 1547.12 L1270.89 1547.12 L1270.89 1541.24 Z\" fill=\"#000000\" fill-rule=\"evenodd\" fill-opacity=\"1\" /><path clip-path=\"url(#clip970)\" d=\"M1295.96 1515.64 Q1292.35 1515.64 1290.52 1519.2 Q1288.72 1522.75 1288.72 1529.87 Q1288.72 1536.98 1290.52 1540.55 Q1292.35 1544.09 1295.96 1544.09 Q1299.6 1544.09 1301.4 1540.55 Q1303.23 1536.98 1303.23 1529.87 Q1303.23 1522.75 1301.4 1519.2 Q1299.6 1515.64 1295.96 1515.64 M1295.96 1511.93 Q1301.77 1511.93 1304.83 1516.54 Q1307.91 1521.12 1307.91 1529.87 Q1307.91 1538.6 1304.83 1543.21 Q1301.77 1547.79 1295.96 1547.79 Q1290.15 1547.79 1287.07 1543.21 Q1284.02 1538.6 1284.02 1529.87 Q1284.02 1521.12 1287.07 1516.54 Q1290.15 1511.93 1295.96 1511.93 Z\" fill=\"#000000\" fill-rule=\"evenodd\" fill-opacity=\"1\" /><path clip-path=\"url(#clip970)\" d=\"M1760.38 1515.64 Q1756.77 1515.64 1754.94 1519.2 Q1753.14 1522.75 1753.14 1529.87 Q1753.14 1536.98 1754.94 1540.55 Q1756.77 1544.09 1760.38 1544.09 Q1764.02 1544.09 1765.82 1540.55 Q1767.65 1536.98 1767.65 1529.87 Q1767.65 1522.75 1765.82 1519.2 Q1764.02 1515.64 1760.38 1515.64 M1760.38 1511.93 Q1766.19 1511.93 1769.25 1516.54 Q1772.33 1521.12 1772.33 1529.87 Q1772.33 1538.6 1769.25 1543.21 Q1766.19 1547.79 1760.38 1547.79 Q1754.57 1547.79 1751.49 1543.21 Q1748.44 1538.6 1748.44 1529.87 Q1748.44 1521.12 1751.49 1516.54 Q1754.57 1511.93 1760.38 1511.93 Z\" fill=\"#000000\" fill-rule=\"evenodd\" fill-opacity=\"1\" /><path clip-path=\"url(#clip970)\" d=\"M1780.55 1541.24 L1785.43 1541.24 L1785.43 1547.12 L1780.55 1547.12 L1780.55 1541.24 Z\" fill=\"#000000\" fill-rule=\"evenodd\" fill-opacity=\"1\" /><path clip-path=\"url(#clip970)\" d=\"M1795.66 1512.56 L1814.02 1512.56 L1814.02 1516.5 L1799.94 1516.5 L1799.94 1524.97 Q1800.96 1524.62 1801.98 1524.46 Q1803 1524.27 1804.02 1524.27 Q1809.8 1524.27 1813.18 1527.44 Q1816.56 1530.62 1816.56 1536.03 Q1816.56 1541.61 1813.09 1544.71 Q1809.62 1547.79 1803.3 1547.79 Q1801.12 1547.79 1798.86 1547.42 Q1796.61 1547.05 1794.2 1546.31 L1794.2 1541.61 Q1796.29 1542.74 1798.51 1543.3 Q1800.73 1543.86 1803.21 1543.86 Q1807.21 1543.86 1809.55 1541.75 Q1811.89 1539.64 1811.89 1536.03 Q1811.89 1532.42 1809.55 1530.31 Q1807.21 1528.21 1803.21 1528.21 Q1801.33 1528.21 1799.46 1528.62 Q1797.61 1529.04 1795.66 1529.92 L1795.66 1512.56 Z\" fill=\"#000000\" fill-rule=\"evenodd\" fill-opacity=\"1\" /><path clip-path=\"url(#clip970)\" d=\"M2258.81 1543.18 L2266.45 1543.18 L2266.45 1516.82 L2258.14 1518.49 L2258.14 1514.23 L2266.4 1512.56 L2271.08 1512.56 L2271.08 1543.18 L2278.72 1543.18 L2278.72 1547.12 L2258.81 1547.12 L2258.81 1543.18 Z\" fill=\"#000000\" fill-rule=\"evenodd\" fill-opacity=\"1\" /><path clip-path=\"url(#clip970)\" d=\"M2288.16 1541.24 L2293.05 1541.24 L2293.05 1547.12 L2288.16 1547.12 L2288.16 1541.24 Z\" fill=\"#000000\" fill-rule=\"evenodd\" fill-opacity=\"1\" /><path clip-path=\"url(#clip970)\" d=\"M2313.23 1515.64 Q2309.62 1515.64 2307.79 1519.2 Q2305.99 1522.75 2305.99 1529.87 Q2305.99 1536.98 2307.79 1540.55 Q2309.62 1544.09 2313.23 1544.09 Q2316.87 1544.09 2318.67 1540.55 Q2320.5 1536.98 2320.5 1529.87 Q2320.5 1522.75 2318.67 1519.2 Q2316.87 1515.64 2313.23 1515.64 M2313.23 1511.93 Q2319.04 1511.93 2322.1 1516.54 Q2325.18 1521.12 2325.18 1529.87 Q2325.18 1538.6 2322.1 1543.21 Q2319.04 1547.79 2313.23 1547.79 Q2307.42 1547.79 2304.34 1543.21 Q2301.29 1538.6 2301.29 1529.87 Q2301.29 1521.12 2304.34 1516.54 Q2307.42 1511.93 2313.23 1511.93 Z\" fill=\"#000000\" fill-rule=\"evenodd\" fill-opacity=\"1\" /><polyline clip-path=\"url(#clip972)\" style=\"stroke:#000000; stroke-linecap:butt; stroke-linejoin:round; stroke-width:2; stroke-opacity:0.1; fill:none\" points=\"\n",
       "  193.936,1445.72 2352.76,1445.72 \n",
       "  \"/>\n",
       "<polyline clip-path=\"url(#clip972)\" style=\"stroke:#000000; stroke-linecap:butt; stroke-linejoin:round; stroke-width:2; stroke-opacity:0.1; fill:none\" points=\"\n",
       "  193.936,1106.28 2352.76,1106.28 \n",
       "  \"/>\n",
       "<polyline clip-path=\"url(#clip972)\" style=\"stroke:#000000; stroke-linecap:butt; stroke-linejoin:round; stroke-width:2; stroke-opacity:0.1; fill:none\" points=\"\n",
       "  193.936,766.846 2352.76,766.846 \n",
       "  \"/>\n",
       "<polyline clip-path=\"url(#clip972)\" style=\"stroke:#000000; stroke-linecap:butt; stroke-linejoin:round; stroke-width:2; stroke-opacity:0.1; fill:none\" points=\"\n",
       "  193.936,427.411 2352.76,427.411 \n",
       "  \"/>\n",
       "<polyline clip-path=\"url(#clip972)\" style=\"stroke:#000000; stroke-linecap:butt; stroke-linejoin:round; stroke-width:2; stroke-opacity:0.1; fill:none\" points=\"\n",
       "  193.936,87.9763 2352.76,87.9763 \n",
       "  \"/>\n",
       "<polyline clip-path=\"url(#clip970)\" style=\"stroke:#000000; stroke-linecap:butt; stroke-linejoin:round; stroke-width:4; stroke-opacity:1; fill:none\" points=\"\n",
       "  193.936,1486.45 193.936,47.2441 \n",
       "  \"/>\n",
       "<polyline clip-path=\"url(#clip970)\" style=\"stroke:#000000; stroke-linecap:butt; stroke-linejoin:round; stroke-width:4; stroke-opacity:1; fill:none\" points=\"\n",
       "  193.936,1445.72 212.834,1445.72 \n",
       "  \"/>\n",
       "<polyline clip-path=\"url(#clip970)\" style=\"stroke:#000000; stroke-linecap:butt; stroke-linejoin:round; stroke-width:4; stroke-opacity:1; fill:none\" points=\"\n",
       "  193.936,1106.28 212.834,1106.28 \n",
       "  \"/>\n",
       "<polyline clip-path=\"url(#clip970)\" style=\"stroke:#000000; stroke-linecap:butt; stroke-linejoin:round; stroke-width:4; stroke-opacity:1; fill:none\" points=\"\n",
       "  193.936,766.846 212.834,766.846 \n",
       "  \"/>\n",
       "<polyline clip-path=\"url(#clip970)\" style=\"stroke:#000000; stroke-linecap:butt; stroke-linejoin:round; stroke-width:4; stroke-opacity:1; fill:none\" points=\"\n",
       "  193.936,427.411 212.834,427.411 \n",
       "  \"/>\n",
       "<polyline clip-path=\"url(#clip970)\" style=\"stroke:#000000; stroke-linecap:butt; stroke-linejoin:round; stroke-width:4; stroke-opacity:1; fill:none\" points=\"\n",
       "  193.936,87.9763 212.834,87.9763 \n",
       "  \"/>\n",
       "<path clip-path=\"url(#clip970)\" d=\"M50.9921 1446.17 L80.6679 1446.17 L80.6679 1450.1 L50.9921 1450.1 L50.9921 1446.17 Z\" fill=\"#000000\" fill-rule=\"evenodd\" fill-opacity=\"1\" /><path clip-path=\"url(#clip970)\" d=\"M91.5706 1459.06 L99.2095 1459.06 L99.2095 1432.69 L90.8993 1434.36 L90.8993 1430.1 L99.1632 1428.44 L103.839 1428.44 L103.839 1459.06 L111.478 1459.06 L111.478 1463 L91.5706 1463 L91.5706 1459.06 Z\" fill=\"#000000\" fill-rule=\"evenodd\" fill-opacity=\"1\" /><path clip-path=\"url(#clip970)\" d=\"M120.922 1457.12 L125.807 1457.12 L125.807 1463 L120.922 1463 L120.922 1457.12 Z\" fill=\"#000000\" fill-rule=\"evenodd\" fill-opacity=\"1\" /><path clip-path=\"url(#clip970)\" d=\"M145.992 1431.51 Q142.381 1431.51 140.552 1435.08 Q138.746 1438.62 138.746 1445.75 Q138.746 1452.86 140.552 1456.42 Q142.381 1459.96 145.992 1459.96 Q149.626 1459.96 151.431 1456.42 Q153.26 1452.86 153.26 1445.75 Q153.26 1438.62 151.431 1435.08 Q149.626 1431.51 145.992 1431.51 M145.992 1427.81 Q151.802 1427.81 154.857 1432.42 Q157.936 1437 157.936 1445.75 Q157.936 1454.48 154.857 1459.08 Q151.802 1463.67 145.992 1463.67 Q140.181 1463.67 137.103 1459.08 Q134.047 1454.48 134.047 1445.75 Q134.047 1437 137.103 1432.42 Q140.181 1427.81 145.992 1427.81 Z\" fill=\"#000000\" fill-rule=\"evenodd\" fill-opacity=\"1\" /><path clip-path=\"url(#clip970)\" d=\"M51.9875 1106.73 L81.6633 1106.73 L81.6633 1110.67 L51.9875 1110.67 L51.9875 1106.73 Z\" fill=\"#000000\" fill-rule=\"evenodd\" fill-opacity=\"1\" /><path clip-path=\"url(#clip970)\" d=\"M101.756 1092.08 Q98.1447 1092.08 96.316 1095.64 Q94.5104 1099.19 94.5104 1106.32 Q94.5104 1113.42 96.316 1116.99 Q98.1447 1120.53 101.756 1120.53 Q105.39 1120.53 107.196 1116.99 Q109.024 1113.42 109.024 1106.32 Q109.024 1099.19 107.196 1095.64 Q105.39 1092.08 101.756 1092.08 M101.756 1088.38 Q107.566 1088.38 110.621 1092.98 Q113.7 1097.57 113.7 1106.32 Q113.7 1115.04 110.621 1119.65 Q107.566 1124.23 101.756 1124.23 Q95.9456 1124.23 92.8669 1119.65 Q89.8114 1115.04 89.8114 1106.32 Q89.8114 1097.57 92.8669 1092.98 Q95.9456 1088.38 101.756 1088.38 Z\" fill=\"#000000\" fill-rule=\"evenodd\" fill-opacity=\"1\" /><path clip-path=\"url(#clip970)\" d=\"M121.918 1117.68 L126.802 1117.68 L126.802 1123.56 L121.918 1123.56 L121.918 1117.68 Z\" fill=\"#000000\" fill-rule=\"evenodd\" fill-opacity=\"1\" /><path clip-path=\"url(#clip970)\" d=\"M137.033 1089 L155.39 1089 L155.39 1092.94 L141.316 1092.94 L141.316 1101.41 Q142.334 1101.06 143.353 1100.9 Q144.371 1100.71 145.39 1100.71 Q151.177 1100.71 154.556 1103.89 Q157.936 1107.06 157.936 1112.47 Q157.936 1118.05 154.464 1121.15 Q150.992 1124.23 144.672 1124.23 Q142.496 1124.23 140.228 1123.86 Q137.982 1123.49 135.575 1122.75 L135.575 1118.05 Q137.658 1119.19 139.881 1119.74 Q142.103 1120.3 144.58 1120.3 Q148.584 1120.3 150.922 1118.19 Q153.26 1116.08 153.26 1112.47 Q153.26 1108.86 150.922 1106.76 Q148.584 1104.65 144.58 1104.65 Q142.705 1104.65 140.83 1105.07 Q138.978 1105.48 137.033 1106.36 L137.033 1089 Z\" fill=\"#000000\" fill-rule=\"evenodd\" fill-opacity=\"1\" /><path clip-path=\"url(#clip970)\" d=\"M100.76 752.645 Q97.1493 752.645 95.3206 756.209 Q93.515 759.751 93.515 766.881 Q93.515 773.987 95.3206 777.552 Q97.1493 781.094 100.76 781.094 Q104.395 781.094 106.2 777.552 Q108.029 773.987 108.029 766.881 Q108.029 759.751 106.2 756.209 Q104.395 752.645 100.76 752.645 M100.76 748.941 Q106.571 748.941 109.626 753.547 Q112.705 758.131 112.705 766.881 Q112.705 775.608 109.626 780.214 Q106.571 784.797 100.76 784.797 Q94.9502 784.797 91.8715 780.214 Q88.816 775.608 88.816 766.881 Q88.816 758.131 91.8715 753.547 Q94.9502 748.941 100.76 748.941 Z\" fill=\"#000000\" fill-rule=\"evenodd\" fill-opacity=\"1\" /><path clip-path=\"url(#clip970)\" d=\"M120.922 778.246 L125.807 778.246 L125.807 784.126 L120.922 784.126 L120.922 778.246 Z\" fill=\"#000000\" fill-rule=\"evenodd\" fill-opacity=\"1\" /><path clip-path=\"url(#clip970)\" d=\"M145.992 752.645 Q142.381 752.645 140.552 756.209 Q138.746 759.751 138.746 766.881 Q138.746 773.987 140.552 777.552 Q142.381 781.094 145.992 781.094 Q149.626 781.094 151.431 777.552 Q153.26 773.987 153.26 766.881 Q153.26 759.751 151.431 756.209 Q149.626 752.645 145.992 752.645 M145.992 748.941 Q151.802 748.941 154.857 753.547 Q157.936 758.131 157.936 766.881 Q157.936 775.608 154.857 780.214 Q151.802 784.797 145.992 784.797 Q140.181 784.797 137.103 780.214 Q134.047 775.608 134.047 766.881 Q134.047 758.131 137.103 753.547 Q140.181 748.941 145.992 748.941 Z\" fill=\"#000000\" fill-rule=\"evenodd\" fill-opacity=\"1\" /><path clip-path=\"url(#clip970)\" d=\"M101.756 413.21 Q98.1447 413.21 96.316 416.775 Q94.5104 420.316 94.5104 427.446 Q94.5104 434.552 96.316 438.117 Q98.1447 441.659 101.756 441.659 Q105.39 441.659 107.196 438.117 Q109.024 434.552 109.024 427.446 Q109.024 420.316 107.196 416.775 Q105.39 413.21 101.756 413.21 M101.756 409.506 Q107.566 409.506 110.621 414.113 Q113.7 418.696 113.7 427.446 Q113.7 436.173 110.621 440.779 Q107.566 445.362 101.756 445.362 Q95.9456 445.362 92.8669 440.779 Q89.8114 436.173 89.8114 427.446 Q89.8114 418.696 92.8669 414.113 Q95.9456 409.506 101.756 409.506 Z\" fill=\"#000000\" fill-rule=\"evenodd\" fill-opacity=\"1\" /><path clip-path=\"url(#clip970)\" d=\"M121.918 438.812 L126.802 438.812 L126.802 444.691 L121.918 444.691 L121.918 438.812 Z\" fill=\"#000000\" fill-rule=\"evenodd\" fill-opacity=\"1\" /><path clip-path=\"url(#clip970)\" d=\"M137.033 410.131 L155.39 410.131 L155.39 414.066 L141.316 414.066 L141.316 422.538 Q142.334 422.191 143.353 422.029 Q144.371 421.844 145.39 421.844 Q151.177 421.844 154.556 425.015 Q157.936 428.187 157.936 433.603 Q157.936 439.182 154.464 442.284 Q150.992 445.362 144.672 445.362 Q142.496 445.362 140.228 444.992 Q137.982 444.622 135.575 443.881 L135.575 439.182 Q137.658 440.316 139.881 440.872 Q142.103 441.427 144.58 441.427 Q148.584 441.427 150.922 439.321 Q153.26 437.214 153.26 433.603 Q153.26 429.992 150.922 427.886 Q148.584 425.779 144.58 425.779 Q142.705 425.779 140.83 426.196 Q138.978 426.613 137.033 427.492 L137.033 410.131 Z\" fill=\"#000000\" fill-rule=\"evenodd\" fill-opacity=\"1\" /><path clip-path=\"url(#clip970)\" d=\"M91.5706 101.321 L99.2095 101.321 L99.2095 74.9555 L90.8993 76.6222 L90.8993 72.3629 L99.1632 70.6963 L103.839 70.6963 L103.839 101.321 L111.478 101.321 L111.478 105.256 L91.5706 105.256 L91.5706 101.321 Z\" fill=\"#000000\" fill-rule=\"evenodd\" fill-opacity=\"1\" /><path clip-path=\"url(#clip970)\" d=\"M120.922 99.3767 L125.807 99.3767 L125.807 105.256 L120.922 105.256 L120.922 99.3767 Z\" fill=\"#000000\" fill-rule=\"evenodd\" fill-opacity=\"1\" /><path clip-path=\"url(#clip970)\" d=\"M145.992 73.775 Q142.381 73.775 140.552 77.3398 Q138.746 80.8814 138.746 88.011 Q138.746 95.1174 140.552 98.6822 Q142.381 102.224 145.992 102.224 Q149.626 102.224 151.431 98.6822 Q153.26 95.1174 153.26 88.011 Q153.26 80.8814 151.431 77.3398 Q149.626 73.775 145.992 73.775 M145.992 70.0713 Q151.802 70.0713 154.857 74.6777 Q157.936 79.261 157.936 88.011 Q157.936 96.7378 154.857 101.344 Q151.802 105.928 145.992 105.928 Q140.181 105.928 137.103 101.344 Q134.047 96.7378 134.047 88.011 Q134.047 79.261 137.103 74.6777 Q140.181 70.0713 145.992 70.0713 Z\" fill=\"#000000\" fill-rule=\"evenodd\" fill-opacity=\"1\" /><polyline clip-path=\"url(#clip972)\" style=\"stroke:#009af9; stroke-linecap:butt; stroke-linejoin:round; stroke-width:16; stroke-opacity:1; fill:none\" points=\"\n",
       "  255.035,87.9763 296.598,87.9763 338.162,87.9763 379.726,87.9763 421.29,87.9763 462.853,87.9763 504.417,87.9763 545.981,87.9763 587.544,87.9763 629.108,87.9763 \n",
       "  670.672,87.9763 712.236,87.9763 753.799,87.9763 795.363,87.9763 836.927,87.9763 878.491,87.9763 920.054,87.9763 961.618,87.9763 1003.18,87.9763 1044.75,87.9763 \n",
       "  1086.31,87.9763 1127.87,87.9763 1169.44,87.9763 1211,87.9763 1252.56,87.9763 1294.13,87.9763 1335.69,87.9763 1377.26,87.9763 1418.82,87.9763 1460.38,87.9763 \n",
       "  1501.95,87.9763 1543.51,87.9763 1585.07,87.9763 1626.64,87.9763 1668.2,87.9763 1709.77,87.9763 1751.33,87.9763 1792.89,87.9763 1834.46,87.9763 1876.02,87.9763 \n",
       "  1917.58,87.9763 1959.15,87.9763 2000.71,87.9763 2042.27,87.9763 2083.84,87.9763 2125.4,87.9763 2166.97,87.9763 2208.53,87.9763 2250.09,87.9763 2291.66,87.9763 \n",
       "  \n",
       "  \"/>\n",
       "<polyline clip-path=\"url(#clip972)\" style=\"stroke:#e26f46; stroke-linecap:butt; stroke-linejoin:round; stroke-width:16; stroke-opacity:1; fill:none\" points=\"\n",
       "  255.035,1445.72 296.598,1418.01 338.162,1390.3 379.726,1362.59 421.29,1334.88 462.853,1307.17 504.417,1279.46 545.981,1251.75 587.544,1224.04 629.108,1196.33 \n",
       "  670.672,1168.63 712.236,1140.92 753.799,1113.21 795.363,1085.5 836.927,1057.79 878.491,1030.08 920.054,1002.37 961.618,974.663 1003.18,946.954 1044.75,919.245 \n",
       "  1086.31,891.536 1127.87,863.827 1169.44,836.118 1211,808.409 1252.56,780.7 1294.13,752.992 1335.69,725.283 1377.26,697.574 1418.82,669.865 1460.38,642.156 \n",
       "  1501.95,614.447 1543.51,586.738 1585.07,559.029 1626.64,531.32 1668.2,503.611 1709.77,475.902 1751.33,448.193 1792.89,420.484 1834.46,392.775 1876.02,365.066 \n",
       "  1917.58,337.357 1959.15,309.648 2000.71,281.939 2042.27,254.23 2083.84,226.521 2125.4,198.812 2166.97,171.103 2208.53,143.394 2250.09,115.685 2291.66,87.9763 \n",
       "  \n",
       "  \"/>\n",
       "<polyline clip-path=\"url(#clip972)\" style=\"stroke:#3da44d; stroke-linecap:butt; stroke-linejoin:round; stroke-width:16; stroke-opacity:1; fill:none\" points=\"\n",
       "  255.035,87.9763 296.598,169.407 338.162,247.444 379.726,322.089 421.29,393.34 462.853,461.199 504.417,525.665 545.981,586.738 587.544,644.418 629.108,698.705 \n",
       "  670.672,749.599 712.236,797.1 753.799,841.208 795.363,881.923 836.927,919.245 878.491,953.175 920.054,983.711 961.618,1010.85 1003.18,1034.61 1044.75,1054.96 \n",
       "  1086.31,1071.93 1127.87,1085.5 1169.44,1095.68 1211,1102.46 1252.56,1105.86 1294.13,1105.86 1335.69,1102.46 1377.26,1095.68 1418.82,1085.5 1460.38,1071.93 \n",
       "  1501.95,1054.96 1543.51,1034.61 1585.07,1010.85 1626.64,983.711 1668.2,953.175 1709.77,919.245 1751.33,881.923 1792.89,841.208 1834.46,797.1 1876.02,749.599 \n",
       "  1917.58,698.705 1959.15,644.418 2000.71,586.738 2042.27,525.665 2083.84,461.199 2125.4,393.34 2166.97,322.089 2208.53,247.444 2250.09,169.407 2291.66,87.9763 \n",
       "  \n",
       "  \"/>\n",
       "<polyline clip-path=\"url(#clip972)\" style=\"stroke:#c271d2; stroke-linecap:butt; stroke-linejoin:round; stroke-width:16; stroke-opacity:1; fill:none\" points=\"\n",
       "  255.035,1445.72 296.598,1287.83 338.162,1146.21 379.726,1020.18 421.29,909.032 462.853,812.079 504.417,728.629 545.981,657.989 587.544,599.467 629.108,552.37 \n",
       "  670.672,516.005 712.236,489.681 753.799,472.705 795.363,464.384 836.927,464.027 878.491,470.939 920.054,484.43 961.618,503.807 1003.18,528.377 1044.75,557.448 \n",
       "  1086.31,590.327 1127.87,626.322 1169.44,664.741 1211,704.89 1252.56,746.079 1294.13,787.613 1335.69,828.802 1377.26,868.951 1418.82,907.37 1460.38,943.365 \n",
       "  1501.95,976.244 1543.51,1005.32 1585.07,1029.88 1626.64,1049.26 1668.2,1062.75 1709.77,1069.67 1751.33,1069.31 1792.89,1060.99 1834.46,1044.01 1876.02,1017.69 \n",
       "  1917.58,981.322 1959.15,934.225 2000.71,875.703 2042.27,805.063 2083.84,721.613 2125.4,624.66 2166.97,513.513 2208.53,387.478 2250.09,245.863 2291.66,87.9763 \n",
       "  \n",
       "  \"/>\n",
       "<polyline clip-path=\"url(#clip972)\" style=\"stroke:#ac8d18; stroke-linecap:butt; stroke-linejoin:round; stroke-width:16; stroke-opacity:1; fill:none\" points=\"\n",
       "  255.035,87.9763 296.598,340.419 338.162,546.698 379.726,711.366 421.29,838.774 462.853,933.078 504.417,998.232 545.981,1038 587.544,1055.94 629.108,1055.41 \n",
       "  670.672,1039.58 712.236,1011.42 753.799,973.7 795.363,928.989 836.927,879.661 878.491,827.893 920.054,775.664 961.618,724.753 1003.18,676.744 1044.75,633.022 \n",
       "  1086.31,594.773 1127.87,562.987 1169.44,538.455 1211,521.771 1252.56,513.33 1294.13,513.33 1335.69,521.771 1377.26,538.455 1418.82,562.987 1460.38,594.773 \n",
       "  1501.95,633.022 1543.51,676.744 1585.07,724.753 1626.64,775.664 1668.2,827.893 1709.77,879.661 1751.33,928.989 1792.89,973.7 1834.46,1011.42 1876.02,1039.58 \n",
       "  1917.58,1055.41 1959.15,1055.94 2000.71,1038 2042.27,998.232 2083.84,933.078 2125.4,838.774 2166.97,711.366 2208.53,546.698 2250.09,340.419 2291.66,87.9763 \n",
       "  \n",
       "  \"/>\n",
       "<polyline clip-path=\"url(#clip972)\" style=\"stroke:#00a9ad; stroke-linecap:butt; stroke-linejoin:round; stroke-width:16; stroke-opacity:1; fill:none\" points=\"\n",
       "  255.035,1445.72 296.598,1086.3 338.162,827.269 379.726,651.815 421.29,544.764 462.853,492.507 504.417,482.923 545.981,505.307 587.544,550.302 629.108,609.82 \n",
       "  670.672,676.972 712.236,745.999 753.799,812.19 795.363,871.821 836.927,922.073 878.491,960.963 920.054,987.272 961.618,1000.47 1003.18,1000.65 1044.75,988.44 \n",
       "  1086.31,964.951 1127.87,931.686 1169.44,890.48 1211,843.419 1252.56,792.773 1294.13,740.919 1335.69,690.273 1377.26,643.212 1418.82,602.006 1460.38,568.741 \n",
       "  1501.95,545.252 1543.51,533.043 1585.07,533.221 1626.64,546.42 1668.2,572.729 1709.77,611.619 1751.33,661.871 1792.89,721.502 1834.46,787.693 1876.02,856.72 \n",
       "  1917.58,923.872 1959.15,983.39 2000.71,1028.38 2042.27,1050.77 2083.84,1041.18 2125.4,988.928 2166.97,881.877 2208.53,706.423 2250.09,447.392 2291.66,87.9763 \n",
       "  \n",
       "  \"/>\n",
       "<path clip-path=\"url(#clip970)\" d=\"\n",
       "M1986.78 458.098 L2280.8 458.098 L2280.8 95.2176 L1986.78 95.2176  Z\n",
       "  \" fill=\"#ffffff\" fill-rule=\"evenodd\" fill-opacity=\"1\"/>\n",
       "<polyline clip-path=\"url(#clip970)\" style=\"stroke:#000000; stroke-linecap:butt; stroke-linejoin:round; stroke-width:4; stroke-opacity:1; fill:none\" points=\"\n",
       "  1986.78,458.098 2280.8,458.098 2280.8,95.2176 1986.78,95.2176 1986.78,458.098 \n",
       "  \"/>\n",
       "<polyline clip-path=\"url(#clip970)\" style=\"stroke:#009af9; stroke-linecap:butt; stroke-linejoin:round; stroke-width:4; stroke-opacity:1; fill:none\" points=\"\n",
       "  2010.77,147.058 2154.69,147.058 \n",
       "  \"/>\n",
       "<path clip-path=\"url(#clip970)\" d=\"M2192.52 166.745 Q2190.72 171.375 2189 172.787 Q2187.29 174.199 2184.42 174.199 L2181.02 174.199 L2181.02 170.634 L2183.52 170.634 Q2185.28 170.634 2186.25 169.8 Q2187.22 168.967 2188.4 165.865 L2189.16 163.921 L2178.68 138.412 L2183.19 138.412 L2191.29 158.689 L2199.4 138.412 L2203.91 138.412 L2192.52 166.745 Z\" fill=\"#000000\" fill-rule=\"evenodd\" fill-opacity=\"1\" /><path clip-path=\"url(#clip970)\" d=\"M2211.2 160.402 L2218.84 160.402 L2218.84 134.037 L2210.53 135.703 L2210.53 131.444 L2218.79 129.778 L2223.47 129.778 L2223.47 160.402 L2231.11 160.402 L2231.11 164.338 L2211.2 164.338 L2211.2 160.402 Z\" fill=\"#000000\" fill-rule=\"evenodd\" fill-opacity=\"1\" /><polyline clip-path=\"url(#clip970)\" style=\"stroke:#e26f46; stroke-linecap:butt; stroke-linejoin:round; stroke-width:4; stroke-opacity:1; fill:none\" points=\"\n",
       "  2010.77,198.898 2154.69,198.898 \n",
       "  \"/>\n",
       "<path clip-path=\"url(#clip970)\" d=\"M2192.52 218.585 Q2190.72 223.215 2189 224.627 Q2187.29 226.039 2184.42 226.039 L2181.02 226.039 L2181.02 222.474 L2183.52 222.474 Q2185.28 222.474 2186.25 221.64 Q2187.22 220.807 2188.4 217.705 L2189.16 215.761 L2178.68 190.252 L2183.19 190.252 L2191.29 210.529 L2199.4 190.252 L2203.91 190.252 L2192.52 218.585 Z\" fill=\"#000000\" fill-rule=\"evenodd\" fill-opacity=\"1\" /><path clip-path=\"url(#clip970)\" d=\"M2214.42 212.242 L2230.74 212.242 L2230.74 216.178 L2208.79 216.178 L2208.79 212.242 Q2211.46 209.488 2216.04 204.858 Q2220.65 200.205 2221.83 198.863 Q2224.07 196.34 2224.95 194.604 Q2225.85 192.844 2225.85 191.155 Q2225.85 188.4 2223.91 186.664 Q2221.99 184.928 2218.89 184.928 Q2216.69 184.928 2214.23 185.692 Q2211.8 186.455 2209.03 188.006 L2209.03 183.284 Q2211.85 182.15 2214.3 181.571 Q2216.76 180.993 2218.79 180.993 Q2224.16 180.993 2227.36 183.678 Q2230.55 186.363 2230.55 190.854 Q2230.55 192.983 2229.74 194.905 Q2228.96 196.803 2226.85 199.395 Q2226.27 200.067 2223.17 203.284 Q2220.07 206.479 2214.42 212.242 Z\" fill=\"#000000\" fill-rule=\"evenodd\" fill-opacity=\"1\" /><polyline clip-path=\"url(#clip970)\" style=\"stroke:#3da44d; stroke-linecap:butt; stroke-linejoin:round; stroke-width:4; stroke-opacity:1; fill:none\" points=\"\n",
       "  2010.77,250.738 2154.69,250.738 \n",
       "  \"/>\n",
       "<path clip-path=\"url(#clip970)\" d=\"M2192.52 270.425 Q2190.72 275.055 2189 276.467 Q2187.29 277.879 2184.42 277.879 L2181.02 277.879 L2181.02 274.314 L2183.52 274.314 Q2185.28 274.314 2186.25 273.48 Q2187.22 272.647 2188.4 269.545 L2189.16 267.601 L2178.68 242.092 L2183.19 242.092 L2191.29 262.369 L2199.4 242.092 L2203.91 242.092 L2192.52 270.425 Z\" fill=\"#000000\" fill-rule=\"evenodd\" fill-opacity=\"1\" /><path clip-path=\"url(#clip970)\" d=\"M2224.56 249.383 Q2227.91 250.101 2229.79 252.369 Q2231.69 254.638 2231.69 257.971 Q2231.69 263.087 2228.17 265.888 Q2224.65 268.689 2218.17 268.689 Q2215.99 268.689 2213.68 268.249 Q2211.39 267.832 2208.93 266.976 L2208.93 262.462 Q2210.88 263.596 2213.19 264.175 Q2215.51 264.754 2218.03 264.754 Q2222.43 264.754 2224.72 263.018 Q2227.03 261.281 2227.03 257.971 Q2227.03 254.916 2224.88 253.203 Q2222.75 251.467 2218.93 251.467 L2214.9 251.467 L2214.9 247.624 L2219.12 247.624 Q2222.57 247.624 2224.4 246.258 Q2226.22 244.87 2226.22 242.277 Q2226.22 239.615 2224.33 238.203 Q2222.45 236.768 2218.93 236.768 Q2217.01 236.768 2214.81 237.184 Q2212.61 237.601 2209.97 238.481 L2209.97 234.314 Q2212.64 233.573 2214.95 233.203 Q2217.29 232.833 2219.35 232.833 Q2224.67 232.833 2227.78 235.263 Q2230.88 237.67 2230.88 241.791 Q2230.88 244.661 2229.23 246.652 Q2227.59 248.62 2224.56 249.383 Z\" fill=\"#000000\" fill-rule=\"evenodd\" fill-opacity=\"1\" /><polyline clip-path=\"url(#clip970)\" style=\"stroke:#c271d2; stroke-linecap:butt; stroke-linejoin:round; stroke-width:4; stroke-opacity:1; fill:none\" points=\"\n",
       "  2010.77,302.578 2154.69,302.578 \n",
       "  \"/>\n",
       "<path clip-path=\"url(#clip970)\" d=\"M2192.52 322.265 Q2190.72 326.895 2189 328.307 Q2187.29 329.719 2184.42 329.719 L2181.02 329.719 L2181.02 326.154 L2183.52 326.154 Q2185.28 326.154 2186.25 325.32 Q2187.22 324.487 2188.4 321.385 L2189.16 319.441 L2178.68 293.932 L2183.19 293.932 L2191.29 314.209 L2199.4 293.932 L2203.91 293.932 L2192.52 322.265 Z\" fill=\"#000000\" fill-rule=\"evenodd\" fill-opacity=\"1\" /><path clip-path=\"url(#clip970)\" d=\"M2223.24 289.372 L2211.43 307.821 L2223.24 307.821 L2223.24 289.372 M2222.01 285.298 L2227.89 285.298 L2227.89 307.821 L2232.82 307.821 L2232.82 311.709 L2227.89 311.709 L2227.89 319.858 L2223.24 319.858 L2223.24 311.709 L2207.64 311.709 L2207.64 307.196 L2222.01 285.298 Z\" fill=\"#000000\" fill-rule=\"evenodd\" fill-opacity=\"1\" /><polyline clip-path=\"url(#clip970)\" style=\"stroke:#ac8d18; stroke-linecap:butt; stroke-linejoin:round; stroke-width:4; stroke-opacity:1; fill:none\" points=\"\n",
       "  2010.77,354.418 2154.69,354.418 \n",
       "  \"/>\n",
       "<path clip-path=\"url(#clip970)\" d=\"M2192.52 374.105 Q2190.72 378.735 2189 380.147 Q2187.29 381.559 2184.42 381.559 L2181.02 381.559 L2181.02 377.994 L2183.52 377.994 Q2185.28 377.994 2186.25 377.16 Q2187.22 376.327 2188.4 373.225 L2189.16 371.281 L2178.68 345.772 L2183.19 345.772 L2191.29 366.049 L2199.4 345.772 L2203.91 345.772 L2192.52 374.105 Z\" fill=\"#000000\" fill-rule=\"evenodd\" fill-opacity=\"1\" /><path clip-path=\"url(#clip970)\" d=\"M2210.44 337.138 L2228.79 337.138 L2228.79 341.073 L2214.72 341.073 L2214.72 349.545 Q2215.74 349.198 2216.76 349.036 Q2217.78 348.85 2218.79 348.85 Q2224.58 348.85 2227.96 352.022 Q2231.34 355.193 2231.34 360.61 Q2231.34 366.188 2227.87 369.29 Q2224.4 372.369 2218.08 372.369 Q2215.9 372.369 2213.63 371.998 Q2211.39 371.628 2208.98 370.887 L2208.98 366.188 Q2211.06 367.323 2213.28 367.878 Q2215.51 368.434 2217.98 368.434 Q2221.99 368.434 2224.33 366.327 Q2226.66 364.221 2226.66 360.61 Q2226.66 356.999 2224.33 354.892 Q2221.99 352.786 2217.98 352.786 Q2216.11 352.786 2214.23 353.202 Q2212.38 353.619 2210.44 354.499 L2210.44 337.138 Z\" fill=\"#000000\" fill-rule=\"evenodd\" fill-opacity=\"1\" /><polyline clip-path=\"url(#clip970)\" style=\"stroke:#00a9ad; stroke-linecap:butt; stroke-linejoin:round; stroke-width:4; stroke-opacity:1; fill:none\" points=\"\n",
       "  2010.77,406.258 2154.69,406.258 \n",
       "  \"/>\n",
       "<path clip-path=\"url(#clip970)\" d=\"M2192.52 425.945 Q2190.72 430.575 2189 431.987 Q2187.29 433.399 2184.42 433.399 L2181.02 433.399 L2181.02 429.834 L2183.52 429.834 Q2185.28 429.834 2186.25 429 Q2187.22 428.167 2188.4 425.065 L2189.16 423.121 L2178.68 397.612 L2183.19 397.612 L2191.29 417.889 L2199.4 397.612 L2203.91 397.612 L2192.52 425.945 Z\" fill=\"#000000\" fill-rule=\"evenodd\" fill-opacity=\"1\" /><path clip-path=\"url(#clip970)\" d=\"M2220.97 404.394 Q2217.82 404.394 2215.97 406.547 Q2214.14 408.7 2214.14 412.45 Q2214.14 416.176 2215.97 418.352 Q2217.82 420.505 2220.97 420.505 Q2224.12 420.505 2225.95 418.352 Q2227.8 416.176 2227.8 412.45 Q2227.8 408.7 2225.95 406.547 Q2224.12 404.394 2220.97 404.394 M2230.25 389.741 L2230.25 394.001 Q2228.49 393.167 2226.69 392.728 Q2224.9 392.288 2223.15 392.288 Q2218.52 392.288 2216.06 395.413 Q2213.63 398.538 2213.28 404.857 Q2214.65 402.843 2216.71 401.778 Q2218.77 400.69 2221.25 400.69 Q2226.46 400.69 2229.47 403.862 Q2232.5 407.01 2232.5 412.45 Q2232.5 417.774 2229.35 420.991 Q2226.2 424.209 2220.97 424.209 Q2214.97 424.209 2211.8 419.626 Q2208.63 415.019 2208.63 406.292 Q2208.63 398.098 2212.52 393.237 Q2216.41 388.353 2222.96 388.353 Q2224.72 388.353 2226.5 388.7 Q2228.31 389.047 2230.25 389.741 Z\" fill=\"#000000\" fill-rule=\"evenodd\" fill-opacity=\"1\" /></svg>\n"
      ]
     },
     "execution_count": 56,
     "metadata": {},
     "output_type": "execute_result"
    }
   ],
   "source": [
    "x = LinRange(-1, 1, 50)\n",
    "P = vander_legendre(x, 6)\n",
    "plot(x, P)"
   ]
  },
  {
   "cell_type": "markdown",
   "id": "1657e91e",
   "metadata": {
    "slideshow": {
     "slide_type": "slide"
    }
   },
   "source": [
    "# Prime to nodal basis\n",
    "\n",
    "A **nodal basis** $\\{ \\phi_j(x) \\}$ is one that satisfies\n",
    "$ n_i(\\phi_j) = \\delta_{ij} . $\n",
    "\n",
    "We write $\\phi_j$ in the prime basis by solving with the generalized Vandermonde matrix $V_{ij} = \\langle n_i, p_j \\rangle$,\n",
    "$$ \\phi_j(x) = \\sum_k p_k(x) (V^{-1})_{k,j} . $$"
   ]
  },
  {
   "cell_type": "code",
   "execution_count": 58,
   "id": "3fb34a25",
   "metadata": {
    "cell_style": "split",
    "slideshow": {
     "slide_type": ""
    }
   },
   "outputs": [
    {
     "data": {
      "image/svg+xml": [
       "<?xml version=\"1.0\" encoding=\"utf-8\"?>\n",
       "<svg xmlns=\"http://www.w3.org/2000/svg\" xmlns:xlink=\"http://www.w3.org/1999/xlink\" width=\"600\" height=\"400\" viewBox=\"0 0 2400 1600\">\n",
       "<defs>\n",
       "  <clipPath id=\"clip050\">\n",
       "    <rect x=\"0\" y=\"0\" width=\"2400\" height=\"1600\"/>\n",
       "  </clipPath>\n",
       "</defs>\n",
       "<path clip-path=\"url(#clip050)\" d=\"\n",
       "M0 1600 L2400 1600 L2400 0 L0 0  Z\n",
       "  \" fill=\"#ffffff\" fill-rule=\"evenodd\" fill-opacity=\"1\"/>\n",
       "<defs>\n",
       "  <clipPath id=\"clip051\">\n",
       "    <rect x=\"480\" y=\"0\" width=\"1681\" height=\"1600\"/>\n",
       "  </clipPath>\n",
       "</defs>\n",
       "<path clip-path=\"url(#clip050)\" d=\"\n",
       "M149.191 1486.45 L2352.76 1486.45 L2352.76 47.2441 L149.191 47.2441  Z\n",
       "  \" fill=\"#ffffff\" fill-rule=\"evenodd\" fill-opacity=\"1\"/>\n",
       "<defs>\n",
       "  <clipPath id=\"clip052\">\n",
       "    <rect x=\"149\" y=\"47\" width=\"2205\" height=\"1440\"/>\n",
       "  </clipPath>\n",
       "</defs>\n",
       "<polyline clip-path=\"url(#clip052)\" style=\"stroke:#000000; stroke-linecap:butt; stroke-linejoin:round; stroke-width:2; stroke-opacity:0.1; fill:none\" points=\"\n",
       "  211.556,1486.45 211.556,47.2441 \n",
       "  \"/>\n",
       "<polyline clip-path=\"url(#clip052)\" style=\"stroke:#000000; stroke-linecap:butt; stroke-linejoin:round; stroke-width:2; stroke-opacity:0.1; fill:none\" points=\"\n",
       "  731.265,1486.45 731.265,47.2441 \n",
       "  \"/>\n",
       "<polyline clip-path=\"url(#clip052)\" style=\"stroke:#000000; stroke-linecap:butt; stroke-linejoin:round; stroke-width:2; stroke-opacity:0.1; fill:none\" points=\"\n",
       "  1250.97,1486.45 1250.97,47.2441 \n",
       "  \"/>\n",
       "<polyline clip-path=\"url(#clip052)\" style=\"stroke:#000000; stroke-linecap:butt; stroke-linejoin:round; stroke-width:2; stroke-opacity:0.1; fill:none\" points=\"\n",
       "  1770.68,1486.45 1770.68,47.2441 \n",
       "  \"/>\n",
       "<polyline clip-path=\"url(#clip052)\" style=\"stroke:#000000; stroke-linecap:butt; stroke-linejoin:round; stroke-width:2; stroke-opacity:0.1; fill:none\" points=\"\n",
       "  2290.39,1486.45 2290.39,47.2441 \n",
       "  \"/>\n",
       "<polyline clip-path=\"url(#clip050)\" style=\"stroke:#000000; stroke-linecap:butt; stroke-linejoin:round; stroke-width:4; stroke-opacity:1; fill:none\" points=\"\n",
       "  149.191,1486.45 2352.76,1486.45 \n",
       "  \"/>\n",
       "<polyline clip-path=\"url(#clip050)\" style=\"stroke:#000000; stroke-linecap:butt; stroke-linejoin:round; stroke-width:4; stroke-opacity:1; fill:none\" points=\"\n",
       "  211.556,1486.45 211.556,1467.55 \n",
       "  \"/>\n",
       "<polyline clip-path=\"url(#clip050)\" style=\"stroke:#000000; stroke-linecap:butt; stroke-linejoin:round; stroke-width:4; stroke-opacity:1; fill:none\" points=\"\n",
       "  731.265,1486.45 731.265,1467.55 \n",
       "  \"/>\n",
       "<polyline clip-path=\"url(#clip050)\" style=\"stroke:#000000; stroke-linecap:butt; stroke-linejoin:round; stroke-width:4; stroke-opacity:1; fill:none\" points=\"\n",
       "  1250.97,1486.45 1250.97,1467.55 \n",
       "  \"/>\n",
       "<polyline clip-path=\"url(#clip050)\" style=\"stroke:#000000; stroke-linecap:butt; stroke-linejoin:round; stroke-width:4; stroke-opacity:1; fill:none\" points=\"\n",
       "  1770.68,1486.45 1770.68,1467.55 \n",
       "  \"/>\n",
       "<polyline clip-path=\"url(#clip050)\" style=\"stroke:#000000; stroke-linecap:butt; stroke-linejoin:round; stroke-width:4; stroke-opacity:1; fill:none\" points=\"\n",
       "  2290.39,1486.45 2290.39,1467.55 \n",
       "  \"/>\n",
       "<path clip-path=\"url(#clip050)\" d=\"M158.084 1530.29 L187.76 1530.29 L187.76 1534.23 L158.084 1534.23 L158.084 1530.29 Z\" fill=\"#000000\" fill-rule=\"evenodd\" fill-opacity=\"1\" /><path clip-path=\"url(#clip050)\" d=\"M198.662 1543.18 L206.301 1543.18 L206.301 1516.82 L197.991 1518.49 L197.991 1514.23 L206.255 1512.56 L210.931 1512.56 L210.931 1543.18 L218.57 1543.18 L218.57 1547.12 L198.662 1547.12 L198.662 1543.18 Z\" fill=\"#000000\" fill-rule=\"evenodd\" fill-opacity=\"1\" /><path clip-path=\"url(#clip050)\" d=\"M228.014 1541.24 L232.898 1541.24 L232.898 1547.12 L228.014 1547.12 L228.014 1541.24 Z\" fill=\"#000000\" fill-rule=\"evenodd\" fill-opacity=\"1\" /><path clip-path=\"url(#clip050)\" d=\"M253.083 1515.64 Q249.472 1515.64 247.644 1519.2 Q245.838 1522.75 245.838 1529.87 Q245.838 1536.98 247.644 1540.55 Q249.472 1544.09 253.083 1544.09 Q256.718 1544.09 258.523 1540.55 Q260.352 1536.98 260.352 1529.87 Q260.352 1522.75 258.523 1519.2 Q256.718 1515.64 253.083 1515.64 M253.083 1511.93 Q258.894 1511.93 261.949 1516.54 Q265.028 1521.12 265.028 1529.87 Q265.028 1538.6 261.949 1543.21 Q258.894 1547.79 253.083 1547.79 Q247.273 1547.79 244.195 1543.21 Q241.139 1538.6 241.139 1529.87 Q241.139 1521.12 244.195 1516.54 Q247.273 1511.93 253.083 1511.93 Z\" fill=\"#000000\" fill-rule=\"evenodd\" fill-opacity=\"1\" /><path clip-path=\"url(#clip050)\" d=\"M678.29 1530.29 L707.966 1530.29 L707.966 1534.23 L678.29 1534.23 L678.29 1530.29 Z\" fill=\"#000000\" fill-rule=\"evenodd\" fill-opacity=\"1\" /><path clip-path=\"url(#clip050)\" d=\"M728.059 1515.64 Q724.448 1515.64 722.619 1519.2 Q720.813 1522.75 720.813 1529.87 Q720.813 1536.98 722.619 1540.55 Q724.448 1544.09 728.059 1544.09 Q731.693 1544.09 733.498 1540.55 Q735.327 1536.98 735.327 1529.87 Q735.327 1522.75 733.498 1519.2 Q731.693 1515.64 728.059 1515.64 M728.059 1511.93 Q733.869 1511.93 736.924 1516.54 Q740.003 1521.12 740.003 1529.87 Q740.003 1538.6 736.924 1543.21 Q733.869 1547.79 728.059 1547.79 Q722.248 1547.79 719.17 1543.21 Q716.114 1538.6 716.114 1529.87 Q716.114 1521.12 719.17 1516.54 Q722.248 1511.93 728.059 1511.93 Z\" fill=\"#000000\" fill-rule=\"evenodd\" fill-opacity=\"1\" /><path clip-path=\"url(#clip050)\" d=\"M748.221 1541.24 L753.105 1541.24 L753.105 1547.12 L748.221 1547.12 L748.221 1541.24 Z\" fill=\"#000000\" fill-rule=\"evenodd\" fill-opacity=\"1\" /><path clip-path=\"url(#clip050)\" d=\"M763.336 1512.56 L781.693 1512.56 L781.693 1516.5 L767.619 1516.5 L767.619 1524.97 Q768.637 1524.62 769.656 1524.46 Q770.674 1524.27 771.693 1524.27 Q777.48 1524.27 780.859 1527.44 Q784.239 1530.62 784.239 1536.03 Q784.239 1541.61 780.767 1544.71 Q777.294 1547.79 770.975 1547.79 Q768.799 1547.79 766.531 1547.42 Q764.285 1547.05 761.878 1546.31 L761.878 1541.61 Q763.961 1542.74 766.183 1543.3 Q768.406 1543.86 770.882 1543.86 Q774.887 1543.86 777.225 1541.75 Q779.563 1539.64 779.563 1536.03 Q779.563 1532.42 777.225 1530.31 Q774.887 1528.21 770.882 1528.21 Q769.008 1528.21 767.133 1528.62 Q765.281 1529.04 763.336 1529.92 L763.336 1512.56 Z\" fill=\"#000000\" fill-rule=\"evenodd\" fill-opacity=\"1\" /><path clip-path=\"url(#clip050)\" d=\"M1228.36 1515.64 Q1224.75 1515.64 1222.92 1519.2 Q1221.11 1522.75 1221.11 1529.87 Q1221.11 1536.98 1222.92 1540.55 Q1224.75 1544.09 1228.36 1544.09 Q1231.99 1544.09 1233.8 1540.55 Q1235.63 1536.98 1235.63 1529.87 Q1235.63 1522.75 1233.8 1519.2 Q1231.99 1515.64 1228.36 1515.64 M1228.36 1511.93 Q1234.17 1511.93 1237.22 1516.54 Q1240.3 1521.12 1240.3 1529.87 Q1240.3 1538.6 1237.22 1543.21 Q1234.17 1547.79 1228.36 1547.79 Q1222.55 1547.79 1219.47 1543.21 Q1216.41 1538.6 1216.41 1529.87 Q1216.41 1521.12 1219.47 1516.54 Q1222.55 1511.93 1228.36 1511.93 Z\" fill=\"#000000\" fill-rule=\"evenodd\" fill-opacity=\"1\" /><path clip-path=\"url(#clip050)\" d=\"M1248.52 1541.24 L1253.4 1541.24 L1253.4 1547.12 L1248.52 1547.12 L1248.52 1541.24 Z\" fill=\"#000000\" fill-rule=\"evenodd\" fill-opacity=\"1\" /><path clip-path=\"url(#clip050)\" d=\"M1273.59 1515.64 Q1269.98 1515.64 1268.15 1519.2 Q1266.34 1522.75 1266.34 1529.87 Q1266.34 1536.98 1268.15 1540.55 Q1269.98 1544.09 1273.59 1544.09 Q1277.22 1544.09 1279.03 1540.55 Q1280.86 1536.98 1280.86 1529.87 Q1280.86 1522.75 1279.03 1519.2 Q1277.22 1515.64 1273.59 1515.64 M1273.59 1511.93 Q1279.4 1511.93 1282.45 1516.54 Q1285.53 1521.12 1285.53 1529.87 Q1285.53 1538.6 1282.45 1543.21 Q1279.4 1547.79 1273.59 1547.79 Q1267.78 1547.79 1264.7 1543.21 Q1261.64 1538.6 1261.64 1529.87 Q1261.64 1521.12 1264.7 1516.54 Q1267.78 1511.93 1273.59 1511.93 Z\" fill=\"#000000\" fill-rule=\"evenodd\" fill-opacity=\"1\" /><path clip-path=\"url(#clip050)\" d=\"M1748.56 1515.64 Q1744.95 1515.64 1743.12 1519.2 Q1741.32 1522.75 1741.32 1529.87 Q1741.32 1536.98 1743.12 1540.55 Q1744.95 1544.09 1748.56 1544.09 Q1752.2 1544.09 1754 1540.55 Q1755.83 1536.98 1755.83 1529.87 Q1755.83 1522.75 1754 1519.2 Q1752.2 1515.64 1748.56 1515.64 M1748.56 1511.93 Q1754.37 1511.93 1757.43 1516.54 Q1760.51 1521.12 1760.51 1529.87 Q1760.51 1538.6 1757.43 1543.21 Q1754.37 1547.79 1748.56 1547.79 Q1742.75 1547.79 1739.68 1543.21 Q1736.62 1538.6 1736.62 1529.87 Q1736.62 1521.12 1739.68 1516.54 Q1742.75 1511.93 1748.56 1511.93 Z\" fill=\"#000000\" fill-rule=\"evenodd\" fill-opacity=\"1\" /><path clip-path=\"url(#clip050)\" d=\"M1768.73 1541.24 L1773.61 1541.24 L1773.61 1547.12 L1768.73 1547.12 L1768.73 1541.24 Z\" fill=\"#000000\" fill-rule=\"evenodd\" fill-opacity=\"1\" /><path clip-path=\"url(#clip050)\" d=\"M1783.84 1512.56 L1802.2 1512.56 L1802.2 1516.5 L1788.12 1516.5 L1788.12 1524.97 Q1789.14 1524.62 1790.16 1524.46 Q1791.18 1524.27 1792.2 1524.27 Q1797.99 1524.27 1801.36 1527.44 Q1804.74 1530.62 1804.74 1536.03 Q1804.74 1541.61 1801.27 1544.71 Q1797.8 1547.79 1791.48 1547.79 Q1789.3 1547.79 1787.04 1547.42 Q1784.79 1547.05 1782.38 1546.31 L1782.38 1541.61 Q1784.47 1542.74 1786.69 1543.3 Q1788.91 1543.86 1791.39 1543.86 Q1795.39 1543.86 1797.73 1541.75 Q1800.07 1539.64 1800.07 1536.03 Q1800.07 1532.42 1797.73 1530.31 Q1795.39 1528.21 1791.39 1528.21 Q1789.51 1528.21 1787.64 1528.62 Q1785.79 1529.04 1783.84 1529.92 L1783.84 1512.56 Z\" fill=\"#000000\" fill-rule=\"evenodd\" fill-opacity=\"1\" /><path clip-path=\"url(#clip050)\" d=\"M2257.54 1543.18 L2265.18 1543.18 L2265.18 1516.82 L2256.87 1518.49 L2256.87 1514.23 L2265.14 1512.56 L2269.81 1512.56 L2269.81 1543.18 L2277.45 1543.18 L2277.45 1547.12 L2257.54 1547.12 L2257.54 1543.18 Z\" fill=\"#000000\" fill-rule=\"evenodd\" fill-opacity=\"1\" /><path clip-path=\"url(#clip050)\" d=\"M2286.9 1541.24 L2291.78 1541.24 L2291.78 1547.12 L2286.9 1547.12 L2286.9 1541.24 Z\" fill=\"#000000\" fill-rule=\"evenodd\" fill-opacity=\"1\" /><path clip-path=\"url(#clip050)\" d=\"M2311.96 1515.64 Q2308.35 1515.64 2306.53 1519.2 Q2304.72 1522.75 2304.72 1529.87 Q2304.72 1536.98 2306.53 1540.55 Q2308.35 1544.09 2311.96 1544.09 Q2315.6 1544.09 2317.4 1540.55 Q2319.23 1536.98 2319.23 1529.87 Q2319.23 1522.75 2317.4 1519.2 Q2315.6 1515.64 2311.96 1515.64 M2311.96 1511.93 Q2317.77 1511.93 2320.83 1516.54 Q2323.91 1521.12 2323.91 1529.87 Q2323.91 1538.6 2320.83 1543.21 Q2317.77 1547.79 2311.96 1547.79 Q2306.15 1547.79 2303.08 1543.21 Q2300.02 1538.6 2300.02 1529.87 Q2300.02 1521.12 2303.08 1516.54 Q2306.15 1511.93 2311.96 1511.93 Z\" fill=\"#000000\" fill-rule=\"evenodd\" fill-opacity=\"1\" /><polyline clip-path=\"url(#clip052)\" style=\"stroke:#000000; stroke-linecap:butt; stroke-linejoin:round; stroke-width:2; stroke-opacity:0.1; fill:none\" points=\"\n",
       "  149.191,1453.7 2352.76,1453.7 \n",
       "  \"/>\n",
       "<polyline clip-path=\"url(#clip052)\" style=\"stroke:#000000; stroke-linecap:butt; stroke-linejoin:round; stroke-width:2; stroke-opacity:0.1; fill:none\" points=\"\n",
       "  149.191,1096.11 2352.76,1096.11 \n",
       "  \"/>\n",
       "<polyline clip-path=\"url(#clip052)\" style=\"stroke:#000000; stroke-linecap:butt; stroke-linejoin:round; stroke-width:2; stroke-opacity:0.1; fill:none\" points=\"\n",
       "  149.191,738.522 2352.76,738.522 \n",
       "  \"/>\n",
       "<polyline clip-path=\"url(#clip052)\" style=\"stroke:#000000; stroke-linecap:butt; stroke-linejoin:round; stroke-width:2; stroke-opacity:0.1; fill:none\" points=\"\n",
       "  149.191,380.935 2352.76,380.935 \n",
       "  \"/>\n",
       "<polyline clip-path=\"url(#clip050)\" style=\"stroke:#000000; stroke-linecap:butt; stroke-linejoin:round; stroke-width:4; stroke-opacity:1; fill:none\" points=\"\n",
       "  149.191,1486.45 149.191,47.2441 \n",
       "  \"/>\n",
       "<polyline clip-path=\"url(#clip050)\" style=\"stroke:#000000; stroke-linecap:butt; stroke-linejoin:round; stroke-width:4; stroke-opacity:1; fill:none\" points=\"\n",
       "  149.191,1453.7 168.089,1453.7 \n",
       "  \"/>\n",
       "<polyline clip-path=\"url(#clip050)\" style=\"stroke:#000000; stroke-linecap:butt; stroke-linejoin:round; stroke-width:4; stroke-opacity:1; fill:none\" points=\"\n",
       "  149.191,1096.11 168.089,1096.11 \n",
       "  \"/>\n",
       "<polyline clip-path=\"url(#clip050)\" style=\"stroke:#000000; stroke-linecap:butt; stroke-linejoin:round; stroke-width:4; stroke-opacity:1; fill:none\" points=\"\n",
       "  149.191,738.522 168.089,738.522 \n",
       "  \"/>\n",
       "<polyline clip-path=\"url(#clip050)\" style=\"stroke:#000000; stroke-linecap:butt; stroke-linejoin:round; stroke-width:4; stroke-opacity:1; fill:none\" points=\"\n",
       "  149.191,380.935 168.089,380.935 \n",
       "  \"/>\n",
       "<path clip-path=\"url(#clip050)\" d=\"M50.9921 1454.15 L80.6679 1454.15 L80.6679 1458.08 L50.9921 1458.08 L50.9921 1454.15 Z\" fill=\"#000000\" fill-rule=\"evenodd\" fill-opacity=\"1\" /><path clip-path=\"url(#clip050)\" d=\"M103.608 1440.49 L91.8021 1458.94 L103.608 1458.94 L103.608 1440.49 M102.381 1436.42 L108.26 1436.42 L108.26 1458.94 L113.191 1458.94 L113.191 1462.83 L108.26 1462.83 L108.26 1470.98 L103.608 1470.98 L103.608 1462.83 L88.0058 1462.83 L88.0058 1458.31 L102.381 1436.42 Z\" fill=\"#000000\" fill-rule=\"evenodd\" fill-opacity=\"1\" /><path clip-path=\"url(#clip050)\" d=\"M53.0754 1096.56 L82.7512 1096.56 L82.7512 1100.5 L53.0754 1100.5 L53.0754 1096.56 Z\" fill=\"#000000\" fill-rule=\"evenodd\" fill-opacity=\"1\" /><path clip-path=\"url(#clip050)\" d=\"M96.8715 1109.45 L113.191 1109.45 L113.191 1113.39 L91.2465 1113.39 L91.2465 1109.45 Q93.9086 1106.7 98.4919 1102.07 Q103.098 1097.42 104.279 1096.07 Q106.524 1093.55 107.404 1091.81 Q108.307 1090.06 108.307 1088.37 Q108.307 1085.61 106.362 1083.87 Q104.441 1082.14 101.339 1082.14 Q99.14 1082.14 96.6863 1082.9 Q94.2558 1083.67 91.478 1085.22 L91.478 1080.5 Q94.3021 1079.36 96.7558 1078.78 Q99.2095 1078.2 101.246 1078.2 Q106.617 1078.2 109.811 1080.89 Q113.006 1083.57 113.006 1088.06 Q113.006 1090.19 112.196 1092.12 Q111.408 1094.01 109.302 1096.61 Q108.723 1097.28 105.621 1100.5 Q102.52 1103.69 96.8715 1109.45 Z\" fill=\"#000000\" fill-rule=\"evenodd\" fill-opacity=\"1\" /><path clip-path=\"url(#clip050)\" d=\"M101.246 724.32 Q97.6354 724.32 95.8067 727.885 Q94.0012 731.427 94.0012 738.556 Q94.0012 745.663 95.8067 749.228 Q97.6354 752.769 101.246 752.769 Q104.881 752.769 106.686 749.228 Q108.515 745.663 108.515 738.556 Q108.515 731.427 106.686 727.885 Q104.881 724.32 101.246 724.32 M101.246 720.617 Q107.057 720.617 110.112 725.223 Q113.191 729.806 113.191 738.556 Q113.191 747.283 110.112 751.89 Q107.057 756.473 101.246 756.473 Q95.4363 756.473 92.3576 751.89 Q89.3021 747.283 89.3021 738.556 Q89.3021 729.806 92.3576 725.223 Q95.4363 720.617 101.246 720.617 Z\" fill=\"#000000\" fill-rule=\"evenodd\" fill-opacity=\"1\" /><path clip-path=\"url(#clip050)\" d=\"M96.8715 394.28 L113.191 394.28 L113.191 398.215 L91.2465 398.215 L91.2465 394.28 Q93.9086 391.525 98.4919 386.895 Q103.098 382.243 104.279 380.9 Q106.524 378.377 107.404 376.641 Q108.307 374.882 108.307 373.192 Q108.307 370.437 106.362 368.701 Q104.441 366.965 101.339 366.965 Q99.14 366.965 96.6863 367.729 Q94.2558 368.493 91.478 370.044 L91.478 365.321 Q94.3021 364.187 96.7558 363.608 Q99.2095 363.03 101.246 363.03 Q106.617 363.03 109.811 365.715 Q113.006 368.4 113.006 372.891 Q113.006 375.02 112.196 376.942 Q111.408 378.84 109.302 381.432 Q108.723 382.104 105.621 385.321 Q102.52 388.516 96.8715 394.28 Z\" fill=\"#000000\" fill-rule=\"evenodd\" fill-opacity=\"1\" /><polyline clip-path=\"url(#clip052)\" style=\"stroke:#009af9; stroke-linecap:butt; stroke-linejoin:round; stroke-width:16; stroke-opacity:1; fill:none\" points=\"\n",
       "  211.556,559.728 253.981,635.203 296.406,683.019 338.832,711.882 381.257,728.184 423.682,736.507 466.107,740.045 508.532,740.946 550.958,740.59 593.383,739.802 \n",
       "  635.808,739.03 678.233,738.473 720.658,738.175 763.084,738.099 805.509,738.173 847.934,738.32 890.359,738.476 932.784,738.597 975.21,738.664 1017.63,738.673 \n",
       "  1060.06,738.636 1102.49,738.574 1144.91,738.507 1187.34,738.455 1229.76,738.428 1272.19,738.432 1314.61,738.462 1357.04,738.51 1399.46,738.561 1441.89,738.601 \n",
       "  1484.31,738.617 1526.74,738.604 1569.16,738.562 1611.59,738.499 1654.01,738.433 1696.44,738.382 1738.86,738.369 1781.29,738.409 1823.71,738.507 1866.14,738.652 \n",
       "  1908.56,738.81 1950.99,738.925 1993.41,738.926 2035.84,738.734 2078.26,738.293 2120.69,737.603 2163.12,736.784 2205.54,736.16 2247.97,736.369 2290.39,738.522 \n",
       "  \n",
       "  \"/>\n",
       "<polyline clip-path=\"url(#clip052)\" style=\"stroke:#e26f46; stroke-linecap:butt; stroke-linejoin:round; stroke-width:16; stroke-opacity:1; fill:none\" points=\"\n",
       "  211.556,738.522 253.981,529.301 296.406,448.474 338.832,444.28 381.257,480.882 423.682,534.535 466.107,590.456 508.532,640.316 550.958,680.258 593.383,709.359 \n",
       "  635.808,728.476 678.233,739.395 720.658,744.238 763.084,745.067 805.509,743.655 847.934,741.37 890.359,739.147 932.784,737.519 975.21,736.689 1017.63,736.616 \n",
       "  1060.06,737.103 1102.49,737.884 1144.91,738.691 1187.34,739.311 1229.76,739.611 1272.19,739.556 1314.61,739.196 1357.04,738.652 1399.46,738.082 1441.89,737.645 \n",
       "  1484.31,737.47 1526.74,737.621 1569.16,738.085 1611.59,738.761 1654.01,739.475 1696.44,740.008 1738.86,740.14 1781.29,739.709 1823.71,738.671 1866.14,737.158 \n",
       "  1908.56,735.521 1950.99,734.334 1993.41,734.343 2035.84,736.331 2078.26,740.873 2120.69,747.93 2163.12,756.257 2205.54,762.563 2247.97,760.372 2290.39,738.522 \n",
       "  \n",
       "  \"/>\n",
       "<polyline clip-path=\"url(#clip052)\" style=\"stroke:#3da44d; stroke-linecap:butt; stroke-linejoin:round; stroke-width:16; stroke-opacity:1; fill:none\" points=\"\n",
       "  211.556,738.522 253.981,1114.65 296.406,1188.1 338.832,1103.22 381.257,954.607 423.682,800.103 466.107,671.219 508.532,581.393 550.958,532.357 593.383,518.943 \n",
       "  635.808,532.587 678.233,563.772 720.658,603.621 763.084,644.822 805.509,682.052 847.934,712.038 890.359,733.36 932.784,746.108 975.21,751.462 1017.63,751.258 \n",
       "  1060.06,747.585 1102.49,742.447 1144.91,737.511 1187.34,733.945 1229.76,732.353 1272.19,732.79 1314.61,734.854 1357.04,737.824 1399.46,740.841 1441.89,743.081 \n",
       "  1484.31,743.927 1526.74,743.097 1569.16,740.718 1611.59,737.328 1654.01,733.811 1696.44,731.235 1738.86,730.644 1781.29,732.781 1823.71,737.805 1866.14,745.033 \n",
       "  1908.56,752.769 1950.99,758.301 1993.41,758.163 2035.84,748.768 2078.26,727.569 2120.69,694.882 2163.12,656.581 2205.54,627.857 2247.97,638.296 2290.39,738.522 \n",
       "  \n",
       "  \"/>\n",
       "<polyline clip-path=\"url(#clip052)\" style=\"stroke:#c271d2; stroke-linecap:butt; stroke-linejoin:round; stroke-width:16; stroke-opacity:1; fill:none\" points=\"\n",
       "  211.556,738.522 253.981,172.513 296.406,87.9763 338.832,235.041 381.257,456.897 423.682,663.86 466.107,812.82 508.532,891.285 550.958,905.286 593.383,870.491 \n",
       "  635.808,805.962 678.233,730.027 720.658,657.812 763.084,600.054 805.509,562.839 847.934,547.987 890.359,553.84 932.784,576.262 975.21,609.691 1017.63,648.127 \n",
       "  1060.06,685.973 1102.49,718.678 1144.91,743.147 1187.34,757.921 1229.76,763.135 1272.19,760.295 1314.61,751.9 1357.04,740.979 1399.46,730.584 1441.89,723.31 \n",
       "  1484.31,720.884 1526.74,723.882 1569.16,731.617 1611.59,742.215 1654.01,752.902 1696.44,760.482 1738.86,761.991 1781.29,755.445 1823.71,740.613 1866.14,719.678 \n",
       "  1908.56,697.63 1950.99,682.182 1993.41,682.971 2035.84,709.731 2078.26,769.106 2120.69,859.686 2163.12,964.805 2205.54,1042.58 2247.97,1012.59 2290.39,738.522 \n",
       "  \n",
       "  \"/>\n",
       "<polyline clip-path=\"url(#clip052)\" style=\"stroke:#ac8d18; stroke-linecap:butt; stroke-linejoin:round; stroke-width:16; stroke-opacity:1; fill:none\" points=\"\n",
       "  211.556,738.522 253.981,1365.07 296.406,1445.72 338.832,1274.77 381.257,1031.59 423.682,814.172 466.107,665.532 508.532,593.798 550.958,587.223 593.383,624.913 \n",
       "  635.808,684.124 678.233,744.827 720.658,792.175 763.084,817.396 805.509,817.579 847.934,794.745 890.359,754.504 932.784,704.56 975.21,653.266 1017.63,608.353 \n",
       "  1060.06,575.949 1102.49,559.927 1144.91,561.608 1187.34,579.803 1229.76,611.146 1272.19,650.676 1314.61,692.577 1357.04,730.993 1399.46,760.846 1441.89,778.54 \n",
       "  1484.31,782.498 1526.74,773.446 1569.16,754.395 1611.59,730.293 1654.01,707.343 1696.44,692.017 1738.86,689.842 1781.29,704.058 1823.71,734.332 1866.14,775.723 \n",
       "  1908.56,818.186 1950.99,846.967 1993.41,844.281 2035.84,792.787 2078.26,681.405 2120.69,514.166 2163.12,322.804 2205.54,183.982 2247.97,242.065 2290.39,738.522 \n",
       "  \n",
       "  \"/>\n",
       "<polyline clip-path=\"url(#clip052)\" style=\"stroke:#00a9ad; stroke-linecap:butt; stroke-linejoin:round; stroke-width:16; stroke-opacity:1; fill:none\" points=\"\n",
       "  211.556,738.522 253.981,242.065 296.406,183.982 338.832,322.804 381.257,514.166 423.682,681.405 466.107,792.787 508.532,844.281 550.958,846.967 593.383,818.186 \n",
       "  635.808,775.723 678.233,734.332 720.658,704.058 763.084,689.842 805.509,692.017 847.934,707.343 890.359,730.293 932.784,754.395 975.21,773.446 1017.63,782.498 \n",
       "  1060.06,778.54 1102.49,760.846 1144.91,730.993 1187.34,692.577 1229.76,650.676 1272.19,611.146 1314.61,579.803 1357.04,561.608 1399.46,559.927 1441.89,575.949 \n",
       "  1484.31,608.353 1526.74,653.266 1569.16,704.56 1611.59,754.504 1654.01,794.745 1696.44,817.579 1738.86,817.396 1781.29,792.175 1823.71,744.827 1866.14,684.124 \n",
       "  1908.56,624.913 1950.99,587.223 1993.41,593.798 2035.84,665.532 2078.26,814.172 2120.69,1031.59 2163.12,1274.77 2205.54,1445.72 2247.97,1365.07 2290.39,738.522 \n",
       "  \n",
       "  \"/>\n",
       "<polyline clip-path=\"url(#clip052)\" style=\"stroke:#ed5d92; stroke-linecap:butt; stroke-linejoin:round; stroke-width:16; stroke-opacity:1; fill:none\" points=\"\n",
       "  211.556,738.522 253.981,1012.59 296.406,1042.58 338.832,964.805 381.257,859.686 423.682,769.106 466.107,709.731 508.532,682.971 550.958,682.182 593.383,697.63 \n",
       "  635.808,719.678 678.233,740.613 720.658,755.445 763.084,761.991 805.509,760.482 847.934,752.902 890.359,742.215 932.784,731.617 975.21,723.882 1017.63,720.884 \n",
       "  1060.06,723.31 1102.49,730.584 1144.91,740.979 1187.34,751.9 1229.76,760.295 1272.19,763.135 1314.61,757.921 1357.04,743.147 1399.46,718.678 1441.89,685.973 \n",
       "  1484.31,648.127 1526.74,609.691 1569.16,576.262 1611.59,553.84 1654.01,547.987 1696.44,562.839 1738.86,600.054 1781.29,657.812 1823.71,730.027 1866.14,805.962 \n",
       "  1908.56,870.491 1950.99,905.286 1993.41,891.285 2035.84,812.82 2078.26,663.86 2120.69,456.897 2163.12,235.041 2205.54,87.9763 2247.97,172.513 2290.39,738.522 \n",
       "  \n",
       "  \"/>\n",
       "<polyline clip-path=\"url(#clip052)\" style=\"stroke:#c68125; stroke-linecap:butt; stroke-linejoin:round; stroke-width:16; stroke-opacity:1; fill:none\" points=\"\n",
       "  211.556,738.522 253.981,638.296 296.406,627.857 338.832,656.581 381.257,694.882 423.682,727.569 466.107,748.768 508.532,758.163 550.958,758.301 593.383,752.769 \n",
       "  635.808,745.033 678.233,737.805 720.658,732.781 763.084,730.644 805.509,731.235 847.934,733.811 890.359,737.328 932.784,740.718 975.21,743.097 1017.63,743.927 \n",
       "  1060.06,743.081 1102.49,740.841 1144.91,737.824 1187.34,734.854 1229.76,732.79 1272.19,732.353 1314.61,733.945 1357.04,737.511 1399.46,742.447 1441.89,747.585 \n",
       "  1484.31,751.258 1526.74,751.462 1569.16,746.108 1611.59,733.36 1654.01,712.038 1696.44,682.052 1738.86,644.822 1781.29,603.621 1823.71,563.772 1866.14,532.587 \n",
       "  1908.56,518.943 1950.99,532.357 1993.41,581.393 2035.84,671.219 2078.26,800.103 2120.69,954.607 2163.12,1103.22 2205.54,1188.1 2247.97,1114.65 2290.39,738.522 \n",
       "  \n",
       "  \"/>\n",
       "<polyline clip-path=\"url(#clip052)\" style=\"stroke:#00a98d; stroke-linecap:butt; stroke-linejoin:round; stroke-width:16; stroke-opacity:1; fill:none\" points=\"\n",
       "  211.556,738.522 253.981,760.372 296.406,762.563 338.832,756.257 381.257,747.93 423.682,740.873 466.107,736.331 508.532,734.343 550.958,734.334 593.383,735.521 \n",
       "  635.808,737.158 678.233,738.671 720.658,739.709 763.084,740.14 805.509,740.008 847.934,739.475 890.359,738.761 932.784,738.085 975.21,737.621 1017.63,737.47 \n",
       "  1060.06,737.645 1102.49,738.082 1144.91,738.652 1187.34,739.196 1229.76,739.556 1272.19,739.611 1314.61,739.311 1357.04,738.691 1399.46,737.884 1441.89,737.103 \n",
       "  1484.31,736.616 1526.74,736.689 1569.16,737.519 1611.59,739.147 1654.01,741.37 1696.44,743.655 1738.86,745.067 1781.29,744.238 1823.71,739.395 1866.14,728.476 \n",
       "  1908.56,709.359 1950.99,680.258 1993.41,640.316 2035.84,590.456 2078.26,534.535 2120.69,480.882 2163.12,444.28 2205.54,448.474 2247.97,529.301 2290.39,738.522 \n",
       "  \n",
       "  \"/>\n",
       "<polyline clip-path=\"url(#clip052)\" style=\"stroke:#8e971d; stroke-linecap:butt; stroke-linejoin:round; stroke-width:16; stroke-opacity:1; fill:none\" points=\"\n",
       "  211.556,738.522 253.981,736.369 296.406,736.16 338.832,736.784 381.257,737.603 423.682,738.293 466.107,738.734 508.532,738.926 550.958,738.925 593.383,738.81 \n",
       "  635.808,738.652 678.233,738.507 720.658,738.409 763.084,738.369 805.509,738.382 847.934,738.433 890.359,738.499 932.784,738.562 975.21,738.604 1017.63,738.617 \n",
       "  1060.06,738.601 1102.49,738.561 1144.91,738.51 1187.34,738.462 1229.76,738.432 1272.19,738.428 1314.61,738.455 1357.04,738.507 1399.46,738.574 1441.89,738.636 \n",
       "  1484.31,738.673 1526.74,738.664 1569.16,738.597 1611.59,738.476 1654.01,738.32 1696.44,738.173 1738.86,738.099 1781.29,738.175 1823.71,738.473 1866.14,739.03 \n",
       "  1908.56,739.802 1950.99,740.59 1993.41,740.946 2035.84,740.045 2078.26,736.507 2120.69,728.184 2163.12,711.882 2205.54,683.019 2247.97,635.203 2290.39,559.728 \n",
       "  \n",
       "  \"/>\n",
       "<circle clip-path=\"url(#clip052)\" cx=\"211.556\" cy=\"559.728\" r=\"14\" fill=\"#00a8cb\" fill-rule=\"evenodd\" fill-opacity=\"1\" stroke=\"#000000\" stroke-opacity=\"1\" stroke-width=\"3.2\"/>\n",
       "<circle clip-path=\"url(#clip052)\" cx=\"442.538\" cy=\"559.728\" r=\"14\" fill=\"#00a8cb\" fill-rule=\"evenodd\" fill-opacity=\"1\" stroke=\"#000000\" stroke-opacity=\"1\" stroke-width=\"3.2\"/>\n",
       "<circle clip-path=\"url(#clip052)\" cx=\"673.519\" cy=\"559.728\" r=\"14\" fill=\"#00a8cb\" fill-rule=\"evenodd\" fill-opacity=\"1\" stroke=\"#000000\" stroke-opacity=\"1\" stroke-width=\"3.2\"/>\n",
       "<circle clip-path=\"url(#clip052)\" cx=\"904.501\" cy=\"559.728\" r=\"14\" fill=\"#00a8cb\" fill-rule=\"evenodd\" fill-opacity=\"1\" stroke=\"#000000\" stroke-opacity=\"1\" stroke-width=\"3.2\"/>\n",
       "<circle clip-path=\"url(#clip052)\" cx=\"1135.48\" cy=\"559.728\" r=\"14\" fill=\"#00a8cb\" fill-rule=\"evenodd\" fill-opacity=\"1\" stroke=\"#000000\" stroke-opacity=\"1\" stroke-width=\"3.2\"/>\n",
       "<circle clip-path=\"url(#clip052)\" cx=\"1366.46\" cy=\"559.728\" r=\"14\" fill=\"#00a8cb\" fill-rule=\"evenodd\" fill-opacity=\"1\" stroke=\"#000000\" stroke-opacity=\"1\" stroke-width=\"3.2\"/>\n",
       "<circle clip-path=\"url(#clip052)\" cx=\"1597.45\" cy=\"559.728\" r=\"14\" fill=\"#00a8cb\" fill-rule=\"evenodd\" fill-opacity=\"1\" stroke=\"#000000\" stroke-opacity=\"1\" stroke-width=\"3.2\"/>\n",
       "<circle clip-path=\"url(#clip052)\" cx=\"1828.43\" cy=\"559.728\" r=\"14\" fill=\"#00a8cb\" fill-rule=\"evenodd\" fill-opacity=\"1\" stroke=\"#000000\" stroke-opacity=\"1\" stroke-width=\"3.2\"/>\n",
       "<circle clip-path=\"url(#clip052)\" cx=\"2059.41\" cy=\"559.728\" r=\"14\" fill=\"#00a8cb\" fill-rule=\"evenodd\" fill-opacity=\"1\" stroke=\"#000000\" stroke-opacity=\"1\" stroke-width=\"3.2\"/>\n",
       "<circle clip-path=\"url(#clip052)\" cx=\"2290.39\" cy=\"559.728\" r=\"14\" fill=\"#00a8cb\" fill-rule=\"evenodd\" fill-opacity=\"1\" stroke=\"#000000\" stroke-opacity=\"1\" stroke-width=\"3.2\"/>\n",
       "<path clip-path=\"url(#clip050)\" d=\"\n",
       "M1950.64 717.298 L2279.3 717.298 L2279.3 95.2176 L1950.64 95.2176  Z\n",
       "  \" fill=\"#ffffff\" fill-rule=\"evenodd\" fill-opacity=\"1\"/>\n",
       "<polyline clip-path=\"url(#clip050)\" style=\"stroke:#000000; stroke-linecap:butt; stroke-linejoin:round; stroke-width:4; stroke-opacity:1; fill:none\" points=\"\n",
       "  1950.64,717.298 2279.3,717.298 2279.3,95.2176 1950.64,95.2176 1950.64,717.298 \n",
       "  \"/>\n",
       "<polyline clip-path=\"url(#clip050)\" style=\"stroke:#009af9; stroke-linecap:butt; stroke-linejoin:round; stroke-width:4; stroke-opacity:1; fill:none\" points=\"\n",
       "  1975.13,147.058 2122.03,147.058 \n",
       "  \"/>\n",
       "<path clip-path=\"url(#clip050)\" d=\"M2160.36 166.745 Q2158.55 171.375 2156.84 172.787 Q2155.13 174.199 2152.26 174.199 L2148.85 174.199 L2148.85 170.634 L2151.35 170.634 Q2153.11 170.634 2154.09 169.8 Q2155.06 168.967 2156.24 165.865 L2157 163.921 L2146.52 138.412 L2151.03 138.412 L2159.13 158.689 L2167.23 138.412 L2171.75 138.412 L2160.36 166.745 Z\" fill=\"#000000\" fill-rule=\"evenodd\" fill-opacity=\"1\" /><path clip-path=\"url(#clip050)\" d=\"M2179.04 160.402 L2186.68 160.402 L2186.68 134.037 L2178.37 135.703 L2178.37 131.444 L2186.63 129.778 L2191.31 129.778 L2191.31 160.402 L2198.95 160.402 L2198.95 164.338 L2179.04 164.338 L2179.04 160.402 Z\" fill=\"#000000\" fill-rule=\"evenodd\" fill-opacity=\"1\" /><polyline clip-path=\"url(#clip050)\" style=\"stroke:#e26f46; stroke-linecap:butt; stroke-linejoin:round; stroke-width:4; stroke-opacity:1; fill:none\" points=\"\n",
       "  1975.13,198.898 2122.03,198.898 \n",
       "  \"/>\n",
       "<path clip-path=\"url(#clip050)\" d=\"M2160.36 218.585 Q2158.55 223.215 2156.84 224.627 Q2155.13 226.039 2152.26 226.039 L2148.85 226.039 L2148.85 222.474 L2151.35 222.474 Q2153.11 222.474 2154.09 221.64 Q2155.06 220.807 2156.24 217.705 L2157 215.761 L2146.52 190.252 L2151.03 190.252 L2159.13 210.529 L2167.23 190.252 L2171.75 190.252 L2160.36 218.585 Z\" fill=\"#000000\" fill-rule=\"evenodd\" fill-opacity=\"1\" /><path clip-path=\"url(#clip050)\" d=\"M2182.26 212.242 L2198.58 212.242 L2198.58 216.178 L2176.63 216.178 L2176.63 212.242 Q2179.29 209.488 2183.88 204.858 Q2188.48 200.205 2189.66 198.863 Q2191.91 196.34 2192.79 194.604 Q2193.69 192.844 2193.69 191.155 Q2193.69 188.4 2191.75 186.664 Q2189.83 184.928 2186.72 184.928 Q2184.53 184.928 2182.07 185.692 Q2179.64 186.455 2176.86 188.006 L2176.86 183.284 Q2179.69 182.15 2182.14 181.571 Q2184.6 180.993 2186.63 180.993 Q2192 180.993 2195.2 183.678 Q2198.39 186.363 2198.39 190.854 Q2198.39 192.983 2197.58 194.905 Q2196.79 196.803 2194.69 199.395 Q2194.11 200.067 2191.01 203.284 Q2187.91 206.479 2182.26 212.242 Z\" fill=\"#000000\" fill-rule=\"evenodd\" fill-opacity=\"1\" /><polyline clip-path=\"url(#clip050)\" style=\"stroke:#3da44d; stroke-linecap:butt; stroke-linejoin:round; stroke-width:4; stroke-opacity:1; fill:none\" points=\"\n",
       "  1975.13,250.738 2122.03,250.738 \n",
       "  \"/>\n",
       "<path clip-path=\"url(#clip050)\" d=\"M2160.36 270.425 Q2158.55 275.055 2156.84 276.467 Q2155.13 277.879 2152.26 277.879 L2148.85 277.879 L2148.85 274.314 L2151.35 274.314 Q2153.11 274.314 2154.09 273.48 Q2155.06 272.647 2156.24 269.545 L2157 267.601 L2146.52 242.092 L2151.03 242.092 L2159.13 262.369 L2167.23 242.092 L2171.75 242.092 L2160.36 270.425 Z\" fill=\"#000000\" fill-rule=\"evenodd\" fill-opacity=\"1\" /><path clip-path=\"url(#clip050)\" d=\"M2192.4 249.383 Q2195.75 250.101 2197.63 252.369 Q2199.53 254.638 2199.53 257.971 Q2199.53 263.087 2196.01 265.888 Q2192.49 268.689 2186.01 268.689 Q2183.83 268.689 2181.52 268.249 Q2179.22 267.832 2176.77 266.976 L2176.77 262.462 Q2178.72 263.596 2181.03 264.175 Q2183.35 264.754 2185.87 264.754 Q2190.27 264.754 2192.56 263.018 Q2194.87 261.281 2194.87 257.971 Q2194.87 254.916 2192.72 253.203 Q2190.59 251.467 2186.77 251.467 L2182.74 251.467 L2182.74 247.624 L2186.96 247.624 Q2190.41 247.624 2192.23 246.258 Q2194.06 244.87 2194.06 242.277 Q2194.06 239.615 2192.16 238.203 Q2190.29 236.768 2186.77 236.768 Q2184.85 236.768 2182.65 237.184 Q2180.45 237.601 2177.81 238.481 L2177.81 234.314 Q2180.47 233.573 2182.79 233.203 Q2185.13 232.833 2187.19 232.833 Q2192.51 232.833 2195.61 235.263 Q2198.72 237.67 2198.72 241.791 Q2198.72 244.661 2197.07 246.652 Q2195.43 248.62 2192.4 249.383 Z\" fill=\"#000000\" fill-rule=\"evenodd\" fill-opacity=\"1\" /><polyline clip-path=\"url(#clip050)\" style=\"stroke:#c271d2; stroke-linecap:butt; stroke-linejoin:round; stroke-width:4; stroke-opacity:1; fill:none\" points=\"\n",
       "  1975.13,302.578 2122.03,302.578 \n",
       "  \"/>\n",
       "<path clip-path=\"url(#clip050)\" d=\"M2160.36 322.265 Q2158.55 326.895 2156.84 328.307 Q2155.13 329.719 2152.26 329.719 L2148.85 329.719 L2148.85 326.154 L2151.35 326.154 Q2153.11 326.154 2154.09 325.32 Q2155.06 324.487 2156.24 321.385 L2157 319.441 L2146.52 293.932 L2151.03 293.932 L2159.13 314.209 L2167.23 293.932 L2171.75 293.932 L2160.36 322.265 Z\" fill=\"#000000\" fill-rule=\"evenodd\" fill-opacity=\"1\" /><path clip-path=\"url(#clip050)\" d=\"M2191.08 289.372 L2179.27 307.821 L2191.08 307.821 L2191.08 289.372 M2189.85 285.298 L2195.73 285.298 L2195.73 307.821 L2200.66 307.821 L2200.66 311.709 L2195.73 311.709 L2195.73 319.858 L2191.08 319.858 L2191.08 311.709 L2175.47 311.709 L2175.47 307.196 L2189.85 285.298 Z\" fill=\"#000000\" fill-rule=\"evenodd\" fill-opacity=\"1\" /><polyline clip-path=\"url(#clip050)\" style=\"stroke:#ac8d18; stroke-linecap:butt; stroke-linejoin:round; stroke-width:4; stroke-opacity:1; fill:none\" points=\"\n",
       "  1975.13,354.418 2122.03,354.418 \n",
       "  \"/>\n",
       "<path clip-path=\"url(#clip050)\" d=\"M2160.36 374.105 Q2158.55 378.735 2156.84 380.147 Q2155.13 381.559 2152.26 381.559 L2148.85 381.559 L2148.85 377.994 L2151.35 377.994 Q2153.11 377.994 2154.09 377.16 Q2155.06 376.327 2156.24 373.225 L2157 371.281 L2146.52 345.772 L2151.03 345.772 L2159.13 366.049 L2167.23 345.772 L2171.75 345.772 L2160.36 374.105 Z\" fill=\"#000000\" fill-rule=\"evenodd\" fill-opacity=\"1\" /><path clip-path=\"url(#clip050)\" d=\"M2178.28 337.138 L2196.63 337.138 L2196.63 341.073 L2182.56 341.073 L2182.56 349.545 Q2183.58 349.198 2184.6 349.036 Q2185.61 348.85 2186.63 348.85 Q2192.42 348.85 2195.8 352.022 Q2199.18 355.193 2199.18 360.61 Q2199.18 366.188 2195.71 369.29 Q2192.23 372.369 2185.91 372.369 Q2183.74 372.369 2181.47 371.998 Q2179.22 371.628 2176.82 370.887 L2176.82 366.188 Q2178.9 367.323 2181.12 367.878 Q2183.35 368.434 2185.82 368.434 Q2189.83 368.434 2192.16 366.327 Q2194.5 364.221 2194.5 360.61 Q2194.5 356.999 2192.16 354.892 Q2189.83 352.786 2185.82 352.786 Q2183.95 352.786 2182.07 353.202 Q2180.22 353.619 2178.28 354.499 L2178.28 337.138 Z\" fill=\"#000000\" fill-rule=\"evenodd\" fill-opacity=\"1\" /><polyline clip-path=\"url(#clip050)\" style=\"stroke:#00a9ad; stroke-linecap:butt; stroke-linejoin:round; stroke-width:4; stroke-opacity:1; fill:none\" points=\"\n",
       "  1975.13,406.258 2122.03,406.258 \n",
       "  \"/>\n",
       "<path clip-path=\"url(#clip050)\" d=\"M2160.36 425.945 Q2158.55 430.575 2156.84 431.987 Q2155.13 433.399 2152.26 433.399 L2148.85 433.399 L2148.85 429.834 L2151.35 429.834 Q2153.11 429.834 2154.09 429 Q2155.06 428.167 2156.24 425.065 L2157 423.121 L2146.52 397.612 L2151.03 397.612 L2159.13 417.889 L2167.23 397.612 L2171.75 397.612 L2160.36 425.945 Z\" fill=\"#000000\" fill-rule=\"evenodd\" fill-opacity=\"1\" /><path clip-path=\"url(#clip050)\" d=\"M2188.81 404.394 Q2185.66 404.394 2183.81 406.547 Q2181.98 408.7 2181.98 412.45 Q2181.98 416.176 2183.81 418.352 Q2185.66 420.505 2188.81 420.505 Q2191.96 420.505 2193.78 418.352 Q2195.64 416.176 2195.64 412.45 Q2195.64 408.7 2193.78 406.547 Q2191.96 404.394 2188.81 404.394 M2198.09 389.741 L2198.09 394.001 Q2196.33 393.167 2194.53 392.728 Q2192.74 392.288 2190.98 392.288 Q2186.35 392.288 2183.9 395.413 Q2181.47 398.538 2181.12 404.857 Q2182.49 402.843 2184.55 401.778 Q2186.61 400.69 2189.09 400.69 Q2194.29 400.69 2197.3 403.862 Q2200.34 407.01 2200.34 412.45 Q2200.34 417.774 2197.19 420.991 Q2194.04 424.209 2188.81 424.209 Q2182.81 424.209 2179.64 419.626 Q2176.47 415.019 2176.47 406.292 Q2176.47 398.098 2180.36 393.237 Q2184.25 388.353 2190.8 388.353 Q2192.56 388.353 2194.34 388.7 Q2196.15 389.047 2198.09 389.741 Z\" fill=\"#000000\" fill-rule=\"evenodd\" fill-opacity=\"1\" /><polyline clip-path=\"url(#clip050)\" style=\"stroke:#ed5d92; stroke-linecap:butt; stroke-linejoin:round; stroke-width:4; stroke-opacity:1; fill:none\" points=\"\n",
       "  1975.13,458.098 2122.03,458.098 \n",
       "  \"/>\n",
       "<path clip-path=\"url(#clip050)\" d=\"M2160.36 477.785 Q2158.55 482.415 2156.84 483.827 Q2155.13 485.239 2152.26 485.239 L2148.85 485.239 L2148.85 481.674 L2151.35 481.674 Q2153.11 481.674 2154.09 480.84 Q2155.06 480.007 2156.24 476.905 L2157 474.961 L2146.52 449.452 L2151.03 449.452 L2159.13 469.729 L2167.23 449.452 L2171.75 449.452 L2160.36 477.785 Z\" fill=\"#000000\" fill-rule=\"evenodd\" fill-opacity=\"1\" /><path clip-path=\"url(#clip050)\" d=\"M2177.05 440.818 L2199.27 440.818 L2199.27 442.808 L2186.72 475.378 L2181.84 475.378 L2193.65 444.753 L2177.05 444.753 L2177.05 440.818 Z\" fill=\"#000000\" fill-rule=\"evenodd\" fill-opacity=\"1\" /><polyline clip-path=\"url(#clip050)\" style=\"stroke:#c68125; stroke-linecap:butt; stroke-linejoin:round; stroke-width:4; stroke-opacity:1; fill:none\" points=\"\n",
       "  1975.13,509.938 2122.03,509.938 \n",
       "  \"/>\n",
       "<path clip-path=\"url(#clip050)\" d=\"M2160.36 529.625 Q2158.55 534.255 2156.84 535.667 Q2155.13 537.079 2152.26 537.079 L2148.85 537.079 L2148.85 533.514 L2151.35 533.514 Q2153.11 533.514 2154.09 532.68 Q2155.06 531.847 2156.24 528.745 L2157 526.801 L2146.52 501.292 L2151.03 501.292 L2159.13 521.569 L2167.23 501.292 L2171.75 501.292 L2160.36 529.625 Z\" fill=\"#000000\" fill-rule=\"evenodd\" fill-opacity=\"1\" /><path clip-path=\"url(#clip050)\" d=\"M2188.23 510.806 Q2184.9 510.806 2182.97 512.588 Q2181.08 514.37 2181.08 517.495 Q2181.08 520.62 2182.97 522.403 Q2184.9 524.185 2188.23 524.185 Q2191.56 524.185 2193.48 522.403 Q2195.41 520.597 2195.41 517.495 Q2195.41 514.37 2193.48 512.588 Q2191.59 510.806 2188.23 510.806 M2183.55 508.815 Q2180.54 508.074 2178.85 506.014 Q2177.19 503.954 2177.19 500.991 Q2177.19 496.847 2180.13 494.44 Q2183.09 492.033 2188.23 492.033 Q2193.39 492.033 2196.33 494.44 Q2199.27 496.847 2199.27 500.991 Q2199.27 503.954 2197.58 506.014 Q2195.91 508.074 2192.93 508.815 Q2196.31 509.602 2198.18 511.894 Q2200.08 514.185 2200.08 517.495 Q2200.08 522.519 2197 525.204 Q2193.95 527.889 2188.23 527.889 Q2182.51 527.889 2179.43 525.204 Q2176.38 522.519 2176.38 517.495 Q2176.38 514.185 2178.28 511.894 Q2180.17 509.602 2183.55 508.815 M2181.84 501.431 Q2181.84 504.116 2183.51 505.62 Q2185.2 507.125 2188.23 507.125 Q2191.24 507.125 2192.93 505.62 Q2194.64 504.116 2194.64 501.431 Q2194.64 498.745 2192.93 497.241 Q2191.24 495.736 2188.23 495.736 Q2185.2 495.736 2183.51 497.241 Q2181.84 498.745 2181.84 501.431 Z\" fill=\"#000000\" fill-rule=\"evenodd\" fill-opacity=\"1\" /><polyline clip-path=\"url(#clip050)\" style=\"stroke:#00a98d; stroke-linecap:butt; stroke-linejoin:round; stroke-width:4; stroke-opacity:1; fill:none\" points=\"\n",
       "  1975.13,561.778 2122.03,561.778 \n",
       "  \"/>\n",
       "<path clip-path=\"url(#clip050)\" d=\"M2160.36 581.465 Q2158.55 586.095 2156.84 587.507 Q2155.13 588.919 2152.26 588.919 L2148.85 588.919 L2148.85 585.354 L2151.35 585.354 Q2153.11 585.354 2154.09 584.52 Q2155.06 583.687 2156.24 580.585 L2157 578.641 L2146.52 553.132 L2151.03 553.132 L2159.13 573.409 L2167.23 553.132 L2171.75 553.132 L2160.36 581.465 Z\" fill=\"#000000\" fill-rule=\"evenodd\" fill-opacity=\"1\" /><path clip-path=\"url(#clip050)\" d=\"M2178.37 578.34 L2178.37 574.081 Q2180.13 574.914 2181.93 575.354 Q2183.74 575.794 2185.47 575.794 Q2190.1 575.794 2192.53 572.692 Q2194.99 569.567 2195.34 563.224 Q2193.99 565.215 2191.93 566.28 Q2189.87 567.345 2187.37 567.345 Q2182.19 567.345 2179.16 564.22 Q2176.15 561.072 2176.15 555.632 Q2176.15 550.308 2179.29 547.09 Q2182.44 543.873 2187.67 543.873 Q2193.67 543.873 2196.82 548.479 Q2199.99 553.062 2199.99 561.812 Q2199.99 569.984 2196.1 574.868 Q2192.23 579.729 2185.68 579.729 Q2183.92 579.729 2182.12 579.382 Q2180.31 579.034 2178.37 578.34 M2187.67 563.687 Q2190.82 563.687 2192.65 561.534 Q2194.5 559.382 2194.5 555.632 Q2194.5 551.905 2192.65 549.752 Q2190.82 547.576 2187.67 547.576 Q2184.53 547.576 2182.67 549.752 Q2180.85 551.905 2180.85 555.632 Q2180.85 559.382 2182.67 561.534 Q2184.53 563.687 2187.67 563.687 Z\" fill=\"#000000\" fill-rule=\"evenodd\" fill-opacity=\"1\" /><polyline clip-path=\"url(#clip050)\" style=\"stroke:#8e971d; stroke-linecap:butt; stroke-linejoin:round; stroke-width:4; stroke-opacity:1; fill:none\" points=\"\n",
       "  1975.13,613.618 2122.03,613.618 \n",
       "  \"/>\n",
       "<path clip-path=\"url(#clip050)\" d=\"M2160.36 633.305 Q2158.55 637.935 2156.84 639.347 Q2155.13 640.759 2152.26 640.759 L2148.85 640.759 L2148.85 637.194 L2151.35 637.194 Q2153.11 637.194 2154.09 636.36 Q2155.06 635.527 2156.24 632.425 L2157 630.481 L2146.52 604.972 L2151.03 604.972 L2159.13 625.249 L2167.23 604.972 L2171.75 604.972 L2160.36 633.305 Z\" fill=\"#000000\" fill-rule=\"evenodd\" fill-opacity=\"1\" /><path clip-path=\"url(#clip050)\" d=\"M2179.04 626.962 L2186.68 626.962 L2186.68 600.597 L2178.37 602.263 L2178.37 598.004 L2186.63 596.338 L2191.31 596.338 L2191.31 626.962 L2198.95 626.962 L2198.95 630.898 L2179.04 630.898 L2179.04 626.962 Z\" fill=\"#000000\" fill-rule=\"evenodd\" fill-opacity=\"1\" /><path clip-path=\"url(#clip050)\" d=\"M2218.39 599.416 Q2214.78 599.416 2212.95 602.981 Q2211.15 606.523 2211.15 613.652 Q2211.15 620.759 2212.95 624.324 Q2214.78 627.865 2218.39 627.865 Q2222.03 627.865 2223.83 624.324 Q2225.66 620.759 2225.66 613.652 Q2225.66 606.523 2223.83 602.981 Q2222.03 599.416 2218.39 599.416 M2218.39 595.713 Q2224.2 595.713 2227.26 600.319 Q2230.34 604.902 2230.34 613.652 Q2230.34 622.379 2227.26 626.986 Q2224.2 631.569 2218.39 631.569 Q2212.58 631.569 2209.5 626.986 Q2206.45 622.379 2206.45 613.652 Q2206.45 604.902 2209.5 600.319 Q2212.58 595.713 2218.39 595.713 Z\" fill=\"#000000\" fill-rule=\"evenodd\" fill-opacity=\"1\" /><circle clip-path=\"url(#clip050)\" cx=\"2048.58\" cy=\"665.458\" r=\"23\" fill=\"#00a8cb\" fill-rule=\"evenodd\" fill-opacity=\"1\" stroke=\"#000000\" stroke-opacity=\"1\" stroke-width=\"5.12\"/>\n",
       "<path clip-path=\"url(#clip050)\" d=\"M2160.36 685.145 Q2158.55 689.775 2156.84 691.187 Q2155.13 692.599 2152.26 692.599 L2148.85 692.599 L2148.85 689.034 L2151.35 689.034 Q2153.11 689.034 2154.09 688.2 Q2155.06 687.367 2156.24 684.265 L2157 682.321 L2146.52 656.812 L2151.03 656.812 L2159.13 677.089 L2167.23 656.812 L2171.75 656.812 L2160.36 685.145 Z\" fill=\"#000000\" fill-rule=\"evenodd\" fill-opacity=\"1\" /><path clip-path=\"url(#clip050)\" d=\"M2179.04 678.802 L2186.68 678.802 L2186.68 652.437 L2178.37 654.103 L2178.37 649.844 L2186.63 648.178 L2191.31 648.178 L2191.31 678.802 L2198.95 678.802 L2198.95 682.738 L2179.04 682.738 L2179.04 678.802 Z\" fill=\"#000000\" fill-rule=\"evenodd\" fill-opacity=\"1\" /><path clip-path=\"url(#clip050)\" d=\"M2209.2 678.802 L2216.84 678.802 L2216.84 652.437 L2208.53 654.103 L2208.53 649.844 L2216.79 648.178 L2221.47 648.178 L2221.47 678.802 L2229.11 678.802 L2229.11 682.738 L2209.2 682.738 L2209.2 678.802 Z\" fill=\"#000000\" fill-rule=\"evenodd\" fill-opacity=\"1\" /></svg>\n"
      ]
     },
     "execution_count": 58,
     "metadata": {},
     "output_type": "execute_result"
    }
   ],
   "source": [
    "k = 10\n",
    "xn = LinRange(-1, 1, k)\n",
    "V = vander_legendre(xn)\n",
    "xx = LinRange(-1, 1, 50)\n",
    "Pxx = vander_legendre(xx, k)\n",
    "Pn = Pxx / V\n",
    "plot(xx, Pn)\n",
    "scatter!(xn, one.(xn))"
   ]
  },
  {
   "cell_type": "code",
   "execution_count": 59,
   "id": "1efc623f",
   "metadata": {
    "cell_style": "split",
    "slideshow": {
     "slide_type": "fragment"
    }
   },
   "outputs": [
    {
     "data": {
      "image/svg+xml": [
       "<?xml version=\"1.0\" encoding=\"utf-8\"?>\n",
       "<svg xmlns=\"http://www.w3.org/2000/svg\" xmlns:xlink=\"http://www.w3.org/1999/xlink\" width=\"600\" height=\"400\" viewBox=\"0 0 2400 1600\">\n",
       "<defs>\n",
       "  <clipPath id=\"clip090\">\n",
       "    <rect x=\"0\" y=\"0\" width=\"2400\" height=\"1600\"/>\n",
       "  </clipPath>\n",
       "</defs>\n",
       "<path clip-path=\"url(#clip090)\" d=\"\n",
       "M0 1600 L2400 1600 L2400 0 L0 0  Z\n",
       "  \" fill=\"#ffffff\" fill-rule=\"evenodd\" fill-opacity=\"1\"/>\n",
       "<defs>\n",
       "  <clipPath id=\"clip091\">\n",
       "    <rect x=\"480\" y=\"0\" width=\"1681\" height=\"1600\"/>\n",
       "  </clipPath>\n",
       "</defs>\n",
       "<path clip-path=\"url(#clip090)\" d=\"\n",
       "M186.274 1486.45 L2352.76 1486.45 L2352.76 47.2441 L186.274 47.2441  Z\n",
       "  \" fill=\"#ffffff\" fill-rule=\"evenodd\" fill-opacity=\"1\"/>\n",
       "<defs>\n",
       "  <clipPath id=\"clip092\">\n",
       "    <rect x=\"186\" y=\"47\" width=\"2167\" height=\"1440\"/>\n",
       "  </clipPath>\n",
       "</defs>\n",
       "<polyline clip-path=\"url(#clip092)\" style=\"stroke:#000000; stroke-linecap:butt; stroke-linejoin:round; stroke-width:2; stroke-opacity:0.1; fill:none\" points=\"\n",
       "  247.59,1486.45 247.59,47.2441 \n",
       "  \"/>\n",
       "<polyline clip-path=\"url(#clip092)\" style=\"stroke:#000000; stroke-linecap:butt; stroke-linejoin:round; stroke-width:2; stroke-opacity:0.1; fill:none\" points=\"\n",
       "  758.552,1486.45 758.552,47.2441 \n",
       "  \"/>\n",
       "<polyline clip-path=\"url(#clip092)\" style=\"stroke:#000000; stroke-linecap:butt; stroke-linejoin:round; stroke-width:2; stroke-opacity:0.1; fill:none\" points=\"\n",
       "  1269.51,1486.45 1269.51,47.2441 \n",
       "  \"/>\n",
       "<polyline clip-path=\"url(#clip092)\" style=\"stroke:#000000; stroke-linecap:butt; stroke-linejoin:round; stroke-width:2; stroke-opacity:0.1; fill:none\" points=\"\n",
       "  1780.48,1486.45 1780.48,47.2441 \n",
       "  \"/>\n",
       "<polyline clip-path=\"url(#clip092)\" style=\"stroke:#000000; stroke-linecap:butt; stroke-linejoin:round; stroke-width:2; stroke-opacity:0.1; fill:none\" points=\"\n",
       "  2291.44,1486.45 2291.44,47.2441 \n",
       "  \"/>\n",
       "<polyline clip-path=\"url(#clip090)\" style=\"stroke:#000000; stroke-linecap:butt; stroke-linejoin:round; stroke-width:4; stroke-opacity:1; fill:none\" points=\"\n",
       "  186.274,1486.45 2352.76,1486.45 \n",
       "  \"/>\n",
       "<polyline clip-path=\"url(#clip090)\" style=\"stroke:#000000; stroke-linecap:butt; stroke-linejoin:round; stroke-width:4; stroke-opacity:1; fill:none\" points=\"\n",
       "  247.59,1486.45 247.59,1467.55 \n",
       "  \"/>\n",
       "<polyline clip-path=\"url(#clip090)\" style=\"stroke:#000000; stroke-linecap:butt; stroke-linejoin:round; stroke-width:4; stroke-opacity:1; fill:none\" points=\"\n",
       "  758.552,1486.45 758.552,1467.55 \n",
       "  \"/>\n",
       "<polyline clip-path=\"url(#clip090)\" style=\"stroke:#000000; stroke-linecap:butt; stroke-linejoin:round; stroke-width:4; stroke-opacity:1; fill:none\" points=\"\n",
       "  1269.51,1486.45 1269.51,1467.55 \n",
       "  \"/>\n",
       "<polyline clip-path=\"url(#clip090)\" style=\"stroke:#000000; stroke-linecap:butt; stroke-linejoin:round; stroke-width:4; stroke-opacity:1; fill:none\" points=\"\n",
       "  1780.48,1486.45 1780.48,1467.55 \n",
       "  \"/>\n",
       "<polyline clip-path=\"url(#clip090)\" style=\"stroke:#000000; stroke-linecap:butt; stroke-linejoin:round; stroke-width:4; stroke-opacity:1; fill:none\" points=\"\n",
       "  2291.44,1486.45 2291.44,1467.55 \n",
       "  \"/>\n",
       "<path clip-path=\"url(#clip090)\" d=\"M194.118 1530.29 L223.793 1530.29 L223.793 1534.23 L194.118 1534.23 L194.118 1530.29 Z\" fill=\"#000000\" fill-rule=\"evenodd\" fill-opacity=\"1\" /><path clip-path=\"url(#clip090)\" d=\"M234.696 1543.18 L242.335 1543.18 L242.335 1516.82 L234.025 1518.49 L234.025 1514.23 L242.289 1512.56 L246.965 1512.56 L246.965 1543.18 L254.603 1543.18 L254.603 1547.12 L234.696 1547.12 L234.696 1543.18 Z\" fill=\"#000000\" fill-rule=\"evenodd\" fill-opacity=\"1\" /><path clip-path=\"url(#clip090)\" d=\"M264.048 1541.24 L268.932 1541.24 L268.932 1547.12 L264.048 1547.12 L264.048 1541.24 Z\" fill=\"#000000\" fill-rule=\"evenodd\" fill-opacity=\"1\" /><path clip-path=\"url(#clip090)\" d=\"M289.117 1515.64 Q285.506 1515.64 283.677 1519.2 Q281.872 1522.75 281.872 1529.87 Q281.872 1536.98 283.677 1540.55 Q285.506 1544.09 289.117 1544.09 Q292.751 1544.09 294.557 1540.55 Q296.386 1536.98 296.386 1529.87 Q296.386 1522.75 294.557 1519.2 Q292.751 1515.64 289.117 1515.64 M289.117 1511.93 Q294.927 1511.93 297.983 1516.54 Q301.061 1521.12 301.061 1529.87 Q301.061 1538.6 297.983 1543.21 Q294.927 1547.79 289.117 1547.79 Q283.307 1547.79 280.228 1543.21 Q277.173 1538.6 277.173 1529.87 Q277.173 1521.12 280.228 1516.54 Q283.307 1511.93 289.117 1511.93 Z\" fill=\"#000000\" fill-rule=\"evenodd\" fill-opacity=\"1\" /><path clip-path=\"url(#clip090)\" d=\"M705.578 1530.29 L735.254 1530.29 L735.254 1534.23 L705.578 1534.23 L705.578 1530.29 Z\" fill=\"#000000\" fill-rule=\"evenodd\" fill-opacity=\"1\" /><path clip-path=\"url(#clip090)\" d=\"M755.346 1515.64 Q751.735 1515.64 749.906 1519.2 Q748.101 1522.75 748.101 1529.87 Q748.101 1536.98 749.906 1540.55 Q751.735 1544.09 755.346 1544.09 Q758.98 1544.09 760.786 1540.55 Q762.615 1536.98 762.615 1529.87 Q762.615 1522.75 760.786 1519.2 Q758.98 1515.64 755.346 1515.64 M755.346 1511.93 Q761.156 1511.93 764.212 1516.54 Q767.291 1521.12 767.291 1529.87 Q767.291 1538.6 764.212 1543.21 Q761.156 1547.79 755.346 1547.79 Q749.536 1547.79 746.457 1543.21 Q743.402 1538.6 743.402 1529.87 Q743.402 1521.12 746.457 1516.54 Q749.536 1511.93 755.346 1511.93 Z\" fill=\"#000000\" fill-rule=\"evenodd\" fill-opacity=\"1\" /><path clip-path=\"url(#clip090)\" d=\"M775.508 1541.24 L780.392 1541.24 L780.392 1547.12 L775.508 1547.12 L775.508 1541.24 Z\" fill=\"#000000\" fill-rule=\"evenodd\" fill-opacity=\"1\" /><path clip-path=\"url(#clip090)\" d=\"M790.624 1512.56 L808.98 1512.56 L808.98 1516.5 L794.906 1516.5 L794.906 1524.97 Q795.925 1524.62 796.943 1524.46 Q797.962 1524.27 798.98 1524.27 Q804.767 1524.27 808.147 1527.44 Q811.526 1530.62 811.526 1536.03 Q811.526 1541.61 808.054 1544.71 Q804.582 1547.79 798.263 1547.79 Q796.087 1547.79 793.818 1547.42 Q791.573 1547.05 789.166 1546.31 L789.166 1541.61 Q791.249 1542.74 793.471 1543.3 Q795.693 1543.86 798.17 1543.86 Q802.175 1543.86 804.513 1541.75 Q806.851 1539.64 806.851 1536.03 Q806.851 1532.42 804.513 1530.31 Q802.175 1528.21 798.17 1528.21 Q796.295 1528.21 794.42 1528.62 Q792.568 1529.04 790.624 1529.92 L790.624 1512.56 Z\" fill=\"#000000\" fill-rule=\"evenodd\" fill-opacity=\"1\" /><path clip-path=\"url(#clip090)\" d=\"M1246.9 1515.64 Q1243.29 1515.64 1241.46 1519.2 Q1239.65 1522.75 1239.65 1529.87 Q1239.65 1536.98 1241.46 1540.55 Q1243.29 1544.09 1246.9 1544.09 Q1250.53 1544.09 1252.34 1540.55 Q1254.17 1536.98 1254.17 1529.87 Q1254.17 1522.75 1252.34 1519.2 Q1250.53 1515.64 1246.9 1515.64 M1246.9 1511.93 Q1252.71 1511.93 1255.77 1516.54 Q1258.84 1521.12 1258.84 1529.87 Q1258.84 1538.6 1255.77 1543.21 Q1252.71 1547.79 1246.9 1547.79 Q1241.09 1547.79 1238.01 1543.21 Q1234.95 1538.6 1234.95 1529.87 Q1234.95 1521.12 1238.01 1516.54 Q1241.09 1511.93 1246.9 1511.93 Z\" fill=\"#000000\" fill-rule=\"evenodd\" fill-opacity=\"1\" /><path clip-path=\"url(#clip090)\" d=\"M1267.06 1541.24 L1271.95 1541.24 L1271.95 1547.12 L1267.06 1547.12 L1267.06 1541.24 Z\" fill=\"#000000\" fill-rule=\"evenodd\" fill-opacity=\"1\" /><path clip-path=\"url(#clip090)\" d=\"M1292.13 1515.64 Q1288.52 1515.64 1286.69 1519.2 Q1284.89 1522.75 1284.89 1529.87 Q1284.89 1536.98 1286.69 1540.55 Q1288.52 1544.09 1292.13 1544.09 Q1295.76 1544.09 1297.57 1540.55 Q1299.4 1536.98 1299.4 1529.87 Q1299.4 1522.75 1297.57 1519.2 Q1295.76 1515.64 1292.13 1515.64 M1292.13 1511.93 Q1297.94 1511.93 1301 1516.54 Q1304.07 1521.12 1304.07 1529.87 Q1304.07 1538.6 1301 1543.21 Q1297.94 1547.79 1292.13 1547.79 Q1286.32 1547.79 1283.24 1543.21 Q1280.19 1538.6 1280.19 1529.87 Q1280.19 1521.12 1283.24 1516.54 Q1286.32 1511.93 1292.13 1511.93 Z\" fill=\"#000000\" fill-rule=\"evenodd\" fill-opacity=\"1\" /><path clip-path=\"url(#clip090)\" d=\"M1758.36 1515.64 Q1754.75 1515.64 1752.92 1519.2 Q1751.11 1522.75 1751.11 1529.87 Q1751.11 1536.98 1752.92 1540.55 Q1754.75 1544.09 1758.36 1544.09 Q1761.99 1544.09 1763.8 1540.55 Q1765.63 1536.98 1765.63 1529.87 Q1765.63 1522.75 1763.8 1519.2 Q1761.99 1515.64 1758.36 1515.64 M1758.36 1511.93 Q1764.17 1511.93 1767.23 1516.54 Q1770.3 1521.12 1770.3 1529.87 Q1770.3 1538.6 1767.23 1543.21 Q1764.17 1547.79 1758.36 1547.79 Q1752.55 1547.79 1749.47 1543.21 Q1746.42 1538.6 1746.42 1529.87 Q1746.42 1521.12 1749.47 1516.54 Q1752.55 1511.93 1758.36 1511.93 Z\" fill=\"#000000\" fill-rule=\"evenodd\" fill-opacity=\"1\" /><path clip-path=\"url(#clip090)\" d=\"M1778.52 1541.24 L1783.41 1541.24 L1783.41 1547.12 L1778.52 1547.12 L1778.52 1541.24 Z\" fill=\"#000000\" fill-rule=\"evenodd\" fill-opacity=\"1\" /><path clip-path=\"url(#clip090)\" d=\"M1793.64 1512.56 L1811.99 1512.56 L1811.99 1516.5 L1797.92 1516.5 L1797.92 1524.97 Q1798.94 1524.62 1799.96 1524.46 Q1800.98 1524.27 1801.99 1524.27 Q1807.78 1524.27 1811.16 1527.44 Q1814.54 1530.62 1814.54 1536.03 Q1814.54 1541.61 1811.07 1544.71 Q1807.6 1547.79 1801.28 1547.79 Q1799.1 1547.79 1796.83 1547.42 Q1794.59 1547.05 1792.18 1546.31 L1792.18 1541.61 Q1794.26 1542.74 1796.48 1543.3 Q1798.71 1543.86 1801.18 1543.86 Q1805.19 1543.86 1807.53 1541.75 Q1809.86 1539.64 1809.86 1536.03 Q1809.86 1532.42 1807.53 1530.31 Q1805.19 1528.21 1801.18 1528.21 Q1799.31 1528.21 1797.43 1528.62 Q1795.58 1529.04 1793.64 1529.92 L1793.64 1512.56 Z\" fill=\"#000000\" fill-rule=\"evenodd\" fill-opacity=\"1\" /><path clip-path=\"url(#clip090)\" d=\"M2258.59 1543.18 L2266.23 1543.18 L2266.23 1516.82 L2257.92 1518.49 L2257.92 1514.23 L2266.19 1512.56 L2270.86 1512.56 L2270.86 1543.18 L2278.5 1543.18 L2278.5 1547.12 L2258.59 1547.12 L2258.59 1543.18 Z\" fill=\"#000000\" fill-rule=\"evenodd\" fill-opacity=\"1\" /><path clip-path=\"url(#clip090)\" d=\"M2287.95 1541.24 L2292.83 1541.24 L2292.83 1547.12 L2287.95 1547.12 L2287.95 1541.24 Z\" fill=\"#000000\" fill-rule=\"evenodd\" fill-opacity=\"1\" /><path clip-path=\"url(#clip090)\" d=\"M2313.01 1515.64 Q2309.4 1515.64 2307.57 1519.2 Q2305.77 1522.75 2305.77 1529.87 Q2305.77 1536.98 2307.57 1540.55 Q2309.4 1544.09 2313.01 1544.09 Q2316.65 1544.09 2318.45 1540.55 Q2320.28 1536.98 2320.28 1529.87 Q2320.28 1522.75 2318.45 1519.2 Q2316.65 1515.64 2313.01 1515.64 M2313.01 1511.93 Q2318.82 1511.93 2321.88 1516.54 Q2324.96 1521.12 2324.96 1529.87 Q2324.96 1538.6 2321.88 1543.21 Q2318.82 1547.79 2313.01 1547.79 Q2307.2 1547.79 2304.13 1543.21 Q2301.07 1538.6 2301.07 1529.87 Q2301.07 1521.12 2304.13 1516.54 Q2307.2 1511.93 2313.01 1511.93 Z\" fill=\"#000000\" fill-rule=\"evenodd\" fill-opacity=\"1\" /><polyline clip-path=\"url(#clip092)\" style=\"stroke:#000000; stroke-linecap:butt; stroke-linejoin:round; stroke-width:2; stroke-opacity:0.1; fill:none\" points=\"\n",
       "  186.274,1207.25 2352.76,1207.25 \n",
       "  \"/>\n",
       "<polyline clip-path=\"url(#clip092)\" style=\"stroke:#000000; stroke-linecap:butt; stroke-linejoin:round; stroke-width:2; stroke-opacity:0.1; fill:none\" points=\"\n",
       "  186.274,927.431 2352.76,927.431 \n",
       "  \"/>\n",
       "<polyline clip-path=\"url(#clip092)\" style=\"stroke:#000000; stroke-linecap:butt; stroke-linejoin:round; stroke-width:2; stroke-opacity:0.1; fill:none\" points=\"\n",
       "  186.274,647.613 2352.76,647.613 \n",
       "  \"/>\n",
       "<polyline clip-path=\"url(#clip092)\" style=\"stroke:#000000; stroke-linecap:butt; stroke-linejoin:round; stroke-width:2; stroke-opacity:0.1; fill:none\" points=\"\n",
       "  186.274,367.795 2352.76,367.795 \n",
       "  \"/>\n",
       "<polyline clip-path=\"url(#clip092)\" style=\"stroke:#000000; stroke-linecap:butt; stroke-linejoin:round; stroke-width:2; stroke-opacity:0.1; fill:none\" points=\"\n",
       "  186.274,87.9763 2352.76,87.9763 \n",
       "  \"/>\n",
       "<polyline clip-path=\"url(#clip090)\" style=\"stroke:#000000; stroke-linecap:butt; stroke-linejoin:round; stroke-width:4; stroke-opacity:1; fill:none\" points=\"\n",
       "  186.274,1486.45 186.274,47.2441 \n",
       "  \"/>\n",
       "<polyline clip-path=\"url(#clip090)\" style=\"stroke:#000000; stroke-linecap:butt; stroke-linejoin:round; stroke-width:4; stroke-opacity:1; fill:none\" points=\"\n",
       "  186.274,1207.25 205.172,1207.25 \n",
       "  \"/>\n",
       "<polyline clip-path=\"url(#clip090)\" style=\"stroke:#000000; stroke-linecap:butt; stroke-linejoin:round; stroke-width:4; stroke-opacity:1; fill:none\" points=\"\n",
       "  186.274,927.431 205.172,927.431 \n",
       "  \"/>\n",
       "<polyline clip-path=\"url(#clip090)\" style=\"stroke:#000000; stroke-linecap:butt; stroke-linejoin:round; stroke-width:4; stroke-opacity:1; fill:none\" points=\"\n",
       "  186.274,647.613 205.172,647.613 \n",
       "  \"/>\n",
       "<polyline clip-path=\"url(#clip090)\" style=\"stroke:#000000; stroke-linecap:butt; stroke-linejoin:round; stroke-width:4; stroke-opacity:1; fill:none\" points=\"\n",
       "  186.274,367.795 205.172,367.795 \n",
       "  \"/>\n",
       "<polyline clip-path=\"url(#clip090)\" style=\"stroke:#000000; stroke-linecap:butt; stroke-linejoin:round; stroke-width:4; stroke-opacity:1; fill:none\" points=\"\n",
       "  186.274,87.9763 205.172,87.9763 \n",
       "  \"/>\n",
       "<path clip-path=\"url(#clip090)\" d=\"M62.9365 1193.05 Q59.3254 1193.05 57.4967 1196.61 Q55.6912 1200.15 55.6912 1207.28 Q55.6912 1214.39 57.4967 1217.96 Q59.3254 1221.5 62.9365 1221.5 Q66.5707 1221.5 68.3763 1217.96 Q70.205 1214.39 70.205 1207.28 Q70.205 1200.15 68.3763 1196.61 Q66.5707 1193.05 62.9365 1193.05 M62.9365 1189.34 Q68.7467 1189.34 71.8022 1193.95 Q74.8809 1198.53 74.8809 1207.28 Q74.8809 1216.01 71.8022 1220.62 Q68.7467 1225.2 62.9365 1225.2 Q57.1264 1225.2 54.0477 1220.62 Q50.9921 1216.01 50.9921 1207.28 Q50.9921 1198.53 54.0477 1193.95 Q57.1264 1189.34 62.9365 1189.34 Z\" fill=\"#000000\" fill-rule=\"evenodd\" fill-opacity=\"1\" /><path clip-path=\"url(#clip090)\" d=\"M83.0984 1218.65 L87.9827 1218.65 L87.9827 1224.53 L83.0984 1224.53 L83.0984 1218.65 Z\" fill=\"#000000\" fill-rule=\"evenodd\" fill-opacity=\"1\" /><path clip-path=\"url(#clip090)\" d=\"M108.168 1193.05 Q104.557 1193.05 102.728 1196.61 Q100.922 1200.15 100.922 1207.28 Q100.922 1214.39 102.728 1217.96 Q104.557 1221.5 108.168 1221.5 Q111.802 1221.5 113.608 1217.96 Q115.436 1214.39 115.436 1207.28 Q115.436 1200.15 113.608 1196.61 Q111.802 1193.05 108.168 1193.05 M108.168 1189.34 Q113.978 1189.34 117.033 1193.95 Q120.112 1198.53 120.112 1207.28 Q120.112 1216.01 117.033 1220.62 Q113.978 1225.2 108.168 1225.2 Q102.358 1225.2 99.2789 1220.62 Q96.2234 1216.01 96.2234 1207.28 Q96.2234 1198.53 99.2789 1193.95 Q102.358 1189.34 108.168 1189.34 Z\" fill=\"#000000\" fill-rule=\"evenodd\" fill-opacity=\"1\" /><path clip-path=\"url(#clip090)\" d=\"M138.33 1193.05 Q134.719 1193.05 132.89 1196.61 Q131.084 1200.15 131.084 1207.28 Q131.084 1214.39 132.89 1217.96 Q134.719 1221.5 138.33 1221.5 Q141.964 1221.5 143.769 1217.96 Q145.598 1214.39 145.598 1207.28 Q145.598 1200.15 143.769 1196.61 Q141.964 1193.05 138.33 1193.05 M138.33 1189.34 Q144.14 1189.34 147.195 1193.95 Q150.274 1198.53 150.274 1207.28 Q150.274 1216.01 147.195 1220.62 Q144.14 1225.2 138.33 1225.2 Q132.519 1225.2 129.441 1220.62 Q126.385 1216.01 126.385 1207.28 Q126.385 1198.53 129.441 1193.95 Q132.519 1189.34 138.33 1189.34 Z\" fill=\"#000000\" fill-rule=\"evenodd\" fill-opacity=\"1\" /><path clip-path=\"url(#clip090)\" d=\"M63.9319 913.23 Q60.3208 913.23 58.4921 916.795 Q56.6865 920.336 56.6865 927.466 Q56.6865 934.572 58.4921 938.137 Q60.3208 941.679 63.9319 941.679 Q67.5661 941.679 69.3717 938.137 Q71.2004 934.572 71.2004 927.466 Q71.2004 920.336 69.3717 916.795 Q67.5661 913.23 63.9319 913.23 M63.9319 909.526 Q69.742 909.526 72.7976 914.133 Q75.8763 918.716 75.8763 927.466 Q75.8763 936.193 72.7976 940.799 Q69.742 945.383 63.9319 945.383 Q58.1217 945.383 55.043 940.799 Q51.9875 936.193 51.9875 927.466 Q51.9875 918.716 55.043 914.133 Q58.1217 909.526 63.9319 909.526 Z\" fill=\"#000000\" fill-rule=\"evenodd\" fill-opacity=\"1\" /><path clip-path=\"url(#clip090)\" d=\"M84.0938 938.832 L88.978 938.832 L88.978 944.711 L84.0938 944.711 L84.0938 938.832 Z\" fill=\"#000000\" fill-rule=\"evenodd\" fill-opacity=\"1\" /><path clip-path=\"url(#clip090)\" d=\"M103.191 940.776 L119.51 940.776 L119.51 944.711 L97.566 944.711 L97.566 940.776 Q100.228 938.021 104.811 933.392 Q109.418 928.739 110.598 927.397 Q112.844 924.873 113.723 923.137 Q114.626 921.378 114.626 919.688 Q114.626 916.934 112.682 915.198 Q110.76 913.461 107.658 913.461 Q105.459 913.461 103.006 914.225 Q100.575 914.989 97.7974 916.54 L97.7974 911.818 Q100.621 910.684 103.075 910.105 Q105.529 909.526 107.566 909.526 Q112.936 909.526 116.131 912.211 Q119.325 914.897 119.325 919.387 Q119.325 921.517 118.515 923.438 Q117.728 925.336 115.621 927.929 Q115.043 928.6 111.941 931.818 Q108.839 935.012 103.191 940.776 Z\" fill=\"#000000\" fill-rule=\"evenodd\" fill-opacity=\"1\" /><path clip-path=\"url(#clip090)\" d=\"M129.371 910.151 L147.728 910.151 L147.728 914.086 L133.654 914.086 L133.654 922.559 Q134.672 922.211 135.691 922.049 Q136.709 921.864 137.728 921.864 Q143.515 921.864 146.894 925.035 Q150.274 928.207 150.274 933.623 Q150.274 939.202 146.802 942.304 Q143.33 945.383 137.01 945.383 Q134.834 945.383 132.566 945.012 Q130.32 944.642 127.913 943.901 L127.913 939.202 Q129.996 940.336 132.219 940.892 Q134.441 941.447 136.918 941.447 Q140.922 941.447 143.26 939.341 Q145.598 937.234 145.598 933.623 Q145.598 930.012 143.26 927.906 Q140.922 925.799 136.918 925.799 Q135.043 925.799 133.168 926.216 Q131.316 926.633 129.371 927.512 L129.371 910.151 Z\" fill=\"#000000\" fill-rule=\"evenodd\" fill-opacity=\"1\" /><path clip-path=\"url(#clip090)\" d=\"M62.9365 633.412 Q59.3254 633.412 57.4967 636.976 Q55.6912 640.518 55.6912 647.648 Q55.6912 654.754 57.4967 658.319 Q59.3254 661.861 62.9365 661.861 Q66.5707 661.861 68.3763 658.319 Q70.205 654.754 70.205 647.648 Q70.205 640.518 68.3763 636.976 Q66.5707 633.412 62.9365 633.412 M62.9365 629.708 Q68.7467 629.708 71.8022 634.314 Q74.8809 638.898 74.8809 647.648 Q74.8809 656.374 71.8022 660.981 Q68.7467 665.564 62.9365 665.564 Q57.1264 665.564 54.0477 660.981 Q50.9921 656.374 50.9921 647.648 Q50.9921 638.898 54.0477 634.314 Q57.1264 629.708 62.9365 629.708 Z\" fill=\"#000000\" fill-rule=\"evenodd\" fill-opacity=\"1\" /><path clip-path=\"url(#clip090)\" d=\"M83.0984 659.013 L87.9827 659.013 L87.9827 664.893 L83.0984 664.893 L83.0984 659.013 Z\" fill=\"#000000\" fill-rule=\"evenodd\" fill-opacity=\"1\" /><path clip-path=\"url(#clip090)\" d=\"M98.2141 630.333 L116.57 630.333 L116.57 634.268 L102.496 634.268 L102.496 642.74 Q103.515 642.393 104.534 642.231 Q105.552 642.046 106.571 642.046 Q112.358 642.046 115.737 645.217 Q119.117 648.388 119.117 653.805 Q119.117 659.384 115.645 662.486 Q112.172 665.564 105.853 665.564 Q103.677 665.564 101.409 665.194 Q99.1632 664.823 96.7558 664.083 L96.7558 659.384 Q98.8391 660.518 101.061 661.074 Q103.284 661.629 105.76 661.629 Q109.765 661.629 112.103 659.523 Q114.441 657.416 114.441 653.805 Q114.441 650.194 112.103 648.087 Q109.765 645.981 105.76 645.981 Q103.885 645.981 102.01 646.398 Q100.159 646.814 98.2141 647.694 L98.2141 630.333 Z\" fill=\"#000000\" fill-rule=\"evenodd\" fill-opacity=\"1\" /><path clip-path=\"url(#clip090)\" d=\"M138.33 633.412 Q134.719 633.412 132.89 636.976 Q131.084 640.518 131.084 647.648 Q131.084 654.754 132.89 658.319 Q134.719 661.861 138.33 661.861 Q141.964 661.861 143.769 658.319 Q145.598 654.754 145.598 647.648 Q145.598 640.518 143.769 636.976 Q141.964 633.412 138.33 633.412 M138.33 629.708 Q144.14 629.708 147.195 634.314 Q150.274 638.898 150.274 647.648 Q150.274 656.374 147.195 660.981 Q144.14 665.564 138.33 665.564 Q132.519 665.564 129.441 660.981 Q126.385 656.374 126.385 647.648 Q126.385 638.898 129.441 634.314 Q132.519 629.708 138.33 629.708 Z\" fill=\"#000000\" fill-rule=\"evenodd\" fill-opacity=\"1\" /><path clip-path=\"url(#clip090)\" d=\"M63.9319 353.593 Q60.3208 353.593 58.4921 357.158 Q56.6865 360.7 56.6865 367.829 Q56.6865 374.936 58.4921 378.501 Q60.3208 382.042 63.9319 382.042 Q67.5661 382.042 69.3717 378.501 Q71.2004 374.936 71.2004 367.829 Q71.2004 360.7 69.3717 357.158 Q67.5661 353.593 63.9319 353.593 M63.9319 349.89 Q69.742 349.89 72.7976 354.496 Q75.8763 359.079 75.8763 367.829 Q75.8763 376.556 72.7976 381.163 Q69.742 385.746 63.9319 385.746 Q58.1217 385.746 55.043 381.163 Q51.9875 376.556 51.9875 367.829 Q51.9875 359.079 55.043 354.496 Q58.1217 349.89 63.9319 349.89 Z\" fill=\"#000000\" fill-rule=\"evenodd\" fill-opacity=\"1\" /><path clip-path=\"url(#clip090)\" d=\"M84.0938 379.195 L88.978 379.195 L88.978 385.075 L84.0938 385.075 L84.0938 379.195 Z\" fill=\"#000000\" fill-rule=\"evenodd\" fill-opacity=\"1\" /><path clip-path=\"url(#clip090)\" d=\"M97.9826 350.515 L120.205 350.515 L120.205 352.505 L107.658 385.075 L102.774 385.075 L114.58 354.45 L97.9826 354.45 L97.9826 350.515 Z\" fill=\"#000000\" fill-rule=\"evenodd\" fill-opacity=\"1\" /><path clip-path=\"url(#clip090)\" d=\"M129.371 350.515 L147.728 350.515 L147.728 354.45 L133.654 354.45 L133.654 362.922 Q134.672 362.575 135.691 362.413 Q136.709 362.228 137.728 362.228 Q143.515 362.228 146.894 365.399 Q150.274 368.57 150.274 373.987 Q150.274 379.565 146.802 382.667 Q143.33 385.746 137.01 385.746 Q134.834 385.746 132.566 385.376 Q130.32 385.005 127.913 384.264 L127.913 379.565 Q129.996 380.7 132.219 381.255 Q134.441 381.811 136.918 381.811 Q140.922 381.811 143.26 379.704 Q145.598 377.598 145.598 373.987 Q145.598 370.376 143.26 368.269 Q140.922 366.163 136.918 366.163 Q135.043 366.163 133.168 366.579 Q131.316 366.996 129.371 367.876 L129.371 350.515 Z\" fill=\"#000000\" fill-rule=\"evenodd\" fill-opacity=\"1\" /><path clip-path=\"url(#clip090)\" d=\"M53.7467 101.321 L61.3856 101.321 L61.3856 74.9555 L53.0754 76.6222 L53.0754 72.3629 L61.3393 70.6963 L66.0152 70.6963 L66.0152 101.321 L73.654 101.321 L73.654 105.256 L53.7467 105.256 L53.7467 101.321 Z\" fill=\"#000000\" fill-rule=\"evenodd\" fill-opacity=\"1\" /><path clip-path=\"url(#clip090)\" d=\"M83.0984 99.3767 L87.9827 99.3767 L87.9827 105.256 L83.0984 105.256 L83.0984 99.3767 Z\" fill=\"#000000\" fill-rule=\"evenodd\" fill-opacity=\"1\" /><path clip-path=\"url(#clip090)\" d=\"M108.168 73.775 Q104.557 73.775 102.728 77.3398 Q100.922 80.8814 100.922 88.011 Q100.922 95.1174 102.728 98.6822 Q104.557 102.224 108.168 102.224 Q111.802 102.224 113.608 98.6822 Q115.436 95.1174 115.436 88.011 Q115.436 80.8814 113.608 77.3398 Q111.802 73.775 108.168 73.775 M108.168 70.0713 Q113.978 70.0713 117.033 74.6777 Q120.112 79.261 120.112 88.011 Q120.112 96.7378 117.033 101.344 Q113.978 105.928 108.168 105.928 Q102.358 105.928 99.2789 101.344 Q96.2234 96.7378 96.2234 88.011 Q96.2234 79.261 99.2789 74.6777 Q102.358 70.0713 108.168 70.0713 Z\" fill=\"#000000\" fill-rule=\"evenodd\" fill-opacity=\"1\" /><path clip-path=\"url(#clip090)\" d=\"M138.33 73.775 Q134.719 73.775 132.89 77.3398 Q131.084 80.8814 131.084 88.011 Q131.084 95.1174 132.89 98.6822 Q134.719 102.224 138.33 102.224 Q141.964 102.224 143.769 98.6822 Q145.598 95.1174 145.598 88.011 Q145.598 80.8814 143.769 77.3398 Q141.964 73.775 138.33 73.775 M138.33 70.0713 Q144.14 70.0713 147.195 74.6777 Q150.274 79.261 150.274 88.011 Q150.274 96.7378 147.195 101.344 Q144.14 105.928 138.33 105.928 Q132.519 105.928 129.441 101.344 Q126.385 96.7378 126.385 88.011 Q126.385 79.261 129.441 74.6777 Q132.519 70.0713 138.33 70.0713 Z\" fill=\"#000000\" fill-rule=\"evenodd\" fill-opacity=\"1\" /><polyline clip-path=\"url(#clip092)\" style=\"stroke:#009af9; stroke-linecap:butt; stroke-linejoin:round; stroke-width:16; stroke-opacity:1; fill:none\" points=\"\n",
       "  247.59,87.9763 289.301,848.825 331.012,1213.78 372.723,1343.13 414.434,1346.3 456.146,1294.41 497.857,1230.5 539.568,1177.67 581.279,1145.54 622.991,1135.18 \n",
       "  664.702,1142.77 706.413,1162.29 748.124,1187.32 789.836,1212.21 831.547,1232.71 873.258,1246.19 914.969,1251.65 956.681,1249.45 998.392,1240.98 1040.1,1228.31 \n",
       "  1081.81,1213.78 1123.53,1199.68 1165.24,1187.95 1206.95,1180 1248.66,1176.59 1290.37,1177.82 1332.08,1183.14 1373.79,1191.52 1415.5,1201.57 1457.22,1211.76 \n",
       "  1498.93,1220.59 1540.64,1226.84 1582.35,1229.67 1624.06,1228.78 1665.77,1224.43 1707.48,1217.43 1749.19,1209.04 1790.91,1200.79 1832.62,1194.24 1874.33,1190.72 \n",
       "  1916.04,1191.03 1957.75,1195.21 1999.46,1202.32 2041.17,1210.49 2082.88,1217.15 2124.6,1219.61 2166.31,1216.11 2208.02,1207.53 2249.73,1199.78 2291.44,1207.25 \n",
       "  \n",
       "  \"/>\n",
       "<polyline clip-path=\"url(#clip092)\" style=\"stroke:#e26f46; stroke-linecap:butt; stroke-linejoin:round; stroke-width:16; stroke-opacity:1; fill:none\" points=\"\n",
       "  247.59,1207.25 289.301,303.554 331.012,88.1232 372.723,236.562 414.434,535.689 456.146,854.794 497.857,1122.45 539.568,1308.12 581.279,1407.81 622.991,1433.27 \n",
       "  664.702,1403.94 706.413,1341.41 748.124,1265.66 789.836,1192.93 831.547,1134.68 873.258,1097.44 914.969,1083.21 956.681,1090.34 998.392,1114.47 1040.1,1149.69 \n",
       "  1081.81,1189.49 1123.53,1227.7 1165.24,1259.17 1206.95,1280.25 1248.66,1289.06 1290.37,1285.51 1332.08,1271.14 1373.79,1248.8 1415.5,1222.2 1457.22,1195.41 \n",
       "  1498.93,1172.28 1540.64,1156.02 1582.35,1148.74 1624.06,1151.17 1665.77,1162.58 1707.48,1180.82 1749.19,1202.61 1790.91,1223.97 1832.62,1240.87 1874.33,1249.9 \n",
       "  1916.04,1249.02 1957.75,1238.23 1999.46,1219.92 2041.17,1198.92 2082.88,1181.85 2124.6,1175.59 2166.31,1184.57 2208.02,1206.54 2249.73,1226.32 2291.44,1207.25 \n",
       "  \n",
       "  \"/>\n",
       "<polyline clip-path=\"url(#clip092)\" style=\"stroke:#3da44d; stroke-linecap:butt; stroke-linejoin:round; stroke-width:16; stroke-opacity:1; fill:none\" points=\"\n",
       "  247.59,1207.25 289.301,1418.4 331.012,1197.81 372.723,825.838 414.434,469.993 456.146,216.958 497.857,98.0757 539.568,109.185 581.279,225.691 622.991,413.636 \n",
       "  664.702,637.486 706.413,865.235 748.124,1071.39 789.836,1238.33 831.547,1356.43 873.258,1423.33 914.969,1442.67 956.681,1422.54 998.392,1373.76 1040.1,1308.29 \n",
       "  1081.81,1237.82 1123.53,1172.62 1165.24,1120.66 1206.95,1087.13 1248.66,1074.25 1290.37,1081.4 1332.08,1105.52 1373.79,1141.68 1415.5,1183.84 1457.22,1225.65 \n",
       "  1498.93,1261.19 1540.64,1285.77 1582.35,1296.39 1624.06,1292.21 1665.77,1274.58 1707.48,1246.89 1749.19,1214.18 1790.91,1182.39 1832.62,1157.46 1874.33,1144.33 \n",
       "  1916.04,1145.84 1957.75,1161.86 1999.46,1188.74 2041.17,1219.37 2082.88,1244.12 2124.6,1253.09 2166.31,1240 2208.02,1208.27 2249.73,1179.84 2291.44,1207.25 \n",
       "  \n",
       "  \"/>\n",
       "<polyline clip-path=\"url(#clip092)\" style=\"stroke:#c271d2; stroke-linecap:butt; stroke-linejoin:round; stroke-width:16; stroke-opacity:1; fill:none\" points=\"\n",
       "  247.59,1207.25 289.301,1097.05 331.012,1211.64 372.723,1358.19 414.434,1436.62 456.146,1410.05 497.857,1281.71 539.568,1077.61 581.279,833.696 622.991,586.982 \n",
       "  664.702,369.727 706.413,206.142 748.124,110.979 789.836,89.5532 831.547,138.754 873.258,248.695 914.969,404.704 956.681,589.405 998.392,784.716 1040.1,973.608 \n",
       "  1081.81,1141.53 1123.53,1277.43 1165.24,1374.39 1206.95,1429.82 1248.66,1445.22 1290.37,1425.73 1332.08,1379.27 1373.79,1315.58 1415.5,1245.13 1457.22,1178.02 \n",
       "  1498.93,1122.95 1540.64,1086.37 1582.35,1071.87 1624.06,1079.81 1665.77,1107.41 1707.48,1149.08 1749.19,1197.18 1790.91,1243.06 1832.62,1278.37 1874.33,1296.43 \n",
       "  1916.04,1293.67 1957.75,1270.69 1999.46,1232.95 2041.17,1190.51 2082.88,1156.63 2124.6,1144.65 2166.31,1162.75 2208.02,1205.87 2249.73,1244.15 2291.44,1207.25 \n",
       "  \n",
       "  \"/>\n",
       "<polyline clip-path=\"url(#clip092)\" style=\"stroke:#ac8d18; stroke-linecap:butt; stroke-linejoin:round; stroke-width:16; stroke-opacity:1; fill:none\" points=\"\n",
       "  247.59,1207.25 289.301,1278 331.012,1204.53 372.723,1117.57 414.434,1077.44 456.146,1098.96 497.857,1170.19 539.568,1266.36 581.279,1359.47 622.991,1424.72 \n",
       "  664.702,1444.11 706.413,1408.15 748.124,1315.9 789.836,1174.02 831.547,995.14 873.258,795.813 914.969,594.412 956.681,409.107 998.392,256.09 1040.1,148.178 \n",
       "  1081.81,93.8263 1123.53,96.6022 1165.24,155.111 1206.95,263.336 1248.66,411.347 1290.37,586.296 1332.08,773.621 1373.79,958.352 1415.5,1126.43 1457.22,1265.94 \n",
       "  1498.93,1368.14 1540.64,1428.21 1582.35,1445.72 1624.06,1424.59 1665.77,1372.76 1707.48,1301.29 1749.19,1223.17 1790.91,1151.77 1832.62,1099.06 1874.33,1073.8 \n",
       "  1916.04,1079.87 1957.75,1115.02 1999.46,1170.35 2041.17,1231 2082.88,1278.3 2124.6,1294.23 2166.31,1268.51 2208.02,1209.14 2249.73,1157.3 2291.44,1207.25 \n",
       "  \n",
       "  \"/>\n",
       "<polyline clip-path=\"url(#clip092)\" style=\"stroke:#00a9ad; stroke-linecap:butt; stroke-linejoin:round; stroke-width:16; stroke-opacity:1; fill:none\" points=\"\n",
       "  247.59,1207.25 289.301,1157.3 331.012,1209.14 372.723,1268.51 414.434,1294.23 456.146,1278.3 497.857,1231 539.568,1170.35 581.279,1115.02 622.991,1079.87 \n",
       "  664.702,1073.8 706.413,1099.06 748.124,1151.77 789.836,1223.17 831.547,1301.29 873.258,1372.76 914.969,1424.59 956.681,1445.72 998.392,1428.21 1040.1,1368.14 \n",
       "  1081.81,1265.94 1123.53,1126.43 1165.24,958.352 1206.95,773.621 1248.66,586.296 1290.37,411.347 1332.08,263.336 1373.79,155.111 1415.5,96.6022 1457.22,93.8263 \n",
       "  1498.93,148.178 1540.64,256.09 1582.35,409.107 1624.06,594.412 1665.77,795.813 1707.48,995.14 1749.19,1174.02 1790.91,1315.9 1832.62,1408.15 1874.33,1444.11 \n",
       "  1916.04,1424.72 1957.75,1359.47 1999.46,1266.36 2041.17,1170.19 2082.88,1098.96 2124.6,1077.44 2166.31,1117.57 2208.02,1204.53 2249.73,1278 2291.44,1207.25 \n",
       "  \n",
       "  \"/>\n",
       "<polyline clip-path=\"url(#clip092)\" style=\"stroke:#ed5d92; stroke-linecap:butt; stroke-linejoin:round; stroke-width:16; stroke-opacity:1; fill:none\" points=\"\n",
       "  247.59,1207.25 289.301,1244.15 331.012,1205.87 372.723,1162.75 414.434,1144.65 456.146,1156.63 497.857,1190.51 539.568,1232.95 581.279,1270.69 622.991,1293.67 \n",
       "  664.702,1296.43 706.413,1278.37 748.124,1243.06 789.836,1197.18 831.547,1149.08 873.258,1107.41 914.969,1079.81 956.681,1071.87 998.392,1086.37 1040.1,1122.95 \n",
       "  1081.81,1178.02 1123.53,1245.13 1165.24,1315.58 1206.95,1379.27 1248.66,1425.73 1290.37,1445.22 1332.08,1429.82 1373.79,1374.39 1415.5,1277.43 1457.22,1141.53 \n",
       "  1498.93,973.608 1540.64,784.716 1582.35,589.405 1624.06,404.704 1665.77,248.695 1707.48,138.754 1749.19,89.5532 1790.91,110.979 1832.62,206.142 1874.33,369.727 \n",
       "  1916.04,586.982 1957.75,833.696 1999.46,1077.61 2041.17,1281.71 2082.88,1410.05 2124.6,1436.62 2166.31,1358.19 2208.02,1211.64 2249.73,1097.05 2291.44,1207.25 \n",
       "  \n",
       "  \"/>\n",
       "<polyline clip-path=\"url(#clip092)\" style=\"stroke:#c68125; stroke-linecap:butt; stroke-linejoin:round; stroke-width:16; stroke-opacity:1; fill:none\" points=\"\n",
       "  247.59,1207.25 289.301,1179.84 331.012,1208.27 372.723,1240 414.434,1253.09 456.146,1244.12 497.857,1219.37 539.568,1188.74 581.279,1161.86 622.991,1145.84 \n",
       "  664.702,1144.33 706.413,1157.46 748.124,1182.39 789.836,1214.18 831.547,1246.89 873.258,1274.58 914.969,1292.21 956.681,1296.39 998.392,1285.77 1040.1,1261.19 \n",
       "  1081.81,1225.65 1123.53,1183.84 1165.24,1141.68 1206.95,1105.52 1248.66,1081.4 1290.37,1074.25 1332.08,1087.13 1373.79,1120.66 1415.5,1172.62 1457.22,1237.82 \n",
       "  1498.93,1308.29 1540.64,1373.76 1582.35,1422.54 1624.06,1442.67 1665.77,1423.33 1707.48,1356.43 1749.19,1238.33 1790.91,1071.39 1832.62,865.235 1874.33,637.486 \n",
       "  1916.04,413.636 1957.75,225.691 1999.46,109.185 2041.17,98.0757 2082.88,216.958 2124.6,469.993 2166.31,825.838 2208.02,1197.81 2249.73,1418.4 2291.44,1207.25 \n",
       "  \n",
       "  \"/>\n",
       "<polyline clip-path=\"url(#clip092)\" style=\"stroke:#00a98d; stroke-linecap:butt; stroke-linejoin:round; stroke-width:16; stroke-opacity:1; fill:none\" points=\"\n",
       "  247.59,1207.25 289.301,1226.32 331.012,1206.54 372.723,1184.57 414.434,1175.59 456.146,1181.85 497.857,1198.92 539.568,1219.92 581.279,1238.23 622.991,1249.02 \n",
       "  664.702,1249.9 706.413,1240.87 748.124,1223.97 789.836,1202.61 831.547,1180.82 873.258,1162.58 914.969,1151.17 956.681,1148.74 998.392,1156.02 1040.1,1172.28 \n",
       "  1081.81,1195.41 1123.53,1222.2 1165.24,1248.8 1206.95,1271.14 1248.66,1285.51 1290.37,1289.06 1332.08,1280.25 1373.79,1259.17 1415.5,1227.7 1457.22,1189.49 \n",
       "  1498.93,1149.69 1540.64,1114.47 1582.35,1090.34 1624.06,1083.21 1665.77,1097.44 1707.48,1134.68 1749.19,1192.93 1790.91,1265.66 1832.62,1341.41 1874.33,1403.94 \n",
       "  1916.04,1433.27 1957.75,1407.81 1999.46,1308.12 2041.17,1122.45 2082.88,854.794 2124.6,535.689 2166.31,236.562 2208.02,88.1232 2249.73,303.554 2291.44,1207.25 \n",
       "  \n",
       "  \"/>\n",
       "<polyline clip-path=\"url(#clip092)\" style=\"stroke:#8e971d; stroke-linecap:butt; stroke-linejoin:round; stroke-width:16; stroke-opacity:1; fill:none\" points=\"\n",
       "  247.59,1207.25 289.301,1199.78 331.012,1207.53 372.723,1216.11 414.434,1219.61 456.146,1217.15 497.857,1210.49 539.568,1202.32 581.279,1195.21 622.991,1191.03 \n",
       "  664.702,1190.72 706.413,1194.24 748.124,1200.79 789.836,1209.04 831.547,1217.43 873.258,1224.43 914.969,1228.78 956.681,1229.67 998.392,1226.84 1040.1,1220.59 \n",
       "  1081.81,1211.76 1123.53,1201.57 1165.24,1191.52 1206.95,1183.14 1248.66,1177.82 1290.37,1176.59 1332.08,1180 1373.79,1187.95 1415.5,1199.68 1457.22,1213.78 \n",
       "  1498.93,1228.31 1540.64,1240.98 1582.35,1249.45 1624.06,1251.65 1665.77,1246.19 1707.48,1232.71 1749.19,1212.21 1790.91,1187.32 1832.62,1162.29 1874.33,1142.77 \n",
       "  1916.04,1135.18 1957.75,1145.54 1999.46,1177.67 2041.17,1230.5 2082.88,1294.41 2124.6,1346.3 2166.31,1343.13 2208.02,1213.78 2249.73,848.825 2291.44,87.9763 \n",
       "  \n",
       "  \"/>\n",
       "<circle clip-path=\"url(#clip092)\" cx=\"247.59\" cy=\"87.9763\" r=\"14\" fill=\"#00a8cb\" fill-rule=\"evenodd\" fill-opacity=\"1\" stroke=\"#000000\" stroke-opacity=\"1\" stroke-width=\"3.2\"/>\n",
       "<circle clip-path=\"url(#clip092)\" cx=\"329.82\" cy=\"87.9763\" r=\"14\" fill=\"#00a8cb\" fill-rule=\"evenodd\" fill-opacity=\"1\" stroke=\"#000000\" stroke-opacity=\"1\" stroke-width=\"3.2\"/>\n",
       "<circle clip-path=\"url(#clip092)\" cx=\"514.543\" cy=\"87.9763\" r=\"14\" fill=\"#00a8cb\" fill-rule=\"evenodd\" fill-opacity=\"1\" stroke=\"#000000\" stroke-opacity=\"1\" stroke-width=\"3.2\"/>\n",
       "<circle clip-path=\"url(#clip092)\" cx=\"781.111\" cy=\"87.9763\" r=\"14\" fill=\"#00a8cb\" fill-rule=\"evenodd\" fill-opacity=\"1\" stroke=\"#000000\" stroke-opacity=\"1\" stroke-width=\"3.2\"/>\n",
       "<circle clip-path=\"url(#clip092)\" cx=\"1100.61\" cy=\"87.9763\" r=\"14\" fill=\"#00a8cb\" fill-rule=\"evenodd\" fill-opacity=\"1\" stroke=\"#000000\" stroke-opacity=\"1\" stroke-width=\"3.2\"/>\n",
       "<circle clip-path=\"url(#clip092)\" cx=\"1438.42\" cy=\"87.9763\" r=\"14\" fill=\"#00a8cb\" fill-rule=\"evenodd\" fill-opacity=\"1\" stroke=\"#000000\" stroke-opacity=\"1\" stroke-width=\"3.2\"/>\n",
       "<circle clip-path=\"url(#clip092)\" cx=\"1757.92\" cy=\"87.9763\" r=\"14\" fill=\"#00a8cb\" fill-rule=\"evenodd\" fill-opacity=\"1\" stroke=\"#000000\" stroke-opacity=\"1\" stroke-width=\"3.2\"/>\n",
       "<circle clip-path=\"url(#clip092)\" cx=\"2024.49\" cy=\"87.9763\" r=\"14\" fill=\"#00a8cb\" fill-rule=\"evenodd\" fill-opacity=\"1\" stroke=\"#000000\" stroke-opacity=\"1\" stroke-width=\"3.2\"/>\n",
       "<circle clip-path=\"url(#clip092)\" cx=\"2209.21\" cy=\"87.9763\" r=\"14\" fill=\"#00a8cb\" fill-rule=\"evenodd\" fill-opacity=\"1\" stroke=\"#000000\" stroke-opacity=\"1\" stroke-width=\"3.2\"/>\n",
       "<circle clip-path=\"url(#clip092)\" cx=\"2291.44\" cy=\"87.9763\" r=\"14\" fill=\"#00a8cb\" fill-rule=\"evenodd\" fill-opacity=\"1\" stroke=\"#000000\" stroke-opacity=\"1\" stroke-width=\"3.2\"/>\n",
       "<path clip-path=\"url(#clip090)\" d=\"\n",
       "M1956 717.298 L2280.54 717.298 L2280.54 95.2176 L1956 95.2176  Z\n",
       "  \" fill=\"#ffffff\" fill-rule=\"evenodd\" fill-opacity=\"1\"/>\n",
       "<polyline clip-path=\"url(#clip090)\" style=\"stroke:#000000; stroke-linecap:butt; stroke-linejoin:round; stroke-width:4; stroke-opacity:1; fill:none\" points=\"\n",
       "  1956,717.298 2280.54,717.298 2280.54,95.2176 1956,95.2176 1956,717.298 \n",
       "  \"/>\n",
       "<polyline clip-path=\"url(#clip090)\" style=\"stroke:#009af9; stroke-linecap:butt; stroke-linejoin:round; stroke-width:4; stroke-opacity:1; fill:none\" points=\"\n",
       "  1980.07,147.058 2124.5,147.058 \n",
       "  \"/>\n",
       "<path clip-path=\"url(#clip090)\" d=\"M2162.42 166.745 Q2160.61 171.375 2158.9 172.787 Q2157.19 174.199 2154.32 174.199 L2150.91 174.199 L2150.91 170.634 L2153.41 170.634 Q2155.17 170.634 2156.15 169.8 Q2157.12 168.967 2158.3 165.865 L2159.06 163.921 L2148.58 138.412 L2153.09 138.412 L2161.19 158.689 L2169.29 138.412 L2173.81 138.412 L2162.42 166.745 Z\" fill=\"#000000\" fill-rule=\"evenodd\" fill-opacity=\"1\" /><path clip-path=\"url(#clip090)\" d=\"M2181.1 160.402 L2188.74 160.402 L2188.74 134.037 L2180.43 135.703 L2180.43 131.444 L2188.69 129.778 L2193.37 129.778 L2193.37 160.402 L2201.01 160.402 L2201.01 164.338 L2181.1 164.338 L2181.1 160.402 Z\" fill=\"#000000\" fill-rule=\"evenodd\" fill-opacity=\"1\" /><polyline clip-path=\"url(#clip090)\" style=\"stroke:#e26f46; stroke-linecap:butt; stroke-linejoin:round; stroke-width:4; stroke-opacity:1; fill:none\" points=\"\n",
       "  1980.07,198.898 2124.5,198.898 \n",
       "  \"/>\n",
       "<path clip-path=\"url(#clip090)\" d=\"M2162.42 218.585 Q2160.61 223.215 2158.9 224.627 Q2157.19 226.039 2154.32 226.039 L2150.91 226.039 L2150.91 222.474 L2153.41 222.474 Q2155.17 222.474 2156.15 221.64 Q2157.12 220.807 2158.3 217.705 L2159.06 215.761 L2148.58 190.252 L2153.09 190.252 L2161.19 210.529 L2169.29 190.252 L2173.81 190.252 L2162.42 218.585 Z\" fill=\"#000000\" fill-rule=\"evenodd\" fill-opacity=\"1\" /><path clip-path=\"url(#clip090)\" d=\"M2184.32 212.242 L2200.64 212.242 L2200.64 216.178 L2178.69 216.178 L2178.69 212.242 Q2181.35 209.488 2185.94 204.858 Q2190.54 200.205 2191.72 198.863 Q2193.97 196.34 2194.85 194.604 Q2195.75 192.844 2195.75 191.155 Q2195.75 188.4 2193.81 186.664 Q2191.89 184.928 2188.78 184.928 Q2186.59 184.928 2184.13 185.692 Q2181.7 186.455 2178.92 188.006 L2178.92 183.284 Q2181.75 182.15 2184.2 181.571 Q2186.66 180.993 2188.69 180.993 Q2194.06 180.993 2197.26 183.678 Q2200.45 186.363 2200.45 190.854 Q2200.45 192.983 2199.64 194.905 Q2198.85 196.803 2196.75 199.395 Q2196.17 200.067 2193.07 203.284 Q2189.97 206.479 2184.32 212.242 Z\" fill=\"#000000\" fill-rule=\"evenodd\" fill-opacity=\"1\" /><polyline clip-path=\"url(#clip090)\" style=\"stroke:#3da44d; stroke-linecap:butt; stroke-linejoin:round; stroke-width:4; stroke-opacity:1; fill:none\" points=\"\n",
       "  1980.07,250.738 2124.5,250.738 \n",
       "  \"/>\n",
       "<path clip-path=\"url(#clip090)\" d=\"M2162.42 270.425 Q2160.61 275.055 2158.9 276.467 Q2157.19 277.879 2154.32 277.879 L2150.91 277.879 L2150.91 274.314 L2153.41 274.314 Q2155.17 274.314 2156.15 273.48 Q2157.12 272.647 2158.3 269.545 L2159.06 267.601 L2148.58 242.092 L2153.09 242.092 L2161.19 262.369 L2169.29 242.092 L2173.81 242.092 L2162.42 270.425 Z\" fill=\"#000000\" fill-rule=\"evenodd\" fill-opacity=\"1\" /><path clip-path=\"url(#clip090)\" d=\"M2194.46 249.383 Q2197.81 250.101 2199.69 252.369 Q2201.59 254.638 2201.59 257.971 Q2201.59 263.087 2198.07 265.888 Q2194.55 268.689 2188.07 268.689 Q2185.89 268.689 2183.58 268.249 Q2181.28 267.832 2178.83 266.976 L2178.83 262.462 Q2180.78 263.596 2183.09 264.175 Q2185.41 264.754 2187.93 264.754 Q2192.33 264.754 2194.62 263.018 Q2196.93 261.281 2196.93 257.971 Q2196.93 254.916 2194.78 253.203 Q2192.65 251.467 2188.83 251.467 L2184.8 251.467 L2184.8 247.624 L2189.02 247.624 Q2192.47 247.624 2194.29 246.258 Q2196.12 244.87 2196.12 242.277 Q2196.12 239.615 2194.22 238.203 Q2192.35 236.768 2188.83 236.768 Q2186.91 236.768 2184.71 237.184 Q2182.51 237.601 2179.87 238.481 L2179.87 234.314 Q2182.53 233.573 2184.85 233.203 Q2187.19 232.833 2189.25 232.833 Q2194.57 232.833 2197.67 235.263 Q2200.78 237.67 2200.78 241.791 Q2200.78 244.661 2199.13 246.652 Q2197.49 248.62 2194.46 249.383 Z\" fill=\"#000000\" fill-rule=\"evenodd\" fill-opacity=\"1\" /><polyline clip-path=\"url(#clip090)\" style=\"stroke:#c271d2; stroke-linecap:butt; stroke-linejoin:round; stroke-width:4; stroke-opacity:1; fill:none\" points=\"\n",
       "  1980.07,302.578 2124.5,302.578 \n",
       "  \"/>\n",
       "<path clip-path=\"url(#clip090)\" d=\"M2162.42 322.265 Q2160.61 326.895 2158.9 328.307 Q2157.19 329.719 2154.32 329.719 L2150.91 329.719 L2150.91 326.154 L2153.41 326.154 Q2155.17 326.154 2156.15 325.32 Q2157.12 324.487 2158.3 321.385 L2159.06 319.441 L2148.58 293.932 L2153.09 293.932 L2161.19 314.209 L2169.29 293.932 L2173.81 293.932 L2162.42 322.265 Z\" fill=\"#000000\" fill-rule=\"evenodd\" fill-opacity=\"1\" /><path clip-path=\"url(#clip090)\" d=\"M2193.14 289.372 L2181.33 307.821 L2193.14 307.821 L2193.14 289.372 M2191.91 285.298 L2197.79 285.298 L2197.79 307.821 L2202.72 307.821 L2202.72 311.709 L2197.79 311.709 L2197.79 319.858 L2193.14 319.858 L2193.14 311.709 L2177.53 311.709 L2177.53 307.196 L2191.91 285.298 Z\" fill=\"#000000\" fill-rule=\"evenodd\" fill-opacity=\"1\" /><polyline clip-path=\"url(#clip090)\" style=\"stroke:#ac8d18; stroke-linecap:butt; stroke-linejoin:round; stroke-width:4; stroke-opacity:1; fill:none\" points=\"\n",
       "  1980.07,354.418 2124.5,354.418 \n",
       "  \"/>\n",
       "<path clip-path=\"url(#clip090)\" d=\"M2162.42 374.105 Q2160.61 378.735 2158.9 380.147 Q2157.19 381.559 2154.32 381.559 L2150.91 381.559 L2150.91 377.994 L2153.41 377.994 Q2155.17 377.994 2156.15 377.16 Q2157.12 376.327 2158.3 373.225 L2159.06 371.281 L2148.58 345.772 L2153.09 345.772 L2161.19 366.049 L2169.29 345.772 L2173.81 345.772 L2162.42 374.105 Z\" fill=\"#000000\" fill-rule=\"evenodd\" fill-opacity=\"1\" /><path clip-path=\"url(#clip090)\" d=\"M2180.34 337.138 L2198.69 337.138 L2198.69 341.073 L2184.62 341.073 L2184.62 349.545 Q2185.64 349.198 2186.66 349.036 Q2187.67 348.85 2188.69 348.85 Q2194.48 348.85 2197.86 352.022 Q2201.24 355.193 2201.24 360.61 Q2201.24 366.188 2197.77 369.29 Q2194.29 372.369 2187.97 372.369 Q2185.8 372.369 2183.53 371.998 Q2181.28 371.628 2178.88 370.887 L2178.88 366.188 Q2180.96 367.323 2183.18 367.878 Q2185.41 368.434 2187.88 368.434 Q2191.89 368.434 2194.22 366.327 Q2196.56 364.221 2196.56 360.61 Q2196.56 356.999 2194.22 354.892 Q2191.89 352.786 2187.88 352.786 Q2186.01 352.786 2184.13 353.202 Q2182.28 353.619 2180.34 354.499 L2180.34 337.138 Z\" fill=\"#000000\" fill-rule=\"evenodd\" fill-opacity=\"1\" /><polyline clip-path=\"url(#clip090)\" style=\"stroke:#00a9ad; stroke-linecap:butt; stroke-linejoin:round; stroke-width:4; stroke-opacity:1; fill:none\" points=\"\n",
       "  1980.07,406.258 2124.5,406.258 \n",
       "  \"/>\n",
       "<path clip-path=\"url(#clip090)\" d=\"M2162.42 425.945 Q2160.61 430.575 2158.9 431.987 Q2157.19 433.399 2154.32 433.399 L2150.91 433.399 L2150.91 429.834 L2153.41 429.834 Q2155.17 429.834 2156.15 429 Q2157.12 428.167 2158.3 425.065 L2159.06 423.121 L2148.58 397.612 L2153.09 397.612 L2161.19 417.889 L2169.29 397.612 L2173.81 397.612 L2162.42 425.945 Z\" fill=\"#000000\" fill-rule=\"evenodd\" fill-opacity=\"1\" /><path clip-path=\"url(#clip090)\" d=\"M2190.87 404.394 Q2187.72 404.394 2185.87 406.547 Q2184.04 408.7 2184.04 412.45 Q2184.04 416.176 2185.87 418.352 Q2187.72 420.505 2190.87 420.505 Q2194.02 420.505 2195.85 418.352 Q2197.7 416.176 2197.7 412.45 Q2197.7 408.7 2195.85 406.547 Q2194.02 404.394 2190.87 404.394 M2200.15 389.741 L2200.15 394.001 Q2198.39 393.167 2196.59 392.728 Q2194.8 392.288 2193.04 392.288 Q2188.41 392.288 2185.96 395.413 Q2183.53 398.538 2183.18 404.857 Q2184.55 402.843 2186.61 401.778 Q2188.67 400.69 2191.15 400.69 Q2196.35 400.69 2199.36 403.862 Q2202.4 407.01 2202.4 412.45 Q2202.4 417.774 2199.25 420.991 Q2196.1 424.209 2190.87 424.209 Q2184.87 424.209 2181.7 419.626 Q2178.53 415.019 2178.53 406.292 Q2178.53 398.098 2182.42 393.237 Q2186.31 388.353 2192.86 388.353 Q2194.62 388.353 2196.4 388.7 Q2198.21 389.047 2200.15 389.741 Z\" fill=\"#000000\" fill-rule=\"evenodd\" fill-opacity=\"1\" /><polyline clip-path=\"url(#clip090)\" style=\"stroke:#ed5d92; stroke-linecap:butt; stroke-linejoin:round; stroke-width:4; stroke-opacity:1; fill:none\" points=\"\n",
       "  1980.07,458.098 2124.5,458.098 \n",
       "  \"/>\n",
       "<path clip-path=\"url(#clip090)\" d=\"M2162.42 477.785 Q2160.61 482.415 2158.9 483.827 Q2157.19 485.239 2154.32 485.239 L2150.91 485.239 L2150.91 481.674 L2153.41 481.674 Q2155.17 481.674 2156.15 480.84 Q2157.12 480.007 2158.3 476.905 L2159.06 474.961 L2148.58 449.452 L2153.09 449.452 L2161.19 469.729 L2169.29 449.452 L2173.81 449.452 L2162.42 477.785 Z\" fill=\"#000000\" fill-rule=\"evenodd\" fill-opacity=\"1\" /><path clip-path=\"url(#clip090)\" d=\"M2179.11 440.818 L2201.33 440.818 L2201.33 442.808 L2188.78 475.378 L2183.9 475.378 L2195.71 444.753 L2179.11 444.753 L2179.11 440.818 Z\" fill=\"#000000\" fill-rule=\"evenodd\" fill-opacity=\"1\" /><polyline clip-path=\"url(#clip090)\" style=\"stroke:#c68125; stroke-linecap:butt; stroke-linejoin:round; stroke-width:4; stroke-opacity:1; fill:none\" points=\"\n",
       "  1980.07,509.938 2124.5,509.938 \n",
       "  \"/>\n",
       "<path clip-path=\"url(#clip090)\" d=\"M2162.42 529.625 Q2160.61 534.255 2158.9 535.667 Q2157.19 537.079 2154.32 537.079 L2150.91 537.079 L2150.91 533.514 L2153.41 533.514 Q2155.17 533.514 2156.15 532.68 Q2157.12 531.847 2158.3 528.745 L2159.06 526.801 L2148.58 501.292 L2153.09 501.292 L2161.19 521.569 L2169.29 501.292 L2173.81 501.292 L2162.42 529.625 Z\" fill=\"#000000\" fill-rule=\"evenodd\" fill-opacity=\"1\" /><path clip-path=\"url(#clip090)\" d=\"M2190.29 510.806 Q2186.96 510.806 2185.03 512.588 Q2183.14 514.37 2183.14 517.495 Q2183.14 520.62 2185.03 522.403 Q2186.96 524.185 2190.29 524.185 Q2193.62 524.185 2195.54 522.403 Q2197.47 520.597 2197.47 517.495 Q2197.47 514.37 2195.54 512.588 Q2193.65 510.806 2190.29 510.806 M2185.61 508.815 Q2182.6 508.074 2180.91 506.014 Q2179.25 503.954 2179.25 500.991 Q2179.25 496.847 2182.19 494.44 Q2185.15 492.033 2190.29 492.033 Q2195.45 492.033 2198.39 494.44 Q2201.33 496.847 2201.33 500.991 Q2201.33 503.954 2199.64 506.014 Q2197.97 508.074 2194.99 508.815 Q2198.37 509.602 2200.24 511.894 Q2202.14 514.185 2202.14 517.495 Q2202.14 522.519 2199.06 525.204 Q2196.01 527.889 2190.29 527.889 Q2184.57 527.889 2181.49 525.204 Q2178.44 522.519 2178.44 517.495 Q2178.44 514.185 2180.34 511.894 Q2182.23 509.602 2185.61 508.815 M2183.9 501.431 Q2183.9 504.116 2185.57 505.62 Q2187.26 507.125 2190.29 507.125 Q2193.3 507.125 2194.99 505.62 Q2196.7 504.116 2196.7 501.431 Q2196.7 498.745 2194.99 497.241 Q2193.3 495.736 2190.29 495.736 Q2187.26 495.736 2185.57 497.241 Q2183.9 498.745 2183.9 501.431 Z\" fill=\"#000000\" fill-rule=\"evenodd\" fill-opacity=\"1\" /><polyline clip-path=\"url(#clip090)\" style=\"stroke:#00a98d; stroke-linecap:butt; stroke-linejoin:round; stroke-width:4; stroke-opacity:1; fill:none\" points=\"\n",
       "  1980.07,561.778 2124.5,561.778 \n",
       "  \"/>\n",
       "<path clip-path=\"url(#clip090)\" d=\"M2162.42 581.465 Q2160.61 586.095 2158.9 587.507 Q2157.19 588.919 2154.32 588.919 L2150.91 588.919 L2150.91 585.354 L2153.41 585.354 Q2155.17 585.354 2156.15 584.52 Q2157.12 583.687 2158.3 580.585 L2159.06 578.641 L2148.58 553.132 L2153.09 553.132 L2161.19 573.409 L2169.29 553.132 L2173.81 553.132 L2162.42 581.465 Z\" fill=\"#000000\" fill-rule=\"evenodd\" fill-opacity=\"1\" /><path clip-path=\"url(#clip090)\" d=\"M2180.43 578.34 L2180.43 574.081 Q2182.19 574.914 2183.99 575.354 Q2185.8 575.794 2187.53 575.794 Q2192.16 575.794 2194.6 572.692 Q2197.05 569.567 2197.4 563.224 Q2196.05 565.215 2193.99 566.28 Q2191.93 567.345 2189.43 567.345 Q2184.25 567.345 2181.22 564.22 Q2178.21 561.072 2178.21 555.632 Q2178.21 550.308 2181.35 547.09 Q2184.5 543.873 2189.73 543.873 Q2195.73 543.873 2198.88 548.479 Q2202.05 553.062 2202.05 561.812 Q2202.05 569.984 2198.16 574.868 Q2194.29 579.729 2187.74 579.729 Q2185.98 579.729 2184.18 579.382 Q2182.37 579.034 2180.43 578.34 M2189.73 563.687 Q2192.88 563.687 2194.71 561.534 Q2196.56 559.382 2196.56 555.632 Q2196.56 551.905 2194.71 549.752 Q2192.88 547.576 2189.73 547.576 Q2186.59 547.576 2184.73 549.752 Q2182.91 551.905 2182.91 555.632 Q2182.91 559.382 2184.73 561.534 Q2186.59 563.687 2189.73 563.687 Z\" fill=\"#000000\" fill-rule=\"evenodd\" fill-opacity=\"1\" /><polyline clip-path=\"url(#clip090)\" style=\"stroke:#8e971d; stroke-linecap:butt; stroke-linejoin:round; stroke-width:4; stroke-opacity:1; fill:none\" points=\"\n",
       "  1980.07,613.618 2124.5,613.618 \n",
       "  \"/>\n",
       "<path clip-path=\"url(#clip090)\" d=\"M2162.42 633.305 Q2160.61 637.935 2158.9 639.347 Q2157.19 640.759 2154.32 640.759 L2150.91 640.759 L2150.91 637.194 L2153.41 637.194 Q2155.17 637.194 2156.15 636.36 Q2157.12 635.527 2158.3 632.425 L2159.06 630.481 L2148.58 604.972 L2153.09 604.972 L2161.19 625.249 L2169.29 604.972 L2173.81 604.972 L2162.42 633.305 Z\" fill=\"#000000\" fill-rule=\"evenodd\" fill-opacity=\"1\" /><path clip-path=\"url(#clip090)\" d=\"M2181.1 626.962 L2188.74 626.962 L2188.74 600.597 L2180.43 602.263 L2180.43 598.004 L2188.69 596.338 L2193.37 596.338 L2193.37 626.962 L2201.01 626.962 L2201.01 630.898 L2181.1 630.898 L2181.1 626.962 Z\" fill=\"#000000\" fill-rule=\"evenodd\" fill-opacity=\"1\" /><path clip-path=\"url(#clip090)\" d=\"M2220.45 599.416 Q2216.84 599.416 2215.01 602.981 Q2213.21 606.523 2213.21 613.652 Q2213.21 620.759 2215.01 624.324 Q2216.84 627.865 2220.45 627.865 Q2224.09 627.865 2225.89 624.324 Q2227.72 620.759 2227.72 613.652 Q2227.72 606.523 2225.89 602.981 Q2224.09 599.416 2220.45 599.416 M2220.45 595.713 Q2226.26 595.713 2229.32 600.319 Q2232.4 604.902 2232.4 613.652 Q2232.4 622.379 2229.32 626.986 Q2226.26 631.569 2220.45 631.569 Q2214.64 631.569 2211.56 626.986 Q2208.51 622.379 2208.51 613.652 Q2208.51 604.902 2211.56 600.319 Q2214.64 595.713 2220.45 595.713 Z\" fill=\"#000000\" fill-rule=\"evenodd\" fill-opacity=\"1\" /><circle clip-path=\"url(#clip090)\" cx=\"2052.29\" cy=\"665.458\" r=\"23\" fill=\"#00a8cb\" fill-rule=\"evenodd\" fill-opacity=\"1\" stroke=\"#000000\" stroke-opacity=\"1\" stroke-width=\"5.12\"/>\n",
       "<path clip-path=\"url(#clip090)\" d=\"M2162.42 685.145 Q2160.61 689.775 2158.9 691.187 Q2157.19 692.599 2154.32 692.599 L2150.91 692.599 L2150.91 689.034 L2153.41 689.034 Q2155.17 689.034 2156.15 688.2 Q2157.12 687.367 2158.3 684.265 L2159.06 682.321 L2148.58 656.812 L2153.09 656.812 L2161.19 677.089 L2169.29 656.812 L2173.81 656.812 L2162.42 685.145 Z\" fill=\"#000000\" fill-rule=\"evenodd\" fill-opacity=\"1\" /><path clip-path=\"url(#clip090)\" d=\"M2181.1 678.802 L2188.74 678.802 L2188.74 652.437 L2180.43 654.103 L2180.43 649.844 L2188.69 648.178 L2193.37 648.178 L2193.37 678.802 L2201.01 678.802 L2201.01 682.738 L2181.1 682.738 L2181.1 678.802 Z\" fill=\"#000000\" fill-rule=\"evenodd\" fill-opacity=\"1\" /><path clip-path=\"url(#clip090)\" d=\"M2211.26 678.802 L2218.9 678.802 L2218.9 652.437 L2210.59 654.103 L2210.59 649.844 L2218.85 648.178 L2223.53 648.178 L2223.53 678.802 L2231.17 678.802 L2231.17 682.738 L2211.26 682.738 L2211.26 678.802 Z\" fill=\"#000000\" fill-rule=\"evenodd\" fill-opacity=\"1\" /></svg>\n"
      ]
     },
     "execution_count": 59,
     "metadata": {},
     "output_type": "execute_result"
    }
   ],
   "source": [
    "using FastGaussQuadrature\n",
    "xn, _ = gausslobatto(k)\n",
    "V = vander_legendre(xn)\n",
    "Pn = Pxx / V\n",
    "plot(xx, Pn)\n",
    "scatter!(xn, one.(xn))"
   ]
  },
  {
   "cell_type": "markdown",
   "id": "ed8f0dc4",
   "metadata": {
    "slideshow": {
     "slide_type": "slide"
    }
   },
   "source": [
    "# Galerkin method: $L^2$ projection\n",
    "\n",
    "A nice test problem that doesn't require derivatives or boundary conditions:\n",
    "Find $u \\in \\mathcal V_h$ such that\n",
    "$$ \\int_{-1}^1 v(x) \\big[ u(x) - f(x) \\big] = 0, \\quad \\forall v \\in \\mathcal V_h$$"
   ]
  },
  {
   "cell_type": "code",
   "execution_count": 60,
   "id": "96ec301b",
   "metadata": {
    "cell_style": "split"
   },
   "outputs": [
    {
     "data": {
      "text/plain": [
       "L2_galerkin (generic function with 1 method)"
      ]
     },
     "execution_count": 60,
     "metadata": {},
     "output_type": "execute_result"
    }
   ],
   "source": [
    "function febasis(P, Q)\n",
    "    x, _ = gausslobatto(P)\n",
    "    q, w = gausslegendre(Q)\n",
    "    Pk = vander_legendre(x)\n",
    "    Pq = vander_legendre(q, P)\n",
    "    B = Pq / Pk\n",
    "    x, q, w, B\n",
    "end\n",
    "\n",
    "function L2_galerkin(P, Q, f)\n",
    "    x, q, w, B = febasis(P, Q)\n",
    "    A = B' * diagm(w) * B\n",
    "    rhs = B' * diagm(w) * f.(q)\n",
    "    u = A \\ rhs\n",
    "    x, u\n",
    "end"
   ]
  },
  {
   "cell_type": "code",
   "execution_count": 64,
   "id": "139878d2",
   "metadata": {
    "cell_style": "split"
   },
   "outputs": [
    {
     "data": {
      "image/svg+xml": [
       "<?xml version=\"1.0\" encoding=\"utf-8\"?>\n",
       "<svg xmlns=\"http://www.w3.org/2000/svg\" xmlns:xlink=\"http://www.w3.org/1999/xlink\" width=\"600\" height=\"400\" viewBox=\"0 0 2400 1600\">\n",
       "<defs>\n",
       "  <clipPath id=\"clip250\">\n",
       "    <rect x=\"0\" y=\"0\" width=\"2400\" height=\"1600\"/>\n",
       "  </clipPath>\n",
       "</defs>\n",
       "<path clip-path=\"url(#clip250)\" d=\"\n",
       "M0 1600 L2400 1600 L2400 0 L0 0  Z\n",
       "  \" fill=\"#ffffff\" fill-rule=\"evenodd\" fill-opacity=\"1\"/>\n",
       "<defs>\n",
       "  <clipPath id=\"clip251\">\n",
       "    <rect x=\"480\" y=\"0\" width=\"1681\" height=\"1600\"/>\n",
       "  </clipPath>\n",
       "</defs>\n",
       "<path clip-path=\"url(#clip250)\" d=\"\n",
       "M193.936 1486.45 L2352.76 1486.45 L2352.76 123.472 L193.936 123.472  Z\n",
       "  \" fill=\"#ffffff\" fill-rule=\"evenodd\" fill-opacity=\"1\"/>\n",
       "<defs>\n",
       "  <clipPath id=\"clip252\">\n",
       "    <rect x=\"193\" y=\"123\" width=\"2160\" height=\"1364\"/>\n",
       "  </clipPath>\n",
       "</defs>\n",
       "<polyline clip-path=\"url(#clip252)\" style=\"stroke:#000000; stroke-linecap:butt; stroke-linejoin:round; stroke-width:2; stroke-opacity:0.1; fill:none\" points=\"\n",
       "  255.035,1486.45 255.035,123.472 \n",
       "  \"/>\n",
       "<polyline clip-path=\"url(#clip252)\" style=\"stroke:#000000; stroke-linecap:butt; stroke-linejoin:round; stroke-width:2; stroke-opacity:0.1; fill:none\" points=\"\n",
       "  764.19,1486.45 764.19,123.472 \n",
       "  \"/>\n",
       "<polyline clip-path=\"url(#clip252)\" style=\"stroke:#000000; stroke-linecap:butt; stroke-linejoin:round; stroke-width:2; stroke-opacity:0.1; fill:none\" points=\"\n",
       "  1273.35,1486.45 1273.35,123.472 \n",
       "  \"/>\n",
       "<polyline clip-path=\"url(#clip252)\" style=\"stroke:#000000; stroke-linecap:butt; stroke-linejoin:round; stroke-width:2; stroke-opacity:0.1; fill:none\" points=\"\n",
       "  1782.5,1486.45 1782.5,123.472 \n",
       "  \"/>\n",
       "<polyline clip-path=\"url(#clip252)\" style=\"stroke:#000000; stroke-linecap:butt; stroke-linejoin:round; stroke-width:2; stroke-opacity:0.1; fill:none\" points=\"\n",
       "  2291.66,1486.45 2291.66,123.472 \n",
       "  \"/>\n",
       "<polyline clip-path=\"url(#clip250)\" style=\"stroke:#000000; stroke-linecap:butt; stroke-linejoin:round; stroke-width:4; stroke-opacity:1; fill:none\" points=\"\n",
       "  193.936,1486.45 2352.76,1486.45 \n",
       "  \"/>\n",
       "<polyline clip-path=\"url(#clip250)\" style=\"stroke:#000000; stroke-linecap:butt; stroke-linejoin:round; stroke-width:4; stroke-opacity:1; fill:none\" points=\"\n",
       "  255.035,1486.45 255.035,1467.55 \n",
       "  \"/>\n",
       "<polyline clip-path=\"url(#clip250)\" style=\"stroke:#000000; stroke-linecap:butt; stroke-linejoin:round; stroke-width:4; stroke-opacity:1; fill:none\" points=\"\n",
       "  764.19,1486.45 764.19,1467.55 \n",
       "  \"/>\n",
       "<polyline clip-path=\"url(#clip250)\" style=\"stroke:#000000; stroke-linecap:butt; stroke-linejoin:round; stroke-width:4; stroke-opacity:1; fill:none\" points=\"\n",
       "  1273.35,1486.45 1273.35,1467.55 \n",
       "  \"/>\n",
       "<polyline clip-path=\"url(#clip250)\" style=\"stroke:#000000; stroke-linecap:butt; stroke-linejoin:round; stroke-width:4; stroke-opacity:1; fill:none\" points=\"\n",
       "  1782.5,1486.45 1782.5,1467.55 \n",
       "  \"/>\n",
       "<polyline clip-path=\"url(#clip250)\" style=\"stroke:#000000; stroke-linecap:butt; stroke-linejoin:round; stroke-width:4; stroke-opacity:1; fill:none\" points=\"\n",
       "  2291.66,1486.45 2291.66,1467.55 \n",
       "  \"/>\n",
       "<path clip-path=\"url(#clip250)\" d=\"M201.563 1530.29 L231.239 1530.29 L231.239 1534.23 L201.563 1534.23 L201.563 1530.29 Z\" fill=\"#000000\" fill-rule=\"evenodd\" fill-opacity=\"1\" /><path clip-path=\"url(#clip250)\" d=\"M242.141 1543.18 L249.78 1543.18 L249.78 1516.82 L241.47 1518.49 L241.47 1514.23 L249.734 1512.56 L254.41 1512.56 L254.41 1543.18 L262.049 1543.18 L262.049 1547.12 L242.141 1547.12 L242.141 1543.18 Z\" fill=\"#000000\" fill-rule=\"evenodd\" fill-opacity=\"1\" /><path clip-path=\"url(#clip250)\" d=\"M271.493 1541.24 L276.377 1541.24 L276.377 1547.12 L271.493 1547.12 L271.493 1541.24 Z\" fill=\"#000000\" fill-rule=\"evenodd\" fill-opacity=\"1\" /><path clip-path=\"url(#clip250)\" d=\"M296.562 1515.64 Q292.951 1515.64 291.122 1519.2 Q289.317 1522.75 289.317 1529.87 Q289.317 1536.98 291.122 1540.55 Q292.951 1544.09 296.562 1544.09 Q300.196 1544.09 302.002 1540.55 Q303.831 1536.98 303.831 1529.87 Q303.831 1522.75 302.002 1519.2 Q300.196 1515.64 296.562 1515.64 M296.562 1511.93 Q302.372 1511.93 305.428 1516.54 Q308.507 1521.12 308.507 1529.87 Q308.507 1538.6 305.428 1543.21 Q302.372 1547.79 296.562 1547.79 Q290.752 1547.79 287.673 1543.21 Q284.618 1538.6 284.618 1529.87 Q284.618 1521.12 287.673 1516.54 Q290.752 1511.93 296.562 1511.93 Z\" fill=\"#000000\" fill-rule=\"evenodd\" fill-opacity=\"1\" /><path clip-path=\"url(#clip250)\" d=\"M711.216 1530.29 L740.892 1530.29 L740.892 1534.23 L711.216 1534.23 L711.216 1530.29 Z\" fill=\"#000000\" fill-rule=\"evenodd\" fill-opacity=\"1\" /><path clip-path=\"url(#clip250)\" d=\"M760.984 1515.64 Q757.373 1515.64 755.545 1519.2 Q753.739 1522.75 753.739 1529.87 Q753.739 1536.98 755.545 1540.55 Q757.373 1544.09 760.984 1544.09 Q764.619 1544.09 766.424 1540.55 Q768.253 1536.98 768.253 1529.87 Q768.253 1522.75 766.424 1519.2 Q764.619 1515.64 760.984 1515.64 M760.984 1511.93 Q766.794 1511.93 769.85 1516.54 Q772.929 1521.12 772.929 1529.87 Q772.929 1538.6 769.85 1543.21 Q766.794 1547.79 760.984 1547.79 Q755.174 1547.79 752.095 1543.21 Q749.04 1538.6 749.04 1529.87 Q749.04 1521.12 752.095 1516.54 Q755.174 1511.93 760.984 1511.93 Z\" fill=\"#000000\" fill-rule=\"evenodd\" fill-opacity=\"1\" /><path clip-path=\"url(#clip250)\" d=\"M781.146 1541.24 L786.03 1541.24 L786.03 1547.12 L781.146 1547.12 L781.146 1541.24 Z\" fill=\"#000000\" fill-rule=\"evenodd\" fill-opacity=\"1\" /><path clip-path=\"url(#clip250)\" d=\"M796.262 1512.56 L814.618 1512.56 L814.618 1516.5 L800.544 1516.5 L800.544 1524.97 Q801.563 1524.62 802.581 1524.46 Q803.6 1524.27 804.618 1524.27 Q810.405 1524.27 813.785 1527.44 Q817.165 1530.62 817.165 1536.03 Q817.165 1541.61 813.692 1544.71 Q810.22 1547.79 803.901 1547.79 Q801.725 1547.79 799.456 1547.42 Q797.211 1547.05 794.804 1546.31 L794.804 1541.61 Q796.887 1542.74 799.109 1543.3 Q801.331 1543.86 803.808 1543.86 Q807.813 1543.86 810.151 1541.75 Q812.489 1539.64 812.489 1536.03 Q812.489 1532.42 810.151 1530.31 Q807.813 1528.21 803.808 1528.21 Q801.933 1528.21 800.058 1528.62 Q798.206 1529.04 796.262 1529.92 L796.262 1512.56 Z\" fill=\"#000000\" fill-rule=\"evenodd\" fill-opacity=\"1\" /><path clip-path=\"url(#clip250)\" d=\"M1250.73 1515.64 Q1247.12 1515.64 1245.29 1519.2 Q1243.49 1522.75 1243.49 1529.87 Q1243.49 1536.98 1245.29 1540.55 Q1247.12 1544.09 1250.73 1544.09 Q1254.36 1544.09 1256.17 1540.55 Q1258 1536.98 1258 1529.87 Q1258 1522.75 1256.17 1519.2 Q1254.36 1515.64 1250.73 1515.64 M1250.73 1511.93 Q1256.54 1511.93 1259.6 1516.54 Q1262.67 1521.12 1262.67 1529.87 Q1262.67 1538.6 1259.6 1543.21 Q1256.54 1547.79 1250.73 1547.79 Q1244.92 1547.79 1241.84 1543.21 Q1238.79 1538.6 1238.79 1529.87 Q1238.79 1521.12 1241.84 1516.54 Q1244.92 1511.93 1250.73 1511.93 Z\" fill=\"#000000\" fill-rule=\"evenodd\" fill-opacity=\"1\" /><path clip-path=\"url(#clip250)\" d=\"M1270.89 1541.24 L1275.78 1541.24 L1275.78 1547.12 L1270.89 1547.12 L1270.89 1541.24 Z\" fill=\"#000000\" fill-rule=\"evenodd\" fill-opacity=\"1\" /><path clip-path=\"url(#clip250)\" d=\"M1295.96 1515.64 Q1292.35 1515.64 1290.52 1519.2 Q1288.72 1522.75 1288.72 1529.87 Q1288.72 1536.98 1290.52 1540.55 Q1292.35 1544.09 1295.96 1544.09 Q1299.6 1544.09 1301.4 1540.55 Q1303.23 1536.98 1303.23 1529.87 Q1303.23 1522.75 1301.4 1519.2 Q1299.6 1515.64 1295.96 1515.64 M1295.96 1511.93 Q1301.77 1511.93 1304.83 1516.54 Q1307.91 1521.12 1307.91 1529.87 Q1307.91 1538.6 1304.83 1543.21 Q1301.77 1547.79 1295.96 1547.79 Q1290.15 1547.79 1287.07 1543.21 Q1284.02 1538.6 1284.02 1529.87 Q1284.02 1521.12 1287.07 1516.54 Q1290.15 1511.93 1295.96 1511.93 Z\" fill=\"#000000\" fill-rule=\"evenodd\" fill-opacity=\"1\" /><path clip-path=\"url(#clip250)\" d=\"M1760.38 1515.64 Q1756.77 1515.64 1754.94 1519.2 Q1753.14 1522.75 1753.14 1529.87 Q1753.14 1536.98 1754.94 1540.55 Q1756.77 1544.09 1760.38 1544.09 Q1764.02 1544.09 1765.82 1540.55 Q1767.65 1536.98 1767.65 1529.87 Q1767.65 1522.75 1765.82 1519.2 Q1764.02 1515.64 1760.38 1515.64 M1760.38 1511.93 Q1766.19 1511.93 1769.25 1516.54 Q1772.33 1521.12 1772.33 1529.87 Q1772.33 1538.6 1769.25 1543.21 Q1766.19 1547.79 1760.38 1547.79 Q1754.57 1547.79 1751.49 1543.21 Q1748.44 1538.6 1748.44 1529.87 Q1748.44 1521.12 1751.49 1516.54 Q1754.57 1511.93 1760.38 1511.93 Z\" fill=\"#000000\" fill-rule=\"evenodd\" fill-opacity=\"1\" /><path clip-path=\"url(#clip250)\" d=\"M1780.55 1541.24 L1785.43 1541.24 L1785.43 1547.12 L1780.55 1547.12 L1780.55 1541.24 Z\" fill=\"#000000\" fill-rule=\"evenodd\" fill-opacity=\"1\" /><path clip-path=\"url(#clip250)\" d=\"M1795.66 1512.56 L1814.02 1512.56 L1814.02 1516.5 L1799.94 1516.5 L1799.94 1524.97 Q1800.96 1524.62 1801.98 1524.46 Q1803 1524.27 1804.02 1524.27 Q1809.8 1524.27 1813.18 1527.44 Q1816.56 1530.62 1816.56 1536.03 Q1816.56 1541.61 1813.09 1544.71 Q1809.62 1547.79 1803.3 1547.79 Q1801.12 1547.79 1798.86 1547.42 Q1796.61 1547.05 1794.2 1546.31 L1794.2 1541.61 Q1796.29 1542.74 1798.51 1543.3 Q1800.73 1543.86 1803.21 1543.86 Q1807.21 1543.86 1809.55 1541.75 Q1811.89 1539.64 1811.89 1536.03 Q1811.89 1532.42 1809.55 1530.31 Q1807.21 1528.21 1803.21 1528.21 Q1801.33 1528.21 1799.46 1528.62 Q1797.61 1529.04 1795.66 1529.92 L1795.66 1512.56 Z\" fill=\"#000000\" fill-rule=\"evenodd\" fill-opacity=\"1\" /><path clip-path=\"url(#clip250)\" d=\"M2258.81 1543.18 L2266.45 1543.18 L2266.45 1516.82 L2258.14 1518.49 L2258.14 1514.23 L2266.4 1512.56 L2271.08 1512.56 L2271.08 1543.18 L2278.72 1543.18 L2278.72 1547.12 L2258.81 1547.12 L2258.81 1543.18 Z\" fill=\"#000000\" fill-rule=\"evenodd\" fill-opacity=\"1\" /><path clip-path=\"url(#clip250)\" d=\"M2288.16 1541.24 L2293.05 1541.24 L2293.05 1547.12 L2288.16 1547.12 L2288.16 1541.24 Z\" fill=\"#000000\" fill-rule=\"evenodd\" fill-opacity=\"1\" /><path clip-path=\"url(#clip250)\" d=\"M2313.23 1515.64 Q2309.62 1515.64 2307.79 1519.2 Q2305.99 1522.75 2305.99 1529.87 Q2305.99 1536.98 2307.79 1540.55 Q2309.62 1544.09 2313.23 1544.09 Q2316.87 1544.09 2318.67 1540.55 Q2320.5 1536.98 2320.5 1529.87 Q2320.5 1522.75 2318.67 1519.2 Q2316.87 1515.64 2313.23 1515.64 M2313.23 1511.93 Q2319.04 1511.93 2322.1 1516.54 Q2325.18 1521.12 2325.18 1529.87 Q2325.18 1538.6 2322.1 1543.21 Q2319.04 1547.79 2313.23 1547.79 Q2307.42 1547.79 2304.34 1543.21 Q2301.29 1538.6 2301.29 1529.87 Q2301.29 1521.12 2304.34 1516.54 Q2307.42 1511.93 2313.23 1511.93 Z\" fill=\"#000000\" fill-rule=\"evenodd\" fill-opacity=\"1\" /><polyline clip-path=\"url(#clip252)\" style=\"stroke:#000000; stroke-linecap:butt; stroke-linejoin:round; stroke-width:2; stroke-opacity:0.1; fill:none\" points=\"\n",
       "  193.936,1446.02 2352.76,1446.02 \n",
       "  \"/>\n",
       "<polyline clip-path=\"url(#clip252)\" style=\"stroke:#000000; stroke-linecap:butt; stroke-linejoin:round; stroke-width:2; stroke-opacity:0.1; fill:none\" points=\"\n",
       "  193.936,1125.49 2352.76,1125.49 \n",
       "  \"/>\n",
       "<polyline clip-path=\"url(#clip252)\" style=\"stroke:#000000; stroke-linecap:butt; stroke-linejoin:round; stroke-width:2; stroke-opacity:0.1; fill:none\" points=\"\n",
       "  193.936,804.96 2352.76,804.96 \n",
       "  \"/>\n",
       "<polyline clip-path=\"url(#clip252)\" style=\"stroke:#000000; stroke-linecap:butt; stroke-linejoin:round; stroke-width:2; stroke-opacity:0.1; fill:none\" points=\"\n",
       "  193.936,484.431 2352.76,484.431 \n",
       "  \"/>\n",
       "<polyline clip-path=\"url(#clip252)\" style=\"stroke:#000000; stroke-linecap:butt; stroke-linejoin:round; stroke-width:2; stroke-opacity:0.1; fill:none\" points=\"\n",
       "  193.936,163.902 2352.76,163.902 \n",
       "  \"/>\n",
       "<polyline clip-path=\"url(#clip250)\" style=\"stroke:#000000; stroke-linecap:butt; stroke-linejoin:round; stroke-width:4; stroke-opacity:1; fill:none\" points=\"\n",
       "  193.936,1486.45 193.936,123.472 \n",
       "  \"/>\n",
       "<polyline clip-path=\"url(#clip250)\" style=\"stroke:#000000; stroke-linecap:butt; stroke-linejoin:round; stroke-width:4; stroke-opacity:1; fill:none\" points=\"\n",
       "  193.936,1446.02 212.834,1446.02 \n",
       "  \"/>\n",
       "<polyline clip-path=\"url(#clip250)\" style=\"stroke:#000000; stroke-linecap:butt; stroke-linejoin:round; stroke-width:4; stroke-opacity:1; fill:none\" points=\"\n",
       "  193.936,1125.49 212.834,1125.49 \n",
       "  \"/>\n",
       "<polyline clip-path=\"url(#clip250)\" style=\"stroke:#000000; stroke-linecap:butt; stroke-linejoin:round; stroke-width:4; stroke-opacity:1; fill:none\" points=\"\n",
       "  193.936,804.96 212.834,804.96 \n",
       "  \"/>\n",
       "<polyline clip-path=\"url(#clip250)\" style=\"stroke:#000000; stroke-linecap:butt; stroke-linejoin:round; stroke-width:4; stroke-opacity:1; fill:none\" points=\"\n",
       "  193.936,484.431 212.834,484.431 \n",
       "  \"/>\n",
       "<polyline clip-path=\"url(#clip250)\" style=\"stroke:#000000; stroke-linecap:butt; stroke-linejoin:round; stroke-width:4; stroke-opacity:1; fill:none\" points=\"\n",
       "  193.936,163.902 212.834,163.902 \n",
       "  \"/>\n",
       "<path clip-path=\"url(#clip250)\" d=\"M50.9921 1446.47 L80.6679 1446.47 L80.6679 1450.4 L50.9921 1450.4 L50.9921 1446.47 Z\" fill=\"#000000\" fill-rule=\"evenodd\" fill-opacity=\"1\" /><path clip-path=\"url(#clip250)\" d=\"M91.5706 1459.36 L99.2095 1459.36 L99.2095 1433 L90.8993 1434.66 L90.8993 1430.4 L99.1632 1428.74 L103.839 1428.74 L103.839 1459.36 L111.478 1459.36 L111.478 1463.3 L91.5706 1463.3 L91.5706 1459.36 Z\" fill=\"#000000\" fill-rule=\"evenodd\" fill-opacity=\"1\" /><path clip-path=\"url(#clip250)\" d=\"M120.922 1457.42 L125.807 1457.42 L125.807 1463.3 L120.922 1463.3 L120.922 1457.42 Z\" fill=\"#000000\" fill-rule=\"evenodd\" fill-opacity=\"1\" /><path clip-path=\"url(#clip250)\" d=\"M145.992 1431.82 Q142.381 1431.82 140.552 1435.38 Q138.746 1438.92 138.746 1446.05 Q138.746 1453.16 140.552 1456.72 Q142.381 1460.27 145.992 1460.27 Q149.626 1460.27 151.431 1456.72 Q153.26 1453.16 153.26 1446.05 Q153.26 1438.92 151.431 1435.38 Q149.626 1431.82 145.992 1431.82 M145.992 1428.11 Q151.802 1428.11 154.857 1432.72 Q157.936 1437.3 157.936 1446.05 Q157.936 1454.78 154.857 1459.39 Q151.802 1463.97 145.992 1463.97 Q140.181 1463.97 137.103 1459.39 Q134.047 1454.78 134.047 1446.05 Q134.047 1437.3 137.103 1432.72 Q140.181 1428.11 145.992 1428.11 Z\" fill=\"#000000\" fill-rule=\"evenodd\" fill-opacity=\"1\" /><path clip-path=\"url(#clip250)\" d=\"M51.9875 1125.94 L81.6633 1125.94 L81.6633 1129.88 L51.9875 1129.88 L51.9875 1125.94 Z\" fill=\"#000000\" fill-rule=\"evenodd\" fill-opacity=\"1\" /><path clip-path=\"url(#clip250)\" d=\"M101.756 1111.29 Q98.1447 1111.29 96.316 1114.85 Q94.5104 1118.39 94.5104 1125.52 Q94.5104 1132.63 96.316 1136.2 Q98.1447 1139.74 101.756 1139.74 Q105.39 1139.74 107.196 1136.2 Q109.024 1132.63 109.024 1125.52 Q109.024 1118.39 107.196 1114.85 Q105.39 1111.29 101.756 1111.29 M101.756 1107.58 Q107.566 1107.58 110.621 1112.19 Q113.7 1116.77 113.7 1125.52 Q113.7 1134.25 110.621 1138.86 Q107.566 1143.44 101.756 1143.44 Q95.9456 1143.44 92.8669 1138.86 Q89.8114 1134.25 89.8114 1125.52 Q89.8114 1116.77 92.8669 1112.19 Q95.9456 1107.58 101.756 1107.58 Z\" fill=\"#000000\" fill-rule=\"evenodd\" fill-opacity=\"1\" /><path clip-path=\"url(#clip250)\" d=\"M121.918 1136.89 L126.802 1136.89 L126.802 1142.77 L121.918 1142.77 L121.918 1136.89 Z\" fill=\"#000000\" fill-rule=\"evenodd\" fill-opacity=\"1\" /><path clip-path=\"url(#clip250)\" d=\"M137.033 1108.21 L155.39 1108.21 L155.39 1112.14 L141.316 1112.14 L141.316 1120.62 Q142.334 1120.27 143.353 1120.11 Q144.371 1119.92 145.39 1119.92 Q151.177 1119.92 154.556 1123.09 Q157.936 1126.26 157.936 1131.68 Q157.936 1137.26 154.464 1140.36 Q150.992 1143.44 144.672 1143.44 Q142.496 1143.44 140.228 1143.07 Q137.982 1142.7 135.575 1141.96 L135.575 1137.26 Q137.658 1138.39 139.881 1138.95 Q142.103 1139.51 144.58 1139.51 Q148.584 1139.51 150.922 1137.4 Q153.26 1135.29 153.26 1131.68 Q153.26 1128.07 150.922 1125.96 Q148.584 1123.86 144.58 1123.86 Q142.705 1123.86 140.83 1124.27 Q138.978 1124.69 137.033 1125.57 L137.033 1108.21 Z\" fill=\"#000000\" fill-rule=\"evenodd\" fill-opacity=\"1\" /><path clip-path=\"url(#clip250)\" d=\"M100.76 790.759 Q97.1493 790.759 95.3206 794.323 Q93.515 797.865 93.515 804.995 Q93.515 812.101 95.3206 815.666 Q97.1493 819.208 100.76 819.208 Q104.395 819.208 106.2 815.666 Q108.029 812.101 108.029 804.995 Q108.029 797.865 106.2 794.323 Q104.395 790.759 100.76 790.759 M100.76 787.055 Q106.571 787.055 109.626 791.661 Q112.705 796.245 112.705 804.995 Q112.705 813.722 109.626 818.328 Q106.571 822.911 100.76 822.911 Q94.9502 822.911 91.8715 818.328 Q88.816 813.722 88.816 804.995 Q88.816 796.245 91.8715 791.661 Q94.9502 787.055 100.76 787.055 Z\" fill=\"#000000\" fill-rule=\"evenodd\" fill-opacity=\"1\" /><path clip-path=\"url(#clip250)\" d=\"M120.922 816.36 L125.807 816.36 L125.807 822.24 L120.922 822.24 L120.922 816.36 Z\" fill=\"#000000\" fill-rule=\"evenodd\" fill-opacity=\"1\" /><path clip-path=\"url(#clip250)\" d=\"M145.992 790.759 Q142.381 790.759 140.552 794.323 Q138.746 797.865 138.746 804.995 Q138.746 812.101 140.552 815.666 Q142.381 819.208 145.992 819.208 Q149.626 819.208 151.431 815.666 Q153.26 812.101 153.26 804.995 Q153.26 797.865 151.431 794.323 Q149.626 790.759 145.992 790.759 M145.992 787.055 Q151.802 787.055 154.857 791.661 Q157.936 796.245 157.936 804.995 Q157.936 813.722 154.857 818.328 Q151.802 822.911 145.992 822.911 Q140.181 822.911 137.103 818.328 Q134.047 813.722 134.047 804.995 Q134.047 796.245 137.103 791.661 Q140.181 787.055 145.992 787.055 Z\" fill=\"#000000\" fill-rule=\"evenodd\" fill-opacity=\"1\" /><path clip-path=\"url(#clip250)\" d=\"M101.756 470.23 Q98.1447 470.23 96.316 473.794 Q94.5104 477.336 94.5104 484.466 Q94.5104 491.572 96.316 495.137 Q98.1447 498.679 101.756 498.679 Q105.39 498.679 107.196 495.137 Q109.024 491.572 109.024 484.466 Q109.024 477.336 107.196 473.794 Q105.39 470.23 101.756 470.23 M101.756 466.526 Q107.566 466.526 110.621 471.132 Q113.7 475.716 113.7 484.466 Q113.7 493.192 110.621 497.799 Q107.566 502.382 101.756 502.382 Q95.9456 502.382 92.8669 497.799 Q89.8114 493.192 89.8114 484.466 Q89.8114 475.716 92.8669 471.132 Q95.9456 466.526 101.756 466.526 Z\" fill=\"#000000\" fill-rule=\"evenodd\" fill-opacity=\"1\" /><path clip-path=\"url(#clip250)\" d=\"M121.918 495.831 L126.802 495.831 L126.802 501.711 L121.918 501.711 L121.918 495.831 Z\" fill=\"#000000\" fill-rule=\"evenodd\" fill-opacity=\"1\" /><path clip-path=\"url(#clip250)\" d=\"M137.033 467.151 L155.39 467.151 L155.39 471.086 L141.316 471.086 L141.316 479.558 Q142.334 479.211 143.353 479.049 Q144.371 478.864 145.39 478.864 Q151.177 478.864 154.556 482.035 Q157.936 485.206 157.936 490.623 Q157.936 496.202 154.464 499.304 Q150.992 502.382 144.672 502.382 Q142.496 502.382 140.228 502.012 Q137.982 501.641 135.575 500.901 L135.575 496.202 Q137.658 497.336 139.881 497.891 Q142.103 498.447 144.58 498.447 Q148.584 498.447 150.922 496.341 Q153.26 494.234 153.26 490.623 Q153.26 487.012 150.922 484.905 Q148.584 482.799 144.58 482.799 Q142.705 482.799 140.83 483.216 Q138.978 483.632 137.033 484.512 L137.033 467.151 Z\" fill=\"#000000\" fill-rule=\"evenodd\" fill-opacity=\"1\" /><path clip-path=\"url(#clip250)\" d=\"M91.5706 177.247 L99.2095 177.247 L99.2095 150.881 L90.8993 152.548 L90.8993 148.289 L99.1632 146.622 L103.839 146.622 L103.839 177.247 L111.478 177.247 L111.478 181.182 L91.5706 181.182 L91.5706 177.247 Z\" fill=\"#000000\" fill-rule=\"evenodd\" fill-opacity=\"1\" /><path clip-path=\"url(#clip250)\" d=\"M120.922 175.302 L125.807 175.302 L125.807 181.182 L120.922 181.182 L120.922 175.302 Z\" fill=\"#000000\" fill-rule=\"evenodd\" fill-opacity=\"1\" /><path clip-path=\"url(#clip250)\" d=\"M145.992 149.701 Q142.381 149.701 140.552 153.265 Q138.746 156.807 138.746 163.937 Q138.746 171.043 140.552 174.608 Q142.381 178.149 145.992 178.149 Q149.626 178.149 151.431 174.608 Q153.26 171.043 153.26 163.937 Q153.26 156.807 151.431 153.265 Q149.626 149.701 145.992 149.701 M145.992 145.997 Q151.802 145.997 154.857 150.603 Q157.936 155.187 157.936 163.937 Q157.936 172.663 154.857 177.27 Q151.802 181.853 145.992 181.853 Q140.181 181.853 137.103 177.27 Q134.047 172.663 134.047 163.937 Q134.047 155.187 137.103 150.603 Q140.181 145.997 145.992 145.997 Z\" fill=\"#000000\" fill-rule=\"evenodd\" fill-opacity=\"1\" /><path clip-path=\"url(#clip250)\" d=\"M521.235 63.9476 L521.235 47.7034 L507.867 47.7034 L507.867 40.9789 L529.337 40.9789 L529.337 66.9452 Q524.597 70.3075 518.885 72.0494 Q513.174 73.7508 506.692 73.7508 Q492.514 73.7508 484.493 65.4869 Q476.513 57.1826 476.513 42.3968 Q476.513 27.5705 484.493 19.3066 Q492.514 11.0023 506.692 11.0023 Q512.606 11.0023 517.913 12.4606 Q523.26 13.9189 527.757 16.7545 L527.757 25.464 Q523.22 21.6156 518.116 19.6712 Q513.011 17.7268 507.381 17.7268 Q496.281 17.7268 490.691 23.9246 Q485.141 30.1225 485.141 42.3968 Q485.141 54.6305 490.691 60.8284 Q496.281 67.0263 507.381 67.0263 Q511.715 67.0263 515.118 66.2971 Q518.521 65.5274 521.235 63.9476 Z\" fill=\"#000000\" fill-rule=\"evenodd\" fill-opacity=\"1\" /><path clip-path=\"url(#clip250)\" d=\"M564.579 49.7694 Q555.546 49.7694 552.062 51.8354 Q548.578 53.9013 548.578 58.8839 Q548.578 62.8538 551.171 65.2034 Q553.804 67.5124 558.301 67.5124 Q564.498 67.5124 568.225 63.1374 Q571.993 58.7219 571.993 51.4303 L571.993 49.7694 L564.579 49.7694 M579.446 46.6907 L579.446 72.576 L571.993 72.576 L571.993 65.6895 Q569.441 69.8214 565.633 71.8063 Q561.825 73.7508 556.316 73.7508 Q549.348 73.7508 545.216 69.8619 Q541.125 65.9325 541.125 59.3701 Q541.125 51.7138 546.229 47.825 Q551.374 43.9361 561.541 43.9361 L571.993 43.9361 L571.993 43.2069 Q571.993 38.0623 568.59 35.2672 Q565.228 32.4315 559.111 32.4315 Q555.222 32.4315 551.536 33.3632 Q547.849 34.295 544.447 36.1584 L544.447 29.2718 Q548.538 27.692 552.386 26.9223 Q556.235 26.1121 559.88 26.1121 Q569.724 26.1121 574.585 31.2163 Q579.446 36.3204 579.446 46.6907 Z\" fill=\"#000000\" fill-rule=\"evenodd\" fill-opacity=\"1\" /><path clip-path=\"url(#clip250)\" d=\"M594.799 9.54393 L602.253 9.54393 L602.253 72.576 L594.799 72.576 L594.799 9.54393 Z\" fill=\"#000000\" fill-rule=\"evenodd\" fill-opacity=\"1\" /><path clip-path=\"url(#clip250)\" d=\"M656.657 48.0275 L656.657 51.6733 L622.386 51.6733 Q622.872 59.3701 627.004 63.421 Q631.176 67.4314 638.59 67.4314 Q642.883 67.4314 646.894 66.3781 Q650.945 65.3249 654.915 63.2184 L654.915 70.267 Q650.904 71.9684 646.691 72.8596 Q642.478 73.7508 638.144 73.7508 Q627.287 73.7508 620.928 67.4314 Q614.608 61.1119 614.608 50.3365 Q614.608 39.1965 620.604 32.6746 Q626.639 26.1121 636.848 26.1121 Q646.003 26.1121 651.309 32.0264 Q656.657 37.9003 656.657 48.0275 M649.203 45.84 Q649.122 39.7232 645.76 36.0774 Q642.438 32.4315 636.929 32.4315 Q630.69 32.4315 626.923 35.9558 Q623.196 39.4801 622.629 45.8805 L649.203 45.84 Z\" fill=\"#000000\" fill-rule=\"evenodd\" fill-opacity=\"1\" /><path clip-path=\"url(#clip250)\" d=\"M695.181 34.1734 Q693.925 33.4443 692.426 33.1202 Q690.968 32.7556 689.185 32.7556 Q682.866 32.7556 679.463 36.8875 Q676.101 40.9789 676.101 48.6757 L676.101 72.576 L668.607 72.576 L668.607 27.2059 L676.101 27.2059 L676.101 34.2544 Q678.45 30.1225 682.218 28.1376 Q685.985 26.1121 691.373 26.1121 Q692.142 26.1121 693.074 26.2337 Q694.006 26.3147 695.14 26.5172 L695.181 34.1734 Z\" fill=\"#000000\" fill-rule=\"evenodd\" fill-opacity=\"1\" /><path clip-path=\"url(#clip250)\" d=\"M702.715 9.54393 L710.21 9.54393 L710.21 46.7717 L732.449 27.2059 L741.969 27.2059 L717.906 48.4326 L742.981 72.576 L733.259 72.576 L710.21 50.4176 L710.21 72.576 L702.715 72.576 L702.715 9.54393 Z\" fill=\"#000000\" fill-rule=\"evenodd\" fill-opacity=\"1\" /><path clip-path=\"url(#clip250)\" d=\"M751.043 27.2059 L758.496 27.2059 L758.496 72.576 L751.043 72.576 L751.043 27.2059 M751.043 9.54393 L758.496 9.54393 L758.496 18.9825 L751.043 18.9825 L751.043 9.54393 Z\" fill=\"#000000\" fill-rule=\"evenodd\" fill-opacity=\"1\" /><path clip-path=\"url(#clip250)\" d=\"M811.806 45.1919 L811.806 72.576 L804.353 72.576 L804.353 45.4349 Q804.353 38.994 801.841 35.7938 Q799.329 32.5936 794.306 32.5936 Q788.27 32.5936 784.787 36.4419 Q781.303 40.2903 781.303 46.9338 L781.303 72.576 L773.809 72.576 L773.809 27.2059 L781.303 27.2059 L781.303 34.2544 Q783.976 30.163 787.582 28.1376 Q791.228 26.1121 795.967 26.1121 Q803.785 26.1121 807.796 30.9732 Q811.806 35.7938 811.806 45.1919 Z\" fill=\"#000000\" fill-rule=\"evenodd\" fill-opacity=\"1\" /><path clip-path=\"url(#clip250)\" d=\"M891.852 48.0275 L891.852 51.6733 L857.581 51.6733 Q858.068 59.3701 862.199 63.421 Q866.372 67.4314 873.785 67.4314 Q878.079 67.4314 882.089 66.3781 Q886.14 65.3249 890.11 63.2184 L890.11 70.267 Q886.1 71.9684 881.887 72.8596 Q877.674 73.7508 873.339 73.7508 Q862.483 73.7508 856.123 67.4314 Q849.804 61.1119 849.804 50.3365 Q849.804 39.1965 855.799 32.6746 Q861.835 26.1121 872.043 26.1121 Q881.198 26.1121 886.505 32.0264 Q891.852 37.9003 891.852 48.0275 M884.398 45.84 Q884.317 39.7232 880.955 36.0774 Q877.633 32.4315 872.124 32.4315 Q865.886 32.4315 862.118 35.9558 Q858.392 39.4801 857.824 45.8805 L884.398 45.84 Z\" fill=\"#000000\" fill-rule=\"evenodd\" fill-opacity=\"1\" /><path clip-path=\"url(#clip250)\" d=\"M930.376 34.1734 Q929.12 33.4443 927.622 33.1202 Q926.163 32.7556 924.381 32.7556 Q918.061 32.7556 914.659 36.8875 Q911.296 40.9789 911.296 48.6757 L911.296 72.576 L903.802 72.576 L903.802 27.2059 L911.296 27.2059 L911.296 34.2544 Q913.646 30.1225 917.413 28.1376 Q921.181 26.1121 926.568 26.1121 Q927.338 26.1121 928.27 26.2337 Q929.201 26.3147 930.336 26.5172 L930.376 34.1734 Z\" fill=\"#000000\" fill-rule=\"evenodd\" fill-opacity=\"1\" /><path clip-path=\"url(#clip250)\" d=\"M963.026 34.1734 Q961.771 33.4443 960.272 33.1202 Q958.813 32.7556 957.031 32.7556 Q950.712 32.7556 947.309 36.8875 Q943.947 40.9789 943.947 48.6757 L943.947 72.576 L936.453 72.576 L936.453 27.2059 L943.947 27.2059 L943.947 34.2544 Q946.296 30.1225 950.064 28.1376 Q953.831 26.1121 959.219 26.1121 Q959.988 26.1121 960.92 26.2337 Q961.852 26.3147 962.986 26.5172 L963.026 34.1734 Z\" fill=\"#000000\" fill-rule=\"evenodd\" fill-opacity=\"1\" /><path clip-path=\"url(#clip250)\" d=\"M986.603 32.4315 Q980.607 32.4315 977.124 37.1306 Q973.64 41.7891 973.64 49.9314 Q973.64 58.0738 977.083 62.7728 Q980.567 67.4314 986.603 67.4314 Q992.558 67.4314 996.041 62.7323 Q999.525 58.0333 999.525 49.9314 Q999.525 41.8701 996.041 37.1711 Q992.558 32.4315 986.603 32.4315 M986.603 26.1121 Q996.325 26.1121 1001.87 32.4315 Q1007.42 38.7509 1007.42 49.9314 Q1007.42 61.0714 1001.87 67.4314 Q996.325 73.7508 986.603 73.7508 Q976.84 73.7508 971.29 67.4314 Q965.781 61.0714 965.781 49.9314 Q965.781 38.7509 971.29 32.4315 Q976.84 26.1121 986.603 26.1121 Z\" fill=\"#000000\" fill-rule=\"evenodd\" fill-opacity=\"1\" /><path clip-path=\"url(#clip250)\" d=\"M1046.07 34.1734 Q1044.81 33.4443 1043.32 33.1202 Q1041.86 32.7556 1040.07 32.7556 Q1033.76 32.7556 1030.35 36.8875 Q1026.99 40.9789 1026.99 48.6757 L1026.99 72.576 L1019.5 72.576 L1019.5 27.2059 L1026.99 27.2059 L1026.99 34.2544 Q1029.34 30.1225 1033.11 28.1376 Q1036.87 26.1121 1042.26 26.1121 Q1043.03 26.1121 1043.96 26.2337 Q1044.9 26.3147 1046.03 26.5172 L1046.07 34.1734 Z\" fill=\"#000000\" fill-rule=\"evenodd\" fill-opacity=\"1\" /><path clip-path=\"url(#clip250)\" d=\"M1054.33 62.2867 L1062.88 62.2867 L1062.88 72.576 L1054.33 72.576 L1054.33 62.2867 M1054.33 29.6769 L1062.88 29.6769 L1062.88 39.9662 L1054.33 39.9662 L1054.33 29.6769 Z\" fill=\"#000000\" fill-rule=\"evenodd\" fill-opacity=\"1\" /><path clip-path=\"url(#clip250)\" d=\"M1125.31 17.4837 Q1118.99 17.4837 1115.79 23.7221 Q1112.63 29.92 1112.63 42.3968 Q1112.63 54.833 1115.79 61.0714 Q1118.99 67.2693 1125.31 67.2693 Q1131.67 67.2693 1134.83 61.0714 Q1138.03 54.833 1138.03 42.3968 Q1138.03 29.92 1134.83 23.7221 Q1131.67 17.4837 1125.31 17.4837 M1125.31 11.0023 Q1135.47 11.0023 1140.82 19.0636 Q1146.21 27.0843 1146.21 42.3968 Q1146.21 57.6687 1140.82 65.73 Q1135.47 73.7508 1125.31 73.7508 Q1115.14 73.7508 1109.75 65.73 Q1104.4 57.6687 1104.4 42.3968 Q1104.4 27.0843 1109.75 19.0636 Q1115.14 11.0023 1125.31 11.0023 Z\" fill=\"#000000\" fill-rule=\"evenodd\" fill-opacity=\"1\" /><path clip-path=\"url(#clip250)\" d=\"M1160.59 62.2867 L1169.14 62.2867 L1169.14 72.576 L1160.59 72.576 L1160.59 62.2867 Z\" fill=\"#000000\" fill-rule=\"evenodd\" fill-opacity=\"1\" /><path clip-path=\"url(#clip250)\" d=\"M1204.46 17.4837 Q1198.14 17.4837 1194.94 23.7221 Q1191.78 29.92 1191.78 42.3968 Q1191.78 54.833 1194.94 61.0714 Q1198.14 67.2693 1204.46 67.2693 Q1210.82 67.2693 1213.98 61.0714 Q1217.18 54.833 1217.18 42.3968 Q1217.18 29.92 1213.98 23.7221 Q1210.82 17.4837 1204.46 17.4837 M1204.46 11.0023 Q1214.63 11.0023 1219.98 19.0636 Q1225.36 27.0843 1225.36 42.3968 Q1225.36 57.6687 1219.98 65.73 Q1214.63 73.7508 1204.46 73.7508 Q1194.29 73.7508 1188.9 65.73 Q1183.56 57.6687 1183.56 42.3968 Q1183.56 27.0843 1188.9 19.0636 Q1194.29 11.0023 1204.46 11.0023 Z\" fill=\"#000000\" fill-rule=\"evenodd\" fill-opacity=\"1\" /><path clip-path=\"url(#clip250)\" d=\"M1241.16 65.6895 L1254.53 65.6895 L1254.53 19.5497 L1239.99 22.4663 L1239.99 15.0127 L1254.45 12.096 L1262.63 12.096 L1262.63 65.6895 L1276 65.6895 L1276 72.576 L1241.16 72.576 L1241.16 65.6895 Z\" fill=\"#000000\" fill-rule=\"evenodd\" fill-opacity=\"1\" /><path clip-path=\"url(#clip250)\" d=\"M1299.58 65.6895 L1328.13 65.6895 L1328.13 72.576 L1289.73 72.576 L1289.73 65.6895 Q1294.39 60.8689 1302.41 52.7671 Q1310.47 44.6248 1312.54 42.2752 Q1316.47 37.8598 1318.01 34.8216 Q1319.59 31.7429 1319.59 28.7857 Q1319.59 23.9651 1316.18 20.927 Q1312.82 17.8888 1307.39 17.8888 Q1303.55 17.8888 1299.25 19.2256 Q1295 20.5624 1290.14 23.2765 L1290.14 15.0127 Q1295.08 13.0277 1299.37 12.015 Q1303.67 11.0023 1307.23 11.0023 Q1316.63 11.0023 1322.22 15.7013 Q1327.81 20.4004 1327.81 28.2591 Q1327.81 31.9859 1326.39 35.3482 Q1325.02 38.6699 1321.33 43.2069 Q1320.32 44.3817 1314.89 50.0125 Q1309.46 55.6027 1299.58 65.6895 Z\" fill=\"#000000\" fill-rule=\"evenodd\" fill-opacity=\"1\" /><path clip-path=\"url(#clip250)\" d=\"M1363.82 39.075 Q1358.31 39.075 1355.07 42.8424 Q1351.87 46.6097 1351.87 53.1722 Q1351.87 59.6941 1355.07 63.502 Q1358.31 67.2693 1363.82 67.2693 Q1369.33 67.2693 1372.53 63.502 Q1375.77 59.6941 1375.77 53.1722 Q1375.77 46.6097 1372.53 42.8424 Q1369.33 39.075 1363.82 39.075 M1380.07 13.4328 L1380.07 20.8865 Q1376.99 19.4281 1373.83 18.6585 Q1370.71 17.8888 1367.63 17.8888 Q1359.53 17.8888 1355.23 23.3575 Q1350.98 28.8262 1350.37 39.8852 Q1352.76 36.3609 1356.37 34.4975 Q1359.97 32.5936 1364.31 32.5936 Q1373.42 32.5936 1378.69 38.1433 Q1384 43.6525 1384 53.1722 Q1384 62.4892 1378.49 68.12 Q1372.98 73.7508 1363.82 73.7508 Q1353.33 73.7508 1347.78 65.73 Q1342.23 57.6687 1342.23 42.3968 Q1342.23 28.0566 1349.04 19.5497 Q1355.84 11.0023 1367.31 11.0023 Q1370.39 11.0023 1373.5 11.6099 Q1376.66 12.2175 1380.07 13.4328 Z\" fill=\"#000000\" fill-rule=\"evenodd\" fill-opacity=\"1\" /><path clip-path=\"url(#clip250)\" d=\"M1416.61 39.075 Q1411.1 39.075 1407.86 42.8424 Q1404.66 46.6097 1404.66 53.1722 Q1404.66 59.6941 1407.86 63.502 Q1411.1 67.2693 1416.61 67.2693 Q1422.12 67.2693 1425.32 63.502 Q1428.56 59.6941 1428.56 53.1722 Q1428.56 46.6097 1425.32 42.8424 Q1422.12 39.075 1416.61 39.075 M1432.85 13.4328 L1432.85 20.8865 Q1429.77 19.4281 1426.61 18.6585 Q1423.49 17.8888 1420.41 17.8888 Q1412.31 17.8888 1408.02 23.3575 Q1403.76 28.8262 1403.16 39.8852 Q1405.55 36.3609 1409.15 34.4975 Q1412.76 32.5936 1417.09 32.5936 Q1426.21 32.5936 1431.47 38.1433 Q1436.78 43.6525 1436.78 53.1722 Q1436.78 62.4892 1431.27 68.12 Q1425.76 73.7508 1416.61 73.7508 Q1406.11 73.7508 1400.56 65.73 Q1395.01 57.6687 1395.01 42.3968 Q1395.01 28.0566 1401.82 19.5497 Q1408.63 11.0023 1420.09 11.0023 Q1423.17 11.0023 1426.29 11.6099 Q1429.45 12.2175 1432.85 13.4328 Z\" fill=\"#000000\" fill-rule=\"evenodd\" fill-opacity=\"1\" /><path clip-path=\"url(#clip250)\" d=\"M1468.38 43.8551 Q1462.54 43.8551 1459.18 46.9743 Q1455.86 50.0935 1455.86 55.5622 Q1455.86 61.0309 1459.18 64.1501 Q1462.54 67.2693 1468.38 67.2693 Q1474.21 67.2693 1477.57 64.1501 Q1480.93 60.9904 1480.93 55.5622 Q1480.93 50.0935 1477.57 46.9743 Q1474.25 43.8551 1468.38 43.8551 M1460.19 40.3713 Q1454.93 39.075 1451.97 35.4697 Q1449.05 31.8644 1449.05 26.6793 Q1449.05 19.4281 1454.2 15.2152 Q1459.38 11.0023 1468.38 11.0023 Q1477.41 11.0023 1482.55 15.2152 Q1487.7 19.4281 1487.7 26.6793 Q1487.7 31.8644 1484.74 35.4697 Q1481.83 39.075 1476.6 40.3713 Q1482.51 41.7486 1485.8 45.759 Q1489.12 49.7694 1489.12 55.5622 Q1489.12 64.3527 1483.73 69.0517 Q1478.38 73.7508 1468.38 73.7508 Q1458.37 73.7508 1452.98 69.0517 Q1447.64 64.3527 1447.64 55.5622 Q1447.64 49.7694 1450.96 45.759 Q1454.28 41.7486 1460.19 40.3713 M1457.2 27.4489 Q1457.2 32.148 1460.11 34.7811 Q1463.07 37.4142 1468.38 37.4142 Q1473.64 37.4142 1476.6 34.7811 Q1479.6 32.148 1479.6 27.4489 Q1479.6 22.7499 1476.6 20.1168 Q1473.64 17.4837 1468.38 17.4837 Q1463.07 17.4837 1460.11 20.1168 Q1457.2 22.7499 1457.2 27.4489 Z\" fill=\"#000000\" fill-rule=\"evenodd\" fill-opacity=\"1\" /><path clip-path=\"url(#clip250)\" d=\"M1505.08 65.6895 L1518.45 65.6895 L1518.45 19.5497 L1503.9 22.4663 L1503.9 15.0127 L1518.36 12.096 L1526.55 12.096 L1526.55 65.6895 L1539.92 65.6895 L1539.92 72.576 L1505.08 72.576 L1505.08 65.6895 Z\" fill=\"#000000\" fill-rule=\"evenodd\" fill-opacity=\"1\" /><path clip-path=\"url(#clip250)\" d=\"M1573.94 43.8551 Q1568.11 43.8551 1564.75 46.9743 Q1561.43 50.0935 1561.43 55.5622 Q1561.43 61.0309 1564.75 64.1501 Q1568.11 67.2693 1573.94 67.2693 Q1579.78 67.2693 1583.14 64.1501 Q1586.5 60.9904 1586.5 55.5622 Q1586.5 50.0935 1583.14 46.9743 Q1579.82 43.8551 1573.94 43.8551 M1565.76 40.3713 Q1560.49 39.075 1557.54 35.4697 Q1554.62 31.8644 1554.62 26.6793 Q1554.62 19.4281 1559.77 15.2152 Q1564.95 11.0023 1573.94 11.0023 Q1582.98 11.0023 1588.12 15.2152 Q1593.27 19.4281 1593.27 26.6793 Q1593.27 31.8644 1590.31 35.4697 Q1587.39 39.075 1582.17 40.3713 Q1588.08 41.7486 1591.36 45.759 Q1594.68 49.7694 1594.68 55.5622 Q1594.68 64.3527 1589.3 69.0517 Q1583.95 73.7508 1573.94 73.7508 Q1563.94 73.7508 1558.55 69.0517 Q1553.2 64.3527 1553.2 55.5622 Q1553.2 49.7694 1556.52 45.759 Q1559.85 41.7486 1565.76 40.3713 M1562.76 27.4489 Q1562.76 32.148 1565.68 34.7811 Q1568.64 37.4142 1573.94 37.4142 Q1579.21 37.4142 1582.17 34.7811 Q1585.16 32.148 1585.16 27.4489 Q1585.16 22.7499 1582.17 20.1168 Q1579.21 17.4837 1573.94 17.4837 Q1568.64 17.4837 1565.68 20.1168 Q1562.76 22.7499 1562.76 27.4489 Z\" fill=\"#000000\" fill-rule=\"evenodd\" fill-opacity=\"1\" /><path clip-path=\"url(#clip250)\" d=\"M1626.73 43.8551 Q1620.89 43.8551 1617.53 46.9743 Q1614.21 50.0935 1614.21 55.5622 Q1614.21 61.0309 1617.53 64.1501 Q1620.89 67.2693 1626.73 67.2693 Q1632.56 67.2693 1635.92 64.1501 Q1639.28 60.9904 1639.28 55.5622 Q1639.28 50.0935 1635.92 46.9743 Q1632.6 43.8551 1626.73 43.8551 M1618.54 40.3713 Q1613.28 39.075 1610.32 35.4697 Q1607.4 31.8644 1607.4 26.6793 Q1607.4 19.4281 1612.55 15.2152 Q1617.73 11.0023 1626.73 11.0023 Q1635.76 11.0023 1640.9 15.2152 Q1646.05 19.4281 1646.05 26.6793 Q1646.05 31.8644 1643.09 35.4697 Q1640.18 39.075 1634.95 40.3713 Q1640.86 41.7486 1644.15 45.759 Q1647.47 49.7694 1647.47 55.5622 Q1647.47 64.3527 1642.08 69.0517 Q1636.73 73.7508 1626.73 73.7508 Q1616.72 73.7508 1611.33 69.0517 Q1605.99 64.3527 1605.99 55.5622 Q1605.99 49.7694 1609.31 45.759 Q1612.63 41.7486 1618.54 40.3713 M1615.55 27.4489 Q1615.55 32.148 1618.46 34.7811 Q1621.42 37.4142 1626.73 37.4142 Q1631.99 37.4142 1634.95 34.7811 Q1637.95 32.148 1637.95 27.4489 Q1637.95 22.7499 1634.95 20.1168 Q1631.99 17.4837 1626.73 17.4837 Q1621.42 17.4837 1618.46 20.1168 Q1615.55 22.7499 1615.55 27.4489 Z\" fill=\"#000000\" fill-rule=\"evenodd\" fill-opacity=\"1\" /><path clip-path=\"url(#clip250)\" d=\"M1669.06 65.6895 L1697.62 65.6895 L1697.62 72.576 L1659.21 72.576 L1659.21 65.6895 Q1663.87 60.8689 1671.89 52.7671 Q1679.96 44.6248 1682.02 42.2752 Q1685.95 37.8598 1687.49 34.8216 Q1689.07 31.7429 1689.07 28.7857 Q1689.07 23.9651 1685.67 20.927 Q1682.3 17.8888 1676.88 17.8888 Q1673.03 17.8888 1668.73 19.2256 Q1664.48 20.5624 1659.62 23.2765 L1659.62 15.0127 Q1664.56 13.0277 1668.86 12.015 Q1673.15 11.0023 1676.71 11.0023 Q1686.11 11.0023 1691.7 15.7013 Q1697.29 20.4004 1697.29 28.2591 Q1697.29 31.9859 1695.88 35.3482 Q1694.5 38.6699 1690.81 43.2069 Q1689.8 44.3817 1684.37 50.0125 Q1678.94 55.6027 1669.06 65.6895 Z\" fill=\"#000000\" fill-rule=\"evenodd\" fill-opacity=\"1\" /><path clip-path=\"url(#clip250)\" d=\"M1714.87 12.096 L1747 12.096 L1747 18.9825 L1722.37 18.9825 L1722.37 33.8088 Q1724.15 33.2012 1725.93 32.9176 Q1727.72 32.5936 1729.5 32.5936 Q1739.63 32.5936 1745.54 38.1433 Q1751.45 43.6931 1751.45 53.1722 Q1751.45 62.9348 1745.38 68.3631 Q1739.3 73.7508 1728.24 73.7508 Q1724.43 73.7508 1720.46 73.1026 Q1716.54 72.4545 1712.32 71.1582 L1712.32 62.9348 Q1715.97 64.9198 1719.86 65.892 Q1723.75 66.8642 1728.08 66.8642 Q1735.09 66.8642 1739.18 63.1779 Q1743.27 59.4916 1743.27 53.1722 Q1743.27 46.8528 1739.18 43.1664 Q1735.09 39.4801 1728.08 39.4801 Q1724.8 39.4801 1721.52 40.2093 Q1718.28 40.9384 1714.87 42.4778 L1714.87 12.096 Z\" fill=\"#000000\" fill-rule=\"evenodd\" fill-opacity=\"1\" /><path clip-path=\"url(#clip250)\" d=\"M1774.63 65.6895 L1803.18 65.6895 L1803.18 72.576 L1764.78 72.576 L1764.78 65.6895 Q1769.44 60.8689 1777.46 52.7671 Q1785.52 44.6248 1787.59 42.2752 Q1791.52 37.8598 1793.06 34.8216 Q1794.64 31.7429 1794.64 28.7857 Q1794.64 23.9651 1791.23 20.927 Q1787.87 17.8888 1782.44 17.8888 Q1778.59 17.8888 1774.3 19.2256 Q1770.05 20.5624 1765.19 23.2765 L1765.19 15.0127 Q1770.13 13.0277 1774.42 12.015 Q1778.72 11.0023 1782.28 11.0023 Q1791.68 11.0023 1797.27 15.7013 Q1802.86 20.4004 1802.86 28.2591 Q1802.86 31.9859 1801.44 35.3482 Q1800.06 38.6699 1796.38 43.2069 Q1795.37 44.3817 1789.94 50.0125 Q1784.51 55.6027 1774.63 65.6895 Z\" fill=\"#000000\" fill-rule=\"evenodd\" fill-opacity=\"1\" /><path clip-path=\"url(#clip250)\" d=\"M1837.86 43.8551 Q1832.03 43.8551 1828.66 46.9743 Q1825.34 50.0935 1825.34 55.5622 Q1825.34 61.0309 1828.66 64.1501 Q1832.03 67.2693 1837.86 67.2693 Q1843.69 67.2693 1847.06 64.1501 Q1850.42 60.9904 1850.42 55.5622 Q1850.42 50.0935 1847.06 46.9743 Q1843.73 43.8551 1837.86 43.8551 M1829.68 40.3713 Q1824.41 39.075 1821.45 35.4697 Q1818.54 31.8644 1818.54 26.6793 Q1818.54 19.4281 1823.68 15.2152 Q1828.87 11.0023 1837.86 11.0023 Q1846.89 11.0023 1852.04 15.2152 Q1857.18 19.4281 1857.18 26.6793 Q1857.18 31.8644 1854.23 35.4697 Q1851.31 39.075 1846.08 40.3713 Q1852 41.7486 1855.28 45.759 Q1858.6 49.7694 1858.6 55.5622 Q1858.6 64.3527 1853.21 69.0517 Q1847.87 73.7508 1837.86 73.7508 Q1827.85 73.7508 1822.47 69.0517 Q1817.12 64.3527 1817.12 55.5622 Q1817.12 49.7694 1820.44 45.759 Q1823.76 41.7486 1829.68 40.3713 M1826.68 27.4489 Q1826.68 32.148 1829.6 34.7811 Q1832.55 37.4142 1837.86 37.4142 Q1843.13 37.4142 1846.08 34.7811 Q1849.08 32.148 1849.08 27.4489 Q1849.08 22.7499 1846.08 20.1168 Q1843.13 17.4837 1837.86 17.4837 Q1832.55 17.4837 1829.6 20.1168 Q1826.68 22.7499 1826.68 27.4489 Z\" fill=\"#000000\" fill-rule=\"evenodd\" fill-opacity=\"1\" /><path clip-path=\"url(#clip250)\" d=\"M1897.93 39.9662 Q1903.81 41.222 1907.09 45.1919 Q1910.41 49.1618 1910.41 54.9951 Q1910.41 63.9476 1904.25 68.8492 Q1898.1 73.7508 1886.75 73.7508 Q1882.95 73.7508 1878.9 72.9811 Q1874.88 72.2519 1870.59 70.7531 L1870.59 62.8538 Q1873.99 64.8388 1878.04 65.8515 Q1882.1 66.8642 1886.51 66.8642 Q1894.21 66.8642 1898.22 63.826 Q1902.27 60.7879 1902.27 54.9951 Q1902.27 49.6479 1898.5 46.6502 Q1894.77 43.612 1888.09 43.612 L1881.04 43.612 L1881.04 36.8875 L1888.41 36.8875 Q1894.45 36.8875 1897.65 34.4975 Q1900.85 32.067 1900.85 27.5299 Q1900.85 22.8714 1897.53 20.4004 Q1894.25 17.8888 1888.09 17.8888 Q1884.73 17.8888 1880.88 18.618 Q1877.03 19.3471 1872.41 20.8865 L1872.41 13.5948 Q1877.07 12.2985 1881.12 11.6504 Q1885.21 11.0023 1888.82 11.0023 Q1898.14 11.0023 1903.57 15.2557 Q1908.99 19.4686 1908.99 26.6793 Q1908.99 31.7024 1906.12 35.1862 Q1903.24 38.6294 1897.93 39.9662 Z\" fill=\"#000000\" fill-rule=\"evenodd\" fill-opacity=\"1\" /><path clip-path=\"url(#clip250)\" d=\"M1948.41 19.2256 L1927.75 51.5113 L1948.41 51.5113 L1948.41 19.2256 M1946.26 12.096 L1956.55 12.096 L1956.55 51.5113 L1965.18 51.5113 L1965.18 58.3168 L1956.55 58.3168 L1956.55 72.576 L1948.41 72.576 L1948.41 58.3168 L1921.11 58.3168 L1921.11 50.4176 L1946.26 12.096 Z\" fill=\"#000000\" fill-rule=\"evenodd\" fill-opacity=\"1\" /><path clip-path=\"url(#clip250)\" d=\"M1996.21 43.8551 Q1990.38 43.8551 1987.01 46.9743 Q1983.69 50.0935 1983.69 55.5622 Q1983.69 61.0309 1987.01 64.1501 Q1990.38 67.2693 1996.21 67.2693 Q2002.04 67.2693 2005.41 64.1501 Q2008.77 60.9904 2008.77 55.5622 Q2008.77 50.0935 2005.41 46.9743 Q2002.08 43.8551 1996.21 43.8551 M1988.03 40.3713 Q1982.76 39.075 1979.8 35.4697 Q1976.89 31.8644 1976.89 26.6793 Q1976.89 19.4281 1982.03 15.2152 Q1987.22 11.0023 1996.21 11.0023 Q2005.24 11.0023 2010.39 15.2152 Q2015.53 19.4281 2015.53 26.6793 Q2015.53 31.8644 2012.58 35.4697 Q2009.66 39.075 2004.43 40.3713 Q2010.35 41.7486 2013.63 45.759 Q2016.95 49.7694 2016.95 55.5622 Q2016.95 64.3527 2011.56 69.0517 Q2006.22 73.7508 1996.21 73.7508 Q1986.2 73.7508 1980.82 69.0517 Q1975.47 64.3527 1975.47 55.5622 Q1975.47 49.7694 1978.79 45.759 Q1982.11 41.7486 1988.03 40.3713 M1985.03 27.4489 Q1985.03 32.148 1987.95 34.7811 Q1990.9 37.4142 1996.21 37.4142 Q2001.48 37.4142 2004.43 34.7811 Q2007.43 32.148 2007.43 27.4489 Q2007.43 22.7499 2004.43 20.1168 Q2001.48 17.4837 1996.21 17.4837 Q1990.9 17.4837 1987.95 20.1168 Q1985.03 22.7499 1985.03 27.4489 Z\" fill=\"#000000\" fill-rule=\"evenodd\" fill-opacity=\"1\" /><path clip-path=\"url(#clip250)\" d=\"M2050.01 39.075 Q2044.5 39.075 2041.26 42.8424 Q2038.06 46.6097 2038.06 53.1722 Q2038.06 59.6941 2041.26 63.502 Q2044.5 67.2693 2050.01 67.2693 Q2055.51 67.2693 2058.72 63.502 Q2061.96 59.6941 2061.96 53.1722 Q2061.96 46.6097 2058.72 42.8424 Q2055.51 39.075 2050.01 39.075 M2066.25 13.4328 L2066.25 20.8865 Q2063.17 19.4281 2060.01 18.6585 Q2056.89 17.8888 2053.81 17.8888 Q2045.71 17.8888 2041.42 23.3575 Q2037.16 28.8262 2036.56 39.8852 Q2038.95 36.3609 2042.55 34.4975 Q2046.16 32.5936 2050.49 32.5936 Q2059.61 32.5936 2064.87 38.1433 Q2070.18 43.6525 2070.18 53.1722 Q2070.18 62.4892 2064.67 68.12 Q2059.16 73.7508 2050.01 73.7508 Q2039.51 73.7508 2033.96 65.73 Q2028.41 57.6687 2028.41 42.3968 Q2028.41 28.0566 2035.22 19.5497 Q2042.03 11.0023 2053.49 11.0023 Q2056.57 11.0023 2059.69 11.6099 Q2062.85 12.2175 2066.25 13.4328 Z\" fill=\"#000000\" fill-rule=\"evenodd\" fill-opacity=\"1\" /><polyline clip-path=\"url(#clip252)\" style=\"stroke:#009af9; stroke-linecap:butt; stroke-linejoin:round; stroke-width:16; stroke-opacity:1; fill:none\" points=\"\n",
       "  255.035,1441.18 274.644,1447.87 320.273,1444.48 390.594,1446.98 483.78,1444.44 597.415,1445.24 728.557,1439.19 873.808,1421.76 1029.41,1338.59 1191.33,1050.08 \n",
       "  1355.37,559.836 1517.28,271.332 1672.88,188.156 1818.14,170.729 1949.28,164.683 2062.91,165.477 2156.1,162.936 2226.42,165.445 2272.05,162.047 2291.66,168.742 \n",
       "  \n",
       "  \"/>\n",
       "<circle clip-path=\"url(#clip252)\" cx=\"255.035\" cy=\"1441.18\" r=\"14\" fill=\"#009af9\" fill-rule=\"evenodd\" fill-opacity=\"1\" stroke=\"#000000\" stroke-opacity=\"1\" stroke-width=\"3.2\"/>\n",
       "<circle clip-path=\"url(#clip252)\" cx=\"274.644\" cy=\"1447.87\" r=\"14\" fill=\"#009af9\" fill-rule=\"evenodd\" fill-opacity=\"1\" stroke=\"#000000\" stroke-opacity=\"1\" stroke-width=\"3.2\"/>\n",
       "<circle clip-path=\"url(#clip252)\" cx=\"320.273\" cy=\"1444.48\" r=\"14\" fill=\"#009af9\" fill-rule=\"evenodd\" fill-opacity=\"1\" stroke=\"#000000\" stroke-opacity=\"1\" stroke-width=\"3.2\"/>\n",
       "<circle clip-path=\"url(#clip252)\" cx=\"390.594\" cy=\"1446.98\" r=\"14\" fill=\"#009af9\" fill-rule=\"evenodd\" fill-opacity=\"1\" stroke=\"#000000\" stroke-opacity=\"1\" stroke-width=\"3.2\"/>\n",
       "<circle clip-path=\"url(#clip252)\" cx=\"483.78\" cy=\"1444.44\" r=\"14\" fill=\"#009af9\" fill-rule=\"evenodd\" fill-opacity=\"1\" stroke=\"#000000\" stroke-opacity=\"1\" stroke-width=\"3.2\"/>\n",
       "<circle clip-path=\"url(#clip252)\" cx=\"597.415\" cy=\"1445.24\" r=\"14\" fill=\"#009af9\" fill-rule=\"evenodd\" fill-opacity=\"1\" stroke=\"#000000\" stroke-opacity=\"1\" stroke-width=\"3.2\"/>\n",
       "<circle clip-path=\"url(#clip252)\" cx=\"728.557\" cy=\"1439.19\" r=\"14\" fill=\"#009af9\" fill-rule=\"evenodd\" fill-opacity=\"1\" stroke=\"#000000\" stroke-opacity=\"1\" stroke-width=\"3.2\"/>\n",
       "<circle clip-path=\"url(#clip252)\" cx=\"873.808\" cy=\"1421.76\" r=\"14\" fill=\"#009af9\" fill-rule=\"evenodd\" fill-opacity=\"1\" stroke=\"#000000\" stroke-opacity=\"1\" stroke-width=\"3.2\"/>\n",
       "<circle clip-path=\"url(#clip252)\" cx=\"1029.41\" cy=\"1338.59\" r=\"14\" fill=\"#009af9\" fill-rule=\"evenodd\" fill-opacity=\"1\" stroke=\"#000000\" stroke-opacity=\"1\" stroke-width=\"3.2\"/>\n",
       "<circle clip-path=\"url(#clip252)\" cx=\"1191.33\" cy=\"1050.08\" r=\"14\" fill=\"#009af9\" fill-rule=\"evenodd\" fill-opacity=\"1\" stroke=\"#000000\" stroke-opacity=\"1\" stroke-width=\"3.2\"/>\n",
       "<circle clip-path=\"url(#clip252)\" cx=\"1355.37\" cy=\"559.836\" r=\"14\" fill=\"#009af9\" fill-rule=\"evenodd\" fill-opacity=\"1\" stroke=\"#000000\" stroke-opacity=\"1\" stroke-width=\"3.2\"/>\n",
       "<circle clip-path=\"url(#clip252)\" cx=\"1517.28\" cy=\"271.332\" r=\"14\" fill=\"#009af9\" fill-rule=\"evenodd\" fill-opacity=\"1\" stroke=\"#000000\" stroke-opacity=\"1\" stroke-width=\"3.2\"/>\n",
       "<circle clip-path=\"url(#clip252)\" cx=\"1672.88\" cy=\"188.156\" r=\"14\" fill=\"#009af9\" fill-rule=\"evenodd\" fill-opacity=\"1\" stroke=\"#000000\" stroke-opacity=\"1\" stroke-width=\"3.2\"/>\n",
       "<circle clip-path=\"url(#clip252)\" cx=\"1818.14\" cy=\"170.729\" r=\"14\" fill=\"#009af9\" fill-rule=\"evenodd\" fill-opacity=\"1\" stroke=\"#000000\" stroke-opacity=\"1\" stroke-width=\"3.2\"/>\n",
       "<circle clip-path=\"url(#clip252)\" cx=\"1949.28\" cy=\"164.683\" r=\"14\" fill=\"#009af9\" fill-rule=\"evenodd\" fill-opacity=\"1\" stroke=\"#000000\" stroke-opacity=\"1\" stroke-width=\"3.2\"/>\n",
       "<circle clip-path=\"url(#clip252)\" cx=\"2062.91\" cy=\"165.477\" r=\"14\" fill=\"#009af9\" fill-rule=\"evenodd\" fill-opacity=\"1\" stroke=\"#000000\" stroke-opacity=\"1\" stroke-width=\"3.2\"/>\n",
       "<circle clip-path=\"url(#clip252)\" cx=\"2156.1\" cy=\"162.936\" r=\"14\" fill=\"#009af9\" fill-rule=\"evenodd\" fill-opacity=\"1\" stroke=\"#000000\" stroke-opacity=\"1\" stroke-width=\"3.2\"/>\n",
       "<circle clip-path=\"url(#clip252)\" cx=\"2226.42\" cy=\"165.445\" r=\"14\" fill=\"#009af9\" fill-rule=\"evenodd\" fill-opacity=\"1\" stroke=\"#000000\" stroke-opacity=\"1\" stroke-width=\"3.2\"/>\n",
       "<circle clip-path=\"url(#clip252)\" cx=\"2272.05\" cy=\"162.047\" r=\"14\" fill=\"#009af9\" fill-rule=\"evenodd\" fill-opacity=\"1\" stroke=\"#000000\" stroke-opacity=\"1\" stroke-width=\"3.2\"/>\n",
       "<circle clip-path=\"url(#clip252)\" cx=\"2291.66\" cy=\"168.742\" r=\"14\" fill=\"#009af9\" fill-rule=\"evenodd\" fill-opacity=\"1\" stroke=\"#000000\" stroke-opacity=\"1\" stroke-width=\"3.2\"/>\n",
       "<polyline clip-path=\"url(#clip252)\" style=\"stroke:#e26f46; stroke-linecap:butt; stroke-linejoin:round; stroke-width:16; stroke-opacity:1; fill:none\" points=\"\n",
       "  255.035,1445.96 274.924,1445.95 458.829,1445.59 569.348,1444.74 662.791,1442.83 764.296,1437.43 857.875,1424.7 908.038,1411.5 958.201,1390.47 987.26,1373.17 \n",
       "  1016.32,1350.9 1045.38,1322.51 1074.44,1286.79 1100.26,1247.93 1126.09,1201.64 1151.91,1147.53 1177.74,1085.59 1223.03,960.196 1268.32,820.776 1317.7,667.514 \n",
       "  1367.08,529.123 1391.92,468.879 1416.75,415.842 1441.59,370.082 1466.43,331.283 1493.89,295.79 1521.35,267.126 1548.81,244.257 1576.27,226.186 1628.52,201.927 \n",
       "  1680.78,186.938 1789.45,171.921 1880.92,167.18 1992.6,164.998 2097.58,164.293 2265.77,163.977 2291.66,163.96 \n",
       "  \"/>\n",
       "<path clip-path=\"url(#clip250)\" d=\"\n",
       "M1988.5 1441.02 L2280.8 1441.02 L2280.8 1285.5 L1988.5 1285.5  Z\n",
       "  \" fill=\"#ffffff\" fill-rule=\"evenodd\" fill-opacity=\"1\"/>\n",
       "<polyline clip-path=\"url(#clip250)\" style=\"stroke:#000000; stroke-linecap:butt; stroke-linejoin:round; stroke-width:4; stroke-opacity:1; fill:none\" points=\"\n",
       "  1988.5,1441.02 2280.8,1441.02 2280.8,1285.5 1988.5,1285.5 1988.5,1441.02 \n",
       "  \"/>\n",
       "<polyline clip-path=\"url(#clip250)\" style=\"stroke:#009af9; stroke-linecap:butt; stroke-linejoin:round; stroke-width:4; stroke-opacity:1; fill:none\" points=\"\n",
       "  2012.48,1337.34 2156.4,1337.34 \n",
       "  \"/>\n",
       "<circle clip-path=\"url(#clip250)\" cx=\"2084.44\" cy=\"1337.34\" r=\"23\" fill=\"#009af9\" fill-rule=\"evenodd\" fill-opacity=\"1\" stroke=\"#000000\" stroke-opacity=\"1\" stroke-width=\"5.12\"/>\n",
       "<path clip-path=\"url(#clip250)\" d=\"M2194.23 1357.02 Q2192.43 1361.65 2190.72 1363.06 Q2189 1364.48 2186.13 1364.48 L2182.73 1364.48 L2182.73 1360.91 L2185.23 1360.91 Q2186.99 1360.91 2187.96 1360.08 Q2188.93 1359.24 2190.11 1356.14 L2190.88 1354.2 L2180.39 1328.69 L2184.91 1328.69 L2193.01 1348.97 L2201.11 1328.69 L2205.62 1328.69 L2194.23 1357.02 Z\" fill=\"#000000\" fill-rule=\"evenodd\" fill-opacity=\"1\" /><path clip-path=\"url(#clip250)\" d=\"M2212.91 1350.68 L2220.55 1350.68 L2220.55 1324.31 L2212.24 1325.98 L2212.24 1321.72 L2220.51 1320.06 L2225.18 1320.06 L2225.18 1350.68 L2232.82 1350.68 L2232.82 1354.62 L2212.91 1354.62 L2212.91 1350.68 Z\" fill=\"#000000\" fill-rule=\"evenodd\" fill-opacity=\"1\" /><polyline clip-path=\"url(#clip250)\" style=\"stroke:#e26f46; stroke-linecap:butt; stroke-linejoin:round; stroke-width:4; stroke-opacity:1; fill:none\" points=\"\n",
       "  2012.48,1389.18 2156.4,1389.18 \n",
       "  \"/>\n",
       "<path clip-path=\"url(#clip250)\" d=\"M2194.23 1408.86 Q2192.43 1413.49 2190.72 1414.9 Q2189 1416.32 2186.13 1416.32 L2182.73 1416.32 L2182.73 1412.75 L2185.23 1412.75 Q2186.99 1412.75 2187.96 1411.92 Q2188.93 1411.08 2190.11 1407.98 L2190.88 1406.04 L2180.39 1380.53 L2184.91 1380.53 L2193.01 1400.81 L2201.11 1380.53 L2205.62 1380.53 L2194.23 1408.86 Z\" fill=\"#000000\" fill-rule=\"evenodd\" fill-opacity=\"1\" /><path clip-path=\"url(#clip250)\" d=\"M2216.13 1402.52 L2232.45 1402.52 L2232.45 1406.46 L2210.51 1406.46 L2210.51 1402.52 Q2213.17 1399.77 2217.75 1395.14 Q2222.36 1390.48 2223.54 1389.14 Q2225.78 1386.62 2226.66 1384.88 Q2227.57 1383.12 2227.57 1381.43 Q2227.57 1378.68 2225.62 1376.94 Q2223.7 1375.21 2220.6 1375.21 Q2218.4 1375.21 2215.95 1375.97 Q2213.52 1376.73 2210.74 1378.28 L2210.74 1373.56 Q2213.56 1372.43 2216.02 1371.85 Q2218.47 1371.27 2220.51 1371.27 Q2225.88 1371.27 2229.07 1373.96 Q2232.27 1376.64 2232.27 1381.13 Q2232.27 1383.26 2231.46 1385.18 Q2230.67 1387.08 2228.56 1389.67 Q2227.98 1390.34 2224.88 1393.56 Q2221.78 1396.76 2216.13 1402.52 Z\" fill=\"#000000\" fill-rule=\"evenodd\" fill-opacity=\"1\" /></svg>\n"
      ]
     },
     "execution_count": 64,
     "metadata": {},
     "output_type": "execute_result"
    }
   ],
   "source": [
    "f(x) = tanh(5*x)\n",
    "x, u = L2_galerkin(20, 20, f)\n",
    "error = u - f.(x)\n",
    "plot(x, u, marker=:auto, legend=:bottomright)\n",
    "plot!(f, title=\"Galerkin error: $(norm(error))\")"
   ]
  },
  {
   "cell_type": "markdown",
   "id": "0a19f001",
   "metadata": {
    "slideshow": {
     "slide_type": "slide"
    }
   },
   "source": [
    "# Convergence of the Galerkin method"
   ]
  },
  {
   "cell_type": "code",
   "execution_count": 67,
   "id": "78f13bca",
   "metadata": {
    "hideOutput": true
   },
   "outputs": [
    {
     "data": {
      "image/svg+xml": [
       "<?xml version=\"1.0\" encoding=\"utf-8\"?>\n",
       "<svg xmlns=\"http://www.w3.org/2000/svg\" xmlns:xlink=\"http://www.w3.org/1999/xlink\" width=\"600\" height=\"400\" viewBox=\"0 0 2400 1600\">\n",
       "<defs>\n",
       "  <clipPath id=\"clip370\">\n",
       "    <rect x=\"0\" y=\"0\" width=\"2400\" height=\"1600\"/>\n",
       "  </clipPath>\n",
       "</defs>\n",
       "<path clip-path=\"url(#clip370)\" d=\"\n",
       "M0 1600 L2400 1600 L2400 0 L0 0  Z\n",
       "  \" fill=\"#ffffff\" fill-rule=\"evenodd\" fill-opacity=\"1\"/>\n",
       "<defs>\n",
       "  <clipPath id=\"clip371\">\n",
       "    <rect x=\"480\" y=\"0\" width=\"1681\" height=\"1600\"/>\n",
       "  </clipPath>\n",
       "</defs>\n",
       "<path clip-path=\"url(#clip370)\" d=\"\n",
       "M213.607 1486.45 L2352.76 1486.45 L2352.76 47.2441 L213.607 47.2441  Z\n",
       "  \" fill=\"#ffffff\" fill-rule=\"evenodd\" fill-opacity=\"1\"/>\n",
       "<defs>\n",
       "  <clipPath id=\"clip372\">\n",
       "    <rect x=\"213\" y=\"47\" width=\"2140\" height=\"1440\"/>\n",
       "  </clipPath>\n",
       "</defs>\n",
       "<polyline clip-path=\"url(#clip372)\" style=\"stroke:#000000; stroke-linecap:butt; stroke-linejoin:round; stroke-width:2; stroke-opacity:0.1; fill:none\" points=\"\n",
       "  242.117,1486.45 242.117,47.2441 \n",
       "  \"/>\n",
       "<polyline clip-path=\"url(#clip372)\" style=\"stroke:#000000; stroke-linecap:butt; stroke-linejoin:round; stroke-width:2; stroke-opacity:0.1; fill:none\" points=\"\n",
       "  642.526,1486.45 642.526,47.2441 \n",
       "  \"/>\n",
       "<polyline clip-path=\"url(#clip372)\" style=\"stroke:#000000; stroke-linecap:butt; stroke-linejoin:round; stroke-width:2; stroke-opacity:0.1; fill:none\" points=\"\n",
       "  1042.94,1486.45 1042.94,47.2441 \n",
       "  \"/>\n",
       "<polyline clip-path=\"url(#clip372)\" style=\"stroke:#000000; stroke-linecap:butt; stroke-linejoin:round; stroke-width:2; stroke-opacity:0.1; fill:none\" points=\"\n",
       "  1443.35,1486.45 1443.35,47.2441 \n",
       "  \"/>\n",
       "<polyline clip-path=\"url(#clip372)\" style=\"stroke:#000000; stroke-linecap:butt; stroke-linejoin:round; stroke-width:2; stroke-opacity:0.1; fill:none\" points=\"\n",
       "  1843.76,1486.45 1843.76,47.2441 \n",
       "  \"/>\n",
       "<polyline clip-path=\"url(#clip372)\" style=\"stroke:#000000; stroke-linecap:butt; stroke-linejoin:round; stroke-width:2; stroke-opacity:0.1; fill:none\" points=\"\n",
       "  2244.16,1486.45 2244.16,47.2441 \n",
       "  \"/>\n",
       "<polyline clip-path=\"url(#clip370)\" style=\"stroke:#000000; stroke-linecap:butt; stroke-linejoin:round; stroke-width:4; stroke-opacity:1; fill:none\" points=\"\n",
       "  213.607,1486.45 2352.76,1486.45 \n",
       "  \"/>\n",
       "<polyline clip-path=\"url(#clip370)\" style=\"stroke:#000000; stroke-linecap:butt; stroke-linejoin:round; stroke-width:4; stroke-opacity:1; fill:none\" points=\"\n",
       "  242.117,1486.45 242.117,1467.55 \n",
       "  \"/>\n",
       "<polyline clip-path=\"url(#clip370)\" style=\"stroke:#000000; stroke-linecap:butt; stroke-linejoin:round; stroke-width:4; stroke-opacity:1; fill:none\" points=\"\n",
       "  642.526,1486.45 642.526,1467.55 \n",
       "  \"/>\n",
       "<polyline clip-path=\"url(#clip370)\" style=\"stroke:#000000; stroke-linecap:butt; stroke-linejoin:round; stroke-width:4; stroke-opacity:1; fill:none\" points=\"\n",
       "  1042.94,1486.45 1042.94,1467.55 \n",
       "  \"/>\n",
       "<polyline clip-path=\"url(#clip370)\" style=\"stroke:#000000; stroke-linecap:butt; stroke-linejoin:round; stroke-width:4; stroke-opacity:1; fill:none\" points=\"\n",
       "  1443.35,1486.45 1443.35,1467.55 \n",
       "  \"/>\n",
       "<polyline clip-path=\"url(#clip370)\" style=\"stroke:#000000; stroke-linecap:butt; stroke-linejoin:round; stroke-width:4; stroke-opacity:1; fill:none\" points=\"\n",
       "  1843.76,1486.45 1843.76,1467.55 \n",
       "  \"/>\n",
       "<polyline clip-path=\"url(#clip370)\" style=\"stroke:#000000; stroke-linecap:butt; stroke-linejoin:round; stroke-width:4; stroke-opacity:1; fill:none\" points=\"\n",
       "  2244.16,1486.45 2244.16,1467.55 \n",
       "  \"/>\n",
       "<path clip-path=\"url(#clip370)\" d=\"M242.117 1515.64 Q238.506 1515.64 236.677 1519.2 Q234.871 1522.75 234.871 1529.87 Q234.871 1536.98 236.677 1540.55 Q238.506 1544.09 242.117 1544.09 Q245.751 1544.09 247.556 1540.55 Q249.385 1536.98 249.385 1529.87 Q249.385 1522.75 247.556 1519.2 Q245.751 1515.64 242.117 1515.64 M242.117 1511.93 Q247.927 1511.93 250.982 1516.54 Q254.061 1521.12 254.061 1529.87 Q254.061 1538.6 250.982 1543.21 Q247.927 1547.79 242.117 1547.79 Q236.306 1547.79 233.228 1543.21 Q230.172 1538.6 230.172 1529.87 Q230.172 1521.12 233.228 1516.54 Q236.306 1511.93 242.117 1511.93 Z\" fill=\"#000000\" fill-rule=\"evenodd\" fill-opacity=\"1\" /><path clip-path=\"url(#clip370)\" d=\"M617.225 1512.56 L635.582 1512.56 L635.582 1516.5 L621.508 1516.5 L621.508 1524.97 Q622.526 1524.62 623.545 1524.46 Q624.563 1524.27 625.582 1524.27 Q631.369 1524.27 634.749 1527.44 Q638.128 1530.62 638.128 1536.03 Q638.128 1541.61 634.656 1544.71 Q631.184 1547.79 624.864 1547.79 Q622.688 1547.79 620.42 1547.42 Q618.175 1547.05 615.767 1546.31 L615.767 1541.61 Q617.85 1542.74 620.073 1543.3 Q622.295 1543.86 624.772 1543.86 Q628.776 1543.86 631.114 1541.75 Q633.452 1539.64 633.452 1536.03 Q633.452 1532.42 631.114 1530.31 Q628.776 1528.21 624.772 1528.21 Q622.897 1528.21 621.022 1528.62 Q619.17 1529.04 617.225 1529.92 L617.225 1512.56 Z\" fill=\"#000000\" fill-rule=\"evenodd\" fill-opacity=\"1\" /><path clip-path=\"url(#clip370)\" d=\"M657.341 1515.64 Q653.73 1515.64 651.901 1519.2 Q650.096 1522.75 650.096 1529.87 Q650.096 1536.98 651.901 1540.55 Q653.73 1544.09 657.341 1544.09 Q660.975 1544.09 662.781 1540.55 Q664.609 1536.98 664.609 1529.87 Q664.609 1522.75 662.781 1519.2 Q660.975 1515.64 657.341 1515.64 M657.341 1511.93 Q663.151 1511.93 666.207 1516.54 Q669.285 1521.12 669.285 1529.87 Q669.285 1538.6 666.207 1543.21 Q663.151 1547.79 657.341 1547.79 Q651.531 1547.79 648.452 1543.21 Q645.397 1538.6 645.397 1529.87 Q645.397 1521.12 648.452 1516.54 Q651.531 1511.93 657.341 1511.93 Z\" fill=\"#000000\" fill-rule=\"evenodd\" fill-opacity=\"1\" /><path clip-path=\"url(#clip370)\" d=\"M1002.54 1543.18 L1010.18 1543.18 L1010.18 1516.82 L1001.87 1518.49 L1001.87 1514.23 L1010.14 1512.56 L1014.81 1512.56 L1014.81 1543.18 L1022.45 1543.18 L1022.45 1547.12 L1002.54 1547.12 L1002.54 1543.18 Z\" fill=\"#000000\" fill-rule=\"evenodd\" fill-opacity=\"1\" /><path clip-path=\"url(#clip370)\" d=\"M1041.89 1515.64 Q1038.28 1515.64 1036.45 1519.2 Q1034.65 1522.75 1034.65 1529.87 Q1034.65 1536.98 1036.45 1540.55 Q1038.28 1544.09 1041.89 1544.09 Q1045.53 1544.09 1047.33 1540.55 Q1049.16 1536.98 1049.16 1529.87 Q1049.16 1522.75 1047.33 1519.2 Q1045.53 1515.64 1041.89 1515.64 M1041.89 1511.93 Q1047.7 1511.93 1050.76 1516.54 Q1053.84 1521.12 1053.84 1529.87 Q1053.84 1538.6 1050.76 1543.21 Q1047.7 1547.79 1041.89 1547.79 Q1036.08 1547.79 1033.01 1543.21 Q1029.95 1538.6 1029.95 1529.87 Q1029.95 1521.12 1033.01 1516.54 Q1036.08 1511.93 1041.89 1511.93 Z\" fill=\"#000000\" fill-rule=\"evenodd\" fill-opacity=\"1\" /><path clip-path=\"url(#clip370)\" d=\"M1072.06 1515.64 Q1068.45 1515.64 1066.62 1519.2 Q1064.81 1522.75 1064.81 1529.87 Q1064.81 1536.98 1066.62 1540.55 Q1068.45 1544.09 1072.06 1544.09 Q1075.69 1544.09 1077.5 1540.55 Q1079.32 1536.98 1079.32 1529.87 Q1079.32 1522.75 1077.5 1519.2 Q1075.69 1515.64 1072.06 1515.64 M1072.06 1511.93 Q1077.87 1511.93 1080.92 1516.54 Q1084 1521.12 1084 1529.87 Q1084 1538.6 1080.92 1543.21 Q1077.87 1547.79 1072.06 1547.79 Q1066.25 1547.79 1063.17 1543.21 Q1060.11 1538.6 1060.11 1529.87 Q1060.11 1521.12 1063.17 1516.54 Q1066.25 1511.93 1072.06 1511.93 Z\" fill=\"#000000\" fill-rule=\"evenodd\" fill-opacity=\"1\" /><path clip-path=\"url(#clip370)\" d=\"M1402.95 1543.18 L1410.59 1543.18 L1410.59 1516.82 L1402.28 1518.49 L1402.28 1514.23 L1410.54 1512.56 L1415.22 1512.56 L1415.22 1543.18 L1422.86 1543.18 L1422.86 1547.12 L1402.95 1547.12 L1402.95 1543.18 Z\" fill=\"#000000\" fill-rule=\"evenodd\" fill-opacity=\"1\" /><path clip-path=\"url(#clip370)\" d=\"M1432.35 1512.56 L1450.71 1512.56 L1450.71 1516.5 L1436.63 1516.5 L1436.63 1524.97 Q1437.65 1524.62 1438.67 1524.46 Q1439.69 1524.27 1440.71 1524.27 Q1446.49 1524.27 1449.87 1527.44 Q1453.25 1530.62 1453.25 1536.03 Q1453.25 1541.61 1449.78 1544.71 Q1446.31 1547.79 1439.99 1547.79 Q1437.81 1547.79 1435.54 1547.42 Q1433.3 1547.05 1430.89 1546.31 L1430.89 1541.61 Q1432.98 1542.74 1435.2 1543.3 Q1437.42 1543.86 1439.9 1543.86 Q1443.9 1543.86 1446.24 1541.75 Q1448.58 1539.64 1448.58 1536.03 Q1448.58 1532.42 1446.24 1530.31 Q1443.9 1528.21 1439.9 1528.21 Q1438.02 1528.21 1436.15 1528.62 Q1434.29 1529.04 1432.35 1529.92 L1432.35 1512.56 Z\" fill=\"#000000\" fill-rule=\"evenodd\" fill-opacity=\"1\" /><path clip-path=\"url(#clip370)\" d=\"M1472.47 1515.64 Q1468.85 1515.64 1467.03 1519.2 Q1465.22 1522.75 1465.22 1529.87 Q1465.22 1536.98 1467.03 1540.55 Q1468.85 1544.09 1472.47 1544.09 Q1476.1 1544.09 1477.91 1540.55 Q1479.73 1536.98 1479.73 1529.87 Q1479.73 1522.75 1477.91 1519.2 Q1476.1 1515.64 1472.47 1515.64 M1472.47 1511.93 Q1478.28 1511.93 1481.33 1516.54 Q1484.41 1521.12 1484.41 1529.87 Q1484.41 1538.6 1481.33 1543.21 Q1478.28 1547.79 1472.47 1547.79 Q1466.66 1547.79 1463.58 1543.21 Q1460.52 1538.6 1460.52 1529.87 Q1460.52 1521.12 1463.58 1516.54 Q1466.66 1511.93 1472.47 1511.93 Z\" fill=\"#000000\" fill-rule=\"evenodd\" fill-opacity=\"1\" /><path clip-path=\"url(#clip370)\" d=\"M1807.45 1543.18 L1823.77 1543.18 L1823.77 1547.12 L1801.82 1547.12 L1801.82 1543.18 Q1804.48 1540.43 1809.07 1535.8 Q1813.67 1531.15 1814.85 1529.81 Q1817.1 1527.28 1817.98 1525.55 Q1818.88 1523.79 1818.88 1522.1 Q1818.88 1519.34 1816.94 1517.61 Q1815.02 1515.87 1811.92 1515.87 Q1809.72 1515.87 1807.26 1516.63 Q1804.83 1517.4 1802.05 1518.95 L1802.05 1514.23 Q1804.88 1513.09 1807.33 1512.51 Q1809.79 1511.93 1811.82 1511.93 Q1817.19 1511.93 1820.39 1514.62 Q1823.58 1517.31 1823.58 1521.8 Q1823.58 1523.93 1822.77 1525.85 Q1821.98 1527.74 1819.88 1530.34 Q1819.3 1531.01 1816.2 1534.23 Q1813.1 1537.42 1807.45 1543.18 Z\" fill=\"#000000\" fill-rule=\"evenodd\" fill-opacity=\"1\" /><path clip-path=\"url(#clip370)\" d=\"M1843.58 1515.64 Q1839.97 1515.64 1838.14 1519.2 Q1836.34 1522.75 1836.34 1529.87 Q1836.34 1536.98 1838.14 1540.55 Q1839.97 1544.09 1843.58 1544.09 Q1847.22 1544.09 1849.02 1540.55 Q1850.85 1536.98 1850.85 1529.87 Q1850.85 1522.75 1849.02 1519.2 Q1847.22 1515.64 1843.58 1515.64 M1843.58 1511.93 Q1849.39 1511.93 1852.45 1516.54 Q1855.53 1521.12 1855.53 1529.87 Q1855.53 1538.6 1852.45 1543.21 Q1849.39 1547.79 1843.58 1547.79 Q1837.77 1547.79 1834.69 1543.21 Q1831.64 1538.6 1831.64 1529.87 Q1831.64 1521.12 1834.69 1516.54 Q1837.77 1511.93 1843.58 1511.93 Z\" fill=\"#000000\" fill-rule=\"evenodd\" fill-opacity=\"1\" /><path clip-path=\"url(#clip370)\" d=\"M1873.74 1515.64 Q1870.13 1515.64 1868.3 1519.2 Q1866.5 1522.75 1866.5 1529.87 Q1866.5 1536.98 1868.3 1540.55 Q1870.13 1544.09 1873.74 1544.09 Q1877.38 1544.09 1879.18 1540.55 Q1881.01 1536.98 1881.01 1529.87 Q1881.01 1522.75 1879.18 1519.2 Q1877.38 1515.64 1873.74 1515.64 M1873.74 1511.93 Q1879.55 1511.93 1882.61 1516.54 Q1885.69 1521.12 1885.69 1529.87 Q1885.69 1538.6 1882.61 1543.21 Q1879.55 1547.79 1873.74 1547.79 Q1867.93 1547.79 1864.85 1543.21 Q1861.8 1538.6 1861.8 1529.87 Q1861.8 1521.12 1864.85 1516.54 Q1867.93 1511.93 1873.74 1511.93 Z\" fill=\"#000000\" fill-rule=\"evenodd\" fill-opacity=\"1\" /><path clip-path=\"url(#clip370)\" d=\"M2207.86 1543.18 L2224.18 1543.18 L2224.18 1547.12 L2202.23 1547.12 L2202.23 1543.18 Q2204.89 1540.43 2209.48 1535.8 Q2214.08 1531.15 2215.26 1529.81 Q2217.51 1527.28 2218.39 1525.55 Q2219.29 1523.79 2219.29 1522.1 Q2219.29 1519.34 2217.35 1517.61 Q2215.43 1515.87 2212.32 1515.87 Q2210.13 1515.87 2207.67 1516.63 Q2205.24 1517.4 2202.46 1518.95 L2202.46 1514.23 Q2205.29 1513.09 2207.74 1512.51 Q2210.2 1511.93 2212.23 1511.93 Q2217.6 1511.93 2220.8 1514.62 Q2223.99 1517.31 2223.99 1521.8 Q2223.99 1523.93 2223.18 1525.85 Q2222.39 1527.74 2220.29 1530.34 Q2219.71 1531.01 2216.61 1534.23 Q2213.51 1537.42 2207.86 1543.18 Z\" fill=\"#000000\" fill-rule=\"evenodd\" fill-opacity=\"1\" /><path clip-path=\"url(#clip370)\" d=\"M2234.04 1512.56 L2252.39 1512.56 L2252.39 1516.5 L2238.32 1516.5 L2238.32 1524.97 Q2239.34 1524.62 2240.36 1524.46 Q2241.38 1524.27 2242.39 1524.27 Q2248.18 1524.27 2251.56 1527.44 Q2254.94 1530.62 2254.94 1536.03 Q2254.94 1541.61 2251.47 1544.71 Q2248 1547.79 2241.68 1547.79 Q2239.5 1547.79 2237.23 1547.42 Q2234.99 1547.05 2232.58 1546.31 L2232.58 1541.61 Q2234.66 1542.74 2236.88 1543.3 Q2239.11 1543.86 2241.58 1543.86 Q2245.59 1543.86 2247.93 1541.75 Q2250.26 1539.64 2250.26 1536.03 Q2250.26 1532.42 2247.93 1530.31 Q2245.59 1528.21 2241.58 1528.21 Q2239.71 1528.21 2237.83 1528.62 Q2235.98 1529.04 2234.04 1529.92 L2234.04 1512.56 Z\" fill=\"#000000\" fill-rule=\"evenodd\" fill-opacity=\"1\" /><path clip-path=\"url(#clip370)\" d=\"M2274.15 1515.64 Q2270.54 1515.64 2268.71 1519.2 Q2266.91 1522.75 2266.91 1529.87 Q2266.91 1536.98 2268.71 1540.55 Q2270.54 1544.09 2274.15 1544.09 Q2277.79 1544.09 2279.59 1540.55 Q2281.42 1536.98 2281.42 1529.87 Q2281.42 1522.75 2279.59 1519.2 Q2277.79 1515.64 2274.15 1515.64 M2274.15 1511.93 Q2279.96 1511.93 2283.02 1516.54 Q2286.1 1521.12 2286.1 1529.87 Q2286.1 1538.6 2283.02 1543.21 Q2279.96 1547.79 2274.15 1547.79 Q2268.34 1547.79 2265.26 1543.21 Q2262.21 1538.6 2262.21 1529.87 Q2262.21 1521.12 2265.26 1516.54 Q2268.34 1511.93 2274.15 1511.93 Z\" fill=\"#000000\" fill-rule=\"evenodd\" fill-opacity=\"1\" /><polyline clip-path=\"url(#clip372)\" style=\"stroke:#000000; stroke-linecap:butt; stroke-linejoin:round; stroke-width:2; stroke-opacity:0.1; fill:none\" points=\"\n",
       "  213.607,1068.26 2352.76,1068.26 \n",
       "  \"/>\n",
       "<polyline clip-path=\"url(#clip372)\" style=\"stroke:#000000; stroke-linecap:butt; stroke-linejoin:round; stroke-width:2; stroke-opacity:0.1; fill:none\" points=\"\n",
       "  213.607,571.491 2352.76,571.491 \n",
       "  \"/>\n",
       "<polyline clip-path=\"url(#clip372)\" style=\"stroke:#000000; stroke-linecap:butt; stroke-linejoin:round; stroke-width:2; stroke-opacity:0.1; fill:none\" points=\"\n",
       "  213.607,74.7174 2352.76,74.7174 \n",
       "  \"/>\n",
       "<polyline clip-path=\"url(#clip370)\" style=\"stroke:#000000; stroke-linecap:butt; stroke-linejoin:round; stroke-width:4; stroke-opacity:1; fill:none\" points=\"\n",
       "  213.607,1486.45 213.607,47.2441 \n",
       "  \"/>\n",
       "<polyline clip-path=\"url(#clip370)\" style=\"stroke:#000000; stroke-linecap:butt; stroke-linejoin:round; stroke-width:4; stroke-opacity:1; fill:none\" points=\"\n",
       "  213.607,1068.26 232.505,1068.26 \n",
       "  \"/>\n",
       "<polyline clip-path=\"url(#clip370)\" style=\"stroke:#000000; stroke-linecap:butt; stroke-linejoin:round; stroke-width:4; stroke-opacity:1; fill:none\" points=\"\n",
       "  213.607,571.491 232.505,571.491 \n",
       "  \"/>\n",
       "<polyline clip-path=\"url(#clip370)\" style=\"stroke:#000000; stroke-linecap:butt; stroke-linejoin:round; stroke-width:4; stroke-opacity:1; fill:none\" points=\"\n",
       "  213.607,74.7174 232.505,74.7174 \n",
       "  \"/>\n",
       "<path clip-path=\"url(#clip370)\" d=\"M51.6634 1088.06 L59.3023 1088.06 L59.3023 1061.69 L50.9921 1063.36 L50.9921 1059.1 L59.256 1057.43 L63.9319 1057.43 L63.9319 1088.06 L71.5707 1088.06 L71.5707 1091.99 L51.6634 1091.99 L51.6634 1088.06 Z\" fill=\"#000000\" fill-rule=\"evenodd\" fill-opacity=\"1\" /><path clip-path=\"url(#clip370)\" d=\"M91.0151 1060.51 Q87.404 1060.51 85.5753 1064.08 Q83.7697 1067.62 83.7697 1074.75 Q83.7697 1081.85 85.5753 1085.42 Q87.404 1088.96 91.0151 1088.96 Q94.6493 1088.96 96.4548 1085.42 Q98.2835 1081.85 98.2835 1074.75 Q98.2835 1067.62 96.4548 1064.08 Q94.6493 1060.51 91.0151 1060.51 M91.0151 1056.81 Q96.8252 1056.81 99.8808 1061.41 Q102.959 1066 102.959 1074.75 Q102.959 1083.47 99.8808 1088.08 Q96.8252 1092.66 91.0151 1092.66 Q85.2049 1092.66 82.1262 1088.08 Q79.0707 1083.47 79.0707 1074.75 Q79.0707 1066 82.1262 1061.41 Q85.2049 1056.81 91.0151 1056.81 Z\" fill=\"#000000\" fill-rule=\"evenodd\" fill-opacity=\"1\" /><path clip-path=\"url(#clip370)\" d=\"M102.959 1050.91 L127.071 1050.91 L127.071 1054.11 L102.959 1054.11 L102.959 1050.91 Z\" fill=\"#000000\" fill-rule=\"evenodd\" fill-opacity=\"1\" /><path clip-path=\"url(#clip370)\" d=\"M135.929 1061.38 L142.136 1061.38 L142.136 1039.96 L135.384 1041.32 L135.384 1037.86 L142.098 1036.5 L145.898 1036.5 L145.898 1061.38 L152.104 1061.38 L152.104 1064.58 L135.929 1064.58 L135.929 1061.38 Z\" fill=\"#000000\" fill-rule=\"evenodd\" fill-opacity=\"1\" /><path clip-path=\"url(#clip370)\" d=\"M167.903 1039 Q164.969 1039 163.483 1041.9 Q162.016 1044.78 162.016 1050.57 Q162.016 1056.34 163.483 1059.24 Q164.969 1062.12 167.903 1062.12 Q170.855 1062.12 172.322 1059.24 Q173.808 1056.34 173.808 1050.57 Q173.808 1044.78 172.322 1041.9 Q170.855 1039 167.903 1039 M167.903 1035.99 Q172.623 1035.99 175.106 1039.74 Q177.607 1043.46 177.607 1050.57 Q177.607 1057.66 175.106 1061.4 Q172.623 1065.13 167.903 1065.13 Q163.182 1065.13 160.68 1061.4 Q158.198 1057.66 158.198 1050.57 Q158.198 1043.46 160.68 1039.74 Q163.182 1035.99 167.903 1035.99 Z\" fill=\"#000000\" fill-rule=\"evenodd\" fill-opacity=\"1\" /><path clip-path=\"url(#clip370)\" d=\"M76.9787 591.283 L84.6175 591.283 L84.6175 564.918 L76.3074 566.584 L76.3074 562.325 L84.5712 560.659 L89.2471 560.659 L89.2471 591.283 L96.886 591.283 L96.886 595.219 L76.9787 595.219 L76.9787 591.283 Z\" fill=\"#000000\" fill-rule=\"evenodd\" fill-opacity=\"1\" /><path clip-path=\"url(#clip370)\" d=\"M116.33 563.737 Q112.719 563.737 110.891 567.302 Q109.085 570.844 109.085 577.973 Q109.085 585.08 110.891 588.644 Q112.719 592.186 116.33 592.186 Q119.965 592.186 121.77 588.644 Q123.599 585.08 123.599 577.973 Q123.599 570.844 121.77 567.302 Q119.965 563.737 116.33 563.737 M116.33 560.034 Q122.14 560.034 125.196 564.64 Q128.275 569.223 128.275 577.973 Q128.275 586.7 125.196 591.306 Q122.14 595.89 116.33 595.89 Q110.52 595.89 107.441 591.306 Q104.386 586.7 104.386 577.973 Q104.386 569.223 107.441 564.64 Q110.52 560.034 116.33 560.034 Z\" fill=\"#000000\" fill-rule=\"evenodd\" fill-opacity=\"1\" /><path clip-path=\"url(#clip370)\" d=\"M128.275 554.135 L152.386 554.135 L152.386 557.332 L128.275 557.332 L128.275 554.135 Z\" fill=\"#000000\" fill-rule=\"evenodd\" fill-opacity=\"1\" /><path clip-path=\"url(#clip370)\" d=\"M160.624 539.728 L175.539 539.728 L175.539 542.925 L164.103 542.925 L164.103 549.809 Q164.931 549.527 165.759 549.395 Q166.586 549.245 167.414 549.245 Q172.116 549.245 174.862 551.822 Q177.607 554.398 177.607 558.799 Q177.607 563.332 174.786 565.852 Q171.965 568.354 166.831 568.354 Q165.063 568.354 163.22 568.053 Q161.395 567.752 159.439 567.15 L159.439 563.332 Q161.132 564.253 162.937 564.705 Q164.743 565.156 166.755 565.156 Q170.009 565.156 171.909 563.445 Q173.808 561.733 173.808 558.799 Q173.808 555.865 171.909 554.154 Q170.009 552.442 166.755 552.442 Q165.232 552.442 163.709 552.781 Q162.204 553.119 160.624 553.834 L160.624 539.728 Z\" fill=\"#000000\" fill-rule=\"evenodd\" fill-opacity=\"1\" /><path clip-path=\"url(#clip370)\" d=\"M106.902 94.5099 L114.541 94.5099 L114.541 68.1443 L106.231 69.8109 L106.231 65.5517 L114.494 63.885 L119.17 63.885 L119.17 94.5099 L126.809 94.5099 L126.809 98.445 L106.902 98.445 L106.902 94.5099 Z\" fill=\"#000000\" fill-rule=\"evenodd\" fill-opacity=\"1\" /><path clip-path=\"url(#clip370)\" d=\"M146.253 66.9637 Q142.642 66.9637 140.814 70.5285 Q139.008 74.0701 139.008 81.1997 Q139.008 88.3062 140.814 91.871 Q142.642 95.4126 146.253 95.4126 Q149.888 95.4126 151.693 91.871 Q153.522 88.3062 153.522 81.1997 Q153.522 74.0701 151.693 70.5285 Q149.888 66.9637 146.253 66.9637 M146.253 63.26 Q152.064 63.26 155.119 67.8665 Q158.198 72.4498 158.198 81.1997 Q158.198 89.9265 155.119 94.533 Q152.064 99.1163 146.253 99.1163 Q140.443 99.1163 137.365 94.533 Q134.309 89.9265 134.309 81.1997 Q134.309 72.4498 137.365 67.8665 Q140.443 63.26 146.253 63.26 Z\" fill=\"#000000\" fill-rule=\"evenodd\" fill-opacity=\"1\" /><path clip-path=\"url(#clip370)\" d=\"M167.903 45.456 Q164.969 45.456 163.483 48.3524 Q162.016 51.23 162.016 57.0228 Q162.016 62.7968 163.483 65.6932 Q164.969 68.5708 167.903 68.5708 Q170.855 68.5708 172.322 65.6932 Q173.808 62.7968 173.808 57.0228 Q173.808 51.23 172.322 48.3524 Q170.855 45.456 167.903 45.456 M167.903 42.4468 Q172.623 42.4468 175.106 46.1896 Q177.607 49.9135 177.607 57.0228 Q177.607 64.1134 175.106 67.8561 Q172.623 71.58 167.903 71.58 Q163.182 71.58 160.68 67.8561 Q158.198 64.1134 158.198 57.0228 Q158.198 49.9135 160.68 46.1896 Q163.182 42.4468 167.903 42.4468 Z\" fill=\"#000000\" fill-rule=\"evenodd\" fill-opacity=\"1\" /><polyline clip-path=\"url(#clip372)\" style=\"stroke:#009af9; stroke-linecap:butt; stroke-linejoin:round; stroke-width:16; stroke-opacity:1; fill:none\" points=\"\n",
       "  274.149,87.9763 306.182,125.238 370.248,215.257 498.379,411.953 754.641,822.185 1267.17,1445.72 2292.21,1422.46 \n",
       "  \"/>\n",
       "<circle clip-path=\"url(#clip372)\" cx=\"274.149\" cy=\"87.9763\" r=\"14\" fill=\"#009af9\" fill-rule=\"evenodd\" fill-opacity=\"1\" stroke=\"#000000\" stroke-opacity=\"1\" stroke-width=\"3.2\"/>\n",
       "<circle clip-path=\"url(#clip372)\" cx=\"306.182\" cy=\"125.238\" r=\"14\" fill=\"#009af9\" fill-rule=\"evenodd\" fill-opacity=\"1\" stroke=\"#000000\" stroke-opacity=\"1\" stroke-width=\"3.2\"/>\n",
       "<circle clip-path=\"url(#clip372)\" cx=\"370.248\" cy=\"215.257\" r=\"14\" fill=\"#009af9\" fill-rule=\"evenodd\" fill-opacity=\"1\" stroke=\"#000000\" stroke-opacity=\"1\" stroke-width=\"3.2\"/>\n",
       "<circle clip-path=\"url(#clip372)\" cx=\"498.379\" cy=\"411.953\" r=\"14\" fill=\"#009af9\" fill-rule=\"evenodd\" fill-opacity=\"1\" stroke=\"#000000\" stroke-opacity=\"1\" stroke-width=\"3.2\"/>\n",
       "<circle clip-path=\"url(#clip372)\" cx=\"754.641\" cy=\"822.185\" r=\"14\" fill=\"#009af9\" fill-rule=\"evenodd\" fill-opacity=\"1\" stroke=\"#000000\" stroke-opacity=\"1\" stroke-width=\"3.2\"/>\n",
       "<circle clip-path=\"url(#clip372)\" cx=\"1267.17\" cy=\"1445.72\" r=\"14\" fill=\"#009af9\" fill-rule=\"evenodd\" fill-opacity=\"1\" stroke=\"#000000\" stroke-opacity=\"1\" stroke-width=\"3.2\"/>\n",
       "<circle clip-path=\"url(#clip372)\" cx=\"2292.21\" cy=\"1422.46\" r=\"14\" fill=\"#009af9\" fill-rule=\"evenodd\" fill-opacity=\"1\" stroke=\"#000000\" stroke-opacity=\"1\" stroke-width=\"3.2\"/>\n",
       "<path clip-path=\"url(#clip370)\" d=\"\n",
       "M1991.34 198.898 L2281.45 198.898 L2281.45 95.2176 L1991.34 95.2176  Z\n",
       "  \" fill=\"#ffffff\" fill-rule=\"evenodd\" fill-opacity=\"1\"/>\n",
       "<polyline clip-path=\"url(#clip370)\" style=\"stroke:#000000; stroke-linecap:butt; stroke-linejoin:round; stroke-width:4; stroke-opacity:1; fill:none\" points=\"\n",
       "  1991.34,198.898 2281.45,198.898 2281.45,95.2176 1991.34,95.2176 1991.34,198.898 \n",
       "  \"/>\n",
       "<polyline clip-path=\"url(#clip370)\" style=\"stroke:#009af9; stroke-linecap:butt; stroke-linejoin:round; stroke-width:4; stroke-opacity:1; fill:none\" points=\"\n",
       "  2015.11,147.058 2157.72,147.058 \n",
       "  \"/>\n",
       "<circle clip-path=\"url(#clip370)\" cx=\"2086.41\" cy=\"147.058\" r=\"23\" fill=\"#009af9\" fill-rule=\"evenodd\" fill-opacity=\"1\" stroke=\"#000000\" stroke-opacity=\"1\" stroke-width=\"5.12\"/>\n",
       "<path clip-path=\"url(#clip370)\" d=\"M2195.33 166.745 Q2193.52 171.375 2191.81 172.787 Q2190.1 174.199 2187.22 174.199 L2183.82 174.199 L2183.82 170.634 L2186.32 170.634 Q2188.08 170.634 2189.05 169.8 Q2190.03 168.967 2191.21 165.865 L2191.97 163.921 L2181.48 138.412 L2186 138.412 L2194.1 158.689 L2202.2 138.412 L2206.72 138.412 L2195.33 166.745 Z\" fill=\"#000000\" fill-rule=\"evenodd\" fill-opacity=\"1\" /><path clip-path=\"url(#clip370)\" d=\"M2214.01 160.402 L2221.65 160.402 L2221.65 134.037 L2213.34 135.703 L2213.34 131.444 L2221.6 129.778 L2226.28 129.778 L2226.28 160.402 L2233.91 160.402 L2233.91 164.338 L2214.01 164.338 L2214.01 160.402 Z\" fill=\"#000000\" fill-rule=\"evenodd\" fill-opacity=\"1\" /></svg>\n"
      ]
     },
     "execution_count": 67,
     "metadata": {},
     "output_type": "execute_result"
    }
   ],
   "source": [
    "ns = 2 .^ (2:8)\n",
    "function L2_error(n)\n",
    "    x, u = L2_galerkin(n, n, f)\n",
    "    norm(u - f.(x))\n",
    "end\n",
    "plot(ns, L2_error.(ns), marker=:auto, yscale=:log10)"
   ]
  },
  {
   "cell_type": "markdown",
   "id": "a27da104",
   "metadata": {
    "slideshow": {
     "slide_type": "slide"
    }
   },
   "source": [
    "# Galerkin error estimates"
   ]
  },
  {
   "cell_type": "markdown",
   "id": "ff2b2754",
   "metadata": {
    "cell_style": "split"
   },
   "source": [
    "We introduce the notation\n",
    "$$ a(v, u) = \\int_\\Omega \\nabla v(x) \\cdot \\nabla u(x) $$\n",
    "and note that $a$ is\n",
    "* bilinear (linear in each of its arguments)\n",
    "* symmetric: $a(u, v) = a(v,u)$\n",
    "* positive definite: $a(u, u) > 0$ when $u \\ne 0$\n",
    "thus defines an inner product on the function space $V$."
   ]
  },
  {
   "cell_type": "markdown",
   "id": "4966b4c5",
   "metadata": {
    "cell_style": "split"
   },
   "source": [
    "We also introduce the $L^2$ inner product\n",
    "$$ \\langle u, v \\rangle = \\int_\\Omega u(x) v(x) $$\n",
    "so that our continuous weak form is to find $u \\in V$ such that\n",
    "$$ a(v, u) = \\langle v, f \\rangle, \\quad \\forall v\\in V. $$\n",
    "Our Galerkin discretization is to find $u_h \\in V_h \\subset V$ such that\n",
    "$$ a(v_h, u_h) = \\langle v_h, f \\rangle, \\quad \\forall v_h \\in V_h . $$\n",
    "Since $V_h \\subset V$, we can subtract these two, yielding\n",
    "$$ a(v_h, u_h - u) = 0, \\quad \\forall v_h \\in V_h .$$\n",
    "This says that the error in the discrete solution $u_h - u$ is $a$-orthogonal to all test functions $v_h$."
   ]
  },
  {
   "cell_type": "markdown",
   "id": "842f1ca8",
   "metadata": {
    "slideshow": {
     "slide_type": "slide"
    }
   },
   "source": [
    "# Galerkin optimality via energy norms"
   ]
  },
  {
   "cell_type": "markdown",
   "id": "fba20ff3",
   "metadata": {
    "cell_style": "split",
    "slideshow": {
     "slide_type": ""
    }
   },
   "source": [
    "We can also define the \"energy norm\" or $a$-norm,\n",
    "$$ \\lVert u \\rVert_a = \\sqrt{a(u,u)} . $$\n",
    "This norm satisfies the Cauchy-Schwarz inequality,\n",
    "$$ \\lvert a(u,v) \\rvert \\le \\lVert u \\rVert_a \\lVert v \\rVert_a . $$\n",
    "Now,\n",
    "\\begin{align}\n",
    "\\lVert u_h - u \\rVert_a^2 &= a(u_h - u, u_h - u) \\\\\n",
    "&= a(u_h - v_h, u_h - u) + a(v_h - u, u_h - u) \\\\\n",
    "&= a(v_h - u, u_h - u) \\\\\n",
    "&\\le \\lVert v_h - u \\rVert_a \\lVert u_h - u \\rVert_a .\n",
    "\\end{align}\n",
    "In other words,\n",
    "$$\\lVert u_h - u \\rVert_a \\le \\lVert v_h - u \\rVert_a, \\quad \\forall v_h \\in V_h .$$\n",
    "So the solution $u_h$ computed by the Galerkin discretization is optimal over the subspace $V_h$ as measured in the $a$-norm."
   ]
  },
  {
   "cell_type": "markdown",
   "id": "58a462a3",
   "metadata": {
    "cell_style": "split"
   },
   "source": [
    "## Observations\n",
    "* The Galerkin method computes the exact solution any time it resides in the subspace $V_h$.\n",
    "* The Galerkin method is automatically symmetric any time the weak form is symmetric.\n",
    "* The Galerkin method can be spectrally accurate, similar to the Chebyshev finite difference methods.\n",
    "* For a nonlinear problem, discretization and differentiation will commute."
   ]
  },
  {
   "cell_type": "markdown",
   "id": "4e012df5",
   "metadata": {
    "slideshow": {
     "slide_type": "slide"
    }
   },
   "source": [
    "![](../img/libCEED-2-trim.svg)"
   ]
  },
  {
   "cell_type": "markdown",
   "id": "8061be0c",
   "metadata": {
    "cell_style": "center",
    "slideshow": {
     "slide_type": "slide"
    }
   },
   "source": [
    "# General form\n",
    "$$ \\int_\\Omega v\\cdot f_0(u, \\nabla u) + \\nabla v\\cdot f_1(u, \\nabla u) = 0, \\quad \\forall v$$\n",
    "we discretize as\n",
    "$$ \\sum_e \\mathcal E_e^T \\Big( B^T W \\left\\lvert \\frac{\\partial x}{\\partial X} \\right\\rvert f_0(\\tilde u, \\nabla \\tilde u) + D^T \\left(\\frac{\\partial X}{\\partial x}\\right)^{T} W \\left\\lvert \\frac{\\partial x}{\\partial X} \\right\\rvert f_1(\\tilde u, \\nabla\\tilde u) \\Big) = 0 $$\n",
    "where $\\tilde u = B \\mathcal E_e u$ and $\\nabla \\tilde u = \\frac{\\partial X}{\\partial x} D \\mathcal E_e u$ are the values and gradients evaluated at quadrature points."
   ]
  },
  {
   "cell_type": "markdown",
   "id": "a04a2180",
   "metadata": {
    "cell_style": "split"
   },
   "source": [
    "## Isoparametric mapping\n",
    "\n",
    "Given the reference coordinates $X \\in \\hat K \\subset R^n$ and physical coordinates $x(X)$, an integral on the physical element can be written\n",
    "$$ \\int_{K = x(\\hat K)} f(x) dx = \\int_K \\underbrace{\\left\\lvert \\frac{\\partial x}{\\partial X} \\right\\rvert}_{\\text{determinant}} f(x(X)) dX .$$"
   ]
  },
  {
   "cell_type": "markdown",
   "id": "f81921c7",
   "metadata": {
    "slideshow": {
     "slide_type": "skip"
    }
   },
   "source": [
    "| Notation | Meaning |\n",
    "|---------|:-------------|\n",
    "| $x$ | physical coordinates |\n",
    "| $X$ | reference coordinates |\n",
    "| $\\mathcal E_e$ | restriction from global vector to element $e$ |\n",
    "| $B$ | values of nodal basis functions at quadrature ponits on reference element |\n",
    "| $D$ | gradients of nodal basis functions at quadrature points on reference element|\n",
    "| $W$ | diagonal matrix of quadrature weights on reference element |\n",
    "| $\\frac{\\partial x}{\\partial X} = D \\mathcal E_e x $ | gradient of physical coordinates with respect to reference coordinates |\n",
    "| $\\left\\lvert \\frac{\\partial x}{\\partial X}\\right\\rvert$ | determinant of coordinate transformation at each quadrature point |\n",
    "| $\\frac{\\partial X}{\\partial x} = \\left(\\frac{\\partial x}{\\partial X}\\right)^{-1}$ | derivative of reference coordinates with respect to physical coordinates |"
   ]
  }
 ],
 "metadata": {
  "celltoolbar": "Slideshow",
  "kernelspec": {
   "display_name": "Julia 1.6.2",
   "language": "julia",
   "name": "julia-1.6"
  },
  "language_info": {
   "file_extension": ".jl",
   "mimetype": "application/julia",
   "name": "julia",
   "version": "1.6.3"
  },
  "rise": {
   "enable_chalkboard": true
  }
 },
 "nbformat": 4,
 "nbformat_minor": 5
}
