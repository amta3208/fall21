{
 "cells": [
  {
   "cell_type": "markdown",
   "id": "3dba1684",
   "metadata": {
    "cell_style": "center",
    "slideshow": {
     "slide_type": "slide"
    }
   },
   "source": [
    "# 2021-12-01 Finite Volume methods\n",
    "\n",
    "## Last time\n",
    "\n",
    "* Notes on unstructured meshing workflow\n",
    "* Finite volume methods for hyperbolic conservation laws\n",
    "* Riemann solvers for scalar equations\n",
    "  * Shocks and the Rankine-Hugoniot condition\n",
    "  * Rarefactions and entropy solutions\n",
    "\n",
    "## Today\n",
    "\n",
    "* Higher order methods\n",
    "* Godunov's Theorem\n",
    "* Slope reconstruction\n",
    "* Slope limiting"
   ]
  },
  {
   "cell_type": "code",
   "execution_count": 84,
   "id": "7fd7f3b0",
   "metadata": {
    "cell_style": "center",
    "slideshow": {
     "slide_type": "skip"
    }
   },
   "outputs": [
    {
     "data": {
      "text/plain": [
       "riemann_traffic (generic function with 1 method)"
      ]
     },
     "execution_count": 84,
     "metadata": {},
     "output_type": "execute_result"
    }
   ],
   "source": [
    "using LinearAlgebra\n",
    "using Plots\n",
    "default(linewidth=4)\n",
    "\n",
    "struct RKTable\n",
    "    A::Matrix\n",
    "    b::Vector\n",
    "    c::Vector\n",
    "    function RKTable(A, b)\n",
    "        s = length(b)\n",
    "        A = reshape(A, s, s)\n",
    "        c = vec(sum(A, dims=2))\n",
    "        new(A, b, c)\n",
    "    end\n",
    "end\n",
    "\n",
    "rk4 = RKTable([0 0 0 0; .5 0 0 0; 0 .5 0 0; 0 0 1 0], [1, 2, 2, 1] / 6)\n",
    "\n",
    "function ode_rk_explicit(f, u0; tfinal=1., h=0.1, table=rk4)\n",
    "    u = copy(u0)\n",
    "    t = 0.\n",
    "    n, s = length(u), length(table.c)\n",
    "    fY = zeros(n, s)\n",
    "    thist = [t]\n",
    "    uhist = [u0]\n",
    "    while t < tfinal\n",
    "        tnext = min(t+h, tfinal)\n",
    "        h = tnext - t\n",
    "        for i in 1:s\n",
    "            ti = t + h * table.c[i]\n",
    "            Yi = u + h * sum(fY[:,1:i-1] * table.A[i,1:i-1], dims=2)\n",
    "            fY[:,i] = f(ti, Yi)\n",
    "        end\n",
    "        u += h * fY * table.b\n",
    "        t = tnext\n",
    "        push!(thist, t)\n",
    "        push!(uhist, u)\n",
    "    end\n",
    "    thist, hcat(uhist...)\n",
    "end\n",
    "\n",
    "function testfunc(x)\n",
    "    max(1 - 4*abs.(x+2/3),\n",
    "        abs.(x) .< .2,\n",
    "        (2*abs.(x-2/3) .< .5) * cospi(2*(x-2/3)).^2\n",
    "    )\n",
    "end\n",
    "\n",
    "riemann_advection(uL, uR) = 1*uL # velocity is +1\n",
    "\n",
    "function fv_solve1(riemann, u_init, n, tfinal=1)\n",
    "    h = 2 / n\n",
    "    x = LinRange(-1+h/2, 1-h/2, n) # cell midpoints (centroids)\n",
    "    idxL = 1 .+ (n-1:2*n-2) .% n\n",
    "    idxR = 1 .+ (n+1:2*n) .% n\n",
    "    function rhs(t, u)\n",
    "        fluxL = riemann(u[idxL], u)\n",
    "        fluxR = riemann(u, u[idxR])\n",
    "        (fluxL - fluxR) / h\n",
    "    end\n",
    "    thist, uhist = ode_rk_explicit(\n",
    "        rhs, u_init.(x), h=h, tfinal=tfinal)\n",
    "    x, thist, uhist\n",
    "end\n",
    "\n",
    "function riemann_burgers(uL, uR)\n",
    "    flux = zero(uL)\n",
    "    for i in 1:length(flux)\n",
    "        fL = flux_burgers(uL[i])\n",
    "        fR = flux_burgers(uR[i])\n",
    "        flux[i] = if uL[i] > uR[i] # shock\n",
    "            max(fL, fR)\n",
    "        elseif uL[i] > 0 # rarefaction all to the right\n",
    "            fL\n",
    "        elseif uR[i] < 0 # rarefaction all to the left\n",
    "            fR\n",
    "        else\n",
    "            0\n",
    "        end\n",
    "    end\n",
    "    flux\n",
    "end\n",
    "\n",
    "function riemann_traffic(uL, uR)\n",
    "    flux = zero(uL)\n",
    "    for i in 1:length(flux)\n",
    "        fL = flux_traffic(uL[i])\n",
    "        fR = flux_traffic(uR[i])\n",
    "        flux[i] = if uL[i] < uR[i] # shock\n",
    "            min(fL, fR)\n",
    "        elseif uL[i] < .5 # rarefaction all to the right\n",
    "            fL\n",
    "        elseif uR[i] > .5 # rarefaction all to the left\n",
    "            fR\n",
    "        else\n",
    "            flux_traffic(.5)\n",
    "        end\n",
    "    end\n",
    "    flux\n",
    "end"
   ]
  },
  {
   "cell_type": "markdown",
   "id": "389c0694",
   "metadata": {
    "slideshow": {
     "slide_type": "slide"
    }
   },
   "source": [
    "# Godunov's Theorem (1954)"
   ]
  },
  {
   "cell_type": "markdown",
   "id": "fae87e3c",
   "metadata": {
    "cell_style": "split",
    "slideshow": {
     "slide_type": ""
    }
   },
   "source": [
    "Linear numerical methods\n",
    "$$ \\dot u_i = \\sum_j a_{ij} u_j $$\n",
    "for solving time-dependent PDE can be at most first order accurate if they are monotone.\n",
    "\n",
    "For our purposes, monotonicity is equivalent to positivity preservation,\n",
    "$$ \\min_x u(0, x) \\ge 0 \\quad \\Longrightarrow \\quad \\min_x u(t, 0) \\ge 0 .$$"
   ]
  },
  {
   "cell_type": "markdown",
   "id": "01364912",
   "metadata": {
    "cell_style": "split",
    "slideshow": {
     "slide_type": "fragment"
    }
   },
   "source": [
    "## Discontinuities\n",
    "\n",
    "A numerical method for representing a discontinuous function on a stationary grid can be no better than first order accurate in the $L^1$ norm,\n",
    "$$ \\lVert u - u^* \\rVert_{L^1} = \\int \\lvert u - u^* \\rvert . $$\n",
    "If we merely sample a discontinuous function, say\n",
    "$$ u(x) = \\begin{cases} 0, & x \\le a \\\\ 1, & x > a \\end{cases} $$\n",
    "onto a grid with element size $\\Delta x$ then we will have errors of order 1 on an interval proportional to $\\Delta x$."
   ]
  },
  {
   "cell_type": "markdown",
   "id": "4608bb6f",
   "metadata": {
    "cell_style": "center",
    "slideshow": {
     "slide_type": ""
    }
   },
   "source": [
    "In light of these two observations, we may still ask for numerical methods that are more than first order accurate for smooth solutions, but those methods must be nonlinear."
   ]
  },
  {
   "cell_type": "markdown",
   "id": "3ef3d115",
   "metadata": {
    "slideshow": {
     "slide_type": "slide"
    }
   },
   "source": [
    "# Slope Reconstruction"
   ]
  },
  {
   "cell_type": "markdown",
   "id": "17d89dc5",
   "metadata": {
    "cell_style": "split",
    "slideshow": {
     "slide_type": ""
    }
   },
   "source": [
    "One method for constructing higher order methods is to use the state in neighboring elements to perform a conservative reconstruction of a piecewise polynomial, then compute numerical fluxes by solving Riemann problems at the interfaces.  If $x_i$ is the center of cell $i$ and $g_i$ is the reconstructed gradient inside cell $i$, our reconstructed solution is\n",
    "$$ \\tilde u_i(x) = u_i + g_i \\cdot (x - x_i) . $$\n",
    "We would like this reconstruction to be monotone in the sense that\n",
    "$$ \\Big(\\tilde u_i(x) - \\tilde u_j(x) \\Big) \\Big( u_i - u_j \\Big) \\ge 0 $$\n",
    "for any $x$ on the interface between element $i$ and element $j$."
   ]
  },
  {
   "cell_type": "markdown",
   "id": "a7121dc1",
   "metadata": {
    "cell_style": "split",
    "slideshow": {
     "slide_type": "fragment"
    }
   },
   "source": [
    "## Question\n",
    "Is the symmetric slope\n",
    "$$ \\hat g_i = \\frac{u_{i+1} - u_{i-1}}{2 \\Delta x} $$\n",
    "monotone?"
   ]
  },
  {
   "cell_type": "markdown",
   "id": "2a75e74c",
   "metadata": {
    "slideshow": {
     "slide_type": "slide"
    }
   },
   "source": [
    "# Slope limiting\n",
    "\n"
   ]
  },
  {
   "cell_type": "markdown",
   "id": "ba2741ca",
   "metadata": {
    "cell_style": "split"
   },
   "source": [
    "We will determine gradients by \"limiting\" the above slope using a nonlinear function that reduces to 1 when the solution is smooth.  There are many ways to express limiters and our discussion here roughly follows [Berger, Aftosmis, and Murman (2005)](https://www.nas.nasa.gov/assets/pdf/techreports/2005/nas-05-007.pdf).\n",
    "\n",
    "![Berger et al, figure 3b, Cell averages](../img/Berger2005-3b-CellAverages.png)"
   ]
  },
  {
   "cell_type": "markdown",
   "id": "e0fef82e",
   "metadata": {
    "cell_style": "split"
   },
   "source": [
    "We will express a slope limiter in terms of the ratio\n",
    "$$ r_i = \\frac{u_i - u_{i-1}}{u_{i+1} - u_{i-1}} $$\n",
    "and use as a gradient,\n",
    "$$ g_i = \\phi(r_i) \\frac{u_{i+1} - u_{i-1}}{2 \\Delta x} . $$\n",
    "Our functions $\\phi$ will be zero unless $0 < r < 1$ and $\\phi(1/2) = 1$.\n",
    "![Berger et al, figure 3a, Symmetric form of slope limiters](../img/Berger2005-3a-SymSlope.png)\n",
    "All of these limiters are second order accurate and TVD; those that fall below minmod are not second order accurate and those that are above Barth-Jesperson are not second order accurate, not TVD, or produce artifacts."
   ]
  },
  {
   "cell_type": "markdown",
   "id": "a140c8da",
   "metadata": {
    "slideshow": {
     "slide_type": "slide"
    }
   },
   "source": [
    "# Common limiters"
   ]
  },
  {
   "cell_type": "code",
   "execution_count": 46,
   "id": "c4171796",
   "metadata": {
    "cell_style": "split"
   },
   "outputs": [],
   "source": [
    "limit_zero(r) = 0\n",
    "limit_none(r) = 1\n",
    "limit_minmod(r) = max(min(2*r, 2*(1-r)), 0)\n",
    "limit_sin(r) = (0 < r && r < 1) * sinpi(r)\n",
    "limit_vl(r) = max(4*r*(1-r), 0)\n",
    "limit_bj(r) = max(0, min(1, 4*r, 4*(1-r)))\n",
    "limiters = [limit_zero limit_none limit_minmod limit_sin limit_vl limit_bj];"
   ]
  },
  {
   "cell_type": "code",
   "execution_count": 45,
   "id": "8c74fd71",
   "metadata": {
    "cell_style": "split"
   },
   "outputs": [
    {
     "data": {
      "image/svg+xml": [
       "<?xml version=\"1.0\" encoding=\"utf-8\"?>\n",
       "<svg xmlns=\"http://www.w3.org/2000/svg\" xmlns:xlink=\"http://www.w3.org/1999/xlink\" width=\"600\" height=\"400\" viewBox=\"0 0 2400 1600\">\n",
       "<defs>\n",
       "  <clipPath id=\"clip280\">\n",
       "    <rect x=\"0\" y=\"0\" width=\"2400\" height=\"1600\"/>\n",
       "  </clipPath>\n",
       "</defs>\n",
       "<path clip-path=\"url(#clip280)\" d=\"\n",
       "M0 1600 L2400 1600 L2400 0 L0 0  Z\n",
       "  \" fill=\"#ffffff\" fill-rule=\"evenodd\" fill-opacity=\"1\"/>\n",
       "<defs>\n",
       "  <clipPath id=\"clip281\">\n",
       "    <rect x=\"480\" y=\"0\" width=\"1681\" height=\"1600\"/>\n",
       "  </clipPath>\n",
       "</defs>\n",
       "<path clip-path=\"url(#clip280)\" d=\"\n",
       "M186.274 1486.45 L2352.76 1486.45 L2352.76 47.2441 L186.274 47.2441  Z\n",
       "  \" fill=\"#ffffff\" fill-rule=\"evenodd\" fill-opacity=\"1\"/>\n",
       "<defs>\n",
       "  <clipPath id=\"clip282\">\n",
       "    <rect x=\"186\" y=\"47\" width=\"2167\" height=\"1440\"/>\n",
       "  </clipPath>\n",
       "</defs>\n",
       "<polyline clip-path=\"url(#clip282)\" style=\"stroke:#000000; stroke-linecap:butt; stroke-linejoin:round; stroke-width:2; stroke-opacity:0.1; fill:none\" points=\"\n",
       "  366.814,1486.45 366.814,47.2441 \n",
       "  \"/>\n",
       "<polyline clip-path=\"url(#clip282)\" style=\"stroke:#000000; stroke-linecap:butt; stroke-linejoin:round; stroke-width:2; stroke-opacity:0.1; fill:none\" points=\"\n",
       "  818.165,1486.45 818.165,47.2441 \n",
       "  \"/>\n",
       "<polyline clip-path=\"url(#clip282)\" style=\"stroke:#000000; stroke-linecap:butt; stroke-linejoin:round; stroke-width:2; stroke-opacity:0.1; fill:none\" points=\"\n",
       "  1269.51,1486.45 1269.51,47.2441 \n",
       "  \"/>\n",
       "<polyline clip-path=\"url(#clip282)\" style=\"stroke:#000000; stroke-linecap:butt; stroke-linejoin:round; stroke-width:2; stroke-opacity:0.1; fill:none\" points=\"\n",
       "  1720.87,1486.45 1720.87,47.2441 \n",
       "  \"/>\n",
       "<polyline clip-path=\"url(#clip282)\" style=\"stroke:#000000; stroke-linecap:butt; stroke-linejoin:round; stroke-width:2; stroke-opacity:0.1; fill:none\" points=\"\n",
       "  2172.22,1486.45 2172.22,47.2441 \n",
       "  \"/>\n",
       "<polyline clip-path=\"url(#clip280)\" style=\"stroke:#000000; stroke-linecap:butt; stroke-linejoin:round; stroke-width:4; stroke-opacity:1; fill:none\" points=\"\n",
       "  186.274,1486.45 2352.76,1486.45 \n",
       "  \"/>\n",
       "<polyline clip-path=\"url(#clip280)\" style=\"stroke:#000000; stroke-linecap:butt; stroke-linejoin:round; stroke-width:4; stroke-opacity:1; fill:none\" points=\"\n",
       "  366.814,1486.45 366.814,1467.55 \n",
       "  \"/>\n",
       "<polyline clip-path=\"url(#clip280)\" style=\"stroke:#000000; stroke-linecap:butt; stroke-linejoin:round; stroke-width:4; stroke-opacity:1; fill:none\" points=\"\n",
       "  818.165,1486.45 818.165,1467.55 \n",
       "  \"/>\n",
       "<polyline clip-path=\"url(#clip280)\" style=\"stroke:#000000; stroke-linecap:butt; stroke-linejoin:round; stroke-width:4; stroke-opacity:1; fill:none\" points=\"\n",
       "  1269.51,1486.45 1269.51,1467.55 \n",
       "  \"/>\n",
       "<polyline clip-path=\"url(#clip280)\" style=\"stroke:#000000; stroke-linecap:butt; stroke-linejoin:round; stroke-width:4; stroke-opacity:1; fill:none\" points=\"\n",
       "  1720.87,1486.45 1720.87,1467.55 \n",
       "  \"/>\n",
       "<polyline clip-path=\"url(#clip280)\" style=\"stroke:#000000; stroke-linecap:butt; stroke-linejoin:round; stroke-width:4; stroke-opacity:1; fill:none\" points=\"\n",
       "  2172.22,1486.45 2172.22,1467.55 \n",
       "  \"/>\n",
       "<path clip-path=\"url(#clip280)\" d=\"M329.118 1517.37 Q325.507 1517.37 323.678 1520.93 Q321.872 1524.47 321.872 1531.6 Q321.872 1538.71 323.678 1542.27 Q325.507 1545.82 329.118 1545.82 Q332.752 1545.82 334.557 1542.27 Q336.386 1538.71 336.386 1531.6 Q336.386 1524.47 334.557 1520.93 Q332.752 1517.37 329.118 1517.37 M329.118 1513.66 Q334.928 1513.66 337.983 1518.27 Q341.062 1522.85 341.062 1531.6 Q341.062 1540.33 337.983 1544.94 Q334.928 1549.52 329.118 1549.52 Q323.307 1549.52 320.229 1544.94 Q317.173 1540.33 317.173 1531.6 Q317.173 1522.85 320.229 1518.27 Q323.307 1513.66 329.118 1513.66 Z\" fill=\"#000000\" fill-rule=\"evenodd\" fill-opacity=\"1\" /><path clip-path=\"url(#clip280)\" d=\"M349.28 1542.97 L354.164 1542.97 L354.164 1548.85 L349.28 1548.85 L349.28 1542.97 Z\" fill=\"#000000\" fill-rule=\"evenodd\" fill-opacity=\"1\" /><path clip-path=\"url(#clip280)\" d=\"M374.349 1517.37 Q370.738 1517.37 368.909 1520.93 Q367.104 1524.47 367.104 1531.6 Q367.104 1538.71 368.909 1542.27 Q370.738 1545.82 374.349 1545.82 Q377.983 1545.82 379.789 1542.27 Q381.617 1538.71 381.617 1531.6 Q381.617 1524.47 379.789 1520.93 Q377.983 1517.37 374.349 1517.37 M374.349 1513.66 Q380.159 1513.66 383.215 1518.27 Q386.293 1522.85 386.293 1531.6 Q386.293 1540.33 383.215 1544.94 Q380.159 1549.52 374.349 1549.52 Q368.539 1549.52 365.46 1544.94 Q362.404 1540.33 362.404 1531.6 Q362.404 1522.85 365.46 1518.27 Q368.539 1513.66 374.349 1513.66 Z\" fill=\"#000000\" fill-rule=\"evenodd\" fill-opacity=\"1\" /><path clip-path=\"url(#clip280)\" d=\"M404.511 1517.37 Q400.9 1517.37 399.071 1520.93 Q397.265 1524.47 397.265 1531.6 Q397.265 1538.71 399.071 1542.27 Q400.9 1545.82 404.511 1545.82 Q408.145 1545.82 409.951 1542.27 Q411.779 1538.71 411.779 1531.6 Q411.779 1524.47 409.951 1520.93 Q408.145 1517.37 404.511 1517.37 M404.511 1513.66 Q410.321 1513.66 413.376 1518.27 Q416.455 1522.85 416.455 1531.6 Q416.455 1540.33 413.376 1544.94 Q410.321 1549.52 404.511 1549.52 Q398.701 1549.52 395.622 1544.94 Q392.566 1540.33 392.566 1531.6 Q392.566 1522.85 395.622 1518.27 Q398.701 1513.66 404.511 1513.66 Z\" fill=\"#000000\" fill-rule=\"evenodd\" fill-opacity=\"1\" /><path clip-path=\"url(#clip280)\" d=\"M780.966 1517.37 Q777.355 1517.37 775.526 1520.93 Q773.72 1524.47 773.72 1531.6 Q773.72 1538.71 775.526 1542.27 Q777.355 1545.82 780.966 1545.82 Q784.6 1545.82 786.405 1542.27 Q788.234 1538.71 788.234 1531.6 Q788.234 1524.47 786.405 1520.93 Q784.6 1517.37 780.966 1517.37 M780.966 1513.66 Q786.776 1513.66 789.831 1518.27 Q792.91 1522.85 792.91 1531.6 Q792.91 1540.33 789.831 1544.94 Q786.776 1549.52 780.966 1549.52 Q775.156 1549.52 772.077 1544.94 Q769.021 1540.33 769.021 1531.6 Q769.021 1522.85 772.077 1518.27 Q775.156 1513.66 780.966 1513.66 Z\" fill=\"#000000\" fill-rule=\"evenodd\" fill-opacity=\"1\" /><path clip-path=\"url(#clip280)\" d=\"M801.128 1542.97 L806.012 1542.97 L806.012 1548.85 L801.128 1548.85 L801.128 1542.97 Z\" fill=\"#000000\" fill-rule=\"evenodd\" fill-opacity=\"1\" /><path clip-path=\"url(#clip280)\" d=\"M820.225 1544.91 L836.544 1544.91 L836.544 1548.85 L814.6 1548.85 L814.6 1544.91 Q817.262 1542.16 821.845 1537.53 Q826.452 1532.88 827.632 1531.53 Q829.877 1529.01 830.757 1527.27 Q831.66 1525.51 831.66 1523.82 Q831.66 1521.07 829.715 1519.33 Q827.794 1517.6 824.692 1517.6 Q822.493 1517.6 820.04 1518.36 Q817.609 1519.13 814.831 1520.68 L814.831 1515.95 Q817.655 1514.82 820.109 1514.24 Q822.563 1513.66 824.6 1513.66 Q829.97 1513.66 833.164 1516.35 Q836.359 1519.03 836.359 1523.52 Q836.359 1525.65 835.549 1527.57 Q834.762 1529.47 832.655 1532.07 Q832.077 1532.74 828.975 1535.95 Q825.873 1539.15 820.225 1544.91 Z\" fill=\"#000000\" fill-rule=\"evenodd\" fill-opacity=\"1\" /><path clip-path=\"url(#clip280)\" d=\"M846.405 1514.29 L864.762 1514.29 L864.762 1518.22 L850.688 1518.22 L850.688 1526.7 Q851.706 1526.35 852.725 1526.19 Q853.743 1526 854.762 1526 Q860.549 1526 863.928 1529.17 Q867.308 1532.34 867.308 1537.76 Q867.308 1543.34 863.836 1546.44 Q860.363 1549.52 854.044 1549.52 Q851.868 1549.52 849.6 1549.15 Q847.354 1548.78 844.947 1548.04 L844.947 1543.34 Q847.03 1544.47 849.252 1545.03 Q851.475 1545.58 853.951 1545.58 Q857.956 1545.58 860.294 1543.48 Q862.632 1541.37 862.632 1537.76 Q862.632 1534.15 860.294 1532.04 Q857.956 1529.94 853.951 1529.94 Q852.076 1529.94 850.201 1530.35 Q848.35 1530.77 846.405 1531.65 L846.405 1514.29 Z\" fill=\"#000000\" fill-rule=\"evenodd\" fill-opacity=\"1\" /><path clip-path=\"url(#clip280)\" d=\"M1231.82 1517.37 Q1228.21 1517.37 1226.38 1520.93 Q1224.57 1524.47 1224.57 1531.6 Q1224.57 1538.71 1226.38 1542.27 Q1228.21 1545.82 1231.82 1545.82 Q1235.45 1545.82 1237.26 1542.27 Q1239.09 1538.71 1239.09 1531.6 Q1239.09 1524.47 1237.26 1520.93 Q1235.45 1517.37 1231.82 1517.37 M1231.82 1513.66 Q1237.63 1513.66 1240.68 1518.27 Q1243.76 1522.85 1243.76 1531.6 Q1243.76 1540.33 1240.68 1544.94 Q1237.63 1549.52 1231.82 1549.52 Q1226.01 1549.52 1222.93 1544.94 Q1219.87 1540.33 1219.87 1531.6 Q1219.87 1522.85 1222.93 1518.27 Q1226.01 1513.66 1231.82 1513.66 Z\" fill=\"#000000\" fill-rule=\"evenodd\" fill-opacity=\"1\" /><path clip-path=\"url(#clip280)\" d=\"M1251.98 1542.97 L1256.86 1542.97 L1256.86 1548.85 L1251.98 1548.85 L1251.98 1542.97 Z\" fill=\"#000000\" fill-rule=\"evenodd\" fill-opacity=\"1\" /><path clip-path=\"url(#clip280)\" d=\"M1267.1 1514.29 L1285.45 1514.29 L1285.45 1518.22 L1271.38 1518.22 L1271.38 1526.7 Q1272.4 1526.35 1273.42 1526.19 Q1274.43 1526 1275.45 1526 Q1281.24 1526 1284.62 1529.17 Q1288 1532.34 1288 1537.76 Q1288 1543.34 1284.53 1546.44 Q1281.05 1549.52 1274.73 1549.52 Q1272.56 1549.52 1270.29 1549.15 Q1268.05 1548.78 1265.64 1548.04 L1265.64 1543.34 Q1267.72 1544.47 1269.94 1545.03 Q1272.17 1545.58 1274.64 1545.58 Q1278.65 1545.58 1280.98 1543.48 Q1283.32 1541.37 1283.32 1537.76 Q1283.32 1534.15 1280.98 1532.04 Q1278.65 1529.94 1274.64 1529.94 Q1272.77 1529.94 1270.89 1530.35 Q1269.04 1530.77 1267.1 1531.65 L1267.1 1514.29 Z\" fill=\"#000000\" fill-rule=\"evenodd\" fill-opacity=\"1\" /><path clip-path=\"url(#clip280)\" d=\"M1307.21 1517.37 Q1303.6 1517.37 1301.77 1520.93 Q1299.97 1524.47 1299.97 1531.6 Q1299.97 1538.71 1301.77 1542.27 Q1303.6 1545.82 1307.21 1545.82 Q1310.85 1545.82 1312.65 1542.27 Q1314.48 1538.71 1314.48 1531.6 Q1314.48 1524.47 1312.65 1520.93 Q1310.85 1517.37 1307.21 1517.37 M1307.21 1513.66 Q1313.02 1513.66 1316.08 1518.27 Q1319.16 1522.85 1319.16 1531.6 Q1319.16 1540.33 1316.08 1544.94 Q1313.02 1549.52 1307.21 1549.52 Q1301.4 1549.52 1298.32 1544.94 Q1295.27 1540.33 1295.27 1531.6 Q1295.27 1522.85 1298.32 1518.27 Q1301.4 1513.66 1307.21 1513.66 Z\" fill=\"#000000\" fill-rule=\"evenodd\" fill-opacity=\"1\" /><path clip-path=\"url(#clip280)\" d=\"M1683.67 1517.37 Q1680.06 1517.37 1678.23 1520.93 Q1676.42 1524.47 1676.42 1531.6 Q1676.42 1538.71 1678.23 1542.27 Q1680.06 1545.82 1683.67 1545.82 Q1687.3 1545.82 1689.11 1542.27 Q1690.93 1538.71 1690.93 1531.6 Q1690.93 1524.47 1689.11 1520.93 Q1687.3 1517.37 1683.67 1517.37 M1683.67 1513.66 Q1689.48 1513.66 1692.53 1518.27 Q1695.61 1522.85 1695.61 1531.6 Q1695.61 1540.33 1692.53 1544.94 Q1689.48 1549.52 1683.67 1549.52 Q1677.86 1549.52 1674.78 1544.94 Q1671.72 1540.33 1671.72 1531.6 Q1671.72 1522.85 1674.78 1518.27 Q1677.86 1513.66 1683.67 1513.66 Z\" fill=\"#000000\" fill-rule=\"evenodd\" fill-opacity=\"1\" /><path clip-path=\"url(#clip280)\" d=\"M1703.83 1542.97 L1708.71 1542.97 L1708.71 1548.85 L1703.83 1548.85 L1703.83 1542.97 Z\" fill=\"#000000\" fill-rule=\"evenodd\" fill-opacity=\"1\" /><path clip-path=\"url(#clip280)\" d=\"M1717.72 1514.29 L1739.94 1514.29 L1739.94 1516.28 L1727.39 1548.85 L1722.51 1548.85 L1734.31 1518.22 L1717.72 1518.22 L1717.72 1514.29 Z\" fill=\"#000000\" fill-rule=\"evenodd\" fill-opacity=\"1\" /><path clip-path=\"url(#clip280)\" d=\"M1749.11 1514.29 L1767.46 1514.29 L1767.46 1518.22 L1753.39 1518.22 L1753.39 1526.7 Q1754.41 1526.35 1755.43 1526.19 Q1756.44 1526 1757.46 1526 Q1763.25 1526 1766.63 1529.17 Q1770.01 1532.34 1770.01 1537.76 Q1770.01 1543.34 1766.54 1546.44 Q1763.06 1549.52 1756.74 1549.52 Q1754.57 1549.52 1752.3 1549.15 Q1750.06 1548.78 1747.65 1548.04 L1747.65 1543.34 Q1749.73 1544.47 1751.95 1545.03 Q1754.18 1545.58 1756.65 1545.58 Q1760.66 1545.58 1762.99 1543.48 Q1765.33 1541.37 1765.33 1537.76 Q1765.33 1534.15 1762.99 1532.04 Q1760.66 1529.94 1756.65 1529.94 Q1754.78 1529.94 1752.9 1530.35 Q1751.05 1530.77 1749.11 1531.65 L1749.11 1514.29 Z\" fill=\"#000000\" fill-rule=\"evenodd\" fill-opacity=\"1\" /><path clip-path=\"url(#clip280)\" d=\"M2124.29 1544.91 L2131.93 1544.91 L2131.93 1518.55 L2123.62 1520.21 L2123.62 1515.95 L2131.88 1514.29 L2136.56 1514.29 L2136.56 1544.91 L2144.2 1544.91 L2144.2 1548.85 L2124.29 1548.85 L2124.29 1544.91 Z\" fill=\"#000000\" fill-rule=\"evenodd\" fill-opacity=\"1\" /><path clip-path=\"url(#clip280)\" d=\"M2153.64 1542.97 L2158.52 1542.97 L2158.52 1548.85 L2153.64 1548.85 L2153.64 1542.97 Z\" fill=\"#000000\" fill-rule=\"evenodd\" fill-opacity=\"1\" /><path clip-path=\"url(#clip280)\" d=\"M2178.71 1517.37 Q2175.1 1517.37 2173.27 1520.93 Q2171.46 1524.47 2171.46 1531.6 Q2171.46 1538.71 2173.27 1542.27 Q2175.1 1545.82 2178.71 1545.82 Q2182.34 1545.82 2184.15 1542.27 Q2185.98 1538.71 2185.98 1531.6 Q2185.98 1524.47 2184.15 1520.93 Q2182.34 1517.37 2178.71 1517.37 M2178.71 1513.66 Q2184.52 1513.66 2187.57 1518.27 Q2190.65 1522.85 2190.65 1531.6 Q2190.65 1540.33 2187.57 1544.94 Q2184.52 1549.52 2178.71 1549.52 Q2172.9 1549.52 2169.82 1544.94 Q2166.76 1540.33 2166.76 1531.6 Q2166.76 1522.85 2169.82 1518.27 Q2172.9 1513.66 2178.71 1513.66 Z\" fill=\"#000000\" fill-rule=\"evenodd\" fill-opacity=\"1\" /><path clip-path=\"url(#clip280)\" d=\"M2208.87 1517.37 Q2205.26 1517.37 2203.43 1520.93 Q2201.63 1524.47 2201.63 1531.6 Q2201.63 1538.71 2203.43 1542.27 Q2205.26 1545.82 2208.87 1545.82 Q2212.5 1545.82 2214.31 1542.27 Q2216.14 1538.71 2216.14 1531.6 Q2216.14 1524.47 2214.31 1520.93 Q2212.5 1517.37 2208.87 1517.37 M2208.87 1513.66 Q2214.68 1513.66 2217.74 1518.27 Q2220.82 1522.85 2220.82 1531.6 Q2220.82 1540.33 2217.74 1544.94 Q2214.68 1549.52 2208.87 1549.52 Q2203.06 1549.52 2199.98 1544.94 Q2196.93 1540.33 2196.93 1531.6 Q2196.93 1522.85 2199.98 1518.27 Q2203.06 1513.66 2208.87 1513.66 Z\" fill=\"#000000\" fill-rule=\"evenodd\" fill-opacity=\"1\" /><polyline clip-path=\"url(#clip282)\" style=\"stroke:#000000; stroke-linecap:butt; stroke-linejoin:round; stroke-width:2; stroke-opacity:0.1; fill:none\" points=\"\n",
       "  186.274,1445.72 2352.76,1445.72 \n",
       "  \"/>\n",
       "<polyline clip-path=\"url(#clip282)\" style=\"stroke:#000000; stroke-linecap:butt; stroke-linejoin:round; stroke-width:2; stroke-opacity:0.1; fill:none\" points=\"\n",
       "  186.274,1106.28 2352.76,1106.28 \n",
       "  \"/>\n",
       "<polyline clip-path=\"url(#clip282)\" style=\"stroke:#000000; stroke-linecap:butt; stroke-linejoin:round; stroke-width:2; stroke-opacity:0.1; fill:none\" points=\"\n",
       "  186.274,766.846 2352.76,766.846 \n",
       "  \"/>\n",
       "<polyline clip-path=\"url(#clip282)\" style=\"stroke:#000000; stroke-linecap:butt; stroke-linejoin:round; stroke-width:2; stroke-opacity:0.1; fill:none\" points=\"\n",
       "  186.274,427.411 2352.76,427.411 \n",
       "  \"/>\n",
       "<polyline clip-path=\"url(#clip282)\" style=\"stroke:#000000; stroke-linecap:butt; stroke-linejoin:round; stroke-width:2; stroke-opacity:0.1; fill:none\" points=\"\n",
       "  186.274,87.9763 2352.76,87.9763 \n",
       "  \"/>\n",
       "<polyline clip-path=\"url(#clip280)\" style=\"stroke:#000000; stroke-linecap:butt; stroke-linejoin:round; stroke-width:4; stroke-opacity:1; fill:none\" points=\"\n",
       "  186.274,1486.45 186.274,47.2441 \n",
       "  \"/>\n",
       "<polyline clip-path=\"url(#clip280)\" style=\"stroke:#000000; stroke-linecap:butt; stroke-linejoin:round; stroke-width:4; stroke-opacity:1; fill:none\" points=\"\n",
       "  186.274,1445.72 205.172,1445.72 \n",
       "  \"/>\n",
       "<polyline clip-path=\"url(#clip280)\" style=\"stroke:#000000; stroke-linecap:butt; stroke-linejoin:round; stroke-width:4; stroke-opacity:1; fill:none\" points=\"\n",
       "  186.274,1106.28 205.172,1106.28 \n",
       "  \"/>\n",
       "<polyline clip-path=\"url(#clip280)\" style=\"stroke:#000000; stroke-linecap:butt; stroke-linejoin:round; stroke-width:4; stroke-opacity:1; fill:none\" points=\"\n",
       "  186.274,766.846 205.172,766.846 \n",
       "  \"/>\n",
       "<polyline clip-path=\"url(#clip280)\" style=\"stroke:#000000; stroke-linecap:butt; stroke-linejoin:round; stroke-width:4; stroke-opacity:1; fill:none\" points=\"\n",
       "  186.274,427.411 205.172,427.411 \n",
       "  \"/>\n",
       "<polyline clip-path=\"url(#clip280)\" style=\"stroke:#000000; stroke-linecap:butt; stroke-linejoin:round; stroke-width:4; stroke-opacity:1; fill:none\" points=\"\n",
       "  186.274,87.9763 205.172,87.9763 \n",
       "  \"/>\n",
       "<path clip-path=\"url(#clip280)\" d=\"M62.9365 1431.51 Q59.3254 1431.51 57.4967 1435.08 Q55.6912 1438.62 55.6912 1445.75 Q55.6912 1452.86 57.4967 1456.42 Q59.3254 1459.96 62.9365 1459.96 Q66.5707 1459.96 68.3763 1456.42 Q70.205 1452.86 70.205 1445.75 Q70.205 1438.62 68.3763 1435.08 Q66.5707 1431.51 62.9365 1431.51 M62.9365 1427.81 Q68.7467 1427.81 71.8022 1432.42 Q74.8809 1437 74.8809 1445.75 Q74.8809 1454.48 71.8022 1459.08 Q68.7467 1463.67 62.9365 1463.67 Q57.1264 1463.67 54.0477 1459.08 Q50.9921 1454.48 50.9921 1445.75 Q50.9921 1437 54.0477 1432.42 Q57.1264 1427.81 62.9365 1427.81 Z\" fill=\"#000000\" fill-rule=\"evenodd\" fill-opacity=\"1\" /><path clip-path=\"url(#clip280)\" d=\"M83.0984 1457.12 L87.9827 1457.12 L87.9827 1463 L83.0984 1463 L83.0984 1457.12 Z\" fill=\"#000000\" fill-rule=\"evenodd\" fill-opacity=\"1\" /><path clip-path=\"url(#clip280)\" d=\"M108.168 1431.51 Q104.557 1431.51 102.728 1435.08 Q100.922 1438.62 100.922 1445.75 Q100.922 1452.86 102.728 1456.42 Q104.557 1459.96 108.168 1459.96 Q111.802 1459.96 113.608 1456.42 Q115.436 1452.86 115.436 1445.75 Q115.436 1438.62 113.608 1435.08 Q111.802 1431.51 108.168 1431.51 M108.168 1427.81 Q113.978 1427.81 117.033 1432.42 Q120.112 1437 120.112 1445.75 Q120.112 1454.48 117.033 1459.08 Q113.978 1463.67 108.168 1463.67 Q102.358 1463.67 99.2789 1459.08 Q96.2234 1454.48 96.2234 1445.75 Q96.2234 1437 99.2789 1432.42 Q102.358 1427.81 108.168 1427.81 Z\" fill=\"#000000\" fill-rule=\"evenodd\" fill-opacity=\"1\" /><path clip-path=\"url(#clip280)\" d=\"M138.33 1431.51 Q134.719 1431.51 132.89 1435.08 Q131.084 1438.62 131.084 1445.75 Q131.084 1452.86 132.89 1456.42 Q134.719 1459.96 138.33 1459.96 Q141.964 1459.96 143.769 1456.42 Q145.598 1452.86 145.598 1445.75 Q145.598 1438.62 143.769 1435.08 Q141.964 1431.51 138.33 1431.51 M138.33 1427.81 Q144.14 1427.81 147.195 1432.42 Q150.274 1437 150.274 1445.75 Q150.274 1454.48 147.195 1459.08 Q144.14 1463.67 138.33 1463.67 Q132.519 1463.67 129.441 1459.08 Q126.385 1454.48 126.385 1445.75 Q126.385 1437 129.441 1432.42 Q132.519 1427.81 138.33 1427.81 Z\" fill=\"#000000\" fill-rule=\"evenodd\" fill-opacity=\"1\" /><path clip-path=\"url(#clip280)\" d=\"M63.9319 1092.08 Q60.3208 1092.08 58.4921 1095.64 Q56.6865 1099.19 56.6865 1106.32 Q56.6865 1113.42 58.4921 1116.99 Q60.3208 1120.53 63.9319 1120.53 Q67.5661 1120.53 69.3717 1116.99 Q71.2004 1113.42 71.2004 1106.32 Q71.2004 1099.19 69.3717 1095.64 Q67.5661 1092.08 63.9319 1092.08 M63.9319 1088.38 Q69.742 1088.38 72.7976 1092.98 Q75.8763 1097.57 75.8763 1106.32 Q75.8763 1115.04 72.7976 1119.65 Q69.742 1124.23 63.9319 1124.23 Q58.1217 1124.23 55.043 1119.65 Q51.9875 1115.04 51.9875 1106.32 Q51.9875 1097.57 55.043 1092.98 Q58.1217 1088.38 63.9319 1088.38 Z\" fill=\"#000000\" fill-rule=\"evenodd\" fill-opacity=\"1\" /><path clip-path=\"url(#clip280)\" d=\"M84.0938 1117.68 L88.978 1117.68 L88.978 1123.56 L84.0938 1123.56 L84.0938 1117.68 Z\" fill=\"#000000\" fill-rule=\"evenodd\" fill-opacity=\"1\" /><path clip-path=\"url(#clip280)\" d=\"M103.191 1119.63 L119.51 1119.63 L119.51 1123.56 L97.566 1123.56 L97.566 1119.63 Q100.228 1116.87 104.811 1112.24 Q109.418 1107.59 110.598 1106.25 Q112.844 1103.72 113.723 1101.99 Q114.626 1100.23 114.626 1098.54 Q114.626 1095.78 112.682 1094.05 Q110.76 1092.31 107.658 1092.31 Q105.459 1092.31 103.006 1093.07 Q100.575 1093.84 97.7974 1095.39 L97.7974 1090.67 Q100.621 1089.53 103.075 1088.95 Q105.529 1088.38 107.566 1088.38 Q112.936 1088.38 116.131 1091.06 Q119.325 1093.75 119.325 1098.24 Q119.325 1100.37 118.515 1102.29 Q117.728 1104.19 115.621 1106.78 Q115.043 1107.45 111.941 1110.67 Q108.839 1113.86 103.191 1119.63 Z\" fill=\"#000000\" fill-rule=\"evenodd\" fill-opacity=\"1\" /><path clip-path=\"url(#clip280)\" d=\"M129.371 1089 L147.728 1089 L147.728 1092.94 L133.654 1092.94 L133.654 1101.41 Q134.672 1101.06 135.691 1100.9 Q136.709 1100.71 137.728 1100.71 Q143.515 1100.71 146.894 1103.89 Q150.274 1107.06 150.274 1112.47 Q150.274 1118.05 146.802 1121.15 Q143.33 1124.23 137.01 1124.23 Q134.834 1124.23 132.566 1123.86 Q130.32 1123.49 127.913 1122.75 L127.913 1118.05 Q129.996 1119.19 132.219 1119.74 Q134.441 1120.3 136.918 1120.3 Q140.922 1120.3 143.26 1118.19 Q145.598 1116.08 145.598 1112.47 Q145.598 1108.86 143.26 1106.76 Q140.922 1104.65 136.918 1104.65 Q135.043 1104.65 133.168 1105.07 Q131.316 1105.48 129.371 1106.36 L129.371 1089 Z\" fill=\"#000000\" fill-rule=\"evenodd\" fill-opacity=\"1\" /><path clip-path=\"url(#clip280)\" d=\"M62.9365 752.645 Q59.3254 752.645 57.4967 756.209 Q55.6912 759.751 55.6912 766.881 Q55.6912 773.987 57.4967 777.552 Q59.3254 781.094 62.9365 781.094 Q66.5707 781.094 68.3763 777.552 Q70.205 773.987 70.205 766.881 Q70.205 759.751 68.3763 756.209 Q66.5707 752.645 62.9365 752.645 M62.9365 748.941 Q68.7467 748.941 71.8022 753.547 Q74.8809 758.131 74.8809 766.881 Q74.8809 775.608 71.8022 780.214 Q68.7467 784.797 62.9365 784.797 Q57.1264 784.797 54.0477 780.214 Q50.9921 775.608 50.9921 766.881 Q50.9921 758.131 54.0477 753.547 Q57.1264 748.941 62.9365 748.941 Z\" fill=\"#000000\" fill-rule=\"evenodd\" fill-opacity=\"1\" /><path clip-path=\"url(#clip280)\" d=\"M83.0984 778.246 L87.9827 778.246 L87.9827 784.126 L83.0984 784.126 L83.0984 778.246 Z\" fill=\"#000000\" fill-rule=\"evenodd\" fill-opacity=\"1\" /><path clip-path=\"url(#clip280)\" d=\"M98.2141 749.566 L116.57 749.566 L116.57 753.501 L102.496 753.501 L102.496 761.973 Q103.515 761.626 104.534 761.464 Q105.552 761.279 106.571 761.279 Q112.358 761.279 115.737 764.45 Q119.117 767.621 119.117 773.038 Q119.117 778.617 115.645 781.719 Q112.172 784.797 105.853 784.797 Q103.677 784.797 101.409 784.427 Q99.1632 784.057 96.7558 783.316 L96.7558 778.617 Q98.8391 779.751 101.061 780.307 Q103.284 780.862 105.76 780.862 Q109.765 780.862 112.103 778.756 Q114.441 776.649 114.441 773.038 Q114.441 769.427 112.103 767.321 Q109.765 765.214 105.76 765.214 Q103.885 765.214 102.01 765.631 Q100.159 766.047 98.2141 766.927 L98.2141 749.566 Z\" fill=\"#000000\" fill-rule=\"evenodd\" fill-opacity=\"1\" /><path clip-path=\"url(#clip280)\" d=\"M138.33 752.645 Q134.719 752.645 132.89 756.209 Q131.084 759.751 131.084 766.881 Q131.084 773.987 132.89 777.552 Q134.719 781.094 138.33 781.094 Q141.964 781.094 143.769 777.552 Q145.598 773.987 145.598 766.881 Q145.598 759.751 143.769 756.209 Q141.964 752.645 138.33 752.645 M138.33 748.941 Q144.14 748.941 147.195 753.547 Q150.274 758.131 150.274 766.881 Q150.274 775.608 147.195 780.214 Q144.14 784.797 138.33 784.797 Q132.519 784.797 129.441 780.214 Q126.385 775.608 126.385 766.881 Q126.385 758.131 129.441 753.547 Q132.519 748.941 138.33 748.941 Z\" fill=\"#000000\" fill-rule=\"evenodd\" fill-opacity=\"1\" /><path clip-path=\"url(#clip280)\" d=\"M63.9319 413.21 Q60.3208 413.21 58.4921 416.775 Q56.6865 420.316 56.6865 427.446 Q56.6865 434.552 58.4921 438.117 Q60.3208 441.659 63.9319 441.659 Q67.5661 441.659 69.3717 438.117 Q71.2004 434.552 71.2004 427.446 Q71.2004 420.316 69.3717 416.775 Q67.5661 413.21 63.9319 413.21 M63.9319 409.506 Q69.742 409.506 72.7976 414.113 Q75.8763 418.696 75.8763 427.446 Q75.8763 436.173 72.7976 440.779 Q69.742 445.362 63.9319 445.362 Q58.1217 445.362 55.043 440.779 Q51.9875 436.173 51.9875 427.446 Q51.9875 418.696 55.043 414.113 Q58.1217 409.506 63.9319 409.506 Z\" fill=\"#000000\" fill-rule=\"evenodd\" fill-opacity=\"1\" /><path clip-path=\"url(#clip280)\" d=\"M84.0938 438.812 L88.978 438.812 L88.978 444.691 L84.0938 444.691 L84.0938 438.812 Z\" fill=\"#000000\" fill-rule=\"evenodd\" fill-opacity=\"1\" /><path clip-path=\"url(#clip280)\" d=\"M97.9826 410.131 L120.205 410.131 L120.205 412.122 L107.658 444.691 L102.774 444.691 L114.58 414.066 L97.9826 414.066 L97.9826 410.131 Z\" fill=\"#000000\" fill-rule=\"evenodd\" fill-opacity=\"1\" /><path clip-path=\"url(#clip280)\" d=\"M129.371 410.131 L147.728 410.131 L147.728 414.066 L133.654 414.066 L133.654 422.538 Q134.672 422.191 135.691 422.029 Q136.709 421.844 137.728 421.844 Q143.515 421.844 146.894 425.015 Q150.274 428.187 150.274 433.603 Q150.274 439.182 146.802 442.284 Q143.33 445.362 137.01 445.362 Q134.834 445.362 132.566 444.992 Q130.32 444.622 127.913 443.881 L127.913 439.182 Q129.996 440.316 132.219 440.872 Q134.441 441.427 136.918 441.427 Q140.922 441.427 143.26 439.321 Q145.598 437.214 145.598 433.603 Q145.598 429.992 143.26 427.886 Q140.922 425.779 136.918 425.779 Q135.043 425.779 133.168 426.196 Q131.316 426.613 129.371 427.492 L129.371 410.131 Z\" fill=\"#000000\" fill-rule=\"evenodd\" fill-opacity=\"1\" /><path clip-path=\"url(#clip280)\" d=\"M53.7467 101.321 L61.3856 101.321 L61.3856 74.9555 L53.0754 76.6222 L53.0754 72.3629 L61.3393 70.6963 L66.0152 70.6963 L66.0152 101.321 L73.654 101.321 L73.654 105.256 L53.7467 105.256 L53.7467 101.321 Z\" fill=\"#000000\" fill-rule=\"evenodd\" fill-opacity=\"1\" /><path clip-path=\"url(#clip280)\" d=\"M83.0984 99.3767 L87.9827 99.3767 L87.9827 105.256 L83.0984 105.256 L83.0984 99.3767 Z\" fill=\"#000000\" fill-rule=\"evenodd\" fill-opacity=\"1\" /><path clip-path=\"url(#clip280)\" d=\"M108.168 73.775 Q104.557 73.775 102.728 77.3398 Q100.922 80.8814 100.922 88.011 Q100.922 95.1174 102.728 98.6822 Q104.557 102.224 108.168 102.224 Q111.802 102.224 113.608 98.6822 Q115.436 95.1174 115.436 88.011 Q115.436 80.8814 113.608 77.3398 Q111.802 73.775 108.168 73.775 M108.168 70.0713 Q113.978 70.0713 117.033 74.6777 Q120.112 79.261 120.112 88.011 Q120.112 96.7378 117.033 101.344 Q113.978 105.928 108.168 105.928 Q102.358 105.928 99.2789 101.344 Q96.2234 96.7378 96.2234 88.011 Q96.2234 79.261 99.2789 74.6777 Q102.358 70.0713 108.168 70.0713 Z\" fill=\"#000000\" fill-rule=\"evenodd\" fill-opacity=\"1\" /><path clip-path=\"url(#clip280)\" d=\"M138.33 73.775 Q134.719 73.775 132.89 77.3398 Q131.084 80.8814 131.084 88.011 Q131.084 95.1174 132.89 98.6822 Q134.719 102.224 138.33 102.224 Q141.964 102.224 143.769 98.6822 Q145.598 95.1174 145.598 88.011 Q145.598 80.8814 143.769 77.3398 Q141.964 73.775 138.33 73.775 M138.33 70.0713 Q144.14 70.0713 147.195 74.6777 Q150.274 79.261 150.274 88.011 Q150.274 96.7378 147.195 101.344 Q144.14 105.928 138.33 105.928 Q132.519 105.928 129.441 101.344 Q126.385 96.7378 126.385 88.011 Q126.385 79.261 129.441 74.6777 Q132.519 70.0713 138.33 70.0713 Z\" fill=\"#000000\" fill-rule=\"evenodd\" fill-opacity=\"1\" /><polyline clip-path=\"url(#clip282)\" style=\"stroke:#009af9; stroke-linecap:butt; stroke-linejoin:round; stroke-width:16; stroke-opacity:1; fill:none\" points=\"\n",
       "  186.274,1445.72 207.431,1445.72 403.063,1445.72 520.629,1445.72 620.03,1445.72 728.007,1445.72 827.552,1445.72 934.276,1445.72 1057.92,1445.72 1167.81,1445.72 \n",
       "  1264.17,1445.72 1369.23,1445.72 1474.91,1445.72 1591.75,1445.72 1702.93,1445.72 1818.52,1445.72 1915.83,1445.72 2034.63,1445.72 2146.31,1445.72 2325.22,1445.72 \n",
       "  2352.76,1445.72 \n",
       "  \"/>\n",
       "<polyline clip-path=\"url(#clip282)\" style=\"stroke:#e26f46; stroke-linecap:butt; stroke-linejoin:round; stroke-width:16; stroke-opacity:1; fill:none\" points=\"\n",
       "  186.274,87.9763 207.431,87.9763 403.063,87.9763 520.629,87.9763 620.03,87.9763 728.007,87.9763 827.552,87.9763 934.276,87.9763 1057.92,87.9763 1167.81,87.9763 \n",
       "  1264.17,87.9763 1369.23,87.9763 1474.91,87.9763 1591.75,87.9763 1702.93,87.9763 1818.52,87.9763 1915.83,87.9763 2034.63,87.9763 2146.31,87.9763 2325.22,87.9763 \n",
       "  2352.76,87.9763 \n",
       "  \"/>\n",
       "<polyline clip-path=\"url(#clip282)\" style=\"stroke:#3da44d; stroke-linecap:butt; stroke-linejoin:round; stroke-width:16; stroke-opacity:1; fill:none\" points=\"\n",
       "  186.274,1445.72 191.563,1445.72 196.853,1445.72 202.142,1445.72 207.431,1445.72 256.339,1445.72 305.247,1445.72 329.701,1445.72 354.155,1445.72 378.609,1427.98 \n",
       "  403.063,1391.19 461.846,1302.78 520.629,1214.36 570.33,1139.61 620.03,1064.86 728.007,902.451 827.552,752.726 934.276,592.205 1057.92,406.226 1112.87,323.588 \n",
       "  1167.81,240.95 1191.9,204.717 1215.99,168.484 1240.08,132.25 1264.17,96.0173 1277.3,99.6871 1290.43,119.439 1303.57,139.191 1316.7,158.943 1342.96,198.447 \n",
       "  1369.23,237.95 1422.07,317.428 1474.91,396.905 1591.75,572.649 1702.93,739.865 1818.52,913.731 1915.83,1060.09 1975.23,1149.43 2034.63,1238.78 2090.47,1322.76 \n",
       "  2146.31,1406.75 2168.67,1440.39 2191.04,1445.72 2213.4,1445.72 2235.76,1445.72 2280.49,1445.72 2325.22,1445.72 2332.11,1445.72 2338.99,1445.72 2345.87,1445.72 \n",
       "  2352.76,1445.72 \n",
       "  \"/>\n",
       "<polyline clip-path=\"url(#clip282)\" style=\"stroke:#c271d2; stroke-linecap:butt; stroke-linejoin:round; stroke-width:16; stroke-opacity:1; fill:none\" points=\"\n",
       "  186.274,1445.72 191.563,1445.72 196.853,1445.72 202.142,1445.72 207.431,1445.72 256.339,1445.72 305.247,1445.72 329.701,1445.72 354.155,1445.72 366.382,1445.72 \n",
       "  378.609,1417.85 390.836,1388.98 403.063,1360.13 461.846,1222.21 520.629,1086.63 570.33,974.875 620.03,866.636 674.019,753.988 728.007,647.441 777.78,555.431 \n",
       "  827.552,470.094 880.914,386.744 934.276,312.518 996.1,238.767 1057.92,178.971 1112.87,138.106 1167.81,109.184 1215.99,93.8613 1264.17,88.035 1316.7,92.5499 \n",
       "  1369.23,108.362 1422.07,135.534 1474.91,173.775 1533.33,228.548 1591.75,295.889 1647.34,370.998 1702.93,456.154 1760.73,554.494 1818.52,661.843 1867.18,758.395 \n",
       "  1915.83,859.871 1975.23,989.376 2034.63,1123.75 2090.47,1253.23 2146.31,1384.53 2157.49,1410.93 2168.67,1437.34 2179.85,1445.72 2191.04,1445.72 2213.4,1445.72 \n",
       "  2235.76,1445.72 2280.49,1445.72 2325.22,1445.72 2332.11,1445.72 2338.99,1445.72 2345.87,1445.72 2352.76,1445.72 \n",
       "  \"/>\n",
       "<polyline clip-path=\"url(#clip282)\" style=\"stroke:#ac8d18; stroke-linecap:butt; stroke-linejoin:round; stroke-width:16; stroke-opacity:1; fill:none\" points=\"\n",
       "  186.274,1445.72 191.563,1445.72 196.853,1445.72 202.142,1445.72 207.431,1445.72 256.339,1445.72 305.247,1445.72 329.701,1445.72 354.155,1445.72 360.268,1445.72 \n",
       "  366.382,1445.72 372.495,1428.68 378.609,1410.47 390.836,1374.42 403.063,1338.86 432.454,1255.44 461.846,1174.89 491.238,1097.22 520.629,1022.43 570.33,902.518 \n",
       "  620.03,790.833 674.019,678.84 728.007,576.559 777.78,490.871 827.552,413.438 880.914,339.591 934.276,275.234 996.1,212.535 1057.92,162.573 1112.87,128.862 \n",
       "  1167.81,105.211 1215.99,92.75 1264.17,88.0239 1316.7,91.6856 1369.23,104.542 1422.07,126.752 1474.91,158.267 1533.33,203.942 1591.75,260.99 1647.34,325.83 \n",
       "  1702.93,400.967 1760.73,490.011 1818.52,590.187 1867.18,683.144 1915.83,783.989 1975.23,917.805 2034.63,1063.38 2062.55,1135.86 2090.47,1210.94 2118.39,1288.62 \n",
       "  2146.31,1368.9 2157.49,1401.78 2168.67,1435.08 2179.85,1445.72 2191.04,1445.72 2213.4,1445.72 2235.76,1445.72 2280.49,1445.72 2325.22,1445.72 2332.11,1445.72 \n",
       "  2338.99,1445.72 2345.87,1445.72 2352.76,1445.72 \n",
       "  \"/>\n",
       "<polyline clip-path=\"url(#clip282)\" style=\"stroke:#00a9ad; stroke-linecap:butt; stroke-linejoin:round; stroke-width:16; stroke-opacity:1; fill:none\" points=\"\n",
       "  186.274,1445.72 191.563,1445.72 196.853,1445.72 202.142,1445.72 207.431,1445.72 256.339,1445.72 305.247,1445.72 329.701,1445.72 354.155,1445.72 360.268,1445.72 \n",
       "  366.382,1445.72 372.495,1428.63 378.609,1410.24 390.836,1373.45 403.063,1336.67 461.846,1159.84 520.629,983.014 570.33,833.507 620.03,683.999 674.019,521.592 \n",
       "  728.007,359.185 752.893,284.323 777.78,209.461 790.223,172.029 802.666,134.598 808.888,115.883 815.109,97.1671 821.331,87.9763 827.552,87.9763 854.233,87.9763 \n",
       "  880.914,87.9763 907.595,87.9763 934.276,87.9763 996.1,87.9763 1057.92,87.9763 1167.81,87.9763 1264.17,87.9763 1369.23,87.9763 1474.91,87.9763 1533.33,87.9763 \n",
       "  1591.75,87.9763 1647.34,87.9763 1702.93,87.9763 1710.15,87.9763 1717.38,87.9763 1724.6,99.2148 1731.83,120.948 1746.28,164.415 1760.73,207.881 1789.62,294.814 \n",
       "  1818.52,381.747 1867.18,528.106 1915.83,674.464 1975.23,853.151 2034.63,1031.84 2090.47,1199.81 2146.31,1367.78 2157.49,1401.42 2168.67,1435.05 2179.85,1445.72 \n",
       "  2191.04,1445.72 2213.4,1445.72 2235.76,1445.72 2280.49,1445.72 2325.22,1445.72 2332.11,1445.72 2338.99,1445.72 2345.87,1445.72 2352.76,1445.72 \n",
       "  \"/>\n",
       "<path clip-path=\"url(#clip280)\" d=\"\n",
       "M1725.93 458.098 L2280.54 458.098 L2280.54 95.2176 L1725.93 95.2176  Z\n",
       "  \" fill=\"#ffffff\" fill-rule=\"evenodd\" fill-opacity=\"1\"/>\n",
       "<polyline clip-path=\"url(#clip280)\" style=\"stroke:#000000; stroke-linecap:butt; stroke-linejoin:round; stroke-width:4; stroke-opacity:1; fill:none\" points=\"\n",
       "  1725.93,458.098 2280.54,458.098 2280.54,95.2176 1725.93,95.2176 1725.93,458.098 \n",
       "  \"/>\n",
       "<polyline clip-path=\"url(#clip280)\" style=\"stroke:#009af9; stroke-linecap:butt; stroke-linejoin:round; stroke-width:4; stroke-opacity:1; fill:none\" points=\"\n",
       "  1750,147.058 1894.44,147.058 \n",
       "  \"/>\n",
       "<path clip-path=\"url(#clip280)\" d=\"M1918.51 128.319 L1922.77 128.319 L1922.77 164.338 L1918.51 164.338 L1918.51 128.319 Z\" fill=\"#000000\" fill-rule=\"evenodd\" fill-opacity=\"1\" /><path clip-path=\"url(#clip280)\" d=\"M1931.68 138.412 L1935.94 138.412 L1935.94 164.338 L1931.68 164.338 L1931.68 138.412 M1931.68 128.319 L1935.94 128.319 L1935.94 133.713 L1931.68 133.713 L1931.68 128.319 Z\" fill=\"#000000\" fill-rule=\"evenodd\" fill-opacity=\"1\" /><path clip-path=\"url(#clip280)\" d=\"M1965.04 143.389 Q1966.63 140.518 1968.86 139.153 Q1971.08 137.787 1974.09 137.787 Q1978.14 137.787 1980.34 140.634 Q1982.54 143.458 1982.54 148.689 L1982.54 164.338 L1978.25 164.338 L1978.25 148.828 Q1978.25 145.102 1976.93 143.296 Q1975.61 141.49 1972.91 141.49 Q1969.6 141.49 1967.67 143.69 Q1965.75 145.889 1965.75 149.685 L1965.75 164.338 L1961.47 164.338 L1961.47 148.828 Q1961.47 145.078 1960.15 143.296 Q1958.83 141.49 1956.08 141.49 Q1952.81 141.49 1950.89 143.713 Q1948.97 145.912 1948.97 149.685 L1948.97 164.338 L1944.69 164.338 L1944.69 138.412 L1948.97 138.412 L1948.97 142.44 Q1950.43 140.055 1952.47 138.921 Q1954.5 137.787 1957.3 137.787 Q1960.13 137.787 1962.1 139.222 Q1964.09 140.657 1965.04 143.389 Z\" fill=\"#000000\" fill-rule=\"evenodd\" fill-opacity=\"1\" /><path clip-path=\"url(#clip280)\" d=\"M1991.03 138.412 L1995.29 138.412 L1995.29 164.338 L1991.03 164.338 L1991.03 138.412 M1991.03 128.319 L1995.29 128.319 L1995.29 133.713 L1991.03 133.713 L1991.03 128.319 Z\" fill=\"#000000\" fill-rule=\"evenodd\" fill-opacity=\"1\" /><path clip-path=\"url(#clip280)\" d=\"M2008.42 131.051 L2008.42 138.412 L2017.19 138.412 L2017.19 141.722 L2008.42 141.722 L2008.42 155.796 Q2008.42 158.967 2009.27 159.87 Q2010.15 160.773 2012.81 160.773 L2017.19 160.773 L2017.19 164.338 L2012.81 164.338 Q2007.88 164.338 2006.01 162.509 Q2004.13 160.657 2004.13 155.796 L2004.13 141.722 L2001.01 141.722 L2001.01 138.412 L2004.13 138.412 L2004.13 131.051 L2008.42 131.051 Z\" fill=\"#000000\" fill-rule=\"evenodd\" fill-opacity=\"1\" /><path clip-path=\"url(#clip280)\" d=\"M2042.49 172.208 L2042.49 175.518 L2017.86 175.518 L2017.86 172.208 L2042.49 172.208 Z\" fill=\"#000000\" fill-rule=\"evenodd\" fill-opacity=\"1\" /><path clip-path=\"url(#clip280)\" d=\"M2044.64 138.412 L2064.87 138.412 L2064.87 142.301 L2048.86 160.935 L2064.87 160.935 L2064.87 164.338 L2044.06 164.338 L2044.06 160.449 L2060.08 141.815 L2044.64 141.815 L2044.64 138.412 Z\" fill=\"#000000\" fill-rule=\"evenodd\" fill-opacity=\"1\" /><path clip-path=\"url(#clip280)\" d=\"M2093.55 150.31 L2093.55 152.393 L2073.97 152.393 Q2074.25 156.791 2076.61 159.106 Q2078.99 161.398 2083.23 161.398 Q2085.68 161.398 2087.98 160.796 Q2090.29 160.194 2092.56 158.99 L2092.56 163.018 Q2090.27 163.99 2087.86 164.5 Q2085.45 165.009 2082.98 165.009 Q2076.77 165.009 2073.14 161.398 Q2069.53 157.787 2069.53 151.629 Q2069.53 145.264 2072.95 141.537 Q2076.4 137.787 2082.23 137.787 Q2087.47 137.787 2090.5 141.166 Q2093.55 144.523 2093.55 150.31 M2089.29 149.06 Q2089.25 145.565 2087.33 143.481 Q2085.43 141.398 2082.28 141.398 Q2078.72 141.398 2076.56 143.412 Q2074.43 145.426 2074.11 149.083 L2089.29 149.06 Z\" fill=\"#000000\" fill-rule=\"evenodd\" fill-opacity=\"1\" /><path clip-path=\"url(#clip280)\" d=\"M2115.57 142.393 Q2114.85 141.977 2113.99 141.791 Q2113.16 141.583 2112.14 141.583 Q2108.53 141.583 2106.59 143.944 Q2104.67 146.282 2104.67 150.68 L2104.67 164.338 L2100.38 164.338 L2100.38 138.412 L2104.67 138.412 L2104.67 142.44 Q2106.01 140.078 2108.16 138.944 Q2110.31 137.787 2113.39 137.787 Q2113.83 137.787 2114.36 137.856 Q2114.9 137.903 2115.54 138.018 L2115.57 142.393 Z\" fill=\"#000000\" fill-rule=\"evenodd\" fill-opacity=\"1\" /><path clip-path=\"url(#clip280)\" d=\"M2129.04 141.398 Q2125.61 141.398 2123.62 144.083 Q2121.63 146.745 2121.63 151.398 Q2121.63 156.051 2123.6 158.736 Q2125.59 161.398 2129.04 161.398 Q2132.44 161.398 2134.43 158.713 Q2136.42 156.027 2136.42 151.398 Q2136.42 146.791 2134.43 144.106 Q2132.44 141.398 2129.04 141.398 M2129.04 137.787 Q2134.6 137.787 2137.77 141.398 Q2140.94 145.009 2140.94 151.398 Q2140.94 157.764 2137.77 161.398 Q2134.6 165.009 2129.04 165.009 Q2123.46 165.009 2120.29 161.398 Q2117.14 157.764 2117.14 151.398 Q2117.14 145.009 2120.29 141.398 Q2123.46 137.787 2129.04 137.787 Z\" fill=\"#000000\" fill-rule=\"evenodd\" fill-opacity=\"1\" /><polyline clip-path=\"url(#clip280)\" style=\"stroke:#e26f46; stroke-linecap:butt; stroke-linejoin:round; stroke-width:4; stroke-opacity:1; fill:none\" points=\"\n",
       "  1750,198.898 1894.44,198.898 \n",
       "  \"/>\n",
       "<path clip-path=\"url(#clip280)\" d=\"M1918.51 180.159 L1922.77 180.159 L1922.77 216.178 L1918.51 216.178 L1918.51 180.159 Z\" fill=\"#000000\" fill-rule=\"evenodd\" fill-opacity=\"1\" /><path clip-path=\"url(#clip280)\" d=\"M1931.68 190.252 L1935.94 190.252 L1935.94 216.178 L1931.68 216.178 L1931.68 190.252 M1931.68 180.159 L1935.94 180.159 L1935.94 185.553 L1931.68 185.553 L1931.68 180.159 Z\" fill=\"#000000\" fill-rule=\"evenodd\" fill-opacity=\"1\" /><path clip-path=\"url(#clip280)\" d=\"M1965.04 195.229 Q1966.63 192.358 1968.86 190.993 Q1971.08 189.627 1974.09 189.627 Q1978.14 189.627 1980.34 192.474 Q1982.54 195.298 1982.54 200.529 L1982.54 216.178 L1978.25 216.178 L1978.25 200.668 Q1978.25 196.942 1976.93 195.136 Q1975.61 193.33 1972.91 193.33 Q1969.6 193.33 1967.67 195.53 Q1965.75 197.729 1965.75 201.525 L1965.75 216.178 L1961.47 216.178 L1961.47 200.668 Q1961.47 196.918 1960.15 195.136 Q1958.83 193.33 1956.08 193.33 Q1952.81 193.33 1950.89 195.553 Q1948.97 197.752 1948.97 201.525 L1948.97 216.178 L1944.69 216.178 L1944.69 190.252 L1948.97 190.252 L1948.97 194.28 Q1950.43 191.895 1952.47 190.761 Q1954.5 189.627 1957.3 189.627 Q1960.13 189.627 1962.1 191.062 Q1964.09 192.497 1965.04 195.229 Z\" fill=\"#000000\" fill-rule=\"evenodd\" fill-opacity=\"1\" /><path clip-path=\"url(#clip280)\" d=\"M1991.03 190.252 L1995.29 190.252 L1995.29 216.178 L1991.03 216.178 L1991.03 190.252 M1991.03 180.159 L1995.29 180.159 L1995.29 185.553 L1991.03 185.553 L1991.03 180.159 Z\" fill=\"#000000\" fill-rule=\"evenodd\" fill-opacity=\"1\" /><path clip-path=\"url(#clip280)\" d=\"M2008.42 182.891 L2008.42 190.252 L2017.19 190.252 L2017.19 193.562 L2008.42 193.562 L2008.42 207.636 Q2008.42 210.807 2009.27 211.71 Q2010.15 212.613 2012.81 212.613 L2017.19 212.613 L2017.19 216.178 L2012.81 216.178 Q2007.88 216.178 2006.01 214.349 Q2004.13 212.497 2004.13 207.636 L2004.13 193.562 L2001.01 193.562 L2001.01 190.252 L2004.13 190.252 L2004.13 182.891 L2008.42 182.891 Z\" fill=\"#000000\" fill-rule=\"evenodd\" fill-opacity=\"1\" /><path clip-path=\"url(#clip280)\" d=\"M2042.49 224.048 L2042.49 227.358 L2017.86 227.358 L2017.86 224.048 L2042.49 224.048 Z\" fill=\"#000000\" fill-rule=\"evenodd\" fill-opacity=\"1\" /><path clip-path=\"url(#clip280)\" d=\"M2068.04 200.529 L2068.04 216.178 L2063.79 216.178 L2063.79 200.668 Q2063.79 196.988 2062.35 195.159 Q2060.92 193.33 2058.04 193.33 Q2054.6 193.33 2052.61 195.53 Q2050.61 197.729 2050.61 201.525 L2050.61 216.178 L2046.33 216.178 L2046.33 190.252 L2050.61 190.252 L2050.61 194.28 Q2052.14 191.942 2054.2 190.784 Q2056.29 189.627 2058.99 189.627 Q2063.46 189.627 2065.75 192.405 Q2068.04 195.159 2068.04 200.529 Z\" fill=\"#000000\" fill-rule=\"evenodd\" fill-opacity=\"1\" /><path clip-path=\"url(#clip280)\" d=\"M2086.59 193.238 Q2083.16 193.238 2081.17 195.923 Q2079.18 198.585 2079.18 203.238 Q2079.18 207.891 2081.15 210.576 Q2083.14 213.238 2086.59 213.238 Q2089.99 213.238 2091.98 210.553 Q2093.97 207.867 2093.97 203.238 Q2093.97 198.631 2091.98 195.946 Q2089.99 193.238 2086.59 193.238 M2086.59 189.627 Q2092.14 189.627 2095.31 193.238 Q2098.48 196.849 2098.48 203.238 Q2098.48 209.604 2095.31 213.238 Q2092.14 216.849 2086.59 216.849 Q2081.01 216.849 2077.84 213.238 Q2074.69 209.604 2074.69 203.238 Q2074.69 196.849 2077.84 193.238 Q2081.01 189.627 2086.59 189.627 Z\" fill=\"#000000\" fill-rule=\"evenodd\" fill-opacity=\"1\" /><path clip-path=\"url(#clip280)\" d=\"M2127.1 200.529 L2127.1 216.178 L2122.84 216.178 L2122.84 200.668 Q2122.84 196.988 2121.4 195.159 Q2119.97 193.33 2117.1 193.33 Q2113.65 193.33 2111.66 195.53 Q2109.66 197.729 2109.66 201.525 L2109.66 216.178 L2105.38 216.178 L2105.38 190.252 L2109.66 190.252 L2109.66 194.28 Q2111.19 191.942 2113.25 190.784 Q2115.34 189.627 2118.04 189.627 Q2122.51 189.627 2124.8 192.405 Q2127.1 195.159 2127.1 200.529 Z\" fill=\"#000000\" fill-rule=\"evenodd\" fill-opacity=\"1\" /><path clip-path=\"url(#clip280)\" d=\"M2157.77 202.15 L2157.77 204.233 L2138.18 204.233 Q2138.46 208.631 2140.82 210.946 Q2143.21 213.238 2147.44 213.238 Q2149.9 213.238 2152.19 212.636 Q2154.5 212.034 2156.77 210.83 L2156.77 214.858 Q2154.48 215.83 2152.07 216.34 Q2149.66 216.849 2147.19 216.849 Q2140.98 216.849 2137.35 213.238 Q2133.74 209.627 2133.74 203.469 Q2133.74 197.104 2137.16 193.377 Q2140.61 189.627 2146.45 189.627 Q2151.68 189.627 2154.71 193.006 Q2157.77 196.363 2157.77 202.15 M2153.51 200.9 Q2153.46 197.405 2151.54 195.321 Q2149.64 193.238 2146.49 193.238 Q2142.93 193.238 2140.78 195.252 Q2138.65 197.266 2138.32 200.923 L2153.51 200.9 Z\" fill=\"#000000\" fill-rule=\"evenodd\" fill-opacity=\"1\" /><polyline clip-path=\"url(#clip280)\" style=\"stroke:#3da44d; stroke-linecap:butt; stroke-linejoin:round; stroke-width:4; stroke-opacity:1; fill:none\" points=\"\n",
       "  1750,250.738 1894.44,250.738 \n",
       "  \"/>\n",
       "<path clip-path=\"url(#clip280)\" d=\"M1918.51 231.999 L1922.77 231.999 L1922.77 268.018 L1918.51 268.018 L1918.51 231.999 Z\" fill=\"#000000\" fill-rule=\"evenodd\" fill-opacity=\"1\" /><path clip-path=\"url(#clip280)\" d=\"M1931.68 242.092 L1935.94 242.092 L1935.94 268.018 L1931.68 268.018 L1931.68 242.092 M1931.68 231.999 L1935.94 231.999 L1935.94 237.393 L1931.68 237.393 L1931.68 231.999 Z\" fill=\"#000000\" fill-rule=\"evenodd\" fill-opacity=\"1\" /><path clip-path=\"url(#clip280)\" d=\"M1965.04 247.069 Q1966.63 244.198 1968.86 242.833 Q1971.08 241.467 1974.09 241.467 Q1978.14 241.467 1980.34 244.314 Q1982.54 247.138 1982.54 252.369 L1982.54 268.018 L1978.25 268.018 L1978.25 252.508 Q1978.25 248.782 1976.93 246.976 Q1975.61 245.17 1972.91 245.17 Q1969.6 245.17 1967.67 247.37 Q1965.75 249.569 1965.75 253.365 L1965.75 268.018 L1961.47 268.018 L1961.47 252.508 Q1961.47 248.758 1960.15 246.976 Q1958.83 245.17 1956.08 245.17 Q1952.81 245.17 1950.89 247.393 Q1948.97 249.592 1948.97 253.365 L1948.97 268.018 L1944.69 268.018 L1944.69 242.092 L1948.97 242.092 L1948.97 246.12 Q1950.43 243.735 1952.47 242.601 Q1954.5 241.467 1957.3 241.467 Q1960.13 241.467 1962.1 242.902 Q1964.09 244.337 1965.04 247.069 Z\" fill=\"#000000\" fill-rule=\"evenodd\" fill-opacity=\"1\" /><path clip-path=\"url(#clip280)\" d=\"M1991.03 242.092 L1995.29 242.092 L1995.29 268.018 L1991.03 268.018 L1991.03 242.092 M1991.03 231.999 L1995.29 231.999 L1995.29 237.393 L1991.03 237.393 L1991.03 231.999 Z\" fill=\"#000000\" fill-rule=\"evenodd\" fill-opacity=\"1\" /><path clip-path=\"url(#clip280)\" d=\"M2008.42 234.731 L2008.42 242.092 L2017.19 242.092 L2017.19 245.402 L2008.42 245.402 L2008.42 259.476 Q2008.42 262.647 2009.27 263.55 Q2010.15 264.453 2012.81 264.453 L2017.19 264.453 L2017.19 268.018 L2012.81 268.018 Q2007.88 268.018 2006.01 266.189 Q2004.13 264.337 2004.13 259.476 L2004.13 245.402 L2001.01 245.402 L2001.01 242.092 L2004.13 242.092 L2004.13 234.731 L2008.42 234.731 Z\" fill=\"#000000\" fill-rule=\"evenodd\" fill-opacity=\"1\" /><path clip-path=\"url(#clip280)\" d=\"M2042.49 275.888 L2042.49 279.198 L2017.86 279.198 L2017.86 275.888 L2042.49 275.888 Z\" fill=\"#000000\" fill-rule=\"evenodd\" fill-opacity=\"1\" /><path clip-path=\"url(#clip280)\" d=\"M2066.68 247.069 Q2068.28 244.198 2070.5 242.833 Q2072.72 241.467 2075.73 241.467 Q2079.78 241.467 2081.98 244.314 Q2084.18 247.138 2084.18 252.369 L2084.18 268.018 L2079.9 268.018 L2079.9 252.508 Q2079.9 248.782 2078.58 246.976 Q2077.26 245.17 2074.55 245.17 Q2071.24 245.17 2069.32 247.37 Q2067.4 249.569 2067.4 253.365 L2067.4 268.018 L2063.11 268.018 L2063.11 252.508 Q2063.11 248.758 2061.79 246.976 Q2060.48 245.17 2057.72 245.17 Q2054.46 245.17 2052.54 247.393 Q2050.61 249.592 2050.61 253.365 L2050.61 268.018 L2046.33 268.018 L2046.33 242.092 L2050.61 242.092 L2050.61 246.12 Q2052.07 243.735 2054.11 242.601 Q2056.15 241.467 2058.95 241.467 Q2061.77 241.467 2063.74 242.902 Q2065.73 244.337 2066.68 247.069 Z\" fill=\"#000000\" fill-rule=\"evenodd\" fill-opacity=\"1\" /><path clip-path=\"url(#clip280)\" d=\"M2092.67 242.092 L2096.93 242.092 L2096.93 268.018 L2092.67 268.018 L2092.67 242.092 M2092.67 231.999 L2096.93 231.999 L2096.93 237.393 L2092.67 237.393 L2092.67 231.999 Z\" fill=\"#000000\" fill-rule=\"evenodd\" fill-opacity=\"1\" /><path clip-path=\"url(#clip280)\" d=\"M2127.4 252.369 L2127.4 268.018 L2123.14 268.018 L2123.14 252.508 Q2123.14 248.828 2121.7 246.999 Q2120.27 245.17 2117.4 245.17 Q2113.95 245.17 2111.96 247.37 Q2109.97 249.569 2109.97 253.365 L2109.97 268.018 L2105.68 268.018 L2105.68 242.092 L2109.97 242.092 L2109.97 246.12 Q2111.49 243.782 2113.55 242.624 Q2115.64 241.467 2118.35 241.467 Q2122.81 241.467 2125.1 244.245 Q2127.4 246.999 2127.4 252.369 Z\" fill=\"#000000\" fill-rule=\"evenodd\" fill-opacity=\"1\" /><path clip-path=\"url(#clip280)\" d=\"M2156.08 247.069 Q2157.67 244.198 2159.9 242.833 Q2162.12 241.467 2165.13 241.467 Q2169.18 241.467 2171.38 244.314 Q2173.58 247.138 2173.58 252.369 L2173.58 268.018 L2169.29 268.018 L2169.29 252.508 Q2169.29 248.782 2167.97 246.976 Q2166.66 245.17 2163.95 245.17 Q2160.64 245.17 2158.72 247.37 Q2156.79 249.569 2156.79 253.365 L2156.79 268.018 L2152.51 268.018 L2152.51 252.508 Q2152.51 248.758 2151.19 246.976 Q2149.87 245.17 2147.12 245.17 Q2143.85 245.17 2141.93 247.393 Q2140.01 249.592 2140.01 253.365 L2140.01 268.018 L2135.73 268.018 L2135.73 242.092 L2140.01 242.092 L2140.01 246.12 Q2141.47 243.735 2143.51 242.601 Q2145.54 241.467 2148.35 241.467 Q2151.17 241.467 2153.14 242.902 Q2155.13 244.337 2156.08 247.069 Z\" fill=\"#000000\" fill-rule=\"evenodd\" fill-opacity=\"1\" /><path clip-path=\"url(#clip280)\" d=\"M2192.12 245.078 Q2188.69 245.078 2186.7 247.763 Q2184.71 250.425 2184.71 255.078 Q2184.71 259.731 2186.68 262.416 Q2188.67 265.078 2192.12 265.078 Q2195.52 265.078 2197.51 262.393 Q2199.5 259.707 2199.5 255.078 Q2199.5 250.471 2197.51 247.786 Q2195.52 245.078 2192.12 245.078 M2192.12 241.467 Q2197.67 241.467 2200.85 245.078 Q2204.02 248.689 2204.02 255.078 Q2204.02 261.444 2200.85 265.078 Q2197.67 268.689 2192.12 268.689 Q2186.54 268.689 2183.37 265.078 Q2180.22 261.444 2180.22 255.078 Q2180.22 248.689 2183.37 245.078 Q2186.54 241.467 2192.12 241.467 Z\" fill=\"#000000\" fill-rule=\"evenodd\" fill-opacity=\"1\" /><path clip-path=\"url(#clip280)\" d=\"M2228.14 246.027 L2228.14 231.999 L2232.4 231.999 L2232.4 268.018 L2228.14 268.018 L2228.14 264.129 Q2226.79 266.443 2224.73 267.578 Q2222.7 268.689 2219.83 268.689 Q2215.13 268.689 2212.16 264.939 Q2209.22 261.189 2209.22 255.078 Q2209.22 248.967 2212.16 245.217 Q2215.13 241.467 2219.83 241.467 Q2222.7 241.467 2224.73 242.601 Q2226.79 243.712 2228.14 246.027 M2213.62 255.078 Q2213.62 259.777 2215.54 262.462 Q2217.49 265.124 2220.87 265.124 Q2224.25 265.124 2226.19 262.462 Q2228.14 259.777 2228.14 255.078 Q2228.14 250.379 2226.19 247.717 Q2224.25 245.032 2220.87 245.032 Q2217.49 245.032 2215.54 247.717 Q2213.62 250.379 2213.62 255.078 Z\" fill=\"#000000\" fill-rule=\"evenodd\" fill-opacity=\"1\" /><polyline clip-path=\"url(#clip280)\" style=\"stroke:#c271d2; stroke-linecap:butt; stroke-linejoin:round; stroke-width:4; stroke-opacity:1; fill:none\" points=\"\n",
       "  1750,302.578 1894.44,302.578 \n",
       "  \"/>\n",
       "<path clip-path=\"url(#clip280)\" d=\"M1918.51 283.839 L1922.77 283.839 L1922.77 319.858 L1918.51 319.858 L1918.51 283.839 Z\" fill=\"#000000\" fill-rule=\"evenodd\" fill-opacity=\"1\" /><path clip-path=\"url(#clip280)\" d=\"M1931.68 293.932 L1935.94 293.932 L1935.94 319.858 L1931.68 319.858 L1931.68 293.932 M1931.68 283.839 L1935.94 283.839 L1935.94 289.233 L1931.68 289.233 L1931.68 283.839 Z\" fill=\"#000000\" fill-rule=\"evenodd\" fill-opacity=\"1\" /><path clip-path=\"url(#clip280)\" d=\"M1965.04 298.909 Q1966.63 296.038 1968.86 294.673 Q1971.08 293.307 1974.09 293.307 Q1978.14 293.307 1980.34 296.154 Q1982.54 298.978 1982.54 304.209 L1982.54 319.858 L1978.25 319.858 L1978.25 304.348 Q1978.25 300.622 1976.93 298.816 Q1975.61 297.01 1972.91 297.01 Q1969.6 297.01 1967.67 299.21 Q1965.75 301.409 1965.75 305.205 L1965.75 319.858 L1961.47 319.858 L1961.47 304.348 Q1961.47 300.598 1960.15 298.816 Q1958.83 297.01 1956.08 297.01 Q1952.81 297.01 1950.89 299.233 Q1948.97 301.432 1948.97 305.205 L1948.97 319.858 L1944.69 319.858 L1944.69 293.932 L1948.97 293.932 L1948.97 297.96 Q1950.43 295.575 1952.47 294.441 Q1954.5 293.307 1957.3 293.307 Q1960.13 293.307 1962.1 294.742 Q1964.09 296.177 1965.04 298.909 Z\" fill=\"#000000\" fill-rule=\"evenodd\" fill-opacity=\"1\" /><path clip-path=\"url(#clip280)\" d=\"M1991.03 293.932 L1995.29 293.932 L1995.29 319.858 L1991.03 319.858 L1991.03 293.932 M1991.03 283.839 L1995.29 283.839 L1995.29 289.233 L1991.03 289.233 L1991.03 283.839 Z\" fill=\"#000000\" fill-rule=\"evenodd\" fill-opacity=\"1\" /><path clip-path=\"url(#clip280)\" d=\"M2008.42 286.571 L2008.42 293.932 L2017.19 293.932 L2017.19 297.242 L2008.42 297.242 L2008.42 311.316 Q2008.42 314.487 2009.27 315.39 Q2010.15 316.293 2012.81 316.293 L2017.19 316.293 L2017.19 319.858 L2012.81 319.858 Q2007.88 319.858 2006.01 318.029 Q2004.13 316.177 2004.13 311.316 L2004.13 297.242 L2001.01 297.242 L2001.01 293.932 L2004.13 293.932 L2004.13 286.571 L2008.42 286.571 Z\" fill=\"#000000\" fill-rule=\"evenodd\" fill-opacity=\"1\" /><path clip-path=\"url(#clip280)\" d=\"M2042.49 327.728 L2042.49 331.038 L2017.86 331.038 L2017.86 327.728 L2042.49 327.728 Z\" fill=\"#000000\" fill-rule=\"evenodd\" fill-opacity=\"1\" /><path clip-path=\"url(#clip280)\" d=\"M2063.02 294.696 L2063.02 298.723 Q2061.22 297.797 2059.27 297.335 Q2057.33 296.872 2055.24 296.872 Q2052.07 296.872 2050.48 297.844 Q2048.9 298.816 2048.9 300.76 Q2048.9 302.242 2050.04 303.098 Q2051.17 303.932 2054.6 304.696 L2056.05 305.02 Q2060.59 305.992 2062.49 307.774 Q2064.41 309.534 2064.41 312.705 Q2064.41 316.316 2061.54 318.422 Q2058.69 320.529 2053.69 320.529 Q2051.61 320.529 2049.34 320.112 Q2047.1 319.719 2044.6 318.908 L2044.6 314.51 Q2046.96 315.737 2049.25 316.362 Q2051.54 316.964 2053.79 316.964 Q2056.79 316.964 2058.42 315.946 Q2060.04 314.904 2060.04 313.029 Q2060.04 311.293 2058.86 310.367 Q2057.7 309.441 2053.74 308.584 L2052.26 308.237 Q2048.3 307.404 2046.54 305.691 Q2044.78 303.955 2044.78 300.946 Q2044.78 297.288 2047.37 295.298 Q2049.97 293.307 2054.73 293.307 Q2057.1 293.307 2059.18 293.654 Q2061.26 294.001 2063.02 294.696 Z\" fill=\"#000000\" fill-rule=\"evenodd\" fill-opacity=\"1\" /><path clip-path=\"url(#clip280)\" d=\"M2071.19 293.932 L2075.45 293.932 L2075.45 319.858 L2071.19 319.858 L2071.19 293.932 M2071.19 283.839 L2075.45 283.839 L2075.45 289.233 L2071.19 289.233 L2071.19 283.839 Z\" fill=\"#000000\" fill-rule=\"evenodd\" fill-opacity=\"1\" /><path clip-path=\"url(#clip280)\" d=\"M2105.91 304.209 L2105.91 319.858 L2101.66 319.858 L2101.66 304.348 Q2101.66 300.668 2100.22 298.839 Q2098.79 297.01 2095.92 297.01 Q2092.47 297.01 2090.48 299.21 Q2088.48 301.409 2088.48 305.205 L2088.48 319.858 L2084.2 319.858 L2084.2 293.932 L2088.48 293.932 L2088.48 297.96 Q2090.01 295.622 2092.07 294.464 Q2094.16 293.307 2096.86 293.307 Q2101.33 293.307 2103.62 296.085 Q2105.91 298.839 2105.91 304.209 Z\" fill=\"#000000\" fill-rule=\"evenodd\" fill-opacity=\"1\" /><polyline clip-path=\"url(#clip280)\" style=\"stroke:#ac8d18; stroke-linecap:butt; stroke-linejoin:round; stroke-width:4; stroke-opacity:1; fill:none\" points=\"\n",
       "  1750,354.418 1894.44,354.418 \n",
       "  \"/>\n",
       "<path clip-path=\"url(#clip280)\" d=\"M1918.51 335.679 L1922.77 335.679 L1922.77 371.698 L1918.51 371.698 L1918.51 335.679 Z\" fill=\"#000000\" fill-rule=\"evenodd\" fill-opacity=\"1\" /><path clip-path=\"url(#clip280)\" d=\"M1931.68 345.772 L1935.94 345.772 L1935.94 371.698 L1931.68 371.698 L1931.68 345.772 M1931.68 335.679 L1935.94 335.679 L1935.94 341.073 L1931.68 341.073 L1931.68 335.679 Z\" fill=\"#000000\" fill-rule=\"evenodd\" fill-opacity=\"1\" /><path clip-path=\"url(#clip280)\" d=\"M1965.04 350.749 Q1966.63 347.878 1968.86 346.513 Q1971.08 345.147 1974.09 345.147 Q1978.14 345.147 1980.34 347.994 Q1982.54 350.818 1982.54 356.049 L1982.54 371.698 L1978.25 371.698 L1978.25 356.188 Q1978.25 352.462 1976.93 350.656 Q1975.61 348.85 1972.91 348.85 Q1969.6 348.85 1967.67 351.05 Q1965.75 353.249 1965.75 357.045 L1965.75 371.698 L1961.47 371.698 L1961.47 356.188 Q1961.47 352.438 1960.15 350.656 Q1958.83 348.85 1956.08 348.85 Q1952.81 348.85 1950.89 351.073 Q1948.97 353.272 1948.97 357.045 L1948.97 371.698 L1944.69 371.698 L1944.69 345.772 L1948.97 345.772 L1948.97 349.8 Q1950.43 347.415 1952.47 346.281 Q1954.5 345.147 1957.3 345.147 Q1960.13 345.147 1962.1 346.582 Q1964.09 348.017 1965.04 350.749 Z\" fill=\"#000000\" fill-rule=\"evenodd\" fill-opacity=\"1\" /><path clip-path=\"url(#clip280)\" d=\"M1991.03 345.772 L1995.29 345.772 L1995.29 371.698 L1991.03 371.698 L1991.03 345.772 M1991.03 335.679 L1995.29 335.679 L1995.29 341.073 L1991.03 341.073 L1991.03 335.679 Z\" fill=\"#000000\" fill-rule=\"evenodd\" fill-opacity=\"1\" /><path clip-path=\"url(#clip280)\" d=\"M2008.42 338.411 L2008.42 345.772 L2017.19 345.772 L2017.19 349.082 L2008.42 349.082 L2008.42 363.156 Q2008.42 366.327 2009.27 367.23 Q2010.15 368.133 2012.81 368.133 L2017.19 368.133 L2017.19 371.698 L2012.81 371.698 Q2007.88 371.698 2006.01 369.869 Q2004.13 368.017 2004.13 363.156 L2004.13 349.082 L2001.01 349.082 L2001.01 345.772 L2004.13 345.772 L2004.13 338.411 L2008.42 338.411 Z\" fill=\"#000000\" fill-rule=\"evenodd\" fill-opacity=\"1\" /><path clip-path=\"url(#clip280)\" d=\"M2042.49 379.568 L2042.49 382.878 L2017.86 382.878 L2017.86 379.568 L2042.49 379.568 Z\" fill=\"#000000\" fill-rule=\"evenodd\" fill-opacity=\"1\" /><path clip-path=\"url(#clip280)\" d=\"M2043.44 345.772 L2047.95 345.772 L2056.05 367.531 L2064.16 345.772 L2068.67 345.772 L2058.95 371.698 L2053.16 371.698 L2043.44 345.772 Z\" fill=\"#000000\" fill-rule=\"evenodd\" fill-opacity=\"1\" /><path clip-path=\"url(#clip280)\" d=\"M2074.55 335.679 L2078.81 335.679 L2078.81 371.698 L2074.55 371.698 L2074.55 335.679 Z\" fill=\"#000000\" fill-rule=\"evenodd\" fill-opacity=\"1\" /><polyline clip-path=\"url(#clip280)\" style=\"stroke:#00a9ad; stroke-linecap:butt; stroke-linejoin:round; stroke-width:4; stroke-opacity:1; fill:none\" points=\"\n",
       "  1750,406.258 1894.44,406.258 \n",
       "  \"/>\n",
       "<path clip-path=\"url(#clip280)\" d=\"M1918.51 387.519 L1922.77 387.519 L1922.77 423.538 L1918.51 423.538 L1918.51 387.519 Z\" fill=\"#000000\" fill-rule=\"evenodd\" fill-opacity=\"1\" /><path clip-path=\"url(#clip280)\" d=\"M1931.68 397.612 L1935.94 397.612 L1935.94 423.538 L1931.68 423.538 L1931.68 397.612 M1931.68 387.519 L1935.94 387.519 L1935.94 392.913 L1931.68 392.913 L1931.68 387.519 Z\" fill=\"#000000\" fill-rule=\"evenodd\" fill-opacity=\"1\" /><path clip-path=\"url(#clip280)\" d=\"M1965.04 402.589 Q1966.63 399.718 1968.86 398.353 Q1971.08 396.987 1974.09 396.987 Q1978.14 396.987 1980.34 399.834 Q1982.54 402.658 1982.54 407.889 L1982.54 423.538 L1978.25 423.538 L1978.25 408.028 Q1978.25 404.302 1976.93 402.496 Q1975.61 400.69 1972.91 400.69 Q1969.6 400.69 1967.67 402.89 Q1965.75 405.089 1965.75 408.885 L1965.75 423.538 L1961.47 423.538 L1961.47 408.028 Q1961.47 404.278 1960.15 402.496 Q1958.83 400.69 1956.08 400.69 Q1952.81 400.69 1950.89 402.913 Q1948.97 405.112 1948.97 408.885 L1948.97 423.538 L1944.69 423.538 L1944.69 397.612 L1948.97 397.612 L1948.97 401.64 Q1950.43 399.255 1952.47 398.121 Q1954.5 396.987 1957.3 396.987 Q1960.13 396.987 1962.1 398.422 Q1964.09 399.857 1965.04 402.589 Z\" fill=\"#000000\" fill-rule=\"evenodd\" fill-opacity=\"1\" /><path clip-path=\"url(#clip280)\" d=\"M1991.03 397.612 L1995.29 397.612 L1995.29 423.538 L1991.03 423.538 L1991.03 397.612 M1991.03 387.519 L1995.29 387.519 L1995.29 392.913 L1991.03 392.913 L1991.03 387.519 Z\" fill=\"#000000\" fill-rule=\"evenodd\" fill-opacity=\"1\" /><path clip-path=\"url(#clip280)\" d=\"M2008.42 390.251 L2008.42 397.612 L2017.19 397.612 L2017.19 400.922 L2008.42 400.922 L2008.42 414.996 Q2008.42 418.167 2009.27 419.07 Q2010.15 419.973 2012.81 419.973 L2017.19 419.973 L2017.19 423.538 L2012.81 423.538 Q2007.88 423.538 2006.01 421.709 Q2004.13 419.857 2004.13 414.996 L2004.13 400.922 L2001.01 400.922 L2001.01 397.612 L2004.13 397.612 L2004.13 390.251 L2008.42 390.251 Z\" fill=\"#000000\" fill-rule=\"evenodd\" fill-opacity=\"1\" /><path clip-path=\"url(#clip280)\" d=\"M2042.49 431.408 L2042.49 434.718 L2017.86 434.718 L2017.86 431.408 L2042.49 431.408 Z\" fill=\"#000000\" fill-rule=\"evenodd\" fill-opacity=\"1\" /><path clip-path=\"url(#clip280)\" d=\"M2065.11 410.598 Q2065.11 405.899 2063.16 403.237 Q2061.24 400.552 2057.86 400.552 Q2054.48 400.552 2052.54 403.237 Q2050.61 405.899 2050.61 410.598 Q2050.61 415.297 2052.54 417.982 Q2054.48 420.644 2057.86 420.644 Q2061.24 420.644 2063.16 417.982 Q2065.11 415.297 2065.11 410.598 M2050.61 401.547 Q2051.96 399.232 2053.99 398.121 Q2056.05 396.987 2058.9 396.987 Q2063.62 396.987 2066.56 400.737 Q2069.53 404.487 2069.53 410.598 Q2069.53 416.709 2066.56 420.459 Q2063.62 424.209 2058.9 424.209 Q2056.05 424.209 2053.99 423.098 Q2051.96 421.963 2050.61 419.649 L2050.61 423.538 L2046.33 423.538 L2046.33 387.519 L2050.61 387.519 L2050.61 401.547 Z\" fill=\"#000000\" fill-rule=\"evenodd\" fill-opacity=\"1\" /><path clip-path=\"url(#clip280)\" d=\"M2076.59 397.612 L2080.85 397.612 L2080.85 424.001 Q2080.85 428.954 2078.95 431.176 Q2077.07 433.399 2072.88 433.399 L2071.26 433.399 L2071.26 429.788 L2072.4 429.788 Q2074.83 429.788 2075.71 428.653 Q2076.59 427.542 2076.59 424.001 L2076.59 397.612 M2076.59 387.519 L2080.85 387.519 L2080.85 392.913 L2076.59 392.913 L2076.59 387.519 Z\" fill=\"#000000\" fill-rule=\"evenodd\" fill-opacity=\"1\" /></svg>\n"
      ]
     },
     "execution_count": 45,
     "metadata": {},
     "output_type": "execute_result"
    }
   ],
   "source": [
    "plot(limiters, label=limiters, xlims=(-.1, 1.1))"
   ]
  },
  {
   "cell_type": "markdown",
   "id": "70c37c4b",
   "metadata": {
    "slideshow": {
     "slide_type": "slide"
    }
   },
   "source": [
    "# A slope-limited solver"
   ]
  },
  {
   "cell_type": "code",
   "execution_count": 78,
   "id": "a0a6c118",
   "metadata": {
    "cell_style": "split"
   },
   "outputs": [
    {
     "data": {
      "text/plain": [
       "fv_solve2 (generic function with 3 methods)"
      ]
     },
     "execution_count": 78,
     "metadata": {},
     "output_type": "execute_result"
    }
   ],
   "source": [
    "function fv_solve2(riemann, u_init, n, tfinal=1, limit=limit_sin)\n",
    "    h = 2 / n\n",
    "    x = LinRange(-1+h/2, 1-h/2, n) # cell midpoints (centroids)\n",
    "    idxL = 1 .+ (n-1:2*n-2) .% n\n",
    "    idxR = 1 .+ (n+1:2*n) .% n\n",
    "    function rhs(t, u)\n",
    "        jump = u[idxR] - u[idxL]\n",
    "        r = (u - u[idxL]) ./ jump\n",
    "        r[isnan.(r)] .= 0\n",
    "        g = limit.(r) .* jump / 2h\n",
    "        fluxL = riemann(u[idxL] + g[idxL]*h/2, u - g*h/2)\n",
    "        fluxR = fluxL[idxR]\n",
    "        (fluxL - fluxR) / h\n",
    "    end\n",
    "    thist, uhist = ode_rk_explicit(\n",
    "        rhs, u_init.(x), h=h, tfinal=tfinal)\n",
    "    x, thist, uhist\n",
    "end"
   ]
  },
  {
   "cell_type": "code",
   "execution_count": 83,
   "id": "6bec13ec",
   "metadata": {
    "cell_style": "split"
   },
   "outputs": [
    {
     "data": {
      "image/svg+xml": [
       "<?xml version=\"1.0\" encoding=\"utf-8\"?>\n",
       "<svg xmlns=\"http://www.w3.org/2000/svg\" xmlns:xlink=\"http://www.w3.org/1999/xlink\" width=\"600\" height=\"400\" viewBox=\"0 0 2400 1600\">\n",
       "<defs>\n",
       "  <clipPath id=\"clip200\">\n",
       "    <rect x=\"0\" y=\"0\" width=\"2400\" height=\"1600\"/>\n",
       "  </clipPath>\n",
       "</defs>\n",
       "<path clip-path=\"url(#clip200)\" d=\"\n",
       "M0 1600 L2400 1600 L2400 0 L0 0  Z\n",
       "  \" fill=\"#ffffff\" fill-rule=\"evenodd\" fill-opacity=\"1\"/>\n",
       "<defs>\n",
       "  <clipPath id=\"clip201\">\n",
       "    <rect x=\"480\" y=\"0\" width=\"1681\" height=\"1600\"/>\n",
       "  </clipPath>\n",
       "</defs>\n",
       "<path clip-path=\"url(#clip200)\" d=\"\n",
       "M186.274 1486.45 L2352.76 1486.45 L2352.76 47.2441 L186.274 47.2441  Z\n",
       "  \" fill=\"#ffffff\" fill-rule=\"evenodd\" fill-opacity=\"1\"/>\n",
       "<defs>\n",
       "  <clipPath id=\"clip202\">\n",
       "    <rect x=\"186\" y=\"47\" width=\"2167\" height=\"1440\"/>\n",
       "  </clipPath>\n",
       "</defs>\n",
       "<polyline clip-path=\"url(#clip202)\" style=\"stroke:#000000; stroke-linecap:butt; stroke-linejoin:round; stroke-width:2; stroke-opacity:0.1; fill:none\" points=\"\n",
       "  237.267,1486.45 237.267,47.2441 \n",
       "  \"/>\n",
       "<polyline clip-path=\"url(#clip202)\" style=\"stroke:#000000; stroke-linecap:butt; stroke-linejoin:round; stroke-width:2; stroke-opacity:0.1; fill:none\" points=\"\n",
       "  753.391,1486.45 753.391,47.2441 \n",
       "  \"/>\n",
       "<polyline clip-path=\"url(#clip202)\" style=\"stroke:#000000; stroke-linecap:butt; stroke-linejoin:round; stroke-width:2; stroke-opacity:0.1; fill:none\" points=\"\n",
       "  1269.51,1486.45 1269.51,47.2441 \n",
       "  \"/>\n",
       "<polyline clip-path=\"url(#clip202)\" style=\"stroke:#000000; stroke-linecap:butt; stroke-linejoin:round; stroke-width:2; stroke-opacity:0.1; fill:none\" points=\"\n",
       "  1785.64,1486.45 1785.64,47.2441 \n",
       "  \"/>\n",
       "<polyline clip-path=\"url(#clip202)\" style=\"stroke:#000000; stroke-linecap:butt; stroke-linejoin:round; stroke-width:2; stroke-opacity:0.1; fill:none\" points=\"\n",
       "  2301.76,1486.45 2301.76,47.2441 \n",
       "  \"/>\n",
       "<polyline clip-path=\"url(#clip200)\" style=\"stroke:#000000; stroke-linecap:butt; stroke-linejoin:round; stroke-width:4; stroke-opacity:1; fill:none\" points=\"\n",
       "  186.274,1486.45 2352.76,1486.45 \n",
       "  \"/>\n",
       "<polyline clip-path=\"url(#clip200)\" style=\"stroke:#000000; stroke-linecap:butt; stroke-linejoin:round; stroke-width:4; stroke-opacity:1; fill:none\" points=\"\n",
       "  237.267,1486.45 237.267,1467.55 \n",
       "  \"/>\n",
       "<polyline clip-path=\"url(#clip200)\" style=\"stroke:#000000; stroke-linecap:butt; stroke-linejoin:round; stroke-width:4; stroke-opacity:1; fill:none\" points=\"\n",
       "  753.391,1486.45 753.391,1467.55 \n",
       "  \"/>\n",
       "<polyline clip-path=\"url(#clip200)\" style=\"stroke:#000000; stroke-linecap:butt; stroke-linejoin:round; stroke-width:4; stroke-opacity:1; fill:none\" points=\"\n",
       "  1269.51,1486.45 1269.51,1467.55 \n",
       "  \"/>\n",
       "<polyline clip-path=\"url(#clip200)\" style=\"stroke:#000000; stroke-linecap:butt; stroke-linejoin:round; stroke-width:4; stroke-opacity:1; fill:none\" points=\"\n",
       "  1785.64,1486.45 1785.64,1467.55 \n",
       "  \"/>\n",
       "<polyline clip-path=\"url(#clip200)\" style=\"stroke:#000000; stroke-linecap:butt; stroke-linejoin:round; stroke-width:4; stroke-opacity:1; fill:none\" points=\"\n",
       "  2301.76,1486.45 2301.76,1467.55 \n",
       "  \"/>\n",
       "<path clip-path=\"url(#clip200)\" d=\"M183.795 1532.02 L213.471 1532.02 L213.471 1535.95 L183.795 1535.95 L183.795 1532.02 Z\" fill=\"#000000\" fill-rule=\"evenodd\" fill-opacity=\"1\" /><path clip-path=\"url(#clip200)\" d=\"M224.374 1544.91 L232.012 1544.91 L232.012 1518.55 L223.702 1520.21 L223.702 1515.95 L231.966 1514.29 L236.642 1514.29 L236.642 1544.91 L244.281 1544.91 L244.281 1548.85 L224.374 1548.85 L224.374 1544.91 Z\" fill=\"#000000\" fill-rule=\"evenodd\" fill-opacity=\"1\" /><path clip-path=\"url(#clip200)\" d=\"M253.725 1542.97 L258.61 1542.97 L258.61 1548.85 L253.725 1548.85 L253.725 1542.97 Z\" fill=\"#000000\" fill-rule=\"evenodd\" fill-opacity=\"1\" /><path clip-path=\"url(#clip200)\" d=\"M278.795 1517.37 Q275.184 1517.37 273.355 1520.93 Q271.549 1524.47 271.549 1531.6 Q271.549 1538.71 273.355 1542.27 Q275.184 1545.82 278.795 1545.82 Q282.429 1545.82 284.234 1542.27 Q286.063 1538.71 286.063 1531.6 Q286.063 1524.47 284.234 1520.93 Q282.429 1517.37 278.795 1517.37 M278.795 1513.66 Q284.605 1513.66 287.66 1518.27 Q290.739 1522.85 290.739 1531.6 Q290.739 1540.33 287.66 1544.94 Q284.605 1549.52 278.795 1549.52 Q272.984 1549.52 269.906 1544.94 Q266.85 1540.33 266.85 1531.6 Q266.85 1522.85 269.906 1518.27 Q272.984 1513.66 278.795 1513.66 Z\" fill=\"#000000\" fill-rule=\"evenodd\" fill-opacity=\"1\" /><path clip-path=\"url(#clip200)\" d=\"M700.417 1532.02 L730.093 1532.02 L730.093 1535.95 L700.417 1535.95 L700.417 1532.02 Z\" fill=\"#000000\" fill-rule=\"evenodd\" fill-opacity=\"1\" /><path clip-path=\"url(#clip200)\" d=\"M750.185 1517.37 Q746.574 1517.37 744.745 1520.93 Q742.94 1524.47 742.94 1531.6 Q742.94 1538.71 744.745 1542.27 Q746.574 1545.82 750.185 1545.82 Q753.819 1545.82 755.625 1542.27 Q757.453 1538.71 757.453 1531.6 Q757.453 1524.47 755.625 1520.93 Q753.819 1517.37 750.185 1517.37 M750.185 1513.66 Q755.995 1513.66 759.051 1518.27 Q762.129 1522.85 762.129 1531.6 Q762.129 1540.33 759.051 1544.94 Q755.995 1549.52 750.185 1549.52 Q744.375 1549.52 741.296 1544.94 Q738.241 1540.33 738.241 1531.6 Q738.241 1522.85 741.296 1518.27 Q744.375 1513.66 750.185 1513.66 Z\" fill=\"#000000\" fill-rule=\"evenodd\" fill-opacity=\"1\" /><path clip-path=\"url(#clip200)\" d=\"M770.347 1542.97 L775.231 1542.97 L775.231 1548.85 L770.347 1548.85 L770.347 1542.97 Z\" fill=\"#000000\" fill-rule=\"evenodd\" fill-opacity=\"1\" /><path clip-path=\"url(#clip200)\" d=\"M785.463 1514.29 L803.819 1514.29 L803.819 1518.22 L789.745 1518.22 L789.745 1526.7 Q790.763 1526.35 791.782 1526.19 Q792.801 1526 793.819 1526 Q799.606 1526 802.986 1529.17 Q806.365 1532.34 806.365 1537.76 Q806.365 1543.34 802.893 1546.44 Q799.421 1549.52 793.101 1549.52 Q790.926 1549.52 788.657 1549.15 Q786.412 1548.78 784.004 1548.04 L784.004 1543.34 Q786.088 1544.47 788.31 1545.03 Q790.532 1545.58 793.009 1545.58 Q797.013 1545.58 799.351 1543.48 Q801.689 1541.37 801.689 1537.76 Q801.689 1534.15 799.351 1532.04 Q797.013 1529.94 793.009 1529.94 Q791.134 1529.94 789.259 1530.35 Q787.407 1530.77 785.463 1531.65 L785.463 1514.29 Z\" fill=\"#000000\" fill-rule=\"evenodd\" fill-opacity=\"1\" /><path clip-path=\"url(#clip200)\" d=\"M1246.9 1517.37 Q1243.29 1517.37 1241.46 1520.93 Q1239.65 1524.47 1239.65 1531.6 Q1239.65 1538.71 1241.46 1542.27 Q1243.29 1545.82 1246.9 1545.82 Q1250.53 1545.82 1252.34 1542.27 Q1254.17 1538.71 1254.17 1531.6 Q1254.17 1524.47 1252.34 1520.93 Q1250.53 1517.37 1246.9 1517.37 M1246.9 1513.66 Q1252.71 1513.66 1255.77 1518.27 Q1258.84 1522.85 1258.84 1531.6 Q1258.84 1540.33 1255.77 1544.94 Q1252.71 1549.52 1246.9 1549.52 Q1241.09 1549.52 1238.01 1544.94 Q1234.95 1540.33 1234.95 1531.6 Q1234.95 1522.85 1238.01 1518.27 Q1241.09 1513.66 1246.9 1513.66 Z\" fill=\"#000000\" fill-rule=\"evenodd\" fill-opacity=\"1\" /><path clip-path=\"url(#clip200)\" d=\"M1267.06 1542.97 L1271.95 1542.97 L1271.95 1548.85 L1267.06 1548.85 L1267.06 1542.97 Z\" fill=\"#000000\" fill-rule=\"evenodd\" fill-opacity=\"1\" /><path clip-path=\"url(#clip200)\" d=\"M1292.13 1517.37 Q1288.52 1517.37 1286.69 1520.93 Q1284.89 1524.47 1284.89 1531.6 Q1284.89 1538.71 1286.69 1542.27 Q1288.52 1545.82 1292.13 1545.82 Q1295.76 1545.82 1297.57 1542.27 Q1299.4 1538.71 1299.4 1531.6 Q1299.4 1524.47 1297.57 1520.93 Q1295.76 1517.37 1292.13 1517.37 M1292.13 1513.66 Q1297.94 1513.66 1301 1518.27 Q1304.07 1522.85 1304.07 1531.6 Q1304.07 1540.33 1301 1544.94 Q1297.94 1549.52 1292.13 1549.52 Q1286.32 1549.52 1283.24 1544.94 Q1280.19 1540.33 1280.19 1531.6 Q1280.19 1522.85 1283.24 1518.27 Q1286.32 1513.66 1292.13 1513.66 Z\" fill=\"#000000\" fill-rule=\"evenodd\" fill-opacity=\"1\" /><path clip-path=\"url(#clip200)\" d=\"M1763.52 1517.37 Q1759.91 1517.37 1758.08 1520.93 Q1756.28 1524.47 1756.28 1531.6 Q1756.28 1538.71 1758.08 1542.27 Q1759.91 1545.82 1763.52 1545.82 Q1767.16 1545.82 1768.96 1542.27 Q1770.79 1538.71 1770.79 1531.6 Q1770.79 1524.47 1768.96 1520.93 Q1767.16 1517.37 1763.52 1517.37 M1763.52 1513.66 Q1769.33 1513.66 1772.39 1518.27 Q1775.47 1522.85 1775.47 1531.6 Q1775.47 1540.33 1772.39 1544.94 Q1769.33 1549.52 1763.52 1549.52 Q1757.71 1549.52 1754.63 1544.94 Q1751.58 1540.33 1751.58 1531.6 Q1751.58 1522.85 1754.63 1518.27 Q1757.71 1513.66 1763.52 1513.66 Z\" fill=\"#000000\" fill-rule=\"evenodd\" fill-opacity=\"1\" /><path clip-path=\"url(#clip200)\" d=\"M1783.68 1542.97 L1788.57 1542.97 L1788.57 1548.85 L1783.68 1548.85 L1783.68 1542.97 Z\" fill=\"#000000\" fill-rule=\"evenodd\" fill-opacity=\"1\" /><path clip-path=\"url(#clip200)\" d=\"M1798.8 1514.29 L1817.15 1514.29 L1817.15 1518.22 L1803.08 1518.22 L1803.08 1526.7 Q1804.1 1526.35 1805.12 1526.19 Q1806.14 1526 1807.15 1526 Q1812.94 1526 1816.32 1529.17 Q1819.7 1532.34 1819.7 1537.76 Q1819.7 1543.34 1816.23 1546.44 Q1812.76 1549.52 1806.44 1549.52 Q1804.26 1549.52 1801.99 1549.15 Q1799.75 1548.78 1797.34 1548.04 L1797.34 1543.34 Q1799.42 1544.47 1801.65 1545.03 Q1803.87 1545.58 1806.34 1545.58 Q1810.35 1545.58 1812.69 1543.48 Q1815.03 1541.37 1815.03 1537.76 Q1815.03 1534.15 1812.69 1532.04 Q1810.35 1529.94 1806.34 1529.94 Q1804.47 1529.94 1802.59 1530.35 Q1800.74 1530.77 1798.8 1531.65 L1798.8 1514.29 Z\" fill=\"#000000\" fill-rule=\"evenodd\" fill-opacity=\"1\" /><path clip-path=\"url(#clip200)\" d=\"M2268.92 1544.91 L2276.55 1544.91 L2276.55 1518.55 L2268.24 1520.21 L2268.24 1515.95 L2276.51 1514.29 L2281.18 1514.29 L2281.18 1544.91 L2288.82 1544.91 L2288.82 1548.85 L2268.92 1548.85 L2268.92 1544.91 Z\" fill=\"#000000\" fill-rule=\"evenodd\" fill-opacity=\"1\" /><path clip-path=\"url(#clip200)\" d=\"M2298.27 1542.97 L2303.15 1542.97 L2303.15 1548.85 L2298.27 1548.85 L2298.27 1542.97 Z\" fill=\"#000000\" fill-rule=\"evenodd\" fill-opacity=\"1\" /><path clip-path=\"url(#clip200)\" d=\"M2323.34 1517.37 Q2319.73 1517.37 2317.9 1520.93 Q2316.09 1524.47 2316.09 1531.6 Q2316.09 1538.71 2317.9 1542.27 Q2319.73 1545.82 2323.34 1545.82 Q2326.97 1545.82 2328.78 1542.27 Q2330.61 1538.71 2330.61 1531.6 Q2330.61 1524.47 2328.78 1520.93 Q2326.97 1517.37 2323.34 1517.37 M2323.34 1513.66 Q2329.15 1513.66 2332.2 1518.27 Q2335.28 1522.85 2335.28 1531.6 Q2335.28 1540.33 2332.2 1544.94 Q2329.15 1549.52 2323.34 1549.52 Q2317.53 1549.52 2314.45 1544.94 Q2311.39 1540.33 2311.39 1531.6 Q2311.39 1522.85 2314.45 1518.27 Q2317.53 1513.66 2323.34 1513.66 Z\" fill=\"#000000\" fill-rule=\"evenodd\" fill-opacity=\"1\" /><polyline clip-path=\"url(#clip202)\" style=\"stroke:#000000; stroke-linecap:butt; stroke-linejoin:round; stroke-width:2; stroke-opacity:0.1; fill:none\" points=\"\n",
       "  186.274,1445.72 2352.76,1445.72 \n",
       "  \"/>\n",
       "<polyline clip-path=\"url(#clip202)\" style=\"stroke:#000000; stroke-linecap:butt; stroke-linejoin:round; stroke-width:2; stroke-opacity:0.1; fill:none\" points=\"\n",
       "  186.274,1106.28 2352.76,1106.28 \n",
       "  \"/>\n",
       "<polyline clip-path=\"url(#clip202)\" style=\"stroke:#000000; stroke-linecap:butt; stroke-linejoin:round; stroke-width:2; stroke-opacity:0.1; fill:none\" points=\"\n",
       "  186.274,766.846 2352.76,766.846 \n",
       "  \"/>\n",
       "<polyline clip-path=\"url(#clip202)\" style=\"stroke:#000000; stroke-linecap:butt; stroke-linejoin:round; stroke-width:2; stroke-opacity:0.1; fill:none\" points=\"\n",
       "  186.274,427.411 2352.76,427.411 \n",
       "  \"/>\n",
       "<polyline clip-path=\"url(#clip202)\" style=\"stroke:#000000; stroke-linecap:butt; stroke-linejoin:round; stroke-width:2; stroke-opacity:0.1; fill:none\" points=\"\n",
       "  186.274,87.9763 2352.76,87.9763 \n",
       "  \"/>\n",
       "<polyline clip-path=\"url(#clip200)\" style=\"stroke:#000000; stroke-linecap:butt; stroke-linejoin:round; stroke-width:4; stroke-opacity:1; fill:none\" points=\"\n",
       "  186.274,1486.45 186.274,47.2441 \n",
       "  \"/>\n",
       "<polyline clip-path=\"url(#clip200)\" style=\"stroke:#000000; stroke-linecap:butt; stroke-linejoin:round; stroke-width:4; stroke-opacity:1; fill:none\" points=\"\n",
       "  186.274,1445.72 205.172,1445.72 \n",
       "  \"/>\n",
       "<polyline clip-path=\"url(#clip200)\" style=\"stroke:#000000; stroke-linecap:butt; stroke-linejoin:round; stroke-width:4; stroke-opacity:1; fill:none\" points=\"\n",
       "  186.274,1106.28 205.172,1106.28 \n",
       "  \"/>\n",
       "<polyline clip-path=\"url(#clip200)\" style=\"stroke:#000000; stroke-linecap:butt; stroke-linejoin:round; stroke-width:4; stroke-opacity:1; fill:none\" points=\"\n",
       "  186.274,766.846 205.172,766.846 \n",
       "  \"/>\n",
       "<polyline clip-path=\"url(#clip200)\" style=\"stroke:#000000; stroke-linecap:butt; stroke-linejoin:round; stroke-width:4; stroke-opacity:1; fill:none\" points=\"\n",
       "  186.274,427.411 205.172,427.411 \n",
       "  \"/>\n",
       "<polyline clip-path=\"url(#clip200)\" style=\"stroke:#000000; stroke-linecap:butt; stroke-linejoin:round; stroke-width:4; stroke-opacity:1; fill:none\" points=\"\n",
       "  186.274,87.9763 205.172,87.9763 \n",
       "  \"/>\n",
       "<path clip-path=\"url(#clip200)\" d=\"M62.9365 1431.51 Q59.3254 1431.51 57.4967 1435.08 Q55.6912 1438.62 55.6912 1445.75 Q55.6912 1452.86 57.4967 1456.42 Q59.3254 1459.96 62.9365 1459.96 Q66.5707 1459.96 68.3763 1456.42 Q70.205 1452.86 70.205 1445.75 Q70.205 1438.62 68.3763 1435.08 Q66.5707 1431.51 62.9365 1431.51 M62.9365 1427.81 Q68.7467 1427.81 71.8022 1432.42 Q74.8809 1437 74.8809 1445.75 Q74.8809 1454.48 71.8022 1459.08 Q68.7467 1463.67 62.9365 1463.67 Q57.1264 1463.67 54.0477 1459.08 Q50.9921 1454.48 50.9921 1445.75 Q50.9921 1437 54.0477 1432.42 Q57.1264 1427.81 62.9365 1427.81 Z\" fill=\"#000000\" fill-rule=\"evenodd\" fill-opacity=\"1\" /><path clip-path=\"url(#clip200)\" d=\"M83.0984 1457.12 L87.9827 1457.12 L87.9827 1463 L83.0984 1463 L83.0984 1457.12 Z\" fill=\"#000000\" fill-rule=\"evenodd\" fill-opacity=\"1\" /><path clip-path=\"url(#clip200)\" d=\"M108.168 1431.51 Q104.557 1431.51 102.728 1435.08 Q100.922 1438.62 100.922 1445.75 Q100.922 1452.86 102.728 1456.42 Q104.557 1459.96 108.168 1459.96 Q111.802 1459.96 113.608 1456.42 Q115.436 1452.86 115.436 1445.75 Q115.436 1438.62 113.608 1435.08 Q111.802 1431.51 108.168 1431.51 M108.168 1427.81 Q113.978 1427.81 117.033 1432.42 Q120.112 1437 120.112 1445.75 Q120.112 1454.48 117.033 1459.08 Q113.978 1463.67 108.168 1463.67 Q102.358 1463.67 99.2789 1459.08 Q96.2234 1454.48 96.2234 1445.75 Q96.2234 1437 99.2789 1432.42 Q102.358 1427.81 108.168 1427.81 Z\" fill=\"#000000\" fill-rule=\"evenodd\" fill-opacity=\"1\" /><path clip-path=\"url(#clip200)\" d=\"M138.33 1431.51 Q134.719 1431.51 132.89 1435.08 Q131.084 1438.62 131.084 1445.75 Q131.084 1452.86 132.89 1456.42 Q134.719 1459.96 138.33 1459.96 Q141.964 1459.96 143.769 1456.42 Q145.598 1452.86 145.598 1445.75 Q145.598 1438.62 143.769 1435.08 Q141.964 1431.51 138.33 1431.51 M138.33 1427.81 Q144.14 1427.81 147.195 1432.42 Q150.274 1437 150.274 1445.75 Q150.274 1454.48 147.195 1459.08 Q144.14 1463.67 138.33 1463.67 Q132.519 1463.67 129.441 1459.08 Q126.385 1454.48 126.385 1445.75 Q126.385 1437 129.441 1432.42 Q132.519 1427.81 138.33 1427.81 Z\" fill=\"#000000\" fill-rule=\"evenodd\" fill-opacity=\"1\" /><path clip-path=\"url(#clip200)\" d=\"M63.9319 1092.08 Q60.3208 1092.08 58.4921 1095.64 Q56.6865 1099.19 56.6865 1106.32 Q56.6865 1113.42 58.4921 1116.99 Q60.3208 1120.53 63.9319 1120.53 Q67.5661 1120.53 69.3717 1116.99 Q71.2004 1113.42 71.2004 1106.32 Q71.2004 1099.19 69.3717 1095.64 Q67.5661 1092.08 63.9319 1092.08 M63.9319 1088.38 Q69.742 1088.38 72.7976 1092.98 Q75.8763 1097.57 75.8763 1106.32 Q75.8763 1115.04 72.7976 1119.65 Q69.742 1124.23 63.9319 1124.23 Q58.1217 1124.23 55.043 1119.65 Q51.9875 1115.04 51.9875 1106.32 Q51.9875 1097.57 55.043 1092.98 Q58.1217 1088.38 63.9319 1088.38 Z\" fill=\"#000000\" fill-rule=\"evenodd\" fill-opacity=\"1\" /><path clip-path=\"url(#clip200)\" d=\"M84.0938 1117.68 L88.978 1117.68 L88.978 1123.56 L84.0938 1123.56 L84.0938 1117.68 Z\" fill=\"#000000\" fill-rule=\"evenodd\" fill-opacity=\"1\" /><path clip-path=\"url(#clip200)\" d=\"M103.191 1119.63 L119.51 1119.63 L119.51 1123.56 L97.566 1123.56 L97.566 1119.63 Q100.228 1116.87 104.811 1112.24 Q109.418 1107.59 110.598 1106.25 Q112.844 1103.72 113.723 1101.99 Q114.626 1100.23 114.626 1098.54 Q114.626 1095.78 112.682 1094.05 Q110.76 1092.31 107.658 1092.31 Q105.459 1092.31 103.006 1093.07 Q100.575 1093.84 97.7974 1095.39 L97.7974 1090.67 Q100.621 1089.53 103.075 1088.95 Q105.529 1088.38 107.566 1088.38 Q112.936 1088.38 116.131 1091.06 Q119.325 1093.75 119.325 1098.24 Q119.325 1100.37 118.515 1102.29 Q117.728 1104.19 115.621 1106.78 Q115.043 1107.45 111.941 1110.67 Q108.839 1113.86 103.191 1119.63 Z\" fill=\"#000000\" fill-rule=\"evenodd\" fill-opacity=\"1\" /><path clip-path=\"url(#clip200)\" d=\"M129.371 1089 L147.728 1089 L147.728 1092.94 L133.654 1092.94 L133.654 1101.41 Q134.672 1101.06 135.691 1100.9 Q136.709 1100.71 137.728 1100.71 Q143.515 1100.71 146.894 1103.89 Q150.274 1107.06 150.274 1112.47 Q150.274 1118.05 146.802 1121.15 Q143.33 1124.23 137.01 1124.23 Q134.834 1124.23 132.566 1123.86 Q130.32 1123.49 127.913 1122.75 L127.913 1118.05 Q129.996 1119.19 132.219 1119.74 Q134.441 1120.3 136.918 1120.3 Q140.922 1120.3 143.26 1118.19 Q145.598 1116.08 145.598 1112.47 Q145.598 1108.86 143.26 1106.76 Q140.922 1104.65 136.918 1104.65 Q135.043 1104.65 133.168 1105.07 Q131.316 1105.48 129.371 1106.36 L129.371 1089 Z\" fill=\"#000000\" fill-rule=\"evenodd\" fill-opacity=\"1\" /><path clip-path=\"url(#clip200)\" d=\"M62.9365 752.645 Q59.3254 752.645 57.4967 756.209 Q55.6912 759.751 55.6912 766.881 Q55.6912 773.987 57.4967 777.552 Q59.3254 781.094 62.9365 781.094 Q66.5707 781.094 68.3763 777.552 Q70.205 773.987 70.205 766.881 Q70.205 759.751 68.3763 756.209 Q66.5707 752.645 62.9365 752.645 M62.9365 748.941 Q68.7467 748.941 71.8022 753.547 Q74.8809 758.131 74.8809 766.881 Q74.8809 775.608 71.8022 780.214 Q68.7467 784.797 62.9365 784.797 Q57.1264 784.797 54.0477 780.214 Q50.9921 775.608 50.9921 766.881 Q50.9921 758.131 54.0477 753.547 Q57.1264 748.941 62.9365 748.941 Z\" fill=\"#000000\" fill-rule=\"evenodd\" fill-opacity=\"1\" /><path clip-path=\"url(#clip200)\" d=\"M83.0984 778.246 L87.9827 778.246 L87.9827 784.126 L83.0984 784.126 L83.0984 778.246 Z\" fill=\"#000000\" fill-rule=\"evenodd\" fill-opacity=\"1\" /><path clip-path=\"url(#clip200)\" d=\"M98.2141 749.566 L116.57 749.566 L116.57 753.501 L102.496 753.501 L102.496 761.973 Q103.515 761.626 104.534 761.464 Q105.552 761.279 106.571 761.279 Q112.358 761.279 115.737 764.45 Q119.117 767.621 119.117 773.038 Q119.117 778.617 115.645 781.719 Q112.172 784.797 105.853 784.797 Q103.677 784.797 101.409 784.427 Q99.1632 784.057 96.7558 783.316 L96.7558 778.617 Q98.8391 779.751 101.061 780.307 Q103.284 780.862 105.76 780.862 Q109.765 780.862 112.103 778.756 Q114.441 776.649 114.441 773.038 Q114.441 769.427 112.103 767.321 Q109.765 765.214 105.76 765.214 Q103.885 765.214 102.01 765.631 Q100.159 766.047 98.2141 766.927 L98.2141 749.566 Z\" fill=\"#000000\" fill-rule=\"evenodd\" fill-opacity=\"1\" /><path clip-path=\"url(#clip200)\" d=\"M138.33 752.645 Q134.719 752.645 132.89 756.209 Q131.084 759.751 131.084 766.881 Q131.084 773.987 132.89 777.552 Q134.719 781.094 138.33 781.094 Q141.964 781.094 143.769 777.552 Q145.598 773.987 145.598 766.881 Q145.598 759.751 143.769 756.209 Q141.964 752.645 138.33 752.645 M138.33 748.941 Q144.14 748.941 147.195 753.547 Q150.274 758.131 150.274 766.881 Q150.274 775.608 147.195 780.214 Q144.14 784.797 138.33 784.797 Q132.519 784.797 129.441 780.214 Q126.385 775.608 126.385 766.881 Q126.385 758.131 129.441 753.547 Q132.519 748.941 138.33 748.941 Z\" fill=\"#000000\" fill-rule=\"evenodd\" fill-opacity=\"1\" /><path clip-path=\"url(#clip200)\" d=\"M63.9319 413.21 Q60.3208 413.21 58.4921 416.775 Q56.6865 420.316 56.6865 427.446 Q56.6865 434.552 58.4921 438.117 Q60.3208 441.659 63.9319 441.659 Q67.5661 441.659 69.3717 438.117 Q71.2004 434.552 71.2004 427.446 Q71.2004 420.316 69.3717 416.775 Q67.5661 413.21 63.9319 413.21 M63.9319 409.506 Q69.742 409.506 72.7976 414.113 Q75.8763 418.696 75.8763 427.446 Q75.8763 436.173 72.7976 440.779 Q69.742 445.362 63.9319 445.362 Q58.1217 445.362 55.043 440.779 Q51.9875 436.173 51.9875 427.446 Q51.9875 418.696 55.043 414.113 Q58.1217 409.506 63.9319 409.506 Z\" fill=\"#000000\" fill-rule=\"evenodd\" fill-opacity=\"1\" /><path clip-path=\"url(#clip200)\" d=\"M84.0938 438.812 L88.978 438.812 L88.978 444.691 L84.0938 444.691 L84.0938 438.812 Z\" fill=\"#000000\" fill-rule=\"evenodd\" fill-opacity=\"1\" /><path clip-path=\"url(#clip200)\" d=\"M97.9826 410.131 L120.205 410.131 L120.205 412.122 L107.658 444.691 L102.774 444.691 L114.58 414.066 L97.9826 414.066 L97.9826 410.131 Z\" fill=\"#000000\" fill-rule=\"evenodd\" fill-opacity=\"1\" /><path clip-path=\"url(#clip200)\" d=\"M129.371 410.131 L147.728 410.131 L147.728 414.066 L133.654 414.066 L133.654 422.538 Q134.672 422.191 135.691 422.029 Q136.709 421.844 137.728 421.844 Q143.515 421.844 146.894 425.015 Q150.274 428.187 150.274 433.603 Q150.274 439.182 146.802 442.284 Q143.33 445.362 137.01 445.362 Q134.834 445.362 132.566 444.992 Q130.32 444.622 127.913 443.881 L127.913 439.182 Q129.996 440.316 132.219 440.872 Q134.441 441.427 136.918 441.427 Q140.922 441.427 143.26 439.321 Q145.598 437.214 145.598 433.603 Q145.598 429.992 143.26 427.886 Q140.922 425.779 136.918 425.779 Q135.043 425.779 133.168 426.196 Q131.316 426.613 129.371 427.492 L129.371 410.131 Z\" fill=\"#000000\" fill-rule=\"evenodd\" fill-opacity=\"1\" /><path clip-path=\"url(#clip200)\" d=\"M53.7467 101.321 L61.3856 101.321 L61.3856 74.9555 L53.0754 76.6222 L53.0754 72.3629 L61.3393 70.6963 L66.0152 70.6963 L66.0152 101.321 L73.654 101.321 L73.654 105.256 L53.7467 105.256 L53.7467 101.321 Z\" fill=\"#000000\" fill-rule=\"evenodd\" fill-opacity=\"1\" /><path clip-path=\"url(#clip200)\" d=\"M83.0984 99.3767 L87.9827 99.3767 L87.9827 105.256 L83.0984 105.256 L83.0984 99.3767 Z\" fill=\"#000000\" fill-rule=\"evenodd\" fill-opacity=\"1\" /><path clip-path=\"url(#clip200)\" d=\"M108.168 73.775 Q104.557 73.775 102.728 77.3398 Q100.922 80.8814 100.922 88.011 Q100.922 95.1174 102.728 98.6822 Q104.557 102.224 108.168 102.224 Q111.802 102.224 113.608 98.6822 Q115.436 95.1174 115.436 88.011 Q115.436 80.8814 113.608 77.3398 Q111.802 73.775 108.168 73.775 M108.168 70.0713 Q113.978 70.0713 117.033 74.6777 Q120.112 79.261 120.112 88.011 Q120.112 96.7378 117.033 101.344 Q113.978 105.928 108.168 105.928 Q102.358 105.928 99.2789 101.344 Q96.2234 96.7378 96.2234 88.011 Q96.2234 79.261 99.2789 74.6777 Q102.358 70.0713 108.168 70.0713 Z\" fill=\"#000000\" fill-rule=\"evenodd\" fill-opacity=\"1\" /><path clip-path=\"url(#clip200)\" d=\"M138.33 73.775 Q134.719 73.775 132.89 77.3398 Q131.084 80.8814 131.084 88.011 Q131.084 95.1174 132.89 98.6822 Q134.719 102.224 138.33 102.224 Q141.964 102.224 143.769 98.6822 Q145.598 95.1174 145.598 88.011 Q145.598 80.8814 143.769 77.3398 Q141.964 73.775 138.33 73.775 M138.33 70.0713 Q144.14 70.0713 147.195 74.6777 Q150.274 79.261 150.274 88.011 Q150.274 96.7378 147.195 101.344 Q144.14 105.928 138.33 105.928 Q132.519 105.928 129.441 101.344 Q126.385 96.7378 126.385 88.011 Q126.385 79.261 129.441 74.6777 Q132.519 70.0713 138.33 70.0713 Z\" fill=\"#000000\" fill-rule=\"evenodd\" fill-opacity=\"1\" /><polyline clip-path=\"url(#clip202)\" style=\"stroke:#009af9; stroke-linecap:butt; stroke-linejoin:round; stroke-width:16; stroke-opacity:1; fill:none\" points=\"\n",
       "  247.59,1445.72 268.234,1445.72 288.879,1445.72 309.524,1445.72 330.169,1409.51 350.814,1300.89 371.459,1192.27 392.104,1083.65 412.749,975.033 433.394,866.414 \n",
       "  454.039,757.794 474.684,649.175 495.329,540.556 515.974,431.937 536.619,323.318 557.264,214.699 577.909,106.079 598.554,178.492 619.199,287.111 639.844,395.731 \n",
       "  660.489,504.35 681.134,612.969 701.779,721.588 722.424,830.207 743.069,938.826 763.713,1047.45 784.358,1156.06 805.003,1264.68 825.648,1373.3 846.293,1445.72 \n",
       "  866.938,1445.72 887.583,1445.72 908.228,1445.72 928.873,1445.72 949.518,1445.72 970.163,1445.72 990.808,1445.72 1011.45,1445.72 1032.1,1445.72 1052.74,1445.72 \n",
       "  1073.39,87.9763 1094.03,87.9763 1114.68,87.9763 1135.32,87.9763 1155.97,87.9763 1176.61,87.9763 1197.26,87.9763 1217.9,87.9763 1238.55,87.9763 1259.19,87.9763 \n",
       "  1279.84,87.9763 1300.48,87.9763 1321.13,87.9763 1341.77,87.9763 1362.42,87.9763 1383.06,87.9763 1403.71,87.9763 1424.35,87.9763 1445,87.9763 1465.64,87.9763 \n",
       "  1486.29,1445.72 1506.93,1445.72 1527.58,1445.72 1548.22,1445.72 1568.87,1445.72 1589.51,1445.72 1610.16,1445.72 1630.8,1445.72 1651.45,1445.72 1672.09,1445.72 \n",
       "  1692.74,1445.72 1713.38,1436.21 1734.03,1387.02 1754.67,1298.87 1775.32,1177.29 1795.96,1029.92 1816.61,866.017 1837.25,695.885 1857.9,530.211 1878.54,379.406 \n",
       "  1899.19,252.945 1919.83,158.774 1940.48,102.811 1961.12,88.5718 1981.77,116.951 2002.41,186.165 2023.06,291.866 2043.7,427.411 2064.35,584.284 2084.99,752.629 \n",
       "  2105.64,921.866 2126.28,1081.36 2146.93,1221.1 2167.57,1332.29 2188.22,1407.95 2208.86,1443.33 2229.51,1445.72 2250.15,1445.72 2270.8,1445.72 2291.44,1445.72 \n",
       "  \n",
       "  \"/>\n",
       "<polyline clip-path=\"url(#clip202)\" style=\"stroke:#e26f46; stroke-linecap:butt; stroke-linejoin:round; stroke-width:16; stroke-opacity:1; fill:none\" points=\"\n",
       "  247.59,912.044 268.234,1077.41 288.879,1224.24 309.524,1339.83 330.169,1409.47 350.814,1437.39 371.459,1444.38 392.104,1445.49 412.749,1445.57 433.394,1445.44 \n",
       "  454.039,1444.7 474.684,1442.52 495.329,1435.01 515.974,1418.9 536.619,1379.77 557.264,1316.12 577.909,1218.76 598.554,1106.72 619.199,984.172 639.844,867.831 \n",
       "  660.489,756.923 681.134,650.628 701.779,536.607 722.424,407.121 743.069,283.266 763.713,221.327 784.358,212.981 805.003,225.163 825.648,273.211 846.293,359.033 \n",
       "  866.938,471.203 887.583,598.508 908.228,719.316 928.873,831.766 949.518,940.031 970.163,1049.35 990.808,1164.92 1011.45,1280.38 1032.1,1373.8 1052.74,1425.28 \n",
       "  1073.39,1442.06 1094.03,1445.22 1114.68,1445.48 1135.32,1445.35 1155.97,1443.97 1176.61,1439.07 1197.26,1418.93 1217.9,1371.59 1238.55,1232.71 1259.19,985.408 \n",
       "  1279.84,608.982 1300.48,297.145 1321.13,133.594 1341.77,94.4215 1362.42,88.7135 1383.06,88.0544 1403.71,87.984 1424.35,87.977 1445,87.9763 1465.64,87.9763 \n",
       "  1486.29,87.977 1506.93,87.9821 1527.58,88.0315 1548.22,88.2917 1568.87,89.8173 1589.51,94.5501 1610.16,114.87 1630.8,162.101 1651.45,301.1 1672.09,548.114 \n",
       "  1692.74,924.8 1713.38,1236.42 1734.03,1400.12 1754.67,1439.3 1775.32,1444.99 1795.96,1445.58 1816.61,1445.6 1837.25,1445.37 1857.9,1444.39 1878.54,1441.29 \n",
       "  1899.19,1433.33 1919.83,1412.85 1940.48,1372.16 1961.12,1297.96 1981.77,1189.21 2002.41,1045.17 2023.06,880.837 2043.7,708.101 2064.35,538.638 2084.99,375.543 \n",
       "  2105.64,234.612 2126.28,150.358 2146.93,128.389 2167.57,127.896 2188.22,142.244 2208.86,193.761 2229.51,280.973 2250.15,405.959 2270.8,567.301 2291.44,739.057 \n",
       "  \n",
       "  \"/>\n",
       "<polyline clip-path=\"url(#clip202)\" style=\"stroke:#3da44d; stroke-linecap:butt; stroke-linejoin:round; stroke-width:16; stroke-opacity:1; fill:none\" points=\"\n",
       "  247.59,225.904 268.234,161.63 288.879,150.108 309.524,150.997 330.169,163.426 350.814,205.701 371.459,281.654 392.104,395.13 412.749,548.342 433.394,720.863 \n",
       "  454.039,900.24 474.684,1073.82 495.329,1225.57 515.974,1341.21 536.619,1409.45 557.264,1436.95 577.909,1443.9 598.554,1444.93 619.199,1444.96 639.844,1444.5 \n",
       "  660.489,1442.6 681.134,1438.17 701.779,1428.08 722.424,1407.86 743.069,1370.5 763.713,1311.29 784.358,1225.38 805.003,1118.7 825.648,999.209 846.293,878.937 \n",
       "  866.938,761.369 887.583,643.347 908.228,517.184 928.873,387.312 949.518,286.62 970.163,246.993 990.808,242.865 1011.45,251.897 1032.1,286.907 1052.74,353.148 \n",
       "  1073.39,451.261 1094.03,575.009 1114.68,702.932 1135.32,826.199 1155.97,943.425 1176.61,1057.56 1197.26,1172.05 1217.9,1281.44 1238.55,1369.97 1259.19,1421.93 \n",
       "  1279.84,1440.4 1300.48,1443.76 1321.13,1443.91 1341.77,1442.63 1362.42,1437.11 1383.06,1423.74 1403.71,1390.38 1424.35,1321.74 1445,1184.5 1465.64,964.474 \n",
       "  1486.29,660.248 1506.93,366.078 1527.58,174.668 1548.22,104.975 1568.87,90.4608 1589.51,88.3042 1610.16,88.0176 1630.8,87.985 1651.45,87.9836 1672.09,87.9957 \n",
       "  1692.74,88.0602 1713.38,88.2478 1734.03,88.9842 1754.67,90.8172 1775.32,96.8385 1795.96,109.882 1816.61,144.871 1837.25,211.308 1857.9,350.547 1878.54,567.771 \n",
       "  1899.19,873.77 1919.83,1166.71 1940.48,1359.36 1961.12,1428.9 1981.77,1443.05 2002.41,1444.8 2023.06,1444.88 2043.7,1444.31 2064.35,1442.07 2084.99,1436.78 \n",
       "  2105.64,1425.37 2126.28,1401.97 2146.93,1359.9 2167.57,1290.86 2188.22,1189.42 2208.86,1055.53 2229.51,896.749 2250.15,721.574 2270.8,539.146 2291.44,362.938 \n",
       "  \n",
       "  \"/>\n",
       "</svg>\n"
      ]
     },
     "execution_count": 83,
     "metadata": {},
     "output_type": "execute_result"
    }
   ],
   "source": [
    "x, thist, uhist = fv_solve2(riemann_advection, testfunc, 100, .5,\n",
    "    limit_sin)\n",
    "plot(x, uhist[:,1:10:end], legend=:none)"
   ]
  }
 ],
 "metadata": {
  "celltoolbar": "Slideshow",
  "kernelspec": {
   "display_name": "Julia 1.6.2",
   "language": "julia",
   "name": "julia-1.6"
  },
  "language_info": {
   "file_extension": ".jl",
   "mimetype": "application/julia",
   "name": "julia",
   "version": "1.6.4"
  },
  "rise": {
   "enable_chalkboard": true
  }
 },
 "nbformat": 4,
 "nbformat_minor": 5
}
