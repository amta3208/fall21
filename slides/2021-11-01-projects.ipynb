{
 "cells": [
  {
   "cell_type": "markdown",
   "id": "3dba1684",
   "metadata": {
    "slideshow": {
     "slide_type": "slide"
    }
   },
   "source": [
    "# 2021-11-01 Projects\n",
    "\n",
    "## Last time\n",
    "\n",
    "* Geometric multigrid\n",
    "* Multigrid as factorization\n",
    "* Algebraic multigrid/smoothed aggregation\n",
    "  \n",
    "## Today\n",
    "\n",
    "* Running multigrid with PETSc\n",
    "* Projects\n",
    "* GitHub codesearch, JOSS search\n",
    "* Decide what's next: Finite Element or Finite Volume"
   ]
  },
  {
   "cell_type": "markdown",
   "id": "9e6345d2",
   "metadata": {
    "slideshow": {
     "slide_type": "slide"
    }
   },
   "source": [
    "# Running multigrid in PETSc"
   ]
  },
  {
   "cell_type": "markdown",
   "id": "bbe5e537",
   "metadata": {
    "cell_style": "split"
   },
   "source": [
    "## Geometric multigrid\n",
    "\n",
    "* When PETSc manages the distribution (`DM`)\n",
    "  * `DMDA` for structured grids\n",
    "  * `DMPlex` for unstructured\n",
    "  * `DMForest` for octrees with [p4est](https://p4est.org/)\n",
    "* `dm_refine 2` or `-da_refine 2` for regular refinement.\n",
    "* `-pc_type mg`\n",
    "* `-pc_mg_galerkin`\n",
    "* `-pc_mg_levels 4` can set non-default\n",
    "* `-ksp_view` and check solvers on levels\n",
    "  * Chebyshev/SOR"
   ]
  },
  {
   "cell_type": "markdown",
   "id": "d7914db8",
   "metadata": {
    "cell_style": "split"
   },
   "source": [
    "## Algebraic multigrid\n",
    "\n",
    "### GAMG (smoothed aggregation)\n",
    "\n",
    "* `-pc_type gamg`\n",
    "* `-pc_gamg_threshold 0.01`\n",
    "* `-pc_gamg_esteig_ksp_monitor`\n",
    "* `-mg_levels_2_esteig_ksp_monitor`\n",
    "\n",
    "### BoomerAMG (`--download-hypre`)\n",
    "\n",
    "* `-pc_type hypre`\n",
    "* `-pc_hypre_boomeramg_strong_threshold 0.75`"
   ]
  },
  {
   "cell_type": "markdown",
   "id": "68d90842",
   "metadata": {
    "slideshow": {
     "slide_type": "slide"
    }
   },
   "source": [
    "# Searching for projects"
   ]
  },
  {
   "cell_type": "markdown",
   "id": "10c2afc1",
   "metadata": {
    "cell_style": "split",
    "slideshow": {
     "slide_type": ""
    }
   },
   "source": [
    "## [GitHub codesearch](https://github.com/search)\n",
    "\n",
    "* Check Insights -> Contributors\n",
    "  * Sustained versus short-term activity\n",
    "  * Number of stakeholders\n",
    "  * `git shortlog -se --since=2016 | sort -n`\n",
    "* Community signals\n",
    "  * Code of Conduct\n",
    "  * Contributing guidelines, pull request templates\n",
    "  * Active review and mentoring in pull requests\n",
    "* Continuous integration\n",
    "  * Actions tab, also report in pull requests\n",
    "  * Pipelines for repositories on GitLab"
   ]
  },
  {
   "cell_type": "markdown",
   "id": "d92ab6ea",
   "metadata": {
    "cell_style": "split"
   },
   "source": [
    "## Journals\n",
    "\n",
    "### [Journal of Open Source Software](https://joss.theoj.org/papers)\n",
    "\n",
    "* Papers on mature software with many users\n",
    "* Immature research software with a few users, but best practices and intent to grow\n",
    "\n",
    "### [Geoscientific Model Development](https://geoscientific-model-development.net/)\n",
    "\n",
    "* Blends software and methods work"
   ]
  }
 ],
 "metadata": {
  "celltoolbar": "Slideshow",
  "kernelspec": {
   "display_name": "Julia 1.6.2",
   "language": "julia",
   "name": "julia-1.6"
  },
  "language_info": {
   "file_extension": ".jl",
   "mimetype": "application/julia",
   "name": "julia",
   "version": "1.6.3"
  },
  "rise": {
   "enable_chalkboard": true
  }
 },
 "nbformat": 4,
 "nbformat_minor": 5
}
