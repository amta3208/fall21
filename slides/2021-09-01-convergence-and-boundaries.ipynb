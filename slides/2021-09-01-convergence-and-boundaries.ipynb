{
 "cells": [
  {
   "cell_type": "markdown",
   "id": "4159be0e",
   "metadata": {
    "slideshow": {
     "slide_type": "slide"
    }
   },
   "source": [
    "# 2021-09-01 Boundaries and Fourier methods\n",
    "\n",
    "## Last time\n",
    "* High order on arbitrary grids\n",
    "* Method of manufactured solutions\n",
    "* More satisfying approach to boundary conditions\n",
    "\n",
    "## Today\n",
    "* More on boundary conditions\n",
    "* Fourier methods for analyzing finite difference methods\n",
    "* Discussion"
   ]
  },
  {
   "cell_type": "code",
   "execution_count": 1,
   "id": "009bd630",
   "metadata": {
    "slideshow": {
     "slide_type": "skip"
    }
   },
   "outputs": [],
   "source": [
    "using Plots\n",
    "using LinearAlgebra"
   ]
  },
  {
   "cell_type": "markdown",
   "id": "b1021585",
   "metadata": {
    "cell_style": "center",
    "slideshow": {
     "slide_type": "slide"
    }
   },
   "source": [
    "# Interpolation by Vandermonde matrices"
   ]
  },
  {
   "cell_type": "markdown",
   "id": "dc496c6d",
   "metadata": {
    "cell_style": "split",
    "slideshow": {
     "slide_type": ""
    }
   },
   "source": [
    "We can compute a polynomial\n",
    "\n",
    "$$ p(x) = c_0 + c_1 x + c_2 x^2 + \\dotsb $$\n",
    "\n",
    "that assumes function values $p(x_i) = u_i$ by solving a linear system with the Vandermonde matrix.\n",
    "\n",
    "$$ \\underbrace{\\begin{bmatrix} 1 & x_0 & x_0^2 & \\dotsb \\\\\n",
    "    1 & x_1 & x_1^2 & \\dotsb \\\\\n",
    "    1 & x_2 & x_2^2 & \\dotsb \\\\\n",
    "    \\vdots & & & \\ddots \\end{bmatrix}}_V \\begin{bmatrix} c_0 \\\\ c_1 \\\\ c_2 \\\\ \\vdots \\end{bmatrix} = \\begin{bmatrix} u_0 \\\\ u_1 \\\\ u_2 \\\\ \\vdots \\end{bmatrix} .$$"
   ]
  },
  {
   "cell_type": "code",
   "execution_count": 2,
   "id": "b2ba3380",
   "metadata": {
    "cell_style": "split"
   },
   "outputs": [
    {
     "data": {
      "text/plain": [
       "vander (generic function with 2 methods)"
      ]
     },
     "execution_count": 2,
     "metadata": {},
     "output_type": "execute_result"
    }
   ],
   "source": [
    "function vander(x, k=nothing)\n",
    "    if k === nothing\n",
    "        k = length(x)\n",
    "    end\n",
    "    V = ones(length(x), k)\n",
    "    for j = 2:k\n",
    "        V[:, j] = V[:, j-1] .* x\n",
    "    end\n",
    "    V\n",
    "end"
   ]
  },
  {
   "cell_type": "code",
   "execution_count": 53,
   "id": "bc3cfac0",
   "metadata": {
    "cell_style": "split"
   },
   "outputs": [
    {
     "data": {
      "text/plain": [
       "743.2516243247674"
      ]
     },
     "execution_count": 53,
     "metadata": {},
     "output_type": "execute_result"
    }
   ],
   "source": [
    "cond(vander(LinRange(-1, 1, 5) .+ 1))\n",
    "#cond(vander([-1,-.99,-.98,-.97, 1]))"
   ]
  },
  {
   "cell_type": "markdown",
   "id": "9c4241dc",
   "metadata": {
    "slideshow": {
     "slide_type": "slide"
    }
   },
   "source": [
    "# Arbitrary order derivatives"
   ]
  },
  {
   "cell_type": "code",
   "execution_count": 54,
   "id": "3b13099a",
   "metadata": {
    "cell_style": "split"
   },
   "outputs": [
    {
     "data": {
      "text/plain": [
       "1×5 adjoint(::Vector{Float64}) with eltype Float64:\n",
       " -0.208333  1.33333  -1.75  0.333333  0.291667"
      ]
     },
     "execution_count": 54,
     "metadata": {},
     "output_type": "execute_result"
    }
   ],
   "source": [
    "function fdstencil(source, target, k)\n",
    "    \"kth derivative stencil from source to target\"\n",
    "    x = source .- target\n",
    "    V = vander(x)\n",
    "    rhs = zero(x)'\n",
    "    rhs[k+1] = factorial(k)\n",
    "    rhs / V\n",
    "end\n",
    "x = LinRange(-2, 2, 5)\n",
    "u = sin.(x)\n",
    "fdstencil(x, 0.5, 2)\n"
   ]
  },
  {
   "cell_type": "code",
   "execution_count": 55,
   "id": "09e17560",
   "metadata": {
    "cell_style": "split"
   },
   "outputs": [
    {
     "data": {
      "image/svg+xml": [
       "<?xml version=\"1.0\" encoding=\"utf-8\"?>\n",
       "<svg xmlns=\"http://www.w3.org/2000/svg\" xmlns:xlink=\"http://www.w3.org/1999/xlink\" width=\"600\" height=\"400\" viewBox=\"0 0 2400 1600\">\n",
       "<defs>\n",
       "  <clipPath id=\"clip880\">\n",
       "    <rect x=\"0\" y=\"0\" width=\"2400\" height=\"1600\"/>\n",
       "  </clipPath>\n",
       "</defs>\n",
       "<path clip-path=\"url(#clip880)\" d=\"\n",
       "M0 1600 L2400 1600 L2400 0 L0 0  Z\n",
       "  \" fill=\"#ffffff\" fill-rule=\"evenodd\" fill-opacity=\"1\"/>\n",
       "<defs>\n",
       "  <clipPath id=\"clip881\">\n",
       "    <rect x=\"480\" y=\"0\" width=\"1681\" height=\"1600\"/>\n",
       "  </clipPath>\n",
       "</defs>\n",
       "<path clip-path=\"url(#clip880)\" d=\"\n",
       "M149.191 1486.45 L2352.76 1486.45 L2352.76 47.2441 L149.191 47.2441  Z\n",
       "  \" fill=\"#ffffff\" fill-rule=\"evenodd\" fill-opacity=\"1\"/>\n",
       "<defs>\n",
       "  <clipPath id=\"clip882\">\n",
       "    <rect x=\"149\" y=\"47\" width=\"2205\" height=\"1440\"/>\n",
       "  </clipPath>\n",
       "</defs>\n",
       "<polyline clip-path=\"url(#clip882)\" style=\"stroke:#000000; stroke-linecap:butt; stroke-linejoin:round; stroke-width:2; stroke-opacity:0.1; fill:none\" points=\"\n",
       "  419.439,1486.45 419.439,47.2441 \n",
       "  \"/>\n",
       "<polyline clip-path=\"url(#clip882)\" style=\"stroke:#000000; stroke-linecap:butt; stroke-linejoin:round; stroke-width:2; stroke-opacity:0.1; fill:none\" points=\"\n",
       "  835.206,1486.45 835.206,47.2441 \n",
       "  \"/>\n",
       "<polyline clip-path=\"url(#clip882)\" style=\"stroke:#000000; stroke-linecap:butt; stroke-linejoin:round; stroke-width:2; stroke-opacity:0.1; fill:none\" points=\"\n",
       "  1250.97,1486.45 1250.97,47.2441 \n",
       "  \"/>\n",
       "<polyline clip-path=\"url(#clip882)\" style=\"stroke:#000000; stroke-linecap:butt; stroke-linejoin:round; stroke-width:2; stroke-opacity:0.1; fill:none\" points=\"\n",
       "  1666.74,1486.45 1666.74,47.2441 \n",
       "  \"/>\n",
       "<polyline clip-path=\"url(#clip882)\" style=\"stroke:#000000; stroke-linecap:butt; stroke-linejoin:round; stroke-width:2; stroke-opacity:0.1; fill:none\" points=\"\n",
       "  2082.51,1486.45 2082.51,47.2441 \n",
       "  \"/>\n",
       "<polyline clip-path=\"url(#clip880)\" style=\"stroke:#000000; stroke-linecap:butt; stroke-linejoin:round; stroke-width:4; stroke-opacity:1; fill:none\" points=\"\n",
       "  149.191,1486.45 2352.76,1486.45 \n",
       "  \"/>\n",
       "<polyline clip-path=\"url(#clip880)\" style=\"stroke:#000000; stroke-linecap:butt; stroke-linejoin:round; stroke-width:4; stroke-opacity:1; fill:none\" points=\"\n",
       "  419.439,1486.45 419.439,1467.55 \n",
       "  \"/>\n",
       "<polyline clip-path=\"url(#clip880)\" style=\"stroke:#000000; stroke-linecap:butt; stroke-linejoin:round; stroke-width:4; stroke-opacity:1; fill:none\" points=\"\n",
       "  835.206,1486.45 835.206,1467.55 \n",
       "  \"/>\n",
       "<polyline clip-path=\"url(#clip880)\" style=\"stroke:#000000; stroke-linecap:butt; stroke-linejoin:round; stroke-width:4; stroke-opacity:1; fill:none\" points=\"\n",
       "  1250.97,1486.45 1250.97,1467.55 \n",
       "  \"/>\n",
       "<polyline clip-path=\"url(#clip880)\" style=\"stroke:#000000; stroke-linecap:butt; stroke-linejoin:round; stroke-width:4; stroke-opacity:1; fill:none\" points=\"\n",
       "  1666.74,1486.45 1666.74,1467.55 \n",
       "  \"/>\n",
       "<polyline clip-path=\"url(#clip880)\" style=\"stroke:#000000; stroke-linecap:butt; stroke-linejoin:round; stroke-width:4; stroke-opacity:1; fill:none\" points=\"\n",
       "  2082.51,1486.45 2082.51,1467.55 \n",
       "  \"/>\n",
       "<path clip-path=\"url(#clip880)\" d=\"M388.34 1530.29 L418.016 1530.29 L418.016 1534.23 L388.34 1534.23 L388.34 1530.29 Z\" fill=\"#000000\" fill-rule=\"evenodd\" fill-opacity=\"1\" /><path clip-path=\"url(#clip880)\" d=\"M440.955 1516.63 L429.15 1535.08 L440.955 1535.08 L440.955 1516.63 M439.729 1512.56 L445.608 1512.56 L445.608 1535.08 L450.539 1535.08 L450.539 1538.97 L445.608 1538.97 L445.608 1547.12 L440.955 1547.12 L440.955 1538.97 L425.354 1538.97 L425.354 1534.46 L439.729 1512.56 Z\" fill=\"#000000\" fill-rule=\"evenodd\" fill-opacity=\"1\" /><path clip-path=\"url(#clip880)\" d=\"M805.149 1530.29 L834.824 1530.29 L834.824 1534.23 L805.149 1534.23 L805.149 1530.29 Z\" fill=\"#000000\" fill-rule=\"evenodd\" fill-opacity=\"1\" /><path clip-path=\"url(#clip880)\" d=\"M848.945 1543.18 L865.264 1543.18 L865.264 1547.12 L843.32 1547.12 L843.32 1543.18 Q845.982 1540.43 850.565 1535.8 Q855.172 1531.15 856.352 1529.81 Q858.597 1527.28 859.477 1525.55 Q860.38 1523.79 860.38 1522.1 Q860.38 1519.34 858.435 1517.61 Q856.514 1515.87 853.412 1515.87 Q851.213 1515.87 848.76 1516.63 Q846.329 1517.4 843.551 1518.95 L843.551 1514.23 Q846.375 1513.09 848.829 1512.51 Q851.283 1511.93 853.32 1511.93 Q858.69 1511.93 861.884 1514.62 Q865.079 1517.31 865.079 1521.8 Q865.079 1523.93 864.269 1525.85 Q863.482 1527.74 861.375 1530.34 Q860.797 1531.01 857.695 1534.23 Q854.593 1537.42 848.945 1543.18 Z\" fill=\"#000000\" fill-rule=\"evenodd\" fill-opacity=\"1\" /><path clip-path=\"url(#clip880)\" d=\"M1250.97 1515.64 Q1247.36 1515.64 1245.53 1519.2 Q1243.73 1522.75 1243.73 1529.87 Q1243.73 1536.98 1245.53 1540.55 Q1247.36 1544.09 1250.97 1544.09 Q1254.61 1544.09 1256.41 1540.55 Q1258.24 1536.98 1258.24 1529.87 Q1258.24 1522.75 1256.41 1519.2 Q1254.61 1515.64 1250.97 1515.64 M1250.97 1511.93 Q1256.78 1511.93 1259.84 1516.54 Q1262.92 1521.12 1262.92 1529.87 Q1262.92 1538.6 1259.84 1543.21 Q1256.78 1547.79 1250.97 1547.79 Q1245.16 1547.79 1242.08 1543.21 Q1239.03 1538.6 1239.03 1529.87 Q1239.03 1521.12 1242.08 1516.54 Q1245.16 1511.93 1250.97 1511.93 Z\" fill=\"#000000\" fill-rule=\"evenodd\" fill-opacity=\"1\" /><path clip-path=\"url(#clip880)\" d=\"M1661.39 1543.18 L1677.71 1543.18 L1677.71 1547.12 L1655.77 1547.12 L1655.77 1543.18 Q1658.43 1540.43 1663.01 1535.8 Q1667.62 1531.15 1668.8 1529.81 Q1671.05 1527.28 1671.93 1525.55 Q1672.83 1523.79 1672.83 1522.1 Q1672.83 1519.34 1670.88 1517.61 Q1668.96 1515.87 1665.86 1515.87 Q1663.66 1515.87 1661.21 1516.63 Q1658.78 1517.4 1656 1518.95 L1656 1514.23 Q1658.82 1513.09 1661.28 1512.51 Q1663.73 1511.93 1665.77 1511.93 Q1671.14 1511.93 1674.33 1514.62 Q1677.53 1517.31 1677.53 1521.8 Q1677.53 1523.93 1676.72 1525.85 Q1675.93 1527.74 1673.82 1530.34 Q1673.24 1531.01 1670.14 1534.23 Q1667.04 1537.42 1661.39 1543.18 Z\" fill=\"#000000\" fill-rule=\"evenodd\" fill-opacity=\"1\" /><path clip-path=\"url(#clip880)\" d=\"M2085.52 1516.63 L2073.71 1535.08 L2085.52 1535.08 L2085.52 1516.63 M2084.29 1512.56 L2090.17 1512.56 L2090.17 1535.08 L2095.1 1535.08 L2095.1 1538.97 L2090.17 1538.97 L2090.17 1547.12 L2085.52 1547.12 L2085.52 1538.97 L2069.91 1538.97 L2069.91 1534.46 L2084.29 1512.56 Z\" fill=\"#000000\" fill-rule=\"evenodd\" fill-opacity=\"1\" /><polyline clip-path=\"url(#clip882)\" style=\"stroke:#000000; stroke-linecap:butt; stroke-linejoin:round; stroke-width:2; stroke-opacity:0.1; fill:none\" points=\"\n",
       "  149.191,1468.84 2352.76,1468.84 \n",
       "  \"/>\n",
       "<polyline clip-path=\"url(#clip882)\" style=\"stroke:#000000; stroke-linecap:butt; stroke-linejoin:round; stroke-width:2; stroke-opacity:0.1; fill:none\" points=\"\n",
       "  149.191,1117.84 2352.76,1117.84 \n",
       "  \"/>\n",
       "<polyline clip-path=\"url(#clip882)\" style=\"stroke:#000000; stroke-linecap:butt; stroke-linejoin:round; stroke-width:2; stroke-opacity:0.1; fill:none\" points=\"\n",
       "  149.191,766.846 2352.76,766.846 \n",
       "  \"/>\n",
       "<polyline clip-path=\"url(#clip882)\" style=\"stroke:#000000; stroke-linecap:butt; stroke-linejoin:round; stroke-width:2; stroke-opacity:0.1; fill:none\" points=\"\n",
       "  149.191,415.848 2352.76,415.848 \n",
       "  \"/>\n",
       "<polyline clip-path=\"url(#clip882)\" style=\"stroke:#000000; stroke-linecap:butt; stroke-linejoin:round; stroke-width:2; stroke-opacity:0.1; fill:none\" points=\"\n",
       "  149.191,64.8495 2352.76,64.8495 \n",
       "  \"/>\n",
       "<polyline clip-path=\"url(#clip880)\" style=\"stroke:#000000; stroke-linecap:butt; stroke-linejoin:round; stroke-width:4; stroke-opacity:1; fill:none\" points=\"\n",
       "  149.191,1486.45 149.191,47.2441 \n",
       "  \"/>\n",
       "<polyline clip-path=\"url(#clip880)\" style=\"stroke:#000000; stroke-linecap:butt; stroke-linejoin:round; stroke-width:4; stroke-opacity:1; fill:none\" points=\"\n",
       "  149.191,1468.84 168.089,1468.84 \n",
       "  \"/>\n",
       "<polyline clip-path=\"url(#clip880)\" style=\"stroke:#000000; stroke-linecap:butt; stroke-linejoin:round; stroke-width:4; stroke-opacity:1; fill:none\" points=\"\n",
       "  149.191,1117.84 168.089,1117.84 \n",
       "  \"/>\n",
       "<polyline clip-path=\"url(#clip880)\" style=\"stroke:#000000; stroke-linecap:butt; stroke-linejoin:round; stroke-width:4; stroke-opacity:1; fill:none\" points=\"\n",
       "  149.191,766.846 168.089,766.846 \n",
       "  \"/>\n",
       "<polyline clip-path=\"url(#clip880)\" style=\"stroke:#000000; stroke-linecap:butt; stroke-linejoin:round; stroke-width:4; stroke-opacity:1; fill:none\" points=\"\n",
       "  149.191,415.848 168.089,415.848 \n",
       "  \"/>\n",
       "<polyline clip-path=\"url(#clip880)\" style=\"stroke:#000000; stroke-linecap:butt; stroke-linejoin:round; stroke-width:4; stroke-opacity:1; fill:none\" points=\"\n",
       "  149.191,64.8495 168.089,64.8495 \n",
       "  \"/>\n",
       "<path clip-path=\"url(#clip880)\" d=\"M50.9921 1469.29 L80.6679 1469.29 L80.6679 1473.23 L50.9921 1473.23 L50.9921 1469.29 Z\" fill=\"#000000\" fill-rule=\"evenodd\" fill-opacity=\"1\" /><path clip-path=\"url(#clip880)\" d=\"M103.608 1455.64 L91.8021 1474.09 L103.608 1474.09 L103.608 1455.64 M102.381 1451.56 L108.26 1451.56 L108.26 1474.09 L113.191 1474.09 L113.191 1477.97 L108.26 1477.97 L108.26 1486.12 L103.608 1486.12 L103.608 1477.97 L88.0058 1477.97 L88.0058 1473.46 L102.381 1451.56 Z\" fill=\"#000000\" fill-rule=\"evenodd\" fill-opacity=\"1\" /><path clip-path=\"url(#clip880)\" d=\"M53.0754 1118.3 L82.7512 1118.3 L82.7512 1122.23 L53.0754 1122.23 L53.0754 1118.3 Z\" fill=\"#000000\" fill-rule=\"evenodd\" fill-opacity=\"1\" /><path clip-path=\"url(#clip880)\" d=\"M96.8715 1131.19 L113.191 1131.19 L113.191 1135.12 L91.2465 1135.12 L91.2465 1131.19 Q93.9086 1128.43 98.4919 1123.8 Q103.098 1119.15 104.279 1117.81 Q106.524 1115.29 107.404 1113.55 Q108.307 1111.79 108.307 1110.1 Q108.307 1107.35 106.362 1105.61 Q104.441 1103.87 101.339 1103.87 Q99.14 1103.87 96.6863 1104.64 Q94.2558 1105.4 91.478 1106.95 L91.478 1102.23 Q94.3021 1101.1 96.7558 1100.52 Q99.2095 1099.94 101.246 1099.94 Q106.617 1099.94 109.811 1102.62 Q113.006 1105.31 113.006 1109.8 Q113.006 1111.93 112.196 1113.85 Q111.408 1115.75 109.302 1118.34 Q108.723 1119.01 105.621 1122.23 Q102.52 1125.43 96.8715 1131.19 Z\" fill=\"#000000\" fill-rule=\"evenodd\" fill-opacity=\"1\" /><path clip-path=\"url(#clip880)\" d=\"M101.246 752.645 Q97.6354 752.645 95.8067 756.209 Q94.0012 759.751 94.0012 766.881 Q94.0012 773.987 95.8067 777.552 Q97.6354 781.094 101.246 781.094 Q104.881 781.094 106.686 777.552 Q108.515 773.987 108.515 766.881 Q108.515 759.751 106.686 756.209 Q104.881 752.645 101.246 752.645 M101.246 748.941 Q107.057 748.941 110.112 753.547 Q113.191 758.131 113.191 766.881 Q113.191 775.608 110.112 780.214 Q107.057 784.797 101.246 784.797 Q95.4363 784.797 92.3576 780.214 Q89.3021 775.608 89.3021 766.881 Q89.3021 758.131 92.3576 753.547 Q95.4363 748.941 101.246 748.941 Z\" fill=\"#000000\" fill-rule=\"evenodd\" fill-opacity=\"1\" /><path clip-path=\"url(#clip880)\" d=\"M96.8715 429.193 L113.191 429.193 L113.191 433.128 L91.2465 433.128 L91.2465 429.193 Q93.9086 426.438 98.4919 421.808 Q103.098 417.156 104.279 415.813 Q106.524 413.29 107.404 411.554 Q108.307 409.795 108.307 408.105 Q108.307 405.35 106.362 403.614 Q104.441 401.878 101.339 401.878 Q99.14 401.878 96.6863 402.642 Q94.2558 403.406 91.478 404.957 L91.478 400.234 Q94.3021 399.1 96.7558 398.521 Q99.2095 397.943 101.246 397.943 Q106.617 397.943 109.811 400.628 Q113.006 403.313 113.006 407.804 Q113.006 409.933 112.196 411.855 Q111.408 413.753 109.302 416.345 Q108.723 417.017 105.621 420.234 Q102.52 423.429 96.8715 429.193 Z\" fill=\"#000000\" fill-rule=\"evenodd\" fill-opacity=\"1\" /><path clip-path=\"url(#clip880)\" d=\"M103.608 51.6435 L91.8021 70.0925 L103.608 70.0925 L103.608 51.6435 M102.381 47.5695 L108.26 47.5695 L108.26 70.0925 L113.191 70.0925 L113.191 73.9814 L108.26 73.9814 L108.26 82.1295 L103.608 82.1295 L103.608 73.9814 L88.0058 73.9814 L88.0058 69.4675 L102.381 47.5695 Z\" fill=\"#000000\" fill-rule=\"evenodd\" fill-opacity=\"1\" /><polyline clip-path=\"url(#clip882)\" style=\"stroke:#009af9; stroke-linecap:butt; stroke-linejoin:round; stroke-width:4; stroke-opacity:1; fill:none\" points=\"\n",
       "  211.556,87.9763 231.857,101.236 419.574,223.838 532.384,297.517 627.764,359.812 731.373,427.482 826.891,489.867 929.296,556.751 1047.94,634.242 1153.38,703.107 \n",
       "  1245.84,763.496 1346.65,829.335 1448.06,895.566 1560.17,968.793 1666.85,1038.47 1777.77,1110.91 1871.14,1171.89 1985.14,1246.35 2092.29,1316.33 2263.97,1428.46 \n",
       "  2290.39,1445.72 \n",
       "  \"/>\n",
       "<polyline clip-path=\"url(#clip882)\" style=\"stroke:#e26f46; stroke-linecap:butt; stroke-linejoin:round; stroke-width:4; stroke-opacity:1; fill:none\" points=\"\n",
       "  211.556,935.136 216.631,936.301 221.707,937.366 226.782,938.328 231.857,939.188 255.322,941.824 278.787,942.233 302.251,940.409 325.716,936.377 349.181,930.187 \n",
       "  372.645,921.918 396.11,911.675 419.574,899.59 447.777,882.843 475.979,863.965 504.182,843.303 532.384,821.235 580.074,781.866 627.764,741.711 679.568,699.651 \n",
       "  731.373,661.742 755.252,646.325 779.132,632.498 803.011,620.441 826.891,610.313 852.492,601.751 878.094,595.689 903.695,592.219 929.296,591.395 958.958,593.762 \n",
       "  988.62,599.647 1018.28,608.93 1047.94,621.422 1074.3,635.014 1100.66,650.723 1127.02,668.296 1153.38,687.451 1199.61,723.926 1245.84,762.516 1296.25,804.765 \n",
       "  1346.65,844.797 1372,863.346 1397.35,880.461 1422.71,895.889 1448.06,909.4 1476.09,921.866 1504.12,931.519 1532.15,938.182 1560.17,941.735 1586.84,942.168 \n",
       "  1613.51,939.721 1640.18,934.431 1666.85,926.388 1694.58,915.246 1722.31,901.468 1750.04,885.298 1777.77,867.023 1824.46,832.418 1871.14,794.519 1928.14,746.563 \n",
       "  1985.14,700.121 2011.93,679.814 2038.72,660.951 2065.5,643.844 2092.29,628.776 2113.75,618.348 2135.21,609.5 2156.67,602.328 2178.13,596.907 2199.59,593.296 \n",
       "  2221.05,591.532 2242.51,591.635 2263.97,593.603 2270.58,594.582 2277.18,595.734 2283.79,597.059 2290.39,598.556 \n",
       "  \"/>\n",
       "<path clip-path=\"url(#clip880)\" d=\"\n",
       "M1982.03 250.738 L2279.3 250.738 L2279.3 95.2176 L1982.03 95.2176  Z\n",
       "  \" fill=\"#ffffff\" fill-rule=\"evenodd\" fill-opacity=\"1\"/>\n",
       "<polyline clip-path=\"url(#clip880)\" style=\"stroke:#000000; stroke-linecap:butt; stroke-linejoin:round; stroke-width:4; stroke-opacity:1; fill:none\" points=\"\n",
       "  1982.03,250.738 2279.3,250.738 2279.3,95.2176 1982.03,95.2176 1982.03,250.738 \n",
       "  \"/>\n",
       "<polyline clip-path=\"url(#clip880)\" style=\"stroke:#009af9; stroke-linecap:butt; stroke-linejoin:round; stroke-width:4; stroke-opacity:1; fill:none\" points=\"\n",
       "  2006.52,147.058 2153.42,147.058 \n",
       "  \"/>\n",
       "<path clip-path=\"url(#clip880)\" d=\"M2191.75 166.745 Q2189.94 171.375 2188.23 172.787 Q2186.52 174.199 2183.65 174.199 L2180.24 174.199 L2180.24 170.634 L2182.74 170.634 Q2184.5 170.634 2185.47 169.8 Q2186.45 168.967 2187.63 165.865 L2188.39 163.921 L2177.91 138.412 L2182.42 138.412 L2190.52 158.689 L2198.62 138.412 L2203.14 138.412 L2191.75 166.745 Z\" fill=\"#000000\" fill-rule=\"evenodd\" fill-opacity=\"1\" /><path clip-path=\"url(#clip880)\" d=\"M2210.43 160.402 L2218.07 160.402 L2218.07 134.037 L2209.76 135.703 L2209.76 131.444 L2218.02 129.778 L2222.7 129.778 L2222.7 160.402 L2230.34 160.402 L2230.34 164.338 L2210.43 164.338 L2210.43 160.402 Z\" fill=\"#000000\" fill-rule=\"evenodd\" fill-opacity=\"1\" /><polyline clip-path=\"url(#clip880)\" style=\"stroke:#e26f46; stroke-linecap:butt; stroke-linejoin:round; stroke-width:4; stroke-opacity:1; fill:none\" points=\"\n",
       "  2006.52,198.898 2153.42,198.898 \n",
       "  \"/>\n",
       "<path clip-path=\"url(#clip880)\" d=\"M2191.75 218.585 Q2189.94 223.215 2188.23 224.627 Q2186.52 226.039 2183.65 226.039 L2180.24 226.039 L2180.24 222.474 L2182.74 222.474 Q2184.5 222.474 2185.47 221.64 Q2186.45 220.807 2187.63 217.705 L2188.39 215.761 L2177.91 190.252 L2182.42 190.252 L2190.52 210.529 L2198.62 190.252 L2203.14 190.252 L2191.75 218.585 Z\" fill=\"#000000\" fill-rule=\"evenodd\" fill-opacity=\"1\" /><path clip-path=\"url(#clip880)\" d=\"M2213.65 212.242 L2229.97 212.242 L2229.97 216.178 L2208.02 216.178 L2208.02 212.242 Q2210.68 209.488 2215.27 204.858 Q2219.87 200.205 2221.05 198.863 Q2223.3 196.34 2224.18 194.604 Q2225.08 192.844 2225.08 191.155 Q2225.08 188.4 2223.14 186.664 Q2221.22 184.928 2218.11 184.928 Q2215.91 184.928 2213.46 185.692 Q2211.03 186.455 2208.25 188.006 L2208.25 183.284 Q2211.08 182.15 2213.53 181.571 Q2215.98 180.993 2218.02 180.993 Q2223.39 180.993 2226.59 183.678 Q2229.78 186.363 2229.78 190.854 Q2229.78 192.983 2228.97 194.905 Q2228.18 196.803 2226.08 199.395 Q2225.5 200.067 2222.4 203.284 Q2219.29 206.479 2213.65 212.242 Z\" fill=\"#000000\" fill-rule=\"evenodd\" fill-opacity=\"1\" /></svg>\n"
      ]
     },
     "execution_count": 55,
     "metadata": {},
     "output_type": "execute_result"
    }
   ],
   "source": [
    "plot([z -> fdstencil(x, z, 2) * u,\n",
    "        z -> -sin(z)]) "
   ]
  },
  {
   "cell_type": "markdown",
   "id": "ef2644e7",
   "metadata": {
    "slideshow": {
     "slide_type": "slide"
    }
   },
   "source": [
    "# High order discretization of the Laplacian\n",
    "## The Poisson problem $-u_{xx} = f$ with boundary conditions"
   ]
  },
  {
   "cell_type": "code",
   "execution_count": 56,
   "id": "c1fd1a46",
   "metadata": {
    "cell_style": "split"
   },
   "outputs": [
    {
     "data": {
      "text/plain": [
       "poisson (generic function with 1 method)"
      ]
     },
     "execution_count": 56,
     "metadata": {},
     "output_type": "execute_result"
    }
   ],
   "source": [
    "function poisson(x, spoints, forcing; left=(0, zero), right=(0, zero))\n",
    "    n = length(x)\n",
    "    L = zeros(n, n)\n",
    "    rhs = forcing.(x)\n",
    "    for i in 2:n-1\n",
    "        jleft = min(max(1, i-spoints÷2), n-spoints+1)\n",
    "        js = jleft : jleft + spoints - 1\n",
    "        L[i, js] = -fdstencil(x[js], x[i], 2)\n",
    "    end\n",
    "    L[1,1:spoints] = fdstencil(x[1:spoints], x[1], left[1])\n",
    "    L[n,n-spoints+1:n] = fdstencil(x[n-spoints+1:n], x[n], right[1])\n",
    "    rhs[1] = left[2](x[1])\n",
    "    rhs[n] = right[2](x[n])\n",
    "    L, rhs\n",
    "end"
   ]
  },
  {
   "cell_type": "code",
   "execution_count": 57,
   "id": "251c9b3c",
   "metadata": {
    "cell_style": "split"
   },
   "outputs": [
    {
     "data": {
      "text/plain": [
       "6×6 Matrix{Float64}:\n",
       " -3.75   5.0   -1.25   0.0           0.0           0.0\n",
       " -6.25  12.5   -6.25   0.0           0.0           0.0\n",
       "  0.0   -6.25  12.5   -6.25          0.0           0.0\n",
       "  0.0    0.0   -6.25  12.5          -6.25          0.0\n",
       "  0.0    0.0    0.0   -6.25         12.5          -6.25\n",
       "  0.0    0.0    0.0    9.25186e-18  -2.31296e-16   1.0"
      ]
     },
     "execution_count": 57,
     "metadata": {},
     "output_type": "execute_result"
    }
   ],
   "source": [
    "L, b = poisson(LinRange(-1, 1, 6), 3, zero, left=(1, zero))\n",
    "L"
   ]
  },
  {
   "cell_type": "markdown",
   "id": "7c8629f2",
   "metadata": {
    "slideshow": {
     "slide_type": "slide"
    }
   },
   "source": [
    "# Method of manufactured solutions"
   ]
  },
  {
   "cell_type": "markdown",
   "id": "401d55dc",
   "metadata": {
    "cell_style": "split"
   },
   "source": [
    "## Problem: analytic solutions to PDEs are hard to find\n",
    "\n",
    "Let's choose a smooth function with rich derivatives,\n",
    "$$ u(x) = \\tanh(x) . $$\n",
    "Then $$ u'(x) = \\cosh^{-2}(x) $$ and $$ u''(x) = -2 \\tanh(x) \\cosh^{-2}(x) . $$\n",
    "\n",
    "* This works for nonlinear too."
   ]
  },
  {
   "cell_type": "code",
   "execution_count": 64,
   "id": "30ec73b8",
   "metadata": {
    "cell_style": "split"
   },
   "outputs": [
    {
     "data": {
      "image/svg+xml": [
       "<?xml version=\"1.0\" encoding=\"utf-8\"?>\n",
       "<svg xmlns=\"http://www.w3.org/2000/svg\" xmlns:xlink=\"http://www.w3.org/1999/xlink\" width=\"600\" height=\"400\" viewBox=\"0 0 2400 1600\">\n",
       "<defs>\n",
       "  <clipPath id=\"clip160\">\n",
       "    <rect x=\"0\" y=\"0\" width=\"2400\" height=\"1600\"/>\n",
       "  </clipPath>\n",
       "</defs>\n",
       "<path clip-path=\"url(#clip160)\" d=\"\n",
       "M0 1600 L2400 1600 L2400 0 L0 0  Z\n",
       "  \" fill=\"#ffffff\" fill-rule=\"evenodd\" fill-opacity=\"1\"/>\n",
       "<defs>\n",
       "  <clipPath id=\"clip161\">\n",
       "    <rect x=\"480\" y=\"0\" width=\"1681\" height=\"1600\"/>\n",
       "  </clipPath>\n",
       "</defs>\n",
       "<path clip-path=\"url(#clip160)\" d=\"\n",
       "M193.936 1486.45 L2352.76 1486.45 L2352.76 47.2441 L193.936 47.2441  Z\n",
       "  \" fill=\"#ffffff\" fill-rule=\"evenodd\" fill-opacity=\"1\"/>\n",
       "<defs>\n",
       "  <clipPath id=\"clip162\">\n",
       "    <rect x=\"193\" y=\"47\" width=\"2160\" height=\"1440\"/>\n",
       "  </clipPath>\n",
       "</defs>\n",
       "<polyline clip-path=\"url(#clip162)\" style=\"stroke:#000000; stroke-linecap:butt; stroke-linejoin:round; stroke-width:2; stroke-opacity:0.1; fill:none\" points=\"\n",
       "  255.035,1486.45 255.035,47.2441 \n",
       "  \"/>\n",
       "<polyline clip-path=\"url(#clip162)\" style=\"stroke:#000000; stroke-linecap:butt; stroke-linejoin:round; stroke-width:2; stroke-opacity:0.1; fill:none\" points=\"\n",
       "  764.19,1486.45 764.19,47.2441 \n",
       "  \"/>\n",
       "<polyline clip-path=\"url(#clip162)\" style=\"stroke:#000000; stroke-linecap:butt; stroke-linejoin:round; stroke-width:2; stroke-opacity:0.1; fill:none\" points=\"\n",
       "  1273.35,1486.45 1273.35,47.2441 \n",
       "  \"/>\n",
       "<polyline clip-path=\"url(#clip162)\" style=\"stroke:#000000; stroke-linecap:butt; stroke-linejoin:round; stroke-width:2; stroke-opacity:0.1; fill:none\" points=\"\n",
       "  1782.5,1486.45 1782.5,47.2441 \n",
       "  \"/>\n",
       "<polyline clip-path=\"url(#clip162)\" style=\"stroke:#000000; stroke-linecap:butt; stroke-linejoin:round; stroke-width:2; stroke-opacity:0.1; fill:none\" points=\"\n",
       "  2291.66,1486.45 2291.66,47.2441 \n",
       "  \"/>\n",
       "<polyline clip-path=\"url(#clip160)\" style=\"stroke:#000000; stroke-linecap:butt; stroke-linejoin:round; stroke-width:4; stroke-opacity:1; fill:none\" points=\"\n",
       "  193.936,1486.45 2352.76,1486.45 \n",
       "  \"/>\n",
       "<polyline clip-path=\"url(#clip160)\" style=\"stroke:#000000; stroke-linecap:butt; stroke-linejoin:round; stroke-width:4; stroke-opacity:1; fill:none\" points=\"\n",
       "  255.035,1486.45 255.035,1467.55 \n",
       "  \"/>\n",
       "<polyline clip-path=\"url(#clip160)\" style=\"stroke:#000000; stroke-linecap:butt; stroke-linejoin:round; stroke-width:4; stroke-opacity:1; fill:none\" points=\"\n",
       "  764.19,1486.45 764.19,1467.55 \n",
       "  \"/>\n",
       "<polyline clip-path=\"url(#clip160)\" style=\"stroke:#000000; stroke-linecap:butt; stroke-linejoin:round; stroke-width:4; stroke-opacity:1; fill:none\" points=\"\n",
       "  1273.35,1486.45 1273.35,1467.55 \n",
       "  \"/>\n",
       "<polyline clip-path=\"url(#clip160)\" style=\"stroke:#000000; stroke-linecap:butt; stroke-linejoin:round; stroke-width:4; stroke-opacity:1; fill:none\" points=\"\n",
       "  1782.5,1486.45 1782.5,1467.55 \n",
       "  \"/>\n",
       "<polyline clip-path=\"url(#clip160)\" style=\"stroke:#000000; stroke-linecap:butt; stroke-linejoin:round; stroke-width:4; stroke-opacity:1; fill:none\" points=\"\n",
       "  2291.66,1486.45 2291.66,1467.55 \n",
       "  \"/>\n",
       "<path clip-path=\"url(#clip160)\" d=\"M224.977 1530.29 L254.653 1530.29 L254.653 1534.23 L224.977 1534.23 L224.977 1530.29 Z\" fill=\"#000000\" fill-rule=\"evenodd\" fill-opacity=\"1\" /><path clip-path=\"url(#clip160)\" d=\"M268.773 1543.18 L285.092 1543.18 L285.092 1547.12 L263.148 1547.12 L263.148 1543.18 Q265.81 1540.43 270.393 1535.8 Q275 1531.15 276.18 1529.81 Q278.426 1527.28 279.305 1525.55 Q280.208 1523.79 280.208 1522.1 Q280.208 1519.34 278.264 1517.61 Q276.342 1515.87 273.241 1515.87 Q271.042 1515.87 268.588 1516.63 Q266.157 1517.4 263.38 1518.95 L263.38 1514.23 Q266.204 1513.09 268.657 1512.51 Q271.111 1511.93 273.148 1511.93 Q278.518 1511.93 281.713 1514.62 Q284.907 1517.31 284.907 1521.8 Q284.907 1523.93 284.097 1525.85 Q283.31 1527.74 281.204 1530.34 Q280.625 1531.01 277.523 1534.23 Q274.421 1537.42 268.773 1543.18 Z\" fill=\"#000000\" fill-rule=\"evenodd\" fill-opacity=\"1\" /><path clip-path=\"url(#clip160)\" d=\"M733.947 1530.29 L763.623 1530.29 L763.623 1534.23 L733.947 1534.23 L733.947 1530.29 Z\" fill=\"#000000\" fill-rule=\"evenodd\" fill-opacity=\"1\" /><path clip-path=\"url(#clip160)\" d=\"M774.526 1543.18 L782.165 1543.18 L782.165 1516.82 L773.855 1518.49 L773.855 1514.23 L782.118 1512.56 L786.794 1512.56 L786.794 1543.18 L794.433 1543.18 L794.433 1547.12 L774.526 1547.12 L774.526 1543.18 Z\" fill=\"#000000\" fill-rule=\"evenodd\" fill-opacity=\"1\" /><path clip-path=\"url(#clip160)\" d=\"M1273.35 1515.64 Q1269.73 1515.64 1267.91 1519.2 Q1266.1 1522.75 1266.1 1529.87 Q1266.1 1536.98 1267.91 1540.55 Q1269.73 1544.09 1273.35 1544.09 Q1276.98 1544.09 1278.79 1540.55 Q1280.61 1536.98 1280.61 1529.87 Q1280.61 1522.75 1278.79 1519.2 Q1276.98 1515.64 1273.35 1515.64 M1273.35 1511.93 Q1279.16 1511.93 1282.21 1516.54 Q1285.29 1521.12 1285.29 1529.87 Q1285.29 1538.6 1282.21 1543.21 Q1279.16 1547.79 1273.35 1547.79 Q1267.54 1547.79 1264.46 1543.21 Q1261.4 1538.6 1261.4 1529.87 Q1261.4 1521.12 1264.46 1516.54 Q1267.54 1511.93 1273.35 1511.93 Z\" fill=\"#000000\" fill-rule=\"evenodd\" fill-opacity=\"1\" /><path clip-path=\"url(#clip160)\" d=\"M1772.88 1543.18 L1780.52 1543.18 L1780.52 1516.82 L1772.21 1518.49 L1772.21 1514.23 L1780.48 1512.56 L1785.15 1512.56 L1785.15 1543.18 L1792.79 1543.18 L1792.79 1547.12 L1772.88 1547.12 L1772.88 1543.18 Z\" fill=\"#000000\" fill-rule=\"evenodd\" fill-opacity=\"1\" /><path clip-path=\"url(#clip160)\" d=\"M2286.31 1543.18 L2302.63 1543.18 L2302.63 1547.12 L2280.69 1547.12 L2280.69 1543.18 Q2283.35 1540.43 2287.93 1535.8 Q2292.54 1531.15 2293.72 1529.81 Q2295.96 1527.28 2296.84 1525.55 Q2297.75 1523.79 2297.75 1522.1 Q2297.75 1519.34 2295.8 1517.61 Q2293.88 1515.87 2290.78 1515.87 Q2288.58 1515.87 2286.12 1516.63 Q2283.69 1517.4 2280.92 1518.95 L2280.92 1514.23 Q2283.74 1513.09 2286.19 1512.51 Q2288.65 1511.93 2290.69 1511.93 Q2296.06 1511.93 2299.25 1514.62 Q2302.44 1517.31 2302.44 1521.8 Q2302.44 1523.93 2301.63 1525.85 Q2300.85 1527.74 2298.74 1530.34 Q2298.16 1531.01 2295.06 1534.23 Q2291.96 1537.42 2286.31 1543.18 Z\" fill=\"#000000\" fill-rule=\"evenodd\" fill-opacity=\"1\" /><polyline clip-path=\"url(#clip162)\" style=\"stroke:#000000; stroke-linecap:butt; stroke-linejoin:round; stroke-width:2; stroke-opacity:0.1; fill:none\" points=\"\n",
       "  193.936,1471.05 2352.76,1471.05 \n",
       "  \"/>\n",
       "<polyline clip-path=\"url(#clip162)\" style=\"stroke:#000000; stroke-linecap:butt; stroke-linejoin:round; stroke-width:2; stroke-opacity:0.1; fill:none\" points=\"\n",
       "  193.936,1118.95 2352.76,1118.95 \n",
       "  \"/>\n",
       "<polyline clip-path=\"url(#clip162)\" style=\"stroke:#000000; stroke-linecap:butt; stroke-linejoin:round; stroke-width:2; stroke-opacity:0.1; fill:none\" points=\"\n",
       "  193.936,766.846 2352.76,766.846 \n",
       "  \"/>\n",
       "<polyline clip-path=\"url(#clip162)\" style=\"stroke:#000000; stroke-linecap:butt; stroke-linejoin:round; stroke-width:2; stroke-opacity:0.1; fill:none\" points=\"\n",
       "  193.936,414.745 2352.76,414.745 \n",
       "  \"/>\n",
       "<polyline clip-path=\"url(#clip162)\" style=\"stroke:#000000; stroke-linecap:butt; stroke-linejoin:round; stroke-width:2; stroke-opacity:0.1; fill:none\" points=\"\n",
       "  193.936,62.6444 2352.76,62.6444 \n",
       "  \"/>\n",
       "<polyline clip-path=\"url(#clip160)\" style=\"stroke:#000000; stroke-linecap:butt; stroke-linejoin:round; stroke-width:4; stroke-opacity:1; fill:none\" points=\"\n",
       "  193.936,1486.45 193.936,47.2441 \n",
       "  \"/>\n",
       "<polyline clip-path=\"url(#clip160)\" style=\"stroke:#000000; stroke-linecap:butt; stroke-linejoin:round; stroke-width:4; stroke-opacity:1; fill:none\" points=\"\n",
       "  193.936,1471.05 212.834,1471.05 \n",
       "  \"/>\n",
       "<polyline clip-path=\"url(#clip160)\" style=\"stroke:#000000; stroke-linecap:butt; stroke-linejoin:round; stroke-width:4; stroke-opacity:1; fill:none\" points=\"\n",
       "  193.936,1118.95 212.834,1118.95 \n",
       "  \"/>\n",
       "<polyline clip-path=\"url(#clip160)\" style=\"stroke:#000000; stroke-linecap:butt; stroke-linejoin:round; stroke-width:4; stroke-opacity:1; fill:none\" points=\"\n",
       "  193.936,766.846 212.834,766.846 \n",
       "  \"/>\n",
       "<polyline clip-path=\"url(#clip160)\" style=\"stroke:#000000; stroke-linecap:butt; stroke-linejoin:round; stroke-width:4; stroke-opacity:1; fill:none\" points=\"\n",
       "  193.936,414.745 212.834,414.745 \n",
       "  \"/>\n",
       "<polyline clip-path=\"url(#clip160)\" style=\"stroke:#000000; stroke-linecap:butt; stroke-linejoin:round; stroke-width:4; stroke-opacity:1; fill:none\" points=\"\n",
       "  193.936,62.6444 212.834,62.6444 \n",
       "  \"/>\n",
       "<path clip-path=\"url(#clip160)\" d=\"M50.9921 1471.5 L80.6679 1471.5 L80.6679 1475.43 L50.9921 1475.43 L50.9921 1471.5 Z\" fill=\"#000000\" fill-rule=\"evenodd\" fill-opacity=\"1\" /><path clip-path=\"url(#clip160)\" d=\"M91.5706 1484.39 L99.2095 1484.39 L99.2095 1458.03 L90.8993 1459.69 L90.8993 1455.43 L99.1632 1453.77 L103.839 1453.77 L103.839 1484.39 L111.478 1484.39 L111.478 1488.33 L91.5706 1488.33 L91.5706 1484.39 Z\" fill=\"#000000\" fill-rule=\"evenodd\" fill-opacity=\"1\" /><path clip-path=\"url(#clip160)\" d=\"M120.922 1482.45 L125.807 1482.45 L125.807 1488.33 L120.922 1488.33 L120.922 1482.45 Z\" fill=\"#000000\" fill-rule=\"evenodd\" fill-opacity=\"1\" /><path clip-path=\"url(#clip160)\" d=\"M145.992 1456.85 Q142.381 1456.85 140.552 1460.41 Q138.746 1463.95 138.746 1471.08 Q138.746 1478.19 140.552 1481.75 Q142.381 1485.3 145.992 1485.3 Q149.626 1485.3 151.431 1481.75 Q153.26 1478.19 153.26 1471.08 Q153.26 1463.95 151.431 1460.41 Q149.626 1456.85 145.992 1456.85 M145.992 1453.14 Q151.802 1453.14 154.857 1457.75 Q157.936 1462.33 157.936 1471.08 Q157.936 1479.81 154.857 1484.42 Q151.802 1489 145.992 1489 Q140.181 1489 137.103 1484.42 Q134.047 1479.81 134.047 1471.08 Q134.047 1462.33 137.103 1457.75 Q140.181 1453.14 145.992 1453.14 Z\" fill=\"#000000\" fill-rule=\"evenodd\" fill-opacity=\"1\" /><path clip-path=\"url(#clip160)\" d=\"M51.9875 1119.4 L81.6633 1119.4 L81.6633 1123.33 L51.9875 1123.33 L51.9875 1119.4 Z\" fill=\"#000000\" fill-rule=\"evenodd\" fill-opacity=\"1\" /><path clip-path=\"url(#clip160)\" d=\"M101.756 1104.75 Q98.1447 1104.75 96.316 1108.31 Q94.5104 1111.85 94.5104 1118.98 Q94.5104 1126.09 96.316 1129.65 Q98.1447 1133.19 101.756 1133.19 Q105.39 1133.19 107.196 1129.65 Q109.024 1126.09 109.024 1118.98 Q109.024 1111.85 107.196 1108.31 Q105.39 1104.75 101.756 1104.75 M101.756 1101.04 Q107.566 1101.04 110.621 1105.65 Q113.7 1110.23 113.7 1118.98 Q113.7 1127.71 110.621 1132.31 Q107.566 1136.9 101.756 1136.9 Q95.9456 1136.9 92.8669 1132.31 Q89.8114 1127.71 89.8114 1118.98 Q89.8114 1110.23 92.8669 1105.65 Q95.9456 1101.04 101.756 1101.04 Z\" fill=\"#000000\" fill-rule=\"evenodd\" fill-opacity=\"1\" /><path clip-path=\"url(#clip160)\" d=\"M121.918 1130.35 L126.802 1130.35 L126.802 1136.23 L121.918 1136.23 L121.918 1130.35 Z\" fill=\"#000000\" fill-rule=\"evenodd\" fill-opacity=\"1\" /><path clip-path=\"url(#clip160)\" d=\"M137.033 1101.67 L155.39 1101.67 L155.39 1105.6 L141.316 1105.6 L141.316 1114.07 Q142.334 1113.73 143.353 1113.56 Q144.371 1113.38 145.39 1113.38 Q151.177 1113.38 154.556 1116.55 Q157.936 1119.72 157.936 1125.14 Q157.936 1130.72 154.464 1133.82 Q150.992 1136.9 144.672 1136.9 Q142.496 1136.9 140.228 1136.53 Q137.982 1136.16 135.575 1135.42 L135.575 1130.72 Q137.658 1131.85 139.881 1132.41 Q142.103 1132.96 144.58 1132.96 Q148.584 1132.96 150.922 1130.86 Q153.26 1128.75 153.26 1125.14 Q153.26 1121.53 150.922 1119.42 Q148.584 1117.31 144.58 1117.31 Q142.705 1117.31 140.83 1117.73 Q138.978 1118.15 137.033 1119.03 L137.033 1101.67 Z\" fill=\"#000000\" fill-rule=\"evenodd\" fill-opacity=\"1\" /><path clip-path=\"url(#clip160)\" d=\"M100.76 752.645 Q97.1493 752.645 95.3206 756.209 Q93.515 759.751 93.515 766.881 Q93.515 773.987 95.3206 777.552 Q97.1493 781.094 100.76 781.094 Q104.395 781.094 106.2 777.552 Q108.029 773.987 108.029 766.881 Q108.029 759.751 106.2 756.209 Q104.395 752.645 100.76 752.645 M100.76 748.941 Q106.571 748.941 109.626 753.547 Q112.705 758.131 112.705 766.881 Q112.705 775.608 109.626 780.214 Q106.571 784.797 100.76 784.797 Q94.9502 784.797 91.8715 780.214 Q88.816 775.608 88.816 766.881 Q88.816 758.131 91.8715 753.547 Q94.9502 748.941 100.76 748.941 Z\" fill=\"#000000\" fill-rule=\"evenodd\" fill-opacity=\"1\" /><path clip-path=\"url(#clip160)\" d=\"M120.922 778.246 L125.807 778.246 L125.807 784.126 L120.922 784.126 L120.922 778.246 Z\" fill=\"#000000\" fill-rule=\"evenodd\" fill-opacity=\"1\" /><path clip-path=\"url(#clip160)\" d=\"M145.992 752.645 Q142.381 752.645 140.552 756.209 Q138.746 759.751 138.746 766.881 Q138.746 773.987 140.552 777.552 Q142.381 781.094 145.992 781.094 Q149.626 781.094 151.431 777.552 Q153.26 773.987 153.26 766.881 Q153.26 759.751 151.431 756.209 Q149.626 752.645 145.992 752.645 M145.992 748.941 Q151.802 748.941 154.857 753.547 Q157.936 758.131 157.936 766.881 Q157.936 775.608 154.857 780.214 Q151.802 784.797 145.992 784.797 Q140.181 784.797 137.103 780.214 Q134.047 775.608 134.047 766.881 Q134.047 758.131 137.103 753.547 Q140.181 748.941 145.992 748.941 Z\" fill=\"#000000\" fill-rule=\"evenodd\" fill-opacity=\"1\" /><path clip-path=\"url(#clip160)\" d=\"M101.756 400.544 Q98.1447 400.544 96.316 404.109 Q94.5104 407.65 94.5104 414.78 Q94.5104 421.886 96.316 425.451 Q98.1447 428.993 101.756 428.993 Q105.39 428.993 107.196 425.451 Q109.024 421.886 109.024 414.78 Q109.024 407.65 107.196 404.109 Q105.39 400.544 101.756 400.544 M101.756 396.84 Q107.566 396.84 110.621 401.447 Q113.7 406.03 113.7 414.78 Q113.7 423.507 110.621 428.113 Q107.566 432.697 101.756 432.697 Q95.9456 432.697 92.8669 428.113 Q89.8114 423.507 89.8114 414.78 Q89.8114 406.03 92.8669 401.447 Q95.9456 396.84 101.756 396.84 Z\" fill=\"#000000\" fill-rule=\"evenodd\" fill-opacity=\"1\" /><path clip-path=\"url(#clip160)\" d=\"M121.918 426.146 L126.802 426.146 L126.802 432.025 L121.918 432.025 L121.918 426.146 Z\" fill=\"#000000\" fill-rule=\"evenodd\" fill-opacity=\"1\" /><path clip-path=\"url(#clip160)\" d=\"M137.033 397.465 L155.39 397.465 L155.39 401.4 L141.316 401.4 L141.316 409.873 Q142.334 409.525 143.353 409.363 Q144.371 409.178 145.39 409.178 Q151.177 409.178 154.556 412.349 Q157.936 415.521 157.936 420.937 Q157.936 426.516 154.464 429.618 Q150.992 432.697 144.672 432.697 Q142.496 432.697 140.228 432.326 Q137.982 431.956 135.575 431.215 L135.575 426.516 Q137.658 427.65 139.881 428.206 Q142.103 428.761 144.58 428.761 Q148.584 428.761 150.922 426.655 Q153.26 424.548 153.26 420.937 Q153.26 417.326 150.922 415.22 Q148.584 413.113 144.58 413.113 Q142.705 413.113 140.83 413.53 Q138.978 413.947 137.033 414.826 L137.033 397.465 Z\" fill=\"#000000\" fill-rule=\"evenodd\" fill-opacity=\"1\" /><path clip-path=\"url(#clip160)\" d=\"M91.5706 75.9893 L99.2095 75.9893 L99.2095 49.6237 L90.8993 51.2903 L90.8993 47.0311 L99.1632 45.3644 L103.839 45.3644 L103.839 75.9893 L111.478 75.9893 L111.478 79.9244 L91.5706 79.9244 L91.5706 75.9893 Z\" fill=\"#000000\" fill-rule=\"evenodd\" fill-opacity=\"1\" /><path clip-path=\"url(#clip160)\" d=\"M120.922 74.0448 L125.807 74.0448 L125.807 79.9244 L120.922 79.9244 L120.922 74.0448 Z\" fill=\"#000000\" fill-rule=\"evenodd\" fill-opacity=\"1\" /><path clip-path=\"url(#clip160)\" d=\"M145.992 48.4431 Q142.381 48.4431 140.552 52.0079 Q138.746 55.5496 138.746 62.6792 Q138.746 69.7856 140.552 73.3504 Q142.381 76.8921 145.992 76.8921 Q149.626 76.8921 151.431 73.3504 Q153.26 69.7856 153.26 62.6792 Q153.26 55.5496 151.431 52.0079 Q149.626 48.4431 145.992 48.4431 M145.992 44.7394 Q151.802 44.7394 154.857 49.3459 Q157.936 53.9292 157.936 62.6792 Q157.936 71.406 154.857 76.0124 Q151.802 80.5957 145.992 80.5957 Q140.181 80.5957 137.103 76.0124 Q134.047 71.406 134.047 62.6792 Q134.047 53.9292 137.103 49.3459 Q140.181 44.7394 145.992 44.7394 Z\" fill=\"#000000\" fill-rule=\"evenodd\" fill-opacity=\"1\" /><polyline clip-path=\"url(#clip162)\" style=\"stroke:#009af9; stroke-linecap:butt; stroke-linejoin:round; stroke-width:4; stroke-opacity:1; fill:none\" points=\"\n",
       "  255.035,1445.72 481.326,1419.4 707.617,1352.69 933.909,1208.19 1160.2,962.571 1386.49,663.876 1612.78,418.256 1839.07,273.754 2065.37,207.048 2291.66,180.731 \n",
       "  \n",
       "  \"/>\n",
       "<circle clip-path=\"url(#clip162)\" cx=\"255.035\" cy=\"1445.72\" r=\"14\" fill=\"#009af9\" fill-rule=\"evenodd\" fill-opacity=\"1\" stroke=\"#000000\" stroke-opacity=\"1\" stroke-width=\"3.2\"/>\n",
       "<circle clip-path=\"url(#clip162)\" cx=\"481.326\" cy=\"1419.4\" r=\"14\" fill=\"#009af9\" fill-rule=\"evenodd\" fill-opacity=\"1\" stroke=\"#000000\" stroke-opacity=\"1\" stroke-width=\"3.2\"/>\n",
       "<circle clip-path=\"url(#clip162)\" cx=\"707.617\" cy=\"1352.69\" r=\"14\" fill=\"#009af9\" fill-rule=\"evenodd\" fill-opacity=\"1\" stroke=\"#000000\" stroke-opacity=\"1\" stroke-width=\"3.2\"/>\n",
       "<circle clip-path=\"url(#clip162)\" cx=\"933.909\" cy=\"1208.19\" r=\"14\" fill=\"#009af9\" fill-rule=\"evenodd\" fill-opacity=\"1\" stroke=\"#000000\" stroke-opacity=\"1\" stroke-width=\"3.2\"/>\n",
       "<circle clip-path=\"url(#clip162)\" cx=\"1160.2\" cy=\"962.571\" r=\"14\" fill=\"#009af9\" fill-rule=\"evenodd\" fill-opacity=\"1\" stroke=\"#000000\" stroke-opacity=\"1\" stroke-width=\"3.2\"/>\n",
       "<circle clip-path=\"url(#clip162)\" cx=\"1386.49\" cy=\"663.876\" r=\"14\" fill=\"#009af9\" fill-rule=\"evenodd\" fill-opacity=\"1\" stroke=\"#000000\" stroke-opacity=\"1\" stroke-width=\"3.2\"/>\n",
       "<circle clip-path=\"url(#clip162)\" cx=\"1612.78\" cy=\"418.256\" r=\"14\" fill=\"#009af9\" fill-rule=\"evenodd\" fill-opacity=\"1\" stroke=\"#000000\" stroke-opacity=\"1\" stroke-width=\"3.2\"/>\n",
       "<circle clip-path=\"url(#clip162)\" cx=\"1839.07\" cy=\"273.754\" r=\"14\" fill=\"#009af9\" fill-rule=\"evenodd\" fill-opacity=\"1\" stroke=\"#000000\" stroke-opacity=\"1\" stroke-width=\"3.2\"/>\n",
       "<circle clip-path=\"url(#clip162)\" cx=\"2065.37\" cy=\"207.048\" r=\"14\" fill=\"#009af9\" fill-rule=\"evenodd\" fill-opacity=\"1\" stroke=\"#000000\" stroke-opacity=\"1\" stroke-width=\"3.2\"/>\n",
       "<circle clip-path=\"url(#clip162)\" cx=\"2291.66\" cy=\"180.731\" r=\"14\" fill=\"#009af9\" fill-rule=\"evenodd\" fill-opacity=\"1\" stroke=\"#000000\" stroke-opacity=\"1\" stroke-width=\"3.2\"/>\n",
       "<polyline clip-path=\"url(#clip162)\" style=\"stroke:#e26f46; stroke-linecap:butt; stroke-linejoin:round; stroke-width:4; stroke-opacity:1; fill:none\" points=\"\n",
       "  255.035,1445.72 274.924,1443.7 458.829,1415.86 569.348,1387.63 662.791,1353.72 764.296,1303.1 857.875,1240.69 908.038,1200.17 958.201,1154.44 1016.32,1094.93 \n",
       "  1074.44,1028.76 1177.74,897.548 1268.32,773.797 1367.08,638.649 1466.43,511.905 1521.35,448.618 1576.27,391.192 1628.52,342.332 1680.78,299.146 1735.11,260.065 \n",
       "  1789.45,226.538 1835.18,202.258 1880.92,181.233 1992.6,141.477 2097.58,115.844 2265.77,90.6335 2291.66,87.9763 \n",
       "  \"/>\n",
       "<path clip-path=\"url(#clip160)\" d=\"\n",
       "M265.897 250.738 L558.196 250.738 L558.196 95.2176 L265.897 95.2176  Z\n",
       "  \" fill=\"#ffffff\" fill-rule=\"evenodd\" fill-opacity=\"1\"/>\n",
       "<polyline clip-path=\"url(#clip160)\" style=\"stroke:#000000; stroke-linecap:butt; stroke-linejoin:round; stroke-width:4; stroke-opacity:1; fill:none\" points=\"\n",
       "  265.897,250.738 558.196,250.738 558.196,95.2176 265.897,95.2176 265.897,250.738 \n",
       "  \"/>\n",
       "<polyline clip-path=\"url(#clip160)\" style=\"stroke:#009af9; stroke-linecap:butt; stroke-linejoin:round; stroke-width:4; stroke-opacity:1; fill:none\" points=\"\n",
       "  289.884,147.058 433.805,147.058 \n",
       "  \"/>\n",
       "<circle clip-path=\"url(#clip160)\" cx=\"361.844\" cy=\"147.058\" r=\"23\" fill=\"#009af9\" fill-rule=\"evenodd\" fill-opacity=\"1\" stroke=\"#000000\" stroke-opacity=\"1\" stroke-width=\"5.12\"/>\n",
       "<path clip-path=\"url(#clip160)\" d=\"M471.634 166.745 Q469.829 171.375 468.116 172.787 Q466.403 174.199 463.532 174.199 L460.13 174.199 L460.13 170.634 L462.63 170.634 Q464.389 170.634 465.361 169.8 Q466.333 168.967 467.514 165.865 L468.278 163.921 L457.792 138.412 L462.306 138.412 L470.407 158.689 L478.509 138.412 L483.023 138.412 L471.634 166.745 Z\" fill=\"#000000\" fill-rule=\"evenodd\" fill-opacity=\"1\" /><path clip-path=\"url(#clip160)\" d=\"M490.315 160.402 L497.954 160.402 L497.954 134.037 L489.643 135.703 L489.643 131.444 L497.907 129.778 L502.583 129.778 L502.583 160.402 L510.222 160.402 L510.222 164.338 L490.315 164.338 L490.315 160.402 Z\" fill=\"#000000\" fill-rule=\"evenodd\" fill-opacity=\"1\" /><polyline clip-path=\"url(#clip160)\" style=\"stroke:#e26f46; stroke-linecap:butt; stroke-linejoin:round; stroke-width:4; stroke-opacity:1; fill:none\" points=\"\n",
       "  289.884,198.898 433.805,198.898 \n",
       "  \"/>\n",
       "<path clip-path=\"url(#clip160)\" d=\"M471.634 218.585 Q469.829 223.215 468.116 224.627 Q466.403 226.039 463.532 226.039 L460.13 226.039 L460.13 222.474 L462.63 222.474 Q464.389 222.474 465.361 221.64 Q466.333 220.807 467.514 217.705 L468.278 215.761 L457.792 190.252 L462.306 190.252 L470.407 210.529 L478.509 190.252 L483.023 190.252 L471.634 218.585 Z\" fill=\"#000000\" fill-rule=\"evenodd\" fill-opacity=\"1\" /><path clip-path=\"url(#clip160)\" d=\"M493.532 212.242 L509.852 212.242 L509.852 216.178 L487.907 216.178 L487.907 212.242 Q490.569 209.488 495.153 204.858 Q499.759 200.205 500.94 198.863 Q503.185 196.34 504.065 194.604 Q504.967 192.844 504.967 191.155 Q504.967 188.4 503.023 186.664 Q501.102 184.928 498 184.928 Q495.801 184.928 493.347 185.692 Q490.917 186.455 488.139 188.006 L488.139 183.284 Q490.963 182.15 493.417 181.571 Q495.87 180.993 497.907 180.993 Q503.278 180.993 506.472 183.678 Q509.666 186.363 509.666 190.854 Q509.666 192.983 508.856 194.905 Q508.069 196.803 505.963 199.395 Q505.384 200.067 502.282 203.284 Q499.18 206.479 493.532 212.242 Z\" fill=\"#000000\" fill-rule=\"evenodd\" fill-opacity=\"1\" /></svg>\n"
      ]
     },
     "execution_count": 64,
     "metadata": {},
     "output_type": "execute_result"
    }
   ],
   "source": [
    "x = LinRange(-2, 2, 10)\n",
    "L, rhs = poisson(x, 5,\n",
    "    x -> 2 * tanh(x) / cosh(x)^2,\n",
    "    left=(0, tanh), \n",
    "    right=(1, x -> cosh(x)^-2))\n",
    "u = L \\ rhs\n",
    "plot(x, u, marker=:circle, legend=:topleft)\n",
    "plot!(tanh)"
   ]
  },
  {
   "cell_type": "markdown",
   "id": "4aa51558",
   "metadata": {
    "slideshow": {
     "slide_type": "slide"
    }
   },
   "source": [
    "# Convergence rate"
   ]
  },
  {
   "cell_type": "code",
   "execution_count": 69,
   "id": "31cd5056",
   "metadata": {
    "cell_style": "split"
   },
   "outputs": [
    {
     "data": {
      "text/plain": [
       "poisson_error (generic function with 2 methods)"
      ]
     },
     "execution_count": 69,
     "metadata": {},
     "output_type": "execute_result"
    }
   ],
   "source": [
    "ns = 2 .^ (3:10)\n",
    "hs = 1 ./ ns\n",
    "function poisson_error(n, spoints)\n",
    "    x = LinRange(-2, 2, n)\n",
    "    L, rhs = poisson(x, spoints, x -> 2 * tanh(x) / cosh(x)^2,\n",
    "        left = (0, tanh),\n",
    "        right = (1, x -> cosh(x)^-2))\n",
    "    u = L \\ rhs\n",
    "    norm(u - tanh.(x), Inf)\n",
    "end"
   ]
  },
  {
   "cell_type": "code",
   "execution_count": 75,
   "id": "c7eea2b7",
   "metadata": {
    "cell_style": "split"
   },
   "outputs": [
    {
     "data": {
      "image/svg+xml": [
       "<?xml version=\"1.0\" encoding=\"utf-8\"?>\n",
       "<svg xmlns=\"http://www.w3.org/2000/svg\" xmlns:xlink=\"http://www.w3.org/1999/xlink\" width=\"600\" height=\"400\" viewBox=\"0 0 2400 1600\">\n",
       "<defs>\n",
       "  <clipPath id=\"clip400\">\n",
       "    <rect x=\"0\" y=\"0\" width=\"2400\" height=\"1600\"/>\n",
       "  </clipPath>\n",
       "</defs>\n",
       "<path clip-path=\"url(#clip400)\" d=\"\n",
       "M0 1600 L2400 1600 L2400 0 L0 0  Z\n",
       "  \" fill=\"#ffffff\" fill-rule=\"evenodd\" fill-opacity=\"1\"/>\n",
       "<defs>\n",
       "  <clipPath id=\"clip401\">\n",
       "    <rect x=\"480\" y=\"0\" width=\"1681\" height=\"1600\"/>\n",
       "  </clipPath>\n",
       "</defs>\n",
       "<path clip-path=\"url(#clip400)\" d=\"\n",
       "M213.607 1474.16 L2352.76 1474.16 L2352.76 47.2441 L213.607 47.2441  Z\n",
       "  \" fill=\"#ffffff\" fill-rule=\"evenodd\" fill-opacity=\"1\"/>\n",
       "<defs>\n",
       "  <clipPath id=\"clip402\">\n",
       "    <rect x=\"213\" y=\"47\" width=\"2140\" height=\"1428\"/>\n",
       "  </clipPath>\n",
       "</defs>\n",
       "<polyline clip-path=\"url(#clip402)\" style=\"stroke:#000000; stroke-linecap:butt; stroke-linejoin:round; stroke-width:2; stroke-opacity:0.1; fill:none\" points=\"\n",
       "  284.014,1474.16 284.014,47.2441 \n",
       "  \"/>\n",
       "<polyline clip-path=\"url(#clip402)\" style=\"stroke:#000000; stroke-linecap:butt; stroke-linejoin:round; stroke-width:2; stroke-opacity:0.1; fill:none\" points=\"\n",
       "  1241.71,1474.16 1241.71,47.2441 \n",
       "  \"/>\n",
       "<polyline clip-path=\"url(#clip402)\" style=\"stroke:#000000; stroke-linecap:butt; stroke-linejoin:round; stroke-width:2; stroke-opacity:0.1; fill:none\" points=\"\n",
       "  2199.4,1474.16 2199.4,47.2441 \n",
       "  \"/>\n",
       "<polyline clip-path=\"url(#clip400)\" style=\"stroke:#000000; stroke-linecap:butt; stroke-linejoin:round; stroke-width:4; stroke-opacity:1; fill:none\" points=\"\n",
       "  213.607,1474.16 2352.76,1474.16 \n",
       "  \"/>\n",
       "<polyline clip-path=\"url(#clip400)\" style=\"stroke:#000000; stroke-linecap:butt; stroke-linejoin:round; stroke-width:4; stroke-opacity:1; fill:none\" points=\"\n",
       "  284.014,1474.16 284.014,1455.27 \n",
       "  \"/>\n",
       "<polyline clip-path=\"url(#clip400)\" style=\"stroke:#000000; stroke-linecap:butt; stroke-linejoin:round; stroke-width:4; stroke-opacity:1; fill:none\" points=\"\n",
       "  1241.71,1474.16 1241.71,1455.27 \n",
       "  \"/>\n",
       "<polyline clip-path=\"url(#clip400)\" style=\"stroke:#000000; stroke-linecap:butt; stroke-linejoin:round; stroke-width:4; stroke-opacity:1; fill:none\" points=\"\n",
       "  2199.4,1474.16 2199.4,1455.27 \n",
       "  \"/>\n",
       "<path clip-path=\"url(#clip400)\" d=\"M233.894 1552.44 L241.533 1552.44 L241.533 1526.07 L233.223 1527.74 L233.223 1523.48 L241.486 1521.81 L246.162 1521.81 L246.162 1552.44 L253.801 1552.44 L253.801 1556.37 L233.894 1556.37 L233.894 1552.44 Z\" fill=\"#000000\" fill-rule=\"evenodd\" fill-opacity=\"1\" /><path clip-path=\"url(#clip400)\" d=\"M273.245 1524.89 Q269.634 1524.89 267.806 1528.46 Q266 1532 266 1539.13 Q266 1546.23 267.806 1549.8 Q269.634 1553.34 273.245 1553.34 Q276.88 1553.34 278.685 1549.8 Q280.514 1546.23 280.514 1539.13 Q280.514 1532 278.685 1528.46 Q276.88 1524.89 273.245 1524.89 M273.245 1521.19 Q279.056 1521.19 282.111 1525.79 Q285.19 1530.38 285.19 1539.13 Q285.19 1547.85 282.111 1552.46 Q279.056 1557.04 273.245 1557.04 Q267.435 1557.04 264.357 1552.46 Q261.301 1547.85 261.301 1539.13 Q261.301 1530.38 264.357 1525.79 Q267.435 1521.19 273.245 1521.19 Z\" fill=\"#000000\" fill-rule=\"evenodd\" fill-opacity=\"1\" /><path clip-path=\"url(#clip400)\" d=\"M285.19 1515.29 L309.301 1515.29 L309.301 1518.49 L285.19 1518.49 L285.19 1515.29 Z\" fill=\"#000000\" fill-rule=\"evenodd\" fill-opacity=\"1\" /><path clip-path=\"url(#clip400)\" d=\"M329.012 1513.82 Q331.739 1514.4 333.262 1516.25 Q334.805 1518.09 334.805 1520.8 Q334.805 1524.96 331.946 1527.23 Q329.087 1529.51 323.821 1529.51 Q322.053 1529.51 320.172 1529.15 Q318.31 1528.81 316.317 1528.12 L316.317 1524.45 Q317.897 1525.37 319.777 1525.84 Q321.658 1526.31 323.708 1526.31 Q327.282 1526.31 329.144 1524.9 Q331.024 1523.49 331.024 1520.8 Q331.024 1518.32 329.275 1516.92 Q327.545 1515.51 324.442 1515.51 L321.169 1515.51 L321.169 1512.39 L324.592 1512.39 Q327.394 1512.39 328.88 1511.28 Q330.366 1510.15 330.366 1508.05 Q330.366 1505.88 328.824 1504.74 Q327.3 1503.57 324.442 1503.57 Q322.881 1503.57 321.094 1503.91 Q319.307 1504.25 317.163 1504.96 L317.163 1501.58 Q319.326 1500.98 321.207 1500.67 Q323.106 1500.37 324.78 1500.37 Q329.106 1500.37 331.626 1502.35 Q334.146 1504.3 334.146 1507.65 Q334.146 1509.98 332.811 1511.6 Q331.476 1513.2 329.012 1513.82 Z\" fill=\"#000000\" fill-rule=\"evenodd\" fill-opacity=\"1\" /><path clip-path=\"url(#clip400)\" d=\"M1191.97 1552.44 L1199.61 1552.44 L1199.61 1526.07 L1191.3 1527.74 L1191.3 1523.48 L1199.57 1521.81 L1204.24 1521.81 L1204.24 1552.44 L1211.88 1552.44 L1211.88 1556.37 L1191.97 1556.37 L1191.97 1552.44 Z\" fill=\"#000000\" fill-rule=\"evenodd\" fill-opacity=\"1\" /><path clip-path=\"url(#clip400)\" d=\"M1231.33 1524.89 Q1227.71 1524.89 1225.89 1528.46 Q1224.08 1532 1224.08 1539.13 Q1224.08 1546.23 1225.89 1549.8 Q1227.71 1553.34 1231.33 1553.34 Q1234.96 1553.34 1236.77 1549.8 Q1238.59 1546.23 1238.59 1539.13 Q1238.59 1532 1236.77 1528.46 Q1234.96 1524.89 1231.33 1524.89 M1231.33 1521.19 Q1237.14 1521.19 1240.19 1525.79 Q1243.27 1530.38 1243.27 1539.13 Q1243.27 1547.85 1240.19 1552.46 Q1237.14 1557.04 1231.33 1557.04 Q1225.52 1557.04 1222.44 1552.46 Q1219.38 1547.85 1219.38 1539.13 Q1219.38 1530.38 1222.44 1525.79 Q1225.52 1521.19 1231.33 1521.19 Z\" fill=\"#000000\" fill-rule=\"evenodd\" fill-opacity=\"1\" /><path clip-path=\"url(#clip400)\" d=\"M1243.27 1515.29 L1267.38 1515.29 L1267.38 1518.49 L1243.27 1518.49 L1243.27 1515.29 Z\" fill=\"#000000\" fill-rule=\"evenodd\" fill-opacity=\"1\" /><path clip-path=\"url(#clip400)\" d=\"M1278.85 1525.76 L1292.11 1525.76 L1292.11 1528.96 L1274.28 1528.96 L1274.28 1525.76 Q1276.45 1523.53 1280.17 1519.76 Q1283.91 1515.98 1284.87 1514.89 Q1286.7 1512.84 1287.41 1511.43 Q1288.15 1510 1288.15 1508.63 Q1288.15 1506.39 1286.57 1504.98 Q1285 1503.57 1282.48 1503.57 Q1280.7 1503.57 1278.7 1504.19 Q1276.73 1504.81 1274.47 1506.07 L1274.47 1502.24 Q1276.77 1501.31 1278.76 1500.84 Q1280.75 1500.37 1282.41 1500.37 Q1286.77 1500.37 1289.37 1502.56 Q1291.96 1504.74 1291.96 1508.39 Q1291.96 1510.12 1291.31 1511.68 Q1290.67 1513.22 1288.95 1515.33 Q1288.48 1515.87 1285.96 1518.49 Q1283.44 1521.08 1278.85 1525.76 Z\" fill=\"#000000\" fill-rule=\"evenodd\" fill-opacity=\"1\" /><path clip-path=\"url(#clip400)\" d=\"M2149.52 1552.44 L2157.16 1552.44 L2157.16 1526.07 L2148.85 1527.74 L2148.85 1523.48 L2157.11 1521.81 L2161.79 1521.81 L2161.79 1552.44 L2169.43 1552.44 L2169.43 1556.37 L2149.52 1556.37 L2149.52 1552.44 Z\" fill=\"#000000\" fill-rule=\"evenodd\" fill-opacity=\"1\" /><path clip-path=\"url(#clip400)\" d=\"M2188.87 1524.89 Q2185.26 1524.89 2183.43 1528.46 Q2181.63 1532 2181.63 1539.13 Q2181.63 1546.23 2183.43 1549.8 Q2185.26 1553.34 2188.87 1553.34 Q2192.5 1553.34 2194.31 1549.8 Q2196.14 1546.23 2196.14 1539.13 Q2196.14 1532 2194.31 1528.46 Q2192.5 1524.89 2188.87 1524.89 M2188.87 1521.19 Q2194.68 1521.19 2197.74 1525.79 Q2200.82 1530.38 2200.82 1539.13 Q2200.82 1547.85 2197.74 1552.46 Q2194.68 1557.04 2188.87 1557.04 Q2183.06 1557.04 2179.98 1552.46 Q2176.93 1547.85 2176.93 1539.13 Q2176.93 1530.38 2179.98 1525.79 Q2183.06 1521.19 2188.87 1521.19 Z\" fill=\"#000000\" fill-rule=\"evenodd\" fill-opacity=\"1\" /><path clip-path=\"url(#clip400)\" d=\"M2200.82 1515.29 L2224.93 1515.29 L2224.93 1518.49 L2200.82 1518.49 L2200.82 1515.29 Z\" fill=\"#000000\" fill-rule=\"evenodd\" fill-opacity=\"1\" /><path clip-path=\"url(#clip400)\" d=\"M2233.79 1525.76 L2239.99 1525.76 L2239.99 1504.34 L2233.24 1505.7 L2233.24 1502.24 L2239.95 1500.88 L2243.75 1500.88 L2243.75 1525.76 L2249.96 1525.76 L2249.96 1528.96 L2233.79 1528.96 L2233.79 1525.76 Z\" fill=\"#000000\" fill-rule=\"evenodd\" fill-opacity=\"1\" /><polyline clip-path=\"url(#clip402)\" style=\"stroke:#000000; stroke-linecap:butt; stroke-linejoin:round; stroke-width:2; stroke-opacity:0.1; fill:none\" points=\"\n",
       "  213.607,1200.51 2352.76,1200.51 \n",
       "  \"/>\n",
       "<polyline clip-path=\"url(#clip402)\" style=\"stroke:#000000; stroke-linecap:butt; stroke-linejoin:round; stroke-width:2; stroke-opacity:0.1; fill:none\" points=\"\n",
       "  213.607,629.118 2352.76,629.118 \n",
       "  \"/>\n",
       "<polyline clip-path=\"url(#clip402)\" style=\"stroke:#000000; stroke-linecap:butt; stroke-linejoin:round; stroke-width:2; stroke-opacity:0.1; fill:none\" points=\"\n",
       "  213.607,57.7217 2352.76,57.7217 \n",
       "  \"/>\n",
       "<polyline clip-path=\"url(#clip400)\" style=\"stroke:#000000; stroke-linecap:butt; stroke-linejoin:round; stroke-width:4; stroke-opacity:1; fill:none\" points=\"\n",
       "  213.607,1474.16 213.607,47.2441 \n",
       "  \"/>\n",
       "<polyline clip-path=\"url(#clip400)\" style=\"stroke:#000000; stroke-linecap:butt; stroke-linejoin:round; stroke-width:4; stroke-opacity:1; fill:none\" points=\"\n",
       "  213.607,1200.51 232.505,1200.51 \n",
       "  \"/>\n",
       "<polyline clip-path=\"url(#clip400)\" style=\"stroke:#000000; stroke-linecap:butt; stroke-linejoin:round; stroke-width:4; stroke-opacity:1; fill:none\" points=\"\n",
       "  213.607,629.118 232.505,629.118 \n",
       "  \"/>\n",
       "<polyline clip-path=\"url(#clip400)\" style=\"stroke:#000000; stroke-linecap:butt; stroke-linejoin:round; stroke-width:4; stroke-opacity:1; fill:none\" points=\"\n",
       "  213.607,57.7217 232.505,57.7217 \n",
       "  \"/>\n",
       "<path clip-path=\"url(#clip400)\" d=\"M51.6634 1220.31 L59.3023 1220.31 L59.3023 1193.94 L50.9921 1195.61 L50.9921 1191.35 L59.256 1189.68 L63.9319 1189.68 L63.9319 1220.31 L71.5707 1220.31 L71.5707 1224.24 L51.6634 1224.24 L51.6634 1220.31 Z\" fill=\"#000000\" fill-rule=\"evenodd\" fill-opacity=\"1\" /><path clip-path=\"url(#clip400)\" d=\"M91.0151 1192.76 Q87.404 1192.76 85.5753 1196.32 Q83.7697 1199.87 83.7697 1207 Q83.7697 1214.1 85.5753 1217.67 Q87.404 1221.21 91.0151 1221.21 Q94.6493 1221.21 96.4548 1217.67 Q98.2835 1214.1 98.2835 1207 Q98.2835 1199.87 96.4548 1196.32 Q94.6493 1192.76 91.0151 1192.76 M91.0151 1189.06 Q96.8252 1189.06 99.8808 1193.66 Q102.959 1198.25 102.959 1207 Q102.959 1215.72 99.8808 1220.33 Q96.8252 1224.91 91.0151 1224.91 Q85.2049 1224.91 82.1262 1220.33 Q79.0707 1215.72 79.0707 1207 Q79.0707 1198.25 82.1262 1193.66 Q85.2049 1189.06 91.0151 1189.06 Z\" fill=\"#000000\" fill-rule=\"evenodd\" fill-opacity=\"1\" /><path clip-path=\"url(#clip400)\" d=\"M102.959 1183.16 L127.071 1183.16 L127.071 1186.35 L102.959 1186.35 L102.959 1183.16 Z\" fill=\"#000000\" fill-rule=\"evenodd\" fill-opacity=\"1\" /><path clip-path=\"url(#clip400)\" d=\"M135.929 1193.63 L142.136 1193.63 L142.136 1172.21 L135.384 1173.57 L135.384 1170.1 L142.098 1168.75 L145.898 1168.75 L145.898 1193.63 L152.104 1193.63 L152.104 1196.83 L135.929 1196.83 L135.929 1193.63 Z\" fill=\"#000000\" fill-rule=\"evenodd\" fill-opacity=\"1\" /><path clip-path=\"url(#clip400)\" d=\"M167.903 1171.25 Q164.969 1171.25 163.483 1174.15 Q162.016 1177.03 162.016 1182.82 Q162.016 1188.59 163.483 1191.49 Q164.969 1194.37 167.903 1194.37 Q170.855 1194.37 172.322 1191.49 Q173.808 1188.59 173.808 1182.82 Q173.808 1177.03 172.322 1174.15 Q170.855 1171.25 167.903 1171.25 M167.903 1168.24 Q172.623 1168.24 175.106 1171.99 Q177.607 1175.71 177.607 1182.82 Q177.607 1189.91 175.106 1193.65 Q172.623 1197.38 167.903 1197.38 Q163.182 1197.38 160.68 1193.65 Q158.198 1189.91 158.198 1182.82 Q158.198 1175.71 160.68 1171.99 Q163.182 1168.24 167.903 1168.24 Z\" fill=\"#000000\" fill-rule=\"evenodd\" fill-opacity=\"1\" /><path clip-path=\"url(#clip400)\" d=\"M76.9787 648.91 L84.6175 648.91 L84.6175 622.544 L76.3074 624.211 L76.3074 619.952 L84.5712 618.285 L89.2471 618.285 L89.2471 648.91 L96.886 648.91 L96.886 652.845 L76.9787 652.845 L76.9787 648.91 Z\" fill=\"#000000\" fill-rule=\"evenodd\" fill-opacity=\"1\" /><path clip-path=\"url(#clip400)\" d=\"M116.33 621.364 Q112.719 621.364 110.891 624.929 Q109.085 628.47 109.085 635.6 Q109.085 642.706 110.891 646.271 Q112.719 649.813 116.33 649.813 Q119.965 649.813 121.77 646.271 Q123.599 642.706 123.599 635.6 Q123.599 628.47 121.77 624.929 Q119.965 621.364 116.33 621.364 M116.33 617.66 Q122.14 617.66 125.196 622.267 Q128.275 626.85 128.275 635.6 Q128.275 644.327 125.196 648.933 Q122.14 653.516 116.33 653.516 Q110.52 653.516 107.441 648.933 Q104.386 644.327 104.386 635.6 Q104.386 626.85 107.441 622.267 Q110.52 617.66 116.33 617.66 Z\" fill=\"#000000\" fill-rule=\"evenodd\" fill-opacity=\"1\" /><path clip-path=\"url(#clip400)\" d=\"M128.275 611.762 L152.386 611.762 L152.386 614.959 L128.275 614.959 L128.275 611.762 Z\" fill=\"#000000\" fill-rule=\"evenodd\" fill-opacity=\"1\" /><path clip-path=\"url(#clip400)\" d=\"M160.624 597.355 L175.539 597.355 L175.539 600.552 L164.103 600.552 L164.103 607.436 Q164.931 607.154 165.759 607.022 Q166.586 606.872 167.414 606.872 Q172.116 606.872 174.862 609.448 Q177.607 612.025 177.607 616.426 Q177.607 620.959 174.786 623.479 Q171.965 625.98 166.831 625.98 Q165.063 625.98 163.22 625.679 Q161.395 625.378 159.439 624.777 L159.439 620.959 Q161.132 621.88 162.937 622.332 Q164.743 622.783 166.755 622.783 Q170.009 622.783 171.909 621.071 Q173.808 619.36 173.808 616.426 Q173.808 613.492 171.909 611.78 Q170.009 610.069 166.755 610.069 Q165.232 610.069 163.709 610.407 Q162.204 610.746 160.624 611.461 L160.624 597.355 Z\" fill=\"#000000\" fill-rule=\"evenodd\" fill-opacity=\"1\" /><path clip-path=\"url(#clip400)\" d=\"M106.902 77.5141 L114.541 77.5141 L114.541 51.1485 L106.231 52.8152 L106.231 48.556 L114.494 46.8893 L119.17 46.8893 L119.17 77.5141 L126.809 77.5141 L126.809 81.4493 L106.902 81.4493 L106.902 77.5141 Z\" fill=\"#000000\" fill-rule=\"evenodd\" fill-opacity=\"1\" /><path clip-path=\"url(#clip400)\" d=\"M146.253 49.968 Q142.642 49.968 140.814 53.5328 Q139.008 57.0744 139.008 64.204 Q139.008 71.3105 140.814 74.8753 Q142.642 78.4169 146.253 78.4169 Q149.888 78.4169 151.693 74.8753 Q153.522 71.3105 153.522 64.204 Q153.522 57.0744 151.693 53.5328 Q149.888 49.968 146.253 49.968 M146.253 46.2643 Q152.064 46.2643 155.119 50.8708 Q158.198 55.4541 158.198 64.204 Q158.198 72.9308 155.119 77.5373 Q152.064 82.1206 146.253 82.1206 Q140.443 82.1206 137.365 77.5373 Q134.309 72.9308 134.309 64.204 Q134.309 55.4541 137.365 50.8708 Q140.443 46.2643 146.253 46.2643 Z\" fill=\"#000000\" fill-rule=\"evenodd\" fill-opacity=\"1\" /><path clip-path=\"url(#clip400)\" d=\"M167.903 28.4603 Q164.969 28.4603 163.483 31.3567 Q162.016 34.2343 162.016 40.0271 Q162.016 45.8011 163.483 48.6975 Q164.969 51.5751 167.903 51.5751 Q170.855 51.5751 172.322 48.6975 Q173.808 45.8011 173.808 40.0271 Q173.808 34.2343 172.322 31.3567 Q170.855 28.4603 167.903 28.4603 M167.903 25.4511 Q172.623 25.4511 175.106 29.1938 Q177.607 32.9178 177.607 40.0271 Q177.607 47.1176 175.106 50.8604 Q172.623 54.5843 167.903 54.5843 Q163.182 54.5843 160.68 50.8604 Q158.198 47.1176 158.198 40.0271 Q158.198 32.9178 160.68 29.1938 Q163.182 25.4511 167.903 25.4511 Z\" fill=\"#000000\" fill-rule=\"evenodd\" fill-opacity=\"1\" /><polyline clip-path=\"url(#clip402)\" style=\"stroke:#009af9; stroke-linecap:butt; stroke-linejoin:round; stroke-width:4; stroke-opacity:1; fill:none\" points=\"\n",
       "  2292.21,87.6286 2003.92,374.695 1715.62,482.875 1427.33,614.248 1139.03,752.026 850.739,890.198 562.444,1028.25 274.149,1155.58 \n",
       "  \"/>\n",
       "<circle clip-path=\"url(#clip402)\" cx=\"2292.21\" cy=\"87.6286\" r=\"14\" fill=\"#009af9\" fill-rule=\"evenodd\" fill-opacity=\"1\" stroke=\"#000000\" stroke-opacity=\"1\" stroke-width=\"3.2\"/>\n",
       "<circle clip-path=\"url(#clip402)\" cx=\"2003.92\" cy=\"374.695\" r=\"14\" fill=\"#009af9\" fill-rule=\"evenodd\" fill-opacity=\"1\" stroke=\"#000000\" stroke-opacity=\"1\" stroke-width=\"3.2\"/>\n",
       "<circle clip-path=\"url(#clip402)\" cx=\"1715.62\" cy=\"482.875\" r=\"14\" fill=\"#009af9\" fill-rule=\"evenodd\" fill-opacity=\"1\" stroke=\"#000000\" stroke-opacity=\"1\" stroke-width=\"3.2\"/>\n",
       "<circle clip-path=\"url(#clip402)\" cx=\"1427.33\" cy=\"614.248\" r=\"14\" fill=\"#009af9\" fill-rule=\"evenodd\" fill-opacity=\"1\" stroke=\"#000000\" stroke-opacity=\"1\" stroke-width=\"3.2\"/>\n",
       "<circle clip-path=\"url(#clip402)\" cx=\"1139.03\" cy=\"752.026\" r=\"14\" fill=\"#009af9\" fill-rule=\"evenodd\" fill-opacity=\"1\" stroke=\"#000000\" stroke-opacity=\"1\" stroke-width=\"3.2\"/>\n",
       "<circle clip-path=\"url(#clip402)\" cx=\"850.739\" cy=\"890.198\" r=\"14\" fill=\"#009af9\" fill-rule=\"evenodd\" fill-opacity=\"1\" stroke=\"#000000\" stroke-opacity=\"1\" stroke-width=\"3.2\"/>\n",
       "<circle clip-path=\"url(#clip402)\" cx=\"562.444\" cy=\"1028.25\" r=\"14\" fill=\"#009af9\" fill-rule=\"evenodd\" fill-opacity=\"1\" stroke=\"#000000\" stroke-opacity=\"1\" stroke-width=\"3.2\"/>\n",
       "<circle clip-path=\"url(#clip402)\" cx=\"274.149\" cy=\"1155.58\" r=\"14\" fill=\"#009af9\" fill-rule=\"evenodd\" fill-opacity=\"1\" stroke=\"#000000\" stroke-opacity=\"1\" stroke-width=\"3.2\"/>\n",
       "<polyline clip-path=\"url(#clip402)\" style=\"stroke:#e26f46; stroke-linecap:butt; stroke-linejoin:round; stroke-width:4; stroke-opacity:1; fill:none\" points=\"\n",
       "  2292.21,127.96 2003.92,216.672 1715.62,295.145 1427.33,368.65 1139.03,439.767 850.739,509.718 562.444,579.092 274.149,648.18 \n",
       "  \"/>\n",
       "<path clip-path=\"url(#clip402)\" d=\"M2276.21 111.96 L2276.21 143.96 L2308.21 143.96 L2308.21 111.96 L2276.21 111.96 Z\" fill=\"#e26f46\" fill-rule=\"evenodd\" fill-opacity=\"1\" stroke=\"#000000\" stroke-opacity=\"1\" stroke-width=\"3.2\"/>\n",
       "<path clip-path=\"url(#clip402)\" d=\"M1987.92 200.672 L1987.92 232.672 L2019.92 232.672 L2019.92 200.672 L1987.92 200.672 Z\" fill=\"#e26f46\" fill-rule=\"evenodd\" fill-opacity=\"1\" stroke=\"#000000\" stroke-opacity=\"1\" stroke-width=\"3.2\"/>\n",
       "<path clip-path=\"url(#clip402)\" d=\"M1699.62 279.145 L1699.62 311.145 L1731.62 311.145 L1731.62 279.145 L1699.62 279.145 Z\" fill=\"#e26f46\" fill-rule=\"evenodd\" fill-opacity=\"1\" stroke=\"#000000\" stroke-opacity=\"1\" stroke-width=\"3.2\"/>\n",
       "<path clip-path=\"url(#clip402)\" d=\"M1411.33 352.65 L1411.33 384.65 L1443.33 384.65 L1443.33 352.65 L1411.33 352.65 Z\" fill=\"#e26f46\" fill-rule=\"evenodd\" fill-opacity=\"1\" stroke=\"#000000\" stroke-opacity=\"1\" stroke-width=\"3.2\"/>\n",
       "<path clip-path=\"url(#clip402)\" d=\"M1123.03 423.767 L1123.03 455.767 L1155.03 455.767 L1155.03 423.767 L1123.03 423.767 Z\" fill=\"#e26f46\" fill-rule=\"evenodd\" fill-opacity=\"1\" stroke=\"#000000\" stroke-opacity=\"1\" stroke-width=\"3.2\"/>\n",
       "<path clip-path=\"url(#clip402)\" d=\"M834.739 493.718 L834.739 525.718 L866.739 525.718 L866.739 493.718 L834.739 493.718 Z\" fill=\"#e26f46\" fill-rule=\"evenodd\" fill-opacity=\"1\" stroke=\"#000000\" stroke-opacity=\"1\" stroke-width=\"3.2\"/>\n",
       "<path clip-path=\"url(#clip402)\" d=\"M546.444 563.092 L546.444 595.092 L578.444 595.092 L578.444 563.092 L546.444 563.092 Z\" fill=\"#e26f46\" fill-rule=\"evenodd\" fill-opacity=\"1\" stroke=\"#000000\" stroke-opacity=\"1\" stroke-width=\"3.2\"/>\n",
       "<path clip-path=\"url(#clip402)\" d=\"M258.149 632.18 L258.149 664.18 L290.149 664.18 L290.149 632.18 L258.149 632.18 Z\" fill=\"#e26f46\" fill-rule=\"evenodd\" fill-opacity=\"1\" stroke=\"#000000\" stroke-opacity=\"1\" stroke-width=\"3.2\"/>\n",
       "<polyline clip-path=\"url(#clip402)\" style=\"stroke:#3da44d; stroke-linecap:butt; stroke-linejoin:round; stroke-width:4; stroke-opacity:1; fill:none\" points=\"\n",
       "  274.149,745.751 293.857,741.047 476.087,697.558 585.599,671.422 678.19,649.325 778.77,625.321 871.496,603.191 970.908,579.466 1086.09,551.978 1188.44,527.55 \n",
       "  1278.2,506.129 1376.06,482.774 1474.5,459.281 1583.34,433.306 1686.9,408.591 1794.58,382.893 1885.22,361.261 1995.88,334.851 2099.91,310.025 2266.57,270.251 \n",
       "  2292.21,264.13 \n",
       "  \"/>\n",
       "<polyline clip-path=\"url(#clip402)\" style=\"stroke:#c271d2; stroke-linecap:butt; stroke-linejoin:round; stroke-width:4; stroke-opacity:1; fill:none\" points=\"\n",
       "  274.149,1433.78 293.857,1424.37 476.087,1337.39 585.599,1285.12 678.19,1240.93 778.77,1192.92 871.496,1148.66 970.908,1101.21 1086.09,1046.23 1188.44,997.379 \n",
       "  1278.2,954.537 1376.06,907.827 1474.5,860.84 1583.34,808.889 1686.9,759.46 1794.58,708.065 1885.22,664.801 1995.88,611.981 2099.91,562.328 2266.57,482.781 \n",
       "  2292.21,470.539 \n",
       "  \"/>\n",
       "<path clip-path=\"url(#clip400)\" d=\"\n",
       "M284.912 354.008 L576.739 354.008 L576.739 94.8081 L284.912 94.8081  Z\n",
       "  \" fill=\"#ffffff\" fill-rule=\"evenodd\" fill-opacity=\"1\"/>\n",
       "<polyline clip-path=\"url(#clip400)\" style=\"stroke:#000000; stroke-linecap:butt; stroke-linejoin:round; stroke-width:4; stroke-opacity:1; fill:none\" points=\"\n",
       "  284.912,354.008 576.739,354.008 576.739,94.8081 284.912,94.8081 284.912,354.008 \n",
       "  \"/>\n",
       "<polyline clip-path=\"url(#clip400)\" style=\"stroke:#009af9; stroke-linecap:butt; stroke-linejoin:round; stroke-width:4; stroke-opacity:1; fill:none\" points=\"\n",
       "  308.681,146.648 451.291,146.648 \n",
       "  \"/>\n",
       "<circle clip-path=\"url(#clip400)\" cx=\"379.986\" cy=\"146.648\" r=\"23\" fill=\"#009af9\" fill-rule=\"evenodd\" fill-opacity=\"1\" stroke=\"#000000\" stroke-opacity=\"1\" stroke-width=\"5.12\"/>\n",
       "<path clip-path=\"url(#clip400)\" d=\"M488.901 166.336 Q487.096 170.965 485.383 172.377 Q483.67 173.789 480.8 173.789 L477.397 173.789 L477.397 170.224 L479.897 170.224 Q481.656 170.224 482.628 169.391 Q483.601 168.558 484.781 165.456 L485.545 163.511 L475.059 138.002 L479.573 138.002 L487.675 158.28 L495.776 138.002 L500.29 138.002 L488.901 166.336 Z\" fill=\"#000000\" fill-rule=\"evenodd\" fill-opacity=\"1\" /><path clip-path=\"url(#clip400)\" d=\"M507.582 159.993 L515.221 159.993 L515.221 133.627 L506.911 135.294 L506.911 131.035 L515.174 129.368 L519.85 129.368 L519.85 159.993 L527.489 159.993 L527.489 163.928 L507.582 163.928 L507.582 159.993 Z\" fill=\"#000000\" fill-rule=\"evenodd\" fill-opacity=\"1\" /><polyline clip-path=\"url(#clip400)\" style=\"stroke:#e26f46; stroke-linecap:butt; stroke-linejoin:round; stroke-width:4; stroke-opacity:1; fill:none\" points=\"\n",
       "  308.681,198.488 451.291,198.488 \n",
       "  \"/>\n",
       "<path clip-path=\"url(#clip400)\" d=\"M354.386 172.888 L354.386 224.088 L405.586 224.088 L405.586 172.888 L354.386 172.888 Z\" fill=\"#e26f46\" fill-rule=\"evenodd\" fill-opacity=\"1\" stroke=\"#000000\" stroke-opacity=\"1\" stroke-width=\"5.12\"/>\n",
       "<path clip-path=\"url(#clip400)\" d=\"M488.901 218.176 Q487.096 222.805 485.383 224.217 Q483.67 225.629 480.8 225.629 L477.397 225.629 L477.397 222.064 L479.897 222.064 Q481.656 222.064 482.628 221.231 Q483.601 220.398 484.781 217.296 L485.545 215.351 L475.059 189.842 L479.573 189.842 L487.675 210.12 L495.776 189.842 L500.29 189.842 L488.901 218.176 Z\" fill=\"#000000\" fill-rule=\"evenodd\" fill-opacity=\"1\" /><path clip-path=\"url(#clip400)\" d=\"M510.8 211.833 L527.119 211.833 L527.119 215.768 L505.175 215.768 L505.175 211.833 Q507.837 209.078 512.42 204.449 Q517.026 199.796 518.207 198.453 Q520.452 195.93 521.332 194.194 Q522.235 192.435 522.235 190.745 Q522.235 187.99 520.29 186.254 Q518.369 184.518 515.267 184.518 Q513.068 184.518 510.614 185.282 Q508.184 186.046 505.406 187.597 L505.406 182.875 Q508.23 181.741 510.684 181.162 Q513.137 180.583 515.174 180.583 Q520.545 180.583 523.739 183.268 Q526.934 185.953 526.934 190.444 Q526.934 192.574 526.123 194.495 Q525.336 196.393 523.23 198.986 Q522.651 199.657 519.549 202.875 Q516.448 206.069 510.8 211.833 Z\" fill=\"#000000\" fill-rule=\"evenodd\" fill-opacity=\"1\" /><polyline clip-path=\"url(#clip400)\" style=\"stroke:#3da44d; stroke-linecap:butt; stroke-linejoin:round; stroke-width:4; stroke-opacity:1; fill:none\" points=\"\n",
       "  308.681,250.328 451.291,250.328 \n",
       "  \"/>\n",
       "<path clip-path=\"url(#clip400)\" d=\"M488.901 270.016 Q487.096 274.645 485.383 276.057 Q483.67 277.469 480.8 277.469 L477.397 277.469 L477.397 273.904 L479.897 273.904 Q481.656 273.904 482.628 273.071 Q483.601 272.238 484.781 269.136 L485.545 267.191 L475.059 241.682 L479.573 241.682 L487.675 261.96 L495.776 241.682 L500.29 241.682 L488.901 270.016 Z\" fill=\"#000000\" fill-rule=\"evenodd\" fill-opacity=\"1\" /><path clip-path=\"url(#clip400)\" d=\"M520.938 248.974 Q524.295 249.692 526.17 251.96 Q528.068 254.229 528.068 257.562 Q528.068 262.678 524.549 265.478 Q521.031 268.279 514.549 268.279 Q512.374 268.279 510.059 267.84 Q507.767 267.423 505.313 266.566 L505.313 262.053 Q507.258 263.187 509.573 263.766 Q511.887 264.344 514.411 264.344 Q518.809 264.344 521.1 262.608 Q523.415 260.872 523.415 257.562 Q523.415 254.506 521.262 252.793 Q519.133 251.057 515.313 251.057 L511.286 251.057 L511.286 247.215 L515.499 247.215 Q518.948 247.215 520.776 245.849 Q522.605 244.46 522.605 241.868 Q522.605 239.205 520.707 237.793 Q518.832 236.358 515.313 236.358 Q513.392 236.358 511.193 236.775 Q508.994 237.192 506.355 238.071 L506.355 233.905 Q509.017 233.164 511.332 232.793 Q513.67 232.423 515.73 232.423 Q521.054 232.423 524.156 234.854 Q527.258 237.261 527.258 241.381 Q527.258 244.252 525.614 246.242 Q523.971 248.21 520.938 248.974 Z\" fill=\"#000000\" fill-rule=\"evenodd\" fill-opacity=\"1\" /><polyline clip-path=\"url(#clip400)\" style=\"stroke:#c271d2; stroke-linecap:butt; stroke-linejoin:round; stroke-width:4; stroke-opacity:1; fill:none\" points=\"\n",
       "  308.681,302.168 451.291,302.168 \n",
       "  \"/>\n",
       "<path clip-path=\"url(#clip400)\" d=\"M488.901 321.856 Q487.096 326.485 485.383 327.897 Q483.67 329.309 480.8 329.309 L477.397 329.309 L477.397 325.744 L479.897 325.744 Q481.656 325.744 482.628 324.911 Q483.601 324.078 484.781 320.976 L485.545 319.031 L475.059 293.522 L479.573 293.522 L487.675 313.8 L495.776 293.522 L500.29 293.522 L488.901 321.856 Z\" fill=\"#000000\" fill-rule=\"evenodd\" fill-opacity=\"1\" /><path clip-path=\"url(#clip400)\" d=\"M519.619 288.962 L507.813 307.411 L519.619 307.411 L519.619 288.962 M518.392 284.888 L524.272 284.888 L524.272 307.411 L529.202 307.411 L529.202 311.3 L524.272 311.3 L524.272 319.448 L519.619 319.448 L519.619 311.3 L504.017 311.3 L504.017 306.786 L518.392 284.888 Z\" fill=\"#000000\" fill-rule=\"evenodd\" fill-opacity=\"1\" /></svg>\n"
      ]
     },
     "execution_count": 75,
     "metadata": {},
     "output_type": "execute_result"
    }
   ],
   "source": [
    "plot(hs, [poisson_error(n, 5) for n in ns], marker=:circle)\n",
    "plot!(hs, [poisson_error(n, 3) for n in ns], marker=:square)\n",
    "plot!([h -> h^2, h -> h^4], xscale=:log10, yscale=:log10, legend=:topleft)"
   ]
  },
  {
   "cell_type": "markdown",
   "id": "ceeb0e08",
   "metadata": {
    "slideshow": {
     "slide_type": "slide"
    }
   },
   "source": [
    "# Symmetry in boundary conditions: Dirichlet"
   ]
  },
  {
   "cell_type": "markdown",
   "id": "022014f3",
   "metadata": {
    "cell_style": "split"
   },
   "source": [
    "We have implemented Dirichlet conditions by modifying the first row of the matrix,\n",
    "\\begin{align}\n",
    "\\begin{bmatrix} 1 & 0 & 0 & 0 & 0 \\\\ \\\\ & & A_{1:,:} & & \\\\ \\\\ \\end{bmatrix} \\begin{bmatrix} u_0 \\\\ \\\\ u_{1:} \\\\ \\\\ \\end{bmatrix} = \\begin{bmatrix} a \\\\ \\\\ f_{1:} \\\\ \\\\ \\end{bmatrix} .\n",
    "\\end{align}\n",
    "\n",
    "* This matrix is not symmetric even if $A$ is.\n",
    "* We can eliminate $u_0$ and create a reduced system for $u_{1:}$.\n",
    "* Generalize: consider a $2\\times 2$ block system\n",
    "\\begin{align*}\n",
    "\\begin{bmatrix} I & 0 \\\\ A_{10} & A_{11} \\end{bmatrix} \\begin{bmatrix} u_0 \\\\ u_1 \\end{bmatrix} = \\begin{bmatrix} f_0 \\\\ f_1 \\end{bmatrix}.\n",
    "\\end{align*}"
   ]
  },
  {
   "cell_type": "markdown",
   "id": "058c2fa9",
   "metadata": {
    "cell_style": "split"
   },
   "source": [
    "We can rearrange as\n",
    "$$A_{11} u_1 = f_1 - A_{10} f_0,$$\n",
    "which is symmetric if $A_{11}$ is.\n",
    "* This is called \"lifting\" and is often done implicitly in the mathematics literature.  It is convenient for linear solvers and eigenvalue solvers, but inconvenient for IO and postprocessing, as well as some nonlinear problems.\n",
    "* Convenient alternative: write\n",
    "$$\\begin{bmatrix} I & 0 \\\\ 0 & A_{11} \\end{bmatrix} \\begin{bmatrix} u_0 \\\\ u_1 \\end{bmatrix} = \\begin{bmatrix} f_0 \\\\ f_1 - A_{10} f_0 \\end{bmatrix},$$\n",
    "which is symmetric and decouples the degrees of freedom associated with the boundary. This method applies cleanly to nonlinear problems.\n",
    "* Optionally scale the identity by some scalar related to the norm of $A_{11}$."
   ]
  },
  {
   "cell_type": "markdown",
   "id": "ad1e6953",
   "metadata": {
    "slideshow": {
     "slide_type": "slide"
    }
   },
   "source": [
    "# Symmetry in boundary conditions: Neumann"
   ]
  },
  {
   "cell_type": "markdown",
   "id": "7af389c0",
   "metadata": {
    "cell_style": "split",
    "slideshow": {
     "slide_type": "slide"
    }
   },
   "source": [
    "Consider FD discretization of the Neumann boundary condition\n",
    "$$\n",
    "\\frac{du}{dx}(1) = b .\n",
    "$$\n",
    "1. Use a one-sided difference formula as in\n",
    "$$ \\frac{u_n - u_{n-1}}{h} = b . $$\n",
    "  * an extra discretization choice\n",
    "  * may reduce order of accuracy compared to interior discretization, lose symmetry.\n",
    "2. Temporarily introduce a ghost value $u_{n+1} = u(x_{n+1} = 1 + h)$ (possibly more) and define it to be a reflection of the values from inside the domain.  In the case $b=0$, this reflection is $u_{n+i} = u_{n-i}$.  More generally,\n",
    "$$ u_{n+i} = u_{n-i} + 2b(x_n - x_{n-i}) . $$"
   ]
  },
  {
   "cell_type": "markdown",
   "id": "34220f52",
   "metadata": {
    "cell_style": "split",
    "slideshow": {
     "slide_type": "slide"
    }
   },
   "source": [
    "After this definition of ghost values, we apply the interior discretization at the boundary. For our reference equation, we would write\n",
    "\n",
    "$$ \\frac{-u_{n-1} + 2 u_n - u_{n+1}}{h^2} = f(x_n) $$\n",
    "\n",
    "which simplifies to $$ \\frac{u_n - u_{n-1}}{h^2} = f(x_n)/2 + b/h $$\n",
    "after dividing by 2 and moving the boundary term to the right hand side."
   ]
  }
 ],
 "metadata": {
  "celltoolbar": "Slideshow",
  "kernelspec": {
   "display_name": "Julia 1.6.2",
   "language": "julia",
   "name": "julia-1.6"
  },
  "language_info": {
   "file_extension": ".jl",
   "mimetype": "application/julia",
   "name": "julia",
   "version": "1.6.3"
  },
  "rise": {
   "enable_chalkboard": true
  }
 },
 "nbformat": 4,
 "nbformat_minor": 5
}
