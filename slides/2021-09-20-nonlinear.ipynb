{
 "cells": [
  {
   "cell_type": "markdown",
   "id": "4159be0e",
   "metadata": {
    "slideshow": {
     "slide_type": "slide"
    }
   },
   "source": [
    "# 2021-09-20 Nonlinear solvers\n",
    "\n",
    "## Last time\n",
    "\n",
    "* Upwinding for robustness to (cell) Péclet number and oscillations\n",
    "* Effective use of sparse/structured matrices\n",
    "\n",
    "## Today\n",
    "* Intro to rootfinding and Newton's method\n",
    "* Bratu and p-Laplacian problems"
   ]
  },
  {
   "cell_type": "code",
   "execution_count": 89,
   "id": "009bd630",
   "metadata": {
    "cell_style": "center",
    "slideshow": {
     "slide_type": "skip"
    }
   },
   "outputs": [
    {
     "data": {
      "text/plain": [
       "advdiff_sparse (generic function with 1 method)"
      ]
     },
     "execution_count": 89,
     "metadata": {},
     "output_type": "execute_result"
    }
   ],
   "source": [
    "using Plots\n",
    "using LinearAlgebra\n",
    "using SparseArrays\n",
    "\n",
    "function vander(x, k=nothing)\n",
    "    if k === nothing\n",
    "        k = length(x)\n",
    "    end\n",
    "    V = ones(length(x), k)\n",
    "    for j = 2:k\n",
    "        V[:, j] = V[:, j-1] .* x\n",
    "    end\n",
    "    V\n",
    "end\n",
    "\n",
    "function fdstencil(source, target, k)\n",
    "    \"kth derivative stencil from source to target\"\n",
    "    x = source .- target\n",
    "    V = vander(x)\n",
    "    rhs = zero(x)'\n",
    "    rhs[k+1] = factorial(k)\n",
    "    rhs / V\n",
    "end\n",
    "\n",
    "function advdiff_sparse(n, kappa, wind, forcing)\n",
    "    x = LinRange(-1, 1, n)\n",
    "    xstag = (x[1:end-1] + x[2:end]) / 2\n",
    "    rhs = forcing.(x)\n",
    "    kappa_stag = kappa.(xstag)\n",
    "    rows = [1, n]\n",
    "    cols = [1, n]\n",
    "    vals = [1., 1.] # diagonals entries (float)\n",
    "    rhs[[1,n]] .= 0 # boundary condition\n",
    "    for i in 2:n-1\n",
    "        flux_L = -kappa_stag[i-1] * fdstencil(x[i-1:i], xstag[i-1], 1) +\n",
    "            wind * (wind > 0 ? [1 0] : [0 1])\n",
    "        flux_R = -kappa_stag[i] * fdstencil(x[i:i+1], xstag[i], 1) +\n",
    "            wind * (wind > 0 ? [1 0] : [0 1])\n",
    "        weights = fdstencil(xstag[i-1:i], x[i], 1)\n",
    "        append!(rows, [i,i,i])\n",
    "        append!(cols, i-1:i+1)\n",
    "        append!(vals, weights[1] *  [flux_L..., 0] + weights[2] * [0, flux_R...])\n",
    "    end\n",
    "    L = sparse(rows, cols, vals)\n",
    "    x, L, rhs\n",
    "end"
   ]
  },
  {
   "cell_type": "markdown",
   "id": "b56bb40e",
   "metadata": {
    "slideshow": {
     "slide_type": "slide"
    }
   },
   "source": [
    "# Nonlinear problems and rootfinding\n",
    "\n",
    "We want to solve problems like\n",
    "$$ -(|u_x|^{p-2} u_x)_x + (u^2)_x = 0 $$\n",
    "\n",
    "For linear problems, we found $u$ such that $L u = b$ using linear algebra.\n",
    "\n",
    "For nonlinear problems, we'll need to find $u$ such that $F(u) = 0$."
   ]
  },
  {
   "cell_type": "markdown",
   "id": "82ee601c",
   "metadata": {
    "slideshow": {
     "slide_type": "slide"
    }
   },
   "source": [
    "# An algorithm: Bisection\n",
    "\n",
    "Bisection is a rootfinding technique that starts with an interval $[a,b]$ containing a root and does not require derivatives. Suppose $f$ is continuous. What is a **sufficient** condition for $f$ to have a root on $[a,b]$?"
   ]
  },
  {
   "cell_type": "code",
   "execution_count": 4,
   "id": "9225dee0",
   "metadata": {
    "cell_style": "split"
   },
   "outputs": [
    {
     "data": {
      "image/svg+xml": [
       "<?xml version=\"1.0\" encoding=\"utf-8\"?>\n",
       "<svg xmlns=\"http://www.w3.org/2000/svg\" xmlns:xlink=\"http://www.w3.org/1999/xlink\" width=\"600\" height=\"400\" viewBox=\"0 0 2400 1600\">\n",
       "<defs>\n",
       "  <clipPath id=\"clip900\">\n",
       "    <rect x=\"0\" y=\"0\" width=\"2400\" height=\"1600\"/>\n",
       "  </clipPath>\n",
       "</defs>\n",
       "<path clip-path=\"url(#clip900)\" d=\"\n",
       "M0 1600 L2400 1600 L2400 0 L0 0  Z\n",
       "  \" fill=\"#ffffff\" fill-rule=\"evenodd\" fill-opacity=\"1\"/>\n",
       "<defs>\n",
       "  <clipPath id=\"clip901\">\n",
       "    <rect x=\"480\" y=\"0\" width=\"1681\" height=\"1600\"/>\n",
       "  </clipPath>\n",
       "</defs>\n",
       "<path clip-path=\"url(#clip900)\" d=\"\n",
       "M149.191 1486.45 L2352.76 1486.45 L2352.76 47.2441 L149.191 47.2441  Z\n",
       "  \" fill=\"#ffffff\" fill-rule=\"evenodd\" fill-opacity=\"1\"/>\n",
       "<defs>\n",
       "  <clipPath id=\"clip902\">\n",
       "    <rect x=\"149\" y=\"47\" width=\"2205\" height=\"1440\"/>\n",
       "  </clipPath>\n",
       "</defs>\n",
       "<polyline clip-path=\"url(#clip902)\" style=\"stroke:#000000; stroke-linecap:butt; stroke-linejoin:round; stroke-width:2; stroke-opacity:0.1; fill:none\" points=\"\n",
       "  149.191,1486.45 149.191,47.2441 \n",
       "  \"/>\n",
       "<polyline clip-path=\"url(#clip902)\" style=\"stroke:#000000; stroke-linecap:butt; stroke-linejoin:round; stroke-width:2; stroke-opacity:0.1; fill:none\" points=\"\n",
       "  700.082,1486.45 700.082,47.2441 \n",
       "  \"/>\n",
       "<polyline clip-path=\"url(#clip902)\" style=\"stroke:#000000; stroke-linecap:butt; stroke-linejoin:round; stroke-width:2; stroke-opacity:0.1; fill:none\" points=\"\n",
       "  1250.97,1486.45 1250.97,47.2441 \n",
       "  \"/>\n",
       "<polyline clip-path=\"url(#clip902)\" style=\"stroke:#000000; stroke-linecap:butt; stroke-linejoin:round; stroke-width:2; stroke-opacity:0.1; fill:none\" points=\"\n",
       "  1801.86,1486.45 1801.86,47.2441 \n",
       "  \"/>\n",
       "<polyline clip-path=\"url(#clip902)\" style=\"stroke:#000000; stroke-linecap:butt; stroke-linejoin:round; stroke-width:2; stroke-opacity:0.1; fill:none\" points=\"\n",
       "  2352.76,1486.45 2352.76,47.2441 \n",
       "  \"/>\n",
       "<polyline clip-path=\"url(#clip900)\" style=\"stroke:#000000; stroke-linecap:butt; stroke-linejoin:round; stroke-width:4; stroke-opacity:1; fill:none\" points=\"\n",
       "  149.191,1486.45 2352.76,1486.45 \n",
       "  \"/>\n",
       "<polyline clip-path=\"url(#clip900)\" style=\"stroke:#000000; stroke-linecap:butt; stroke-linejoin:round; stroke-width:4; stroke-opacity:1; fill:none\" points=\"\n",
       "  149.191,1486.45 149.191,1467.55 \n",
       "  \"/>\n",
       "<polyline clip-path=\"url(#clip900)\" style=\"stroke:#000000; stroke-linecap:butt; stroke-linejoin:round; stroke-width:4; stroke-opacity:1; fill:none\" points=\"\n",
       "  700.082,1486.45 700.082,1467.55 \n",
       "  \"/>\n",
       "<polyline clip-path=\"url(#clip900)\" style=\"stroke:#000000; stroke-linecap:butt; stroke-linejoin:round; stroke-width:4; stroke-opacity:1; fill:none\" points=\"\n",
       "  1250.97,1486.45 1250.97,1467.55 \n",
       "  \"/>\n",
       "<polyline clip-path=\"url(#clip900)\" style=\"stroke:#000000; stroke-linecap:butt; stroke-linejoin:round; stroke-width:4; stroke-opacity:1; fill:none\" points=\"\n",
       "  1801.86,1486.45 1801.86,1467.55 \n",
       "  \"/>\n",
       "<polyline clip-path=\"url(#clip900)\" style=\"stroke:#000000; stroke-linecap:butt; stroke-linejoin:round; stroke-width:4; stroke-opacity:1; fill:none\" points=\"\n",
       "  2352.76,1486.45 2352.76,1467.55 \n",
       "  \"/>\n",
       "<path clip-path=\"url(#clip900)\" d=\"M118.091 1530.29 L147.767 1530.29 L147.767 1534.23 L118.091 1534.23 L118.091 1530.29 Z\" fill=\"#000000\" fill-rule=\"evenodd\" fill-opacity=\"1\" /><path clip-path=\"url(#clip900)\" d=\"M170.707 1516.63 L158.901 1535.08 L170.707 1535.08 L170.707 1516.63 M169.48 1512.56 L175.36 1512.56 L175.36 1535.08 L180.29 1535.08 L180.29 1538.97 L175.36 1538.97 L175.36 1547.12 L170.707 1547.12 L170.707 1538.97 L155.105 1538.97 L155.105 1534.46 L169.48 1512.56 Z\" fill=\"#000000\" fill-rule=\"evenodd\" fill-opacity=\"1\" /><path clip-path=\"url(#clip900)\" d=\"M670.024 1530.29 L699.7 1530.29 L699.7 1534.23 L670.024 1534.23 L670.024 1530.29 Z\" fill=\"#000000\" fill-rule=\"evenodd\" fill-opacity=\"1\" /><path clip-path=\"url(#clip900)\" d=\"M713.82 1543.18 L730.14 1543.18 L730.14 1547.12 L708.196 1547.12 L708.196 1543.18 Q710.858 1540.43 715.441 1535.8 Q720.047 1531.15 721.228 1529.81 Q723.473 1527.28 724.353 1525.55 Q725.256 1523.79 725.256 1522.1 Q725.256 1519.34 723.311 1517.61 Q721.39 1515.87 718.288 1515.87 Q716.089 1515.87 713.635 1516.63 Q711.205 1517.4 708.427 1518.95 L708.427 1514.23 Q711.251 1513.09 713.705 1512.51 Q716.158 1511.93 718.195 1511.93 Q723.566 1511.93 726.76 1514.62 Q729.955 1517.31 729.955 1521.8 Q729.955 1523.93 729.144 1525.85 Q728.357 1527.74 726.251 1530.34 Q725.672 1531.01 722.57 1534.23 Q719.469 1537.42 713.82 1543.18 Z\" fill=\"#000000\" fill-rule=\"evenodd\" fill-opacity=\"1\" /><path clip-path=\"url(#clip900)\" d=\"M1250.97 1515.64 Q1247.36 1515.64 1245.53 1519.2 Q1243.73 1522.75 1243.73 1529.87 Q1243.73 1536.98 1245.53 1540.55 Q1247.36 1544.09 1250.97 1544.09 Q1254.61 1544.09 1256.41 1540.55 Q1258.24 1536.98 1258.24 1529.87 Q1258.24 1522.75 1256.41 1519.2 Q1254.61 1515.64 1250.97 1515.64 M1250.97 1511.93 Q1256.78 1511.93 1259.84 1516.54 Q1262.92 1521.12 1262.92 1529.87 Q1262.92 1538.6 1259.84 1543.21 Q1256.78 1547.79 1250.97 1547.79 Q1245.16 1547.79 1242.08 1543.21 Q1239.03 1538.6 1239.03 1529.87 Q1239.03 1521.12 1242.08 1516.54 Q1245.16 1511.93 1250.97 1511.93 Z\" fill=\"#000000\" fill-rule=\"evenodd\" fill-opacity=\"1\" /><path clip-path=\"url(#clip900)\" d=\"M1796.52 1543.18 L1812.84 1543.18 L1812.84 1547.12 L1790.89 1547.12 L1790.89 1543.18 Q1793.55 1540.43 1798.14 1535.8 Q1802.74 1531.15 1803.92 1529.81 Q1806.17 1527.28 1807.05 1525.55 Q1807.95 1523.79 1807.95 1522.1 Q1807.95 1519.34 1806.01 1517.61 Q1804.09 1515.87 1800.99 1515.87 Q1798.79 1515.87 1796.33 1516.63 Q1793.9 1517.4 1791.12 1518.95 L1791.12 1514.23 Q1793.95 1513.09 1796.4 1512.51 Q1798.86 1511.93 1800.89 1511.93 Q1806.26 1511.93 1809.46 1514.62 Q1812.65 1517.31 1812.65 1521.8 Q1812.65 1523.93 1811.84 1525.85 Q1811.05 1527.74 1808.95 1530.34 Q1808.37 1531.01 1805.27 1534.23 Q1802.17 1537.42 1796.52 1543.18 Z\" fill=\"#000000\" fill-rule=\"evenodd\" fill-opacity=\"1\" /><path clip-path=\"url(#clip900)\" d=\"M2355.77 1516.63 L2343.96 1535.08 L2355.77 1535.08 L2355.77 1516.63 M2354.54 1512.56 L2360.42 1512.56 L2360.42 1535.08 L2365.35 1535.08 L2365.35 1538.97 L2360.42 1538.97 L2360.42 1547.12 L2355.77 1547.12 L2355.77 1538.97 L2340.16 1538.97 L2340.16 1534.46 L2354.54 1512.56 Z\" fill=\"#000000\" fill-rule=\"evenodd\" fill-opacity=\"1\" /><polyline clip-path=\"url(#clip902)\" style=\"stroke:#000000; stroke-linecap:butt; stroke-linejoin:round; stroke-width:2; stroke-opacity:0.1; fill:none\" points=\"\n",
       "  149.191,1334.78 2352.76,1334.78 \n",
       "  \"/>\n",
       "<polyline clip-path=\"url(#clip902)\" style=\"stroke:#000000; stroke-linecap:butt; stroke-linejoin:round; stroke-width:2; stroke-opacity:0.1; fill:none\" points=\"\n",
       "  149.191,995.346 2352.76,995.346 \n",
       "  \"/>\n",
       "<polyline clip-path=\"url(#clip902)\" style=\"stroke:#000000; stroke-linecap:butt; stroke-linejoin:round; stroke-width:2; stroke-opacity:0.1; fill:none\" points=\"\n",
       "  149.191,655.911 2352.76,655.911 \n",
       "  \"/>\n",
       "<polyline clip-path=\"url(#clip902)\" style=\"stroke:#000000; stroke-linecap:butt; stroke-linejoin:round; stroke-width:2; stroke-opacity:0.1; fill:none\" points=\"\n",
       "  149.191,316.476 2352.76,316.476 \n",
       "  \"/>\n",
       "<polyline clip-path=\"url(#clip900)\" style=\"stroke:#000000; stroke-linecap:butt; stroke-linejoin:round; stroke-width:4; stroke-opacity:1; fill:none\" points=\"\n",
       "  149.191,1486.45 149.191,47.2441 \n",
       "  \"/>\n",
       "<polyline clip-path=\"url(#clip900)\" style=\"stroke:#000000; stroke-linecap:butt; stroke-linejoin:round; stroke-width:4; stroke-opacity:1; fill:none\" points=\"\n",
       "  149.191,1334.78 168.089,1334.78 \n",
       "  \"/>\n",
       "<polyline clip-path=\"url(#clip900)\" style=\"stroke:#000000; stroke-linecap:butt; stroke-linejoin:round; stroke-width:4; stroke-opacity:1; fill:none\" points=\"\n",
       "  149.191,995.346 168.089,995.346 \n",
       "  \"/>\n",
       "<polyline clip-path=\"url(#clip900)\" style=\"stroke:#000000; stroke-linecap:butt; stroke-linejoin:round; stroke-width:4; stroke-opacity:1; fill:none\" points=\"\n",
       "  149.191,655.911 168.089,655.911 \n",
       "  \"/>\n",
       "<polyline clip-path=\"url(#clip900)\" style=\"stroke:#000000; stroke-linecap:butt; stroke-linejoin:round; stroke-width:4; stroke-opacity:1; fill:none\" points=\"\n",
       "  149.191,316.476 168.089,316.476 \n",
       "  \"/>\n",
       "<path clip-path=\"url(#clip900)\" d=\"M50.9921 1335.23 L80.6679 1335.23 L80.6679 1339.17 L50.9921 1339.17 L50.9921 1335.23 Z\" fill=\"#000000\" fill-rule=\"evenodd\" fill-opacity=\"1\" /><path clip-path=\"url(#clip900)\" d=\"M103.608 1321.58 L91.8021 1340.02 L103.608 1340.02 L103.608 1321.58 M102.381 1317.5 L108.26 1317.5 L108.26 1340.02 L113.191 1340.02 L113.191 1343.91 L108.26 1343.91 L108.26 1352.06 L103.608 1352.06 L103.608 1343.91 L88.0058 1343.91 L88.0058 1339.4 L102.381 1317.5 Z\" fill=\"#000000\" fill-rule=\"evenodd\" fill-opacity=\"1\" /><path clip-path=\"url(#clip900)\" d=\"M53.0754 995.798 L82.7512 995.798 L82.7512 999.733 L53.0754 999.733 L53.0754 995.798 Z\" fill=\"#000000\" fill-rule=\"evenodd\" fill-opacity=\"1\" /><path clip-path=\"url(#clip900)\" d=\"M96.8715 1008.69 L113.191 1008.69 L113.191 1012.63 L91.2465 1012.63 L91.2465 1008.69 Q93.9086 1005.94 98.4919 1001.31 Q103.098 996.654 104.279 995.311 Q106.524 992.788 107.404 991.052 Q108.307 989.293 108.307 987.603 Q108.307 984.848 106.362 983.112 Q104.441 981.376 101.339 981.376 Q99.14 981.376 96.6863 982.14 Q94.2558 982.904 91.478 984.455 L91.478 979.733 Q94.3021 978.599 96.7558 978.02 Q99.2095 977.441 101.246 977.441 Q106.617 977.441 109.811 980.126 Q113.006 982.811 113.006 987.302 Q113.006 989.432 112.196 991.353 Q111.408 993.251 109.302 995.844 Q108.723 996.515 105.621 999.733 Q102.52 1002.93 96.8715 1008.69 Z\" fill=\"#000000\" fill-rule=\"evenodd\" fill-opacity=\"1\" /><path clip-path=\"url(#clip900)\" d=\"M101.246 641.71 Q97.6354 641.71 95.8067 645.275 Q94.0012 648.816 94.0012 655.946 Q94.0012 663.052 95.8067 666.617 Q97.6354 670.159 101.246 670.159 Q104.881 670.159 106.686 666.617 Q108.515 663.052 108.515 655.946 Q108.515 648.816 106.686 645.275 Q104.881 641.71 101.246 641.71 M101.246 638.006 Q107.057 638.006 110.112 642.613 Q113.191 647.196 113.191 655.946 Q113.191 664.673 110.112 669.279 Q107.057 673.863 101.246 673.863 Q95.4363 673.863 92.3576 669.279 Q89.3021 664.673 89.3021 655.946 Q89.3021 647.196 92.3576 642.613 Q95.4363 638.006 101.246 638.006 Z\" fill=\"#000000\" fill-rule=\"evenodd\" fill-opacity=\"1\" /><path clip-path=\"url(#clip900)\" d=\"M96.8715 329.821 L113.191 329.821 L113.191 333.756 L91.2465 333.756 L91.2465 329.821 Q93.9086 327.067 98.4919 322.437 Q103.098 317.784 104.279 316.442 Q106.524 313.919 107.404 312.182 Q108.307 310.423 108.307 308.733 Q108.307 305.979 106.362 304.243 Q104.441 302.507 101.339 302.507 Q99.14 302.507 96.6863 303.27 Q94.2558 304.034 91.478 305.585 L91.478 300.863 Q94.3021 299.729 96.7558 299.15 Q99.2095 298.571 101.246 298.571 Q106.617 298.571 109.811 301.257 Q113.006 303.942 113.006 308.432 Q113.006 310.562 112.196 312.483 Q111.408 314.382 109.302 316.974 Q108.723 317.645 105.621 320.863 Q102.52 324.057 96.8715 329.821 Z\" fill=\"#000000\" fill-rule=\"evenodd\" fill-opacity=\"1\" /><polyline clip-path=\"url(#clip902)\" style=\"stroke:#009af9; stroke-linecap:butt; stroke-linejoin:round; stroke-width:4; stroke-opacity:1; fill:none\" points=\"\n",
       "  149.191,87.9763 159.951,99.5375 170.71,110.922 270.2,206.633 369.69,282.337 429.48,317.315 489.269,344.429 539.82,361.545 590.371,373.831 700.197,387.11 \n",
       "  801.446,389.313 909.996,390.357 1035.76,402.811 1091.64,415.633 1147.53,434.284 1196.53,455.953 1245.54,482.876 1298.96,518.333 1352.39,560.058 1406.14,608.022 \n",
       "  1459.88,661.432 1578.73,794.766 1691.8,932.56 1809.38,1074.79 1908.35,1184.56 1968.77,1244.13 2029.19,1296.71 2085.98,1339.09 2142.77,1374.33 2233.76,1415.98 \n",
       "  2324.75,1440.92 2338.75,1443.47 2352.76,1445.72 \n",
       "  \"/>\n",
       "<polyline clip-path=\"url(#clip902)\" style=\"stroke:#e26f46; stroke-linecap:butt; stroke-linejoin:round; stroke-width:4; stroke-opacity:1; fill:none\" points=\"\n",
       "  149.191,655.911 170.71,655.911 369.69,655.911 489.269,655.911 590.371,655.911 700.197,655.911 801.446,655.911 909.996,655.911 1035.76,655.911 1147.53,655.911 \n",
       "  1245.54,655.911 1352.39,655.911 1459.88,655.911 1578.73,655.911 1691.8,655.911 1809.38,655.911 1908.35,655.911 2029.19,655.911 2142.77,655.911 2324.75,655.911 \n",
       "  2352.76,655.911 \n",
       "  \"/>\n",
       "<path clip-path=\"url(#clip900)\" d=\"\n",
       "M1982.03 250.738 L2279.3 250.738 L2279.3 95.2176 L1982.03 95.2176  Z\n",
       "  \" fill=\"#ffffff\" fill-rule=\"evenodd\" fill-opacity=\"1\"/>\n",
       "<polyline clip-path=\"url(#clip900)\" style=\"stroke:#000000; stroke-linecap:butt; stroke-linejoin:round; stroke-width:4; stroke-opacity:1; fill:none\" points=\"\n",
       "  1982.03,250.738 2279.3,250.738 2279.3,95.2176 1982.03,95.2176 1982.03,250.738 \n",
       "  \"/>\n",
       "<polyline clip-path=\"url(#clip900)\" style=\"stroke:#009af9; stroke-linecap:butt; stroke-linejoin:round; stroke-width:4; stroke-opacity:1; fill:none\" points=\"\n",
       "  2006.52,147.058 2153.42,147.058 \n",
       "  \"/>\n",
       "<path clip-path=\"url(#clip900)\" d=\"M2191.75 166.745 Q2189.94 171.375 2188.23 172.787 Q2186.52 174.199 2183.65 174.199 L2180.24 174.199 L2180.24 170.634 L2182.74 170.634 Q2184.5 170.634 2185.47 169.8 Q2186.45 168.967 2187.63 165.865 L2188.39 163.921 L2177.91 138.412 L2182.42 138.412 L2190.52 158.689 L2198.62 138.412 L2203.14 138.412 L2191.75 166.745 Z\" fill=\"#000000\" fill-rule=\"evenodd\" fill-opacity=\"1\" /><path clip-path=\"url(#clip900)\" d=\"M2210.43 160.402 L2218.07 160.402 L2218.07 134.037 L2209.76 135.703 L2209.76 131.444 L2218.02 129.778 L2222.7 129.778 L2222.7 160.402 L2230.34 160.402 L2230.34 164.338 L2210.43 164.338 L2210.43 160.402 Z\" fill=\"#000000\" fill-rule=\"evenodd\" fill-opacity=\"1\" /><polyline clip-path=\"url(#clip900)\" style=\"stroke:#e26f46; stroke-linecap:butt; stroke-linejoin:round; stroke-width:4; stroke-opacity:1; fill:none\" points=\"\n",
       "  2006.52,198.898 2153.42,198.898 \n",
       "  \"/>\n",
       "<path clip-path=\"url(#clip900)\" d=\"M2191.75 218.585 Q2189.94 223.215 2188.23 224.627 Q2186.52 226.039 2183.65 226.039 L2180.24 226.039 L2180.24 222.474 L2182.74 222.474 Q2184.5 222.474 2185.47 221.64 Q2186.45 220.807 2187.63 217.705 L2188.39 215.761 L2177.91 190.252 L2182.42 190.252 L2190.52 210.529 L2198.62 190.252 L2203.14 190.252 L2191.75 218.585 Z\" fill=\"#000000\" fill-rule=\"evenodd\" fill-opacity=\"1\" /><path clip-path=\"url(#clip900)\" d=\"M2213.65 212.242 L2229.97 212.242 L2229.97 216.178 L2208.02 216.178 L2208.02 212.242 Q2210.68 209.488 2215.27 204.858 Q2219.87 200.205 2221.05 198.863 Q2223.3 196.34 2224.18 194.604 Q2225.08 192.844 2225.08 191.155 Q2225.08 188.4 2223.14 186.664 Q2221.22 184.928 2218.11 184.928 Q2215.91 184.928 2213.46 185.692 Q2211.03 186.455 2208.25 188.006 L2208.25 183.284 Q2211.08 182.15 2213.53 181.571 Q2215.98 180.993 2218.02 180.993 Q2223.39 180.993 2226.59 183.678 Q2229.78 186.363 2229.78 190.854 Q2229.78 192.983 2228.97 194.905 Q2228.18 196.803 2226.08 199.395 Q2225.5 200.067 2222.4 203.284 Q2219.29 206.479 2213.65 212.242 Z\" fill=\"#000000\" fill-rule=\"evenodd\" fill-opacity=\"1\" /></svg>\n"
      ]
     },
     "execution_count": 4,
     "metadata": {},
     "output_type": "execute_result"
    }
   ],
   "source": [
    "hasroot(f, a, b) = f(a) * f(b) < 0\n",
    "\n",
    "f(x) =  cos(x) - x\n",
    "plot([f, x->0], xlims=(-4,4))"
   ]
  },
  {
   "cell_type": "code",
   "execution_count": 5,
   "id": "dcb64d57",
   "metadata": {
    "cell_style": "split"
   },
   "outputs": [
    {
     "data": {
      "text/plain": [
       "true"
      ]
     },
     "execution_count": 5,
     "metadata": {},
     "output_type": "execute_result"
    }
   ],
   "source": [
    "hasroot(f, 0, 1)"
   ]
  },
  {
   "cell_type": "markdown",
   "id": "0e9f7651",
   "metadata": {
    "slideshow": {
     "slide_type": "slide"
    }
   },
   "source": [
    "# Bisection"
   ]
  },
  {
   "cell_type": "code",
   "execution_count": 90,
   "id": "5ff59cb5",
   "metadata": {
    "cell_style": "center"
   },
   "outputs": [
    {
     "data": {
      "text/plain": [
       "(0.7390861511230469, -1.7035832658995886e-6)"
      ]
     },
     "execution_count": 90,
     "metadata": {},
     "output_type": "execute_result"
    }
   ],
   "source": [
    "function bisect(f, a, b, tol)\n",
    "    mid = (a + b) / 2\n",
    "    if abs(b - a) < tol\n",
    "        return mid\n",
    "    elseif hasroot(f, a, mid)\n",
    "        return bisect(f, a, mid, tol)\n",
    "    else\n",
    "        return bisect(f, mid, b, tol)\n",
    "    end\n",
    "end\n",
    "\n",
    "x0 = bisect(f, -1, 3, 1e-5)\n",
    "x0, f(x0)"
   ]
  },
  {
   "cell_type": "markdown",
   "id": "10c37dac",
   "metadata": {
    "slideshow": {
     "slide_type": "slide"
    }
   },
   "source": [
    "# How fast does it converge?"
   ]
  },
  {
   "cell_type": "code",
   "execution_count": 91,
   "id": "af3fd792",
   "metadata": {
    "cell_style": "split"
   },
   "outputs": [
    {
     "data": {
      "text/plain": [
       "bisect_hist (generic function with 1 method)"
      ]
     },
     "execution_count": 91,
     "metadata": {},
     "output_type": "execute_result"
    }
   ],
   "source": [
    "function bisect_hist(f, a, b, tol)\n",
    "    mid = (a + b) / 2\n",
    "    if abs(b - a) < tol\n",
    "        return [mid]\n",
    "    elseif hasroot(f, a, mid)\n",
    "        return prepend!(bisect_hist(f, a, mid, tol), [mid])\n",
    "    else\n",
    "        return prepend!(bisect_hist(f, mid, b, tol), [mid])\n",
    "    end\n",
    "end"
   ]
  },
  {
   "cell_type": "code",
   "execution_count": 92,
   "id": "cc1985ee",
   "metadata": {
    "cell_style": "split"
   },
   "outputs": [
    {
     "data": {
      "text/plain": [
       "17-element Vector{Float64}:\n",
       " 1.0\n",
       " 0.0\n",
       " 0.5\n",
       " 0.75\n",
       " 0.625\n",
       " 0.6875\n",
       " 0.71875\n",
       " 0.734375\n",
       " 0.7421875\n",
       " 0.73828125\n",
       " 0.740234375\n",
       " 0.7392578125\n",
       " 0.73876953125\n",
       " 0.739013671875\n",
       " 0.7391357421875\n",
       " 0.73907470703125\n",
       " 0.739105224609375"
      ]
     },
     "execution_count": 92,
     "metadata": {},
     "output_type": "execute_result"
    }
   ],
   "source": [
    "bisect_hist(f, -1, 3, 1e-4)"
   ]
  },
  {
   "cell_type": "markdown",
   "id": "876c1ef3",
   "metadata": {
    "slideshow": {
     "slide_type": "slide"
    }
   },
   "source": [
    "# Let's plot the error\n",
    "\n",
    "$$ \\lvert \\texttt{bisect}^k(f, a, b) - r \\rvert, \\quad k = 1, 2, \\dotsc $$\n",
    "\n",
    "where $r$ is the true root, $f(r) = 0$."
   ]
  },
  {
   "cell_type": "code",
   "execution_count": 95,
   "id": "05ac0a6e",
   "metadata": {
    "cell_style": "split"
   },
   "outputs": [
    {
     "data": {
      "image/svg+xml": [
       "<?xml version=\"1.0\" encoding=\"utf-8\"?>\n",
       "<svg xmlns=\"http://www.w3.org/2000/svg\" xmlns:xlink=\"http://www.w3.org/1999/xlink\" width=\"600\" height=\"400\" viewBox=\"0 0 2400 1600\">\n",
       "<defs>\n",
       "  <clipPath id=\"clip300\">\n",
       "    <rect x=\"0\" y=\"0\" width=\"2400\" height=\"1600\"/>\n",
       "  </clipPath>\n",
       "</defs>\n",
       "<path clip-path=\"url(#clip300)\" d=\"\n",
       "M0 1600 L2400 1600 L2400 0 L0 0  Z\n",
       "  \" fill=\"#ffffff\" fill-rule=\"evenodd\" fill-opacity=\"1\"/>\n",
       "<defs>\n",
       "  <clipPath id=\"clip301\">\n",
       "    <rect x=\"480\" y=\"0\" width=\"1681\" height=\"1600\"/>\n",
       "  </clipPath>\n",
       "</defs>\n",
       "<path clip-path=\"url(#clip300)\" d=\"\n",
       "M213.607 1486.45 L2352.76 1486.45 L2352.76 47.2441 L213.607 47.2441  Z\n",
       "  \" fill=\"#ffffff\" fill-rule=\"evenodd\" fill-opacity=\"1\"/>\n",
       "<defs>\n",
       "  <clipPath id=\"clip302\">\n",
       "    <rect x=\"213\" y=\"47\" width=\"2140\" height=\"1440\"/>\n",
       "  </clipPath>\n",
       "</defs>\n",
       "<polyline clip-path=\"url(#clip302)\" style=\"stroke:#000000; stroke-linecap:butt; stroke-linejoin:round; stroke-width:2; stroke-opacity:0.1; fill:none\" points=\"\n",
       "  218.092,1486.45 218.092,47.2441 \n",
       "  \"/>\n",
       "<polyline clip-path=\"url(#clip302)\" style=\"stroke:#000000; stroke-linecap:butt; stroke-linejoin:round; stroke-width:2; stroke-opacity:0.1; fill:none\" points=\"\n",
       "  778.666,1486.45 778.666,47.2441 \n",
       "  \"/>\n",
       "<polyline clip-path=\"url(#clip302)\" style=\"stroke:#000000; stroke-linecap:butt; stroke-linejoin:round; stroke-width:2; stroke-opacity:0.1; fill:none\" points=\"\n",
       "  1339.24,1486.45 1339.24,47.2441 \n",
       "  \"/>\n",
       "<polyline clip-path=\"url(#clip302)\" style=\"stroke:#000000; stroke-linecap:butt; stroke-linejoin:round; stroke-width:2; stroke-opacity:0.1; fill:none\" points=\"\n",
       "  1899.81,1486.45 1899.81,47.2441 \n",
       "  \"/>\n",
       "<polyline clip-path=\"url(#clip300)\" style=\"stroke:#000000; stroke-linecap:butt; stroke-linejoin:round; stroke-width:4; stroke-opacity:1; fill:none\" points=\"\n",
       "  213.607,1486.45 2352.76,1486.45 \n",
       "  \"/>\n",
       "<polyline clip-path=\"url(#clip300)\" style=\"stroke:#000000; stroke-linecap:butt; stroke-linejoin:round; stroke-width:4; stroke-opacity:1; fill:none\" points=\"\n",
       "  218.092,1486.45 218.092,1467.55 \n",
       "  \"/>\n",
       "<polyline clip-path=\"url(#clip300)\" style=\"stroke:#000000; stroke-linecap:butt; stroke-linejoin:round; stroke-width:4; stroke-opacity:1; fill:none\" points=\"\n",
       "  778.666,1486.45 778.666,1467.55 \n",
       "  \"/>\n",
       "<polyline clip-path=\"url(#clip300)\" style=\"stroke:#000000; stroke-linecap:butt; stroke-linejoin:round; stroke-width:4; stroke-opacity:1; fill:none\" points=\"\n",
       "  1339.24,1486.45 1339.24,1467.55 \n",
       "  \"/>\n",
       "<polyline clip-path=\"url(#clip300)\" style=\"stroke:#000000; stroke-linecap:butt; stroke-linejoin:round; stroke-width:4; stroke-opacity:1; fill:none\" points=\"\n",
       "  1899.81,1486.45 1899.81,1467.55 \n",
       "  \"/>\n",
       "<path clip-path=\"url(#clip300)\" d=\"M218.092 1515.64 Q214.481 1515.64 212.652 1519.2 Q210.847 1522.75 210.847 1529.87 Q210.847 1536.98 212.652 1540.55 Q214.481 1544.09 218.092 1544.09 Q221.726 1544.09 223.532 1540.55 Q225.361 1536.98 225.361 1529.87 Q225.361 1522.75 223.532 1519.2 Q221.726 1515.64 218.092 1515.64 M218.092 1511.93 Q223.902 1511.93 226.958 1516.54 Q230.036 1521.12 230.036 1529.87 Q230.036 1538.6 226.958 1543.21 Q223.902 1547.79 218.092 1547.79 Q212.282 1547.79 209.203 1543.21 Q206.148 1538.6 206.148 1529.87 Q206.148 1521.12 209.203 1516.54 Q212.282 1511.93 218.092 1511.93 Z\" fill=\"#000000\" fill-rule=\"evenodd\" fill-opacity=\"1\" /><path clip-path=\"url(#clip300)\" d=\"M753.353 1543.18 L760.992 1543.18 L760.992 1516.82 L752.682 1518.49 L752.682 1514.23 L760.946 1512.56 L765.622 1512.56 L765.622 1543.18 L773.26 1543.18 L773.26 1547.12 L753.353 1547.12 L753.353 1543.18 Z\" fill=\"#000000\" fill-rule=\"evenodd\" fill-opacity=\"1\" /><path clip-path=\"url(#clip300)\" d=\"M792.705 1515.64 Q789.094 1515.64 787.265 1519.2 Q785.459 1522.75 785.459 1529.87 Q785.459 1536.98 787.265 1540.55 Q789.094 1544.09 792.705 1544.09 Q796.339 1544.09 798.145 1540.55 Q799.973 1536.98 799.973 1529.87 Q799.973 1522.75 798.145 1519.2 Q796.339 1515.64 792.705 1515.64 M792.705 1511.93 Q798.515 1511.93 801.571 1516.54 Q804.649 1521.12 804.649 1529.87 Q804.649 1538.6 801.571 1543.21 Q798.515 1547.79 792.705 1547.79 Q786.895 1547.79 783.816 1543.21 Q780.76 1538.6 780.76 1529.87 Q780.76 1521.12 783.816 1516.54 Q786.895 1511.93 792.705 1511.93 Z\" fill=\"#000000\" fill-rule=\"evenodd\" fill-opacity=\"1\" /><path clip-path=\"url(#clip300)\" d=\"M1318.01 1543.18 L1334.33 1543.18 L1334.33 1547.12 L1312.39 1547.12 L1312.39 1543.18 Q1315.05 1540.43 1319.63 1535.8 Q1324.24 1531.15 1325.42 1529.81 Q1327.67 1527.28 1328.54 1525.55 Q1329.45 1523.79 1329.45 1522.1 Q1329.45 1519.34 1327.5 1517.61 Q1325.58 1515.87 1322.48 1515.87 Q1320.28 1515.87 1317.83 1516.63 Q1315.4 1517.4 1312.62 1518.95 L1312.62 1514.23 Q1315.44 1513.09 1317.9 1512.51 Q1320.35 1511.93 1322.39 1511.93 Q1327.76 1511.93 1330.95 1514.62 Q1334.15 1517.31 1334.15 1521.8 Q1334.15 1523.93 1333.34 1525.85 Q1332.55 1527.74 1330.44 1530.34 Q1329.86 1531.01 1326.76 1534.23 Q1323.66 1537.42 1318.01 1543.18 Z\" fill=\"#000000\" fill-rule=\"evenodd\" fill-opacity=\"1\" /><path clip-path=\"url(#clip300)\" d=\"M1354.15 1515.64 Q1350.54 1515.64 1348.71 1519.2 Q1346.9 1522.75 1346.9 1529.87 Q1346.9 1536.98 1348.71 1540.55 Q1350.54 1544.09 1354.15 1544.09 Q1357.78 1544.09 1359.59 1540.55 Q1361.41 1536.98 1361.41 1529.87 Q1361.41 1522.75 1359.59 1519.2 Q1357.78 1515.64 1354.15 1515.64 M1354.15 1511.93 Q1359.96 1511.93 1363.01 1516.54 Q1366.09 1521.12 1366.09 1529.87 Q1366.09 1538.6 1363.01 1543.21 Q1359.96 1547.79 1354.15 1547.79 Q1348.34 1547.79 1345.26 1543.21 Q1342.2 1538.6 1342.2 1529.87 Q1342.2 1521.12 1345.26 1516.54 Q1348.34 1511.93 1354.15 1511.93 Z\" fill=\"#000000\" fill-rule=\"evenodd\" fill-opacity=\"1\" /><path clip-path=\"url(#clip300)\" d=\"M1888.66 1528.49 Q1892.01 1529.2 1893.89 1531.47 Q1895.78 1533.74 1895.78 1537.07 Q1895.78 1542.19 1892.27 1544.99 Q1888.75 1547.79 1882.27 1547.79 Q1880.09 1547.79 1877.78 1547.35 Q1875.48 1546.93 1873.03 1546.08 L1873.03 1541.56 Q1874.97 1542.7 1877.29 1543.28 Q1879.6 1543.86 1882.13 1543.86 Q1886.53 1543.86 1888.82 1542.12 Q1891.13 1540.38 1891.13 1537.07 Q1891.13 1534.02 1888.98 1532.31 Q1886.85 1530.57 1883.03 1530.57 L1879 1530.57 L1879 1526.73 L1883.22 1526.73 Q1886.66 1526.73 1888.49 1525.36 Q1890.32 1523.97 1890.32 1521.38 Q1890.32 1518.72 1888.42 1517.31 Q1886.55 1515.87 1883.03 1515.87 Q1881.11 1515.87 1878.91 1516.29 Q1876.71 1516.7 1874.07 1517.58 L1874.07 1513.42 Q1876.73 1512.68 1879.05 1512.31 Q1881.39 1511.93 1883.45 1511.93 Q1888.77 1511.93 1891.87 1514.37 Q1894.97 1516.77 1894.97 1520.89 Q1894.97 1523.76 1893.33 1525.75 Q1891.69 1527.72 1888.66 1528.49 Z\" fill=\"#000000\" fill-rule=\"evenodd\" fill-opacity=\"1\" /><path clip-path=\"url(#clip300)\" d=\"M1914.65 1515.64 Q1911.04 1515.64 1909.21 1519.2 Q1907.41 1522.75 1907.41 1529.87 Q1907.41 1536.98 1909.21 1540.55 Q1911.04 1544.09 1914.65 1544.09 Q1918.28 1544.09 1920.09 1540.55 Q1921.92 1536.98 1921.92 1529.87 Q1921.92 1522.75 1920.09 1519.2 Q1918.28 1515.64 1914.65 1515.64 M1914.65 1511.93 Q1920.46 1511.93 1923.52 1516.54 Q1926.59 1521.12 1926.59 1529.87 Q1926.59 1538.6 1923.52 1543.21 Q1920.46 1547.79 1914.65 1547.79 Q1908.84 1547.79 1905.76 1543.21 Q1902.71 1538.6 1902.71 1529.87 Q1902.71 1521.12 1905.76 1516.54 Q1908.84 1511.93 1914.65 1511.93 Z\" fill=\"#000000\" fill-rule=\"evenodd\" fill-opacity=\"1\" /><polyline clip-path=\"url(#clip302)\" style=\"stroke:#000000; stroke-linecap:butt; stroke-linejoin:round; stroke-width:2; stroke-opacity:0.1; fill:none\" points=\"\n",
       "  213.607,1245.7 2352.76,1245.7 \n",
       "  \"/>\n",
       "<polyline clip-path=\"url(#clip302)\" style=\"stroke:#000000; stroke-linecap:butt; stroke-linejoin:round; stroke-width:2; stroke-opacity:0.1; fill:none\" points=\"\n",
       "  213.607,704.653 2352.76,704.653 \n",
       "  \"/>\n",
       "<polyline clip-path=\"url(#clip302)\" style=\"stroke:#000000; stroke-linecap:butt; stroke-linejoin:round; stroke-width:2; stroke-opacity:0.1; fill:none\" points=\"\n",
       "  213.607,163.611 2352.76,163.611 \n",
       "  \"/>\n",
       "<polyline clip-path=\"url(#clip300)\" style=\"stroke:#000000; stroke-linecap:butt; stroke-linejoin:round; stroke-width:4; stroke-opacity:1; fill:none\" points=\"\n",
       "  213.607,1486.45 213.607,47.2441 \n",
       "  \"/>\n",
       "<polyline clip-path=\"url(#clip300)\" style=\"stroke:#000000; stroke-linecap:butt; stroke-linejoin:round; stroke-width:4; stroke-opacity:1; fill:none\" points=\"\n",
       "  213.607,1245.7 232.505,1245.7 \n",
       "  \"/>\n",
       "<polyline clip-path=\"url(#clip300)\" style=\"stroke:#000000; stroke-linecap:butt; stroke-linejoin:round; stroke-width:4; stroke-opacity:1; fill:none\" points=\"\n",
       "  213.607,704.653 232.505,704.653 \n",
       "  \"/>\n",
       "<polyline clip-path=\"url(#clip300)\" style=\"stroke:#000000; stroke-linecap:butt; stroke-linejoin:round; stroke-width:4; stroke-opacity:1; fill:none\" points=\"\n",
       "  213.607,163.611 232.505,163.611 \n",
       "  \"/>\n",
       "<path clip-path=\"url(#clip300)\" d=\"M51.6634 1265.49 L59.3023 1265.49 L59.3023 1239.12 L50.9921 1240.79 L50.9921 1236.53 L59.256 1234.86 L63.9319 1234.86 L63.9319 1265.49 L71.5707 1265.49 L71.5707 1269.42 L51.6634 1269.42 L51.6634 1265.49 Z\" fill=\"#000000\" fill-rule=\"evenodd\" fill-opacity=\"1\" /><path clip-path=\"url(#clip300)\" d=\"M91.0151 1237.94 Q87.404 1237.94 85.5753 1241.51 Q83.7697 1245.05 83.7697 1252.18 Q83.7697 1259.28 85.5753 1262.85 Q87.404 1266.39 91.0151 1266.39 Q94.6493 1266.39 96.4548 1262.85 Q98.2835 1259.28 98.2835 1252.18 Q98.2835 1245.05 96.4548 1241.51 Q94.6493 1237.94 91.0151 1237.94 M91.0151 1234.24 Q96.8252 1234.24 99.8808 1238.84 Q102.959 1243.43 102.959 1252.18 Q102.959 1260.9 99.8808 1265.51 Q96.8252 1270.09 91.0151 1270.09 Q85.2049 1270.09 82.1262 1265.51 Q79.0707 1260.9 79.0707 1252.18 Q79.0707 1243.43 82.1262 1238.84 Q85.2049 1234.24 91.0151 1234.24 Z\" fill=\"#000000\" fill-rule=\"evenodd\" fill-opacity=\"1\" /><path clip-path=\"url(#clip300)\" d=\"M102.959 1228.34 L127.071 1228.34 L127.071 1231.54 L102.959 1231.54 L102.959 1228.34 Z\" fill=\"#000000\" fill-rule=\"evenodd\" fill-opacity=\"1\" /><path clip-path=\"url(#clip300)\" d=\"M135.929 1238.82 L142.136 1238.82 L142.136 1217.39 L135.384 1218.75 L135.384 1215.29 L142.098 1213.93 L145.898 1213.93 L145.898 1238.82 L152.104 1238.82 L152.104 1242.01 L135.929 1242.01 L135.929 1238.82 Z\" fill=\"#000000\" fill-rule=\"evenodd\" fill-opacity=\"1\" /><path clip-path=\"url(#clip300)\" d=\"M167.903 1216.43 Q164.969 1216.43 163.483 1219.33 Q162.016 1222.21 162.016 1228 Q162.016 1233.78 163.483 1236.67 Q164.969 1239.55 167.903 1239.55 Q170.855 1239.55 172.322 1236.67 Q173.808 1233.78 173.808 1228 Q173.808 1222.21 172.322 1219.33 Q170.855 1216.43 167.903 1216.43 M167.903 1213.43 Q172.623 1213.43 175.106 1217.17 Q177.607 1220.89 177.607 1228 Q177.607 1235.09 175.106 1238.83 Q172.623 1242.56 167.903 1242.56 Q163.182 1242.56 160.68 1238.83 Q158.198 1235.09 158.198 1228 Q158.198 1220.89 160.68 1217.17 Q163.182 1213.43 167.903 1213.43 Z\" fill=\"#000000\" fill-rule=\"evenodd\" fill-opacity=\"1\" /><path clip-path=\"url(#clip300)\" d=\"M76.9787 724.446 L84.6175 724.446 L84.6175 698.08 L76.3074 699.747 L76.3074 695.488 L84.5712 693.821 L89.2471 693.821 L89.2471 724.446 L96.886 724.446 L96.886 728.381 L76.9787 728.381 L76.9787 724.446 Z\" fill=\"#000000\" fill-rule=\"evenodd\" fill-opacity=\"1\" /><path clip-path=\"url(#clip300)\" d=\"M116.33 696.9 Q112.719 696.9 110.891 700.464 Q109.085 704.006 109.085 711.136 Q109.085 718.242 110.891 721.807 Q112.719 725.349 116.33 725.349 Q119.965 725.349 121.77 721.807 Q123.599 718.242 123.599 711.136 Q123.599 704.006 121.77 700.464 Q119.965 696.9 116.33 696.9 M116.33 693.196 Q122.14 693.196 125.196 697.802 Q128.275 702.386 128.275 711.136 Q128.275 719.862 125.196 724.469 Q122.14 729.052 116.33 729.052 Q110.52 729.052 107.441 724.469 Q104.386 719.862 104.386 711.136 Q104.386 702.386 107.441 697.802 Q110.52 693.196 116.33 693.196 Z\" fill=\"#000000\" fill-rule=\"evenodd\" fill-opacity=\"1\" /><path clip-path=\"url(#clip300)\" d=\"M128.275 687.297 L152.386 687.297 L152.386 690.495 L128.275 690.495 L128.275 687.297 Z\" fill=\"#000000\" fill-rule=\"evenodd\" fill-opacity=\"1\" /><path clip-path=\"url(#clip300)\" d=\"M160.624 672.891 L175.539 672.891 L175.539 676.088 L164.103 676.088 L164.103 682.971 Q164.931 682.689 165.759 682.558 Q166.586 682.407 167.414 682.407 Q172.116 682.407 174.862 684.984 Q177.607 687.561 177.607 691.962 Q177.607 696.494 174.786 699.015 Q171.965 701.516 166.831 701.516 Q165.063 701.516 163.22 701.215 Q161.395 700.914 159.439 700.312 L159.439 696.494 Q161.132 697.416 162.937 697.867 Q164.743 698.319 166.755 698.319 Q170.009 698.319 171.909 696.607 Q173.808 694.896 173.808 691.962 Q173.808 689.028 171.909 687.316 Q170.009 685.605 166.755 685.605 Q165.232 685.605 163.709 685.943 Q162.204 686.282 160.624 686.996 L160.624 672.891 Z\" fill=\"#000000\" fill-rule=\"evenodd\" fill-opacity=\"1\" /><path clip-path=\"url(#clip300)\" d=\"M106.902 183.403 L114.541 183.403 L114.541 157.038 L106.231 158.704 L106.231 154.445 L114.494 152.778 L119.17 152.778 L119.17 183.403 L126.809 183.403 L126.809 187.338 L106.902 187.338 L106.902 183.403 Z\" fill=\"#000000\" fill-rule=\"evenodd\" fill-opacity=\"1\" /><path clip-path=\"url(#clip300)\" d=\"M146.253 155.857 Q142.642 155.857 140.814 159.422 Q139.008 162.964 139.008 170.093 Q139.008 177.2 140.814 180.764 Q142.642 184.306 146.253 184.306 Q149.888 184.306 151.693 180.764 Q153.522 177.2 153.522 170.093 Q153.522 162.964 151.693 159.422 Q149.888 155.857 146.253 155.857 M146.253 152.153 Q152.064 152.153 155.119 156.76 Q158.198 161.343 158.198 170.093 Q158.198 178.82 155.119 183.426 Q152.064 188.01 146.253 188.01 Q140.443 188.01 137.365 183.426 Q134.309 178.82 134.309 170.093 Q134.309 161.343 137.365 156.76 Q140.443 152.153 146.253 152.153 Z\" fill=\"#000000\" fill-rule=\"evenodd\" fill-opacity=\"1\" /><path clip-path=\"url(#clip300)\" d=\"M167.903 134.349 Q164.969 134.349 163.483 137.246 Q162.016 140.123 162.016 145.916 Q162.016 151.69 163.483 154.587 Q164.969 157.464 167.903 157.464 Q170.855 157.464 172.322 154.587 Q173.808 151.69 173.808 145.916 Q173.808 140.123 172.322 137.246 Q170.855 134.349 167.903 134.349 M167.903 131.34 Q172.623 131.34 175.106 135.083 Q177.607 138.807 177.607 145.916 Q177.607 153.007 175.106 156.749 Q172.623 160.473 167.903 160.473 Q163.182 160.473 160.68 156.749 Q158.198 153.007 158.198 145.916 Q158.198 138.807 160.68 135.083 Q163.182 131.34 167.903 131.34 Z\" fill=\"#000000\" fill-rule=\"evenodd\" fill-opacity=\"1\" /><circle clip-path=\"url(#clip302)\" cx=\"274.149\" cy=\"226.751\" r=\"14\" fill=\"#009af9\" fill-rule=\"evenodd\" fill-opacity=\"1\" stroke=\"#000000\" stroke-opacity=\"1\" stroke-width=\"3.2\"/>\n",
       "<circle clip-path=\"url(#clip302)\" cx=\"330.207\" cy=\"177.819\" r=\"14\" fill=\"#009af9\" fill-rule=\"evenodd\" fill-opacity=\"1\" stroke=\"#000000\" stroke-opacity=\"1\" stroke-width=\"3.2\"/>\n",
       "<circle clip-path=\"url(#clip302)\" cx=\"386.264\" cy=\"230.857\" r=\"14\" fill=\"#009af9\" fill-rule=\"evenodd\" fill-opacity=\"1\" stroke=\"#000000\" stroke-opacity=\"1\" stroke-width=\"3.2\"/>\n",
       "<circle clip-path=\"url(#clip302)\" cx=\"442.321\" cy=\"375.914\" r=\"14\" fill=\"#009af9\" fill-rule=\"evenodd\" fill-opacity=\"1\" stroke=\"#000000\" stroke-opacity=\"1\" stroke-width=\"3.2\"/>\n",
       "<circle clip-path=\"url(#clip302)\" cx=\"498.379\" cy=\"265.627\" r=\"14\" fill=\"#009af9\" fill-rule=\"evenodd\" fill-opacity=\"1\" stroke=\"#000000\" stroke-opacity=\"1\" stroke-width=\"3.2\"/>\n",
       "<circle clip-path=\"url(#clip302)\" cx=\"554.436\" cy=\"302.927\" r=\"14\" fill=\"#009af9\" fill-rule=\"evenodd\" fill-opacity=\"1\" stroke=\"#000000\" stroke-opacity=\"1\" stroke-width=\"3.2\"/>\n",
       "<circle clip-path=\"url(#clip302)\" cx=\"610.494\" cy=\"346.673\" r=\"14\" fill=\"#009af9\" fill-rule=\"evenodd\" fill-opacity=\"1\" stroke=\"#000000\" stroke-opacity=\"1\" stroke-width=\"3.2\"/>\n",
       "<circle clip-path=\"url(#clip302)\" cx=\"666.551\" cy=\"415.408\" r=\"14\" fill=\"#009af9\" fill-rule=\"evenodd\" fill-opacity=\"1\" stroke=\"#000000\" stroke-opacity=\"1\" stroke-width=\"3.2\"/>\n",
       "<circle clip-path=\"url(#clip302)\" cx=\"722.608\" cy=\"435.031\" r=\"14\" fill=\"#009af9\" fill-rule=\"evenodd\" fill-opacity=\"1\" stroke=\"#000000\" stroke-opacity=\"1\" stroke-width=\"3.2\"/>\n",
       "<circle clip-path=\"url(#clip302)\" cx=\"778.666\" cy=\"498.495\" r=\"14\" fill=\"#009af9\" fill-rule=\"evenodd\" fill-opacity=\"1\" stroke=\"#000000\" stroke-opacity=\"1\" stroke-width=\"3.2\"/>\n",
       "<circle clip-path=\"url(#clip302)\" cx=\"834.723\" cy=\"481.699\" r=\"14\" fill=\"#009af9\" fill-rule=\"evenodd\" fill-opacity=\"1\" stroke=\"#000000\" stroke-opacity=\"1\" stroke-width=\"3.2\"/>\n",
       "<circle clip-path=\"url(#clip302)\" cx=\"890.78\" cy=\"570.773\" r=\"14\" fill=\"#009af9\" fill-rule=\"evenodd\" fill-opacity=\"1\" stroke=\"#000000\" stroke-opacity=\"1\" stroke-width=\"3.2\"/>\n",
       "<circle clip-path=\"url(#clip302)\" cx=\"946.838\" cy=\"542.434\" r=\"14\" fill=\"#009af9\" fill-rule=\"evenodd\" fill-opacity=\"1\" stroke=\"#000000\" stroke-opacity=\"1\" stroke-width=\"3.2\"/>\n",
       "<circle clip-path=\"url(#clip302)\" cx=\"1002.89\" cy=\"612.236\" r=\"14\" fill=\"#009af9\" fill-rule=\"evenodd\" fill-opacity=\"1\" stroke=\"#000000\" stroke-opacity=\"1\" stroke-width=\"3.2\"/>\n",
       "<circle clip-path=\"url(#clip302)\" cx=\"1058.95\" cy=\"628.45\" r=\"14\" fill=\"#009af9\" fill-rule=\"evenodd\" fill-opacity=\"1\" stroke=\"#000000\" stroke-opacity=\"1\" stroke-width=\"3.2\"/>\n",
       "<circle clip-path=\"url(#clip302)\" cx=\"1115.01\" cy=\"702.692\" r=\"14\" fill=\"#009af9\" fill-rule=\"evenodd\" fill-opacity=\"1\" stroke=\"#000000\" stroke-opacity=\"1\" stroke-width=\"3.2\"/>\n",
       "<circle clip-path=\"url(#clip302)\" cx=\"1171.07\" cy=\"671.865\" r=\"14\" fill=\"#009af9\" fill-rule=\"evenodd\" fill-opacity=\"1\" stroke=\"#000000\" stroke-opacity=\"1\" stroke-width=\"3.2\"/>\n",
       "<circle clip-path=\"url(#clip302)\" cx=\"1227.12\" cy=\"738.828\" r=\"14\" fill=\"#009af9\" fill-rule=\"evenodd\" fill-opacity=\"1\" stroke=\"#000000\" stroke-opacity=\"1\" stroke-width=\"3.2\"/>\n",
       "<circle clip-path=\"url(#clip302)\" cx=\"1283.18\" cy=\"764.529\" r=\"14\" fill=\"#009af9\" fill-rule=\"evenodd\" fill-opacity=\"1\" stroke=\"#000000\" stroke-opacity=\"1\" stroke-width=\"3.2\"/>\n",
       "<circle clip-path=\"url(#clip302)\" cx=\"1339.24\" cy=\"812.028\" r=\"14\" fill=\"#009af9\" fill-rule=\"evenodd\" fill-opacity=\"1\" stroke=\"#000000\" stroke-opacity=\"1\" stroke-width=\"3.2\"/>\n",
       "<circle clip-path=\"url(#clip302)\" cx=\"1395.3\" cy=\"818.368\" r=\"14\" fill=\"#009af9\" fill-rule=\"evenodd\" fill-opacity=\"1\" stroke=\"#000000\" stroke-opacity=\"1\" stroke-width=\"3.2\"/>\n",
       "<circle clip-path=\"url(#clip302)\" cx=\"1451.35\" cy=\"941.872\" r=\"14\" fill=\"#009af9\" fill-rule=\"evenodd\" fill-opacity=\"1\" stroke=\"#000000\" stroke-opacity=\"1\" stroke-width=\"3.2\"/>\n",
       "<circle clip-path=\"url(#clip302)\" cx=\"1507.41\" cy=\"854.464\" r=\"14\" fill=\"#009af9\" fill-rule=\"evenodd\" fill-opacity=\"1\" stroke=\"#000000\" stroke-opacity=\"1\" stroke-width=\"3.2\"/>\n",
       "<circle clip-path=\"url(#clip302)\" cx=\"1563.47\" cy=\"894.991\" r=\"14\" fill=\"#009af9\" fill-rule=\"evenodd\" fill-opacity=\"1\" stroke=\"#000000\" stroke-opacity=\"1\" stroke-width=\"3.2\"/>\n",
       "<circle clip-path=\"url(#clip302)\" cx=\"1619.53\" cy=\"949.186\" r=\"14\" fill=\"#009af9\" fill-rule=\"evenodd\" fill-opacity=\"1\" stroke=\"#000000\" stroke-opacity=\"1\" stroke-width=\"3.2\"/>\n",
       "<circle clip-path=\"url(#clip302)\" cx=\"1675.58\" cy=\"1065.48\" r=\"14\" fill=\"#009af9\" fill-rule=\"evenodd\" fill-opacity=\"1\" stroke=\"#000000\" stroke-opacity=\"1\" stroke-width=\"3.2\"/>\n",
       "<circle clip-path=\"url(#clip302)\" cx=\"1731.64\" cy=\"985.894\" r=\"14\" fill=\"#009af9\" fill-rule=\"evenodd\" fill-opacity=\"1\" stroke=\"#000000\" stroke-opacity=\"1\" stroke-width=\"3.2\"/>\n",
       "<circle clip-path=\"url(#clip302)\" cx=\"1787.7\" cy=\"1028.02\" r=\"14\" fill=\"#009af9\" fill-rule=\"evenodd\" fill-opacity=\"1\" stroke=\"#000000\" stroke-opacity=\"1\" stroke-width=\"3.2\"/>\n",
       "<circle clip-path=\"url(#clip302)\" cx=\"1843.76\" cy=\"1088.74\" r=\"14\" fill=\"#009af9\" fill-rule=\"evenodd\" fill-opacity=\"1\" stroke=\"#000000\" stroke-opacity=\"1\" stroke-width=\"3.2\"/>\n",
       "<circle clip-path=\"url(#clip302)\" cx=\"1899.81\" cy=\"1142.25\" r=\"14\" fill=\"#009af9\" fill-rule=\"evenodd\" fill-opacity=\"1\" stroke=\"#000000\" stroke-opacity=\"1\" stroke-width=\"3.2\"/>\n",
       "<circle clip-path=\"url(#clip302)\" cx=\"1955.87\" cy=\"1139.45\" r=\"14\" fill=\"#009af9\" fill-rule=\"evenodd\" fill-opacity=\"1\" stroke=\"#000000\" stroke-opacity=\"1\" stroke-width=\"3.2\"/>\n",
       "<circle clip-path=\"url(#clip302)\" cx=\"2011.93\" cy=\"1306.05\" r=\"14\" fill=\"#009af9\" fill-rule=\"evenodd\" fill-opacity=\"1\" stroke=\"#000000\" stroke-opacity=\"1\" stroke-width=\"3.2\"/>\n",
       "<circle clip-path=\"url(#clip302)\" cx=\"2067.98\" cy=\"1176.29\" r=\"14\" fill=\"#009af9\" fill-rule=\"evenodd\" fill-opacity=\"1\" stroke=\"#000000\" stroke-opacity=\"1\" stroke-width=\"3.2\"/>\n",
       "<circle clip-path=\"url(#clip302)\" cx=\"2124.04\" cy=\"1211.93\" r=\"14\" fill=\"#009af9\" fill-rule=\"evenodd\" fill-opacity=\"1\" stroke=\"#000000\" stroke-opacity=\"1\" stroke-width=\"3.2\"/>\n",
       "<circle clip-path=\"url(#clip302)\" cx=\"2180.1\" cy=\"1251.32\" r=\"14\" fill=\"#009af9\" fill-rule=\"evenodd\" fill-opacity=\"1\" stroke=\"#000000\" stroke-opacity=\"1\" stroke-width=\"3.2\"/>\n",
       "<circle clip-path=\"url(#clip302)\" cx=\"2236.16\" cy=\"1301.47\" r=\"14\" fill=\"#009af9\" fill-rule=\"evenodd\" fill-opacity=\"1\" stroke=\"#000000\" stroke-opacity=\"1\" stroke-width=\"3.2\"/>\n",
       "<circle clip-path=\"url(#clip302)\" cx=\"2292.21\" cy=\"1445.72\" r=\"14\" fill=\"#009af9\" fill-rule=\"evenodd\" fill-opacity=\"1\" stroke=\"#000000\" stroke-opacity=\"1\" stroke-width=\"3.2\"/>\n",
       "<polyline clip-path=\"url(#clip302)\" style=\"stroke:#e26f46; stroke-linecap:butt; stroke-linejoin:round; stroke-width:4; stroke-opacity:1; fill:none\" points=\"\n",
       "  274.149,87.9763 330.207,120.55 386.264,153.124 442.321,185.698 498.379,218.272 554.436,250.846 610.494,283.42 666.551,315.994 722.608,348.568 778.666,381.142 \n",
       "  834.723,413.716 890.78,446.29 946.838,478.864 1002.89,511.438 1058.95,544.012 1115.01,576.586 1171.07,609.16 1227.12,641.734 1283.18,674.308 1339.24,706.882 \n",
       "  1395.3,739.456 1451.35,772.03 1507.41,804.604 1563.47,837.178 1619.53,869.752 1675.58,902.326 1731.64,934.9 1787.7,967.474 1843.76,1000.05 1899.81,1032.62 \n",
       "  1955.87,1065.2 2011.93,1097.77 2067.98,1130.34 2124.04,1162.92 2180.1,1195.49 2236.16,1228.07 2292.21,1260.64 \n",
       "  \"/>\n",
       "<path clip-path=\"url(#clip300)\" d=\"\n",
       "M1991.34 250.738 L2281.45 250.738 L2281.45 95.2176 L1991.34 95.2176  Z\n",
       "  \" fill=\"#ffffff\" fill-rule=\"evenodd\" fill-opacity=\"1\"/>\n",
       "<polyline clip-path=\"url(#clip300)\" style=\"stroke:#000000; stroke-linecap:butt; stroke-linejoin:round; stroke-width:4; stroke-opacity:1; fill:none\" points=\"\n",
       "  1991.34,250.738 2281.45,250.738 2281.45,95.2176 1991.34,95.2176 1991.34,250.738 \n",
       "  \"/>\n",
       "<circle clip-path=\"url(#clip300)\" cx=\"2086.41\" cy=\"147.058\" r=\"23\" fill=\"#009af9\" fill-rule=\"evenodd\" fill-opacity=\"1\" stroke=\"#000000\" stroke-opacity=\"1\" stroke-width=\"5.12\"/>\n",
       "<path clip-path=\"url(#clip300)\" d=\"M2195.33 166.745 Q2193.52 171.375 2191.81 172.787 Q2190.1 174.199 2187.22 174.199 L2183.82 174.199 L2183.82 170.634 L2186.32 170.634 Q2188.08 170.634 2189.05 169.8 Q2190.03 168.967 2191.21 165.865 L2191.97 163.921 L2181.48 138.412 L2186 138.412 L2194.1 158.689 L2202.2 138.412 L2206.72 138.412 L2195.33 166.745 Z\" fill=\"#000000\" fill-rule=\"evenodd\" fill-opacity=\"1\" /><path clip-path=\"url(#clip300)\" d=\"M2214.01 160.402 L2221.65 160.402 L2221.65 134.037 L2213.34 135.703 L2213.34 131.444 L2221.6 129.778 L2226.28 129.778 L2226.28 160.402 L2233.91 160.402 L2233.91 164.338 L2214.01 164.338 L2214.01 160.402 Z\" fill=\"#000000\" fill-rule=\"evenodd\" fill-opacity=\"1\" /><polyline clip-path=\"url(#clip300)\" style=\"stroke:#e26f46; stroke-linecap:butt; stroke-linejoin:round; stroke-width:4; stroke-opacity:1; fill:none\" points=\"\n",
       "  2015.11,198.898 2157.72,198.898 \n",
       "  \"/>\n",
       "<path clip-path=\"url(#clip300)\" d=\"M2195.33 218.585 Q2193.52 223.215 2191.81 224.627 Q2190.1 226.039 2187.22 226.039 L2183.82 226.039 L2183.82 222.474 L2186.32 222.474 Q2188.08 222.474 2189.05 221.64 Q2190.03 220.807 2191.21 217.705 L2191.97 215.761 L2181.48 190.252 L2186 190.252 L2194.1 210.529 L2202.2 190.252 L2206.72 190.252 L2195.33 218.585 Z\" fill=\"#000000\" fill-rule=\"evenodd\" fill-opacity=\"1\" /><path clip-path=\"url(#clip300)\" d=\"M2217.22 212.242 L2233.54 212.242 L2233.54 216.178 L2211.6 216.178 L2211.6 212.242 Q2214.26 209.488 2218.84 204.858 Q2223.45 200.205 2224.63 198.863 Q2226.88 196.34 2227.76 194.604 Q2228.66 192.844 2228.66 191.155 Q2228.66 188.4 2226.72 186.664 Q2224.79 184.928 2221.69 184.928 Q2219.49 184.928 2217.04 185.692 Q2214.61 186.455 2211.83 188.006 L2211.83 183.284 Q2214.66 182.15 2217.11 181.571 Q2219.56 180.993 2221.6 180.993 Q2226.97 180.993 2230.16 183.678 Q2233.36 186.363 2233.36 190.854 Q2233.36 192.983 2232.55 194.905 Q2231.76 196.803 2229.66 199.395 Q2229.08 200.067 2225.97 203.284 Q2222.87 206.479 2217.22 212.242 Z\" fill=\"#000000\" fill-rule=\"evenodd\" fill-opacity=\"1\" /></svg>\n"
      ]
     },
     "execution_count": 95,
     "metadata": {},
     "output_type": "execute_result"
    }
   ],
   "source": [
    "r = bisect(f, -1, 3, 1e-14) # what are we trusting?\n",
    "hist = bisect_hist(f, -1, 3, 1e-10)\n",
    "scatter( abs.(hist .- r), yscale=:log10)\n",
    "ks = 1:length(hist)\n",
    "plot!(ks, 10 * 0.5 .^ ks)"
   ]
  },
  {
   "cell_type": "markdown",
   "id": "4da14467",
   "metadata": {
    "cell_style": "split"
   },
   "source": [
    "Evidently the error $e_k = x_k - x_*$ after $k$ bisections satisfies the bound\n",
    "$$ |e^k| \\le c 2^{-k} . $$"
   ]
  },
  {
   "cell_type": "markdown",
   "id": "70cf54f4",
   "metadata": {
    "slideshow": {
     "slide_type": "slide"
    }
   },
   "source": [
    "# Convergence classes\n",
    "\n",
    "A convergent rootfinding algorithm produces a sequence of approximations $x_k$ such that $$\\lim_{k \\to \\infty} x_k \\to x_*$$ where $f(x_*) = 0$.  For analysis, it is convenient to define the errors $e_k = x_k - x_*$. We say that an iterative algorithm is **$q$-linearly convergent** if $$\\lim_{k \\to \\infty} |e_{k+1}| / |e_k| = \\rho < 1.$$  (The $q$ is for \"quotient\".)  A smaller convergence factor $\\rho$ represents faster convergence.  A slightly weaker condition ($r$-linear convergence or just **linear convergence**) is that\n",
    "$$ |e_k| \\le \\epsilon_k $$\n",
    "for all sufficiently large $k$ when the sequence $\\{\\epsilon_k\\}$ converges $q$-linearly to 0."
   ]
  },
  {
   "cell_type": "markdown",
   "id": "db48ef2f",
   "metadata": {
    "slideshow": {
     "slide_type": "fragment"
    }
   },
   "source": [
    "### Bisection: A = q-linearly convergent, B = r-linearly convergent, C = neither"
   ]
  },
  {
   "cell_type": "markdown",
   "id": "7c058cac",
   "metadata": {
    "cell_style": "center",
    "slideshow": {
     "slide_type": "slide"
    }
   },
   "source": [
    "# Remarks on bisection\n",
    "\n",
    "* Specifying an interval is often inconvenient\n",
    "* An interval in which the function changes sign guarantees convergence (robustness)\n",
    "* No derivative information is required\n",
    "* Roots of even degree are problematic\n",
    "* A bound on the solution error is directly available\n",
    "* The convergence rate is modest -- one iteration per bit of accuracy\n",
    "* **No good generalization to higher dimensions**"
   ]
  },
  {
   "cell_type": "markdown",
   "id": "881d8275",
   "metadata": {
    "slideshow": {
     "slide_type": "slide"
    }
   },
   "source": [
    "## Newton-Raphson Method\n",
    "\n",
    "Much of numerical analysis reduces to [Taylor series](https://en.wikipedia.org/wiki/Taylor_series), the approximation\n",
    "$$ f(x) = f(x_0) + f'(x_0) (x-x_0) + f''(x_0) (x - x_0)^2 / 2 + \\underbrace{\\dotsb}_{O((x-x_0)^3)} $$\n",
    "centered on some reference point $x_0$.\n",
    "\n",
    "In numerical computation, it is exceedingly rare to look beyond the first-order approximation\n",
    "$$ \\tilde f_{x_0}(x) = f(x_0) + f'(x_0)(x - x_0) . $$\n",
    "Since $\\tilde f_{x_0}(x)$ is a linear function, we can explicitly compute the unique solution of $\\tilde f_{x_0}(x) = 0$ as\n",
    "$$ x = x_0 - f(x_0) / f'(x_0) . $$\n",
    "This is Newton's Method (aka Newton-Raphson or Newton-Raphson-Simpson) for finding the roots of differentiable functions."
   ]
  },
  {
   "cell_type": "markdown",
   "id": "81954a60",
   "metadata": {
    "slideshow": {
     "slide_type": "slide"
    }
   },
   "source": [
    "# An implementation"
   ]
  },
  {
   "cell_type": "code",
   "execution_count": 99,
   "id": "3d937d2a",
   "metadata": {},
   "outputs": [
    {
     "name": "stdout",
     "output_type": "stream",
     "text": [
      "[1] x=1  f(x)=-0.04596976941318603  f'(x)=-0.18414709848078967\n",
      "[2] x=0.7503638678402439  f(x)=-0.0018923073822117442  f'(x)=-0.16819049529414878\n",
      "[3] x=0.7391128909113617  f(x)=-4.645589899077152e-6  f'(x)=-0.16736325442243014\n",
      "[4] x=0.739085133385284  f(x)=-2.8472058044570758e-11  f'(x)=-0.16736120293089507\n",
      "[5] x=0.7390851332151607  f(x)=0.0  f'(x)=-0.1673612029183215\n"
     ]
    },
    {
     "data": {
      "text/plain": [
       "(0.7390851332151607, 0.0, 5)"
      ]
     },
     "execution_count": 99,
     "metadata": {},
     "output_type": "execute_result"
    }
   ],
   "source": [
    "function newton(f, fp, x0; tol=1e-8, verbose=false)\n",
    "    x = x0\n",
    "    for k in 1:100 # max number of iterations\n",
    "        fx = f(x)\n",
    "        fpx = fp(x)\n",
    "        if verbose\n",
    "            println(\"[$k] x=$x  f(x)=$fx  f'(x)=$fpx\")\n",
    "        end\n",
    "        if abs(fx) < tol\n",
    "            return x, fx, k\n",
    "        end\n",
    "        x = x - fx / fpx\n",
    "    end  \n",
    "end\n",
    "eps = 1e-1\n",
    "newton(x -> eps*(cos(x) - x), x -> eps*(-sin(x) - 1), 1; tol=1e-15, verbose=true)"
   ]
  },
  {
   "cell_type": "markdown",
   "id": "83ff846d",
   "metadata": {
    "slideshow": {
     "slide_type": "slide"
    }
   },
   "source": [
    "# That's really fast!\n",
    "\n",
    "* 10 digits of accuracy in 4 iterations.\n",
    "* How is this convergence test different from the one we used for bisection?\n",
    "* How can this break down?\n",
    "\n",
    "$$ x_{k+1} = x_k - f(x_k)/f'(x_k) $$"
   ]
  },
  {
   "cell_type": "code",
   "execution_count": 102,
   "id": "5c094407",
   "metadata": {
    "slideshow": {
     "slide_type": "fragment"
    }
   },
   "outputs": [
    {
     "name": "stdout",
     "output_type": "stream",
     "text": [
      "[1] x=0.3141592653589793  f(x)=0.6368972509361742  f'(x)=-1.3090169943749475\n",
      "[2] x=0.8007054703914749  f(x)=-0.10450500785604744  f'(x)=-1.7178474183038182\n",
      "[3] x=0.7398706100060081  f(x)=-0.0013148113494647617  f'(x)=-1.6741923555416478\n",
      "[4] x=0.7390852693340639  f(x)=-2.2781024078266654e-7  f'(x)=-1.6736121297866664\n",
      "[5] x=0.7390851332151648  f(x)=-6.8833827526759706e-15  f'(x)=-1.673612029183218\n"
     ]
    },
    {
     "data": {
      "text/plain": [
       "(0.7390851332151648, -6.8833827526759706e-15, 5)"
      ]
     },
     "execution_count": 102,
     "metadata": {},
     "output_type": "execute_result"
    }
   ],
   "source": [
    "newton(x -> cos(x) - x, x -> -sin(x) - 1, .2*pi/2; verbose=true)"
   ]
  },
  {
   "cell_type": "markdown",
   "id": "77009bda",
   "metadata": {
    "cell_style": "center",
    "slideshow": {
     "slide_type": "slide"
    }
   },
   "source": [
    "# Convergence of fixed-point iteration"
   ]
  },
  {
   "cell_type": "markdown",
   "id": "31d45f34",
   "metadata": {
    "cell_style": "split"
   },
   "source": [
    "Consider the iteration\n",
    "$$x_{k+1} = g(x_k)$$\n",
    "where $g$ is a continuously differentiable function.\n",
    "Suppose that there exists a fixed point $x_* = g(x_*)$.  By the [mean value theorem](https://en.wikipedia.org/wiki/Mean_value_theorem), we have that\n",
    "$$ x_{k+1} - x_* = g(x_k) - g(x_*) = g'(c_k) (x_k - x_*) $$\n",
    "for some $c_i$ between $x_k$ and $x_*$.\n",
    "\n",
    "Taking absolute values, $$|e_{k+1}| = |g'(c_k)| |e_k|,$$ which converges to zero if $|g'(c_k)| < 1$."
   ]
  },
  {
   "cell_type": "markdown",
   "id": "a0d09ea4",
   "metadata": {
    "cell_style": "split",
    "slideshow": {
     "slide_type": "fragment"
    }
   },
   "source": [
    "## Exercise\n",
    "\n",
    "* Write Newton's method for $f(x) = 0$ from initial guess $x_0$ as a fixed point method.\n",
    "* Suppose the Newton iterates $x_k$ converge to a simple root $x_*$, $x_k \\to x_*$. What is $\\lvert g'(x_*) \\rvert$ for Newton's method?"
   ]
  },
  {
   "cell_type": "markdown",
   "id": "19efb665",
   "metadata": {
    "slideshow": {
     "slide_type": "slide"
    }
   },
   "source": [
    "# Newton for systems of equations\n",
    "\n",
    "Let $\\mathbf u \\in \\mathbb R^n$ and consider the function $\\mathbf f(\\mathbf u) \\in \\mathbb R^n$. Then\n",
    "$$ \\mathbf f(\\mathbf u) = \\mathbf f(\\mathbf u_0) + \\underbrace{\\mathbf f'(\\mathbf u_0)}_{n\\times n} \\underbrace{\\mathbf \\delta u}_{n\\times 1} + \\frac 1 2 \\underbrace{\\mathbf f''(\\mathbf u_0)}_{n\\times n \\times n} {(\\delta \\mathbf u)^2}_{n\\times n} + O(|\\delta\\mathbf u|^3).$$\n",
    "\n",
    "We drop all but the first two terms and name the Jacobian matrix $J(\\mathbf u) = \\mathbf f'(\\mathbf u)$,\n",
    "$$ \\mathbf f(\\mathbf u) \\approx \\mathbf f(\\mathbf u_0) + J \\delta \\mathbf u .$$\n",
    "Solving the right hand side equal to zero yields\n",
    "\\begin{align}\n",
    "J \\delta \\mathbf u &= -\\mathbf f(\\mathbf u_k) \\\\\n",
    "\\mathbf u_{k+1} &= \\mathbf u_k + \\delta \\mathbf u\n",
    "\\end{align}"
   ]
  },
  {
   "cell_type": "markdown",
   "id": "7440c074",
   "metadata": {
    "slideshow": {
     "slide_type": "slide"
    }
   },
   "source": [
    "# Newton in code\n"
   ]
  },
  {
   "cell_type": "code",
   "execution_count": 103,
   "id": "646de2a0",
   "metadata": {
    "cell_style": "split"
   },
   "outputs": [
    {
     "data": {
      "text/plain": [
       "newton (generic function with 1 method)"
      ]
     },
     "execution_count": 103,
     "metadata": {},
     "output_type": "execute_result"
    }
   ],
   "source": [
    "function newton(residual, jacobian, u0)\n",
    "    u = u0\n",
    "    uhist = [copy(u)]\n",
    "    normhist = []\n",
    "    for k in 1:20\n",
    "        f = residual(u)\n",
    "        push!(normhist, norm(f))\n",
    "        J = jacobian(u)\n",
    "        delta_u = - J \\ f\n",
    "        u += delta_u\n",
    "        push!(uhist, copy(u))\n",
    "    end\n",
    "    uhist, normhist\n",
    "end"
   ]
  },
  {
   "cell_type": "code",
   "execution_count": 113,
   "id": "754b896a",
   "metadata": {
    "cell_style": "split"
   },
   "outputs": [
    {
     "data": {
      "image/svg+xml": [
       "<?xml version=\"1.0\" encoding=\"utf-8\"?>\n",
       "<svg xmlns=\"http://www.w3.org/2000/svg\" xmlns:xlink=\"http://www.w3.org/1999/xlink\" width=\"600\" height=\"400\" viewBox=\"0 0 2400 1600\">\n",
       "<defs>\n",
       "  <clipPath id=\"clip580\">\n",
       "    <rect x=\"0\" y=\"0\" width=\"2400\" height=\"1600\"/>\n",
       "  </clipPath>\n",
       "</defs>\n",
       "<path clip-path=\"url(#clip580)\" d=\"\n",
       "M0 1600 L2400 1600 L2400 0 L0 0  Z\n",
       "  \" fill=\"#ffffff\" fill-rule=\"evenodd\" fill-opacity=\"1\"/>\n",
       "<defs>\n",
       "  <clipPath id=\"clip581\">\n",
       "    <rect x=\"480\" y=\"0\" width=\"1681\" height=\"1600\"/>\n",
       "  </clipPath>\n",
       "</defs>\n",
       "<path clip-path=\"url(#clip580)\" d=\"\n",
       "M213.607 1486.45 L2352.76 1486.45 L2352.76 47.2441 L213.607 47.2441  Z\n",
       "  \" fill=\"#ffffff\" fill-rule=\"evenodd\" fill-opacity=\"1\"/>\n",
       "<defs>\n",
       "  <clipPath id=\"clip582\">\n",
       "    <rect x=\"213\" y=\"47\" width=\"2140\" height=\"1440\"/>\n",
       "  </clipPath>\n",
       "</defs>\n",
       "<polyline clip-path=\"url(#clip582)\" style=\"stroke:#000000; stroke-linecap:butt; stroke-linejoin:round; stroke-width:2; stroke-opacity:0.1; fill:none\" points=\"\n",
       "  699.005,1486.45 699.005,47.2441 \n",
       "  \"/>\n",
       "<polyline clip-path=\"url(#clip582)\" style=\"stroke:#000000; stroke-linecap:butt; stroke-linejoin:round; stroke-width:2; stroke-opacity:0.1; fill:none\" points=\"\n",
       "  1230.07,1486.45 1230.07,47.2441 \n",
       "  \"/>\n",
       "<polyline clip-path=\"url(#clip582)\" style=\"stroke:#000000; stroke-linecap:butt; stroke-linejoin:round; stroke-width:2; stroke-opacity:0.1; fill:none\" points=\"\n",
       "  1761.14,1486.45 1761.14,47.2441 \n",
       "  \"/>\n",
       "<polyline clip-path=\"url(#clip582)\" style=\"stroke:#000000; stroke-linecap:butt; stroke-linejoin:round; stroke-width:2; stroke-opacity:0.1; fill:none\" points=\"\n",
       "  2292.21,1486.45 2292.21,47.2441 \n",
       "  \"/>\n",
       "<polyline clip-path=\"url(#clip580)\" style=\"stroke:#000000; stroke-linecap:butt; stroke-linejoin:round; stroke-width:4; stroke-opacity:1; fill:none\" points=\"\n",
       "  213.607,1486.45 2352.76,1486.45 \n",
       "  \"/>\n",
       "<polyline clip-path=\"url(#clip580)\" style=\"stroke:#000000; stroke-linecap:butt; stroke-linejoin:round; stroke-width:4; stroke-opacity:1; fill:none\" points=\"\n",
       "  699.005,1486.45 699.005,1467.55 \n",
       "  \"/>\n",
       "<polyline clip-path=\"url(#clip580)\" style=\"stroke:#000000; stroke-linecap:butt; stroke-linejoin:round; stroke-width:4; stroke-opacity:1; fill:none\" points=\"\n",
       "  1230.07,1486.45 1230.07,1467.55 \n",
       "  \"/>\n",
       "<polyline clip-path=\"url(#clip580)\" style=\"stroke:#000000; stroke-linecap:butt; stroke-linejoin:round; stroke-width:4; stroke-opacity:1; fill:none\" points=\"\n",
       "  1761.14,1486.45 1761.14,1467.55 \n",
       "  \"/>\n",
       "<polyline clip-path=\"url(#clip580)\" style=\"stroke:#000000; stroke-linecap:butt; stroke-linejoin:round; stroke-width:4; stroke-opacity:1; fill:none\" points=\"\n",
       "  2292.21,1486.45 2292.21,1467.55 \n",
       "  \"/>\n",
       "<path clip-path=\"url(#clip580)\" d=\"M689.283 1512.56 L707.639 1512.56 L707.639 1516.5 L693.565 1516.5 L693.565 1524.97 Q694.584 1524.62 695.602 1524.46 Q696.621 1524.27 697.639 1524.27 Q703.426 1524.27 706.806 1527.44 Q710.186 1530.62 710.186 1536.03 Q710.186 1541.61 706.713 1544.71 Q703.241 1547.79 696.922 1547.79 Q694.746 1547.79 692.477 1547.42 Q690.232 1547.05 687.825 1546.31 L687.825 1541.61 Q689.908 1542.74 692.13 1543.3 Q694.352 1543.86 696.829 1543.86 Q700.834 1543.86 703.172 1541.75 Q705.51 1539.64 705.51 1536.03 Q705.51 1532.42 703.172 1530.31 Q700.834 1528.21 696.829 1528.21 Q694.954 1528.21 693.079 1528.62 Q691.227 1529.04 689.283 1529.92 L689.283 1512.56 Z\" fill=\"#000000\" fill-rule=\"evenodd\" fill-opacity=\"1\" /><path clip-path=\"url(#clip580)\" d=\"M1204.76 1543.18 L1212.4 1543.18 L1212.4 1516.82 L1204.09 1518.49 L1204.09 1514.23 L1212.35 1512.56 L1217.03 1512.56 L1217.03 1543.18 L1224.67 1543.18 L1224.67 1547.12 L1204.76 1547.12 L1204.76 1543.18 Z\" fill=\"#000000\" fill-rule=\"evenodd\" fill-opacity=\"1\" /><path clip-path=\"url(#clip580)\" d=\"M1244.11 1515.64 Q1240.5 1515.64 1238.67 1519.2 Q1236.87 1522.75 1236.87 1529.87 Q1236.87 1536.98 1238.67 1540.55 Q1240.5 1544.09 1244.11 1544.09 Q1247.75 1544.09 1249.55 1540.55 Q1251.38 1536.98 1251.38 1529.87 Q1251.38 1522.75 1249.55 1519.2 Q1247.75 1515.64 1244.11 1515.64 M1244.11 1511.93 Q1249.92 1511.93 1252.98 1516.54 Q1256.06 1521.12 1256.06 1529.87 Q1256.06 1538.6 1252.98 1543.21 Q1249.92 1547.79 1244.11 1547.79 Q1238.3 1547.79 1235.23 1543.21 Q1232.17 1538.6 1232.17 1529.87 Q1232.17 1521.12 1235.23 1516.54 Q1238.3 1511.93 1244.11 1511.93 Z\" fill=\"#000000\" fill-rule=\"evenodd\" fill-opacity=\"1\" /><path clip-path=\"url(#clip580)\" d=\"M1736.33 1543.18 L1743.97 1543.18 L1743.97 1516.82 L1735.66 1518.49 L1735.66 1514.23 L1743.92 1512.56 L1748.6 1512.56 L1748.6 1543.18 L1756.24 1543.18 L1756.24 1547.12 L1736.33 1547.12 L1736.33 1543.18 Z\" fill=\"#000000\" fill-rule=\"evenodd\" fill-opacity=\"1\" /><path clip-path=\"url(#clip580)\" d=\"M1765.73 1512.56 L1784.08 1512.56 L1784.08 1516.5 L1770.01 1516.5 L1770.01 1524.97 Q1771.03 1524.62 1772.05 1524.46 Q1773.07 1524.27 1774.08 1524.27 Q1779.87 1524.27 1783.25 1527.44 Q1786.63 1530.62 1786.63 1536.03 Q1786.63 1541.61 1783.16 1544.71 Q1779.69 1547.79 1773.37 1547.79 Q1771.19 1547.79 1768.92 1547.42 Q1766.68 1547.05 1764.27 1546.31 L1764.27 1541.61 Q1766.35 1542.74 1768.57 1543.3 Q1770.8 1543.86 1773.27 1543.86 Q1777.28 1543.86 1779.62 1541.75 Q1781.95 1539.64 1781.95 1536.03 Q1781.95 1532.42 1779.62 1530.31 Q1777.28 1528.21 1773.27 1528.21 Q1771.4 1528.21 1769.52 1528.62 Q1767.67 1529.04 1765.73 1529.92 L1765.73 1512.56 Z\" fill=\"#000000\" fill-rule=\"evenodd\" fill-opacity=\"1\" /><path clip-path=\"url(#clip580)\" d=\"M2270.99 1543.18 L2287.31 1543.18 L2287.31 1547.12 L2265.36 1547.12 L2265.36 1543.18 Q2268.02 1540.43 2272.61 1535.8 Q2277.21 1531.15 2278.39 1529.81 Q2280.64 1527.28 2281.52 1525.55 Q2282.42 1523.79 2282.42 1522.1 Q2282.42 1519.34 2280.48 1517.61 Q2278.56 1515.87 2275.45 1515.87 Q2273.26 1515.87 2270.8 1516.63 Q2268.37 1517.4 2265.59 1518.95 L2265.59 1514.23 Q2268.42 1513.09 2270.87 1512.51 Q2273.33 1511.93 2275.36 1511.93 Q2280.73 1511.93 2283.93 1514.62 Q2287.12 1517.31 2287.12 1521.8 Q2287.12 1523.93 2286.31 1525.85 Q2285.52 1527.74 2283.42 1530.34 Q2282.84 1531.01 2279.74 1534.23 Q2276.64 1537.42 2270.99 1543.18 Z\" fill=\"#000000\" fill-rule=\"evenodd\" fill-opacity=\"1\" /><path clip-path=\"url(#clip580)\" d=\"M2307.12 1515.64 Q2303.51 1515.64 2301.68 1519.2 Q2299.88 1522.75 2299.88 1529.87 Q2299.88 1536.98 2301.68 1540.55 Q2303.51 1544.09 2307.12 1544.09 Q2310.76 1544.09 2312.56 1540.55 Q2314.39 1536.98 2314.39 1529.87 Q2314.39 1522.75 2312.56 1519.2 Q2310.76 1515.64 2307.12 1515.64 M2307.12 1511.93 Q2312.93 1511.93 2315.99 1516.54 Q2319.07 1521.12 2319.07 1529.87 Q2319.07 1538.6 2315.99 1543.21 Q2312.93 1547.79 2307.12 1547.79 Q2301.31 1547.79 2298.23 1543.21 Q2295.18 1538.6 2295.18 1529.87 Q2295.18 1521.12 2298.23 1516.54 Q2301.31 1511.93 2307.12 1511.93 Z\" fill=\"#000000\" fill-rule=\"evenodd\" fill-opacity=\"1\" /><polyline clip-path=\"url(#clip582)\" style=\"stroke:#000000; stroke-linecap:butt; stroke-linejoin:round; stroke-width:2; stroke-opacity:0.1; fill:none\" points=\"\n",
       "  213.607,983.812 2352.76,983.812 \n",
       "  \"/>\n",
       "<polyline clip-path=\"url(#clip582)\" style=\"stroke:#000000; stroke-linecap:butt; stroke-linejoin:round; stroke-width:2; stroke-opacity:0.1; fill:none\" points=\"\n",
       "  213.607,208.102 2352.76,208.102 \n",
       "  \"/>\n",
       "<polyline clip-path=\"url(#clip580)\" style=\"stroke:#000000; stroke-linecap:butt; stroke-linejoin:round; stroke-width:4; stroke-opacity:1; fill:none\" points=\"\n",
       "  213.607,1486.45 213.607,47.2441 \n",
       "  \"/>\n",
       "<polyline clip-path=\"url(#clip580)\" style=\"stroke:#000000; stroke-linecap:butt; stroke-linejoin:round; stroke-width:4; stroke-opacity:1; fill:none\" points=\"\n",
       "  213.607,983.812 232.505,983.812 \n",
       "  \"/>\n",
       "<polyline clip-path=\"url(#clip580)\" style=\"stroke:#000000; stroke-linecap:butt; stroke-linejoin:round; stroke-width:4; stroke-opacity:1; fill:none\" points=\"\n",
       "  213.607,208.102 232.505,208.102 \n",
       "  \"/>\n",
       "<path clip-path=\"url(#clip580)\" d=\"M51.6634 1003.6 L59.3023 1003.6 L59.3023 977.239 L50.9921 978.905 L50.9921 974.646 L59.256 972.98 L63.9319 972.98 L63.9319 1003.6 L71.5707 1003.6 L71.5707 1007.54 L51.6634 1007.54 L51.6634 1003.6 Z\" fill=\"#000000\" fill-rule=\"evenodd\" fill-opacity=\"1\" /><path clip-path=\"url(#clip580)\" d=\"M91.0151 976.058 Q87.404 976.058 85.5753 979.623 Q83.7697 983.165 83.7697 990.294 Q83.7697 997.401 85.5753 1000.97 Q87.404 1004.51 91.0151 1004.51 Q94.6493 1004.51 96.4548 1000.97 Q98.2835 997.401 98.2835 990.294 Q98.2835 983.165 96.4548 979.623 Q94.6493 976.058 91.0151 976.058 M91.0151 972.355 Q96.8252 972.355 99.8808 976.961 Q102.959 981.544 102.959 990.294 Q102.959 999.021 99.8808 1003.63 Q96.8252 1008.21 91.0151 1008.21 Q85.2049 1008.21 82.1262 1003.63 Q79.0707 999.021 79.0707 990.294 Q79.0707 981.544 82.1262 976.961 Q85.2049 972.355 91.0151 972.355 Z\" fill=\"#000000\" fill-rule=\"evenodd\" fill-opacity=\"1\" /><path clip-path=\"url(#clip580)\" d=\"M102.959 966.456 L127.071 966.456 L127.071 969.653 L102.959 969.653 L102.959 966.456 Z\" fill=\"#000000\" fill-rule=\"evenodd\" fill-opacity=\"1\" /><path clip-path=\"url(#clip580)\" d=\"M135.929 976.932 L142.136 976.932 L142.136 955.51 L135.384 956.864 L135.384 953.403 L142.098 952.049 L145.898 952.049 L145.898 976.932 L152.104 976.932 L152.104 980.129 L135.929 980.129 L135.929 976.932 Z\" fill=\"#000000\" fill-rule=\"evenodd\" fill-opacity=\"1\" /><path clip-path=\"url(#clip580)\" d=\"M167.903 954.551 Q164.969 954.551 163.483 957.447 Q162.016 960.325 162.016 966.117 Q162.016 971.891 163.483 974.788 Q164.969 977.665 167.903 977.665 Q170.855 977.665 172.322 974.788 Q173.808 971.891 173.808 966.117 Q173.808 960.325 172.322 957.447 Q170.855 954.551 167.903 954.551 M167.903 951.541 Q172.623 951.541 175.106 955.284 Q177.607 959.008 177.607 966.117 Q177.607 973.208 175.106 976.951 Q172.623 980.675 167.903 980.675 Q163.182 980.675 160.68 976.951 Q158.198 973.208 158.198 966.117 Q158.198 959.008 160.68 955.284 Q163.182 951.541 167.903 951.541 Z\" fill=\"#000000\" fill-rule=\"evenodd\" fill-opacity=\"1\" /><path clip-path=\"url(#clip580)\" d=\"M106.902 227.894 L114.541 227.894 L114.541 201.528 L106.231 203.195 L106.231 198.936 L114.494 197.269 L119.17 197.269 L119.17 227.894 L126.809 227.894 L126.809 231.829 L106.902 231.829 L106.902 227.894 Z\" fill=\"#000000\" fill-rule=\"evenodd\" fill-opacity=\"1\" /><path clip-path=\"url(#clip580)\" d=\"M146.253 200.348 Q142.642 200.348 140.814 203.913 Q139.008 207.454 139.008 214.584 Q139.008 221.69 140.814 225.255 Q142.642 228.797 146.253 228.797 Q149.888 228.797 151.693 225.255 Q153.522 221.69 153.522 214.584 Q153.522 207.454 151.693 203.913 Q149.888 200.348 146.253 200.348 M146.253 196.644 Q152.064 196.644 155.119 201.251 Q158.198 205.834 158.198 214.584 Q158.198 223.311 155.119 227.917 Q152.064 232.501 146.253 232.501 Q140.443 232.501 137.365 227.917 Q134.309 223.311 134.309 214.584 Q134.309 205.834 137.365 201.251 Q140.443 196.644 146.253 196.644 Z\" fill=\"#000000\" fill-rule=\"evenodd\" fill-opacity=\"1\" /><path clip-path=\"url(#clip580)\" d=\"M167.903 178.84 Q164.969 178.84 163.483 181.737 Q162.016 184.614 162.016 190.407 Q162.016 196.181 163.483 199.077 Q164.969 201.955 167.903 201.955 Q170.855 201.955 172.322 199.077 Q173.808 196.181 173.808 190.407 Q173.808 184.614 172.322 181.737 Q170.855 178.84 167.903 178.84 M167.903 175.831 Q172.623 175.831 175.106 179.574 Q177.607 183.298 177.607 190.407 Q177.607 197.498 175.106 201.24 Q172.623 204.964 167.903 204.964 Q163.182 204.964 160.68 201.24 Q158.198 197.498 158.198 190.407 Q158.198 183.298 160.68 179.574 Q163.182 175.831 167.903 175.831 Z\" fill=\"#000000\" fill-rule=\"evenodd\" fill-opacity=\"1\" /><polyline clip-path=\"url(#clip582)\" style=\"stroke:#009af9; stroke-linecap:butt; stroke-linejoin:round; stroke-width:4; stroke-opacity:1; fill:none\" points=\"\n",
       "  274.149,164.871 380.363,87.9763 486.577,135.494 592.791,185.473 699.005,244.615 805.219,334.317 911.433,503.596 1017.65,841.264 1123.86,1445.72 1230.07,1445.72 \n",
       "  1336.29,1445.72 1442.5,1445.72 1548.72,1445.72 1654.93,1445.72 1761.14,1445.72 1867.36,1445.72 1973.57,1445.72 2079.79,1445.72 2186,1445.72 2292.21,1445.72 \n",
       "  \n",
       "  \"/>\n",
       "<circle clip-path=\"url(#clip582)\" cx=\"274.149\" cy=\"164.871\" r=\"14\" fill=\"#009af9\" fill-rule=\"evenodd\" fill-opacity=\"1\" stroke=\"#000000\" stroke-opacity=\"1\" stroke-width=\"3.2\"/>\n",
       "<circle clip-path=\"url(#clip582)\" cx=\"380.363\" cy=\"87.9763\" r=\"14\" fill=\"#009af9\" fill-rule=\"evenodd\" fill-opacity=\"1\" stroke=\"#000000\" stroke-opacity=\"1\" stroke-width=\"3.2\"/>\n",
       "<circle clip-path=\"url(#clip582)\" cx=\"486.577\" cy=\"135.494\" r=\"14\" fill=\"#009af9\" fill-rule=\"evenodd\" fill-opacity=\"1\" stroke=\"#000000\" stroke-opacity=\"1\" stroke-width=\"3.2\"/>\n",
       "<circle clip-path=\"url(#clip582)\" cx=\"592.791\" cy=\"185.473\" r=\"14\" fill=\"#009af9\" fill-rule=\"evenodd\" fill-opacity=\"1\" stroke=\"#000000\" stroke-opacity=\"1\" stroke-width=\"3.2\"/>\n",
       "<circle clip-path=\"url(#clip582)\" cx=\"699.005\" cy=\"244.615\" r=\"14\" fill=\"#009af9\" fill-rule=\"evenodd\" fill-opacity=\"1\" stroke=\"#000000\" stroke-opacity=\"1\" stroke-width=\"3.2\"/>\n",
       "<circle clip-path=\"url(#clip582)\" cx=\"805.219\" cy=\"334.317\" r=\"14\" fill=\"#009af9\" fill-rule=\"evenodd\" fill-opacity=\"1\" stroke=\"#000000\" stroke-opacity=\"1\" stroke-width=\"3.2\"/>\n",
       "<circle clip-path=\"url(#clip582)\" cx=\"911.433\" cy=\"503.596\" r=\"14\" fill=\"#009af9\" fill-rule=\"evenodd\" fill-opacity=\"1\" stroke=\"#000000\" stroke-opacity=\"1\" stroke-width=\"3.2\"/>\n",
       "<circle clip-path=\"url(#clip582)\" cx=\"1017.65\" cy=\"841.264\" r=\"14\" fill=\"#009af9\" fill-rule=\"evenodd\" fill-opacity=\"1\" stroke=\"#000000\" stroke-opacity=\"1\" stroke-width=\"3.2\"/>\n",
       "<circle clip-path=\"url(#clip582)\" cx=\"1123.86\" cy=\"1445.72\" r=\"14\" fill=\"#009af9\" fill-rule=\"evenodd\" fill-opacity=\"1\" stroke=\"#000000\" stroke-opacity=\"1\" stroke-width=\"3.2\"/>\n",
       "<circle clip-path=\"url(#clip582)\" cx=\"1230.07\" cy=\"1445.72\" r=\"14\" fill=\"#009af9\" fill-rule=\"evenodd\" fill-opacity=\"1\" stroke=\"#000000\" stroke-opacity=\"1\" stroke-width=\"3.2\"/>\n",
       "<circle clip-path=\"url(#clip582)\" cx=\"1336.29\" cy=\"1445.72\" r=\"14\" fill=\"#009af9\" fill-rule=\"evenodd\" fill-opacity=\"1\" stroke=\"#000000\" stroke-opacity=\"1\" stroke-width=\"3.2\"/>\n",
       "<circle clip-path=\"url(#clip582)\" cx=\"1442.5\" cy=\"1445.72\" r=\"14\" fill=\"#009af9\" fill-rule=\"evenodd\" fill-opacity=\"1\" stroke=\"#000000\" stroke-opacity=\"1\" stroke-width=\"3.2\"/>\n",
       "<circle clip-path=\"url(#clip582)\" cx=\"1548.72\" cy=\"1445.72\" r=\"14\" fill=\"#009af9\" fill-rule=\"evenodd\" fill-opacity=\"1\" stroke=\"#000000\" stroke-opacity=\"1\" stroke-width=\"3.2\"/>\n",
       "<circle clip-path=\"url(#clip582)\" cx=\"1654.93\" cy=\"1445.72\" r=\"14\" fill=\"#009af9\" fill-rule=\"evenodd\" fill-opacity=\"1\" stroke=\"#000000\" stroke-opacity=\"1\" stroke-width=\"3.2\"/>\n",
       "<circle clip-path=\"url(#clip582)\" cx=\"1761.14\" cy=\"1445.72\" r=\"14\" fill=\"#009af9\" fill-rule=\"evenodd\" fill-opacity=\"1\" stroke=\"#000000\" stroke-opacity=\"1\" stroke-width=\"3.2\"/>\n",
       "<circle clip-path=\"url(#clip582)\" cx=\"1867.36\" cy=\"1445.72\" r=\"14\" fill=\"#009af9\" fill-rule=\"evenodd\" fill-opacity=\"1\" stroke=\"#000000\" stroke-opacity=\"1\" stroke-width=\"3.2\"/>\n",
       "<circle clip-path=\"url(#clip582)\" cx=\"1973.57\" cy=\"1445.72\" r=\"14\" fill=\"#009af9\" fill-rule=\"evenodd\" fill-opacity=\"1\" stroke=\"#000000\" stroke-opacity=\"1\" stroke-width=\"3.2\"/>\n",
       "<circle clip-path=\"url(#clip582)\" cx=\"2079.79\" cy=\"1445.72\" r=\"14\" fill=\"#009af9\" fill-rule=\"evenodd\" fill-opacity=\"1\" stroke=\"#000000\" stroke-opacity=\"1\" stroke-width=\"3.2\"/>\n",
       "<circle clip-path=\"url(#clip582)\" cx=\"2186\" cy=\"1445.72\" r=\"14\" fill=\"#009af9\" fill-rule=\"evenodd\" fill-opacity=\"1\" stroke=\"#000000\" stroke-opacity=\"1\" stroke-width=\"3.2\"/>\n",
       "<circle clip-path=\"url(#clip582)\" cx=\"2292.21\" cy=\"1445.72\" r=\"14\" fill=\"#009af9\" fill-rule=\"evenodd\" fill-opacity=\"1\" stroke=\"#000000\" stroke-opacity=\"1\" stroke-width=\"3.2\"/>\n",
       "<path clip-path=\"url(#clip580)\" d=\"\n",
       "M1991.34 198.898 L2281.45 198.898 L2281.45 95.2176 L1991.34 95.2176  Z\n",
       "  \" fill=\"#ffffff\" fill-rule=\"evenodd\" fill-opacity=\"1\"/>\n",
       "<polyline clip-path=\"url(#clip580)\" style=\"stroke:#000000; stroke-linecap:butt; stroke-linejoin:round; stroke-width:4; stroke-opacity:1; fill:none\" points=\"\n",
       "  1991.34,198.898 2281.45,198.898 2281.45,95.2176 1991.34,95.2176 1991.34,198.898 \n",
       "  \"/>\n",
       "<polyline clip-path=\"url(#clip580)\" style=\"stroke:#009af9; stroke-linecap:butt; stroke-linejoin:round; stroke-width:4; stroke-opacity:1; fill:none\" points=\"\n",
       "  2015.11,147.058 2157.72,147.058 \n",
       "  \"/>\n",
       "<circle clip-path=\"url(#clip580)\" cx=\"2086.41\" cy=\"147.058\" r=\"23\" fill=\"#009af9\" fill-rule=\"evenodd\" fill-opacity=\"1\" stroke=\"#000000\" stroke-opacity=\"1\" stroke-width=\"5.12\"/>\n",
       "<path clip-path=\"url(#clip580)\" d=\"M2195.33 166.745 Q2193.52 171.375 2191.81 172.787 Q2190.1 174.199 2187.22 174.199 L2183.82 174.199 L2183.82 170.634 L2186.32 170.634 Q2188.08 170.634 2189.05 169.8 Q2190.03 168.967 2191.21 165.865 L2191.97 163.921 L2181.48 138.412 L2186 138.412 L2194.1 158.689 L2202.2 138.412 L2206.72 138.412 L2195.33 166.745 Z\" fill=\"#000000\" fill-rule=\"evenodd\" fill-opacity=\"1\" /><path clip-path=\"url(#clip580)\" d=\"M2214.01 160.402 L2221.65 160.402 L2221.65 134.037 L2213.34 135.703 L2213.34 131.444 L2221.6 129.778 L2226.28 129.778 L2226.28 160.402 L2233.91 160.402 L2233.91 164.338 L2214.01 164.338 L2214.01 160.402 Z\" fill=\"#000000\" fill-rule=\"evenodd\" fill-opacity=\"1\" /></svg>\n"
      ]
     },
     "execution_count": 113,
     "metadata": {},
     "output_type": "execute_result"
    }
   ],
   "source": [
    "function residual(u)\n",
    "    x, y = u\n",
    "    [x^2 + y^2 - 1, x^2 - y]\n",
    "end\n",
    "function jacobian(u)\n",
    "    x, y = u\n",
    "    [2x 2y; 2x -1]\n",
    "end\n",
    "\n",
    "uhist, normhist = newton(residual, jacobian, [0.1, 2])\n",
    "plot(normhist, marker=:auto, yscale=:log10)"
   ]
  },
  {
   "cell_type": "markdown",
   "id": "a61a5db4",
   "metadata": {
    "slideshow": {
     "slide_type": "slide"
    }
   },
   "source": [
    "# Plotting the trajectory"
   ]
  },
  {
   "cell_type": "code",
   "execution_count": 114,
   "id": "a0fb47db",
   "metadata": {},
   "outputs": [
    {
     "data": {
      "image/svg+xml": [
       "<?xml version=\"1.0\" encoding=\"utf-8\"?>\n",
       "<svg xmlns=\"http://www.w3.org/2000/svg\" xmlns:xlink=\"http://www.w3.org/1999/xlink\" width=\"600\" height=\"400\" viewBox=\"0 0 2400 1600\">\n",
       "<defs>\n",
       "  <clipPath id=\"clip620\">\n",
       "    <rect x=\"0\" y=\"0\" width=\"2400\" height=\"1600\"/>\n",
       "  </clipPath>\n",
       "</defs>\n",
       "<path clip-path=\"url(#clip620)\" d=\"\n",
       "M0 1600 L2400 1600 L2400 0 L0 0  Z\n",
       "  \" fill=\"#ffffff\" fill-rule=\"evenodd\" fill-opacity=\"1\"/>\n",
       "<defs>\n",
       "  <clipPath id=\"clip621\">\n",
       "    <rect x=\"480\" y=\"0\" width=\"1681\" height=\"1600\"/>\n",
       "  </clipPath>\n",
       "</defs>\n",
       "<path clip-path=\"url(#clip620)\" d=\"\n",
       "M147.478 1486.45 L2352.76 1486.45 L2352.76 47.2441 L147.478 47.2441  Z\n",
       "  \" fill=\"#ffffff\" fill-rule=\"evenodd\" fill-opacity=\"1\"/>\n",
       "<defs>\n",
       "  <clipPath id=\"clip622\">\n",
       "    <rect x=\"147\" y=\"47\" width=\"2206\" height=\"1440\"/>\n",
       "  </clipPath>\n",
       "</defs>\n",
       "<polyline clip-path=\"url(#clip622)\" style=\"stroke:#000000; stroke-linecap:butt; stroke-linejoin:round; stroke-width:2; stroke-opacity:0.1; fill:none\" points=\"\n",
       "  147.478,1486.45 147.478,47.2441 \n",
       "  \"/>\n",
       "<polyline clip-path=\"url(#clip622)\" style=\"stroke:#000000; stroke-linecap:butt; stroke-linejoin:round; stroke-width:2; stroke-opacity:0.1; fill:none\" points=\"\n",
       "  588.534,1486.45 588.534,47.2441 \n",
       "  \"/>\n",
       "<polyline clip-path=\"url(#clip622)\" style=\"stroke:#000000; stroke-linecap:butt; stroke-linejoin:round; stroke-width:2; stroke-opacity:0.1; fill:none\" points=\"\n",
       "  1029.59,1486.45 1029.59,47.2441 \n",
       "  \"/>\n",
       "<polyline clip-path=\"url(#clip622)\" style=\"stroke:#000000; stroke-linecap:butt; stroke-linejoin:round; stroke-width:2; stroke-opacity:0.1; fill:none\" points=\"\n",
       "  1470.64,1486.45 1470.64,47.2441 \n",
       "  \"/>\n",
       "<polyline clip-path=\"url(#clip622)\" style=\"stroke:#000000; stroke-linecap:butt; stroke-linejoin:round; stroke-width:2; stroke-opacity:0.1; fill:none\" points=\"\n",
       "  1911.7,1486.45 1911.7,47.2441 \n",
       "  \"/>\n",
       "<polyline clip-path=\"url(#clip622)\" style=\"stroke:#000000; stroke-linecap:butt; stroke-linejoin:round; stroke-width:2; stroke-opacity:0.1; fill:none\" points=\"\n",
       "  2352.76,1486.45 2352.76,47.2441 \n",
       "  \"/>\n",
       "<polyline clip-path=\"url(#clip620)\" style=\"stroke:#000000; stroke-linecap:butt; stroke-linejoin:round; stroke-width:4; stroke-opacity:1; fill:none\" points=\"\n",
       "  147.478,1486.45 2352.76,1486.45 \n",
       "  \"/>\n",
       "<polyline clip-path=\"url(#clip620)\" style=\"stroke:#000000; stroke-linecap:butt; stroke-linejoin:round; stroke-width:4; stroke-opacity:1; fill:none\" points=\"\n",
       "  147.478,1486.45 147.478,1467.55 \n",
       "  \"/>\n",
       "<polyline clip-path=\"url(#clip620)\" style=\"stroke:#000000; stroke-linecap:butt; stroke-linejoin:round; stroke-width:4; stroke-opacity:1; fill:none\" points=\"\n",
       "  588.534,1486.45 588.534,1467.55 \n",
       "  \"/>\n",
       "<polyline clip-path=\"url(#clip620)\" style=\"stroke:#000000; stroke-linecap:butt; stroke-linejoin:round; stroke-width:4; stroke-opacity:1; fill:none\" points=\"\n",
       "  1029.59,1486.45 1029.59,1467.55 \n",
       "  \"/>\n",
       "<polyline clip-path=\"url(#clip620)\" style=\"stroke:#000000; stroke-linecap:butt; stroke-linejoin:round; stroke-width:4; stroke-opacity:1; fill:none\" points=\"\n",
       "  1470.64,1486.45 1470.64,1467.55 \n",
       "  \"/>\n",
       "<polyline clip-path=\"url(#clip620)\" style=\"stroke:#000000; stroke-linecap:butt; stroke-linejoin:round; stroke-width:4; stroke-opacity:1; fill:none\" points=\"\n",
       "  1911.7,1486.45 1911.7,1467.55 \n",
       "  \"/>\n",
       "<polyline clip-path=\"url(#clip620)\" style=\"stroke:#000000; stroke-linecap:butt; stroke-linejoin:round; stroke-width:4; stroke-opacity:1; fill:none\" points=\"\n",
       "  2352.76,1486.45 2352.76,1467.55 \n",
       "  \"/>\n",
       "<path clip-path=\"url(#clip620)\" d=\"M117.42 1530.29 L147.096 1530.29 L147.096 1534.23 L117.42 1534.23 L117.42 1530.29 Z\" fill=\"#000000\" fill-rule=\"evenodd\" fill-opacity=\"1\" /><path clip-path=\"url(#clip620)\" d=\"M161.216 1543.18 L177.536 1543.18 L177.536 1547.12 L155.591 1547.12 L155.591 1543.18 Q158.253 1540.43 162.837 1535.8 Q167.443 1531.15 168.624 1529.81 Q170.869 1527.28 171.749 1525.55 Q172.651 1523.79 172.651 1522.1 Q172.651 1519.34 170.707 1517.61 Q168.786 1515.87 165.684 1515.87 Q163.485 1515.87 161.031 1516.63 Q158.601 1517.4 155.823 1518.95 L155.823 1514.23 Q158.647 1513.09 161.101 1512.51 Q163.554 1511.93 165.591 1511.93 Q170.962 1511.93 174.156 1514.62 Q177.35 1517.31 177.35 1521.8 Q177.35 1523.93 176.54 1525.85 Q175.753 1527.74 173.647 1530.34 Q173.068 1531.01 169.966 1534.23 Q166.864 1537.42 161.216 1543.18 Z\" fill=\"#000000\" fill-rule=\"evenodd\" fill-opacity=\"1\" /><path clip-path=\"url(#clip620)\" d=\"M558.291 1530.29 L587.966 1530.29 L587.966 1534.23 L558.291 1534.23 L558.291 1530.29 Z\" fill=\"#000000\" fill-rule=\"evenodd\" fill-opacity=\"1\" /><path clip-path=\"url(#clip620)\" d=\"M598.869 1543.18 L606.508 1543.18 L606.508 1516.82 L598.198 1518.49 L598.198 1514.23 L606.462 1512.56 L611.138 1512.56 L611.138 1543.18 L618.776 1543.18 L618.776 1547.12 L598.869 1547.12 L598.869 1543.18 Z\" fill=\"#000000\" fill-rule=\"evenodd\" fill-opacity=\"1\" /><path clip-path=\"url(#clip620)\" d=\"M1029.59 1515.64 Q1025.98 1515.64 1024.15 1519.2 Q1022.34 1522.75 1022.34 1529.87 Q1022.34 1536.98 1024.15 1540.55 Q1025.98 1544.09 1029.59 1544.09 Q1033.22 1544.09 1035.03 1540.55 Q1036.86 1536.98 1036.86 1529.87 Q1036.86 1522.75 1035.03 1519.2 Q1033.22 1515.64 1029.59 1515.64 M1029.59 1511.93 Q1035.4 1511.93 1038.45 1516.54 Q1041.53 1521.12 1041.53 1529.87 Q1041.53 1538.6 1038.45 1543.21 Q1035.4 1547.79 1029.59 1547.79 Q1023.78 1547.79 1020.7 1543.21 Q1017.64 1538.6 1017.64 1529.87 Q1017.64 1521.12 1020.7 1516.54 Q1023.78 1511.93 1029.59 1511.93 Z\" fill=\"#000000\" fill-rule=\"evenodd\" fill-opacity=\"1\" /><path clip-path=\"url(#clip620)\" d=\"M1461.03 1543.18 L1468.67 1543.18 L1468.67 1516.82 L1460.36 1518.49 L1460.36 1514.23 L1468.62 1512.56 L1473.3 1512.56 L1473.3 1543.18 L1480.93 1543.18 L1480.93 1547.12 L1461.03 1547.12 L1461.03 1543.18 Z\" fill=\"#000000\" fill-rule=\"evenodd\" fill-opacity=\"1\" /><path clip-path=\"url(#clip620)\" d=\"M1906.35 1543.18 L1922.67 1543.18 L1922.67 1547.12 L1900.73 1547.12 L1900.73 1543.18 Q1903.39 1540.43 1907.97 1535.8 Q1912.58 1531.15 1913.76 1529.81 Q1916.01 1527.28 1916.89 1525.55 Q1917.79 1523.79 1917.79 1522.1 Q1917.79 1519.34 1915.84 1517.61 Q1913.92 1515.87 1910.82 1515.87 Q1908.62 1515.87 1906.17 1516.63 Q1903.74 1517.4 1900.96 1518.95 L1900.96 1514.23 Q1903.78 1513.09 1906.24 1512.51 Q1908.69 1511.93 1910.73 1511.93 Q1916.1 1511.93 1919.29 1514.62 Q1922.49 1517.31 1922.49 1521.8 Q1922.49 1523.93 1921.68 1525.85 Q1920.89 1527.74 1918.78 1530.34 Q1918.2 1531.01 1915.1 1534.23 Q1912 1537.42 1906.35 1543.18 Z\" fill=\"#000000\" fill-rule=\"evenodd\" fill-opacity=\"1\" /><path clip-path=\"url(#clip620)\" d=\"M2357 1528.49 Q2360.36 1529.2 2362.24 1531.47 Q2364.13 1533.74 2364.13 1537.07 Q2364.13 1542.19 2360.61 1544.99 Q2357.1 1547.79 2350.61 1547.79 Q2348.44 1547.79 2346.12 1547.35 Q2343.83 1546.93 2341.38 1546.08 L2341.38 1541.56 Q2343.32 1542.7 2345.64 1543.28 Q2347.95 1543.86 2350.48 1543.86 Q2354.87 1543.86 2357.17 1542.12 Q2359.48 1540.38 2359.48 1537.07 Q2359.48 1534.02 2357.33 1532.31 Q2355.2 1530.57 2351.38 1530.57 L2347.35 1530.57 L2347.35 1526.73 L2351.56 1526.73 Q2355.01 1526.73 2356.84 1525.36 Q2358.67 1523.97 2358.67 1521.38 Q2358.67 1518.72 2356.77 1517.31 Q2354.9 1515.87 2351.38 1515.87 Q2349.46 1515.87 2347.26 1516.29 Q2345.06 1516.7 2342.42 1517.58 L2342.42 1513.42 Q2345.08 1512.68 2347.4 1512.31 Q2349.74 1511.93 2351.8 1511.93 Q2357.12 1511.93 2360.22 1514.37 Q2363.32 1516.77 2363.32 1520.89 Q2363.32 1523.76 2361.68 1525.75 Q2360.04 1527.72 2357 1528.49 Z\" fill=\"#000000\" fill-rule=\"evenodd\" fill-opacity=\"1\" /><polyline clip-path=\"url(#clip622)\" style=\"stroke:#000000; stroke-linecap:butt; stroke-linejoin:round; stroke-width:2; stroke-opacity:0.1; fill:none\" points=\"\n",
       "  147.478,1486.45 2352.76,1486.45 \n",
       "  \"/>\n",
       "<polyline clip-path=\"url(#clip622)\" style=\"stroke:#000000; stroke-linecap:butt; stroke-linejoin:round; stroke-width:2; stroke-opacity:0.1; fill:none\" points=\"\n",
       "  147.478,1126.65 2352.76,1126.65 \n",
       "  \"/>\n",
       "<polyline clip-path=\"url(#clip622)\" style=\"stroke:#000000; stroke-linecap:butt; stroke-linejoin:round; stroke-width:2; stroke-opacity:0.1; fill:none\" points=\"\n",
       "  147.478,766.846 2352.76,766.846 \n",
       "  \"/>\n",
       "<polyline clip-path=\"url(#clip622)\" style=\"stroke:#000000; stroke-linecap:butt; stroke-linejoin:round; stroke-width:2; stroke-opacity:0.1; fill:none\" points=\"\n",
       "  147.478,407.045 2352.76,407.045 \n",
       "  \"/>\n",
       "<polyline clip-path=\"url(#clip622)\" style=\"stroke:#000000; stroke-linecap:butt; stroke-linejoin:round; stroke-width:2; stroke-opacity:0.1; fill:none\" points=\"\n",
       "  147.478,47.2441 2352.76,47.2441 \n",
       "  \"/>\n",
       "<polyline clip-path=\"url(#clip620)\" style=\"stroke:#000000; stroke-linecap:butt; stroke-linejoin:round; stroke-width:4; stroke-opacity:1; fill:none\" points=\"\n",
       "  147.478,1486.45 147.478,47.2441 \n",
       "  \"/>\n",
       "<polyline clip-path=\"url(#clip620)\" style=\"stroke:#000000; stroke-linecap:butt; stroke-linejoin:round; stroke-width:4; stroke-opacity:1; fill:none\" points=\"\n",
       "  147.478,1486.45 166.376,1486.45 \n",
       "  \"/>\n",
       "<polyline clip-path=\"url(#clip620)\" style=\"stroke:#000000; stroke-linecap:butt; stroke-linejoin:round; stroke-width:4; stroke-opacity:1; fill:none\" points=\"\n",
       "  147.478,1126.65 166.376,1126.65 \n",
       "  \"/>\n",
       "<polyline clip-path=\"url(#clip620)\" style=\"stroke:#000000; stroke-linecap:butt; stroke-linejoin:round; stroke-width:4; stroke-opacity:1; fill:none\" points=\"\n",
       "  147.478,766.846 166.376,766.846 \n",
       "  \"/>\n",
       "<polyline clip-path=\"url(#clip620)\" style=\"stroke:#000000; stroke-linecap:butt; stroke-linejoin:round; stroke-width:4; stroke-opacity:1; fill:none\" points=\"\n",
       "  147.478,407.045 166.376,407.045 \n",
       "  \"/>\n",
       "<polyline clip-path=\"url(#clip620)\" style=\"stroke:#000000; stroke-linecap:butt; stroke-linejoin:round; stroke-width:4; stroke-opacity:1; fill:none\" points=\"\n",
       "  147.478,47.2441 166.376,47.2441 \n",
       "  \"/>\n",
       "<path clip-path=\"url(#clip620)\" d=\"M51.3625 1486.9 L81.0383 1486.9 L81.0383 1490.83 L51.3625 1490.83 L51.3625 1486.9 Z\" fill=\"#000000\" fill-rule=\"evenodd\" fill-opacity=\"1\" /><path clip-path=\"url(#clip620)\" d=\"M95.1586 1499.79 L111.478 1499.79 L111.478 1503.73 L89.5336 1503.73 L89.5336 1499.79 Q92.1956 1497.04 96.7789 1492.41 Q101.385 1487.76 102.566 1486.41 Q104.811 1483.89 105.691 1482.15 Q106.594 1480.39 106.594 1478.7 Q106.594 1475.95 104.649 1474.21 Q102.728 1472.48 99.6261 1472.48 Q97.4271 1472.48 94.9734 1473.24 Q92.5428 1474.01 89.7651 1475.56 L89.7651 1470.83 Q92.5891 1469.7 95.0428 1469.12 Q97.4965 1468.54 99.5335 1468.54 Q104.904 1468.54 108.098 1471.23 Q111.293 1473.91 111.293 1478.4 Q111.293 1480.53 110.483 1482.45 Q109.696 1484.35 107.589 1486.95 Q107.01 1487.62 103.909 1490.83 Q100.807 1494.03 95.1586 1499.79 Z\" fill=\"#000000\" fill-rule=\"evenodd\" fill-opacity=\"1\" /><path clip-path=\"url(#clip620)\" d=\"M50.9921 1127.1 L80.6679 1127.1 L80.6679 1131.03 L50.9921 1131.03 L50.9921 1127.1 Z\" fill=\"#000000\" fill-rule=\"evenodd\" fill-opacity=\"1\" /><path clip-path=\"url(#clip620)\" d=\"M91.5706 1139.99 L99.2095 1139.99 L99.2095 1113.63 L90.8993 1115.29 L90.8993 1111.03 L99.1632 1109.37 L103.839 1109.37 L103.839 1139.99 L111.478 1139.99 L111.478 1143.93 L91.5706 1143.93 L91.5706 1139.99 Z\" fill=\"#000000\" fill-rule=\"evenodd\" fill-opacity=\"1\" /><path clip-path=\"url(#clip620)\" d=\"M99.5335 752.645 Q95.9224 752.645 94.0937 756.209 Q92.2882 759.751 92.2882 766.881 Q92.2882 773.987 94.0937 777.552 Q95.9224 781.094 99.5335 781.094 Q103.168 781.094 104.973 777.552 Q106.802 773.987 106.802 766.881 Q106.802 759.751 104.973 756.209 Q103.168 752.645 99.5335 752.645 M99.5335 748.941 Q105.344 748.941 108.399 753.547 Q111.478 758.131 111.478 766.881 Q111.478 775.608 108.399 780.214 Q105.344 784.797 99.5335 784.797 Q93.7234 784.797 90.6447 780.214 Q87.5892 775.608 87.5892 766.881 Q87.5892 758.131 90.6447 753.547 Q93.7234 748.941 99.5335 748.941 Z\" fill=\"#000000\" fill-rule=\"evenodd\" fill-opacity=\"1\" /><path clip-path=\"url(#clip620)\" d=\"M91.5706 420.39 L99.2095 420.39 L99.2095 394.024 L90.8993 395.691 L90.8993 391.432 L99.1632 389.765 L103.839 389.765 L103.839 420.39 L111.478 420.39 L111.478 424.325 L91.5706 424.325 L91.5706 420.39 Z\" fill=\"#000000\" fill-rule=\"evenodd\" fill-opacity=\"1\" /><path clip-path=\"url(#clip620)\" d=\"M95.1586 60.5889 L111.478 60.5889 L111.478 64.5241 L89.5336 64.5241 L89.5336 60.5889 Q92.1956 57.8343 96.7789 53.2047 Q101.385 48.552 102.566 47.2094 Q104.811 44.6862 105.691 42.9501 Q106.594 41.1909 106.594 39.5011 Q106.594 36.7465 104.649 35.0104 Q102.728 33.2743 99.6261 33.2743 Q97.4271 33.2743 94.9734 34.0381 Q92.5428 34.802 89.7651 36.3529 L89.7651 31.6308 Q92.5891 30.4965 95.0428 29.9178 Q97.4965 29.3391 99.5335 29.3391 Q104.904 29.3391 108.098 32.0243 Q111.293 34.7094 111.293 39.2002 Q111.293 41.3298 110.483 43.2511 Q109.696 45.1492 107.589 47.7418 Q107.01 48.4131 103.909 51.6306 Q100.807 54.8251 95.1586 60.5889 Z\" fill=\"#000000\" fill-rule=\"evenodd\" fill-opacity=\"1\" /><polyline clip-path=\"url(#clip622)\" style=\"stroke:#009af9; stroke-linecap:butt; stroke-linejoin:round; stroke-width:4; stroke-opacity:1; fill:none\" points=\"\n",
       "  1073.69,47.2441 3256.92,407.045 2172.37,526.979 1653.67,544.112 1437.95,544.477 1380.98,544.477 1376.36,544.477 1376.33,544.477 1376.33,544.477 \n",
       "  \n",
       "  \n",
       "  \"/>\n",
       "<circle clip-path=\"url(#clip622)\" cx=\"1073.69\" cy=\"47.2441\" r=\"14\" fill=\"#009af9\" fill-rule=\"evenodd\" fill-opacity=\"1\" stroke=\"#000000\" stroke-opacity=\"1\" stroke-width=\"3.2\"/>\n",
       "<circle clip-path=\"url(#clip622)\" cx=\"2172.37\" cy=\"526.979\" r=\"14\" fill=\"#009af9\" fill-rule=\"evenodd\" fill-opacity=\"1\" stroke=\"#000000\" stroke-opacity=\"1\" stroke-width=\"3.2\"/>\n",
       "<circle clip-path=\"url(#clip622)\" cx=\"1653.67\" cy=\"544.112\" r=\"14\" fill=\"#009af9\" fill-rule=\"evenodd\" fill-opacity=\"1\" stroke=\"#000000\" stroke-opacity=\"1\" stroke-width=\"3.2\"/>\n",
       "<circle clip-path=\"url(#clip622)\" cx=\"1437.95\" cy=\"544.477\" r=\"14\" fill=\"#009af9\" fill-rule=\"evenodd\" fill-opacity=\"1\" stroke=\"#000000\" stroke-opacity=\"1\" stroke-width=\"3.2\"/>\n",
       "<circle clip-path=\"url(#clip622)\" cx=\"1380.98\" cy=\"544.477\" r=\"14\" fill=\"#009af9\" fill-rule=\"evenodd\" fill-opacity=\"1\" stroke=\"#000000\" stroke-opacity=\"1\" stroke-width=\"3.2\"/>\n",
       "<circle clip-path=\"url(#clip622)\" cx=\"1376.36\" cy=\"544.477\" r=\"14\" fill=\"#009af9\" fill-rule=\"evenodd\" fill-opacity=\"1\" stroke=\"#000000\" stroke-opacity=\"1\" stroke-width=\"3.2\"/>\n",
       "<circle clip-path=\"url(#clip622)\" cx=\"1376.33\" cy=\"544.477\" r=\"14\" fill=\"#009af9\" fill-rule=\"evenodd\" fill-opacity=\"1\" stroke=\"#000000\" stroke-opacity=\"1\" stroke-width=\"3.2\"/>\n",
       "<circle clip-path=\"url(#clip622)\" cx=\"1376.33\" cy=\"544.477\" r=\"14\" fill=\"#009af9\" fill-rule=\"evenodd\" fill-opacity=\"1\" stroke=\"#000000\" stroke-opacity=\"1\" stroke-width=\"3.2\"/>\n",
       "<circle clip-path=\"url(#clip622)\" cx=\"1376.33\" cy=\"544.477\" r=\"14\" fill=\"#009af9\" fill-rule=\"evenodd\" fill-opacity=\"1\" stroke=\"#000000\" stroke-opacity=\"1\" stroke-width=\"3.2\"/>\n",
       "<circle clip-path=\"url(#clip622)\" cx=\"1376.33\" cy=\"544.477\" r=\"14\" fill=\"#009af9\" fill-rule=\"evenodd\" fill-opacity=\"1\" stroke=\"#000000\" stroke-opacity=\"1\" stroke-width=\"3.2\"/>\n",
       "<circle clip-path=\"url(#clip622)\" cx=\"1376.33\" cy=\"544.477\" r=\"14\" fill=\"#009af9\" fill-rule=\"evenodd\" fill-opacity=\"1\" stroke=\"#000000\" stroke-opacity=\"1\" stroke-width=\"3.2\"/>\n",
       "<circle clip-path=\"url(#clip622)\" cx=\"1376.33\" cy=\"544.477\" r=\"14\" fill=\"#009af9\" fill-rule=\"evenodd\" fill-opacity=\"1\" stroke=\"#000000\" stroke-opacity=\"1\" stroke-width=\"3.2\"/>\n",
       "<circle clip-path=\"url(#clip622)\" cx=\"1376.33\" cy=\"544.477\" r=\"14\" fill=\"#009af9\" fill-rule=\"evenodd\" fill-opacity=\"1\" stroke=\"#000000\" stroke-opacity=\"1\" stroke-width=\"3.2\"/>\n",
       "<circle clip-path=\"url(#clip622)\" cx=\"1376.33\" cy=\"544.477\" r=\"14\" fill=\"#009af9\" fill-rule=\"evenodd\" fill-opacity=\"1\" stroke=\"#000000\" stroke-opacity=\"1\" stroke-width=\"3.2\"/>\n",
       "<circle clip-path=\"url(#clip622)\" cx=\"1376.33\" cy=\"544.477\" r=\"14\" fill=\"#009af9\" fill-rule=\"evenodd\" fill-opacity=\"1\" stroke=\"#000000\" stroke-opacity=\"1\" stroke-width=\"3.2\"/>\n",
       "<circle clip-path=\"url(#clip622)\" cx=\"1376.33\" cy=\"544.477\" r=\"14\" fill=\"#009af9\" fill-rule=\"evenodd\" fill-opacity=\"1\" stroke=\"#000000\" stroke-opacity=\"1\" stroke-width=\"3.2\"/>\n",
       "<circle clip-path=\"url(#clip622)\" cx=\"1376.33\" cy=\"544.477\" r=\"14\" fill=\"#009af9\" fill-rule=\"evenodd\" fill-opacity=\"1\" stroke=\"#000000\" stroke-opacity=\"1\" stroke-width=\"3.2\"/>\n",
       "<circle clip-path=\"url(#clip622)\" cx=\"1376.33\" cy=\"544.477\" r=\"14\" fill=\"#009af9\" fill-rule=\"evenodd\" fill-opacity=\"1\" stroke=\"#000000\" stroke-opacity=\"1\" stroke-width=\"3.2\"/>\n",
       "<circle clip-path=\"url(#clip622)\" cx=\"1376.33\" cy=\"544.477\" r=\"14\" fill=\"#009af9\" fill-rule=\"evenodd\" fill-opacity=\"1\" stroke=\"#000000\" stroke-opacity=\"1\" stroke-width=\"3.2\"/>\n",
       "<circle clip-path=\"url(#clip622)\" cx=\"1376.33\" cy=\"544.477\" r=\"14\" fill=\"#009af9\" fill-rule=\"evenodd\" fill-opacity=\"1\" stroke=\"#000000\" stroke-opacity=\"1\" stroke-width=\"3.2\"/>\n",
       "<polyline clip-path=\"url(#clip622)\" style=\"stroke:#e26f46; stroke-linecap:butt; stroke-linejoin:round; stroke-width:4; stroke-opacity:1; fill:none\" points=\"\n",
       "  1470.64,766.846 1467.02,720.836 1456.22,675.581 1438.41,631.825 1413.89,590.285 1383.06,551.645 1346.42,516.539 1304.58,485.542 1258.23,459.165 1208.12,437.839 \n",
       "  1155.08,421.916 1099.98,411.657 1043.73,407.23 987.238,408.708 931.445,416.066 877.264,429.184 825.584,447.847 777.254,471.747 733.067,500.493 693.749,533.613 \n",
       "  659.946,570.562 632.212,610.734 611.003,653.47 596.667,698.067 589.44,743.793 589.44,789.899 596.667,835.625 611.003,880.222 632.212,922.958 659.946,963.13 \n",
       "  693.749,1000.08 733.067,1033.2 777.254,1061.94 825.584,1085.85 877.264,1104.51 931.445,1117.63 987.238,1124.98 1043.73,1126.46 1099.98,1122.03 1155.08,1111.78 \n",
       "  1208.12,1095.85 1258.23,1074.53 1304.58,1048.15 1346.42,1017.15 1383.06,982.047 1413.89,943.407 1438.41,901.867 1456.22,858.111 1467.02,812.856 1470.64,766.846 \n",
       "  \n",
       "  \"/>\n",
       "<polyline clip-path=\"url(#clip622)\" style=\"stroke:#3da44d; stroke-linecap:butt; stroke-linejoin:round; stroke-width:4; stroke-opacity:1; fill:none\" points=\"\n",
       "  147.478,-672.358 158.246,-637.435 169.014,-602.941 268.582,-304.312 368.149,-42.3558 427.985,97.4275 487.82,223.967 538.411,320.621 589.001,407.808 698.912,564.598 \n",
       "  800.24,669.556 854.557,710.182 908.874,739.894 971.806,760.67 1034.74,766.797 1090.66,759.947 1146.59,741.526 1195.63,715.852 1244.68,681.28 1351.61,575.044 \n",
       "  1459.19,425.495 1518.66,324.448 1578.12,210.32 1634.71,89.5844 1691.29,-42.9946 1808.96,-356.62 1908.01,-660.328 1968.47,-863.564 2028.93,-1080.32 2085.77,-1296.42 \n",
       "  2142.61,-1524.46 2233.67,-1914.71 2324.73,-2335.63 2338.74,-2403.13 2352.76,-2471.36 \n",
       "  \"/>\n",
       "<path clip-path=\"url(#clip620)\" d=\"\n",
       "M1981.21 1438.47 L2279.25 1438.47 L2279.25 1231.11 L1981.21 1231.11  Z\n",
       "  \" fill=\"#ffffff\" fill-rule=\"evenodd\" fill-opacity=\"1\"/>\n",
       "<polyline clip-path=\"url(#clip620)\" style=\"stroke:#000000; stroke-linecap:butt; stroke-linejoin:round; stroke-width:4; stroke-opacity:1; fill:none\" points=\"\n",
       "  1981.21,1438.47 2279.25,1438.47 2279.25,1231.11 1981.21,1231.11 1981.21,1438.47 \n",
       "  \"/>\n",
       "<polyline clip-path=\"url(#clip620)\" style=\"stroke:#009af9; stroke-linecap:butt; stroke-linejoin:round; stroke-width:4; stroke-opacity:1; fill:none\" points=\"\n",
       "  2005.71,1282.95 2152.73,1282.95 \n",
       "  \"/>\n",
       "<circle clip-path=\"url(#clip620)\" cx=\"2079.22\" cy=\"1282.95\" r=\"23\" fill=\"#009af9\" fill-rule=\"evenodd\" fill-opacity=\"1\" stroke=\"#000000\" stroke-opacity=\"1\" stroke-width=\"5.12\"/>\n",
       "<path clip-path=\"url(#clip620)\" d=\"M2191.07 1302.64 Q2189.27 1307.27 2187.56 1308.68 Q2185.84 1310.1 2182.97 1310.1 L2179.57 1310.1 L2179.57 1306.53 L2182.07 1306.53 Q2183.83 1306.53 2184.8 1305.7 Q2185.77 1304.86 2186.95 1301.76 L2187.72 1299.82 L2177.23 1274.31 L2181.75 1274.31 L2189.85 1294.59 L2197.95 1274.31 L2202.46 1274.31 L2191.07 1302.64 Z\" fill=\"#000000\" fill-rule=\"evenodd\" fill-opacity=\"1\" /><path clip-path=\"url(#clip620)\" d=\"M2209.75 1296.3 L2217.39 1296.3 L2217.39 1269.93 L2209.08 1271.6 L2209.08 1267.34 L2217.35 1265.67 L2222.02 1265.67 L2222.02 1296.3 L2229.66 1296.3 L2229.66 1300.23 L2209.75 1300.23 L2209.75 1296.3 Z\" fill=\"#000000\" fill-rule=\"evenodd\" fill-opacity=\"1\" /><polyline clip-path=\"url(#clip620)\" style=\"stroke:#e26f46; stroke-linecap:butt; stroke-linejoin:round; stroke-width:4; stroke-opacity:1; fill:none\" points=\"\n",
       "  2005.71,1334.79 2152.73,1334.79 \n",
       "  \"/>\n",
       "<path clip-path=\"url(#clip620)\" d=\"M2191.07 1354.48 Q2189.27 1359.11 2187.56 1360.52 Q2185.84 1361.94 2182.97 1361.94 L2179.57 1361.94 L2179.57 1358.37 L2182.07 1358.37 Q2183.83 1358.37 2184.8 1357.54 Q2185.77 1356.7 2186.95 1353.6 L2187.72 1351.66 L2177.23 1326.15 L2181.75 1326.15 L2189.85 1346.43 L2197.95 1326.15 L2202.46 1326.15 L2191.07 1354.48 Z\" fill=\"#000000\" fill-rule=\"evenodd\" fill-opacity=\"1\" /><path clip-path=\"url(#clip620)\" d=\"M2212.97 1348.14 L2229.29 1348.14 L2229.29 1352.07 L2207.35 1352.07 L2207.35 1348.14 Q2210.01 1345.38 2214.59 1340.76 Q2219.2 1336.1 2220.38 1334.76 Q2222.62 1332.24 2223.5 1330.5 Q2224.41 1328.74 2224.41 1327.05 Q2224.41 1324.3 2222.46 1322.56 Q2220.54 1320.82 2217.44 1320.82 Q2215.24 1320.82 2212.79 1321.59 Q2210.36 1322.35 2207.58 1323.9 L2207.58 1319.18 Q2210.4 1318.05 2212.86 1317.47 Q2215.31 1316.89 2217.35 1316.89 Q2222.72 1316.89 2225.91 1319.57 Q2229.11 1322.26 2229.11 1326.75 Q2229.11 1328.88 2228.3 1330.8 Q2227.51 1332.7 2225.4 1335.29 Q2224.82 1335.96 2221.72 1339.18 Q2218.62 1342.38 2212.97 1348.14 Z\" fill=\"#000000\" fill-rule=\"evenodd\" fill-opacity=\"1\" /><polyline clip-path=\"url(#clip620)\" style=\"stroke:#3da44d; stroke-linecap:butt; stroke-linejoin:round; stroke-width:4; stroke-opacity:1; fill:none\" points=\"\n",
       "  2005.71,1386.63 2152.73,1386.63 \n",
       "  \"/>\n",
       "<path clip-path=\"url(#clip620)\" d=\"M2191.07 1406.32 Q2189.27 1410.95 2187.56 1412.36 Q2185.84 1413.78 2182.97 1413.78 L2179.57 1413.78 L2179.57 1410.21 L2182.07 1410.21 Q2183.83 1410.21 2184.8 1409.38 Q2185.77 1408.54 2186.95 1405.44 L2187.72 1403.5 L2177.23 1377.99 L2181.75 1377.99 L2189.85 1398.27 L2197.95 1377.99 L2202.46 1377.99 L2191.07 1406.32 Z\" fill=\"#000000\" fill-rule=\"evenodd\" fill-opacity=\"1\" /><path clip-path=\"url(#clip620)\" d=\"M2223.11 1385.28 Q2226.47 1386 2228.34 1388.27 Q2230.24 1390.53 2230.24 1393.87 Q2230.24 1398.98 2226.72 1401.78 Q2223.2 1404.59 2216.72 1404.59 Q2214.55 1404.59 2212.23 1404.15 Q2209.94 1403.73 2207.49 1402.87 L2207.49 1398.36 Q2209.43 1399.49 2211.75 1400.07 Q2214.06 1400.65 2216.58 1400.65 Q2220.98 1400.65 2223.27 1398.91 Q2225.59 1397.18 2225.59 1393.87 Q2225.59 1390.81 2223.43 1389.1 Q2221.31 1387.36 2217.49 1387.36 L2213.46 1387.36 L2213.46 1383.52 L2217.67 1383.52 Q2221.12 1383.52 2222.95 1382.16 Q2224.78 1380.77 2224.78 1378.17 Q2224.78 1375.51 2222.88 1374.1 Q2221 1372.66 2217.49 1372.66 Q2215.56 1372.66 2213.37 1373.08 Q2211.17 1373.5 2208.53 1374.38 L2208.53 1370.21 Q2211.19 1369.47 2213.5 1369.1 Q2215.84 1368.73 2217.9 1368.73 Q2223.23 1368.73 2226.33 1371.16 Q2229.43 1373.57 2229.43 1377.69 Q2229.43 1380.56 2227.79 1382.55 Q2226.14 1384.52 2223.11 1385.28 Z\" fill=\"#000000\" fill-rule=\"evenodd\" fill-opacity=\"1\" /></svg>\n"
      ]
     },
     "execution_count": 114,
     "metadata": {},
     "output_type": "execute_result"
    }
   ],
   "source": [
    "xy = hcat(uhist...)\n",
    "plot(xy[1,:], xy[2,:], marker=:auto)\n",
    "circle = exp.(1im*LinRange(0, 2*pi, 50))\n",
    "plot!(real(circle), imag(circle))\n",
    "plot!(x -> x^2, xlims=(-2, 3), ylims=(-2, 2), axes=:equal, legend=:bottomright)"
   ]
  },
  {
   "cell_type": "markdown",
   "id": "a5ef3b6c",
   "metadata": {
    "slideshow": {
     "slide_type": "slide"
    }
   },
   "source": [
    "# Bratu problem\n",
    "\n",
    "$$-(u_x)_x - \\lambda e^{u}= 0$$"
   ]
  },
  {
   "cell_type": "code",
   "execution_count": 115,
   "id": "85a2304f",
   "metadata": {
    "cell_style": "split"
   },
   "outputs": [
    {
     "data": {
      "text/plain": [
       "bratu_f (generic function with 1 method)"
      ]
     },
     "execution_count": 115,
     "metadata": {},
     "output_type": "execute_result"
    }
   ],
   "source": [
    "function bratu_f(u; lambda=.5)\n",
    "    n = length(u)\n",
    "    h = 2 / (n - 1)\n",
    "    weights = -fdstencil([-h, 0, h], 0, 2)\n",
    "    u = copy(u)\n",
    "    f = copy(u)\n",
    "    u[1] = 0\n",
    "    u[n] = 1\n",
    "    f[n] -= 1\n",
    "    for i in 2:n-1\n",
    "        f[i] = weights * u[i-1:i+1] - lambda * exp(u[i])\n",
    "    end\n",
    "    f\n",
    "end"
   ]
  },
  {
   "cell_type": "code",
   "execution_count": 116,
   "id": "433e058c",
   "metadata": {
    "cell_style": "split"
   },
   "outputs": [
    {
     "data": {
      "text/plain": [
       "bratu_J (generic function with 1 method)"
      ]
     },
     "execution_count": 116,
     "metadata": {},
     "output_type": "execute_result"
    }
   ],
   "source": [
    "function bratu_J(u; lambda=.5)\n",
    "    n = length(u)\n",
    "    h = 2 / (n - 1)\n",
    "    weights = -fdstencil([-h, 0, h], 0, 2)\n",
    "    rows = [1, n]\n",
    "    cols = [1, n]\n",
    "    vals = [1., 1.] # diagonals entries (float)\n",
    "    for i in 2:n-1\n",
    "        append!(rows, [i,i,i])\n",
    "        append!(cols, i-1:i+1)\n",
    "        append!(vals, weights + [0 -lambda*exp(u[i]) 0])\n",
    "    end\n",
    "    sparse(rows, cols, vals)\n",
    "end"
   ]
  },
  {
   "cell_type": "markdown",
   "id": "741947a4",
   "metadata": {
    "slideshow": {
     "slide_type": "slide"
    }
   },
   "source": [
    "# Solving Bratu"
   ]
  },
  {
   "cell_type": "code",
   "execution_count": 117,
   "id": "e4df4c0a",
   "metadata": {
    "cell_style": "split"
   },
   "outputs": [
    {
     "data": {
      "image/svg+xml": [
       "<?xml version=\"1.0\" encoding=\"utf-8\"?>\n",
       "<svg xmlns=\"http://www.w3.org/2000/svg\" xmlns:xlink=\"http://www.w3.org/1999/xlink\" width=\"600\" height=\"400\" viewBox=\"0 0 2400 1600\">\n",
       "<defs>\n",
       "  <clipPath id=\"clip660\">\n",
       "    <rect x=\"0\" y=\"0\" width=\"2400\" height=\"1600\"/>\n",
       "  </clipPath>\n",
       "</defs>\n",
       "<path clip-path=\"url(#clip660)\" d=\"\n",
       "M0 1600 L2400 1600 L2400 0 L0 0  Z\n",
       "  \" fill=\"#ffffff\" fill-rule=\"evenodd\" fill-opacity=\"1\"/>\n",
       "<defs>\n",
       "  <clipPath id=\"clip661\">\n",
       "    <rect x=\"480\" y=\"0\" width=\"1681\" height=\"1600\"/>\n",
       "  </clipPath>\n",
       "</defs>\n",
       "<path clip-path=\"url(#clip660)\" d=\"\n",
       "M213.607 1486.45 L2352.76 1486.45 L2352.76 47.2441 L213.607 47.2441  Z\n",
       "  \" fill=\"#ffffff\" fill-rule=\"evenodd\" fill-opacity=\"1\"/>\n",
       "<defs>\n",
       "  <clipPath id=\"clip662\">\n",
       "    <rect x=\"213\" y=\"47\" width=\"2140\" height=\"1440\"/>\n",
       "  </clipPath>\n",
       "</defs>\n",
       "<polyline clip-path=\"url(#clip662)\" style=\"stroke:#000000; stroke-linecap:butt; stroke-linejoin:round; stroke-width:2; stroke-opacity:0.1; fill:none\" points=\"\n",
       "  699.005,1486.45 699.005,47.2441 \n",
       "  \"/>\n",
       "<polyline clip-path=\"url(#clip662)\" style=\"stroke:#000000; stroke-linecap:butt; stroke-linejoin:round; stroke-width:2; stroke-opacity:0.1; fill:none\" points=\"\n",
       "  1230.07,1486.45 1230.07,47.2441 \n",
       "  \"/>\n",
       "<polyline clip-path=\"url(#clip662)\" style=\"stroke:#000000; stroke-linecap:butt; stroke-linejoin:round; stroke-width:2; stroke-opacity:0.1; fill:none\" points=\"\n",
       "  1761.14,1486.45 1761.14,47.2441 \n",
       "  \"/>\n",
       "<polyline clip-path=\"url(#clip662)\" style=\"stroke:#000000; stroke-linecap:butt; stroke-linejoin:round; stroke-width:2; stroke-opacity:0.1; fill:none\" points=\"\n",
       "  2292.21,1486.45 2292.21,47.2441 \n",
       "  \"/>\n",
       "<polyline clip-path=\"url(#clip660)\" style=\"stroke:#000000; stroke-linecap:butt; stroke-linejoin:round; stroke-width:4; stroke-opacity:1; fill:none\" points=\"\n",
       "  213.607,1486.45 2352.76,1486.45 \n",
       "  \"/>\n",
       "<polyline clip-path=\"url(#clip660)\" style=\"stroke:#000000; stroke-linecap:butt; stroke-linejoin:round; stroke-width:4; stroke-opacity:1; fill:none\" points=\"\n",
       "  699.005,1486.45 699.005,1467.55 \n",
       "  \"/>\n",
       "<polyline clip-path=\"url(#clip660)\" style=\"stroke:#000000; stroke-linecap:butt; stroke-linejoin:round; stroke-width:4; stroke-opacity:1; fill:none\" points=\"\n",
       "  1230.07,1486.45 1230.07,1467.55 \n",
       "  \"/>\n",
       "<polyline clip-path=\"url(#clip660)\" style=\"stroke:#000000; stroke-linecap:butt; stroke-linejoin:round; stroke-width:4; stroke-opacity:1; fill:none\" points=\"\n",
       "  1761.14,1486.45 1761.14,1467.55 \n",
       "  \"/>\n",
       "<polyline clip-path=\"url(#clip660)\" style=\"stroke:#000000; stroke-linecap:butt; stroke-linejoin:round; stroke-width:4; stroke-opacity:1; fill:none\" points=\"\n",
       "  2292.21,1486.45 2292.21,1467.55 \n",
       "  \"/>\n",
       "<path clip-path=\"url(#clip660)\" d=\"M689.283 1512.56 L707.639 1512.56 L707.639 1516.5 L693.565 1516.5 L693.565 1524.97 Q694.584 1524.62 695.602 1524.46 Q696.621 1524.27 697.639 1524.27 Q703.426 1524.27 706.806 1527.44 Q710.186 1530.62 710.186 1536.03 Q710.186 1541.61 706.713 1544.71 Q703.241 1547.79 696.922 1547.79 Q694.746 1547.79 692.477 1547.42 Q690.232 1547.05 687.825 1546.31 L687.825 1541.61 Q689.908 1542.74 692.13 1543.3 Q694.352 1543.86 696.829 1543.86 Q700.834 1543.86 703.172 1541.75 Q705.51 1539.64 705.51 1536.03 Q705.51 1532.42 703.172 1530.31 Q700.834 1528.21 696.829 1528.21 Q694.954 1528.21 693.079 1528.62 Q691.227 1529.04 689.283 1529.92 L689.283 1512.56 Z\" fill=\"#000000\" fill-rule=\"evenodd\" fill-opacity=\"1\" /><path clip-path=\"url(#clip660)\" d=\"M1204.76 1543.18 L1212.4 1543.18 L1212.4 1516.82 L1204.09 1518.49 L1204.09 1514.23 L1212.35 1512.56 L1217.03 1512.56 L1217.03 1543.18 L1224.67 1543.18 L1224.67 1547.12 L1204.76 1547.12 L1204.76 1543.18 Z\" fill=\"#000000\" fill-rule=\"evenodd\" fill-opacity=\"1\" /><path clip-path=\"url(#clip660)\" d=\"M1244.11 1515.64 Q1240.5 1515.64 1238.67 1519.2 Q1236.87 1522.75 1236.87 1529.87 Q1236.87 1536.98 1238.67 1540.55 Q1240.5 1544.09 1244.11 1544.09 Q1247.75 1544.09 1249.55 1540.55 Q1251.38 1536.98 1251.38 1529.87 Q1251.38 1522.75 1249.55 1519.2 Q1247.75 1515.64 1244.11 1515.64 M1244.11 1511.93 Q1249.92 1511.93 1252.98 1516.54 Q1256.06 1521.12 1256.06 1529.87 Q1256.06 1538.6 1252.98 1543.21 Q1249.92 1547.79 1244.11 1547.79 Q1238.3 1547.79 1235.23 1543.21 Q1232.17 1538.6 1232.17 1529.87 Q1232.17 1521.12 1235.23 1516.54 Q1238.3 1511.93 1244.11 1511.93 Z\" fill=\"#000000\" fill-rule=\"evenodd\" fill-opacity=\"1\" /><path clip-path=\"url(#clip660)\" d=\"M1736.33 1543.18 L1743.97 1543.18 L1743.97 1516.82 L1735.66 1518.49 L1735.66 1514.23 L1743.92 1512.56 L1748.6 1512.56 L1748.6 1543.18 L1756.24 1543.18 L1756.24 1547.12 L1736.33 1547.12 L1736.33 1543.18 Z\" fill=\"#000000\" fill-rule=\"evenodd\" fill-opacity=\"1\" /><path clip-path=\"url(#clip660)\" d=\"M1765.73 1512.56 L1784.08 1512.56 L1784.08 1516.5 L1770.01 1516.5 L1770.01 1524.97 Q1771.03 1524.62 1772.05 1524.46 Q1773.07 1524.27 1774.08 1524.27 Q1779.87 1524.27 1783.25 1527.44 Q1786.63 1530.62 1786.63 1536.03 Q1786.63 1541.61 1783.16 1544.71 Q1779.69 1547.79 1773.37 1547.79 Q1771.19 1547.79 1768.92 1547.42 Q1766.68 1547.05 1764.27 1546.31 L1764.27 1541.61 Q1766.35 1542.74 1768.57 1543.3 Q1770.8 1543.86 1773.27 1543.86 Q1777.28 1543.86 1779.62 1541.75 Q1781.95 1539.64 1781.95 1536.03 Q1781.95 1532.42 1779.62 1530.31 Q1777.28 1528.21 1773.27 1528.21 Q1771.4 1528.21 1769.52 1528.62 Q1767.67 1529.04 1765.73 1529.92 L1765.73 1512.56 Z\" fill=\"#000000\" fill-rule=\"evenodd\" fill-opacity=\"1\" /><path clip-path=\"url(#clip660)\" d=\"M2270.99 1543.18 L2287.31 1543.18 L2287.31 1547.12 L2265.36 1547.12 L2265.36 1543.18 Q2268.02 1540.43 2272.61 1535.8 Q2277.21 1531.15 2278.39 1529.81 Q2280.64 1527.28 2281.52 1525.55 Q2282.42 1523.79 2282.42 1522.1 Q2282.42 1519.34 2280.48 1517.61 Q2278.56 1515.87 2275.45 1515.87 Q2273.26 1515.87 2270.8 1516.63 Q2268.37 1517.4 2265.59 1518.95 L2265.59 1514.23 Q2268.42 1513.09 2270.87 1512.51 Q2273.33 1511.93 2275.36 1511.93 Q2280.73 1511.93 2283.93 1514.62 Q2287.12 1517.31 2287.12 1521.8 Q2287.12 1523.93 2286.31 1525.85 Q2285.52 1527.74 2283.42 1530.34 Q2282.84 1531.01 2279.74 1534.23 Q2276.64 1537.42 2270.99 1543.18 Z\" fill=\"#000000\" fill-rule=\"evenodd\" fill-opacity=\"1\" /><path clip-path=\"url(#clip660)\" d=\"M2307.12 1515.64 Q2303.51 1515.64 2301.68 1519.2 Q2299.88 1522.75 2299.88 1529.87 Q2299.88 1536.98 2301.68 1540.55 Q2303.51 1544.09 2307.12 1544.09 Q2310.76 1544.09 2312.56 1540.55 Q2314.39 1536.98 2314.39 1529.87 Q2314.39 1522.75 2312.56 1519.2 Q2310.76 1515.64 2307.12 1515.64 M2307.12 1511.93 Q2312.93 1511.93 2315.99 1516.54 Q2319.07 1521.12 2319.07 1529.87 Q2319.07 1538.6 2315.99 1543.21 Q2312.93 1547.79 2307.12 1547.79 Q2301.31 1547.79 2298.23 1543.21 Q2295.18 1538.6 2295.18 1529.87 Q2295.18 1521.12 2298.23 1516.54 Q2301.31 1511.93 2307.12 1511.93 Z\" fill=\"#000000\" fill-rule=\"evenodd\" fill-opacity=\"1\" /><polyline clip-path=\"url(#clip662)\" style=\"stroke:#000000; stroke-linecap:butt; stroke-linejoin:round; stroke-width:2; stroke-opacity:0.1; fill:none\" points=\"\n",
       "  213.607,1136.46 2352.76,1136.46 \n",
       "  \"/>\n",
       "<polyline clip-path=\"url(#clip662)\" style=\"stroke:#000000; stroke-linecap:butt; stroke-linejoin:round; stroke-width:2; stroke-opacity:0.1; fill:none\" points=\"\n",
       "  213.607,640.735 2352.76,640.735 \n",
       "  \"/>\n",
       "<polyline clip-path=\"url(#clip662)\" style=\"stroke:#000000; stroke-linecap:butt; stroke-linejoin:round; stroke-width:2; stroke-opacity:0.1; fill:none\" points=\"\n",
       "  213.607,145.006 2352.76,145.006 \n",
       "  \"/>\n",
       "<polyline clip-path=\"url(#clip660)\" style=\"stroke:#000000; stroke-linecap:butt; stroke-linejoin:round; stroke-width:4; stroke-opacity:1; fill:none\" points=\"\n",
       "  213.607,1486.45 213.607,47.2441 \n",
       "  \"/>\n",
       "<polyline clip-path=\"url(#clip660)\" style=\"stroke:#000000; stroke-linecap:butt; stroke-linejoin:round; stroke-width:4; stroke-opacity:1; fill:none\" points=\"\n",
       "  213.607,1136.46 232.505,1136.46 \n",
       "  \"/>\n",
       "<polyline clip-path=\"url(#clip660)\" style=\"stroke:#000000; stroke-linecap:butt; stroke-linejoin:round; stroke-width:4; stroke-opacity:1; fill:none\" points=\"\n",
       "  213.607,640.735 232.505,640.735 \n",
       "  \"/>\n",
       "<polyline clip-path=\"url(#clip660)\" style=\"stroke:#000000; stroke-linecap:butt; stroke-linejoin:round; stroke-width:4; stroke-opacity:1; fill:none\" points=\"\n",
       "  213.607,145.006 232.505,145.006 \n",
       "  \"/>\n",
       "<path clip-path=\"url(#clip660)\" d=\"M51.6634 1156.26 L59.3023 1156.26 L59.3023 1129.89 L50.9921 1131.56 L50.9921 1127.3 L59.256 1125.63 L63.9319 1125.63 L63.9319 1156.26 L71.5707 1156.26 L71.5707 1160.19 L51.6634 1160.19 L51.6634 1156.26 Z\" fill=\"#000000\" fill-rule=\"evenodd\" fill-opacity=\"1\" /><path clip-path=\"url(#clip660)\" d=\"M91.0151 1128.71 Q87.404 1128.71 85.5753 1132.28 Q83.7697 1135.82 83.7697 1142.95 Q83.7697 1150.05 85.5753 1153.62 Q87.404 1157.16 91.0151 1157.16 Q94.6493 1157.16 96.4548 1153.62 Q98.2835 1150.05 98.2835 1142.95 Q98.2835 1135.82 96.4548 1132.28 Q94.6493 1128.71 91.0151 1128.71 M91.0151 1125.01 Q96.8252 1125.01 99.8808 1129.61 Q102.959 1134.2 102.959 1142.95 Q102.959 1151.67 99.8808 1156.28 Q96.8252 1160.86 91.0151 1160.86 Q85.2049 1160.86 82.1262 1156.28 Q79.0707 1151.67 79.0707 1142.95 Q79.0707 1134.2 82.1262 1129.61 Q85.2049 1125.01 91.0151 1125.01 Z\" fill=\"#000000\" fill-rule=\"evenodd\" fill-opacity=\"1\" /><path clip-path=\"url(#clip660)\" d=\"M102.959 1119.11 L127.071 1119.11 L127.071 1122.31 L102.959 1122.31 L102.959 1119.11 Z\" fill=\"#000000\" fill-rule=\"evenodd\" fill-opacity=\"1\" /><path clip-path=\"url(#clip660)\" d=\"M135.929 1129.58 L142.136 1129.58 L142.136 1108.16 L135.384 1109.52 L135.384 1106.06 L142.098 1104.7 L145.898 1104.7 L145.898 1129.58 L152.104 1129.58 L152.104 1132.78 L135.929 1132.78 L135.929 1129.58 Z\" fill=\"#000000\" fill-rule=\"evenodd\" fill-opacity=\"1\" /><path clip-path=\"url(#clip660)\" d=\"M167.903 1107.2 Q164.969 1107.2 163.483 1110.1 Q162.016 1112.98 162.016 1118.77 Q162.016 1124.54 163.483 1127.44 Q164.969 1130.32 167.903 1130.32 Q170.855 1130.32 172.322 1127.44 Q173.808 1124.54 173.808 1118.77 Q173.808 1112.98 172.322 1110.1 Q170.855 1107.2 167.903 1107.2 M167.903 1104.19 Q172.623 1104.19 175.106 1107.94 Q177.607 1111.66 177.607 1118.77 Q177.607 1125.86 175.106 1129.6 Q172.623 1133.33 167.903 1133.33 Q163.182 1133.33 160.68 1129.6 Q158.198 1125.86 158.198 1118.77 Q158.198 1111.66 160.68 1107.94 Q163.182 1104.19 167.903 1104.19 Z\" fill=\"#000000\" fill-rule=\"evenodd\" fill-opacity=\"1\" /><path clip-path=\"url(#clip660)\" d=\"M76.9787 660.528 L84.6175 660.528 L84.6175 634.162 L76.3074 635.829 L76.3074 631.57 L84.5712 629.903 L89.2471 629.903 L89.2471 660.528 L96.886 660.528 L96.886 664.463 L76.9787 664.463 L76.9787 660.528 Z\" fill=\"#000000\" fill-rule=\"evenodd\" fill-opacity=\"1\" /><path clip-path=\"url(#clip660)\" d=\"M116.33 632.982 Q112.719 632.982 110.891 636.546 Q109.085 640.088 109.085 647.218 Q109.085 654.324 110.891 657.889 Q112.719 661.431 116.33 661.431 Q119.965 661.431 121.77 657.889 Q123.599 654.324 123.599 647.218 Q123.599 640.088 121.77 636.546 Q119.965 632.982 116.33 632.982 M116.33 629.278 Q122.14 629.278 125.196 633.884 Q128.275 638.468 128.275 647.218 Q128.275 655.945 125.196 660.551 Q122.14 665.134 116.33 665.134 Q110.52 665.134 107.441 660.551 Q104.386 655.945 104.386 647.218 Q104.386 638.468 107.441 633.884 Q110.52 629.278 116.33 629.278 Z\" fill=\"#000000\" fill-rule=\"evenodd\" fill-opacity=\"1\" /><path clip-path=\"url(#clip660)\" d=\"M128.275 623.379 L152.386 623.379 L152.386 626.577 L128.275 626.577 L128.275 623.379 Z\" fill=\"#000000\" fill-rule=\"evenodd\" fill-opacity=\"1\" /><path clip-path=\"url(#clip660)\" d=\"M160.624 608.973 L175.539 608.973 L175.539 612.17 L164.103 612.17 L164.103 619.054 Q164.931 618.771 165.759 618.64 Q166.586 618.489 167.414 618.489 Q172.116 618.489 174.862 621.066 Q177.607 623.643 177.607 628.044 Q177.607 632.576 174.786 635.097 Q171.965 637.598 166.831 637.598 Q165.063 637.598 163.22 637.297 Q161.395 636.996 159.439 636.394 L159.439 632.576 Q161.132 633.498 162.937 633.949 Q164.743 634.401 166.755 634.401 Q170.009 634.401 171.909 632.689 Q173.808 630.978 173.808 628.044 Q173.808 625.11 171.909 623.398 Q170.009 621.687 166.755 621.687 Q165.232 621.687 163.709 622.025 Q162.204 622.364 160.624 623.078 L160.624 608.973 Z\" fill=\"#000000\" fill-rule=\"evenodd\" fill-opacity=\"1\" /><path clip-path=\"url(#clip660)\" d=\"M106.902 164.799 L114.541 164.799 L114.541 138.433 L106.231 140.1 L106.231 135.841 L114.494 134.174 L119.17 134.174 L119.17 164.799 L126.809 164.799 L126.809 168.734 L106.902 168.734 L106.902 164.799 Z\" fill=\"#000000\" fill-rule=\"evenodd\" fill-opacity=\"1\" /><path clip-path=\"url(#clip660)\" d=\"M146.253 137.253 Q142.642 137.253 140.814 140.818 Q139.008 144.359 139.008 151.489 Q139.008 158.595 140.814 162.16 Q142.642 165.702 146.253 165.702 Q149.888 165.702 151.693 162.16 Q153.522 158.595 153.522 151.489 Q153.522 144.359 151.693 140.818 Q149.888 137.253 146.253 137.253 M146.253 133.549 Q152.064 133.549 155.119 138.156 Q158.198 142.739 158.198 151.489 Q158.198 160.216 155.119 164.822 Q152.064 169.405 146.253 169.405 Q140.443 169.405 137.365 164.822 Q134.309 160.216 134.309 151.489 Q134.309 142.739 137.365 138.156 Q140.443 133.549 146.253 133.549 Z\" fill=\"#000000\" fill-rule=\"evenodd\" fill-opacity=\"1\" /><path clip-path=\"url(#clip660)\" d=\"M167.903 115.745 Q164.969 115.745 163.483 118.641 Q162.016 121.519 162.016 127.312 Q162.016 133.086 163.483 135.982 Q164.969 138.86 167.903 138.86 Q170.855 138.86 172.322 135.982 Q173.808 133.086 173.808 127.312 Q173.808 121.519 172.322 118.641 Q170.855 115.745 167.903 115.745 M167.903 112.736 Q172.623 112.736 175.106 116.479 Q177.607 120.203 177.607 127.312 Q177.607 134.402 175.106 138.145 Q172.623 141.869 167.903 141.869 Q163.182 141.869 160.68 138.145 Q158.198 134.402 158.198 127.312 Q158.198 120.203 160.68 116.479 Q163.182 112.736 167.903 112.736 Z\" fill=\"#000000\" fill-rule=\"evenodd\" fill-opacity=\"1\" /><polyline clip-path=\"url(#clip662)\" style=\"stroke:#009af9; stroke-linecap:butt; stroke-linejoin:round; stroke-width:4; stroke-opacity:1; fill:none\" points=\"\n",
       "  274.149,87.9763 380.363,165.465 486.577,247.901 592.791,377.702 699.005,627.653 805.219,1127.07 911.433,1424.34 1017.65,1443.18 1123.86,1429.07 1230.07,1442.21 \n",
       "  1336.29,1430.31 1442.5,1442.69 1548.72,1441.81 1654.93,1439.69 1761.14,1438.36 1867.36,1445.72 1973.57,1420.75 2079.79,1436.26 2186,1440.27 2292.21,1429.93 \n",
       "  \n",
       "  \"/>\n",
       "<circle clip-path=\"url(#clip662)\" cx=\"274.149\" cy=\"87.9763\" r=\"14\" fill=\"#009af9\" fill-rule=\"evenodd\" fill-opacity=\"1\" stroke=\"#000000\" stroke-opacity=\"1\" stroke-width=\"3.2\"/>\n",
       "<circle clip-path=\"url(#clip662)\" cx=\"380.363\" cy=\"165.465\" r=\"14\" fill=\"#009af9\" fill-rule=\"evenodd\" fill-opacity=\"1\" stroke=\"#000000\" stroke-opacity=\"1\" stroke-width=\"3.2\"/>\n",
       "<circle clip-path=\"url(#clip662)\" cx=\"486.577\" cy=\"247.901\" r=\"14\" fill=\"#009af9\" fill-rule=\"evenodd\" fill-opacity=\"1\" stroke=\"#000000\" stroke-opacity=\"1\" stroke-width=\"3.2\"/>\n",
       "<circle clip-path=\"url(#clip662)\" cx=\"592.791\" cy=\"377.702\" r=\"14\" fill=\"#009af9\" fill-rule=\"evenodd\" fill-opacity=\"1\" stroke=\"#000000\" stroke-opacity=\"1\" stroke-width=\"3.2\"/>\n",
       "<circle clip-path=\"url(#clip662)\" cx=\"699.005\" cy=\"627.653\" r=\"14\" fill=\"#009af9\" fill-rule=\"evenodd\" fill-opacity=\"1\" stroke=\"#000000\" stroke-opacity=\"1\" stroke-width=\"3.2\"/>\n",
       "<circle clip-path=\"url(#clip662)\" cx=\"805.219\" cy=\"1127.07\" r=\"14\" fill=\"#009af9\" fill-rule=\"evenodd\" fill-opacity=\"1\" stroke=\"#000000\" stroke-opacity=\"1\" stroke-width=\"3.2\"/>\n",
       "<circle clip-path=\"url(#clip662)\" cx=\"911.433\" cy=\"1424.34\" r=\"14\" fill=\"#009af9\" fill-rule=\"evenodd\" fill-opacity=\"1\" stroke=\"#000000\" stroke-opacity=\"1\" stroke-width=\"3.2\"/>\n",
       "<circle clip-path=\"url(#clip662)\" cx=\"1017.65\" cy=\"1443.18\" r=\"14\" fill=\"#009af9\" fill-rule=\"evenodd\" fill-opacity=\"1\" stroke=\"#000000\" stroke-opacity=\"1\" stroke-width=\"3.2\"/>\n",
       "<circle clip-path=\"url(#clip662)\" cx=\"1123.86\" cy=\"1429.07\" r=\"14\" fill=\"#009af9\" fill-rule=\"evenodd\" fill-opacity=\"1\" stroke=\"#000000\" stroke-opacity=\"1\" stroke-width=\"3.2\"/>\n",
       "<circle clip-path=\"url(#clip662)\" cx=\"1230.07\" cy=\"1442.21\" r=\"14\" fill=\"#009af9\" fill-rule=\"evenodd\" fill-opacity=\"1\" stroke=\"#000000\" stroke-opacity=\"1\" stroke-width=\"3.2\"/>\n",
       "<circle clip-path=\"url(#clip662)\" cx=\"1336.29\" cy=\"1430.31\" r=\"14\" fill=\"#009af9\" fill-rule=\"evenodd\" fill-opacity=\"1\" stroke=\"#000000\" stroke-opacity=\"1\" stroke-width=\"3.2\"/>\n",
       "<circle clip-path=\"url(#clip662)\" cx=\"1442.5\" cy=\"1442.69\" r=\"14\" fill=\"#009af9\" fill-rule=\"evenodd\" fill-opacity=\"1\" stroke=\"#000000\" stroke-opacity=\"1\" stroke-width=\"3.2\"/>\n",
       "<circle clip-path=\"url(#clip662)\" cx=\"1548.72\" cy=\"1441.81\" r=\"14\" fill=\"#009af9\" fill-rule=\"evenodd\" fill-opacity=\"1\" stroke=\"#000000\" stroke-opacity=\"1\" stroke-width=\"3.2\"/>\n",
       "<circle clip-path=\"url(#clip662)\" cx=\"1654.93\" cy=\"1439.69\" r=\"14\" fill=\"#009af9\" fill-rule=\"evenodd\" fill-opacity=\"1\" stroke=\"#000000\" stroke-opacity=\"1\" stroke-width=\"3.2\"/>\n",
       "<circle clip-path=\"url(#clip662)\" cx=\"1761.14\" cy=\"1438.36\" r=\"14\" fill=\"#009af9\" fill-rule=\"evenodd\" fill-opacity=\"1\" stroke=\"#000000\" stroke-opacity=\"1\" stroke-width=\"3.2\"/>\n",
       "<circle clip-path=\"url(#clip662)\" cx=\"1867.36\" cy=\"1445.72\" r=\"14\" fill=\"#009af9\" fill-rule=\"evenodd\" fill-opacity=\"1\" stroke=\"#000000\" stroke-opacity=\"1\" stroke-width=\"3.2\"/>\n",
       "<circle clip-path=\"url(#clip662)\" cx=\"1973.57\" cy=\"1420.75\" r=\"14\" fill=\"#009af9\" fill-rule=\"evenodd\" fill-opacity=\"1\" stroke=\"#000000\" stroke-opacity=\"1\" stroke-width=\"3.2\"/>\n",
       "<circle clip-path=\"url(#clip662)\" cx=\"2079.79\" cy=\"1436.26\" r=\"14\" fill=\"#009af9\" fill-rule=\"evenodd\" fill-opacity=\"1\" stroke=\"#000000\" stroke-opacity=\"1\" stroke-width=\"3.2\"/>\n",
       "<circle clip-path=\"url(#clip662)\" cx=\"2186\" cy=\"1440.27\" r=\"14\" fill=\"#009af9\" fill-rule=\"evenodd\" fill-opacity=\"1\" stroke=\"#000000\" stroke-opacity=\"1\" stroke-width=\"3.2\"/>\n",
       "<circle clip-path=\"url(#clip662)\" cx=\"2292.21\" cy=\"1429.93\" r=\"14\" fill=\"#009af9\" fill-rule=\"evenodd\" fill-opacity=\"1\" stroke=\"#000000\" stroke-opacity=\"1\" stroke-width=\"3.2\"/>\n",
       "<path clip-path=\"url(#clip660)\" d=\"\n",
       "M1991.34 198.898 L2281.45 198.898 L2281.45 95.2176 L1991.34 95.2176  Z\n",
       "  \" fill=\"#ffffff\" fill-rule=\"evenodd\" fill-opacity=\"1\"/>\n",
       "<polyline clip-path=\"url(#clip660)\" style=\"stroke:#000000; stroke-linecap:butt; stroke-linejoin:round; stroke-width:4; stroke-opacity:1; fill:none\" points=\"\n",
       "  1991.34,198.898 2281.45,198.898 2281.45,95.2176 1991.34,95.2176 1991.34,198.898 \n",
       "  \"/>\n",
       "<polyline clip-path=\"url(#clip660)\" style=\"stroke:#009af9; stroke-linecap:butt; stroke-linejoin:round; stroke-width:4; stroke-opacity:1; fill:none\" points=\"\n",
       "  2015.11,147.058 2157.72,147.058 \n",
       "  \"/>\n",
       "<circle clip-path=\"url(#clip660)\" cx=\"2086.41\" cy=\"147.058\" r=\"23\" fill=\"#009af9\" fill-rule=\"evenodd\" fill-opacity=\"1\" stroke=\"#000000\" stroke-opacity=\"1\" stroke-width=\"5.12\"/>\n",
       "<path clip-path=\"url(#clip660)\" d=\"M2195.33 166.745 Q2193.52 171.375 2191.81 172.787 Q2190.1 174.199 2187.22 174.199 L2183.82 174.199 L2183.82 170.634 L2186.32 170.634 Q2188.08 170.634 2189.05 169.8 Q2190.03 168.967 2191.21 165.865 L2191.97 163.921 L2181.48 138.412 L2186 138.412 L2194.1 158.689 L2202.2 138.412 L2206.72 138.412 L2195.33 166.745 Z\" fill=\"#000000\" fill-rule=\"evenodd\" fill-opacity=\"1\" /><path clip-path=\"url(#clip660)\" d=\"M2214.01 160.402 L2221.65 160.402 L2221.65 134.037 L2213.34 135.703 L2213.34 131.444 L2221.6 129.778 L2226.28 129.778 L2226.28 160.402 L2233.91 160.402 L2233.91 164.338 L2214.01 164.338 L2214.01 160.402 Z\" fill=\"#000000\" fill-rule=\"evenodd\" fill-opacity=\"1\" /></svg>\n"
      ]
     },
     "execution_count": 117,
     "metadata": {},
     "output_type": "execute_result"
    }
   ],
   "source": [
    "n = 20\n",
    "x = collect(LinRange(-1., 1, n))\n",
    "u0 = (1 .+ x) ./ 2\n",
    "uhist, normhist = newton(bratu_f, bratu_J, u0);\n",
    "\n",
    "plot(normhist, marker=:auto, yscale=:log10)"
   ]
  },
  {
   "cell_type": "code",
   "execution_count": 88,
   "id": "6ee09e73",
   "metadata": {
    "cell_style": "split"
   },
   "outputs": [
    {
     "data": {
      "image/svg+xml": [
       "<?xml version=\"1.0\" encoding=\"utf-8\"?>\n",
       "<svg xmlns=\"http://www.w3.org/2000/svg\" xmlns:xlink=\"http://www.w3.org/1999/xlink\" width=\"600\" height=\"400\" viewBox=\"0 0 2400 1600\">\n",
       "<defs>\n",
       "  <clipPath id=\"clip180\">\n",
       "    <rect x=\"0\" y=\"0\" width=\"2400\" height=\"1600\"/>\n",
       "  </clipPath>\n",
       "</defs>\n",
       "<path clip-path=\"url(#clip180)\" d=\"\n",
       "M0 1600 L2400 1600 L2400 0 L0 0  Z\n",
       "  \" fill=\"#ffffff\" fill-rule=\"evenodd\" fill-opacity=\"1\"/>\n",
       "<defs>\n",
       "  <clipPath id=\"clip181\">\n",
       "    <rect x=\"480\" y=\"0\" width=\"1681\" height=\"1600\"/>\n",
       "  </clipPath>\n",
       "</defs>\n",
       "<path clip-path=\"url(#clip180)\" d=\"\n",
       "M156.112 1486.45 L2352.76 1486.45 L2352.76 47.2441 L156.112 47.2441  Z\n",
       "  \" fill=\"#ffffff\" fill-rule=\"evenodd\" fill-opacity=\"1\"/>\n",
       "<defs>\n",
       "  <clipPath id=\"clip182\">\n",
       "    <rect x=\"156\" y=\"47\" width=\"2198\" height=\"1440\"/>\n",
       "  </clipPath>\n",
       "</defs>\n",
       "<polyline clip-path=\"url(#clip182)\" style=\"stroke:#000000; stroke-linecap:butt; stroke-linejoin:round; stroke-width:2; stroke-opacity:0.1; fill:none\" points=\"\n",
       "  218.281,1486.45 218.281,47.2441 \n",
       "  \"/>\n",
       "<polyline clip-path=\"url(#clip182)\" style=\"stroke:#000000; stroke-linecap:butt; stroke-linejoin:round; stroke-width:2; stroke-opacity:0.1; fill:none\" points=\"\n",
       "  736.358,1486.45 736.358,47.2441 \n",
       "  \"/>\n",
       "<polyline clip-path=\"url(#clip182)\" style=\"stroke:#000000; stroke-linecap:butt; stroke-linejoin:round; stroke-width:2; stroke-opacity:0.1; fill:none\" points=\"\n",
       "  1254.43,1486.45 1254.43,47.2441 \n",
       "  \"/>\n",
       "<polyline clip-path=\"url(#clip182)\" style=\"stroke:#000000; stroke-linecap:butt; stroke-linejoin:round; stroke-width:2; stroke-opacity:0.1; fill:none\" points=\"\n",
       "  1772.51,1486.45 1772.51,47.2441 \n",
       "  \"/>\n",
       "<polyline clip-path=\"url(#clip182)\" style=\"stroke:#000000; stroke-linecap:butt; stroke-linejoin:round; stroke-width:2; stroke-opacity:0.1; fill:none\" points=\"\n",
       "  2290.59,1486.45 2290.59,47.2441 \n",
       "  \"/>\n",
       "<polyline clip-path=\"url(#clip180)\" style=\"stroke:#000000; stroke-linecap:butt; stroke-linejoin:round; stroke-width:4; stroke-opacity:1; fill:none\" points=\"\n",
       "  156.112,1486.45 2352.76,1486.45 \n",
       "  \"/>\n",
       "<polyline clip-path=\"url(#clip180)\" style=\"stroke:#000000; stroke-linecap:butt; stroke-linejoin:round; stroke-width:4; stroke-opacity:1; fill:none\" points=\"\n",
       "  218.281,1486.45 218.281,1467.55 \n",
       "  \"/>\n",
       "<polyline clip-path=\"url(#clip180)\" style=\"stroke:#000000; stroke-linecap:butt; stroke-linejoin:round; stroke-width:4; stroke-opacity:1; fill:none\" points=\"\n",
       "  736.358,1486.45 736.358,1467.55 \n",
       "  \"/>\n",
       "<polyline clip-path=\"url(#clip180)\" style=\"stroke:#000000; stroke-linecap:butt; stroke-linejoin:round; stroke-width:4; stroke-opacity:1; fill:none\" points=\"\n",
       "  1254.43,1486.45 1254.43,1467.55 \n",
       "  \"/>\n",
       "<polyline clip-path=\"url(#clip180)\" style=\"stroke:#000000; stroke-linecap:butt; stroke-linejoin:round; stroke-width:4; stroke-opacity:1; fill:none\" points=\"\n",
       "  1772.51,1486.45 1772.51,1467.55 \n",
       "  \"/>\n",
       "<polyline clip-path=\"url(#clip180)\" style=\"stroke:#000000; stroke-linecap:butt; stroke-linejoin:round; stroke-width:4; stroke-opacity:1; fill:none\" points=\"\n",
       "  2290.59,1486.45 2290.59,1467.55 \n",
       "  \"/>\n",
       "<path clip-path=\"url(#clip180)\" d=\"M164.809 1530.29 L194.485 1530.29 L194.485 1534.23 L164.809 1534.23 L164.809 1530.29 Z\" fill=\"#000000\" fill-rule=\"evenodd\" fill-opacity=\"1\" /><path clip-path=\"url(#clip180)\" d=\"M205.388 1543.18 L213.027 1543.18 L213.027 1516.82 L204.717 1518.49 L204.717 1514.23 L212.98 1512.56 L217.656 1512.56 L217.656 1543.18 L225.295 1543.18 L225.295 1547.12 L205.388 1547.12 L205.388 1543.18 Z\" fill=\"#000000\" fill-rule=\"evenodd\" fill-opacity=\"1\" /><path clip-path=\"url(#clip180)\" d=\"M234.74 1541.24 L239.624 1541.24 L239.624 1547.12 L234.74 1547.12 L234.74 1541.24 Z\" fill=\"#000000\" fill-rule=\"evenodd\" fill-opacity=\"1\" /><path clip-path=\"url(#clip180)\" d=\"M259.809 1515.64 Q256.198 1515.64 254.369 1519.2 Q252.564 1522.75 252.564 1529.87 Q252.564 1536.98 254.369 1540.55 Q256.198 1544.09 259.809 1544.09 Q263.443 1544.09 265.249 1540.55 Q267.077 1536.98 267.077 1529.87 Q267.077 1522.75 265.249 1519.2 Q263.443 1515.64 259.809 1515.64 M259.809 1511.93 Q265.619 1511.93 268.675 1516.54 Q271.753 1521.12 271.753 1529.87 Q271.753 1538.6 268.675 1543.21 Q265.619 1547.79 259.809 1547.79 Q253.999 1547.79 250.92 1543.21 Q247.864 1538.6 247.864 1529.87 Q247.864 1521.12 250.92 1516.54 Q253.999 1511.93 259.809 1511.93 Z\" fill=\"#000000\" fill-rule=\"evenodd\" fill-opacity=\"1\" /><path clip-path=\"url(#clip180)\" d=\"M683.383 1530.29 L713.059 1530.29 L713.059 1534.23 L683.383 1534.23 L683.383 1530.29 Z\" fill=\"#000000\" fill-rule=\"evenodd\" fill-opacity=\"1\" /><path clip-path=\"url(#clip180)\" d=\"M733.152 1515.64 Q729.541 1515.64 727.712 1519.2 Q725.906 1522.75 725.906 1529.87 Q725.906 1536.98 727.712 1540.55 Q729.541 1544.09 733.152 1544.09 Q736.786 1544.09 738.591 1540.55 Q740.42 1536.98 740.42 1529.87 Q740.42 1522.75 738.591 1519.2 Q736.786 1515.64 733.152 1515.64 M733.152 1511.93 Q738.962 1511.93 742.017 1516.54 Q745.096 1521.12 745.096 1529.87 Q745.096 1538.6 742.017 1543.21 Q738.962 1547.79 733.152 1547.79 Q727.341 1547.79 724.263 1543.21 Q721.207 1538.6 721.207 1529.87 Q721.207 1521.12 724.263 1516.54 Q727.341 1511.93 733.152 1511.93 Z\" fill=\"#000000\" fill-rule=\"evenodd\" fill-opacity=\"1\" /><path clip-path=\"url(#clip180)\" d=\"M753.314 1541.24 L758.198 1541.24 L758.198 1547.12 L753.314 1547.12 L753.314 1541.24 Z\" fill=\"#000000\" fill-rule=\"evenodd\" fill-opacity=\"1\" /><path clip-path=\"url(#clip180)\" d=\"M768.429 1512.56 L786.786 1512.56 L786.786 1516.5 L772.712 1516.5 L772.712 1524.97 Q773.73 1524.62 774.749 1524.46 Q775.767 1524.27 776.786 1524.27 Q782.573 1524.27 785.952 1527.44 Q789.332 1530.62 789.332 1536.03 Q789.332 1541.61 785.86 1544.71 Q782.387 1547.79 776.068 1547.79 Q773.892 1547.79 771.624 1547.42 Q769.378 1547.05 766.971 1546.31 L766.971 1541.61 Q769.054 1542.74 771.276 1543.3 Q773.499 1543.86 775.975 1543.86 Q779.98 1543.86 782.318 1541.75 Q784.656 1539.64 784.656 1536.03 Q784.656 1532.42 782.318 1530.31 Q779.98 1528.21 775.975 1528.21 Q774.101 1528.21 772.226 1528.62 Q770.374 1529.04 768.429 1529.92 L768.429 1512.56 Z\" fill=\"#000000\" fill-rule=\"evenodd\" fill-opacity=\"1\" /><path clip-path=\"url(#clip180)\" d=\"M1231.82 1515.64 Q1228.21 1515.64 1226.38 1519.2 Q1224.57 1522.75 1224.57 1529.87 Q1224.57 1536.98 1226.38 1540.55 Q1228.21 1544.09 1231.82 1544.09 Q1235.45 1544.09 1237.26 1540.55 Q1239.09 1536.98 1239.09 1529.87 Q1239.09 1522.75 1237.26 1519.2 Q1235.45 1515.64 1231.82 1515.64 M1231.82 1511.93 Q1237.63 1511.93 1240.68 1516.54 Q1243.76 1521.12 1243.76 1529.87 Q1243.76 1538.6 1240.68 1543.21 Q1237.63 1547.79 1231.82 1547.79 Q1226.01 1547.79 1222.93 1543.21 Q1219.87 1538.6 1219.87 1529.87 Q1219.87 1521.12 1222.93 1516.54 Q1226.01 1511.93 1231.82 1511.93 Z\" fill=\"#000000\" fill-rule=\"evenodd\" fill-opacity=\"1\" /><path clip-path=\"url(#clip180)\" d=\"M1251.98 1541.24 L1256.86 1541.24 L1256.86 1547.12 L1251.98 1547.12 L1251.98 1541.24 Z\" fill=\"#000000\" fill-rule=\"evenodd\" fill-opacity=\"1\" /><path clip-path=\"url(#clip180)\" d=\"M1277.05 1515.64 Q1273.44 1515.64 1271.61 1519.2 Q1269.8 1522.75 1269.8 1529.87 Q1269.8 1536.98 1271.61 1540.55 Q1273.44 1544.09 1277.05 1544.09 Q1280.68 1544.09 1282.49 1540.55 Q1284.32 1536.98 1284.32 1529.87 Q1284.32 1522.75 1282.49 1519.2 Q1280.68 1515.64 1277.05 1515.64 M1277.05 1511.93 Q1282.86 1511.93 1285.92 1516.54 Q1288.99 1521.12 1288.99 1529.87 Q1288.99 1538.6 1285.92 1543.21 Q1282.86 1547.79 1277.05 1547.79 Q1271.24 1547.79 1268.16 1543.21 Q1265.11 1538.6 1265.11 1529.87 Q1265.11 1521.12 1268.16 1516.54 Q1271.24 1511.93 1277.05 1511.93 Z\" fill=\"#000000\" fill-rule=\"evenodd\" fill-opacity=\"1\" /><path clip-path=\"url(#clip180)\" d=\"M1750.39 1515.64 Q1746.78 1515.64 1744.95 1519.2 Q1743.15 1522.75 1743.15 1529.87 Q1743.15 1536.98 1744.95 1540.55 Q1746.78 1544.09 1750.39 1544.09 Q1754.03 1544.09 1755.83 1540.55 Q1757.66 1536.98 1757.66 1529.87 Q1757.66 1522.75 1755.83 1519.2 Q1754.03 1515.64 1750.39 1515.64 M1750.39 1511.93 Q1756.2 1511.93 1759.26 1516.54 Q1762.34 1521.12 1762.34 1529.87 Q1762.34 1538.6 1759.26 1543.21 Q1756.2 1547.79 1750.39 1547.79 Q1744.58 1547.79 1741.5 1543.21 Q1738.45 1538.6 1738.45 1529.87 Q1738.45 1521.12 1741.5 1516.54 Q1744.58 1511.93 1750.39 1511.93 Z\" fill=\"#000000\" fill-rule=\"evenodd\" fill-opacity=\"1\" /><path clip-path=\"url(#clip180)\" d=\"M1770.55 1541.24 L1775.44 1541.24 L1775.44 1547.12 L1770.55 1547.12 L1770.55 1541.24 Z\" fill=\"#000000\" fill-rule=\"evenodd\" fill-opacity=\"1\" /><path clip-path=\"url(#clip180)\" d=\"M1785.67 1512.56 L1804.03 1512.56 L1804.03 1516.5 L1789.95 1516.5 L1789.95 1524.97 Q1790.97 1524.62 1791.99 1524.46 Q1793.01 1524.27 1794.03 1524.27 Q1799.81 1524.27 1803.19 1527.44 Q1806.57 1530.62 1806.57 1536.03 Q1806.57 1541.61 1803.1 1544.71 Q1799.63 1547.79 1793.31 1547.79 Q1791.13 1547.79 1788.86 1547.42 Q1786.62 1547.05 1784.21 1546.31 L1784.21 1541.61 Q1786.3 1542.74 1788.52 1543.3 Q1790.74 1543.86 1793.22 1543.86 Q1797.22 1543.86 1799.56 1541.75 Q1801.9 1539.64 1801.9 1536.03 Q1801.9 1532.42 1799.56 1530.31 Q1797.22 1528.21 1793.22 1528.21 Q1791.34 1528.21 1789.47 1528.62 Q1787.61 1529.04 1785.67 1529.92 L1785.67 1512.56 Z\" fill=\"#000000\" fill-rule=\"evenodd\" fill-opacity=\"1\" /><path clip-path=\"url(#clip180)\" d=\"M2257.74 1543.18 L2265.38 1543.18 L2265.38 1516.82 L2257.07 1518.49 L2257.07 1514.23 L2265.33 1512.56 L2270.01 1512.56 L2270.01 1543.18 L2277.65 1543.18 L2277.65 1547.12 L2257.74 1547.12 L2257.74 1543.18 Z\" fill=\"#000000\" fill-rule=\"evenodd\" fill-opacity=\"1\" /><path clip-path=\"url(#clip180)\" d=\"M2287.09 1541.24 L2291.98 1541.24 L2291.98 1547.12 L2287.09 1547.12 L2287.09 1541.24 Z\" fill=\"#000000\" fill-rule=\"evenodd\" fill-opacity=\"1\" /><path clip-path=\"url(#clip180)\" d=\"M2312.16 1515.64 Q2308.55 1515.64 2306.72 1519.2 Q2304.92 1522.75 2304.92 1529.87 Q2304.92 1536.98 2306.72 1540.55 Q2308.55 1544.09 2312.16 1544.09 Q2315.79 1544.09 2317.6 1540.55 Q2319.43 1536.98 2319.43 1529.87 Q2319.43 1522.75 2317.6 1519.2 Q2315.79 1515.64 2312.16 1515.64 M2312.16 1511.93 Q2317.97 1511.93 2321.03 1516.54 Q2324.11 1521.12 2324.11 1529.87 Q2324.11 1538.6 2321.03 1543.21 Q2317.97 1547.79 2312.16 1547.79 Q2306.35 1547.79 2303.27 1543.21 Q2300.22 1538.6 2300.22 1529.87 Q2300.22 1521.12 2303.27 1516.54 Q2306.35 1511.93 2312.16 1511.93 Z\" fill=\"#000000\" fill-rule=\"evenodd\" fill-opacity=\"1\" /><polyline clip-path=\"url(#clip182)\" style=\"stroke:#000000; stroke-linecap:butt; stroke-linejoin:round; stroke-width:2; stroke-opacity:0.1; fill:none\" points=\"\n",
       "  156.112,1445.72 2352.76,1445.72 \n",
       "  \"/>\n",
       "<polyline clip-path=\"url(#clip182)\" style=\"stroke:#000000; stroke-linecap:butt; stroke-linejoin:round; stroke-width:2; stroke-opacity:0.1; fill:none\" points=\"\n",
       "  156.112,991.868 2352.76,991.868 \n",
       "  \"/>\n",
       "<polyline clip-path=\"url(#clip182)\" style=\"stroke:#000000; stroke-linecap:butt; stroke-linejoin:round; stroke-width:2; stroke-opacity:0.1; fill:none\" points=\"\n",
       "  156.112,538.021 2352.76,538.021 \n",
       "  \"/>\n",
       "<polyline clip-path=\"url(#clip182)\" style=\"stroke:#000000; stroke-linecap:butt; stroke-linejoin:round; stroke-width:2; stroke-opacity:0.1; fill:none\" points=\"\n",
       "  156.112,84.1736 2352.76,84.1736 \n",
       "  \"/>\n",
       "<polyline clip-path=\"url(#clip180)\" style=\"stroke:#000000; stroke-linecap:butt; stroke-linejoin:round; stroke-width:4; stroke-opacity:1; fill:none\" points=\"\n",
       "  156.112,1486.45 156.112,47.2441 \n",
       "  \"/>\n",
       "<polyline clip-path=\"url(#clip180)\" style=\"stroke:#000000; stroke-linecap:butt; stroke-linejoin:round; stroke-width:4; stroke-opacity:1; fill:none\" points=\"\n",
       "  156.112,1445.72 175.01,1445.72 \n",
       "  \"/>\n",
       "<polyline clip-path=\"url(#clip180)\" style=\"stroke:#000000; stroke-linecap:butt; stroke-linejoin:round; stroke-width:4; stroke-opacity:1; fill:none\" points=\"\n",
       "  156.112,991.868 175.01,991.868 \n",
       "  \"/>\n",
       "<polyline clip-path=\"url(#clip180)\" style=\"stroke:#000000; stroke-linecap:butt; stroke-linejoin:round; stroke-width:4; stroke-opacity:1; fill:none\" points=\"\n",
       "  156.112,538.021 175.01,538.021 \n",
       "  \"/>\n",
       "<polyline clip-path=\"url(#clip180)\" style=\"stroke:#000000; stroke-linecap:butt; stroke-linejoin:round; stroke-width:4; stroke-opacity:1; fill:none\" points=\"\n",
       "  156.112,84.1736 175.01,84.1736 \n",
       "  \"/>\n",
       "<path clip-path=\"url(#clip180)\" d=\"M62.9365 1431.51 Q59.3254 1431.51 57.4967 1435.08 Q55.6912 1438.62 55.6912 1445.75 Q55.6912 1452.86 57.4967 1456.42 Q59.3254 1459.96 62.9365 1459.96 Q66.5707 1459.96 68.3763 1456.42 Q70.205 1452.86 70.205 1445.75 Q70.205 1438.62 68.3763 1435.08 Q66.5707 1431.51 62.9365 1431.51 M62.9365 1427.81 Q68.7467 1427.81 71.8022 1432.42 Q74.8809 1437 74.8809 1445.75 Q74.8809 1454.48 71.8022 1459.08 Q68.7467 1463.67 62.9365 1463.67 Q57.1264 1463.67 54.0477 1459.08 Q50.9921 1454.48 50.9921 1445.75 Q50.9921 1437 54.0477 1432.42 Q57.1264 1427.81 62.9365 1427.81 Z\" fill=\"#000000\" fill-rule=\"evenodd\" fill-opacity=\"1\" /><path clip-path=\"url(#clip180)\" d=\"M83.0984 1457.12 L87.9827 1457.12 L87.9827 1463 L83.0984 1463 L83.0984 1457.12 Z\" fill=\"#000000\" fill-rule=\"evenodd\" fill-opacity=\"1\" /><path clip-path=\"url(#clip180)\" d=\"M108.168 1431.51 Q104.557 1431.51 102.728 1435.08 Q100.922 1438.62 100.922 1445.75 Q100.922 1452.86 102.728 1456.42 Q104.557 1459.96 108.168 1459.96 Q111.802 1459.96 113.608 1456.42 Q115.436 1452.86 115.436 1445.75 Q115.436 1438.62 113.608 1435.08 Q111.802 1431.51 108.168 1431.51 M108.168 1427.81 Q113.978 1427.81 117.033 1432.42 Q120.112 1437 120.112 1445.75 Q120.112 1454.48 117.033 1459.08 Q113.978 1463.67 108.168 1463.67 Q102.358 1463.67 99.2789 1459.08 Q96.2234 1454.48 96.2234 1445.75 Q96.2234 1437 99.2789 1432.42 Q102.358 1427.81 108.168 1427.81 Z\" fill=\"#000000\" fill-rule=\"evenodd\" fill-opacity=\"1\" /><path clip-path=\"url(#clip180)\" d=\"M63.9319 977.667 Q60.3208 977.667 58.4921 981.232 Q56.6865 984.773 56.6865 991.903 Q56.6865 999.009 58.4921 1002.57 Q60.3208 1006.12 63.9319 1006.12 Q67.5661 1006.12 69.3717 1002.57 Q71.2004 999.009 71.2004 991.903 Q71.2004 984.773 69.3717 981.232 Q67.5661 977.667 63.9319 977.667 M63.9319 973.963 Q69.742 973.963 72.7976 978.57 Q75.8763 983.153 75.8763 991.903 Q75.8763 1000.63 72.7976 1005.24 Q69.742 1009.82 63.9319 1009.82 Q58.1217 1009.82 55.043 1005.24 Q51.9875 1000.63 51.9875 991.903 Q51.9875 983.153 55.043 978.57 Q58.1217 973.963 63.9319 973.963 Z\" fill=\"#000000\" fill-rule=\"evenodd\" fill-opacity=\"1\" /><path clip-path=\"url(#clip180)\" d=\"M84.0938 1003.27 L88.978 1003.27 L88.978 1009.15 L84.0938 1009.15 L84.0938 1003.27 Z\" fill=\"#000000\" fill-rule=\"evenodd\" fill-opacity=\"1\" /><path clip-path=\"url(#clip180)\" d=\"M99.2095 974.588 L117.566 974.588 L117.566 978.523 L103.492 978.523 L103.492 986.996 Q104.51 986.648 105.529 986.486 Q106.547 986.301 107.566 986.301 Q113.353 986.301 116.733 989.473 Q120.112 992.644 120.112 998.06 Q120.112 1003.64 116.64 1006.74 Q113.168 1009.82 106.848 1009.82 Q104.672 1009.82 102.404 1009.45 Q100.159 1009.08 97.7511 1008.34 L97.7511 1003.64 Q99.8345 1004.77 102.057 1005.33 Q104.279 1005.88 106.756 1005.88 Q110.76 1005.88 113.098 1003.78 Q115.436 1001.67 115.436 998.06 Q115.436 994.449 113.098 992.343 Q110.76 990.236 106.756 990.236 Q104.881 990.236 103.006 990.653 Q101.154 991.07 99.2095 991.949 L99.2095 974.588 Z\" fill=\"#000000\" fill-rule=\"evenodd\" fill-opacity=\"1\" /><path clip-path=\"url(#clip180)\" d=\"M53.7467 551.366 L61.3856 551.366 L61.3856 525 L53.0754 526.667 L53.0754 522.408 L61.3393 520.741 L66.0152 520.741 L66.0152 551.366 L73.654 551.366 L73.654 555.301 L53.7467 555.301 L53.7467 551.366 Z\" fill=\"#000000\" fill-rule=\"evenodd\" fill-opacity=\"1\" /><path clip-path=\"url(#clip180)\" d=\"M83.0984 549.421 L87.9827 549.421 L87.9827 555.301 L83.0984 555.301 L83.0984 549.421 Z\" fill=\"#000000\" fill-rule=\"evenodd\" fill-opacity=\"1\" /><path clip-path=\"url(#clip180)\" d=\"M108.168 523.82 Q104.557 523.82 102.728 527.384 Q100.922 530.926 100.922 538.056 Q100.922 545.162 102.728 548.727 Q104.557 552.269 108.168 552.269 Q111.802 552.269 113.608 548.727 Q115.436 545.162 115.436 538.056 Q115.436 530.926 113.608 527.384 Q111.802 523.82 108.168 523.82 M108.168 520.116 Q113.978 520.116 117.033 524.722 Q120.112 529.306 120.112 538.056 Q120.112 546.782 117.033 551.389 Q113.978 555.972 108.168 555.972 Q102.358 555.972 99.2789 551.389 Q96.2234 546.782 96.2234 538.056 Q96.2234 529.306 99.2789 524.722 Q102.358 520.116 108.168 520.116 Z\" fill=\"#000000\" fill-rule=\"evenodd\" fill-opacity=\"1\" /><path clip-path=\"url(#clip180)\" d=\"M54.7421 97.5184 L62.381 97.5184 L62.381 71.1528 L54.0708 72.8195 L54.0708 68.5603 L62.3347 66.8936 L67.0106 66.8936 L67.0106 97.5184 L74.6494 97.5184 L74.6494 101.454 L54.7421 101.454 L54.7421 97.5184 Z\" fill=\"#000000\" fill-rule=\"evenodd\" fill-opacity=\"1\" /><path clip-path=\"url(#clip180)\" d=\"M84.0938 95.574 L88.978 95.574 L88.978 101.454 L84.0938 101.454 L84.0938 95.574 Z\" fill=\"#000000\" fill-rule=\"evenodd\" fill-opacity=\"1\" /><path clip-path=\"url(#clip180)\" d=\"M99.2095 66.8936 L117.566 66.8936 L117.566 70.8288 L103.492 70.8288 L103.492 79.301 Q104.51 78.9537 105.529 78.7917 Q106.547 78.6065 107.566 78.6065 Q113.353 78.6065 116.733 81.7778 Q120.112 84.9491 120.112 90.3657 Q120.112 95.9444 116.64 99.0462 Q113.168 102.125 106.848 102.125 Q104.672 102.125 102.404 101.755 Q100.159 101.384 97.7511 100.643 L97.7511 95.9444 Q99.8345 97.0786 102.057 97.6342 Q104.279 98.1897 106.756 98.1897 Q110.76 98.1897 113.098 96.0833 Q115.436 93.9768 115.436 90.3657 Q115.436 86.7546 113.098 84.6481 Q110.76 82.5417 106.756 82.5417 Q104.881 82.5417 103.006 82.9583 Q101.154 83.375 99.2095 84.2546 L99.2095 66.8936 Z\" fill=\"#000000\" fill-rule=\"evenodd\" fill-opacity=\"1\" /><polyline clip-path=\"url(#clip182)\" style=\"stroke:#009af9; stroke-linecap:butt; stroke-linejoin:round; stroke-width:4; stroke-opacity:1; fill:none\" points=\"\n",
       "  218.281,1445.72 327.35,1270.39 436.419,1101.17 545.487,939.302 654.556,786.216 763.625,643.53 872.694,513.014 981.762,396.549 1090.83,296.059 1199.9,213.414 \n",
       "  1308.97,150.316 1418.04,108.171 1527.11,87.9763 1636.17,90.2243 1745.24,114.86 1854.31,161.284 1963.38,228.41 2072.45,314.762 2181.52,418.596 2290.59,538.021 \n",
       "  \n",
       "  \"/>\n",
       "<circle clip-path=\"url(#clip182)\" cx=\"218.281\" cy=\"1445.72\" r=\"14\" fill=\"#009af9\" fill-rule=\"evenodd\" fill-opacity=\"1\" stroke=\"#000000\" stroke-opacity=\"1\" stroke-width=\"3.2\"/>\n",
       "<circle clip-path=\"url(#clip182)\" cx=\"327.35\" cy=\"1270.39\" r=\"14\" fill=\"#009af9\" fill-rule=\"evenodd\" fill-opacity=\"1\" stroke=\"#000000\" stroke-opacity=\"1\" stroke-width=\"3.2\"/>\n",
       "<circle clip-path=\"url(#clip182)\" cx=\"436.419\" cy=\"1101.17\" r=\"14\" fill=\"#009af9\" fill-rule=\"evenodd\" fill-opacity=\"1\" stroke=\"#000000\" stroke-opacity=\"1\" stroke-width=\"3.2\"/>\n",
       "<circle clip-path=\"url(#clip182)\" cx=\"545.487\" cy=\"939.302\" r=\"14\" fill=\"#009af9\" fill-rule=\"evenodd\" fill-opacity=\"1\" stroke=\"#000000\" stroke-opacity=\"1\" stroke-width=\"3.2\"/>\n",
       "<circle clip-path=\"url(#clip182)\" cx=\"654.556\" cy=\"786.216\" r=\"14\" fill=\"#009af9\" fill-rule=\"evenodd\" fill-opacity=\"1\" stroke=\"#000000\" stroke-opacity=\"1\" stroke-width=\"3.2\"/>\n",
       "<circle clip-path=\"url(#clip182)\" cx=\"763.625\" cy=\"643.53\" r=\"14\" fill=\"#009af9\" fill-rule=\"evenodd\" fill-opacity=\"1\" stroke=\"#000000\" stroke-opacity=\"1\" stroke-width=\"3.2\"/>\n",
       "<circle clip-path=\"url(#clip182)\" cx=\"872.694\" cy=\"513.014\" r=\"14\" fill=\"#009af9\" fill-rule=\"evenodd\" fill-opacity=\"1\" stroke=\"#000000\" stroke-opacity=\"1\" stroke-width=\"3.2\"/>\n",
       "<circle clip-path=\"url(#clip182)\" cx=\"981.762\" cy=\"396.549\" r=\"14\" fill=\"#009af9\" fill-rule=\"evenodd\" fill-opacity=\"1\" stroke=\"#000000\" stroke-opacity=\"1\" stroke-width=\"3.2\"/>\n",
       "<circle clip-path=\"url(#clip182)\" cx=\"1090.83\" cy=\"296.059\" r=\"14\" fill=\"#009af9\" fill-rule=\"evenodd\" fill-opacity=\"1\" stroke=\"#000000\" stroke-opacity=\"1\" stroke-width=\"3.2\"/>\n",
       "<circle clip-path=\"url(#clip182)\" cx=\"1199.9\" cy=\"213.414\" r=\"14\" fill=\"#009af9\" fill-rule=\"evenodd\" fill-opacity=\"1\" stroke=\"#000000\" stroke-opacity=\"1\" stroke-width=\"3.2\"/>\n",
       "<circle clip-path=\"url(#clip182)\" cx=\"1308.97\" cy=\"150.316\" r=\"14\" fill=\"#009af9\" fill-rule=\"evenodd\" fill-opacity=\"1\" stroke=\"#000000\" stroke-opacity=\"1\" stroke-width=\"3.2\"/>\n",
       "<circle clip-path=\"url(#clip182)\" cx=\"1418.04\" cy=\"108.171\" r=\"14\" fill=\"#009af9\" fill-rule=\"evenodd\" fill-opacity=\"1\" stroke=\"#000000\" stroke-opacity=\"1\" stroke-width=\"3.2\"/>\n",
       "<circle clip-path=\"url(#clip182)\" cx=\"1527.11\" cy=\"87.9763\" r=\"14\" fill=\"#009af9\" fill-rule=\"evenodd\" fill-opacity=\"1\" stroke=\"#000000\" stroke-opacity=\"1\" stroke-width=\"3.2\"/>\n",
       "<circle clip-path=\"url(#clip182)\" cx=\"1636.17\" cy=\"90.2243\" r=\"14\" fill=\"#009af9\" fill-rule=\"evenodd\" fill-opacity=\"1\" stroke=\"#000000\" stroke-opacity=\"1\" stroke-width=\"3.2\"/>\n",
       "<circle clip-path=\"url(#clip182)\" cx=\"1745.24\" cy=\"114.86\" r=\"14\" fill=\"#009af9\" fill-rule=\"evenodd\" fill-opacity=\"1\" stroke=\"#000000\" stroke-opacity=\"1\" stroke-width=\"3.2\"/>\n",
       "<circle clip-path=\"url(#clip182)\" cx=\"1854.31\" cy=\"161.284\" r=\"14\" fill=\"#009af9\" fill-rule=\"evenodd\" fill-opacity=\"1\" stroke=\"#000000\" stroke-opacity=\"1\" stroke-width=\"3.2\"/>\n",
       "<circle clip-path=\"url(#clip182)\" cx=\"1963.38\" cy=\"228.41\" r=\"14\" fill=\"#009af9\" fill-rule=\"evenodd\" fill-opacity=\"1\" stroke=\"#000000\" stroke-opacity=\"1\" stroke-width=\"3.2\"/>\n",
       "<circle clip-path=\"url(#clip182)\" cx=\"2072.45\" cy=\"314.762\" r=\"14\" fill=\"#009af9\" fill-rule=\"evenodd\" fill-opacity=\"1\" stroke=\"#000000\" stroke-opacity=\"1\" stroke-width=\"3.2\"/>\n",
       "<circle clip-path=\"url(#clip182)\" cx=\"2181.52\" cy=\"418.596\" r=\"14\" fill=\"#009af9\" fill-rule=\"evenodd\" fill-opacity=\"1\" stroke=\"#000000\" stroke-opacity=\"1\" stroke-width=\"3.2\"/>\n",
       "<circle clip-path=\"url(#clip182)\" cx=\"2290.59\" cy=\"538.021\" r=\"14\" fill=\"#009af9\" fill-rule=\"evenodd\" fill-opacity=\"1\" stroke=\"#000000\" stroke-opacity=\"1\" stroke-width=\"3.2\"/>\n",
       "<path clip-path=\"url(#clip180)\" d=\"\n",
       "M1983.03 198.898 L2279.53 198.898 L2279.53 95.2176 L1983.03 95.2176  Z\n",
       "  \" fill=\"#ffffff\" fill-rule=\"evenodd\" fill-opacity=\"1\"/>\n",
       "<polyline clip-path=\"url(#clip180)\" style=\"stroke:#000000; stroke-linecap:butt; stroke-linejoin:round; stroke-width:4; stroke-opacity:1; fill:none\" points=\"\n",
       "  1983.03,198.898 2279.53,198.898 2279.53,95.2176 1983.03,95.2176 1983.03,198.898 \n",
       "  \"/>\n",
       "<polyline clip-path=\"url(#clip180)\" style=\"stroke:#009af9; stroke-linecap:butt; stroke-linejoin:round; stroke-width:4; stroke-opacity:1; fill:none\" points=\"\n",
       "  2007.44,147.058 2153.88,147.058 \n",
       "  \"/>\n",
       "<circle clip-path=\"url(#clip180)\" cx=\"2080.66\" cy=\"147.058\" r=\"23\" fill=\"#009af9\" fill-rule=\"evenodd\" fill-opacity=\"1\" stroke=\"#000000\" stroke-opacity=\"1\" stroke-width=\"5.12\"/>\n",
       "<path clip-path=\"url(#clip180)\" d=\"M2192.13 166.745 Q2190.33 171.375 2188.61 172.787 Q2186.9 174.199 2184.03 174.199 L2180.63 174.199 L2180.63 170.634 L2183.13 170.634 Q2184.89 170.634 2185.86 169.8 Q2186.83 168.967 2188.01 165.865 L2188.78 163.921 L2178.29 138.412 L2182.8 138.412 L2190.91 158.689 L2199.01 138.412 L2203.52 138.412 L2192.13 166.745 Z\" fill=\"#000000\" fill-rule=\"evenodd\" fill-opacity=\"1\" /><path clip-path=\"url(#clip180)\" d=\"M2210.81 160.402 L2218.45 160.402 L2218.45 134.037 L2210.14 135.703 L2210.14 131.444 L2218.41 129.778 L2223.08 129.778 L2223.08 160.402 L2230.72 160.402 L2230.72 164.338 L2210.81 164.338 L2210.81 160.402 Z\" fill=\"#000000\" fill-rule=\"evenodd\" fill-opacity=\"1\" /></svg>\n"
      ]
     },
     "execution_count": 88,
     "metadata": {},
     "output_type": "execute_result"
    }
   ],
   "source": [
    "plot(x, uhist[end], marker=:auto)"
   ]
  },
  {
   "cell_type": "code",
   "execution_count": null,
   "id": "ee8ed372",
   "metadata": {},
   "outputs": [],
   "source": []
  }
 ],
 "metadata": {
  "celltoolbar": "Slideshow",
  "kernelspec": {
   "display_name": "Julia 1.6.2",
   "language": "julia",
   "name": "julia-1.6"
  },
  "language_info": {
   "file_extension": ".jl",
   "mimetype": "application/julia",
   "name": "julia",
   "version": "1.6.2"
  },
  "rise": {
   "enable_chalkboard": true
  }
 },
 "nbformat": 4,
 "nbformat_minor": 5
}
